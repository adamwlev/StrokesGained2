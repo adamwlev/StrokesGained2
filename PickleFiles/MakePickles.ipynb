{
 "cells": [
  {
   "cell_type": "code",
   "execution_count": 2,
   "metadata": {
    "collapsed": false
   },
   "outputs": [],
   "source": [
    "import pandas as pd\n",
    "import numpy as np\n",
    "import pickle\n",
    "import warnings"
   ]
  },
  {
   "cell_type": "markdown",
   "metadata": {},
   "source": [
    "PLAYER-INDICE PICKLES"
   ]
  },
  {
   "cell_type": "code",
   "execution_count": 4,
   "metadata": {
    "collapsed": false
   },
   "outputs": [],
   "source": [
    "cols = [' Player #',' Permanent Tournament #',' Year']\n",
    "with warnings.catch_warnings():\n",
    "    warnings.simplefilter(\"ignore\")\n",
    "    data = pd.concat([pd.read_csv('./../data/rawdata/%d.txt' % (year,),sep=';')[cols].drop_duplicates() \n",
    "                      for year in range(2003,2017)])"
   ]
  },
  {
   "cell_type": "code",
   "execution_count": 3,
   "metadata": {
    "collapsed": false
   },
   "outputs": [],
   "source": [
    "datar = pd.read_csv('./../data/round.csv')\n",
    "datar = datar[['Tournament_Year','Permanent_Tournament_#','Player_Number']]"
   ]
  },
  {
   "cell_type": "code",
   "execution_count": 4,
   "metadata": {
    "collapsed": true
   },
   "outputs": [
    {
     "ename": "NameError",
     "evalue": "name 'data' is not defined",
     "output_type": "error",
     "traceback": [
      "\u001b[1;31m---------------------------------------------------------------------------\u001b[0m",
      "\u001b[1;31mNameError\u001b[0m                                 Traceback (most recent call last)",
      "\u001b[1;32m<ipython-input-4-85da98022a6c>\u001b[0m in \u001b[0;36m<module>\u001b[1;34m()\u001b[0m\n\u001b[1;32m----> 1\u001b[1;33m \u001b[0mplayers_shot\u001b[0m \u001b[1;33m=\u001b[0m \u001b[0mpd\u001b[0m\u001b[1;33m.\u001b[0m\u001b[0munique\u001b[0m\u001b[1;33m(\u001b[0m\u001b[0mdata\u001b[0m\u001b[1;33m[\u001b[0m\u001b[1;34m' Player #'\u001b[0m\u001b[1;33m]\u001b[0m\u001b[1;33m)\u001b[0m\u001b[1;33m\u001b[0m\u001b[0m\n\u001b[0m",
      "\u001b[1;31mNameError\u001b[0m: name 'data' is not defined"
     ]
    }
   ],
   "source": [
    "players_shot = pd.unique(data[' Player #'])"
   ]
  },
  {
   "cell_type": "code",
   "execution_count": 5,
   "metadata": {
    "collapsed": true
   },
   "outputs": [],
   "source": [
    "players_round = pd.unique(datar.Player_Number)"
   ]
  },
  {
   "cell_type": "code",
   "execution_count": 25,
   "metadata": {
    "collapsed": false
   },
   "outputs": [
    {
     "data": {
      "text/plain": [
       "(2054, 2600)"
      ]
     },
     "execution_count": 25,
     "metadata": {},
     "output_type": "execute_result"
    }
   ],
   "source": [
    "len(players_shot),len(players_round)"
   ]
  },
  {
   "cell_type": "code",
   "execution_count": 29,
   "metadata": {
    "collapsed": true
   },
   "outputs": [],
   "source": [
    "num_to_ind_shot = {num:ind for ind,num in enumerate(players_shot)}\n",
    "ind_to_num_shot = {value:key for key,value in num_to_ind_shot.iteritems()}"
   ]
  },
  {
   "cell_type": "code",
   "execution_count": 6,
   "metadata": {
    "collapsed": false
   },
   "outputs": [],
   "source": [
    "num_to_ind_round = {num:ind for ind,num in enumerate(players_round)}\n",
    "ind_to_num_round = {value:key for key,value in num_to_ind_round.iteritems()}"
   ]
  },
  {
   "cell_type": "code",
   "execution_count": 7,
   "metadata": {
    "collapsed": false
   },
   "outputs": [],
   "source": [
    "# with open('./../PickleFiles/num_to_ind_shot.pkl','w') as pickleFile:\n",
    "#     pickle.dump(num_to_ind_shot,pickleFile)\n",
    "    \n",
    "# with open('./../PickleFiles/ind_to_num_shot.pkl','w') as pickleFile:\n",
    "#     pickle.dump(ind_to_num_shot,pickleFile)\n",
    "    \n",
    "with open('./../PickleFiles/num_to_ind_round.pkl','w') as pickleFile:\n",
    "    pickle.dump(num_to_ind_round,pickleFile)\n",
    "    \n",
    "with open('./../PickleFiles/ind_to_num_round.pkl','w') as pickleFile:\n",
    "    pickle.dump(ind_to_num_round,pickleFile)"
   ]
  },
  {
   "cell_type": "markdown",
   "metadata": {},
   "source": [
    "TOURNAMENT ORDER PICKLE"
   ]
  },
  {
   "cell_type": "code",
   "execution_count": 8,
   "metadata": {
    "collapsed": false
   },
   "outputs": [],
   "source": [
    "cols = [' Year',' Permanent Tournament #']\n",
    "data = pd.concat([pd.read_csv('./../data/rawdata/%d.txt' % (year,),sep=';')[cols].drop_duplicates() \n",
    "                  for year in range(2003,2017)])"
   ]
  },
  {
   "cell_type": "code",
   "execution_count": 9,
   "metadata": {
    "collapsed": false
   },
   "outputs": [
    {
     "data": {
      "text/plain": [
       "561"
      ]
     },
     "execution_count": 9,
     "metadata": {},
     "output_type": "execute_result"
    }
   ],
   "source": [
    "len(data)"
   ]
  },
  {
   "cell_type": "code",
   "execution_count": 11,
   "metadata": {
    "collapsed": false
   },
   "outputs": [],
   "source": [
    "tourn_order = [tuple(tup) for tup in data.values.tolist()]"
   ]
  },
  {
   "cell_type": "code",
   "execution_count": 13,
   "metadata": {
    "collapsed": false
   },
   "outputs": [],
   "source": [
    "with open('./../PickleFiles/tourn_order.pkl','w') as pickleFile:\n",
    "    pickle.dump(tourn_order,pickleFile)"
   ]
  },
  {
   "cell_type": "markdown",
   "metadata": {},
   "source": [
    "COURSE ORDER PICKLE"
   ]
  },
  {
   "cell_type": "code",
   "execution_count": 22,
   "metadata": {
    "collapsed": true
   },
   "outputs": [],
   "source": [
    "cols = [' Course #']\n",
    "data = pd.concat([pd.read_csv('./../data/rawdata/%d.txt' % (year,),sep=';')[cols].drop_duplicates() \n",
    "                  for year in range(2003,2017)])"
   ]
  },
  {
   "cell_type": "code",
   "execution_count": 29,
   "metadata": {
    "collapsed": false
   },
   "outputs": [],
   "source": [
    "course_order = data[' Course #'].drop_duplicates().tolist()"
   ]
  },
  {
   "cell_type": "code",
   "execution_count": 30,
   "metadata": {
    "collapsed": false
   },
   "outputs": [
    {
     "data": {
      "text/plain": [
       "107"
      ]
     },
     "execution_count": 30,
     "metadata": {},
     "output_type": "execute_result"
    }
   ],
   "source": [
    "len(course_order)"
   ]
  },
  {
   "cell_type": "code",
   "execution_count": 31,
   "metadata": {
    "collapsed": false
   },
   "outputs": [],
   "source": [
    "with open('./../PickleFiles/course_order.pkl','w') as pickleFile:\n",
    "    pickle.dump(course_order,pickleFile)"
   ]
  },
  {
   "cell_type": "markdown",
   "metadata": {},
   "source": [
    "COURSE PROFILES PICKLE"
   ]
  },
  {
   "cell_type": "code",
   "execution_count": null,
   "metadata": {
    "collapsed": true
   },
   "outputs": [],
   "source": [
    "import course_profiles\n",
    "\n",
    "tr = course_profiles.return_matrix()\n",
    "\n",
    "with open('./../PickleFiles/course_profiles.pkl','w') as pickleFile:\n",
    "    pickle.dump(tr,pickleFile)"
   ]
  },
  {
   "cell_type": "code",
   "execution_count": 32,
   "metadata": {
    "collapsed": false
   },
   "outputs": [
    {
     "name": "stdout",
     "output_type": "stream",
     "text": [
      "Index([u'Tour Code', u' Tour Description', u' Year', u' Tourn.#', u' Player #',\n",
      "       u' Course #', u' Permanent Tournament #', u' Player First Name',\n",
      "       u' Player Last Name', u' Round', u' Tournament Name', u'Course Name',\n",
      "       u' Hole', u' Hole Score', u' Par Value', u' Yardage', u'  Shot',\n",
      "       u' Shot Type(S/P/D)', u'# of Strokes', u' From Location(Scorer)',\n",
      "       u' From Location(Enhanced)', u' To Location(Laser)',\n",
      "       u' To Location(Enhanced)', u' Distance', u' Distance to Pin',\n",
      "       u' In the Hole Flag', u' Around the Green Flag', u'1st Putt Flag',\n",
      "       u' Distance to Hole after the Shot', u' Time', u' Lie', u' Elevation',\n",
      "       u' Slope', u' X Coordinate', u' Y Coordinate', u'  Z Coordinate',\n",
      "       u' Distance from Center', u' Distance from Edge', u' Date'],\n",
      "      dtype='object')\n"
     ]
    }
   ],
   "source": [
    "data = pd.read_csv('./../data/rawdata/%d.txt' % (2003,),sep=';')\n",
    "print data.columns"
   ]
  },
  {
   "cell_type": "markdown",
   "metadata": {},
   "source": [
    "COURSE NAME PICKLE"
   ]
  },
  {
   "cell_type": "code",
   "execution_count": 33,
   "metadata": {
    "collapsed": true
   },
   "outputs": [],
   "source": [
    "cols = [' Course #','Course Name']\n",
    "data = pd.concat([pd.read_csv('./../data/rawdata/%d.txt' % (year,),sep=';')[cols].drop_duplicates() \n",
    "                  for year in range(2003,2017)])"
   ]
  },
  {
   "cell_type": "code",
   "execution_count": 38,
   "metadata": {
    "collapsed": false
   },
   "outputs": [],
   "source": [
    "course_names = {row['Course #']:row['Course Name'] for ind,row in data.iterrows()}"
   ]
  },
  {
   "cell_type": "code",
   "execution_count": 40,
   "metadata": {
    "collapsed": true
   },
   "outputs": [],
   "source": [
    "with open('course_names.pkl','w') as pickleFile:\n",
    "    pickle.dump(course_names,pickleFile)"
   ]
  },
  {
   "cell_type": "markdown",
   "metadata": {},
   "source": [
    "TOURNAMENT NAME PICKLE"
   ]
  },
  {
   "cell_type": "code",
   "execution_count": 41,
   "metadata": {
    "collapsed": true
   },
   "outputs": [],
   "source": [
    "cols = [' Permanent Tournament #',' Tournament Name']\n",
    "data = pd.concat([pd.read_csv('./../data/rawdata/%d.txt' % (year,),sep=';')[cols].drop_duplicates() \n",
    "                  for year in range(2003,2017)])"
   ]
  },
  {
   "cell_type": "code",
   "execution_count": 42,
   "metadata": {
    "collapsed": false
   },
   "outputs": [
    {
     "data": {
      "text/html": [
       "<div>\n",
       "<table border=\"1\" class=\"dataframe\">\n",
       "  <thead>\n",
       "    <tr style=\"text-align: right;\">\n",
       "      <th></th>\n",
       "      <th>Permanent Tournament #</th>\n",
       "      <th>Tournament Name</th>\n",
       "    </tr>\n",
       "  </thead>\n",
       "  <tbody>\n",
       "    <tr>\n",
       "      <th>0</th>\n",
       "      <td>16</td>\n",
       "      <td>Mercedes Championships</td>\n",
       "    </tr>\n",
       "    <tr>\n",
       "      <th>10026</th>\n",
       "      <td>6</td>\n",
       "      <td>Sony Open in Hawaii</td>\n",
       "    </tr>\n",
       "  </tbody>\n",
       "</table>\n",
       "</div>"
      ],
      "text/plain": [
       "        Permanent Tournament #         Tournament Name\n",
       "0                           16  Mercedes Championships\n",
       "10026                        6     Sony Open in Hawaii"
      ]
     },
     "execution_count": 42,
     "metadata": {},
     "output_type": "execute_result"
    }
   ],
   "source": [
    "tournament_names = {row[' Permanent Tournament #']:row[' Tournament Name'] for ind,row in data.iterrows()}"
   ]
  },
  {
   "cell_type": "code",
   "execution_count": 45,
   "metadata": {
    "collapsed": true
   },
   "outputs": [],
   "source": [
    "with open('tournament_names.pkl','w') as pickleFile:\n",
    "    pickle.dump(tournament_names,pickleFile)"
   ]
  },
  {
   "cell_type": "markdown",
   "metadata": {},
   "source": [
    "PLAYER NAME PICKLES"
   ]
  },
  {
   "cell_type": "code",
   "execution_count": 46,
   "metadata": {
    "collapsed": true
   },
   "outputs": [],
   "source": [
    "cols = [' Player #',' Player First Name',' Player Last Name']\n",
    "with warnings.catch_warnings():\n",
    "    warnings.simplefilter(\"ignore\")\n",
    "    data = pd.concat([pd.read_csv('./../data/rawdata/%d.txt' % (year,),sep=';')[cols].drop_duplicates() \n",
    "                      for year in range(2003,2017)]).drop_duplicates()"
   ]
  },
  {
   "cell_type": "code",
   "execution_count": 50,
   "metadata": {
    "collapsed": true
   },
   "outputs": [],
   "source": [
    "datar = pd.read_csv('./../data/round.csv')\n",
    "datar = datar[['Player_Number','Player_Name']].drop_duplicates()"
   ]
  },
  {
   "cell_type": "code",
   "execution_count": 52,
   "metadata": {
    "collapsed": true
   },
   "outputs": [],
   "source": [
    "player_names = {row[' Player #']:', '.join([row[' Player Last Name'],row[' Player First Name']]) \n",
    "                for ind,row in data.iterrows()}"
   ]
  },
  {
   "cell_type": "code",
   "execution_count": 58,
   "metadata": {
    "collapsed": false
   },
   "outputs": [],
   "source": [
    "assert len(player_names)==len(data)"
   ]
  },
  {
   "cell_type": "code",
   "execution_count": 59,
   "metadata": {
    "collapsed": true
   },
   "outputs": [],
   "source": [
    "player_names.update({row['Player_Number']:row['Player_Name'] for ind,row in datar.iterrows()})"
   ]
  },
  {
   "cell_type": "code",
   "execution_count": 62,
   "metadata": {
    "collapsed": true
   },
   "outputs": [],
   "source": [
    "with open('player_names.pkl','w') as pickleFile:\n",
    "    pickle.dump(player_names,pickleFile)"
   ]
  }
 ],
 "metadata": {
  "kernelspec": {
   "display_name": "Python 2",
   "language": "python",
   "name": "python2"
  },
  "language_info": {
   "codemirror_mode": {
    "name": "ipython",
    "version": 2
   },
   "file_extension": ".py",
   "mimetype": "text/x-python",
   "name": "python",
   "nbconvert_exporter": "python",
   "pygments_lexer": "ipython2",
   "version": "2.7.12"
  }
 },
 "nbformat": 4,
 "nbformat_minor": 0
}
