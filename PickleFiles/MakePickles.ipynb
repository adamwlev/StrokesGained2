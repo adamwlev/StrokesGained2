{
 "cells": [
  {
   "cell_type": "code",
   "execution_count": 3,
   "metadata": {
    "collapsed": false
   },
   "outputs": [],
   "source": [
    "import pandas as pd\n",
    "import numpy as np\n",
    "import pickle\n",
    "import warnings"
   ]
  },
  {
   "cell_type": "code",
   "execution_count": 4,
   "metadata": {
    "collapsed": false
   },
   "outputs": [],
   "source": [
    "cols = [' Player #',' Permanent Tournament #',' Year']\n",
    "with warnings.catch_warnings():\n",
    "    warnings.simplefilter(\"ignore\")\n",
    "    data = pd.concat([pd.read_csv('./../data/rawdata/%d.txt' % (year,),sep=';')[cols].drop_duplicates() \n",
    "                      for year in range(2003,2017)])"
   ]
  },
  {
   "cell_type": "code",
   "execution_count": 8,
   "metadata": {
    "collapsed": true
   },
   "outputs": [],
   "source": [
    "datar = pd.read_csv('./../data/round.csv')\n",
    "datar = datar[['Tournament_Year','Permanent_Tournament_#','Player_Number']]"
   ]
  },
  {
   "cell_type": "code",
   "execution_count": 9,
   "metadata": {
    "collapsed": false
   },
   "outputs": [
    {
     "data": {
      "text/html": [
       "<div>\n",
       "<table border=\"1\" class=\"dataframe\">\n",
       "  <thead>\n",
       "    <tr style=\"text-align: right;\">\n",
       "      <th></th>\n",
       "      <th>Tournament_Year</th>\n",
       "      <th>Permanent_Tournament_#</th>\n",
       "      <th>Player_Number</th>\n",
       "    </tr>\n",
       "  </thead>\n",
       "  <tbody>\n",
       "    <tr>\n",
       "      <th>0</th>\n",
       "      <td>2003</td>\n",
       "      <td>16</td>\n",
       "      <td>1320</td>\n",
       "    </tr>\n",
       "    <tr>\n",
       "      <th>1</th>\n",
       "      <td>2003</td>\n",
       "      <td>16</td>\n",
       "      <td>1361</td>\n",
       "    </tr>\n",
       "    <tr>\n",
       "      <th>2</th>\n",
       "      <td>2003</td>\n",
       "      <td>16</td>\n",
       "      <td>1761</td>\n",
       "    </tr>\n",
       "  </tbody>\n",
       "</table>\n",
       "</div>"
      ],
      "text/plain": [
       "   Tournament_Year  Permanent_Tournament_#  Player_Number\n",
       "0             2003                      16           1320\n",
       "1             2003                      16           1361\n",
       "2             2003                      16           1761"
      ]
     },
     "execution_count": 9,
     "metadata": {},
     "output_type": "execute_result"
    }
   ],
   "source": [
    "datar.head(3)"
   ]
  },
  {
   "cell_type": "code",
   "execution_count": 10,
   "metadata": {
    "collapsed": false
   },
   "outputs": [
    {
     "data": {
      "text/html": [
       "<div>\n",
       "<table border=\"1\" class=\"dataframe\">\n",
       "  <thead>\n",
       "    <tr style=\"text-align: right;\">\n",
       "      <th></th>\n",
       "      <th>Player #</th>\n",
       "      <th>Permanent Tournament #</th>\n",
       "      <th>Year</th>\n",
       "    </tr>\n",
       "  </thead>\n",
       "  <tbody>\n",
       "    <tr>\n",
       "      <th>0</th>\n",
       "      <td>1320</td>\n",
       "      <td>16</td>\n",
       "      <td>2003</td>\n",
       "    </tr>\n",
       "    <tr>\n",
       "      <th>66</th>\n",
       "      <td>1361</td>\n",
       "      <td>16</td>\n",
       "      <td>2003</td>\n",
       "    </tr>\n",
       "    <tr>\n",
       "      <th>135</th>\n",
       "      <td>1761</td>\n",
       "      <td>16</td>\n",
       "      <td>2003</td>\n",
       "    </tr>\n",
       "  </tbody>\n",
       "</table>\n",
       "</div>"
      ],
      "text/plain": [
       "      Player #   Permanent Tournament #   Year\n",
       "0         1320                       16   2003\n",
       "66        1361                       16   2003\n",
       "135       1761                       16   2003"
      ]
     },
     "execution_count": 10,
     "metadata": {},
     "output_type": "execute_result"
    }
   ],
   "source": [
    "data.head(3)"
   ]
  },
  {
   "cell_type": "code",
   "execution_count": 21,
   "metadata": {
    "collapsed": false
   },
   "outputs": [],
   "source": [
    "players_shot = pd.unique(data[' Player #'])"
   ]
  },
  {
   "cell_type": "code",
   "execution_count": 24,
   "metadata": {
    "collapsed": true
   },
   "outputs": [],
   "source": [
    "players_round = pd.unique(datar.Player_Number)"
   ]
  },
  {
   "cell_type": "code",
   "execution_count": 25,
   "metadata": {
    "collapsed": false
   },
   "outputs": [
    {
     "data": {
      "text/plain": [
       "(2054, 2600)"
      ]
     },
     "execution_count": 25,
     "metadata": {},
     "output_type": "execute_result"
    }
   ],
   "source": [
    "len(players_shot),len(players_round)"
   ]
  },
  {
   "cell_type": "code",
   "execution_count": 29,
   "metadata": {
    "collapsed": true
   },
   "outputs": [],
   "source": [
    "num_to_ind_shot = {num:ind for ind,num in enumerate(players_shot)}\n",
    "ind_to_num_shot = {value:key for key,value in num_to_ind_shot.iteritems()}"
   ]
  },
  {
   "cell_type": "code",
   "execution_count": 30,
   "metadata": {
    "collapsed": false
   },
   "outputs": [],
   "source": [
    "num_to_ind_round = {num:ind for ind,num in enumerate(players_round)}\n",
    "ind_to_num_round = {value:key for key,value in num_to_ind_round.iteritems()}"
   ]
  },
  {
   "cell_type": "code",
   "execution_count": 31,
   "metadata": {
    "collapsed": false
   },
   "outputs": [],
   "source": [
    "with open('./../PickleFiles/num_to_ind_shot.pkl','w') as pickleFile:\n",
    "    pickle.dump(num_to_ind_shot,pickleFile)\n",
    "    \n",
    "with open('./../PickleFiles/ind_to_num_shot.pkl','w') as pickleFile:\n",
    "    pickle.dump(ind_to_num_shot,pickleFile)\n",
    "    \n",
    "with open('./../PickleFiles/num_to_ind_round.pkl','w') as pickleFile:\n",
    "    pickle.dump(num_to_ind_round,pickleFile)\n",
    "    \n",
    "with open('./../PickleFiles/ind_to_num_round.pkl','w') as pickleFile:\n",
    "    pickle.dump(ind_to_num_round,pickleFile)"
   ]
  },
  {
   "cell_type": "code",
   "execution_count": 8,
   "metadata": {
    "collapsed": false
   },
   "outputs": [],
   "source": [
    "cols = [' Year',' Permanent Tournament #']\n",
    "data = pd.concat([pd.read_csv('./../data/rawdata/%d.txt' % (year,),sep=';')[cols].drop_duplicates() \n",
    "                  for year in range(2003,2017)])"
   ]
  },
  {
   "cell_type": "code",
   "execution_count": 9,
   "metadata": {
    "collapsed": false
   },
   "outputs": [
    {
     "data": {
      "text/plain": [
       "561"
      ]
     },
     "execution_count": 9,
     "metadata": {},
     "output_type": "execute_result"
    }
   ],
   "source": [
    "len(data)"
   ]
  },
  {
   "cell_type": "code",
   "execution_count": 11,
   "metadata": {
    "collapsed": false
   },
   "outputs": [],
   "source": [
    "tourn_order = [tuple(tup) for tup in data.values.tolist()]"
   ]
  },
  {
   "cell_type": "code",
   "execution_count": 13,
   "metadata": {
    "collapsed": false
   },
   "outputs": [],
   "source": [
    "with open('./../PickleFiles/tourn_order.pkl','w') as pickleFile:\n",
    "    pickle.dump(tourn_order,pickleFile)"
   ]
  },
  {
   "cell_type": "code",
   "execution_count": 22,
   "metadata": {
    "collapsed": true
   },
   "outputs": [],
   "source": [
    "cols = [' Course #']\n",
    "data = pd.concat([pd.read_csv('./../data/rawdata/%d.txt' % (year,),sep=';')[cols].drop_duplicates() \n",
    "                  for year in range(2003,2017)])"
   ]
  },
  {
   "cell_type": "code",
   "execution_count": 29,
   "metadata": {
    "collapsed": false
   },
   "outputs": [],
   "source": [
    "course_order = data[' Course #'].drop_duplicates().tolist()"
   ]
  },
  {
   "cell_type": "code",
   "execution_count": 30,
   "metadata": {
    "collapsed": false
   },
   "outputs": [
    {
     "data": {
      "text/plain": [
       "107"
      ]
     },
     "execution_count": 30,
     "metadata": {},
     "output_type": "execute_result"
    }
   ],
   "source": [
    "len(course_order)"
   ]
  },
  {
   "cell_type": "code",
   "execution_count": 31,
   "metadata": {
    "collapsed": false
   },
   "outputs": [],
   "source": [
    "with open('./../PickleFiles/course_order.pkl','w') as pickleFile:\n",
    "    pickle.dump(course_order,pickleFile)"
   ]
  },
  {
   "cell_type": "code",
   "execution_count": null,
   "metadata": {
    "collapsed": true
   },
   "outputs": [],
   "source": [
    "import course_profiles\n",
    "\n",
    "tr = course_profiles.return_matrix()\n",
    "\n",
    "with open('./../PickleFiles/course_profiles.pkl','w') as pickleFile:\n",
    "    pickle.dump(tr,pickleFile)"
   ]
  }
 ],
 "metadata": {
  "kernelspec": {
   "display_name": "Python 2",
   "language": "python",
   "name": "python2"
  },
  "language_info": {
   "codemirror_mode": {
    "name": "ipython",
    "version": 2
   },
   "file_extension": ".py",
   "mimetype": "text/x-python",
   "name": "python",
   "nbconvert_exporter": "python",
   "pygments_lexer": "ipython2",
   "version": "2.7.11"
  }
 },
 "nbformat": 4,
 "nbformat_minor": 0
}
