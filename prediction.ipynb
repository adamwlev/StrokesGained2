{
 "cells": [
  {
   "cell_type": "code",
   "execution_count": 30,
   "metadata": {
    "collapsed": true
   },
   "outputs": [],
   "source": [
    "import pandas as pd\n",
    "import numpy as np\n",
    "import itertools\n",
    "from sklearn.isotonic import IsotonicRegression\n",
    "import statsmodels.api as sm"
   ]
  },
  {
   "cell_type": "code",
   "execution_count": 2,
   "metadata": {
    "collapsed": false
   },
   "outputs": [
    {
     "name": "stderr",
     "output_type": "stream",
     "text": [
      "/Users/adamlevin/anaconda/lib/python2.7/site-packages/IPython/core/interactiveshell.py:2723: DtypeWarning: Columns (18,24) have mixed types. Specify dtype option on import or set low_memory=False.\n",
      "  interactivity=interactivity, compiler=compiler, result=result)\n"
     ]
    }
   ],
   "source": [
    "strokes_gained_putts = {'Uphill':[],'Downhill':[]}\n",
    "for year in range(2003,2010):\n",
    "    data = pd.read_csv('data/%d.csv'%(year,))\n",
    "    uCRHtps = list(itertools.product(pd.unique(data['Course_#']),pd.unique(data.Round),pd.unique(data.Hole)))\n",
    "    data = data[['Course_#','Round','Hole','Player_#','Hole_Score','Shot','From_Location(Scorer)','To_Location(Laser)','Shots_taken_from_location',\n",
    "            'Distance_from_hole','Started_at_X','Started_at_Y','Went_to_X','Went_to_Y','Started_at_Z','Went_to_Z']].values\n",
    "\n",
    "    for crhtup in uCRHtps:\n",
    "        subset = data[np.where((data[:,0]==crhtup[0]) & (data[:,1]==crhtup[1]) & (data[:,2]==crhtup[2]))]\n",
    "        if subset.shape[0]<50:\n",
    "            continue\n",
    "        players = pd.unique(subset[:,3])\n",
    "        scores = {player:int(subset[np.where(subset[:,3]==player)][0,4]) for player in players}\n",
    "        ave_score = np.mean(np.array([scores.get(player) for player in players]))\n",
    "\n",
    "        for player in players:\n",
    "            sub = subset[np.where(subset[:,3]!=player)]\n",
    "            model = IsotonicRegression(out_of_bounds='clip')\n",
    "            model.fit(sub[np.where(sub[:,6]=='Green')][:,9],sub[np.where(sub[:,6]=='Green')][:,8])\n",
    "\n",
    "            #tot_strokes_gained = ave_score - scores[player]\n",
    "\n",
    "            #model_predicted_strokes_gained = 0\n",
    "\n",
    "            sub = subset[np.where(subset[:,3]==player)]\n",
    "\n",
    "            for shot in range(min(sub[:,5]),sub[0,4]+1):\n",
    "                if shot==sub[0,4]:\n",
    "                    if sub[np.where(sub[:,5]==shot)][0,6] != 'Green':\n",
    "                        continue\n",
    "                    if sub[np.where(sub[:,5]==shot)][0,15] - sub[np.where(sub[:,5]==shot)][0,14] > 0:\n",
    "                        strokes_gained_putts['Uphill'].append((sub[np.where(sub[:,5]==shot)][0,9],\n",
    "                                                               model.predict([sub[np.where(sub[:,5]==shot)][0,9]])[0] - 1))\n",
    "                    else:\n",
    "                        strokes_gained_putts['Downhill'].append((sub[np.where(sub[:,5]==shot)][0,9],\n",
    "                                                                 model.predict([sub[np.where(sub[:,5]==shot)][0,9]])[0] - 1))\n",
    "                else:\n",
    "                    if sub[np.where(sub[:,5]==shot)][0,6] != 'Green':\n",
    "                        continue\n",
    "                    if sub[np.where(sub[:,5]==shot)][0,14] - sub[np.where(sub[:,5]==shot)][0,13] > 0:\n",
    "                        strokes_gained_putts['Uphill'].append((sub[np.where(sub[:,5]==shot)][0,9],\n",
    "                                                               model.predict([sub[np.where(sub[:,5]==shot)][0,9]])[0] -\n",
    "                                                               model.predict([sub[np.where(sub[:,5]==shot+1)][0,9]])[0] - 1))\n",
    "                    else:\n",
    "                        strokes_gained_putts['Downhill'].append((sub[np.where(sub[:,5]==shot)][0,9],\n",
    "                                                                 model.predict([sub[np.where(sub[:,5]==shot)][0,9]])[0] - \n",
    "                                                                 model.predict([sub[np.where(sub[:,5]==shot+1)][0,9]])[0] - 1))\n"
   ]
  },
  {
   "cell_type": "code",
   "execution_count": 103,
   "metadata": {
    "collapsed": false
   },
   "outputs": [],
   "source": [
    "data = pd.read_csv('data/2008.csv')"
   ]
  },
  {
   "cell_type": "code",
   "execution_count": 104,
   "metadata": {
    "collapsed": false
   },
   "outputs": [],
   "source": [
    "uCRHtps = list(itertools.product(pd.unique(data['Course_#']),pd.unique(data.Round),pd.unique(data.Hole)))\n",
    "\n",
    "data = data[['Course_#','Round','Hole','Player_#','Hole_Score','Shot','From_Location(Scorer)','To_Location(Laser)','Shots_taken_from_location',\n",
    "            'Distance_from_hole','Started_at_X','Started_at_Y','Went_to_X','Went_to_Y','Started_at_Z','Went_to_Z']].values"
   ]
  },
  {
   "cell_type": "code",
   "execution_count": 105,
   "metadata": {
    "collapsed": true
   },
   "outputs": [],
   "source": [
    "# def convert_cats(cat):\n",
    "#     if cat in ['Green Side Bunker','Fairway Bunker']:\n",
    "#         return 'Bunker'\n",
    "#     elif cat not in ['Green','Fairway','Fringe','Primary Rough','Intermediate Rough','Tee Box']:\n",
    "#         return 'Other'\n",
    "#     else:\n",
    "#         return cat\n",
    "\n",
    "# if 'Cat' in data.columns:\n",
    "#     data = data.drop('Cat',axis=1)\n",
    "# data.insert(len(data.columns),'Cat',[convert_cats(c) for c in data['From_Location(Scorer)'].tolist()])"
   ]
  },
  {
   "cell_type": "code",
   "execution_count": 66,
   "metadata": {
    "collapsed": false
   },
   "outputs": [
    {
     "name": "stdout",
     "output_type": "stream",
     "text": [
      "Uphill count                                                216444\n",
      "unique                                               216434\n",
      "top       (2.39198802781, 0.00699999999995, -1.110223024...\n",
      "freq                                                      3\n",
      "dtype: object\n",
      "Downhill count                                      185389\n",
      "unique                                     185380\n",
      "top       (14.1458661558, -0.116, 0.777777777778)\n",
      "freq                                            2\n",
      "dtype: object\n"
     ]
    }
   ],
   "source": [
    "#errors = []\n",
    "#strokes_gained_per_cat = {'Bunker':[],'Other':[],'Green':[],'Fairway':[],'Fringe':[],'Primary Rough':[],\n",
    "#                             'Intermediate Rough':[], 'Tee Box':[]}\n",
    "strokes_gained_putts = {'Uphill':[],'Downhill':[]}\n",
    "\n",
    "for crhtup in uCRHtps:\n",
    "    subset = data[np.where((data[:,0]==crhtup[0]) & (data[:,1]==crhtup[1]) & (data[:,2]==crhtup[2]))]\n",
    "    if subset.shape[0]<50:\n",
    "        continue\n",
    "    players = pd.unique(subset[:,3])\n",
    "    scores = {player:int(subset[np.where(subset[:,3]==player)][0,4]) for player in players}\n",
    "    ave_score = np.mean(np.array([scores.get(player) for player in players]))\n",
    "\n",
    "    for player in players:\n",
    "        sub = subset[np.where(subset[:,3]!=player)]\n",
    "        model = IsotonicRegression(out_of_bounds='clip')\n",
    "        model.fit(sub[np.where(sub[:,6]=='Green')][:,9],sub[np.where(sub[:,6]=='Green')][:,8])\n",
    "\n",
    "        #tot_strokes_gained = ave_score - scores[player]\n",
    "\n",
    "        #model_predicted_strokes_gained = 0\n",
    "\n",
    "        sub = subset[np.where(subset[:,3]==player)]\n",
    "\n",
    "        for shot in range(min(sub[:,5]),sub[0,4]+1):\n",
    "            if shot==sub[0,4]:\n",
    "                if sub[np.where(sub[:,5]==shot)][0,6] != 'Green':\n",
    "                    continue\n",
    "                if sub[np.where(sub[:,5]==shot)][0,15] - sub[np.where(sub[:,5]==shot)][0,14] > 0:\n",
    "                    strokes_gained_putts['Uphill'].append((sub[np.where(sub[:,5]==shot)][0,9],\n",
    "                                                           sub[np.where(sub[:,5]==shot)][0,15] - sub[np.where(sub[:,5]==shot)][0,14],\n",
    "                                                           model.predict([sub[np.where(sub[:,5]==shot)][0,9]])[0] - 1))\n",
    "                else:\n",
    "                    strokes_gained_putts['Downhill'].append((sub[np.where(sub[:,5]==shot)][0,9],\n",
    "                                                             sub[np.where(sub[:,5]==shot)][0,15] - sub[np.where(sub[:,5]==shot)][0,14],\n",
    "                                                             model.predict([sub[np.where(sub[:,5]==shot)][0,9]])[0] - 1))\n",
    "            else:\n",
    "                if sub[np.where(sub[:,5]==shot)][0,6] != 'Green':\n",
    "                    continue\n",
    "                if sub[np.where(sub[:,5]==shot)][0,15] - sub[np.where(sub[:,5]==shot)][0,14] > 0:\n",
    "                    strokes_gained_putts['Uphill'].append((sub[np.where(sub[:,5]==shot)][0,9],\n",
    "                                                           sub[np.where(sub[:,5]==shot)][0,15] - sub[np.where(sub[:,5]==shot)][0,14],\n",
    "                                                           model.predict([sub[np.where(sub[:,5]==shot)][0,9]])[0] -\n",
    "                                                           model.predict([sub[np.where(sub[:,5]==shot+1)][0,9]])[0] - 1))\n",
    "                else:\n",
    "                    strokes_gained_putts['Downhill'].append((sub[np.where(sub[:,5]==shot)][0,9],\n",
    "                                                             sub[np.where(sub[:,5]==shot)][0,15] - sub[np.where(sub[:,5]==shot)][0,14],\n",
    "                                                             model.predict([sub[np.where(sub[:,5]==shot)][0,9]])[0] - \n",
    "                                                             model.predict([sub[np.where(sub[:,5]==shot+1)][0,9]])[0] - 1))\n",
    "                        \n",
    "    #errors.append((model_predicted_strokes_gained - tot_strokes_gained))\n",
    "\n",
    "\n",
    "#print pd.Series(errors).describe()\n",
    "# for cat in strokes_gained_per_cat:\n",
    "#     print cat, pd.Series(strokes_gained_per_cat[cat]).describe()\n",
    "for slope in strokes_gained_putts:\n",
    "    print slope, pd.Series(strokes_gained_putts[slope]).describe()"
   ]
  },
  {
   "cell_type": "code",
   "execution_count": 105,
   "metadata": {
    "collapsed": false
   },
   "outputs": [],
   "source": [
    "strokes_gained_putts['Uphill'].sort()\n",
    "strokes_gained_putts['Downhill'].sort()\n",
    "x1 = np.array([i[1] for i in strokes_gained_putts['Uphill'] if i[0]<14 and i[0]>4])\n",
    "y1 = np.array([i[2] for i in strokes_gained_putts['Uphill'] if i[0]<14 and i[0]>4])\n",
    "x2 = np.array([i[1] for i in strokes_gained_putts['Downhill'] if i[0]<14 and i[0]>4])\n",
    "y2 = np.array([i[2] for i in strokes_gained_putts['Downhill'] if i[0]<14 and i[0]>4])\n",
    "\n",
    "bins = np.linspace(np.percentile(x1,1), np.percentile(x1,99), 15)\n",
    "b1 = np.digitize(x1, bins)\n",
    "x1ms = [x1[b1 == i].mean() for i in range(1, len(bins))]\n",
    "y1ms = [y1[b1 == i].mean() for i in range(1, len(bins))]\n",
    "bins = np.linspace(np.percentile(x2,1), np.percentile(x2,99), 15)\n",
    "b2 = np.digitize(x2, bins)\n",
    "x2ms = [x2[b2 == i].mean() for i in range(1, len(bins))]\n",
    "y2ms = [y2[b2 == i].mean() for i in range(1, len(bins))]"
   ]
  },
  {
   "cell_type": "code",
   "execution_count": 106,
   "metadata": {
    "collapsed": false
   },
   "outputs": [
    {
     "data": {
      "text/plain": [
       "count    59473.000000\n",
       "mean         0.116831\n",
       "std          0.092089\n",
       "min          0.001000\n",
       "25%          0.048000\n",
       "50%          0.096000\n",
       "75%          0.163000\n",
       "max          1.899000\n",
       "dtype: float64"
      ]
     },
     "execution_count": 106,
     "metadata": {},
     "output_type": "execute_result"
    }
   ],
   "source": [
    "pd.Series(x1).describe()"
   ]
  },
  {
   "cell_type": "code",
   "execution_count": 107,
   "metadata": {
    "collapsed": false
   },
   "outputs": [
    {
     "name": "stdout",
     "output_type": "stream",
     "text": [
      "[304, 449, 591, 902, 1181, 1596, 2236, 3058, 3744, 5071, 6624, 7992, 9604, 9712]\n"
     ]
    }
   ],
   "source": [
    "print [len(x2[b2==i]) for i in range(1,len(bins))]"
   ]
  },
  {
   "cell_type": "code",
   "execution_count": 9,
   "metadata": {
    "collapsed": true
   },
   "outputs": [],
   "source": [
    "def confidence_interval_difference_of_two_means(sample_1,sample_2,its,p):\n",
    "    mean_diffs = []\n",
    "    for _ in xrange(its):\n",
    "        mean_1 = np.mean(np.random.choice(sample_1,len(sample_1)))\n",
    "        mean_2 = np.mean(np.random.choice(sample_2,len(sample_2)))\n",
    "        mean_diffs.append(mean_1 - mean_2)\n",
    "    return np.percentile(mean_diffs,[(100.0-p)/2,(p+100.0)/2])"
   ]
  },
  {
   "cell_type": "code",
   "execution_count": 10,
   "metadata": {
    "collapsed": true
   },
   "outputs": [],
   "source": [
    "def hypo_test_difference_of_two_means_one_sided(sample_b,sample_s,its):\n",
    "    test_stat = np.mean(sample_b) - np.mean(sample_s)\n",
    "    haps = 0\n",
    "    for _ in xrange(its):\n",
    "        pooled_sample = np.append(sample_b,sample_s)\n",
    "        np.random.shuffle(pooled_sample)\n",
    "        if np.mean(pooled_sample[:len(sample_b)]) - np.mean(pooled_sample[len(sample_b):]) >= test_stat:\n",
    "            haps += 1\n",
    "    return haps/float(its)"
   ]
  },
  {
   "cell_type": "code",
   "execution_count": 112,
   "metadata": {
    "collapsed": false
   },
   "outputs": [],
   "source": [
    "def confidence_interval_mean(sample,its,p):\n",
    "    means = []\n",
    "    for _ in xrange(its):\n",
    "        mean = np.mean(np.random.choice(sample,len(sample)))\n",
    "        means.append(mean)\n",
    "    return np.percentile(means,[(100.0-p)/2,(p+100.0)/2])"
   ]
  },
  {
   "cell_type": "code",
   "execution_count": 11,
   "metadata": {
    "collapsed": true
   },
   "outputs": [],
   "source": [
    "def cohens_d(sample_1,sample_2):\n",
    "    n1 = len(sample_1)\n",
    "    n2 = len(sample_2)\n",
    "    v1 = np.var(sample_1,ddof=1)\n",
    "    v2 = np.var(sample_2,ddof=1)\n",
    "    pooled_var = (((n1-1)*v1 + (n2-2)*v2) / (n1 + n2 -2)) ** .5\n",
    "    return (np.mean(sample_1) - np.mean(sample_2)) / pooled_var"
   ]
  },
  {
   "cell_type": "code",
   "execution_count": 12,
   "metadata": {
    "collapsed": false
   },
   "outputs": [
    {
     "name": "stdout",
     "output_type": "stream",
     "text": [
      "1.31647855324\n",
      "-0.00112564142566 -0.00154154610592 0.000415904680257\n",
      "0.00891210211676\n",
      "0.0 ***\n",
      "[ 0.00013677  0.00068498]\n",
      "3.05460752859\n",
      "-0.00406485086566 -0.0275324594206 0.0234676085549\n",
      "0.105444314392\n",
      "0.0 ***\n",
      "[ 0.02186903  0.02496396]\n",
      "5.24696929191\n",
      "0.0101850304803 -0.0586122525444 0.0687972830247\n",
      "0.151553123119\n",
      "0.0 ***\n",
      "[ 0.06433824  0.07320223]\n",
      "7.4480288498\n",
      "0.00988199145538 -0.034148425628 0.0440304170834\n",
      "0.0846088231218\n",
      "0.0 ***\n",
      "[ 0.03791903  0.05013827]\n",
      "9.6137234011\n",
      "0.00398179362613 -0.0140255666375 0.0180073602636\n",
      "0.0347687414537\n",
      "0.0 ***\n",
      "[ 0.01113967  0.0248569 ]\n",
      "11.752214021\n",
      "-0.00352372980507 -0.00197556016426 -0.0015481696408\n",
      "-0.00314083125364\n",
      "[-0.00843533  0.00542123]\n",
      "13.8987651038\n",
      "-0.00510520373491 0.0109428372357 -0.0160480409706\n",
      "-0.0344871996044\n",
      "0.0 ***\n",
      "[-0.0231755  -0.00855235]\n",
      "16.0458731923\n",
      "-0.00261380073818 0.0141055360745 -0.0167193368127\n",
      "-0.0383191465225\n",
      "0.0 ***\n",
      "[-0.02392142 -0.00972443]\n",
      "18.1896402497\n",
      "0.000111779809826 0.0137197509362 -0.0136079711264\n",
      "-0.0330777203398\n",
      "0.0 ***\n",
      "[-0.02114086 -0.00673603]\n",
      "20.3356656084\n",
      "0.00128165391119 0.0158420542911 -0.0145604003799\n",
      "-0.0376348613131\n",
      "0.0 ***\n",
      "[-0.0215076  -0.00724724]\n",
      "22.4782729187\n",
      "0.00510240521741 0.0154806575788 -0.0103782523614\n",
      "-0.0282537606759\n",
      "0.0 ***\n",
      "[-0.01767668 -0.00300506]\n",
      "24.6270228217\n",
      "0.00858737664416 0.0102132074118 -0.00162583076764\n",
      "-0.00464263423868\n",
      "[-0.0085304   0.00578271]\n",
      "26.7691292759\n",
      "0.00696674268299 0.00909196607302 -0.00212522339004\n",
      "-0.00635603585695\n",
      "[-0.00944323  0.00499514]\n",
      "28.905632866\n",
      "0.00853775208914 0.00861983731946 -8.20852303171e-05\n",
      "-0.000255153768204\n",
      "[-0.00734309  0.00737064]\n"
     ]
    },
    {
     "ename": "IndexError",
     "evalue": "list index out of range",
     "output_type": "error",
     "traceback": [
      "\u001b[0;31m---------------------------------------------------------------------------\u001b[0m",
      "\u001b[0;31mIndexError\u001b[0m                                Traceback (most recent call last)",
      "\u001b[0;32m<ipython-input-12-fac37140eb99>\u001b[0m in \u001b[0;36m<module>\u001b[0;34m()\u001b[0m\n\u001b[1;32m      1\u001b[0m \u001b[0;32mfor\u001b[0m \u001b[0mi\u001b[0m \u001b[0;32min\u001b[0m \u001b[0mrange\u001b[0m\u001b[0;34m(\u001b[0m\u001b[0mlen\u001b[0m\u001b[0;34m(\u001b[0m\u001b[0mbins\u001b[0m\u001b[0;34m)\u001b[0m\u001b[0;34m)\u001b[0m\u001b[0;34m:\u001b[0m\u001b[0;34m\u001b[0m\u001b[0m\n\u001b[0;32m----> 2\u001b[0;31m     \u001b[0;32mprint\u001b[0m \u001b[0mx1ms\u001b[0m\u001b[0;34m[\u001b[0m\u001b[0mi\u001b[0m\u001b[0;34m]\u001b[0m\u001b[0;34m\u001b[0m\u001b[0m\n\u001b[0m\u001b[1;32m      3\u001b[0m     \u001b[0;32mprint\u001b[0m \u001b[0my1ms\u001b[0m\u001b[0;34m[\u001b[0m\u001b[0mi\u001b[0m\u001b[0;34m]\u001b[0m\u001b[0;34m,\u001b[0m \u001b[0my2ms\u001b[0m\u001b[0;34m[\u001b[0m\u001b[0mi\u001b[0m\u001b[0;34m]\u001b[0m\u001b[0;34m,\u001b[0m \u001b[0my1ms\u001b[0m\u001b[0;34m[\u001b[0m\u001b[0mi\u001b[0m\u001b[0;34m]\u001b[0m \u001b[0;34m-\u001b[0m \u001b[0my2ms\u001b[0m\u001b[0;34m[\u001b[0m\u001b[0mi\u001b[0m\u001b[0;34m]\u001b[0m\u001b[0;34m\u001b[0m\u001b[0m\n\u001b[1;32m      4\u001b[0m     \u001b[0;32mprint\u001b[0m \u001b[0mcohens_d\u001b[0m\u001b[0;34m(\u001b[0m\u001b[0my1\u001b[0m\u001b[0;34m[\u001b[0m\u001b[0mb1\u001b[0m \u001b[0;34m==\u001b[0m \u001b[0mi\u001b[0m\u001b[0;34m+\u001b[0m\u001b[0;36m1\u001b[0m\u001b[0;34m]\u001b[0m\u001b[0;34m,\u001b[0m\u001b[0my2\u001b[0m\u001b[0;34m[\u001b[0m\u001b[0mb2\u001b[0m \u001b[0;34m==\u001b[0m \u001b[0mi\u001b[0m\u001b[0;34m+\u001b[0m\u001b[0;36m1\u001b[0m\u001b[0;34m]\u001b[0m\u001b[0;34m)\u001b[0m\u001b[0;34m\u001b[0m\u001b[0m\n\u001b[1;32m      5\u001b[0m     \u001b[0;32mif\u001b[0m \u001b[0my1ms\u001b[0m\u001b[0;34m[\u001b[0m\u001b[0mi\u001b[0m\u001b[0;34m]\u001b[0m\u001b[0;34m>\u001b[0m\u001b[0my2ms\u001b[0m\u001b[0;34m[\u001b[0m\u001b[0mi\u001b[0m\u001b[0;34m]\u001b[0m\u001b[0;34m:\u001b[0m\u001b[0;34m\u001b[0m\u001b[0m\n",
      "\u001b[0;31mIndexError\u001b[0m: list index out of range"
     ]
    }
   ],
   "source": [
    "for i in range(len(bins)):\n",
    "    print x1ms[i]\n",
    "    print y1ms[i], y2ms[i], y1ms[i] - y2ms[i]\n",
    "    print cohens_d(y1[b1 == i+1],y2[b2 == i+1])\n",
    "    if y1ms[i]>y2ms[i]:\n",
    "        p = hypo_test_difference_of_two_means_one_sided(y1[b1 == i+1],y2[b2 == i+1],5000)\n",
    "        if p < .01:\n",
    "            print p,'***'\n",
    "        elif p < .05:\n",
    "            print p,'**'\n",
    "        elif p < .1:\n",
    "            print p,'*'\n",
    "    else:\n",
    "        p = hypo_test_difference_of_two_means_one_sided(y2[b2 == i+1],y1[b1 == i+1],5000)\n",
    "        if p < .01:\n",
    "            print p,'***'\n",
    "        elif p < .05:\n",
    "            print p,'**'\n",
    "        elif p < .1:\n",
    "            print p,'*'\n",
    "    print confidence_interval_difference_of_two_means(y1[b1 == i+1],y2[b2 == i+1],5000,99)"
   ]
  },
  {
   "cell_type": "code",
   "execution_count": 100,
   "metadata": {
    "collapsed": true
   },
   "outputs": [],
   "source": [
    "import matplotlib.pyplot as plt\n",
    "import matplotlib.mlab as mlab\n",
    "%matplotlib inline"
   ]
  },
  {
   "cell_type": "code",
   "execution_count": 95,
   "metadata": {
    "collapsed": false,
    "scrolled": true
   },
   "outputs": [
    {
     "data": {
      "image/png": "[encoded data removed]",
      "text/plain": [
       "<matplotlib.figure.Figure at 0x116835e50>"
      ]
     },
     "metadata": {},
     "output_type": "display_data"
    }
   ],
   "source": [
    "fig,ax = plt.subplots(figsize=(20, 10))\n",
    "plt.plot((np.array(x1ms)+np.array(x2ms))/2,np.array(y1ms)-np.array(y2ms),label='Advantage of Uphill vs. Downhill')\n",
    "x = [0,0]\n",
    "for i in range(len(bins)-1):\n",
    "    ci = confidence_interval_difference_of_two_means(y1[b1 == i+1],y2[b2 == i+1],500,99)\n",
    "    plt.plot([(x1ms[i] + x2ms[i])/2, (x1ms[i] + x2ms[i])/2], [ci[0], ci[1]], 'k-', lw=2)\n",
    "    plt.plot([(x1ms[i] + x2ms[i])/2 - .5,(x1ms[i] + x2ms[i])/2 + .5],[ci[0],ci[0]],'k-', lw=2)\n",
    "    plt.plot([(x1ms[i] + x2ms[i])/2 - .5,(x1ms[i] + x2ms[i])/2 + .5],[ci[1],ci[1]],'k-', lw=2)\n",
    "    plt.plot([0,100],[0,0],'k--',lw=1)\n",
    "\n",
    "\n",
    "plt.legend()\n",
    "fig.savefig('Uphill vs Downhill.png')"
   ]
  },
  {
   "cell_type": "code",
   "execution_count": 114,
   "metadata": {
    "collapsed": false
   },
   "outputs": [
    {
     "data": {
      "text/plain": [
       "<matplotlib.legend.Legend at 0x12d701bd0>"
      ]
     },
     "execution_count": 114,
     "metadata": {},
     "output_type": "execute_result"
    },
    {
     "data": {
      "image/png": "[encoded data removed]",
      "text/plain": [
       "<matplotlib.figure.Figure at 0x11670fd90>"
      ]
     },
     "metadata": {},
     "output_type": "display_data"
    }
   ],
   "source": [
    "fig,ax = plt.subplots(figsize=(20, 10))\n",
    "plt.plot(x1ms,y1ms,label='Uphill')\n",
    "plt.plot(x2ms,y2ms,label='Downhill')\n",
    "plt.plot([-.5,.4],[0,0],'k--',lw=1)\n",
    "for i in range(len(bins)-1):\n",
    "    ci1 = confidence_interval_mean(y1[b1 == i+1],500,99)\n",
    "    ci2 = confidence_interval_mean(y2[b2 == i+1],500,99)\n",
    "    plt.plot([x1ms[i],x1ms[i]], [ci1[0], ci1[1]], 'k-', lw=2)\n",
    "    plt.plot([x2ms[i],x2ms[i]], [ci2[0], ci2[1]], 'k-', lw=2)\n",
    "    plt.plot([x1ms[i] - .01,x1ms[i] + .01],[ci1[0],ci1[0]],'k-', lw=2)\n",
    "    plt.plot([x1ms[i] - .01,x1ms[i] + .01],[ci1[1],ci1[1]],'k-', lw=2)\n",
    "    plt.plot([x2ms[i] - .01,x2ms[i] + .01],[ci2[0],ci2[0]],'k-', lw=2)\n",
    "    plt.plot([x2ms[i] - .01,x2ms[i] + .01],[ci2[1],ci2[1]],'k-', lw=2)\n",
    "plt.legend()"
   ]
  },
  {
   "cell_type": "code",
   "execution_count": 25,
   "metadata": {
    "collapsed": true
   },
   "outputs": [],
   "source": [
    "from scipy.stats import probplot\n",
    "import scipy.stats"
   ]
  },
  {
   "cell_type": "code",
   "execution_count": 20,
   "metadata": {
    "collapsed": false
   },
   "outputs": [
    {
     "data": {
      "text/plain": [
       "((array([-1.43017034, -1.36241765, -1.32553687, ...,  1.35592799,\n",
       "          1.39280877,  1.46056145]),\n",
       "  array([-1.625     , -1.61007463, -1.375     , ...,  1.70833333,\n",
       "          1.75      ,  1.97740113])),\n",
       " (0.94315565560002335, 0.00086378158004732711, 0.94310378716969379))"
      ]
     },
     "execution_count": 20,
     "metadata": {},
     "output_type": "execute_result"
    },
    {
     "data": {
      "image/png": "[encoded data removed]",
      "text/plain": [
       "<matplotlib.figure.Figure at 0x1315c5f10>"
      ]
     },
     "metadata": {},
     "output_type": "display_data"
    }
   ],
   "source": [
    "fig,ax = plt.subplots(figsize=(20, 10))\n",
    "probplot(strokes_gained_per_cat['Green'],(np.mean(strokes_gained_per_cat['Green']), np.std(strokes_gained_per_cat['Green'])),plot=plt)"
   ]
  },
  {
   "cell_type": "code",
   "execution_count": 26,
   "metadata": {
    "collapsed": true
   },
   "outputs": [],
   "source": [
    "rv = scipy.stats.laplace(loc=np.mean(strokes_gained_per_cat['Green']), scale=(np.var(strokes_gained_per_cat['Green'])/2)**.5)"
   ]
  },
  {
   "cell_type": "code",
   "execution_count": 39,
   "metadata": {
    "collapsed": false
   },
   "outputs": [
    {
     "data": {
      "image/png": "[encoded data removed]",
      "text/plain": [
       "<matplotlib.figure.Figure at 0x136eeca50>"
      ]
     },
     "metadata": {},
     "output_type": "display_data"
    }
   ],
   "source": [
    "fig,ax = plt.subplots(figsize=(20, 10))\n",
    "plt.hist(strokes_gained_per_cat['Primary Rough'],bins=200)\n",
    "x = np.linspace(min(strokes_gained_per_cat['Primary Rough']),max(strokes_gained_per_cat['Primary Rough']),len(strokes_gained_per_cat['Primary Rough']))\n",
    "#plt.plot(x,10000*rv.pdf(x))"
   ]
  },
  {
   "cell_type": "code",
   "execution_count": 42,
   "metadata": {
    "collapsed": true
   },
   "outputs": [],
   "source": [
    "def hypo_test_above_below_zero(sample,its):\n",
    "    above_0,below_0 = 0,0\n",
    "    for _ in xrange(its):\n",
    "        samp = np.random.choice(sample,len(sample))\n",
    "        if np.mean(samp)>0:\n",
    "            above_0 +=1\n",
    "        else:\n",
    "            below_0 +=1\n",
    "    return above_0/float(its) - below_0/float(its)"
   ]
  },
  {
   "cell_type": "code",
   "execution_count": 49,
   "metadata": {
    "collapsed": false
   },
   "outputs": [
    {
     "data": {
      "text/plain": [
       "-1.0"
      ]
     },
     "execution_count": 49,
     "metadata": {},
     "output_type": "execute_result"
    }
   ],
   "source": [
    "hypo_test_above_below_zero(strokes_gained_per_cat['Bunker'],10000)"
   ]
  },
  {
   "cell_type": "code",
   "execution_count": null,
   "metadata": {
    "collapsed": true
   },
   "outputs": [],
   "source": []
  },
  {
   "cell_type": "code",
   "execution_count": 68,
   "metadata": {
    "collapsed": false
   },
   "outputs": [
    {
     "data": {
      "text/plain": [
       "0.0"
      ]
     },
     "execution_count": 68,
     "metadata": {},
     "output_type": "execute_result"
    }
   ],
   "source": [
    "hypo_test_difference_of_two_means_one_sided(strokes_gained_putts['Uphill'],strokes_gained_putts['Downhill'],10000)"
   ]
  },
  {
   "cell_type": "markdown",
   "metadata": {},
   "source": [
    "## Make baseline models for each category"
   ]
  },
  {
   "cell_type": "code",
   "execution_count": 16,
   "metadata": {
    "collapsed": true
   },
   "outputs": [],
   "source": [
    "##load in some training data\n",
    "inds_chosen = {}\n",
    "for year in range(2003,2017):\n",
    "    data = pd.read_csv('data/%d.csv' % (year,));\n",
    "    data = data[data.Shot!=1]\n",
    "    if year==2003:\n",
    "        df = data.loc[0:2,:]\n",
    "    inds_chosen[year] = np.random.choice(range(len(data)),size=100000,replace=False)\n",
    "    df = df.append(data.iloc[inds_chosen[year]])\n",
    "del data"
   ]
  },
  {
   "cell_type": "code",
   "execution_count": 17,
   "metadata": {
    "collapsed": false
   },
   "outputs": [
    {
     "data": {
      "text/plain": [
       "(1400000, 41)"
      ]
     },
     "execution_count": 17,
     "metadata": {},
     "output_type": "execute_result"
    }
   ],
   "source": [
    "df.shape"
   ]
  },
  {
   "cell_type": "code",
   "execution_count": 290,
   "metadata": {
    "collapsed": true
   },
   "outputs": [],
   "source": [
    "def convert_cats(cat,dist):\n",
    "    if cat in ['Green Side Bunker','Fairway Bunker']:\n",
    "        return 'Bunker'\n",
    "    elif cat not in ['Green','Fairway','Fringe','Primary Rough','Intermediate Rough','Tee Box']:\n",
    "        return 'Other'\n",
    "    elif cat=='Fringe' and dist>120:\n",
    "        return 'Intermediate Rough'\n",
    "    elif cat=='Tee Box':\n",
    "        return 'Fairway'\n",
    "    else:\n",
    "        return cat"
   ]
  },
  {
   "cell_type": "code",
   "execution_count": 19,
   "metadata": {
    "collapsed": true
   },
   "outputs": [],
   "source": [
    "df.insert(len(df.columns),'Cat',[convert_cats(c,d) for c,d in zip(df['From_Location(Scorer)'],\n",
    "                                                                  df['Distance_from_hole'])])"
   ]
  },
  {
   "cell_type": "code",
   "execution_count": 20,
   "metadata": {
    "collapsed": false
   },
   "outputs": [
    {
     "data": {
      "text/plain": [
       "Green                 780190\n",
       "Fairway               318194\n",
       "Primary Rough         148440\n",
       "Bunker                 67815\n",
       "Intermediate Rough     43801\n",
       "Fringe                 32511\n",
       "Other                   9048\n",
       "Tee Box                    1\n",
       "Name: Cat, dtype: int64"
      ]
     },
     "execution_count": 20,
     "metadata": {},
     "output_type": "execute_result"
    }
   ],
   "source": [
    "df.Cat.value_counts()"
   ]
  },
  {
   "cell_type": "code",
   "execution_count": 21,
   "metadata": {
    "collapsed": false
   },
   "outputs": [],
   "source": [
    "##fit models\n",
    "overall_models = {}\n",
    "for cat in pd.unique(df.Cat):\n",
    "    overall_models[cat] = IsotonicRegression(out_of_bounds='clip')\n",
    "    overall_models[cat].fit(df[df.Cat==cat].Distance_from_hole,df[df.Cat==cat].Shots_taken_from_location)"
   ]
  },
  {
   "cell_type": "code",
   "execution_count": 24,
   "metadata": {
    "collapsed": false
   },
   "outputs": [],
   "source": [
    "##let's see performance. load in some testing data\n",
    "for year in range(2003,2017):\n",
    "    data = pd.read_csv('data/%d.csv' % (year,));\n",
    "    data = data[data.Shot!=1]\n",
    "    if year==2003:\n",
    "        df = data.loc[0:2,:]\n",
    "    inds_to_choose_from = list(set(range(len(data))) - set(inds_chosen[year]))\n",
    "    inds = np.random.choice(inds_to_choose_from,size=100000,replace=False)\n",
    "    df = df.append(data.iloc[inds])\n",
    "del data"
   ]
  },
  {
   "cell_type": "code",
   "execution_count": 25,
   "metadata": {
    "collapsed": true
   },
   "outputs": [],
   "source": [
    "df.insert(len(df.columns),'Cat',[convert_cats(c,d) for c,d in zip(df['From_Location(Scorer)'],\n",
    "                                                                  df['Distance_from_hole'])])"
   ]
  },
  {
   "cell_type": "code",
   "execution_count": 26,
   "metadata": {
    "collapsed": false
   },
   "outputs": [
    {
     "data": {
      "text/plain": [
       "Green                 779355\n",
       "Fairway               319520\n",
       "Primary Rough         148468\n",
       "Bunker                 67384\n",
       "Intermediate Rough     43678\n",
       "Fringe                 32457\n",
       "Other                   9138\n",
       "Name: Cat, dtype: int64"
      ]
     },
     "execution_count": 26,
     "metadata": {},
     "output_type": "execute_result"
    }
   ],
   "source": [
    "df.Cat.value_counts()"
   ]
  },
  {
   "cell_type": "code",
   "execution_count": 28,
   "metadata": {
    "collapsed": false
   },
   "outputs": [
    {
     "name": "stdout",
     "output_type": "stream",
     "text": [
      "Green: 0.341199\n",
      "Primary Rough: 0.604008\n",
      "Bunker: 0.614023\n",
      "Intermediate Rough: 0.548045\n",
      "Fairway: 0.563975\n",
      "Fringe: 0.42991\n",
      "Other: 0.71301\n"
     ]
    }
   ],
   "source": [
    "##Calculate RMSE of prediction for each Category\n",
    "for cat in pd.unique(df.Cat):\n",
    "    predictions = overall_models[cat].predict(df[df.Cat==cat].Distance_from_hole)\n",
    "    residuals = predictions - df[df.Cat==cat].Shots_taken_from_location\n",
    "    RMSE = np.mean(residuals**2)**.5\n",
    "    print '%s:%s%g' % (cat,' '*(30-len(cat)),RMSE)"
   ]
  },
  {
   "cell_type": "markdown",
   "metadata": {},
   "source": [
    "## Add in slope of putts"
   ]
  },
  {
   "cell_type": "code",
   "execution_count": 29,
   "metadata": {
    "collapsed": true
   },
   "outputs": [],
   "source": [
    "for year in range(2003,2017):\n",
    "    data = pd.read_csv('data/%d.csv' % (year,));\n",
    "    data = data[data.Shot!=1]\n",
    "    if year==2003:\n",
    "        df = data.loc[0:2,:]\n",
    "    df = df.append(data.iloc[inds_chosen[year]])\n",
    "del data"
   ]
  },
  {
   "cell_type": "code",
   "execution_count": 31,
   "metadata": {
    "collapsed": true
   },
   "outputs": [],
   "source": [
    "df.insert(len(df.columns),'Cat',[convert_cats(c,d) for c,d in zip(df['From_Location(Scorer)'],\n",
    "                                                                  df['Distance_from_hole'])])"
   ]
  },
  {
   "cell_type": "code",
   "execution_count": 32,
   "metadata": {
    "collapsed": true
   },
   "outputs": [],
   "source": [
    "predictions = overall_models['Green'].predict(df[df.Cat=='Green'].Distance_from_hole)\n",
    "residuals = predictions - df[df.Cat=='Green'].Shots_taken_from_location"
   ]
  },
  {
   "cell_type": "code",
   "execution_count": 33,
   "metadata": {
    "collapsed": true
   },
   "outputs": [],
   "source": [
    "X = np.column_stack([df[df.Cat=='Green'].Started_at_Z,\n",
    "                     df[df.Cat=='Green'].Distance_from_hole*df[df.Cat=='Green'].Started_at_Z])\n",
    "y = residuals"
   ]
  },
  {
   "cell_type": "code",
   "execution_count": 34,
   "metadata": {
    "collapsed": true
   },
   "outputs": [],
   "source": [
    "X = sm.add_constant(X)"
   ]
  },
  {
   "cell_type": "code",
   "execution_count": 35,
   "metadata": {
    "collapsed": false
   },
   "outputs": [
    {
     "name": "stdout",
     "output_type": "stream",
     "text": [
      "                                OLS Regression Results                               \n",
      "=====================================================================================\n",
      "Dep. Variable:     Shots_taken_from_location   R-squared:                       0.000\n",
      "Model:                                   OLS   Adj. R-squared:                  0.000\n",
      "Method:                        Least Squares   F-statistic:                     116.0\n",
      "Date:                       Mon, 05 Sep 2016   Prob (F-statistic):           4.30e-51\n",
      "Time:                               14:46:04   Log-Likelihood:            -2.6341e+05\n",
      "No. Observations:                     780190   AIC:                         5.268e+05\n",
      "Df Residuals:                         780187   BIC:                         5.269e+05\n",
      "Df Model:                                  2                                         \n",
      "Covariance Type:                   nonrobust                                         \n",
      "==============================================================================\n",
      "                 coef    std err          t      P>|t|      [95.0% Conf. Int.]\n",
      "------------------------------------------------------------------------------\n",
      "const         -0.0002      0.000     -0.569      0.569        -0.001     0.001\n",
      "x1            -0.0388      0.003    -15.230      0.000        -0.044    -0.034\n",
      "x2             0.0008   5.68e-05     13.846      0.000         0.001     0.001\n",
      "==============================================================================\n",
      "Omnibus:                    64746.410   Durbin-Watson:                   2.003\n",
      "Prob(Omnibus):                  0.000   Jarque-Bera (JB):           311470.658\n",
      "Skew:                          -0.267   Prob(JB):                         0.00\n",
      "Kurtosis:                       6.049   Cond. No.                         110.\n",
      "==============================================================================\n",
      "\n",
      "Warnings:\n",
      "[1] Standard Errors assume that the covariance matrix of the errors is correctly specified.\n"
     ]
    }
   ],
   "source": [
    "model = sm.OLS(y,X)\n",
    "results = model.fit()\n",
    "print results.summary()"
   ]
  },
  {
   "cell_type": "code",
   "execution_count": 36,
   "metadata": {
    "collapsed": true
   },
   "outputs": [],
   "source": [
    "##load more testing data to see improvement\n",
    "for year in range(2003,2017):\n",
    "    data = pd.read_csv('data/%d.csv' % (year,));\n",
    "    data = data[data.Shot!=1]\n",
    "    if year==2003:\n",
    "        df = data.loc[0:2,:]\n",
    "    inds_to_choose_from = list(set(range(len(data))) - set(inds_chosen[year]))\n",
    "    inds = np.random.choice(inds_to_choose_from,size=100000,replace=False)\n",
    "    df = df.append(data.iloc[inds])\n",
    "del data"
   ]
  },
  {
   "cell_type": "code",
   "execution_count": 37,
   "metadata": {
    "collapsed": true
   },
   "outputs": [],
   "source": [
    "df.insert(len(df.columns),'Cat',[convert_cats(c,d) for c,d in zip(df['From_Location(Scorer)'],\n",
    "                                                                  df['Distance_from_hole'])])"
   ]
  },
  {
   "cell_type": "code",
   "execution_count": 44,
   "metadata": {
    "collapsed": false
   },
   "outputs": [
    {
     "name": "stdout",
     "output_type": "stream",
     "text": [
      "Fairway:                       0.563751\n",
      "Green:                         0.340242\n",
      "Intermediate Rough:            0.547899\n",
      "Primary Rough:                 0.604896\n",
      "Fringe:                        0.428679\n",
      "Bunker:                        0.613151\n",
      "Other:                         0.712633\n",
      "Tee Box:                       2\n"
     ]
    }
   ],
   "source": [
    "##Calculate RMSE of prediction for each Category\n",
    "for cat in pd.unique(df.Cat):\n",
    "    predictions = overall_models[cat].predict(df[df.Cat==cat].Distance_from_hole)\n",
    "    if cat=='Green':\n",
    "        X = np.column_stack([df[df.Cat==cat].Started_at_Z,\n",
    "                             df[df.Cat==cat].Started_at_Z*df[df.Cat==cat].Distance_from_hole])\n",
    "        X = sm.add_constant(X)\n",
    "        predictions2 = results.predict(X)\n",
    "        predictions += predictions2\n",
    "    residuals = predictions - df[df.Cat==cat].Shots_taken_from_location\n",
    "    RMSE = np.mean(residuals**2)**.5\n",
    "    print '%s:%s%g' % (cat,' '*(30-len(cat)),RMSE)"
   ]
  },
  {
   "cell_type": "code",
   "execution_count": 45,
   "metadata": {
    "collapsed": false
   },
   "outputs": [
    {
     "data": {
      "text/plain": [
       "0.0028048147855063636"
      ]
     },
     "execution_count": 45,
     "metadata": {},
     "output_type": "execute_result"
    }
   ],
   "source": [
    "(.341199 - .340242)/.341199"
   ]
  },
  {
   "cell_type": "markdown",
   "metadata": {},
   "source": [
    "Very modest improvement of .2%."
   ]
  },
  {
   "cell_type": "markdown",
   "metadata": {},
   "source": [
    "## Add in 'Green to work with' for non-putts"
   ]
  },
  {
   "cell_type": "code",
   "execution_count": 59,
   "metadata": {
    "collapsed": true
   },
   "outputs": [],
   "source": [
    "from math import atan2,radians"
   ]
  },
  {
   "cell_type": "code",
   "execution_count": 68,
   "metadata": {
    "collapsed": true
   },
   "outputs": [],
   "source": [
    "simple_coords = pd.DataFrame({'x':[3,2,5,6,10,-1,-1,-6,-8],\n",
    "                              'y':[5,4,2,-10,20,-1,6,-6,7]})"
   ]
  },
  {
   "cell_type": "code",
   "execution_count": 69,
   "metadata": {
    "collapsed": false
   },
   "outputs": [
    {
     "data": {
      "text/html": [
       "<div>\n",
       "<table border=\"1\" class=\"dataframe\">\n",
       "  <thead>\n",
       "    <tr style=\"text-align: right;\">\n",
       "      <th></th>\n",
       "      <th>x</th>\n",
       "      <th>y</th>\n",
       "    </tr>\n",
       "  </thead>\n",
       "  <tbody>\n",
       "    <tr>\n",
       "      <th>0</th>\n",
       "      <td>3</td>\n",
       "      <td>5</td>\n",
       "    </tr>\n",
       "    <tr>\n",
       "      <th>1</th>\n",
       "      <td>2</td>\n",
       "      <td>4</td>\n",
       "    </tr>\n",
       "    <tr>\n",
       "      <th>2</th>\n",
       "      <td>5</td>\n",
       "      <td>2</td>\n",
       "    </tr>\n",
       "    <tr>\n",
       "      <th>3</th>\n",
       "      <td>6</td>\n",
       "      <td>-10</td>\n",
       "    </tr>\n",
       "    <tr>\n",
       "      <th>4</th>\n",
       "      <td>10</td>\n",
       "      <td>20</td>\n",
       "    </tr>\n",
       "    <tr>\n",
       "      <th>5</th>\n",
       "      <td>-1</td>\n",
       "      <td>-1</td>\n",
       "    </tr>\n",
       "    <tr>\n",
       "      <th>6</th>\n",
       "      <td>-1</td>\n",
       "      <td>6</td>\n",
       "    </tr>\n",
       "    <tr>\n",
       "      <th>7</th>\n",
       "      <td>-6</td>\n",
       "      <td>-6</td>\n",
       "    </tr>\n",
       "    <tr>\n",
       "      <th>8</th>\n",
       "      <td>-8</td>\n",
       "      <td>7</td>\n",
       "    </tr>\n",
       "  </tbody>\n",
       "</table>\n",
       "</div>"
      ],
      "text/plain": [
       "    x   y\n",
       "0   3   5\n",
       "1   2   4\n",
       "2   5   2\n",
       "3   6 -10\n",
       "4  10  20\n",
       "5  -1  -1\n",
       "6  -1   6\n",
       "7  -6  -6\n",
       "8  -8   7"
      ]
     },
     "execution_count": 69,
     "metadata": {},
     "output_type": "execute_result"
    }
   ],
   "source": [
    "simple_coords"
   ]
  },
  {
   "cell_type": "code",
   "execution_count": 70,
   "metadata": {
    "collapsed": true
   },
   "outputs": [],
   "source": [
    "simple_coords['distance'] = (simple_coords.x**2 + simple_coords.y**2)**.5\n",
    "simple_coords['angle'] = [atan2(y,x) for x,y in zip(simple_coords.x,simple_coords.y)]"
   ]
  },
  {
   "cell_type": "code",
   "execution_count": 71,
   "metadata": {
    "collapsed": false
   },
   "outputs": [
    {
     "data": {
      "text/html": [
       "<div>\n",
       "<table border=\"1\" class=\"dataframe\">\n",
       "  <thead>\n",
       "    <tr style=\"text-align: right;\">\n",
       "      <th></th>\n",
       "      <th>x</th>\n",
       "      <th>y</th>\n",
       "      <th>distance</th>\n",
       "      <th>angle</th>\n",
       "    </tr>\n",
       "  </thead>\n",
       "  <tbody>\n",
       "    <tr>\n",
       "      <th>0</th>\n",
       "      <td>3</td>\n",
       "      <td>5</td>\n",
       "      <td>5.830952</td>\n",
       "      <td>1.030377</td>\n",
       "    </tr>\n",
       "    <tr>\n",
       "      <th>1</th>\n",
       "      <td>2</td>\n",
       "      <td>4</td>\n",
       "      <td>4.472136</td>\n",
       "      <td>1.107149</td>\n",
       "    </tr>\n",
       "    <tr>\n",
       "      <th>2</th>\n",
       "      <td>5</td>\n",
       "      <td>2</td>\n",
       "      <td>5.385165</td>\n",
       "      <td>0.380506</td>\n",
       "    </tr>\n",
       "    <tr>\n",
       "      <th>3</th>\n",
       "      <td>6</td>\n",
       "      <td>-10</td>\n",
       "      <td>11.661904</td>\n",
       "      <td>-1.030377</td>\n",
       "    </tr>\n",
       "    <tr>\n",
       "      <th>4</th>\n",
       "      <td>10</td>\n",
       "      <td>20</td>\n",
       "      <td>22.360680</td>\n",
       "      <td>1.107149</td>\n",
       "    </tr>\n",
       "    <tr>\n",
       "      <th>5</th>\n",
       "      <td>-1</td>\n",
       "      <td>-1</td>\n",
       "      <td>1.414214</td>\n",
       "      <td>-2.356194</td>\n",
       "    </tr>\n",
       "    <tr>\n",
       "      <th>6</th>\n",
       "      <td>-1</td>\n",
       "      <td>6</td>\n",
       "      <td>6.082763</td>\n",
       "      <td>1.735945</td>\n",
       "    </tr>\n",
       "    <tr>\n",
       "      <th>7</th>\n",
       "      <td>-6</td>\n",
       "      <td>-6</td>\n",
       "      <td>8.485281</td>\n",
       "      <td>-2.356194</td>\n",
       "    </tr>\n",
       "    <tr>\n",
       "      <th>8</th>\n",
       "      <td>-8</td>\n",
       "      <td>7</td>\n",
       "      <td>10.630146</td>\n",
       "      <td>2.422763</td>\n",
       "    </tr>\n",
       "  </tbody>\n",
       "</table>\n",
       "</div>"
      ],
      "text/plain": [
       "    x   y   distance     angle\n",
       "0   3   5   5.830952  1.030377\n",
       "1   2   4   4.472136  1.107149\n",
       "2   5   2   5.385165  0.380506\n",
       "3   6 -10  11.661904 -1.030377\n",
       "4  10  20  22.360680  1.107149\n",
       "5  -1  -1   1.414214 -2.356194\n",
       "6  -1   6   6.082763  1.735945\n",
       "7  -6  -6   8.485281 -2.356194\n",
       "8  -8   7  10.630146  2.422763"
      ]
     },
     "execution_count": 71,
     "metadata": {},
     "output_type": "execute_result"
    }
   ],
   "source": [
    "simple_coords"
   ]
  },
  {
   "cell_type": "code",
   "execution_count": 72,
   "metadata": {
    "collapsed": true
   },
   "outputs": [],
   "source": [
    "slack = radians(30)"
   ]
  },
  {
   "cell_type": "code",
   "execution_count": 86,
   "metadata": {
    "collapsed": false
   },
   "outputs": [],
   "source": [
    "def get_green_to_work_with(point):\n",
    "    angle = atan2(point[0],point[1])\n",
    "    print angle\n",
    "    sub = simple_coords[(simple_coords.angle>angle-slack) & (simple_coords.angle<angle+slack)]\n",
    "    print sub\n",
    "    return sub.distance.max()"
   ]
  },
  {
   "cell_type": "code",
   "execution_count": 88,
   "metadata": {
    "collapsed": false
   },
   "outputs": [
    {
     "name": "stdout",
     "output_type": "stream",
     "text": [
      "-0.643501108793\n",
      "   x   y   distance     angle\n",
      "3  6 -10  11.661904 -1.030377\n"
     ]
    },
    {
     "data": {
      "text/plain": [
       "11.661903789690601"
      ]
     },
     "execution_count": 88,
     "metadata": {},
     "output_type": "execute_result"
    }
   ],
   "source": [
    "get_green_to_work_with((-3,4))"
   ]
  },
  {
   "cell_type": "code",
   "execution_count": 89,
   "metadata": {
    "collapsed": false
   },
   "outputs": [
    {
     "name": "stdout",
     "output_type": "stream",
     "text": [
      "1026476\n"
     ]
    }
   ],
   "source": [
    "##Now need whole holes as opposed to random shots for training data\n",
    "inds_chosen2 = {}\n",
    "for year in range(2003,2017):\n",
    "    cols = ['Course_#','Round','Hole','Permanent_Tournament_#']\n",
    "    data = pd.read_csv('data/%d.csv' % (year,))\n",
    "    if year==2003:\n",
    "        df = data.loc[0:2,:]\n",
    "    inds_chosen2[year] = np.random.choice(range(len(data.drop_duplicates(cols))),size=200,replace=False)\n",
    "    samp = set([tuple(i) for i in data.drop_duplicates(cols).iloc[inds_chosen2[year]][cols].values.astype(int).tolist()])\n",
    "    inds = [u for u,i in enumerate(data[cols].values.astype(int).tolist()) if tuple(i) in samp]\n",
    "    df = df.append(data.iloc[inds])\n",
    "    if year==2003:\n",
    "        df = df.drop(data.iloc[0:2].index,axis=0)\n",
    "df = df.reset_index()\n",
    "del data\n",
    "print len(df)"
   ]
  },
  {
   "cell_type": "code",
   "execution_count": 91,
   "metadata": {
    "collapsed": false
   },
   "outputs": [
    {
     "name": "stdout",
     "output_type": "stream",
     "text": [
      "764263\n"
     ]
    }
   ],
   "source": [
    "##Not modeling First shots on each whole since difficulty is given by average strokes\n",
    "df = df[df.Shot!=1]\n",
    "print len(df)"
   ]
  },
  {
   "cell_type": "code",
   "execution_count": 94,
   "metadata": {
    "collapsed": true
   },
   "outputs": [],
   "source": [
    "df.insert(len(df.columns),'Cat',[convert_cats(c,d) for c,d in zip(df['From_Location(Scorer)'],\n",
    "                                                                  df['Distance_from_hole'])])"
   ]
  },
  {
   "cell_type": "code",
   "execution_count": 222,
   "metadata": {
    "collapsed": false
   },
   "outputs": [],
   "source": [
    "def get_green_to_work_with(df,points,slack):\n",
    "    df.insert(len(df.columns),'angle',[atan2(y,x) for x,y in zip(df.Started_at_X,\n",
    "                                                                 df.Started_at_Y)])\n",
    "    ww = []\n",
    "    def get_sub(df,angle,slack):\n",
    "        return df[(df.angle>angle-slack) & (df.angle<angle+slack)]\n",
    "    for point in points:\n",
    "        angle = atan2(point[1],point[0])\n",
    "        sub = get_sub(df,angle,slack)\n",
    "        c = 0\n",
    "        while len(sub)==0:\n",
    "            c += 1\n",
    "            if c==15:\n",
    "                break\n",
    "            sub = get_sub(df,angle,slack+2)\n",
    "        if c==15:\n",
    "            ww.append(np.nan)\n",
    "        else:\n",
    "            ww.append(sub.Distance_from_hole.max())\n",
    "    return ww"
   ]
  },
  {
   "cell_type": "code",
   "execution_count": 95,
   "metadata": {
    "collapsed": true
   },
   "outputs": [],
   "source": [
    "df.insert(len(df.columns),'Green_to_work_with',[0]*len(df))"
   ]
  },
  {
   "cell_type": "code",
   "execution_count": 223,
   "metadata": {
    "collapsed": false
   },
   "outputs": [],
   "source": [
    "for tup,df_ in df.groupby(['Course_#','Hole','Round']):\n",
    "    green = df_[df_.Cat=='Green']\n",
    "    if len(green)<5:\n",
    "        continue\n",
    "    non_green = df_[df_.Cat!='Green']\n",
    "    df.loc[(df['Course_#']==tup[0]) \n",
    "           & (df['Hole']==tup[1]) \n",
    "           & (df['Round']==tup[2])\n",
    "           & (df.Cat!='Green'), 'Green_to_work_with'] \\\n",
    "                = get_green_to_work_with(green,zip(non_green.Started_at_X,non_green.Started_at_Y),slack=radians(15))"
   ]
  },
  {
   "cell_type": "code",
   "execution_count": 134,
   "metadata": {
    "collapsed": false
   },
   "outputs": [
    {
     "data": {
      "text/plain": [
       "array([ 51.22257859,  25.02694235,  47.78093417, ...,  26.83487683,\n",
       "        44.94499237,  53.17613467])"
      ]
     },
     "execution_count": 134,
     "metadata": {},
     "output_type": "execute_result"
    }
   ],
   "source": [
    "df[df.Cat!='Green'].Green_to_work_with.dropna().values"
   ]
  },
  {
   "cell_type": "code",
   "execution_count": 187,
   "metadata": {
    "collapsed": false,
    "scrolled": true
   },
   "outputs": [
    {
     "data": {
      "image/png": "[encoded data removed]",
      "text/plain": [
       "<matplotlib.figure.Figure at 0x7feab0295290>"
      ]
     },
     "metadata": {},
     "output_type": "display_data"
    }
   ],
   "source": [
    "plt.hist(df[df.Cat!='Green'].Green_to_work_with.dropna().values);"
   ]
  },
  {
   "cell_type": "code",
   "execution_count": 110,
   "metadata": {
    "collapsed": true
   },
   "outputs": [],
   "source": [
    "df.insert(len(df.columns),'Difficulty_Baseline',[0]*len(df))\n",
    "for cat in pd.unique(df.Cat):\n",
    "    df.loc[df.Cat==cat,'Difficulty_Baseline'] = overall_models[cat].predict(df[df.Cat==cat].Distance_from_hole)"
   ]
  },
  {
   "cell_type": "code",
   "execution_count": 224,
   "metadata": {
    "collapsed": true
   },
   "outputs": [],
   "source": [
    "non_green = df[df.Cat!='Green']"
   ]
  },
  {
   "cell_type": "code",
   "execution_count": 225,
   "metadata": {
    "collapsed": false
   },
   "outputs": [
    {
     "data": {
      "image/png": "[encoded data removed]",
      "text/plain": [
       "<matplotlib.figure.Figure at 0x7feab0aec750>"
      ]
     },
     "metadata": {},
     "output_type": "display_data"
    }
   ],
   "source": [
    "plt.scatter(non_green.Green_to_work_with,non_green.Difficulty_Baseline - non_green.Shots_taken_from_location);"
   ]
  },
  {
   "cell_type": "code",
   "execution_count": 226,
   "metadata": {
    "collapsed": true
   },
   "outputs": [],
   "source": [
    "gww = non_green.Green_to_work_with.fillna(non_green.Green_to_work_with.mean())\n",
    "dist = non_green.Distance_from_hole.values\n",
    "resid = (non_green.Difficulty_Baseline - non_green.Shots_taken_from_location)"
   ]
  },
  {
   "cell_type": "code",
   "execution_count": 227,
   "metadata": {
    "collapsed": false
   },
   "outputs": [
    {
     "data": {
      "text/plain": [
       "array([[ 1.        ,  0.01971726],\n",
       "       [ 0.01971726,  1.        ]])"
      ]
     },
     "execution_count": 227,
     "metadata": {},
     "output_type": "execute_result"
    }
   ],
   "source": [
    "np.corrcoef(gww,resid)"
   ]
  },
  {
   "cell_type": "code",
   "execution_count": 247,
   "metadata": {
    "collapsed": true
   },
   "outputs": [
    {
     "ename": "ValueError",
     "evalue": "operands could not be broadcast together with shapes (182,4) (339744,1) ",
     "output_type": "error",
     "traceback": [
      "\u001b[1;31m---------------------------------------------------------------------------\u001b[0m",
      "\u001b[1;31mValueError\u001b[0m                                Traceback (most recent call last)",
      "\u001b[1;32m<ipython-input-247-f80af5314b69>\u001b[0m in \u001b[0;36m<module>\u001b[1;34m()\u001b[0m\n\u001b[0;32m      3\u001b[0m \u001b[0mX_d\u001b[0m \u001b[1;33m=\u001b[0m \u001b[0mdist\u001b[0m\u001b[1;33m\u001b[0m\u001b[0m\n\u001b[0;32m      4\u001b[0m \u001b[0mX\u001b[0m \u001b[1;33m=\u001b[0m \u001b[0msm\u001b[0m\u001b[1;33m.\u001b[0m\u001b[0madd_constant\u001b[0m\u001b[1;33m(\u001b[0m\u001b[0mX\u001b[0m\u001b[1;33m)\u001b[0m\u001b[1;33m\u001b[0m\u001b[0m\n\u001b[1;32m----> 5\u001b[1;33m X = np.hstack([np.multiply(X_c[:,[0,1]+[3,5]],X[:,0][:,None]),\n\u001b[0m\u001b[0;32m      6\u001b[0m                np.multiply(X_c[:,[0,1]+[3,5]],X[:,1][:,None])])\n\u001b[0;32m      7\u001b[0m \u001b[0my\u001b[0m \u001b[1;33m=\u001b[0m \u001b[0mresid\u001b[0m\u001b[1;33m\u001b[0m\u001b[0m\n",
      "\u001b[1;31mValueError\u001b[0m: operands could not be broadcast together with shapes (182,4) (339744,1) "
     ]
    }
   ],
   "source": [
    "X = gww.values\n",
    "X_c = pd.get_dummies(non_green.Cat).values\n",
    "X_d = dist\n",
    "X = sm.add_constant(X)\n",
    "X = np.hstack([np.multiply(X_c[:,[0,1]+[3,5]],X[:,0][:,None]),\n",
    "               np.multiply(X_c[:,[0,1]+[3,5]],X[:,1][:,None])])\n",
    "y = resid"
   ]
  },
  {
   "cell_type": "code",
   "execution_count": 229,
   "metadata": {
    "collapsed": false
   },
   "outputs": [
    {
     "data": {
      "text/plain": [
       "(339744, 8)"
      ]
     },
     "execution_count": 229,
     "metadata": {},
     "output_type": "execute_result"
    }
   ],
   "source": [
    "X.shape"
   ]
  },
  {
   "cell_type": "code",
   "execution_count": 230,
   "metadata": {
    "collapsed": false
   },
   "outputs": [
    {
     "data": {
      "text/html": [
       "<div>\n",
       "<table border=\"1\" class=\"dataframe\">\n",
       "  <thead>\n",
       "    <tr style=\"text-align: right;\">\n",
       "      <th></th>\n",
       "      <th>Bunker</th>\n",
       "      <th>Fairway</th>\n",
       "      <th>Fringe</th>\n",
       "      <th>Intermediate Rough</th>\n",
       "      <th>Other</th>\n",
       "      <th>Primary Rough</th>\n",
       "      <th>Tee Box</th>\n",
       "    </tr>\n",
       "  </thead>\n",
       "  <tbody>\n",
       "    <tr>\n",
       "      <th>19046</th>\n",
       "      <td>0</td>\n",
       "      <td>1</td>\n",
       "      <td>0</td>\n",
       "      <td>0</td>\n",
       "      <td>0</td>\n",
       "      <td>0</td>\n",
       "      <td>0</td>\n",
       "    </tr>\n",
       "    <tr>\n",
       "      <th>19047</th>\n",
       "      <td>0</td>\n",
       "      <td>1</td>\n",
       "      <td>0</td>\n",
       "      <td>0</td>\n",
       "      <td>0</td>\n",
       "      <td>0</td>\n",
       "      <td>0</td>\n",
       "    </tr>\n",
       "    <tr>\n",
       "      <th>19049</th>\n",
       "      <td>0</td>\n",
       "      <td>1</td>\n",
       "      <td>0</td>\n",
       "      <td>0</td>\n",
       "      <td>0</td>\n",
       "      <td>0</td>\n",
       "      <td>0</td>\n",
       "    </tr>\n",
       "    <tr>\n",
       "      <th>19050</th>\n",
       "      <td>0</td>\n",
       "      <td>0</td>\n",
       "      <td>0</td>\n",
       "      <td>0</td>\n",
       "      <td>0</td>\n",
       "      <td>1</td>\n",
       "      <td>0</td>\n",
       "    </tr>\n",
       "    <tr>\n",
       "      <th>19051</th>\n",
       "      <td>0</td>\n",
       "      <td>1</td>\n",
       "      <td>0</td>\n",
       "      <td>0</td>\n",
       "      <td>0</td>\n",
       "      <td>0</td>\n",
       "      <td>0</td>\n",
       "    </tr>\n",
       "  </tbody>\n",
       "</table>\n",
       "</div>"
      ],
      "text/plain": [
       "       Bunker  Fairway  Fringe  Intermediate Rough  Other  Primary Rough  \\\n",
       "19046       0        1       0                   0      0              0   \n",
       "19047       0        1       0                   0      0              0   \n",
       "19049       0        1       0                   0      0              0   \n",
       "19050       0        0       0                   0      0              1   \n",
       "19051       0        1       0                   0      0              0   \n",
       "\n",
       "       Tee Box  \n",
       "19046        0  \n",
       "19047        0  \n",
       "19049        0  \n",
       "19050        0  \n",
       "19051        0  "
      ]
     },
     "execution_count": 230,
     "metadata": {},
     "output_type": "execute_result"
    }
   ],
   "source": [
    "pd.get_dummies(non_green.Cat).head()"
   ]
  },
  {
   "cell_type": "code",
   "execution_count": 231,
   "metadata": {
    "collapsed": false
   },
   "outputs": [
    {
     "name": "stdout",
     "output_type": "stream",
     "text": [
      "                            OLS Regression Results                            \n",
      "==============================================================================\n",
      "Dep. Variable:                      y   R-squared:                       0.001\n",
      "Model:                            OLS   Adj. R-squared:                  0.001\n",
      "Method:                 Least Squares   F-statistic:                     28.24\n",
      "Date:                Mon, 05 Sep 2016   Prob (F-statistic):           2.24e-44\n",
      "Time:                        18:06:12   Log-Likelihood:            -2.9501e+05\n",
      "No. Observations:              339744   AIC:                         5.900e+05\n",
      "Df Residuals:                  339736   BIC:                         5.901e+05\n",
      "Df Model:                           8                                         \n",
      "Covariance Type:            nonrobust                                         \n",
      "==============================================================================\n",
      "                 coef    std err          t      P>|t|      [95.0% Conf. Int.]\n",
      "------------------------------------------------------------------------------\n",
      "x1            -0.0166      0.006     -2.999      0.003        -0.027    -0.006\n",
      "x2            -0.0088      0.003     -3.139      0.002        -0.014    -0.003\n",
      "x3            -0.0371      0.007     -5.183      0.000        -0.051    -0.023\n",
      "x4            -0.0478      0.004    -12.172      0.000        -0.055    -0.040\n",
      "x5             0.0005      0.000      3.211      0.001         0.000     0.001\n",
      "x6             0.0002   6.08e-05      3.067      0.002      6.73e-05     0.000\n",
      "x7             0.0009      0.000      5.244      0.000         0.001     0.001\n",
      "x8             0.0012   9.23e-05     13.128      0.000         0.001     0.001\n",
      "==============================================================================\n",
      "Omnibus:                    11530.081   Durbin-Watson:                   1.262\n",
      "Prob(Omnibus):                  0.000   Jarque-Bera (JB):            17170.113\n",
      "Skew:                          -0.339   Prob(JB):                         0.00\n",
      "Kurtosis:                       3.868   Cond. No.                         240.\n",
      "==============================================================================\n",
      "\n",
      "Warnings:\n",
      "[1] Standard Errors assume that the covariance matrix of the errors is correctly specified.\n"
     ]
    }
   ],
   "source": [
    "model_2 = sm.OLS(y,X)\n",
    "results_2 = model_2.fit()\n",
    "print results_2.summary()"
   ]
  },
  {
   "cell_type": "code",
   "execution_count": 232,
   "metadata": {
    "collapsed": false
   },
   "outputs": [
    {
     "name": "stdout",
     "output_type": "stream",
     "text": [
      "1014042\n"
     ]
    }
   ],
   "source": [
    "##Let's see if this improves the RSME on some test data\n",
    "for year in range(2003,2017):\n",
    "    cols = ['Course_#','Round','Hole','Permanent_Tournament_#']\n",
    "    data = pd.read_csv('data/%d.csv' % (year,))\n",
    "    if year==2003:\n",
    "        df = data.loc[0:2,:]\n",
    "    inds_not_chosen = list(set(range(len(data.drop_duplicates(cols)))) - set(inds_chosen2[year]))\n",
    "    test_inds = np.random.choice(inds_not_chosen,size=200,replace=False)\n",
    "    samp = set([tuple(i) for i in data.drop_duplicates(cols).iloc[test_inds][cols].values.astype(int).tolist()])\n",
    "    inds = [u for u,i in enumerate(data[cols].values.astype(int).tolist()) if tuple(i) in samp]\n",
    "    df = df.append(data.iloc[inds])\n",
    "    if year==2003:\n",
    "        df = df.drop(data.iloc[0:2].index,axis=0)\n",
    "df = df.reset_index()\n",
    "del data\n",
    "print len(df)"
   ]
  },
  {
   "cell_type": "code",
   "execution_count": 233,
   "metadata": {
    "collapsed": false
   },
   "outputs": [
    {
     "name": "stdout",
     "output_type": "stream",
     "text": [
      "755318\n"
     ]
    }
   ],
   "source": [
    "df = df[df.Shot!=1]\n",
    "print len(df)\n",
    "df.insert(len(df.columns),'Cat',[convert_cats(c,d) for c,d in zip(df['From_Location(Scorer)'],\n",
    "                                                                  df['Distance_from_hole'])])"
   ]
  },
  {
   "cell_type": "code",
   "execution_count": 234,
   "metadata": {
    "collapsed": true
   },
   "outputs": [],
   "source": [
    "df.insert(len(df.columns),'Difficulty_Baseline',[0]*len(df))\n",
    "for cat in pd.unique(df.Cat):\n",
    "    df.loc[df.Cat==cat,'Difficulty_Baseline'] = overall_models[cat].predict(df[df.Cat==cat].Distance_from_hole)"
   ]
  },
  {
   "cell_type": "code",
   "execution_count": 235,
   "metadata": {
    "collapsed": true
   },
   "outputs": [],
   "source": [
    "df.insert(len(df.columns),'Green_to_work_with',[0]*len(df))\n",
    "for tup,df_ in df.groupby(['Course_#','Hole','Round']):\n",
    "    green = df_[df_.Cat=='Green']\n",
    "    if len(green)<5:\n",
    "        continue\n",
    "    non_green = df_[df_.Cat!='Green']\n",
    "    df.loc[(df['Course_#']==tup[0]) \n",
    "           & (df['Hole']==tup[1]) \n",
    "           & (df['Round']==tup[2])\n",
    "           & (df.Cat!='Green'), 'Green_to_work_with'] \\\n",
    "                = get_green_to_work_with(green,zip(non_green.Started_at_X,non_green.Started_at_Y),slack=radians(15))"
   ]
  },
  {
   "cell_type": "code",
   "execution_count": 236,
   "metadata": {
    "collapsed": true
   },
   "outputs": [],
   "source": [
    "df.insert(len(df.columns),'Green_to_work_with_pred',[0]*len(df))"
   ]
  },
  {
   "cell_type": "code",
   "execution_count": 240,
   "metadata": {
    "collapsed": false
   },
   "outputs": [],
   "source": [
    "X = df[df.Cat!='Green'].Green_to_work_with.values\n",
    "X_c = pd.get_dummies(df[df.Cat!='Green'].Cat).values\n",
    "X = sm.add_constant(X)\n",
    "X = np.hstack([np.multiply(X_c[:,[0,1]+[3,5]],X[:,0][:,None]),\n",
    "               np.multiply(X_c[:,[0,1]+[3,5]],X[:,1][:,None])])"
   ]
  },
  {
   "cell_type": "code",
   "execution_count": 241,
   "metadata": {
    "collapsed": false
   },
   "outputs": [
    {
     "data": {
      "text/plain": [
       "(335992, 8)"
      ]
     },
     "execution_count": 241,
     "metadata": {},
     "output_type": "execute_result"
    }
   ],
   "source": [
    "X.shape"
   ]
  },
  {
   "cell_type": "code",
   "execution_count": 242,
   "metadata": {
    "collapsed": true
   },
   "outputs": [],
   "source": [
    "df.loc[df.Cat!='Green','Green_to_work_with_pred'] = results_2.predict(X)"
   ]
  },
  {
   "cell_type": "code",
   "execution_count": 249,
   "metadata": {
    "collapsed": false
   },
   "outputs": [
    {
     "name": "stdout",
     "output_type": "stream",
     "text": [
      "Green 0.33909417746 0.33909417746 0.0\n",
      "Fairway 0.565610522012 0.56554590816 0.00011423735913\n",
      "Bunker 0.617027435654 0.616731120395 0.000480230280639\n",
      "Intermediate Rough 0.551504682338 0.551263021284 0.000438184954875\n",
      "Primary Rough 0.605120383953 0.6045461719 0.000948922013668\n",
      "Other 0.693807261119 0.693807261119 0.0\n",
      "Fringe 0.427927160295 0.427927160295 0.0\n"
     ]
    }
   ],
   "source": [
    "for cat in pd.unique(df.Cat):\n",
    "    RSME_baseline = np.mean((df[df.Cat==cat].Shots_taken_from_location - \n",
    "                             df[df.Cat==cat].Difficulty_Baseline)**2)**.5\n",
    "    RSME_with_green_to_work_with = np.mean((df[df.Cat==cat].Shots_taken_from_location - \n",
    "         (df[df.Cat==cat].Difficulty_Baseline - df[df.Cat==cat].Green_to_work_with_pred))**2)**.5\n",
    "    improvement = (RSME_baseline - RSME_with_green_to_work_with)/RSME_baseline\n",
    "    print cat, RSME_baseline, RSME_with_green_to_work_with,improvement"
   ]
  },
  {
   "cell_type": "markdown",
   "metadata": {},
   "source": [
    "Very modest improvements."
   ]
  },
  {
   "cell_type": "markdown",
   "metadata": {},
   "source": [
    "## Change in Z coordinate for non-putts"
   ]
  },
  {
   "cell_type": "code",
   "execution_count": 262,
   "metadata": {
    "collapsed": false,
    "scrolled": true
   },
   "outputs": [
    {
     "data": {
      "image/png": "[encoded data removed]",
      "text/plain": [
       "<matplotlib.figure.Figure at 0x7feab5af7d10>"
      ]
     },
     "metadata": {},
     "output_type": "display_data"
    }
   ],
   "source": [
    "elev_change = df[df.Cat!='Green'].Started_at_Z.values\n",
    "resid = df[df.Cat!='Green'].Shots_taken_from_location-(df[df.Cat!='Green'].Difficulty_Baseline-df[df.Cat!='Green'].Green_to_work_with_pred)\n",
    "resid = resid.values\n",
    "plt.scatter(elev_change,resid);"
   ]
  },
  {
   "cell_type": "code",
   "execution_count": 263,
   "metadata": {
    "collapsed": false
   },
   "outputs": [
    {
     "data": {
      "text/plain": [
       "array([[ 1.        , -0.02183034],\n",
       "       [-0.02183034,  1.        ]])"
      ]
     },
     "execution_count": 263,
     "metadata": {},
     "output_type": "execute_result"
    }
   ],
   "source": [
    "np.corrcoef(elev_change,resid)"
   ]
  },
  {
   "cell_type": "code",
   "execution_count": 264,
   "metadata": {
    "collapsed": false
   },
   "outputs": [
    {
     "name": "stdout",
     "output_type": "stream",
     "text": [
      "                            OLS Regression Results                            \n",
      "==============================================================================\n",
      "Dep. Variable:                      y   R-squared:                       0.000\n",
      "Model:                            OLS   Adj. R-squared:                  0.000\n",
      "Method:                 Least Squares   F-statistic:                     160.2\n",
      "Date:                Mon, 05 Sep 2016   Prob (F-statistic):           1.04e-36\n",
      "Time:                        18:47:34   Log-Likelihood:            -2.9120e+05\n",
      "No. Observations:              335992   AIC:                         5.824e+05\n",
      "Df Residuals:                  335990   BIC:                         5.824e+05\n",
      "Df Model:                           1                                         \n",
      "Covariance Type:            nonrobust                                         \n",
      "==============================================================================\n",
      "                 coef    std err          t      P>|t|      [95.0% Conf. Int.]\n",
      "------------------------------------------------------------------------------\n",
      "const         -0.0031      0.001     -2.973      0.003        -0.005    -0.001\n",
      "x1            -0.0014      0.000    -12.657      0.000        -0.002    -0.001\n",
      "==============================================================================\n",
      "Omnibus:                    11643.841   Durbin-Watson:                   1.269\n",
      "Prob(Omnibus):                  0.000   Jarque-Bera (JB):            17659.982\n",
      "Skew:                           0.339   Prob(JB):                         0.00\n",
      "Kurtosis:                       3.896   Cond. No.                         9.66\n",
      "==============================================================================\n",
      "\n",
      "Warnings:\n",
      "[1] Standard Errors assume that the covariance matrix of the errors is correctly specified.\n"
     ]
    }
   ],
   "source": [
    "X = elev_change\n",
    "y = resid\n",
    "X = sm.add_constant(X)\n",
    "model_3 = sm.OLS(y,X)\n",
    "results_3 = model_3.fit()\n",
    "print results_3.summary()"
   ]
  },
  {
   "cell_type": "code",
   "execution_count": 270,
   "metadata": {
    "collapsed": false
   },
   "outputs": [],
   "source": [
    "X = elev_change\n",
    "X_c = pd.get_dummies(df[df.Cat!='Green'].Cat)\n",
    "X_d = df[df.Cat!='Green'].Distance_from_hole.values\n",
    "X = np.column_stack([X,np.multiply(X,X_d)])\n",
    "X = sm.add_constant(X)\n",
    "y = resid"
   ]
  },
  {
   "cell_type": "code",
   "execution_count": 271,
   "metadata": {
    "collapsed": false
   },
   "outputs": [
    {
     "data": {
      "text/html": [
       "<div>\n",
       "<table border=\"1\" class=\"dataframe\">\n",
       "  <thead>\n",
       "    <tr style=\"text-align: right;\">\n",
       "      <th></th>\n",
       "      <th>Bunker</th>\n",
       "      <th>Fairway</th>\n",
       "      <th>Fringe</th>\n",
       "      <th>Intermediate Rough</th>\n",
       "      <th>Other</th>\n",
       "      <th>Primary Rough</th>\n",
       "    </tr>\n",
       "  </thead>\n",
       "  <tbody>\n",
       "    <tr>\n",
       "      <th>19378</th>\n",
       "      <td>0</td>\n",
       "      <td>1</td>\n",
       "      <td>0</td>\n",
       "      <td>0</td>\n",
       "      <td>0</td>\n",
       "      <td>0</td>\n",
       "    </tr>\n",
       "  </tbody>\n",
       "</table>\n",
       "</div>"
      ],
      "text/plain": [
       "       Bunker  Fairway  Fringe  Intermediate Rough  Other  Primary Rough\n",
       "19378       0        1       0                   0      0              0"
      ]
     },
     "execution_count": 271,
     "metadata": {},
     "output_type": "execute_result"
    }
   ],
   "source": [
    "pd.get_dummies(df[df.Cat!='Green'].Cat).head(1)"
   ]
  },
  {
   "cell_type": "code",
   "execution_count": 272,
   "metadata": {
    "collapsed": false
   },
   "outputs": [
    {
     "name": "stdout",
     "output_type": "stream",
     "text": [
      "                            OLS Regression Results                            \n",
      "==============================================================================\n",
      "Dep. Variable:                      y   R-squared:                       0.000\n",
      "Model:                            OLS   Adj. R-squared:                  0.000\n",
      "Method:                 Least Squares   F-statistic:                     80.38\n",
      "Date:                Mon, 05 Sep 2016   Prob (F-statistic):           1.25e-35\n",
      "Time:                        18:51:56   Log-Likelihood:            -2.9120e+05\n",
      "No. Observations:              335992   AIC:                         5.824e+05\n",
      "Df Residuals:                  335989   BIC:                         5.824e+05\n",
      "Df Model:                           2                                         \n",
      "Covariance Type:            nonrobust                                         \n",
      "==============================================================================\n",
      "                 coef    std err          t      P>|t|      [95.0% Conf. Int.]\n",
      "------------------------------------------------------------------------------\n",
      "const         -0.0033      0.001     -3.066      0.002        -0.005    -0.001\n",
      "x1            -0.0017      0.000     -5.161      0.000        -0.002    -0.001\n",
      "x2          3.893e-07   5.16e-07      0.754      0.451     -6.22e-07   1.4e-06\n",
      "==============================================================================\n",
      "Omnibus:                    11645.494   Durbin-Watson:                   1.269\n",
      "Prob(Omnibus):                  0.000   Jarque-Bera (JB):            17662.666\n",
      "Skew:                           0.339   Prob(JB):                         0.00\n",
      "Kurtosis:                       3.896   Cond. No.                     6.08e+03\n",
      "==============================================================================\n",
      "\n",
      "Warnings:\n",
      "[1] Standard Errors assume that the covariance matrix of the errors is correctly specified.\n",
      "[2] The condition number is large, 6.08e+03. This might indicate that there are\n",
      "strong multicollinearity or other numerical problems.\n"
     ]
    }
   ],
   "source": [
    "model_3 = sm.OLS(y,X)\n",
    "results_3 = model_3.fit()\n",
    "print results_3.summary()"
   ]
  },
  {
   "cell_type": "markdown",
   "metadata": {},
   "source": [
    "## Regress Residuals of distance with Elev. change and Green to work with"
   ]
  },
  {
   "cell_type": "code",
   "execution_count": 273,
   "metadata": {
    "collapsed": true
   },
   "outputs": [],
   "source": [
    "resid = df[df.Cat!='Green'].Shots_taken_from_location-df[df.Cat!='Green'].Difficulty_Baseline\n",
    "resid = resid.values\n",
    "y = resid"
   ]
  },
  {
   "cell_type": "code",
   "execution_count": 274,
   "metadata": {
    "collapsed": true
   },
   "outputs": [],
   "source": [
    "X = np.column_stack([df[df.Cat!='Green'].Green_to_work_with,df[df.Cat!='Green'].Started_at_Z])\n",
    "X = sm.add_constant(X)"
   ]
  },
  {
   "cell_type": "code",
   "execution_count": 275,
   "metadata": {
    "collapsed": false
   },
   "outputs": [
    {
     "name": "stdout",
     "output_type": "stream",
     "text": [
      "                            OLS Regression Results                            \n",
      "==============================================================================\n",
      "Dep. Variable:                      y   R-squared:                       0.001\n",
      "Model:                            OLS   Adj. R-squared:                  0.001\n",
      "Method:                 Least Squares   F-statistic:                     202.2\n",
      "Date:                Mon, 05 Sep 2016   Prob (F-statistic):           1.75e-88\n",
      "Time:                        18:56:28   Log-Likelihood:            -2.9121e+05\n",
      "No. Observations:              335992   AIC:                         5.824e+05\n",
      "Df Residuals:                  335989   BIC:                         5.824e+05\n",
      "Df Model:                           2                                         \n",
      "Covariance Type:            nonrobust                                         \n",
      "==============================================================================\n",
      "                 coef    std err          t      P>|t|      [95.0% Conf. Int.]\n",
      "------------------------------------------------------------------------------\n",
      "const          0.0262      0.002     13.281      0.000         0.022     0.030\n",
      "x1            -0.0007    4.6e-05    -15.954      0.000        -0.001    -0.001\n",
      "x2            -0.0015      0.000    -12.781      0.000        -0.002    -0.001\n",
      "==============================================================================\n",
      "Omnibus:                    11634.385   Durbin-Watson:                   1.268\n",
      "Prob(Omnibus):                  0.000   Jarque-Bera (JB):            17632.171\n",
      "Skew:                           0.339   Prob(JB):                         0.00\n",
      "Kurtosis:                       3.895   Cond. No.                         84.6\n",
      "==============================================================================\n",
      "\n",
      "Warnings:\n",
      "[1] Standard Errors assume that the covariance matrix of the errors is correctly specified.\n"
     ]
    }
   ],
   "source": [
    "model_4 = sm.OLS(y,X)\n",
    "results_4 = model_4.fit()\n",
    "print results_4.summary()"
   ]
  },
  {
   "cell_type": "markdown",
   "metadata": {},
   "source": [
    "Interpretation: with 0 green to work with, a generic shot from non-green is .0262 shots harder. Keeping elevation change constant, each additional foot of green there is to work with makes the shot .0007 strokes easier. If we keep green to work with constant, a generic non-green shot is .0015 strokes easier for each foot above the hole the shot is located."
   ]
  },
  {
   "cell_type": "markdown",
   "metadata": {},
   "source": [
    "### Try an interaction term"
   ]
  },
  {
   "cell_type": "code",
   "execution_count": 276,
   "metadata": {
    "collapsed": true
   },
   "outputs": [],
   "source": [
    "X = np.column_stack([df[df.Cat!='Green'].Green_to_work_with,\n",
    "                     df[df.Cat!='Green'].Started_at_Z,\n",
    "                     df[df.Cat!='Green'].Green_to_work_with*df[df.Cat!='Green'].Started_at_Z])\n",
    "X = sm.add_constant(X)"
   ]
  },
  {
   "cell_type": "code",
   "execution_count": 277,
   "metadata": {
    "collapsed": false
   },
   "outputs": [
    {
     "name": "stdout",
     "output_type": "stream",
     "text": [
      "                            OLS Regression Results                            \n",
      "==============================================================================\n",
      "Dep. Variable:                      y   R-squared:                       0.001\n",
      "Model:                            OLS   Adj. R-squared:                  0.001\n",
      "Method:                 Least Squares   F-statistic:                     135.7\n",
      "Date:                Mon, 05 Sep 2016   Prob (F-statistic):           7.71e-88\n",
      "Time:                        19:01:02   Log-Likelihood:            -2.9120e+05\n",
      "No. Observations:              335992   AIC:                         5.824e+05\n",
      "Df Residuals:                  335988   BIC:                         5.825e+05\n",
      "Df Model:                           3                                         \n",
      "Covariance Type:            nonrobust                                         \n",
      "==============================================================================\n",
      "                 coef    std err          t      P>|t|      [95.0% Conf. Int.]\n",
      "------------------------------------------------------------------------------\n",
      "const          0.0253      0.002     12.376      0.000         0.021     0.029\n",
      "x1            -0.0007   4.86e-05    -14.586      0.000        -0.001    -0.001\n",
      "x2            -0.0018      0.000     -7.996      0.000        -0.002    -0.001\n",
      "x3          8.255e-06   5.12e-06      1.611      0.107     -1.79e-06  1.83e-05\n",
      "==============================================================================\n",
      "Omnibus:                    11628.149   Durbin-Watson:                   1.268\n",
      "Prob(Omnibus):                  0.000   Jarque-Bera (JB):            17621.030\n",
      "Skew:                           0.339   Prob(JB):                         0.00\n",
      "Kurtosis:                       3.894   Cond. No.                         821.\n",
      "==============================================================================\n",
      "\n",
      "Warnings:\n",
      "[1] Standard Errors assume that the covariance matrix of the errors is correctly specified.\n"
     ]
    }
   ],
   "source": [
    "model_4 = sm.OLS(y,X)\n",
    "results_4 = model_4.fit()\n",
    "print results_4.summary()"
   ]
  },
  {
   "cell_type": "markdown",
   "metadata": {},
   "source": [
    "Not really anything there. Let's try breaking it up into catagories for the greens to work with variable."
   ]
  },
  {
   "cell_type": "code",
   "execution_count": 280,
   "metadata": {
    "collapsed": false
   },
   "outputs": [],
   "source": [
    "X_c = pd.get_dummies(df[df.Cat!='Green'].Cat).values\n",
    "X = df[df.Cat!='Green'].Green_to_work_with.values\n",
    "X = sm.add_constant(X)\n",
    "X = np.hstack([np.multiply(X_c,X[:,0][:,None]),np.multiply(X_c,X[:,1][:,None])])\n",
    "X = np.hstack([X,df[df.Cat!='Green'].Started_at_Z.values[:,None]])"
   ]
  },
  {
   "cell_type": "code",
   "execution_count": 283,
   "metadata": {
    "collapsed": false
   },
   "outputs": [
    {
     "data": {
      "text/html": [
       "<div>\n",
       "<table border=\"1\" class=\"dataframe\">\n",
       "  <thead>\n",
       "    <tr style=\"text-align: right;\">\n",
       "      <th></th>\n",
       "      <th>Bunker</th>\n",
       "      <th>Fairway</th>\n",
       "      <th>Fringe</th>\n",
       "      <th>Intermediate Rough</th>\n",
       "      <th>Other</th>\n",
       "      <th>Primary Rough</th>\n",
       "    </tr>\n",
       "  </thead>\n",
       "  <tbody>\n",
       "    <tr>\n",
       "      <th>19378</th>\n",
       "      <td>0</td>\n",
       "      <td>1</td>\n",
       "      <td>0</td>\n",
       "      <td>0</td>\n",
       "      <td>0</td>\n",
       "      <td>0</td>\n",
       "    </tr>\n",
       "  </tbody>\n",
       "</table>\n",
       "</div>"
      ],
      "text/plain": [
       "       Bunker  Fairway  Fringe  Intermediate Rough  Other  Primary Rough\n",
       "19378       0        1       0                   0      0              0"
      ]
     },
     "execution_count": 283,
     "metadata": {},
     "output_type": "execute_result"
    }
   ],
   "source": [
    "pd.get_dummies(df[df.Cat!='Green'].Cat).head(1)"
   ]
  },
  {
   "cell_type": "code",
   "execution_count": 281,
   "metadata": {
    "collapsed": false
   },
   "outputs": [
    {
     "data": {
      "text/plain": [
       "(335992, 13)"
      ]
     },
     "execution_count": 281,
     "metadata": {},
     "output_type": "execute_result"
    }
   ],
   "source": [
    "X.shape"
   ]
  },
  {
   "cell_type": "code",
   "execution_count": 282,
   "metadata": {
    "collapsed": false
   },
   "outputs": [
    {
     "name": "stdout",
     "output_type": "stream",
     "text": [
      "                            OLS Regression Results                            \n",
      "==============================================================================\n",
      "Dep. Variable:                      y   R-squared:                       0.001\n",
      "Model:                            OLS   Adj. R-squared:                  0.001\n",
      "Method:                 Least Squares   F-statistic:                     39.70\n",
      "Date:                Mon, 05 Sep 2016   Prob (F-statistic):           2.77e-94\n",
      "Time:                        19:07:07   Log-Likelihood:            -2.9117e+05\n",
      "No. Observations:              335992   AIC:                         5.824e+05\n",
      "Df Residuals:                  335979   BIC:                         5.825e+05\n",
      "Df Model:                          12                                         \n",
      "Covariance Type:            nonrobust                                         \n",
      "==============================================================================\n",
      "                 coef    std err          t      P>|t|      [95.0% Conf. Int.]\n",
      "------------------------------------------------------------------------------\n",
      "x1             0.0342      0.005      6.213      0.000         0.023     0.045\n",
      "x2             0.0170      0.003      5.952      0.000         0.011     0.023\n",
      "x3             0.0061      0.008      0.742      0.458        -0.010     0.022\n",
      "x4             0.0279      0.007      3.856      0.000         0.014     0.042\n",
      "x5             0.0319      0.017      1.933      0.053        -0.000     0.064\n",
      "x6             0.0442      0.004     11.305      0.000         0.037     0.052\n",
      "x7            -0.0011      0.000     -7.872      0.000        -0.001    -0.001\n",
      "x8            -0.0005    6.4e-05     -7.297      0.000        -0.001    -0.000\n",
      "x9         -8.206e-06      0.000     -0.037      0.971        -0.000     0.000\n",
      "x10           -0.0008      0.000     -4.651      0.000        -0.001    -0.000\n",
      "x11           -0.0013      0.000     -3.259      0.001        -0.002    -0.001\n",
      "x12           -0.0012   9.34e-05    -13.189      0.000        -0.001    -0.001\n",
      "x13           -0.0015      0.000    -12.785      0.000        -0.002    -0.001\n",
      "==============================================================================\n",
      "Omnibus:                    11707.110   Durbin-Watson:                   1.267\n",
      "Prob(Omnibus):                  0.000   Jarque-Bera (JB):            17749.823\n",
      "Skew:                           0.340   Prob(JB):                         0.00\n",
      "Kurtosis:                       3.897   Cond. No.                         528.\n",
      "==============================================================================\n",
      "\n",
      "Warnings:\n",
      "[1] Standard Errors assume that the covariance matrix of the errors is correctly specified.\n"
     ]
    }
   ],
   "source": [
    "model_4 = sm.OLS(y,X)\n",
    "results_4 = model_4.fit()\n",
    "print results_4.summary()"
   ]
  },
  {
   "cell_type": "markdown",
   "metadata": {},
   "source": [
    "Interpretation: Across the board it is much harder to have no green to work with. However, this is especially so for the Primary Rough, the Bunker, and the Intermediate Rough. The Fringe intercept and coefficient are the non-significant ones in the table- indicating that the amount of green to work with does not make much of a difference when on the fringe (probably since one can play a low shot such a as a putt or tiny chip)."
   ]
  },
  {
   "cell_type": "markdown",
   "metadata": {},
   "source": [
    "## Train full model on lots of data and then calculate RSME improvement on test set"
   ]
  },
  {
   "cell_type": "code",
   "execution_count": 285,
   "metadata": {
    "collapsed": false
   },
   "outputs": [
    {
     "name": "stdout",
     "output_type": "stream",
     "text": [
      "2802\n",
      "2997\n",
      "3012\n",
      "2979\n",
      "2909\n",
      "2912\n",
      "2685\n",
      "2775\n",
      "2675\n",
      "2597\n",
      "2320\n",
      "2536\n",
      "2698\n",
      "2422\n",
      "5109678\n"
     ]
    }
   ],
   "source": [
    "##Now need whole holes as opposed to random shots for training data\n",
    "inds_chosen2 = {}\n",
    "for year in range(2003,2017):\n",
    "    cols = ['Course_#','Round','Hole','Permanent_Tournament_#']\n",
    "    data = pd.read_csv('data/%d.csv' % (year,))\n",
    "    if year==2003:\n",
    "        df = data.loc[0:2,:]\n",
    "    print len(data.drop_duplicates(cols))\n",
    "    inds_chosen2[year] = np.random.choice(range(len(data.drop_duplicates(cols))),size=1000,replace=False)\n",
    "    samp = set([tuple(i) for i in data.drop_duplicates(cols).iloc[inds_chosen2[year]][cols].values.astype(int).tolist()])\n",
    "    inds = [u for u,i in enumerate(data[cols].values.astype(int).tolist()) if tuple(i) in samp]\n",
    "    df = df.append(data.iloc[inds])\n",
    "    if year==2003:\n",
    "        df = df.drop(data.iloc[0:2].index,axis=0)\n",
    "df = df.reset_index()\n",
    "del data\n",
    "print len(df)"
   ]
  },
  {
   "cell_type": "code",
   "execution_count": null,
   "metadata": {
    "collapsed": true
   },
   "outputs": [],
   "source": [
    "df = df[df.Shot!=1]"
   ]
  },
  {
   "cell_type": "code",
   "execution_count": 292,
   "metadata": {
    "collapsed": true
   },
   "outputs": [],
   "source": [
    "df.insert(len(df.columns),'Cat',[convert_cats(c,d) for c,d in zip(df['From_Location(Scorer)'],\n",
    "                                                                  df['Distance_from_hole'])])"
   ]
  },
  {
   "cell_type": "code",
   "execution_count": 293,
   "metadata": {
    "collapsed": false
   },
   "outputs": [
    {
     "data": {
      "text/plain": [
       "Green                 2116655\n",
       "Fairway                867232\n",
       "Primary Rough          402677\n",
       "Bunker                 183888\n",
       "Intermediate Rough     119262\n",
       "Fringe                  88450\n",
       "Other                   24510\n",
       "Name: Cat, dtype: int64"
      ]
     },
     "execution_count": 293,
     "metadata": {},
     "output_type": "execute_result"
    }
   ],
   "source": [
    "df.Cat.value_counts()"
   ]
  },
  {
   "cell_type": "code",
   "execution_count": 294,
   "metadata": {
    "collapsed": true
   },
   "outputs": [],
   "source": [
    "##fit models\n",
    "overall_models = {}\n",
    "for cat in pd.unique(df.Cat):\n",
    "    overall_models[cat] = IsotonicRegression(out_of_bounds='clip')\n",
    "    overall_models[cat].fit(df[df.Cat==cat].Distance_from_hole,df[df.Cat==cat].Shots_taken_from_location)"
   ]
  },
  {
   "cell_type": "code",
   "execution_count": 295,
   "metadata": {
    "collapsed": true
   },
   "outputs": [],
   "source": [
    "df.insert(len(df.columns),'Difficulty_Baseline',[0]*len(df))\n",
    "for cat in pd.unique(df.Cat):\n",
    "    df.loc[df.Cat==cat,'Difficulty_Baseline'] = overall_models[cat].predict(df[df.Cat==cat].Distance_from_hole)"
   ]
  },
  {
   "cell_type": "code",
   "execution_count": 296,
   "metadata": {
    "collapsed": true
   },
   "outputs": [],
   "source": [
    "df.insert(len(df.columns),'Green_to_work_with',[0]*len(df))\n",
    "for tup,df_ in df.groupby(['Course_#','Hole','Round']):\n",
    "    green = df_[df_.Cat=='Green']\n",
    "    if len(green)<5:\n",
    "        continue\n",
    "    non_green = df_[df_.Cat!='Green']\n",
    "    df.loc[(df['Course_#']==tup[0]) \n",
    "           & (df['Hole']==tup[1]) \n",
    "           & (df['Round']==tup[2])\n",
    "           & (df.Cat!='Green'), 'Green_to_work_with'] \\\n",
    "                = get_green_to_work_with(green,zip(non_green.Started_at_X,non_green.Started_at_Y),slack=radians(15))"
   ]
  },
  {
   "cell_type": "code",
   "execution_count": 297,
   "metadata": {
    "collapsed": true
   },
   "outputs": [],
   "source": [
    "df.insert(len(df.columns),'Slope_and_angle',[0]*len(df))"
   ]
  },
  {
   "cell_type": "code",
   "execution_count": 298,
   "metadata": {
    "collapsed": true
   },
   "outputs": [],
   "source": [
    "residuals = df[df.Cat=='Green'].Difficulty_Baseline - df[df.Cat=='Green'].Shots_taken_from_location\n",
    "residuals = residuals.values\n",
    "y = residuals"
   ]
  },
  {
   "cell_type": "code",
   "execution_count": 299,
   "metadata": {
    "collapsed": true
   },
   "outputs": [],
   "source": [
    "X = np.column_stack([df[df.Cat=='Green'].Started_at_Z,\n",
    "                     df[df.Cat=='Green'].Distance_from_hole*df[df.Cat=='Green'].Started_at_Z])"
   ]
  },
  {
   "cell_type": "code",
   "execution_count": 300,
   "metadata": {
    "collapsed": true
   },
   "outputs": [],
   "source": [
    "X = sm.add_constant(X)"
   ]
  },
  {
   "cell_type": "code",
   "execution_count": 301,
   "metadata": {
    "collapsed": false
   },
   "outputs": [
    {
     "name": "stdout",
     "output_type": "stream",
     "text": [
      "                            OLS Regression Results                            \n",
      "==============================================================================\n",
      "Dep. Variable:                      y   R-squared:                       0.000\n",
      "Model:                            OLS   Adj. R-squared:                  0.000\n",
      "Method:                 Least Squares   F-statistic:                     257.1\n",
      "Date:                Mon, 05 Sep 2016   Prob (F-statistic):          2.39e-112\n",
      "Time:                        20:36:22   Log-Likelihood:            -7.1845e+05\n",
      "No. Observations:             2116655   AIC:                         1.437e+06\n",
      "Df Residuals:                 2116652   BIC:                         1.437e+06\n",
      "Df Model:                           2                                         \n",
      "Covariance Type:            nonrobust                                         \n",
      "==============================================================================\n",
      "                 coef    std err          t      P>|t|      [95.0% Conf. Int.]\n",
      "------------------------------------------------------------------------------\n",
      "const         -0.0003      0.000     -1.160      0.246        -0.001     0.000\n",
      "x1            -0.0344      0.002    -22.297      0.000        -0.037    -0.031\n",
      "x2             0.0006   3.45e-05     18.650      0.000         0.001     0.001\n",
      "==============================================================================\n",
      "Omnibus:                   175405.657   Durbin-Watson:                   1.423\n",
      "Prob(Omnibus):                  0.000   Jarque-Bera (JB):           840755.217\n",
      "Skew:                          -0.268   Prob(JB):                         0.00\n",
      "Kurtosis:                       6.041   Cond. No.                         109.\n",
      "==============================================================================\n",
      "\n",
      "Warnings:\n",
      "[1] Standard Errors assume that the covariance matrix of the errors is correctly specified.\n"
     ]
    }
   ],
   "source": [
    "putting_slope_model = sm.OLS(y,X)\n",
    "putting_slope_results = putting_slope_model.fit()\n",
    "print putting_slope_results.summary()"
   ]
  },
  {
   "cell_type": "code",
   "execution_count": 303,
   "metadata": {
    "collapsed": true
   },
   "outputs": [],
   "source": [
    "X_c = pd.get_dummies(df[df.Cat!='Green'].Cat).values\n",
    "X = df[df.Cat!='Green'].Green_to_work_with.values\n",
    "X = sm.add_constant(X)\n",
    "X = np.hstack([np.multiply(X_c,X[:,0][:,None]),np.multiply(X_c,X[:,1][:,None])])\n",
    "X = np.hstack([X,df[df.Cat!='Green'].Started_at_Z.values[:,None]])"
   ]
  },
  {
   "cell_type": "code",
   "execution_count": 302,
   "metadata": {
    "collapsed": true
   },
   "outputs": [],
   "source": [
    "residuals = df[df.Cat!='Green'].Difficulty_Baseline - df[df.Cat!='Green'].Shots_taken_from_location\n",
    "residuals = residuals.values\n",
    "y = residuals"
   ]
  },
  {
   "cell_type": "code",
   "execution_count": 304,
   "metadata": {
    "collapsed": false
   },
   "outputs": [
    {
     "name": "stdout",
     "output_type": "stream",
     "text": [
      "                            OLS Regression Results                            \n",
      "==============================================================================\n",
      "Dep. Variable:                      y   R-squared:                       0.001\n",
      "Model:                            OLS   Adj. R-squared:                  0.001\n",
      "Method:                 Least Squares   F-statistic:                     163.6\n",
      "Date:                Mon, 05 Sep 2016   Prob (F-statistic):               0.00\n",
      "Time:                        20:42:03   Log-Likelihood:            -1.4592e+06\n",
      "No. Observations:             1686019   AIC:                         2.918e+06\n",
      "Df Residuals:                 1686006   BIC:                         2.919e+06\n",
      "Df Model:                          12                                         \n",
      "Covariance Type:            nonrobust                                         \n",
      "==============================================================================\n",
      "                 coef    std err          t      P>|t|      [95.0% Conf. Int.]\n",
      "------------------------------------------------------------------------------\n",
      "x1            -0.0220      0.003     -7.114      0.000        -0.028    -0.016\n",
      "x2            -0.0076      0.002     -4.842      0.000        -0.011    -0.005\n",
      "x3            -0.0057      0.004     -1.260      0.208        -0.014     0.003\n",
      "x4            -0.0193      0.004     -4.841      0.000        -0.027    -0.011\n",
      "x5            -0.0356      0.009     -3.925      0.000        -0.053    -0.018\n",
      "x6            -0.0488      0.002    -22.415      0.000        -0.053    -0.045\n",
      "x7             0.0006   6.32e-05     10.043      0.000         0.001     0.001\n",
      "x8             0.0003   2.85e-05      9.071      0.000         0.000     0.000\n",
      "x9             0.0001   9.73e-05      1.427      0.154     -5.19e-05     0.000\n",
      "x10            0.0005   7.78e-05      6.405      0.000         0.000     0.001\n",
      "x11            0.0008      0.000      4.688      0.000         0.000     0.001\n",
      "x12            0.0011    4.2e-05     26.608      0.000         0.001     0.001\n",
      "x13            0.0016   5.16e-05     31.922      0.000         0.002     0.002\n",
      "==============================================================================\n",
      "Omnibus:                    59236.182   Durbin-Watson:                   1.300\n",
      "Prob(Omnibus):                  0.000   Jarque-Bera (JB):            91174.133\n",
      "Skew:                          -0.338   Prob(JB):                         0.00\n",
      "Kurtosis:                       3.917   Cond. No.                         805.\n",
      "==============================================================================\n",
      "\n",
      "Warnings:\n",
      "[1] Standard Errors assume that the covariance matrix of the errors is correctly specified.\n"
     ]
    }
   ],
   "source": [
    "non_putting_model = sm.OLS(y,X)\n",
    "non_putting_results = non_putting_model.fit()\n",
    "print non_putting_results.summary()"
   ]
  },
  {
   "cell_type": "code",
   "execution_count": 306,
   "metadata": {
    "collapsed": false
   },
   "outputs": [
    {
     "name": "stdout",
     "output_type": "stream",
     "text": [
      "5122930\n"
     ]
    }
   ],
   "source": [
    "##RSME on test set\n",
    "for year in range(2003,2017):\n",
    "    cols = ['Course_#','Round','Hole','Permanent_Tournament_#']\n",
    "    data = pd.read_csv('data/%d.csv' % (year,))\n",
    "    if year==2003:\n",
    "        df = data.loc[0:2,:]\n",
    "    inds_available = list(set(range(len(data.drop_duplicates(cols)))) - set(inds_chosen2[year]))\n",
    "    test_inds = np.random.choice(inds_available,size=1000,replace=False)\n",
    "    samp = set([tuple(i) for i in data.drop_duplicates(cols).iloc[test_inds][cols].values.astype(int).tolist()])\n",
    "    inds = [u for u,i in enumerate(data[cols].values.astype(int).tolist()) if tuple(i) in samp]\n",
    "    df = df.append(data.iloc[inds])\n",
    "    if year==2003:\n",
    "        df = df.drop(data.iloc[0:2].index,axis=0)\n",
    "df = df.reset_index()\n",
    "del data\n",
    "print len(df)"
   ]
  },
  {
   "cell_type": "code",
   "execution_count": 307,
   "metadata": {
    "collapsed": true
   },
   "outputs": [],
   "source": [
    "df = df[df.Shot!=1]"
   ]
  },
  {
   "cell_type": "code",
   "execution_count": 308,
   "metadata": {
    "collapsed": true
   },
   "outputs": [],
   "source": [
    "df.insert(len(df.columns),'Cat',[convert_cats(c,d) for c,d in zip(df['From_Location(Scorer)'],\n",
    "                                                                  df['Distance_from_hole'])])"
   ]
  },
  {
   "cell_type": "code",
   "execution_count": 309,
   "metadata": {
    "collapsed": true
   },
   "outputs": [],
   "source": [
    "df.insert(len(df.columns),'Difficulty_Baseline',[0]*len(df))\n",
    "for cat in pd.unique(df.Cat):\n",
    "    df.loc[df.Cat==cat,'Difficulty_Baseline'] = overall_models[cat].predict(df[df.Cat==cat].Distance_from_hole)"
   ]
  },
  {
   "cell_type": "code",
   "execution_count": 310,
   "metadata": {
    "collapsed": true
   },
   "outputs": [],
   "source": [
    "df.insert(len(df.columns),'Green_to_work_with',[0]*len(df))\n",
    "for tup,df_ in df.groupby(['Course_#','Hole','Round']):\n",
    "    green = df_[df_.Cat=='Green']\n",
    "    if len(green)<5:\n",
    "        continue\n",
    "    non_green = df_[df_.Cat!='Green']\n",
    "    df.loc[(df['Course_#']==tup[0]) \n",
    "           & (df['Hole']==tup[1]) \n",
    "           & (df['Round']==tup[2])\n",
    "           & (df.Cat!='Green'), 'Green_to_work_with'] \\\n",
    "                = get_green_to_work_with(green,zip(non_green.Started_at_X,non_green.Started_at_Y),slack=radians(15))"
   ]
  },
  {
   "cell_type": "code",
   "execution_count": 311,
   "metadata": {
    "collapsed": true
   },
   "outputs": [],
   "source": [
    "df.insert(len(df.columns),'Resid_prediction',[0]*len(df))"
   ]
  },
  {
   "cell_type": "code",
   "execution_count": 313,
   "metadata": {
    "collapsed": true
   },
   "outputs": [],
   "source": [
    "X = np.column_stack([df[df.Cat=='Green'].Started_at_Z,\n",
    "                     df[df.Cat=='Green'].Distance_from_hole*df[df.Cat=='Green'].Started_at_Z])\n",
    "X = sm.add_constant(X)"
   ]
  },
  {
   "cell_type": "code",
   "execution_count": 314,
   "metadata": {
    "collapsed": true
   },
   "outputs": [],
   "source": [
    "df.loc[df.Cat=='Green','Resid_prediction'] = putting_slope_results.predict(X)"
   ]
  },
  {
   "cell_type": "code",
   "execution_count": 320,
   "metadata": {
    "collapsed": true
   },
   "outputs": [],
   "source": [
    "X_c = pd.get_dummies(df[df.Cat!='Green'].Cat).values\n",
    "X = df[df.Cat!='Green'].Green_to_work_with.values\n",
    "X = sm.add_constant(X)\n",
    "X = np.hstack([np.multiply(X_c,X[:,0][:,None]),np.multiply(X_c,X[:,1][:,None])])\n",
    "X = np.hstack([X,df[df.Cat!='Green'].Started_at_Z.values[:,None]])"
   ]
  },
  {
   "cell_type": "code",
   "execution_count": 321,
   "metadata": {
    "collapsed": true
   },
   "outputs": [],
   "source": [
    "df.loc[df.Cat!='Green','Resid_prediction'] = non_putting_results.predict(X)"
   ]
  },
  {
   "cell_type": "code",
   "execution_count": 326,
   "metadata": {
    "collapsed": false
   },
   "outputs": [
    {
     "name": "stdout",
     "output_type": "stream",
     "text": [
      "count    1686710.000000\n",
      "mean           0.000629\n",
      "std            0.019876\n",
      "min           -0.137986\n",
      "25%           -0.008385\n",
      "50%            0.000826\n",
      "75%            0.009766\n",
      "max            0.182941\n",
      "Name: Resid_prediction, dtype: float64\n"
     ]
    },
    {
     "data": {
      "image/png": "[encoded data removed]",
      "text/plain": [
       "<matplotlib.figure.Figure at 0x7feab1b32710>"
      ]
     },
     "metadata": {},
     "output_type": "display_data"
    }
   ],
   "source": [
    "print df[df.Cat!='Green'].Resid_prediction.describe()\n",
    "plt.hist(df[df.Cat!='Green'].Resid_prediction.values,50);"
   ]
  },
  {
   "cell_type": "code",
   "execution_count": 328,
   "metadata": {
    "collapsed": false
   },
   "outputs": [
    {
     "name": "stdout",
     "output_type": "stream",
     "text": [
      "Intermediate Rough 0.549767405276 0.549607501093 0.000290857881902\n",
      "Green 0.339635079764 0.339585105841 0.000147140051134\n",
      "Primary Rough 0.603420289482 0.602779579875 0.00106179659192\n",
      "Fairway 0.563065912981 0.562960572797 0.00018708322101\n",
      "Bunker 0.610542320215 0.61018236541 0.000589565691608\n",
      "Fringe 0.427261159131 0.427223735941 8.75885602657e-05\n",
      "Other 0.710707903337 0.710554704315 0.00021555834789\n"
     ]
    }
   ],
   "source": [
    "for cat in pd.unique(df.Cat):\n",
    "    RSME_baseline = np.mean((df[df.Cat==cat].Shots_taken_from_location - \n",
    "                             df[df.Cat==cat].Difficulty_Baseline)**2)**.5\n",
    "    RSME_plus = np.mean((df[df.Cat==cat].Shots_taken_from_location - \n",
    "         (df[df.Cat==cat].Difficulty_Baseline - df[df.Cat==cat].Resid_prediction))**2)**.5\n",
    "    improvement = (RSME_baseline - RSME_plus)/RSME_baseline\n",
    "    print cat, RSME_baseline, RSME_plus,improvement"
   ]
  },
  {
   "cell_type": "code",
   "execution_count": 345,
   "metadata": {
    "collapsed": false
   },
   "outputs": [
    {
     "data": {
      "text/html": [
       "<div>\n",
       "<table border=\"1\" class=\"dataframe\">\n",
       "  <thead>\n",
       "    <tr style=\"text-align: right;\">\n",
       "      <th></th>\n",
       "      <th>Shots_taken_from_location</th>\n",
       "      <th>Difficulty_Baseline</th>\n",
       "      <th>Cat</th>\n",
       "      <th>Resid_prediction</th>\n",
       "      <th>Started_at_Z</th>\n",
       "      <th>Green_to_work_with</th>\n",
       "    </tr>\n",
       "  </thead>\n",
       "  <tbody>\n",
       "    <tr>\n",
       "      <th>97106</th>\n",
       "      <td>3</td>\n",
       "      <td>3.088193</td>\n",
       "      <td>Intermediate Rough</td>\n",
       "      <td>0.022772</td>\n",
       "      <td>2.293</td>\n",
       "      <td>76.847099</td>\n",
       "    </tr>\n",
       "    <tr>\n",
       "      <th>97107</th>\n",
       "      <td>2</td>\n",
       "      <td>1.901782</td>\n",
       "      <td>Green</td>\n",
       "      <td>0.017898</td>\n",
       "      <td>-0.898</td>\n",
       "      <td>0.000000</td>\n",
       "    </tr>\n",
       "    <tr>\n",
       "      <th>97108</th>\n",
       "      <td>2</td>\n",
       "      <td>3.215818</td>\n",
       "      <td>Primary Rough</td>\n",
       "      <td>0.000791</td>\n",
       "      <td>-4.966</td>\n",
       "      <td>51.760889</td>\n",
       "    </tr>\n",
       "    <tr>\n",
       "      <th>97109</th>\n",
       "      <td>2</td>\n",
       "      <td>2.044434</td>\n",
       "      <td>Green</td>\n",
       "      <td>0.012433</td>\n",
       "      <td>-1.395</td>\n",
       "      <td>0.000000</td>\n",
       "    </tr>\n",
       "    <tr>\n",
       "      <th>97110</th>\n",
       "      <td>3</td>\n",
       "      <td>3.026131</td>\n",
       "      <td>Fairway</td>\n",
       "      <td>-0.002442</td>\n",
       "      <td>-6.055</td>\n",
       "      <td>58.475965</td>\n",
       "    </tr>\n",
       "    <tr>\n",
       "      <th>97111</th>\n",
       "      <td>3</td>\n",
       "      <td>2.922397</td>\n",
       "      <td>Fairway</td>\n",
       "      <td>-0.006577</td>\n",
       "      <td>-9.334</td>\n",
       "      <td>63.372360</td>\n",
       "    </tr>\n",
       "    <tr>\n",
       "      <th>97112</th>\n",
       "      <td>3</td>\n",
       "      <td>3.081544</td>\n",
       "      <td>Fairway</td>\n",
       "      <td>0.004311</td>\n",
       "      <td>-5.055</td>\n",
       "      <td>78.192199</td>\n",
       "    </tr>\n",
       "    <tr>\n",
       "      <th>97113</th>\n",
       "      <td>2</td>\n",
       "      <td>2.509823</td>\n",
       "      <td>Bunker</td>\n",
       "      <td>-0.010631</td>\n",
       "      <td>-1.703</td>\n",
       "      <td>22.382596</td>\n",
       "    </tr>\n",
       "    <tr>\n",
       "      <th>97114</th>\n",
       "      <td>3</td>\n",
       "      <td>2.955528</td>\n",
       "      <td>Fairway</td>\n",
       "      <td>0.004112</td>\n",
       "      <td>-3.175</td>\n",
       "      <td>65.460941</td>\n",
       "    </tr>\n",
       "    <tr>\n",
       "      <th>97115</th>\n",
       "      <td>3</td>\n",
       "      <td>2.835379</td>\n",
       "      <td>Fairway</td>\n",
       "      <td>0.032431</td>\n",
       "      <td>19.596</td>\n",
       "      <td>29.918603</td>\n",
       "    </tr>\n",
       "    <tr>\n",
       "      <th>97116</th>\n",
       "      <td>3</td>\n",
       "      <td>2.835379</td>\n",
       "      <td>Fairway</td>\n",
       "      <td>0.014686</td>\n",
       "      <td>2.043</td>\n",
       "      <td>73.091545</td>\n",
       "    </tr>\n",
       "    <tr>\n",
       "      <th>97117</th>\n",
       "      <td>2</td>\n",
       "      <td>2.024306</td>\n",
       "      <td>Green</td>\n",
       "      <td>-0.004081</td>\n",
       "      <td>0.340</td>\n",
       "      <td>0.000000</td>\n",
       "    </tr>\n",
       "    <tr>\n",
       "      <th>97118</th>\n",
       "      <td>3</td>\n",
       "      <td>2.378773</td>\n",
       "      <td>Fairway</td>\n",
       "      <td>0.002882</td>\n",
       "      <td>-1.221</td>\n",
       "      <td>48.273231</td>\n",
       "    </tr>\n",
       "    <tr>\n",
       "      <th>97119</th>\n",
       "      <td>2</td>\n",
       "      <td>2.509823</td>\n",
       "      <td>Bunker</td>\n",
       "      <td>0.005184</td>\n",
       "      <td>-1.233</td>\n",
       "      <td>46.079661</td>\n",
       "    </tr>\n",
       "    <tr>\n",
       "      <th>97120</th>\n",
       "      <td>3</td>\n",
       "      <td>2.806227</td>\n",
       "      <td>Fairway</td>\n",
       "      <td>-0.002315</td>\n",
       "      <td>-6.727</td>\n",
       "      <td>63.241430</td>\n",
       "    </tr>\n",
       "    <tr>\n",
       "      <th>97121</th>\n",
       "      <td>3</td>\n",
       "      <td>3.162768</td>\n",
       "      <td>Primary Rough</td>\n",
       "      <td>-0.001821</td>\n",
       "      <td>-3.516</td>\n",
       "      <td>47.281206</td>\n",
       "    </tr>\n",
       "    <tr>\n",
       "      <th>97122</th>\n",
       "      <td>3</td>\n",
       "      <td>3.032393</td>\n",
       "      <td>Fairway</td>\n",
       "      <td>0.009038</td>\n",
       "      <td>-2.381</td>\n",
       "      <td>79.429833</td>\n",
       "    </tr>\n",
       "    <tr>\n",
       "      <th>97123</th>\n",
       "      <td>3</td>\n",
       "      <td>3.165030</td>\n",
       "      <td>Fairway</td>\n",
       "      <td>0.008680</td>\n",
       "      <td>-2.598</td>\n",
       "      <td>79.429833</td>\n",
       "    </tr>\n",
       "    <tr>\n",
       "      <th>97124</th>\n",
       "      <td>2</td>\n",
       "      <td>2.876363</td>\n",
       "      <td>Fairway</td>\n",
       "      <td>0.011968</td>\n",
       "      <td>9.854</td>\n",
       "      <td>12.886424</td>\n",
       "    </tr>\n",
       "    <tr>\n",
       "      <th>97125</th>\n",
       "      <td>2</td>\n",
       "      <td>2.890643</td>\n",
       "      <td>Fairway</td>\n",
       "      <td>0.010824</td>\n",
       "      <td>6.026</td>\n",
       "      <td>32.830050</td>\n",
       "    </tr>\n",
       "    <tr>\n",
       "      <th>97126</th>\n",
       "      <td>2</td>\n",
       "      <td>2.448803</td>\n",
       "      <td>Bunker</td>\n",
       "      <td>0.011747</td>\n",
       "      <td>2.167</td>\n",
       "      <td>47.592770</td>\n",
       "    </tr>\n",
       "    <tr>\n",
       "      <th>97127</th>\n",
       "      <td>2</td>\n",
       "      <td>2.044434</td>\n",
       "      <td>Green</td>\n",
       "      <td>0.006917</td>\n",
       "      <td>-0.761</td>\n",
       "      <td>0.000000</td>\n",
       "    </tr>\n",
       "    <tr>\n",
       "      <th>97128</th>\n",
       "      <td>3</td>\n",
       "      <td>2.833889</td>\n",
       "      <td>Fairway</td>\n",
       "      <td>0.003010</td>\n",
       "      <td>-0.564</td>\n",
       "      <td>44.589612</td>\n",
       "    </tr>\n",
       "    <tr>\n",
       "      <th>97129</th>\n",
       "      <td>3</td>\n",
       "      <td>2.925073</td>\n",
       "      <td>Fairway</td>\n",
       "      <td>0.004181</td>\n",
       "      <td>-3.956</td>\n",
       "      <td>70.694715</td>\n",
       "    </tr>\n",
       "    <tr>\n",
       "      <th>97130</th>\n",
       "      <td>3</td>\n",
       "      <td>3.148371</td>\n",
       "      <td>Fairway</td>\n",
       "      <td>0.011407</td>\n",
       "      <td>-0.567</td>\n",
       "      <td>77.036575</td>\n",
       "    </tr>\n",
       "    <tr>\n",
       "      <th>97131</th>\n",
       "      <td>2</td>\n",
       "      <td>2.506430</td>\n",
       "      <td>Primary Rough</td>\n",
       "      <td>-0.040592</td>\n",
       "      <td>-3.332</td>\n",
       "      <td>12.274705</td>\n",
       "    </tr>\n",
       "    <tr>\n",
       "      <th>97132</th>\n",
       "      <td>3</td>\n",
       "      <td>2.878644</td>\n",
       "      <td>Fairway</td>\n",
       "      <td>0.009098</td>\n",
       "      <td>-0.833</td>\n",
       "      <td>69.813393</td>\n",
       "    </tr>\n",
       "    <tr>\n",
       "      <th>97133</th>\n",
       "      <td>3</td>\n",
       "      <td>2.890643</td>\n",
       "      <td>Fairway</td>\n",
       "      <td>0.024923</td>\n",
       "      <td>11.959</td>\n",
       "      <td>49.522834</td>\n",
       "    </tr>\n",
       "    <tr>\n",
       "      <th>97134</th>\n",
       "      <td>3</td>\n",
       "      <td>3.081544</td>\n",
       "      <td>Fairway</td>\n",
       "      <td>0.011069</td>\n",
       "      <td>-0.772</td>\n",
       "      <td>77.036575</td>\n",
       "    </tr>\n",
       "    <tr>\n",
       "      <th>97135</th>\n",
       "      <td>2</td>\n",
       "      <td>2.617314</td>\n",
       "      <td>Fairway</td>\n",
       "      <td>0.012556</td>\n",
       "      <td>1.008</td>\n",
       "      <td>71.451872</td>\n",
       "    </tr>\n",
       "  </tbody>\n",
       "</table>\n",
       "</div>"
      ],
      "text/plain": [
       "       Shots_taken_from_location  Difficulty_Baseline                 Cat  \\\n",
       "97106                          3             3.088193  Intermediate Rough   \n",
       "97107                          2             1.901782               Green   \n",
       "97108                          2             3.215818       Primary Rough   \n",
       "97109                          2             2.044434               Green   \n",
       "97110                          3             3.026131             Fairway   \n",
       "97111                          3             2.922397             Fairway   \n",
       "97112                          3             3.081544             Fairway   \n",
       "97113                          2             2.509823              Bunker   \n",
       "97114                          3             2.955528             Fairway   \n",
       "97115                          3             2.835379             Fairway   \n",
       "97116                          3             2.835379             Fairway   \n",
       "97117                          2             2.024306               Green   \n",
       "97118                          3             2.378773             Fairway   \n",
       "97119                          2             2.509823              Bunker   \n",
       "97120                          3             2.806227             Fairway   \n",
       "97121                          3             3.162768       Primary Rough   \n",
       "97122                          3             3.032393             Fairway   \n",
       "97123                          3             3.165030             Fairway   \n",
       "97124                          2             2.876363             Fairway   \n",
       "97125                          2             2.890643             Fairway   \n",
       "97126                          2             2.448803              Bunker   \n",
       "97127                          2             2.044434               Green   \n",
       "97128                          3             2.833889             Fairway   \n",
       "97129                          3             2.925073             Fairway   \n",
       "97130                          3             3.148371             Fairway   \n",
       "97131                          2             2.506430       Primary Rough   \n",
       "97132                          3             2.878644             Fairway   \n",
       "97133                          3             2.890643             Fairway   \n",
       "97134                          3             3.081544             Fairway   \n",
       "97135                          2             2.617314             Fairway   \n",
       "\n",
       "       Resid_prediction  Started_at_Z  Green_to_work_with  \n",
       "97106          0.022772         2.293           76.847099  \n",
       "97107          0.017898        -0.898            0.000000  \n",
       "97108          0.000791        -4.966           51.760889  \n",
       "97109          0.012433        -1.395            0.000000  \n",
       "97110         -0.002442        -6.055           58.475965  \n",
       "97111         -0.006577        -9.334           63.372360  \n",
       "97112          0.004311        -5.055           78.192199  \n",
       "97113         -0.010631        -1.703           22.382596  \n",
       "97114          0.004112        -3.175           65.460941  \n",
       "97115          0.032431        19.596           29.918603  \n",
       "97116          0.014686         2.043           73.091545  \n",
       "97117         -0.004081         0.340            0.000000  \n",
       "97118          0.002882        -1.221           48.273231  \n",
       "97119          0.005184        -1.233           46.079661  \n",
       "97120         -0.002315        -6.727           63.241430  \n",
       "97121         -0.001821        -3.516           47.281206  \n",
       "97122          0.009038        -2.381           79.429833  \n",
       "97123          0.008680        -2.598           79.429833  \n",
       "97124          0.011968         9.854           12.886424  \n",
       "97125          0.010824         6.026           32.830050  \n",
       "97126          0.011747         2.167           47.592770  \n",
       "97127          0.006917        -0.761            0.000000  \n",
       "97128          0.003010        -0.564           44.589612  \n",
       "97129          0.004181        -3.956           70.694715  \n",
       "97130          0.011407        -0.567           77.036575  \n",
       "97131         -0.040592        -3.332           12.274705  \n",
       "97132          0.009098        -0.833           69.813393  \n",
       "97133          0.024923        11.959           49.522834  \n",
       "97134          0.011069        -0.772           77.036575  \n",
       "97135          0.012556         1.008           71.451872  "
      ]
     },
     "execution_count": 345,
     "metadata": {},
     "output_type": "execute_result"
    }
   ],
   "source": [
    "df[['Shots_taken_from_location','Difficulty_Baseline','Cat','Resid_prediction','Started_at_Z','Green_to_work_with']].head(30)"
   ]
  },
  {
   "cell_type": "code",
   "execution_count": 344,
   "metadata": {
    "collapsed": false
   },
   "outputs": [
    {
     "data": {
      "text/plain": [
       "0.4842092034577245"
      ]
     },
     "execution_count": 344,
     "metadata": {},
     "output_type": "execute_result"
    }
   ],
   "source": [
    "(((df.Difficulty_Baseline-df.Resid_prediction)-df.Shots_taken_from_location)**2 <\\\n",
    "(df.Difficulty_Baseline-df.Shots_taken_from_location)**2).sum()/float(len(df))"
   ]
  },
  {
   "cell_type": "code",
   "execution_count": null,
   "metadata": {
    "collapsed": true
   },
   "outputs": [],
   "source": []
  }
 ],
 "metadata": {
  "kernelspec": {
   "display_name": "Python 2",
   "language": "python",
   "name": "python2"
  },
  "language_info": {
   "codemirror_mode": {
    "name": "ipython",
    "version": 2
   },
   "file_extension": ".py",
   "mimetype": "text/x-python",
   "name": "python",
   "nbconvert_exporter": "python",
   "pygments_lexer": "ipython2",
   "version": "2.7.12"
  }
 },
 "nbformat": 4,
 "nbformat_minor": 0
}
