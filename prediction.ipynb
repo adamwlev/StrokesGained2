{
 "cells": [
  {
   "cell_type": "code",
   "execution_count": 55,
   "metadata": {
    "collapsed": false
   },
   "outputs": [
    {
     "name": "stdout",
     "output_type": "stream",
     "text": [
      "count    2.970000e+02\n",
      "mean     1.495250e-18\n",
      "std      3.023036e-17\n",
      "min     -1.110223e-16\n",
      "25%      0.000000e+00\n",
      "50%      0.000000e+00\n",
      "75%      0.000000e+00\n",
      "max      4.440892e-16\n",
      "dtype: float64\n",
      "Primary Rough count    9342.000000\n",
      "mean       -0.133564\n",
      "std         0.406089\n",
      "min        -1.887865\n",
      "25%        -0.395547\n",
      "50%        -0.130435\n",
      "75%         0.090909\n",
      "max         1.961988\n",
      "dtype: float64\n",
      "Intermediate Rough count    2822.000000\n",
      "mean       -0.004741\n",
      "std         0.378179\n",
      "min        -1.415584\n",
      "25%        -0.222222\n",
      "50%        -0.021463\n",
      "75%         0.177596\n",
      "max         2.000000\n",
      "dtype: float64\n",
      "Other count    684.000000\n",
      "mean      -0.304710\n",
      "std        0.456497\n",
      "min       -1.540075\n",
      "25%       -0.595333\n",
      "50%       -0.305733\n",
      "75%       -0.038062\n",
      "max        2.048066\n",
      "dtype: float64\n",
      "Green count    46913.000000\n",
      "mean         0.016909\n",
      "std          0.337444\n",
      "min         -1.333333\n",
      "25%         -0.054054\n",
      "50%          0.000000\n",
      "75%          0.083333\n",
      "max          1.977401\n",
      "dtype: float64\n",
      "Fairway count    18909.000000\n",
      "mean         0.090977\n",
      "std          0.361662\n",
      "min         -1.250000\n",
      "25%         -0.126692\n",
      "50%          0.057143\n",
      "75%          0.285714\n",
      "max          2.200000\n",
      "dtype: float64\n",
      "Bunker count    4010.000000\n",
      "mean       -0.210411\n",
      "std         0.449560\n",
      "min        -1.640902\n",
      "25%        -0.523810\n",
      "50%        -0.208333\n",
      "75%         0.083333\n",
      "max         1.818182\n",
      "dtype: float64\n",
      "Fringe count    1748.000000\n",
      "mean        0.022406\n",
      "std         0.357280\n",
      "min        -1.000000\n",
      "25%        -0.181818\n",
      "50%        -0.034483\n",
      "75%         0.128917\n",
      "max         1.500000\n",
      "dtype: float64\n",
      "Tee Box count    28852.000000\n",
      "mean        -0.008298\n",
      "std          0.251237\n",
      "min         -1.929607\n",
      "25%         -0.114794\n",
      "50%          0.004812\n",
      "75%          0.105983\n",
      "max          1.621622\n",
      "dtype: float64\n",
      "Uphill count    24713.000000\n",
      "mean         0.024517\n",
      "std          0.331466\n",
      "min         -1.300000\n",
      "25%         -0.028571\n",
      "50%          0.000000\n",
      "75%          0.100000\n",
      "max          1.977401\n",
      "dtype: float64\n",
      "Downhill count    22200.000000\n",
      "mean         0.008440\n",
      "std          0.343785\n",
      "min         -1.333333\n",
      "25%         -0.076923\n",
      "50%          0.000000\n",
      "75%          0.069767\n",
      "max          1.708333\n",
      "dtype: float64\n"
     ]
    }
   ],
   "source": [
    "import pandas as pd\n",
    "import numpy as np\n",
    "import itertools\n",
    "from sklearn.isotonic import IsotonicRegression\n",
    "\n",
    "\n",
    "data = pd.read_csv('data/2015.csv')\n",
    "def convert_cats(cat):\n",
    "    if cat in ['Green Side Bunker','Fairway Bunker']:\n",
    "        return 'Bunker'\n",
    "    elif cat not in ['Green','Fairway','Fringe','Primary Rough','Intermediate Rough','Tee Box']:\n",
    "        return 'Other'\n",
    "    else:\n",
    "        return cat\n",
    "\n",
    "if 'Cat' in data.columns:\n",
    "    data = data.drop('Cat',axis=1)\n",
    "data.insert(len(data.columns),'Cat',[convert_cats(c) for c in data['From_Location(Scorer)'].tolist()])\n",
    "\n",
    "\n",
    "uCRHtps = list(itertools.product(pd.unique(data['Course_#']),pd.unique(data.Round),pd.unique(data.Hole)))\n",
    "\n",
    "data = data[['Course_#','Round','Hole','Player_#','Hole_Score','Shot','Cat','Shots_taken_from_location',\n",
    "            'Distance_from_hole','Started_at_X','Started_at_Y','Went_to_X','Went_to_Y','Started_at_Z','Went_to_Z']].values\n",
    "\n",
    "\n",
    "\n",
    "errors = []\n",
    "strokes_gained_per_cat = {'Bunker':[],'Other':[],'Green':[],'Fairway':[],'Fringe':[],'Primary Rough':[],\n",
    "                            'Intermediate Rough':[], 'Tee Box':[]}\n",
    "strokes_gained_putts = {'Uphill':[],'Downhill':[]}\n",
    "\n",
    "for crhtup in uCRHtps[0:300]:\n",
    "    subset = data[np.where((data[:,0]==crhtup[0]) & (data[:,1]==crhtup[1]) & (data[:,2]==crhtup[2]))]\n",
    "    if subset.shape[0]<50:\n",
    "        continue\n",
    "    players = pd.unique(subset[:,3])\n",
    "    scores = {player:int(subset[np.where(subset[:,3]==player)][0,4]) for player in players}\n",
    "    ave_score = np.mean(np.array([scores.get(player) for player in players]))\n",
    "\n",
    "    for player in players:\n",
    "        sub = subset[np.where(subset[:,3]!=player)]\n",
    "        model = IsotonicRegression(out_of_bounds='clip')\n",
    "        model.fit(sub[:,8],sub[:,7])\n",
    "\n",
    "        tot_strokes_gained = ave_score - scores[player]\n",
    "\n",
    "        model_predicted_strokes_gained = 0\n",
    "\n",
    "        sub = subset[np.where(subset[:,3]==player)]\n",
    "\n",
    "        for row_ind in range(2,scores[player]+1):\n",
    "            if row_ind==2:\n",
    "                model_predicted_strokes_gained += ave_score - model.predict([sub[np.where(sub[:,5]==row_ind)][0,8]])[0] - 1\n",
    "                strokes_gained_per_cat[sub[np.where(sub[:,5]==row_ind-1)][0,6]].append(ave_score - model.predict([sub[np.where(sub[:,5]==row_ind)][0,8]])[0] - 1)\n",
    "            else:\n",
    "                model_predicted_strokes_gained += model.predict([sub[np.where(sub[:,5]==row_ind-1)][0,8]])[0] - model.predict([sub[np.where(sub[:,5]==row_ind)][0,8]])[0] - 1\n",
    "                strokes_gained_per_cat[sub[np.where(sub[:,5]==row_ind-1)][0,6]].append(model.predict([sub[np.where(sub[:,5]==row_ind-1)][0,8]])[0] - model.predict([sub[np.where(sub[:,5]==row_ind)][0,8]])[0] - 1)\n",
    "                if sub[np.where(sub[:,5]==row_ind-1)][0,6]=='Green':\n",
    "                    if sub[np.where(sub[:,5]==row_ind-1)][0,14] - sub[np.where(sub[:,5]==row_ind-1)][0,13] > 0:\n",
    "                        strokes_gained_putts['Uphill'].append(model.predict([sub[np.where(sub[:,5]==row_ind-1)][0,8]])[0] - model.predict([sub[np.where(sub[:,5]==row_ind)][0,8]])[0] - 1)\n",
    "                    else:\n",
    "                        strokes_gained_putts['Downhill'].append(model.predict([sub[np.where(sub[:,5]==row_ind-1)][0,8]])[0] - model.predict([sub[np.where(sub[:,5]==row_ind)][0,8]])[0] - 1)\n",
    "        model_predicted_strokes_gained += model.predict([sub[np.where(sub[:,5]==scores[player])][0,8]])[0] - 1\n",
    "        strokes_gained_per_cat[sub[np.where(sub[:,5]==scores[player])][0,6]].append(model.predict([sub[np.where(sub[:,5]==scores[player])][0,8]])[0] - 1)\n",
    "        if sub[np.where(sub[:,5]==scores[player])][0,6]=='Green':\n",
    "            if sub[np.where(sub[:,5]==scores[player])][0,14] - sub[np.where(sub[:,5]==scores[player])][0,13] > 0:\n",
    "                strokes_gained_putts['Uphill'].append(model.predict([sub[np.where(sub[:,5]==scores[player])][0,8]])[0] - 1)\n",
    "            else:\n",
    "                strokes_gained_putts['Downhill'].append(model.predict([sub[np.where(sub[:,5]==scores[player])][0,8]])[0] - 1)\n",
    "                \n",
    "    errors.append((model_predicted_strokes_gained - tot_strokes_gained))\n",
    "\n",
    "\n",
    "print pd.Series(errors).describe()\n",
    "for cat in strokes_gained_per_cat:\n",
    "    print cat, pd.Series(strokes_gained_per_cat[cat]).describe()\n",
    "for slope in strokes_gained_putts:\n",
    "    print slope, pd.Series(strokes_gained_putts[slope]).describe()"
   ]
  },
  {
   "cell_type": "code",
   "execution_count": 4,
   "metadata": {
    "collapsed": true
   },
   "outputs": [],
   "source": [
    "import matplotlib.pyplot as plt\n",
    "import matplotlib.mlab as mlab\n",
    "%matplotlib inline"
   ]
  },
  {
   "cell_type": "code",
   "execution_count": 25,
   "metadata": {
    "collapsed": true
   },
   "outputs": [],
   "source": [
    "from scipy.stats import probplot\n",
    "import scipy.stats"
   ]
  },
  {
   "cell_type": "code",
   "execution_count": 20,
   "metadata": {
    "collapsed": false
   },
   "outputs": [
    {
     "data": {
      "text/plain": [
       "((array([-1.43017034, -1.36241765, -1.32553687, ...,  1.35592799,\n",
       "          1.39280877,  1.46056145]),\n",
       "  array([-1.625     , -1.61007463, -1.375     , ...,  1.70833333,\n",
       "          1.75      ,  1.97740113])),\n",
       " (0.94315565560002335, 0.00086378158004732711, 0.94310378716969379))"
      ]
     },
     "execution_count": 20,
     "metadata": {},
     "output_type": "execute_result"
    },
    {
     "data": {
      "image/png": "[encoded data removed]",
      "text/plain": [
       "<matplotlib.figure.Figure at 0x1315c5f10>"
      ]
     },
     "metadata": {},
     "output_type": "display_data"
    }
   ],
   "source": [
    "fig,ax = plt.subplots(figsize=(20, 10))\n",
    "probplot(strokes_gained_per_cat['Green'],(np.mean(strokes_gained_per_cat['Green']), np.std(strokes_gained_per_cat['Green'])),plot=plt)"
   ]
  },
  {
   "cell_type": "code",
   "execution_count": 26,
   "metadata": {
    "collapsed": true
   },
   "outputs": [],
   "source": [
    "rv = scipy.stats.laplace(loc=np.mean(strokes_gained_per_cat['Green']), scale=(np.var(strokes_gained_per_cat['Green'])/2)**.5)"
   ]
  },
  {
   "cell_type": "code",
   "execution_count": 39,
   "metadata": {
    "collapsed": false
   },
   "outputs": [
    {
     "data": {
      "image/png": "[encoded data removed]",
      "text/plain": [
       "<matplotlib.figure.Figure at 0x136eeca50>"
      ]
     },
     "metadata": {},
     "output_type": "display_data"
    }
   ],
   "source": [
    "fig,ax = plt.subplots(figsize=(20, 10))\n",
    "plt.hist(strokes_gained_per_cat['Primary Rough'],bins=200)\n",
    "x = np.linspace(min(strokes_gained_per_cat['Primary Rough']),max(strokes_gained_per_cat['Primary Rough']),len(strokes_gained_per_cat['Primary Rough']))\n",
    "#plt.plot(x,10000*rv.pdf(x))"
   ]
  },
  {
   "cell_type": "code",
   "execution_count": 42,
   "metadata": {
    "collapsed": true
   },
   "outputs": [],
   "source": [
    "def hypo_test_above_below_zero(sample,its):\n",
    "    above_0,below_0 = 0,0\n",
    "    for _ in xrange(its):\n",
    "        samp = np.random.choice(sample,len(sample))\n",
    "        if np.mean(samp)>0:\n",
    "            above_0 +=1\n",
    "        else:\n",
    "            below_0 +=1\n",
    "    return above_0/float(its) - below_0/float(its)"
   ]
  },
  {
   "cell_type": "code",
   "execution_count": 49,
   "metadata": {
    "collapsed": false
   },
   "outputs": [
    {
     "data": {
      "text/plain": [
       "-1.0"
      ]
     },
     "execution_count": 49,
     "metadata": {},
     "output_type": "execute_result"
    }
   ],
   "source": [
    "hypo_test_above_below_zero(strokes_gained_per_cat['Bunker'],10000)"
   ]
  },
  {
   "cell_type": "code",
   "execution_count": 67,
   "metadata": {
    "collapsed": true
   },
   "outputs": [],
   "source": [
    "def hypo_test_difference_of_two_means_one_sided(sample_b,sample_s,its):\n",
    "    test_stat = np.mean(sample_b) - np.mean(sample_s)\n",
    "    haps = 0\n",
    "    for _ in xrange(its):\n",
    "        pooled_sample = sample_b + sample_s\n",
    "        np.random.shuffle(pooled_sample)\n",
    "        if np.mean(pooled_sample[:len(sample_b)])-np.mean(pooled_sample[len(sample_b):]) >= test_stat:\n",
    "            haps += 1\n",
    "    return haps/float(its)"
   ]
  },
  {
   "cell_type": "code",
   "execution_count": 68,
   "metadata": {
    "collapsed": false
   },
   "outputs": [
    {
     "data": {
      "text/plain": [
       "0.0"
      ]
     },
     "execution_count": 68,
     "metadata": {},
     "output_type": "execute_result"
    }
   ],
   "source": [
    "hypo_test_difference_of_two_means_one_sided(strokes_gained_putts['Uphill'],strokes_gained_putts['Downhill'],10000)"
   ]
  },
  {
   "cell_type": "code",
   "execution_count": null,
   "metadata": {
    "collapsed": true
   },
   "outputs": [],
   "source": []
  }
 ],
 "metadata": {
  "kernelspec": {
   "display_name": "Python 2",
   "language": "python",
   "name": "python2"
  },
  "language_info": {
   "codemirror_mode": {
    "name": "ipython",
    "version": 2
   },
   "file_extension": ".py",
   "mimetype": "text/x-python",
   "name": "python",
   "nbconvert_exporter": "python",
   "pygments_lexer": "ipython2",
   "version": "2.7.11"
  }
 },
 "nbformat": 4,
 "nbformat_minor": 0
}
