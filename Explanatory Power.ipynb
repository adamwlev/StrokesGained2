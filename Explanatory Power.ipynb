{
 "cells": [
  {
   "cell_type": "code",
   "execution_count": 30,
   "metadata": {
    "collapsed": true
   },
   "outputs": [],
   "source": [
    "import pandas as pd\n",
    "import numpy as np\n",
    "import pickle, gc\n",
    "from scipy.sparse import csc_matrix,csr_matrix,eye,bmat\n",
    "from scipy.sparse.linalg import eigs,inv,gmres\n",
    "from scipy.stats import rankdata\n",
    "from collections import defaultdict"
   ]
  },
  {
   "cell_type": "code",
   "execution_count": 31,
   "metadata": {
    "collapsed": true
   },
   "outputs": [],
   "source": [
    "def load_sparse_csc(filename):\n",
    "    loader = np.load(filename)\n",
    "    return csc_matrix((loader['data'],loader['indices'],loader['indptr']),shape = loader['shape'])\n",
    "\n",
    "def alpha(A,a):\n",
    "    A.data[A.data<1e-6] = 0\n",
    "    A.data[np.isnan(A.data)]=0\n",
    "    w,v = eigs(A,k=1,which='LM')\n",
    "    return a/w[0].real\n",
    "\n",
    "def solve(mat,mat_1,a,min_reps,x_guess=None,x_guess1=None):\n",
    "    mat.data[mat_1.data<1e-6] = 0\n",
    "    mat_1.data[mat_1.data<1e-6] = 0\n",
    "    mat.data[np.isnan(mat.data)] = 0\n",
    "    mat_1.data[np.isnan(mat_1.data)] = 0\n",
    "\n",
    "    alpha_ = alpha(mat,a)\n",
    "\n",
    "    S = eye(mat.shape[0],format='csc')-alpha_*mat\n",
    "    w_a = gmres(S,mat.sum(1),x0=x_guess)[0]\n",
    "\n",
    "    S = eye(mat_1.shape[0],format='csc')-alpha_*mat_1 \n",
    "    w_g = gmres(S,mat_1.sum(1),x0=x_guess1)[0]\n",
    "\n",
    "    solve.w_a = w_a\n",
    "    solve.w_g = w_g\n",
    "    w_a[w_g<min_reps] = 0\n",
    "    return ((w_a/w_g),w_g)\n",
    "\n",
    "def rank(a,mask):\n",
    "    res = np.ones_like(a)\n",
    "    res[mask] = rankdata(a[mask])/mask.sum()\n",
    "    res[~mask] = np.nan\n",
    "    return res"
   ]
  },
  {
   "cell_type": "code",
   "execution_count": 5,
   "metadata": {
    "collapsed": true
   },
   "outputs": [],
   "source": [
    "with open('PickleFiles/num_to_ind_shot.pkl','r') as pickleFile:\n",
    "    num_to_ind = pickle.load(pickleFile)\n",
    "\n",
    "ind_to_num = dict((value,key) for key,value in num_to_ind.iteritems())\n",
    "    \n",
    "with open('PickleFiles/player_names.pkl','r') as pickleFile:\n",
    "    num_to_name = pickle.load(pickleFile)\n",
    "\n",
    "with open('PickleFiles/broadie_tourn_map.pkl','r') as pickleFile:\n",
    "    broadie_tourn_map = pickle.load(pickleFile)\n",
    "    \n",
    "name_to_num = {value:key for key,value in num_to_name.iteritems()}"
   ]
  },
  {
   "cell_type": "code",
   "execution_count": 6,
   "metadata": {
    "collapsed": true
   },
   "outputs": [],
   "source": [
    "rdata = pd.read_csv('data/round.csv')"
   ]
  },
  {
   "cell_type": "code",
   "execution_count": 8,
   "metadata": {
    "collapsed": false
   },
   "outputs": [],
   "source": [
    "cols = ['Year','Permanent_Tournament_#','tourn_num']\n",
    "data = pd.concat([pd.read_csv('data/%d.csv' % (year), usecols=cols) for year in range(2003,2019)])\n",
    "tups = data.sort_values('tourn_num')\\\n",
    "           .drop_duplicates()[['Year','Permanent_Tournament_#']].values.tolist()"
   ]
  },
  {
   "cell_type": "code",
   "execution_count": 12,
   "metadata": {
    "collapsed": false
   },
   "outputs": [
    {
     "data": {
      "text/plain": [
       "14"
      ]
     },
     "execution_count": 12,
     "metadata": {},
     "output_type": "execute_result"
    }
   ],
   "source": [
    "data = None\n",
    "gc.collect()"
   ]
  },
  {
   "cell_type": "code",
   "execution_count": 13,
   "metadata": {
    "collapsed": true
   },
   "outputs": [],
   "source": [
    "cats = ['tee3','tee45','green0','green5','green10','green20','rough0','rough90',\n",
    "        'rough375','fairway0','fairway300','fairway540','bunker','other']"
   ]
  },
  {
   "cell_type": "code",
   "execution_count": 32,
   "metadata": {
    "collapsed": false
   },
   "outputs": [
    {
     "name": "stderr",
     "output_type": "stream",
     "text": [
      "/Users/adamlevin/anaconda/lib/python2.7/site-packages/ipykernel/__main__.py:28: RuntimeWarning: invalid value encountered in divide\n",
      "/Users/adamlevin/anaconda/lib/python2.7/site-packages/ipykernel/__main__.py:9: RuntimeWarning: divide by zero encountered in double_scalars\n"
     ]
    }
   ],
   "source": [
    "x,y = defaultdict(list), []\n",
    "for tourn_num,(year,tourn) in enumerate(tups):\n",
    "    rtourn = rdata[(rdata.Tournament_Year==year) & (rdata['Permanent_Tournament_#']==tourn)]\n",
    "    players = pd.unique(rtourn.Player_Number)\n",
    "    if not len(players): continue\n",
    "    finishing_positions = rtourn.groupby('Player_Number').Finishing_Position.mean().to_dict()\n",
    "    finishing_positions = np.array([finishing_positions[player] for player in players])\n",
    "    players = [num_to_ind[player] for player in players]\n",
    "    for cat in cats:\n",
    "        A = load_sparse_csc('cats/cats_w-0.8-0.7-0.8/%s_%d.npz' % (cat,tourn_num))\n",
    "        G = load_sparse_csc('cats/cats_w-0.8-0.7-0.8/%s_%d_g.npz' % (cat,tourn_num))\n",
    "        rats, _ = solve(A,G,.95,0)\n",
    "        x[cat].extend(rank(rats[players],~np.isnan(rats[players])).tolist())\n",
    "    y.extend(finishing_positions.tolist())"
   ]
  },
  {
   "cell_type": "code",
   "execution_count": 33,
   "metadata": {
    "collapsed": false
   },
   "outputs": [
    {
     "name": "stdout",
     "output_type": "stream",
     "text": [
      "tee3 0.00264456500995\n",
      "tee45 0.00259003789634\n",
      "green0 0.00260366967475\n",
      "green5 0.00353063060607\n",
      "green10 0.0030262548052\n",
      "green20 0.00293083235639\n",
      "rough0 0.0212928378636\n",
      "rough90 0.0603069876496\n",
      "rough375 0.0090651326372\n",
      "fairway0 0.00944682243245\n",
      "fairway300 0.00317620436762\n",
      "fairway540 0.00541181602552\n",
      "bunker 0.0159900760653\n",
      "other 0.513168297936\n"
     ]
    }
   ],
   "source": [
    "for cat in cats:\n",
    "    print cat,np.isnan(x[cat]).mean()"
   ]
  },
  {
   "cell_type": "code",
   "execution_count": 37,
   "metadata": {
    "collapsed": false
   },
   "outputs": [
    {
     "name": "stdout",
     "output_type": "stream",
     "text": [
      "tee3 -0.326943147677\n",
      "tee45 -0.352121082211\n",
      "green0 -0.21240214198\n",
      "green5 -0.301916548006\n",
      "green10 -0.306349009882\n",
      "green20 -0.269737011561\n",
      "rough0 -0.142249597103\n",
      "rough90 -0.0354136235012\n",
      "rough375 -0.213829025567\n",
      "fairway0 -0.175199859071\n",
      "fairway300 -0.316564183729\n",
      "fairway540 -0.21934411354\n",
      "bunker -0.148015826591\n",
      "other -0.0563044500707\n"
     ]
    }
   ],
   "source": [
    "for cat in cats:\n",
    "    x_,y_ = np.array(x[cat]), np.array(y)\n",
    "    print cat,np.corrcoef(x_[~np.isnan(x_)],y_[~np.isnan(x_)])[0,1]"
   ]
  },
  {
   "cell_type": "code",
   "execution_count": null,
   "metadata": {
    "collapsed": true
   },
   "outputs": [],
   "source": []
  }
 ],
 "metadata": {
  "kernelspec": {
   "display_name": "Python 2",
   "language": "python",
   "name": "python2"
  },
  "language_info": {
   "codemirror_mode": {
    "name": "ipython",
    "version": 2
   },
   "file_extension": ".py",
   "mimetype": "text/x-python",
   "name": "python",
   "nbconvert_exporter": "python",
   "pygments_lexer": "ipython2",
   "version": "2.7.13"
  }
 },
 "nbformat": 4,
 "nbformat_minor": 2
}
