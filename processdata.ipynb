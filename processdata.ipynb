{
 "cells": [
  {
   "cell_type": "code",
   "execution_count": 1,
   "metadata": {
    "collapsed": true
   },
   "outputs": [],
   "source": [
    "import pandas as pd\n",
    "import numpy as np\n",
    "import itertools"
   ]
  },
  {
   "cell_type": "code",
   "execution_count": 2,
   "metadata": {
    "collapsed": false
   },
   "outputs": [
    {
     "name": "stderr",
     "output_type": "stream",
     "text": [
      "/Users/adamlevin/miniconda2/lib/python2.7/site-packages/IPython/core/interactiveshell.py:2723: DtypeWarning: Columns (20,21,22,27,33,34,35) have mixed types. Specify dtype option on import or set low_memory=False.\n",
      "  interactivity=interactivity, compiler=compiler, result=result)\n"
     ]
    }
   ],
   "source": [
    "data = pd.read_csv('rawdata/2014.txt', sep = ';')"
   ]
  },
  {
   "cell_type": "code",
   "execution_count": 3,
   "metadata": {
    "collapsed": false
   },
   "outputs": [],
   "source": [
    "data.columns = np.array([str(i).strip() for i in list(data.columns.values)]) #remove space in col names"
   ]
  },
  {
   "cell_type": "code",
   "execution_count": 4,
   "metadata": {
    "collapsed": false
   },
   "outputs": [
    {
     "data": {
      "text/plain": [
       "Index([u'Tour Code', u'Tour Description', u'Year', u'Tourn.#', u'Player #',\n",
       "       u'Course #', u'Permanent Tournament #', u'Player First Name',\n",
       "       u'Player Last Name', u'Round', u'Tournament Name', u'Course Name',\n",
       "       u'Hole', u'Hole Score', u'Par Value', u'Yardage', u'Shot',\n",
       "       u'Shot Type(S/P/D)', u'# of Strokes', u'From Location(Scorer)',\n",
       "       u'From Location(Enhanced)', u'To Location(Laser)',\n",
       "       u'To Location(Enhanced)', u'Distance', u'Distance to Pin',\n",
       "       u'In the Hole Flag', u'Around the Green Flag', u'1st Putt Flag',\n",
       "       u'Distance to Hole after the Shot', u'Time', u'Lie', u'Elevation',\n",
       "       u'Slope', u'X Coordinate', u'Y Coordinate', u'Z Coordinate',\n",
       "       u'Distance from Center', u'Distance from Edge', u'Date'],\n",
       "      dtype='object')"
      ]
     },
     "execution_count": 4,
     "metadata": {},
     "output_type": "execute_result"
    }
   ],
   "source": [
    "data.columns"
   ]
  },
  {
   "cell_type": "code",
   "execution_count": 5,
   "metadata": {
    "collapsed": false
   },
   "outputs": [],
   "source": [
    "data['X Coordinate'] = [str(i).replace(' ','') for i in data['X Coordinate']] #remove space in coordinates cols\n",
    "data['Y Coordinate'] = [str(i).replace(' ','') for i in data['Y Coordinate']]\n",
    "data['Z Coordinate'] = [str(i).replace(' ','') for i in data['Z Coordinate']]"
   ]
  },
  {
   "cell_type": "code",
   "execution_count": 6,
   "metadata": {
    "collapsed": true
   },
   "outputs": [],
   "source": [
    "data['X Coordinate'] = [str(i).replace(',','') for i in data['X Coordinate']] #remove commas in coordinates cols\n",
    "data['Y Coordinate'] = [str(i).replace(',','') for i in data['Y Coordinate']]\n",
    "data['Z Coordinate'] = [str(i).replace(',','') for i in data['Z Coordinate']]"
   ]
  },
  {
   "cell_type": "code",
   "execution_count": 7,
   "metadata": {
    "collapsed": false
   },
   "outputs": [],
   "source": [
    "data['X Coordinate'] = ['-' + str(i)[:len(str(i))-1] if str(i)[len(str(i))-1]=='-' else i for i in data['X Coordinate']] #putting negative in front\n",
    "data['Y Coordinate'] = ['-' + str(i)[:len(str(i))-1] if str(i)[len(str(i))-1]=='-' else i for i in data['Y Coordinate']]\n",
    "data['Z Coordinate'] = ['-' + str(i)[:len(str(i))-1] if str(i)[len(str(i))-1]=='-' else i for i in data['Z Coordinate']]"
   ]
  },
  {
   "cell_type": "code",
   "execution_count": 8,
   "metadata": {
    "collapsed": false
   },
   "outputs": [],
   "source": [
    "data['X Coordinate'] = pd.to_numeric(data['X Coordinate'])\n",
    "data['Y Coordinate'] = pd.to_numeric(data['Y Coordinate'])\n",
    "data['Z Coordinate'] = pd.to_numeric(data['Z Coordinate'])"
   ]
  },
  {
   "cell_type": "code",
   "execution_count": 9,
   "metadata": {
    "collapsed": false
   },
   "outputs": [],
   "source": [
    "#unique Course-Round-Hole Tuples\n",
    "uCRHtps = list(itertools.product(np.unique(data['Course Name']),np.unique(data['Round']),np.unique(data['Hole'])))"
   ]
  },
  {
   "cell_type": "code",
   "execution_count": 10,
   "metadata": {
    "collapsed": true
   },
   "outputs": [],
   "source": [
    "from scipy.optimize import fmin_tnc"
   ]
  },
  {
   "cell_type": "code",
   "execution_count": 11,
   "metadata": {
    "collapsed": true
   },
   "outputs": [],
   "source": [
    "# coordinates of hole are not given. must be imputed.\n",
    "# does the distance use the x,y, and z coordinates or just the x and y coordinates?\n",
    "# test: first find the hole using the x,y, and z coordinates and record the average difference between calculated hole\n",
    "# location and ball and recorded distance. then do the same using just the x and y coodinates. see which is better."
   ]
  },
  {
   "cell_type": "code",
   "execution_count": 12,
   "metadata": {
    "collapsed": true
   },
   "outputs": [],
   "source": [
    "# def f (a):\n",
    "#     x0,y0,z0 = a[0],a[1],a[2]\n",
    "#     return sum((((x-x0)**2 + (y-y0)**2 + (z-z0)**2)**.5-d)**2)/len(x)\n",
    "\n",
    "# def find_the_hole ():\n",
    "#     xopt = fmin_tnc(f,[x0,y0,z0],approx_grad=1)[0].tolist()\n",
    "#     return f(xopt)"
   ]
  },
  {
   "cell_type": "code",
   "execution_count": 13,
   "metadata": {
    "collapsed": false,
    "scrolled": true
   },
   "outputs": [],
   "source": [
    "# #finding the coordinates of the hole\n",
    "# aveds=[]\n",
    "# for u,i in enumerate(uCRHtps):\n",
    "#     if (u+1)%100==0:\n",
    "# #         print u\n",
    "#         print u+1,sum(aveds)/len(aveds)\n",
    "#     subset = data[(data['Course Name']==i[0]) & (data['Round']==int(i[1])) & (data['Hole']==int(i[2])) \\\n",
    "#                   & (data['Distance to Hole after the Shot']!=0) & (data['X Coordinate']!=0) & data['Y Coordinate']!=0]\n",
    "#     if subset.shape[0] == 0:\n",
    "#         continue\n",
    "#     d = subset['Distance to Hole after the Shot'].values/12.0\n",
    "#     x = subset['X Coordinate'].values\n",
    "#     y = subset['Y Coordinate'].values\n",
    "#     z = subset['Z Coordinate'].values\n",
    "#     sorted_subset = subset.sort_values('Distance to Hole after the Shot')\n",
    "#     x0 = sorted_subset['X Coordinate'].values[0] ##assume that closest ball recorded to hole does not have an error\n",
    "#     y0 = sorted_subset['Y Coordinate'].values[0]\n",
    "#     z0 = sorted_subset['Z Coordinate'].values[0]\n",
    "#     subset.insert(len(subset.columns),'approx_dist',((x-x0)**2 + (y-y0)**2 + (z-z0)**2)**.5)\n",
    "#     # dist_diff is difference between recorded distance and distance approximated from location of closest recorded shot\n",
    "#     subset.insert(len(subset.columns),'dist_diff', \\\n",
    "#                   np.absolute(subset['approx_dist'].values - subset['Distance to Hole after the Shot'].values/12.0))\n",
    "#     before = subset.shape[0]\n",
    "#     # remove very inconsistant shots from record which are likely mistakes\n",
    "#     subset = subset[subset['dist_diff']<sorted_subset['Distance to Hole after the Shot'].values[0]]\n",
    "#     after = subset.shape[0]\n",
    "#     if before-after>0:\n",
    "#         print u, before-after\n",
    "#     d = subset['Distance to Hole after the Shot'].values/12.0\n",
    "#     x = subset['X Coordinate'].values\n",
    "#     y = subset['Y Coordinate'].values\n",
    "#     z = subset['Z Coordinate'].values\n",
    "#     a = find_the_hole()\n",
    "#     aveds.append(a)\n",
    "# print sum(aveds)/len(aveds)"
   ]
  },
  {
   "cell_type": "code",
   "execution_count": 14,
   "metadata": {
    "collapsed": true
   },
   "outputs": [],
   "source": [
    "# def f (a):\n",
    "#     x0,y0 = a[0],a[1]\n",
    "#     return sum((((x-x0)**2 + (y-y0)**2)**.5-d)**2)/len(x)\n",
    "\n",
    "# def find_the_hole ():\n",
    "#     xopt = fmin_tnc(f,[x0,y0],approx_grad=1)[0].tolist()\n",
    "#     return f(xopt)"
   ]
  },
  {
   "cell_type": "code",
   "execution_count": 15,
   "metadata": {
    "collapsed": false
   },
   "outputs": [],
   "source": [
    "# aveds=[]\n",
    "# for u,i in enumerate(uCRHtps):\n",
    "#     if (u+1)%100==0:\n",
    "# #         print u\n",
    "#         print u+1,sum(aveds)/len(aveds)\n",
    "#     subset = data[(data['Course Name']==i[0]) & (data['Round']==int(i[1])) & (data['Hole']==int(i[2])) \\\n",
    "#                   & (data['Distance to Hole after the Shot']!=0) & (data['X Coordinate']!=0) & data['Y Coordinate']!=0]\n",
    "#     if subset.shape[0] == 0:\n",
    "#         continue\n",
    "#     d = subset['Distance to Hole after the Shot'].values/12.0\n",
    "#     x = subset['X Coordinate'].values\n",
    "#     y = subset['Y Coordinate'].values\n",
    "#     sorted_subset = subset.sort_values('Distance to Hole after the Shot')\n",
    "#     x0 = sorted_subset['X Coordinate'].values[0] ##assume that closest ball recorded to hole does not have an error\n",
    "#     y0 = sorted_subset['Y Coordinate'].values[0]\n",
    "#     subset.insert(len(subset.columns),'approx_dist',((x-x0)**2 + (y-y0)**2)**.5)\n",
    "#     # dist_diff is difference between recorded distance and distance approximated from location of closest recorded shot\n",
    "#     subset.insert(len(subset.columns),'dist_diff', \\\n",
    "#                   np.absolute(subset['approx_dist'].values - subset['Distance to Hole after the Shot'].values/12.0))\n",
    "#     before = subset.shape[0]\n",
    "#     # remove very inconsistant shots from record which are likely mistakes\n",
    "#     subset = subset[subset['dist_diff']<sorted_subset['Distance to Hole after the Shot'].values[0]]\n",
    "#     after = subset.shape[0]\n",
    "#     if before-after>0:\n",
    "#         print u, before-after\n",
    "#     d = subset['Distance to Hole after the Shot'].values/12.0\n",
    "#     x = subset['X Coordinate'].values\n",
    "#     y = subset['Y Coordinate'].values\n",
    "#     a = find_the_hole()\n",
    "#     aveds.append(a)\n",
    "# print sum(aveds)/len(aveds)"
   ]
  },
  {
   "cell_type": "code",
   "execution_count": 47,
   "metadata": {
    "collapsed": true
   },
   "outputs": [],
   "source": [
    "# based on results of number of points that have implausible coordinates, and average error between the recorded dist.\n",
    "# and this dist. calculated with the imputed coordinates of the hole, it is clear that the recorded distances use \n",
    "# the x,y, and z coordinates.\n",
    "# now recreate dataframe with concatonation of all subsets - without bunk records and with the x,y, and z coordinates\n",
    "# of the hole."
   ]
  },
  {
   "cell_type": "code",
   "execution_count": 16,
   "metadata": {
    "collapsed": true
   },
   "outputs": [],
   "source": [
    "def f (a):\n",
    "    x0,y0,z0 = a[0],a[1],a[2]\n",
    "    return sum((((x-x0)**2 + (y-y0)**2 + (z-z0)**2)**.5-d)**2)/len(x)\n",
    "\n",
    "def find_the_hole ():\n",
    "    xopt = fmin_tnc(f,[x0,y0,z0],approx_grad=1)[0].tolist()\n",
    "    return xopt"
   ]
  },
  {
   "cell_type": "code",
   "execution_count": 60,
   "metadata": {
    "collapsed": false
   },
   "outputs": [
    {
     "name": "stdout",
     "output_type": "stream",
     "text": [
      "99\n",
      "199\n",
      "299\n",
      "399\n",
      "499\n",
      "599\n",
      "699\n",
      "799\n",
      "899\n",
      "999\n",
      "1099\n",
      "1199\n",
      "1299\n",
      "1399\n",
      "1499\n",
      "1599\n",
      "1699\n",
      "1799\n",
      "1899\n",
      "1999\n",
      "2099\n",
      "2199\n",
      "2299\n",
      "2399\n",
      "2499\n",
      "2599\n",
      "2699\n",
      "2799\n",
      "2899\n",
      "2999\n",
      "(985714, 44)\n"
     ]
    }
   ],
   "source": [
    "# initializing new data frame with two rows which will be deleted after\n",
    "newdata = pd.DataFrame(data.loc[1:2,:])\n",
    "\n",
    "#finding the coordinates of the hole and recording the results\n",
    "#must treat shots that were holed out differently since the coordinates are recorded as 0 for those shots\n",
    "for u,i in enumerate(uCRHtps):\n",
    "    if (u+1)%100==0:\n",
    "        print u\n",
    "#         print newdata.shape\n",
    "    subset = data[(data['Course Name']==i[0]) & (data['Round']==int(i[1])) & (data['Hole']==int(i[2])) \\\n",
    "                  & (~((data['Distance to Hole after the Shot']!=0) & \\\n",
    "                       ((data['X Coordinate']==0) | (data['Y Coordinate']==0) | (data['Z Coordinate']==0))))]\n",
    "    if subset[subset['Distance to Hole after the Shot']!=0].shape[0] == 0:\n",
    "        continue\n",
    "    start = subset.shape[0]\n",
    "    subset = subset.sort_values('Distance to Hole after the Shot')\n",
    "    d = subset[subset['Distance to Hole after the Shot']!=0]['Distance to Hole after the Shot'].values/12.0\n",
    "    x = subset[subset['Distance to Hole after the Shot']!=0]['X Coordinate'].values\n",
    "    y = subset[subset['Distance to Hole after the Shot']!=0]['Y Coordinate'].values\n",
    "    z = subset[subset['Distance to Hole after the Shot']!=0]['Z Coordinate'].values\n",
    "    x0 = subset[subset['Distance to Hole after the Shot']!=0]['X Coordinate'].values[0] ##assume that closest ball recorded to hole does not have an error\n",
    "    y0 = subset[subset['Distance to Hole after the Shot']!=0]['Y Coordinate'].values[0]\n",
    "    z0 = subset[subset['Distance to Hole after the Shot']!=0]['Z Coordinate'].values[0]\n",
    "    subset.insert(len(subset.columns),'approx_dist',np.array([0]*subset[subset['Distance to Hole after the Shot']==0].shape[0] \\\n",
    "                  + (((x-x0)**2 + (y-y0)**2 + (z-z0)**2)**.5).tolist()))\n",
    "    # dist_diff is difference between recorded distance and distance approximated from location of closest recorded shot\n",
    "    subset.insert(len(subset.columns),'dist_diff', \\\n",
    "                  np.absolute(subset['approx_dist'].values - subset['Distance to Hole after the Shot'].values/12.0))\n",
    "    # remove very inconsistant shots from record which are likely mistakes\n",
    "    subset = subset[subset['dist_diff']<subset[subset['Distance to Hole after the Shot']!=0]['Distance to Hole after the Shot'].values[0]+1]\n",
    "    finish = subset.shape[0]\n",
    "    d = subset[subset['Distance to Hole after the Shot']!=0]['Distance to Hole after the Shot'].values/12.0\n",
    "    x = subset[subset['Distance to Hole after the Shot']!=0]['X Coordinate'].values\n",
    "    y = subset[subset['Distance to Hole after the Shot']!=0]['Y Coordinate'].values\n",
    "    z = subset[subset['Distance to Hole after the Shot']!=0]['Z Coordinate'].values\n",
    "    a = find_the_hole()\n",
    "    subset.drop('approx_dist',axis=1,inplace=True)\n",
    "    subset.drop('dist_diff',axis=1,inplace=True)\n",
    "    subset.insert(len(subset.columns),'Hole X Coordinate',np.array([a[0]]*subset.shape[0]))\n",
    "    subset.insert(len(subset.columns),'Hole Y Coordinate',np.array([a[1]]*subset.shape[0]))\n",
    "    subset.insert(len(subset.columns),'Hole Z Coordinate',np.array([a[2]]*subset.shape[0]))\n",
    "    subset.insert(len(subset.columns),'dist_w_impute',np.array([0]*subset[subset['Distance to Hole after the Shot']==0].shape[0] \\\n",
    "                  + (((x-a[0])**2 + (y-a[1])**2 + (z-a[2])**2)**.5).tolist()))\n",
    "    subset.insert(len(subset.columns),'dist_diff', \\\n",
    "                  np.absolute(subset['dist_w_impute'].values - subset['Distance to Hole after the Shot'].values/12.0))\n",
    "    mean_err = subset[subset['Distance to Hole after the Shot']!=0]['dist_diff'].mean()\n",
    "    if mean_err>.3:\n",
    "        print u, mean_err\n",
    "    if start-finish>5:\n",
    "        print u, start-finish\n",
    "    newdata = newdata.append(subset)\n",
    "\n",
    "newdata.drop(newdata.head(2).index, inplace=True)\n",
    "print newdata.shape"
   ]
  },
  {
   "cell_type": "code",
   "execution_count": 45,
   "metadata": {
    "collapsed": false
   },
   "outputs": [],
   "source": [
    "# pd.options.display.max_rows = 2421\n",
    "# pd.reset_option(\"^display\")\n"
   ]
  },
  {
   "cell_type": "code",
   "execution_count": 58,
   "metadata": {
    "collapsed": false
   },
   "outputs": [
    {
     "name": "stdout",
     "output_type": "stream",
     "text": [
      "(1106109, 39)\n",
      "(985714, 44)\n"
     ]
    }
   ],
   "source": [
    "print data.shape\n",
    "print newdata.shape"
   ]
  },
  {
   "cell_type": "code",
   "execution_count": 61,
   "metadata": {
    "collapsed": true
   },
   "outputs": [],
   "source": [
    "newdata.to_csv('2014_with_hole_coordinates.csv')"
   ]
  },
  {
   "cell_type": "code",
   "execution_count": null,
   "metadata": {
    "collapsed": true
   },
   "outputs": [],
   "source": []
  }
 ],
 "metadata": {
  "kernelspec": {
   "display_name": "Python 2",
   "language": "python",
   "name": "python2"
  },
  "language_info": {
   "codemirror_mode": {
    "name": "ipython",
    "version": 2
   },
   "file_extension": ".py",
   "mimetype": "text/x-python",
   "name": "python",
   "nbconvert_exporter": "python",
   "pygments_lexer": "ipython2",
   "version": "2.7.11"
  }
 },
 "nbformat": 4,
 "nbformat_minor": 0
}
