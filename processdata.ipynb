{
 "cells": [
  {
   "cell_type": "code",
   "execution_count": 1,
   "metadata": {
    "collapsed": true
   },
   "outputs": [],
   "source": [
    "import pandas as pd\n",
    "import numpy as np\n",
    "import itertools\n",
    "from scipy.optimize import fmin_tnc"
   ]
  },
  {
   "cell_type": "code",
   "execution_count": 49,
   "metadata": {
    "collapsed": false
   },
   "outputs": [
    {
     "name": "stderr",
     "output_type": "stream",
     "text": [
      "/Users/adamlevin/miniconda2/lib/python2.7/site-packages/IPython/core/interactiveshell.py:2723: DtypeWarning: Columns (13,20,21,22,27,33,34,35) have mixed types. Specify dtype option on import or set low_memory=False.\n",
      "  interactivity=interactivity, compiler=compiler, result=result)\n"
     ]
    }
   ],
   "source": [
    "data = pd.read_csv('data/rawdata/2015.txt', sep = ';')"
   ]
  },
  {
   "cell_type": "code",
   "execution_count": 50,
   "metadata": {
    "collapsed": false
   },
   "outputs": [],
   "source": [
    "data.columns = np.array([str(i).strip() for i in list(data.columns.values)]) #remove space in col names"
   ]
  },
  {
   "cell_type": "code",
   "execution_count": 51,
   "metadata": {
    "collapsed": false
   },
   "outputs": [
    {
     "data": {
      "text/plain": [
       "Index([u'Tour Code', u'Tour Description', u'Year', u'Tourn.#', u'Player #',\n",
       "       u'Course #', u'Permanent Tournament #', u'Player First Name',\n",
       "       u'Player Last Name', u'Round', u'Tournament Name', u'Course Name',\n",
       "       u'Hole', u'Hole Score', u'Par Value', u'Yardage', u'Shot',\n",
       "       u'Shot Type(S/P/D)', u'# of Strokes', u'From Location(Scorer)',\n",
       "       u'From Location(Enhanced)', u'To Location(Laser)',\n",
       "       u'To Location(Enhanced)', u'Distance', u'Distance to Pin',\n",
       "       u'In the Hole Flag', u'Around the Green Flag', u'1st Putt Flag',\n",
       "       u'Distance to Hole after the Shot', u'Time', u'Lie', u'Elevation',\n",
       "       u'Slope', u'X Coordinate', u'Y Coordinate', u'Z Coordinate',\n",
       "       u'Distance from Center', u'Distance from Edge', u'Date'],\n",
       "      dtype='object')"
      ]
     },
     "execution_count": 51,
     "metadata": {},
     "output_type": "execute_result"
    }
   ],
   "source": [
    "data.columns"
   ]
  },
  {
   "cell_type": "code",
   "execution_count": 52,
   "metadata": {
    "collapsed": false
   },
   "outputs": [],
   "source": [
    "data['X Coordinate'] = [str(i).replace(' ','') for i in data['X Coordinate']] #remove space in coordinates cols\n",
    "data['Y Coordinate'] = [str(i).replace(' ','') for i in data['Y Coordinate']]\n",
    "data['Z Coordinate'] = [str(i).replace(' ','') for i in data['Z Coordinate']]"
   ]
  },
  {
   "cell_type": "code",
   "execution_count": 53,
   "metadata": {
    "collapsed": true
   },
   "outputs": [],
   "source": [
    "data['X Coordinate'] = [str(i).replace(',','') for i in data['X Coordinate']] #remove commas in coordinates cols\n",
    "data['Y Coordinate'] = [str(i).replace(',','') for i in data['Y Coordinate']]\n",
    "data['Z Coordinate'] = [str(i).replace(',','') for i in data['Z Coordinate']]"
   ]
  },
  {
   "cell_type": "code",
   "execution_count": 54,
   "metadata": {
    "collapsed": false
   },
   "outputs": [],
   "source": [
    "data['X Coordinate'] = ['-' + str(i)[:len(str(i))-1] if str(i)[len(str(i))-1]=='-' else i for i in data['X Coordinate']] #putting negative in front\n",
    "data['Y Coordinate'] = ['-' + str(i)[:len(str(i))-1] if str(i)[len(str(i))-1]=='-' else i for i in data['Y Coordinate']]\n",
    "data['Z Coordinate'] = ['-' + str(i)[:len(str(i))-1] if str(i)[len(str(i))-1]=='-' else i for i in data['Z Coordinate']]"
   ]
  },
  {
   "cell_type": "code",
   "execution_count": 55,
   "metadata": {
    "collapsed": false
   },
   "outputs": [],
   "source": [
    "data['X Coordinate'] = pd.to_numeric(data['X Coordinate'])\n",
    "data['Y Coordinate'] = pd.to_numeric(data['Y Coordinate'])\n",
    "data['Z Coordinate'] = pd.to_numeric(data['Z Coordinate'])"
   ]
  },
  {
   "cell_type": "code",
   "execution_count": 3,
   "metadata": {
    "collapsed": false
   },
   "outputs": [],
   "source": [
    "#unique Course-Round-Hole Tuples\n",
    "uCRHtps = list(itertools.product(np.unique(data['Course Name']),np.unique(data['Round']),np.unique(data['Hole'])))"
   ]
  },
  {
   "cell_type": "code",
   "execution_count": 58,
   "metadata": {
    "collapsed": true
   },
   "outputs": [],
   "source": [
    "# coordinates of hole are not given. must be imputed.\n",
    "# based on previous test, x,y, and z coordinates are all used for distance"
   ]
  },
  {
   "cell_type": "code",
   "execution_count": 69,
   "metadata": {
    "collapsed": true
   },
   "outputs": [],
   "source": [
    "def f (a):\n",
    "    x0,y0,z0 = a[0],a[1],a[2]\n",
    "    return sum((((x-x0)**2 + (y-y0)**2 + (z-z0)**2)**.5-d)**2)/len(x)\n",
    "\n",
    "def find_the_hole ():\n",
    "    xopt = fmin_tnc(f,[x0,y0,z0],approx_grad=1)[0].tolist()\n",
    "    return xopt"
   ]
  },
  {
   "cell_type": "code",
   "execution_count": 78,
   "metadata": {
    "collapsed": false
   },
   "outputs": [
    {
     "name": "stdout",
     "output_type": "stream",
     "text": [
      "it =  1\n",
      "it =  101\n",
      "it =  201\n",
      "it =  301\n",
      "it =  401\n",
      "it =  501\n",
      "it =  601\n",
      "it =  701\n",
      "it =  801\n",
      "808 max_err =  1.50825469801\n",
      "it =  901\n",
      "it =  1001\n",
      "it =  1101\n",
      "it =  1201\n",
      "it =  1301\n",
      "it =  1401\n",
      "it =  1501\n",
      "it =  1601\n",
      "it =  1701\n",
      "it =  1801\n",
      "it =  1901\n",
      "it =  2001\n",
      "it =  2101\n",
      "it =  2201\n",
      "2258 mean_err =  2.8873006469\n",
      "it =  2301\n",
      "it =  2401\n",
      "it =  2501\n",
      "it =  2601\n",
      "it =  2701\n",
      "it =  2801\n",
      "it =  2901\n",
      "it =  3001\n",
      "it =  3101\n",
      "it =  3201\n",
      "it =  3301\n",
      "(1042069, 42)\n"
     ]
    }
   ],
   "source": [
    "# initializing new data frame with two rows which will be deleted after\n",
    "newdata = pd.DataFrame(data.loc[1:2,:])\n",
    "\n",
    "# finding the coordinates of the hole and recording the results\n",
    "# must treat shots that were holed out differently since the coordinates are recorded as 0 for those shots\n",
    "for u,i in enumerate(uCRHtps):\n",
    "    if (u)%100==1:\n",
    "        print 'it = ', u\n",
    "    subset = data[(data['Course Name']==i[0]) & (data['Round']==int(i[1])) & (data['Hole']==int(i[2])) \\\n",
    "                  & (~((data['Distance to Hole after the Shot']!=0) & \\\n",
    "                       ((data['X Coordinate']==0) | (data['Y Coordinate']==0) | (data['Z Coordinate']==0))))]\n",
    "    if subset[subset['Distance to Hole after the Shot']!=0].shape[0] == 0:\n",
    "        continue\n",
    "    start = subset.shape[0]\n",
    "    subset = subset.sort_values('Distance to Hole after the Shot')\n",
    "    d = subset[subset['Distance to Hole after the Shot']!=0]['Distance to Hole after the Shot'].values/12.0\n",
    "    x = subset[subset['Distance to Hole after the Shot']!=0]['X Coordinate'].values\n",
    "    y = subset[subset['Distance to Hole after the Shot']!=0]['Y Coordinate'].values\n",
    "    z = subset[subset['Distance to Hole after the Shot']!=0]['Z Coordinate'].values\n",
    "    x0 = subset[subset['Distance to Hole after the Shot']!=0]['X Coordinate'].values[0] ##assume that closest ball recorded to hole does not have an error\n",
    "    y0 = subset[subset['Distance to Hole after the Shot']!=0]['Y Coordinate'].values[0]\n",
    "    z0 = subset[subset['Distance to Hole after the Shot']!=0]['Z Coordinate'].values[0]\n",
    "    subset.insert(len(subset.columns),'approx_dist',np.array([0]*subset[subset['Distance to Hole after the Shot']==0].shape[0] \\\n",
    "                  + (((x-x0)**2 + (y-y0)**2 + (z-z0)**2)**.5).tolist()))\n",
    "    # dist_diff is difference between recorded distance and distance approximated from location of closest recorded shot\n",
    "    subset.insert(len(subset.columns),'dist_diff', \\\n",
    "                  np.absolute(subset['approx_dist'].values - subset['Distance to Hole after the Shot'].values/12.0))\n",
    "    # remove very inconsistant shots from record which are likely mistakes\n",
    "    subset = subset[subset['dist_diff']<subset[subset['Distance to Hole after the Shot']!=0]['Distance to Hole after the Shot'].values[0]]\n",
    "    finish = subset.shape[0]\n",
    "    if start-finish>5:\n",
    "        print u, start-finish\n",
    "    d = subset[subset['Distance to Hole after the Shot']!=0]['Distance to Hole after the Shot'].values/12.0\n",
    "    x = subset[subset['Distance to Hole after the Shot']!=0]['X Coordinate'].values\n",
    "    y = subset[subset['Distance to Hole after the Shot']!=0]['Y Coordinate'].values\n",
    "    z = subset[subset['Distance to Hole after the Shot']!=0]['Z Coordinate'].values\n",
    "    a = find_the_hole()\n",
    "    subset.drop('approx_dist',axis=1,inplace=True)\n",
    "    subset.drop('dist_diff',axis=1,inplace=True)\n",
    "    subset.insert(len(subset.columns),'Hole X Coordinate',np.array([a[0]]*subset.shape[0]))\n",
    "    subset.insert(len(subset.columns),'Hole Y Coordinate',np.array([a[1]]*subset.shape[0]))\n",
    "    subset.insert(len(subset.columns),'Hole Z Coordinate',np.array([a[2]]*subset.shape[0]))\n",
    "    subset.insert(len(subset.columns),'dist_w_impute',np.array([0]*subset[subset['Distance to Hole after the Shot']==0].shape[0] \\\n",
    "                  + (((x-a[0])**2 + (y-a[1])**2 + (z-a[2])**2)**.5).tolist()))\n",
    "    subset.insert(len(subset.columns),'dist_diff', \\\n",
    "                  np.absolute(subset['dist_w_impute'].values - subset['Distance to Hole after the Shot'].values/12.0))\n",
    "    mean_err = subset[subset['Distance to Hole after the Shot']!=0]['dist_diff'].mean()\n",
    "    if mean_err>.27:\n",
    "        print u, 'mean_err = ', mean_err\n",
    "    if mean_err>1:\n",
    "        continue\n",
    "    max_err = subset['dist_diff'].max()\n",
    "    if max_err>.5:\n",
    "        print u, 'max_err = ', max_err\n",
    "    subset.drop('dist_w_impute',axis=1,inplace=True)\n",
    "    subset.drop('dist_diff',axis=1,inplace=True)\n",
    "    newdata = newdata.append(subset)\n",
    "\n",
    "newdata.drop(newdata.head(2).index, inplace=True)\n",
    "print newdata.shape"
   ]
  },
  {
   "cell_type": "code",
   "execution_count": 71,
   "metadata": {
    "collapsed": false
   },
   "outputs": [],
   "source": [
    "# pd.options.display.max_rows = 2421\n",
    "# pd.reset_option(\"^display\")\n"
   ]
  },
  {
   "cell_type": "code",
   "execution_count": 79,
   "metadata": {
    "collapsed": false,
    "scrolled": true
   },
   "outputs": [
    {
     "name": "stdout",
     "output_type": "stream",
     "text": [
      "(1176101, 39)\n",
      "(1042069, 42)\n",
      "0.113963001477\n"
     ]
    }
   ],
   "source": [
    "print data.shape\n",
    "print newdata.shape\n",
    "print (data.shape[0]-newdata.shape[0])/float(data.shape[0])\n",
    "\n",
    "# data has been shrunk by about 10 % as a result of a couple of screening processes:\n",
    "# I removed all shots with a x,y, or z coordinate equaling 0 but a nonzero recorded distance\n",
    "# I removed all shots from course-hole-round subsets without any shots that had nonzero recorded distances\n",
    "# I removed all shots that had recored distances that were not consistant with the coordinates recorded\n",
    "#\n",
    "# *details* I did the last one by comparing the absolute value of the difference between distance calculated\n",
    "# with coordinates of the closest recorded shot and difference recorded and the distance of the closest shot\n",
    "# recorded. If the distance recorded and the coordinates recorded are plausible, the former must be less than\n",
    "# the latter. If this was not true, it indicates some sort of error in the recording of the coordinates so these\n",
    "# shots were discarded."
   ]
  },
  {
   "cell_type": "code",
   "execution_count": 80,
   "metadata": {
    "collapsed": false
   },
   "outputs": [],
   "source": [
    "#newdata.to_csv('data/2015_with_hole_coordinates.csv')"
   ]
  },
  {
   "cell_type": "code",
   "execution_count": 9,
   "metadata": {
    "collapsed": false,
    "scrolled": true
   },
   "outputs": [],
   "source": [
    "#newdata.isnull().sum()"
   ]
  },
  {
   "cell_type": "code",
   "execution_count": 2,
   "metadata": {
    "collapsed": false
   },
   "outputs": [],
   "source": [
    "data = pd.read_csv('data/2014_with_hole_coordinates.csv', sep = ',')"
   ]
  },
  {
   "cell_type": "code",
   "execution_count": 4,
   "metadata": {
    "collapsed": false
   },
   "outputs": [
    {
     "data": {
      "text/plain": [
       "Index([u'Unnamed: 0', u'# of Strokes', u'1st Putt Flag',\n",
       "       u'Around the Green Flag', u'Course #', u'Course Name', u'Date',\n",
       "       u'Distance', u'Distance from Center', u'Distance from Edge',\n",
       "       u'Distance to Hole after the Shot', u'Distance to Pin', u'Elevation',\n",
       "       u'From Location(Enhanced)', u'From Location(Scorer)', u'Hole',\n",
       "       u'Hole Score', u'Hole X Coordinate', u'Hole Y Coordinate',\n",
       "       u'Hole Z Coordinate', u'In the Hole Flag', u'Lie', u'Par Value',\n",
       "       u'Permanent Tournament #', u'Player #', u'Player First Name',\n",
       "       u'Player Last Name', u'Round', u'Shot', u'Shot Type(S/P/D)', u'Slope',\n",
       "       u'Time', u'To Location(Enhanced)', u'To Location(Laser)', u'Tour Code',\n",
       "       u'Tour Description', u'Tourn.#', u'Tournament Name', u'X Coordinate',\n",
       "       u'Y Coordinate', u'Yardage', u'Year', u'Z Coordinate'],\n",
       "      dtype='object')"
      ]
     },
     "execution_count": 4,
     "metadata": {},
     "output_type": "execute_result"
    }
   ],
   "source": [
    "#data[['Course Name','Player First Name','Round','Hole','Hole Score','Shot']]\n",
    "data.columns"
   ]
  },
  {
   "cell_type": "code",
   "execution_count": null,
   "metadata": {
    "collapsed": true
   },
   "outputs": [],
   "source": [
    "# goal is to impute tee box locations. will use all shots with 'Shot' column equal to 1\n",
    "# will do the same process of optimizing a guess as when imputing the location of the hole.\n",
    "# will use a randomly selected shot as initial guess, then run optimization, then filter out\n",
    "# shots over a certian threshold of implausibility, then rereun the optimization."
   ]
  },
  {
   "cell_type": "code",
   "execution_count": 12,
   "metadata": {
    "collapsed": true
   },
   "outputs": [],
   "source": [
    "def f (a):\n",
    "    x0,y0,z0 = a[0],a[1],a[2]\n",
    "    return sum((((x-x0)**2 + (y-y0)**2 + (z-z0)**2)**.5-d)**2)/len(x)\n",
    "\n",
    "def find_the_tee_box ():\n",
    "    xopt = fmin_tnc(f,[x0,y0,z0],approx_grad=1,maxfun=1000)[0].tolist()\n",
    "    return xopt"
   ]
  },
  {
   "cell_type": "code",
   "execution_count": 18,
   "metadata": {
    "collapsed": false,
    "scrolled": false
   },
   "outputs": [
    {
     "name": "stdout",
     "output_type": "stream",
     "text": [
      "1 (507, 46)\n",
      "51 (21733, 46)\n",
      "101 (36029, 46)\n",
      "151 (50481, 46)\n",
      "201 (70529, 46)\n",
      "251 (91668, 46)\n",
      "253 442.694114877\n",
      "253 262.166914109\n",
      "253 262.142690936\n",
      "253 262.142690936\n",
      "253 262.12675024\n",
      "253 258.453816932\n",
      "253 262.131569788\n",
      "253 216.851551793\n",
      "253 262.142690936\n",
      "253 260.65267683\n",
      "253 262.127977888\n",
      "253 262.126963997\n",
      "253 235.668514902\n",
      "253 268.305093234\n",
      "253 262.182073845\n",
      "253 261.407313247\n",
      "253 261.85957033\n",
      "253 287.939362825\n",
      "253 262.015663408\n",
      "301 (109750, 46)\n",
      "312 220.825669414\n",
      "312 1\n",
      "351 (129557, 46)\n",
      "383 228.617131458\n",
      "383 228.632685521\n",
      "383 228.672791128\n",
      "383 228.632685521\n",
      "383 228.679445855\n",
      "383 228.690258403\n",
      "383 228.675446237\n",
      "383 228.681843363\n",
      "383 228.632685521\n",
      "383 228.672967958\n",
      "383 228.690258403\n",
      "383 228.682957393\n",
      "383 228.563153779\n",
      "383 225.455279385\n",
      "383 228.679445855\n",
      "383 228.682330609\n",
      "383 228.681843363\n",
      "383 228.632685521\n",
      "383 228.563153779\n",
      "401 (136589, 46)\n",
      "451 (145834, 46)\n",
      "501 (160200, 46)\n",
      "551 (185070, 46)\n",
      "562 223.560909574\n",
      "562 223.560840088\n",
      "562 223.560850773\n",
      "562 223.560850773\n",
      "562 223.557766772\n",
      "562 223.562789839\n",
      "562 219.641630508\n",
      "562 218.08928171\n",
      "562 223.561939516\n",
      "562 223.557766772\n",
      "562 223.563092425\n",
      "562 223.561057076\n",
      "562 223.557766772\n",
      "562 223.563636835\n",
      "562 223.562789839\n",
      "562 223.55986265\n",
      "562 223.561739487\n",
      "562 223.560757738\n",
      "562 223.561393248\n",
      "601 (205452, 46)\n",
      "651 (224313, 46)\n",
      "701 (248868, 46)\n",
      "751 (272547, 46)\n",
      "801 (290744, 46)\n",
      "851 (310610, 46)\n",
      "901 (334984, 46)\n",
      "951 (348207, 46)\n",
      "1001 (359478, 46)\n",
      "1006 318.364108088\n",
      "1006 322.660656303\n",
      "1006 326.1115495\n",
      "1006 3\n",
      "1051 (370626, 46)\n",
      "1101 (380047, 46)\n",
      "1151 (385940, 46)\n",
      "1201 (412433, 46)\n",
      "1251 (432059, 46)\n",
      "1301 (449783, 46)\n",
      "1351 (472581, 46)\n",
      "1401 (497693, 46)\n",
      "1451 (515168, 46)\n",
      "1501 (535127, 46)\n",
      "1551 (560573, 46)\n",
      "1554 386.566220766\n",
      "1554 390.629198755\n",
      "1554 229.524686517\n",
      "1554 456.132815229\n",
      "1554 406.644087926\n",
      "1554 409.660249383\n",
      "1554 415.303122412\n",
      "1554 420.482339374\n",
      "1554 244.943220021\n",
      "1554 425.309052135\n",
      "1554 447.516070947\n",
      "1554 438.60423993\n",
      "1554 321.827212566\n",
      "1554 465.311339084\n",
      "1554 472.177780589\n",
      "1554 510.913087226\n",
      "1554 375.86619693\n",
      "1554 496.671688381\n",
      "1554 273.375701476\n",
      "1554 29\n",
      "1559 414.246569532\n",
      "1559 247.116174399\n",
      "1559 246.953804298\n",
      "1559 246.94288028\n",
      "1559 275.458343932\n",
      "1559 247.014063053\n",
      "1559 319.795207822\n",
      "1559 248.186856535\n",
      "1559 243.141966668\n",
      "1559 247.542273375\n",
      "1559 246.839409548\n",
      "1559 246.839409548\n",
      "1559 246.953804298\n",
      "1559 267.599579565\n",
      "1559 354.717829984\n",
      "1559 275.587076796\n",
      "1559 247.191170771\n",
      "1559 247.116174399\n",
      "1559 247.20036943\n",
      "1601 (576252, 46)\n",
      "1609 299.215124968\n",
      "1609 1\n",
      "1651 (592509, 46)\n",
      "1701 (618174, 46)\n",
      "1751 (640100, 46)\n",
      "1765 334.418523797\n",
      "1765 1\n",
      "1801 (659827, 46)\n",
      "1851 (686259, 46)\n",
      "1901 (709908, 46)\n",
      "1904 217.649607348\n",
      "1904 217.650726258\n",
      "1904 217.649487078\n",
      "1904 217.649177236\n",
      "1904 217.649152424\n",
      "1904 217.649395107\n",
      "1904 217.650697741\n",
      "1904 217.648799343\n",
      "1904 217.649152424\n",
      "1904 217.649167046\n",
      "1904 217.648991311\n",
      "1904 217.655408176\n",
      "1904 217.648710329\n",
      "1904 217.648576757\n",
      "1904 217.650697741\n",
      "1904 217.649313494\n",
      "1904 217.648821763\n",
      "1904 217.649031244\n",
      "1904 217.649313494\n",
      "1940 216.260250955\n",
      "1940 216.260992364\n",
      "1940 216.261868814\n",
      "1940 216.260250955\n",
      "1940 216.261140745\n",
      "1940 216.260209456\n",
      "1940 216.261630259\n",
      "1940 216.261619563\n",
      "1940 216.260974074\n",
      "1940 216.260250955\n",
      "1940 216.26128604\n",
      "1940 216.261354445\n",
      "1940 216.261905338\n",
      "1940 216.262302168\n",
      "1940 216.260200505\n",
      "1940 216.262952544\n",
      "1940 216.261120879\n",
      "1940 216.260992364\n",
      "1940 216.261344089\n",
      "1951 (728091, 46)\n",
      "2001 (751540, 46)\n",
      "2051 (773844, 46)\n",
      "2101 (793214, 46)\n",
      "2151 (814169, 46)\n",
      "2201 (836332, 46)\n",
      "2251 (856404, 46)\n",
      "2293 466.445454563\n",
      "2293 272.744439489\n",
      "2293 262.509402771\n",
      "2293 287.607984129\n",
      "2293 274.909163377\n",
      "2293 272.930842005\n",
      "2293 257.416887129\n",
      "2293 271.320087093\n",
      "2293 280.478065704\n",
      "2293 267.234746835\n",
      "2293 268.173465985\n",
      "2293 273.117913989\n",
      "2293 276.828433441\n",
      "2293 287.607984129\n",
      "2293 270.864284505\n",
      "2293 262.509402771\n",
      "2293 1\n",
      "2301 (877189, 46)\n",
      "2303 324.427943027\n",
      "2303 6\n",
      "2351 (893296, 46)\n",
      "2401 (908062, 46)\n",
      "2451 (922812, 46)\n",
      "2501 (948005, 46)\n",
      "2505 254.542152478\n",
      "2505 254.545307178\n",
      "2505 254.545355083\n",
      "2505 254.546016458\n",
      "2505 254.542751195\n",
      "2505 254.545449112\n",
      "2505 254.481485171\n",
      "2505 254.544602148\n",
      "2505 266.472775571\n",
      "2505 254.54498587\n",
      "2505 254.545307178\n",
      "2505 254.542995559\n",
      "2505 254.545355083\n",
      "2505 254.54498587\n",
      "2505 254.545490615\n",
      "2505 254.539542238\n",
      "2505 254.539131307\n",
      "2505 254.549070326\n",
      "2505 254.538798785\n",
      "2551 (970455, 46)\n",
      "(983573, 46)\n"
     ]
    }
   ],
   "source": [
    "# initializing new data frame with two rows which will be deleted after\n",
    "newdata = pd.DataFrame(data.loc[1:2,:])\n",
    "\n",
    "for u,i in enumerate(uCRHtps):\n",
    "    if u%50==1:\n",
    "        print u, newdata.shape\n",
    "    subset = data[(data['Course Name']==i[0]) & (data['Round']==int(i[1])) & (data['Hole']==int(i[2]))]\n",
    "    before = subset.shape[0]\n",
    "    if subset[subset['Distance to Hole after the Shot']!=0].shape[0] == 0:\n",
    "        continue\n",
    "    d = subset[subset['Shot']==1]['Distance'].values/12.0\n",
    "    x = subset[subset['Shot']==1]['X Coordinate'].values\n",
    "    y = subset[subset['Shot']==1]['Y Coordinate'].values\n",
    "    z = subset[subset['Shot']==1]['Z Coordinate'].values\n",
    "    rand_ind = np.random.choice(range(subset[subset['Shot']==1].shape[0]),size=1)\n",
    "    rand_shot = subset[subset['Shot']==1][['X Coordinate','Y Coordinate','Z Coordinate']].values[rand_ind,:].tolist()[0]\n",
    "    x0,y0,z0 = rand_shot[0],rand_shot[1],rand_shot[2]\n",
    "    a = find_the_tee_box()\n",
    "    subset.insert(len(subset.columns),'dist_w_impute',np.array([0]*subset[subset['Shot']!=1].shape[0] \\\n",
    "                  + (((x-a[0])**2 + (y-a[1])**2 + (z-a[2])**2)**.5).tolist()))\n",
    "    subset.insert(len(subset.columns),'dist_diff',np.array([abs(subset['dist_w_impute'].values[j] - \\\n",
    "                  subset['Distance'].values[j]/12) if subset['Shot'].values[j]==1 else 0 for j in range(subset.shape[0])]))\n",
    "    mean_err = subset[subset['dist_diff']>0]['dist_diff'].mean()\n",
    "    std_err = subset[subset['dist_diff']>0]['dist_diff'].std()\n",
    "    c=0\n",
    "    while mean_err>216:\n",
    "        c+=1\n",
    "        if c>=20:\n",
    "            break\n",
    "        print u,mean_err\n",
    "        subset = subset.drop(subset[subset['dist_diff'] > mean_err + 2.5*std_err].index,axis=0)\n",
    "        subset = subset.drop('dist_w_impute',axis=1)\n",
    "        subset = subset.drop('dist_diff',axis=1)\n",
    "        d = subset[subset['Shot']==1]['Distance'].values/12.0\n",
    "        x = subset[subset['Shot']==1]['X Coordinate'].values\n",
    "        y = subset[subset['Shot']==1]['Y Coordinate'].values\n",
    "        z = subset[subset['Shot']==1]['Z Coordinate'].values\n",
    "        rand_ind = np.random.choice(range(subset[subset['Shot']==1].shape[0]),size=1)\n",
    "        rand_shot = subset[subset['Shot']==1][['X Coordinate','Y Coordinate','Z Coordinate']].values[rand_ind,:].tolist()[0]\n",
    "        x0,y0,z0 = rand_shot[0],rand_shot[1],rand_shot[2]\n",
    "        a = find_the_tee_box()\n",
    "        subset.insert(len(subset.columns),'dist_w_impute',np.array([0]*subset[subset['Shot']!=1].shape[0] \\\n",
    "                  + (((x-a[0])**2 + (y-a[1])**2 + (z-a[2])**2)**.5).tolist()))\n",
    "        subset.insert(len(subset.columns),'dist_diff',np.array([abs(subset['dist_w_impute'].values[j] - \\\n",
    "                  subset['Distance'].values[j]/12) if subset['Shot'].values[j]==1 else 0 for j in range(subset.shape[0])]))\n",
    "        mean_err = subset[subset['dist_diff']>0]['dist_diff'].mean()\n",
    "        std_err = subset[subset['dist_diff']>0]['dist_diff'].std()\n",
    "    if c==20:\n",
    "        continue\n",
    "    subset = subset.drop('dist_w_impute',axis=1)\n",
    "    subset = subset.drop('dist_diff',axis=1)\n",
    "    subset.insert(len(subset.columns),'Tee Box X Coordinate',np.array([a[0]]*subset.shape[0]))\n",
    "    subset.insert(len(subset.columns),'Tee Box Y Coordinate',np.array([a[1]]*subset.shape[0]))\n",
    "    subset.insert(len(subset.columns),'Tee Box Z Coordinate',np.array([a[2]]*subset.shape[0]))\n",
    "    after = subset.shape[0]\n",
    "    if before-after>0:\n",
    "        print u, before-after\n",
    "    newdata = newdata.append(subset)\n",
    "    #print u,newdata.shape\n",
    "\n",
    "newdata.drop(newdata.head(2).index, inplace=True)\n",
    "print newdata.shape\n"
   ]
  },
  {
   "cell_type": "code",
   "execution_count": null,
   "metadata": {
    "collapsed": true
   },
   "outputs": [],
   "source": []
  }
 ],
 "metadata": {
  "kernelspec": {
   "display_name": "Python 2",
   "language": "python",
   "name": "python2"
  },
  "language_info": {
   "codemirror_mode": {
    "name": "ipython",
    "version": 2
   },
   "file_extension": ".py",
   "mimetype": "text/x-python",
   "name": "python",
   "nbconvert_exporter": "python",
   "pygments_lexer": "ipython2",
   "version": "2.7.11"
  }
 },
 "nbformat": 4,
 "nbformat_minor": 0
}
