{
 "cells": [
  {
   "cell_type": "code",
   "execution_count": 1,
   "metadata": {
    "collapsed": true
   },
   "outputs": [],
   "source": [
    "import pandas as pd\n",
    "import numpy as np"
   ]
  },
  {
   "cell_type": "code",
   "execution_count": 2,
   "metadata": {
    "collapsed": false
   },
   "outputs": [
    {
     "name": "stderr",
     "output_type": "stream",
     "text": [
      "/home/ubuntu/anaconda2/lib/python2.7/site-packages/IPython/core/interactiveshell.py:2902: DtypeWarning: Columns (18,24) have mixed types. Specify dtype option on import or set low_memory=False.\n",
      "  interactivity=interactivity, compiler=compiler, result=result)\n"
     ]
    }
   ],
   "source": [
    "data = pd.read_csv('data/2016.csv')"
   ]
  },
  {
   "cell_type": "code",
   "execution_count": 3,
   "metadata": {
    "collapsed": false
   },
   "outputs": [
    {
     "data": {
      "text/html": [
       "<div>\n",
       "<table border=\"1\" class=\"dataframe\">\n",
       "  <thead>\n",
       "    <tr style=\"text-align: right;\">\n",
       "      <th></th>\n",
       "      <th>Year</th>\n",
       "      <th>Tourn.#</th>\n",
       "      <th>Player_#</th>\n",
       "      <th>Course_#</th>\n",
       "      <th>Permanent_Tournament_#</th>\n",
       "      <th>Player_First_Name</th>\n",
       "      <th>Player_Last_Name</th>\n",
       "      <th>Round</th>\n",
       "      <th>Tournament_Name</th>\n",
       "      <th>Course_Name</th>\n",
       "      <th>...</th>\n",
       "      <th>Started_at_Z</th>\n",
       "      <th>Distance_from_hole</th>\n",
       "      <th>Strokes_Gained</th>\n",
       "      <th>Cat</th>\n",
       "      <th>Green_to_work_with</th>\n",
       "      <th>Difficulty_Baseline</th>\n",
       "      <th>Correction</th>\n",
       "      <th>Difficulty_Start</th>\n",
       "      <th>Difficulty_End</th>\n",
       "      <th>New_Strokes_Gained</th>\n",
       "    </tr>\n",
       "  </thead>\n",
       "  <tbody>\n",
       "    <tr>\n",
       "      <th>0</th>\n",
       "      <td>2016</td>\n",
       "      <td>330</td>\n",
       "      <td>32618</td>\n",
       "      <td>513</td>\n",
       "      <td>25</td>\n",
       "      <td>Rhein</td>\n",
       "      <td>Gibson</td>\n",
       "      <td>1</td>\n",
       "      <td>FedEx St. Jude Classic</td>\n",
       "      <td>TPC Southwind</td>\n",
       "      <td>...</td>\n",
       "      <td>NaN</td>\n",
       "      <td>1422.010460</td>\n",
       "      <td>0.130244</td>\n",
       "      <td>Tee Box</td>\n",
       "      <td>NaN</td>\n",
       "      <td>NaN</td>\n",
       "      <td>0</td>\n",
       "      <td>4.227273</td>\n",
       "      <td>3.514310</td>\n",
       "      <td>-0.287037</td>\n",
       "    </tr>\n",
       "    <tr>\n",
       "      <th>1</th>\n",
       "      <td>2016</td>\n",
       "      <td>420</td>\n",
       "      <td>24511</td>\n",
       "      <td>715</td>\n",
       "      <td>33</td>\n",
       "      <td>Thongchai</td>\n",
       "      <td>Jaidee</td>\n",
       "      <td>2</td>\n",
       "      <td>PGA Championship</td>\n",
       "      <td>Baltusrol GC</td>\n",
       "      <td>...</td>\n",
       "      <td>NaN</td>\n",
       "      <td>1075.871226</td>\n",
       "      <td>0.138178</td>\n",
       "      <td>Tee Box</td>\n",
       "      <td>NaN</td>\n",
       "      <td>NaN</td>\n",
       "      <td>0</td>\n",
       "      <td>3.909677</td>\n",
       "      <td>2.887478</td>\n",
       "      <td>0.022199</td>\n",
       "    </tr>\n",
       "    <tr>\n",
       "      <th>2</th>\n",
       "      <td>2016</td>\n",
       "      <td>460</td>\n",
       "      <td>25686</td>\n",
       "      <td>752</td>\n",
       "      <td>13</td>\n",
       "      <td>Jason</td>\n",
       "      <td>Dufner</td>\n",
       "      <td>1</td>\n",
       "      <td>Wyndham Championship</td>\n",
       "      <td>Sedgefield CC</td>\n",
       "      <td>...</td>\n",
       "      <td>NaN</td>\n",
       "      <td>1576.939583</td>\n",
       "      <td>0.219823</td>\n",
       "      <td>Tee Box</td>\n",
       "      <td>NaN</td>\n",
       "      <td>NaN</td>\n",
       "      <td>0</td>\n",
       "      <td>4.435115</td>\n",
       "      <td>3.241839</td>\n",
       "      <td>0.193275</td>\n",
       "    </tr>\n",
       "    <tr>\n",
       "      <th>3</th>\n",
       "      <td>2016</td>\n",
       "      <td>460</td>\n",
       "      <td>6332</td>\n",
       "      <td>752</td>\n",
       "      <td>13</td>\n",
       "      <td>Neal</td>\n",
       "      <td>Lancaster</td>\n",
       "      <td>1</td>\n",
       "      <td>Wyndham Championship</td>\n",
       "      <td>Sedgefield CC</td>\n",
       "      <td>...</td>\n",
       "      <td>NaN</td>\n",
       "      <td>538.951350</td>\n",
       "      <td>-0.330270</td>\n",
       "      <td>Tee Box</td>\n",
       "      <td>NaN</td>\n",
       "      <td>NaN</td>\n",
       "      <td>0</td>\n",
       "      <td>3.071429</td>\n",
       "      <td>2.237227</td>\n",
       "      <td>-0.165799</td>\n",
       "    </tr>\n",
       "    <tr>\n",
       "      <th>4</th>\n",
       "      <td>2016</td>\n",
       "      <td>450</td>\n",
       "      <td>30692</td>\n",
       "      <td>669</td>\n",
       "      <td>30</td>\n",
       "      <td>Scott</td>\n",
       "      <td>Stallings</td>\n",
       "      <td>4</td>\n",
       "      <td>John Deere Classic</td>\n",
       "      <td>TPC Deere Run</td>\n",
       "      <td>...</td>\n",
       "      <td>NaN</td>\n",
       "      <td>1129.904414</td>\n",
       "      <td>-0.000230</td>\n",
       "      <td>Tee Box</td>\n",
       "      <td>NaN</td>\n",
       "      <td>NaN</td>\n",
       "      <td>0</td>\n",
       "      <td>3.931507</td>\n",
       "      <td>2.928878</td>\n",
       "      <td>0.002629</td>\n",
       "    </tr>\n",
       "  </tbody>\n",
       "</table>\n",
       "<p>5 rows × 47 columns</p>\n",
       "</div>"
      ],
      "text/plain": [
       "   Year  Tourn.#  Player_#  Course_#  Permanent_Tournament_#  \\\n",
       "0  2016      330     32618       513                      25   \n",
       "1  2016      420     24511       715                      33   \n",
       "2  2016      460     25686       752                      13   \n",
       "3  2016      460      6332       752                      13   \n",
       "4  2016      450     30692       669                      30   \n",
       "\n",
       "  Player_First_Name Player_Last_Name  Round         Tournament_Name  \\\n",
       "0             Rhein           Gibson      1  FedEx St. Jude Classic   \n",
       "1         Thongchai           Jaidee      2        PGA Championship   \n",
       "2             Jason           Dufner      1    Wyndham Championship   \n",
       "3              Neal        Lancaster      1    Wyndham Championship   \n",
       "4             Scott        Stallings      4      John Deere Classic   \n",
       "\n",
       "     Course_Name        ...          Started_at_Z  Distance_from_hole  \\\n",
       "0  TPC Southwind        ...                   NaN         1422.010460   \n",
       "1   Baltusrol GC        ...                   NaN         1075.871226   \n",
       "2  Sedgefield CC        ...                   NaN         1576.939583   \n",
       "3  Sedgefield CC        ...                   NaN          538.951350   \n",
       "4  TPC Deere Run        ...                   NaN         1129.904414   \n",
       "\n",
       "   Strokes_Gained      Cat  Green_to_work_with Difficulty_Baseline  \\\n",
       "0        0.130244  Tee Box                 NaN                 NaN   \n",
       "1        0.138178  Tee Box                 NaN                 NaN   \n",
       "2        0.219823  Tee Box                 NaN                 NaN   \n",
       "3       -0.330270  Tee Box                 NaN                 NaN   \n",
       "4       -0.000230  Tee Box                 NaN                 NaN   \n",
       "\n",
       "   Correction Difficulty_Start Difficulty_End New_Strokes_Gained  \n",
       "0           0         4.227273       3.514310          -0.287037  \n",
       "1           0         3.909677       2.887478           0.022199  \n",
       "2           0         4.435115       3.241839           0.193275  \n",
       "3           0         3.071429       2.237227          -0.165799  \n",
       "4           0         3.931507       2.928878           0.002629  \n",
       "\n",
       "[5 rows x 47 columns]"
      ]
     },
     "execution_count": 3,
     "metadata": {},
     "output_type": "execute_result"
    }
   ],
   "source": [
    "data.head()"
   ]
  },
  {
   "cell_type": "code",
   "execution_count": 215,
   "metadata": {
    "collapsed": false
   },
   "outputs": [
    {
     "data": {
      "text/plain": [
       "(297369, 52)"
      ]
     },
     "execution_count": 215,
     "metadata": {},
     "output_type": "execute_result"
    }
   ],
   "source": [
    "data[(data.Shot!=1) & (data.Cat!='Green')].shape"
   ]
  },
  {
   "cell_type": "code",
   "execution_count": 214,
   "metadata": {
    "collapsed": false
   },
   "outputs": [
    {
     "name": "stdout",
     "output_type": "stream",
     "text": [
      "<class 'pandas.core.frame.DataFrame'>\n",
      "Int64Index: 903478 entries, 201152 to 696766\n",
      "Data columns (total 52 columns):\n",
      "Year                               903478 non-null int64\n",
      "Tourn.#                            903478 non-null int64\n",
      "Player_#                           903478 non-null int64\n",
      "Course_#                           903478 non-null int64\n",
      "Permanent_Tournament_#             903478 non-null int64\n",
      "Player_First_Name                  903478 non-null object\n",
      "Player_Last_Name                   903478 non-null object\n",
      "Round                              903478 non-null int64\n",
      "Tournament_Name                    903478 non-null object\n",
      "Course_Name                        903478 non-null object\n",
      "Hole                               903478 non-null int64\n",
      "Hole_Score                         903478 non-null float64\n",
      "Par_Value                          903478 non-null int64\n",
      "Yardage                            903478 non-null int64\n",
      "Shot                               903478 non-null int64\n",
      "Shot_Type(S/P/D)                   903478 non-null object\n",
      "#_of_Strokes                       903478 non-null int64\n",
      "From_Location(Scorer)              903478 non-null object\n",
      "From_Location(Enhanced)            671878 non-null object\n",
      "To_Location(Scorer)                672945 non-null object\n",
      "To_Location(Enhanced)              673054 non-null object\n",
      "Distance                           903478 non-null int64\n",
      "Distance_to_Pin                    903478 non-null int64\n",
      "Around_the_Green_Flag              903478 non-null object\n",
      "1st_Putt_Flag                      228981 non-null object\n",
      "Distance_to_Hole_after_the_Shot    903478 non-null int64\n",
      "Time                               903478 non-null int64\n",
      "Elevation                          903478 non-null object\n",
      "Strokes_Gained/Baseline            903478 non-null float64\n",
      "Strokes_Gained_Category            902077 non-null object\n",
      "Recovery_Shot                      903478 non-null object\n",
      "Shots_taken_from_location          903478 non-null float64\n",
      "Went_to_X                          903478 non-null float64\n",
      "Went_to_Y                          903478 non-null float64\n",
      "Went_to_Z                          903478 non-null float64\n",
      "Started_at_X                       903478 non-null float64\n",
      "Started_at_Y                       903478 non-null float64\n",
      "Started_at_Z                       671878 non-null float64\n",
      "Distance_from_hole                 903478 non-null float64\n",
      "Strokes_Gained                     903478 non-null float64\n",
      "Cat                                903478 non-null object\n",
      "Green_to_work_with                 297369 non-null float64\n",
      "Difficulty_Baseline                671878 non-null float64\n",
      "Correction                         903478 non-null float64\n",
      "Difficulty_Start                   903478 non-null float64\n",
      "Difficulty_End                     903478 non-null float64\n",
      "New_Strokes_Gained                 903478 non-null float64\n",
      "Difficulty_Start_broadie           903478 non-null float64\n",
      "Difficulty_Start_old               903478 non-null float64\n",
      "Difficulty_Start_exp               903478 non-null float64\n",
      "Strokes_Gained_ensemble            903478 non-null float64\n",
      "Difficulty_Start_ensemble          903478 non-null float64\n",
      "dtypes: float64(22), int64(15), object(15)\n",
      "memory usage: 365.3+ MB\n"
     ]
    }
   ],
   "source": [
    "data.info()"
   ]
  },
  {
   "cell_type": "code",
   "execution_count": 162,
   "metadata": {
    "collapsed": false
   },
   "outputs": [
    {
     "data": {
      "text/plain": [
       "0.49222364998111306"
      ]
     },
     "execution_count": 162,
     "metadata": {},
     "output_type": "execute_result"
    }
   ],
   "source": [
    "np.mean((data.Shots_taken_from_location-data.Difficulty_Start)**2)**.5"
   ]
  },
  {
   "cell_type": "code",
   "execution_count": 163,
   "metadata": {
    "collapsed": false
   },
   "outputs": [
    {
     "data": {
      "text/html": [
       "<div>\n",
       "<table border=\"1\" class=\"dataframe\">\n",
       "  <thead>\n",
       "    <tr style=\"text-align: right;\">\n",
       "      <th></th>\n",
       "      <th>Shots_taken_from_location</th>\n",
       "      <th>Strokes_Gained/Baseline</th>\n",
       "      <th>New_Strokes_Gained</th>\n",
       "      <th>Strokes_Gained</th>\n",
       "    </tr>\n",
       "  </thead>\n",
       "  <tbody>\n",
       "    <tr>\n",
       "      <th>201152</th>\n",
       "      <td>4</td>\n",
       "      <td>0.017</td>\n",
       "      <td>0.211214</td>\n",
       "      <td>0.137647</td>\n",
       "    </tr>\n",
       "    <tr>\n",
       "      <th>238308</th>\n",
       "      <td>3</td>\n",
       "      <td>-0.644</td>\n",
       "      <td>-0.624658</td>\n",
       "      <td>-0.620946</td>\n",
       "    </tr>\n",
       "    <tr>\n",
       "      <th>643350</th>\n",
       "      <td>2</td>\n",
       "      <td>0.245</td>\n",
       "      <td>0.212545</td>\n",
       "      <td>0.356282</td>\n",
       "    </tr>\n",
       "    <tr>\n",
       "      <th>752441</th>\n",
       "      <td>1</td>\n",
       "      <td>0.333</td>\n",
       "      <td>0.354744</td>\n",
       "      <td>0.280863</td>\n",
       "    </tr>\n",
       "    <tr>\n",
       "      <th>175510</th>\n",
       "      <td>5</td>\n",
       "      <td>0.095</td>\n",
       "      <td>0.139868</td>\n",
       "      <td>0.041976</td>\n",
       "    </tr>\n",
       "  </tbody>\n",
       "</table>\n",
       "</div>"
      ],
      "text/plain": [
       "        Shots_taken_from_location  Strokes_Gained/Baseline  \\\n",
       "201152                          4                    0.017   \n",
       "238308                          3                   -0.644   \n",
       "643350                          2                    0.245   \n",
       "752441                          1                    0.333   \n",
       "175510                          5                    0.095   \n",
       "\n",
       "        New_Strokes_Gained  Strokes_Gained  \n",
       "201152            0.211214        0.137647  \n",
       "238308           -0.624658       -0.620946  \n",
       "643350            0.212545        0.356282  \n",
       "752441            0.354744        0.280863  \n",
       "175510            0.139868        0.041976  "
      ]
     },
     "execution_count": 163,
     "metadata": {},
     "output_type": "execute_result"
    }
   ],
   "source": [
    "data[['Shots_taken_from_location','Strokes_Gained/Baseline','New_Strokes_Gained','Strokes_Gained']].head(5)"
   ]
  },
  {
   "cell_type": "code",
   "execution_count": 164,
   "metadata": {
    "collapsed": false
   },
   "outputs": [],
   "source": [
    "data = data.drop('Difficulty_Start_old',axis=1)"
   ]
  },
  {
   "cell_type": "code",
   "execution_count": 165,
   "metadata": {
    "collapsed": false
   },
   "outputs": [],
   "source": [
    "data.insert(len(data.columns),'Difficulty_Start_old',[0]*len(data))"
   ]
  },
  {
   "cell_type": "code",
   "execution_count": 166,
   "metadata": {
    "collapsed": true
   },
   "outputs": [],
   "source": [
    "data.loc[data.Shot==data.Hole_Score,'Difficulty_Start_old'] = data[data.Shot==data.Hole_Score].Strokes_Gained + 1\n",
    "data.loc[data.Difficulty_Start_old<1,'Difficulty_Start_old'] = 1"
   ]
  },
  {
   "cell_type": "code",
   "execution_count": 167,
   "metadata": {
    "collapsed": false
   },
   "outputs": [],
   "source": [
    "data=data.sort_values(['Player_#','Course_#','Round','Hole'])\n",
    "for i in range(1,int(data.Hole_Score.max())+1): ##i is hole_score\n",
    "    for j in range(i-1,0,-1): ##j is shot\n",
    "        data.loc[(data.Hole_Score==i) & (data.Shot==j),'Difficulty_Start_old'] = \\\n",
    "                                                data[(data.Hole_Score==i) & (data.Shot==j+1)].Difficulty_Start_old.values +\\\n",
    "                                                    data[(data.Hole_Score==i) & (data.Shot==j)].Strokes_Gained.values + 1\n",
    "        data.loc[data.Difficulty_Start_old<1,'Difficulty_Start_old'] = 1"
   ]
  },
  {
   "cell_type": "code",
   "execution_count": 168,
   "metadata": {
    "collapsed": false
   },
   "outputs": [
    {
     "data": {
      "text/plain": [
       "count    903478.000000\n",
       "mean          2.515131\n",
       "std           1.121885\n",
       "min           1.000000\n",
       "25%           1.343104\n",
       "50%           2.548354\n",
       "75%           3.353205\n",
       "max           5.385216\n",
       "Name: Difficulty_Start_old, dtype: float64"
      ]
     },
     "execution_count": 168,
     "metadata": {},
     "output_type": "execute_result"
    }
   ],
   "source": [
    "data.Difficulty_Start_old.describe()"
   ]
  },
  {
   "cell_type": "code",
   "execution_count": 169,
   "metadata": {
    "collapsed": false
   },
   "outputs": [
    {
     "data": {
      "text/plain": [
       "count    903478.000000\n",
       "mean          2.538521\n",
       "std           1.124146\n",
       "min           1.000000\n",
       "25%           1.544086\n",
       "50%           2.561911\n",
       "75%           3.364238\n",
       "max           5.294118\n",
       "Name: Difficulty_Start, dtype: float64"
      ]
     },
     "execution_count": 169,
     "metadata": {},
     "output_type": "execute_result"
    }
   ],
   "source": [
    "data.Difficulty_Start.describe()"
   ]
  },
  {
   "cell_type": "code",
   "execution_count": 170,
   "metadata": {
    "collapsed": false
   },
   "outputs": [
    {
     "data": {
      "text/plain": [
       "0.5167688233505884"
      ]
     },
     "execution_count": 170,
     "metadata": {},
     "output_type": "execute_result"
    }
   ],
   "source": [
    "np.mean((data.Shots_taken_from_location-data.Difficulty_Start_old)**2)**.5"
   ]
  },
  {
   "cell_type": "code",
   "execution_count": 178,
   "metadata": {
    "collapsed": true
   },
   "outputs": [],
   "source": [
    "data = data.drop('Difficulty_Start_exp',axis=1)"
   ]
  },
  {
   "cell_type": "code",
   "execution_count": 179,
   "metadata": {
    "collapsed": false,
    "scrolled": true
   },
   "outputs": [],
   "source": [
    "data.insert(len(data.columns),'Difficulty_Start_exp',[0]*len(data))"
   ]
  },
  {
   "cell_type": "code",
   "execution_count": 180,
   "metadata": {
    "collapsed": true
   },
   "outputs": [],
   "source": [
    "data.loc[data.Shot==data.Hole_Score,'Difficulty_Start_exp'] = data[data.Shot==data.Hole_Score].New_Strokes_Gained + 1\n",
    "data.loc[data.Difficulty_Start_old<1,'Difficulty_Start_exp'] = 1"
   ]
  },
  {
   "cell_type": "code",
   "execution_count": 181,
   "metadata": {
    "collapsed": true
   },
   "outputs": [],
   "source": [
    "data=data.sort_values(['Player_#','Course_#','Round','Hole'])\n",
    "for i in range(1,int(data.Hole_Score.max())+1): ##i is hole_score\n",
    "    for j in range(i-1,0,-1): ##j is shot\n",
    "        data.loc[(data.Hole_Score==i) & (data.Shot==j),'Difficulty_Start_exp'] = \\\n",
    "                                                data[(data.Hole_Score==i) & (data.Shot==j+1)].Difficulty_Start_exp.values +\\\n",
    "                                                    data[(data.Hole_Score==i) & (data.Shot==j)].New_Strokes_Gained.values + 1\n",
    "        data.loc[data.Difficulty_Start_exp<1,'Difficulty_Start_exp'] = 1"
   ]
  },
  {
   "cell_type": "code",
   "execution_count": 182,
   "metadata": {
    "collapsed": false
   },
   "outputs": [
    {
     "data": {
      "text/plain": [
       "count    903478.000000\n",
       "mean          2.538521\n",
       "std           1.124146\n",
       "min           1.000000\n",
       "25%           1.544086\n",
       "50%           2.561911\n",
       "75%           3.364238\n",
       "max           5.294118\n",
       "Name: Difficulty_Start_exp, dtype: float64"
      ]
     },
     "execution_count": 182,
     "metadata": {},
     "output_type": "execute_result"
    }
   ],
   "source": [
    "data.Difficulty_Start_exp.describe()"
   ]
  },
  {
   "cell_type": "code",
   "execution_count": 183,
   "metadata": {
    "collapsed": false
   },
   "outputs": [
    {
     "data": {
      "text/plain": [
       "0.492223649981131"
      ]
     },
     "execution_count": 183,
     "metadata": {},
     "output_type": "execute_result"
    }
   ],
   "source": [
    "np.mean((data.Shots_taken_from_location-data.Difficulty_Start_exp)**2)**.5"
   ]
  },
  {
   "cell_type": "code",
   "execution_count": 149,
   "metadata": {
    "collapsed": true
   },
   "outputs": [],
   "source": [
    "data = data.drop('Difficulty_Start_broadie',axis=1)"
   ]
  },
  {
   "cell_type": "code",
   "execution_count": 150,
   "metadata": {
    "collapsed": false
   },
   "outputs": [],
   "source": [
    "data.insert(len(data.columns),'Difficulty_Start_broadie',[0]*len(data))"
   ]
  },
  {
   "cell_type": "code",
   "execution_count": 151,
   "metadata": {
    "collapsed": true
   },
   "outputs": [],
   "source": [
    "data.loc[data.Shot==data.Hole_Score,'Difficulty_Start_broadie'] = data[data.Shot==data.Hole_Score]['Strokes_Gained/Baseline'] + 1\n",
    "data.loc[data.Difficulty_Start_broadie<1,'Difficulty_Start_broadie'] = 1"
   ]
  },
  {
   "cell_type": "code",
   "execution_count": 152,
   "metadata": {
    "collapsed": true
   },
   "outputs": [],
   "source": [
    "data=data.sort_values(['Player_#','Course_#','Round','Hole'])\n",
    "for i in range(1,int(data.Hole_Score.max())+1): ##i is hole_score\n",
    "    for j in range(i-1,0,-1): ##j is shot\n",
    "        data.loc[(data.Hole_Score==i) & (data.Shot==j),'Difficulty_Start_broadie'] = \\\n",
    "                                                data[(data.Hole_Score==i) & (data.Shot==j+1)].Difficulty_Start_broadie.values +\\\n",
    "                                                    data[(data.Hole_Score==i) & (data.Shot==j)]['Strokes_Gained/Baseline'].values + 1\n",
    "        data.loc[data.Difficulty_Start_broadie<1,'Difficulty_Start_broadie'] = 1"
   ]
  },
  {
   "cell_type": "code",
   "execution_count": 153,
   "metadata": {
    "collapsed": false
   },
   "outputs": [
    {
     "data": {
      "text/plain": [
       "count    903478.000000\n",
       "mean          2.548462\n",
       "std           1.137123\n",
       "min           1.000000\n",
       "25%           1.544000\n",
       "50%           2.559000\n",
       "75%           3.350000\n",
       "max           5.031000\n",
       "Name: Difficulty_Start_broadie, dtype: float64"
      ]
     },
     "execution_count": 153,
     "metadata": {},
     "output_type": "execute_result"
    }
   ],
   "source": [
    "data.Difficulty_Start_broadie.describe()"
   ]
  },
  {
   "cell_type": "code",
   "execution_count": 31,
   "metadata": {
    "collapsed": true
   },
   "outputs": [],
   "source": [
    "data.loc[data.Shot==1,'Difficulty_Start_broadie'] = data[data.Shot==1].Difficulty_Start"
   ]
  },
  {
   "cell_type": "code",
   "execution_count": 154,
   "metadata": {
    "collapsed": false
   },
   "outputs": [
    {
     "data": {
      "text/plain": [
       "0.49572168492165336"
      ]
     },
     "execution_count": 154,
     "metadata": {},
     "output_type": "execute_result"
    }
   ],
   "source": [
    "np.mean((data.Shots_taken_from_location-data.Difficulty_Start_broadie)**2)**.5"
   ]
  },
  {
   "cell_type": "code",
   "execution_count": 156,
   "metadata": {
    "collapsed": false
   },
   "outputs": [
    {
     "data": {
      "text/plain": [
       "0.4921490959414464"
      ]
     },
     "execution_count": 156,
     "metadata": {},
     "output_type": "execute_result"
    }
   ],
   "source": [
    "np.mean((data.Shots_taken_from_location-(data.Difficulty_Start_broadie+data.Difficulty_Start)/2)**2)**.5"
   ]
  },
  {
   "cell_type": "code",
   "execution_count": 197,
   "metadata": {
    "collapsed": false
   },
   "outputs": [],
   "source": [
    "data = data.drop(['Strokes_Gained_ensemble','Difficulty_Start_ensemble'],axis=1)"
   ]
  },
  {
   "cell_type": "code",
   "execution_count": 198,
   "metadata": {
    "collapsed": false
   },
   "outputs": [],
   "source": [
    "data.insert(len(data.columns),'Strokes_Gained_ensemble',data.Strokes_Gained-data.Correction)"
   ]
  },
  {
   "cell_type": "code",
   "execution_count": 199,
   "metadata": {
    "collapsed": false
   },
   "outputs": [],
   "source": [
    "data.insert(len(data.columns),'Difficulty_Start_ensemble',[0]*len(data))"
   ]
  },
  {
   "cell_type": "code",
   "execution_count": 200,
   "metadata": {
    "collapsed": true
   },
   "outputs": [],
   "source": [
    "data.loc[data.Shot==data.Hole_Score,'Difficulty_Start_ensemble'] = data[data.Shot==data.Hole_Score].Strokes_Gained_ensemble + 1\n",
    "data.loc[data.Difficulty_Start_ensemble<1,'Difficulty_Start_ensemble'] = 1"
   ]
  },
  {
   "cell_type": "code",
   "execution_count": 201,
   "metadata": {
    "collapsed": true
   },
   "outputs": [],
   "source": [
    "data=data.sort_values(['Player_#','Course_#','Round','Hole'])\n",
    "for i in range(1,int(data.Hole_Score.max())+1): ##i is hole_score\n",
    "    for j in range(i-1,0,-1): ##j is shot\n",
    "        data.loc[(data.Hole_Score==i) & (data.Shot==j),'Difficulty_Start_ensemble'] = \\\n",
    "                                                data[(data.Hole_Score==i) & (data.Shot==j+1)].Difficulty_Start_ensemble.values +\\\n",
    "                                                    data[(data.Hole_Score==i) & (data.Shot==j)].Strokes_Gained_ensemble.values + 1\n",
    "        data.loc[data.Difficulty_Start_ensemble<1,'Difficulty_Start_ensemble'] = 1\n",
    "        data.loc[data.Difficulty_Start_ensemble<1,'Difficulty_Start_ensemble'] = 1"
   ]
  },
  {
   "cell_type": "code",
   "execution_count": 202,
   "metadata": {
    "collapsed": false
   },
   "outputs": [
    {
     "data": {
      "text/plain": [
       "0.5167318977542543"
      ]
     },
     "execution_count": 202,
     "metadata": {},
     "output_type": "execute_result"
    }
   ],
   "source": [
    "np.mean((data.Shots_taken_from_location-data.Difficulty_Start_ensemble)**2)**.5"
   ]
  },
  {
   "cell_type": "code",
   "execution_count": 203,
   "metadata": {
    "collapsed": false
   },
   "outputs": [
    {
     "data": {
      "text/plain": [
       "0.5167688233505884"
      ]
     },
     "execution_count": 203,
     "metadata": {},
     "output_type": "execute_result"
    }
   ],
   "source": [
    "np.mean((data.Shots_taken_from_location-data.Difficulty_Start_old)**2)**.5"
   ]
  },
  {
   "cell_type": "code",
   "execution_count": 204,
   "metadata": {
    "collapsed": false
   },
   "outputs": [
    {
     "data": {
      "text/plain": [
       "0.38174287896900644"
      ]
     },
     "execution_count": 204,
     "metadata": {},
     "output_type": "execute_result"
    }
   ],
   "source": [
    "np.mean((data[data.Cat=='Green'].Shots_taken_from_location-data[data.Cat=='Green'].Difficulty_Start_ensemble)**2)**.5"
   ]
  },
  {
   "cell_type": "code",
   "execution_count": 205,
   "metadata": {
    "collapsed": false
   },
   "outputs": [
    {
     "data": {
      "text/plain": [
       "0.38183991328997247"
      ]
     },
     "execution_count": 205,
     "metadata": {},
     "output_type": "execute_result"
    }
   ],
   "source": [
    "np.mean((data[data.Cat=='Green'].Shots_taken_from_location-data[data.Cat=='Green'].Difficulty_Start_old)**2)**.5"
   ]
  },
  {
   "cell_type": "code",
   "execution_count": 213,
   "metadata": {
    "collapsed": false
   },
   "outputs": [
    {
     "data": {
      "text/plain": [
       "0.007206844261355222"
      ]
     },
     "execution_count": 213,
     "metadata": {},
     "output_type": "execute_result"
    }
   ],
   "source": [
    "(0.49572168492165336-0.4921490959414464)/0.49572168492165336"
   ]
  },
  {
   "cell_type": "code",
   "execution_count": 209,
   "metadata": {
    "collapsed": false
   },
   "outputs": [
    {
     "data": {
      "image/png": "[encoded data removed]",
      "text/plain": [
       "<matplotlib.figure.Figure at 0x7f2f74964d50>"
      ]
     },
     "metadata": {},
     "output_type": "display_data"
    }
   ],
   "source": [
    "import matplotlib.pyplot as plt\n",
    "%matplotlib inline\n",
    "plt.hist(data[data.Shot==data.Hole_Score].Difficulty_Start.values,10);"
   ]
  },
  {
   "cell_type": "code",
   "execution_count": 212,
   "metadata": {
    "collapsed": false
   },
   "outputs": [
    {
     "data": {
      "text/html": [
       "<div>\n",
       "<table border=\"1\" class=\"dataframe\">\n",
       "  <thead>\n",
       "    <tr style=\"text-align: right;\">\n",
       "      <th></th>\n",
       "      <th>New_Strokes_Gained</th>\n",
       "      <th>Strokes_Gained</th>\n",
       "      <th>Strokes_Gained/Baseline</th>\n",
       "    </tr>\n",
       "  </thead>\n",
       "  <tbody>\n",
       "    <tr>\n",
       "      <th>373509</th>\n",
       "      <td>2.692250</td>\n",
       "      <td>2.284075</td>\n",
       "      <td>2.541</td>\n",
       "    </tr>\n",
       "    <tr>\n",
       "      <th>347495</th>\n",
       "      <td>2.684725</td>\n",
       "      <td>2.641109</td>\n",
       "      <td>2.609</td>\n",
       "    </tr>\n",
       "    <tr>\n",
       "      <th>434985</th>\n",
       "      <td>2.527545</td>\n",
       "      <td>2.607725</td>\n",
       "      <td>2.516</td>\n",
       "    </tr>\n",
       "    <tr>\n",
       "      <th>401242</th>\n",
       "      <td>2.437059</td>\n",
       "      <td>2.364084</td>\n",
       "      <td>2.499</td>\n",
       "    </tr>\n",
       "    <tr>\n",
       "      <th>401611</th>\n",
       "      <td>2.428382</td>\n",
       "      <td>2.587039</td>\n",
       "      <td>2.380</td>\n",
       "    </tr>\n",
       "    <tr>\n",
       "      <th>382801</th>\n",
       "      <td>2.341731</td>\n",
       "      <td>2.325771</td>\n",
       "      <td>2.336</td>\n",
       "    </tr>\n",
       "    <tr>\n",
       "      <th>379452</th>\n",
       "      <td>2.261159</td>\n",
       "      <td>1.972524</td>\n",
       "      <td>2.192</td>\n",
       "    </tr>\n",
       "    <tr>\n",
       "      <th>378331</th>\n",
       "      <td>2.249518</td>\n",
       "      <td>1.687638</td>\n",
       "      <td>2.185</td>\n",
       "    </tr>\n",
       "    <tr>\n",
       "      <th>405890</th>\n",
       "      <td>2.240852</td>\n",
       "      <td>2.532366</td>\n",
       "      <td>2.234</td>\n",
       "    </tr>\n",
       "    <tr>\n",
       "      <th>381124</th>\n",
       "      <td>2.234804</td>\n",
       "      <td>2.238354</td>\n",
       "      <td>2.284</td>\n",
       "    </tr>\n",
       "    <tr>\n",
       "      <th>403933</th>\n",
       "      <td>2.216872</td>\n",
       "      <td>2.136537</td>\n",
       "      <td>2.232</td>\n",
       "    </tr>\n",
       "    <tr>\n",
       "      <th>351581</th>\n",
       "      <td>2.213161</td>\n",
       "      <td>2.109239</td>\n",
       "      <td>2.222</td>\n",
       "    </tr>\n",
       "    <tr>\n",
       "      <th>266178</th>\n",
       "      <td>2.207053</td>\n",
       "      <td>2.263024</td>\n",
       "      <td>2.200</td>\n",
       "    </tr>\n",
       "    <tr>\n",
       "      <th>601084</th>\n",
       "      <td>2.206064</td>\n",
       "      <td>2.365345</td>\n",
       "      <td>2.184</td>\n",
       "    </tr>\n",
       "    <tr>\n",
       "      <th>583907</th>\n",
       "      <td>2.197152</td>\n",
       "      <td>1.554347</td>\n",
       "      <td>2.142</td>\n",
       "    </tr>\n",
       "    <tr>\n",
       "      <th>234758</th>\n",
       "      <td>2.196787</td>\n",
       "      <td>1.730207</td>\n",
       "      <td>2.184</td>\n",
       "    </tr>\n",
       "    <tr>\n",
       "      <th>409382</th>\n",
       "      <td>2.186570</td>\n",
       "      <td>2.046339</td>\n",
       "      <td>2.180</td>\n",
       "    </tr>\n",
       "    <tr>\n",
       "      <th>340328</th>\n",
       "      <td>2.166438</td>\n",
       "      <td>2.136218</td>\n",
       "      <td>2.180</td>\n",
       "    </tr>\n",
       "    <tr>\n",
       "      <th>367105</th>\n",
       "      <td>2.146522</td>\n",
       "      <td>2.085382</td>\n",
       "      <td>2.110</td>\n",
       "    </tr>\n",
       "    <tr>\n",
       "      <th>391638</th>\n",
       "      <td>2.121431</td>\n",
       "      <td>1.984741</td>\n",
       "      <td>2.130</td>\n",
       "    </tr>\n",
       "    <tr>\n",
       "      <th>386450</th>\n",
       "      <td>2.099483</td>\n",
       "      <td>1.885973</td>\n",
       "      <td>2.083</td>\n",
       "    </tr>\n",
       "    <tr>\n",
       "      <th>564402</th>\n",
       "      <td>2.096110</td>\n",
       "      <td>2.002006</td>\n",
       "      <td>2.074</td>\n",
       "    </tr>\n",
       "    <tr>\n",
       "      <th>595223</th>\n",
       "      <td>2.094319</td>\n",
       "      <td>1.214914</td>\n",
       "      <td>1.925</td>\n",
       "    </tr>\n",
       "    <tr>\n",
       "      <th>405873</th>\n",
       "      <td>2.062155</td>\n",
       "      <td>2.040945</td>\n",
       "      <td>1.981</td>\n",
       "    </tr>\n",
       "    <tr>\n",
       "      <th>401454</th>\n",
       "      <td>2.061555</td>\n",
       "      <td>2.114452</td>\n",
       "      <td>2.072</td>\n",
       "    </tr>\n",
       "    <tr>\n",
       "      <th>392701</th>\n",
       "      <td>2.051898</td>\n",
       "      <td>2.057225</td>\n",
       "      <td>2.024</td>\n",
       "    </tr>\n",
       "    <tr>\n",
       "      <th>390100</th>\n",
       "      <td>2.050198</td>\n",
       "      <td>1.881050</td>\n",
       "      <td>2.035</td>\n",
       "    </tr>\n",
       "    <tr>\n",
       "      <th>376310</th>\n",
       "      <td>2.025297</td>\n",
       "      <td>1.993535</td>\n",
       "      <td>2.026</td>\n",
       "    </tr>\n",
       "    <tr>\n",
       "      <th>598980</th>\n",
       "      <td>2.018252</td>\n",
       "      <td>1.749276</td>\n",
       "      <td>2.015</td>\n",
       "    </tr>\n",
       "    <tr>\n",
       "      <th>380525</th>\n",
       "      <td>2.014362</td>\n",
       "      <td>1.983807</td>\n",
       "      <td>1.995</td>\n",
       "    </tr>\n",
       "    <tr>\n",
       "      <th>...</th>\n",
       "      <td>...</td>\n",
       "      <td>...</td>\n",
       "      <td>...</td>\n",
       "    </tr>\n",
       "    <tr>\n",
       "      <th>856376</th>\n",
       "      <td>-1.328417</td>\n",
       "      <td>-1.141732</td>\n",
       "      <td>-1.333</td>\n",
       "    </tr>\n",
       "    <tr>\n",
       "      <th>410757</th>\n",
       "      <td>-1.330284</td>\n",
       "      <td>-1.108813</td>\n",
       "      <td>-1.236</td>\n",
       "    </tr>\n",
       "    <tr>\n",
       "      <th>463448</th>\n",
       "      <td>-1.331264</td>\n",
       "      <td>-0.531860</td>\n",
       "      <td>-1.260</td>\n",
       "    </tr>\n",
       "    <tr>\n",
       "      <th>308126</th>\n",
       "      <td>-1.332158</td>\n",
       "      <td>-0.597365</td>\n",
       "      <td>-1.945</td>\n",
       "    </tr>\n",
       "    <tr>\n",
       "      <th>147182</th>\n",
       "      <td>-1.334957</td>\n",
       "      <td>-0.750094</td>\n",
       "      <td>-1.105</td>\n",
       "    </tr>\n",
       "    <tr>\n",
       "      <th>471456</th>\n",
       "      <td>-1.337197</td>\n",
       "      <td>-0.974144</td>\n",
       "      <td>-1.326</td>\n",
       "    </tr>\n",
       "    <tr>\n",
       "      <th>358631</th>\n",
       "      <td>-1.343578</td>\n",
       "      <td>-0.966504</td>\n",
       "      <td>-0.364</td>\n",
       "    </tr>\n",
       "    <tr>\n",
       "      <th>389874</th>\n",
       "      <td>-1.360470</td>\n",
       "      <td>-1.121564</td>\n",
       "      <td>-1.313</td>\n",
       "    </tr>\n",
       "    <tr>\n",
       "      <th>322344</th>\n",
       "      <td>-1.381949</td>\n",
       "      <td>-0.170589</td>\n",
       "      <td>-1.199</td>\n",
       "    </tr>\n",
       "    <tr>\n",
       "      <th>791397</th>\n",
       "      <td>-1.383073</td>\n",
       "      <td>-1.226080</td>\n",
       "      <td>-1.380</td>\n",
       "    </tr>\n",
       "    <tr>\n",
       "      <th>321820</th>\n",
       "      <td>-1.384039</td>\n",
       "      <td>-1.422704</td>\n",
       "      <td>-1.251</td>\n",
       "    </tr>\n",
       "    <tr>\n",
       "      <th>499261</th>\n",
       "      <td>-1.394828</td>\n",
       "      <td>-1.162603</td>\n",
       "      <td>-1.459</td>\n",
       "    </tr>\n",
       "    <tr>\n",
       "      <th>845979</th>\n",
       "      <td>-1.398123</td>\n",
       "      <td>-1.502435</td>\n",
       "      <td>-1.233</td>\n",
       "    </tr>\n",
       "    <tr>\n",
       "      <th>260962</th>\n",
       "      <td>-1.413037</td>\n",
       "      <td>-0.503171</td>\n",
       "      <td>-1.237</td>\n",
       "    </tr>\n",
       "    <tr>\n",
       "      <th>273055</th>\n",
       "      <td>-1.413544</td>\n",
       "      <td>-1.061911</td>\n",
       "      <td>-1.393</td>\n",
       "    </tr>\n",
       "    <tr>\n",
       "      <th>185833</th>\n",
       "      <td>-1.419216</td>\n",
       "      <td>-0.797466</td>\n",
       "      <td>-0.943</td>\n",
       "    </tr>\n",
       "    <tr>\n",
       "      <th>790991</th>\n",
       "      <td>-1.425793</td>\n",
       "      <td>-1.201219</td>\n",
       "      <td>-1.417</td>\n",
       "    </tr>\n",
       "    <tr>\n",
       "      <th>194571</th>\n",
       "      <td>-1.445106</td>\n",
       "      <td>-1.431378</td>\n",
       "      <td>-0.878</td>\n",
       "    </tr>\n",
       "    <tr>\n",
       "      <th>657372</th>\n",
       "      <td>-1.445531</td>\n",
       "      <td>-1.155761</td>\n",
       "      <td>-1.452</td>\n",
       "    </tr>\n",
       "    <tr>\n",
       "      <th>469786</th>\n",
       "      <td>-1.487374</td>\n",
       "      <td>-0.844024</td>\n",
       "      <td>-1.307</td>\n",
       "    </tr>\n",
       "    <tr>\n",
       "      <th>867401</th>\n",
       "      <td>-1.516718</td>\n",
       "      <td>-1.151441</td>\n",
       "      <td>-1.528</td>\n",
       "    </tr>\n",
       "    <tr>\n",
       "      <th>825144</th>\n",
       "      <td>-1.567327</td>\n",
       "      <td>-0.890797</td>\n",
       "      <td>-1.436</td>\n",
       "    </tr>\n",
       "    <tr>\n",
       "      <th>466899</th>\n",
       "      <td>-1.576295</td>\n",
       "      <td>-1.701300</td>\n",
       "      <td>-1.479</td>\n",
       "    </tr>\n",
       "    <tr>\n",
       "      <th>473116</th>\n",
       "      <td>-1.592732</td>\n",
       "      <td>-0.692728</td>\n",
       "      <td>-1.483</td>\n",
       "    </tr>\n",
       "    <tr>\n",
       "      <th>783718</th>\n",
       "      <td>-1.600667</td>\n",
       "      <td>-1.249874</td>\n",
       "      <td>-1.615</td>\n",
       "    </tr>\n",
       "    <tr>\n",
       "      <th>470855</th>\n",
       "      <td>-1.602904</td>\n",
       "      <td>-1.343059</td>\n",
       "      <td>-1.525</td>\n",
       "    </tr>\n",
       "    <tr>\n",
       "      <th>469145</th>\n",
       "      <td>-1.606510</td>\n",
       "      <td>-1.567958</td>\n",
       "      <td>-1.655</td>\n",
       "    </tr>\n",
       "    <tr>\n",
       "      <th>464318</th>\n",
       "      <td>-1.610589</td>\n",
       "      <td>-1.283670</td>\n",
       "      <td>-1.470</td>\n",
       "    </tr>\n",
       "    <tr>\n",
       "      <th>811571</th>\n",
       "      <td>-1.628798</td>\n",
       "      <td>-1.530964</td>\n",
       "      <td>-1.652</td>\n",
       "    </tr>\n",
       "    <tr>\n",
       "      <th>680197</th>\n",
       "      <td>-1.867711</td>\n",
       "      <td>-1.384672</td>\n",
       "      <td>-1.871</td>\n",
       "    </tr>\n",
       "  </tbody>\n",
       "</table>\n",
       "<p>903478 rows × 3 columns</p>\n",
       "</div>"
      ],
      "text/plain": [
       "        New_Strokes_Gained  Strokes_Gained  Strokes_Gained/Baseline\n",
       "373509            2.692250        2.284075                    2.541\n",
       "347495            2.684725        2.641109                    2.609\n",
       "434985            2.527545        2.607725                    2.516\n",
       "401242            2.437059        2.364084                    2.499\n",
       "401611            2.428382        2.587039                    2.380\n",
       "382801            2.341731        2.325771                    2.336\n",
       "379452            2.261159        1.972524                    2.192\n",
       "378331            2.249518        1.687638                    2.185\n",
       "405890            2.240852        2.532366                    2.234\n",
       "381124            2.234804        2.238354                    2.284\n",
       "403933            2.216872        2.136537                    2.232\n",
       "351581            2.213161        2.109239                    2.222\n",
       "266178            2.207053        2.263024                    2.200\n",
       "601084            2.206064        2.365345                    2.184\n",
       "583907            2.197152        1.554347                    2.142\n",
       "234758            2.196787        1.730207                    2.184\n",
       "409382            2.186570        2.046339                    2.180\n",
       "340328            2.166438        2.136218                    2.180\n",
       "367105            2.146522        2.085382                    2.110\n",
       "391638            2.121431        1.984741                    2.130\n",
       "386450            2.099483        1.885973                    2.083\n",
       "564402            2.096110        2.002006                    2.074\n",
       "595223            2.094319        1.214914                    1.925\n",
       "405873            2.062155        2.040945                    1.981\n",
       "401454            2.061555        2.114452                    2.072\n",
       "392701            2.051898        2.057225                    2.024\n",
       "390100            2.050198        1.881050                    2.035\n",
       "376310            2.025297        1.993535                    2.026\n",
       "598980            2.018252        1.749276                    2.015\n",
       "380525            2.014362        1.983807                    1.995\n",
       "...                    ...             ...                      ...\n",
       "856376           -1.328417       -1.141732                   -1.333\n",
       "410757           -1.330284       -1.108813                   -1.236\n",
       "463448           -1.331264       -0.531860                   -1.260\n",
       "308126           -1.332158       -0.597365                   -1.945\n",
       "147182           -1.334957       -0.750094                   -1.105\n",
       "471456           -1.337197       -0.974144                   -1.326\n",
       "358631           -1.343578       -0.966504                   -0.364\n",
       "389874           -1.360470       -1.121564                   -1.313\n",
       "322344           -1.381949       -0.170589                   -1.199\n",
       "791397           -1.383073       -1.226080                   -1.380\n",
       "321820           -1.384039       -1.422704                   -1.251\n",
       "499261           -1.394828       -1.162603                   -1.459\n",
       "845979           -1.398123       -1.502435                   -1.233\n",
       "260962           -1.413037       -0.503171                   -1.237\n",
       "273055           -1.413544       -1.061911                   -1.393\n",
       "185833           -1.419216       -0.797466                   -0.943\n",
       "790991           -1.425793       -1.201219                   -1.417\n",
       "194571           -1.445106       -1.431378                   -0.878\n",
       "657372           -1.445531       -1.155761                   -1.452\n",
       "469786           -1.487374       -0.844024                   -1.307\n",
       "867401           -1.516718       -1.151441                   -1.528\n",
       "825144           -1.567327       -0.890797                   -1.436\n",
       "466899           -1.576295       -1.701300                   -1.479\n",
       "473116           -1.592732       -0.692728                   -1.483\n",
       "783718           -1.600667       -1.249874                   -1.615\n",
       "470855           -1.602904       -1.343059                   -1.525\n",
       "469145           -1.606510       -1.567958                   -1.655\n",
       "464318           -1.610589       -1.283670                   -1.470\n",
       "811571           -1.628798       -1.530964                   -1.652\n",
       "680197           -1.867711       -1.384672                   -1.871\n",
       "\n",
       "[903478 rows x 3 columns]"
      ]
     },
     "execution_count": 212,
     "metadata": {},
     "output_type": "execute_result"
    }
   ],
   "source": [
    "data.sort_values('New_Strokes_Gained',ascending=False)[['New_Strokes_Gained','Strokes_Gained','Strokes_Gained/Baseline']]"
   ]
  },
  {
   "cell_type": "code",
   "execution_count": null,
   "metadata": {
    "collapsed": true
   },
   "outputs": [],
   "source": []
  }
 ],
 "metadata": {
  "kernelspec": {
   "display_name": "Python 2",
   "language": "python",
   "name": "python2"
  },
  "language_info": {
   "codemirror_mode": {
    "name": "ipython",
    "version": 2
   },
   "file_extension": ".py",
   "mimetype": "text/x-python",
   "name": "python",
   "nbconvert_exporter": "python",
   "pygments_lexer": "ipython2",
   "version": "2.7.12"
  }
 },
 "nbformat": 4,
 "nbformat_minor": 0
}
