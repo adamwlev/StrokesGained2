{
 "cells": [
  {
   "cell_type": "code",
   "execution_count": 49,
   "metadata": {
    "collapsed": true
   },
   "outputs": [],
   "source": [
    "import pandas as pd\n",
    "import numpy as np\n",
    "from scipy.sparse import csc_matrix\n",
    "import math\n",
    "import pickle"
   ]
  },
  {
   "cell_type": "code",
   "execution_count": 50,
   "metadata": {
    "collapsed": false
   },
   "outputs": [],
   "source": [
    "data = pd.read_csv('./../data/round.csv')"
   ]
  },
  {
   "cell_type": "code",
   "execution_count": 51,
   "metadata": {
    "collapsed": false
   },
   "outputs": [
    {
     "data": {
      "text/plain": [
       "(254628, 12)"
      ]
     },
     "execution_count": 51,
     "metadata": {},
     "output_type": "execute_result"
    }
   ],
   "source": [
    "data.shape"
   ]
  },
  {
   "cell_type": "code",
   "execution_count": 52,
   "metadata": {
    "collapsed": false
   },
   "outputs": [
    {
     "data": {
      "text/html": [
       "<div>\n",
       "<table border=\"1\" class=\"dataframe\">\n",
       "  <thead>\n",
       "    <tr style=\"text-align: right;\">\n",
       "      <th></th>\n",
       "      <th>Tournament_Year</th>\n",
       "      <th>Tournament_#</th>\n",
       "      <th>Permanent_Tournament_#</th>\n",
       "      <th>Course_#</th>\n",
       "      <th>Player_Number</th>\n",
       "      <th>Player_Name</th>\n",
       "      <th>Round_Number</th>\n",
       "      <th>Tee_Time</th>\n",
       "      <th>Round_Score</th>\n",
       "      <th>End_of_Event_Pos._(text)</th>\n",
       "      <th>Finishing_Pos</th>\n",
       "      <th>Finishing_Pct</th>\n",
       "    </tr>\n",
       "  </thead>\n",
       "  <tbody>\n",
       "    <tr>\n",
       "      <th>0</th>\n",
       "      <td>2003</td>\n",
       "      <td>10</td>\n",
       "      <td>16</td>\n",
       "      <td>656</td>\n",
       "      <td>1320</td>\n",
       "      <td>Estes, Bob</td>\n",
       "      <td>1</td>\n",
       "      <td>11:50</td>\n",
       "      <td>66</td>\n",
       "      <td>T6</td>\n",
       "      <td>7.5</td>\n",
       "      <td>0.197917</td>\n",
       "    </tr>\n",
       "    <tr>\n",
       "      <th>1</th>\n",
       "      <td>2003</td>\n",
       "      <td>10</td>\n",
       "      <td>16</td>\n",
       "      <td>656</td>\n",
       "      <td>1361</td>\n",
       "      <td>Forsman, Dan</td>\n",
       "      <td>1</td>\n",
       "      <td>11:00</td>\n",
       "      <td>69</td>\n",
       "      <td>T21</td>\n",
       "      <td>22.0</td>\n",
       "      <td>0.600694</td>\n",
       "    </tr>\n",
       "    <tr>\n",
       "      <th>2</th>\n",
       "      <td>2003</td>\n",
       "      <td>10</td>\n",
       "      <td>16</td>\n",
       "      <td>656</td>\n",
       "      <td>1761</td>\n",
       "      <td>Mattiace, Len</td>\n",
       "      <td>1</td>\n",
       "      <td>13:00</td>\n",
       "      <td>75</td>\n",
       "      <td>24</td>\n",
       "      <td>24.0</td>\n",
       "      <td>0.656250</td>\n",
       "    </tr>\n",
       "    <tr>\n",
       "      <th>3</th>\n",
       "      <td>2003</td>\n",
       "      <td>10</td>\n",
       "      <td>16</td>\n",
       "      <td>656</td>\n",
       "      <td>1797</td>\n",
       "      <td>Mediate, Rocco</td>\n",
       "      <td>1</td>\n",
       "      <td>12:10</td>\n",
       "      <td>72</td>\n",
       "      <td>T2</td>\n",
       "      <td>2.5</td>\n",
       "      <td>0.059028</td>\n",
       "    </tr>\n",
       "    <tr>\n",
       "      <th>4</th>\n",
       "      <td>2003</td>\n",
       "      <td>10</td>\n",
       "      <td>16</td>\n",
       "      <td>656</td>\n",
       "      <td>1920</td>\n",
       "      <td>Parry, Craig</td>\n",
       "      <td>1</td>\n",
       "      <td>11:20</td>\n",
       "      <td>71</td>\n",
       "      <td>T25</td>\n",
       "      <td>26.5</td>\n",
       "      <td>0.725694</td>\n",
       "    </tr>\n",
       "  </tbody>\n",
       "</table>\n",
       "</div>"
      ],
      "text/plain": [
       "   Tournament_Year  Tournament_#  Permanent_Tournament_#  Course_#  \\\n",
       "0             2003            10                      16       656   \n",
       "1             2003            10                      16       656   \n",
       "2             2003            10                      16       656   \n",
       "3             2003            10                      16       656   \n",
       "4             2003            10                      16       656   \n",
       "\n",
       "   Player_Number     Player_Name  Round_Number Tee_Time  Round_Score  \\\n",
       "0           1320      Estes, Bob             1    11:50           66   \n",
       "1           1361    Forsman, Dan             1    11:00           69   \n",
       "2           1761   Mattiace, Len             1    13:00           75   \n",
       "3           1797  Mediate, Rocco             1    12:10           72   \n",
       "4           1920    Parry, Craig             1    11:20           71   \n",
       "\n",
       "  End_of_Event_Pos._(text)  Finishing_Pos  Finishing_Pct  \n",
       "0                       T6            7.5       0.197917  \n",
       "1                      T21           22.0       0.600694  \n",
       "2                       24           24.0       0.656250  \n",
       "3                       T2            2.5       0.059028  \n",
       "4                      T25           26.5       0.725694  "
      ]
     },
     "execution_count": 52,
     "metadata": {},
     "output_type": "execute_result"
    }
   ],
   "source": [
    "data.head()"
   ]
  },
  {
   "cell_type": "code",
   "execution_count": 53,
   "metadata": {
    "collapsed": false
   },
   "outputs": [],
   "source": [
    "with open('./../PickleFiles/num_to_ind_round.pkl','r') as pickleFile:\n",
    "    num_to_inds = pickle.load(pickleFile)"
   ]
  },
  {
   "cell_type": "code",
   "execution_count": 54,
   "metadata": {
    "collapsed": false
   },
   "outputs": [],
   "source": [
    "data.insert(5,'Player_Index',[num_to_inds[num] for num in data.Player_Number])"
   ]
  },
  {
   "cell_type": "code",
   "execution_count": 55,
   "metadata": {
    "collapsed": true
   },
   "outputs": [],
   "source": [
    "rounds = data.groupby(['Tournament_Year','Permanent_Tournament_#','Round_Number','Course_#'],sort=False)"
   ]
  },
  {
   "cell_type": "code",
   "execution_count": 56,
   "metadata": {
    "collapsed": false
   },
   "outputs": [],
   "source": [
    "n_players = len(pd.unique(data.Player_Index))\n",
    "n_rounds = len(rounds)\n",
    "n_tournaments = len(data.groupby(['Tournament_Year','Permanent_Tournament_#']))"
   ]
  },
  {
   "cell_type": "code",
   "execution_count": 57,
   "metadata": {
    "collapsed": true
   },
   "outputs": [],
   "source": [
    "def save_sparse_csc(filename,array):\n",
    "    np.savez(filename,data = array.data ,indices=array.indices,\n",
    "             indptr =array.indptr, shape=array.shape )"
   ]
  },
  {
   "cell_type": "code",
   "execution_count": 58,
   "metadata": {
    "collapsed": false,
    "scrolled": true
   },
   "outputs": [],
   "source": [
    "bin_size = 4\n",
    "n_tournament_groups = int(math.ceil(n_tournaments/float(bin_size)))\n",
    "current_group = 0\n",
    "A,G = np.zeros((n_players,n_players)),np.zeros((n_players,n_players))\n",
    "tournaments = set()\n",
    "rounds_to_inflate = []\n",
    "for (year,tourn,round,course),df in rounds:\n",
    "    tournaments.add((year,tourn))\n",
    "    tournament_group = (len(tournaments)-1)/bin_size\n",
    "    if tournament_group>current_group:\n",
    "        np.fill_diagonal(A,0)\n",
    "        np.fill_diagonal(G,0)\n",
    "        A = csc_matrix(A)\n",
    "        G = csc_matrix(G)\n",
    "        save_sparse_csc('./../rounds/%dA' % (current_group),A)\n",
    "        save_sparse_csc('./../rounds/%dG' % (current_group),G)\n",
    "        A,G = np.zeros((n_players,n_players)),np.zeros((n_players,n_players))\n",
    "        current_group += 1\n",
    "    \n",
    "    A[np.ix_(pd.unique(df.Player_Index),pd.unique(df.Player_Index))] += \\\n",
    "            np.outer(1/df.Round_Score.values.astype(float),df.Round_Score.values)\n",
    "    G[np.ix_(pd.unique(df.Player_Index),pd.unique(df.Player_Index))] += 1.\n",
    "\n",
    "np.fill_diagonal(A,0)\n",
    "np.fill_diagonal(G,0)\n",
    "A = csc_matrix(A)\n",
    "G = csc_matrix(G)\n",
    "save_sparse_csc('./../rounds/%dA' % (current_group+1),A)\n",
    "save_sparse_csc('./../rounds/%dG' % (current_group+1),G)"
   ]
  }
 ],
 "metadata": {
  "kernelspec": {
   "display_name": "Python 2",
   "language": "python",
   "name": "python2"
  },
  "language_info": {
   "codemirror_mode": {
    "name": "ipython",
    "version": 2
   },
   "file_extension": ".py",
   "mimetype": "text/x-python",
   "name": "python",
   "nbconvert_exporter": "python",
   "pygments_lexer": "ipython2",
   "version": "2.7.12"
  }
 },
 "nbformat": 4,
 "nbformat_minor": 0
}
