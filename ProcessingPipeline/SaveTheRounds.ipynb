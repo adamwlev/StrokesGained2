{
 "cells": [
  {
   "cell_type": "code",
   "execution_count": 9,
   "metadata": {
    "collapsed": true
   },
   "outputs": [],
   "source": [
    "import pandas as pd\n",
    "import numpy as np\n",
    "from scipy.sparse import csc_matrix\n",
    "import pickle"
   ]
  },
  {
   "cell_type": "code",
   "execution_count": 3,
   "metadata": {
    "collapsed": false
   },
   "outputs": [],
   "source": [
    "data = pd.read_csv('./../data/round.csv')"
   ]
  },
  {
   "cell_type": "code",
   "execution_count": 4,
   "metadata": {
    "collapsed": false
   },
   "outputs": [
    {
     "data": {
      "text/plain": [
       "(254628, 12)"
      ]
     },
     "execution_count": 4,
     "metadata": {},
     "output_type": "execute_result"
    }
   ],
   "source": [
    "data.shape"
   ]
  },
  {
   "cell_type": "code",
   "execution_count": 5,
   "metadata": {
    "collapsed": false
   },
   "outputs": [
    {
     "data": {
      "text/html": [
       "<div>\n",
       "<table border=\"1\" class=\"dataframe\">\n",
       "  <thead>\n",
       "    <tr style=\"text-align: right;\">\n",
       "      <th></th>\n",
       "      <th>Tournament_Year</th>\n",
       "      <th>Tournament_#</th>\n",
       "      <th>Permanent_Tournament_#</th>\n",
       "      <th>Course_#</th>\n",
       "      <th>Player_Number</th>\n",
       "      <th>Player_Name</th>\n",
       "      <th>Round_Number</th>\n",
       "      <th>Tee_Time</th>\n",
       "      <th>Round_Score</th>\n",
       "      <th>End_of_Event_Pos._(text)</th>\n",
       "      <th>Finishing_Pos</th>\n",
       "      <th>Finishing_Pct</th>\n",
       "    </tr>\n",
       "  </thead>\n",
       "  <tbody>\n",
       "    <tr>\n",
       "      <th>0</th>\n",
       "      <td>2003</td>\n",
       "      <td>10</td>\n",
       "      <td>16</td>\n",
       "      <td>656</td>\n",
       "      <td>1320</td>\n",
       "      <td>Estes, Bob</td>\n",
       "      <td>1</td>\n",
       "      <td>11:50</td>\n",
       "      <td>66</td>\n",
       "      <td>T6</td>\n",
       "      <td>7.5</td>\n",
       "      <td>0.197917</td>\n",
       "    </tr>\n",
       "    <tr>\n",
       "      <th>1</th>\n",
       "      <td>2003</td>\n",
       "      <td>10</td>\n",
       "      <td>16</td>\n",
       "      <td>656</td>\n",
       "      <td>1361</td>\n",
       "      <td>Forsman, Dan</td>\n",
       "      <td>1</td>\n",
       "      <td>11:00</td>\n",
       "      <td>69</td>\n",
       "      <td>T21</td>\n",
       "      <td>22.0</td>\n",
       "      <td>0.600694</td>\n",
       "    </tr>\n",
       "    <tr>\n",
       "      <th>2</th>\n",
       "      <td>2003</td>\n",
       "      <td>10</td>\n",
       "      <td>16</td>\n",
       "      <td>656</td>\n",
       "      <td>1761</td>\n",
       "      <td>Mattiace, Len</td>\n",
       "      <td>1</td>\n",
       "      <td>13:00</td>\n",
       "      <td>75</td>\n",
       "      <td>24</td>\n",
       "      <td>24.0</td>\n",
       "      <td>0.656250</td>\n",
       "    </tr>\n",
       "    <tr>\n",
       "      <th>3</th>\n",
       "      <td>2003</td>\n",
       "      <td>10</td>\n",
       "      <td>16</td>\n",
       "      <td>656</td>\n",
       "      <td>1797</td>\n",
       "      <td>Mediate, Rocco</td>\n",
       "      <td>1</td>\n",
       "      <td>12:10</td>\n",
       "      <td>72</td>\n",
       "      <td>T2</td>\n",
       "      <td>2.5</td>\n",
       "      <td>0.059028</td>\n",
       "    </tr>\n",
       "    <tr>\n",
       "      <th>4</th>\n",
       "      <td>2003</td>\n",
       "      <td>10</td>\n",
       "      <td>16</td>\n",
       "      <td>656</td>\n",
       "      <td>1920</td>\n",
       "      <td>Parry, Craig</td>\n",
       "      <td>1</td>\n",
       "      <td>11:20</td>\n",
       "      <td>71</td>\n",
       "      <td>T25</td>\n",
       "      <td>26.5</td>\n",
       "      <td>0.725694</td>\n",
       "    </tr>\n",
       "  </tbody>\n",
       "</table>\n",
       "</div>"
      ],
      "text/plain": [
       "   Tournament_Year  Tournament_#  Permanent_Tournament_#  Course_#  \\\n",
       "0             2003            10                      16       656   \n",
       "1             2003            10                      16       656   \n",
       "2             2003            10                      16       656   \n",
       "3             2003            10                      16       656   \n",
       "4             2003            10                      16       656   \n",
       "\n",
       "   Player_Number     Player_Name  Round_Number Tee_Time  Round_Score  \\\n",
       "0           1320      Estes, Bob             1    11:50           66   \n",
       "1           1361    Forsman, Dan             1    11:00           69   \n",
       "2           1761   Mattiace, Len             1    13:00           75   \n",
       "3           1797  Mediate, Rocco             1    12:10           72   \n",
       "4           1920    Parry, Craig             1    11:20           71   \n",
       "\n",
       "  End_of_Event_Pos._(text)  Finishing_Pos  Finishing_Pct  \n",
       "0                       T6            7.5       0.197917  \n",
       "1                      T21           22.0       0.600694  \n",
       "2                       24           24.0       0.656250  \n",
       "3                       T2            2.5       0.059028  \n",
       "4                      T25           26.5       0.725694  "
      ]
     },
     "execution_count": 5,
     "metadata": {},
     "output_type": "execute_result"
    }
   ],
   "source": [
    "data.head()"
   ]
  },
  {
   "cell_type": "code",
   "execution_count": 12,
   "metadata": {
    "collapsed": true
   },
   "outputs": [],
   "source": [
    "inds = {num:ind for ind,num in enumerate(pd.unique(data.Player_Number))}"
   ]
  },
  {
   "cell_type": "code",
   "execution_count": 15,
   "metadata": {
    "collapsed": false
   },
   "outputs": [],
   "source": [
    "data.insert(5,'Player_Index',[inds[num] for num in data.Player_Number])"
   ]
  },
  {
   "cell_type": "code",
   "execution_count": 16,
   "metadata": {
    "collapsed": true
   },
   "outputs": [],
   "source": [
    "rounds = data.groupby(['Tournament_Year','Permanent_Tournament_#','Round_Number','Course_#'])"
   ]
  },
  {
   "cell_type": "code",
   "execution_count": 17,
   "metadata": {
    "collapsed": false
   },
   "outputs": [
    {
     "data": {
      "text/plain": [
       "(2594, 2805)"
      ]
     },
     "execution_count": 17,
     "metadata": {},
     "output_type": "execute_result"
    }
   ],
   "source": [
    "n_players = len(pd.unique(data.Player_Index))\n",
    "n_rounds = len(rounds)\n",
    "n_players,n_rounds"
   ]
  },
  {
   "cell_type": "code",
   "execution_count": 18,
   "metadata": {
    "collapsed": true
   },
   "outputs": [],
   "source": [
    "def save_sparse_csc(filename,array):\n",
    "    np.savez(filename,data = array.data ,indices=array.indices,\n",
    "             indptr =array.indptr, shape=array.shape )"
   ]
  },
  {
   "cell_type": "code",
   "execution_count": 20,
   "metadata": {
    "collapsed": false,
    "scrolled": true
   },
   "outputs": [
    {
     "name": "stdout",
     "output_type": "stream",
     "text": [
      "0\n",
      "300\n",
      "600\n",
      "900\n",
      "1200\n",
      "1500\n",
      "1800\n",
      "2100\n",
      "2400\n",
      "2700\n"
     ]
    }
   ],
   "source": [
    "for round_ind,df in enumerate(rounds):\n",
    "    df = df[1]\n",
    "    arr = np.zeros((n_players,n_players))\n",
    "    arr[np.ix_(pd.unique(df.Player_Index),pd.unique(df.Player_Index))] = np.outer(1/df.Round_Score.values.astype(float),df.Round_Score.values)\n",
    "    np.fill_diagonal(arr,0)\n",
    "    arr = csc_matrix(arr)\n",
    "    save_sparse_csc('./../rounds/%d' % (round_ind),arr)\n",
    "    if round_ind%300==0:\n",
    "        print round_ind"
   ]
  },
  {
   "cell_type": "code",
   "execution_count": null,
   "metadata": {
    "collapsed": true
   },
   "outputs": [],
   "source": []
  }
 ],
 "metadata": {
  "kernelspec": {
   "display_name": "Python 2",
   "language": "python",
   "name": "python2"
  },
  "language_info": {
   "codemirror_mode": {
    "name": "ipython",
    "version": 2
   },
   "file_extension": ".py",
   "mimetype": "text/x-python",
   "name": "python",
   "nbconvert_exporter": "python",
   "pygments_lexer": "ipython2",
   "version": "2.7.11"
  }
 },
 "nbformat": 4,
 "nbformat_minor": 0
}
