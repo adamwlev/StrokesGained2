{
 "cells": [
  {
   "cell_type": "code",
   "execution_count": 1,
   "metadata": {
    "collapsed": true
   },
   "outputs": [],
   "source": [
    "import pandas as pd\n",
    "import numpy as np\n",
    "from collections import defaultdict\n",
    "import matplotlib.pyplot as plt\n",
    "import warnings\n",
    "%matplotlib inline"
   ]
  },
  {
   "cell_type": "code",
   "execution_count": 3,
   "metadata": {
    "collapsed": false
   },
   "outputs": [],
   "source": [
    "with warnings.catch_warnings():\n",
    "    warnings.simplefilter(\"ignore\")\n",
    "    datar = pd.concat([pd.read_csv('./../data/rawdata/%dr.txt' % year,sep=';') for year in range(2003,2017)])\n",
    "datar.columns = np.array([str(i).strip().replace(' ','_') for i in datar.columns])"
   ]
  },
  {
   "cell_type": "code",
   "execution_count": 4,
   "metadata": {
    "collapsed": true
   },
   "outputs": [],
   "source": [
    "datar = datar[['Tournament_Year','Permanent_Tournament_#','Course_#','Player_Number','Player_Name','Round_Number',\n",
    "               'Round_Score','End_of_Event_Pos._(text)','Event_Name']]"
   ]
  },
  {
   "cell_type": "code",
   "execution_count": 5,
   "metadata": {
    "collapsed": false
   },
   "outputs": [
    {
     "data": {
      "text/html": [
       "<div>\n",
       "<table border=\"1\" class=\"dataframe\">\n",
       "  <thead>\n",
       "    <tr style=\"text-align: right;\">\n",
       "      <th></th>\n",
       "      <th>Tournament_Year</th>\n",
       "      <th>Permanent_Tournament_#</th>\n",
       "      <th>Course_#</th>\n",
       "      <th>Player_Number</th>\n",
       "      <th>Player_Name</th>\n",
       "      <th>Round_Number</th>\n",
       "      <th>Round_Score</th>\n",
       "      <th>End_of_Event_Pos._(text)</th>\n",
       "      <th>Event_Name</th>\n",
       "    </tr>\n",
       "  </thead>\n",
       "  <tbody>\n",
       "    <tr>\n",
       "      <th>0</th>\n",
       "      <td>2003</td>\n",
       "      <td>16</td>\n",
       "      <td>656</td>\n",
       "      <td>1320</td>\n",
       "      <td>Estes, Bob</td>\n",
       "      <td>1</td>\n",
       "      <td>66</td>\n",
       "      <td>T6</td>\n",
       "      <td>Mercedes Championships</td>\n",
       "    </tr>\n",
       "    <tr>\n",
       "      <th>1</th>\n",
       "      <td>2003</td>\n",
       "      <td>16</td>\n",
       "      <td>656</td>\n",
       "      <td>1361</td>\n",
       "      <td>Forsman, Dan</td>\n",
       "      <td>1</td>\n",
       "      <td>69</td>\n",
       "      <td>T21</td>\n",
       "      <td>Mercedes Championships</td>\n",
       "    </tr>\n",
       "    <tr>\n",
       "      <th>2</th>\n",
       "      <td>2003</td>\n",
       "      <td>16</td>\n",
       "      <td>656</td>\n",
       "      <td>1761</td>\n",
       "      <td>Mattiace, Len</td>\n",
       "      <td>1</td>\n",
       "      <td>75</td>\n",
       "      <td>24</td>\n",
       "      <td>Mercedes Championships</td>\n",
       "    </tr>\n",
       "  </tbody>\n",
       "</table>\n",
       "</div>"
      ],
      "text/plain": [
       "   Tournament_Year  Permanent_Tournament_#  Course_#  Player_Number  \\\n",
       "0             2003                      16       656           1320   \n",
       "1             2003                      16       656           1361   \n",
       "2             2003                      16       656           1761   \n",
       "\n",
       "     Player_Name  Round_Number  Round_Score End_of_Event_Pos._(text)  \\\n",
       "0     Estes, Bob             1           66                       T6   \n",
       "1   Forsman, Dan             1           69                      T21   \n",
       "2  Mattiace, Len             1           75                       24   \n",
       "\n",
       "               Event_Name  \n",
       "0  Mercedes Championships  \n",
       "1  Mercedes Championships  \n",
       "2  Mercedes Championships  "
      ]
     },
     "execution_count": 5,
     "metadata": {},
     "output_type": "execute_result"
    }
   ],
   "source": [
    "datar.head(3)"
   ]
  },
  {
   "cell_type": "code",
   "execution_count": 6,
   "metadata": {
    "collapsed": false
   },
   "outputs": [
    {
     "data": {
      "text/plain": [
       "array([' CUT', ' T13', '  T9', ' T17', ' T30', ' T24', ' T10', ' T27',\n",
       "       ' T33', ' T22', ' T21', ' T16', ' T15', ' T18', '  T8', ' T12',\n",
       "       ' T44', ' T20', '  T6', '   1', ' T42', ' T37', '  T5', ' T14',\n",
       "       ' T48', ' T34', '  T4', ' T11', ' T39', ' T25', ' T45', ' T29',\n",
       "       ' T40', ' T32', ' T46', ' T26', '  T7', ' T56', ' T59', ' T28',\n",
       "       ' T52', ' T50', ' T51', ' T36', ' T19', ' T57', ' T47', ' T31',\n",
       "       ' T38', ' T58', '  T2', ' T54', ' T63', ' T43', '  T3', ' T41',\n",
       "       ' T53', ' T35', ' T64', ' T23', ' T61', ' T66', ' T65', ' T49',\n",
       "       ' T60', ' T62', ' T55', ' T68', ' T69', '   2', ' W/D', ' T67',\n",
       "       ' T70', ' T72', ' T71', '   3', ' T73', ' T74', '   4', ' T75',\n",
       "       '  71', '  72', '  73', ' T76', '  74', '   5', '  70', ' T77',\n",
       "       '  69', '  75', '  76', '  68', '  77', ' T78', '   6', '  78',\n",
       "       ' T79', '   7', '  79', '  67', '   8', '  66', '   9', ' T80',\n",
       "       ' DQ', '  80', ' T81', '  65', ' T82', '  64', '  10', '  63',\n",
       "       '  81', '  62', '  61', '  12', '  82', '  11', '  27', '  28',\n",
       "       '  60', '  29', ' T83', '  30', '  57', '  83', '  17', '  58',\n",
       "       '  56', '  26', ' T84', '  18', '  15', '  59', '  13', '  84',\n",
       "       '  21', '  16', '  22', ' T85', '  19', '  24', '  25', '  49',\n",
       "       '  85', '  23', '  54', '  14', '  31', '  44', '  53', '  48',\n",
       "       '  20', ' T86', '  86', '  87', '  32', '  51', '  43', '  55',\n",
       "       '  50', '  46', '  47', '  45', '  88', '  33', '  42', '  41',\n",
       "       '  35', '  34', '  37', '  52', '  36', '  89', ' T88', ' T87',\n",
       "       '  39', '  38', '  40', '  91', '  90'], dtype=object)"
      ]
     },
     "execution_count": 6,
     "metadata": {},
     "output_type": "execute_result"
    }
   ],
   "source": [
    "datar['End_of_Event_Pos._(text)'].value_counts().index.values"
   ]
  },
  {
   "cell_type": "code",
   "execution_count": 7,
   "metadata": {
    "collapsed": false
   },
   "outputs": [
    {
     "data": {
      "text/plain": [
       "261539"
      ]
     },
     "execution_count": 7,
     "metadata": {},
     "output_type": "execute_result"
    }
   ],
   "source": [
    "len(datar)"
   ]
  },
  {
   "cell_type": "code",
   "execution_count": 8,
   "metadata": {
    "collapsed": false
   },
   "outputs": [],
   "source": [
    "datar = datar[~datar['End_of_Event_Pos._(text)'].isin([' W/D',' DQ'])]"
   ]
  },
  {
   "cell_type": "code",
   "execution_count": 9,
   "metadata": {
    "collapsed": false
   },
   "outputs": [
    {
     "data": {
      "text/plain": [
       "259743"
      ]
     },
     "execution_count": 9,
     "metadata": {},
     "output_type": "execute_result"
    }
   ],
   "source": [
    "len(datar)"
   ]
  },
  {
   "cell_type": "code",
   "execution_count": 10,
   "metadata": {
    "collapsed": false
   },
   "outputs": [],
   "source": [
    "df = datar.groupby(['Tournament_Year','Permanent_Tournament_#','Player_Number'],as_index=False).agg({'Round_Number' : 'count',\n",
    "                                                                                                'Round_Score' : 'sum'})\n",
    "df.columns = ['Tournament_Year','Permanent_Tournament_#','Player_Number','Total_Strokes','Total_Rounds']"
   ]
  },
  {
   "cell_type": "code",
   "execution_count": 11,
   "metadata": {
    "collapsed": false
   },
   "outputs": [
    {
     "data": {
      "text/html": [
       "<div>\n",
       "<table border=\"1\" class=\"dataframe\">\n",
       "  <thead>\n",
       "    <tr style=\"text-align: right;\">\n",
       "      <th></th>\n",
       "      <th>Tournament_Year</th>\n",
       "      <th>Permanent_Tournament_#</th>\n",
       "      <th>Player_Number</th>\n",
       "      <th>Total_Strokes</th>\n",
       "      <th>Total_Rounds</th>\n",
       "    </tr>\n",
       "  </thead>\n",
       "  <tbody>\n",
       "    <tr>\n",
       "      <th>0</th>\n",
       "      <td>2003</td>\n",
       "      <td>1</td>\n",
       "      <td>1014</td>\n",
       "      <td>156</td>\n",
       "      <td>2</td>\n",
       "    </tr>\n",
       "    <tr>\n",
       "      <th>1</th>\n",
       "      <td>2003</td>\n",
       "      <td>1</td>\n",
       "      <td>1035</td>\n",
       "      <td>149</td>\n",
       "      <td>2</td>\n",
       "    </tr>\n",
       "    <tr>\n",
       "      <th>2</th>\n",
       "      <td>2003</td>\n",
       "      <td>1</td>\n",
       "      <td>1042</td>\n",
       "      <td>146</td>\n",
       "      <td>2</td>\n",
       "    </tr>\n",
       "  </tbody>\n",
       "</table>\n",
       "</div>"
      ],
      "text/plain": [
       "   Tournament_Year  Permanent_Tournament_#  Player_Number  Total_Strokes  \\\n",
       "0             2003                       1           1014            156   \n",
       "1             2003                       1           1035            149   \n",
       "2             2003                       1           1042            146   \n",
       "\n",
       "   Total_Rounds  \n",
       "0             2  \n",
       "1             2  \n",
       "2             2  "
      ]
     },
     "execution_count": 11,
     "metadata": {},
     "output_type": "execute_result"
    }
   ],
   "source": [
    "df.head(3)"
   ]
  },
  {
   "cell_type": "code",
   "execution_count": 12,
   "metadata": {
    "collapsed": false
   },
   "outputs": [
    {
     "data": {
      "text/plain": [
       "count    82590.000000\n",
       "mean        71.024715\n",
       "std          7.356489\n",
       "min          0.000000\n",
       "25%         70.000000\n",
       "50%         71.500000\n",
       "75%         73.000000\n",
       "max         88.000000\n",
       "dtype: float64"
      ]
     },
     "execution_count": 12,
     "metadata": {},
     "output_type": "execute_result"
    }
   ],
   "source": [
    "pd.Series(df.Total_Strokes/df.Total_Rounds).describe()"
   ]
  },
  {
   "cell_type": "code",
   "execution_count": 13,
   "metadata": {
    "collapsed": false
   },
   "outputs": [
    {
     "data": {
      "text/plain": [
       "470    814\n",
       "Name: Permanent_Tournament_#, dtype: int64"
      ]
     },
     "execution_count": 13,
     "metadata": {},
     "output_type": "execute_result"
    }
   ],
   "source": [
    "df[(df.Total_Strokes/df.Total_Rounds)<60]['Permanent_Tournament_#'].value_counts()"
   ]
  },
  {
   "cell_type": "code",
   "execution_count": 14,
   "metadata": {
    "collapsed": false,
    "scrolled": false
   },
   "outputs": [
    {
     "data": {
      "text/html": [
       "<div>\n",
       "<table border=\"1\" class=\"dataframe\">\n",
       "  <thead>\n",
       "    <tr style=\"text-align: right;\">\n",
       "      <th></th>\n",
       "      <th>Tournament_Year</th>\n",
       "      <th>Permanent_Tournament_#</th>\n",
       "      <th>Course_#</th>\n",
       "      <th>Player_Number</th>\n",
       "      <th>Player_Name</th>\n",
       "      <th>Round_Number</th>\n",
       "      <th>Round_Score</th>\n",
       "      <th>End_of_Event_Pos._(text)</th>\n",
       "      <th>Event_Name</th>\n",
       "    </tr>\n",
       "  </thead>\n",
       "  <tbody>\n",
       "    <tr>\n",
       "      <th>3522</th>\n",
       "      <td>2003</td>\n",
       "      <td>470</td>\n",
       "      <td>663</td>\n",
       "      <td>6251</td>\n",
       "      <td>DiMarco, Chris</td>\n",
       "      <td>1</td>\n",
       "      <td>0</td>\n",
       "      <td>T33</td>\n",
       "      <td>World Golf Championships-Accenture Match Play ...</td>\n",
       "    </tr>\n",
       "    <tr>\n",
       "      <th>3523</th>\n",
       "      <td>2003</td>\n",
       "      <td>470</td>\n",
       "      <td>663</td>\n",
       "      <td>10821</td>\n",
       "      <td>Izawa, Toshi</td>\n",
       "      <td>1</td>\n",
       "      <td>0</td>\n",
       "      <td>T9</td>\n",
       "      <td>World Golf Championships-Accenture Match Play ...</td>\n",
       "    </tr>\n",
       "    <tr>\n",
       "      <th>3524</th>\n",
       "      <td>2003</td>\n",
       "      <td>470</td>\n",
       "      <td>663</td>\n",
       "      <td>1553</td>\n",
       "      <td>Huston, John</td>\n",
       "      <td>1</td>\n",
       "      <td>0</td>\n",
       "      <td>T33</td>\n",
       "      <td>World Golf Championships-Accenture Match Play ...</td>\n",
       "    </tr>\n",
       "  </tbody>\n",
       "</table>\n",
       "</div>"
      ],
      "text/plain": [
       "      Tournament_Year  Permanent_Tournament_#  Course_#  Player_Number  \\\n",
       "3522             2003                     470       663           6251   \n",
       "3523             2003                     470       663          10821   \n",
       "3524             2003                     470       663           1553   \n",
       "\n",
       "         Player_Name  Round_Number  Round_Score End_of_Event_Pos._(text)  \\\n",
       "3522  DiMarco, Chris             1            0                      T33   \n",
       "3523    Izawa, Toshi             1            0                       T9   \n",
       "3524    Huston, John             1            0                      T33   \n",
       "\n",
       "                                             Event_Name  \n",
       "3522  World Golf Championships-Accenture Match Play ...  \n",
       "3523  World Golf Championships-Accenture Match Play ...  \n",
       "3524  World Golf Championships-Accenture Match Play ...  "
      ]
     },
     "execution_count": 14,
     "metadata": {},
     "output_type": "execute_result"
    }
   ],
   "source": [
    "datar[datar['Permanent_Tournament_#']==470].head(3)"
   ]
  },
  {
   "cell_type": "code",
   "execution_count": 15,
   "metadata": {
    "collapsed": true
   },
   "outputs": [],
   "source": [
    "d = {tuple(tup[0:3]):tuple(tup[3:]) if tup[1]!=470 else (np.nan,np.nan) for tup in df.values.tolist()}"
   ]
  },
  {
   "cell_type": "code",
   "execution_count": 16,
   "metadata": {
    "collapsed": false
   },
   "outputs": [
    {
     "data": {
      "text/plain": [
       "{(2006, 24, 1475): (279, 4), (2010, 2, 21731): (346, 5)}"
      ]
     },
     "execution_count": 16,
     "metadata": {},
     "output_type": "execute_result"
    }
   ],
   "source": [
    "{key:d[key] for key in d.keys()[0:2]}"
   ]
  },
  {
   "cell_type": "code",
   "execution_count": 17,
   "metadata": {
    "collapsed": true
   },
   "outputs": [],
   "source": [
    "datar.insert(len(datar.columns),'Strokes_In_Tournament',[0]*len(datar))\n",
    "datar.insert(len(datar.columns),'Rounds_In_Tournament',[0]*len(datar))"
   ]
  },
  {
   "cell_type": "code",
   "execution_count": 18,
   "metadata": {
    "collapsed": true
   },
   "outputs": [],
   "source": [
    "datar['Strokes_In_Tournament'] = [d[tuple(tup)][0] for tup in \n",
    "                                  datar[['Tournament_Year','Permanent_Tournament_#','Player_Number']].values.tolist()]\n",
    "datar['Rounds_In_Tournament'] = [d[tuple(tup)][1] for tup in \n",
    "                                  datar[['Tournament_Year','Permanent_Tournament_#','Player_Number']].values.tolist()]"
   ]
  },
  {
   "cell_type": "code",
   "execution_count": 20,
   "metadata": {
    "collapsed": false
   },
   "outputs": [
    {
     "data": {
      "text/html": [
       "<div>\n",
       "<table border=\"1\" class=\"dataframe\">\n",
       "  <thead>\n",
       "    <tr style=\"text-align: right;\">\n",
       "      <th></th>\n",
       "      <th>Tournament_Year</th>\n",
       "      <th>Permanent_Tournament_#</th>\n",
       "      <th>Course_#</th>\n",
       "      <th>Player_Number</th>\n",
       "      <th>Player_Name</th>\n",
       "      <th>Round_Number</th>\n",
       "      <th>Round_Score</th>\n",
       "      <th>End_of_Event_Pos._(text)</th>\n",
       "      <th>Event_Name</th>\n",
       "      <th>Strokes_In_Tournament</th>\n",
       "      <th>Rounds_In_Tournament</th>\n",
       "    </tr>\n",
       "  </thead>\n",
       "  <tbody>\n",
       "    <tr>\n",
       "      <th>0</th>\n",
       "      <td>2003</td>\n",
       "      <td>16</td>\n",
       "      <td>656</td>\n",
       "      <td>1320</td>\n",
       "      <td>Estes, Bob</td>\n",
       "      <td>1</td>\n",
       "      <td>66</td>\n",
       "      <td>T6</td>\n",
       "      <td>Mercedes Championships</td>\n",
       "      <td>271.0</td>\n",
       "      <td>4.0</td>\n",
       "    </tr>\n",
       "    <tr>\n",
       "      <th>1</th>\n",
       "      <td>2003</td>\n",
       "      <td>16</td>\n",
       "      <td>656</td>\n",
       "      <td>1361</td>\n",
       "      <td>Forsman, Dan</td>\n",
       "      <td>1</td>\n",
       "      <td>69</td>\n",
       "      <td>T21</td>\n",
       "      <td>Mercedes Championships</td>\n",
       "      <td>279.0</td>\n",
       "      <td>4.0</td>\n",
       "    </tr>\n",
       "    <tr>\n",
       "      <th>2</th>\n",
       "      <td>2003</td>\n",
       "      <td>16</td>\n",
       "      <td>656</td>\n",
       "      <td>1761</td>\n",
       "      <td>Mattiace, Len</td>\n",
       "      <td>1</td>\n",
       "      <td>75</td>\n",
       "      <td>24</td>\n",
       "      <td>Mercedes Championships</td>\n",
       "      <td>280.0</td>\n",
       "      <td>4.0</td>\n",
       "    </tr>\n",
       "  </tbody>\n",
       "</table>\n",
       "</div>"
      ],
      "text/plain": [
       "   Tournament_Year  Permanent_Tournament_#  Course_#  Player_Number  \\\n",
       "0             2003                      16       656           1320   \n",
       "1             2003                      16       656           1361   \n",
       "2             2003                      16       656           1761   \n",
       "\n",
       "     Player_Name  Round_Number  Round_Score End_of_Event_Pos._(text)  \\\n",
       "0     Estes, Bob             1           66                       T6   \n",
       "1   Forsman, Dan             1           69                      T21   \n",
       "2  Mattiace, Len             1           75                       24   \n",
       "\n",
       "               Event_Name  Strokes_In_Tournament  Rounds_In_Tournament  \n",
       "0  Mercedes Championships                  271.0                   4.0  \n",
       "1  Mercedes Championships                  279.0                   4.0  \n",
       "2  Mercedes Championships                  280.0                   4.0  "
      ]
     },
     "execution_count": 20,
     "metadata": {},
     "output_type": "execute_result"
    }
   ],
   "source": [
    "datar.head(3)"
   ]
  },
  {
   "cell_type": "code",
   "execution_count": 26,
   "metadata": {
    "collapsed": false
   },
   "outputs": [
    {
     "data": {
      "text/plain": [
       "count    257759.000000\n",
       "mean         71.260166\n",
       "std           2.376731\n",
       "min          63.500000\n",
       "25%          69.500000\n",
       "50%          71.000000\n",
       "75%          72.500000\n",
       "max          88.000000\n",
       "dtype: float64"
      ]
     },
     "execution_count": 26,
     "metadata": {},
     "output_type": "execute_result"
    }
   ],
   "source": [
    "pd.Series(datar[datar.Strokes_In_Tournament.notnull()].Strokes_In_Tournament/\n",
    "          datar[datar.Strokes_In_Tournament.notnull()].Rounds_In_Tournament).describe()"
   ]
  },
  {
   "cell_type": "code",
   "execution_count": 27,
   "metadata": {
    "collapsed": true
   },
   "outputs": [],
   "source": [
    "datar.insert(len(datar.columns),'Finishing_Position',[0]*len(datar))"
   ]
  },
  {
   "cell_type": "code",
   "execution_count": 56,
   "metadata": {
    "collapsed": false
   },
   "outputs": [],
   "source": [
    "assert 'CUT' not in set([fin.strip() for fin in datar[datar['Permanent_Tournament_#']==470]['End_of_Event_Pos._(text)'].values.astype(str)])"
   ]
  },
  {
   "cell_type": "code",
   "execution_count": 67,
   "metadata": {
    "collapsed": false,
    "scrolled": false
   },
   "outputs": [],
   "source": [
    "finishing_pos_dict = {}\n",
    "for (year,tourn),df in datar.groupby(['Tournament_Year','Permanent_Tournament_#']):\n",
    "    df = df.drop_duplicates('Player_Number')\n",
    "    if tourn==470:\n",
    "        finishing_pos  = pd.Series([''.join(c for c in f.strip() if c!='T') \n",
    "                         for f in df['End_of_Event_Pos._(text)'].values]).astype(float).rank()\n",
    "        finishing_pos_dict.update({(year,tourn,player):pos/len(df) for player,pos in zip(df.Player_Number,finishing_pos)})\n",
    "    else:\n",
    "        df = df.sort_values(['Rounds_In_Tournament','Strokes_In_Tournament'],ascending=[False,True])\n",
    "        running_count = 0\n",
    "        for num_rounds,df_ in df.groupby(['Rounds_In_Tournament'],sort=False):\n",
    "            finishing_pos = df_.Strokes_In_Tournament.rank()\n",
    "            finishing_pos_dict.update({(year,tourn,player):pos/len(df) for player,pos in zip(df_.Player_Number,finishing_pos)})\n",
    "            running_count += len(df_)"
   ]
  },
  {
   "cell_type": "code",
   "execution_count": 69,
   "metadata": {
    "collapsed": false
   },
   "outputs": [
    {
     "data": {
      "text/plain": [
       "{(2006, 24, 1475): 0.32236842105263158, (2010, 2, 21731): 0.42857142857142855}"
      ]
     },
     "execution_count": 69,
     "metadata": {},
     "output_type": "execute_result"
    }
   ],
   "source": [
    "{key:finishing_pos_dict[key] for key in finishing_pos_dict.keys()[0:2]}"
   ]
  },
  {
   "cell_type": "code",
   "execution_count": 70,
   "metadata": {
    "collapsed": true
   },
   "outputs": [],
   "source": [
    "datar['Finishing_Position'] = [finishing_pos_dict[tuple(tup)] \n",
    "                               for tup in datar[['Tournament_Year','Permanent_Tournament_#','Player_Number']].values.tolist()]"
   ]
  },
  {
   "cell_type": "code",
   "execution_count": 71,
   "metadata": {
    "collapsed": false
   },
   "outputs": [
    {
     "data": {
      "text/plain": [
       "count    259743.000000\n",
       "mean          0.277149\n",
       "std           0.179741\n",
       "min           0.005587\n",
       "25%           0.131410\n",
       "50%           0.262069\n",
       "75%           0.397436\n",
       "max           1.000000\n",
       "Name: Finishing_Position, dtype: float64"
      ]
     },
     "execution_count": 71,
     "metadata": {},
     "output_type": "execute_result"
    }
   ],
   "source": [
    "datar.Finishing_Position.describe()"
   ]
  },
  {
   "cell_type": "code",
   "execution_count": 72,
   "metadata": {
    "collapsed": true
   },
   "outputs": [],
   "source": [
    "datar.to_csv('./../data/round.csv',index=False)"
   ]
  }
 ],
 "metadata": {
  "kernelspec": {
   "display_name": "Python 2",
   "language": "python",
   "name": "python2"
  },
  "language_info": {
   "codemirror_mode": {
    "name": "ipython",
    "version": 2
   },
   "file_extension": ".py",
   "mimetype": "text/x-python",
   "name": "python",
   "nbconvert_exporter": "python",
   "pygments_lexer": "ipython2",
   "version": "2.7.11"
  }
 },
 "nbformat": 4,
 "nbformat_minor": 0
}
