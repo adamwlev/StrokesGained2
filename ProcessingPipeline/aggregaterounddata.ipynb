{
 "cells": [
  {
   "cell_type": "code",
   "execution_count": 1,
   "metadata": {
    "collapsed": true
   },
   "outputs": [],
   "source": [
    "import pandas as pd"
   ]
  },
  {
   "cell_type": "code",
   "execution_count": 2,
   "metadata": {
    "collapsed": true
   },
   "outputs": [],
   "source": [
    "data = pd.read_csv('data/round_train.csv')\n",
    "data1 = pd.read_csv('data/round_test.csv',header=None)\n",
    "data1.columns = data.columns"
   ]
  },
  {
   "cell_type": "code",
   "execution_count": 5,
   "metadata": {
    "collapsed": true
   },
   "outputs": [],
   "source": [
    "data2 = pd.read_csv('data/2015r.csv')"
   ]
  },
  {
   "cell_type": "code",
   "execution_count": 6,
   "metadata": {
    "collapsed": false
   },
   "outputs": [
    {
     "data": {
      "text/html": [
       "<div>\n",
       "<table border=\"1\" class=\"dataframe\">\n",
       "  <thead>\n",
       "    <tr style=\"text-align: right;\">\n",
       "      <th></th>\n",
       "      <th>Tournament_Year</th>\n",
       "      <th>Tournament_#</th>\n",
       "      <th>Permanent_Tournament_#</th>\n",
       "      <th>Course_#</th>\n",
       "      <th>Player_Number</th>\n",
       "      <th>Player_Name</th>\n",
       "      <th>Round_Number</th>\n",
       "      <th>Tee_Time</th>\n",
       "      <th>Round_Score</th>\n",
       "      <th>End_of_Event_Pos._(text)</th>\n",
       "      <th>Finishing_Pos</th>\n",
       "      <th>Finishing_Pct</th>\n",
       "    </tr>\n",
       "  </thead>\n",
       "  <tbody>\n",
       "    <tr>\n",
       "      <th>0</th>\n",
       "      <td>2015</td>\n",
       "      <td>10</td>\n",
       "      <td>464</td>\n",
       "      <td>552</td>\n",
       "      <td>1706</td>\n",
       "      <td>Love III, Davis</td>\n",
       "      <td>1</td>\n",
       "      <td>07:35</td>\n",
       "      <td>77</td>\n",
       "      <td>CUT</td>\n",
       "      <td>135.5</td>\n",
       "      <td>0.973256</td>\n",
       "    </tr>\n",
       "    <tr>\n",
       "      <th>1</th>\n",
       "      <td>2015</td>\n",
       "      <td>10</td>\n",
       "      <td>464</td>\n",
       "      <td>552</td>\n",
       "      <td>2239</td>\n",
       "      <td>Verplank, Scott</td>\n",
       "      <td>1</td>\n",
       "      <td>08:15</td>\n",
       "      <td>73</td>\n",
       "      <td>CUT</td>\n",
       "      <td>91.0</td>\n",
       "      <td>0.766279</td>\n",
       "    </tr>\n",
       "    <tr>\n",
       "      <th>2</th>\n",
       "      <td>2015</td>\n",
       "      <td>10</td>\n",
       "      <td>464</td>\n",
       "      <td>552</td>\n",
       "      <td>6567</td>\n",
       "      <td>Singh, Vijay</td>\n",
       "      <td>1</td>\n",
       "      <td>12:55</td>\n",
       "      <td>72</td>\n",
       "      <td>CUT</td>\n",
       "      <td>101.5</td>\n",
       "      <td>0.815116</td>\n",
       "    </tr>\n",
       "    <tr>\n",
       "      <th>3</th>\n",
       "      <td>2015</td>\n",
       "      <td>10</td>\n",
       "      <td>464</td>\n",
       "      <td>552</td>\n",
       "      <td>8075</td>\n",
       "      <td>Kelly, Jerry</td>\n",
       "      <td>1</td>\n",
       "      <td>13:25</td>\n",
       "      <td>69</td>\n",
       "      <td>T39</td>\n",
       "      <td>42.0</td>\n",
       "      <td>0.387209</td>\n",
       "    </tr>\n",
       "    <tr>\n",
       "      <th>4</th>\n",
       "      <td>2015</td>\n",
       "      <td>10</td>\n",
       "      <td>464</td>\n",
       "      <td>552</td>\n",
       "      <td>8725</td>\n",
       "      <td>Gillis, Tom</td>\n",
       "      <td>1</td>\n",
       "      <td>07:15</td>\n",
       "      <td>70</td>\n",
       "      <td>T26</td>\n",
       "      <td>28.0</td>\n",
       "      <td>0.256977</td>\n",
       "    </tr>\n",
       "  </tbody>\n",
       "</table>\n",
       "</div>"
      ],
      "text/plain": [
       "   Tournament_Year  Tournament_#  Permanent_Tournament_#  Course_#  \\\n",
       "0             2015            10                     464       552   \n",
       "1             2015            10                     464       552   \n",
       "2             2015            10                     464       552   \n",
       "3             2015            10                     464       552   \n",
       "4             2015            10                     464       552   \n",
       "\n",
       "   Player_Number      Player_Name  Round_Number Tee_Time  Round_Score  \\\n",
       "0           1706  Love III, Davis             1    07:35           77   \n",
       "1           2239  Verplank, Scott             1    08:15           73   \n",
       "2           6567     Singh, Vijay             1    12:55           72   \n",
       "3           8075     Kelly, Jerry             1    13:25           69   \n",
       "4           8725      Gillis, Tom             1    07:15           70   \n",
       "\n",
       "  End_of_Event_Pos._(text)  Finishing_Pos  Finishing_Pct  \n",
       "0                      CUT          135.5       0.973256  \n",
       "1                      CUT           91.0       0.766279  \n",
       "2                      CUT          101.5       0.815116  \n",
       "3                      T39           42.0       0.387209  \n",
       "4                      T26           28.0       0.256977  "
      ]
     },
     "execution_count": 6,
     "metadata": {},
     "output_type": "execute_result"
    }
   ],
   "source": [
    "data2.head()"
   ]
  },
  {
   "cell_type": "code",
   "execution_count": 8,
   "metadata": {
    "collapsed": false
   },
   "outputs": [
    {
     "data": {
      "text/html": [
       "<div>\n",
       "<table border=\"1\" class=\"dataframe\">\n",
       "  <thead>\n",
       "    <tr style=\"text-align: right;\">\n",
       "      <th></th>\n",
       "      <th>Tournament_Year</th>\n",
       "      <th>Tournament_#</th>\n",
       "      <th>Permanent_Tournament_#</th>\n",
       "      <th>Course_#</th>\n",
       "      <th>Player_Number</th>\n",
       "      <th>Player_Name</th>\n",
       "      <th>Round_Number</th>\n",
       "      <th>Tee_Time</th>\n",
       "      <th>Round_Score</th>\n",
       "      <th>End_of_Event_Pos._(text)</th>\n",
       "      <th>Finishing_Pos</th>\n",
       "      <th>Finishing_Pct</th>\n",
       "    </tr>\n",
       "  </thead>\n",
       "  <tbody>\n",
       "    <tr>\n",
       "      <th>0</th>\n",
       "      <td>2014</td>\n",
       "      <td>10</td>\n",
       "      <td>464</td>\n",
       "      <td>775</td>\n",
       "      <td>1381</td>\n",
       "      <td>Funk, Fred</td>\n",
       "      <td>1</td>\n",
       "      <td>12:00</td>\n",
       "      <td>75</td>\n",
       "      <td>CUT</td>\n",
       "      <td>102.0</td>\n",
       "      <td>0.862530</td>\n",
       "    </tr>\n",
       "    <tr>\n",
       "      <th>1</th>\n",
       "      <td>2014</td>\n",
       "      <td>10</td>\n",
       "      <td>464</td>\n",
       "      <td>775</td>\n",
       "      <td>1706</td>\n",
       "      <td>Love III, Davis</td>\n",
       "      <td>1</td>\n",
       "      <td>12:30</td>\n",
       "      <td>69</td>\n",
       "      <td>T62</td>\n",
       "      <td>65.0</td>\n",
       "      <td>0.628954</td>\n",
       "    </tr>\n",
       "    <tr>\n",
       "      <th>2</th>\n",
       "      <td>2014</td>\n",
       "      <td>10</td>\n",
       "      <td>464</td>\n",
       "      <td>775</td>\n",
       "      <td>1724</td>\n",
       "      <td>Maggert, Jeff</td>\n",
       "      <td>1</td>\n",
       "      <td>07:20</td>\n",
       "      <td>73</td>\n",
       "      <td>80</td>\n",
       "      <td>80.0</td>\n",
       "      <td>0.754258</td>\n",
       "    </tr>\n",
       "    <tr>\n",
       "      <th>3</th>\n",
       "      <td>2014</td>\n",
       "      <td>10</td>\n",
       "      <td>464</td>\n",
       "      <td>775</td>\n",
       "      <td>1797</td>\n",
       "      <td>Mediate, Rocco</td>\n",
       "      <td>1</td>\n",
       "      <td>08:00</td>\n",
       "      <td>73</td>\n",
       "      <td>CUT</td>\n",
       "      <td>119.5</td>\n",
       "      <td>0.947689</td>\n",
       "    </tr>\n",
       "    <tr>\n",
       "      <th>4</th>\n",
       "      <td>2014</td>\n",
       "      <td>10</td>\n",
       "      <td>464</td>\n",
       "      <td>775</td>\n",
       "      <td>2239</td>\n",
       "      <td>Verplank, Scott</td>\n",
       "      <td>1</td>\n",
       "      <td>12:10</td>\n",
       "      <td>72</td>\n",
       "      <td>CUT</td>\n",
       "      <td>124.5</td>\n",
       "      <td>0.972019</td>\n",
       "    </tr>\n",
       "  </tbody>\n",
       "</table>\n",
       "</div>"
      ],
      "text/plain": [
       "   Tournament_Year  Tournament_#  Permanent_Tournament_#  Course_#  \\\n",
       "0             2014            10                     464       775   \n",
       "1             2014            10                     464       775   \n",
       "2             2014            10                     464       775   \n",
       "3             2014            10                     464       775   \n",
       "4             2014            10                     464       775   \n",
       "\n",
       "   Player_Number      Player_Name  Round_Number Tee_Time  Round_Score  \\\n",
       "0           1381       Funk, Fred             1    12:00           75   \n",
       "1           1706  Love III, Davis             1    12:30           69   \n",
       "2           1724    Maggert, Jeff             1    07:20           73   \n",
       "3           1797   Mediate, Rocco             1    08:00           73   \n",
       "4           2239  Verplank, Scott             1    12:10           72   \n",
       "\n",
       "  End_of_Event_Pos._(text)  Finishing_Pos  Finishing_Pct  \n",
       "0                      CUT          102.0       0.862530  \n",
       "1                      T62           65.0       0.628954  \n",
       "2                       80           80.0       0.754258  \n",
       "3                      CUT          119.5       0.947689  \n",
       "4                      CUT          124.5       0.972019  "
      ]
     },
     "execution_count": 8,
     "metadata": {},
     "output_type": "execute_result"
    }
   ],
   "source": [
    "data1.head()"
   ]
  },
  {
   "cell_type": "code",
   "execution_count": 9,
   "metadata": {
    "collapsed": false
   },
   "outputs": [
    {
     "data": {
      "text/html": [
       "<div>\n",
       "<table border=\"1\" class=\"dataframe\">\n",
       "  <thead>\n",
       "    <tr style=\"text-align: right;\">\n",
       "      <th></th>\n",
       "      <th>Tournament_Year</th>\n",
       "      <th>Tournament_#</th>\n",
       "      <th>Permanent_Tournament_#</th>\n",
       "      <th>Course_#</th>\n",
       "      <th>Player_Number</th>\n",
       "      <th>Player_Name</th>\n",
       "      <th>Round_Number</th>\n",
       "      <th>Tee_Time</th>\n",
       "      <th>Round_Score</th>\n",
       "      <th>End_of_Event_Pos._(text)</th>\n",
       "      <th>Finishing_Pos</th>\n",
       "      <th>Finishing_Pct</th>\n",
       "    </tr>\n",
       "  </thead>\n",
       "  <tbody>\n",
       "    <tr>\n",
       "      <th>0</th>\n",
       "      <td>2003</td>\n",
       "      <td>10</td>\n",
       "      <td>16</td>\n",
       "      <td>656</td>\n",
       "      <td>1320</td>\n",
       "      <td>Estes, Bob</td>\n",
       "      <td>1</td>\n",
       "      <td>11:50</td>\n",
       "      <td>66</td>\n",
       "      <td>T6</td>\n",
       "      <td>7.5</td>\n",
       "      <td>0.197917</td>\n",
       "    </tr>\n",
       "    <tr>\n",
       "      <th>1</th>\n",
       "      <td>2003</td>\n",
       "      <td>10</td>\n",
       "      <td>16</td>\n",
       "      <td>656</td>\n",
       "      <td>1361</td>\n",
       "      <td>Forsman, Dan</td>\n",
       "      <td>1</td>\n",
       "      <td>11:00</td>\n",
       "      <td>69</td>\n",
       "      <td>T21</td>\n",
       "      <td>22.0</td>\n",
       "      <td>0.600694</td>\n",
       "    </tr>\n",
       "    <tr>\n",
       "      <th>2</th>\n",
       "      <td>2003</td>\n",
       "      <td>10</td>\n",
       "      <td>16</td>\n",
       "      <td>656</td>\n",
       "      <td>1761</td>\n",
       "      <td>Mattiace, Len</td>\n",
       "      <td>1</td>\n",
       "      <td>13:00</td>\n",
       "      <td>75</td>\n",
       "      <td>24</td>\n",
       "      <td>24.0</td>\n",
       "      <td>0.656250</td>\n",
       "    </tr>\n",
       "    <tr>\n",
       "      <th>3</th>\n",
       "      <td>2003</td>\n",
       "      <td>10</td>\n",
       "      <td>16</td>\n",
       "      <td>656</td>\n",
       "      <td>1797</td>\n",
       "      <td>Mediate, Rocco</td>\n",
       "      <td>1</td>\n",
       "      <td>12:10</td>\n",
       "      <td>72</td>\n",
       "      <td>T2</td>\n",
       "      <td>2.5</td>\n",
       "      <td>0.059028</td>\n",
       "    </tr>\n",
       "    <tr>\n",
       "      <th>4</th>\n",
       "      <td>2003</td>\n",
       "      <td>10</td>\n",
       "      <td>16</td>\n",
       "      <td>656</td>\n",
       "      <td>1920</td>\n",
       "      <td>Parry, Craig</td>\n",
       "      <td>1</td>\n",
       "      <td>11:20</td>\n",
       "      <td>71</td>\n",
       "      <td>T25</td>\n",
       "      <td>26.5</td>\n",
       "      <td>0.725694</td>\n",
       "    </tr>\n",
       "  </tbody>\n",
       "</table>\n",
       "</div>"
      ],
      "text/plain": [
       "   Tournament_Year  Tournament_#  Permanent_Tournament_#  Course_#  \\\n",
       "0             2003            10                      16       656   \n",
       "1             2003            10                      16       656   \n",
       "2             2003            10                      16       656   \n",
       "3             2003            10                      16       656   \n",
       "4             2003            10                      16       656   \n",
       "\n",
       "   Player_Number     Player_Name  Round_Number Tee_Time  Round_Score  \\\n",
       "0           1320      Estes, Bob             1    11:50           66   \n",
       "1           1361    Forsman, Dan             1    11:00           69   \n",
       "2           1761   Mattiace, Len             1    13:00           75   \n",
       "3           1797  Mediate, Rocco             1    12:10           72   \n",
       "4           1920    Parry, Craig             1    11:20           71   \n",
       "\n",
       "  End_of_Event_Pos._(text)  Finishing_Pos  Finishing_Pct  \n",
       "0                       T6            7.5       0.197917  \n",
       "1                      T21           22.0       0.600694  \n",
       "2                       24           24.0       0.656250  \n",
       "3                       T2            2.5       0.059028  \n",
       "4                      T25           26.5       0.725694  "
      ]
     },
     "execution_count": 9,
     "metadata": {},
     "output_type": "execute_result"
    }
   ],
   "source": [
    "data.head()"
   ]
  },
  {
   "cell_type": "code",
   "execution_count": 10,
   "metadata": {
    "collapsed": false,
    "scrolled": true
   },
   "outputs": [
    {
     "data": {
      "text/html": [
       "<div>\n",
       "<table border=\"1\" class=\"dataframe\">\n",
       "  <thead>\n",
       "    <tr style=\"text-align: right;\">\n",
       "      <th></th>\n",
       "      <th>Tournament_Year</th>\n",
       "      <th>Tournament_#</th>\n",
       "      <th>Permanent_Tournament_#</th>\n",
       "      <th>Course_#</th>\n",
       "      <th>Player_Number</th>\n",
       "      <th>Player_Name</th>\n",
       "      <th>Round_Number</th>\n",
       "      <th>Tee_Time</th>\n",
       "      <th>Round_Score</th>\n",
       "      <th>End_of_Event_Pos._(text)</th>\n",
       "      <th>Finishing_Pos</th>\n",
       "      <th>Finishing_Pct</th>\n",
       "    </tr>\n",
       "  </thead>\n",
       "  <tbody>\n",
       "    <tr>\n",
       "      <th>29773</th>\n",
       "      <td>2016</td>\n",
       "      <td>340</td>\n",
       "      <td>26</td>\n",
       "      <td>608</td>\n",
       "      <td>40098</td>\n",
       "      <td>Fitzpatrick, Matthew</td>\n",
       "      <td>4</td>\n",
       "      <td>10:20</td>\n",
       "      <td>71</td>\n",
       "      <td>T54</td>\n",
       "      <td>55.0</td>\n",
       "      <td>0.494344</td>\n",
       "    </tr>\n",
       "    <tr>\n",
       "      <th>29774</th>\n",
       "      <td>2016</td>\n",
       "      <td>340</td>\n",
       "      <td>26</td>\n",
       "      <td>608</td>\n",
       "      <td>46970</td>\n",
       "      <td>Rahm, Jon</td>\n",
       "      <td>4</td>\n",
       "      <td>11:50</td>\n",
       "      <td>70</td>\n",
       "      <td>T23</td>\n",
       "      <td>27.0</td>\n",
       "      <td>0.240950</td>\n",
       "    </tr>\n",
       "    <tr>\n",
       "      <th>29775</th>\n",
       "      <td>2016</td>\n",
       "      <td>340</td>\n",
       "      <td>26</td>\n",
       "      <td>608</td>\n",
       "      <td>47287</td>\n",
       "      <td>Tracy, Ethan</td>\n",
       "      <td>4</td>\n",
       "      <td>10:10</td>\n",
       "      <td>77</td>\n",
       "      <td>T65</td>\n",
       "      <td>65.5</td>\n",
       "      <td>0.589367</td>\n",
       "    </tr>\n",
       "    <tr>\n",
       "      <th>29776</th>\n",
       "      <td>2016</td>\n",
       "      <td>340</td>\n",
       "      <td>26</td>\n",
       "      <td>608</td>\n",
       "      <td>47959</td>\n",
       "      <td>DeChambeau, Bryson</td>\n",
       "      <td>4</td>\n",
       "      <td>14:50</td>\n",
       "      <td>74</td>\n",
       "      <td>T15</td>\n",
       "      <td>16.0</td>\n",
       "      <td>0.141403</td>\n",
       "    </tr>\n",
       "    <tr>\n",
       "      <th>29777</th>\n",
       "      <td>2016</td>\n",
       "      <td>340</td>\n",
       "      <td>26</td>\n",
       "      <td>608</td>\n",
       "      <td>50490</td>\n",
       "      <td>Parker, Chase</td>\n",
       "      <td>4</td>\n",
       "      <td>11:50</td>\n",
       "      <td>81</td>\n",
       "      <td>64</td>\n",
       "      <td>64.0</td>\n",
       "      <td>0.575792</td>\n",
       "    </tr>\n",
       "  </tbody>\n",
       "</table>\n",
       "</div>"
      ],
      "text/plain": [
       "       Tournament_Year  Tournament_#  Permanent_Tournament_#  Course_#  \\\n",
       "29773             2016           340                      26       608   \n",
       "29774             2016           340                      26       608   \n",
       "29775             2016           340                      26       608   \n",
       "29776             2016           340                      26       608   \n",
       "29777             2016           340                      26       608   \n",
       "\n",
       "       Player_Number           Player_Name  Round_Number Tee_Time  \\\n",
       "29773          40098  Fitzpatrick, Matthew             4    10:20   \n",
       "29774          46970             Rahm, Jon             4    11:50   \n",
       "29775          47287          Tracy, Ethan             4    10:10   \n",
       "29776          47959    DeChambeau, Bryson             4    14:50   \n",
       "29777          50490         Parker, Chase             4    11:50   \n",
       "\n",
       "       Round_Score End_of_Event_Pos._(text)  Finishing_Pos  Finishing_Pct  \n",
       "29773           71                      T54           55.0       0.494344  \n",
       "29774           70                      T23           27.0       0.240950  \n",
       "29775           77                      T65           65.5       0.589367  \n",
       "29776           74                      T15           16.0       0.141403  \n",
       "29777           81                       64           64.0       0.575792  "
      ]
     },
     "execution_count": 10,
     "metadata": {},
     "output_type": "execute_result"
    }
   ],
   "source": [
    "data.tail()"
   ]
  },
  {
   "cell_type": "code",
   "execution_count": 11,
   "metadata": {
    "collapsed": true
   },
   "outputs": [],
   "source": [
    "data = pd.concat([data[data.Tournament_Year<2015],data2,data[data.Tournament_Year>2015]])"
   ]
  },
  {
   "cell_type": "code",
   "execution_count": 14,
   "metadata": {
    "collapsed": false
   },
   "outputs": [
    {
     "data": {
      "text/plain": [
       "2003    19393\n",
       "2004    19233\n",
       "2008    19201\n",
       "2006    19144\n",
       "2005    19019\n",
       "2007    18811\n",
       "2015    18697\n",
       "2010    18199\n",
       "2009    17810\n",
       "2011    17639\n",
       "2012    17377\n",
       "2014    17173\n",
       "2013    15521\n",
       "2016    12605\n",
       "Name: Tournament_Year, dtype: int64"
      ]
     },
     "execution_count": 14,
     "metadata": {},
     "output_type": "execute_result"
    }
   ],
   "source": [
    "data.Tournament_Year.value_counts()"
   ]
  },
  {
   "cell_type": "code",
   "execution_count": 16,
   "metadata": {
    "collapsed": false
   },
   "outputs": [
    {
     "data": {
      "text/html": [
       "<div>\n",
       "<table border=\"1\" class=\"dataframe\">\n",
       "  <thead>\n",
       "    <tr style=\"text-align: right;\">\n",
       "      <th></th>\n",
       "      <th>Tournament_Year</th>\n",
       "      <th>Tournament_#</th>\n",
       "      <th>Permanent_Tournament_#</th>\n",
       "      <th>Course_#</th>\n",
       "      <th>Player_Number</th>\n",
       "      <th>Player_Name</th>\n",
       "      <th>Round_Number</th>\n",
       "      <th>Tee_Time</th>\n",
       "      <th>Round_Score</th>\n",
       "      <th>End_of_Event_Pos._(text)</th>\n",
       "      <th>Finishing_Pos</th>\n",
       "      <th>Finishing_Pct</th>\n",
       "    </tr>\n",
       "  </thead>\n",
       "  <tbody>\n",
       "    <tr>\n",
       "      <th>0</th>\n",
       "      <td>2015</td>\n",
       "      <td>10</td>\n",
       "      <td>464</td>\n",
       "      <td>552</td>\n",
       "      <td>1706</td>\n",
       "      <td>Love III, Davis</td>\n",
       "      <td>1</td>\n",
       "      <td>07:35</td>\n",
       "      <td>77</td>\n",
       "      <td>CUT</td>\n",
       "      <td>135.5</td>\n",
       "      <td>0.973256</td>\n",
       "    </tr>\n",
       "    <tr>\n",
       "      <th>1</th>\n",
       "      <td>2015</td>\n",
       "      <td>10</td>\n",
       "      <td>464</td>\n",
       "      <td>552</td>\n",
       "      <td>2239</td>\n",
       "      <td>Verplank, Scott</td>\n",
       "      <td>1</td>\n",
       "      <td>08:15</td>\n",
       "      <td>73</td>\n",
       "      <td>CUT</td>\n",
       "      <td>91.0</td>\n",
       "      <td>0.766279</td>\n",
       "    </tr>\n",
       "    <tr>\n",
       "      <th>2</th>\n",
       "      <td>2015</td>\n",
       "      <td>10</td>\n",
       "      <td>464</td>\n",
       "      <td>552</td>\n",
       "      <td>6567</td>\n",
       "      <td>Singh, Vijay</td>\n",
       "      <td>1</td>\n",
       "      <td>12:55</td>\n",
       "      <td>72</td>\n",
       "      <td>CUT</td>\n",
       "      <td>101.5</td>\n",
       "      <td>0.815116</td>\n",
       "    </tr>\n",
       "  </tbody>\n",
       "</table>\n",
       "</div>"
      ],
      "text/plain": [
       "   Tournament_Year  Tournament_#  Permanent_Tournament_#  Course_#  \\\n",
       "0             2015            10                     464       552   \n",
       "1             2015            10                     464       552   \n",
       "2             2015            10                     464       552   \n",
       "\n",
       "   Player_Number      Player_Name  Round_Number Tee_Time  Round_Score  \\\n",
       "0           1706  Love III, Davis             1    07:35           77   \n",
       "1           2239  Verplank, Scott             1    08:15           73   \n",
       "2           6567     Singh, Vijay             1    12:55           72   \n",
       "\n",
       "  End_of_Event_Pos._(text)  Finishing_Pos  Finishing_Pct  \n",
       "0                      CUT          135.5       0.973256  \n",
       "1                      CUT           91.0       0.766279  \n",
       "2                      CUT          101.5       0.815116  "
      ]
     },
     "execution_count": 16,
     "metadata": {},
     "output_type": "execute_result"
    }
   ],
   "source": [
    "data[data.Tournament_Year==2015].head(3)"
   ]
  },
  {
   "cell_type": "code",
   "execution_count": 18,
   "metadata": {
    "collapsed": true
   },
   "outputs": [],
   "source": [
    "data.to_csv('data/round.csv',index=False)"
   ]
  },
  {
   "cell_type": "code",
   "execution_count": 24,
   "metadata": {
    "collapsed": false
   },
   "outputs": [
    {
     "data": {
      "text/plain": [
       "array([ 0.])"
      ]
     },
     "execution_count": 24,
     "metadata": {},
     "output_type": "execute_result"
    }
   ],
   "source": [
    "import numpy as np\n",
    "np.array([1.1121e-1000])*np.array([1.1121e-1000])"
   ]
  },
  {
   "cell_type": "code",
   "execution_count": 25,
   "metadata": {
    "collapsed": true
   },
   "outputs": [],
   "source": [
    "from scipy.stats import norm\n",
    "def my_norm(x,BETA):\n",
    "    return norm.pdf(x,0,BETA)/norm.pdf(0,0,BETA)"
   ]
  },
  {
   "cell_type": "code",
   "execution_count": 26,
   "metadata": {
    "collapsed": false
   },
   "outputs": [
    {
     "data": {
      "text/plain": [
       "1.2664165549094177e-14"
      ]
     },
     "execution_count": 26,
     "metadata": {},
     "output_type": "execute_result"
    }
   ],
   "source": [
    "my_norm(-40,5)"
   ]
  },
  {
   "cell_type": "code",
   "execution_count": null,
   "metadata": {
    "collapsed": true
   },
   "outputs": [],
   "source": []
  }
 ],
 "metadata": {
  "kernelspec": {
   "display_name": "Python 2",
   "language": "python",
   "name": "python2"
  },
  "language_info": {
   "codemirror_mode": {
    "name": "ipython",
    "version": 2
   },
   "file_extension": ".py",
   "mimetype": "text/x-python",
   "name": "python",
   "nbconvert_exporter": "python",
   "pygments_lexer": "ipython2",
   "version": "2.7.11"
  }
 },
 "nbformat": 4,
 "nbformat_minor": 0
}
