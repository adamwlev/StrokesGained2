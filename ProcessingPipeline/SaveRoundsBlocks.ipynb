{
 "cells": [
  {
   "cell_type": "code",
   "execution_count": 3,
   "metadata": {
    "collapsed": true
   },
   "outputs": [],
   "source": [
    "import pandas as pd\n",
    "import numpy as np\n",
    "from scipy.sparse import csc_matrix\n",
    "import math\n",
    "import pickle"
   ]
  },
  {
   "cell_type": "code",
   "execution_count": 4,
   "metadata": {
    "collapsed": false
   },
   "outputs": [],
   "source": [
    "data = pd.read_csv('./../data/round.csv')\n",
    "data = data.loc[data['Permanent_Tournament_#']!=470] ## this is the match play championship, no round scores available"
   ]
  },
  {
   "cell_type": "code",
   "execution_count": 5,
   "metadata": {
    "collapsed": false
   },
   "outputs": [
    {
     "data": {
      "text/plain": [
       "(257759, 12)"
      ]
     },
     "execution_count": 5,
     "metadata": {},
     "output_type": "execute_result"
    }
   ],
   "source": [
    "data.shape"
   ]
  },
  {
   "cell_type": "code",
   "execution_count": 6,
   "metadata": {
    "collapsed": false
   },
   "outputs": [
    {
     "data": {
      "text/html": [
       "<div>\n",
       "<table border=\"1\" class=\"dataframe\">\n",
       "  <thead>\n",
       "    <tr style=\"text-align: right;\">\n",
       "      <th></th>\n",
       "      <th>Tournament_Year</th>\n",
       "      <th>Permanent_Tournament_#</th>\n",
       "      <th>Course_#</th>\n",
       "      <th>Player_Number</th>\n",
       "      <th>Player_Name</th>\n",
       "      <th>Round_Number</th>\n",
       "      <th>Round_Score</th>\n",
       "      <th>End_of_Event_Pos._(text)</th>\n",
       "      <th>Event_Name</th>\n",
       "      <th>Strokes_In_Tournament</th>\n",
       "      <th>Rounds_In_Tournament</th>\n",
       "      <th>Finishing_Position</th>\n",
       "    </tr>\n",
       "  </thead>\n",
       "  <tbody>\n",
       "    <tr>\n",
       "      <th>0</th>\n",
       "      <td>2003</td>\n",
       "      <td>16</td>\n",
       "      <td>656</td>\n",
       "      <td>1320</td>\n",
       "      <td>Estes, Bob</td>\n",
       "      <td>1</td>\n",
       "      <td>66</td>\n",
       "      <td>T6</td>\n",
       "      <td>Mercedes Championships</td>\n",
       "      <td>271.0</td>\n",
       "      <td>4.0</td>\n",
       "      <td>0.208333</td>\n",
       "    </tr>\n",
       "    <tr>\n",
       "      <th>1</th>\n",
       "      <td>2003</td>\n",
       "      <td>16</td>\n",
       "      <td>656</td>\n",
       "      <td>1361</td>\n",
       "      <td>Forsman, Dan</td>\n",
       "      <td>1</td>\n",
       "      <td>69</td>\n",
       "      <td>T21</td>\n",
       "      <td>Mercedes Championships</td>\n",
       "      <td>279.0</td>\n",
       "      <td>4.0</td>\n",
       "      <td>0.611111</td>\n",
       "    </tr>\n",
       "    <tr>\n",
       "      <th>2</th>\n",
       "      <td>2003</td>\n",
       "      <td>16</td>\n",
       "      <td>656</td>\n",
       "      <td>1761</td>\n",
       "      <td>Mattiace, Len</td>\n",
       "      <td>1</td>\n",
       "      <td>75</td>\n",
       "      <td>24</td>\n",
       "      <td>Mercedes Championships</td>\n",
       "      <td>280.0</td>\n",
       "      <td>4.0</td>\n",
       "      <td>0.666667</td>\n",
       "    </tr>\n",
       "  </tbody>\n",
       "</table>\n",
       "</div>"
      ],
      "text/plain": [
       "   Tournament_Year  Permanent_Tournament_#  Course_#  Player_Number  \\\n",
       "0             2003                      16       656           1320   \n",
       "1             2003                      16       656           1361   \n",
       "2             2003                      16       656           1761   \n",
       "\n",
       "     Player_Name  Round_Number  Round_Score End_of_Event_Pos._(text)  \\\n",
       "0     Estes, Bob             1           66                       T6   \n",
       "1   Forsman, Dan             1           69                      T21   \n",
       "2  Mattiace, Len             1           75                       24   \n",
       "\n",
       "               Event_Name  Strokes_In_Tournament  Rounds_In_Tournament  \\\n",
       "0  Mercedes Championships                  271.0                   4.0   \n",
       "1  Mercedes Championships                  279.0                   4.0   \n",
       "2  Mercedes Championships                  280.0                   4.0   \n",
       "\n",
       "   Finishing_Position  \n",
       "0            0.208333  \n",
       "1            0.611111  \n",
       "2            0.666667  "
      ]
     },
     "execution_count": 6,
     "metadata": {},
     "output_type": "execute_result"
    }
   ],
   "source": [
    "data.head(3)"
   ]
  },
  {
   "cell_type": "code",
   "execution_count": 7,
   "metadata": {
    "collapsed": false
   },
   "outputs": [],
   "source": [
    "with open('./../PickleFiles/num_to_ind_round.pkl','r') as pickleFile:\n",
    "    num_to_inds = pickle.load(pickleFile)"
   ]
  },
  {
   "cell_type": "code",
   "execution_count": 8,
   "metadata": {
    "collapsed": false
   },
   "outputs": [],
   "source": [
    "data.insert(5,'Player_Index',[num_to_inds[num] for num in data.Player_Number])"
   ]
  },
  {
   "cell_type": "code",
   "execution_count": 9,
   "metadata": {
    "collapsed": true
   },
   "outputs": [],
   "source": [
    "tups = data.drop_duplicates(['Tournament_Year','Permanent_Tournament_#'])[['Tournament_Year','Permanent_Tournament_#']].values.tolist()\n",
    "tournament_groups = {tuple(tup):u/4 for u,tup in enumerate(tups)}"
   ]
  },
  {
   "cell_type": "code",
   "execution_count": 10,
   "metadata": {
    "collapsed": true
   },
   "outputs": [],
   "source": [
    "data.insert(len(data.columns),'Tournament_Group',[tournament_groups[tuple(tup)] \n",
    "                                                  for tup in data[['Tournament_Year','Permanent_Tournament_#']].values.tolist()])"
   ]
  },
  {
   "cell_type": "code",
   "execution_count": 11,
   "metadata": {
    "collapsed": true
   },
   "outputs": [],
   "source": [
    "n_tournament_groups = len(pd.unique(data.Tournament_Group))"
   ]
  },
  {
   "cell_type": "code",
   "execution_count": 12,
   "metadata": {
    "collapsed": false
   },
   "outputs": [
    {
     "data": {
      "text/plain": [
       "158"
      ]
     },
     "execution_count": 12,
     "metadata": {},
     "output_type": "execute_result"
    }
   ],
   "source": [
    "n_tournament_groups"
   ]
  },
  {
   "cell_type": "code",
   "execution_count": 13,
   "metadata": {
    "collapsed": true
   },
   "outputs": [],
   "source": [
    "def save_sparse_csc(filename,array):\n",
    "    np.savez(filename,data = array.data ,indices=array.indices,\n",
    "             indptr =array.indptr, shape=array.shape )"
   ]
  },
  {
   "cell_type": "code",
   "execution_count": 14,
   "metadata": {
    "collapsed": true
   },
   "outputs": [],
   "source": [
    "def sigmoid(x,m,r):\n",
    "    return (1/(1 + np.exp(m)**(-x)) + (np.tanh(r*x) + 1)/2)/2"
   ]
  },
  {
   "cell_type": "code",
   "execution_count": 32,
   "metadata": {
    "collapsed": false
   },
   "outputs": [],
   "source": [
    "a[np.ix_(players,players)] = sigmoid(np.subtract.outer(scores,scores),.1,.1)\n",
    "np.fill_diagonal(a,0)"
   ]
  },
  {
   "cell_type": "code",
   "execution_count": 33,
   "metadata": {
    "collapsed": false
   },
   "outputs": [
    {
     "data": {
      "text/plain": [
       "array([[ 0.        ,  0.        ,  0.        ,  0.53740659,  0.78454922],\n",
       "       [ 0.        ,  0.        ,  0.        ,  0.        ,  0.        ],\n",
       "       [ 0.        ,  0.        ,  0.        ,  0.        ,  0.        ],\n",
       "       [ 0.46259341,  0.        ,  0.        ,  0.        ,  0.76099643],\n",
       "       [ 0.21545078,  0.        ,  0.        ,  0.23900357,  0.        ]])"
      ]
     },
     "execution_count": 33,
     "metadata": {},
     "output_type": "execute_result"
    }
   ],
   "source": [
    "a"
   ]
  },
  {
   "cell_type": "code",
   "execution_count": 28,
   "metadata": {
    "collapsed": false,
    "scrolled": true
   },
   "outputs": [],
   "source": [
    "for (year,tourn_group),df in data.groupby(['Tournament_Year','Tournament_Group'],sort=False):\n",
    "    A,G = np.zeros((n_players,n_players)),np.zeros((n_players,n_players))\n",
    "    \n",
    "    for (tourn,round),df_ in df.groupby(['Course_#','Round_Number']):\n",
    "        A[np.ix_(df_.Player_Index.values,df_.Player_Index.values)] += \\\n",
    "                np.outer(1/df_.Round_Score.values.astype(float),df_.Round_Score.values)\n",
    "        G[np.ix_(df_.Player_Index.values,df_.Player_Index.values)] += 1.\n",
    "    \n",
    "    np.fill_diagonal(A,0)\n",
    "    np.fill_diagonal(G,0)\n",
    "    A = csc_matrix(A)\n",
    "    G = csc_matrix(G)\n",
    "    save_sparse_csc('./../rounds/%dA' % (tourn_group),A)\n",
    "    save_sparse_csc('./../rounds/%dG' % (tourn_group),G)"
   ]
  }
 ],
 "metadata": {
  "kernelspec": {
   "display_name": "Python 2",
   "language": "python",
   "name": "python2"
  },
  "language_info": {
   "codemirror_mode": {
    "name": "ipython",
    "version": 2
   },
   "file_extension": ".py",
   "mimetype": "text/x-python",
   "name": "python",
   "nbconvert_exporter": "python",
   "pygments_lexer": "ipython2",
   "version": "2.7.11"
  }
 },
 "nbformat": 4,
 "nbformat_minor": 0
}
