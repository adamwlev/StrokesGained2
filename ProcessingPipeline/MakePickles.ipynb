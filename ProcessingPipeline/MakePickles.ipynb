{
 "cells": [
  {
   "cell_type": "code",
   "execution_count": 1,
   "metadata": {
    "collapsed": true
   },
   "outputs": [],
   "source": [
    "import pandas as pd\n",
    "import numpy as np\n",
    "import pickle"
   ]
  },
  {
   "cell_type": "code",
   "execution_count": 38,
   "metadata": {
    "collapsed": false
   },
   "outputs": [],
   "source": [
    "data = pd.concat([pd.read_csv('data/%d.csv' % (year,)) for year in range(2003,2017)])"
   ]
  },
  {
   "cell_type": "code",
   "execution_count": 26,
   "metadata": {
    "collapsed": true
   },
   "outputs": [],
   "source": [
    "inds = {num:ind for ind,num in enumerate(pd.unique(data['Player_#']))}\n",
    "data.insert(5,'Player_Index',[inds[num] for num in data['Player_#']])"
   ]
  },
  {
   "cell_type": "code",
   "execution_count": 2,
   "metadata": {
    "collapsed": true
   },
   "outputs": [],
   "source": [
    "tourn_order = pd.read_csv('tourn_order.csv',header=None)"
   ]
  },
  {
   "cell_type": "code",
   "execution_count": 28,
   "metadata": {
    "collapsed": false
   },
   "outputs": [],
   "source": [
    "data = data[['Year','Permanent_Tournament_#','Round','Course_#','Hole']].drop_duplicates()"
   ]
  },
  {
   "cell_type": "code",
   "execution_count": 29,
   "metadata": {
    "collapsed": false
   },
   "outputs": [],
   "source": [
    "list_of_frames = []\n",
    "for tup in tourn_order.values.tolist():\n",
    "    list_of_frames.append(data[(data.Year==tup[0]) & (data['Permanent_Tournament_#']==tup[1])])\n",
    "new_data = pd.concat(list_of_frames)"
   ]
  },
  {
   "cell_type": "code",
   "execution_count": 31,
   "metadata": {
    "collapsed": false
   },
   "outputs": [],
   "source": [
    "hole_tups = new_data[['Year','Permanent_Tournament_#','Round','Course_#','Hole']].values.tolist()"
   ]
  },
  {
   "cell_type": "code",
   "execution_count": 37,
   "metadata": {
    "collapsed": false
   },
   "outputs": [],
   "source": [
    "with open('num_to_ind.pkl','w') as pickleFile:\n",
    "    pickle.dump(inds,pickleFile)\n",
    "\n",
    "with open('hole_tups.pkl','w') as pickleFile:\n",
    "    pickle.dump(hole_tups,pickleFile)"
   ]
  },
  {
   "cell_type": "code",
   "execution_count": 3,
   "metadata": {
    "collapsed": true
   },
   "outputs": [],
   "source": [
    "data = pd.read_csv('data/round.csv')"
   ]
  },
  {
   "cell_type": "code",
   "execution_count": 4,
   "metadata": {
    "collapsed": false
   },
   "outputs": [
    {
     "data": {
      "text/html": [
       "<div>\n",
       "<table border=\"1\" class=\"dataframe\">\n",
       "  <thead>\n",
       "    <tr style=\"text-align: right;\">\n",
       "      <th></th>\n",
       "      <th>Tournament_Year</th>\n",
       "      <th>Tournament_#</th>\n",
       "      <th>Permanent_Tournament_#</th>\n",
       "      <th>Course_#</th>\n",
       "      <th>Player_Number</th>\n",
       "      <th>Player_Name</th>\n",
       "      <th>Round_Number</th>\n",
       "      <th>Tee_Time</th>\n",
       "      <th>Round_Score</th>\n",
       "      <th>End_of_Event_Pos._(text)</th>\n",
       "      <th>Finishing_Pos</th>\n",
       "      <th>Finishing_Pct</th>\n",
       "    </tr>\n",
       "  </thead>\n",
       "  <tbody>\n",
       "    <tr>\n",
       "      <th>0</th>\n",
       "      <td>2003</td>\n",
       "      <td>10</td>\n",
       "      <td>16</td>\n",
       "      <td>656</td>\n",
       "      <td>1320</td>\n",
       "      <td>Estes, Bob</td>\n",
       "      <td>1</td>\n",
       "      <td>11:50</td>\n",
       "      <td>66</td>\n",
       "      <td>T6</td>\n",
       "      <td>7.5</td>\n",
       "      <td>0.197917</td>\n",
       "    </tr>\n",
       "    <tr>\n",
       "      <th>1</th>\n",
       "      <td>2003</td>\n",
       "      <td>10</td>\n",
       "      <td>16</td>\n",
       "      <td>656</td>\n",
       "      <td>1361</td>\n",
       "      <td>Forsman, Dan</td>\n",
       "      <td>1</td>\n",
       "      <td>11:00</td>\n",
       "      <td>69</td>\n",
       "      <td>T21</td>\n",
       "      <td>22.0</td>\n",
       "      <td>0.600694</td>\n",
       "    </tr>\n",
       "    <tr>\n",
       "      <th>2</th>\n",
       "      <td>2003</td>\n",
       "      <td>10</td>\n",
       "      <td>16</td>\n",
       "      <td>656</td>\n",
       "      <td>1761</td>\n",
       "      <td>Mattiace, Len</td>\n",
       "      <td>1</td>\n",
       "      <td>13:00</td>\n",
       "      <td>75</td>\n",
       "      <td>24</td>\n",
       "      <td>24.0</td>\n",
       "      <td>0.656250</td>\n",
       "    </tr>\n",
       "    <tr>\n",
       "      <th>3</th>\n",
       "      <td>2003</td>\n",
       "      <td>10</td>\n",
       "      <td>16</td>\n",
       "      <td>656</td>\n",
       "      <td>1797</td>\n",
       "      <td>Mediate, Rocco</td>\n",
       "      <td>1</td>\n",
       "      <td>12:10</td>\n",
       "      <td>72</td>\n",
       "      <td>T2</td>\n",
       "      <td>2.5</td>\n",
       "      <td>0.059028</td>\n",
       "    </tr>\n",
       "    <tr>\n",
       "      <th>4</th>\n",
       "      <td>2003</td>\n",
       "      <td>10</td>\n",
       "      <td>16</td>\n",
       "      <td>656</td>\n",
       "      <td>1920</td>\n",
       "      <td>Parry, Craig</td>\n",
       "      <td>1</td>\n",
       "      <td>11:20</td>\n",
       "      <td>71</td>\n",
       "      <td>T25</td>\n",
       "      <td>26.5</td>\n",
       "      <td>0.725694</td>\n",
       "    </tr>\n",
       "  </tbody>\n",
       "</table>\n",
       "</div>"
      ],
      "text/plain": [
       "   Tournament_Year  Tournament_#  Permanent_Tournament_#  Course_#  \\\n",
       "0             2003            10                      16       656   \n",
       "1             2003            10                      16       656   \n",
       "2             2003            10                      16       656   \n",
       "3             2003            10                      16       656   \n",
       "4             2003            10                      16       656   \n",
       "\n",
       "   Player_Number     Player_Name  Round_Number Tee_Time  Round_Score  \\\n",
       "0           1320      Estes, Bob             1    11:50           66   \n",
       "1           1361    Forsman, Dan             1    11:00           69   \n",
       "2           1761   Mattiace, Len             1    13:00           75   \n",
       "3           1797  Mediate, Rocco             1    12:10           72   \n",
       "4           1920    Parry, Craig             1    11:20           71   \n",
       "\n",
       "  End_of_Event_Pos._(text)  Finishing_Pos  Finishing_Pct  \n",
       "0                       T6            7.5       0.197917  \n",
       "1                      T21           22.0       0.600694  \n",
       "2                       24           24.0       0.656250  \n",
       "3                       T2            2.5       0.059028  \n",
       "4                      T25           26.5       0.725694  "
      ]
     },
     "execution_count": 4,
     "metadata": {},
     "output_type": "execute_result"
    }
   ],
   "source": [
    "data.head()"
   ]
  },
  {
   "cell_type": "code",
   "execution_count": 8,
   "metadata": {
    "collapsed": false
   },
   "outputs": [
    {
     "data": {
      "text/plain": [
       "[[2003, 16],\n",
       " [2003, 6],\n",
       " [2003, 3],\n",
       " [2003, 2],\n",
       " [2003, 5],\n",
       " [2003, 4],\n",
       " [2003, 7],\n",
       " [2003, 1],\n",
       " [2003, 8],\n",
       " [2003, 10]]"
      ]
     },
     "execution_count": 8,
     "metadata": {},
     "output_type": "execute_result"
    }
   ],
   "source": [
    "data[['Tournament_Year','Permanent_Tournament_#']].drop_duplicates().values.tolist()[0:10]"
   ]
  },
  {
   "cell_type": "code",
   "execution_count": 11,
   "metadata": {
    "collapsed": false,
    "scrolled": false
   },
   "outputs": [
    {
     "data": {
      "text/plain": [
       "[[2003, 16],\n",
       " [2003, 6],\n",
       " [2003, 3],\n",
       " [2003, 2],\n",
       " [2003, 5],\n",
       " [2003, 4],\n",
       " [2003, 7],\n",
       " [2003, 1],\n",
       " [2003, 8],\n",
       " [2003, 10]]"
      ]
     },
     "execution_count": 11,
     "metadata": {},
     "output_type": "execute_result"
    }
   ],
   "source": [
    "tourn_order.values.tolist()[0:10]"
   ]
  },
  {
   "cell_type": "code",
   "execution_count": 12,
   "metadata": {
    "collapsed": false
   },
   "outputs": [
    {
     "data": {
      "text/plain": [
       "(558, 624)"
      ]
     },
     "execution_count": 12,
     "metadata": {},
     "output_type": "execute_result"
    }
   ],
   "source": [
    "len(tourn_order),len(data[['Tournament_Year','Permanent_Tournament_#']].drop_duplicates())"
   ]
  },
  {
   "cell_type": "code",
   "execution_count": 13,
   "metadata": {
    "collapsed": true
   },
   "outputs": [],
   "source": [
    "tourns = set(tuple(i) for i in tourn_order.values.tolist())"
   ]
  },
  {
   "cell_type": "code",
   "execution_count": 15,
   "metadata": {
    "collapsed": false
   },
   "outputs": [],
   "source": [
    "t_order = [i for i in data[['Tournament_Year','Permanent_Tournament_#']].drop_duplicates().values.tolist() if tuple(i) in tourns]"
   ]
  },
  {
   "cell_type": "code",
   "execution_count": 18,
   "metadata": {
    "collapsed": false
   },
   "outputs": [],
   "source": [
    "t = set(tuple(i) for i in t_order)"
   ]
  },
  {
   "cell_type": "code",
   "execution_count": 21,
   "metadata": {
    "collapsed": false
   },
   "outputs": [
    {
     "data": {
      "text/plain": [
       "(558, 556)"
      ]
     },
     "execution_count": 21,
     "metadata": {},
     "output_type": "execute_result"
    }
   ],
   "source": [
    "len(tourns),len(t_order)"
   ]
  },
  {
   "cell_type": "code",
   "execution_count": 30,
   "metadata": {
    "collapsed": false
   },
   "outputs": [],
   "source": [
    "t_current = [i for i in tourn_order.values.tolist() if tuple(i) in t]"
   ]
  },
  {
   "cell_type": "code",
   "execution_count": 31,
   "metadata": {
    "collapsed": false
   },
   "outputs": [
    {
     "data": {
      "text/plain": [
       "(556, 556)"
      ]
     },
     "execution_count": 31,
     "metadata": {},
     "output_type": "execute_result"
    }
   ],
   "source": [
    "len(t_current),len(t_order)"
   ]
  },
  {
   "cell_type": "code",
   "execution_count": 32,
   "metadata": {
    "collapsed": false
   },
   "outputs": [
    {
     "data": {
      "text/plain": [
       "True"
      ]
     },
     "execution_count": 32,
     "metadata": {},
     "output_type": "execute_result"
    }
   ],
   "source": [
    "t_current==t_order"
   ]
  },
  {
   "cell_type": "code",
   "execution_count": 25,
   "metadata": {
    "collapsed": false
   },
   "outputs": [
    {
     "data": {
      "text/plain": [
       "list"
      ]
     },
     "execution_count": 25,
     "metadata": {},
     "output_type": "execute_result"
    }
   ],
   "source": [
    "type(t_current)"
   ]
  },
  {
   "cell_type": "code",
   "execution_count": 26,
   "metadata": {
    "collapsed": false
   },
   "outputs": [
    {
     "data": {
      "text/plain": [
       "list"
      ]
     },
     "execution_count": 26,
     "metadata": {},
     "output_type": "execute_result"
    }
   ],
   "source": [
    "type(t_order)"
   ]
  },
  {
   "cell_type": "code",
   "execution_count": 28,
   "metadata": {
    "collapsed": false
   },
   "outputs": [
    {
     "data": {
      "text/plain": [
       "array([[2006,   34],\n",
       "       [2004,   22],\n",
       "       [2005,   23],\n",
       "       ..., \n",
       "       [2009,   35],\n",
       "       [2005,   45],\n",
       "       [2003,   21]])"
      ]
     },
     "execution_count": 28,
     "metadata": {},
     "output_type": "execute_result"
    }
   ],
   "source": [
    "np.array(t_current)"
   ]
  },
  {
   "cell_type": "code",
   "execution_count": null,
   "metadata": {
    "collapsed": true
   },
   "outputs": [],
   "source": []
  }
 ],
 "metadata": {
  "kernelspec": {
   "display_name": "Python 2",
   "language": "python",
   "name": "python2"
  },
  "language_info": {
   "codemirror_mode": {
    "name": "ipython",
    "version": 2
   },
   "file_extension": ".py",
   "mimetype": "text/x-python",
   "name": "python",
   "nbconvert_exporter": "python",
   "pygments_lexer": "ipython2",
   "version": "2.7.12"
  }
 },
 "nbformat": 4,
 "nbformat_minor": 0
}
