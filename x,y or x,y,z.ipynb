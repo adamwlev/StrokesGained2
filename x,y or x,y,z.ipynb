{
 "cells": [
  {
   "cell_type": "code",
   "execution_count": null,
   "metadata": {
    "collapsed": true
   },
   "outputs": [],
   "source": [
    "import pandas as pd\n",
    "import numpy as np\n",
    "import itertools\n",
    "from scipy.optimize import fmin_tnc"
   ]
  },
  {
   "cell_type": "code",
   "execution_count": null,
   "metadata": {
    "collapsed": true
   },
   "outputs": [],
   "source": [
    "data = pd.read_csv('data/rawdata/2015.txt', sep = ';')"
   ]
  },
  {
   "cell_type": "code",
   "execution_count": null,
   "metadata": {
    "collapsed": true
   },
   "outputs": [],
   "source": [
    "data.columns = np.array([str(i).strip() for i in list(data.columns.values)]) #remove space in col names"
   ]
  },
  {
   "cell_type": "code",
   "execution_count": null,
   "metadata": {
    "collapsed": true
   },
   "outputs": [],
   "source": [
    "data['X Coordinate'] = [str(i).replace(' ','') for i in data['X Coordinate']] #remove space in coordinates cols\n",
    "data['Y Coordinate'] = [str(i).replace(' ','') for i in data['Y Coordinate']]\n",
    "data['Z Coordinate'] = [str(i).replace(' ','') for i in data['Z Coordinate']]"
   ]
  },
  {
   "cell_type": "code",
   "execution_count": null,
   "metadata": {
    "collapsed": true
   },
   "outputs": [],
   "source": [
    "data['X Coordinate'] = [str(i).replace(',','') for i in data['X Coordinate']] #remove commas in coordinates cols\n",
    "data['Y Coordinate'] = [str(i).replace(',','') for i in data['Y Coordinate']]\n",
    "data['Z Coordinate'] = [str(i).replace(',','') for i in data['Z Coordinate']]"
   ]
  },
  {
   "cell_type": "code",
   "execution_count": null,
   "metadata": {
    "collapsed": true
   },
   "outputs": [],
   "source": [
    "#putting negative in front\n",
    "data['X Coordinate'] = ['-' + str(i)[:len(str(i))-1] if str(i)[len(str(i))-1]=='-' else i for i in data['X Coordinate']] \n",
    "data['Y Coordinate'] = ['-' + str(i)[:len(str(i))-1] if str(i)[len(str(i))-1]=='-' else i for i in data['Y Coordinate']]\n",
    "data['Z Coordinate'] = ['-' + str(i)[:len(str(i))-1] if str(i)[len(str(i))-1]=='-' else i for i in data['Z Coordinate']]"
   ]
  },
  {
   "cell_type": "code",
   "execution_count": null,
   "metadata": {
    "collapsed": true
   },
   "outputs": [],
   "source": [
    "data['X Coordinate'] = pd.to_numeric(data['X Coordinate'])\n",
    "data['Y Coordinate'] = pd.to_numeric(data['Y Coordinate'])\n",
    "data['Z Coordinate'] = pd.to_numeric(data['Z Coordinate'])"
   ]
  },
  {
   "cell_type": "code",
   "execution_count": null,
   "metadata": {
    "collapsed": true
   },
   "outputs": [],
   "source": [
    "#unique Course-Round-Hole Tuples\n",
    "uCRHtps = list(itertools.product(np.unique(data['Course Name']),np.unique(data['Round']),np.unique(data['Hole'])))"
   ]
  },
  {
   "cell_type": "code",
   "execution_count": null,
   "metadata": {
    "collapsed": true
   },
   "outputs": [],
   "source": [
    "# coordinates of hole are not given. must be imputed.\n",
    "# does the distance use the x,y, and z coordinates or just the x and y coordinates?\n",
    "# test: first find the hole using the x,y, and z coordinates and record the average difference between calculated hole\n",
    "# location and ball and recorded distance. then do the same using just the x and y coodinates. see which is better."
   ]
  },
  {
   "cell_type": "code",
   "execution_count": null,
   "metadata": {
    "collapsed": true
   },
   "outputs": [],
   "source": [
    "def f (a):\n",
    "    x0,y0,z0 = a[0],a[1],a[2]\n",
    "    return sum((((x-x0)**2 + (y-y0)**2 + (z-z0)**2)**.5-d)**2)/len(x)\n",
    "\n",
    "def find_the_hole ():\n",
    "    xopt = fmin_tnc(f,[x0,y0,z0],approx_grad=1)[0].tolist()\n",
    "    return xopt"
   ]
  },
  {
   "cell_type": "code",
   "execution_count": null,
   "metadata": {
    "collapsed": true
   },
   "outputs": [],
   "source": [
    "#finding the coordinates of the hole\n",
    "aveds=[]\n",
    "for u,i in enumerate(uCRHtps):\n",
    "#     if (u+1)%100==0:\n",
    "#         print u\n",
    "#         print u+1,sum(aveds)/len(aveds)\n",
    "    subset = data[(data['Course Name']==i[0]) & (data['Round']==int(i[1])) & (data['Hole']==int(i[2])) \\\n",
    "                  & (data['Distance to Hole after the Shot']!=0) & (data['X Coordinate']!=0) & (data['Y Coordinate']!=0) \\\n",
    "                  & (data['Z Coordinate']!=0)]\n",
    "    if subset.shape[0] == 0:\n",
    "        continue\n",
    "    d = subset['Distance to Hole after the Shot'].values/12.0\n",
    "    x = subset['X Coordinate'].values\n",
    "    y = subset['Y Coordinate'].values\n",
    "    z = subset['Z Coordinate'].values\n",
    "    sorted_subset = subset.sort_values('Distance to Hole after the Shot')\n",
    "    x0 = sorted_subset['X Coordinate'].values[0] ##assume that closest ball recorded to hole does not have an error\n",
    "    y0 = sorted_subset['Y Coordinate'].values[0]\n",
    "    z0 = sorted_subset['Z Coordinate'].values[0]\n",
    "    subset.insert(len(subset.columns),'approx_dist',((x-x0)**2 + (y-y0)**2 + (z-z0)**2)**.5)\n",
    "    # dist_diff is difference between recorded distance and distance approximated from location of closest recorded shot\n",
    "    subset.insert(len(subset.columns),'dist_diff', \\\n",
    "                  np.absolute(subset['approx_dist'].values - subset['Distance to Hole after the Shot'].values/12.0))\n",
    "    before = subset.shape[0]\n",
    "    # remove very inconsistant shots from record which are likely mistakes\n",
    "    subset = subset[subset['dist_diff']<sorted_subset['Distance to Hole after the Shot'].values[0]]\n",
    "    after = subset.shape[0]\n",
    "    subset.drop('approx_dist',axis=1,inplace=True)\n",
    "    subset.drop('dist_diff',axis=1,inplace=True)\n",
    "    if before-after>0:\n",
    "        print u, before-after\n",
    "    d = subset['Distance to Hole after the Shot'].values/12.0\n",
    "    x = subset['X Coordinate'].values\n",
    "    y = subset['Y Coordinate'].values\n",
    "    z = subset['Z Coordinate'].values\n",
    "    a = find_the_hole()\n",
    "    subset.insert(len(subset.columns),'dist_w_impute',np.array(((x-a[0])**2 + (y-a[1])**2 + (z-a[2])**2)**.5).tolist())\n",
    "    subset.insert(len(subset.columns),'dist_diff', \\\n",
    "                  np.absolute(subset['dist_w_impute'].values - subset['Distance to Hole after the Shot'].values/12.0))\n",
    "    mean_err = subset['dist_diff'].mean()\n",
    "    if mean_err>.27:\n",
    "        print u, mean_err\n",
    "    max_err = subset['dist_diff'].max()\n",
    "    if max_err>.5:\n",
    "        print u,max_err\n",
    "    \n",
    "#print sum(aveds)/len(aveds)"
   ]
  },
  {
   "cell_type": "code",
   "execution_count": null,
   "metadata": {
    "collapsed": true
   },
   "outputs": [],
   "source": [
    "# now dist with just x and y coordinates\n",
    "def f (a):\n",
    "    x0,y0 = a[0],a[1]\n",
    "    return sum((((x-x0)**2 + (y-y0)**2)**.5-d)**2)/len(x)\n",
    "\n",
    "def find_the_hole ():\n",
    "    xopt = fmin_tnc(f,[x0,y0],approx_grad=1)[0].tolist()\n",
    "    return xopt"
   ]
  },
  {
   "cell_type": "code",
   "execution_count": null,
   "metadata": {
    "collapsed": true
   },
   "outputs": [],
   "source": [
    "#finding the coordinates of the hole\n",
    "aveds=[]\n",
    "for u,i in enumerate(uCRHtps):\n",
    "#     if (u+1)%100==0:\n",
    "#         print u\n",
    "#         print u+1,sum(aveds)/len(aveds)\n",
    "    subset = data[(data['Course Name']==i[0]) & (data['Round']==int(i[1])) & (data['Hole']==int(i[2])) \\\n",
    "                  & (data['Distance to Hole after the Shot']!=0) & (data['X Coordinate']!=0) & (data['Y Coordinate']!=0) \\\n",
    "                  & (data['Z Coordinate']!=0)]\n",
    "    if subset.shape[0] == 0:\n",
    "        continue\n",
    "    d = subset['Distance to Hole after the Shot'].values/12.0\n",
    "    x = subset['X Coordinate'].values\n",
    "    y = subset['Y Coordinate'].values\n",
    "    sorted_subset = subset.sort_values('Distance to Hole after the Shot')\n",
    "    x0 = sorted_subset['X Coordinate'].values[0] ##assume that closest ball recorded to hole does not have an error\n",
    "    y0 = sorted_subset['Y Coordinate'].values[0]\n",
    "    subset.insert(len(subset.columns),'approx_dist',((x-x0)**2 + (y-y0)**2)**.5)\n",
    "    # dist_diff is difference between recorded distance and distance approximated from location of closest recorded shot\n",
    "    subset.insert(len(subset.columns),'dist_diff', \\\n",
    "                  np.absolute(subset['approx_dist'].values - subset['Distance to Hole after the Shot'].values/12.0))\n",
    "    before = subset.shape[0]\n",
    "    # remove very inconsistant shots from record which are likely mistakes\n",
    "    subset = subset[subset['dist_diff']<sorted_subset['Distance to Hole after the Shot'].values[0]]\n",
    "    after = subset.shape[0]\n",
    "    subset.drop('approx_dist',axis=1,inplace=True)\n",
    "    subset.drop('dist_diff',axis=1,inplace=True)\n",
    "    if before-after>0:\n",
    "        print u, before-after\n",
    "    d = subset['Distance to Hole after the Shot'].values/12.0\n",
    "    x = subset['X Coordinate'].values\n",
    "    y = subset['Y Coordinate'].values\n",
    "    z = subset['Z Coordinate'].values\n",
    "    a = find_the_hole()\n",
    "    subset.insert(len(subset.columns),'dist_w_impute',np.array(((x-a[0])**2 + (y-a[1])**2)**.5).tolist())\n",
    "    subset.insert(len(subset.columns),'dist_diff', \\\n",
    "                  np.absolute(subset['dist_w_impute'].values - subset['Distance to Hole after the Shot'].values/12.0))\n",
    "    mean_err = subset['dist_diff'].mean()\n",
    "    if mean_err>.27:\n",
    "        print u, mean_err\n",
    "    max_err = subset['dist_diff'].max()\n",
    "    if max_err>.5:\n",
    "        print u,max_err\n",
    "    \n",
    "#print sum(aveds)/len(aveds)"
   ]
  },
  {
   "cell_type": "code",
   "execution_count": null,
   "metadata": {
    "collapsed": true
   },
   "outputs": [],
   "source": [
    "# based on results of number of points that have implausible coordinates, and average error between the recorded dist.\n",
    "# and this dist. calculated with the imputed coordinates of the hole, it is clear that the recorded distances use \n",
    "# the x,y, and z coordinates.\n",
    "# now recreate dataframe with concatonation of all subsets - without bunk records and with the x,y, and z coordinates\n",
    "# of the hole."
   ]
  }
 ],
 "metadata": {
  "kernelspec": {
   "display_name": "Python 2",
   "language": "python",
   "name": "python2"
  },
  "language_info": {
   "codemirror_mode": {
    "name": "ipython",
    "version": 2
   },
   "file_extension": ".py",
   "mimetype": "text/x-python",
   "name": "python",
   "nbconvert_exporter": "python",
   "pygments_lexer": "ipython2",
   "version": "2.7.11"
  }
 },
 "nbformat": 4,
 "nbformat_minor": 0
}
