{
 "cells": [
  {
   "cell_type": "code",
   "execution_count": 1,
   "metadata": {
    "collapsed": true
   },
   "outputs": [],
   "source": [
    "import pandas as pd\n",
    "import numpy as np\n",
    "from cluster import cluster\n",
    "import matplotlib.pyplot as plt\n",
    "%matplotlib inline"
   ]
  },
  {
   "cell_type": "code",
   "execution_count": 2,
   "metadata": {
    "collapsed": false
   },
   "outputs": [],
   "source": [
    "pd.options.display.max_columns = 100"
   ]
  },
  {
   "cell_type": "code",
   "execution_count": 3,
   "metadata": {
    "collapsed": false
   },
   "outputs": [
    {
     "data": {
      "text/plain": [
       "u'/Users/adamlevin/ds/Rank_a_Golfer'"
      ]
     },
     "execution_count": 3,
     "metadata": {},
     "output_type": "execute_result"
    }
   ],
   "source": [
    "pwd"
   ]
  },
  {
   "cell_type": "code",
   "execution_count": 248,
   "metadata": {
    "collapsed": false
   },
   "outputs": [],
   "source": [
    "data = pd.concat([pd.read_csv('data/%d.csv' % year, usecols=['Course_#','Hole','Cluster','Cluster_Green_X',\n",
    "                                                             'Cluster_Green_Y','Cluster_Tee_X','Cluster_Tee_Y',\n",
    "                                                             'Start_X_Coordinate','Start_Y_Coordinate','Shot',\n",
    "                                                             'last_shot_mask'])\n",
    "                  for year in range(2003,2018)])"
   ]
  },
  {
   "cell_type": "code",
   "execution_count": 249,
   "metadata": {
    "collapsed": true
   },
   "outputs": [],
   "source": [
    "def standardize(df):\n",
    "    def rotate_theta_radians(points,theta):\n",
    "        points = np.array(points).T\n",
    "        r = np.array([[np.cos(theta),-np.sin(theta)],[np.sin(theta),np.cos(theta)]])\n",
    "        return np.dot(r,points).T\n",
    "    \n",
    "    def convert_to_degrees(angle):\n",
    "        angle[angle<0] = angle[angle<0] + 2*np.pi\n",
    "        return angle*180./np.pi\n",
    "    \n",
    "    points = np.column_stack([df.Start_X_Coordinate.values - df.Cluster_Green_X.values[0],\n",
    "                              df.Start_Y_Coordinate.values - df.Cluster_Green_Y.values[0]])\n",
    "    angle_of_tee_box = np.arctan2(df.Cluster_Tee_Y.values[0] - df.Cluster_Green_Y.values[0],\n",
    "                                  df.Cluster_Tee_X.values[0] - df.Cluster_Green_X.values[0])\n",
    "    rotated = rotate_theta_radians(points,3*np.pi/2-angle_of_tee_box)\n",
    "    angles = convert_to_degrees(np.arctan2(rotated[:,1],rotated[:,0]))\n",
    "    distance_from_origin = (rotated**2).sum(1)**.5\n",
    "    return angles, distance_from_origin, rotated"
   ]
  },
  {
   "cell_type": "code",
   "execution_count": null,
   "metadata": {
    "collapsed": true
   },
   "outputs": [],
   "source": [
    "np."
   ]
  },
  {
   "cell_type": "code",
   "execution_count": 250,
   "metadata": {
    "collapsed": false
   },
   "outputs": [],
   "source": [
    "angles = []\n",
    "distances = []\n",
    "for u,((course,hole,cluster),df) in enumerate(data.groupby(['Course_#','Hole','Cluster'])):\n",
    "    if df.shape[0]>1:\n",
    "        angles_, dists_, _ = standardize(df)\n",
    "        angles = np.concatenate([angles,angles_[(df.Shot!=1).values]])\n",
    "        distances = np.concatenate([distances,dists_[~(df.last_shot_mask).values]])"
   ]
  },
  {
   "cell_type": "code",
   "execution_count": 251,
   "metadata": {
    "collapsed": false
   },
   "outputs": [
    {
     "data": {
      "text/plain": [
       "11479683"
      ]
     },
     "execution_count": 251,
     "metadata": {},
     "output_type": "execute_result"
    }
   ],
   "source": [
    "len(angles)"
   ]
  },
  {
   "cell_type": "code",
   "execution_count": 252,
   "metadata": {
    "collapsed": false
   },
   "outputs": [
    {
     "data": {
      "image/png": "[encoded data removed]",
      "text/plain": [
       "<matplotlib.figure.Figure at 0x122dad950>"
      ]
     },
     "metadata": {},
     "output_type": "display_data"
    }
   ],
   "source": [
    "plt.hist(angles);"
   ]
  },
  {
   "cell_type": "code",
   "execution_count": 253,
   "metadata": {
    "collapsed": false
   },
   "outputs": [
    {
     "data": {
      "image/png": "[encoded data removed]",
      "text/plain": [
       "<matplotlib.figure.Figure at 0x12172b450>"
      ]
     },
     "metadata": {},
     "output_type": "display_data"
    }
   ],
   "source": [
    "plt.hist(distances);"
   ]
  },
  {
   "cell_type": "code",
   "execution_count": 254,
   "metadata": {
    "collapsed": false
   },
   "outputs": [],
   "source": [
    "out, bins = pd.qcut(angles,np.linspace(0,1,20),retbins=True)"
   ]
  },
  {
   "cell_type": "code",
   "execution_count": 255,
   "metadata": {
    "collapsed": false
   },
   "outputs": [],
   "source": [
    "bins[0], bins[-1] = 0, 360"
   ]
  },
  {
   "cell_type": "code",
   "execution_count": 256,
   "metadata": {
    "collapsed": false
   },
   "outputs": [
    {
     "data": {
      "text/plain": [
       "array([   0.        ,   30.51178516,   61.67090908,   94.04625862,\n",
       "        121.43171077,  149.18913484,  178.92034735,  206.49623801,\n",
       "        230.27777578,  245.70639433,  255.40606863,  262.38586754,\n",
       "        268.21019596,  273.7904887 ,  279.73740368,  286.76391868,\n",
       "        296.08925169,  310.25414107,  331.99685933,  360.        ])"
      ]
     },
     "execution_count": 256,
     "metadata": {},
     "output_type": "execute_result"
    }
   ],
   "source": [
    "bins"
   ]
  },
  {
   "cell_type": "code",
   "execution_count": 257,
   "metadata": {
    "collapsed": false
   },
   "outputs": [
    {
     "data": {
      "image/png": "[encoded data removed]",
      "text/plain": [
       "<matplotlib.figure.Figure at 0x123c07890>"
      ]
     },
     "metadata": {},
     "output_type": "display_data"
    }
   ],
   "source": [
    "plt.scatter(np.arange(len(bins)),bins);"
   ]
  },
  {
   "cell_type": "code",
   "execution_count": 258,
   "metadata": {
    "collapsed": true
   },
   "outputs": [],
   "source": [
    "out, bins = pd.qcut(distances,np.linspace(0,1,10),retbins=True)"
   ]
  },
  {
   "cell_type": "code",
   "execution_count": 261,
   "metadata": {
    "collapsed": true
   },
   "outputs": [],
   "source": [
    "bins[0], bins[-1] = 0, 1e10"
   ]
  },
  {
   "cell_type": "code",
   "execution_count": 262,
   "metadata": {
    "collapsed": false
   },
   "outputs": [
    {
     "data": {
      "text/plain": [
       "array([  0.00000000e+00,   2.86803800e+01,   5.04239539e+01,\n",
       "         1.86821980e+02,   4.36973779e+02,   5.62549775e+02,\n",
       "         8.56281230e+02,   1.24960457e+03,   1.44277181e+03,\n",
       "         1.00000000e+10])"
      ]
     },
     "execution_count": 262,
     "metadata": {},
     "output_type": "execute_result"
    }
   ],
   "source": [
    "bins"
   ]
  },
  {
   "cell_type": "code",
   "execution_count": 259,
   "metadata": {
    "collapsed": false
   },
   "outputs": [
    {
     "data": {
      "image/png": "[encoded data removed]",
      "text/plain": [
       "<matplotlib.figure.Figure at 0x122e35390>"
      ]
     },
     "metadata": {},
     "output_type": "display_data"
    }
   ],
   "source": [
    "plt.scatter(np.arange(len(bins)),bins);"
   ]
  },
  {
   "cell_type": "code",
   "execution_count": 11,
   "metadata": {
    "collapsed": true
   },
   "outputs": [],
   "source": [
    "data = pd.read_csv('2004.csv')"
   ]
  },
  {
   "cell_type": "code",
   "execution_count": 12,
   "metadata": {
    "collapsed": false
   },
   "outputs": [
    {
     "data": {
      "text/html": [
       "<div>\n",
       "<style>\n",
       "    .dataframe thead tr:only-child th {\n",
       "        text-align: right;\n",
       "    }\n",
       "\n",
       "    .dataframe thead th {\n",
       "        text-align: left;\n",
       "    }\n",
       "\n",
       "    .dataframe tbody tr th {\n",
       "        vertical-align: top;\n",
       "    }\n",
       "</style>\n",
       "<table border=\"1\" class=\"dataframe\">\n",
       "  <thead>\n",
       "    <tr style=\"text-align: right;\">\n",
       "      <th></th>\n",
       "      <th>Tour_Code</th>\n",
       "      <th>Tour_Description</th>\n",
       "      <th>Year</th>\n",
       "      <th>Tourn.#</th>\n",
       "      <th>Player_#</th>\n",
       "      <th>Course_#</th>\n",
       "      <th>Permanent_Tournament_#</th>\n",
       "      <th>Player_First_Name</th>\n",
       "      <th>Player_Last_Name</th>\n",
       "      <th>Round</th>\n",
       "      <th>Tournament_Name</th>\n",
       "      <th>Course_Name</th>\n",
       "      <th>Hole</th>\n",
       "      <th>Hole_Score</th>\n",
       "      <th>Par_Value</th>\n",
       "      <th>Yardage</th>\n",
       "      <th>Shot</th>\n",
       "      <th>Shot_Type(S/P/D)</th>\n",
       "      <th>#_of_Strokes</th>\n",
       "      <th>From_Location(Scorer)</th>\n",
       "      <th>From_Location(Enhanced)</th>\n",
       "      <th>To_Location(Scorer)</th>\n",
       "      <th>To_Location(Enhanced)</th>\n",
       "      <th>Distance</th>\n",
       "      <th>Distance_to_Pin</th>\n",
       "      <th>In_the_Hole_Flag</th>\n",
       "      <th>Around_the_Green_Flag</th>\n",
       "      <th>1st_Putt_Flag</th>\n",
       "      <th>Distance_to_Hole_after_the_Shot</th>\n",
       "      <th>Time</th>\n",
       "      <th>Lie</th>\n",
       "      <th>Elevation</th>\n",
       "      <th>Slope</th>\n",
       "      <th>End_X_Coordinate</th>\n",
       "      <th>End_Y_Coordinate</th>\n",
       "      <th>End_Z_Coordinate</th>\n",
       "      <th>Distance_from_Center</th>\n",
       "      <th>Distance_from_Edge</th>\n",
       "      <th>Date</th>\n",
       "      <th>Left/Right</th>\n",
       "      <th>Strokes_Gained/Baseline</th>\n",
       "      <th>Strokes_Gained_Category</th>\n",
       "      <th>Recovery_Shot</th>\n",
       "      <th>Penalty_Shots</th>\n",
       "      <th>start_loc_equal_to_prev_start_loc</th>\n",
       "      <th>Start_X_Coordinate</th>\n",
       "      <th>Start_Y_Coordinate</th>\n",
       "      <th>Start_Z_Coordinate</th>\n",
       "      <th>Real_Shots</th>\n",
       "      <th>last_shot_mask</th>\n",
       "      <th>Stroke</th>\n",
       "      <th>Strokes_from_starting_location</th>\n",
       "      <th>from_the_tee_box_mask</th>\n",
       "      <th>Distance_from_hole</th>\n",
       "      <th>Cat</th>\n",
       "      <th>Green_to_work_with</th>\n",
       "      <th>Cluster</th>\n",
       "      <th>Cluster_Green_X</th>\n",
       "      <th>Cluster_Green_Y</th>\n",
       "      <th>Cluster_Tee_X</th>\n",
       "      <th>Cluster_Tee_Y</th>\n",
       "      <th>loc_string</th>\n",
       "    </tr>\n",
       "  </thead>\n",
       "  <tbody>\n",
       "    <tr>\n",
       "      <th>0</th>\n",
       "      <td>R</td>\n",
       "      <td>PGA TOUR</td>\n",
       "      <td>2004</td>\n",
       "      <td>80</td>\n",
       "      <td>1014</td>\n",
       "      <td>101</td>\n",
       "      <td>1</td>\n",
       "      <td>Fulton</td>\n",
       "      <td>Allem</td>\n",
       "      <td>1</td>\n",
       "      <td>Chrysler Classic of Tucson</td>\n",
       "      <td>Tucson National GC</td>\n",
       "      <td>1</td>\n",
       "      <td>4</td>\n",
       "      <td>4</td>\n",
       "      <td>410</td>\n",
       "      <td>1</td>\n",
       "      <td>S</td>\n",
       "      <td>1</td>\n",
       "      <td>Tee Box</td>\n",
       "      <td>NaN</td>\n",
       "      <td>Fairway</td>\n",
       "      <td>Left Fairway</td>\n",
       "      <td>9544</td>\n",
       "      <td>14520</td>\n",
       "      <td>N</td>\n",
       "      <td>N</td>\n",
       "      <td>NaN</td>\n",
       "      <td>5026</td>\n",
       "      <td>1213</td>\n",
       "      <td>Good</td>\n",
       "      <td>With</td>\n",
       "      <td>Level</td>\n",
       "      <td>7552.402000</td>\n",
       "      <td>6650.535000</td>\n",
       "      <td>2454.995</td>\n",
       "      <td>0</td>\n",
       "      <td>0</td>\n",
       "      <td>00/00/0000</td>\n",
       "      <td>L</td>\n",
       "      <td>0.090</td>\n",
       "      <td>Off the Tee</td>\n",
       "      <td>No</td>\n",
       "      <td>0</td>\n",
       "      <td>False</td>\n",
       "      <td>6826.735504</td>\n",
       "      <td>6976.064593</td>\n",
       "      <td>NaN</td>\n",
       "      <td>1</td>\n",
       "      <td>False</td>\n",
       "      <td>1</td>\n",
       "      <td>4</td>\n",
       "      <td>True</td>\n",
       "      <td>1185.035474</td>\n",
       "      <td>Tee Box</td>\n",
       "      <td>9.590391</td>\n",
       "      <td>0</td>\n",
       "      <td>7822.468530</td>\n",
       "      <td>6332.938344</td>\n",
       "      <td>6821.683944</td>\n",
       "      <td>6947.336769</td>\n",
       "      <td>101-1-13-7</td>\n",
       "    </tr>\n",
       "    <tr>\n",
       "      <th>1</th>\n",
       "      <td>R</td>\n",
       "      <td>PGA TOUR</td>\n",
       "      <td>2004</td>\n",
       "      <td>80</td>\n",
       "      <td>1014</td>\n",
       "      <td>101</td>\n",
       "      <td>1</td>\n",
       "      <td>Fulton</td>\n",
       "      <td>Allem</td>\n",
       "      <td>1</td>\n",
       "      <td>Chrysler Classic of Tucson</td>\n",
       "      <td>Tucson National GC</td>\n",
       "      <td>1</td>\n",
       "      <td>4</td>\n",
       "      <td>4</td>\n",
       "      <td>410</td>\n",
       "      <td>2</td>\n",
       "      <td>S</td>\n",
       "      <td>1</td>\n",
       "      <td>Fairway</td>\n",
       "      <td>Left Fairway</td>\n",
       "      <td>Green</td>\n",
       "      <td>Green</td>\n",
       "      <td>4803</td>\n",
       "      <td>5026</td>\n",
       "      <td>N</td>\n",
       "      <td>N</td>\n",
       "      <td>NaN</td>\n",
       "      <td>329</td>\n",
       "      <td>1217</td>\n",
       "      <td>Good</td>\n",
       "      <td>With</td>\n",
       "      <td>Level</td>\n",
       "      <td>7821.252000</td>\n",
       "      <td>6354.046000</td>\n",
       "      <td>2458.235</td>\n",
       "      <td>0</td>\n",
       "      <td>0</td>\n",
       "      <td>00/00/0000</td>\n",
       "      <td>L</td>\n",
       "      <td>-0.042</td>\n",
       "      <td>Approach to the Green</td>\n",
       "      <td>No</td>\n",
       "      <td>0</td>\n",
       "      <td>False</td>\n",
       "      <td>7552.402000</td>\n",
       "      <td>6650.535000</td>\n",
       "      <td>2454.995</td>\n",
       "      <td>2</td>\n",
       "      <td>False</td>\n",
       "      <td>2</td>\n",
       "      <td>3</td>\n",
       "      <td>False</td>\n",
       "      <td>418.801338</td>\n",
       "      <td>Fairway</td>\n",
       "      <td>12.207140</td>\n",
       "      <td>0</td>\n",
       "      <td>7822.468530</td>\n",
       "      <td>6332.938344</td>\n",
       "      <td>6821.683944</td>\n",
       "      <td>6947.336769</td>\n",
       "      <td>101-1-10-4</td>\n",
       "    </tr>\n",
       "    <tr>\n",
       "      <th>2</th>\n",
       "      <td>R</td>\n",
       "      <td>PGA TOUR</td>\n",
       "      <td>2004</td>\n",
       "      <td>80</td>\n",
       "      <td>1014</td>\n",
       "      <td>101</td>\n",
       "      <td>1</td>\n",
       "      <td>Fulton</td>\n",
       "      <td>Allem</td>\n",
       "      <td>1</td>\n",
       "      <td>Chrysler Classic of Tucson</td>\n",
       "      <td>Tucson National GC</td>\n",
       "      <td>1</td>\n",
       "      <td>4</td>\n",
       "      <td>4</td>\n",
       "      <td>410</td>\n",
       "      <td>3</td>\n",
       "      <td>S</td>\n",
       "      <td>1</td>\n",
       "      <td>Green</td>\n",
       "      <td>Green</td>\n",
       "      <td>Green</td>\n",
       "      <td>Green</td>\n",
       "      <td>352</td>\n",
       "      <td>329</td>\n",
       "      <td>N</td>\n",
       "      <td>N</td>\n",
       "      <td>Y</td>\n",
       "      <td>39</td>\n",
       "      <td>1221</td>\n",
       "      <td>Good</td>\n",
       "      <td>With</td>\n",
       "      <td>Level</td>\n",
       "      <td>7815.128000</td>\n",
       "      <td>6325.341000</td>\n",
       "      <td>2458.306</td>\n",
       "      <td>0</td>\n",
       "      <td>0</td>\n",
       "      <td>00/00/0000</td>\n",
       "      <td>R</td>\n",
       "      <td>-0.112</td>\n",
       "      <td>Putting</td>\n",
       "      <td>No</td>\n",
       "      <td>0</td>\n",
       "      <td>False</td>\n",
       "      <td>7821.252000</td>\n",
       "      <td>6354.046000</td>\n",
       "      <td>2458.235</td>\n",
       "      <td>3</td>\n",
       "      <td>False</td>\n",
       "      <td>3</td>\n",
       "      <td>2</td>\n",
       "      <td>False</td>\n",
       "      <td>27.448675</td>\n",
       "      <td>Green</td>\n",
       "      <td>NaN</td>\n",
       "      <td>0</td>\n",
       "      <td>7822.468530</td>\n",
       "      <td>6332.938344</td>\n",
       "      <td>6821.683944</td>\n",
       "      <td>6947.336769</td>\n",
       "      <td>101-1-8-1</td>\n",
       "    </tr>\n",
       "    <tr>\n",
       "      <th>3</th>\n",
       "      <td>R</td>\n",
       "      <td>PGA TOUR</td>\n",
       "      <td>2004</td>\n",
       "      <td>80</td>\n",
       "      <td>1014</td>\n",
       "      <td>101</td>\n",
       "      <td>1</td>\n",
       "      <td>Fulton</td>\n",
       "      <td>Allem</td>\n",
       "      <td>1</td>\n",
       "      <td>Chrysler Classic of Tucson</td>\n",
       "      <td>Tucson National GC</td>\n",
       "      <td>1</td>\n",
       "      <td>4</td>\n",
       "      <td>4</td>\n",
       "      <td>410</td>\n",
       "      <td>4</td>\n",
       "      <td>S</td>\n",
       "      <td>1</td>\n",
       "      <td>Green</td>\n",
       "      <td>Green</td>\n",
       "      <td>NaN</td>\n",
       "      <td>NaN</td>\n",
       "      <td>39</td>\n",
       "      <td>39</td>\n",
       "      <td>Y</td>\n",
       "      <td>N</td>\n",
       "      <td>NaN</td>\n",
       "      <td>0</td>\n",
       "      <td>1224</td>\n",
       "      <td>Good</td>\n",
       "      <td>With</td>\n",
       "      <td>Level</td>\n",
       "      <td>7818.068879</td>\n",
       "      <td>6326.782517</td>\n",
       "      <td>2458.325</td>\n",
       "      <td>0</td>\n",
       "      <td>0</td>\n",
       "      <td>00/00/0000</td>\n",
       "      <td>NaN</td>\n",
       "      <td>0.067</td>\n",
       "      <td>Putting</td>\n",
       "      <td>No</td>\n",
       "      <td>0</td>\n",
       "      <td>False</td>\n",
       "      <td>7815.128000</td>\n",
       "      <td>6325.341000</td>\n",
       "      <td>2458.306</td>\n",
       "      <td>4</td>\n",
       "      <td>True</td>\n",
       "      <td>4</td>\n",
       "      <td>1</td>\n",
       "      <td>False</td>\n",
       "      <td>3.275170</td>\n",
       "      <td>Green</td>\n",
       "      <td>NaN</td>\n",
       "      <td>0</td>\n",
       "      <td>7822.468530</td>\n",
       "      <td>6332.938344</td>\n",
       "      <td>6821.683944</td>\n",
       "      <td>6947.336769</td>\n",
       "      <td>101-1-17-1</td>\n",
       "    </tr>\n",
       "    <tr>\n",
       "      <th>4</th>\n",
       "      <td>R</td>\n",
       "      <td>PGA TOUR</td>\n",
       "      <td>2004</td>\n",
       "      <td>80</td>\n",
       "      <td>1014</td>\n",
       "      <td>101</td>\n",
       "      <td>1</td>\n",
       "      <td>Fulton</td>\n",
       "      <td>Allem</td>\n",
       "      <td>1</td>\n",
       "      <td>Chrysler Classic of Tucson</td>\n",
       "      <td>Tucson National GC</td>\n",
       "      <td>2</td>\n",
       "      <td>5</td>\n",
       "      <td>5</td>\n",
       "      <td>495</td>\n",
       "      <td>1</td>\n",
       "      <td>S</td>\n",
       "      <td>1</td>\n",
       "      <td>Tee Box</td>\n",
       "      <td>NaN</td>\n",
       "      <td>Fairway</td>\n",
       "      <td>Right Fairway</td>\n",
       "      <td>9915</td>\n",
       "      <td>18840</td>\n",
       "      <td>N</td>\n",
       "      <td>N</td>\n",
       "      <td>NaN</td>\n",
       "      <td>8953</td>\n",
       "      <td>1233</td>\n",
       "      <td>Good</td>\n",
       "      <td>With</td>\n",
       "      <td>Level</td>\n",
       "      <td>8564.593000</td>\n",
       "      <td>6787.639000</td>\n",
       "      <td>2460.431</td>\n",
       "      <td>0</td>\n",
       "      <td>0</td>\n",
       "      <td>00/00/0000</td>\n",
       "      <td>R</td>\n",
       "      <td>0.070</td>\n",
       "      <td>Off the Tee</td>\n",
       "      <td>No</td>\n",
       "      <td>0</td>\n",
       "      <td>False</td>\n",
       "      <td>8410.647540</td>\n",
       "      <td>5975.862496</td>\n",
       "      <td>NaN</td>\n",
       "      <td>1</td>\n",
       "      <td>False</td>\n",
       "      <td>1</td>\n",
       "      <td>5</td>\n",
       "      <td>True</td>\n",
       "      <td>1569.469757</td>\n",
       "      <td>Tee Box</td>\n",
       "      <td>17.885280</td>\n",
       "      <td>0</td>\n",
       "      <td>8623.264762</td>\n",
       "      <td>7552.386171</td>\n",
       "      <td>8411.036754</td>\n",
       "      <td>5979.345494</td>\n",
       "      <td>101-1-13-9</td>\n",
       "    </tr>\n",
       "  </tbody>\n",
       "</table>\n",
       "</div>"
      ],
      "text/plain": [
       "  Tour_Code Tour_Description  Year  Tourn.#  Player_#  Course_#  \\\n",
       "0         R         PGA TOUR  2004       80      1014       101   \n",
       "1         R         PGA TOUR  2004       80      1014       101   \n",
       "2         R         PGA TOUR  2004       80      1014       101   \n",
       "3         R         PGA TOUR  2004       80      1014       101   \n",
       "4         R         PGA TOUR  2004       80      1014       101   \n",
       "\n",
       "   Permanent_Tournament_# Player_First_Name Player_Last_Name  Round  \\\n",
       "0                       1            Fulton            Allem      1   \n",
       "1                       1            Fulton            Allem      1   \n",
       "2                       1            Fulton            Allem      1   \n",
       "3                       1            Fulton            Allem      1   \n",
       "4                       1            Fulton            Allem      1   \n",
       "\n",
       "              Tournament_Name         Course_Name  Hole  Hole_Score  \\\n",
       "0  Chrysler Classic of Tucson  Tucson National GC     1           4   \n",
       "1  Chrysler Classic of Tucson  Tucson National GC     1           4   \n",
       "2  Chrysler Classic of Tucson  Tucson National GC     1           4   \n",
       "3  Chrysler Classic of Tucson  Tucson National GC     1           4   \n",
       "4  Chrysler Classic of Tucson  Tucson National GC     2           5   \n",
       "\n",
       "   Par_Value  Yardage  Shot Shot_Type(S/P/D)  #_of_Strokes  \\\n",
       "0          4      410     1                S             1   \n",
       "1          4      410     2                S             1   \n",
       "2          4      410     3                S             1   \n",
       "3          4      410     4                S             1   \n",
       "4          5      495     1                S             1   \n",
       "\n",
       "  From_Location(Scorer) From_Location(Enhanced) To_Location(Scorer)  \\\n",
       "0               Tee Box                     NaN             Fairway   \n",
       "1               Fairway            Left Fairway               Green   \n",
       "2                 Green                   Green               Green   \n",
       "3                 Green                   Green                 NaN   \n",
       "4               Tee Box                     NaN             Fairway   \n",
       "\n",
       "  To_Location(Enhanced)  Distance  Distance_to_Pin In_the_Hole_Flag  \\\n",
       "0          Left Fairway      9544            14520                N   \n",
       "1                 Green      4803             5026                N   \n",
       "2                 Green       352              329                N   \n",
       "3                   NaN        39               39                Y   \n",
       "4         Right Fairway      9915            18840                N   \n",
       "\n",
       "  Around_the_Green_Flag 1st_Putt_Flag  Distance_to_Hole_after_the_Shot  Time  \\\n",
       "0                     N           NaN                             5026  1213   \n",
       "1                     N           NaN                              329  1217   \n",
       "2                     N             Y                               39  1221   \n",
       "3                     N           NaN                                0  1224   \n",
       "4                     N           NaN                             8953  1233   \n",
       "\n",
       "    Lie Elevation  Slope  End_X_Coordinate  End_Y_Coordinate  \\\n",
       "0  Good      With  Level       7552.402000       6650.535000   \n",
       "1  Good      With  Level       7821.252000       6354.046000   \n",
       "2  Good      With  Level       7815.128000       6325.341000   \n",
       "3  Good      With  Level       7818.068879       6326.782517   \n",
       "4  Good      With  Level       8564.593000       6787.639000   \n",
       "\n",
       "   End_Z_Coordinate  Distance_from_Center  Distance_from_Edge        Date  \\\n",
       "0          2454.995                     0                   0  00/00/0000   \n",
       "1          2458.235                     0                   0  00/00/0000   \n",
       "2          2458.306                     0                   0  00/00/0000   \n",
       "3          2458.325                     0                   0  00/00/0000   \n",
       "4          2460.431                     0                   0  00/00/0000   \n",
       "\n",
       "  Left/Right  Strokes_Gained/Baseline Strokes_Gained_Category Recovery_Shot  \\\n",
       "0          L                    0.090             Off the Tee            No   \n",
       "1          L                   -0.042   Approach to the Green            No   \n",
       "2          R                   -0.112                 Putting            No   \n",
       "3        NaN                    0.067                 Putting            No   \n",
       "4          R                    0.070             Off the Tee            No   \n",
       "\n",
       "   Penalty_Shots  start_loc_equal_to_prev_start_loc  Start_X_Coordinate  \\\n",
       "0              0                              False         6826.735504   \n",
       "1              0                              False         7552.402000   \n",
       "2              0                              False         7821.252000   \n",
       "3              0                              False         7815.128000   \n",
       "4              0                              False         8410.647540   \n",
       "\n",
       "   Start_Y_Coordinate  Start_Z_Coordinate  Real_Shots  last_shot_mask  Stroke  \\\n",
       "0         6976.064593                 NaN           1           False       1   \n",
       "1         6650.535000            2454.995           2           False       2   \n",
       "2         6354.046000            2458.235           3           False       3   \n",
       "3         6325.341000            2458.306           4            True       4   \n",
       "4         5975.862496                 NaN           1           False       1   \n",
       "\n",
       "   Strokes_from_starting_location  from_the_tee_box_mask  Distance_from_hole  \\\n",
       "0                               4                   True         1185.035474   \n",
       "1                               3                  False          418.801338   \n",
       "2                               2                  False           27.448675   \n",
       "3                               1                  False            3.275170   \n",
       "4                               5                   True         1569.469757   \n",
       "\n",
       "       Cat  Green_to_work_with  Cluster  Cluster_Green_X  Cluster_Green_Y  \\\n",
       "0  Tee Box            9.590391        0      7822.468530      6332.938344   \n",
       "1  Fairway           12.207140        0      7822.468530      6332.938344   \n",
       "2    Green                 NaN        0      7822.468530      6332.938344   \n",
       "3    Green                 NaN        0      7822.468530      6332.938344   \n",
       "4  Tee Box           17.885280        0      8623.264762      7552.386171   \n",
       "\n",
       "   Cluster_Tee_X  Cluster_Tee_Y  loc_string  \n",
       "0    6821.683944    6947.336769  101-1-13-7  \n",
       "1    6821.683944    6947.336769  101-1-10-4  \n",
       "2    6821.683944    6947.336769   101-1-8-1  \n",
       "3    6821.683944    6947.336769  101-1-17-1  \n",
       "4    8411.036754    5979.345494  101-1-13-9  "
      ]
     },
     "execution_count": 12,
     "metadata": {},
     "output_type": "execute_result"
    }
   ],
   "source": [
    "data.head()"
   ]
  },
  {
   "cell_type": "code",
   "execution_count": 13,
   "metadata": {
    "collapsed": false
   },
   "outputs": [
    {
     "data": {
      "text/html": [
       "<div>\n",
       "<style>\n",
       "    .dataframe thead tr:only-child th {\n",
       "        text-align: right;\n",
       "    }\n",
       "\n",
       "    .dataframe thead th {\n",
       "        text-align: left;\n",
       "    }\n",
       "\n",
       "    .dataframe tbody tr th {\n",
       "        vertical-align: top;\n",
       "    }\n",
       "</style>\n",
       "<table border=\"1\" class=\"dataframe\">\n",
       "  <thead>\n",
       "    <tr style=\"text-align: right;\">\n",
       "      <th></th>\n",
       "      <th>Tour_Code</th>\n",
       "      <th>Tour_Description</th>\n",
       "      <th>Year</th>\n",
       "      <th>Tourn.#</th>\n",
       "      <th>Player_#</th>\n",
       "      <th>Course_#</th>\n",
       "      <th>Permanent_Tournament_#</th>\n",
       "      <th>Player_First_Name</th>\n",
       "      <th>Player_Last_Name</th>\n",
       "      <th>Round</th>\n",
       "      <th>Tournament_Name</th>\n",
       "      <th>Course_Name</th>\n",
       "      <th>Hole</th>\n",
       "      <th>Hole_Score</th>\n",
       "      <th>Par_Value</th>\n",
       "      <th>Yardage</th>\n",
       "      <th>Shot</th>\n",
       "      <th>Shot_Type(S/P/D)</th>\n",
       "      <th>#_of_Strokes</th>\n",
       "      <th>From_Location(Scorer)</th>\n",
       "      <th>From_Location(Enhanced)</th>\n",
       "      <th>To_Location(Scorer)</th>\n",
       "      <th>To_Location(Enhanced)</th>\n",
       "      <th>Distance</th>\n",
       "      <th>Distance_to_Pin</th>\n",
       "      <th>In_the_Hole_Flag</th>\n",
       "      <th>Around_the_Green_Flag</th>\n",
       "      <th>1st_Putt_Flag</th>\n",
       "      <th>Distance_to_Hole_after_the_Shot</th>\n",
       "      <th>Time</th>\n",
       "      <th>Lie</th>\n",
       "      <th>Elevation</th>\n",
       "      <th>Slope</th>\n",
       "      <th>End_X_Coordinate</th>\n",
       "      <th>End_Y_Coordinate</th>\n",
       "      <th>End_Z_Coordinate</th>\n",
       "      <th>Distance_from_Center</th>\n",
       "      <th>Distance_from_Edge</th>\n",
       "      <th>Date</th>\n",
       "      <th>Left/Right</th>\n",
       "      <th>Strokes_Gained/Baseline</th>\n",
       "      <th>Strokes_Gained_Category</th>\n",
       "      <th>Recovery_Shot</th>\n",
       "      <th>Penalty_Shots</th>\n",
       "      <th>start_loc_equal_to_prev_start_loc</th>\n",
       "      <th>Start_X_Coordinate</th>\n",
       "      <th>Start_Y_Coordinate</th>\n",
       "      <th>Start_Z_Coordinate</th>\n",
       "      <th>Real_Shots</th>\n",
       "      <th>last_shot_mask</th>\n",
       "      <th>Stroke</th>\n",
       "      <th>Strokes_from_starting_location</th>\n",
       "      <th>from_the_tee_box_mask</th>\n",
       "      <th>Distance_from_hole</th>\n",
       "      <th>Cat</th>\n",
       "      <th>Green_to_work_with</th>\n",
       "      <th>Cluster</th>\n",
       "      <th>Cluster_Green_X</th>\n",
       "      <th>Cluster_Green_Y</th>\n",
       "      <th>Cluster_Tee_X</th>\n",
       "      <th>Cluster_Tee_Y</th>\n",
       "      <th>loc_string</th>\n",
       "    </tr>\n",
       "  </thead>\n",
       "  <tbody>\n",
       "    <tr>\n",
       "      <th>897029</th>\n",
       "      <td>R</td>\n",
       "      <td>PGA TOUR</td>\n",
       "      <td>2004</td>\n",
       "      <td>470</td>\n",
       "      <td>23135</td>\n",
       "      <td>145</td>\n",
       "      <td>45</td>\n",
       "      <td>Tim</td>\n",
       "      <td>Clark</td>\n",
       "      <td>1</td>\n",
       "      <td>FUNAI Classic at the WALT DISNEY WORLD Resort</td>\n",
       "      <td>Palm GC</td>\n",
       "      <td>3</td>\n",
       "      <td>1</td>\n",
       "      <td>3</td>\n",
       "      <td>165</td>\n",
       "      <td>1</td>\n",
       "      <td>S</td>\n",
       "      <td>1</td>\n",
       "      <td>Tee Box</td>\n",
       "      <td>NaN</td>\n",
       "      <td>NaN</td>\n",
       "      <td>NaN</td>\n",
       "      <td>0</td>\n",
       "      <td>0</td>\n",
       "      <td>Y</td>\n",
       "      <td>N</td>\n",
       "      <td>NaN</td>\n",
       "      <td>0</td>\n",
       "      <td>803</td>\n",
       "      <td>Good</td>\n",
       "      <td>With</td>\n",
       "      <td>Level</td>\n",
       "      <td>6678.769585</td>\n",
       "      <td>10118.304428</td>\n",
       "      <td>106.947</td>\n",
       "      <td>0</td>\n",
       "      <td>0</td>\n",
       "      <td>00/00/0000</td>\n",
       "      <td>NaN</td>\n",
       "      <td>0.0</td>\n",
       "      <td>NaN</td>\n",
       "      <td>No</td>\n",
       "      <td>0</td>\n",
       "      <td>False</td>\n",
       "      <td>6657.486317</td>\n",
       "      <td>9615.651476</td>\n",
       "      <td>NaN</td>\n",
       "      <td>1</td>\n",
       "      <td>True</td>\n",
       "      <td>1</td>\n",
       "      <td>1</td>\n",
       "      <td>True</td>\n",
       "      <td>503.103337</td>\n",
       "      <td>Tee Box</td>\n",
       "      <td>36.928352</td>\n",
       "      <td>0</td>\n",
       "      <td>0.0</td>\n",
       "      <td>0.0</td>\n",
       "      <td>6657.486317</td>\n",
       "      <td>9615.651476</td>\n",
       "      <td>145-1-13-9</td>\n",
       "    </tr>\n",
       "  </tbody>\n",
       "</table>\n",
       "</div>"
      ],
      "text/plain": [
       "       Tour_Code Tour_Description  Year  Tourn.#  Player_#  Course_#  \\\n",
       "897029         R         PGA TOUR  2004      470     23135       145   \n",
       "\n",
       "        Permanent_Tournament_# Player_First_Name Player_Last_Name  Round  \\\n",
       "897029                      45               Tim            Clark      1   \n",
       "\n",
       "                                      Tournament_Name Course_Name  Hole  \\\n",
       "897029  FUNAI Classic at the WALT DISNEY WORLD Resort     Palm GC     3   \n",
       "\n",
       "        Hole_Score  Par_Value  Yardage  Shot Shot_Type(S/P/D)  #_of_Strokes  \\\n",
       "897029           1          3      165     1                S             1   \n",
       "\n",
       "       From_Location(Scorer) From_Location(Enhanced) To_Location(Scorer)  \\\n",
       "897029               Tee Box                     NaN                 NaN   \n",
       "\n",
       "       To_Location(Enhanced)  Distance  Distance_to_Pin In_the_Hole_Flag  \\\n",
       "897029                   NaN         0                0                Y   \n",
       "\n",
       "       Around_the_Green_Flag 1st_Putt_Flag  Distance_to_Hole_after_the_Shot  \\\n",
       "897029                     N           NaN                                0   \n",
       "\n",
       "        Time   Lie Elevation  Slope  End_X_Coordinate  End_Y_Coordinate  \\\n",
       "897029   803  Good      With  Level       6678.769585      10118.304428   \n",
       "\n",
       "        End_Z_Coordinate  Distance_from_Center  Distance_from_Edge  \\\n",
       "897029           106.947                     0                   0   \n",
       "\n",
       "              Date Left/Right  Strokes_Gained/Baseline  \\\n",
       "897029  00/00/0000        NaN                      0.0   \n",
       "\n",
       "       Strokes_Gained_Category Recovery_Shot  Penalty_Shots  \\\n",
       "897029                     NaN            No              0   \n",
       "\n",
       "        start_loc_equal_to_prev_start_loc  Start_X_Coordinate  \\\n",
       "897029                              False         6657.486317   \n",
       "\n",
       "        Start_Y_Coordinate  Start_Z_Coordinate  Real_Shots  last_shot_mask  \\\n",
       "897029         9615.651476                 NaN           1            True   \n",
       "\n",
       "        Stroke  Strokes_from_starting_location  from_the_tee_box_mask  \\\n",
       "897029       1                               1                   True   \n",
       "\n",
       "        Distance_from_hole      Cat  Green_to_work_with  Cluster  \\\n",
       "897029          503.103337  Tee Box           36.928352        0   \n",
       "\n",
       "        Cluster_Green_X  Cluster_Green_Y  Cluster_Tee_X  Cluster_Tee_Y  \\\n",
       "897029              0.0              0.0    6657.486317    9615.651476   \n",
       "\n",
       "        loc_string  \n",
       "897029  145-1-13-9  "
      ]
     },
     "execution_count": 13,
     "metadata": {},
     "output_type": "execute_result"
    }
   ],
   "source": [
    "data.loc[data.Cluster_Green_X==0]"
   ]
  },
  {
   "cell_type": "code",
   "execution_count": 14,
   "metadata": {
    "collapsed": false
   },
   "outputs": [
    {
     "data": {
      "text/plain": [
       "0"
      ]
     },
     "execution_count": 14,
     "metadata": {},
     "output_type": "execute_result"
    }
   ],
   "source": [
    "data.loc_string.isnull().sum()"
   ]
  },
  {
   "cell_type": "code",
   "execution_count": null,
   "metadata": {
    "collapsed": true
   },
   "outputs": [],
   "source": []
  }
 ],
 "metadata": {
  "kernelspec": {
   "display_name": "Python 2",
   "language": "python",
   "name": "python2"
  },
  "language_info": {
   "codemirror_mode": {
    "name": "ipython",
    "version": 2
   },
   "file_extension": ".py",
   "mimetype": "text/x-python",
   "name": "python",
   "nbconvert_exporter": "python",
   "pygments_lexer": "ipython2",
   "version": "2.7.13"
  }
 },
 "nbformat": 4,
 "nbformat_minor": 2
}
