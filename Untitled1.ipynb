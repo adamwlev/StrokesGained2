{
 "cells": [
  {
   "cell_type": "code",
   "execution_count": 1,
   "metadata": {
    "collapsed": true
   },
   "outputs": [],
   "source": [
    "import pandas as pd\n",
    "import numpy as np\n",
    "from cluster import cluster\n",
    "import matplotlib.pyplot as plt\n",
    "%matplotlib inline"
   ]
  },
  {
   "cell_type": "code",
   "execution_count": 2,
   "metadata": {
    "collapsed": false
   },
   "outputs": [],
   "source": [
    "pd.options.display.max_columns = 100"
   ]
  },
  {
   "cell_type": "code",
   "execution_count": 3,
   "metadata": {
    "collapsed": false
   },
   "outputs": [
    {
     "data": {
      "text/plain": [
       "u'/Users/adamlevin/ds/Rank_a_Golfer'"
      ]
     },
     "execution_count": 3,
     "metadata": {},
     "output_type": "execute_result"
    }
   ],
   "source": [
    "pwd"
   ]
  },
  {
   "cell_type": "code",
   "execution_count": 248,
   "metadata": {
    "collapsed": false
   },
   "outputs": [],
   "source": [
    "data = pd.concat([pd.read_csv('data/%d.csv' % year, usecols=['Course_#','Hole','Cluster','Cluster_Green_X',\n",
    "                                                             'Cluster_Green_Y','Cluster_Tee_X','Cluster_Tee_Y',\n",
    "                                                             'Start_X_Coordinate','Start_Y_Coordinate','Shot',\n",
    "                                                             'last_shot_mask'])\n",
    "                  for year in range(2003,2018)])"
   ]
  },
  {
   "cell_type": "code",
   "execution_count": 249,
   "metadata": {
    "collapsed": true
   },
   "outputs": [],
   "source": [
    "def standardize(df):\n",
    "    def rotate_theta_radians(points,theta):\n",
    "        points = np.array(points).T\n",
    "        r = np.array([[np.cos(theta),-np.sin(theta)],[np.sin(theta),np.cos(theta)]])\n",
    "        return np.dot(r,points).T\n",
    "    \n",
    "    def convert_to_degrees(angle):\n",
    "        angle[angle<0] = angle[angle<0] + 2*np.pi\n",
    "        return angle*180./np.pi\n",
    "    \n",
    "    points = np.column_stack([df.Start_X_Coordinate.values - df.Cluster_Green_X.values[0],\n",
    "                              df.Start_Y_Coordinate.values - df.Cluster_Green_Y.values[0]])\n",
    "    angle_of_tee_box = np.arctan2(df.Cluster_Tee_Y.values[0] - df.Cluster_Green_Y.values[0],\n",
    "                                  df.Cluster_Tee_X.values[0] - df.Cluster_Green_X.values[0])\n",
    "    rotated = rotate_theta_radians(points,3*np.pi/2-angle_of_tee_box)\n",
    "    angles = convert_to_degrees(np.arctan2(rotated[:,1],rotated[:,0]))\n",
    "    distance_from_origin = (rotated**2).sum(1)**.5\n",
    "    return angles, distance_from_origin, rotated"
   ]
  },
  {
   "cell_type": "code",
   "execution_count": 250,
   "metadata": {
    "collapsed": false
   },
   "outputs": [],
   "source": [
    "angles = []\n",
    "distances = []\n",
    "for u,((course,hole,cluster),df) in enumerate(data.groupby(['Course_#','Hole','Cluster'])):\n",
    "    if df.shape[0]>1:\n",
    "        angles_, dists_, _ = standardize(df)\n",
    "        angles = np.concatenate([angles,angles_[(df.Shot!=1).values]])\n",
    "        distances = np.concatenate([distances,dists_[~(df.last_shot_mask).values]])"
   ]
  },
  {
   "cell_type": "code",
   "execution_count": 251,
   "metadata": {
    "collapsed": false
   },
   "outputs": [
    {
     "data": {
      "text/plain": [
       "11479683"
      ]
     },
     "execution_count": 251,
     "metadata": {},
     "output_type": "execute_result"
    }
   ],
   "source": [
    "len(angles)"
   ]
  },
  {
   "cell_type": "code",
   "execution_count": 252,
   "metadata": {
    "collapsed": false
   },
   "outputs": [
    {
     "data": {
      "image/png": "[encoded data removed]",
      "text/plain": [
       "<matplotlib.figure.Figure at 0x122dad950>"
      ]
     },
     "metadata": {},
     "output_type": "display_data"
    }
   ],
   "source": [
    "plt.hist(angles);"
   ]
  },
  {
   "cell_type": "code",
   "execution_count": 253,
   "metadata": {
    "collapsed": false
   },
   "outputs": [
    {
     "data": {
      "image/png": "[encoded data removed]",
      "text/plain": [
       "<matplotlib.figure.Figure at 0x12172b450>"
      ]
     },
     "metadata": {},
     "output_type": "display_data"
    }
   ],
   "source": [
    "plt.hist(distances);"
   ]
  },
  {
   "cell_type": "code",
   "execution_count": 254,
   "metadata": {
    "collapsed": false
   },
   "outputs": [],
   "source": [
    "out, bins = pd.qcut(angles,np.linspace(0,1,20),retbins=True)"
   ]
  },
  {
   "cell_type": "code",
   "execution_count": 255,
   "metadata": {
    "collapsed": false
   },
   "outputs": [],
   "source": [
    "bins[0], bins[-1] = 0, 360"
   ]
  },
  {
   "cell_type": "code",
   "execution_count": 256,
   "metadata": {
    "collapsed": false
   },
   "outputs": [
    {
     "data": {
      "text/plain": [
       "array([   0.        ,   30.51178516,   61.67090908,   94.04625862,\n",
       "        121.43171077,  149.18913484,  178.92034735,  206.49623801,\n",
       "        230.27777578,  245.70639433,  255.40606863,  262.38586754,\n",
       "        268.21019596,  273.7904887 ,  279.73740368,  286.76391868,\n",
       "        296.08925169,  310.25414107,  331.99685933,  360.        ])"
      ]
     },
     "execution_count": 256,
     "metadata": {},
     "output_type": "execute_result"
    }
   ],
   "source": [
    "bins"
   ]
  },
  {
   "cell_type": "code",
   "execution_count": 257,
   "metadata": {
    "collapsed": false
   },
   "outputs": [
    {
     "data": {
      "image/png": "[encoded data removed]",
      "text/plain": [
       "<matplotlib.figure.Figure at 0x123c07890>"
      ]
     },
     "metadata": {},
     "output_type": "display_data"
    }
   ],
   "source": [
    "plt.scatter(np.arange(len(bins)),bins);"
   ]
  },
  {
   "cell_type": "code",
   "execution_count": 258,
   "metadata": {
    "collapsed": true
   },
   "outputs": [],
   "source": [
    "out, bins = pd.qcut(distances,np.linspace(0,1,10),retbins=True)"
   ]
  },
  {
   "cell_type": "code",
   "execution_count": 261,
   "metadata": {
    "collapsed": true
   },
   "outputs": [],
   "source": [
    "bins[0], bins[-1] = 0, 1e10"
   ]
  },
  {
   "cell_type": "code",
   "execution_count": 262,
   "metadata": {
    "collapsed": false
   },
   "outputs": [
    {
     "data": {
      "text/plain": [
       "array([  0.00000000e+00,   2.86803800e+01,   5.04239539e+01,\n",
       "         1.86821980e+02,   4.36973779e+02,   5.62549775e+02,\n",
       "         8.56281230e+02,   1.24960457e+03,   1.44277181e+03,\n",
       "         1.00000000e+10])"
      ]
     },
     "execution_count": 262,
     "metadata": {},
     "output_type": "execute_result"
    }
   ],
   "source": [
    "bins"
   ]
  },
  {
   "cell_type": "code",
   "execution_count": 259,
   "metadata": {
    "collapsed": false
   },
   "outputs": [
    {
     "data": {
      "image/png": "[encoded data removed]",
      "text/plain": [
       "<matplotlib.figure.Figure at 0x122e35390>"
      ]
     },
     "metadata": {},
     "output_type": "display_data"
    }
   ],
   "source": [
    "plt.scatter(np.arange(len(bins)),bins);"
   ]
  },
  {
   "cell_type": "code",
   "execution_count": 71,
   "metadata": {
    "collapsed": false
   },
   "outputs": [],
   "source": [
    "data = pd.read_csv('data/2003.csv')"
   ]
  },
  {
   "cell_type": "code",
   "execution_count": 9,
   "metadata": {
    "collapsed": false
   },
   "outputs": [
    {
     "data": {
      "text/plain": [
       "2    2628617\n",
       "3    2591707\n",
       "5    2590225\n",
       "6    2587275\n",
       "1    2510327\n",
       "4    2494335\n",
       "dtype: int64"
      ]
     },
     "execution_count": 9,
     "metadata": {},
     "output_type": "execute_result"
    }
   ],
   "source": [
    "pd.value_counts([int(s.split('-')[-2]) for s in data.loc_string_hole])"
   ]
  },
  {
   "cell_type": "code",
   "execution_count": 10,
   "metadata": {
    "collapsed": false
   },
   "outputs": [
    {
     "data": {
      "text/plain": [
       "2    5354976\n",
       "3    5081407\n",
       "1    4966103\n",
       "dtype: int64"
      ]
     },
     "execution_count": 10,
     "metadata": {},
     "output_type": "execute_result"
    }
   ],
   "source": [
    "pd.value_counts([int(s.split('-')[-1]) for s in data.loc_string_hole])"
   ]
  },
  {
   "cell_type": "code",
   "execution_count": 86,
   "metadata": {
    "collapsed": false
   },
   "outputs": [
    {
     "data": {
      "text/html": [
       "<div>\n",
       "<style>\n",
       "    .dataframe thead tr:only-child th {\n",
       "        text-align: right;\n",
       "    }\n",
       "\n",
       "    .dataframe thead th {\n",
       "        text-align: left;\n",
       "    }\n",
       "\n",
       "    .dataframe tbody tr th {\n",
       "        vertical-align: top;\n",
       "    }\n",
       "</style>\n",
       "<table border=\"1\" class=\"dataframe\">\n",
       "  <thead>\n",
       "    <tr style=\"text-align: right;\">\n",
       "      <th></th>\n",
       "      <th>Tour_Code</th>\n",
       "      <th>Tour_Description</th>\n",
       "      <th>Year</th>\n",
       "      <th>Tourn.#</th>\n",
       "      <th>Player_#</th>\n",
       "      <th>Course_#</th>\n",
       "      <th>Permanent_Tournament_#</th>\n",
       "      <th>Player_First_Name</th>\n",
       "      <th>Player_Last_Name</th>\n",
       "      <th>Round</th>\n",
       "      <th>Tournament_Name</th>\n",
       "      <th>Course_Name</th>\n",
       "      <th>Hole</th>\n",
       "      <th>Hole_Score</th>\n",
       "      <th>Par_Value</th>\n",
       "      <th>Yardage</th>\n",
       "      <th>Shot</th>\n",
       "      <th>Shot_Type(S/P/D)</th>\n",
       "      <th>#_of_Strokes</th>\n",
       "      <th>From_Location(Scorer)</th>\n",
       "      <th>From_Location(Enhanced)</th>\n",
       "      <th>To_Location(Laser)</th>\n",
       "      <th>To_Location(Enhanced)</th>\n",
       "      <th>Distance</th>\n",
       "      <th>Distance_to_Pin</th>\n",
       "      <th>In_the_Hole_Flag</th>\n",
       "      <th>Around_the_Green_Flag</th>\n",
       "      <th>1st_Putt_Flag</th>\n",
       "      <th>Distance_to_Hole_after_the_Shot</th>\n",
       "      <th>Time</th>\n",
       "      <th>Lie</th>\n",
       "      <th>Elevation</th>\n",
       "      <th>Slope</th>\n",
       "      <th>End_X_Coordinate</th>\n",
       "      <th>End_Y_Coordinate</th>\n",
       "      <th>End_Z_Coordinate</th>\n",
       "      <th>Distance_from_Center</th>\n",
       "      <th>Distance_from_Edge</th>\n",
       "      <th>Date</th>\n",
       "      <th>Penalty_Shots</th>\n",
       "      <th>start_loc_equal_to_prev_start_loc</th>\n",
       "      <th>Start_X_Coordinate</th>\n",
       "      <th>Start_Y_Coordinate</th>\n",
       "      <th>Start_Z_Coordinate</th>\n",
       "      <th>Real_Shots</th>\n",
       "      <th>last_shot_mask</th>\n",
       "      <th>Stroke</th>\n",
       "      <th>Strokes_from_starting_location</th>\n",
       "      <th>from_the_tee_box_mask</th>\n",
       "      <th>Distance_from_hole</th>\n",
       "      <th>Cat</th>\n",
       "      <th>Green_to_work_with</th>\n",
       "      <th>Cluster</th>\n",
       "      <th>Cluster_Green_X</th>\n",
       "      <th>Cluster_Green_Y</th>\n",
       "      <th>Cluster_Tee_X</th>\n",
       "      <th>Cluster_Tee_Y</th>\n",
       "      <th>loc_string</th>\n",
       "      <th>loc_string_hole</th>\n",
       "    </tr>\n",
       "  </thead>\n",
       "  <tbody>\n",
       "    <tr>\n",
       "      <th>0</th>\n",
       "      <td>R</td>\n",
       "      <td>PGA TOUR</td>\n",
       "      <td>2003</td>\n",
       "      <td>80</td>\n",
       "      <td>1014</td>\n",
       "      <td>101</td>\n",
       "      <td>1</td>\n",
       "      <td>Fulton</td>\n",
       "      <td>Allem</td>\n",
       "      <td>1</td>\n",
       "      <td>Chrysler Classic of Tucson</td>\n",
       "      <td>Tucson National GC</td>\n",
       "      <td>1</td>\n",
       "      <td>3</td>\n",
       "      <td>4</td>\n",
       "      <td>410</td>\n",
       "      <td>1</td>\n",
       "      <td>S</td>\n",
       "      <td>1</td>\n",
       "      <td>Tee Box</td>\n",
       "      <td>NaN</td>\n",
       "      <td>Primary Rough</td>\n",
       "      <td>Left Rough</td>\n",
       "      <td>9580</td>\n",
       "      <td>0</td>\n",
       "      <td>N</td>\n",
       "      <td>N</td>\n",
       "      <td>NaN</td>\n",
       "      <td>5109</td>\n",
       "      <td>752</td>\n",
       "      <td>Good</td>\n",
       "      <td>With</td>\n",
       "      <td>Level</td>\n",
       "      <td>7554.588000</td>\n",
       "      <td>6669.062000</td>\n",
       "      <td>2454.659</td>\n",
       "      <td>0</td>\n",
       "      <td>0</td>\n",
       "      <td>00/00/0000</td>\n",
       "      <td>0</td>\n",
       "      <td>False</td>\n",
       "      <td>6818.287997</td>\n",
       "      <td>6977.385100</td>\n",
       "      <td>NaN</td>\n",
       "      <td>1</td>\n",
       "      <td>False</td>\n",
       "      <td>1</td>\n",
       "      <td>3</td>\n",
       "      <td>True</td>\n",
       "      <td>1191.386622</td>\n",
       "      <td>Tee Box</td>\n",
       "      <td>10.604492</td>\n",
       "      <td>0</td>\n",
       "      <td>7826.957756</td>\n",
       "      <td>6326.688407</td>\n",
       "      <td>6823.187260</td>\n",
       "      <td>6960.531395</td>\n",
       "      <td>101-1-13-7</td>\n",
       "      <td>101-1-8-1</td>\n",
       "    </tr>\n",
       "    <tr>\n",
       "      <th>1</th>\n",
       "      <td>R</td>\n",
       "      <td>PGA TOUR</td>\n",
       "      <td>2003</td>\n",
       "      <td>80</td>\n",
       "      <td>1014</td>\n",
       "      <td>101</td>\n",
       "      <td>1</td>\n",
       "      <td>Fulton</td>\n",
       "      <td>Allem</td>\n",
       "      <td>1</td>\n",
       "      <td>Chrysler Classic of Tucson</td>\n",
       "      <td>Tucson National GC</td>\n",
       "      <td>1</td>\n",
       "      <td>3</td>\n",
       "      <td>4</td>\n",
       "      <td>410</td>\n",
       "      <td>2</td>\n",
       "      <td>S</td>\n",
       "      <td>1</td>\n",
       "      <td>Primary Rough</td>\n",
       "      <td>Left Rough</td>\n",
       "      <td>Green</td>\n",
       "      <td>Green</td>\n",
       "      <td>5103</td>\n",
       "      <td>5109</td>\n",
       "      <td>N</td>\n",
       "      <td>N</td>\n",
       "      <td>NaN</td>\n",
       "      <td>231</td>\n",
       "      <td>757</td>\n",
       "      <td>NaN</td>\n",
       "      <td>With</td>\n",
       "      <td>Level</td>\n",
       "      <td>7839.173000</td>\n",
       "      <td>6353.067000</td>\n",
       "      <td>2458.339</td>\n",
       "      <td>0</td>\n",
       "      <td>0</td>\n",
       "      <td>00/00/0000</td>\n",
       "      <td>0</td>\n",
       "      <td>False</td>\n",
       "      <td>7554.588000</td>\n",
       "      <td>6669.062000</td>\n",
       "      <td>2454.659</td>\n",
       "      <td>2</td>\n",
       "      <td>False</td>\n",
       "      <td>2</td>\n",
       "      <td>2</td>\n",
       "      <td>False</td>\n",
       "      <td>425.775903</td>\n",
       "      <td>Primary Rough</td>\n",
       "      <td>22.447508</td>\n",
       "      <td>0</td>\n",
       "      <td>7826.957756</td>\n",
       "      <td>6326.688407</td>\n",
       "      <td>6823.187260</td>\n",
       "      <td>6960.531395</td>\n",
       "      <td>101-1-10-5</td>\n",
       "      <td>101-1-8-1</td>\n",
       "    </tr>\n",
       "    <tr>\n",
       "      <th>2</th>\n",
       "      <td>R</td>\n",
       "      <td>PGA TOUR</td>\n",
       "      <td>2003</td>\n",
       "      <td>80</td>\n",
       "      <td>1014</td>\n",
       "      <td>101</td>\n",
       "      <td>1</td>\n",
       "      <td>Fulton</td>\n",
       "      <td>Allem</td>\n",
       "      <td>1</td>\n",
       "      <td>Chrysler Classic of Tucson</td>\n",
       "      <td>Tucson National GC</td>\n",
       "      <td>1</td>\n",
       "      <td>3</td>\n",
       "      <td>4</td>\n",
       "      <td>410</td>\n",
       "      <td>3</td>\n",
       "      <td>S</td>\n",
       "      <td>1</td>\n",
       "      <td>Green</td>\n",
       "      <td>Green</td>\n",
       "      <td>NaN</td>\n",
       "      <td>NaN</td>\n",
       "      <td>231</td>\n",
       "      <td>231</td>\n",
       "      <td>Y</td>\n",
       "      <td>N</td>\n",
       "      <td>Y</td>\n",
       "      <td>0</td>\n",
       "      <td>800</td>\n",
       "      <td>Good</td>\n",
       "      <td>With</td>\n",
       "      <td>Level</td>\n",
       "      <td>7824.901041</td>\n",
       "      <td>6340.100028</td>\n",
       "      <td>2458.427</td>\n",
       "      <td>0</td>\n",
       "      <td>0</td>\n",
       "      <td>00/00/0000</td>\n",
       "      <td>0</td>\n",
       "      <td>False</td>\n",
       "      <td>7839.173000</td>\n",
       "      <td>6353.067000</td>\n",
       "      <td>2458.339</td>\n",
       "      <td>3</td>\n",
       "      <td>True</td>\n",
       "      <td>3</td>\n",
       "      <td>1</td>\n",
       "      <td>False</td>\n",
       "      <td>19.282925</td>\n",
       "      <td>Green</td>\n",
       "      <td>NaN</td>\n",
       "      <td>0</td>\n",
       "      <td>7826.957756</td>\n",
       "      <td>6326.688407</td>\n",
       "      <td>6823.187260</td>\n",
       "      <td>6960.531395</td>\n",
       "      <td>101-1-7-2</td>\n",
       "      <td>101-1-8-1</td>\n",
       "    </tr>\n",
       "    <tr>\n",
       "      <th>3</th>\n",
       "      <td>R</td>\n",
       "      <td>PGA TOUR</td>\n",
       "      <td>2003</td>\n",
       "      <td>80</td>\n",
       "      <td>1014</td>\n",
       "      <td>101</td>\n",
       "      <td>1</td>\n",
       "      <td>Fulton</td>\n",
       "      <td>Allem</td>\n",
       "      <td>1</td>\n",
       "      <td>Chrysler Classic of Tucson</td>\n",
       "      <td>Tucson National GC</td>\n",
       "      <td>2</td>\n",
       "      <td>5</td>\n",
       "      <td>5</td>\n",
       "      <td>495</td>\n",
       "      <td>1</td>\n",
       "      <td>S</td>\n",
       "      <td>1</td>\n",
       "      <td>Tee Box</td>\n",
       "      <td>NaN</td>\n",
       "      <td>Fairway</td>\n",
       "      <td>Left Fairway</td>\n",
       "      <td>10395</td>\n",
       "      <td>0</td>\n",
       "      <td>N</td>\n",
       "      <td>N</td>\n",
       "      <td>NaN</td>\n",
       "      <td>9045</td>\n",
       "      <td>806</td>\n",
       "      <td>Good</td>\n",
       "      <td>With</td>\n",
       "      <td>Level</td>\n",
       "      <td>8504.246000</td>\n",
       "      <td>6839.635000</td>\n",
       "      <td>2460.686</td>\n",
       "      <td>0</td>\n",
       "      <td>0</td>\n",
       "      <td>00/00/0000</td>\n",
       "      <td>0</td>\n",
       "      <td>False</td>\n",
       "      <td>8413.589521</td>\n",
       "      <td>5978.145375</td>\n",
       "      <td>NaN</td>\n",
       "      <td>1</td>\n",
       "      <td>False</td>\n",
       "      <td>1</td>\n",
       "      <td>5</td>\n",
       "      <td>True</td>\n",
       "      <td>1617.891769</td>\n",
       "      <td>Tee Box</td>\n",
       "      <td>63.005137</td>\n",
       "      <td>0</td>\n",
       "      <td>8619.100859</td>\n",
       "      <td>7554.194056</td>\n",
       "      <td>8413.672658</td>\n",
       "      <td>5980.455867</td>\n",
       "      <td>101-2-13-9</td>\n",
       "      <td>101-2-2-2</td>\n",
       "    </tr>\n",
       "    <tr>\n",
       "      <th>4</th>\n",
       "      <td>R</td>\n",
       "      <td>PGA TOUR</td>\n",
       "      <td>2003</td>\n",
       "      <td>80</td>\n",
       "      <td>1014</td>\n",
       "      <td>101</td>\n",
       "      <td>1</td>\n",
       "      <td>Fulton</td>\n",
       "      <td>Allem</td>\n",
       "      <td>1</td>\n",
       "      <td>Chrysler Classic of Tucson</td>\n",
       "      <td>Tucson National GC</td>\n",
       "      <td>2</td>\n",
       "      <td>5</td>\n",
       "      <td>5</td>\n",
       "      <td>495</td>\n",
       "      <td>2</td>\n",
       "      <td>S</td>\n",
       "      <td>1</td>\n",
       "      <td>Fairway</td>\n",
       "      <td>Left Fairway</td>\n",
       "      <td>Green Side Bunker</td>\n",
       "      <td>Front Left Green Side Bunker</td>\n",
       "      <td>7724</td>\n",
       "      <td>9045</td>\n",
       "      <td>N</td>\n",
       "      <td>Y</td>\n",
       "      <td>NaN</td>\n",
       "      <td>1389</td>\n",
       "      <td>815</td>\n",
       "      <td>Good</td>\n",
       "      <td>With</td>\n",
       "      <td>Level</td>\n",
       "      <td>8604.083000</td>\n",
       "      <td>7475.441000</td>\n",
       "      <td>2466.759</td>\n",
       "      <td>0</td>\n",
       "      <td>0</td>\n",
       "      <td>00/00/0000</td>\n",
       "      <td>0</td>\n",
       "      <td>False</td>\n",
       "      <td>8504.246000</td>\n",
       "      <td>6839.635000</td>\n",
       "      <td>2460.686</td>\n",
       "      <td>2</td>\n",
       "      <td>False</td>\n",
       "      <td>2</td>\n",
       "      <td>4</td>\n",
       "      <td>False</td>\n",
       "      <td>753.741154</td>\n",
       "      <td>Fairway</td>\n",
       "      <td>63.005137</td>\n",
       "      <td>0</td>\n",
       "      <td>8619.100859</td>\n",
       "      <td>7554.194056</td>\n",
       "      <td>8413.672658</td>\n",
       "      <td>5980.455867</td>\n",
       "      <td>101-2-13-6</td>\n",
       "      <td>101-2-2-2</td>\n",
       "    </tr>\n",
       "  </tbody>\n",
       "</table>\n",
       "</div>"
      ],
      "text/plain": [
       "  Tour_Code Tour_Description  Year  Tourn.#  Player_#  Course_#  \\\n",
       "0         R         PGA TOUR  2003       80      1014       101   \n",
       "1         R         PGA TOUR  2003       80      1014       101   \n",
       "2         R         PGA TOUR  2003       80      1014       101   \n",
       "3         R         PGA TOUR  2003       80      1014       101   \n",
       "4         R         PGA TOUR  2003       80      1014       101   \n",
       "\n",
       "   Permanent_Tournament_# Player_First_Name Player_Last_Name  Round  \\\n",
       "0                       1            Fulton            Allem      1   \n",
       "1                       1            Fulton            Allem      1   \n",
       "2                       1            Fulton            Allem      1   \n",
       "3                       1            Fulton            Allem      1   \n",
       "4                       1            Fulton            Allem      1   \n",
       "\n",
       "              Tournament_Name         Course_Name  Hole  Hole_Score  \\\n",
       "0  Chrysler Classic of Tucson  Tucson National GC     1           3   \n",
       "1  Chrysler Classic of Tucson  Tucson National GC     1           3   \n",
       "2  Chrysler Classic of Tucson  Tucson National GC     1           3   \n",
       "3  Chrysler Classic of Tucson  Tucson National GC     2           5   \n",
       "4  Chrysler Classic of Tucson  Tucson National GC     2           5   \n",
       "\n",
       "   Par_Value  Yardage  Shot Shot_Type(S/P/D)  #_of_Strokes  \\\n",
       "0          4      410     1                S             1   \n",
       "1          4      410     2                S             1   \n",
       "2          4      410     3                S             1   \n",
       "3          5      495     1                S             1   \n",
       "4          5      495     2                S             1   \n",
       "\n",
       "  From_Location(Scorer) From_Location(Enhanced) To_Location(Laser)  \\\n",
       "0               Tee Box                     NaN      Primary Rough   \n",
       "1         Primary Rough              Left Rough              Green   \n",
       "2                 Green                   Green                NaN   \n",
       "3               Tee Box                     NaN            Fairway   \n",
       "4               Fairway            Left Fairway  Green Side Bunker   \n",
       "\n",
       "          To_Location(Enhanced)  Distance  Distance_to_Pin In_the_Hole_Flag  \\\n",
       "0                    Left Rough      9580                0                N   \n",
       "1                         Green      5103             5109                N   \n",
       "2                           NaN       231              231                Y   \n",
       "3                  Left Fairway     10395                0                N   \n",
       "4  Front Left Green Side Bunker      7724             9045                N   \n",
       "\n",
       "  Around_the_Green_Flag 1st_Putt_Flag  Distance_to_Hole_after_the_Shot  Time  \\\n",
       "0                     N           NaN                             5109   752   \n",
       "1                     N           NaN                              231   757   \n",
       "2                     N             Y                                0   800   \n",
       "3                     N           NaN                             9045   806   \n",
       "4                     Y           NaN                             1389   815   \n",
       "\n",
       "    Lie Elevation  Slope  End_X_Coordinate  End_Y_Coordinate  \\\n",
       "0  Good      With  Level       7554.588000       6669.062000   \n",
       "1   NaN      With  Level       7839.173000       6353.067000   \n",
       "2  Good      With  Level       7824.901041       6340.100028   \n",
       "3  Good      With  Level       8504.246000       6839.635000   \n",
       "4  Good      With  Level       8604.083000       7475.441000   \n",
       "\n",
       "   End_Z_Coordinate  Distance_from_Center  Distance_from_Edge        Date  \\\n",
       "0          2454.659                     0                   0  00/00/0000   \n",
       "1          2458.339                     0                   0  00/00/0000   \n",
       "2          2458.427                     0                   0  00/00/0000   \n",
       "3          2460.686                     0                   0  00/00/0000   \n",
       "4          2466.759                     0                   0  00/00/0000   \n",
       "\n",
       "   Penalty_Shots  start_loc_equal_to_prev_start_loc  Start_X_Coordinate  \\\n",
       "0              0                              False         6818.287997   \n",
       "1              0                              False         7554.588000   \n",
       "2              0                              False         7839.173000   \n",
       "3              0                              False         8413.589521   \n",
       "4              0                              False         8504.246000   \n",
       "\n",
       "   Start_Y_Coordinate  Start_Z_Coordinate  Real_Shots  last_shot_mask  Stroke  \\\n",
       "0         6977.385100                 NaN           1           False       1   \n",
       "1         6669.062000            2454.659           2           False       2   \n",
       "2         6353.067000            2458.339           3            True       3   \n",
       "3         5978.145375                 NaN           1           False       1   \n",
       "4         6839.635000            2460.686           2           False       2   \n",
       "\n",
       "   Strokes_from_starting_location  from_the_tee_box_mask  Distance_from_hole  \\\n",
       "0                               3                   True         1191.386622   \n",
       "1                               2                  False          425.775903   \n",
       "2                               1                  False           19.282925   \n",
       "3                               5                   True         1617.891769   \n",
       "4                               4                  False          753.741154   \n",
       "\n",
       "             Cat  Green_to_work_with  Cluster  Cluster_Green_X  \\\n",
       "0        Tee Box           10.604492        0      7826.957756   \n",
       "1  Primary Rough           22.447508        0      7826.957756   \n",
       "2          Green                 NaN        0      7826.957756   \n",
       "3        Tee Box           63.005137        0      8619.100859   \n",
       "4        Fairway           63.005137        0      8619.100859   \n",
       "\n",
       "   Cluster_Green_Y  Cluster_Tee_X  Cluster_Tee_Y  loc_string loc_string_hole  \n",
       "0      6326.688407    6823.187260    6960.531395  101-1-13-7       101-1-8-1  \n",
       "1      6326.688407    6823.187260    6960.531395  101-1-10-5       101-1-8-1  \n",
       "2      6326.688407    6823.187260    6960.531395   101-1-7-2       101-1-8-1  \n",
       "3      7554.194056    8413.672658    5980.455867  101-2-13-9       101-2-2-2  \n",
       "4      7554.194056    8413.672658    5980.455867  101-2-13-6       101-2-2-2  "
      ]
     },
     "execution_count": 86,
     "metadata": {},
     "output_type": "execute_result"
    }
   ],
   "source": [
    "data.head(5)"
   ]
  },
  {
   "cell_type": "code",
   "execution_count": 3,
   "metadata": {
    "collapsed": false
   },
   "outputs": [],
   "source": [
    "data = pd.concat([pd.read_csv('data/%d.csv' % year, usecols=['loc_string_hole']) for year in range(2003,2018)])"
   ]
  },
  {
   "cell_type": "code",
   "execution_count": 4,
   "metadata": {
    "collapsed": false
   },
   "outputs": [
    {
     "data": {
      "image/png": "[encoded data removed]",
      "text/plain": [
       "<matplotlib.figure.Figure at 0x1154f8d90>"
      ]
     },
     "metadata": {},
     "output_type": "display_data"
    }
   ],
   "source": [
    "fig, ax = plt.subplots(1,1,figsize=(20,10))\n",
    "plt.hist(data.loc_string_hole.value_counts().values,bins=100);"
   ]
  },
  {
   "cell_type": "code",
   "execution_count": 13,
   "metadata": {
    "collapsed": false
   },
   "outputs": [
    {
     "data": {
      "image/png": "[encoded data removed]",
      "text/plain": [
       "<matplotlib.figure.Figure at 0x123979e90>"
      ]
     },
     "metadata": {},
     "output_type": "display_data"
    }
   ],
   "source": [
    "fig, ax = plt.subplots(1,1,figsize=(20,10))\n",
    "plt.hist(data.loc_string.value_counts().values,bins=100);"
   ]
  },
  {
   "cell_type": "code",
   "execution_count": 35,
   "metadata": {
    "collapsed": false,
    "scrolled": true
   },
   "outputs": [
    {
     "data": {
      "text/plain": [
       "0.033180971728457763"
      ]
     },
     "execution_count": 35,
     "metadata": {},
     "output_type": "execute_result"
    }
   ],
   "source": [
    "(data.loc_string.value_counts().values==3).mean()"
   ]
  },
  {
   "cell_type": "code",
   "execution_count": 5,
   "metadata": {
    "collapsed": true
   },
   "outputs": [],
   "source": [
    "p = np.percentile(data.loc_string_hole.value_counts().values,np.linspace(0,100,1000))"
   ]
  },
  {
   "cell_type": "code",
   "execution_count": 6,
   "metadata": {
    "collapsed": false
   },
   "outputs": [
    {
     "data": {
      "image/png": "[encoded data removed]",
      "text/plain": [
       "<matplotlib.figure.Figure at 0x115793f10>"
      ]
     },
     "metadata": {},
     "output_type": "display_data"
    }
   ],
   "source": [
    "plt.plot(p[0:500],np.linspace(0,100,1000)[0:500]);"
   ]
  },
  {
   "cell_type": "code",
   "execution_count": 41,
   "metadata": {
    "collapsed": false
   },
   "outputs": [
    {
     "data": {
      "image/png": "[encoded data removed]",
      "text/plain": [
       "<matplotlib.figure.Figure at 0x12976b450>"
      ]
     },
     "metadata": {},
     "output_type": "display_data"
    }
   ],
   "source": [
    "plt.plot(p[0:500],np.linspace(0,100,1000)[0:500]);"
   ]
  },
  {
   "cell_type": "code",
   "execution_count": 42,
   "metadata": {
    "collapsed": false,
    "scrolled": true
   },
   "outputs": [
    {
     "data": {
      "text/plain": [
       "112233"
      ]
     },
     "execution_count": 42,
     "metadata": {},
     "output_type": "execute_result"
    }
   ],
   "source": [
    "len(pd.unique(data.loc_string))"
   ]
  },
  {
   "cell_type": "code",
   "execution_count": 7,
   "metadata": {
    "collapsed": false
   },
   "outputs": [
    {
     "data": {
      "text/plain": [
       "12763"
      ]
     },
     "execution_count": 7,
     "metadata": {},
     "output_type": "execute_result"
    }
   ],
   "source": [
    "len(pd.unique(data.loc_string_hole))"
   ]
  },
  {
   "cell_type": "code",
   "execution_count": 43,
   "metadata": {
    "collapsed": false
   },
   "outputs": [
    {
     "data": {
      "text/plain": [
       "15402486"
      ]
     },
     "execution_count": 43,
     "metadata": {},
     "output_type": "execute_result"
    }
   ],
   "source": [
    "data.shape[0]"
   ]
  },
  {
   "cell_type": "code",
   "execution_count": 44,
   "metadata": {
    "collapsed": false
   },
   "outputs": [
    {
     "data": {
      "text/plain": [
       "137.2366950896795"
      ]
     },
     "execution_count": 44,
     "metadata": {},
     "output_type": "execute_result"
    }
   ],
   "source": [
    "15402486/112233."
   ]
  },
  {
   "cell_type": "code",
   "execution_count": 8,
   "metadata": {
    "collapsed": false
   },
   "outputs": [
    {
     "data": {
      "text/plain": [
       "11-16-6-1     12044\n",
       "665-10-4-1    10194\n",
       "510-1-5-3      9958\n",
       "11-9-2-2       9752\n",
       "6-8-3-2        9745\n",
       "698-7-6-2      9466\n",
       "734-3-6-1      9332\n",
       "23-17-4-2      9054\n",
       "11-12-3-2      9019\n",
       "23-17-1-2      8798\n",
       "11-9-5-2       8667\n",
       "11-10-2-3      8570\n",
       "513-16-6-3     8348\n",
       "500-10-1-1     8319\n",
       "23-18-3-2      8310\n",
       "500-9-6-3      8295\n",
       "11-11-5-2      8046\n",
       "698-5-1-3      8042\n",
       "698-5-3-2      7977\n",
       "665-1-1-1      7849\n",
       "669-15-5-3     7841\n",
       "23-15-4-1      7808\n",
       "500-10-4-1     7804\n",
       "23-3-5-3       7764\n",
       "510-3-2-3      7726\n",
       "19-11-6-3      7660\n",
       "503-15-5-3     7653\n",
       "11-12-6-2      7647\n",
       "23-4-5-1       7625\n",
       "700-12-1-2     7588\n",
       "              ...  \n",
       "643-4-1-2        95\n",
       "656-11-1-2       95\n",
       "643-8-1-3        93\n",
       "643-16-3-3       93\n",
       "643-12-1-3       93\n",
       "643-8-3-3        92\n",
       "656-11-6-1       92\n",
       "656-8-5-2        91\n",
       "643-8-6-3        91\n",
       "688-2-1-2        91\n",
       "649-5-1-1        91\n",
       "688-11-6-1       90\n",
       "723-17-1-1       89\n",
       "723-12-5-1       89\n",
       "723-2-4-1        89\n",
       "688-11-6-3       89\n",
       "643-8-4-2        89\n",
       "643-16-6-3       88\n",
       "688-15-3-3       87\n",
       "688-11-3-2       87\n",
       "688-11-1-2       87\n",
       "688-2-6-2        87\n",
       "688-18-6-3       87\n",
       "688-11-4-2       87\n",
       "688-6-4-2        83\n",
       "688-2-6-1        82\n",
       "688-11-4-3       81\n",
       "205-15-1-1        2\n",
       "763-7-4-1         1\n",
       "763-7-1-1         1\n",
       "Name: loc_string_hole, Length: 12763, dtype: int64"
      ]
     },
     "execution_count": 8,
     "metadata": {},
     "output_type": "execute_result"
    }
   ],
   "source": [
    "data.loc_string_hole.value_counts()"
   ]
  },
  {
   "cell_type": "code",
   "execution_count": 12,
   "metadata": {
    "collapsed": true
   },
   "outputs": [],
   "source": [
    "data = pd.concat([pd.read_csv('data/%d.csv' % year, usecols=['Course_#','Hole','Cluster','Cluster_Green_X',\n",
    "                                                             'Cluster_Green_Y','End_X_Coordinate','End_Y_Coordinate',\n",
    "                                                             'last_shot_mask','Permanent_Tournament_#','Round',\n",
    "                                                             'Cluster_Tee_X','Cluster_Tee_Y'])\n",
    "                  for year in range(2003,2018)])"
   ]
  },
  {
   "cell_type": "code",
   "execution_count": 15,
   "metadata": {
    "collapsed": true
   },
   "outputs": [],
   "source": [
    "def standardize(df):\n",
    "    def rotate_theta_radians(points,theta):\n",
    "        points = np.array(points).T\n",
    "        r = np.array([[np.cos(theta),-np.sin(theta)],[np.sin(theta),np.cos(theta)]])\n",
    "        return np.dot(r,points).T\n",
    "    \n",
    "    def convert_to_degrees(angle):\n",
    "        if isinstance(angle,float):\n",
    "            angle = angle + (2*np.pi if angle<0 else 0)\n",
    "        else:\n",
    "            angle[angle<0] = angle[angle<0] + 2*np.pi\n",
    "        return angle*180./np.pi\n",
    "    \n",
    "    angle_of_tee_box = np.arctan2(df.Cluster_Tee_Y.values[0] - df.Cluster_Green_Y.values[0],\n",
    "                                  df.Cluster_Tee_X.values[0] - df.Cluster_Green_X.values[0])\n",
    "    \n",
    "    angles, distances = [], []\n",
    "    for (tourn,round),df_ in df.groupby(['Permanent_Tournament_#','Round']):\n",
    "        hole_loc = df_.loc[df_.last_shot_mask,['End_X_Coordinate','End_Y_Coordinate']].iloc[0].values\n",
    "        hole_loc = hole_loc - np.array([df.Cluster_Green_X.values[0],df.Cluster_Green_Y.values[0]])\n",
    "        rotated = rotate_theta_radians(hole_loc,3*np.pi/2-angle_of_tee_box)\n",
    "        angle = convert_to_degrees(np.arctan2(rotated[1],rotated[0]))\n",
    "        angles.append(angle)\n",
    "        distance_from_origin = (rotated**2).sum()**.5\n",
    "        distances.append(distance_from_origin)\n",
    "    \n",
    "    return angles, distances"
   ]
  },
  {
   "cell_type": "code",
   "execution_count": 16,
   "metadata": {
    "collapsed": false
   },
   "outputs": [],
   "source": [
    "angles = []\n",
    "distances = []\n",
    "for u,((course,hole,cluster),df) in enumerate(data.groupby(['Course_#','Hole','Cluster'])):\n",
    "    angles_, dists_ = standardize(df)\n",
    "    angles = np.concatenate([angles,angles_])\n",
    "    distances = np.concatenate([distances,dists_])"
   ]
  },
  {
   "cell_type": "code",
   "execution_count": 17,
   "metadata": {
    "collapsed": false
   },
   "outputs": [
    {
     "data": {
      "image/png": "[encoded data removed]",
      "text/plain": [
       "<matplotlib.figure.Figure at 0x103a95510>"
      ]
     },
     "metadata": {},
     "output_type": "display_data"
    }
   ],
   "source": [
    "plt.hist(angles);"
   ]
  },
  {
   "cell_type": "code",
   "execution_count": 19,
   "metadata": {
    "collapsed": false
   },
   "outputs": [
    {
     "data": {
      "image/png": "[encoded data removed]",
      "text/plain": [
       "<matplotlib.figure.Figure at 0x115641d90>"
      ]
     },
     "metadata": {},
     "output_type": "display_data"
    }
   ],
   "source": [
    "plt.hist(distances[distances<100]);"
   ]
  },
  {
   "cell_type": "code",
   "execution_count": 22,
   "metadata": {
    "collapsed": true
   },
   "outputs": [],
   "source": [
    "out, bins = pd.qcut(angles,np.linspace(0,1,7),retbins=True)"
   ]
  },
  {
   "cell_type": "code",
   "execution_count": 24,
   "metadata": {
    "collapsed": true
   },
   "outputs": [],
   "source": [
    "bins[0], bins[-1] = 0, 365"
   ]
  },
  {
   "cell_type": "code",
   "execution_count": 25,
   "metadata": {
    "collapsed": false
   },
   "outputs": [
    {
     "data": {
      "text/plain": [
       "array([   0.        ,   57.13882319,  119.91684975,  177.33783187,\n",
       "        239.58068584,  299.14421466,  365.        ])"
      ]
     },
     "execution_count": 25,
     "metadata": {},
     "output_type": "execute_result"
    }
   ],
   "source": [
    "bins"
   ]
  },
  {
   "cell_type": "code",
   "execution_count": 26,
   "metadata": {
    "collapsed": true
   },
   "outputs": [],
   "source": [
    "out, bins = pd.qcut(distances,np.linspace(0,1,4),retbins=True)"
   ]
  },
  {
   "cell_type": "code",
   "execution_count": 28,
   "metadata": {
    "collapsed": false
   },
   "outputs": [],
   "source": [
    "bins[-1] = 1e10"
   ]
  },
  {
   "cell_type": "code",
   "execution_count": 29,
   "metadata": {
    "collapsed": false
   },
   "outputs": [
    {
     "data": {
      "text/plain": [
       "array([  0.00000000e+00,   2.01223640e+01,   3.19756139e+01,\n",
       "         1.00000000e+10])"
      ]
     },
     "execution_count": 29,
     "metadata": {},
     "output_type": "execute_result"
    }
   ],
   "source": [
    "bins"
   ]
  },
  {
   "cell_type": "code",
   "execution_count": null,
   "metadata": {
    "collapsed": true
   },
   "outputs": [],
   "source": []
  }
 ],
 "metadata": {
  "kernelspec": {
   "display_name": "Python 2",
   "language": "python",
   "name": "python2"
  },
  "language_info": {
   "codemirror_mode": {
    "name": "ipython",
    "version": 2
   },
   "file_extension": ".py",
   "mimetype": "text/x-python",
   "name": "python",
   "nbconvert_exporter": "python",
   "pygments_lexer": "ipython2",
   "version": "2.7.13"
  }
 },
 "nbformat": 4,
 "nbformat_minor": 2
}
