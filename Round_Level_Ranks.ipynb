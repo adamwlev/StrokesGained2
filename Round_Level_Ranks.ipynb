{
 "cells": [
  {
   "cell_type": "code",
   "execution_count": 154,
   "metadata": {
    "collapsed": false
   },
   "outputs": [],
   "source": [
    "import pandas as pd\n",
    "import numpy as np\n",
    "import math\n",
    "import matplotlib.pyplot as plt\n",
    "from scipy.sparse import csc_matrix,eye,bmat\n",
    "from scipy.sparse.linalg import eigs,inv,gmres\n",
    "from sklearn.linear_model import LinearRegression\n",
    "from sklearn.isotonic import IsotonicRegression\n",
    "%matplotlib inline"
   ]
  },
  {
   "cell_type": "code",
   "execution_count": 21,
   "metadata": {
    "collapsed": false
   },
   "outputs": [],
   "source": [
    "data = pd.read_csv('data/round_train.csv')\n",
    "data1 = pd.read_csv('data/round_test.csv',header=None)\n",
    "data1.columns = data.columns\n",
    "data = pd.concat([data,data1])"
   ]
  },
  {
   "cell_type": "code",
   "execution_count": 4,
   "metadata": {
    "collapsed": false
   },
   "outputs": [],
   "source": [
    "data = data[data.Tournament_Year.isin([2003,2004])]"
   ]
  },
  {
   "cell_type": "code",
   "execution_count": 22,
   "metadata": {
    "collapsed": false,
    "scrolled": true
   },
   "outputs": [
    {
     "data": {
      "text/plain": [
       "(231125, 12)"
      ]
     },
     "execution_count": 22,
     "metadata": {},
     "output_type": "execute_result"
    }
   ],
   "source": [
    "data.shape"
   ]
  },
  {
   "cell_type": "code",
   "execution_count": 23,
   "metadata": {
    "collapsed": false,
    "scrolled": true
   },
   "outputs": [
    {
     "data": {
      "text/html": [
       "<div>\n",
       "<table border=\"1\" class=\"dataframe\">\n",
       "  <thead>\n",
       "    <tr style=\"text-align: right;\">\n",
       "      <th></th>\n",
       "      <th>Tournament_Year</th>\n",
       "      <th>Tournament_#</th>\n",
       "      <th>Permanent_Tournament_#</th>\n",
       "      <th>Course_#</th>\n",
       "      <th>Player_Number</th>\n",
       "      <th>Player_Name</th>\n",
       "      <th>Round_Number</th>\n",
       "      <th>Tee_Time</th>\n",
       "      <th>Round_Score</th>\n",
       "      <th>End_of_Event_Pos._(text)</th>\n",
       "      <th>Finishing_Pos</th>\n",
       "      <th>Finishing_Pct</th>\n",
       "    </tr>\n",
       "  </thead>\n",
       "  <tbody>\n",
       "    <tr>\n",
       "      <th>0</th>\n",
       "      <td>2003</td>\n",
       "      <td>10</td>\n",
       "      <td>16</td>\n",
       "      <td>656</td>\n",
       "      <td>1320</td>\n",
       "      <td>Estes, Bob</td>\n",
       "      <td>1</td>\n",
       "      <td>11:50</td>\n",
       "      <td>66</td>\n",
       "      <td>T6</td>\n",
       "      <td>7.5</td>\n",
       "      <td>0.197917</td>\n",
       "    </tr>\n",
       "    <tr>\n",
       "      <th>1</th>\n",
       "      <td>2003</td>\n",
       "      <td>10</td>\n",
       "      <td>16</td>\n",
       "      <td>656</td>\n",
       "      <td>1361</td>\n",
       "      <td>Forsman, Dan</td>\n",
       "      <td>1</td>\n",
       "      <td>11:00</td>\n",
       "      <td>69</td>\n",
       "      <td>T21</td>\n",
       "      <td>22.0</td>\n",
       "      <td>0.600694</td>\n",
       "    </tr>\n",
       "    <tr>\n",
       "      <th>2</th>\n",
       "      <td>2003</td>\n",
       "      <td>10</td>\n",
       "      <td>16</td>\n",
       "      <td>656</td>\n",
       "      <td>1761</td>\n",
       "      <td>Mattiace, Len</td>\n",
       "      <td>1</td>\n",
       "      <td>13:00</td>\n",
       "      <td>75</td>\n",
       "      <td>24</td>\n",
       "      <td>24.0</td>\n",
       "      <td>0.656250</td>\n",
       "    </tr>\n",
       "    <tr>\n",
       "      <th>3</th>\n",
       "      <td>2003</td>\n",
       "      <td>10</td>\n",
       "      <td>16</td>\n",
       "      <td>656</td>\n",
       "      <td>1797</td>\n",
       "      <td>Mediate, Rocco</td>\n",
       "      <td>1</td>\n",
       "      <td>12:10</td>\n",
       "      <td>72</td>\n",
       "      <td>T2</td>\n",
       "      <td>2.5</td>\n",
       "      <td>0.059028</td>\n",
       "    </tr>\n",
       "    <tr>\n",
       "      <th>4</th>\n",
       "      <td>2003</td>\n",
       "      <td>10</td>\n",
       "      <td>16</td>\n",
       "      <td>656</td>\n",
       "      <td>1920</td>\n",
       "      <td>Parry, Craig</td>\n",
       "      <td>1</td>\n",
       "      <td>11:20</td>\n",
       "      <td>71</td>\n",
       "      <td>T25</td>\n",
       "      <td>26.5</td>\n",
       "      <td>0.725694</td>\n",
       "    </tr>\n",
       "  </tbody>\n",
       "</table>\n",
       "</div>"
      ],
      "text/plain": [
       "   Tournament_Year  Tournament_#  Permanent_Tournament_#  Course_#  \\\n",
       "0             2003            10                      16       656   \n",
       "1             2003            10                      16       656   \n",
       "2             2003            10                      16       656   \n",
       "3             2003            10                      16       656   \n",
       "4             2003            10                      16       656   \n",
       "\n",
       "   Player_Number     Player_Name  Round_Number Tee_Time  Round_Score  \\\n",
       "0           1320      Estes, Bob             1    11:50           66   \n",
       "1           1361    Forsman, Dan             1    11:00           69   \n",
       "2           1761   Mattiace, Len             1    13:00           75   \n",
       "3           1797  Mediate, Rocco             1    12:10           72   \n",
       "4           1920    Parry, Craig             1    11:20           71   \n",
       "\n",
       "  End_of_Event_Pos._(text)  Finishing_Pos  Finishing_Pct  \n",
       "0                       T6            7.5       0.197917  \n",
       "1                      T21           22.0       0.600694  \n",
       "2                       24           24.0       0.656250  \n",
       "3                       T2            2.5       0.059028  \n",
       "4                      T25           26.5       0.725694  "
      ]
     },
     "execution_count": 23,
     "metadata": {},
     "output_type": "execute_result"
    }
   ],
   "source": [
    "data.head()"
   ]
  },
  {
   "cell_type": "code",
   "execution_count": 24,
   "metadata": {
    "collapsed": false
   },
   "outputs": [],
   "source": [
    "inds = {num:ind for ind,num in enumerate(pd.unique(data.Player_Number))}"
   ]
  },
  {
   "cell_type": "code",
   "execution_count": 25,
   "metadata": {
    "collapsed": false,
    "scrolled": true
   },
   "outputs": [],
   "source": [
    "data.insert(5,'Player_Index',[inds[num] for num in data.Player_Number])"
   ]
  },
  {
   "cell_type": "code",
   "execution_count": 26,
   "metadata": {
    "collapsed": false
   },
   "outputs": [],
   "source": [
    "rounds = data.groupby(['Tournament_Year','Tournament_#','Round_Number'])"
   ]
  },
  {
   "cell_type": "code",
   "execution_count": 27,
   "metadata": {
    "collapsed": true
   },
   "outputs": [],
   "source": [
    "n_players = len(pd.unique(data.Player_Index))\n",
    "n_rounds = len(rounds)"
   ]
  },
  {
   "cell_type": "code",
   "execution_count": 155,
   "metadata": {
    "collapsed": false
   },
   "outputs": [
    {
     "name": "stdout",
     "output_type": "stream",
     "text": [
      "2461 2263\n"
     ]
    }
   ],
   "source": [
    "print n_players,n_rounds"
   ]
  },
  {
   "cell_type": "code",
   "execution_count": 29,
   "metadata": {
    "collapsed": true
   },
   "outputs": [],
   "source": [
    "def alpha(A,a):\n",
    "    w,v = eigs(A,k=1,which='LM')\n",
    "    return a/w[0].real"
   ]
  },
  {
   "cell_type": "code",
   "execution_count": 30,
   "metadata": {
    "collapsed": false
   },
   "outputs": [
    {
     "data": {
      "text/plain": [
       "87.45616324"
      ]
     },
     "execution_count": 30,
     "metadata": {},
     "output_type": "execute_result"
    }
   ],
   "source": [
    "(n_players*(n_rounds/60+1))**2 * 10 / 1.0e9"
   ]
  },
  {
   "cell_type": "code",
   "execution_count": 31,
   "metadata": {
    "collapsed": true
   },
   "outputs": [],
   "source": [
    "def load_sparse_csc(filename):\n",
    "    loader = np.load(filename)\n",
    "    return csc_matrix((  loader['data'], loader['indices'], loader['indptr']),\n",
    "                         shape = loader['shape'])"
   ]
  },
  {
   "cell_type": "code",
   "execution_count": 189,
   "metadata": {
    "collapsed": true
   },
   "outputs": [],
   "source": [
    "A = csc_matrix(np.array([[3,4],[2,1]]))\n",
    "B = csc_matrix(np.array([[5,4],[1,-1]]))"
   ]
  },
  {
   "cell_type": "code",
   "execution_count": 199,
   "metadata": {
    "collapsed": false
   },
   "outputs": [
    {
     "data": {
      "text/plain": [
       "<2x2 sparse matrix of type '<type 'numpy.int64'>'\n",
       "\twith 4 stored elements in Compressed Sparse Column format>"
      ]
     },
     "execution_count": 199,
     "metadata": {},
     "output_type": "execute_result"
    }
   ],
   "source": [
    "bmat([[A]])"
   ]
  },
  {
   "cell_type": "code",
   "execution_count": 202,
   "metadata": {
    "collapsed": true
   },
   "outputs": [],
   "source": [
    "# def inflate(round_group,bin_size,BETA):\n",
    "#     mats = []\n",
    "#     mats_1 = []\n",
    "#     n_round_groups = int(math.ceil(n_rounds/float(bin_size)))\n",
    "#     mat = csc_matrix((n_players*n_round_groups,n_players),dtype=float)\n",
    "#     mat_1 = csc_matrix((n_players*n_round_groups,n_players),dtype=float)\n",
    "#     for j in range(bin_size):\n",
    "#         mat += bmat([[load_sparse_csc('rounds/%d.npz' % (round_group*j))*BETA**abs(round_group-k)] for k in range(1,n_round_groups+1)],format='csc')\n",
    "#         mat_1 += bmat([[(load_sparse_csc('rounds/%d.npz' % (round_group*j))!=0).astype(float)*BETA**abs(round_group-k)] for k in range(1,n_round_groups+1)],format='csc')\n",
    "#     inflate.__dict__[round_group] = (mat,mat_1)\n",
    "#     out_mat = bmat([[inflate.__dict__[i][0][0:n_players*round_group] for i in range(1,round_group+1)]],format='csc')\n",
    "#     out_mat1 = bmat([[inflate.__dict__[i][1][0:n_players*round_group] for i in range(1,round_group+1)]],format='csc')\n",
    "#     return (out_mat,out_mat1)\n",
    "\n",
    "\n",
    "def inflate(round_group,bin_size,BETA):\n",
    "    mats = []\n",
    "    mats_1 = []\n",
    "    n_round_groups = int(math.ceil(n_rounds/float(bin_size)))\n",
    "    for i in range(1,round_group+1):\n",
    "        mat = csc_matrix((n_players*round_group,n_players),dtype=float)\n",
    "        mat_1 = csc_matrix((n_players*round_group,n_players),dtype=float)\n",
    "        for j in range(bin_size):\n",
    "            mat += bmat([[load_sparse_csc('rounds/%d.npz' % (i*j))*BETA**abs(i-k)] for k in range(1,round_group+1)],format='csc')\n",
    "            mat_1 += bmat([[(load_sparse_csc('rounds/%d.npz' % (i*j))!=0).astype(float)*BETA**abs(i-k)] for k in range(1,round_group+1)],format='csc')\n",
    "        mats.append(mat)\n",
    "        mats_1.append(mat_1)\n",
    "    return bmat([mats],format='csc'),bmat([mats_1],format='csc')"
   ]
  },
  {
   "cell_type": "code",
   "execution_count": 203,
   "metadata": {
    "collapsed": false
   },
   "outputs": [],
   "source": [
    "def solve(mat,mat_1,a,x_guess=None,x_guess1=None):\n",
    "    S = eye(mat.shape[0],format='csc')-alpha(mat,a)*mat\n",
    "    w_a = gmres(S,mat.sum(1),x0=x_guess)[0]\n",
    "    solve.w_a = w_a\n",
    "    \n",
    "    S = eye(mat_1.shape[0],format='csc')-alpha(mat_1,a)*mat_1\n",
    "    w_g = gmres(S,mat_1.sum(1),x0=x_guess1)[0]\n",
    "    solve.w_g = w_g\n",
    "    \n",
    "    return (w_a/w_g)[-n_players:]\n",
    "\n",
    "# def solve2(mat,mat_1,a):\n",
    "#     S = eye(mat.shape[0],format='csc')-alpha(mat,a)*mat\n",
    "#     w_a = inv(S).dot(mat.sum(1)).A1\n",
    "    \n",
    "#     S = eye(mat_1.shape[0],format='csc')-alpha(mat_1,a)*mat_1\n",
    "#     w_g = inv(S).dot(mat_1.sum(1)).A1\n",
    "    \n",
    "#     return w_a/w_g"
   ]
  },
  {
   "cell_type": "code",
   "execution_count": 204,
   "metadata": {
    "collapsed": false
   },
   "outputs": [
    {
     "name": "stdout",
     "output_type": "stream",
     "text": [
      "Round Group 0 done\n",
      "Round Group 1 done\n",
      "Round Group 2 done\n",
      "Round Group 3 done\n",
      "Round Group 4 done\n",
      "Round Group 5 done\n",
      "Round Group 6 done\n",
      "Round Group 7 done\n",
      "Round Group 8 done\n",
      "Round Group 9 done\n",
      "Round Group 10 done\n",
      "Round Group 11 done\n",
      "Round Group 12 done\n",
      "Round Group 13 done\n",
      "Round Group 14 done\n",
      "Round Group 15 done\n",
      "Round Group 16 done\n",
      "Round Group 17 done\n",
      "Round Group 18 done\n",
      "Round Group 19 done\n",
      "Round Group 20 done\n",
      "Round Group 21 done\n"
     ]
    }
   ],
   "source": [
    "ranks = []\n",
    "BETA = .85\n",
    "a = .8\n",
    "bin_size = 30\n",
    "n_round_groups = int(math.ceil(n_rounds/float(bin_size)))\n",
    "current_group = 0\n",
    "tournaments=[set()]\n",
    "for round_ind,df in enumerate(rounds):\n",
    "    df = df[1]\n",
    "    round_group = round_ind/bin_size\n",
    "    if round_group>22:\n",
    "        continue\n",
    "    if round_group>current_group:\n",
    "        A,G = inflate(round_group,bin_size,BETA)\n",
    "        if current_group==0:\n",
    "            ranks.append(solve(A,G,a))\n",
    "            print 'Round Group %d done' % current_group\n",
    "            current_group = round_group\n",
    "            tournaments.append(set())\n",
    "        else:\n",
    "            w_a_approx = np.append(solve.w_a,solve.w_a[-n_players:])\n",
    "            w_g_approx = np.append(solve.w_g,solve.w_g[-n_players:])\n",
    "            ranks.append(solve(A,G,a,w_a_approx,w_g_approx))\n",
    "            print 'Round Group %d done' % current_group\n",
    "            current_group = round_group\n",
    "            tournaments.append(set())\n",
    "    tournaments[current_group].update([df.iloc[0]['Permanent_Tournament_#']])"
   ]
  },
  {
   "cell_type": "code",
   "execution_count": 118,
   "metadata": {
    "collapsed": false
   },
   "outputs": [],
   "source": [
    "with open('example.txt','w') as f:\n",
    "    for l in zip(csc_matrix(G[0:3,0:3]).data,zip(*[i.tolist() for i in csc_matrix(G[0:3,0:3]).nonzero()])):\n",
    "        f.write(','.join(map(str,[l[0],l[1][0],l[1][1]])))\n",
    "        f.write('\\n')"
   ]
  },
  {
   "cell_type": "code",
   "execution_count": 69,
   "metadata": {
    "collapsed": false
   },
   "outputs": [],
   "source": [
    "save_sparse_csc('example',csc_matrix(G))"
   ]
  },
  {
   "cell_type": "code",
   "execution_count": 205,
   "metadata": {
    "collapsed": true
   },
   "outputs": [],
   "source": [
    "for i in range(1,len(tournaments)):\n",
    "    tournaments[i] = tournaments[i]-tournaments[i-1]"
   ]
  },
  {
   "cell_type": "code",
   "execution_count": 206,
   "metadata": {
    "collapsed": false,
    "scrolled": true
   },
   "outputs": [
    {
     "data": {
      "text/plain": [
       "[{1, 2, 3, 4, 5, 6, 7, 16},\n",
       " {8, 9, 10, 11, 12, 14, 22},\n",
       " {18, 19, 20, 21, 23, 24, 26, 480},\n",
       " {25, 27, 28, 29, 34, 37, 100},\n",
       " {30, 32, 33, 35, 472, 474, 476, 505},\n",
       " {13, 41, 45, 47, 54, 473, 475},\n",
       " {2, 3, 4, 5, 6, 16, 60},\n",
       " {1, 7, 8, 9, 10, 11, 14, 22},\n",
       " {12, 18, 19, 20, 21, 25, 480},\n",
       " {23, 24, 26, 27, 28, 30, 37, 100},\n",
       " {29, 33, 34, 35, 472, 476, 505},\n",
       " {13, 32, 41, 45, 47, 54, 473, 474},\n",
       " {2, 3, 4, 6, 16, 60, 475},\n",
       " {1, 5, 7, 8, 9, 10, 11, 22},\n",
       " {12, 14, 18, 19, 20, 21, 25, 480},\n",
       " {23, 24, 26, 27, 28, 30, 37},\n",
       " {29, 33, 34, 35, 100, 472, 476, 505},\n",
       " {13, 32, 41, 45, 47, 473, 474},\n",
       " {2, 4, 6, 16, 54, 60, 475},\n",
       " {1, 3, 5, 7, 8, 9, 10, 11},\n",
       " {12, 14, 18, 19, 20, 22, 480},\n",
       " {21, 23, 24, 25, 26, 27, 28, 34},\n",
       " {29, 30, 33, 35, 37, 100, 472}]"
      ]
     },
     "execution_count": 206,
     "metadata": {},
     "output_type": "execute_result"
    }
   ],
   "source": [
    "tournaments"
   ]
  },
  {
   "cell_type": "code",
   "execution_count": 207,
   "metadata": {
    "collapsed": true
   },
   "outputs": [],
   "source": [
    "ols = LinearRegression()\n",
    "iso = IsotonicRegression(increasing=False)"
   ]
  },
  {
   "cell_type": "code",
   "execution_count": 210,
   "metadata": {
    "collapsed": false
   },
   "outputs": [
    {
     "data": {
      "image/png": "[encoded data removed]",
      "text/plain": [
       "<matplotlib.figure.Figure at 0x11af6d750>"
      ]
     },
     "metadata": {},
     "output_type": "display_data"
    }
   ],
   "source": [
    "ratings,outcomes = [],[]\n",
    "for t_ind in range(1,len(tournaments)):\n",
    "    sub = data[data['Permanent_Tournament_#'].isin(tournaments[t_ind])]\n",
    "    df1 = pd.DataFrame(sub.groupby('Player_Index')['Finishing_Pct'].mean())\n",
    "    df2 = pd.DataFrame(ranks[t_ind-1],columns=['rating'])\n",
    "    df = df1.merge(df2,left_index=True,right_index=True).dropna()\n",
    "    ratings += df.rating.values.tolist()\n",
    "    outcomes += df.Finishing_Pct.values.tolist()\n",
    "ratings,outcomes = np.array(ratings),np.array(outcomes)\n",
    "ols.fit(ratings[:,None],outcomes)\n",
    "iso.fit(ratings,outcomes)\n",
    "predictions_o = ols.predict(np.sort(ratings)[:,None])\n",
    "predictions_i = iso.predict(np.sort(ratings))\n",
    "plt.scatter(ratings,outcomes,alpha=.02)\n",
    "plt.plot(np.sort(ratings),predictions_o)\n",
    "plt.plot(np.sort(ratings),predictions_i)\n",
    "plt.show()"
   ]
  },
  {
   "cell_type": "code",
   "execution_count": 50,
   "metadata": {
    "collapsed": false,
    "scrolled": true
   },
   "outputs": [
    {
     "name": "stdout",
     "output_type": "stream",
     "text": [
      "7\n",
      "1768900\n"
     ]
    }
   ],
   "source": [
    "print n_round_groups\n",
    "print S.shape[0]**2"
   ]
  },
  {
   "cell_type": "code",
   "execution_count": 51,
   "metadata": {
    "collapsed": false
   },
   "outputs": [
    {
     "name": "stdout",
     "output_type": "stream",
     "text": [
      "0.15487704223\n"
     ]
    }
   ],
   "source": [
    "print len(S.nonzero()[1])/float(S.shape[0]**2)"
   ]
  },
  {
   "cell_type": "code",
   "execution_count": 106,
   "metadata": {
    "collapsed": false,
    "scrolled": false
   },
   "outputs": [
    {
     "data": {
      "image/png": "[encoded data removed]",
      "text/plain": [
       "<matplotlib.figure.Figure at 0x117bd7f50>"
      ]
     },
     "metadata": {},
     "output_type": "display_data"
    }
   ],
   "source": [
    "fig, ax = plt.subplots(figsize=(20, 10))\n",
    "plt.imshow(A_.toarray());"
   ]
  },
  {
   "cell_type": "code",
   "execution_count": 116,
   "metadata": {
    "collapsed": false
   },
   "outputs": [],
   "source": [
    "inds_to_name = {i:data[data.Player_Index==i].iloc[0].Player_Name for i in range(n_players)}"
   ]
  },
  {
   "cell_type": "code",
   "execution_count": 215,
   "metadata": {
    "collapsed": false
   },
   "outputs": [
    {
     "data": {
      "text/html": [
       "<div>\n",
       "<table border=\"1\" class=\"dataframe\">\n",
       "  <thead>\n",
       "    <tr style=\"text-align: right;\">\n",
       "      <th></th>\n",
       "      <th>player_ind</th>\n",
       "      <th>player_name</th>\n",
       "      <th>rank</th>\n",
       "    </tr>\n",
       "  </thead>\n",
       "  <tbody>\n",
       "    <tr>\n",
       "      <th>12</th>\n",
       "      <td>12</td>\n",
       "      <td>Els, Ernie</td>\n",
       "      <td>1.064572</td>\n",
       "    </tr>\n",
       "    <tr>\n",
       "      <th>277</th>\n",
       "      <td>277</td>\n",
       "      <td>Woods, Tiger</td>\n",
       "      <td>1.054180</td>\n",
       "    </tr>\n",
       "    <tr>\n",
       "      <th>180</th>\n",
       "      <td>180</td>\n",
       "      <td>Weir, Mike</td>\n",
       "      <td>1.052314</td>\n",
       "    </tr>\n",
       "    <tr>\n",
       "      <th>5</th>\n",
       "      <td>5</td>\n",
       "      <td>Price, Nick</td>\n",
       "      <td>1.046068</td>\n",
       "    </tr>\n",
       "    <tr>\n",
       "      <th>27</th>\n",
       "      <td>27</td>\n",
       "      <td>Goosen, Retief</td>\n",
       "      <td>1.042702</td>\n",
       "    </tr>\n",
       "    <tr>\n",
       "      <th>309</th>\n",
       "      <td>309</td>\n",
       "      <td>Barnes, Ricky</td>\n",
       "      <td>1.039788</td>\n",
       "    </tr>\n",
       "    <tr>\n",
       "      <th>80</th>\n",
       "      <td>80</td>\n",
       "      <td>Pride, Dicky</td>\n",
       "      <td>1.038292</td>\n",
       "    </tr>\n",
       "    <tr>\n",
       "      <th>198</th>\n",
       "      <td>198</td>\n",
       "      <td>Love III, Davis</td>\n",
       "      <td>1.037297</td>\n",
       "    </tr>\n",
       "    <tr>\n",
       "      <th>13</th>\n",
       "      <td>13</td>\n",
       "      <td>Singh, Vijay</td>\n",
       "      <td>1.036344</td>\n",
       "    </tr>\n",
       "    <tr>\n",
       "      <th>296</th>\n",
       "      <td>296</td>\n",
       "      <td>Fasth, Niclas</td>\n",
       "      <td>1.035564</td>\n",
       "    </tr>\n",
       "    <tr>\n",
       "      <th>91</th>\n",
       "      <td>91</td>\n",
       "      <td>Herron, Tim</td>\n",
       "      <td>1.035397</td>\n",
       "    </tr>\n",
       "    <tr>\n",
       "      <th>120</th>\n",
       "      <td>120</td>\n",
       "      <td>Frazar, Harrison</td>\n",
       "      <td>1.034528</td>\n",
       "    </tr>\n",
       "    <tr>\n",
       "      <th>21</th>\n",
       "      <td>21</td>\n",
       "      <td>Furyk, Jim</td>\n",
       "      <td>1.032803</td>\n",
       "    </tr>\n",
       "    <tr>\n",
       "      <th>172</th>\n",
       "      <td>172</td>\n",
       "      <td>Ames, Stephen</td>\n",
       "      <td>1.031566</td>\n",
       "    </tr>\n",
       "    <tr>\n",
       "      <th>158</th>\n",
       "      <td>158</td>\n",
       "      <td>Haas, Jay</td>\n",
       "      <td>1.030868</td>\n",
       "    </tr>\n",
       "    <tr>\n",
       "      <th>10</th>\n",
       "      <td>10</td>\n",
       "      <td>DiMarco, Chris</td>\n",
       "      <td>1.029360</td>\n",
       "    </tr>\n",
       "    <tr>\n",
       "      <th>49</th>\n",
       "      <td>49</td>\n",
       "      <td>Huston, John</td>\n",
       "      <td>1.028972</td>\n",
       "    </tr>\n",
       "    <tr>\n",
       "      <th>162</th>\n",
       "      <td>162</td>\n",
       "      <td>Mickelson, Phil</td>\n",
       "      <td>1.028511</td>\n",
       "    </tr>\n",
       "    <tr>\n",
       "      <th>3</th>\n",
       "      <td>3</td>\n",
       "      <td>Mediate, Rocco</td>\n",
       "      <td>1.028290</td>\n",
       "    </tr>\n",
       "    <tr>\n",
       "      <th>1</th>\n",
       "      <td>1</td>\n",
       "      <td>Forsman, Dan</td>\n",
       "      <td>1.028248</td>\n",
       "    </tr>\n",
       "    <tr>\n",
       "      <th>293</th>\n",
       "      <td>293</td>\n",
       "      <td>Clarke, Darren</td>\n",
       "      <td>1.028208</td>\n",
       "    </tr>\n",
       "    <tr>\n",
       "      <th>137</th>\n",
       "      <td>137</td>\n",
       "      <td>Sabbatini, Rory</td>\n",
       "      <td>1.027562</td>\n",
       "    </tr>\n",
       "    <tr>\n",
       "      <th>47</th>\n",
       "      <td>47</td>\n",
       "      <td>Funk, Fred</td>\n",
       "      <td>1.026363</td>\n",
       "    </tr>\n",
       "    <tr>\n",
       "      <th>61</th>\n",
       "      <td>61</td>\n",
       "      <td>Petrovic, Tim</td>\n",
       "      <td>1.026258</td>\n",
       "    </tr>\n",
       "    <tr>\n",
       "      <th>0</th>\n",
       "      <td>0</td>\n",
       "      <td>Estes, Bob</td>\n",
       "      <td>1.025766</td>\n",
       "    </tr>\n",
       "    <tr>\n",
       "      <th>107</th>\n",
       "      <td>107</td>\n",
       "      <td>Pampling, Rod</td>\n",
       "      <td>1.025642</td>\n",
       "    </tr>\n",
       "    <tr>\n",
       "      <th>6</th>\n",
       "      <td>6</td>\n",
       "      <td>Roberts, Loren</td>\n",
       "      <td>1.024768</td>\n",
       "    </tr>\n",
       "    <tr>\n",
       "      <th>112</th>\n",
       "      <td>112</td>\n",
       "      <td>Lonard, Peter</td>\n",
       "      <td>1.024142</td>\n",
       "    </tr>\n",
       "    <tr>\n",
       "      <th>83</th>\n",
       "      <td>83</td>\n",
       "      <td>Campbell, Chad</td>\n",
       "      <td>1.024055</td>\n",
       "    </tr>\n",
       "    <tr>\n",
       "      <th>24</th>\n",
       "      <td>24</td>\n",
       "      <td>Tataurangi, Phil</td>\n",
       "      <td>1.023364</td>\n",
       "    </tr>\n",
       "    <tr>\n",
       "      <th>...</th>\n",
       "      <td>...</td>\n",
       "      <td>...</td>\n",
       "      <td>...</td>\n",
       "    </tr>\n",
       "    <tr>\n",
       "      <th>2431</th>\n",
       "      <td>2431</td>\n",
       "      <td>Robbins, Kyle</td>\n",
       "      <td>NaN</td>\n",
       "    </tr>\n",
       "    <tr>\n",
       "      <th>2432</th>\n",
       "      <td>2432</td>\n",
       "      <td>Homan, Wes</td>\n",
       "      <td>NaN</td>\n",
       "    </tr>\n",
       "    <tr>\n",
       "      <th>2433</th>\n",
       "      <td>2433</td>\n",
       "      <td>Janneck, Frederick</td>\n",
       "      <td>NaN</td>\n",
       "    </tr>\n",
       "    <tr>\n",
       "      <th>2434</th>\n",
       "      <td>2434</td>\n",
       "      <td>Bryan, Wesley</td>\n",
       "      <td>NaN</td>\n",
       "    </tr>\n",
       "    <tr>\n",
       "      <th>2435</th>\n",
       "      <td>2435</td>\n",
       "      <td>Barbaree, Philip</td>\n",
       "      <td>NaN</td>\n",
       "    </tr>\n",
       "    <tr>\n",
       "      <th>2436</th>\n",
       "      <td>2436</td>\n",
       "      <td>Springer, Hayden</td>\n",
       "      <td>NaN</td>\n",
       "    </tr>\n",
       "    <tr>\n",
       "      <th>2437</th>\n",
       "      <td>2437</td>\n",
       "      <td>Lundberg, Mikael</td>\n",
       "      <td>NaN</td>\n",
       "    </tr>\n",
       "    <tr>\n",
       "      <th>2438</th>\n",
       "      <td>2438</td>\n",
       "      <td>Wattel, Romain</td>\n",
       "      <td>NaN</td>\n",
       "    </tr>\n",
       "    <tr>\n",
       "      <th>2439</th>\n",
       "      <td>2439</td>\n",
       "      <td>Stal, Gary</td>\n",
       "      <td>NaN</td>\n",
       "    </tr>\n",
       "    <tr>\n",
       "      <th>2440</th>\n",
       "      <td>2440</td>\n",
       "      <td>Wilkes-Krier, Patrick</td>\n",
       "      <td>NaN</td>\n",
       "    </tr>\n",
       "    <tr>\n",
       "      <th>2441</th>\n",
       "      <td>2441</td>\n",
       "      <td>Chuayprako, Thitiphan</td>\n",
       "      <td>NaN</td>\n",
       "    </tr>\n",
       "    <tr>\n",
       "      <th>2442</th>\n",
       "      <td>2442</td>\n",
       "      <td>Harkins, Brandon</td>\n",
       "      <td>NaN</td>\n",
       "    </tr>\n",
       "    <tr>\n",
       "      <th>2443</th>\n",
       "      <td>2443</td>\n",
       "      <td>Bulle, Kent</td>\n",
       "      <td>NaN</td>\n",
       "    </tr>\n",
       "    <tr>\n",
       "      <th>2444</th>\n",
       "      <td>2444</td>\n",
       "      <td>Chang, Derek</td>\n",
       "      <td>NaN</td>\n",
       "    </tr>\n",
       "    <tr>\n",
       "      <th>2445</th>\n",
       "      <td>2445</td>\n",
       "      <td>Soderberg, Sebastian</td>\n",
       "      <td>NaN</td>\n",
       "    </tr>\n",
       "    <tr>\n",
       "      <th>2446</th>\n",
       "      <td>2446</td>\n",
       "      <td>Anguiano, Mark</td>\n",
       "      <td>NaN</td>\n",
       "    </tr>\n",
       "    <tr>\n",
       "      <th>2447</th>\n",
       "      <td>2447</td>\n",
       "      <td>Burns, Sam</td>\n",
       "      <td>NaN</td>\n",
       "    </tr>\n",
       "    <tr>\n",
       "      <th>2448</th>\n",
       "      <td>2448</td>\n",
       "      <td>Edmondson, Zachary</td>\n",
       "      <td>NaN</td>\n",
       "    </tr>\n",
       "    <tr>\n",
       "      <th>2449</th>\n",
       "      <td>2449</td>\n",
       "      <td>Howe, T.J.</td>\n",
       "      <td>NaN</td>\n",
       "    </tr>\n",
       "    <tr>\n",
       "      <th>2450</th>\n",
       "      <td>2450</td>\n",
       "      <td>Hardy, Nick</td>\n",
       "      <td>NaN</td>\n",
       "    </tr>\n",
       "    <tr>\n",
       "      <th>2451</th>\n",
       "      <td>2451</td>\n",
       "      <td>Horsfield, Sam</td>\n",
       "      <td>NaN</td>\n",
       "    </tr>\n",
       "    <tr>\n",
       "      <th>2452</th>\n",
       "      <td>2452</td>\n",
       "      <td>Jordan, Austin</td>\n",
       "      <td>NaN</td>\n",
       "    </tr>\n",
       "    <tr>\n",
       "      <th>2453</th>\n",
       "      <td>2453</td>\n",
       "      <td>Raber, Tyler</td>\n",
       "      <td>NaN</td>\n",
       "    </tr>\n",
       "    <tr>\n",
       "      <th>2454</th>\n",
       "      <td>2454</td>\n",
       "      <td>Wise, Aaron</td>\n",
       "      <td>NaN</td>\n",
       "    </tr>\n",
       "    <tr>\n",
       "      <th>2455</th>\n",
       "      <td>2455</td>\n",
       "      <td>Crawford, Chris</td>\n",
       "      <td>NaN</td>\n",
       "    </tr>\n",
       "    <tr>\n",
       "      <th>2456</th>\n",
       "      <td>2456</td>\n",
       "      <td>Mueller, Kyle</td>\n",
       "      <td>NaN</td>\n",
       "    </tr>\n",
       "    <tr>\n",
       "      <th>2457</th>\n",
       "      <td>2457</td>\n",
       "      <td>Parker, Chase</td>\n",
       "      <td>NaN</td>\n",
       "    </tr>\n",
       "    <tr>\n",
       "      <th>2458</th>\n",
       "      <td>2458</td>\n",
       "      <td>Schembechler II, Richard</td>\n",
       "      <td>NaN</td>\n",
       "    </tr>\n",
       "    <tr>\n",
       "      <th>2459</th>\n",
       "      <td>2459</td>\n",
       "      <td>Stachler, Ryan</td>\n",
       "      <td>NaN</td>\n",
       "    </tr>\n",
       "    <tr>\n",
       "      <th>2460</th>\n",
       "      <td>2460</td>\n",
       "      <td>Suh, Justin</td>\n",
       "      <td>NaN</td>\n",
       "    </tr>\n",
       "  </tbody>\n",
       "</table>\n",
       "<p>2461 rows × 3 columns</p>\n",
       "</div>"
      ],
      "text/plain": [
       "      player_ind               player_name      rank\n",
       "12            12                Els, Ernie  1.064572\n",
       "277          277              Woods, Tiger  1.054180\n",
       "180          180                Weir, Mike  1.052314\n",
       "5              5               Price, Nick  1.046068\n",
       "27            27            Goosen, Retief  1.042702\n",
       "309          309             Barnes, Ricky  1.039788\n",
       "80            80              Pride, Dicky  1.038292\n",
       "198          198           Love III, Davis  1.037297\n",
       "13            13              Singh, Vijay  1.036344\n",
       "296          296             Fasth, Niclas  1.035564\n",
       "91            91               Herron, Tim  1.035397\n",
       "120          120          Frazar, Harrison  1.034528\n",
       "21            21                Furyk, Jim  1.032803\n",
       "172          172             Ames, Stephen  1.031566\n",
       "158          158                 Haas, Jay  1.030868\n",
       "10            10            DiMarco, Chris  1.029360\n",
       "49            49              Huston, John  1.028972\n",
       "162          162           Mickelson, Phil  1.028511\n",
       "3              3            Mediate, Rocco  1.028290\n",
       "1              1              Forsman, Dan  1.028248\n",
       "293          293            Clarke, Darren  1.028208\n",
       "137          137           Sabbatini, Rory  1.027562\n",
       "47            47                Funk, Fred  1.026363\n",
       "61            61             Petrovic, Tim  1.026258\n",
       "0              0                Estes, Bob  1.025766\n",
       "107          107             Pampling, Rod  1.025642\n",
       "6              6            Roberts, Loren  1.024768\n",
       "112          112             Lonard, Peter  1.024142\n",
       "83            83            Campbell, Chad  1.024055\n",
       "24            24          Tataurangi, Phil  1.023364\n",
       "...          ...                       ...       ...\n",
       "2431        2431             Robbins, Kyle       NaN\n",
       "2432        2432                Homan, Wes       NaN\n",
       "2433        2433        Janneck, Frederick       NaN\n",
       "2434        2434             Bryan, Wesley       NaN\n",
       "2435        2435          Barbaree, Philip       NaN\n",
       "2436        2436          Springer, Hayden       NaN\n",
       "2437        2437          Lundberg, Mikael       NaN\n",
       "2438        2438            Wattel, Romain       NaN\n",
       "2439        2439                Stal, Gary       NaN\n",
       "2440        2440     Wilkes-Krier, Patrick       NaN\n",
       "2441        2441     Chuayprako, Thitiphan       NaN\n",
       "2442        2442          Harkins, Brandon       NaN\n",
       "2443        2443               Bulle, Kent       NaN\n",
       "2444        2444              Chang, Derek       NaN\n",
       "2445        2445      Soderberg, Sebastian       NaN\n",
       "2446        2446            Anguiano, Mark       NaN\n",
       "2447        2447                Burns, Sam       NaN\n",
       "2448        2448        Edmondson, Zachary       NaN\n",
       "2449        2449                Howe, T.J.       NaN\n",
       "2450        2450               Hardy, Nick       NaN\n",
       "2451        2451            Horsfield, Sam       NaN\n",
       "2452        2452            Jordan, Austin       NaN\n",
       "2453        2453              Raber, Tyler       NaN\n",
       "2454        2454               Wise, Aaron       NaN\n",
       "2455        2455           Crawford, Chris       NaN\n",
       "2456        2456             Mueller, Kyle       NaN\n",
       "2457        2457             Parker, Chase       NaN\n",
       "2458        2458  Schembechler II, Richard       NaN\n",
       "2459        2459            Stachler, Ryan       NaN\n",
       "2460        2460               Suh, Justin       NaN\n",
       "\n",
       "[2461 rows x 3 columns]"
      ]
     },
     "execution_count": 215,
     "metadata": {},
     "output_type": "execute_result"
    }
   ],
   "source": [
    "pd.DataFrame({'player_ind':range(n_players),\n",
    "              'player_name':[inds_to_name[i] for i in range(n_players)],\n",
    "              'rank':ranks[0][-n_players:]}).sort_values('rank',ascending=False)"
   ]
  },
  {
   "cell_type": "code",
   "execution_count": 146,
   "metadata": {
    "collapsed": false
   },
   "outputs": [],
   "source": [
    "names_to_ind = {inds_to_name[key]:key for key in inds_to_name}"
   ]
  },
  {
   "cell_type": "code",
   "execution_count": 147,
   "metadata": {
    "collapsed": false
   },
   "outputs": [],
   "source": [
    "inds_to_plot = [names_to_ind['Woods, Tiger'],names_to_ind['Singh, Vijay']]"
   ]
  },
  {
   "cell_type": "code",
   "execution_count": 214,
   "metadata": {
    "collapsed": false,
    "scrolled": true
   },
   "outputs": [
    {
     "data": {
      "image/png": "[encoded data removed]",
      "text/plain": [
       "<matplotlib.figure.Figure at 0x11acb54d0>"
      ]
     },
     "metadata": {},
     "output_type": "display_data"
    }
   ],
   "source": [
    "for j in inds_to_plot:\n",
    "    plt.plot([ranks[i][j] for i in range(21)],label = inds_to_name[j]);\n",
    "plt.legend();\n",
    "\n",
    "# for i in [0,1]:\n",
    "#     plt.plot(with_8[i])\n",
    "#     plt.plot(with_9[i]);"
   ]
  },
  {
   "cell_type": "code",
   "execution_count": null,
   "metadata": {
    "collapsed": true
   },
   "outputs": [],
   "source": []
  }
 ],
 "metadata": {
  "kernelspec": {
   "display_name": "Python 2",
   "language": "python",
   "name": "python2"
  },
  "language_info": {
   "codemirror_mode": {
    "name": "ipython",
    "version": 2
   },
   "file_extension": ".py",
   "mimetype": "text/x-python",
   "name": "python",
   "nbconvert_exporter": "python",
   "pygments_lexer": "ipython2",
   "version": "2.7.11"
  }
 },
 "nbformat": 4,
 "nbformat_minor": 0
}
