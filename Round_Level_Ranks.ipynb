{
 "cells": [
  {
   "cell_type": "code",
   "execution_count": 127,
   "metadata": {
    "collapsed": false
   },
   "outputs": [],
   "source": [
    "import pandas as pd\n",
    "import numpy as np\n",
    "import math\n",
    "import matplotlib.pyplot as plt\n",
    "from scipy.sparse import csc_matrix,eye,bmat\n",
    "from scipy.sparse.linalg import eigs,gmres\n",
    "from scipy.stats import norm\n",
    "from sklearn.linear_model import LinearRegression\n",
    "from sklearn.isotonic import IsotonicRegression\n",
    "%matplotlib inline"
   ]
  },
  {
   "cell_type": "code",
   "execution_count": 128,
   "metadata": {
    "collapsed": false
   },
   "outputs": [],
   "source": [
    "data = pd.read_csv('data/round_train.csv')\n",
    "data1 = pd.read_csv('data/round_test.csv',header=None)\n",
    "data1.columns = data.columns\n",
    "data = pd.concat([data,data1])"
   ]
  },
  {
   "cell_type": "code",
   "execution_count": 129,
   "metadata": {
    "collapsed": false,
    "scrolled": true
   },
   "outputs": [
    {
     "data": {
      "text/plain": [
       "(231125, 12)"
      ]
     },
     "execution_count": 129,
     "metadata": {},
     "output_type": "execute_result"
    }
   ],
   "source": [
    "data.shape"
   ]
  },
  {
   "cell_type": "code",
   "execution_count": 130,
   "metadata": {
    "collapsed": false,
    "scrolled": true
   },
   "outputs": [
    {
     "data": {
      "text/html": [
       "<div>\n",
       "<table border=\"1\" class=\"dataframe\">\n",
       "  <thead>\n",
       "    <tr style=\"text-align: right;\">\n",
       "      <th></th>\n",
       "      <th>Tournament_Year</th>\n",
       "      <th>Tournament_#</th>\n",
       "      <th>Permanent_Tournament_#</th>\n",
       "      <th>Course_#</th>\n",
       "      <th>Player_Number</th>\n",
       "      <th>Player_Name</th>\n",
       "      <th>Round_Number</th>\n",
       "      <th>Tee_Time</th>\n",
       "      <th>Round_Score</th>\n",
       "      <th>End_of_Event_Pos._(text)</th>\n",
       "      <th>Finishing_Pos</th>\n",
       "      <th>Finishing_Pct</th>\n",
       "    </tr>\n",
       "  </thead>\n",
       "  <tbody>\n",
       "    <tr>\n",
       "      <th>0</th>\n",
       "      <td>2003</td>\n",
       "      <td>10</td>\n",
       "      <td>16</td>\n",
       "      <td>656</td>\n",
       "      <td>1320</td>\n",
       "      <td>Estes, Bob</td>\n",
       "      <td>1</td>\n",
       "      <td>11:50</td>\n",
       "      <td>66</td>\n",
       "      <td>T6</td>\n",
       "      <td>7.5</td>\n",
       "      <td>0.197917</td>\n",
       "    </tr>\n",
       "    <tr>\n",
       "      <th>1</th>\n",
       "      <td>2003</td>\n",
       "      <td>10</td>\n",
       "      <td>16</td>\n",
       "      <td>656</td>\n",
       "      <td>1361</td>\n",
       "      <td>Forsman, Dan</td>\n",
       "      <td>1</td>\n",
       "      <td>11:00</td>\n",
       "      <td>69</td>\n",
       "      <td>T21</td>\n",
       "      <td>22.0</td>\n",
       "      <td>0.600694</td>\n",
       "    </tr>\n",
       "    <tr>\n",
       "      <th>2</th>\n",
       "      <td>2003</td>\n",
       "      <td>10</td>\n",
       "      <td>16</td>\n",
       "      <td>656</td>\n",
       "      <td>1761</td>\n",
       "      <td>Mattiace, Len</td>\n",
       "      <td>1</td>\n",
       "      <td>13:00</td>\n",
       "      <td>75</td>\n",
       "      <td>24</td>\n",
       "      <td>24.0</td>\n",
       "      <td>0.656250</td>\n",
       "    </tr>\n",
       "    <tr>\n",
       "      <th>3</th>\n",
       "      <td>2003</td>\n",
       "      <td>10</td>\n",
       "      <td>16</td>\n",
       "      <td>656</td>\n",
       "      <td>1797</td>\n",
       "      <td>Mediate, Rocco</td>\n",
       "      <td>1</td>\n",
       "      <td>12:10</td>\n",
       "      <td>72</td>\n",
       "      <td>T2</td>\n",
       "      <td>2.5</td>\n",
       "      <td>0.059028</td>\n",
       "    </tr>\n",
       "    <tr>\n",
       "      <th>4</th>\n",
       "      <td>2003</td>\n",
       "      <td>10</td>\n",
       "      <td>16</td>\n",
       "      <td>656</td>\n",
       "      <td>1920</td>\n",
       "      <td>Parry, Craig</td>\n",
       "      <td>1</td>\n",
       "      <td>11:20</td>\n",
       "      <td>71</td>\n",
       "      <td>T25</td>\n",
       "      <td>26.5</td>\n",
       "      <td>0.725694</td>\n",
       "    </tr>\n",
       "  </tbody>\n",
       "</table>\n",
       "</div>"
      ],
      "text/plain": [
       "   Tournament_Year  Tournament_#  Permanent_Tournament_#  Course_#  \\\n",
       "0             2003            10                      16       656   \n",
       "1             2003            10                      16       656   \n",
       "2             2003            10                      16       656   \n",
       "3             2003            10                      16       656   \n",
       "4             2003            10                      16       656   \n",
       "\n",
       "   Player_Number     Player_Name  Round_Number Tee_Time  Round_Score  \\\n",
       "0           1320      Estes, Bob             1    11:50           66   \n",
       "1           1361    Forsman, Dan             1    11:00           69   \n",
       "2           1761   Mattiace, Len             1    13:00           75   \n",
       "3           1797  Mediate, Rocco             1    12:10           72   \n",
       "4           1920    Parry, Craig             1    11:20           71   \n",
       "\n",
       "  End_of_Event_Pos._(text)  Finishing_Pos  Finishing_Pct  \n",
       "0                       T6            7.5       0.197917  \n",
       "1                      T21           22.0       0.600694  \n",
       "2                       24           24.0       0.656250  \n",
       "3                       T2            2.5       0.059028  \n",
       "4                      T25           26.5       0.725694  "
      ]
     },
     "execution_count": 130,
     "metadata": {},
     "output_type": "execute_result"
    }
   ],
   "source": [
    "data.head()"
   ]
  },
  {
   "cell_type": "code",
   "execution_count": 131,
   "metadata": {
    "collapsed": false
   },
   "outputs": [],
   "source": [
    "inds = {num:ind for ind,num in enumerate(pd.unique(data.Player_Number))}"
   ]
  },
  {
   "cell_type": "code",
   "execution_count": 132,
   "metadata": {
    "collapsed": false,
    "scrolled": true
   },
   "outputs": [],
   "source": [
    "data.insert(5,'Player_Index',[inds[num] for num in data.Player_Number])"
   ]
  },
  {
   "cell_type": "code",
   "execution_count": 176,
   "metadata": {
    "collapsed": false
   },
   "outputs": [],
   "source": [
    "rounds = data.groupby(['Tournament_Year','Permanent_Tournament_#','Round_Number','Course_#'])"
   ]
  },
  {
   "cell_type": "code",
   "execution_count": 134,
   "metadata": {
    "collapsed": true
   },
   "outputs": [],
   "source": [
    "n_players = len(pd.unique(data.Player_Index))\n",
    "n_rounds = len(rounds)"
   ]
  },
  {
   "cell_type": "code",
   "execution_count": 135,
   "metadata": {
    "collapsed": false
   },
   "outputs": [
    {
     "name": "stdout",
     "output_type": "stream",
     "text": [
      "2461 2549\n"
     ]
    }
   ],
   "source": [
    "print n_players,n_rounds"
   ]
  },
  {
   "cell_type": "code",
   "execution_count": 136,
   "metadata": {
    "collapsed": true
   },
   "outputs": [],
   "source": [
    "def alpha(A,a):\n",
    "    w,v = eigs(A,k=1,which='LM')\n",
    "    return a/w[0].real"
   ]
  },
  {
   "cell_type": "code",
   "execution_count": 137,
   "metadata": {
    "collapsed": true
   },
   "outputs": [],
   "source": [
    "def load_sparse_csc(filename):\n",
    "    loader = np.load(filename)\n",
    "    return csc_matrix((  loader['data'], loader['indices'], loader['indptr']),\n",
    "                         shape = loader['shape'])"
   ]
  },
  {
   "cell_type": "code",
   "execution_count": 138,
   "metadata": {
    "collapsed": true
   },
   "outputs": [],
   "source": [
    "def my_norm(x,BETA):\n",
    "    return norm.pdf(x,0,BETA)/norm.pdf(0,0,BETA)"
   ]
  },
  {
   "cell_type": "code",
   "execution_count": 220,
   "metadata": {
    "collapsed": true
   },
   "outputs": [],
   "source": [
    "cmats = {}\n",
    "def inflate(round_group,bin_size,BETA,window_size):\n",
    "    n_round_groups = int(math.ceil(n_rounds/float(bin_size)))\n",
    "    mat = csc_matrix((n_players*n_round_groups,n_players),dtype=float)\n",
    "    mat_1 = csc_matrix((n_players*n_round_groups,n_players),dtype=float)\n",
    "    for j in range(bin_size):\n",
    "        mat += bmat([[load_sparse_csc('rounds/%d.npz' % (round_group*j))*my_norm(round_group-k,BETA)] for k in range(1,n_round_groups+1)],format='csc')\n",
    "        mat_1 += bmat([[(load_sparse_csc('rounds/%d.npz' % (round_group*j))!=0).astype(float)*my_norm(round_group-k,BETA)] for k in range(1,n_round_groups+1)],format='csc')\n",
    "    cmats[round_group] = (mat,mat_1)\n",
    "#     if round_group>window_size and round_group%5:\n",
    "#         for i in range(1,round_group+1):\n",
    "#             inflate.__dict__[round_group] = (inflate.__dict__[round_group][0][n_players:],inflate.__dict__[round_group][1][n_players:])\n",
    "    if round_group==1:\n",
    "        inflate.__dict__['main_mat'] = cmats[1][0][0:n_players]\n",
    "        inflate.__dict__['main_mat1'] = cmats[1][1][0:n_players]\n",
    "    else:\n",
    "        temp = bmat([[cmats[i][0][n_players*(round_group-1):n_players*round_group] for i in range(max(1,round_group-window_size+1),round_group)]],format='csc')\n",
    "        temp1 = bmat([[cmats[i][1][n_players*(round_group-1):n_players*round_group] for i in range(max(1,round_group-window_size+1),round_group)]],format='csc')\n",
    "        inflate.__dict__['main_mat'] = bmat([[inflate.__dict__['main_mat'][n_players if round_group>window_size else 0:,n_players if round_group>window_size else 0:],cmats[round_group][0][max(0,round_group-window_size)*n_players:n_players*(round_group-1)]],\n",
    "                                             [temp,cmats[round_group][0][n_players*(round_group-1):n_players*round_group]]],format='csc')\n",
    "        inflate.__dict__['main_mat1'] = bmat([[inflate.__dict__['main_mat1'][n_players if round_group>window_size else 0:,n_players if round_group>window_size else 0:],cmats[round_group][1][max(0,round_group-window_size)*n_players:n_players*(round_group-1)]],\n",
    "                                             [temp,cmats[round_group][1][n_players*(round_group-1):n_players*round_group]]],format='csc')\n",
    "    return (inflate.__dict__['main_mat'],inflate.__dict__['main_mat1'])"
   ]
  },
  {
   "cell_type": "code",
   "execution_count": 221,
   "metadata": {
    "collapsed": false
   },
   "outputs": [],
   "source": [
    "def solve(mat,mat_1,a,x_guess=None,x_guess1=None):\n",
    "    S = eye(mat.shape[0],format='csc')-alpha(mat,a)*mat\n",
    "    w_a = gmres(S,mat.sum(1),x0=x_guess)[0]\n",
    "    solve.w_a = w_a\n",
    "    \n",
    "    S = eye(mat_1.shape[0],format='csc')-alpha(mat_1,a)*mat_1\n",
    "    w_g = gmres(S,mat_1.sum(1),x0=x_guess1)[0]\n",
    "    solve.w_g = w_g\n",
    "    \n",
    "    return ((w_a/w_g)[-n_players:],w_g[-n_players:])"
   ]
  },
  {
   "cell_type": "code",
   "execution_count": 222,
   "metadata": {
    "collapsed": false,
    "scrolled": true
   },
   "outputs": [
    {
     "name": "stdout",
     "output_type": "stream",
     "text": [
      "160\n",
      "Round Group 1 done\n",
      "Round Group 2 done\n",
      "Round Group 3 done\n",
      "Round Group 4 done\n",
      "Round Group 5 done\n",
      "Round Group 6 done\n",
      "Round Group 7 done\n",
      "Round Group 8 done\n",
      "Round Group 9 done\n",
      "Round Group 10 done\n",
      "Round Group 11 done\n",
      "Round Group 12 done\n",
      "Round Group 13 done\n",
      "Round Group 14 done\n",
      "Round Group 15 done\n",
      "Round Group 16 done\n",
      "Round Group 17 done\n",
      "Round Group 18 done\n",
      "Round Group 19 done\n",
      "Round Group 20 done\n",
      "Round Group 21 done\n",
      "Round Group 22 done\n",
      "Round Group 23 done\n",
      "Round Group 24 done\n",
      "Round Group 25 done\n",
      "Round Group 26 done\n",
      "Round Group 27 done\n",
      "Round Group 28 done\n",
      "Round Group 29 done\n",
      "Round Group 30 done\n",
      "Round Group 31 done\n",
      "Round Group 32 done\n",
      "Round Group 33 done\n",
      "Round Group 34 done\n",
      "Round Group 35 done\n",
      "Round Group 36 done\n",
      "Round Group 37 done\n",
      "Round Group 38 done\n",
      "Round Group 39 done\n",
      "Round Group 40 done\n",
      "Round Group 41 done\n",
      "Round Group 42 done\n",
      "Round Group 43 done\n",
      "Round Group 44 done\n",
      "Round Group 45 done\n",
      "Round Group 46 done\n",
      "Round Group 47 done\n",
      "Round Group 48 done\n",
      "Round Group 49 done\n",
      "Round Group 50 done\n",
      "Round Group 51 done\n",
      "Round Group 52 done\n",
      "Round Group 53 done\n",
      "Round Group 54 done\n",
      "Round Group 55 done\n",
      "Round Group 56 done\n",
      "Round Group 57 done\n",
      "Round Group 58 done\n",
      "Round Group 59 done\n",
      "Round Group 60 done\n",
      "Round Group 61 done\n",
      "Round Group 62 done\n",
      "Round Group 63 done\n",
      "Round Group 64 done\n",
      "Round Group 65 done\n",
      "Round Group 66 done\n",
      "Round Group 67 done\n",
      "Round Group 68 done\n",
      "Round Group 69 done\n",
      "Round Group 70 done\n",
      "Round Group 71 done\n",
      "Round Group 72 done\n",
      "Round Group 73 done\n",
      "Round Group 74 done\n",
      "Round Group 75 done\n",
      "Round Group 76 done\n",
      "Round Group 77 done\n",
      "Round Group 78 done\n",
      "Round Group 79 done\n",
      "Round Group 80 done\n",
      "Round Group 81 done\n",
      "Round Group 82 done\n",
      "Round Group 83 done\n",
      "Round Group 84 done\n",
      "Round Group 85 done\n",
      "Round Group 86 done\n",
      "Round Group 87 done\n",
      "Round Group 88 done\n",
      "Round Group 89 done\n",
      "Round Group 90 done\n",
      "Round Group 91 done\n",
      "Round Group 92 done\n",
      "Round Group 93 done\n",
      "Round Group 94 done\n",
      "Round Group 95 done\n",
      "Round Group 96 done\n",
      "Round Group 97 done\n",
      "Round Group 98 done\n",
      "Round Group 99 done\n",
      "Round Group 100 done\n",
      "Round Group 101 done\n",
      "Round Group 102 done\n",
      "Round Group 103 done\n",
      "Round Group 104 done\n",
      "Round Group 105 done\n",
      "Round Group 106 done\n",
      "Round Group 107 done\n",
      "Round Group 108 done\n",
      "Round Group 109 done\n",
      "Round Group 110 done\n",
      "Round Group 111 done\n",
      "Round Group 112 done\n",
      "Round Group 113 done\n",
      "Round Group 114 done\n",
      "Round Group 115 done\n",
      "Round Group 116 done\n",
      "Round Group 117 done\n",
      "Round Group 118 done\n",
      "Round Group 119 done\n",
      "Round Group 120 done\n",
      "Round Group 121 done\n",
      "Round Group 122 done\n",
      "Round Group 123 done\n",
      "Round Group 124 done\n",
      "Round Group 125 done\n",
      "Round Group 126 done\n",
      "Round Group 127 done\n",
      "Round Group 128 done\n",
      "Round Group 129 done\n",
      "Round Group 130 done\n",
      "Round Group 131 done\n",
      "Round Group 132 done\n",
      "Round Group 133 done\n",
      "Round Group 134 done\n",
      "Round Group 135 done\n",
      "Round Group 136 done\n",
      "Round Group 137 done\n",
      "Round Group 138 done\n",
      "Round Group 139 done\n",
      "Round Group 140 done\n",
      "Round Group 141 done\n",
      "Round Group 142 done\n",
      "Round Group 143 done\n",
      "Round Group 144 done\n",
      "Round Group 145 done\n",
      "Round Group 146 done\n",
      "Round Group 147 done\n",
      "Round Group 148 done\n",
      "Round Group 149 done\n",
      "Round Group 150 done\n",
      "Round Group 151 done\n",
      "Round Group 152 done\n",
      "Round Group 153 done\n",
      "Round Group 154 done\n",
      "Round Group 155 done\n",
      "Round Group 156 done\n",
      "Round Group 157 done\n",
      "Round Group 158 done\n",
      "Round Group 159 done\n"
     ]
    }
   ],
   "source": [
    "ranks,reps = [],[]\n",
    "BETA = 7\n",
    "a = .8\n",
    "bin_size = 16\n",
    "window_size = 30\n",
    "n_round_groups = int(math.ceil(n_rounds/float(bin_size)))\n",
    "print n_round_groups\n",
    "current_group = 0\n",
    "tournaments=[set()]\n",
    "for round_ind,df in enumerate(rounds):\n",
    "    df = df[1]\n",
    "    round_group = round_ind/bin_size\n",
    "    if round_group>current_group:\n",
    "        A,G = inflate(round_group,bin_size,BETA,window_size)\n",
    "        if current_group==0:\n",
    "            rank,rep = solve(A,G,a)\n",
    "            ranks.append(rank)\n",
    "            reps.append(rep)\n",
    "            print 'Round Group %d done' % round_group\n",
    "            current_group = round_group\n",
    "            tournaments.append(set())\n",
    "        else:\n",
    "            w_a_approx = np.append(solve.w_a[0 if round_group<=window_size else n_players:],solve.w_a[-n_players:])\n",
    "            w_g_approx = np.append(solve.w_g[0 if round_group<=window_size else n_players:],solve.w_g[-n_players:])\n",
    "            rank,rep = solve(A,G,a,w_a_approx,w_g_approx)\n",
    "            ranks.append(rank)\n",
    "            reps.append(rep)\n",
    "            print 'Round Group %d done' % round_group\n",
    "            current_group = round_group\n",
    "            tournaments.append(set())\n",
    "    tournaments[current_group].update([df.iloc[0]['Permanent_Tournament_#']])"
   ]
  },
  {
   "cell_type": "code",
   "execution_count": 223,
   "metadata": {
    "collapsed": true
   },
   "outputs": [],
   "source": [
    "import pickle"
   ]
  },
  {
   "cell_type": "code",
   "execution_count": 224,
   "metadata": {
    "collapsed": true
   },
   "outputs": [],
   "source": [
    "with open('tournaments.pkl', 'w') as picklefile:\n",
    "    pickle.dump(tournaments, picklefile)\n",
    "\n",
    "with open('ranks.pkl', 'w') as picklefile:\n",
    "    pickle.dump(ranks, picklefile)\n",
    "    \n",
    "with open('reps.pkl', 'w') as picklefile:\n",
    "    pickle.dump(reps, picklefile)"
   ]
  },
  {
   "cell_type": "code",
   "execution_count": null,
   "metadata": {
    "collapsed": true
   },
   "outputs": [],
   "source": [
    "with open(\"my_data.pkl\", 'r') as picklefile: \n",
    "    my_old_data = pickle.load(picklefile)"
   ]
  },
  {
   "cell_type": "code",
   "execution_count": 16,
   "metadata": {
    "collapsed": true
   },
   "outputs": [],
   "source": [
    "for i in range(1,len(tournaments)):\n",
    "    tournaments[i] = tournaments[i]-tournaments[i-1]"
   ]
  },
  {
   "cell_type": "code",
   "execution_count": 17,
   "metadata": {
    "collapsed": false,
    "scrolled": true
   },
   "outputs": [
    {
     "data": {
      "text/plain": [
       "[{2, 3, 6, 16},\n",
       " {1, 4, 5, 7},\n",
       " {8, 9, 10, 11},\n",
       " {12, 14, 20, 22},\n",
       " {18, 19, 21, 480},\n",
       " {23, 24, 26, 27},\n",
       " {25, 28, 29, 37},\n",
       " {33, 34, 35, 100},\n",
       " {32, 472, 476, 505},\n",
       " {30, 41, 54, 474},\n",
       " {13, 45, 47, 473},\n",
       " {6, 16, 60, 475},\n",
       " {2, 3, 4, 5},\n",
       " {1, 7, 8, 10},\n",
       " {9, 11, 14, 22},\n",
       " {12, 18, 20, 480},\n",
       " {19, 21, 23, 25},\n",
       " {24, 26, 27, 28},\n",
       " {29, 30, 37, 100},\n",
       " {33, 35, 472, 476},\n",
       " {32, 34, 41, 505},\n",
       " {47, 54, 473, 474},\n",
       " {13, 45, 60, 475},\n",
       " {2, 4, 6, 16},\n",
       " {1, 3, 5, 7},\n",
       " {8, 9, 10, 11},\n",
       " {12, 14, 20, 22},\n",
       " {18, 19, 21, 480},\n",
       " {23, 24, 25, 26},\n",
       " {27, 28, 30, 37},\n",
       " {29, 33, 35, 100},\n",
       " {34, 472, 476, 505},\n",
       " {13, 32, 41, 474},\n",
       " {45, 47, 473, 475},\n",
       " {6, 16, 54, 60},\n",
       " {2, 3, 4, 5},\n",
       " {1, 7, 8, 10},\n",
       " {9, 11, 14, 22},\n",
       " {12, 18, 20, 480},\n",
       " {19, 21, 23, 25},\n",
       " {24, 26, 27, 34},\n",
       " {28, 30, 37, 100},\n",
       " {29, 33, 35, 472},\n",
       " {32, 474, 476, 505},\n",
       " {13, 41, 54, 473},\n",
       " {45, 47, 60, 475},\n",
       " {2, 4, 6, 16},\n",
       " {3, 5, 7, 457},\n",
       " {9, 10, 473, 475},\n",
       " {12, 14, 18, 20},\n",
       " {11, 19, 22, 480},\n",
       " {21, 23, 25, 26},\n",
       " {30, 34, 35, 471},\n",
       " {29, 32, 100, 472},\n",
       " {13, 27, 33, 476},\n",
       " {28, 60, 481, 505},\n",
       " {41, 47, 54, 464},\n",
       " {6, 16, 45, 482},\n",
       " {2, 3, 4},\n",
       " {5, 7, 10, 457},\n",
       " {9, 473, 475, 483},\n",
       " {12, 14, 18, 20},\n",
       " {11, 19, 22, 480},\n",
       " {21, 23, 25, 26},\n",
       " {30, 34, 35, 471},\n",
       " {29, 32, 100, 472},\n",
       " {13, 27, 33, 476},\n",
       " {28, 54, 60, 505},\n",
       " {41, 47, 464, 481},\n",
       " {6, 16, 45, 482},\n",
       " {2, 3, 4, 5},\n",
       " {7, 10, 457, 483},\n",
       " {9, 20, 473, 475},\n",
       " {12, 14, 18, 480},\n",
       " {11, 19, 21, 41},\n",
       " {23, 25, 26, 34},\n",
       " {29, 30, 100, 471},\n",
       " {32, 35, 472, 476},\n",
       " {13, 27, 33, 505},\n",
       " {28, 47, 60, 481},\n",
       " {6, 16, 45, 464},\n",
       " {2, 4, 5, 7},\n",
       " {3, 10, 457, 483},\n",
       " {9, 20, 473, 475},\n",
       " {12, 14, 18, 480},\n",
       " {11, 19, 21, 41},\n",
       " {23, 25, 26, 34},\n",
       " {30, 100, 471, 472},\n",
       " {32, 476, 481, 490},\n",
       " {13, 27, 33, 505},\n",
       " {28, 54, 60, 493},\n",
       " {16, 45, 47, 464},\n",
       " {2, 3, 4, 6},\n",
       " {5, 7, 10, 457},\n",
       " {9, 473, 475, 483},\n",
       " {12, 14, 20, 41},\n",
       " {11, 18, 21, 480},\n",
       " {19, 23, 25, 26},\n",
       " {30, 34, 54, 471},\n",
       " {32, 100, 472, 490},\n",
       " {13, 27, 33, 476},\n",
       " {28, 47, 60, 505},\n",
       " {16, 45, 464, 493}]"
      ]
     },
     "execution_count": 17,
     "metadata": {},
     "output_type": "execute_result"
    }
   ],
   "source": [
    "tournaments"
   ]
  },
  {
   "cell_type": "code",
   "execution_count": 18,
   "metadata": {
    "collapsed": true
   },
   "outputs": [],
   "source": [
    "ols = LinearRegression()\n",
    "iso = IsotonicRegression(increasing=False)"
   ]
  },
  {
   "cell_type": "code",
   "execution_count": 19,
   "metadata": {
    "collapsed": false
   },
   "outputs": [
    {
     "data": {
      "image/png": "[encoded data removed]",
      "text/plain": [
       "<matplotlib.figure.Figure at 0x7fdcb39428d0>"
      ]
     },
     "metadata": {},
     "output_type": "display_data"
    }
   ],
   "source": [
    "ratings,outcomes = [],[]\n",
    "for t_ind in range(1,len(tournaments)):\n",
    "    sub = data[data['Permanent_Tournament_#'].isin(tournaments[t_ind])]\n",
    "    df1 = pd.DataFrame(sub.groupby(['Player_Index','Permanent_Tournament_#'],as_index=False)['Finishing_Pct'].mean())\n",
    "    df1 = pd.DataFrame(df1.groupby('Player_Index')['Finishing_Pct'].mean())\n",
    "    df2 = pd.DataFrame(ranks[t_ind-1],columns=['rating'])\n",
    "    df = df1.merge(df2,left_index=True,right_index=True).dropna()\n",
    "    ratings += df.rating.values.tolist()\n",
    "    outcomes += df.Finishing_Pct.values.tolist()\n",
    "a,b = .7,.3\n",
    "for i in range(len(ranks)):\n",
    "    df = pd.DataFrame({'rank':ranks[i],'reps':reps[i]})\n",
    "    pct_reps = pd.Series(reps[i][reps[i]!=0]).rank(pct=True).tolist()\n",
    "    df.insert(len(df.columns),'pct_reps',[0]*len(df))\n",
    "    df.ix[df.reps!=0,'reps_pct'] = pct_reps\n",
    "    df.insert(len(df.columns),'coeff',[sph(rep_pct,a,b) for rep_pct in df.reps_pct])\n",
    "    df.insert(len(df.columns),'new_rank',df['rank']*df.coeff)\n",
    "ratings,outcomes = np.array(ratings),np.array(outcomes)\n",
    "ols.fit(ratings[:,None],outcomes)\n",
    "iso.fit(ratings,outcomes)\n",
    "predictions_o = ols.predict(np.sort(ratings)[:,None])\n",
    "predictions_i = iso.predict(np.sort(ratings))\n",
    "plt.scatter(ratings,outcomes,alpha=.02)\n",
    "plt.plot(np.sort(ratings),predictions_o)\n",
    "plt.plot(np.sort(ratings),predictions_i)\n",
    "plt.show()"
   ]
  },
  {
   "cell_type": "code",
   "execution_count": 20,
   "metadata": {
    "collapsed": false
   },
   "outputs": [
    {
     "data": {
      "text/plain": [
       "array([[ 1.        , -0.50523043],\n",
       "       [-0.50523043,  1.        ]])"
      ]
     },
     "execution_count": 20,
     "metadata": {},
     "output_type": "execute_result"
    }
   ],
   "source": [
    "np.corrcoef(ratings,outcomes)"
   ]
  },
  {
   "cell_type": "code",
   "execution_count": 21,
   "metadata": {
    "collapsed": false
   },
   "outputs": [],
   "source": [
    "inds_to_name = {i:data[data.Player_Index==i].iloc[0].Player_Name for i in range(n_players)}"
   ]
  },
  {
   "cell_type": "code",
   "execution_count": 22,
   "metadata": {
    "collapsed": false,
    "scrolled": true
   },
   "outputs": [
    {
     "data": {
      "text/html": [
       "<div>\n",
       "<table border=\"1\" class=\"dataframe\">\n",
       "  <thead>\n",
       "    <tr style=\"text-align: right;\">\n",
       "      <th></th>\n",
       "      <th>player_ind</th>\n",
       "      <th>player_name</th>\n",
       "      <th>rank</th>\n",
       "    </tr>\n",
       "  </thead>\n",
       "  <tbody>\n",
       "    <tr>\n",
       "      <th>897</th>\n",
       "      <td>897</td>\n",
       "      <td>Siem, Marcel</td>\n",
       "      <td>1.105869</td>\n",
       "    </tr>\n",
       "    <tr>\n",
       "      <th>1341</th>\n",
       "      <td>1341</td>\n",
       "      <td>Zanotti, Fabrizio</td>\n",
       "      <td>1.103857</td>\n",
       "    </tr>\n",
       "    <tr>\n",
       "      <th>860</th>\n",
       "      <td>860</td>\n",
       "      <td>Bradshaw, Paul</td>\n",
       "      <td>1.095167</td>\n",
       "    </tr>\n",
       "    <tr>\n",
       "      <th>841</th>\n",
       "      <td>841</td>\n",
       "      <td>Felton, Kim</td>\n",
       "      <td>1.095167</td>\n",
       "    </tr>\n",
       "    <tr>\n",
       "      <th>543</th>\n",
       "      <td>543</td>\n",
       "      <td>Brier, Markus</td>\n",
       "      <td>1.084193</td>\n",
       "    </tr>\n",
       "    <tr>\n",
       "      <th>1795</th>\n",
       "      <td>1795</td>\n",
       "      <td>Langley, Scott</td>\n",
       "      <td>1.083864</td>\n",
       "    </tr>\n",
       "    <tr>\n",
       "      <th>1004</th>\n",
       "      <td>1004</td>\n",
       "      <td>Parel, Scott</td>\n",
       "      <td>1.081456</td>\n",
       "    </tr>\n",
       "    <tr>\n",
       "      <th>877</th>\n",
       "      <td>877</td>\n",
       "      <td>Coston, Jeff</td>\n",
       "      <td>1.076565</td>\n",
       "    </tr>\n",
       "    <tr>\n",
       "      <th>1836</th>\n",
       "      <td>1836</td>\n",
       "      <td>Lee, Beon Yeong</td>\n",
       "      <td>1.069812</td>\n",
       "    </tr>\n",
       "    <tr>\n",
       "      <th>828</th>\n",
       "      <td>828</td>\n",
       "      <td>Lane, Barry</td>\n",
       "      <td>1.068430</td>\n",
       "    </tr>\n",
       "    <tr>\n",
       "      <th>1791</th>\n",
       "      <td>1791</td>\n",
       "      <td>Preeo, Jason</td>\n",
       "      <td>1.068327</td>\n",
       "    </tr>\n",
       "    <tr>\n",
       "      <th>1074</th>\n",
       "      <td>1074</td>\n",
       "      <td>Saltman, Lloyd</td>\n",
       "      <td>1.067766</td>\n",
       "    </tr>\n",
       "    <tr>\n",
       "      <th>520</th>\n",
       "      <td>520</td>\n",
       "      <td>McNulty, Mark</td>\n",
       "      <td>1.061757</td>\n",
       "    </tr>\n",
       "    <tr>\n",
       "      <th>1771</th>\n",
       "      <td>1771</td>\n",
       "      <td>Noh, Seung-Yul</td>\n",
       "      <td>1.061012</td>\n",
       "    </tr>\n",
       "    <tr>\n",
       "      <th>1060</th>\n",
       "      <td>1060</td>\n",
       "      <td>Marshall, Andrew</td>\n",
       "      <td>1.059693</td>\n",
       "    </tr>\n",
       "    <tr>\n",
       "      <th>522</th>\n",
       "      <td>522</td>\n",
       "      <td>Muntz, Rolf</td>\n",
       "      <td>1.058739</td>\n",
       "    </tr>\n",
       "    <tr>\n",
       "      <th>1209</th>\n",
       "      <td>1209</td>\n",
       "      <td>Bare, Andy</td>\n",
       "      <td>1.058292</td>\n",
       "    </tr>\n",
       "    <tr>\n",
       "      <th>537</th>\n",
       "      <td>537</td>\n",
       "      <td>Mednick, Adam</td>\n",
       "      <td>1.055362</td>\n",
       "    </tr>\n",
       "    <tr>\n",
       "      <th>1549</th>\n",
       "      <td>1549</td>\n",
       "      <td>Noren, Alexander</td>\n",
       "      <td>1.054452</td>\n",
       "    </tr>\n",
       "    <tr>\n",
       "      <th>1385</th>\n",
       "      <td>1385</td>\n",
       "      <td>Davies, Rhys</td>\n",
       "      <td>1.053913</td>\n",
       "    </tr>\n",
       "    <tr>\n",
       "      <th>1818</th>\n",
       "      <td>1818</td>\n",
       "      <td>Kim, K.T.</td>\n",
       "      <td>1.053606</td>\n",
       "    </tr>\n",
       "    <tr>\n",
       "      <th>1831</th>\n",
       "      <td>1831</td>\n",
       "      <td>Hadwin, Adam</td>\n",
       "      <td>1.053560</td>\n",
       "    </tr>\n",
       "    <tr>\n",
       "      <th>1562</th>\n",
       "      <td>1562</td>\n",
       "      <td>Sherreard, Thomas</td>\n",
       "      <td>1.051762</td>\n",
       "    </tr>\n",
       "    <tr>\n",
       "      <th>1704</th>\n",
       "      <td>1704</td>\n",
       "      <td>Kang, Anthony</td>\n",
       "      <td>1.049759</td>\n",
       "    </tr>\n",
       "    <tr>\n",
       "      <th>752</th>\n",
       "      <td>752</td>\n",
       "      <td>Schwamkrug, Victor</td>\n",
       "      <td>1.048086</td>\n",
       "    </tr>\n",
       "    <tr>\n",
       "      <th>838</th>\n",
       "      <td>838</td>\n",
       "      <td>Erlandsson, Martin</td>\n",
       "      <td>1.048058</td>\n",
       "    </tr>\n",
       "    <tr>\n",
       "      <th>530</th>\n",
       "      <td>530</td>\n",
       "      <td>Oldcorn, Andy</td>\n",
       "      <td>1.048058</td>\n",
       "    </tr>\n",
       "    <tr>\n",
       "      <th>1572</th>\n",
       "      <td>1572</td>\n",
       "      <td>Grube, Rob</td>\n",
       "      <td>1.047995</td>\n",
       "    </tr>\n",
       "    <tr>\n",
       "      <th>1583</th>\n",
       "      <td>1583</td>\n",
       "      <td>Poole, Stephen</td>\n",
       "      <td>1.047802</td>\n",
       "    </tr>\n",
       "    <tr>\n",
       "      <th>765</th>\n",
       "      <td>765</td>\n",
       "      <td>Hartwick, Jason</td>\n",
       "      <td>1.045723</td>\n",
       "    </tr>\n",
       "    <tr>\n",
       "      <th>...</th>\n",
       "      <td>...</td>\n",
       "      <td>...</td>\n",
       "      <td>...</td>\n",
       "    </tr>\n",
       "    <tr>\n",
       "      <th>2431</th>\n",
       "      <td>2431</td>\n",
       "      <td>Robbins, Kyle</td>\n",
       "      <td>NaN</td>\n",
       "    </tr>\n",
       "    <tr>\n",
       "      <th>2432</th>\n",
       "      <td>2432</td>\n",
       "      <td>Homan, Wes</td>\n",
       "      <td>NaN</td>\n",
       "    </tr>\n",
       "    <tr>\n",
       "      <th>2433</th>\n",
       "      <td>2433</td>\n",
       "      <td>Janneck, Frederick</td>\n",
       "      <td>NaN</td>\n",
       "    </tr>\n",
       "    <tr>\n",
       "      <th>2434</th>\n",
       "      <td>2434</td>\n",
       "      <td>Bryan, Wesley</td>\n",
       "      <td>NaN</td>\n",
       "    </tr>\n",
       "    <tr>\n",
       "      <th>2435</th>\n",
       "      <td>2435</td>\n",
       "      <td>Barbaree, Philip</td>\n",
       "      <td>NaN</td>\n",
       "    </tr>\n",
       "    <tr>\n",
       "      <th>2436</th>\n",
       "      <td>2436</td>\n",
       "      <td>Springer, Hayden</td>\n",
       "      <td>NaN</td>\n",
       "    </tr>\n",
       "    <tr>\n",
       "      <th>2437</th>\n",
       "      <td>2437</td>\n",
       "      <td>Lundberg, Mikael</td>\n",
       "      <td>NaN</td>\n",
       "    </tr>\n",
       "    <tr>\n",
       "      <th>2438</th>\n",
       "      <td>2438</td>\n",
       "      <td>Wattel, Romain</td>\n",
       "      <td>NaN</td>\n",
       "    </tr>\n",
       "    <tr>\n",
       "      <th>2439</th>\n",
       "      <td>2439</td>\n",
       "      <td>Stal, Gary</td>\n",
       "      <td>NaN</td>\n",
       "    </tr>\n",
       "    <tr>\n",
       "      <th>2440</th>\n",
       "      <td>2440</td>\n",
       "      <td>Wilkes-Krier, Patrick</td>\n",
       "      <td>NaN</td>\n",
       "    </tr>\n",
       "    <tr>\n",
       "      <th>2441</th>\n",
       "      <td>2441</td>\n",
       "      <td>Chuayprako, Thitiphan</td>\n",
       "      <td>NaN</td>\n",
       "    </tr>\n",
       "    <tr>\n",
       "      <th>2442</th>\n",
       "      <td>2442</td>\n",
       "      <td>Harkins, Brandon</td>\n",
       "      <td>NaN</td>\n",
       "    </tr>\n",
       "    <tr>\n",
       "      <th>2443</th>\n",
       "      <td>2443</td>\n",
       "      <td>Bulle, Kent</td>\n",
       "      <td>NaN</td>\n",
       "    </tr>\n",
       "    <tr>\n",
       "      <th>2444</th>\n",
       "      <td>2444</td>\n",
       "      <td>Chang, Derek</td>\n",
       "      <td>NaN</td>\n",
       "    </tr>\n",
       "    <tr>\n",
       "      <th>2445</th>\n",
       "      <td>2445</td>\n",
       "      <td>Soderberg, Sebastian</td>\n",
       "      <td>NaN</td>\n",
       "    </tr>\n",
       "    <tr>\n",
       "      <th>2446</th>\n",
       "      <td>2446</td>\n",
       "      <td>Anguiano, Mark</td>\n",
       "      <td>NaN</td>\n",
       "    </tr>\n",
       "    <tr>\n",
       "      <th>2447</th>\n",
       "      <td>2447</td>\n",
       "      <td>Burns, Sam</td>\n",
       "      <td>NaN</td>\n",
       "    </tr>\n",
       "    <tr>\n",
       "      <th>2448</th>\n",
       "      <td>2448</td>\n",
       "      <td>Edmondson, Zachary</td>\n",
       "      <td>NaN</td>\n",
       "    </tr>\n",
       "    <tr>\n",
       "      <th>2449</th>\n",
       "      <td>2449</td>\n",
       "      <td>Howe, T.J.</td>\n",
       "      <td>NaN</td>\n",
       "    </tr>\n",
       "    <tr>\n",
       "      <th>2450</th>\n",
       "      <td>2450</td>\n",
       "      <td>Hardy, Nick</td>\n",
       "      <td>NaN</td>\n",
       "    </tr>\n",
       "    <tr>\n",
       "      <th>2451</th>\n",
       "      <td>2451</td>\n",
       "      <td>Horsfield, Sam</td>\n",
       "      <td>NaN</td>\n",
       "    </tr>\n",
       "    <tr>\n",
       "      <th>2452</th>\n",
       "      <td>2452</td>\n",
       "      <td>Jordan, Austin</td>\n",
       "      <td>NaN</td>\n",
       "    </tr>\n",
       "    <tr>\n",
       "      <th>2453</th>\n",
       "      <td>2453</td>\n",
       "      <td>Raber, Tyler</td>\n",
       "      <td>NaN</td>\n",
       "    </tr>\n",
       "    <tr>\n",
       "      <th>2454</th>\n",
       "      <td>2454</td>\n",
       "      <td>Wise, Aaron</td>\n",
       "      <td>NaN</td>\n",
       "    </tr>\n",
       "    <tr>\n",
       "      <th>2455</th>\n",
       "      <td>2455</td>\n",
       "      <td>Crawford, Chris</td>\n",
       "      <td>NaN</td>\n",
       "    </tr>\n",
       "    <tr>\n",
       "      <th>2456</th>\n",
       "      <td>2456</td>\n",
       "      <td>Mueller, Kyle</td>\n",
       "      <td>NaN</td>\n",
       "    </tr>\n",
       "    <tr>\n",
       "      <th>2457</th>\n",
       "      <td>2457</td>\n",
       "      <td>Parker, Chase</td>\n",
       "      <td>NaN</td>\n",
       "    </tr>\n",
       "    <tr>\n",
       "      <th>2458</th>\n",
       "      <td>2458</td>\n",
       "      <td>Schembechler II, Richard</td>\n",
       "      <td>NaN</td>\n",
       "    </tr>\n",
       "    <tr>\n",
       "      <th>2459</th>\n",
       "      <td>2459</td>\n",
       "      <td>Stachler, Ryan</td>\n",
       "      <td>NaN</td>\n",
       "    </tr>\n",
       "    <tr>\n",
       "      <th>2460</th>\n",
       "      <td>2460</td>\n",
       "      <td>Suh, Justin</td>\n",
       "      <td>NaN</td>\n",
       "    </tr>\n",
       "  </tbody>\n",
       "</table>\n",
       "<p>2461 rows × 3 columns</p>\n",
       "</div>"
      ],
      "text/plain": [
       "      player_ind               player_name      rank\n",
       "897          897              Siem, Marcel  1.105869\n",
       "1341        1341         Zanotti, Fabrizio  1.103857\n",
       "860          860            Bradshaw, Paul  1.095167\n",
       "841          841               Felton, Kim  1.095167\n",
       "543          543             Brier, Markus  1.084193\n",
       "1795        1795            Langley, Scott  1.083864\n",
       "1004        1004              Parel, Scott  1.081456\n",
       "877          877              Coston, Jeff  1.076565\n",
       "1836        1836           Lee, Beon Yeong  1.069812\n",
       "828          828               Lane, Barry  1.068430\n",
       "1791        1791              Preeo, Jason  1.068327\n",
       "1074        1074            Saltman, Lloyd  1.067766\n",
       "520          520             McNulty, Mark  1.061757\n",
       "1771        1771            Noh, Seung-Yul  1.061012\n",
       "1060        1060          Marshall, Andrew  1.059693\n",
       "522          522               Muntz, Rolf  1.058739\n",
       "1209        1209                Bare, Andy  1.058292\n",
       "537          537             Mednick, Adam  1.055362\n",
       "1549        1549          Noren, Alexander  1.054452\n",
       "1385        1385              Davies, Rhys  1.053913\n",
       "1818        1818                 Kim, K.T.  1.053606\n",
       "1831        1831              Hadwin, Adam  1.053560\n",
       "1562        1562         Sherreard, Thomas  1.051762\n",
       "1704        1704             Kang, Anthony  1.049759\n",
       "752          752        Schwamkrug, Victor  1.048086\n",
       "838          838        Erlandsson, Martin  1.048058\n",
       "530          530             Oldcorn, Andy  1.048058\n",
       "1572        1572                Grube, Rob  1.047995\n",
       "1583        1583            Poole, Stephen  1.047802\n",
       "765          765           Hartwick, Jason  1.045723\n",
       "...          ...                       ...       ...\n",
       "2431        2431             Robbins, Kyle       NaN\n",
       "2432        2432                Homan, Wes       NaN\n",
       "2433        2433        Janneck, Frederick       NaN\n",
       "2434        2434             Bryan, Wesley       NaN\n",
       "2435        2435          Barbaree, Philip       NaN\n",
       "2436        2436          Springer, Hayden       NaN\n",
       "2437        2437          Lundberg, Mikael       NaN\n",
       "2438        2438            Wattel, Romain       NaN\n",
       "2439        2439                Stal, Gary       NaN\n",
       "2440        2440     Wilkes-Krier, Patrick       NaN\n",
       "2441        2441     Chuayprako, Thitiphan       NaN\n",
       "2442        2442          Harkins, Brandon       NaN\n",
       "2443        2443               Bulle, Kent       NaN\n",
       "2444        2444              Chang, Derek       NaN\n",
       "2445        2445      Soderberg, Sebastian       NaN\n",
       "2446        2446            Anguiano, Mark       NaN\n",
       "2447        2447                Burns, Sam       NaN\n",
       "2448        2448        Edmondson, Zachary       NaN\n",
       "2449        2449                Howe, T.J.       NaN\n",
       "2450        2450               Hardy, Nick       NaN\n",
       "2451        2451            Horsfield, Sam       NaN\n",
       "2452        2452            Jordan, Austin       NaN\n",
       "2453        2453              Raber, Tyler       NaN\n",
       "2454        2454               Wise, Aaron       NaN\n",
       "2455        2455           Crawford, Chris       NaN\n",
       "2456        2456             Mueller, Kyle       NaN\n",
       "2457        2457             Parker, Chase       NaN\n",
       "2458        2458  Schembechler II, Richard       NaN\n",
       "2459        2459            Stachler, Ryan       NaN\n",
       "2460        2460               Suh, Justin       NaN\n",
       "\n",
       "[2461 rows x 3 columns]"
      ]
     },
     "execution_count": 22,
     "metadata": {},
     "output_type": "execute_result"
    }
   ],
   "source": [
    "pd.DataFrame({'player_ind':range(n_players),\n",
    "              'player_name':[inds_to_name[i] for i in range(n_players)],\n",
    "              'rank':ranks[99][-n_players:]}).sort_values('rank',ascending=False)"
   ]
  },
  {
   "cell_type": "code",
   "execution_count": 23,
   "metadata": {
    "collapsed": false
   },
   "outputs": [],
   "source": [
    "names_to_ind = {inds_to_name[key]:key for key in inds_to_name}"
   ]
  },
  {
   "cell_type": "code",
   "execution_count": 24,
   "metadata": {
    "collapsed": false
   },
   "outputs": [],
   "source": [
    "inds_to_plot = [names_to_ind['Woods, Tiger'],names_to_ind['Singh, Vijay']]"
   ]
  },
  {
   "cell_type": "code",
   "execution_count": 25,
   "metadata": {
    "collapsed": false,
    "scrolled": false
   },
   "outputs": [
    {
     "data": {
      "image/png": "[encoded data removed]",
      "text/plain": [
       "<matplotlib.figure.Figure at 0x7fdcac8f5610>"
      ]
     },
     "metadata": {},
     "output_type": "display_data"
    }
   ],
   "source": [
    "for j in inds_to_plot:\n",
    "    plt.plot([ranks[i][j] for i in range(101)],label = inds_to_name[j]);\n",
    "plt.legend();"
   ]
  },
  {
   "cell_type": "code",
   "execution_count": 26,
   "metadata": {
    "collapsed": false
   },
   "outputs": [
    {
     "data": {
      "text/plain": [
       "102"
      ]
     },
     "execution_count": 26,
     "metadata": {},
     "output_type": "execute_result"
    }
   ],
   "source": [
    "len(ranks)"
   ]
  },
  {
   "cell_type": "code",
   "execution_count": 27,
   "metadata": {
    "collapsed": false
   },
   "outputs": [
    {
     "data": {
      "text/plain": [
       "102"
      ]
     },
     "execution_count": 27,
     "metadata": {},
     "output_type": "execute_result"
    }
   ],
   "source": [
    "len(reps)"
   ]
  },
  {
   "cell_type": "code",
   "execution_count": 33,
   "metadata": {
    "collapsed": false
   },
   "outputs": [
    {
     "name": "stdout",
     "output_type": "stream",
     "text": [
      "2461\n",
      "1587\n"
     ]
    }
   ],
   "source": [
    "print len(reps[89])\n",
    "print len(reps[89][reps[89]!=0])"
   ]
  },
  {
   "cell_type": "code",
   "execution_count": 49,
   "metadata": {
    "collapsed": true
   },
   "outputs": [],
   "source": [
    "def sph(x,a,b):\n",
    "    if x<a:\n",
    "        return min(1,b + 1.5*(x/a) - .5*(x/a)**3)\n",
    "    else:\n",
    "        return 1"
   ]
  }
 ],
 "metadata": {
  "kernelspec": {
   "display_name": "Python 2",
   "language": "python",
   "name": "python2"
  },
  "language_info": {
   "codemirror_mode": {
    "name": "ipython",
    "version": 2
   },
   "file_extension": ".py",
   "mimetype": "text/x-python",
   "name": "python",
   "nbconvert_exporter": "python",
   "pygments_lexer": "ipython2",
   "version": "2.7.12"
  }
 },
 "nbformat": 4,
 "nbformat_minor": 0
}
