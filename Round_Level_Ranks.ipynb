{
 "cells": [
  {
   "cell_type": "code",
   "execution_count": 18,
   "metadata": {
    "collapsed": true
   },
   "outputs": [],
   "source": [
    "import pandas as pd\n",
    "import numpy as np\n",
    "from operator import itemgetter\n",
    "import matplotlib.pyplot as plt\n",
    "%matplotlib inline"
   ]
  },
  {
   "cell_type": "code",
   "execution_count": 3,
   "metadata": {
    "collapsed": true
   },
   "outputs": [],
   "source": [
    "data = pd.read_csv('data/round_train.csv')"
   ]
  },
  {
   "cell_type": "code",
   "execution_count": 4,
   "metadata": {
    "collapsed": true
   },
   "outputs": [],
   "source": [
    "data = data[data.Tournament_Year==2003]"
   ]
  },
  {
   "cell_type": "code",
   "execution_count": 5,
   "metadata": {
    "collapsed": false
   },
   "outputs": [
    {
     "data": {
      "text/plain": [
       "(19393, 12)"
      ]
     },
     "execution_count": 5,
     "metadata": {},
     "output_type": "execute_result"
    }
   ],
   "source": [
    "data.shape"
   ]
  },
  {
   "cell_type": "code",
   "execution_count": 6,
   "metadata": {
    "collapsed": false
   },
   "outputs": [
    {
     "data": {
      "text/html": [
       "<div>\n",
       "<table border=\"1\" class=\"dataframe\">\n",
       "  <thead>\n",
       "    <tr style=\"text-align: right;\">\n",
       "      <th></th>\n",
       "      <th>Tournament_Year</th>\n",
       "      <th>Tournament_#</th>\n",
       "      <th>Permanent_Tournament_#</th>\n",
       "      <th>Course_#</th>\n",
       "      <th>Player_Number</th>\n",
       "      <th>Player_Name</th>\n",
       "      <th>Round_Number</th>\n",
       "      <th>Tee_Time</th>\n",
       "      <th>Round_Score</th>\n",
       "      <th>End_of_Event_Pos._(text)</th>\n",
       "      <th>Finishing_Pos</th>\n",
       "      <th>Finishing_Pct</th>\n",
       "    </tr>\n",
       "  </thead>\n",
       "  <tbody>\n",
       "    <tr>\n",
       "      <th>0</th>\n",
       "      <td>2003</td>\n",
       "      <td>10</td>\n",
       "      <td>16</td>\n",
       "      <td>656</td>\n",
       "      <td>1320</td>\n",
       "      <td>Estes, Bob</td>\n",
       "      <td>1</td>\n",
       "      <td>11:50</td>\n",
       "      <td>66</td>\n",
       "      <td>T6</td>\n",
       "      <td>7.5</td>\n",
       "      <td>0.197917</td>\n",
       "    </tr>\n",
       "    <tr>\n",
       "      <th>1</th>\n",
       "      <td>2003</td>\n",
       "      <td>10</td>\n",
       "      <td>16</td>\n",
       "      <td>656</td>\n",
       "      <td>1361</td>\n",
       "      <td>Forsman, Dan</td>\n",
       "      <td>1</td>\n",
       "      <td>11:00</td>\n",
       "      <td>69</td>\n",
       "      <td>T21</td>\n",
       "      <td>22.0</td>\n",
       "      <td>0.600694</td>\n",
       "    </tr>\n",
       "    <tr>\n",
       "      <th>2</th>\n",
       "      <td>2003</td>\n",
       "      <td>10</td>\n",
       "      <td>16</td>\n",
       "      <td>656</td>\n",
       "      <td>1761</td>\n",
       "      <td>Mattiace, Len</td>\n",
       "      <td>1</td>\n",
       "      <td>13:00</td>\n",
       "      <td>75</td>\n",
       "      <td>24</td>\n",
       "      <td>24.0</td>\n",
       "      <td>0.656250</td>\n",
       "    </tr>\n",
       "    <tr>\n",
       "      <th>3</th>\n",
       "      <td>2003</td>\n",
       "      <td>10</td>\n",
       "      <td>16</td>\n",
       "      <td>656</td>\n",
       "      <td>1797</td>\n",
       "      <td>Mediate, Rocco</td>\n",
       "      <td>1</td>\n",
       "      <td>12:10</td>\n",
       "      <td>72</td>\n",
       "      <td>T2</td>\n",
       "      <td>2.5</td>\n",
       "      <td>0.059028</td>\n",
       "    </tr>\n",
       "    <tr>\n",
       "      <th>4</th>\n",
       "      <td>2003</td>\n",
       "      <td>10</td>\n",
       "      <td>16</td>\n",
       "      <td>656</td>\n",
       "      <td>1920</td>\n",
       "      <td>Parry, Craig</td>\n",
       "      <td>1</td>\n",
       "      <td>11:20</td>\n",
       "      <td>71</td>\n",
       "      <td>T25</td>\n",
       "      <td>26.5</td>\n",
       "      <td>0.725694</td>\n",
       "    </tr>\n",
       "  </tbody>\n",
       "</table>\n",
       "</div>"
      ],
      "text/plain": [
       "   Tournament_Year  Tournament_#  Permanent_Tournament_#  Course_#  \\\n",
       "0             2003            10                      16       656   \n",
       "1             2003            10                      16       656   \n",
       "2             2003            10                      16       656   \n",
       "3             2003            10                      16       656   \n",
       "4             2003            10                      16       656   \n",
       "\n",
       "   Player_Number     Player_Name  Round_Number Tee_Time  Round_Score  \\\n",
       "0           1320      Estes, Bob             1    11:50           66   \n",
       "1           1361    Forsman, Dan             1    11:00           69   \n",
       "2           1761   Mattiace, Len             1    13:00           75   \n",
       "3           1797  Mediate, Rocco             1    12:10           72   \n",
       "4           1920    Parry, Craig             1    11:20           71   \n",
       "\n",
       "  End_of_Event_Pos._(text)  Finishing_Pos  Finishing_Pct  \n",
       "0                       T6            7.5       0.197917  \n",
       "1                      T21           22.0       0.600694  \n",
       "2                       24           24.0       0.656250  \n",
       "3                       T2            2.5       0.059028  \n",
       "4                      T25           26.5       0.725694  "
      ]
     },
     "execution_count": 6,
     "metadata": {},
     "output_type": "execute_result"
    }
   ],
   "source": [
    "data.head()"
   ]
  },
  {
   "cell_type": "code",
   "execution_count": 8,
   "metadata": {
    "collapsed": true
   },
   "outputs": [],
   "source": [
    "def label_players(player_inds,players):\n",
    "    n = 0\n",
    "    for player in players:\n",
    "        if player not in player_inds:\n",
    "            player_inds[player] = n\n",
    "            n += 1\n",
    "    return player_inds"
   ]
  },
  {
   "cell_type": "code",
   "execution_count": 9,
   "metadata": {
    "collapsed": true
   },
   "outputs": [],
   "source": [
    "player_inds = {}\n",
    "player_inds = label_players(player_inds,data.Player_Number.values)\n",
    "player_inds_reverse = dict((v, k) for k, v in player_inds.iteritems())"
   ]
  },
  {
   "cell_type": "code",
   "execution_count": 11,
   "metadata": {
    "collapsed": true
   },
   "outputs": [],
   "source": [
    "data.insert(5,'Index_Number',list(itemgetter(*data.Player_Number.values.tolist())(player_inds)))"
   ]
  },
  {
   "cell_type": "code",
   "execution_count": 13,
   "metadata": {
    "collapsed": false
   },
   "outputs": [],
   "source": [
    "rounds = data.groupby(['Tournament_Year','Tournament_#','Round_Number'])"
   ]
  },
  {
   "cell_type": "code",
   "execution_count": 14,
   "metadata": {
    "collapsed": false
   },
   "outputs": [
    {
     "data": {
      "text/plain": [
       "186"
      ]
     },
     "execution_count": 14,
     "metadata": {},
     "output_type": "execute_result"
    }
   ],
   "source": [
    "len(rounds)"
   ]
  },
  {
   "cell_type": "code",
   "execution_count": 15,
   "metadata": {
    "collapsed": false
   },
   "outputs": [
    {
     "data": {
      "text/plain": [
       "665"
      ]
     },
     "execution_count": 15,
     "metadata": {},
     "output_type": "execute_result"
    }
   ],
   "source": [
    "len(pd.unique(data.Player_Number))"
   ]
  },
  {
   "cell_type": "code",
   "execution_count": 17,
   "metadata": {
    "collapsed": false
   },
   "outputs": [
    {
     "data": {
      "text/html": [
       "<div>\n",
       "<table border=\"1\" class=\"dataframe\">\n",
       "  <thead>\n",
       "    <tr style=\"text-align: right;\">\n",
       "      <th></th>\n",
       "      <th>Tournament_Year</th>\n",
       "      <th>Tournament_#</th>\n",
       "      <th>Permanent_Tournament_#</th>\n",
       "      <th>Course_#</th>\n",
       "      <th>Player_Number</th>\n",
       "      <th>Index_Number</th>\n",
       "      <th>Player_Name</th>\n",
       "      <th>Round_Number</th>\n",
       "      <th>Tee_Time</th>\n",
       "      <th>Round_Score</th>\n",
       "      <th>End_of_Event_Pos._(text)</th>\n",
       "      <th>Finishing_Pos</th>\n",
       "      <th>Finishing_Pct</th>\n",
       "    </tr>\n",
       "  </thead>\n",
       "  <tbody>\n",
       "    <tr>\n",
       "      <th>2226</th>\n",
       "      <td>2003</td>\n",
       "      <td>60</td>\n",
       "      <td>4</td>\n",
       "      <td>104</td>\n",
       "      <td>8793</td>\n",
       "      <td>277</td>\n",
       "      <td>Woods, Tiger</td>\n",
       "      <td>1</td>\n",
       "      <td>10:00</td>\n",
       "      <td>70</td>\n",
       "      <td>1</td>\n",
       "      <td>1.0</td>\n",
       "      <td>0.005531</td>\n",
       "    </tr>\n",
       "    <tr>\n",
       "      <th>2378</th>\n",
       "      <td>2003</td>\n",
       "      <td>60</td>\n",
       "      <td>4</td>\n",
       "      <td>4</td>\n",
       "      <td>8793</td>\n",
       "      <td>277</td>\n",
       "      <td>Woods, Tiger</td>\n",
       "      <td>2</td>\n",
       "      <td>08:57</td>\n",
       "      <td>66</td>\n",
       "      <td>1</td>\n",
       "      <td>1.0</td>\n",
       "      <td>0.005531</td>\n",
       "    </tr>\n",
       "    <tr>\n",
       "      <th>2496</th>\n",
       "      <td>2003</td>\n",
       "      <td>60</td>\n",
       "      <td>4</td>\n",
       "      <td>4</td>\n",
       "      <td>8793</td>\n",
       "      <td>277</td>\n",
       "      <td>Woods, Tiger</td>\n",
       "      <td>3</td>\n",
       "      <td>09:50</td>\n",
       "      <td>68</td>\n",
       "      <td>1</td>\n",
       "      <td>1.0</td>\n",
       "      <td>0.005531</td>\n",
       "    </tr>\n",
       "    <tr>\n",
       "      <th>2570</th>\n",
       "      <td>2003</td>\n",
       "      <td>60</td>\n",
       "      <td>4</td>\n",
       "      <td>4</td>\n",
       "      <td>8793</td>\n",
       "      <td>277</td>\n",
       "      <td>Woods, Tiger</td>\n",
       "      <td>4</td>\n",
       "      <td>10:35</td>\n",
       "      <td>68</td>\n",
       "      <td>1</td>\n",
       "      <td>1.0</td>\n",
       "      <td>0.005531</td>\n",
       "    </tr>\n",
       "    <tr>\n",
       "      <th>2682</th>\n",
       "      <td>2003</td>\n",
       "      <td>70</td>\n",
       "      <td>7</td>\n",
       "      <td>500</td>\n",
       "      <td>8793</td>\n",
       "      <td>277</td>\n",
       "      <td>Woods, Tiger</td>\n",
       "      <td>1</td>\n",
       "      <td>12:37</td>\n",
       "      <td>72</td>\n",
       "      <td>T5</td>\n",
       "      <td>5.5</td>\n",
       "      <td>0.047454</td>\n",
       "    </tr>\n",
       "  </tbody>\n",
       "</table>\n",
       "</div>"
      ],
      "text/plain": [
       "      Tournament_Year  Tournament_#  Permanent_Tournament_#  Course_#  \\\n",
       "2226             2003            60                       4       104   \n",
       "2378             2003            60                       4         4   \n",
       "2496             2003            60                       4         4   \n",
       "2570             2003            60                       4         4   \n",
       "2682             2003            70                       7       500   \n",
       "\n",
       "      Player_Number  Index_Number   Player_Name  Round_Number Tee_Time  \\\n",
       "2226           8793           277  Woods, Tiger             1    10:00   \n",
       "2378           8793           277  Woods, Tiger             2    08:57   \n",
       "2496           8793           277  Woods, Tiger             3    09:50   \n",
       "2570           8793           277  Woods, Tiger             4    10:35   \n",
       "2682           8793           277  Woods, Tiger             1    12:37   \n",
       "\n",
       "      Round_Score End_of_Event_Pos._(text)  Finishing_Pos  Finishing_Pct  \n",
       "2226           70                        1            1.0       0.005531  \n",
       "2378           66                        1            1.0       0.005531  \n",
       "2496           68                        1            1.0       0.005531  \n",
       "2570           68                        1            1.0       0.005531  \n",
       "2682           72                       T5            5.5       0.047454  "
      ]
     },
     "execution_count": 17,
     "metadata": {},
     "output_type": "execute_result"
    }
   ],
   "source": [
    "data[data.Player_Name=='Woods, Tiger'].head()"
   ]
  },
  {
   "cell_type": "code",
   "execution_count": 19,
   "metadata": {
    "collapsed": true
   },
   "outputs": [],
   "source": [
    "def fullprint(*args, **kwargs):\n",
    "  from pprint import pprint\n",
    "  opt = np.get_printoptions()\n",
    "  np.set_printoptions(threshold='nan')\n",
    "  pprint(*args, **kwargs)\n",
    "  np.set_printoptions(**opt)"
   ]
  },
  {
   "cell_type": "code",
   "execution_count": 20,
   "metadata": {
    "collapsed": true
   },
   "outputs": [],
   "source": [
    "n_players = len(pd.unique(data.Player_Number))\n",
    "n_rounds = len(rounds)"
   ]
  },
  {
   "cell_type": "code",
   "execution_count": 31,
   "metadata": {
    "collapsed": false
   },
   "outputs": [],
   "source": [
    "A = np.zeros((n_players,n_rounds,n_players))\n",
    "G = np.zeros((n_players,n_rounds))\n",
    "for u,df in enumerate(rounds):\n",
    "    df = df[1]\n",
    "#     if u>600: continue\n",
    "    df = df.sort_values('Round_Score')\n",
    "    n = len(df)\n",
    "    G[df.Index_Number.values,u] = 1\n",
    "    for row_ind in xrange(n):\n",
    "        g_id = df.iloc[row_ind].Index_Number\n",
    "        arr = np.zeros(n)\n",
    "        arr[row_ind+1:] = 1\n",
    "        A[g_id,u,df.Index_Number.values] += arr / n\n",
    "    #fig, ax = plt.subplots(figsize=(20, 10))\n",
    "    #plt.imshow(A[0,:,:])\n",
    "    #plt.show()\n",
    "    #fullprint(A[0,0:10,0:5])\n",
    "    V = np.ndarray((n_players,n_players))\n",
    "    for p in df.Index_Number:\n",
    "        weights = np.matrix(G[p,:] / G.sum(1)[p])\n",
    "        V[p,:] = (weights * A[p,:,:]).A1\n",
    "    #fullprint(V[0:4,0:4])"
   ]
  },
  {
   "cell_type": "code",
   "execution_count": null,
   "metadata": {
    "collapsed": true
   },
   "outputs": [],
   "source": []
  },
  {
   "cell_type": "code",
   "execution_count": 32,
   "metadata": {
    "collapsed": false
   },
   "outputs": [
    {
     "name": "stdout",
     "output_type": "stream",
     "text": [
      "Singh, Vijay 0.745916983546 102.0\n",
      "Woods, Tiger 0.740639697103 68.0\n",
      "Furyk, Jim 0.707500188855 101.0\n",
      "Weir, Mike 0.703749028832 75.0\n",
      "Els, Ernie 0.69105553549 60.0\n",
      "Goosen, Retief 0.681931921547 64.0\n",
      "Love III, Davis 0.671115365461 79.0\n",
      "Evans, Gary 0.657844790824 8.0\n",
      "Harrington, Padraig 0.647791927172 36.0\n",
      "Campbell, Chad 0.635498034465 102.0\n",
      "Couples, Fred 0.632137028893 67.0\n",
      "Perry, Kenny 0.631856593107 97.0\n",
      "Baird, Briny 0.617263064523 107.0\n",
      "Allenby, Robert 0.61647716065 79.0\n",
      "Cink, Stewart 0.616422999423 100.0\n",
      "Jacobson, Freddie 0.614147070174 30.0\n"
     ]
    }
   ],
   "source": [
    "p_nums = V.sum(1).argsort().tolist()[::-1][:40]\n",
    "for u,p in enumerate(p_nums):\n",
    "    if G.sum(1)[p] > 6:\n",
    "        print data[data['Index_Number']==p].iloc[0].Player_Name,np.sort(V.sum(1)).tolist()[::-1][u],G.sum(1)[p]"
   ]
  },
  {
   "cell_type": "code",
   "execution_count": null,
   "metadata": {
    "collapsed": true
   },
   "outputs": [],
   "source": []
  }
 ],
 "metadata": {
  "kernelspec": {
   "display_name": "Python 2",
   "language": "python",
   "name": "python2"
  },
  "language_info": {
   "codemirror_mode": {
    "name": "ipython",
    "version": 2
   },
   "file_extension": ".py",
   "mimetype": "text/x-python",
   "name": "python",
   "nbconvert_exporter": "python",
   "pygments_lexer": "ipython2",
   "version": "2.7.11"
  }
 },
 "nbformat": 4,
 "nbformat_minor": 0
}
