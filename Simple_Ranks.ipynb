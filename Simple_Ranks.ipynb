{
 "cells": [
  {
   "cell_type": "code",
   "execution_count": 2,
   "metadata": {
    "collapsed": true
   },
   "outputs": [],
   "source": [
    "import numpy as np\n",
    "import pandas as pd"
   ]
  },
  {
   "cell_type": "code",
   "execution_count": 220,
   "metadata": {
    "collapsed": true
   },
   "outputs": [],
   "source": [
    "data = pd.DataFrame(np.array([[1,69,1],[0,69,1],[1,67,0],[0,69,0],[2,56,2],[3,67,2],[1,67,3],[3,56,3]]))\n",
    "data.columns = ['Player_#','Score','Tournament']"
   ]
  },
  {
   "cell_type": "code",
   "execution_count": 221,
   "metadata": {
    "collapsed": false,
    "scrolled": true
   },
   "outputs": [
    {
     "data": {
      "text/html": [
       "<div>\n",
       "<table border=\"1\" class=\"dataframe\">\n",
       "  <thead>\n",
       "    <tr style=\"text-align: right;\">\n",
       "      <th></th>\n",
       "      <th>Player_#</th>\n",
       "      <th>Score</th>\n",
       "      <th>Tournament</th>\n",
       "    </tr>\n",
       "  </thead>\n",
       "  <tbody>\n",
       "    <tr>\n",
       "      <th>0</th>\n",
       "      <td>1</td>\n",
       "      <td>69</td>\n",
       "      <td>1</td>\n",
       "    </tr>\n",
       "    <tr>\n",
       "      <th>1</th>\n",
       "      <td>0</td>\n",
       "      <td>69</td>\n",
       "      <td>1</td>\n",
       "    </tr>\n",
       "    <tr>\n",
       "      <th>2</th>\n",
       "      <td>1</td>\n",
       "      <td>67</td>\n",
       "      <td>0</td>\n",
       "    </tr>\n",
       "    <tr>\n",
       "      <th>3</th>\n",
       "      <td>0</td>\n",
       "      <td>69</td>\n",
       "      <td>0</td>\n",
       "    </tr>\n",
       "    <tr>\n",
       "      <th>4</th>\n",
       "      <td>2</td>\n",
       "      <td>56</td>\n",
       "      <td>2</td>\n",
       "    </tr>\n",
       "    <tr>\n",
       "      <th>5</th>\n",
       "      <td>3</td>\n",
       "      <td>67</td>\n",
       "      <td>2</td>\n",
       "    </tr>\n",
       "    <tr>\n",
       "      <th>6</th>\n",
       "      <td>1</td>\n",
       "      <td>67</td>\n",
       "      <td>3</td>\n",
       "    </tr>\n",
       "    <tr>\n",
       "      <th>7</th>\n",
       "      <td>3</td>\n",
       "      <td>56</td>\n",
       "      <td>3</td>\n",
       "    </tr>\n",
       "  </tbody>\n",
       "</table>\n",
       "</div>"
      ],
      "text/plain": [
       "   Player_#  Score  Tournament\n",
       "0         1     69           1\n",
       "1         0     69           1\n",
       "2         1     67           0\n",
       "3         0     69           0\n",
       "4         2     56           2\n",
       "5         3     67           2\n",
       "6         1     67           3\n",
       "7         3     56           3"
      ]
     },
     "execution_count": 221,
     "metadata": {},
     "output_type": "execute_result"
    }
   ],
   "source": [
    "data"
   ]
  },
  {
   "cell_type": "code",
   "execution_count": 222,
   "metadata": {
    "collapsed": true
   },
   "outputs": [],
   "source": [
    "n_players = len(pd.unique(data['Player_#']))\n",
    "n_tournaments = len(pd.unique(data.Tournament))"
   ]
  },
  {
   "cell_type": "code",
   "execution_count": 241,
   "metadata": {
    "collapsed": true
   },
   "outputs": [],
   "source": [
    "BETA = .5"
   ]
  },
  {
   "cell_type": "code",
   "execution_count": 242,
   "metadata": {
    "collapsed": false
   },
   "outputs": [],
   "source": [
    "A = np.zeros((n_players*n_tournaments,n_players*n_tournaments))\n",
    "G = np.zeros((n_players*n_tournaments,n_players*n_tournaments))\n",
    "for tournament in pd.unique(data.Tournament):\n",
    "    subset = data[data.Tournament==tournament].sort_values('Score')\n",
    "    for u,player in enumerate(pd.unique(subset['Player_#'])):\n",
    "        arr = np.zeros(n_players)\n",
    "        arr1 = np.zeros(n_players)\n",
    "        #arr[pd.unique(subset['Player_#'])] = 1\n",
    "        arr[pd.unique(subset['Player_#'])] = subset.Score.values / subset[subset['Player_#']==player].Score.values.astype(float) / len(subset)\n",
    "        arr[pd.unique(subset['Player_#'])[u]] = 0\n",
    "        arr1[pd.unique(subset['Player_#'])] = 1\n",
    "        arr1[pd.unique(subset['Player_#'])[u]] = 0\n",
    "        A[player + n_players*tournament,n_players*tournament:n_players*(tournament+1)] += arr\n",
    "        G[player + n_players*tournament,n_players*tournament:n_players*(tournament+1)] += arr1\n",
    "        for tournament2 in pd.unique(data.Tournament):\n",
    "            if tournament==tournament2:\n",
    "                continue\n",
    "            else:\n",
    "                A[player + n_players*tournament2,n_players*tournament:n_players*(tournament+1)] += BETA**(abs(tournament-tournament2)) * arr\n",
    "                G[player + n_players*tournament2,n_players*tournament:n_players*(tournament+1)] += BETA**(abs(tournament-tournament2)) * arr1"
   ]
  },
  {
   "cell_type": "code",
   "execution_count": 243,
   "metadata": {
    "collapsed": false
   },
   "outputs": [],
   "source": [
    "V = np.matrix(np.nan_to_num(A/G))"
   ]
  },
  {
   "cell_type": "code",
   "execution_count": 244,
   "metadata": {
    "collapsed": true
   },
   "outputs": [],
   "source": [
    "alpha = .1"
   ]
  },
  {
   "cell_type": "code",
   "execution_count": 245,
   "metadata": {
    "collapsed": false
   },
   "outputs": [],
   "source": [
    "w_a = (np.linalg.inv(np.eye(n_players*n_tournaments) - alpha*A) * np.matrix(A).sum(1)).sum(1)"
   ]
  },
  {
   "cell_type": "code",
   "execution_count": 246,
   "metadata": {
    "collapsed": true
   },
   "outputs": [],
   "source": [
    "w_g = (np.linalg.inv(np.eye(n_players*n_tournaments) - alpha*G) * np.matrix(G).sum(1)).sum(1)"
   ]
  },
  {
   "cell_type": "code",
   "execution_count": 247,
   "metadata": {
    "collapsed": true
   },
   "outputs": [],
   "source": [
    "w_v = (np.linalg.inv(np.eye(n_players*n_tournaments) - alpha*V) * np.matrix(V).sum(1)).sum(1)"
   ]
  },
  {
   "cell_type": "code",
   "execution_count": 248,
   "metadata": {
    "collapsed": false
   },
   "outputs": [
    {
     "data": {
      "text/plain": [
       "matrix([[ 0.44668501],\n",
       "        [ 0.46094527],\n",
       "        [ 0.55044604],\n",
       "        [ 0.44979841],\n",
       "        [ 0.4499194 ],\n",
       "        [ 0.45183249],\n",
       "        [ 0.55044604],\n",
       "        [ 0.44979841],\n",
       "        [ 0.4499194 ],\n",
       "        [ 0.4325357 ],\n",
       "        [ 0.55044604],\n",
       "        [ 0.44979841],\n",
       "        [ 0.4499194 ],\n",
       "        [ 0.40787872],\n",
       "        [ 0.55044604],\n",
       "        [ 0.50002843]])"
      ]
     },
     "execution_count": 248,
     "metadata": {},
     "output_type": "execute_result"
    }
   ],
   "source": [
    "w_a/w_g"
   ]
  },
  {
   "cell_type": "code",
   "execution_count": null,
   "metadata": {
    "collapsed": true
   },
   "outputs": [],
   "source": []
  }
 ],
 "metadata": {
  "kernelspec": {
   "display_name": "Python 2",
   "language": "python",
   "name": "python2"
  },
  "language_info": {
   "codemirror_mode": {
    "name": "ipython",
    "version": 2
   },
   "file_extension": ".py",
   "mimetype": "text/x-python",
   "name": "python",
   "nbconvert_exporter": "python",
   "pygments_lexer": "ipython2",
   "version": "2.7.11"
  }
 },
 "nbformat": 4,
 "nbformat_minor": 0
}
