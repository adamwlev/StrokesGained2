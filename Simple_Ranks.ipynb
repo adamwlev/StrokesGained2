{
 "cells": [
  {
   "cell_type": "code",
   "execution_count": 1,
   "metadata": {
    "collapsed": true
   },
   "outputs": [],
   "source": [
    "import numpy as np\n",
    "import pandas as pd"
   ]
  },
  {
   "cell_type": "code",
   "execution_count": 58,
   "metadata": {
    "collapsed": true
   },
   "outputs": [],
   "source": [
    "data = pd.DataFrame(np.array([[3,69,1],[0,69,1],[1,67,0],[3,69,0],[2,66,2],[3,67,2],[2,67,3],[0,66,3],[1,67,4],[0,72,4]]))\n",
    "data.columns = ['Player_#','Score','Tournament']"
   ]
  },
  {
   "cell_type": "code",
   "execution_count": 59,
   "metadata": {
    "collapsed": false,
    "scrolled": true
   },
   "outputs": [
    {
     "data": {
      "text/html": [
       "<div>\n",
       "<table border=\"1\" class=\"dataframe\">\n",
       "  <thead>\n",
       "    <tr style=\"text-align: right;\">\n",
       "      <th></th>\n",
       "      <th>Player_#</th>\n",
       "      <th>Score</th>\n",
       "      <th>Tournament</th>\n",
       "    </tr>\n",
       "  </thead>\n",
       "  <tbody>\n",
       "    <tr>\n",
       "      <th>2</th>\n",
       "      <td>1</td>\n",
       "      <td>67</td>\n",
       "      <td>0</td>\n",
       "    </tr>\n",
       "    <tr>\n",
       "      <th>3</th>\n",
       "      <td>3</td>\n",
       "      <td>69</td>\n",
       "      <td>0</td>\n",
       "    </tr>\n",
       "    <tr>\n",
       "      <th>0</th>\n",
       "      <td>3</td>\n",
       "      <td>69</td>\n",
       "      <td>1</td>\n",
       "    </tr>\n",
       "    <tr>\n",
       "      <th>1</th>\n",
       "      <td>0</td>\n",
       "      <td>69</td>\n",
       "      <td>1</td>\n",
       "    </tr>\n",
       "    <tr>\n",
       "      <th>4</th>\n",
       "      <td>2</td>\n",
       "      <td>66</td>\n",
       "      <td>2</td>\n",
       "    </tr>\n",
       "    <tr>\n",
       "      <th>5</th>\n",
       "      <td>3</td>\n",
       "      <td>67</td>\n",
       "      <td>2</td>\n",
       "    </tr>\n",
       "    <tr>\n",
       "      <th>6</th>\n",
       "      <td>2</td>\n",
       "      <td>67</td>\n",
       "      <td>3</td>\n",
       "    </tr>\n",
       "    <tr>\n",
       "      <th>7</th>\n",
       "      <td>0</td>\n",
       "      <td>66</td>\n",
       "      <td>3</td>\n",
       "    </tr>\n",
       "    <tr>\n",
       "      <th>8</th>\n",
       "      <td>1</td>\n",
       "      <td>67</td>\n",
       "      <td>4</td>\n",
       "    </tr>\n",
       "    <tr>\n",
       "      <th>9</th>\n",
       "      <td>0</td>\n",
       "      <td>72</td>\n",
       "      <td>4</td>\n",
       "    </tr>\n",
       "  </tbody>\n",
       "</table>\n",
       "</div>"
      ],
      "text/plain": [
       "   Player_#  Score  Tournament\n",
       "2         1     67           0\n",
       "3         3     69           0\n",
       "0         3     69           1\n",
       "1         0     69           1\n",
       "4         2     66           2\n",
       "5         3     67           2\n",
       "6         2     67           3\n",
       "7         0     66           3\n",
       "8         1     67           4\n",
       "9         0     72           4"
      ]
     },
     "execution_count": 59,
     "metadata": {},
     "output_type": "execute_result"
    }
   ],
   "source": [
    "data.sort_values('Tournament')"
   ]
  },
  {
   "cell_type": "code",
   "execution_count": 60,
   "metadata": {
    "collapsed": true
   },
   "outputs": [],
   "source": [
    "n_players = len(pd.unique(data['Player_#']))\n",
    "n_tournaments = len(pd.unique(data.Tournament))"
   ]
  },
  {
   "cell_type": "code",
   "execution_count": 78,
   "metadata": {
    "collapsed": false
   },
   "outputs": [],
   "source": [
    "def run(BETA,alpha):\n",
    "    A = np.zeros((n_players*n_tournaments,n_players*n_tournaments))\n",
    "    G = np.zeros((n_players*n_tournaments,n_players*n_tournaments))\n",
    "    for tournament in pd.unique(data.Tournament):\n",
    "        subset = data[data.Tournament==tournament].sort_values('Score')\n",
    "        for u,player in enumerate(pd.unique(subset['Player_#'])):\n",
    "            arr = np.zeros(n_players)\n",
    "            arr1 = np.zeros(n_players)\n",
    "            #arr[pd.unique(subset['Player_#'])] = 1\n",
    "            arr[pd.unique(subset['Player_#'])] = subset.Score.values / subset[subset['Player_#']==player].Score.values.astype(float) / len(subset)\n",
    "            arr[pd.unique(subset['Player_#'])[u]] = 0\n",
    "            arr1[pd.unique(subset['Player_#'])] = 1\n",
    "            arr1[pd.unique(subset['Player_#'])[u]] = 0\n",
    "            A[player + n_players*tournament,n_players*tournament:n_players*(tournament+1)] += arr\n",
    "            G[player + n_players*tournament,n_players*tournament:n_players*(tournament+1)] += arr1\n",
    "            for tournament2 in pd.unique(data.Tournament):\n",
    "                if tournament==tournament2:\n",
    "                    continue\n",
    "                else:\n",
    "                    A[player + n_players*tournament2,n_players*tournament:n_players*(tournament+1)] += BETA**(abs(tournament-tournament2)) * arr\n",
    "                    G[player + n_players*tournament2,n_players*tournament:n_players*(tournament+1)] += BETA**(abs(tournament-tournament2)) * arr1\n",
    "    w_a = (np.linalg.inv(np.eye(n_players*n_tournaments) - alpha*A) * np.matrix(A).sum(1)).sum(1)\n",
    "    w_g = (np.linalg.inv(np.eye(n_players*n_tournaments) - alpha*G) * np.matrix(G).sum(1)).sum(1)\n",
    "    return w_a/w_g"
   ]
  },
  {
   "cell_type": "code",
   "execution_count": 93,
   "metadata": {
    "collapsed": false
   },
   "outputs": [
    {
     "data": {
      "image/png": "[encoded data removed]",
      "text/plain": [
       "<matplotlib.figure.Figure at 0x11a042050>"
      ]
     },
     "metadata": {},
     "output_type": "display_data"
    }
   ],
   "source": [
    "import matplotlib.pyplot as plt\n",
    "%matplotlib inline\n",
    "\n",
    "for beta in np.linspace(.5,1,5):\n",
    "    rat = run(beta,.1)\n",
    "    plt.plot(range(n_tournaments),[(rat).tolist()[u][0]/(rat).tolist()[u+1][0] for u in range(0,n_tournaments*n_players,n_players)],label='Beta=%g'%beta)\n",
    "plt.legend();"
   ]
  }
 ],
 "metadata": {
  "kernelspec": {
   "display_name": "Python 2",
   "language": "python",
   "name": "python2"
  },
  "language_info": {
   "codemirror_mode": {
    "name": "ipython",
    "version": 2
   },
   "file_extension": ".py",
   "mimetype": "text/x-python",
   "name": "python",
   "nbconvert_exporter": "python",
   "pygments_lexer": "ipython2",
   "version": "2.7.11"
  }
 },
 "nbformat": 4,
 "nbformat_minor": 0
}
