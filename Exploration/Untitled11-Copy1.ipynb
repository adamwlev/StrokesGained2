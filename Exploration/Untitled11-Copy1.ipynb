{
 "cells": [
  {
   "cell_type": "code",
   "execution_count": 1,
   "metadata": {
    "collapsed": true
   },
   "outputs": [],
   "source": [
    "import pandas as pd\n",
    "import numpy as np\n",
    "from scipy.sparse import csc_matrix,bmat\n",
    "import xgboost as xgb\n",
    "import itertools, gc, pickle\n",
    "from datetime import datetime, timedelta\n",
    "import matplotlib.pyplot as plt\n",
    "from sklearn.preprocessing import LabelBinarizer\n",
    "%matplotlib inline"
   ]
  },
  {
   "cell_type": "code",
   "execution_count": 42,
   "metadata": {
    "collapsed": false
   },
   "outputs": [],
   "source": [
    "cols = ['tourn_num','Cat','Distance_from_hole','Strokes_from_starting_location',\n",
    "        'Course_#','Hole','Player_#','skill_estimate_percentile','not_seen','observation_count_percentile']\\\n",
    "       + ['Green_to_work_with_%d' % (slack,) for slack in range(8,23,2)]\n",
    "data = pd.concat([pd.read_csv('../data/%d.csv.gz' % year,usecols=cols) for year in range(2003,2011)])"
   ]
  },
  {
   "cell_type": "code",
   "execution_count": 43,
   "metadata": {
    "collapsed": true
   },
   "outputs": [],
   "source": [
    "data.not_seen = data.not_seen.astype(float)\n",
    "data.Strokes_from_starting_location = data.Strokes_from_starting_location.astype(float)\n",
    "data.skill_estimate_percentile = data.skill_estimate_percentile.fillna(.5)\n",
    "data.observation_count_percentile = data.observation_count_percentile.fillna(.5)"
   ]
  },
  {
   "cell_type": "code",
   "execution_count": 52,
   "metadata": {
    "collapsed": true
   },
   "outputs": [],
   "source": [
    "def prepare_data(cat,num_tourns,slack,with_skill_estimates,with_player_num,with_course_hole):\n",
    "    num_tournaments = len(pd.unique(data.tourn_num))\n",
    "    trains = [range(i) for i in range(num_tournaments-num_tourns-1,num_tournaments-1)]\n",
    "    tests = [[i] for i in range(num_tournaments-num_tourns,num_tournaments)]\n",
    "    sub = data[data.Cat.isin(cat_map[cat])].reset_index(drop=True)\n",
    "    trains = [sub[sub.tourn_num.isin(train)].index.values for train in trains]\n",
    "    tests = [sub[sub.tourn_num.isin(test)].index.values for test in tests]\n",
    "    cols = ['Distance_from_hole']\n",
    "    if cat!='Green': cols += ['Green_to_work_with_%d' % (slack,)]\n",
    "    if with_skill_estimates: cols += ['skill_estimate_percentile','not_seen','observation_count_percentile']\n",
    "    X = sub[cols].values\n",
    "    y = sub.Strokes_from_starting_location.values\n",
    "    if with_course_hole:\n",
    "        course_strings = np.array(['%d' % (num,) for num in sub['Course_#']])\n",
    "        course_hole_strings = np.array(['%d-%d' % (tup[0],tup[1])\n",
    "                                        for tup in sub[['Course_#','Hole']].values])\n",
    "    else:\n",
    "        course_strings, course_hole_strings = [], []\n",
    "    if with_player_num:\n",
    "        player_strings = np.array(['%d' % (num,) for num in sub['Player_#']])\n",
    "    else:\n",
    "        player_strings = []\n",
    "    return X,y,course_strings,course_hole_strings,player_strings,trains,tests"
   ]
  },
  {
   "cell_type": "code",
   "execution_count": 53,
   "metadata": {
    "collapsed": true
   },
   "outputs": [],
   "source": [
    "# def psuedo_huber(preds, dtrain):\n",
    "#     labels = dtrain.get_label()\n",
    "#     delta = psuedo_huber.delta\n",
    "#     resids = preds - labels\n",
    "#     grad = resids * (1 + (resids/delta)**2)**(-.5)\n",
    "#     hess = (1 + (resids/delta)**2)**(-1.5)\n",
    "#     return grad, hess\n",
    "\n",
    "def find_num_trees(X,y,params,eval_pct):\n",
    "    early_stopping_rounds = 25\n",
    "    num_round = 10000\n",
    "    num_train = int(X.shape[0]*(1-eval_pct))\n",
    "    dtrain = xgb.DMatrix(X[:num_train],label=y[:num_train])\n",
    "    deval = xgb.DMatrix(X[num_train:],label=y[num_train:])\n",
    "    watchlist  = [(dtrain,'train'),(deval,'eval')]\n",
    "    params['base_score'] = y[:num_train].mean()\n",
    "    bst = xgb.train(params,dtrain,num_round,watchlist,\n",
    "                    early_stopping_rounds=early_stopping_rounds,verbose_eval=False) \n",
    "    return bst.best_iteration\n",
    "\n",
    "cats = ['Green','Fairway','Rough','Other','Bunker','Tee Box']\n",
    "cat_map = {'Green':set(['Green']),'Fairway':set(['Fringe','Fairway']),'Bunker':set(['Bunker']),\n",
    "           'Rough':set(['Primary Rough','Intermediate Rough']),'Other':set(['Other']),'Tee Box':set(['Tee Box'])}\n",
    "delta_map = {'Green':.6,'Fairway':.9,'Rough':1.05,'Other':1.5,'Bunker':1.05,'Tee Box':1.25}\n",
    "params = {'objective':'reg:linear','min_child_weight':4,\n",
    "          'subsample':.75,'tree_method':'approx','silent':1,\n",
    "          'eta':.05,'lambda':15,'max_depth':9}\n",
    "\n",
    "def run(cat,num_tourns,slack,with_skill_estimates,with_player_num,with_course_hole,params,eval_pct):\n",
    "    (X,y,course_strings,course_hole_strings,player_strings,trains,tests) = prepare_data(cat,num_tourns,slack,\n",
    "                                                                                        with_skill_estimates,\n",
    "                                                                                        with_player_num,\n",
    "                                                                                        with_course_hole)\n",
    "    #psuedo_huber.delta = delta_map[cat]\n",
    "    if with_course_hole:\n",
    "        X = csc_matrix(X)\n",
    "    results = []\n",
    "    for u,(train,test) in enumerate(zip(trains,tests)):\n",
    "        gc.collect()\n",
    "        if with_course_hole or with_player_num:\n",
    "            X_train, X_test = X.copy()[train], X.copy()[test]\n",
    "        else:\n",
    "            X_train, X_test = np.copy(X)[train], np.copy(X)[test]\n",
    "        if with_player_num:\n",
    "            lb3 = LabelBinarizer(sparse_output=True)\n",
    "            X_train = bmat([[X_train,lb3.fit_transform(player_strings[train])]],format='csc')\n",
    "            X_test = bmat([[X_test,lb3.transform(player_strings[test])]],format='csc')\n",
    "        if with_course_hole:\n",
    "            lb1 = LabelBinarizer(sparse_output=True)\n",
    "            lb2 = LabelBinarizer(sparse_output=True)\n",
    "            X_train = bmat([[X_train,lb1.fit_transform(course_strings[train]),\n",
    "                             lb2.fit_transform(course_hole_strings[train])]],format='csc')\n",
    "            X_test = bmat([[X_test,lb1.transform(course_strings[test]),\n",
    "                            lb2.transform(course_hole_strings[test])]],format='csc')\n",
    "        \n",
    "        if u%8==0:\n",
    "            #print 'finding_num_trees'\n",
    "            num_trees = find_num_trees(X_train,y[train],params,eval_pct)\n",
    "        dtrain = xgb.DMatrix(X_train,label=y[train])\n",
    "        dtest = xgb.DMatrix(X_test)\n",
    "        params['base_score'] = y[train].mean()\n",
    "        bst = xgb.train(params,dtrain,num_trees)\n",
    "        preds = bst.predict(dtest)\n",
    "        error = np.mean((preds-y[test])**2)\n",
    "        mean_error = np.mean((np.mean(y[train])-y[test])**2)\n",
    "        r_sq = (mean_error-error)/mean_error\n",
    "        #print len(test),num_trees,r_sq\n",
    "        results.append(r_sq)\n",
    "    mean, std_err = np.mean(results), np.std(results)/num_tourns**.5\n",
    "    return (mean-std_err,mean+std_err)"
   ]
  },
  {
   "cell_type": "code",
   "execution_count": 26,
   "metadata": {
    "collapsed": false,
    "scrolled": true
   },
   "outputs": [
    {
     "name": "stdout",
     "output_type": "stream",
     "text": [
      "Fairway 8\n",
      "(0.33928774074220902, 0.36694465693894163)\n",
      "Fairway 10\n",
      "(0.33939533077447553, 0.36708214590545502)\n",
      "Fairway 12\n",
      "(0.33949765709202639, 0.36720138080988662)\n",
      "Fairway 14\n",
      "(0.33936518256020809, 0.36713107857507121)\n",
      "Fairway 16\n",
      "(0.33943184493827866, 0.36717784905189216)\n",
      "Fairway 18\n",
      "(0.33942500325098279, 0.36720861093109103)\n",
      "Fairway 20\n",
      "(0.33946587097051889, 0.36723312783401069)\n",
      "Fairway 22\n",
      "(0.33945275122255131, 0.36724072256257884)\n",
      "Rough 8\n",
      "(0.36590330290437384, 0.39803482771916371)\n",
      "Rough 10\n",
      "(0.36661282884573582, 0.39869305580604214)\n",
      "Rough 12\n",
      "(0.36690523250219581, 0.39897309237973372)\n",
      "Rough 14\n",
      "(0.36691572614204454, 0.39907423387977498)\n",
      "Rough 16\n",
      "(0.36722057732378061, 0.39933902312079755)\n",
      "Rough 18\n",
      "(0.36757315530789747, 0.39966912048755843)\n",
      "Rough 20\n",
      "(0.36795846857652453, 0.39996129556093413)\n",
      "Rough 22\n",
      "(0.36755091229368408, 0.39963042594380638)\n",
      "Other 8\n",
      "(0.16378576879057768, 0.22738587129704643)\n",
      "Other 10\n",
      "(0.16331782924313584, 0.22843607481311659)\n",
      "Other 12\n",
      "(0.16601417763369203, 0.2267626239484446)\n",
      "Other 14\n",
      "(0.16454096313236855, 0.22409436775739372)\n",
      "Other 16\n",
      "(0.165403515836265, 0.22330010594443783)\n",
      "Other 18\n",
      "(0.16269427572305159, 0.22428450643950595)\n",
      "Other 20\n",
      "(0.15837749962484596, 0.21983115301541165)\n",
      "Other 22\n",
      "(0.15255984076251894, 0.21905506094726168)\n",
      "Bunker 8\n",
      "(0.35163123113023553, 0.38742409383702703)\n",
      "Bunker 10\n",
      "(0.35134783456831209, 0.38724261903019386)\n",
      "Bunker 12\n",
      "(0.35128234474162046, 0.38699189780958076)\n",
      "Bunker 14\n",
      "(0.35147911678522886, 0.38733986181568619)\n",
      "Bunker 16\n",
      "(0.35203494546328207, 0.38785576057076321)\n",
      "Bunker 18\n",
      "(0.35183262998559556, 0.38750402866335715)\n",
      "Bunker 20\n",
      "(0.35244609966128015, 0.38815501701411559)\n",
      "Bunker 22\n",
      "(0.3521120198282085, 0.38775656310490647)\n",
      "Tee Box 8\n",
      "(0.41026276420742247, 0.42881940795717266)\n",
      "Tee Box 10\n",
      "(0.4103423613565953, 0.42879762343274885)\n",
      "Tee Box 12\n",
      "(0.41039134665426008, 0.42870776338286415)\n",
      "Tee Box 14\n",
      "(0.41012285623907035, 0.42860241170581875)\n",
      "Tee Box 16\n",
      "(0.40947419948595082, 0.42819635240478576)\n",
      "Tee Box 18\n",
      "(0.40976151703451597, 0.42858644356318082)\n",
      "Tee Box 20\n",
      "(0.41033295862143865, 0.42897506348953868)\n",
      "Tee Box 22\n",
      "(0.4103777773733846, 0.42905026421331222)\n"
     ]
    }
   ],
   "source": [
    "results = {}\n",
    "for cat in cats[1:]:\n",
    "    for slack in range(8,23,2):\n",
    "        print cat,slack\n",
    "        res = run(cat,15,slack,False,params,.22)\n",
    "        print res\n",
    "        results[(cat,slack)] = res"
   ]
  },
  {
   "cell_type": "code",
   "execution_count": 36,
   "metadata": {
    "collapsed": false,
    "scrolled": true
   },
   "outputs": [
    {
     "name": "stdout",
     "output_type": "stream",
     "text": [
      "Fairway\n"
     ]
    },
    {
     "data": {
      "image/png": "[encoded data removed]",
      "text/plain": [
       "<matplotlib.figure.Figure at 0x12317abd0>"
      ]
     },
     "metadata": {},
     "output_type": "display_data"
    },
    {
     "name": "stdout",
     "output_type": "stream",
     "text": [
      "Rough\n"
     ]
    },
    {
     "data": {
      "image/png": "[encoded data removed]",
      "text/plain": [
       "<matplotlib.figure.Figure at 0x123571c10>"
      ]
     },
     "metadata": {},
     "output_type": "display_data"
    },
    {
     "name": "stdout",
     "output_type": "stream",
     "text": [
      "Other\n"
     ]
    },
    {
     "data": {
      "image/png": "[encoded data removed]",
      "text/plain": [
       "<matplotlib.figure.Figure at 0x123da1510>"
      ]
     },
     "metadata": {},
     "output_type": "display_data"
    },
    {
     "name": "stdout",
     "output_type": "stream",
     "text": [
      "Bunker\n"
     ]
    },
    {
     "data": {
      "image/png": "[encoded data removed]",
      "text/plain": [
       "<matplotlib.figure.Figure at 0x123e20dd0>"
      ]
     },
     "metadata": {},
     "output_type": "display_data"
    }
   ],
   "source": [
    "y_ = np.array([])\n",
    "for cat in cats[1:-1]:\n",
    "    print cat\n",
    "    x,y = (np.array([key[1] for key in results.keys() if key[0]==cat]),\n",
    "           np.array([results[key][1] for key in results.keys() if key[0]==cat]))\n",
    "    plt.scatter(np.sort(x),y[np.argsort(x)]);\n",
    "    plt.ylim(np.amin(y),np.amax(y))\n",
    "    y_ = np.concatenate([y_,y-np.mean(y)])\n",
    "    plt.show()"
   ]
  },
  {
   "cell_type": "code",
   "execution_count": 41,
   "metadata": {
    "collapsed": false
   },
   "outputs": [
    {
     "data": {
      "image/png": "[encoded data removed]",
      "text/plain": [
       "<matplotlib.figure.Figure at 0x12379d350>"
      ]
     },
     "metadata": {},
     "output_type": "display_data"
    }
   ],
   "source": [
    "plt.scatter(x,y_.reshape((4,8)).mean(0))\n",
    "plt.ylim(np.amin(y_),np.amax(y_));"
   ]
  },
  {
   "cell_type": "code",
   "execution_count": 55,
   "metadata": {
    "collapsed": false
   },
   "outputs": [
    {
     "name": "stdout",
     "output_type": "stream",
     "text": [
      "Green\n",
      "with_player_num (0.59159504137265451, 0.59826035688280754)\n",
      "with_course_hole (0.59181669120703784, 0.59848325462437468)\n",
      "Fairway\n",
      "baseline (0.34768046385633061, 0.36948141220287084)\n",
      "with_skill_estimates (0.35048479092497653, 0.37204877873731679)\n",
      "with_player_num (0.35096107461967002, 0.37256135154894238)\n",
      "with_course_hole (0.35491417078870313, 0.37598051625005668)\n",
      "Rough\n",
      "baseline (0.37377596518776279, 0.39795682092687101)\n",
      "with_skill_estimates (0.37588777454603051, 0.40004228028331623)\n",
      "with_player_num (0.37674181463004863, 0.40092409002823592)\n",
      "with_course_hole (0.3805135455544198, 0.40478533742223205)\n",
      "Other\n",
      "baseline (0.19217943924591702, 0.23655145737596001)\n",
      "with_skill_estimates (0.19014789138648205, 0.23273227050468995)\n",
      "with_player_num (0.19098039628998698, 0.23506506111918996)\n",
      "with_course_hole (0.21966720141308127, 0.27853850998750845)\n",
      "Bunker\n",
      "baseline (0.33246257738623008, 0.36104044325785134)\n",
      "with_skill_estimates (0.336210867839289, 0.36494965876821894)\n",
      "with_player_num (0.33802032009393662, 0.36698803532212348)\n",
      "with_course_hole (0.34371507849617294, 0.37277264344498034)\n",
      "Tee Box\n",
      "baseline (0.40507275986438129, 0.41972603263471353)\n",
      "with_skill_estimates (0.40860372836891312, 0.42303636496809149)\n",
      "with_player_num (0.4094240627034707, 0.42389552770300215)\n",
      "with_course_hole (0.41767167303101044, 0.43247135873737669)\n"
     ]
    }
   ],
   "source": [
    "results = {}\n",
    "results['Green'] = ((0.58976062042512356, 0.59642895108859784),\n",
    "                    (0.59152030736690209, 0.59815610257623575))\n",
    "for cat in cats:\n",
    "    print cat\n",
    "    if cat!='Green':\n",
    "        res1 = run(cat,24,16,False,False,False,params,.22)\n",
    "        print \"baseline\",res1\n",
    "        res2 = run(cat,24,16,True,False,False,params,.22)\n",
    "        print \"with_skill_estimates\", res2\n",
    "    res3 = run(cat,24,16,True,True,False,params,.22)\n",
    "    print \"with_player_num\",res3\n",
    "    res4 = run(cat,24,16,True,True,True,params,.22)\n",
    "    print \"with_course_hole\",res4\n",
    "    if cat=='Green':\n",
    "        results[cat] += (res3,res4)\n",
    "        continue\n",
    "    results[cat] = (res1,res2,res3,res4)"
   ]
  },
  {
   "cell_type": "code",
   "execution_count": 56,
   "metadata": {
    "collapsed": false
   },
   "outputs": [
    {
     "data": {
      "image/png": "[encoded data removed]",
      "text/plain": [
       "<matplotlib.figure.Figure at 0x123df9810>"
      ]
     },
     "metadata": {},
     "output_type": "display_data"
    },
    {
     "data": {
      "image/png": "[encoded data removed]",
      "text/plain": [
       "<matplotlib.figure.Figure at 0x123e44710>"
      ]
     },
     "metadata": {},
     "output_type": "display_data"
    },
    {
     "data": {
      "image/png": "[encoded data removed]",
      "text/plain": [
       "<matplotlib.figure.Figure at 0x123d64b50>"
      ]
     },
     "metadata": {},
     "output_type": "display_data"
    },
    {
     "data": {
      "image/png": "[encoded data removed]",
      "text/plain": [
       "<matplotlib.figure.Figure at 0x123169490>"
      ]
     },
     "metadata": {},
     "output_type": "display_data"
    },
    {
     "data": {
      "image/png": "[encoded data removed]",
      "text/plain": [
       "<matplotlib.figure.Figure at 0x12317a810>"
      ]
     },
     "metadata": {},
     "output_type": "display_data"
    },
    {
     "data": {
      "image/png": "[encoded data removed]",
      "text/plain": [
       "<matplotlib.figure.Figure at 0x123cb6b50>"
      ]
     },
     "metadata": {},
     "output_type": "display_data"
    }
   ],
   "source": [
    "for cat in cats:\n",
    "    x = range(4)\n",
    "    y1,y2 = zip(*results[cat])\n",
    "    plt.scatter(x,y1)\n",
    "    plt.scatter(x,y2)\n",
    "    plt.show();"
   ]
  },
  {
   "cell_type": "code",
   "execution_count": null,
   "metadata": {
    "collapsed": true
   },
   "outputs": [],
   "source": []
  }
 ],
 "metadata": {
  "kernelspec": {
   "display_name": "Python 2",
   "language": "python",
   "name": "python2"
  },
  "language_info": {
   "codemirror_mode": {
    "name": "ipython",
    "version": 2
   },
   "file_extension": ".py",
   "mimetype": "text/x-python",
   "name": "python",
   "nbconvert_exporter": "python",
   "pygments_lexer": "ipython2",
   "version": "2.7.13"
  }
 },
 "nbformat": 4,
 "nbformat_minor": 2
}
