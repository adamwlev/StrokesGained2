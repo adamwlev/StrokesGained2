{
 "cells": [
  {
   "cell_type": "code",
   "execution_count": 73,
   "metadata": {
    "collapsed": true
   },
   "outputs": [],
   "source": [
    "import pandas as pd\n",
    "import numpy as np\n",
    "from scipy.sparse import csc_matrix\n",
    "import matplotlib.pyplot as plt\n",
    "%matplotlib inline"
   ]
  },
  {
   "cell_type": "code",
   "execution_count": 74,
   "metadata": {
    "collapsed": true
   },
   "outputs": [],
   "source": [
    "def load_sparse_csc(filename):\n",
    "        loader = np.load(filename)\n",
    "        return csc_matrix((loader['data'],loader['indices'],loader['indptr']),shape = loader['shape'])"
   ]
  },
  {
   "cell_type": "code",
   "execution_count": 111,
   "metadata": {
    "collapsed": false
   },
   "outputs": [],
   "source": [
    "data = pd.read_csv('../data/2017.csv',usecols=['skill_estimate','skill_estimate_percentile','not_seen',\n",
    "                                               'observation_count','observation_count_percentile',\n",
    "                                               'Player_First_Name','Player_Last_Name','baby_cat','Player_Index',\n",
    "                                               'tourn_num'])"
   ]
  },
  {
   "cell_type": "code",
   "execution_count": 112,
   "metadata": {
    "collapsed": false
   },
   "outputs": [
    {
     "data": {
      "text/html": [
       "<div>\n",
       "<style>\n",
       "    .dataframe thead tr:only-child th {\n",
       "        text-align: right;\n",
       "    }\n",
       "\n",
       "    .dataframe thead th {\n",
       "        text-align: left;\n",
       "    }\n",
       "\n",
       "    .dataframe tbody tr th {\n",
       "        vertical-align: top;\n",
       "    }\n",
       "</style>\n",
       "<table border=\"1\" class=\"dataframe\">\n",
       "  <thead>\n",
       "    <tr style=\"text-align: right;\">\n",
       "      <th></th>\n",
       "      <th>Player_First_Name</th>\n",
       "      <th>Player_Last_Name</th>\n",
       "      <th>tourn_num</th>\n",
       "      <th>baby_cat</th>\n",
       "      <th>Player_Index</th>\n",
       "      <th>skill_estimate</th>\n",
       "      <th>observation_count</th>\n",
       "      <th>not_seen</th>\n",
       "      <th>skill_estimate_percentile</th>\n",
       "      <th>observation_count_percentile</th>\n",
       "    </tr>\n",
       "  </thead>\n",
       "  <tbody>\n",
       "    <tr>\n",
       "      <th>832519</th>\n",
       "      <td>Grant</td>\n",
       "      <td>Leaver</td>\n",
       "      <td>572</td>\n",
       "      <td>fairway0</td>\n",
       "      <td>1405</td>\n",
       "      <td>1.111380</td>\n",
       "      <td>3.694421</td>\n",
       "      <td>False</td>\n",
       "      <td>0.92074</td>\n",
       "      <td>0.001321</td>\n",
       "    </tr>\n",
       "    <tr>\n",
       "      <th>832576</th>\n",
       "      <td>Grant</td>\n",
       "      <td>Leaver</td>\n",
       "      <td>572</td>\n",
       "      <td>fairway0</td>\n",
       "      <td>1405</td>\n",
       "      <td>1.111380</td>\n",
       "      <td>3.694421</td>\n",
       "      <td>False</td>\n",
       "      <td>0.92074</td>\n",
       "      <td>0.001321</td>\n",
       "    </tr>\n",
       "    <tr>\n",
       "      <th>832416</th>\n",
       "      <td>Grant</td>\n",
       "      <td>Leaver</td>\n",
       "      <td>572</td>\n",
       "      <td>fairway0</td>\n",
       "      <td>1405</td>\n",
       "      <td>1.111380</td>\n",
       "      <td>3.694421</td>\n",
       "      <td>False</td>\n",
       "      <td>0.92074</td>\n",
       "      <td>0.001321</td>\n",
       "    </tr>\n",
       "    <tr>\n",
       "      <th>630702</th>\n",
       "      <td>Brett</td>\n",
       "      <td>Coletta</td>\n",
       "      <td>566</td>\n",
       "      <td>fairway300</td>\n",
       "      <td>2005</td>\n",
       "      <td>0.637091</td>\n",
       "      <td>353.776832</td>\n",
       "      <td>False</td>\n",
       "      <td>0.01145</td>\n",
       "      <td>0.003817</td>\n",
       "    </tr>\n",
       "    <tr>\n",
       "      <th>630644</th>\n",
       "      <td>Brett</td>\n",
       "      <td>Coletta</td>\n",
       "      <td>566</td>\n",
       "      <td>fairway300</td>\n",
       "      <td>2005</td>\n",
       "      <td>0.637091</td>\n",
       "      <td>353.776832</td>\n",
       "      <td>False</td>\n",
       "      <td>0.01145</td>\n",
       "      <td>0.003817</td>\n",
       "    </tr>\n",
       "    <tr>\n",
       "      <th>630651</th>\n",
       "      <td>Brett</td>\n",
       "      <td>Coletta</td>\n",
       "      <td>566</td>\n",
       "      <td>fairway300</td>\n",
       "      <td>2005</td>\n",
       "      <td>0.637091</td>\n",
       "      <td>353.776832</td>\n",
       "      <td>False</td>\n",
       "      <td>0.01145</td>\n",
       "      <td>0.003817</td>\n",
       "    </tr>\n",
       "    <tr>\n",
       "      <th>631828</th>\n",
       "      <td>Brett</td>\n",
       "      <td>Coletta</td>\n",
       "      <td>566</td>\n",
       "      <td>fairway300</td>\n",
       "      <td>2005</td>\n",
       "      <td>0.637091</td>\n",
       "      <td>353.776832</td>\n",
       "      <td>False</td>\n",
       "      <td>0.01145</td>\n",
       "      <td>0.003817</td>\n",
       "    </tr>\n",
       "    <tr>\n",
       "      <th>631751</th>\n",
       "      <td>Brett</td>\n",
       "      <td>Coletta</td>\n",
       "      <td>566</td>\n",
       "      <td>fairway300</td>\n",
       "      <td>2005</td>\n",
       "      <td>0.637091</td>\n",
       "      <td>353.776832</td>\n",
       "      <td>False</td>\n",
       "      <td>0.01145</td>\n",
       "      <td>0.003817</td>\n",
       "    </tr>\n",
       "    <tr>\n",
       "      <th>631850</th>\n",
       "      <td>Brett</td>\n",
       "      <td>Coletta</td>\n",
       "      <td>566</td>\n",
       "      <td>fairway300</td>\n",
       "      <td>2005</td>\n",
       "      <td>0.637091</td>\n",
       "      <td>353.776832</td>\n",
       "      <td>False</td>\n",
       "      <td>0.01145</td>\n",
       "      <td>0.003817</td>\n",
       "    </tr>\n",
       "    <tr>\n",
       "      <th>630618</th>\n",
       "      <td>Brett</td>\n",
       "      <td>Coletta</td>\n",
       "      <td>566</td>\n",
       "      <td>fairway300</td>\n",
       "      <td>2005</td>\n",
       "      <td>0.637091</td>\n",
       "      <td>353.776832</td>\n",
       "      <td>False</td>\n",
       "      <td>0.01145</td>\n",
       "      <td>0.003817</td>\n",
       "    </tr>\n",
       "  </tbody>\n",
       "</table>\n",
       "</div>"
      ],
      "text/plain": [
       "       Player_First_Name Player_Last_Name  tourn_num    baby_cat  \\\n",
       "832519             Grant           Leaver        572    fairway0   \n",
       "832576             Grant           Leaver        572    fairway0   \n",
       "832416             Grant           Leaver        572    fairway0   \n",
       "630702             Brett          Coletta        566  fairway300   \n",
       "630644             Brett          Coletta        566  fairway300   \n",
       "630651             Brett          Coletta        566  fairway300   \n",
       "631828             Brett          Coletta        566  fairway300   \n",
       "631751             Brett          Coletta        566  fairway300   \n",
       "631850             Brett          Coletta        566  fairway300   \n",
       "630618             Brett          Coletta        566  fairway300   \n",
       "\n",
       "        Player_Index  skill_estimate  observation_count  not_seen  \\\n",
       "832519          1405        1.111380           3.694421     False   \n",
       "832576          1405        1.111380           3.694421     False   \n",
       "832416          1405        1.111380           3.694421     False   \n",
       "630702          2005        0.637091         353.776832     False   \n",
       "630644          2005        0.637091         353.776832     False   \n",
       "630651          2005        0.637091         353.776832     False   \n",
       "631828          2005        0.637091         353.776832     False   \n",
       "631751          2005        0.637091         353.776832     False   \n",
       "631850          2005        0.637091         353.776832     False   \n",
       "630618          2005        0.637091         353.776832     False   \n",
       "\n",
       "        skill_estimate_percentile  observation_count_percentile  \n",
       "832519                    0.92074                      0.001321  \n",
       "832576                    0.92074                      0.001321  \n",
       "832416                    0.92074                      0.001321  \n",
       "630702                    0.01145                      0.003817  \n",
       "630644                    0.01145                      0.003817  \n",
       "630651                    0.01145                      0.003817  \n",
       "631828                    0.01145                      0.003817  \n",
       "631751                    0.01145                      0.003817  \n",
       "631850                    0.01145                      0.003817  \n",
       "630618                    0.01145                      0.003817  "
      ]
     },
     "execution_count": 112,
     "metadata": {},
     "output_type": "execute_result"
    }
   ],
   "source": [
    "data.sort_values('observation_count_percentile',ascending=True).head(10)"
   ]
  },
  {
   "cell_type": "code",
   "execution_count": 130,
   "metadata": {
    "collapsed": false,
    "scrolled": false
   },
   "outputs": [
    {
     "data": {
      "text/html": [
       "<div>\n",
       "<style>\n",
       "    .dataframe thead tr:only-child th {\n",
       "        text-align: right;\n",
       "    }\n",
       "\n",
       "    .dataframe thead th {\n",
       "        text-align: left;\n",
       "    }\n",
       "\n",
       "    .dataframe tbody tr th {\n",
       "        vertical-align: top;\n",
       "    }\n",
       "</style>\n",
       "<table border=\"1\" class=\"dataframe\">\n",
       "  <thead>\n",
       "    <tr style=\"text-align: right;\">\n",
       "      <th></th>\n",
       "      <th>0</th>\n",
       "      <th>1</th>\n",
       "      <th>2</th>\n",
       "      <th>3</th>\n",
       "      <th>4</th>\n",
       "      <th>5</th>\n",
       "      <th>6</th>\n",
       "      <th>7</th>\n",
       "      <th>8</th>\n",
       "      <th>9</th>\n",
       "    </tr>\n",
       "    <tr>\n",
       "      <th>baby_cat</th>\n",
       "      <th></th>\n",
       "      <th></th>\n",
       "      <th></th>\n",
       "      <th></th>\n",
       "      <th></th>\n",
       "      <th></th>\n",
       "      <th></th>\n",
       "      <th></th>\n",
       "      <th></th>\n",
       "      <th></th>\n",
       "    </tr>\n",
       "  </thead>\n",
       "  <tbody>\n",
       "    <tr>\n",
       "      <th>bunker</th>\n",
       "      <td>Brandt</td>\n",
       "      <td>Snedeker</td>\n",
       "      <td>557</td>\n",
       "      <td>bunker</td>\n",
       "      <td>736</td>\n",
       "      <td>1.111014</td>\n",
       "      <td>6.793442e+04</td>\n",
       "      <td>False</td>\n",
       "      <td>0.887755</td>\n",
       "      <td>0.956633</td>\n",
       "    </tr>\n",
       "    <tr>\n",
       "      <th>fairway0</th>\n",
       "      <td>Matt</td>\n",
       "      <td>Kuchar</td>\n",
       "      <td>555</td>\n",
       "      <td>fairway0</td>\n",
       "      <td>411</td>\n",
       "      <td>1.106957</td>\n",
       "      <td>8.657614e+04</td>\n",
       "      <td>False</td>\n",
       "      <td>0.905972</td>\n",
       "      <td>0.958069</td>\n",
       "    </tr>\n",
       "    <tr>\n",
       "      <th>fairway300</th>\n",
       "      <td>David</td>\n",
       "      <td>Hearn</td>\n",
       "      <td>565</td>\n",
       "      <td>fairway300</td>\n",
       "      <td>508</td>\n",
       "      <td>1.055420</td>\n",
       "      <td>7.331019e+05</td>\n",
       "      <td>False</td>\n",
       "      <td>0.909669</td>\n",
       "      <td>0.993639</td>\n",
       "    </tr>\n",
       "    <tr>\n",
       "      <th>fairway540</th>\n",
       "      <td>Kevin</td>\n",
       "      <td>Chappell</td>\n",
       "      <td>546</td>\n",
       "      <td>fairway540</td>\n",
       "      <td>1244</td>\n",
       "      <td>1.063083</td>\n",
       "      <td>5.312149e+05</td>\n",
       "      <td>False</td>\n",
       "      <td>0.855844</td>\n",
       "      <td>0.975325</td>\n",
       "    </tr>\n",
       "    <tr>\n",
       "      <th>green0</th>\n",
       "      <td>Michael</td>\n",
       "      <td>Kim</td>\n",
       "      <td>571</td>\n",
       "      <td>green0</td>\n",
       "      <td>1698</td>\n",
       "      <td>1.017364</td>\n",
       "      <td>4.757396e+05</td>\n",
       "      <td>False</td>\n",
       "      <td>0.850727</td>\n",
       "      <td>0.963012</td>\n",
       "    </tr>\n",
       "    <tr>\n",
       "      <th>green10</th>\n",
       "      <td>Adam</td>\n",
       "      <td>Hadwin</td>\n",
       "      <td>560</td>\n",
       "      <td>green10</td>\n",
       "      <td>1400</td>\n",
       "      <td>1.036416</td>\n",
       "      <td>7.718386e+04</td>\n",
       "      <td>False</td>\n",
       "      <td>0.818528</td>\n",
       "      <td>0.987310</td>\n",
       "    </tr>\n",
       "    <tr>\n",
       "      <th>green20</th>\n",
       "      <td>Camilo</td>\n",
       "      <td>Villegas</td>\n",
       "      <td>554</td>\n",
       "      <td>green20</td>\n",
       "      <td>745</td>\n",
       "      <td>1.043929</td>\n",
       "      <td>1.404609e+05</td>\n",
       "      <td>False</td>\n",
       "      <td>0.888183</td>\n",
       "      <td>0.959339</td>\n",
       "    </tr>\n",
       "    <tr>\n",
       "      <th>green5</th>\n",
       "      <td>Harris</td>\n",
       "      <td>English</td>\n",
       "      <td>564</td>\n",
       "      <td>green5</td>\n",
       "      <td>1585</td>\n",
       "      <td>1.055301</td>\n",
       "      <td>5.538937e+04</td>\n",
       "      <td>False</td>\n",
       "      <td>0.856599</td>\n",
       "      <td>0.982234</td>\n",
       "    </tr>\n",
       "    <tr>\n",
       "      <th>other</th>\n",
       "      <td>Luke</td>\n",
       "      <td>Donald</td>\n",
       "      <td>552</td>\n",
       "      <td>other</td>\n",
       "      <td>437</td>\n",
       "      <td>1.153670</td>\n",
       "      <td>1.062923e+04</td>\n",
       "      <td>False</td>\n",
       "      <td>0.841017</td>\n",
       "      <td>0.957075</td>\n",
       "    </tr>\n",
       "    <tr>\n",
       "      <th>rough0</th>\n",
       "      <td>Cameron</td>\n",
       "      <td>Tringale</td>\n",
       "      <td>550</td>\n",
       "      <td>rough0</td>\n",
       "      <td>1401</td>\n",
       "      <td>1.107604</td>\n",
       "      <td>2.103082e+04</td>\n",
       "      <td>False</td>\n",
       "      <td>0.870968</td>\n",
       "      <td>0.966452</td>\n",
       "    </tr>\n",
       "    <tr>\n",
       "      <th>rough375</th>\n",
       "      <td>Kevin</td>\n",
       "      <td>Na</td>\n",
       "      <td>555</td>\n",
       "      <td>rough375</td>\n",
       "      <td>477</td>\n",
       "      <td>1.073274</td>\n",
       "      <td>1.827302e+05</td>\n",
       "      <td>False</td>\n",
       "      <td>0.898089</td>\n",
       "      <td>0.951592</td>\n",
       "    </tr>\n",
       "    <tr>\n",
       "      <th>rough90</th>\n",
       "      <td>Hunter</td>\n",
       "      <td>Mahan</td>\n",
       "      <td>550</td>\n",
       "      <td>rough90</td>\n",
       "      <td>457</td>\n",
       "      <td>1.112111</td>\n",
       "      <td>1.837940e+04</td>\n",
       "      <td>False</td>\n",
       "      <td>0.866930</td>\n",
       "      <td>0.973650</td>\n",
       "    </tr>\n",
       "    <tr>\n",
       "      <th>tee3</th>\n",
       "      <td>Jason</td>\n",
       "      <td>Kokrak</td>\n",
       "      <td>560</td>\n",
       "      <td>tee3</td>\n",
       "      <td>1473</td>\n",
       "      <td>1.066022</td>\n",
       "      <td>5.452072e+06</td>\n",
       "      <td>False</td>\n",
       "      <td>0.901015</td>\n",
       "      <td>0.970812</td>\n",
       "    </tr>\n",
       "    <tr>\n",
       "      <th>tee45</th>\n",
       "      <td>Tony</td>\n",
       "      <td>Finau</td>\n",
       "      <td>561</td>\n",
       "      <td>tee45</td>\n",
       "      <td>1143</td>\n",
       "      <td>1.074685</td>\n",
       "      <td>2.053874e+07</td>\n",
       "      <td>False</td>\n",
       "      <td>0.960660</td>\n",
       "      <td>0.984772</td>\n",
       "    </tr>\n",
       "  </tbody>\n",
       "</table>\n",
       "</div>"
      ],
      "text/plain": [
       "                  0         1    2           3     4         5             6  \\\n",
       "baby_cat                                                                       \n",
       "bunker       Brandt  Snedeker  557      bunker   736  1.111014  6.793442e+04   \n",
       "fairway0       Matt    Kuchar  555    fairway0   411  1.106957  8.657614e+04   \n",
       "fairway300    David     Hearn  565  fairway300   508  1.055420  7.331019e+05   \n",
       "fairway540    Kevin  Chappell  546  fairway540  1244  1.063083  5.312149e+05   \n",
       "green0      Michael       Kim  571      green0  1698  1.017364  4.757396e+05   \n",
       "green10        Adam    Hadwin  560     green10  1400  1.036416  7.718386e+04   \n",
       "green20      Camilo  Villegas  554     green20   745  1.043929  1.404609e+05   \n",
       "green5       Harris   English  564      green5  1585  1.055301  5.538937e+04   \n",
       "other          Luke    Donald  552       other   437  1.153670  1.062923e+04   \n",
       "rough0      Cameron  Tringale  550      rough0  1401  1.107604  2.103082e+04   \n",
       "rough375      Kevin        Na  555    rough375   477  1.073274  1.827302e+05   \n",
       "rough90      Hunter     Mahan  550     rough90   457  1.112111  1.837940e+04   \n",
       "tee3          Jason    Kokrak  560        tee3  1473  1.066022  5.452072e+06   \n",
       "tee45          Tony     Finau  561       tee45  1143  1.074685  2.053874e+07   \n",
       "\n",
       "                7         8         9  \n",
       "baby_cat                               \n",
       "bunker      False  0.887755  0.956633  \n",
       "fairway0    False  0.905972  0.958069  \n",
       "fairway300  False  0.909669  0.993639  \n",
       "fairway540  False  0.855844  0.975325  \n",
       "green0      False  0.850727  0.963012  \n",
       "green10     False  0.818528  0.987310  \n",
       "green20     False  0.888183  0.959339  \n",
       "green5      False  0.856599  0.982234  \n",
       "other       False  0.841017  0.957075  \n",
       "rough0      False  0.870968  0.966452  \n",
       "rough375    False  0.898089  0.951592  \n",
       "rough90     False  0.866930  0.973650  \n",
       "tee3        False  0.901015  0.970812  \n",
       "tee45       False  0.960660  0.984772  "
      ]
     },
     "execution_count": 130,
     "metadata": {},
     "output_type": "execute_result"
    }
   ],
   "source": [
    "data.groupby('baby_cat').apply(lambda x: x[x.observation_count_percentile>.95]\\\n",
    "                                         .sort_values('skill_estimate_percentile',ascending=False)\\\n",
    "                                         .iloc[0].reset_index(drop=True))"
   ]
  },
  {
   "cell_type": "code",
   "execution_count": 119,
   "metadata": {
    "collapsed": true
   },
   "outputs": [],
   "source": [
    "from scipy.stats import norm"
   ]
  },
  {
   "cell_type": "code",
   "execution_count": 125,
   "metadata": {
    "collapsed": true
   },
   "outputs": [],
   "source": [
    "def my_norm(x,BETA):\n",
    "    return norm.pdf(x,0,BETA)/norm.pdf(0,0,BETA)"
   ]
  },
  {
   "cell_type": "code",
   "execution_count": 129,
   "metadata": {
    "collapsed": false
   },
   "outputs": [
    {
     "data": {
      "text/plain": [
       "0.1353352832366127"
      ]
     },
     "execution_count": 129,
     "metadata": {},
     "output_type": "execute_result"
    }
   ],
   "source": [
    "my_norm(10,5)"
   ]
  },
  {
   "cell_type": "code",
   "execution_count": 103,
   "metadata": {
    "collapsed": false
   },
   "outputs": [
    {
     "data": {
      "text/plain": [
       "<matplotlib.axes._subplots.AxesSubplot at 0x117130ad0>"
      ]
     },
     "execution_count": 103,
     "metadata": {},
     "output_type": "execute_result"
    },
    {
     "data": {
      "image/png": "[encoded data removed]",
      "text/plain": [
       "<matplotlib.figure.Figure at 0x115a86190>"
      ]
     },
     "metadata": {},
     "output_type": "display_data"
    }
   ],
   "source": [
    "data.plot('observation_count_percentile','skill_estimate_percentile',kind='scatter',alpha=.1);"
   ]
  },
  {
   "cell_type": "code",
   "execution_count": 104,
   "metadata": {
    "collapsed": false
   },
   "outputs": [
    {
     "data": {
      "text/html": [
       "<div>\n",
       "<style>\n",
       "    .dataframe thead tr:only-child th {\n",
       "        text-align: right;\n",
       "    }\n",
       "\n",
       "    .dataframe thead th {\n",
       "        text-align: left;\n",
       "    }\n",
       "\n",
       "    .dataframe tbody tr th {\n",
       "        vertical-align: top;\n",
       "    }\n",
       "</style>\n",
       "<table border=\"1\" class=\"dataframe\">\n",
       "  <thead>\n",
       "    <tr style=\"text-align: right;\">\n",
       "      <th></th>\n",
       "      <th>observation_count_percentile</th>\n",
       "      <th>skill_estimate_percentile</th>\n",
       "    </tr>\n",
       "  </thead>\n",
       "  <tbody>\n",
       "    <tr>\n",
       "      <th>observation_count_percentile</th>\n",
       "      <td>1.000000</td>\n",
       "      <td>0.138016</td>\n",
       "    </tr>\n",
       "    <tr>\n",
       "      <th>skill_estimate_percentile</th>\n",
       "      <td>0.138016</td>\n",
       "      <td>1.000000</td>\n",
       "    </tr>\n",
       "  </tbody>\n",
       "</table>\n",
       "</div>"
      ],
      "text/plain": [
       "                              observation_count_percentile  \\\n",
       "observation_count_percentile                      1.000000   \n",
       "skill_estimate_percentile                         0.138016   \n",
       "\n",
       "                              skill_estimate_percentile  \n",
       "observation_count_percentile                   0.138016  \n",
       "skill_estimate_percentile                      1.000000  "
      ]
     },
     "execution_count": 104,
     "metadata": {},
     "output_type": "execute_result"
    }
   ],
   "source": [
    "data[['observation_count_percentile','skill_estimate_percentile']].corr()"
   ]
  },
  {
   "cell_type": "code",
   "execution_count": 26,
   "metadata": {
    "collapsed": false,
    "scrolled": true
   },
   "outputs": [],
   "source": [
    "a = np.array([[4,np.nan,3],[3,2,2],[np.nan,1,1],[2,1,4],[-1,1,1]])"
   ]
  },
  {
   "cell_type": "code",
   "execution_count": 27,
   "metadata": {
    "collapsed": false
   },
   "outputs": [
    {
     "data": {
      "text/html": [
       "<div>\n",
       "<style>\n",
       "    .dataframe thead tr:only-child th {\n",
       "        text-align: right;\n",
       "    }\n",
       "\n",
       "    .dataframe thead th {\n",
       "        text-align: left;\n",
       "    }\n",
       "\n",
       "    .dataframe tbody tr th {\n",
       "        vertical-align: top;\n",
       "    }\n",
       "</style>\n",
       "<table border=\"1\" class=\"dataframe\">\n",
       "  <thead>\n",
       "    <tr style=\"text-align: right;\">\n",
       "      <th></th>\n",
       "      <th>0</th>\n",
       "      <th>1</th>\n",
       "      <th>2</th>\n",
       "    </tr>\n",
       "  </thead>\n",
       "  <tbody>\n",
       "    <tr>\n",
       "      <th>0</th>\n",
       "      <td>4.0</td>\n",
       "      <td>NaN</td>\n",
       "      <td>3.0</td>\n",
       "    </tr>\n",
       "    <tr>\n",
       "      <th>1</th>\n",
       "      <td>3.0</td>\n",
       "      <td>2.0</td>\n",
       "      <td>2.0</td>\n",
       "    </tr>\n",
       "    <tr>\n",
       "      <th>2</th>\n",
       "      <td>NaN</td>\n",
       "      <td>1.0</td>\n",
       "      <td>1.0</td>\n",
       "    </tr>\n",
       "    <tr>\n",
       "      <th>3</th>\n",
       "      <td>2.0</td>\n",
       "      <td>1.0</td>\n",
       "      <td>4.0</td>\n",
       "    </tr>\n",
       "    <tr>\n",
       "      <th>4</th>\n",
       "      <td>-1.0</td>\n",
       "      <td>1.0</td>\n",
       "      <td>1.0</td>\n",
       "    </tr>\n",
       "  </tbody>\n",
       "</table>\n",
       "</div>"
      ],
      "text/plain": [
       "     0    1    2\n",
       "0  4.0  NaN  3.0\n",
       "1  3.0  2.0  2.0\n",
       "2  NaN  1.0  1.0\n",
       "3  2.0  1.0  4.0\n",
       "4 -1.0  1.0  1.0"
      ]
     },
     "execution_count": 27,
     "metadata": {},
     "output_type": "execute_result"
    }
   ],
   "source": [
    "pd.DataFrame(a)"
   ]
  },
  {
   "cell_type": "code",
   "execution_count": 30,
   "metadata": {
    "collapsed": true
   },
   "outputs": [],
   "source": [
    "from scipy.stats import rankdata"
   ]
  },
  {
   "cell_type": "code",
   "execution_count": 32,
   "metadata": {
    "collapsed": false
   },
   "outputs": [
    {
     "data": {
      "text/plain": [
       "array([ 4.,  3.,  5.,  2.,  1.])"
      ]
     },
     "execution_count": 32,
     "metadata": {},
     "output_type": "execute_result"
    }
   ],
   "source": [
    "rankdata(a[:,0])"
   ]
  },
  {
   "cell_type": "code",
   "execution_count": 53,
   "metadata": {
    "collapsed": false
   },
   "outputs": [
    {
     "data": {
      "text/plain": [
       "array([ nan,   7.,  nan,   7.,   1.])"
      ]
     },
     "execution_count": 53,
     "metadata": {},
     "output_type": "execute_result"
    }
   ],
   "source": [
    "a.sum(1)"
   ]
  },
  {
   "cell_type": "code",
   "execution_count": 62,
   "metadata": {
    "collapsed": false
   },
   "outputs": [
    {
     "name": "stdout",
     "output_type": "stream",
     "text": [
      "[ 4.  3.  2.  1.]\n",
      "[ 4.  2.  2.  2.]\n",
      "[ 4.   3.   1.5  5.   1.5]\n"
     ]
    },
    {
     "data": {
      "text/plain": [
       "array([[ 1.  ,   nan,  0.8 ],\n",
       "       [ 0.75,  1.  ,  0.6 ],\n",
       "       [  nan,  0.5 ,  0.3 ],\n",
       "       [ 0.5 ,  0.5 ,  1.  ],\n",
       "       [ 0.25,  0.5 ,  0.3 ]])"
      ]
     },
     "execution_count": 62,
     "metadata": {},
     "output_type": "execute_result"
    }
   ],
   "source": [
    "np.apply_along_axis(lambda x: rank(x,~np.isnan(x)),0,a)"
   ]
  },
  {
   "cell_type": "code",
   "execution_count": 60,
   "metadata": {
    "collapsed": true
   },
   "outputs": [],
   "source": [
    "def rank(a,mask):\n",
    "    res = np.ones_like(a)\n",
    "    print rankdata(a[mask])\n",
    "    res[mask] = rankdata(a[mask])/mask.sum()\n",
    "    res[~mask] = np.nan\n",
    "    return res"
   ]
  },
  {
   "cell_type": "code",
   "execution_count": 58,
   "metadata": {
    "collapsed": false
   },
   "outputs": [],
   "source": [
    "a_ma = np.ma.MaskedArray(a,np.isnan(a))"
   ]
  },
  {
   "cell_type": "code",
   "execution_count": 45,
   "metadata": {
    "collapsed": false
   },
   "outputs": [
    {
     "data": {
      "text/plain": [
       "array([[  4.,  nan,   3.],\n",
       "       [  3.,   2.,   2.],\n",
       "       [ nan,   1.,   1.],\n",
       "       [  2.,   1.,   4.],\n",
       "       [ -1.,   1.,   1.]])"
      ]
     },
     "execution_count": 45,
     "metadata": {},
     "output_type": "execute_result"
    }
   ],
   "source": [
    "a"
   ]
  },
  {
   "cell_type": "code",
   "execution_count": 44,
   "metadata": {
    "collapsed": false
   },
   "outputs": [
    {
     "data": {
      "text/plain": [
       "array([[4, 2, 2],\n",
       "       [3, 3, 4],\n",
       "       [1, 4, 1],\n",
       "       [0, 1, 0],\n",
       "       [2, 0, 3]])"
      ]
     },
     "execution_count": 44,
     "metadata": {},
     "output_type": "execute_result"
    }
   ],
   "source": [
    "np.ma.argsort(a_ma,0)"
   ]
  },
  {
   "cell_type": "code",
   "execution_count": 37,
   "metadata": {
    "collapsed": false
   },
   "outputs": [
    {
     "data": {
      "text/plain": [
       "array([ 0.5  ,  0.375,  0.25 ,  0.125])"
      ]
     },
     "execution_count": 37,
     "metadata": {},
     "output_type": "execute_result"
    }
   ],
   "source": [
    "rank(a[:,0],~np.isnan(a[:,0]))"
   ]
  },
  {
   "cell_type": "code",
   "execution_count": 29,
   "metadata": {
    "collapsed": false
   },
   "outputs": [
    {
     "data": {
      "text/plain": [
       "array([[ 0.66666667,  0.33333333,  1.        ],\n",
       "       [ 0.33333333,  0.83333333,  0.83333333],\n",
       "       [ 0.33333333,  0.83333333,  0.83333333],\n",
       "       [ 0.66666667,  1.        ,  0.33333333],\n",
       "       [ 1.        ,  0.5       ,  0.5       ]])"
      ]
     },
     "execution_count": 29,
     "metadata": {},
     "output_type": "execute_result"
    }
   ],
   "source": [
    "pd.DataFrame(a).rank(ascending=False,pct=True,axis=1,na_option='a').values"
   ]
  },
  {
   "cell_type": "code",
   "execution_count": 4,
   "metadata": {
    "collapsed": false
   },
   "outputs": [
    {
     "data": {
      "text/html": [
       "<div>\n",
       "<style>\n",
       "    .dataframe thead tr:only-child th {\n",
       "        text-align: right;\n",
       "    }\n",
       "\n",
       "    .dataframe thead th {\n",
       "        text-align: left;\n",
       "    }\n",
       "\n",
       "    .dataframe tbody tr th {\n",
       "        vertical-align: top;\n",
       "    }\n",
       "</style>\n",
       "<table border=\"1\" class=\"dataframe\">\n",
       "  <thead>\n",
       "    <tr style=\"text-align: right;\">\n",
       "      <th></th>\n",
       "      <th>skill_estimate</th>\n",
       "      <th>observation_count</th>\n",
       "      <th>not_seen</th>\n",
       "      <th>skill_estimate_percentile</th>\n",
       "      <th>observation_count_percentile</th>\n",
       "    </tr>\n",
       "  </thead>\n",
       "  <tbody>\n",
       "    <tr>\n",
       "      <th>0</th>\n",
       "      <td>NaN</td>\n",
       "      <td>NaN</td>\n",
       "      <td>False</td>\n",
       "      <td>0.843426</td>\n",
       "      <td>NaN</td>\n",
       "    </tr>\n",
       "    <tr>\n",
       "      <th>1</th>\n",
       "      <td>NaN</td>\n",
       "      <td>NaN</td>\n",
       "      <td>False</td>\n",
       "      <td>NaN</td>\n",
       "      <td>NaN</td>\n",
       "    </tr>\n",
       "    <tr>\n",
       "      <th>2</th>\n",
       "      <td>NaN</td>\n",
       "      <td>NaN</td>\n",
       "      <td>False</td>\n",
       "      <td>NaN</td>\n",
       "      <td>NaN</td>\n",
       "    </tr>\n",
       "    <tr>\n",
       "      <th>3</th>\n",
       "      <td>NaN</td>\n",
       "      <td>NaN</td>\n",
       "      <td>False</td>\n",
       "      <td>NaN</td>\n",
       "      <td>NaN</td>\n",
       "    </tr>\n",
       "    <tr>\n",
       "      <th>4</th>\n",
       "      <td>NaN</td>\n",
       "      <td>NaN</td>\n",
       "      <td>False</td>\n",
       "      <td>NaN</td>\n",
       "      <td>NaN</td>\n",
       "    </tr>\n",
       "  </tbody>\n",
       "</table>\n",
       "</div>"
      ],
      "text/plain": [
       "   skill_estimate  observation_count  not_seen  skill_estimate_percentile  \\\n",
       "0             NaN                NaN     False                   0.843426   \n",
       "1             NaN                NaN     False                        NaN   \n",
       "2             NaN                NaN     False                        NaN   \n",
       "3             NaN                NaN     False                        NaN   \n",
       "4             NaN                NaN     False                        NaN   \n",
       "\n",
       "   observation_count_percentile  \n",
       "0                           NaN  \n",
       "1                           NaN  \n",
       "2                           NaN  \n",
       "3                           NaN  \n",
       "4                           NaN  "
      ]
     },
     "execution_count": 4,
     "metadata": {},
     "output_type": "execute_result"
    }
   ],
   "source": [
    "data.head()"
   ]
  },
  {
   "cell_type": "code",
   "execution_count": 5,
   "metadata": {
    "collapsed": false
   },
   "outputs": [
    {
     "data": {
      "text/html": [
       "<div>\n",
       "<style>\n",
       "    .dataframe thead tr:only-child th {\n",
       "        text-align: right;\n",
       "    }\n",
       "\n",
       "    .dataframe thead th {\n",
       "        text-align: left;\n",
       "    }\n",
       "\n",
       "    .dataframe tbody tr th {\n",
       "        vertical-align: top;\n",
       "    }\n",
       "</style>\n",
       "<table border=\"1\" class=\"dataframe\">\n",
       "  <thead>\n",
       "    <tr style=\"text-align: right;\">\n",
       "      <th></th>\n",
       "      <th>skill_estimate</th>\n",
       "      <th>observation_count</th>\n",
       "      <th>not_seen</th>\n",
       "      <th>skill_estimate_percentile</th>\n",
       "      <th>observation_count_percentile</th>\n",
       "    </tr>\n",
       "  </thead>\n",
       "  <tbody>\n",
       "    <tr>\n",
       "      <th>951995</th>\n",
       "      <td>1.099024</td>\n",
       "      <td>4.345218e+06</td>\n",
       "      <td>False</td>\n",
       "      <td>0.071799</td>\n",
       "      <td>0.929931</td>\n",
       "    </tr>\n",
       "    <tr>\n",
       "      <th>951996</th>\n",
       "      <td>0.995502</td>\n",
       "      <td>1.068716e+05</td>\n",
       "      <td>False</td>\n",
       "      <td>0.701557</td>\n",
       "      <td>0.929931</td>\n",
       "    </tr>\n",
       "    <tr>\n",
       "      <th>951997</th>\n",
       "      <td>1.056108</td>\n",
       "      <td>3.491711e+04</td>\n",
       "      <td>False</td>\n",
       "      <td>0.054498</td>\n",
       "      <td>0.936851</td>\n",
       "    </tr>\n",
       "    <tr>\n",
       "      <th>951998</th>\n",
       "      <td>0.995502</td>\n",
       "      <td>1.068716e+05</td>\n",
       "      <td>False</td>\n",
       "      <td>0.701557</td>\n",
       "      <td>0.929931</td>\n",
       "    </tr>\n",
       "    <tr>\n",
       "      <th>951999</th>\n",
       "      <td>0.989980</td>\n",
       "      <td>4.120507e+04</td>\n",
       "      <td>False</td>\n",
       "      <td>0.828901</td>\n",
       "      <td>0.573529</td>\n",
       "    </tr>\n",
       "  </tbody>\n",
       "</table>\n",
       "</div>"
      ],
      "text/plain": [
       "        skill_estimate  observation_count  not_seen  \\\n",
       "951995        1.099024       4.345218e+06     False   \n",
       "951996        0.995502       1.068716e+05     False   \n",
       "951997        1.056108       3.491711e+04     False   \n",
       "951998        0.995502       1.068716e+05     False   \n",
       "951999        0.989980       4.120507e+04     False   \n",
       "\n",
       "        skill_estimate_percentile  observation_count_percentile  \n",
       "951995                   0.071799                      0.929931  \n",
       "951996                   0.701557                      0.929931  \n",
       "951997                   0.054498                      0.936851  \n",
       "951998                   0.701557                      0.929931  \n",
       "951999                   0.828901                      0.573529  "
      ]
     },
     "execution_count": 5,
     "metadata": {},
     "output_type": "execute_result"
    }
   ],
   "source": [
    "data.tail()"
   ]
  },
  {
   "cell_type": "code",
   "execution_count": 105,
   "metadata": {
    "collapsed": false
   },
   "outputs": [
    {
     "data": {
      "text/plain": [
       "<matplotlib.axes._subplots.AxesSubplot at 0x12e2eb2d0>"
      ]
     },
     "execution_count": 105,
     "metadata": {},
     "output_type": "execute_result"
    },
    {
     "data": {
      "image/png": "[encoded data removed]",
      "text/plain": [
       "<matplotlib.figure.Figure at 0x12e309510>"
      ]
     },
     "metadata": {},
     "output_type": "display_data"
    }
   ],
   "source": [
    "data.skill_estimate_percentile.hist()"
   ]
  },
  {
   "cell_type": "code",
   "execution_count": 107,
   "metadata": {
    "collapsed": false
   },
   "outputs": [],
   "source": [
    "cols = ['tourn_num']\n",
    "data = pd.concat([pd.read_csv('../data/%d.csv' % year,usecols=cols) for year in range(2003,2018)])"
   ]
  },
  {
   "cell_type": "code",
   "execution_count": 110,
   "metadata": {
    "collapsed": false
   },
   "outputs": [
    {
     "data": {
      "text/plain": [
       "True"
      ]
     },
     "execution_count": 110,
     "metadata": {},
     "output_type": "execute_result"
    }
   ],
   "source": [
    "vals = data['tourn_num'].drop_duplicates().sort_values().values \n",
    "np.all(vals==np.arange(len(vals)))"
   ]
  },
  {
   "cell_type": "code",
   "execution_count": null,
   "metadata": {
    "collapsed": true
   },
   "outputs": [],
   "source": []
  }
 ],
 "metadata": {
  "kernelspec": {
   "display_name": "Python 2",
   "language": "python",
   "name": "python2"
  }
 },
 "nbformat": 4,
 "nbformat_minor": 2
}
