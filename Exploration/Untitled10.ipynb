{
 "cells": [
  {
   "cell_type": "code",
   "execution_count": 1,
   "metadata": {
    "collapsed": true
   },
   "outputs": [],
   "source": [
    "import pandas as pd\n",
    "import numpy as np\n",
    "import matplotlib.pyplot as plt\n",
    "%matplotlib inline"
   ]
  },
  {
   "cell_type": "code",
   "execution_count": 2,
   "metadata": {
    "collapsed": false
   },
   "outputs": [],
   "source": [
    "a = pd.DataFrame(columns=['a','b','c','d','e'])"
   ]
  },
  {
   "cell_type": "code",
   "execution_count": 3,
   "metadata": {
    "collapsed": false
   },
   "outputs": [
    {
     "data": {
      "text/html": [
       "<div>\n",
       "<style>\n",
       "    .dataframe thead tr:only-child th {\n",
       "        text-align: right;\n",
       "    }\n",
       "\n",
       "    .dataframe thead th {\n",
       "        text-align: left;\n",
       "    }\n",
       "\n",
       "    .dataframe tbody tr th {\n",
       "        vertical-align: top;\n",
       "    }\n",
       "</style>\n",
       "<table border=\"1\" class=\"dataframe\">\n",
       "  <thead>\n",
       "    <tr style=\"text-align: right;\">\n",
       "      <th></th>\n",
       "      <th>a</th>\n",
       "      <th>b</th>\n",
       "      <th>c</th>\n",
       "      <th>d</th>\n",
       "      <th>e</th>\n",
       "    </tr>\n",
       "  </thead>\n",
       "  <tbody>\n",
       "  </tbody>\n",
       "</table>\n",
       "</div>"
      ],
      "text/plain": [
       "Empty DataFrame\n",
       "Columns: [a, b, c, d, e]\n",
       "Index: []"
      ]
     },
     "execution_count": 3,
     "metadata": {},
     "output_type": "execute_result"
    }
   ],
   "source": [
    "a"
   ]
  },
  {
   "cell_type": "code",
   "execution_count": 4,
   "metadata": {
    "collapsed": false
   },
   "outputs": [
    {
     "data": {
      "text/plain": [
       "a    object\n",
       "b    object\n",
       "c    object\n",
       "d    object\n",
       "e    object\n",
       "dtype: object"
      ]
     },
     "execution_count": 4,
     "metadata": {},
     "output_type": "execute_result"
    }
   ],
   "source": [
    "pd.concat([a,pd.DataFrame([[1,2,3,4,5]],columns=['a','b','c','d','e'])]).iloc[0].to_frame().T.dtypes"
   ]
  },
  {
   "cell_type": "code",
   "execution_count": 10,
   "metadata": {
    "collapsed": false,
    "scrolled": true
   },
   "outputs": [
    {
     "ename": "KeyboardInterrupt",
     "evalue": "",
     "output_type": "error",
     "traceback": [
      "\u001b[0;31m---------------------------------------------------------------------------\u001b[0m",
      "\u001b[0;31mKeyboardInterrupt\u001b[0m                         Traceback (most recent call last)",
      "\u001b[0;32m<ipython-input-10-acbbebd3f0e1>\u001b[0m in \u001b[0;36m<module>\u001b[0;34m()\u001b[0m\n\u001b[0;32m----> 1\u001b[0;31m \u001b[0mdata\u001b[0m \u001b[0;34m=\u001b[0m \u001b[0mpd\u001b[0m\u001b[0;34m.\u001b[0m\u001b[0mread_csv\u001b[0m\u001b[0;34m(\u001b[0m\u001b[0;34m'../data/2003.csv.gz'\u001b[0m\u001b[0;34m)\u001b[0m\u001b[0;34m\u001b[0m\u001b[0m\n\u001b[0m",
      "\u001b[0;32m/Users/adamlevin/anaconda/lib/python2.7/site-packages/pandas/io/parsers.pyc\u001b[0m in \u001b[0;36mparser_f\u001b[0;34m(filepath_or_buffer, sep, delimiter, header, names, index_col, usecols, squeeze, prefix, mangle_dupe_cols, dtype, engine, converters, true_values, false_values, skipinitialspace, skiprows, nrows, na_values, keep_default_na, na_filter, verbose, skip_blank_lines, parse_dates, infer_datetime_format, keep_date_col, date_parser, dayfirst, iterator, chunksize, compression, thousands, decimal, lineterminator, quotechar, quoting, escapechar, comment, encoding, dialect, tupleize_cols, error_bad_lines, warn_bad_lines, skipfooter, skip_footer, doublequote, delim_whitespace, as_recarray, compact_ints, use_unsigned, low_memory, buffer_lines, memory_map, float_precision)\u001b[0m\n\u001b[1;32m    653\u001b[0m                     skip_blank_lines=skip_blank_lines)\n\u001b[1;32m    654\u001b[0m \u001b[0;34m\u001b[0m\u001b[0m\n\u001b[0;32m--> 655\u001b[0;31m         \u001b[0;32mreturn\u001b[0m \u001b[0m_read\u001b[0m\u001b[0;34m(\u001b[0m\u001b[0mfilepath_or_buffer\u001b[0m\u001b[0;34m,\u001b[0m \u001b[0mkwds\u001b[0m\u001b[0;34m)\u001b[0m\u001b[0;34m\u001b[0m\u001b[0m\n\u001b[0m\u001b[1;32m    656\u001b[0m \u001b[0;34m\u001b[0m\u001b[0m\n\u001b[1;32m    657\u001b[0m     \u001b[0mparser_f\u001b[0m\u001b[0;34m.\u001b[0m\u001b[0m__name__\u001b[0m \u001b[0;34m=\u001b[0m \u001b[0mname\u001b[0m\u001b[0;34m\u001b[0m\u001b[0m\n",
      "\u001b[0;32m/Users/adamlevin/anaconda/lib/python2.7/site-packages/pandas/io/parsers.pyc\u001b[0m in \u001b[0;36m_read\u001b[0;34m(filepath_or_buffer, kwds)\u001b[0m\n\u001b[1;32m    409\u001b[0m \u001b[0;34m\u001b[0m\u001b[0m\n\u001b[1;32m    410\u001b[0m     \u001b[0;32mtry\u001b[0m\u001b[0;34m:\u001b[0m\u001b[0;34m\u001b[0m\u001b[0m\n\u001b[0;32m--> 411\u001b[0;31m         \u001b[0mdata\u001b[0m \u001b[0;34m=\u001b[0m \u001b[0mparser\u001b[0m\u001b[0;34m.\u001b[0m\u001b[0mread\u001b[0m\u001b[0;34m(\u001b[0m\u001b[0mnrows\u001b[0m\u001b[0;34m)\u001b[0m\u001b[0;34m\u001b[0m\u001b[0m\n\u001b[0m\u001b[1;32m    412\u001b[0m     \u001b[0;32mfinally\u001b[0m\u001b[0;34m:\u001b[0m\u001b[0;34m\u001b[0m\u001b[0m\n\u001b[1;32m    413\u001b[0m         \u001b[0mparser\u001b[0m\u001b[0;34m.\u001b[0m\u001b[0mclose\u001b[0m\u001b[0;34m(\u001b[0m\u001b[0;34m)\u001b[0m\u001b[0;34m\u001b[0m\u001b[0m\n",
      "\u001b[0;32m/Users/adamlevin/anaconda/lib/python2.7/site-packages/pandas/io/parsers.pyc\u001b[0m in \u001b[0;36mread\u001b[0;34m(self, nrows)\u001b[0m\n\u001b[1;32m    980\u001b[0m                 \u001b[0;32mraise\u001b[0m \u001b[0mValueError\u001b[0m\u001b[0;34m(\u001b[0m\u001b[0;34m'skipfooter not supported for iteration'\u001b[0m\u001b[0;34m)\u001b[0m\u001b[0;34m\u001b[0m\u001b[0m\n\u001b[1;32m    981\u001b[0m \u001b[0;34m\u001b[0m\u001b[0m\n\u001b[0;32m--> 982\u001b[0;31m         \u001b[0mret\u001b[0m \u001b[0;34m=\u001b[0m \u001b[0mself\u001b[0m\u001b[0;34m.\u001b[0m\u001b[0m_engine\u001b[0m\u001b[0;34m.\u001b[0m\u001b[0mread\u001b[0m\u001b[0;34m(\u001b[0m\u001b[0mnrows\u001b[0m\u001b[0;34m)\u001b[0m\u001b[0;34m\u001b[0m\u001b[0m\n\u001b[0m\u001b[1;32m    983\u001b[0m \u001b[0;34m\u001b[0m\u001b[0m\n\u001b[1;32m    984\u001b[0m         \u001b[0;32mif\u001b[0m \u001b[0mself\u001b[0m\u001b[0;34m.\u001b[0m\u001b[0moptions\u001b[0m\u001b[0;34m.\u001b[0m\u001b[0mget\u001b[0m\u001b[0;34m(\u001b[0m\u001b[0;34m'as_recarray'\u001b[0m\u001b[0;34m)\u001b[0m\u001b[0;34m:\u001b[0m\u001b[0;34m\u001b[0m\u001b[0m\n",
      "\u001b[0;32m/Users/adamlevin/anaconda/lib/python2.7/site-packages/pandas/io/parsers.pyc\u001b[0m in \u001b[0;36mread\u001b[0;34m(self, nrows)\u001b[0m\n\u001b[1;32m   1717\u001b[0m     \u001b[0;32mdef\u001b[0m \u001b[0mread\u001b[0m\u001b[0;34m(\u001b[0m\u001b[0mself\u001b[0m\u001b[0;34m,\u001b[0m \u001b[0mnrows\u001b[0m\u001b[0;34m=\u001b[0m\u001b[0mNone\u001b[0m\u001b[0;34m)\u001b[0m\u001b[0;34m:\u001b[0m\u001b[0;34m\u001b[0m\u001b[0m\n\u001b[1;32m   1718\u001b[0m         \u001b[0;32mtry\u001b[0m\u001b[0;34m:\u001b[0m\u001b[0;34m\u001b[0m\u001b[0m\n\u001b[0;32m-> 1719\u001b[0;31m             \u001b[0mdata\u001b[0m \u001b[0;34m=\u001b[0m \u001b[0mself\u001b[0m\u001b[0;34m.\u001b[0m\u001b[0m_reader\u001b[0m\u001b[0;34m.\u001b[0m\u001b[0mread\u001b[0m\u001b[0;34m(\u001b[0m\u001b[0mnrows\u001b[0m\u001b[0;34m)\u001b[0m\u001b[0;34m\u001b[0m\u001b[0m\n\u001b[0m\u001b[1;32m   1720\u001b[0m         \u001b[0;32mexcept\u001b[0m \u001b[0mStopIteration\u001b[0m\u001b[0;34m:\u001b[0m\u001b[0;34m\u001b[0m\u001b[0m\n\u001b[1;32m   1721\u001b[0m             \u001b[0;32mif\u001b[0m \u001b[0mself\u001b[0m\u001b[0;34m.\u001b[0m\u001b[0m_first_chunk\u001b[0m\u001b[0;34m:\u001b[0m\u001b[0;34m\u001b[0m\u001b[0m\n",
      "\u001b[0;32mpandas/_libs/parsers.pyx\u001b[0m in \u001b[0;36mpandas._libs.parsers.TextReader.read (pandas/_libs/parsers.c:10862)\u001b[0;34m()\u001b[0m\n",
      "\u001b[0;32mpandas/_libs/parsers.pyx\u001b[0m in \u001b[0;36mpandas._libs.parsers.TextReader._read_low_memory (pandas/_libs/parsers.c:11138)\u001b[0;34m()\u001b[0m\n",
      "\u001b[0;32mpandas/_libs/parsers.pyx\u001b[0m in \u001b[0;36mpandas._libs.parsers.TextReader._read_rows (pandas/_libs/parsers.c:12175)\u001b[0;34m()\u001b[0m\n",
      "\u001b[0;32mpandas/_libs/parsers.pyx\u001b[0m in \u001b[0;36mpandas._libs.parsers.TextReader._convert_column_data (pandas/_libs/parsers.c:14136)\u001b[0;34m()\u001b[0m\n",
      "\u001b[0;32mpandas/_libs/parsers.pyx\u001b[0m in \u001b[0;36mpandas._libs.parsers.TextReader._convert_tokens (pandas/_libs/parsers.c:14858)\u001b[0;34m()\u001b[0m\n",
      "\u001b[0;32mpandas/_libs/parsers.pyx\u001b[0m in \u001b[0;36mpandas._libs.parsers.TextReader._convert_with_dtype (pandas/_libs/parsers.c:15629)\u001b[0;34m()\u001b[0m\n",
      "\u001b[0;32m/Users/adamlevin/anaconda/lib/python2.7/site-packages/pandas/core/dtypes/common.pyc\u001b[0m in \u001b[0;36mis_integer_dtype\u001b[0;34m(arr_or_dtype)\u001b[0m\n\u001b[1;32m    735\u001b[0m \u001b[0;34m\u001b[0m\u001b[0m\n\u001b[1;32m    736\u001b[0m \u001b[0;34m\u001b[0m\u001b[0m\n\u001b[0;32m--> 737\u001b[0;31m \u001b[0;32mdef\u001b[0m \u001b[0mis_integer_dtype\u001b[0m\u001b[0;34m(\u001b[0m\u001b[0marr_or_dtype\u001b[0m\u001b[0;34m)\u001b[0m\u001b[0;34m:\u001b[0m\u001b[0;34m\u001b[0m\u001b[0m\n\u001b[0m\u001b[1;32m    738\u001b[0m     \"\"\"\n\u001b[1;32m    739\u001b[0m     \u001b[0mCheck\u001b[0m \u001b[0mwhether\u001b[0m \u001b[0mthe\u001b[0m \u001b[0mprovided\u001b[0m \u001b[0marray\u001b[0m \u001b[0;32mor\u001b[0m \u001b[0mdtype\u001b[0m \u001b[0;32mis\u001b[0m \u001b[0mof\u001b[0m \u001b[0man\u001b[0m \u001b[0minteger\u001b[0m \u001b[0mdtype\u001b[0m\u001b[0;34m.\u001b[0m\u001b[0;34m\u001b[0m\u001b[0m\n",
      "\u001b[0;31mKeyboardInterrupt\u001b[0m: "
     ]
    }
   ],
   "source": [
    "data = pd.read_csv('../data/2003.csv.gz')"
   ]
  },
  {
   "cell_type": "code",
   "execution_count": 12,
   "metadata": {
    "collapsed": false
   },
   "outputs": [
    {
     "data": {
      "text/plain": [
       "Index([u'Tour_Code', u'Tour_Description', u'Year', u'Tourn.#', u'Player_#',\n",
       "       u'Course_#', u'Permanent_Tournament_#', u'Player_First_Name',\n",
       "       u'Player_Last_Name', u'Round', u'Tournament_Name', u'Course_Name',\n",
       "       u'Hole', u'Hole_Score', u'Par_Value', u'Yardage', u'Shot',\n",
       "       u'Shot_Type(S/P/D)', u'#_of_Strokes', u'From_Location(Scorer)',\n",
       "       u'From_Location(Enhanced)', u'To_Location(Laser)',\n",
       "       u'To_Location(Enhanced)', u'Distance', u'Distance_to_Pin',\n",
       "       u'In_the_Hole_Flag', u'Around_the_Green_Flag', u'1st_Putt_Flag',\n",
       "       u'Distance_to_Hole_after_the_Shot', u'Time', u'Lie', u'Elevation',\n",
       "       u'Slope', u'End_X_Coordinate', u'End_Y_Coordinate', u'End_Z_Coordinate',\n",
       "       u'Distance_from_Center', u'Distance_from_Edge', u'Date',\n",
       "       u'Penalty_Shots', u'start_loc_equal_to_prev_start_loc',\n",
       "       u'Start_X_Coordinate', u'Start_Y_Coordinate', u'Start_Z_Coordinate',\n",
       "       u'Real_Shots', u'last_shot_mask', u'Stroke',\n",
       "       u'Strokes_from_starting_location', u'from_the_tee_box_mask',\n",
       "       u'Distance_from_hole', u'Cat', u'Green_to_work_with',\n",
       "       u'Difficulty_Start', u'Difficulty_End', u'Strokes_Gained', u'Cluster',\n",
       "       u'Cluster_Green_X', u'Cluster_Green_Y', u'Cluster_Tee_X',\n",
       "       u'Cluster_Tee_Y', u'loc_string', u'loc_string_hole', u'nearest_hour',\n",
       "       u'apparentTemperature', u'cloudCover', u'dewPoint', u'humidity',\n",
       "       u'ozone', u'precipIntensity', u'precipProbability', u'precipType',\n",
       "       u'pressure', u'summary', u'temperature', u'uvIndex', u'visibility',\n",
       "       u'windBearing', u'windGust', u'windSpeed', u'tourn_num', u'baby_cat',\n",
       "       u'Player_Index', u'skill_estimate', u'observation_count', u'not_seen',\n",
       "       u'skill_estimate_percentile', u'observation_count_percentile'],\n",
       "      dtype='object')"
      ]
     },
     "execution_count": 12,
     "metadata": {},
     "output_type": "execute_result"
    }
   ],
   "source": [
    "data.columns"
   ]
  },
  {
   "cell_type": "code",
   "execution_count": 7,
   "metadata": {
    "collapsed": false
   },
   "outputs": [
    {
     "data": {
      "text/html": [
       "<div>\n",
       "<style>\n",
       "    .dataframe thead tr:only-child th {\n",
       "        text-align: right;\n",
       "    }\n",
       "\n",
       "    .dataframe thead th {\n",
       "        text-align: left;\n",
       "    }\n",
       "\n",
       "    .dataframe tbody tr th {\n",
       "        vertical-align: top;\n",
       "    }\n",
       "</style>\n",
       "<table border=\"1\" class=\"dataframe\">\n",
       "  <thead>\n",
       "    <tr style=\"text-align: right;\">\n",
       "      <th></th>\n",
       "      <th>Tournament_Name</th>\n",
       "    </tr>\n",
       "  </thead>\n",
       "  <tbody>\n",
       "    <tr>\n",
       "      <th>1057753</th>\n",
       "      <td>TOUR Championship</td>\n",
       "    </tr>\n",
       "    <tr>\n",
       "      <th>1057754</th>\n",
       "      <td>TOUR Championship</td>\n",
       "    </tr>\n",
       "    <tr>\n",
       "      <th>1057755</th>\n",
       "      <td>TOUR Championship</td>\n",
       "    </tr>\n",
       "    <tr>\n",
       "      <th>1057756</th>\n",
       "      <td>TOUR Championship</td>\n",
       "    </tr>\n",
       "    <tr>\n",
       "      <th>1057757</th>\n",
       "      <td>TOUR Championship</td>\n",
       "    </tr>\n",
       "  </tbody>\n",
       "</table>\n",
       "</div>"
      ],
      "text/plain": [
       "           Tournament_Name\n",
       "1057753  TOUR Championship\n",
       "1057754  TOUR Championship\n",
       "1057755  TOUR Championship\n",
       "1057756  TOUR Championship\n",
       "1057757  TOUR Championship"
      ]
     },
     "execution_count": 7,
     "metadata": {},
     "output_type": "execute_result"
    }
   ],
   "source": [
    "data.tail()[['Tournament_Name']]"
   ]
  },
  {
   "cell_type": "code",
   "execution_count": 10,
   "metadata": {
    "collapsed": false
   },
   "outputs": [
    {
     "data": {
      "text/html": [
       "<div>\n",
       "<style>\n",
       "    .dataframe thead tr:only-child th {\n",
       "        text-align: right;\n",
       "    }\n",
       "\n",
       "    .dataframe thead th {\n",
       "        text-align: left;\n",
       "    }\n",
       "\n",
       "    .dataframe tbody tr th {\n",
       "        vertical-align: top;\n",
       "    }\n",
       "</style>\n",
       "<table border=\"1\" class=\"dataframe\">\n",
       "  <thead>\n",
       "    <tr style=\"text-align: right;\">\n",
       "      <th></th>\n",
       "      <th>0</th>\n",
       "      <th>1</th>\n",
       "      <th>2</th>\n",
       "      <th>3</th>\n",
       "      <th>4</th>\n",
       "      <th>5</th>\n",
       "      <th>6</th>\n",
       "      <th>7</th>\n",
       "      <th>8</th>\n",
       "      <th>9</th>\n",
       "      <th>...</th>\n",
       "      <th>57</th>\n",
       "      <th>58</th>\n",
       "      <th>59</th>\n",
       "      <th>60</th>\n",
       "      <th>61</th>\n",
       "      <th>62</th>\n",
       "      <th>63</th>\n",
       "      <th>64</th>\n",
       "      <th>65</th>\n",
       "      <th>66</th>\n",
       "    </tr>\n",
       "    <tr>\n",
       "      <th>baby_cat</th>\n",
       "      <th></th>\n",
       "      <th></th>\n",
       "      <th></th>\n",
       "      <th></th>\n",
       "      <th></th>\n",
       "      <th></th>\n",
       "      <th></th>\n",
       "      <th></th>\n",
       "      <th></th>\n",
       "      <th></th>\n",
       "      <th></th>\n",
       "      <th></th>\n",
       "      <th></th>\n",
       "      <th></th>\n",
       "      <th></th>\n",
       "      <th></th>\n",
       "      <th></th>\n",
       "      <th></th>\n",
       "      <th></th>\n",
       "      <th></th>\n",
       "      <th></th>\n",
       "    </tr>\n",
       "  </thead>\n",
       "  <tbody>\n",
       "    <tr>\n",
       "      <th>bunker</th>\n",
       "      <td>R</td>\n",
       "      <td>PGA TOUR</td>\n",
       "      <td>2017</td>\n",
       "      <td>500</td>\n",
       "      <td>40026</td>\n",
       "      <td>688</td>\n",
       "      <td>60</td>\n",
       "      <td>Daniel</td>\n",
       "      <td>Berger</td>\n",
       "      <td>3</td>\n",
       "      <td>...</td>\n",
       "      <td>1.701782</td>\n",
       "      <td>-0.228883</td>\n",
       "      <td>581</td>\n",
       "      <td>bunker</td>\n",
       "      <td>1853</td>\n",
       "      <td>0.893482</td>\n",
       "      <td>9.654622e+04</td>\n",
       "      <td>False</td>\n",
       "      <td>0.305838</td>\n",
       "      <td>0.890863</td>\n",
       "    </tr>\n",
       "    <tr>\n",
       "      <th>fairway0</th>\n",
       "      <td>R</td>\n",
       "      <td>PGA TOUR</td>\n",
       "      <td>2017</td>\n",
       "      <td>500</td>\n",
       "      <td>30110</td>\n",
       "      <td>688</td>\n",
       "      <td>60</td>\n",
       "      <td>Kyle</td>\n",
       "      <td>Stanley</td>\n",
       "      <td>2</td>\n",
       "      <td>...</td>\n",
       "      <td>1.090621</td>\n",
       "      <td>0.160051</td>\n",
       "      <td>581</td>\n",
       "      <td>fairway0</td>\n",
       "      <td>1152</td>\n",
       "      <td>0.963958</td>\n",
       "      <td>1.557947e+05</td>\n",
       "      <td>False</td>\n",
       "      <td>0.440402</td>\n",
       "      <td>0.958595</td>\n",
       "    </tr>\n",
       "    <tr>\n",
       "      <th>fairway300</th>\n",
       "      <td>R</td>\n",
       "      <td>PGA TOUR</td>\n",
       "      <td>2017</td>\n",
       "      <td>500</td>\n",
       "      <td>46970</td>\n",
       "      <td>688</td>\n",
       "      <td>60</td>\n",
       "      <td>Jon</td>\n",
       "      <td>Rahm</td>\n",
       "      <td>3</td>\n",
       "      <td>...</td>\n",
       "      <td>1.839702</td>\n",
       "      <td>0.100346</td>\n",
       "      <td>581</td>\n",
       "      <td>fairway300</td>\n",
       "      <td>1869</td>\n",
       "      <td>0.977885</td>\n",
       "      <td>5.187681e+05</td>\n",
       "      <td>False</td>\n",
       "      <td>0.501882</td>\n",
       "      <td>0.784191</td>\n",
       "    </tr>\n",
       "    <tr>\n",
       "      <th>fairway540</th>\n",
       "      <td>R</td>\n",
       "      <td>PGA TOUR</td>\n",
       "      <td>2017</td>\n",
       "      <td>500</td>\n",
       "      <td>48081</td>\n",
       "      <td>688</td>\n",
       "      <td>60</td>\n",
       "      <td>Xander</td>\n",
       "      <td>Schauffele</td>\n",
       "      <td>2</td>\n",
       "      <td>...</td>\n",
       "      <td>2.007206</td>\n",
       "      <td>0.021564</td>\n",
       "      <td>581</td>\n",
       "      <td>fairway540</td>\n",
       "      <td>1961</td>\n",
       "      <td>0.962321</td>\n",
       "      <td>3.006951e+05</td>\n",
       "      <td>False</td>\n",
       "      <td>0.447103</td>\n",
       "      <td>0.767003</td>\n",
       "    </tr>\n",
       "    <tr>\n",
       "      <th>green0</th>\n",
       "      <td>R</td>\n",
       "      <td>PGA TOUR</td>\n",
       "      <td>2017</td>\n",
       "      <td>500</td>\n",
       "      <td>29221</td>\n",
       "      <td>688</td>\n",
       "      <td>60</td>\n",
       "      <td>Webb</td>\n",
       "      <td>Simpson</td>\n",
       "      <td>2</td>\n",
       "      <td>...</td>\n",
       "      <td>0.000000</td>\n",
       "      <td>0.019960</td>\n",
       "      <td>581</td>\n",
       "      <td>green0</td>\n",
       "      <td>1040</td>\n",
       "      <td>0.988329</td>\n",
       "      <td>7.310779e+05</td>\n",
       "      <td>False</td>\n",
       "      <td>0.259724</td>\n",
       "      <td>0.956085</td>\n",
       "    </tr>\n",
       "    <tr>\n",
       "      <th>green10</th>\n",
       "      <td>R</td>\n",
       "      <td>PGA TOUR</td>\n",
       "      <td>2017</td>\n",
       "      <td>500</td>\n",
       "      <td>29725</td>\n",
       "      <td>688</td>\n",
       "      <td>60</td>\n",
       "      <td>Tony</td>\n",
       "      <td>Finau</td>\n",
       "      <td>2</td>\n",
       "      <td>...</td>\n",
       "      <td>0.999616</td>\n",
       "      <td>-0.176345</td>\n",
       "      <td>581</td>\n",
       "      <td>green10</td>\n",
       "      <td>1143</td>\n",
       "      <td>0.966225</td>\n",
       "      <td>1.209222e+05</td>\n",
       "      <td>False</td>\n",
       "      <td>0.333752</td>\n",
       "      <td>0.977415</td>\n",
       "    </tr>\n",
       "    <tr>\n",
       "      <th>green20</th>\n",
       "      <td>R</td>\n",
       "      <td>PGA TOUR</td>\n",
       "      <td>2017</td>\n",
       "      <td>500</td>\n",
       "      <td>12716</td>\n",
       "      <td>688</td>\n",
       "      <td>60</td>\n",
       "      <td>Charley</td>\n",
       "      <td>Hoffman</td>\n",
       "      <td>4</td>\n",
       "      <td>...</td>\n",
       "      <td>1.043609</td>\n",
       "      <td>-0.001207</td>\n",
       "      <td>581</td>\n",
       "      <td>green20</td>\n",
       "      <td>288</td>\n",
       "      <td>0.980782</td>\n",
       "      <td>2.444107e+05</td>\n",
       "      <td>False</td>\n",
       "      <td>0.429109</td>\n",
       "      <td>0.977415</td>\n",
       "    </tr>\n",
       "    <tr>\n",
       "      <th>green5</th>\n",
       "      <td>R</td>\n",
       "      <td>PGA TOUR</td>\n",
       "      <td>2017</td>\n",
       "      <td>500</td>\n",
       "      <td>31323</td>\n",
       "      <td>688</td>\n",
       "      <td>60</td>\n",
       "      <td>Gary</td>\n",
       "      <td>Woodland</td>\n",
       "      <td>2</td>\n",
       "      <td>...</td>\n",
       "      <td>0.000000</td>\n",
       "      <td>0.209402</td>\n",
       "      <td>581</td>\n",
       "      <td>green5</td>\n",
       "      <td>1315</td>\n",
       "      <td>0.959144</td>\n",
       "      <td>7.811581e+04</td>\n",
       "      <td>False</td>\n",
       "      <td>0.339196</td>\n",
       "      <td>0.915829</td>\n",
       "    </tr>\n",
       "    <tr>\n",
       "      <th>other</th>\n",
       "      <td>R</td>\n",
       "      <td>PGA TOUR</td>\n",
       "      <td>2017</td>\n",
       "      <td>500</td>\n",
       "      <td>24361</td>\n",
       "      <td>688</td>\n",
       "      <td>60</td>\n",
       "      <td>Pat</td>\n",
       "      <td>Perez</td>\n",
       "      <td>3</td>\n",
       "      <td>...</td>\n",
       "      <td>1.162881</td>\n",
       "      <td>0.800392</td>\n",
       "      <td>581</td>\n",
       "      <td>other</td>\n",
       "      <td>446</td>\n",
       "      <td>0.872672</td>\n",
       "      <td>9.364924e+03</td>\n",
       "      <td>False</td>\n",
       "      <td>0.264931</td>\n",
       "      <td>0.748851</td>\n",
       "    </tr>\n",
       "    <tr>\n",
       "      <th>rough0</th>\n",
       "      <td>R</td>\n",
       "      <td>PGA TOUR</td>\n",
       "      <td>2017</td>\n",
       "      <td>500</td>\n",
       "      <td>36689</td>\n",
       "      <td>688</td>\n",
       "      <td>60</td>\n",
       "      <td>Brooks</td>\n",
       "      <td>Koepka</td>\n",
       "      <td>2</td>\n",
       "      <td>...</td>\n",
       "      <td>1.000856</td>\n",
       "      <td>0.097336</td>\n",
       "      <td>581</td>\n",
       "      <td>rough0</td>\n",
       "      <td>1749</td>\n",
       "      <td>0.938476</td>\n",
       "      <td>2.831918e+04</td>\n",
       "      <td>False</td>\n",
       "      <td>0.351592</td>\n",
       "      <td>0.915924</td>\n",
       "    </tr>\n",
       "    <tr>\n",
       "      <th>rough375</th>\n",
       "      <td>R</td>\n",
       "      <td>PGA TOUR</td>\n",
       "      <td>2017</td>\n",
       "      <td>500</td>\n",
       "      <td>29478</td>\n",
       "      <td>688</td>\n",
       "      <td>60</td>\n",
       "      <td>Kevin</td>\n",
       "      <td>Kisner</td>\n",
       "      <td>3</td>\n",
       "      <td>...</td>\n",
       "      <td>2.399635</td>\n",
       "      <td>-0.235963</td>\n",
       "      <td>581</td>\n",
       "      <td>rough375</td>\n",
       "      <td>1468</td>\n",
       "      <td>0.944793</td>\n",
       "      <td>2.274504e+05</td>\n",
       "      <td>False</td>\n",
       "      <td>0.320611</td>\n",
       "      <td>0.908397</td>\n",
       "    </tr>\n",
       "    <tr>\n",
       "      <th>rough90</th>\n",
       "      <td>R</td>\n",
       "      <td>PGA TOUR</td>\n",
       "      <td>2017</td>\n",
       "      <td>500</td>\n",
       "      <td>40026</td>\n",
       "      <td>688</td>\n",
       "      <td>60</td>\n",
       "      <td>Daniel</td>\n",
       "      <td>Berger</td>\n",
       "      <td>4</td>\n",
       "      <td>...</td>\n",
       "      <td>1.962582</td>\n",
       "      <td>0.147212</td>\n",
       "      <td>581</td>\n",
       "      <td>rough90</td>\n",
       "      <td>1853</td>\n",
       "      <td>0.894326</td>\n",
       "      <td>1.857169e+04</td>\n",
       "      <td>False</td>\n",
       "      <td>0.315375</td>\n",
       "      <td>0.822602</td>\n",
       "    </tr>\n",
       "    <tr>\n",
       "      <th>tee3</th>\n",
       "      <td>R</td>\n",
       "      <td>PGA TOUR</td>\n",
       "      <td>2017</td>\n",
       "      <td>500</td>\n",
       "      <td>12716</td>\n",
       "      <td>688</td>\n",
       "      <td>60</td>\n",
       "      <td>Charley</td>\n",
       "      <td>Hoffman</td>\n",
       "      <td>1</td>\n",
       "      <td>...</td>\n",
       "      <td>2.514008</td>\n",
       "      <td>-0.514008</td>\n",
       "      <td>581</td>\n",
       "      <td>tee3</td>\n",
       "      <td>288</td>\n",
       "      <td>0.984711</td>\n",
       "      <td>9.244536e+06</td>\n",
       "      <td>False</td>\n",
       "      <td>0.528894</td>\n",
       "      <td>0.977387</td>\n",
       "    </tr>\n",
       "    <tr>\n",
       "      <th>tee45</th>\n",
       "      <td>R</td>\n",
       "      <td>PGA TOUR</td>\n",
       "      <td>2017</td>\n",
       "      <td>500</td>\n",
       "      <td>24361</td>\n",
       "      <td>688</td>\n",
       "      <td>60</td>\n",
       "      <td>Pat</td>\n",
       "      <td>Perez</td>\n",
       "      <td>2</td>\n",
       "      <td>...</td>\n",
       "      <td>2.885216</td>\n",
       "      <td>0.114784</td>\n",
       "      <td>581</td>\n",
       "      <td>tee45</td>\n",
       "      <td>446</td>\n",
       "      <td>0.999249</td>\n",
       "      <td>1.760001e+07</td>\n",
       "      <td>False</td>\n",
       "      <td>0.638645</td>\n",
       "      <td>0.791719</td>\n",
       "    </tr>\n",
       "  </tbody>\n",
       "</table>\n",
       "<p>14 rows × 67 columns</p>\n",
       "</div>"
      ],
      "text/plain": [
       "           0         1     2    3      4    5   6        7           8   9   \\\n",
       "baby_cat                                                                      \n",
       "bunker      R  PGA TOUR  2017  500  40026  688  60   Daniel      Berger   3   \n",
       "fairway0    R  PGA TOUR  2017  500  30110  688  60     Kyle     Stanley   2   \n",
       "fairway300  R  PGA TOUR  2017  500  46970  688  60      Jon        Rahm   3   \n",
       "fairway540  R  PGA TOUR  2017  500  48081  688  60   Xander  Schauffele   2   \n",
       "green0      R  PGA TOUR  2017  500  29221  688  60     Webb     Simpson   2   \n",
       "green10     R  PGA TOUR  2017  500  29725  688  60     Tony       Finau   2   \n",
       "green20     R  PGA TOUR  2017  500  12716  688  60  Charley     Hoffman   4   \n",
       "green5      R  PGA TOUR  2017  500  31323  688  60     Gary    Woodland   2   \n",
       "other       R  PGA TOUR  2017  500  24361  688  60      Pat       Perez   3   \n",
       "rough0      R  PGA TOUR  2017  500  36689  688  60   Brooks      Koepka   2   \n",
       "rough375    R  PGA TOUR  2017  500  29478  688  60    Kevin      Kisner   3   \n",
       "rough90     R  PGA TOUR  2017  500  40026  688  60   Daniel      Berger   4   \n",
       "tee3        R  PGA TOUR  2017  500  12716  688  60  Charley     Hoffman   1   \n",
       "tee45       R  PGA TOUR  2017  500  24361  688  60      Pat       Perez   2   \n",
       "\n",
       "              ...           57        58   59          60    61        62  \\\n",
       "baby_cat      ...                                                           \n",
       "bunker        ...     1.701782 -0.228883  581      bunker  1853  0.893482   \n",
       "fairway0      ...     1.090621  0.160051  581    fairway0  1152  0.963958   \n",
       "fairway300    ...     1.839702  0.100346  581  fairway300  1869  0.977885   \n",
       "fairway540    ...     2.007206  0.021564  581  fairway540  1961  0.962321   \n",
       "green0        ...     0.000000  0.019960  581      green0  1040  0.988329   \n",
       "green10       ...     0.999616 -0.176345  581     green10  1143  0.966225   \n",
       "green20       ...     1.043609 -0.001207  581     green20   288  0.980782   \n",
       "green5        ...     0.000000  0.209402  581      green5  1315  0.959144   \n",
       "other         ...     1.162881  0.800392  581       other   446  0.872672   \n",
       "rough0        ...     1.000856  0.097336  581      rough0  1749  0.938476   \n",
       "rough375      ...     2.399635 -0.235963  581    rough375  1468  0.944793   \n",
       "rough90       ...     1.962582  0.147212  581     rough90  1853  0.894326   \n",
       "tee3          ...     2.514008 -0.514008  581        tee3   288  0.984711   \n",
       "tee45         ...     2.885216  0.114784  581       tee45   446  0.999249   \n",
       "\n",
       "                      63     64        65        66  \n",
       "baby_cat                                             \n",
       "bunker      9.654622e+04  False  0.305838  0.890863  \n",
       "fairway0    1.557947e+05  False  0.440402  0.958595  \n",
       "fairway300  5.187681e+05  False  0.501882  0.784191  \n",
       "fairway540  3.006951e+05  False  0.447103  0.767003  \n",
       "green0      7.310779e+05  False  0.259724  0.956085  \n",
       "green10     1.209222e+05  False  0.333752  0.977415  \n",
       "green20     2.444107e+05  False  0.429109  0.977415  \n",
       "green5      7.811581e+04  False  0.339196  0.915829  \n",
       "other       9.364924e+03  False  0.264931  0.748851  \n",
       "rough0      2.831918e+04  False  0.351592  0.915924  \n",
       "rough375    2.274504e+05  False  0.320611  0.908397  \n",
       "rough90     1.857169e+04  False  0.315375  0.822602  \n",
       "tee3        9.244536e+06  False  0.528894  0.977387  \n",
       "tee45       1.760001e+07  False  0.638645  0.791719  \n",
       "\n",
       "[14 rows x 67 columns]"
      ]
     },
     "execution_count": 10,
     "metadata": {},
     "output_type": "execute_result"
    }
   ],
   "source": [
    "data[data.Tournament_Name=='TOUR Championship'].groupby('baby_cat').apply(lambda x: x[x.observation_count_percentile>.30]\\\n",
    "                                               .sort_values('skill_estimate_percentile',ascending=True)\\\n",
    "                                               .iloc[0].reset_index(drop=True))"
   ]
  },
  {
   "cell_type": "code",
   "execution_count": 4,
   "metadata": {
    "collapsed": false
   },
   "outputs": [
    {
     "data": {
      "text/html": [
       "<div>\n",
       "<style>\n",
       "    .dataframe thead tr:only-child th {\n",
       "        text-align: right;\n",
       "    }\n",
       "\n",
       "    .dataframe thead th {\n",
       "        text-align: left;\n",
       "    }\n",
       "\n",
       "    .dataframe tbody tr th {\n",
       "        vertical-align: top;\n",
       "    }\n",
       "</style>\n",
       "<table border=\"1\" class=\"dataframe\">\n",
       "  <thead>\n",
       "    <tr style=\"text-align: right;\">\n",
       "      <th></th>\n",
       "      <th>0</th>\n",
       "      <th>1</th>\n",
       "      <th>2</th>\n",
       "      <th>3</th>\n",
       "      <th>4</th>\n",
       "      <th>5</th>\n",
       "      <th>6</th>\n",
       "      <th>7</th>\n",
       "      <th>8</th>\n",
       "      <th>9</th>\n",
       "      <th>...</th>\n",
       "      <th>57</th>\n",
       "      <th>58</th>\n",
       "      <th>59</th>\n",
       "      <th>60</th>\n",
       "      <th>61</th>\n",
       "      <th>62</th>\n",
       "      <th>63</th>\n",
       "      <th>64</th>\n",
       "      <th>65</th>\n",
       "      <th>66</th>\n",
       "    </tr>\n",
       "    <tr>\n",
       "      <th>baby_cat</th>\n",
       "      <th></th>\n",
       "      <th></th>\n",
       "      <th></th>\n",
       "      <th></th>\n",
       "      <th></th>\n",
       "      <th></th>\n",
       "      <th></th>\n",
       "      <th></th>\n",
       "      <th></th>\n",
       "      <th></th>\n",
       "      <th></th>\n",
       "      <th></th>\n",
       "      <th></th>\n",
       "      <th></th>\n",
       "      <th></th>\n",
       "      <th></th>\n",
       "      <th></th>\n",
       "      <th></th>\n",
       "      <th></th>\n",
       "      <th></th>\n",
       "      <th></th>\n",
       "    </tr>\n",
       "  </thead>\n",
       "  <tbody>\n",
       "    <tr>\n",
       "      <th>bunker</th>\n",
       "      <td>R</td>\n",
       "      <td>PGA TOUR</td>\n",
       "      <td>2017</td>\n",
       "      <td>140</td>\n",
       "      <td>27649</td>\n",
       "      <td>4</td>\n",
       "      <td>4</td>\n",
       "      <td>Brandt</td>\n",
       "      <td>Snedeker</td>\n",
       "      <td>2</td>\n",
       "      <td>...</td>\n",
       "      <td>2.384234</td>\n",
       "      <td>-0.131690</td>\n",
       "      <td>550</td>\n",
       "      <td>bunker</td>\n",
       "      <td>736</td>\n",
       "      <td>1.134815</td>\n",
       "      <td>1.089564e+05</td>\n",
       "      <td>False</td>\n",
       "      <td>0.898458</td>\n",
       "      <td>0.948586</td>\n",
       "    </tr>\n",
       "    <tr>\n",
       "      <th>fairway0</th>\n",
       "      <td>R</td>\n",
       "      <td>PGA TOUR</td>\n",
       "      <td>2017</td>\n",
       "      <td>10</td>\n",
       "      <td>35891</td>\n",
       "      <td>552</td>\n",
       "      <td>464</td>\n",
       "      <td>Cameron</td>\n",
       "      <td>Smith</td>\n",
       "      <td>1</td>\n",
       "      <td>...</td>\n",
       "      <td>1.185584</td>\n",
       "      <td>0.560294</td>\n",
       "      <td>543</td>\n",
       "      <td>fairway0</td>\n",
       "      <td>1840</td>\n",
       "      <td>1.134473</td>\n",
       "      <td>9.703716e+04</td>\n",
       "      <td>False</td>\n",
       "      <td>0.917843</td>\n",
       "      <td>0.834403</td>\n",
       "    </tr>\n",
       "    <tr>\n",
       "      <th>fairway300</th>\n",
       "      <td>R</td>\n",
       "      <td>PGA TOUR</td>\n",
       "      <td>2017</td>\n",
       "      <td>330</td>\n",
       "      <td>24502</td>\n",
       "      <td>23</td>\n",
       "      <td>23</td>\n",
       "      <td>Adam</td>\n",
       "      <td>Scott</td>\n",
       "      <td>1</td>\n",
       "      <td>...</td>\n",
       "      <td>1.320108</td>\n",
       "      <td>0.503369</td>\n",
       "      <td>566</td>\n",
       "      <td>fairway300</td>\n",
       "      <td>452</td>\n",
       "      <td>1.093082</td>\n",
       "      <td>5.334266e+05</td>\n",
       "      <td>False</td>\n",
       "      <td>0.944654</td>\n",
       "      <td>0.810063</td>\n",
       "    </tr>\n",
       "    <tr>\n",
       "      <th>fairway540</th>\n",
       "      <td>R</td>\n",
       "      <td>PGA TOUR</td>\n",
       "      <td>2017</td>\n",
       "      <td>200</td>\n",
       "      <td>21528</td>\n",
       "      <td>665</td>\n",
       "      <td>475</td>\n",
       "      <td>Henrik</td>\n",
       "      <td>Stenson</td>\n",
       "      <td>1</td>\n",
       "      <td>...</td>\n",
       "      <td>2.575031</td>\n",
       "      <td>-0.306372</td>\n",
       "      <td>556</td>\n",
       "      <td>fairway540</td>\n",
       "      <td>829</td>\n",
       "      <td>1.174299</td>\n",
       "      <td>3.437991e+05</td>\n",
       "      <td>False</td>\n",
       "      <td>0.958069</td>\n",
       "      <td>0.801779</td>\n",
       "    </tr>\n",
       "    <tr>\n",
       "      <th>green0</th>\n",
       "      <td>R</td>\n",
       "      <td>PGA TOUR</td>\n",
       "      <td>2017</td>\n",
       "      <td>460</td>\n",
       "      <td>39975</td>\n",
       "      <td>752</td>\n",
       "      <td>13</td>\n",
       "      <td>Michael</td>\n",
       "      <td>Kim</td>\n",
       "      <td>3</td>\n",
       "      <td>...</td>\n",
       "      <td>0.000000</td>\n",
       "      <td>0.000927</td>\n",
       "      <td>577</td>\n",
       "      <td>green0</td>\n",
       "      <td>1698</td>\n",
       "      <td>1.020079</td>\n",
       "      <td>7.931090e+05</td>\n",
       "      <td>False</td>\n",
       "      <td>0.858218</td>\n",
       "      <td>0.982434</td>\n",
       "    </tr>\n",
       "    <tr>\n",
       "      <th>green10</th>\n",
       "      <td>R</td>\n",
       "      <td>PGA TOUR</td>\n",
       "      <td>2017</td>\n",
       "      <td>70</td>\n",
       "      <td>24357</td>\n",
       "      <td>776</td>\n",
       "      <td>493</td>\n",
       "      <td>K.J.</td>\n",
       "      <td>Choi</td>\n",
       "      <td>2</td>\n",
       "      <td>...</td>\n",
       "      <td>1.001110</td>\n",
       "      <td>-0.113052</td>\n",
       "      <td>546</td>\n",
       "      <td>green10</td>\n",
       "      <td>445</td>\n",
       "      <td>1.076593</td>\n",
       "      <td>8.856729e+04</td>\n",
       "      <td>False</td>\n",
       "      <td>0.890886</td>\n",
       "      <td>0.862644</td>\n",
       "    </tr>\n",
       "    <tr>\n",
       "      <th>green20</th>\n",
       "      <td>R</td>\n",
       "      <td>PGA TOUR</td>\n",
       "      <td>2017</td>\n",
       "      <td>460</td>\n",
       "      <td>27770</td>\n",
       "      <td>752</td>\n",
       "      <td>13</td>\n",
       "      <td>Camilo</td>\n",
       "      <td>Villegas</td>\n",
       "      <td>2</td>\n",
       "      <td>...</td>\n",
       "      <td>1.001211</td>\n",
       "      <td>0.049292</td>\n",
       "      <td>577</td>\n",
       "      <td>green20</td>\n",
       "      <td>745</td>\n",
       "      <td>1.059885</td>\n",
       "      <td>1.858445e+05</td>\n",
       "      <td>False</td>\n",
       "      <td>0.917189</td>\n",
       "      <td>0.889586</td>\n",
       "    </tr>\n",
       "    <tr>\n",
       "      <th>green5</th>\n",
       "      <td>R</td>\n",
       "      <td>PGA TOUR</td>\n",
       "      <td>2017</td>\n",
       "      <td>70</td>\n",
       "      <td>29478</td>\n",
       "      <td>776</td>\n",
       "      <td>493</td>\n",
       "      <td>Kevin</td>\n",
       "      <td>Kisner</td>\n",
       "      <td>1</td>\n",
       "      <td>...</td>\n",
       "      <td>1.010094</td>\n",
       "      <td>-0.459876</td>\n",
       "      <td>546</td>\n",
       "      <td>green5</td>\n",
       "      <td>1468</td>\n",
       "      <td>1.098987</td>\n",
       "      <td>7.097588e+04</td>\n",
       "      <td>False</td>\n",
       "      <td>0.917843</td>\n",
       "      <td>0.887035</td>\n",
       "    </tr>\n",
       "    <tr>\n",
       "      <th>other</th>\n",
       "      <td>R</td>\n",
       "      <td>PGA TOUR</td>\n",
       "      <td>2017</td>\n",
       "      <td>370</td>\n",
       "      <td>20572</td>\n",
       "      <td>237</td>\n",
       "      <td>471</td>\n",
       "      <td>Rod</td>\n",
       "      <td>Pampling</td>\n",
       "      <td>1</td>\n",
       "      <td>...</td>\n",
       "      <td>2.380135</td>\n",
       "      <td>-0.244679</td>\n",
       "      <td>570</td>\n",
       "      <td>other</td>\n",
       "      <td>338</td>\n",
       "      <td>1.244549</td>\n",
       "      <td>1.374521e+04</td>\n",
       "      <td>False</td>\n",
       "      <td>0.880805</td>\n",
       "      <td>0.803406</td>\n",
       "    </tr>\n",
       "    <tr>\n",
       "      <th>rough0</th>\n",
       "      <td>R</td>\n",
       "      <td>PGA TOUR</td>\n",
       "      <td>2017</td>\n",
       "      <td>150</td>\n",
       "      <td>20157</td>\n",
       "      <td>510</td>\n",
       "      <td>3</td>\n",
       "      <td>Retief</td>\n",
       "      <td>Goosen</td>\n",
       "      <td>2</td>\n",
       "      <td>...</td>\n",
       "      <td>1.857240</td>\n",
       "      <td>-0.031716</td>\n",
       "      <td>551</td>\n",
       "      <td>rough0</td>\n",
       "      <td>321</td>\n",
       "      <td>1.138360</td>\n",
       "      <td>1.850728e+04</td>\n",
       "      <td>False</td>\n",
       "      <td>0.884467</td>\n",
       "      <td>0.807445</td>\n",
       "    </tr>\n",
       "    <tr>\n",
       "      <th>rough375</th>\n",
       "      <td>R</td>\n",
       "      <td>PGA TOUR</td>\n",
       "      <td>2017</td>\n",
       "      <td>500</td>\n",
       "      <td>34046</td>\n",
       "      <td>688</td>\n",
       "      <td>60</td>\n",
       "      <td>Jordan</td>\n",
       "      <td>Spieth</td>\n",
       "      <td>3</td>\n",
       "      <td>...</td>\n",
       "      <td>2.446136</td>\n",
       "      <td>-0.275946</td>\n",
       "      <td>581</td>\n",
       "      <td>rough375</td>\n",
       "      <td>1417</td>\n",
       "      <td>1.102567</td>\n",
       "      <td>2.035000e+05</td>\n",
       "      <td>False</td>\n",
       "      <td>0.910941</td>\n",
       "      <td>0.863868</td>\n",
       "    </tr>\n",
       "    <tr>\n",
       "      <th>rough90</th>\n",
       "      <td>R</td>\n",
       "      <td>PGA TOUR</td>\n",
       "      <td>2017</td>\n",
       "      <td>110</td>\n",
       "      <td>25804</td>\n",
       "      <td>656</td>\n",
       "      <td>16</td>\n",
       "      <td>Bubba</td>\n",
       "      <td>Watson</td>\n",
       "      <td>2</td>\n",
       "      <td>...</td>\n",
       "      <td>2.039258</td>\n",
       "      <td>-0.273820</td>\n",
       "      <td>547</td>\n",
       "      <td>rough90</td>\n",
       "      <td>1001</td>\n",
       "      <td>1.181545</td>\n",
       "      <td>1.591190e+04</td>\n",
       "      <td>False</td>\n",
       "      <td>0.911842</td>\n",
       "      <td>0.802632</td>\n",
       "    </tr>\n",
       "    <tr>\n",
       "      <th>tee3</th>\n",
       "      <td>R</td>\n",
       "      <td>PGA TOUR</td>\n",
       "      <td>2017</td>\n",
       "      <td>150</td>\n",
       "      <td>32839</td>\n",
       "      <td>510</td>\n",
       "      <td>3</td>\n",
       "      <td>Hideki</td>\n",
       "      <td>Matsuyama</td>\n",
       "      <td>3</td>\n",
       "      <td>...</td>\n",
       "      <td>1.835700</td>\n",
       "      <td>-0.129033</td>\n",
       "      <td>551</td>\n",
       "      <td>tee3</td>\n",
       "      <td>1480</td>\n",
       "      <td>1.091656</td>\n",
       "      <td>5.757407e+06</td>\n",
       "      <td>False</td>\n",
       "      <td>0.927017</td>\n",
       "      <td>0.828425</td>\n",
       "    </tr>\n",
       "    <tr>\n",
       "      <th>tee45</th>\n",
       "      <td>R</td>\n",
       "      <td>PGA TOUR</td>\n",
       "      <td>2017</td>\n",
       "      <td>140</td>\n",
       "      <td>30925</td>\n",
       "      <td>4</td>\n",
       "      <td>4</td>\n",
       "      <td>Dustin</td>\n",
       "      <td>Johnson</td>\n",
       "      <td>1</td>\n",
       "      <td>...</td>\n",
       "      <td>3.285836</td>\n",
       "      <td>0.380831</td>\n",
       "      <td>550</td>\n",
       "      <td>tee45</td>\n",
       "      <td>1163</td>\n",
       "      <td>1.147283</td>\n",
       "      <td>1.799238e+07</td>\n",
       "      <td>False</td>\n",
       "      <td>0.997439</td>\n",
       "      <td>0.807939</td>\n",
       "    </tr>\n",
       "  </tbody>\n",
       "</table>\n",
       "<p>14 rows × 67 columns</p>\n",
       "</div>"
      ],
      "text/plain": [
       "           0         1     2    3      4    5    6        7          8   9   \\\n",
       "baby_cat                                                                      \n",
       "bunker      R  PGA TOUR  2017  140  27649    4    4   Brandt   Snedeker   2   \n",
       "fairway0    R  PGA TOUR  2017   10  35891  552  464  Cameron      Smith   1   \n",
       "fairway300  R  PGA TOUR  2017  330  24502   23   23     Adam      Scott   1   \n",
       "fairway540  R  PGA TOUR  2017  200  21528  665  475   Henrik    Stenson   1   \n",
       "green0      R  PGA TOUR  2017  460  39975  752   13  Michael        Kim   3   \n",
       "green10     R  PGA TOUR  2017   70  24357  776  493     K.J.       Choi   2   \n",
       "green20     R  PGA TOUR  2017  460  27770  752   13   Camilo   Villegas   2   \n",
       "green5      R  PGA TOUR  2017   70  29478  776  493    Kevin     Kisner   1   \n",
       "other       R  PGA TOUR  2017  370  20572  237  471      Rod   Pampling   1   \n",
       "rough0      R  PGA TOUR  2017  150  20157  510    3   Retief     Goosen   2   \n",
       "rough375    R  PGA TOUR  2017  500  34046  688   60   Jordan     Spieth   3   \n",
       "rough90     R  PGA TOUR  2017  110  25804  656   16    Bubba     Watson   2   \n",
       "tee3        R  PGA TOUR  2017  150  32839  510    3   Hideki  Matsuyama   3   \n",
       "tee45       R  PGA TOUR  2017  140  30925    4    4   Dustin    Johnson   1   \n",
       "\n",
       "              ...           57        58   59          60    61        62  \\\n",
       "baby_cat      ...                                                           \n",
       "bunker        ...     2.384234 -0.131690  550      bunker   736  1.134815   \n",
       "fairway0      ...     1.185584  0.560294  543    fairway0  1840  1.134473   \n",
       "fairway300    ...     1.320108  0.503369  566  fairway300   452  1.093082   \n",
       "fairway540    ...     2.575031 -0.306372  556  fairway540   829  1.174299   \n",
       "green0        ...     0.000000  0.000927  577      green0  1698  1.020079   \n",
       "green10       ...     1.001110 -0.113052  546     green10   445  1.076593   \n",
       "green20       ...     1.001211  0.049292  577     green20   745  1.059885   \n",
       "green5        ...     1.010094 -0.459876  546      green5  1468  1.098987   \n",
       "other         ...     2.380135 -0.244679  570       other   338  1.244549   \n",
       "rough0        ...     1.857240 -0.031716  551      rough0   321  1.138360   \n",
       "rough375      ...     2.446136 -0.275946  581    rough375  1417  1.102567   \n",
       "rough90       ...     2.039258 -0.273820  547     rough90  1001  1.181545   \n",
       "tee3          ...     1.835700 -0.129033  551        tee3  1480  1.091656   \n",
       "tee45         ...     3.285836  0.380831  550       tee45  1163  1.147283   \n",
       "\n",
       "                      63     64        65        66  \n",
       "baby_cat                                             \n",
       "bunker      1.089564e+05  False  0.898458  0.948586  \n",
       "fairway0    9.703716e+04  False  0.917843  0.834403  \n",
       "fairway300  5.334266e+05  False  0.944654  0.810063  \n",
       "fairway540  3.437991e+05  False  0.958069  0.801779  \n",
       "green0      7.931090e+05  False  0.858218  0.982434  \n",
       "green10     8.856729e+04  False  0.890886  0.862644  \n",
       "green20     1.858445e+05  False  0.917189  0.889586  \n",
       "green5      7.097588e+04  False  0.917843  0.887035  \n",
       "other       1.374521e+04  False  0.880805  0.803406  \n",
       "rough0      1.850728e+04  False  0.884467  0.807445  \n",
       "rough375    2.035000e+05  False  0.910941  0.863868  \n",
       "rough90     1.591190e+04  False  0.911842  0.802632  \n",
       "tee3        5.757407e+06  False  0.927017  0.828425  \n",
       "tee45       1.799238e+07  False  0.997439  0.807939  \n",
       "\n",
       "[14 rows x 67 columns]"
      ]
     },
     "execution_count": 4,
     "metadata": {},
     "output_type": "execute_result"
    }
   ],
   "source": [
    "data.groupby('baby_cat').apply(lambda x: x[x.observation_count_percentile>.80]\\\n",
    "                                         .sort_values('skill_estimate_percentile',ascending=False)\\\n",
    "                                         .iloc[0].reset_index(drop=True))"
   ]
  },
  {
   "cell_type": "code",
   "execution_count": 130,
   "metadata": {
    "collapsed": false,
    "scrolled": false
   },
   "outputs": [
    {
     "data": {
      "text/html": [
       "<div>\n",
       "<style>\n",
       "    .dataframe thead tr:only-child th {\n",
       "        text-align: right;\n",
       "    }\n",
       "\n",
       "    .dataframe thead th {\n",
       "        text-align: left;\n",
       "    }\n",
       "\n",
       "    .dataframe tbody tr th {\n",
       "        vertical-align: top;\n",
       "    }\n",
       "</style>\n",
       "<table border=\"1\" class=\"dataframe\">\n",
       "  <thead>\n",
       "    <tr style=\"text-align: right;\">\n",
       "      <th></th>\n",
       "      <th>0</th>\n",
       "      <th>1</th>\n",
       "      <th>2</th>\n",
       "      <th>3</th>\n",
       "      <th>4</th>\n",
       "      <th>5</th>\n",
       "      <th>6</th>\n",
       "      <th>7</th>\n",
       "      <th>8</th>\n",
       "      <th>9</th>\n",
       "    </tr>\n",
       "    <tr>\n",
       "      <th>baby_cat</th>\n",
       "      <th></th>\n",
       "      <th></th>\n",
       "      <th></th>\n",
       "      <th></th>\n",
       "      <th></th>\n",
       "      <th></th>\n",
       "      <th></th>\n",
       "      <th></th>\n",
       "      <th></th>\n",
       "      <th></th>\n",
       "    </tr>\n",
       "  </thead>\n",
       "  <tbody>\n",
       "    <tr>\n",
       "      <th>bunker</th>\n",
       "      <td>Brandt</td>\n",
       "      <td>Snedeker</td>\n",
       "      <td>557</td>\n",
       "      <td>bunker</td>\n",
       "      <td>736</td>\n",
       "      <td>1.111014</td>\n",
       "      <td>6.793442e+04</td>\n",
       "      <td>False</td>\n",
       "      <td>0.887755</td>\n",
       "      <td>0.956633</td>\n",
       "    </tr>\n",
       "    <tr>\n",
       "      <th>fairway0</th>\n",
       "      <td>Matt</td>\n",
       "      <td>Kuchar</td>\n",
       "      <td>555</td>\n",
       "      <td>fairway0</td>\n",
       "      <td>411</td>\n",
       "      <td>1.106957</td>\n",
       "      <td>8.657614e+04</td>\n",
       "      <td>False</td>\n",
       "      <td>0.905972</td>\n",
       "      <td>0.958069</td>\n",
       "    </tr>\n",
       "    <tr>\n",
       "      <th>fairway300</th>\n",
       "      <td>David</td>\n",
       "      <td>Hearn</td>\n",
       "      <td>565</td>\n",
       "      <td>fairway300</td>\n",
       "      <td>508</td>\n",
       "      <td>1.055420</td>\n",
       "      <td>7.331019e+05</td>\n",
       "      <td>False</td>\n",
       "      <td>0.909669</td>\n",
       "      <td>0.993639</td>\n",
       "    </tr>\n",
       "    <tr>\n",
       "      <th>fairway540</th>\n",
       "      <td>Kevin</td>\n",
       "      <td>Chappell</td>\n",
       "      <td>546</td>\n",
       "      <td>fairway540</td>\n",
       "      <td>1244</td>\n",
       "      <td>1.063083</td>\n",
       "      <td>5.312149e+05</td>\n",
       "      <td>False</td>\n",
       "      <td>0.855844</td>\n",
       "      <td>0.975325</td>\n",
       "    </tr>\n",
       "    <tr>\n",
       "      <th>green0</th>\n",
       "      <td>Michael</td>\n",
       "      <td>Kim</td>\n",
       "      <td>571</td>\n",
       "      <td>green0</td>\n",
       "      <td>1698</td>\n",
       "      <td>1.017364</td>\n",
       "      <td>4.757396e+05</td>\n",
       "      <td>False</td>\n",
       "      <td>0.850727</td>\n",
       "      <td>0.963012</td>\n",
       "    </tr>\n",
       "    <tr>\n",
       "      <th>green10</th>\n",
       "      <td>Adam</td>\n",
       "      <td>Hadwin</td>\n",
       "      <td>560</td>\n",
       "      <td>green10</td>\n",
       "      <td>1400</td>\n",
       "      <td>1.036416</td>\n",
       "      <td>7.718386e+04</td>\n",
       "      <td>False</td>\n",
       "      <td>0.818528</td>\n",
       "      <td>0.987310</td>\n",
       "    </tr>\n",
       "    <tr>\n",
       "      <th>green20</th>\n",
       "      <td>Camilo</td>\n",
       "      <td>Villegas</td>\n",
       "      <td>554</td>\n",
       "      <td>green20</td>\n",
       "      <td>745</td>\n",
       "      <td>1.043929</td>\n",
       "      <td>1.404609e+05</td>\n",
       "      <td>False</td>\n",
       "      <td>0.888183</td>\n",
       "      <td>0.959339</td>\n",
       "    </tr>\n",
       "    <tr>\n",
       "      <th>green5</th>\n",
       "      <td>Harris</td>\n",
       "      <td>English</td>\n",
       "      <td>564</td>\n",
       "      <td>green5</td>\n",
       "      <td>1585</td>\n",
       "      <td>1.055301</td>\n",
       "      <td>5.538937e+04</td>\n",
       "      <td>False</td>\n",
       "      <td>0.856599</td>\n",
       "      <td>0.982234</td>\n",
       "    </tr>\n",
       "    <tr>\n",
       "      <th>other</th>\n",
       "      <td>Luke</td>\n",
       "      <td>Donald</td>\n",
       "      <td>552</td>\n",
       "      <td>other</td>\n",
       "      <td>437</td>\n",
       "      <td>1.153670</td>\n",
       "      <td>1.062923e+04</td>\n",
       "      <td>False</td>\n",
       "      <td>0.841017</td>\n",
       "      <td>0.957075</td>\n",
       "    </tr>\n",
       "    <tr>\n",
       "      <th>rough0</th>\n",
       "      <td>Cameron</td>\n",
       "      <td>Tringale</td>\n",
       "      <td>550</td>\n",
       "      <td>rough0</td>\n",
       "      <td>1401</td>\n",
       "      <td>1.107604</td>\n",
       "      <td>2.103082e+04</td>\n",
       "      <td>False</td>\n",
       "      <td>0.870968</td>\n",
       "      <td>0.966452</td>\n",
       "    </tr>\n",
       "    <tr>\n",
       "      <th>rough375</th>\n",
       "      <td>Kevin</td>\n",
       "      <td>Na</td>\n",
       "      <td>555</td>\n",
       "      <td>rough375</td>\n",
       "      <td>477</td>\n",
       "      <td>1.073274</td>\n",
       "      <td>1.827302e+05</td>\n",
       "      <td>False</td>\n",
       "      <td>0.898089</td>\n",
       "      <td>0.951592</td>\n",
       "    </tr>\n",
       "    <tr>\n",
       "      <th>rough90</th>\n",
       "      <td>Hunter</td>\n",
       "      <td>Mahan</td>\n",
       "      <td>550</td>\n",
       "      <td>rough90</td>\n",
       "      <td>457</td>\n",
       "      <td>1.112111</td>\n",
       "      <td>1.837940e+04</td>\n",
       "      <td>False</td>\n",
       "      <td>0.866930</td>\n",
       "      <td>0.973650</td>\n",
       "    </tr>\n",
       "    <tr>\n",
       "      <th>tee3</th>\n",
       "      <td>Jason</td>\n",
       "      <td>Kokrak</td>\n",
       "      <td>560</td>\n",
       "      <td>tee3</td>\n",
       "      <td>1473</td>\n",
       "      <td>1.066022</td>\n",
       "      <td>5.452072e+06</td>\n",
       "      <td>False</td>\n",
       "      <td>0.901015</td>\n",
       "      <td>0.970812</td>\n",
       "    </tr>\n",
       "    <tr>\n",
       "      <th>tee45</th>\n",
       "      <td>Tony</td>\n",
       "      <td>Finau</td>\n",
       "      <td>561</td>\n",
       "      <td>tee45</td>\n",
       "      <td>1143</td>\n",
       "      <td>1.074685</td>\n",
       "      <td>2.053874e+07</td>\n",
       "      <td>False</td>\n",
       "      <td>0.960660</td>\n",
       "      <td>0.984772</td>\n",
       "    </tr>\n",
       "  </tbody>\n",
       "</table>\n",
       "</div>"
      ],
      "text/plain": [
       "                  0         1    2           3     4         5             6  \\\n",
       "baby_cat                                                                       \n",
       "bunker       Brandt  Snedeker  557      bunker   736  1.111014  6.793442e+04   \n",
       "fairway0       Matt    Kuchar  555    fairway0   411  1.106957  8.657614e+04   \n",
       "fairway300    David     Hearn  565  fairway300   508  1.055420  7.331019e+05   \n",
       "fairway540    Kevin  Chappell  546  fairway540  1244  1.063083  5.312149e+05   \n",
       "green0      Michael       Kim  571      green0  1698  1.017364  4.757396e+05   \n",
       "green10        Adam    Hadwin  560     green10  1400  1.036416  7.718386e+04   \n",
       "green20      Camilo  Villegas  554     green20   745  1.043929  1.404609e+05   \n",
       "green5       Harris   English  564      green5  1585  1.055301  5.538937e+04   \n",
       "other          Luke    Donald  552       other   437  1.153670  1.062923e+04   \n",
       "rough0      Cameron  Tringale  550      rough0  1401  1.107604  2.103082e+04   \n",
       "rough375      Kevin        Na  555    rough375   477  1.073274  1.827302e+05   \n",
       "rough90      Hunter     Mahan  550     rough90   457  1.112111  1.837940e+04   \n",
       "tee3          Jason    Kokrak  560        tee3  1473  1.066022  5.452072e+06   \n",
       "tee45          Tony     Finau  561       tee45  1143  1.074685  2.053874e+07   \n",
       "\n",
       "                7         8         9  \n",
       "baby_cat                               \n",
       "bunker      False  0.887755  0.956633  \n",
       "fairway0    False  0.905972  0.958069  \n",
       "fairway300  False  0.909669  0.993639  \n",
       "fairway540  False  0.855844  0.975325  \n",
       "green0      False  0.850727  0.963012  \n",
       "green10     False  0.818528  0.987310  \n",
       "green20     False  0.888183  0.959339  \n",
       "green5      False  0.856599  0.982234  \n",
       "other       False  0.841017  0.957075  \n",
       "rough0      False  0.870968  0.966452  \n",
       "rough375    False  0.898089  0.951592  \n",
       "rough90     False  0.866930  0.973650  \n",
       "tee3        False  0.901015  0.970812  \n",
       "tee45       False  0.960660  0.984772  "
      ]
     },
     "execution_count": 130,
     "metadata": {},
     "output_type": "execute_result"
    }
   ],
   "source": [
    "data.groupby('baby_cat').apply(lambda x: x[x.observation_count_percentile>.95]\\\n",
    "                                         .sort_values('skill_estimate_percentile',ascending=False)\\\n",
    "                                         .iloc[0].reset_index(drop=True))"
   ]
  },
  {
   "cell_type": "code",
   "execution_count": 119,
   "metadata": {
    "collapsed": true
   },
   "outputs": [],
   "source": [
    "from scipy.stats import norm"
   ]
  },
  {
   "cell_type": "code",
   "execution_count": 125,
   "metadata": {
    "collapsed": true
   },
   "outputs": [],
   "source": [
    "def my_norm(x,BETA):\n",
    "    return norm.pdf(x,0,BETA)/norm.pdf(0,0,BETA)"
   ]
  },
  {
   "cell_type": "code",
   "execution_count": 132,
   "metadata": {
    "collapsed": false
   },
   "outputs": [
    {
     "data": {
      "text/plain": [
       "0.45783336177161427"
      ]
     },
     "execution_count": 132,
     "metadata": {},
     "output_type": "execute_result"
    }
   ],
   "source": [
    "my_norm(5,4)"
   ]
  },
  {
   "cell_type": "code",
   "execution_count": 103,
   "metadata": {
    "collapsed": false
   },
   "outputs": [
    {
     "data": {
      "text/plain": [
       "<matplotlib.axes._subplots.AxesSubplot at 0x117130ad0>"
      ]
     },
     "execution_count": 103,
     "metadata": {},
     "output_type": "execute_result"
    },
    {
     "data": {
      "image/png": "[encoded data removed]",
      "text/plain": [
       "<matplotlib.figure.Figure at 0x115a86190>"
      ]
     },
     "metadata": {},
     "output_type": "display_data"
    }
   ],
   "source": [
    "data.plot('observation_count_percentile','skill_estimate_percentile',kind='scatter',alpha=.1);"
   ]
  },
  {
   "cell_type": "code",
   "execution_count": 104,
   "metadata": {
    "collapsed": false
   },
   "outputs": [
    {
     "data": {
      "text/html": [
       "<div>\n",
       "<style>\n",
       "    .dataframe thead tr:only-child th {\n",
       "        text-align: right;\n",
       "    }\n",
       "\n",
       "    .dataframe thead th {\n",
       "        text-align: left;\n",
       "    }\n",
       "\n",
       "    .dataframe tbody tr th {\n",
       "        vertical-align: top;\n",
       "    }\n",
       "</style>\n",
       "<table border=\"1\" class=\"dataframe\">\n",
       "  <thead>\n",
       "    <tr style=\"text-align: right;\">\n",
       "      <th></th>\n",
       "      <th>observation_count_percentile</th>\n",
       "      <th>skill_estimate_percentile</th>\n",
       "    </tr>\n",
       "  </thead>\n",
       "  <tbody>\n",
       "    <tr>\n",
       "      <th>observation_count_percentile</th>\n",
       "      <td>1.000000</td>\n",
       "      <td>0.138016</td>\n",
       "    </tr>\n",
       "    <tr>\n",
       "      <th>skill_estimate_percentile</th>\n",
       "      <td>0.138016</td>\n",
       "      <td>1.000000</td>\n",
       "    </tr>\n",
       "  </tbody>\n",
       "</table>\n",
       "</div>"
      ],
      "text/plain": [
       "                              observation_count_percentile  \\\n",
       "observation_count_percentile                      1.000000   \n",
       "skill_estimate_percentile                         0.138016   \n",
       "\n",
       "                              skill_estimate_percentile  \n",
       "observation_count_percentile                   0.138016  \n",
       "skill_estimate_percentile                      1.000000  "
      ]
     },
     "execution_count": 104,
     "metadata": {},
     "output_type": "execute_result"
    }
   ],
   "source": [
    "data[['observation_count_percentile','skill_estimate_percentile']].corr()"
   ]
  },
  {
   "cell_type": "code",
   "execution_count": 26,
   "metadata": {
    "collapsed": false,
    "scrolled": true
   },
   "outputs": [],
   "source": [
    "a = np.array([[4,np.nan,3],[3,2,2],[np.nan,1,1],[2,1,4],[-1,1,1]])"
   ]
  },
  {
   "cell_type": "code",
   "execution_count": 27,
   "metadata": {
    "collapsed": false
   },
   "outputs": [
    {
     "data": {
      "text/html": [
       "<div>\n",
       "<style>\n",
       "    .dataframe thead tr:only-child th {\n",
       "        text-align: right;\n",
       "    }\n",
       "\n",
       "    .dataframe thead th {\n",
       "        text-align: left;\n",
       "    }\n",
       "\n",
       "    .dataframe tbody tr th {\n",
       "        vertical-align: top;\n",
       "    }\n",
       "</style>\n",
       "<table border=\"1\" class=\"dataframe\">\n",
       "  <thead>\n",
       "    <tr style=\"text-align: right;\">\n",
       "      <th></th>\n",
       "      <th>0</th>\n",
       "      <th>1</th>\n",
       "      <th>2</th>\n",
       "    </tr>\n",
       "  </thead>\n",
       "  <tbody>\n",
       "    <tr>\n",
       "      <th>0</th>\n",
       "      <td>4.0</td>\n",
       "      <td>NaN</td>\n",
       "      <td>3.0</td>\n",
       "    </tr>\n",
       "    <tr>\n",
       "      <th>1</th>\n",
       "      <td>3.0</td>\n",
       "      <td>2.0</td>\n",
       "      <td>2.0</td>\n",
       "    </tr>\n",
       "    <tr>\n",
       "      <th>2</th>\n",
       "      <td>NaN</td>\n",
       "      <td>1.0</td>\n",
       "      <td>1.0</td>\n",
       "    </tr>\n",
       "    <tr>\n",
       "      <th>3</th>\n",
       "      <td>2.0</td>\n",
       "      <td>1.0</td>\n",
       "      <td>4.0</td>\n",
       "    </tr>\n",
       "    <tr>\n",
       "      <th>4</th>\n",
       "      <td>-1.0</td>\n",
       "      <td>1.0</td>\n",
       "      <td>1.0</td>\n",
       "    </tr>\n",
       "  </tbody>\n",
       "</table>\n",
       "</div>"
      ],
      "text/plain": [
       "     0    1    2\n",
       "0  4.0  NaN  3.0\n",
       "1  3.0  2.0  2.0\n",
       "2  NaN  1.0  1.0\n",
       "3  2.0  1.0  4.0\n",
       "4 -1.0  1.0  1.0"
      ]
     },
     "execution_count": 27,
     "metadata": {},
     "output_type": "execute_result"
    }
   ],
   "source": [
    "pd.DataFrame(a)"
   ]
  },
  {
   "cell_type": "code",
   "execution_count": 30,
   "metadata": {
    "collapsed": true
   },
   "outputs": [],
   "source": [
    "from scipy.stats import rankdata"
   ]
  },
  {
   "cell_type": "code",
   "execution_count": 32,
   "metadata": {
    "collapsed": false
   },
   "outputs": [
    {
     "data": {
      "text/plain": [
       "array([ 4.,  3.,  5.,  2.,  1.])"
      ]
     },
     "execution_count": 32,
     "metadata": {},
     "output_type": "execute_result"
    }
   ],
   "source": [
    "rankdata(a[:,0])"
   ]
  },
  {
   "cell_type": "code",
   "execution_count": 53,
   "metadata": {
    "collapsed": false
   },
   "outputs": [
    {
     "data": {
      "text/plain": [
       "array([ nan,   7.,  nan,   7.,   1.])"
      ]
     },
     "execution_count": 53,
     "metadata": {},
     "output_type": "execute_result"
    }
   ],
   "source": [
    "a.sum(1)"
   ]
  },
  {
   "cell_type": "code",
   "execution_count": 62,
   "metadata": {
    "collapsed": false
   },
   "outputs": [
    {
     "name": "stdout",
     "output_type": "stream",
     "text": [
      "[ 4.  3.  2.  1.]\n",
      "[ 4.  2.  2.  2.]\n",
      "[ 4.   3.   1.5  5.   1.5]\n"
     ]
    },
    {
     "data": {
      "text/plain": [
       "array([[ 1.  ,   nan,  0.8 ],\n",
       "       [ 0.75,  1.  ,  0.6 ],\n",
       "       [  nan,  0.5 ,  0.3 ],\n",
       "       [ 0.5 ,  0.5 ,  1.  ],\n",
       "       [ 0.25,  0.5 ,  0.3 ]])"
      ]
     },
     "execution_count": 62,
     "metadata": {},
     "output_type": "execute_result"
    }
   ],
   "source": [
    "np.apply_along_axis(lambda x: rank(x,~np.isnan(x)),0,a)"
   ]
  },
  {
   "cell_type": "code",
   "execution_count": 60,
   "metadata": {
    "collapsed": true
   },
   "outputs": [],
   "source": [
    "def rank(a,mask):\n",
    "    res = np.ones_like(a)\n",
    "    print rankdata(a[mask])\n",
    "    res[mask] = rankdata(a[mask])/mask.sum()\n",
    "    res[~mask] = np.nan\n",
    "    return res"
   ]
  },
  {
   "cell_type": "code",
   "execution_count": 58,
   "metadata": {
    "collapsed": false
   },
   "outputs": [],
   "source": [
    "a_ma = np.ma.MaskedArray(a,np.isnan(a))"
   ]
  },
  {
   "cell_type": "code",
   "execution_count": 45,
   "metadata": {
    "collapsed": false
   },
   "outputs": [
    {
     "data": {
      "text/plain": [
       "array([[  4.,  nan,   3.],\n",
       "       [  3.,   2.,   2.],\n",
       "       [ nan,   1.,   1.],\n",
       "       [  2.,   1.,   4.],\n",
       "       [ -1.,   1.,   1.]])"
      ]
     },
     "execution_count": 45,
     "metadata": {},
     "output_type": "execute_result"
    }
   ],
   "source": [
    "a"
   ]
  },
  {
   "cell_type": "code",
   "execution_count": 44,
   "metadata": {
    "collapsed": false
   },
   "outputs": [
    {
     "data": {
      "text/plain": [
       "array([[4, 2, 2],\n",
       "       [3, 3, 4],\n",
       "       [1, 4, 1],\n",
       "       [0, 1, 0],\n",
       "       [2, 0, 3]])"
      ]
     },
     "execution_count": 44,
     "metadata": {},
     "output_type": "execute_result"
    }
   ],
   "source": [
    "np.ma.argsort(a_ma,0)"
   ]
  },
  {
   "cell_type": "code",
   "execution_count": 37,
   "metadata": {
    "collapsed": false
   },
   "outputs": [
    {
     "data": {
      "text/plain": [
       "array([ 0.5  ,  0.375,  0.25 ,  0.125])"
      ]
     },
     "execution_count": 37,
     "metadata": {},
     "output_type": "execute_result"
    }
   ],
   "source": [
    "rank(a[:,0],~np.isnan(a[:,0]))"
   ]
  },
  {
   "cell_type": "code",
   "execution_count": 29,
   "metadata": {
    "collapsed": false
   },
   "outputs": [
    {
     "data": {
      "text/plain": [
       "array([[ 0.66666667,  0.33333333,  1.        ],\n",
       "       [ 0.33333333,  0.83333333,  0.83333333],\n",
       "       [ 0.33333333,  0.83333333,  0.83333333],\n",
       "       [ 0.66666667,  1.        ,  0.33333333],\n",
       "       [ 1.        ,  0.5       ,  0.5       ]])"
      ]
     },
     "execution_count": 29,
     "metadata": {},
     "output_type": "execute_result"
    }
   ],
   "source": [
    "pd.DataFrame(a).rank(ascending=False,pct=True,axis=1,na_option='a').values"
   ]
  },
  {
   "cell_type": "code",
   "execution_count": 4,
   "metadata": {
    "collapsed": false
   },
   "outputs": [
    {
     "data": {
      "text/html": [
       "<div>\n",
       "<style>\n",
       "    .dataframe thead tr:only-child th {\n",
       "        text-align: right;\n",
       "    }\n",
       "\n",
       "    .dataframe thead th {\n",
       "        text-align: left;\n",
       "    }\n",
       "\n",
       "    .dataframe tbody tr th {\n",
       "        vertical-align: top;\n",
       "    }\n",
       "</style>\n",
       "<table border=\"1\" class=\"dataframe\">\n",
       "  <thead>\n",
       "    <tr style=\"text-align: right;\">\n",
       "      <th></th>\n",
       "      <th>skill_estimate</th>\n",
       "      <th>observation_count</th>\n",
       "      <th>not_seen</th>\n",
       "      <th>skill_estimate_percentile</th>\n",
       "      <th>observation_count_percentile</th>\n",
       "    </tr>\n",
       "  </thead>\n",
       "  <tbody>\n",
       "    <tr>\n",
       "      <th>0</th>\n",
       "      <td>NaN</td>\n",
       "      <td>NaN</td>\n",
       "      <td>False</td>\n",
       "      <td>0.843426</td>\n",
       "      <td>NaN</td>\n",
       "    </tr>\n",
       "    <tr>\n",
       "      <th>1</th>\n",
       "      <td>NaN</td>\n",
       "      <td>NaN</td>\n",
       "      <td>False</td>\n",
       "      <td>NaN</td>\n",
       "      <td>NaN</td>\n",
       "    </tr>\n",
       "    <tr>\n",
       "      <th>2</th>\n",
       "      <td>NaN</td>\n",
       "      <td>NaN</td>\n",
       "      <td>False</td>\n",
       "      <td>NaN</td>\n",
       "      <td>NaN</td>\n",
       "    </tr>\n",
       "    <tr>\n",
       "      <th>3</th>\n",
       "      <td>NaN</td>\n",
       "      <td>NaN</td>\n",
       "      <td>False</td>\n",
       "      <td>NaN</td>\n",
       "      <td>NaN</td>\n",
       "    </tr>\n",
       "    <tr>\n",
       "      <th>4</th>\n",
       "      <td>NaN</td>\n",
       "      <td>NaN</td>\n",
       "      <td>False</td>\n",
       "      <td>NaN</td>\n",
       "      <td>NaN</td>\n",
       "    </tr>\n",
       "  </tbody>\n",
       "</table>\n",
       "</div>"
      ],
      "text/plain": [
       "   skill_estimate  observation_count  not_seen  skill_estimate_percentile  \\\n",
       "0             NaN                NaN     False                   0.843426   \n",
       "1             NaN                NaN     False                        NaN   \n",
       "2             NaN                NaN     False                        NaN   \n",
       "3             NaN                NaN     False                        NaN   \n",
       "4             NaN                NaN     False                        NaN   \n",
       "\n",
       "   observation_count_percentile  \n",
       "0                           NaN  \n",
       "1                           NaN  \n",
       "2                           NaN  \n",
       "3                           NaN  \n",
       "4                           NaN  "
      ]
     },
     "execution_count": 4,
     "metadata": {},
     "output_type": "execute_result"
    }
   ],
   "source": [
    "data.head()"
   ]
  },
  {
   "cell_type": "code",
   "execution_count": 5,
   "metadata": {
    "collapsed": false
   },
   "outputs": [
    {
     "data": {
      "text/html": [
       "<div>\n",
       "<style>\n",
       "    .dataframe thead tr:only-child th {\n",
       "        text-align: right;\n",
       "    }\n",
       "\n",
       "    .dataframe thead th {\n",
       "        text-align: left;\n",
       "    }\n",
       "\n",
       "    .dataframe tbody tr th {\n",
       "        vertical-align: top;\n",
       "    }\n",
       "</style>\n",
       "<table border=\"1\" class=\"dataframe\">\n",
       "  <thead>\n",
       "    <tr style=\"text-align: right;\">\n",
       "      <th></th>\n",
       "      <th>skill_estimate</th>\n",
       "      <th>observation_count</th>\n",
       "      <th>not_seen</th>\n",
       "      <th>skill_estimate_percentile</th>\n",
       "      <th>observation_count_percentile</th>\n",
       "    </tr>\n",
       "  </thead>\n",
       "  <tbody>\n",
       "    <tr>\n",
       "      <th>951995</th>\n",
       "      <td>1.099024</td>\n",
       "      <td>4.345218e+06</td>\n",
       "      <td>False</td>\n",
       "      <td>0.071799</td>\n",
       "      <td>0.929931</td>\n",
       "    </tr>\n",
       "    <tr>\n",
       "      <th>951996</th>\n",
       "      <td>0.995502</td>\n",
       "      <td>1.068716e+05</td>\n",
       "      <td>False</td>\n",
       "      <td>0.701557</td>\n",
       "      <td>0.929931</td>\n",
       "    </tr>\n",
       "    <tr>\n",
       "      <th>951997</th>\n",
       "      <td>1.056108</td>\n",
       "      <td>3.491711e+04</td>\n",
       "      <td>False</td>\n",
       "      <td>0.054498</td>\n",
       "      <td>0.936851</td>\n",
       "    </tr>\n",
       "    <tr>\n",
       "      <th>951998</th>\n",
       "      <td>0.995502</td>\n",
       "      <td>1.068716e+05</td>\n",
       "      <td>False</td>\n",
       "      <td>0.701557</td>\n",
       "      <td>0.929931</td>\n",
       "    </tr>\n",
       "    <tr>\n",
       "      <th>951999</th>\n",
       "      <td>0.989980</td>\n",
       "      <td>4.120507e+04</td>\n",
       "      <td>False</td>\n",
       "      <td>0.828901</td>\n",
       "      <td>0.573529</td>\n",
       "    </tr>\n",
       "  </tbody>\n",
       "</table>\n",
       "</div>"
      ],
      "text/plain": [
       "        skill_estimate  observation_count  not_seen  \\\n",
       "951995        1.099024       4.345218e+06     False   \n",
       "951996        0.995502       1.068716e+05     False   \n",
       "951997        1.056108       3.491711e+04     False   \n",
       "951998        0.995502       1.068716e+05     False   \n",
       "951999        0.989980       4.120507e+04     False   \n",
       "\n",
       "        skill_estimate_percentile  observation_count_percentile  \n",
       "951995                   0.071799                      0.929931  \n",
       "951996                   0.701557                      0.929931  \n",
       "951997                   0.054498                      0.936851  \n",
       "951998                   0.701557                      0.929931  \n",
       "951999                   0.828901                      0.573529  "
      ]
     },
     "execution_count": 5,
     "metadata": {},
     "output_type": "execute_result"
    }
   ],
   "source": [
    "data.tail()"
   ]
  },
  {
   "cell_type": "code",
   "execution_count": 105,
   "metadata": {
    "collapsed": false
   },
   "outputs": [
    {
     "data": {
      "text/plain": [
       "<matplotlib.axes._subplots.AxesSubplot at 0x12e2eb2d0>"
      ]
     },
     "execution_count": 105,
     "metadata": {},
     "output_type": "execute_result"
    },
    {
     "data": {
      "image/png": "[encoded data removed]",
      "text/plain": [
       "<matplotlib.figure.Figure at 0x12e309510>"
      ]
     },
     "metadata": {},
     "output_type": "display_data"
    }
   ],
   "source": [
    "data.skill_estimate_percentile.hist()"
   ]
  },
  {
   "cell_type": "code",
   "execution_count": 107,
   "metadata": {
    "collapsed": false
   },
   "outputs": [],
   "source": [
    "cols = ['tourn_num']\n",
    "data = pd.concat([pd.read_csv('../data/%d.csv' % year,usecols=cols) for year in range(2003,2018)])"
   ]
  },
  {
   "cell_type": "code",
   "execution_count": 110,
   "metadata": {
    "collapsed": false
   },
   "outputs": [
    {
     "data": {
      "text/plain": [
       "True"
      ]
     },
     "execution_count": 110,
     "metadata": {},
     "output_type": "execute_result"
    }
   ],
   "source": [
    "vals = data['tourn_num'].drop_duplicates().sort_values().values \n",
    "np.all(vals==np.arange(len(vals)))"
   ]
  },
  {
   "cell_type": "code",
   "execution_count": 2,
   "metadata": {
    "collapsed": true
   },
   "outputs": [],
   "source": [
    "cols = ['tourn_num','skill_estimate_percentile','not_seen','observation_count_percentile',\n",
    "        'Player_First_Name','Player_Last_Name','Cat','Distance_from_hole','Green_to_work_with',\n",
    "        'Strokes_from_starting_location']\n",
    "data = pd.concat([pd.read_csv('../data/%d.csv' % year,usecols=cols) for year in range(2003,2018)])"
   ]
  },
  {
   "cell_type": "code",
   "execution_count": 3,
   "metadata": {
    "collapsed": false
   },
   "outputs": [
    {
     "data": {
      "text/plain": [
       "(15456631, 10)"
      ]
     },
     "execution_count": 3,
     "metadata": {},
     "output_type": "execute_result"
    }
   ],
   "source": [
    "data.shape"
   ]
  },
  {
   "cell_type": "code",
   "execution_count": 4,
   "metadata": {
    "collapsed": false
   },
   "outputs": [
    {
     "name": "stdout",
     "output_type": "stream",
     "text": [
      "<class 'pandas.core.frame.DataFrame'>\n",
      "Int64Index: 15456631 entries, 0 to 866960\n",
      "Data columns (total 10 columns):\n",
      "Player_First_Name                 15456631 non-null object\n",
      "Player_Last_Name                  15456631 non-null object\n",
      "Strokes_from_starting_location    15456631 non-null int64\n",
      "Distance_from_hole                15456631 non-null float64\n",
      "Cat                               15456631 non-null object\n",
      "Green_to_work_with                9094045 non-null float64\n",
      "tourn_num                         15456631 non-null int64\n",
      "not_seen                          15456631 non-null bool\n",
      "skill_estimate_percentile         15094937 non-null float64\n",
      "observation_count_percentile      15094937 non-null float64\n",
      "dtypes: bool(1), float64(4), int64(2), object(3)\n",
      "memory usage: 1.2+ GB\n"
     ]
    }
   ],
   "source": [
    "data.info(null_counts=True)"
   ]
  },
  {
   "cell_type": "code",
   "execution_count": 11,
   "metadata": {
    "collapsed": true
   },
   "outputs": [],
   "source": [
    "data.not_seen = data.not_seen.astype(float)\n",
    "data.Strokes_from_starting_location = data.Strokes_from_starting_location.astype(float)\n",
    "data.skill_estimate_percentile = data.skill_estimate_percentile.fillna(.5)\n",
    "data.observation_count_percentile = data.observation_count_percentile.fillna(.5)"
   ]
  },
  {
   "cell_type": "code",
   "execution_count": 12,
   "metadata": {
    "collapsed": false
   },
   "outputs": [
    {
     "name": "stdout",
     "output_type": "stream",
     "text": [
      "<class 'pandas.core.frame.DataFrame'>\n",
      "Int64Index: 15456631 entries, 0 to 866960\n",
      "Data columns (total 10 columns):\n",
      "Player_First_Name                 15456631 non-null object\n",
      "Player_Last_Name                  15456631 non-null object\n",
      "Strokes_from_starting_location    15456631 non-null float64\n",
      "Distance_from_hole                15456631 non-null float64\n",
      "Cat                               15456631 non-null object\n",
      "Green_to_work_with                9094045 non-null float64\n",
      "tourn_num                         15456631 non-null int64\n",
      "not_seen                          15456631 non-null float64\n",
      "skill_estimate_percentile         15456631 non-null float64\n",
      "observation_count_percentile      15456631 non-null float64\n",
      "dtypes: float64(6), int64(1), object(3)\n",
      "memory usage: 1.3+ GB\n"
     ]
    }
   ],
   "source": [
    "data.info(null_counts=True)"
   ]
  },
  {
   "cell_type": "code",
   "execution_count": 6,
   "metadata": {
    "collapsed": false
   },
   "outputs": [],
   "source": [
    "n_tournaments = data.tourn_num.max()"
   ]
  },
  {
   "cell_type": "code",
   "execution_count": 7,
   "metadata": {
    "collapsed": true
   },
   "outputs": [],
   "source": [
    "trains = [range(i) for i in range(500,n_tournaments-1)]\n",
    "tests = [[i] for i in range(501,n_tournaments)]"
   ]
  },
  {
   "cell_type": "code",
   "execution_count": 8,
   "metadata": {
    "collapsed": false
   },
   "outputs": [
    {
     "data": {
      "text/plain": [
       "(72, 72)"
      ]
     },
     "execution_count": 8,
     "metadata": {},
     "output_type": "execute_result"
    }
   ],
   "source": [
    "len(trains),len(tests)"
   ]
  },
  {
   "cell_type": "code",
   "execution_count": 9,
   "metadata": {
    "collapsed": true
   },
   "outputs": [],
   "source": [
    "from sklearn.ensemble import RandomForestRegressor"
   ]
  },
  {
   "cell_type": "code",
   "execution_count": 20,
   "metadata": {
    "collapsed": true
   },
   "outputs": [],
   "source": [
    "rf = RandomForestRegressor(max_depth=8,max_features=1,n_estimators=30,n_jobs=-1)"
   ]
  },
  {
   "cell_type": "code",
   "execution_count": 22,
   "metadata": {
    "collapsed": false
   },
   "outputs": [
    {
     "name": "stdout",
     "output_type": "stream",
     "text": [
      "2287652 2287652 0.302254885263 5358 5358 0.249591535247\n",
      "2293200 2293200 0.302301028184 4431 4431 0.266718726328\n",
      "2298558 2298558 0.302240203053 4194 4194 0.261404279121\n",
      "2302989 2302989 0.302206865387 3433 3433 0.309244664656\n",
      "2307183 2307183 0.302118720071 1247 1247 0.275669831891\n",
      "2310616 2310616 0.302139490322 4765 4765 0.287495783786\n",
      "2311863 2311863 0.302134902317 4819 4819 0.204581663574\n",
      "2316628 2316628 0.30212151967 4844 4844 0.409014259252\n",
      "2321447 2321447 0.30194580533 4280 4280 0.353247759852\n",
      "2326291 2326291 0.302188411578 1723 1723 0.299147198382\n",
      "2330571 2330571 0.302284577653 4712 4712 0.248536129606\n",
      "2332294 2332294 0.302274149697 2554 2554 0.336340942696\n",
      "2337006 2337006 0.302323685998 2504 2504 0.348256249828\n",
      "2339560 2339560 0.302363353736 4852 4852 0.350836725079\n",
      "2342064 2342064 0.302443168448 2928 2928 0.29604692543\n",
      "2346916 2346916 0.302558771912 4789 4789 0.318095827912\n",
      "2349844 2349844 0.302584533216 4917 4917 0.253098832134\n",
      "2354633 2354633 0.302629022492 2690 2690 0.333227459376\n",
      "2359550 2359550 0.302536265013 4332 4332 0.333534860804\n",
      "2362240 2362240 0.302603416739 5585 5585 0.358761209045\n",
      "2366572 2366572 0.302685548859 5660 5660 0.387916344479\n",
      "2372157 2372157 0.302846139666 5374 5374 0.387163993608\n",
      "2377817 2377817 0.303047611531 6209 6209 0.397941914927\n",
      "2383191 2383191 0.303275660061 6312 6312 0.394214361582\n",
      "2389400 2389400 0.303575296669 5384 5384 0.376974732173\n",
      "2395712 2395712 0.303866142654 5335 5335 0.304926829965\n",
      "2401096 2401096 0.304046704302 5713 5713 0.266264313543\n",
      "2406431 2406431 0.304067950398 3992 3992 0.267531587567\n",
      "2412144 2412144 0.30408274966 4821 4821 0.223440922993\n",
      "2416136 2416136 0.304012977384 4989 4989 0.304298997276\n",
      "2420957 2420957 0.303883169895 4335 4335 0.295138300774\n",
      "2425946 2425946 0.303938183319 2093 2093 0.250271758269\n",
      "2430281 2430281 0.303933400552 4686 4686 0.186350422695\n",
      "2432374 2432374 0.303887098192 4198 4198 0.232912093732\n",
      "2437060 2437060 0.303692953146 5169 5169 0.249995596008\n",
      "2441258 2441258 0.303570408277 5779 5779 0.336096656242\n",
      "2446427 2446427 0.303482183122 6309 6309 0.309184745797\n",
      "2452206 2452206 0.303578152912 5111 5111 0.242903511023\n",
      "2458515 2458515 0.303602278521 4143 4143 0.259513965586\n",
      "2463626 2463626 0.303549026368 4328 4328 0.283192787681\n",
      "2467769 2467769 0.303471635361 3184 3184 0.284824141761\n",
      "2472097 2472097 0.303447246024 1111 1111 0.224422821153\n",
      "2475281 2475281 0.303411318098 4649 4649 0.279552088231\n",
      "2476392 2476392 0.303399515847 4613 4613 0.332908685722\n",
      "2481041 2481041 0.303372853204 4705 4705 0.204932799681\n",
      "2485654 2485654 0.303436426182 3906 3906 0.275413989045\n",
      "2490359 2490359 0.303329264819 1786 1786 0.29143237062\n",
      "2494265 2494265 0.303316519783 4453 4453 0.233373419762\n",
      "2496051 2496051 0.303318954267 2663 2663 0.349167502024\n",
      "2500504 2500504 0.303314172706 3294 3294 0.278658796246\n",
      "2503167 2503167 0.303360547848 4577 4577 0.297601586404\n",
      "2506461 2506461 0.303353077756 3017 3017 0.333977306669\n",
      "2511038 2511038 0.303387151647 4870 4870 0.362505225948\n",
      "2514055 2514055 0.303465319956 4859 4859 0.234023271139\n",
      "2518925 2518925 0.30357722322 3548 3548 0.287670831136\n",
      "2523784 2523784 0.303472268667 4659 4659 0.34957853996\n",
      "2527332 2527332 0.303453379271 5646 5646 0.365590681755\n",
      "2531991 2531991 0.303547173872 5649 5649 0.394042226501\n",
      "2537637 2537637 0.303704296282 5449 5449 0.395525582487\n",
      "2543286 2543286 0.303922660261 6049 6049 0.379400816865\n",
      "2548735 2548735 0.304201490842 7379 7379 0.247359893049\n",
      "2554784 2554784 0.304425743247 6388 6388 0.433681965591\n",
      "2562163 2562163 0.304722960556 6046 6046 0.378347838342\n",
      "2568551 2568551 0.305106149254 5354 5354 0.34540667683\n",
      "2574597 2574597 0.305310547095 3972 3972 0.289524181278\n",
      "2579951 2579951 0.305464252361 4580 4580 0.230312563744\n",
      "2583923 2583923 0.305452453106 5378 5378 0.336314580913\n",
      "2588503 2588503 0.305322681581 5900 5900 0.305488447021\n",
      "2593881 2593881 0.305444526974 4122 4122 0.262346297667\n",
      "2599781 2599781 0.305460785138 5545 5545 0.286115690137\n",
      "2603903 2603903 0.305391937534 6273 6273 0.318799533505\n",
      "2609448 2609448 0.305369945289 4886 4886 0.192658083428\n"
     ]
    }
   ],
   "source": [
    "results1 = []\n",
    "cols = ['Distance_from_hole']\n",
    "# cols = ['Distance_from_hole','Green_to_work_with']\n",
    "# cols = ['Distance_from_hole','Green_to_work_with','not_seen',\n",
    "#         'skill_estimate_percentile','observation_count_percentile']\n",
    "for train,test in zip(trains,tests):\n",
    "    train_mask = (data.Cat=='Fairway') & (data.tourn_num.isin(train))\n",
    "    test_mask = (data.Cat=='Fairway') & (data.tourn_num.isin(test))\n",
    "    X_train = data.loc[train_mask,cols].values\n",
    "    X_test = data.loc[test_mask,cols].values\n",
    "    y_train = data.loc[train_mask,'Strokes_from_starting_location'].values\n",
    "    y_test = data.loc[test_mask,'Strokes_from_starting_location'].values\n",
    "    rf.fit(X_train,y_train)\n",
    "    train_score = rf.score(X_train,y_train)\n",
    "    test_score = rf.score(X_test,y_test)\n",
    "    results1.append(test_score)\n",
    "    print X_train.shape[0],y_train.shape[0],train_score,\\\n",
    "          X_test.shape[0],y_test.shape[0],test_score"
   ]
  },
  {
   "cell_type": "code",
   "execution_count": 23,
   "metadata": {
    "collapsed": true
   },
   "outputs": [],
   "source": [
    "mean, stderr = np.mean(results1), np.std(results1)/len(trains)**.5"
   ]
  },
  {
   "cell_type": "code",
   "execution_count": 24,
   "metadata": {
    "collapsed": false
   },
   "outputs": [
    {
     "data": {
      "text/plain": [
       "(0.29643800818399563, 0.30995207888641935)"
      ]
     },
     "execution_count": 24,
     "metadata": {},
     "output_type": "execute_result"
    }
   ],
   "source": [
    "(mean - stderr, mean + stderr)"
   ]
  },
  {
   "cell_type": "code",
   "execution_count": 25,
   "metadata": {
    "collapsed": true
   },
   "outputs": [],
   "source": [
    "rf = RandomForestRegressor(max_depth=8,max_features=2,n_estimators=30,n_jobs=-1)"
   ]
  },
  {
   "cell_type": "code",
   "execution_count": 26,
   "metadata": {
    "collapsed": false
   },
   "outputs": [
    {
     "name": "stdout",
     "output_type": "stream",
     "text": [
      "2287652 2287652 0.304150897073 5358 5358 0.248661732439\n",
      "2293200 2293200 0.304183645429 4431 4431 0.268549128729\n",
      "2298558 2298558 0.304126350083 4194 4194 0.263822239326\n",
      "2302989 2302989 0.304087001635 3433 3433 0.309226760267\n",
      "2307183 2307183 0.304017435687 1247 1247 0.270694130354\n",
      "2310616 2310616 0.304031658378 4765 4765 0.288456018755\n",
      "2311863 2311863 0.304025185264 4819 4819 0.205100460313\n",
      "2316628 2316628 0.303990552575 4844 4844 0.411144305602\n",
      "2321447 2321447 0.303826513552 4280 4280 0.352218675814\n",
      "2326291 2326291 0.304048348336 1723 1723 0.296478463824\n",
      "2330571 2330571 0.304121860537 4712 4712 0.25014579621\n",
      "2332294 2332294 0.304143434167 2554 2554 0.335299837168\n",
      "2337006 2337006 0.304188098699 2504 2504 0.349512715622\n",
      "2339560 2339560 0.304223304347 4852 4852 0.353226661038\n",
      "2342064 2342064 0.304297272316 2928 2928 0.298559791428\n",
      "2346916 2346916 0.304420012946 4789 4789 0.320945268255\n",
      "2349844 2349844 0.304462939247 4917 4917 0.255591083136\n",
      "2354633 2354633 0.304488739632 2690 2690 0.332577589291\n",
      "2359550 2359550 0.304397892483 4332 4332 0.336098036927\n",
      "2362240 2362240 0.304455743428 5585 5585 0.361861043452\n",
      "2366572 2366572 0.304554973113 5660 5660 0.390247097819\n",
      "2372157 2372157 0.304705902256 5374 5374 0.38855575057\n",
      "2377817 2377817 0.304908192143 6209 6209 0.396898827788\n",
      "2383191 2383191 0.30513622525 6312 6312 0.395565808713\n",
      "2389400 2389400 0.305431463322 5384 5384 0.378472740706\n",
      "2395712 2395712 0.305738775024 5335 5335 0.305639066847\n",
      "2401096 2401096 0.305933597116 5713 5713 0.268798274911\n",
      "2406431 2406431 0.305917615215 3992 3992 0.269169578735\n",
      "2412144 2412144 0.305914749519 4821 4821 0.223761783212\n",
      "2416136 2416136 0.305878530093 4989 4989 0.303642302102\n",
      "2420957 2420957 0.305738968553 4335 4335 0.294909026222\n",
      "2425946 2425946 0.305793348802 2093 2093 0.25456763266\n",
      "2430281 2430281 0.305767758663 4686 4686 0.185106692538\n",
      "2432374 2432374 0.305718793721 4198 4198 0.23605907563\n",
      "2437060 2437060 0.305544414138 5169 5169 0.253525682039\n",
      "2441258 2441258 0.305442094051 5779 5779 0.340586019305\n",
      "2446427 2446427 0.305319585491 6309 6309 0.312415170225\n",
      "2452206 2452206 0.305424442408 5111 5111 0.243201655799\n",
      "2458515 2458515 0.305449746717 4143 4143 0.259308117538\n",
      "2463626 2463626 0.305405338746 4328 4328 0.285468943965\n",
      "2467769 2467769 0.305322158084 3184 3184 0.282634626861\n",
      "2472097 2472097 0.305296966696 1111 1111 0.223999798389\n",
      "2475281 2475281 0.305276133387 4649 4649 0.279202156415\n",
      "2476392 2476392 0.305252695629 4613 4613 0.333497389467\n",
      "2481041 2481041 0.305217717607 4705 4705 0.207396041975\n",
      "2485654 2485654 0.30526123206 3906 3906 0.275137386012\n",
      "2490359 2490359 0.305169540794 1786 1786 0.294726300533\n",
      "2494265 2494265 0.305165475886 4453 4453 0.235306137867\n",
      "2496051 2496051 0.305137814535 2663 2663 0.350646807359\n",
      "2500504 2500504 0.305137165351 3294 3294 0.278946190031\n",
      "2503167 2503167 0.305223877747 4577 4577 0.299237103226\n",
      "2506461 2506461 0.30519217705 3017 3017 0.332421974887\n",
      "2511038 2511038 0.305192832355 4870 4870 0.366187817975\n",
      "2514055 2514055 0.305287615521 4859 4859 0.235682538169\n",
      "2518925 2518925 0.305422505931 3548 3548 0.28762635868\n",
      "2523784 2523784 0.305336142117 4659 4659 0.351677429478\n",
      "2527332 2527332 0.305299272734 5646 5646 0.369086251486\n",
      "2531991 2531991 0.305392456928 5649 5649 0.396121843364\n",
      "2537637 2537637 0.305552698412 5449 5449 0.397420074497\n",
      "2543286 2543286 0.305778098658 6049 6049 0.379006626674\n",
      "2548735 2548735 0.30604402337 7379 7379 0.245742353189\n",
      "2554784 2554784 0.306244320752 6388 6388 0.434052573425\n",
      "2562163 2562163 0.306540082136 6046 6046 0.379712052389\n",
      "2568551 2568551 0.306918601628 5354 5354 0.349127164513\n",
      "2574597 2574597 0.30712783338 3972 3972 0.289646596251\n",
      "2579951 2579951 0.307303713874 4580 4580 0.230961826275\n",
      "2583923 2583923 0.307257459728 5378 5378 0.335348145244\n",
      "2588503 2588503 0.307128834764 5900 5900 0.308867285752\n",
      "2593881 2593881 0.307255065993 4122 4122 0.263666245795\n",
      "2599781 2599781 0.307284426618 5545 5545 0.289361702494\n",
      "2603903 2603903 0.307210346532 6273 6273 0.320549742775\n",
      "2609448 2609448 0.307190979673 4886 4886 0.193387009219\n"
     ]
    }
   ],
   "source": [
    "results2 = []\n",
    "#cols = ['Distance_from_hole']\n",
    "cols = ['Distance_from_hole','Green_to_work_with']\n",
    "# cols = ['Distance_from_hole','Green_to_work_with','not_seen',\n",
    "#         'skill_estimate_percentile','observation_count_percentile']\n",
    "for train,test in zip(trains,tests):\n",
    "    train_mask = (data.Cat=='Fairway') & (data.tourn_num.isin(train))\n",
    "    test_mask = (data.Cat=='Fairway') & (data.tourn_num.isin(test))\n",
    "    X_train = data.loc[train_mask,cols].values\n",
    "    X_test = data.loc[test_mask,cols].values\n",
    "    y_train = data.loc[train_mask,'Strokes_from_starting_location'].values\n",
    "    y_test = data.loc[test_mask,'Strokes_from_starting_location'].values\n",
    "    rf.fit(X_train,y_train)\n",
    "    train_score = rf.score(X_train,y_train)\n",
    "    test_score = rf.score(X_test,y_test)\n",
    "    results2.append(test_score)\n",
    "    print X_train.shape[0],y_train.shape[0],train_score,\\\n",
    "          X_test.shape[0],y_test.shape[0],test_score"
   ]
  },
  {
   "cell_type": "code",
   "execution_count": 27,
   "metadata": {
    "collapsed": false
   },
   "outputs": [
    {
     "data": {
      "text/plain": [
       "(0.29752811237781546, 0.31109556917609676)"
      ]
     },
     "execution_count": 27,
     "metadata": {},
     "output_type": "execute_result"
    }
   ],
   "source": [
    "mean, stderr = np.mean(results2), np.std(results2)/len(trains)**.5\n",
    "(mean - stderr, mean + stderr)"
   ]
  },
  {
   "cell_type": "code",
   "execution_count": 30,
   "metadata": {
    "collapsed": true
   },
   "outputs": [],
   "source": [
    "rf = RandomForestRegressor(max_depth=8,max_features=5,n_estimators=30,n_jobs=-1)"
   ]
  },
  {
   "cell_type": "code",
   "execution_count": 31,
   "metadata": {
    "collapsed": false
   },
   "outputs": [
    {
     "name": "stdout",
     "output_type": "stream",
     "text": [
      "2287652 2287652 0.305418255389 5358 5358 0.248171625453\n",
      "2293200 2293200 0.30543791048 4431 4431 0.267227837337\n",
      "2298558 2298558 0.305378875581 4194 4194 0.26337441798\n",
      "2302989 2302989 0.305320354542 3433 3433 0.314037735625\n",
      "2307183 2307183 0.305250533422 1247 1247 0.273142708169\n",
      "2310616 2310616 0.30527703442 4765 4765 0.288027348388\n",
      "2311863 2311863 0.305271238768 4819 4819 0.20497458431\n",
      "2316628 2316628 0.305240986219 4844 4844 0.409882125726\n",
      "2321447 2321447 0.305082931317 4280 4280 0.352781110411\n",
      "2326291 2326291 0.305291854047 1723 1723 0.301221981864\n",
      "2330571 2330571 0.305388614549 4712 4712 0.252548172281\n",
      "2332294 2332294 0.305395155346 2554 2554 0.33396464405\n",
      "2337006 2337006 0.305443235154 2504 2504 0.347314472697\n",
      "2339560 2339560 0.30547705255 4852 4852 0.354298839543\n",
      "2342064 2342064 0.305551705671 2928 2928 0.299647779007\n",
      "2346916 2346916 0.305665755198 4789 4789 0.321231065198\n",
      "2349844 2349844 0.305699862021 4917 4917 0.255495139649\n",
      "2354633 2354633 0.305732868193 2690 2690 0.33403151227\n",
      "2359550 2359550 0.305619847655 4332 4332 0.335740626401\n",
      "2362240 2362240 0.305695379245 5585 5585 0.362186821634\n",
      "2366572 2366572 0.305792852681 5660 5660 0.391216939683\n",
      "2372157 2372157 0.305928688247 5374 5374 0.386817457109\n",
      "2377817 2377817 0.306141704899 6209 6209 0.39907917323\n",
      "2383191 2383191 0.306377175954 6312 6312 0.394784140423\n",
      "2389400 2389400 0.306667862558 5384 5384 0.378947594194\n",
      "2395712 2395712 0.306959187739 5335 5335 0.305170147624\n",
      "2401096 2401096 0.307120303625 5713 5713 0.270269482859\n",
      "2406431 2406431 0.307120248424 3992 3992 0.271334549373\n",
      "2412144 2412144 0.307131740186 4821 4821 0.227218036025\n",
      "2416136 2416136 0.307067007698 4989 4989 0.304178735048\n",
      "2420957 2420957 0.306936935214 4335 4335 0.295879082705\n",
      "2425946 2425946 0.307001666151 2093 2093 0.253647689942\n",
      "2430281 2430281 0.306974411952 4686 4686 0.185778444947\n",
      "2432374 2432374 0.306950209733 4198 4198 0.237953241913\n",
      "2437060 2437060 0.306758069854 5169 5169 0.256170360276\n",
      "2441258 2441258 0.30660078799 5779 5779 0.340626914572\n",
      "2446427 2446427 0.306543094145 6309 6309 0.311840206346\n",
      "2452206 2452206 0.306622790676 5111 5111 0.244194057041\n",
      "2458515 2458515 0.306655604507 4143 4143 0.260526589635\n",
      "2463626 2463626 0.306589125031 4328 4328 0.286678796492\n",
      "2467769 2467769 0.306510795264 3184 3184 0.286652684634\n",
      "2472097 2472097 0.306499422565 1111 1111 0.229032930061\n",
      "2475281 2475281 0.306482124409 4649 4649 0.27929282249\n",
      "2476392 2476392 0.306460905569 4613 4613 0.331062788947\n",
      "2481041 2481041 0.306398247289 4705 4705 0.207704369103\n",
      "2485654 2485654 0.306462603248 3906 3906 0.27507166972\n",
      "2490359 2490359 0.306381249883 1786 1786 0.296614075623\n",
      "2494265 2494265 0.306365040645 4453 4453 0.235072616792\n",
      "2496051 2496051 0.306349836413 2663 2663 0.350252370188\n",
      "2500504 2500504 0.306341539918 3294 3294 0.280387863934\n",
      "2503167 2503167 0.306418239295 4577 4577 0.300510882269\n",
      "2506461 2506461 0.306377039979 3017 3017 0.336496011191\n",
      "2511038 2511038 0.306397781441 4870 4870 0.36703121278\n",
      "2514055 2514055 0.306471877849 4859 4859 0.237194341279\n",
      "2518925 2518925 0.306612331877 3548 3548 0.287430718364\n",
      "2523784 2523784 0.306498236041 4659 4659 0.351920488149\n",
      "2527332 2527332 0.306486295296 5646 5646 0.368699621713\n",
      "2531991 2531991 0.306588979058 5649 5649 0.395668823881\n",
      "2537637 2537637 0.306758327746 5449 5449 0.398942444614\n",
      "2543286 2543286 0.306951215689 6049 6049 0.379632833768\n",
      "2548735 2548735 0.30723231511 7379 7379 0.246453511009\n",
      "2554784 2554784 0.307434743353 6388 6388 0.434692897253\n",
      "2562163 2562163 0.307711074873 6046 6046 0.37828210271\n",
      "2568551 2568551 0.308117251258 5354 5354 0.350468980902\n",
      "2574597 2574597 0.308297607871 3972 3972 0.290558194568\n",
      "2579951 2579951 0.308465611488 4580 4580 0.231045714631\n",
      "2583923 2583923 0.308443563171 5378 5378 0.336511877831\n",
      "2588503 2588503 0.308303687823 5900 5900 0.309087640925\n",
      "2593881 2593881 0.308422820264 4122 4122 0.263794760295\n",
      "2599781 2599781 0.308443942803 5545 5545 0.29002548166\n",
      "2603903 2603903 0.308381451413 6273 6273 0.321694888505\n",
      "2609448 2609448 0.308352411115 4886 4886 0.191569245832\n"
     ]
    }
   ],
   "source": [
    "results3 = []\n",
    "#cols = ['Distance_from_hole']\n",
    "# cols = ['Distance_from_hole','Green_to_work_with']\n",
    "cols = ['Distance_from_hole','Green_to_work_with','not_seen',\n",
    "        'skill_estimate_percentile','observation_count_percentile']\n",
    "for train,test in zip(trains,tests):\n",
    "    train_mask = (data.Cat=='Fairway') & (data.tourn_num.isin(train))\n",
    "    test_mask = (data.Cat=='Fairway') & (data.tourn_num.isin(test))\n",
    "    X_train = data.loc[train_mask,cols].values\n",
    "    X_test = data.loc[test_mask,cols].values\n",
    "    y_train = data.loc[train_mask,'Strokes_from_starting_location'].values\n",
    "    y_test = data.loc[test_mask,'Strokes_from_starting_location'].values\n",
    "    rf.fit(X_train,y_train)\n",
    "    train_score = rf.score(X_train,y_train)\n",
    "    test_score = rf.score(X_test,y_test)\n",
    "    results3.append(test_score)\n",
    "    print X_train.shape[0],y_train.shape[0],train_score,\\\n",
    "          X_test.shape[0],y_test.shape[0],test_score"
   ]
  },
  {
   "cell_type": "code",
   "execution_count": 32,
   "metadata": {
    "collapsed": false
   },
   "outputs": [
    {
     "data": {
      "text/plain": [
       "(0.29825599242221584, 0.311757036829233)"
      ]
     },
     "execution_count": 32,
     "metadata": {},
     "output_type": "execute_result"
    }
   ],
   "source": [
    "mean, stderr = np.mean(results3), np.std(results3)/len(trains)**.5\n",
    "(mean - stderr, mean + stderr)"
   ]
  },
  {
   "cell_type": "code",
   "execution_count": 3,
   "metadata": {
    "collapsed": false
   },
   "outputs": [
    {
     "name": "stderr",
     "output_type": "stream",
     "text": [
      "/Users/adamlevin/anaconda/lib/python2.7/site-packages/IPython/core/interactiveshell.py:2717: DtypeWarning: Columns (13,39) have mixed types. Specify dtype option on import or set low_memory=False.\n",
      "  interactivity=interactivity, compiler=compiler, result=result)\n"
     ]
    }
   ],
   "source": [
    "data = pd.read_csv('../data/2017.csv.gz')"
   ]
  },
  {
   "cell_type": "code",
   "execution_count": 4,
   "metadata": {
    "collapsed": false
   },
   "outputs": [
    {
     "data": {
      "text/html": [
       "<div>\n",
       "<style>\n",
       "    .dataframe thead tr:only-child th {\n",
       "        text-align: right;\n",
       "    }\n",
       "\n",
       "    .dataframe thead th {\n",
       "        text-align: left;\n",
       "    }\n",
       "\n",
       "    .dataframe tbody tr th {\n",
       "        vertical-align: top;\n",
       "    }\n",
       "</style>\n",
       "<table border=\"1\" class=\"dataframe\">\n",
       "  <thead>\n",
       "    <tr style=\"text-align: right;\">\n",
       "      <th></th>\n",
       "      <th>Tour_Code</th>\n",
       "      <th>Tour_Description</th>\n",
       "      <th>Year</th>\n",
       "      <th>Tourn.#</th>\n",
       "      <th>Player_#</th>\n",
       "      <th>Course_#</th>\n",
       "      <th>Permanent_Tournament_#</th>\n",
       "      <th>Player_First_Name</th>\n",
       "      <th>Player_Last_Name</th>\n",
       "      <th>Round</th>\n",
       "      <th>...</th>\n",
       "      <th>Stroke</th>\n",
       "      <th>Strokes_from_starting_location</th>\n",
       "      <th>from_the_tee_box_mask</th>\n",
       "      <th>Distance_from_hole</th>\n",
       "      <th>Cat</th>\n",
       "      <th>Green_to_work_with</th>\n",
       "      <th>Difficulty_Start</th>\n",
       "      <th>Difficulty_End</th>\n",
       "      <th>Strokes_Gained</th>\n",
       "      <th>tourn_num</th>\n",
       "    </tr>\n",
       "  </thead>\n",
       "  <tbody>\n",
       "    <tr>\n",
       "      <th>0</th>\n",
       "      <td>R</td>\n",
       "      <td>PGA TOUR</td>\n",
       "      <td>2017</td>\n",
       "      <td>130</td>\n",
       "      <td>1132</td>\n",
       "      <td>704</td>\n",
       "      <td>2</td>\n",
       "      <td>Mark</td>\n",
       "      <td>Brooks</td>\n",
       "      <td>1</td>\n",
       "      <td>...</td>\n",
       "      <td>1</td>\n",
       "      <td>4</td>\n",
       "      <td>True</td>\n",
       "      <td>1306.358001</td>\n",
       "      <td>Tee Box</td>\n",
       "      <td>44.990627</td>\n",
       "      <td>4.076923</td>\n",
       "      <td>3.075868</td>\n",
       "      <td>0.001055</td>\n",
       "      <td>549</td>\n",
       "    </tr>\n",
       "    <tr>\n",
       "      <th>1</th>\n",
       "      <td>R</td>\n",
       "      <td>PGA TOUR</td>\n",
       "      <td>2017</td>\n",
       "      <td>130</td>\n",
       "      <td>1132</td>\n",
       "      <td>704</td>\n",
       "      <td>2</td>\n",
       "      <td>Mark</td>\n",
       "      <td>Brooks</td>\n",
       "      <td>1</td>\n",
       "      <td>...</td>\n",
       "      <td>2</td>\n",
       "      <td>3</td>\n",
       "      <td>False</td>\n",
       "      <td>595.514333</td>\n",
       "      <td>Fairway</td>\n",
       "      <td>44.990627</td>\n",
       "      <td>3.075868</td>\n",
       "      <td>2.001032</td>\n",
       "      <td>0.074837</td>\n",
       "      <td>549</td>\n",
       "    </tr>\n",
       "    <tr>\n",
       "      <th>2</th>\n",
       "      <td>R</td>\n",
       "      <td>PGA TOUR</td>\n",
       "      <td>2017</td>\n",
       "      <td>130</td>\n",
       "      <td>1132</td>\n",
       "      <td>704</td>\n",
       "      <td>2</td>\n",
       "      <td>Mark</td>\n",
       "      <td>Brooks</td>\n",
       "      <td>1</td>\n",
       "      <td>...</td>\n",
       "      <td>3</td>\n",
       "      <td>2</td>\n",
       "      <td>False</td>\n",
       "      <td>16.143551</td>\n",
       "      <td>Fairway</td>\n",
       "      <td>5.419751</td>\n",
       "      <td>2.001032</td>\n",
       "      <td>1.000914</td>\n",
       "      <td>0.000117</td>\n",
       "      <td>549</td>\n",
       "    </tr>\n",
       "    <tr>\n",
       "      <th>3</th>\n",
       "      <td>R</td>\n",
       "      <td>PGA TOUR</td>\n",
       "      <td>2017</td>\n",
       "      <td>130</td>\n",
       "      <td>1132</td>\n",
       "      <td>704</td>\n",
       "      <td>2</td>\n",
       "      <td>Mark</td>\n",
       "      <td>Brooks</td>\n",
       "      <td>1</td>\n",
       "      <td>...</td>\n",
       "      <td>4</td>\n",
       "      <td>1</td>\n",
       "      <td>False</td>\n",
       "      <td>1.352331</td>\n",
       "      <td>Green</td>\n",
       "      <td>NaN</td>\n",
       "      <td>1.000914</td>\n",
       "      <td>0.000000</td>\n",
       "      <td>0.000914</td>\n",
       "      <td>549</td>\n",
       "    </tr>\n",
       "    <tr>\n",
       "      <th>4</th>\n",
       "      <td>R</td>\n",
       "      <td>PGA TOUR</td>\n",
       "      <td>2017</td>\n",
       "      <td>130</td>\n",
       "      <td>1132</td>\n",
       "      <td>704</td>\n",
       "      <td>2</td>\n",
       "      <td>Mark</td>\n",
       "      <td>Brooks</td>\n",
       "      <td>1</td>\n",
       "      <td>...</td>\n",
       "      <td>1</td>\n",
       "      <td>4</td>\n",
       "      <td>True</td>\n",
       "      <td>1118.240701</td>\n",
       "      <td>Tee Box</td>\n",
       "      <td>45.122614</td>\n",
       "      <td>3.750000</td>\n",
       "      <td>3.040160</td>\n",
       "      <td>-0.290160</td>\n",
       "      <td>549</td>\n",
       "    </tr>\n",
       "  </tbody>\n",
       "</table>\n",
       "<p>5 rows × 60 columns</p>\n",
       "</div>"
      ],
      "text/plain": [
       "  Tour_Code Tour_Description  Year  Tourn.#  Player_#  Course_#  \\\n",
       "0         R         PGA TOUR  2017      130      1132       704   \n",
       "1         R         PGA TOUR  2017      130      1132       704   \n",
       "2         R         PGA TOUR  2017      130      1132       704   \n",
       "3         R         PGA TOUR  2017      130      1132       704   \n",
       "4         R         PGA TOUR  2017      130      1132       704   \n",
       "\n",
       "   Permanent_Tournament_# Player_First_Name Player_Last_Name  Round    ...     \\\n",
       "0                       2              Mark           Brooks      1    ...      \n",
       "1                       2              Mark           Brooks      1    ...      \n",
       "2                       2              Mark           Brooks      1    ...      \n",
       "3                       2              Mark           Brooks      1    ...      \n",
       "4                       2              Mark           Brooks      1    ...      \n",
       "\n",
       "  Stroke Strokes_from_starting_location  from_the_tee_box_mask  \\\n",
       "0      1                              4                   True   \n",
       "1      2                              3                  False   \n",
       "2      3                              2                  False   \n",
       "3      4                              1                  False   \n",
       "4      1                              4                   True   \n",
       "\n",
       "  Distance_from_hole      Cat  Green_to_work_with  Difficulty_Start  \\\n",
       "0        1306.358001  Tee Box           44.990627          4.076923   \n",
       "1         595.514333  Fairway           44.990627          3.075868   \n",
       "2          16.143551  Fairway            5.419751          2.001032   \n",
       "3           1.352331    Green                 NaN          1.000914   \n",
       "4        1118.240701  Tee Box           45.122614          3.750000   \n",
       "\n",
       "  Difficulty_End  Strokes_Gained tourn_num  \n",
       "0       3.075868        0.001055       549  \n",
       "1       2.001032        0.074837       549  \n",
       "2       1.000914        0.000117       549  \n",
       "3       0.000000        0.000914       549  \n",
       "4       3.040160       -0.290160       549  \n",
       "\n",
       "[5 rows x 60 columns]"
      ]
     },
     "execution_count": 4,
     "metadata": {},
     "output_type": "execute_result"
    }
   ],
   "source": [
    "data.head()"
   ]
  },
  {
   "cell_type": "code",
   "execution_count": 6,
   "metadata": {
    "collapsed": false
   },
   "outputs": [
    {
     "data": {
      "image/png": "[encoded data removed]",
      "text/plain": [
       "<matplotlib.figure.Figure at 0x1188bcf10>"
      ]
     },
     "metadata": {},
     "output_type": "display_data"
    }
   ],
   "source": [
    "data.Strokes_Gained.hist(bins=100,figsize=(15,9));"
   ]
  },
  {
   "cell_type": "code",
   "execution_count": null,
   "metadata": {
    "collapsed": true
   },
   "outputs": [],
   "source": []
  }
 ],
 "metadata": {
  "kernelspec": {
   "display_name": "Python 2",
   "language": "python",
   "name": "python2"
  },
  "language_info": {
   "codemirror_mode": {
    "name": "ipython",
    "version": 2
   },
   "file_extension": ".py",
   "mimetype": "text/x-python",
   "name": "python",
   "nbconvert_exporter": "python",
   "pygments_lexer": "ipython2",
   "version": "2.7.13"
  }
 },
 "nbformat": 4,
 "nbformat_minor": 2
}
