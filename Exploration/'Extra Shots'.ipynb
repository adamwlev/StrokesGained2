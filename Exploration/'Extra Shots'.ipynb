{
 "cells": [
  {
   "cell_type": "code",
   "execution_count": 1,
   "metadata": {
    "collapsed": true
   },
   "outputs": [],
   "source": [
    "import pandas as pd\n",
    "import numpy as np\n",
    "import warnings\n",
    "from collections import Counter\n",
    "import matplotlib.pyplot as plt\n",
    "%matplotlib inline"
   ]
  },
  {
   "cell_type": "code",
   "execution_count": 12,
   "metadata": {
    "collapsed": true
   },
   "outputs": [],
   "source": [
    "cols = ['Year','Tourn.#','Course_#','Round','Hole',\n",
    "        'Player_#','Shot','Hole_Score','X_Coordinate','Distance',\n",
    "        'Y_Coordinate','Z_Coordinate','#_of_Strokes','Permanent_Tournament_#',\n",
    "        'Shot_Type(S/P/D)','From_Location(Scorer)','To_Location(Scorer)']"
   ]
  },
  {
   "cell_type": "code",
   "execution_count": 25,
   "metadata": {
    "collapsed": false
   },
   "outputs": [],
   "source": [
    "to_concat = []\n",
    "for yr in range(2003,2014):\n",
    "    cols_ = cols + ['To_Location(Laser)'] if yr==2003 else cols\n",
    "    data = pd.read_csv('./../data/rawdata/%d.txt' % yr, sep=';',\n",
    "                       usecols=lambda x: x.strip().replace(' ','_') in cols_)\n",
    "    data.columns = [col.strip().replace(' ','_') for col in data.columns]\n",
    "    if yr==2003:\n",
    "        data = data.rename(columns={'To_Location(Laser)':'To_Location(Scorer)'})\n",
    "    to_concat.append(data)"
   ]
  },
  {
   "cell_type": "code",
   "execution_count": 26,
   "metadata": {
    "collapsed": false
   },
   "outputs": [],
   "source": [
    "data = pd.concat(to_concat)"
   ]
  },
  {
   "cell_type": "code",
   "execution_count": 45,
   "metadata": {
    "collapsed": true
   },
   "outputs": [],
   "source": [
    "data['X_Coordinate'] = [str(i).replace(' ','') for i in data['X_Coordinate']]\n",
    "data['Y_Coordinate'] = [str(i).replace(' ','') for i in data['Y_Coordinate']]\n",
    "data['Z_Coordinate'] = [str(i).replace(' ','') for i in data['Z_Coordinate']]\n",
    "data['X_Coordinate'] = [str(i).replace(',','') for i in data['X_Coordinate']] \n",
    "data['Y_Coordinate'] = [str(i).replace(',','') for i in data['Y_Coordinate']]\n",
    "data['Z_Coordinate'] = [str(i).replace(',','') for i in data['Z_Coordinate']]\n",
    "data['X_Coordinate'] = ['-' + str(i)[:-1] if str(i)[-1]=='-' else i for i in data['X_Coordinate']] \n",
    "data['Y_Coordinate'] = ['-' + str(i)[:-1] if str(i)[-1]=='-' else i for i in data['Y_Coordinate']]\n",
    "data['Z_Coordinate'] = ['-' + str(i)[:-1] if str(i)[-1]=='-' else i for i in data['Z_Coordinate']]\n",
    "data['X_Coordinate'] = pd.to_numeric(data['X_Coordinate'])\n",
    "data['Y_Coordinate'] = pd.to_numeric(data['Y_Coordinate'])\n",
    "data['Z_Coordinate'] = pd.to_numeric(data['Z_Coordinate'])"
   ]
  },
  {
   "cell_type": "code",
   "execution_count": 27,
   "metadata": {
    "collapsed": false
   },
   "outputs": [
    {
     "data": {
      "text/plain": [
       "Index([u'Year', u'Tourn.#', u'Player_#', u'Course_#',\n",
       "       u'Permanent_Tournament_#', u'Round', u'Hole', u'Hole_Score', u'Shot',\n",
       "       u'Shot_Type(S/P/D)', u'#_of_Strokes', u'From_Location(Scorer)',\n",
       "       u'To_Location(Scorer)', u'Distance', u'X_Coordinate', u'Y_Coordinate',\n",
       "       u'Z_Coordinate'],\n",
       "      dtype='object')"
      ]
     },
     "execution_count": 27,
     "metadata": {},
     "output_type": "execute_result"
    }
   ],
   "source": [
    "data.columns"
   ]
  },
  {
   "cell_type": "code",
   "execution_count": 28,
   "metadata": {
    "collapsed": false,
    "scrolled": true
   },
   "outputs": [
    {
     "data": {
      "text/plain": [
       "1    12960484\n",
       "0       84754\n",
       "2         223\n",
       "Name: #_of_Strokes, dtype: int64"
      ]
     },
     "execution_count": 28,
     "metadata": {},
     "output_type": "execute_result"
    }
   ],
   "source": [
    "data['#_of_Strokes'].value_counts()"
   ]
  },
  {
   "cell_type": "code",
   "execution_count": 29,
   "metadata": {
    "collapsed": false
   },
   "outputs": [
    {
     "data": {
      "text/plain": [
       "S     12888486\n",
       "D        80195\n",
       "P        71666\n",
       "Pr        4553\n",
       "U          559\n",
       "C            2\n",
       "Name: Shot_Type(S/P/D), dtype: int64"
      ]
     },
     "execution_count": 29,
     "metadata": {},
     "output_type": "execute_result"
    }
   ],
   "source": [
    "data['Shot_Type(S/P/D)'].value_counts()"
   ]
  },
  {
   "cell_type": "code",
   "execution_count": 30,
   "metadata": {
    "collapsed": false
   },
   "outputs": [
    {
     "data": {
      "text/plain": [
       "Green                 5314818\n",
       "Tee Box               3292419\n",
       "Fairway               2174238\n",
       "Primary Rough         1030020\n",
       "Intermediate Rough     320804\n",
       "Green Side Bunker      301029\n",
       "Fringe                 243870\n",
       "Unknown                147939\n",
       "Fairway Bunker         145811\n",
       "Native Area             49971\n",
       "Other                   18941\n",
       "NaN                      3824\n",
       "Water                     917\n",
       "Grass Bunker              860\n",
       "Name: From_Location(Scorer), dtype: int64"
      ]
     },
     "execution_count": 30,
     "metadata": {},
     "output_type": "execute_result"
    }
   ],
   "source": [
    "data['From_Location(Scorer)'].value_counts(dropna=False)"
   ]
  },
  {
   "cell_type": "code",
   "execution_count": 31,
   "metadata": {
    "collapsed": false
   },
   "outputs": [
    {
     "data": {
      "text/plain": [
       "Green                 5115936\n",
       "NaN                   3746209\n",
       "Fairway               2195607\n",
       "Primary Rough         1007397\n",
       "Intermediate Rough     293219\n",
       "Green Side Bunker      289344\n",
       "Fairway Bunker         135056\n",
       "Fringe                 110396\n",
       "Water                   46889\n",
       "Unknown                 40790\n",
       "Native Area             18653\n",
       "Tree Outline            14441\n",
       "Dirt Outline             8843\n",
       "Tee Box                  6833\n",
       "Waste Bunker             5377\n",
       "Other                    4713\n",
       "Cart Path                3416\n",
       "Grass Bunker              700\n",
       "Bush                      478\n",
       "Rock Outline              423\n",
       "Landscaping               204\n",
       "Wall                      190\n",
       "Water Drop                154\n",
       "Walk Strip                118\n",
       "Bridge                     53\n",
       "Path                       12\n",
       "Building                   10\n",
       "Name: To_Location(Scorer), dtype: int64"
      ]
     },
     "execution_count": 31,
     "metadata": {},
     "output_type": "execute_result"
    }
   ],
   "source": [
    "data['To_Location(Scorer)'].value_counts(dropna=False)"
   ]
  },
  {
   "cell_type": "code",
   "execution_count": 32,
   "metadata": {
    "collapsed": false
   },
   "outputs": [
    {
     "name": "stdout",
     "output_type": "stream",
     "text": [
      "13045461\n",
      "13045461\n"
     ]
    }
   ],
   "source": [
    "print data.shape[0]\n",
    "data = data[data['Permanent_Tournament_#']!=470]\n",
    "print data.shape[0]"
   ]
  },
  {
   "cell_type": "code",
   "execution_count": 33,
   "metadata": {
    "collapsed": false
   },
   "outputs": [
    {
     "data": {
      "text/plain": [
       "Shot_Type(S/P/D)  #_of_Strokes\n",
       "C                 1                      2\n",
       "D                 0                  80195\n",
       "P                 1                  71443\n",
       "                  2                    223\n",
       "Pr                0                   4553\n",
       "S                 1               12888480\n",
       "                  0                      6\n",
       "U                 1                    559\n",
       "Name: #_of_Strokes, dtype: int64"
      ]
     },
     "execution_count": 33,
     "metadata": {},
     "output_type": "execute_result"
    }
   ],
   "source": [
    "data.groupby('Shot_Type(S/P/D)')['#_of_Strokes'].value_counts()"
   ]
  },
  {
   "cell_type": "code",
   "execution_count": 10,
   "metadata": {
    "collapsed": false
   },
   "outputs": [
    {
     "data": {
      "text/html": [
       "<div>\n",
       "<style>\n",
       "    .dataframe thead tr:only-child th {\n",
       "        text-align: right;\n",
       "    }\n",
       "\n",
       "    .dataframe thead th {\n",
       "        text-align: left;\n",
       "    }\n",
       "\n",
       "    .dataframe tbody tr th {\n",
       "        vertical-align: top;\n",
       "    }\n",
       "</style>\n",
       "<table border=\"1\" class=\"dataframe\">\n",
       "  <thead>\n",
       "    <tr style=\"text-align: right;\">\n",
       "      <th></th>\n",
       "      <th>Shot</th>\n",
       "      <th>Z_Coordinate</th>\n",
       "      <th>Course_#</th>\n",
       "      <th>Distance</th>\n",
       "      <th>From_Location(Scorer)</th>\n",
       "      <th>Hole</th>\n",
       "      <th>Hole_Score</th>\n",
       "      <th>Permanent_Tournament_#</th>\n",
       "      <th>Player_#</th>\n",
       "      <th>Round</th>\n",
       "      <th>Shot_Type(S/P/D)</th>\n",
       "      <th>To_Location(Laser)</th>\n",
       "      <th>Tourn.#</th>\n",
       "      <th>X_Coordinate</th>\n",
       "      <th>Y_Coordinate</th>\n",
       "      <th>Year</th>\n",
       "      <th>#_of_Strokes</th>\n",
       "    </tr>\n",
       "  </thead>\n",
       "  <tbody>\n",
       "    <tr>\n",
       "      <th>445915</th>\n",
       "      <td>1</td>\n",
       "      <td>98.897</td>\n",
       "      <td>699</td>\n",
       "      <td>7796</td>\n",
       "      <td>Tee Box</td>\n",
       "      <td>13</td>\n",
       "      <td>3</td>\n",
       "      <td>20</td>\n",
       "      <td>1127</td>\n",
       "      <td>2</td>\n",
       "      <td>C</td>\n",
       "      <td>NaN</td>\n",
       "      <td>170</td>\n",
       "      <td>6,814.5580</td>\n",
       "      <td>7,974.0810</td>\n",
       "      <td>2004</td>\n",
       "      <td>1</td>\n",
       "    </tr>\n",
       "    <tr>\n",
       "      <th>1082920</th>\n",
       "      <td>2</td>\n",
       "      <td>462.369</td>\n",
       "      <td>625</td>\n",
       "      <td>216</td>\n",
       "      <td>Green</td>\n",
       "      <td>13</td>\n",
       "      <td>3</td>\n",
       "      <td>41</td>\n",
       "      <td>28486</td>\n",
       "      <td>1</td>\n",
       "      <td>C</td>\n",
       "      <td>NaN</td>\n",
       "      <td>410</td>\n",
       "      <td>8,137.4460</td>\n",
       "      <td>12,414.2960</td>\n",
       "      <td>2005</td>\n",
       "      <td>1</td>\n",
       "    </tr>\n",
       "  </tbody>\n",
       "</table>\n",
       "</div>"
      ],
      "text/plain": [
       "         Shot Z_Coordinate  Course_#  Distance From_Location(Scorer)  Hole  \\\n",
       "445915      1       98.897       699      7796               Tee Box    13   \n",
       "1082920     2      462.369       625       216                 Green    13   \n",
       "\n",
       "         Hole_Score  Permanent_Tournament_#  Player_#  Round Shot_Type(S/P/D)  \\\n",
       "445915            3                      20      1127      2                C   \n",
       "1082920           3                      41     28486      1                C   \n",
       "\n",
       "        To_Location(Laser)  Tourn.#  X_Coordinate  Y_Coordinate  Year  \\\n",
       "445915                 NaN      170    6,814.5580    7,974.0810  2004   \n",
       "1082920                NaN      410    8,137.4460   12,414.2960  2005   \n",
       "\n",
       "         #_of_Strokes  \n",
       "445915              1  \n",
       "1082920             1  "
      ]
     },
     "execution_count": 10,
     "metadata": {},
     "output_type": "execute_result"
    }
   ],
   "source": [
    "data.loc[data['Shot_Type(S/P/D)']=='C']"
   ]
  },
  {
   "cell_type": "code",
   "execution_count": null,
   "metadata": {
    "collapsed": true
   },
   "outputs": [],
   "source": []
  },
  {
   "cell_type": "code",
   "execution_count": 11,
   "metadata": {
    "collapsed": false
   },
   "outputs": [
    {
     "data": {
      "text/html": [
       "<div>\n",
       "<style>\n",
       "    .dataframe thead tr:only-child th {\n",
       "        text-align: right;\n",
       "    }\n",
       "\n",
       "    .dataframe thead th {\n",
       "        text-align: left;\n",
       "    }\n",
       "\n",
       "    .dataframe tbody tr th {\n",
       "        vertical-align: top;\n",
       "    }\n",
       "</style>\n",
       "<table border=\"1\" class=\"dataframe\">\n",
       "  <thead>\n",
       "    <tr style=\"text-align: right;\">\n",
       "      <th></th>\n",
       "      <th>Year</th>\n",
       "      <th>Tourn.#</th>\n",
       "      <th>Course_#</th>\n",
       "      <th>Round</th>\n",
       "      <th>Hole</th>\n",
       "      <th>Player_#</th>\n",
       "      <th>Shot</th>\n",
       "      <th>Hole_Score</th>\n",
       "      <th>X_Coordinate</th>\n",
       "      <th>Distance</th>\n",
       "      <th>Y_Coordinate</th>\n",
       "      <th>Z_Coordinate</th>\n",
       "      <th>#_of_Strokes</th>\n",
       "      <th>Permanent_Tournament_#</th>\n",
       "      <th>Shot_Type(S/P/D)</th>\n",
       "      <th>From_Location(Scorer)</th>\n",
       "      <th>To_Location(Laser)</th>\n",
       "    </tr>\n",
       "  </thead>\n",
       "  <tbody>\n",
       "    <tr>\n",
       "      <th>0</th>\n",
       "      <td>2003</td>\n",
       "      <td>10</td>\n",
       "      <td>656</td>\n",
       "      <td>1</td>\n",
       "      <td>1</td>\n",
       "      <td>1320</td>\n",
       "      <td>1</td>\n",
       "      <td>4</td>\n",
       "      <td>.0000</td>\n",
       "      <td>0</td>\n",
       "      <td>.0000</td>\n",
       "      <td>0</td>\n",
       "      <td>1</td>\n",
       "      <td>16</td>\n",
       "      <td>S</td>\n",
       "      <td>Tee Box</td>\n",
       "      <td>Fairway</td>\n",
       "    </tr>\n",
       "    <tr>\n",
       "      <th>1</th>\n",
       "      <td>2003</td>\n",
       "      <td>10</td>\n",
       "      <td>656</td>\n",
       "      <td>1</td>\n",
       "      <td>1</td>\n",
       "      <td>1320</td>\n",
       "      <td>2</td>\n",
       "      <td>4</td>\n",
       "      <td>.0000</td>\n",
       "      <td>0</td>\n",
       "      <td>.0000</td>\n",
       "      <td>0</td>\n",
       "      <td>1</td>\n",
       "      <td>16</td>\n",
       "      <td>S</td>\n",
       "      <td>Fairway</td>\n",
       "      <td>Green</td>\n",
       "    </tr>\n",
       "    <tr>\n",
       "      <th>2</th>\n",
       "      <td>2003</td>\n",
       "      <td>10</td>\n",
       "      <td>656</td>\n",
       "      <td>1</td>\n",
       "      <td>1</td>\n",
       "      <td>1320</td>\n",
       "      <td>3</td>\n",
       "      <td>4</td>\n",
       "      <td>.0000</td>\n",
       "      <td>0</td>\n",
       "      <td>.0000</td>\n",
       "      <td>0</td>\n",
       "      <td>1</td>\n",
       "      <td>16</td>\n",
       "      <td>S</td>\n",
       "      <td>Green</td>\n",
       "      <td>Green</td>\n",
       "    </tr>\n",
       "  </tbody>\n",
       "</table>\n",
       "</div>"
      ],
      "text/plain": [
       "   Year  Tourn.#  Course_#  Round  Hole  Player_#  Shot  Hole_Score  \\\n",
       "0  2003       10       656      1     1      1320     1           4   \n",
       "1  2003       10       656      1     1      1320     2           4   \n",
       "2  2003       10       656      1     1      1320     3           4   \n",
       "\n",
       "   X_Coordinate  Distance  Y_Coordinate Z_Coordinate  #_of_Strokes  \\\n",
       "0         .0000         0         .0000            0             1   \n",
       "1         .0000         0         .0000            0             1   \n",
       "2         .0000         0         .0000            0             1   \n",
       "\n",
       "   Permanent_Tournament_# Shot_Type(S/P/D) From_Location(Scorer)  \\\n",
       "0                      16                S               Tee Box   \n",
       "1                      16                S               Fairway   \n",
       "2                      16                S                 Green   \n",
       "\n",
       "  To_Location(Laser)  \n",
       "0            Fairway  \n",
       "1              Green  \n",
       "2              Green  "
      ]
     },
     "execution_count": 11,
     "metadata": {},
     "output_type": "execute_result"
    }
   ],
   "source": [
    "data[cols].head(3)"
   ]
  },
  {
   "cell_type": "code",
   "execution_count": 75,
   "metadata": {
    "collapsed": false
   },
   "outputs": [],
   "source": [
    "id_cols = ['Permanent_Tournament_#','Year','Player_#','Round','Hole']\n",
    "more_shots_than_score_holes = set(tuple(tup) for tup in data[(data.Shot>data.Hole_Score)][id_cols].values.tolist())\n",
    "provisional_holes = set(tuple(tup) for tup in data.loc[data['Shot_Type(S/P/D)']=='Pr',id_cols].values.tolist())\n",
    "unplayed_provisional_holes = set(tuple(tup) for tup in data.loc[data['Shot_Type(S/P/D)']=='U',id_cols].values.tolist())\n",
    "penalty_holes = set(tuple(tup) for tup in data.loc[data['Shot_Type(S/P/D)']=='P',id_cols].values.tolist())\n",
    "drop_holes = set(tuple(tup) for tup in data.loc[data['Shot_Type(S/P/D)']=='D',id_cols].values.tolist())\n",
    "sets = [more_shots_than_score_holes,provisional_holes,unplayed_provisional_holes,\n",
    "        penalty_holes,drop_holes]"
   ]
  },
  {
   "cell_type": "code",
   "execution_count": 76,
   "metadata": {
    "collapsed": true
   },
   "outputs": [],
   "source": [
    "mat = np.zeros((5,5))\n",
    "for u,s in enumerate(sets):\n",
    "    for u1,s1 in enumerate(sets):\n",
    "        mat[u,u1] = float(len(s.intersection(s1)))/len(s.union(s1))"
   ]
  },
  {
   "cell_type": "code",
   "execution_count": 77,
   "metadata": {
    "collapsed": false,
    "scrolled": true
   },
   "outputs": [
    {
     "data": {
      "image/png": "[encoded data removed]",
      "text/plain": [
       "<matplotlib.figure.Figure at 0x1792a1190>"
      ]
     },
     "metadata": {},
     "output_type": "display_data"
    }
   ],
   "source": [
    "plt.imshow(mat);\n",
    "plt.colorbar();"
   ]
  },
  {
   "cell_type": "code",
   "execution_count": 78,
   "metadata": {
    "collapsed": true
   },
   "outputs": [],
   "source": [
    "def jacard(s1,s2):\n",
    "    return float(len(s1.intersection(s2)))/len(s1.union(s2))"
   ]
  },
  {
   "cell_type": "code",
   "execution_count": 79,
   "metadata": {
    "collapsed": false
   },
   "outputs": [
    {
     "data": {
      "text/plain": [
       "0.06634662727720335"
      ]
     },
     "execution_count": 79,
     "metadata": {},
     "output_type": "execute_result"
    }
   ],
   "source": [
    "jacard(penalty_holes.difference(drop_holes),unplayed_provisional_holes)"
   ]
  },
  {
   "cell_type": "code",
   "execution_count": 81,
   "metadata": {
    "collapsed": false
   },
   "outputs": [
    {
     "data": {
      "text/plain": [
       "0"
      ]
     },
     "execution_count": 81,
     "metadata": {},
     "output_type": "execute_result"
    }
   ],
   "source": [
    "len(unplayed_provisional_holes.difference(penalty_holes))"
   ]
  },
  {
   "cell_type": "code",
   "execution_count": 80,
   "metadata": {
    "collapsed": false
   },
   "outputs": [
    {
     "data": {
      "text/plain": [
       "{(37, 2006, 29533, 1, 8), (56, 2005, 12652, 3, 9)}"
      ]
     },
     "execution_count": 80,
     "metadata": {},
     "output_type": "execute_result"
    }
   ],
   "source": [
    "provisional_holes.difference(more_shots_than_score_holes)"
   ]
  },
  {
   "cell_type": "code",
   "execution_count": 92,
   "metadata": {
    "collapsed": true
   },
   "outputs": [],
   "source": [
    "holes_with_unplayed_provisionals = [tuple(tup) in unplayed_provisional_holes for tup in data[id_cols].values]\n",
    "holes_with_provisionals = [tuple(tup) in provisional_holes for tup in data[id_cols].values]"
   ]
  },
  {
   "cell_type": "code",
   "execution_count": 93,
   "metadata": {
    "collapsed": false
   },
   "outputs": [
    {
     "data": {
      "text/plain": [
       "(0.00027135875075629754, 0.0021158317057557415)"
      ]
     },
     "execution_count": 93,
     "metadata": {},
     "output_type": "execute_result"
    }
   ],
   "source": [
    "np.mean(holes_with_unplayed_provisionals),np.mean(holes_with_provisionals)"
   ]
  },
  {
   "cell_type": "code",
   "execution_count": 182,
   "metadata": {
    "collapsed": false
   },
   "outputs": [],
   "source": [
    "res = []\n",
    "for tup,df in data.iloc[holes_with_unplayed_provisionals].groupby(id_cols):\n",
    "    inds = np.where(df['Shot_Type(S/P/D)'].values=='U')[0]\n",
    "    for ind in inds:\n",
    "        res.append(zip(df['Shot_Type(S/P/D)'].values[ind-2 if ind-2>0 else 0:ind+4],\n",
    "                       df['#_of_Strokes'].values[ind-2 if ind-2>0 else 0:ind+4]))"
   ]
  },
  {
   "cell_type": "code",
   "execution_count": 183,
   "metadata": {
    "collapsed": false
   },
   "outputs": [],
   "source": [
    "c = Counter([str(r) for r in res])"
   ]
  },
  {
   "cell_type": "code",
   "execution_count": 184,
   "metadata": {
    "collapsed": false
   },
   "outputs": [
    {
     "data": {
      "text/plain": [
       "[(\"[('S', 1), ('P', 1), ('U', 1), ('S', 1), ('S', 1), ('S', 1)]\", 419),\n",
       " (\"[('S', 1), ('P', 1), ('U', 1), ('S', 1), ('S', 1)]\", 106),\n",
       " (\"[('S', 1), ('P', 1), ('U', 1), ('S', 1)]\", 9),\n",
       " (\"[('S', 1), ('P', 1), ('U', 1), ('P', 1), ('S', 1), ('S', 1)]\", 6),\n",
       " (\"[('S', 1), ('P', 1), ('U', 1), ('P', 1), ('D', 0), ('S', 1)]\", 5),\n",
       " (\"[('S', 1), ('P', 1), ('U', 1), ('S', 1), ('P', 1), ('D', 0)]\", 4),\n",
       " (\"[('S', 1), ('P', 1), ('U', 1), ('S', 1), ('D', 0), ('S', 1)]\", 4)]"
      ]
     },
     "execution_count": 184,
     "metadata": {},
     "output_type": "execute_result"
    }
   ],
   "source": [
    "c.most_common(7)"
   ]
  },
  {
   "cell_type": "code",
   "execution_count": 179,
   "metadata": {
    "collapsed": false
   },
   "outputs": [],
   "source": [
    "res = []\n",
    "for tup,df in data.iloc[holes_with_provisionals].groupby(id_cols):\n",
    "    inds = np.where(df['Shot_Type(S/P/D)'].values=='Pr')[0]\n",
    "    for ind in inds:\n",
    "        tups = zip(df['Shot_Type(S/P/D)'].values[ind-2 if ind-2>0 else 0:ind+4],\n",
    "                       df['#_of_Strokes'].values[ind-2 if ind-2>0 else 0:ind+4])\n",
    "        res.append(tups)"
   ]
  },
  {
   "cell_type": "code",
   "execution_count": 180,
   "metadata": {
    "collapsed": false
   },
   "outputs": [],
   "source": [
    "c = Counter([str(r) for r in res])"
   ]
  },
  {
   "cell_type": "code",
   "execution_count": 181,
   "metadata": {
    "collapsed": false
   },
   "outputs": [
    {
     "data": {
      "text/plain": [
       "[(\"[('S', 1), ('Pr', 0), ('S', 1), ('S', 1), ('S', 1)]\", 3470),\n",
       " (\"[('S', 1), ('Pr', 0), ('P', 1), ('D', 0), ('S', 1)]\", 411),\n",
       " (\"[('S', 1), ('S', 1), ('Pr', 0), ('S', 1), ('S', 1), ('S', 1)]\", 223),\n",
       " (\"[('S', 1), ('Pr', 0), ('S', 1), ('S', 1)]\", 143),\n",
       " (\"[('S', 1), ('Pr', 0), ('D', 0), ('S', 1), ('S', 1)]\", 63),\n",
       " (\"[('S', 1), ('S', 1), ('Pr', 0), ('S', 1), ('S', 1)]\", 46),\n",
       " (\"[('S', 1), ('Pr', 0), ('P', 1), ('S', 1), ('S', 1)]\", 40)]"
      ]
     },
     "execution_count": 181,
     "metadata": {},
     "output_type": "execute_result"
    }
   ],
   "source": [
    "c.most_common(7)"
   ]
  },
  {
   "cell_type": "code",
   "execution_count": 185,
   "metadata": {
    "collapsed": true
   },
   "outputs": [],
   "source": [
    "holes_with_penalties = [tuple(tup) in penalty_holes for tup in data[id_cols].values]"
   ]
  },
  {
   "cell_type": "code",
   "execution_count": 206,
   "metadata": {
    "collapsed": true
   },
   "outputs": [],
   "source": [
    "res = []\n",
    "for tup,df in data.iloc[holes_with_penalties].groupby(id_cols):\n",
    "    inds = np.where(df['Shot_Type(S/P/D)'].values=='P')[0]\n",
    "    for ind in inds:\n",
    "        tups = zip(df['Shot_Type(S/P/D)'].values[ind-2 if ind-2>0 else 0:ind+4],\n",
    "                   df['#_of_Strokes'].values[ind-2 if ind-2>0 else 0:ind+4],\n",
    "                   df['From_Location(Scorer)'].values[ind-2 if ind-2>0 else 0:ind+4])\n",
    "        res.append(tups)"
   ]
  },
  {
   "cell_type": "code",
   "execution_count": 207,
   "metadata": {
    "collapsed": true
   },
   "outputs": [],
   "source": [
    "c = Counter([str(r) for r in res])"
   ]
  },
  {
   "cell_type": "code",
   "execution_count": 193,
   "metadata": {
    "collapsed": false
   },
   "outputs": [
    {
     "data": {
      "text/plain": [
       "2"
      ]
     },
     "execution_count": 193,
     "metadata": {},
     "output_type": "execute_result"
    }
   ],
   "source": [
    "(data.loc[data['Shot_Type(S/P/D)']=='P','X_Coordinate']!=0).sum()"
   ]
  },
  {
   "cell_type": "code",
   "execution_count": 202,
   "metadata": {
    "collapsed": false
   },
   "outputs": [
    {
     "data": {
      "text/plain": [
       "0.075154311366045265"
      ]
     },
     "execution_count": 202,
     "metadata": {},
     "output_type": "execute_result"
    }
   ],
   "source": [
    "(data.loc[data['Shot_Type(S/P/D)']=='D','X_Coordinate']==0).mean()"
   ]
  },
  {
   "cell_type": "code",
   "execution_count": 210,
   "metadata": {
    "collapsed": false,
    "scrolled": false
   },
   "outputs": [
    {
     "data": {
      "text/plain": [
       "[(\"[('S', 1, 'Tee Box'), ('P', 1, 'Unknown'), ('D', 0, 'Unknown'), ('S', 1, 'Primary Rough'), ('S', 1, 'Green')]\",\n",
       "  6873),\n",
       " (\"[('S', 1, 'Tee Box'), ('S', 1, 'Fairway'), ('P', 1, 'Unknown'), ('D', 0, 'Unknown'), ('S', 1, 'Fairway'), ('S', 1, 'Green')]\",\n",
       "  4681),\n",
       " (\"[('S', 1, 'Tee Box'), ('P', 1, 'Unknown'), ('D', 0, 'Unknown'), ('S', 1, 'Primary Rough'), ('S', 1, 'Fairway')]\",\n",
       "  4433),\n",
       " (\"[('S', 1, 'Tee Box'), ('S', 1, 'Fairway'), ('P', 1, 'Unknown'), ('D', 0, 'Unknown'), ('S', 1, 'Primary Rough'), ('S', 1, 'Green')]\",\n",
       "  3807),\n",
       " (\"[('S', 1, 'Tee Box'), ('P', 1, 'Unknown'), ('D', 0, 'Unknown'), ('S', 1, 'Fairway'), ('S', 1, 'Green')]\",\n",
       "  3371),\n",
       " (\"[('S', 1, 'Tee Box'), ('P', 1, 'Unknown'), ('D', 0, 'Unknown'), ('S', 1, 'Other'), ('S', 1, 'Green')]\",\n",
       "  2875),\n",
       " (\"[('S', 1, 'Tee Box'), ('P', 1, 'Unknown'), ('D', 0, 'Unknown'), ('S', 1, 'Primary Rough'), ('S', 1, 'Primary Rough')]\",\n",
       "  2641),\n",
       " (\"[('S', 1, 'Tee Box'), ('P', 1, 'Unknown'), ('D', 0, 'Unknown'), ('S', 1, 'Intermediate Rough'), ('S', 1, 'Green')]\",\n",
       "  2127),\n",
       " (\"[('S', 1, 'Tee Box'), ('S', 1, 'Primary Rough'), ('P', 1, 'Unknown'), ('D', 0, 'Unknown'), ('S', 1, 'Primary Rough'), ('S', 1, 'Green')]\",\n",
       "  1760),\n",
       " (\"[('S', 1, 'Tee Box'), ('S', 1, 'Primary Rough'), ('P', 1, 'Unknown'), ('D', 0, 'Unknown'), ('S', 1, 'Fairway'), ('S', 1, 'Green')]\",\n",
       "  1652),\n",
       " (\"[('S', 1, 'Tee Box'), ('S', 1, 'Fairway'), ('P', 1, 'Unknown'), ('D', 0, 'Unknown'), ('S', 1, 'Intermediate Rough'), ('S', 1, 'Green')]\",\n",
       "  1606),\n",
       " (\"[('S', 1, 'Tee Box'), ('P', 1, 'Unknown'), ('D', 0, 'Unknown'), ('S', 1, 'Primary Rough'), ('S', 1, 'Green Side Bunker')]\",\n",
       "  1341),\n",
       " (\"[('S', 1, 'Tee Box'), ('P', 1, 'Unknown'), ('S', 1, 'Tee Box'), ('S', 1, 'Fairway'), ('S', 1, 'Green')]\",\n",
       "  956),\n",
       " (\"[('S', 1, 'Tee Box'), ('P', 1, nan), ('S', 1, 'Tee Box'), ('S', 1, 'Fairway'), ('S', 1, 'Green')]\",\n",
       "  830),\n",
       " (\"[('S', 1, 'Tee Box'), ('P', 1, 'Unknown'), ('D', 0, 'Unknown'), ('S', 1, 'Fairway'), ('S', 1, 'Fairway')]\",\n",
       "  759),\n",
       " (\"[('S', 1, 'Tee Box'), ('P', 1, 'Unknown'), ('D', 0, 'Unknown'), ('S', 1, 'Primary Rough'), ('S', 1, 'Intermediate Rough')]\",\n",
       "  737),\n",
       " (\"[('S', 1, 'Tee Box'), ('P', 1, 'Unknown'), ('D', 0, 'Unknown'), ('S', 1, 'Primary Rough'), ('S', 1, 'Fringe')]\",\n",
       "  662),\n",
       " (\"[('S', 1, 'Tee Box'), ('P', 1, 'Unknown'), ('D', 0, 'Unknown'), ('S', 1, 'Intermediate Rough'), ('S', 1, 'Fairway')]\",\n",
       "  652),\n",
       " (\"[('S', 1, 'Tee Box'), ('P', 1, 'Unknown'), ('D', 0, 'Unknown'), ('S', 1, 'Other'), ('S', 1, 'Fairway')]\",\n",
       "  614),\n",
       " (\"[('S', 1, 'Tee Box'), ('P', 1, 'Unknown'), ('D', 0, 'Unknown'), ('S', 1, 'Native Area'), ('S', 1, 'Fairway')]\",\n",
       "  596),\n",
       " (\"[('S', 1, 'Tee Box'), ('P', 1, 'Unknown'), ('D', 0, 'Unknown'), ('S', 1, 'Primary Rough'), ('P', 1, 'Unknown')]\",\n",
       "  591),\n",
       " (\"[('S', 1, 'Tee Box'), ('S', 1, 'Intermediate Rough'), ('P', 1, 'Unknown'), ('D', 0, 'Unknown'), ('S', 1, 'Fairway'), ('S', 1, 'Green')]\",\n",
       "  568),\n",
       " (\"[('S', 1, 'Tee Box'), ('S', 1, 'Fairway Bunker'), ('P', 1, 'Unknown'), ('D', 0, 'Unknown'), ('S', 1, 'Primary Rough'), ('S', 1, 'Green')]\",\n",
       "  564),\n",
       " (\"[('S', 1, 'Tee Box'), ('S', 1, 'Fairway Bunker'), ('P', 1, 'Unknown'), ('D', 0, 'Unknown'), ('S', 1, 'Fairway'), ('S', 1, 'Green')]\",\n",
       "  550),\n",
       " (\"[('S', 1, 'Tee Box'), ('S', 1, 'Primary Rough'), ('P', 1, 'Unknown'), ('D', 0, 'Unknown'), ('S', 1, 'Intermediate Rough'), ('S', 1, 'Green')]\",\n",
       "  540),\n",
       " (\"[('S', 1, 'Tee Box'), ('P', 1, 'Unknown'), ('D', 0, 'Unknown'), ('S', 1, 'Fairway'), ('S', 1, 'Primary Rough')]\",\n",
       "  532),\n",
       " (\"[('S', 1, 'Tee Box'), ('S', 1, 'Intermediate Rough'), ('P', 1, 'Unknown'), ('D', 0, 'Unknown'), ('S', 1, 'Primary Rough'), ('S', 1, 'Green')]\",\n",
       "  388),\n",
       " (\"[('S', 1, 'Tee Box'), ('P', 1, 'Unknown'), ('D', 0, 'Unknown'), ('S', 1, 'Native Area'), ('S', 1, 'Green')]\",\n",
       "  384),\n",
       " (\"[('S', 1, 'Tee Box'), ('P', 1, 'Unknown'), ('D', 0, 'Unknown'), ('S', 1, 'Other'), ('S', 1, 'Primary Rough')]\",\n",
       "  367),\n",
       " (\"[('S', 1, 'Tee Box'), ('S', 1, 'Fairway'), ('P', 1, 'Unknown'), ('D', 0, 'Unknown'), ('S', 1, 'Fairway'), ('S', 1, 'Primary Rough')]\",\n",
       "  358),\n",
       " (\"[('D', 0, 'Unknown'), ('S', 1, 'Primary Rough'), ('P', 1, 'Unknown'), ('D', 0, 'Unknown'), ('S', 1, 'Primary Rough'), ('S', 1, 'Green')]\",\n",
       "  348),\n",
       " (\"[('S', 1, 'Tee Box'), ('S', 1, 'Fairway'), ('P', 1, 'Unknown'), ('D', 0, 'Unknown'), ('S', 1, 'Fairway'), ('S', 1, 'Fringe')]\",\n",
       "  333),\n",
       " (\"[('S', 1, 'Tee Box'), ('P', 1, 'Unknown'), ('D', 0, 'Unknown'), ('S', 1, 'Fairway'), ('S', 1, 'Green Side Bunker')]\",\n",
       "  317),\n",
       " (\"[('S', 1, 'Tee Box'), ('P', 1, 'Unknown'), ('D', 0, 'Unknown'), ('S', 1, 'Native Area'), ('S', 1, 'Primary Rough')]\",\n",
       "  314),\n",
       " (\"[('S', 1, 'Tee Box'), ('S', 1, 'Intermediate Rough'), ('P', 1, 'Unknown'), ('D', 0, 'Unknown'), ('S', 1, 'Intermediate Rough'), ('S', 1, 'Green')]\",\n",
       "  288),\n",
       " (\"[('S', 1, 'Tee Box'), ('P', 1, 'Unknown'), ('D', 0, 'Unknown'), ('S', 1, 'Fringe'), ('S', 1, 'Green')]\",\n",
       "  287),\n",
       " (\"[('S', 1, 'Tee Box'), ('P', 1, 'Unknown'), ('D', 0, 'Unknown'), ('S', 1, 'Fairway'), ('S', 1, 'Fringe')]\",\n",
       "  283),\n",
       " (\"[('S', 1, 'Tee Box'), ('S', 1, 'Fairway'), ('P', 1, 'Unknown'), ('D', 0, 'Unknown'), ('S', 1, 'Fringe'), ('S', 1, 'Green')]\",\n",
       "  280),\n",
       " (\"[('D', 0, 'Unknown'), ('S', 1, 'Fairway'), ('P', 1, 'Unknown'), ('D', 0, 'Unknown'), ('S', 1, 'Fairway'), ('S', 1, 'Green')]\",\n",
       "  279),\n",
       " (\"[('S', 1, 'Tee Box'), ('P', 1, 'Unknown'), ('S', 1, 'Tee Box'), ('S', 1, 'Green'), ('S', 1, 'Green')]\",\n",
       "  278),\n",
       " (\"[('S', 1, 'Tee Box'), ('P', 1, 'Unknown'), ('S', 1, 'Tee Box'), ('S', 1, 'Primary Rough'), ('S', 1, 'Green')]\",\n",
       "  274),\n",
       " (\"[('S', 1, 'Tee Box'), ('P', 1, 'Unknown'), ('D', 0, 'Unknown'), ('S', 1, 'Intermediate Rough'), ('S', 1, 'Primary Rough')]\",\n",
       "  264),\n",
       " (\"[('S', 1, 'Tee Box'), ('P', 1, 'Unknown'), ('S', 1, 'Tee Box'), ('S', 1, 'Fairway'), ('S', 1, 'Fairway')]\",\n",
       "  255),\n",
       " (\"[('S', 1, 'Tee Box'), ('P', 1, nan), ('S', 1, 'Tee Box'), ('S', 1, 'Primary Rough'), ('S', 1, 'Green')]\",\n",
       "  240),\n",
       " (\"[('S', 1, 'Tee Box'), ('P', 1, 'Unknown'), ('D', 0, 'Unknown'), ('S', 1, 'Intermediate Rough'), ('S', 1, 'Green Side Bunker')]\",\n",
       "  240),\n",
       " (\"[('S', 1, 'Primary Rough'), ('S', 1, 'Fairway'), ('P', 1, 'Unknown'), ('D', 0, 'Unknown'), ('S', 1, 'Fairway'), ('S', 1, 'Green')]\",\n",
       "  234),\n",
       " (\"[('S', 1, 'Tee Box'), ('S', 1, 'Fairway'), ('P', 1, 'Unknown'), ('D', 0, 'Unknown'), ('S', 1, 'Fairway'), ('S', 1, 'Fairway')]\",\n",
       "  228),\n",
       " (\"[('S', 1, 'Tee Box'), ('S', 1, 'Fairway'), ('P', 1, 'Unknown'), ('D', 0, 'Unknown'), ('S', 1, 'Fairway'), ('S', 1, 'Green Side Bunker')]\",\n",
       "  221),\n",
       " (\"[('S', 1, 'Tee Box'), ('P', 1, nan), ('S', 1, 'Tee Box'), ('S', 1, 'Primary Rough'), ('S', 1, 'Fairway')]\",\n",
       "  220),\n",
       " (\"[('S', 1, 'Tee Box'), ('P', 1, nan), ('S', 1, 'Tee Box'), ('S', 1, 'Fairway'), ('S', 1, 'Fairway')]\",\n",
       "  219)]"
      ]
     },
     "execution_count": 210,
     "metadata": {},
     "output_type": "execute_result"
    }
   ],
   "source": [
    "c.most_common(50)"
   ]
  },
  {
   "cell_type": "code",
   "execution_count": 36,
   "metadata": {
    "collapsed": false
   },
   "outputs": [],
   "source": [
    "id_cols = ['Permanent_Tournament_#','Year','Player_#','Round','Hole']\n",
    "holes_with_provisionals = set(tuple(tup) for tup in data.loc[data['Shot_Type(S/P/D)']=='Pr',id_cols].values.tolist())\n",
    "holes_with_unplayed_provisionals = set(tuple(tup) for tup in data.loc[data['Shot_Type(S/P/D)']=='U',id_cols].values.tolist())"
   ]
  },
  {
   "cell_type": "code",
   "execution_count": 37,
   "metadata": {
    "collapsed": true
   },
   "outputs": [],
   "source": [
    "holes_with_provisionals = [tuple(tup) in holes_with_provisionals for tup in data[id_cols].values]\n",
    "holes_with_unplayed_provisionals = [tuple(tup) in holes_with_unplayed_provisionals for tup in data[id_cols].values]"
   ]
  },
  {
   "cell_type": "code",
   "execution_count": 49,
   "metadata": {
    "collapsed": false
   },
   "outputs": [],
   "source": [
    "def gen():\n",
    "    for tup,df in data.iloc[holes_with_unplayed_provisionals].groupby(id_cols):\n",
    "        yield df"
   ]
  },
  {
   "cell_type": "code",
   "execution_count": 50,
   "metadata": {
    "collapsed": true
   },
   "outputs": [],
   "source": [
    "g = gen()"
   ]
  },
  {
   "cell_type": "code",
   "execution_count": 71,
   "metadata": {
    "collapsed": false
   },
   "outputs": [],
   "source": [
    "d = next(g).copy()"
   ]
  },
  {
   "cell_type": "code",
   "execution_count": 73,
   "metadata": {
    "collapsed": false
   },
   "outputs": [
    {
     "data": {
      "text/html": [
       "<div>\n",
       "<style>\n",
       "    .dataframe thead tr:only-child th {\n",
       "        text-align: right;\n",
       "    }\n",
       "\n",
       "    .dataframe thead th {\n",
       "        text-align: left;\n",
       "    }\n",
       "\n",
       "    .dataframe tbody tr th {\n",
       "        vertical-align: top;\n",
       "    }\n",
       "</style>\n",
       "<table border=\"1\" class=\"dataframe\">\n",
       "  <thead>\n",
       "    <tr style=\"text-align: right;\">\n",
       "      <th></th>\n",
       "      <th>Year</th>\n",
       "      <th>Tourn.#</th>\n",
       "      <th>Player_#</th>\n",
       "      <th>Course_#</th>\n",
       "      <th>Permanent_Tournament_#</th>\n",
       "      <th>Round</th>\n",
       "      <th>Hole</th>\n",
       "      <th>Hole_Score</th>\n",
       "      <th>Shot</th>\n",
       "      <th>Shot_Type(S/P/D)</th>\n",
       "      <th>#_of_Strokes</th>\n",
       "      <th>From_Location(Scorer)</th>\n",
       "      <th>To_Location(Scorer)</th>\n",
       "      <th>Distance</th>\n",
       "      <th>X_Coordinate</th>\n",
       "      <th>Y_Coordinate</th>\n",
       "      <th>Z_Coordinate</th>\n",
       "    </tr>\n",
       "  </thead>\n",
       "  <tbody>\n",
       "    <tr>\n",
       "      <th>234365</th>\n",
       "      <td>2006</td>\n",
       "      <td>80</td>\n",
       "      <td>9011</td>\n",
       "      <td>101</td>\n",
       "      <td>1</td>\n",
       "      <td>2</td>\n",
       "      <td>9</td>\n",
       "      <td>7</td>\n",
       "      <td>1</td>\n",
       "      <td>S</td>\n",
       "      <td>1</td>\n",
       "      <td>Tee Box</td>\n",
       "      <td>Intermediate Rough</td>\n",
       "      <td>9038</td>\n",
       "      <td>7642.008</td>\n",
       "      <td>7386.883</td>\n",
       "      <td>2459.607</td>\n",
       "    </tr>\n",
       "    <tr>\n",
       "      <th>234366</th>\n",
       "      <td>2006</td>\n",
       "      <td>80</td>\n",
       "      <td>9011</td>\n",
       "      <td>101</td>\n",
       "      <td>1</td>\n",
       "      <td>2</td>\n",
       "      <td>9</td>\n",
       "      <td>7</td>\n",
       "      <td>2</td>\n",
       "      <td>S</td>\n",
       "      <td>1</td>\n",
       "      <td>Intermediate Rough</td>\n",
       "      <td>Primary Rough</td>\n",
       "      <td>7631</td>\n",
       "      <td>7006.320</td>\n",
       "      <td>7370.390</td>\n",
       "      <td>2468.020</td>\n",
       "    </tr>\n",
       "    <tr>\n",
       "      <th>234367</th>\n",
       "      <td>2006</td>\n",
       "      <td>80</td>\n",
       "      <td>9011</td>\n",
       "      <td>101</td>\n",
       "      <td>1</td>\n",
       "      <td>2</td>\n",
       "      <td>9</td>\n",
       "      <td>7</td>\n",
       "      <td>3</td>\n",
       "      <td>P</td>\n",
       "      <td>1</td>\n",
       "      <td>Unknown</td>\n",
       "      <td>NaN</td>\n",
       "      <td>0</td>\n",
       "      <td>0.000</td>\n",
       "      <td>0.000</td>\n",
       "      <td>0.000</td>\n",
       "    </tr>\n",
       "    <tr>\n",
       "      <th>234368</th>\n",
       "      <td>2006</td>\n",
       "      <td>80</td>\n",
       "      <td>9011</td>\n",
       "      <td>101</td>\n",
       "      <td>1</td>\n",
       "      <td>2</td>\n",
       "      <td>9</td>\n",
       "      <td>7</td>\n",
       "      <td>4</td>\n",
       "      <td>U</td>\n",
       "      <td>1</td>\n",
       "      <td>Intermediate Rough</td>\n",
       "      <td>Intermediate Rough</td>\n",
       "      <td>1167</td>\n",
       "      <td>7090.591</td>\n",
       "      <td>7418.893</td>\n",
       "      <td>2467.873</td>\n",
       "    </tr>\n",
       "    <tr>\n",
       "      <th>234369</th>\n",
       "      <td>2006</td>\n",
       "      <td>80</td>\n",
       "      <td>9011</td>\n",
       "      <td>101</td>\n",
       "      <td>1</td>\n",
       "      <td>2</td>\n",
       "      <td>9</td>\n",
       "      <td>7</td>\n",
       "      <td>5</td>\n",
       "      <td>S</td>\n",
       "      <td>1</td>\n",
       "      <td>Primary Rough</td>\n",
       "      <td>Green</td>\n",
       "      <td>800</td>\n",
       "      <td>7106.690</td>\n",
       "      <td>7483.556</td>\n",
       "      <td>2468.003</td>\n",
       "    </tr>\n",
       "    <tr>\n",
       "      <th>234370</th>\n",
       "      <td>2006</td>\n",
       "      <td>80</td>\n",
       "      <td>9011</td>\n",
       "      <td>101</td>\n",
       "      <td>1</td>\n",
       "      <td>2</td>\n",
       "      <td>9</td>\n",
       "      <td>7</td>\n",
       "      <td>6</td>\n",
       "      <td>S</td>\n",
       "      <td>1</td>\n",
       "      <td>Green</td>\n",
       "      <td>Green</td>\n",
       "      <td>193</td>\n",
       "      <td>7105.125</td>\n",
       "      <td>7467.512</td>\n",
       "      <td>2467.860</td>\n",
       "    </tr>\n",
       "    <tr>\n",
       "      <th>234371</th>\n",
       "      <td>2006</td>\n",
       "      <td>80</td>\n",
       "      <td>9011</td>\n",
       "      <td>101</td>\n",
       "      <td>1</td>\n",
       "      <td>2</td>\n",
       "      <td>9</td>\n",
       "      <td>7</td>\n",
       "      <td>7</td>\n",
       "      <td>S</td>\n",
       "      <td>1</td>\n",
       "      <td>Green</td>\n",
       "      <td>NaN</td>\n",
       "      <td>19</td>\n",
       "      <td>0.000</td>\n",
       "      <td>0.000</td>\n",
       "      <td>0.000</td>\n",
       "    </tr>\n",
       "  </tbody>\n",
       "</table>\n",
       "</div>"
      ],
      "text/plain": [
       "        Year  Tourn.#  Player_#  Course_#  Permanent_Tournament_#  Round  \\\n",
       "234365  2006       80      9011       101                       1      2   \n",
       "234366  2006       80      9011       101                       1      2   \n",
       "234367  2006       80      9011       101                       1      2   \n",
       "234368  2006       80      9011       101                       1      2   \n",
       "234369  2006       80      9011       101                       1      2   \n",
       "234370  2006       80      9011       101                       1      2   \n",
       "234371  2006       80      9011       101                       1      2   \n",
       "\n",
       "        Hole  Hole_Score  Shot Shot_Type(S/P/D)  #_of_Strokes  \\\n",
       "234365     9           7     1                S             1   \n",
       "234366     9           7     2                S             1   \n",
       "234367     9           7     3                P             1   \n",
       "234368     9           7     4                U             1   \n",
       "234369     9           7     5                S             1   \n",
       "234370     9           7     6                S             1   \n",
       "234371     9           7     7                S             1   \n",
       "\n",
       "       From_Location(Scorer) To_Location(Scorer)  Distance  X_Coordinate  \\\n",
       "234365               Tee Box  Intermediate Rough      9038      7642.008   \n",
       "234366    Intermediate Rough       Primary Rough      7631      7006.320   \n",
       "234367               Unknown                 NaN         0         0.000   \n",
       "234368    Intermediate Rough  Intermediate Rough      1167      7090.591   \n",
       "234369         Primary Rough               Green       800      7106.690   \n",
       "234370                 Green               Green       193      7105.125   \n",
       "234371                 Green                 NaN        19         0.000   \n",
       "\n",
       "        Y_Coordinate  Z_Coordinate  \n",
       "234365      7386.883      2459.607  \n",
       "234366      7370.390      2468.020  \n",
       "234367         0.000         0.000  \n",
       "234368      7418.893      2467.873  \n",
       "234369      7483.556      2468.003  \n",
       "234370      7467.512      2467.860  \n",
       "234371         0.000         0.000  "
      ]
     },
     "execution_count": 73,
     "metadata": {},
     "output_type": "execute_result"
    }
   ],
   "source": [
    "d"
   ]
  },
  {
   "cell_type": "code",
   "execution_count": 74,
   "metadata": {
    "collapsed": true
   },
   "outputs": [],
   "source": [
    "d = d[d.X_Coordinate!=0]"
   ]
  },
  {
   "cell_type": "code",
   "execution_count": 54,
   "metadata": {
    "collapsed": false
   },
   "outputs": [
    {
     "data": {
      "image/png": "[encoded data removed]",
      "text/plain": [
       "<matplotlib.figure.Figure at 0x114275390>"
      ]
     },
     "metadata": {},
     "output_type": "display_data"
    }
   ],
   "source": [
    "fig,ax = plt.subplots(1,1,figsize=(10,10))\n",
    "for turf,df in d.groupby('To_Location(Scorer)'):\n",
    "    ax.scatter(df.X_Coordinate,df.Y_Coordinate,label = turf,s=[600 if st=='U' else 150 \n",
    "                                                               for st in df['Shot_Type(S/P/D)']])\n",
    "    for row_ind,row in df.iterrows():\n",
    "        ax.text(row.X_Coordinate,row.Y_Coordinate+5,s=row.Shot,\n",
    "                horizontalalignment='center',fontsize=14)\n",
    "plt.legend();"
   ]
  },
  {
   "cell_type": "code",
   "execution_count": 245,
   "metadata": {
    "collapsed": true
   },
   "outputs": [
    {
     "data": {
      "text/plain": [
       "#_of_Strokes    0\n",
       "#_of_Strokes    0\n",
       "dtype: int64"
      ]
     },
     "execution_count": 245,
     "metadata": {},
     "output_type": "execute_result"
    }
   ],
   "source": [
    "data.loc[data['Shot_Type(S/P/D)']=='Pr','#_of_Strokes']"
   ]
  },
  {
   "cell_type": "code",
   "execution_count": 107,
   "metadata": {
    "collapsed": false
   },
   "outputs": [],
   "source": [
    "data['penalty_strokes'] = 0"
   ]
  },
  {
   "cell_type": "code",
   "execution_count": null,
   "metadata": {
    "collapsed": true
   },
   "outputs": [],
   "source": []
  },
  {
   "cell_type": "markdown",
   "metadata": {},
   "source": [
    "Process:\n",
    "- Drop non-stroke play events\n",
    "- Drop holes with conceded strokes\n",
    "- Drop 'Pr' Shots\n",
    "- Drop holes with 'S' Shots with #_of_Strokes = 0\n",
    "- Impute tee, hole locations for each round, save results for later\n",
    "- Add 5 columns of zeros - Starting Location X, Y, Z Coordinates, \"start location equal to end location\" flag, and penalty shots\n",
    "- Look for S-P-U sequences\n",
    "    - Add 1 penalty shot to S before P\n",
    "    - Set \"start location equal to end location\" flag equal to 1 for S\n",
    "    - Drop P \n",
    "    - Make U = S\n",
    "- Look for S-P-D-S sequences\n",
    "    - If D has Coordinates equal to 0, set end coordinate columns of first S to NA, skip.\n",
    "    - Else, Add 1 penalty shot to first S\n",
    "    - Set End coordinates columns of first S equal to coordinate columns of D\n",
    "    - Set Start location of second S equal to coordinate columns of D\n",
    "    - Drop P, Drop D\n",
    "- Drop rest of non-'S' Shots\n",
    "- Set start location of first shot on each hole to imputed tee location, end location of last shot on each hole to imputed hole location.\n",
    "- Set start location of each shot to end location of shot before in sequence\n",
    "- Drop all shots with any Coordinate column equal to 0."
   ]
  },
  {
   "cell_type": "code",
   "execution_count": 68,
   "metadata": {
    "collapsed": false
   },
   "outputs": [
    {
     "data": {
      "text/html": [
       "<div>\n",
       "<style>\n",
       "    .dataframe thead tr:only-child th {\n",
       "        text-align: right;\n",
       "    }\n",
       "\n",
       "    .dataframe thead th {\n",
       "        text-align: left;\n",
       "    }\n",
       "\n",
       "    .dataframe tbody tr th {\n",
       "        vertical-align: top;\n",
       "    }\n",
       "</style>\n",
       "<table border=\"1\" class=\"dataframe\">\n",
       "  <thead>\n",
       "    <tr style=\"text-align: right;\">\n",
       "      <th></th>\n",
       "      <th>Year</th>\n",
       "      <th>Tourn.#</th>\n",
       "      <th>Course_#</th>\n",
       "      <th>Round</th>\n",
       "      <th>Hole</th>\n",
       "      <th>Player_#</th>\n",
       "      <th>Shot</th>\n",
       "      <th>Hole_Score</th>\n",
       "      <th>X_Coordinate</th>\n",
       "      <th>Y_Coordinate</th>\n",
       "      <th>Z_Coordinate</th>\n",
       "      <th>#_of_Strokes</th>\n",
       "      <th>Shot_Type(S/P/D)</th>\n",
       "      <th>From_Location(Scorer)</th>\n",
       "      <th>To_Location(Laser)</th>\n",
       "    </tr>\n",
       "  </thead>\n",
       "  <tbody>\n",
       "    <tr>\n",
       "      <th>35661</th>\n",
       "      <td>2003</td>\n",
       "      <td>20</td>\n",
       "      <td>6</td>\n",
       "      <td>4</td>\n",
       "      <td>1</td>\n",
       "      <td>1139</td>\n",
       "      <td>1</td>\n",
       "      <td>6</td>\n",
       "      <td>.0000</td>\n",
       "      <td>.0000</td>\n",
       "      <td>.0000</td>\n",
       "      <td>2</td>\n",
       "      <td>P</td>\n",
       "      <td>Unknown</td>\n",
       "      <td>NaN</td>\n",
       "    </tr>\n",
       "    <tr>\n",
       "      <th>412323</th>\n",
       "      <td>2003</td>\n",
       "      <td>170</td>\n",
       "      <td>699</td>\n",
       "      <td>1</td>\n",
       "      <td>10</td>\n",
       "      <td>1713</td>\n",
       "      <td>1</td>\n",
       "      <td>7</td>\n",
       "      <td>.0000</td>\n",
       "      <td>.0000</td>\n",
       "      <td>0</td>\n",
       "      <td>2</td>\n",
       "      <td>P</td>\n",
       "      <td>Unknown</td>\n",
       "      <td>NaN</td>\n",
       "    </tr>\n",
       "  </tbody>\n",
       "</table>\n",
       "</div>"
      ],
      "text/plain": [
       "        Year  Tourn.#  Course_#  Round  Hole  Player_#  Shot  Hole_Score  \\\n",
       "35661   2003       20         6      4     1      1139     1           6   \n",
       "412323  2003      170       699      1    10      1713     1           7   \n",
       "\n",
       "        X_Coordinate  Y_Coordinate  Z_Coordinate  #_of_Strokes  \\\n",
       "35661          .0000         .0000         .0000             2   \n",
       "412323         .0000         .0000             0             2   \n",
       "\n",
       "       Shot_Type(S/P/D) From_Location(Scorer) To_Location(Laser)  \n",
       "35661                 P               Unknown                NaN  \n",
       "412323                P               Unknown                NaN  "
      ]
     },
     "execution_count": 68,
     "metadata": {},
     "output_type": "execute_result"
    }
   ],
   "source": [
    "data.loc[(data['Shot_Type(S/P/D)']=='P') & (data.Shot==1)]"
   ]
  },
  {
   "cell_type": "code",
   "execution_count": null,
   "metadata": {
    "collapsed": true
   },
   "outputs": [],
   "source": [
    "data.loc[data['Shot_Type(S/P/D)']=='P',id_cols+['Shot']]"
   ]
  },
  {
   "cell_type": "code",
   "execution_count": 64,
   "metadata": {
    "collapsed": false
   },
   "outputs": [
    {
     "data": {
      "text/html": [
       "<div>\n",
       "<style>\n",
       "    .dataframe thead tr:only-child th {\n",
       "        text-align: right;\n",
       "    }\n",
       "\n",
       "    .dataframe thead th {\n",
       "        text-align: left;\n",
       "    }\n",
       "\n",
       "    .dataframe tbody tr th {\n",
       "        vertical-align: top;\n",
       "    }\n",
       "</style>\n",
       "<table border=\"1\" class=\"dataframe\">\n",
       "  <thead>\n",
       "    <tr style=\"text-align: right;\">\n",
       "      <th></th>\n",
       "      <th>Year</th>\n",
       "      <th>Tourn.#</th>\n",
       "      <th>Course_#</th>\n",
       "      <th>Round</th>\n",
       "      <th>Hole</th>\n",
       "      <th>Player_#</th>\n",
       "      <th>Shot</th>\n",
       "      <th>Hole_Score</th>\n",
       "      <th>X_Coordinate</th>\n",
       "      <th>Y_Coordinate</th>\n",
       "      <th>Z_Coordinate</th>\n",
       "      <th>#_of_Strokes</th>\n",
       "      <th>Shot_Type(S/P/D)</th>\n",
       "      <th>From_Location(Scorer)</th>\n",
       "      <th>To_Location(Laser)</th>\n",
       "    </tr>\n",
       "  </thead>\n",
       "  <tbody>\n",
       "    <tr>\n",
       "      <th>44074</th>\n",
       "      <td>2003</td>\n",
       "      <td>30</td>\n",
       "      <td>510</td>\n",
       "      <td>1</td>\n",
       "      <td>17</td>\n",
       "      <td>2239</td>\n",
       "      <td>3</td>\n",
       "      <td>6</td>\n",
       "      <td>.0000</td>\n",
       "      <td>.0000</td>\n",
       "      <td>.0000</td>\n",
       "      <td>1</td>\n",
       "      <td>P</td>\n",
       "      <td>Unknown</td>\n",
       "      <td>NaN</td>\n",
       "    </tr>\n",
       "    <tr>\n",
       "      <th>44913</th>\n",
       "      <td>2003</td>\n",
       "      <td>30</td>\n",
       "      <td>510</td>\n",
       "      <td>1</td>\n",
       "      <td>17</td>\n",
       "      <td>6595</td>\n",
       "      <td>3</td>\n",
       "      <td>5</td>\n",
       "      <td>.0000</td>\n",
       "      <td>.0000</td>\n",
       "      <td>.0000</td>\n",
       "      <td>1</td>\n",
       "      <td>P</td>\n",
       "      <td>Unknown</td>\n",
       "      <td>NaN</td>\n",
       "    </tr>\n",
       "    <tr>\n",
       "      <th>132635</th>\n",
       "      <td>2003</td>\n",
       "      <td>60</td>\n",
       "      <td>4</td>\n",
       "      <td>1</td>\n",
       "      <td>16</td>\n",
       "      <td>6475</td>\n",
       "      <td>2</td>\n",
       "      <td>5</td>\n",
       "      <td>.0000</td>\n",
       "      <td>.0000</td>\n",
       "      <td>0</td>\n",
       "      <td>1</td>\n",
       "      <td>P</td>\n",
       "      <td>Unknown</td>\n",
       "      <td>NaN</td>\n",
       "    </tr>\n",
       "  </tbody>\n",
       "</table>\n",
       "</div>"
      ],
      "text/plain": [
       "        Year  Tourn.#  Course_#  Round  Hole  Player_#  Shot  Hole_Score  \\\n",
       "44074   2003       30       510      1    17      2239     3           6   \n",
       "44913   2003       30       510      1    17      6595     3           5   \n",
       "132635  2003       60         4      1    16      6475     2           5   \n",
       "\n",
       "        X_Coordinate  Y_Coordinate  Z_Coordinate  #_of_Strokes  \\\n",
       "44074          .0000         .0000         .0000             1   \n",
       "44913          .0000         .0000         .0000             1   \n",
       "132635         .0000         .0000             0             1   \n",
       "\n",
       "       Shot_Type(S/P/D) From_Location(Scorer) To_Location(Laser)  \n",
       "44074                 P               Unknown                NaN  \n",
       "44913                 P               Unknown                NaN  \n",
       "132635                P               Unknown                NaN  "
      ]
     },
     "execution_count": 64,
     "metadata": {},
     "output_type": "execute_result"
    }
   ],
   "source": [
    "data[(data['Shot_Type(S/P/D)']=='P') & (data.penalty_strokes!=0)][cols]"
   ]
  },
  {
   "cell_type": "code",
   "execution_count": 37,
   "metadata": {
    "collapsed": false
   },
   "outputs": [
    {
     "data": {
      "text/plain": [
       "Unknown               12843\n",
       "Green                 11313\n",
       "Tee Box                7621\n",
       "Primary Rough          5297\n",
       "Fairway                4494\n",
       "Intermediate Rough     1297\n",
       "Other                   966\n",
       "Native Area             683\n",
       "Green Side Bunker       550\n",
       "Fringe                  447\n",
       "Fairway Bunker          294\n",
       "NaN                      31\n",
       "Water                    29\n",
       "Name: From_Location(Scorer), dtype: int64"
      ]
     },
     "execution_count": 37,
     "metadata": {},
     "output_type": "execute_result"
    }
   ],
   "source": [
    "data.iloc[suspect]['From_Location(Scorer)'].value_counts(dropna=False)"
   ]
  },
  {
   "cell_type": "code",
   "execution_count": 36,
   "metadata": {
    "collapsed": false
   },
   "outputs": [
    {
     "data": {
      "text/plain": [
       "NaN                   17048\n",
       "Green                  9909\n",
       "Primary Rough          5446\n",
       "Fairway                4277\n",
       "Water                  3901\n",
       "Intermediate Rough     1153\n",
       "Native Area             785\n",
       "Tee Box                 648\n",
       "Unknown                 541\n",
       "Green Side Bunker       475\n",
       "Tree Outline            459\n",
       "Fringe                  384\n",
       "Cart Path               375\n",
       "Fairway Bunker          274\n",
       "Dirt Outline            117\n",
       "Rock Outline             41\n",
       "Landscaping              13\n",
       "Wall                     10\n",
       "Bush                      4\n",
       "Path                      4\n",
       "Other                     1\n",
       "Name: To_Location(Scorer), dtype: int64"
      ]
     },
     "execution_count": 36,
     "metadata": {},
     "output_type": "execute_result"
    }
   ],
   "source": [
    "data.iloc[suspect]['To_Location(Scorer)'].value_counts(dropna=False)"
   ]
  },
  {
   "cell_type": "code",
   "execution_count": 61,
   "metadata": {
    "collapsed": false
   },
   "outputs": [
    {
     "name": "stdout",
     "output_type": "stream",
     "text": [
      "2004\n",
      "Starting size: 1272874\n",
      "Player holes with just shots: 1223508\n",
      "Data points with Shot value still greater than hole score: 0\n",
      "Data points with Zero Coordinates after drop: 82847\n",
      "Strokes Gained Estimated of zeros: 357\n",
      "2005\n",
      "Starting size: 1279833\n",
      "Player holes with just shots: 1229519\n",
      "Data points with Shot value still greater than hole score: 0\n",
      "Data points with Zero Coordinates after drop: 72030\n",
      "Strokes Gained Estimated of zeros: 530\n",
      "2006\n",
      "Starting size: 1298010\n",
      "Player holes with just shots: 1243881\n",
      "Data points with Shot value still greater than hole score: 0\n",
      "Data points with Zero Coordinates after drop: 88624\n",
      "Strokes Gained Estimated of zeros: 745\n",
      "2007\n",
      "Starting size: 1211721\n",
      "Player holes with just shots: 1160054\n",
      "Data points with Shot value still greater than hole score: 1\n",
      "Data points with Zero Coordinates after drop: 68021\n",
      "Strokes Gained Estimated of zeros: 477\n",
      "2008\n",
      "Starting size: 1206071\n",
      "Player holes with just shots: 1151735\n",
      "Data points with Shot value still greater than hole score: 2\n",
      "Data points with Zero Coordinates after drop: 53105\n",
      "Strokes Gained Estimated of zeros: 433\n",
      "2009\n",
      "Starting size: 1137348\n",
      "Player holes with just shots: 1085729\n",
      "Data points with Shot value still greater than hole score: 1\n",
      "Data points with Zero Coordinates after drop: 77813\n",
      "Strokes Gained Estimated of zeros: 442\n",
      "2010\n",
      "Starting size: 1160416\n",
      "Player holes with just shots: 1106926\n",
      "Data points with Shot value still greater than hole score: 0\n",
      "Data points with Zero Coordinates after drop: 73776\n",
      "Strokes Gained Estimated of zeros: 381\n",
      "2011\n",
      "Starting size: 1125170\n",
      "Player holes with just shots: 1071310\n",
      "Data points with Shot value still greater than hole score: 1\n",
      "Data points with Zero Coordinates after drop: 72415\n",
      "Strokes Gained Estimated of zeros: 408\n",
      "2012\n",
      "Starting size: 1102847\n",
      "Player holes with just shots: 1049951\n",
      "Data points with Shot value still greater than hole score: 0\n",
      "Data points with Zero Coordinates after drop: 68626\n",
      "Strokes Gained Estimated of zeros: 387\n",
      "2013\n",
      "Starting size: 995304\n",
      "Player holes with just shots: 948345\n",
      "Data points with Shot value still greater than hole score: 0\n",
      "Data points with Zero Coordinates after drop: 60287\n",
      "Strokes Gained Estimated of zeros: 293\n",
      "2014\n",
      "Starting size: 1106109\n",
      "Player holes with just shots: 1053291\n",
      "Data points with Shot value still greater than hole score: 0\n",
      "Data points with Zero Coordinates after drop: 79608\n",
      "Strokes Gained Estimated of zeros: 355\n",
      "2015\n",
      "Starting size: 1176101\n",
      "Player holes with just shots: 1114437\n",
      "Data points with Shot value still greater than hole score: 0\n",
      "Data points with Zero Coordinates after drop: 97255\n",
      "Strokes Gained Estimated of zeros: 2581\n",
      "2016\n",
      "Starting size: 1141966\n",
      "Player holes with just shots: 1083466\n",
      "Data points with Shot value still greater than hole score: 0\n",
      "Data points with Zero Coordinates after drop: 98523\n",
      "Strokes Gained Estimated of zeros: 3995\n"
     ]
    }
   ],
   "source": [
    "for year in range(2004,2017):\n",
    "    with warnings.catch_warnings():\n",
    "        warnings.simplefilter(\"ignore\")\n",
    "        data = pd.read_csv('./../data/rawdata/%d.txt' % year, sep=';')\n",
    "    data.columns = [col.strip().replace(' ','_') for col in data.columns]\n",
    "    ## converting all coords to str to strip out white space\n",
    "    data['X_Coordinate'] = [str(i).replace(' ','') for i in data['X_Coordinate']]\n",
    "    data['Y_Coordinate'] = [str(i).replace(' ','') for i in data['Y_Coordinate']]\n",
    "    data['Z_Coordinate'] = [str(i).replace(' ','') for i in data['Z_Coordinate']]\n",
    "    \n",
    "    ## getting rid of commas\n",
    "    data['X_Coordinate'] = [str(i).replace(',','') for i in data['X_Coordinate']] \n",
    "    data['Y_Coordinate'] = [str(i).replace(',','') for i in data['Y_Coordinate']]\n",
    "    data['Z_Coordinate'] = [str(i).replace(',','') for i in data['Z_Coordinate']]\n",
    "    \n",
    "    ## placing negative signs in proper place\n",
    "    data['X_Coordinate'] = ['-' + str(i)[:len(str(i))-1] if str(i)[len(str(i))-1]=='-' else i for i in data['X_Coordinate']] \n",
    "    data['Y_Coordinate'] = ['-' + str(i)[:len(str(i))-1] if str(i)[len(str(i))-1]=='-' else i for i in data['Y_Coordinate']]\n",
    "    data['Z_Coordinate'] = ['-' + str(i)[:len(str(i))-1] if str(i)[len(str(i))-1]=='-' else i for i in data['Z_Coordinate']]\n",
    "    \n",
    "    ## converting to number\n",
    "    data['X_Coordinate'] = pd.to_numeric(data['X_Coordinate'])\n",
    "    data['Y_Coordinate'] = pd.to_numeric(data['Y_Coordinate'])\n",
    "    data['Z_Coordinate'] = pd.to_numeric(data['Z_Coordinate'])\n",
    "    \n",
    "    print year\n",
    "    print 'Starting size: %d' % (len(data),)\n",
    "    deduped = data.drop_duplicates(['Permanent_Tournament_#','Course_#','Round','Hole','Player_#','Shot_Type(S/P/D)'])\n",
    "    d =  deduped.groupby(['Permanent_Tournament_#','Course_#','Round','Hole','Player_#'])['Shot_Type(S/P/D)'].count().to_dict()\n",
    "    just_shots = set(key for key,value in d.iteritems() if value==1)\n",
    "    to_drop = [tuple(tup) in just_shots\n",
    "               for tup in data[['Permanent_Tournament_#','Course_#','Round','Hole','Player_#']].values.tolist()]\n",
    "    print 'Player holes with just shots: %d' % (sum(to_drop),)\n",
    "    data = data.iloc[to_drop]\n",
    "    print 'Data points with Shot value still greater than hole score: %d' % (len(data[(data.Shot>data.Hole_Score)]),)\n",
    "    \n",
    "    \n",
    "    zeros = data[(data.Shot!=data.Hole_Score) & ((data['X_Coordinate']==0) | (data['Y_Coordinate']==0) | (data['Z_Coordinate']==0))]\n",
    "    \n",
    "    print 'Data points with Zero Coordinates after drop: %d' % (len(zeros),)\n",
    "\n",
    "    print 'Strokes Gained Estimated of zeros: %d' % ((zeros['Strokes_Gained/Baseline']!=0).sum(),)"
   ]
  },
  {
   "cell_type": "code",
   "execution_count": null,
   "metadata": {
    "collapsed": true
   },
   "outputs": [],
   "source": []
  }
 ],
 "metadata": {
  "kernelspec": {
   "display_name": "Python 2",
   "language": "python",
   "name": "python2"
  },
  "language_info": {
   "codemirror_mode": {
    "name": "ipython",
    "version": 2
   },
   "file_extension": ".py",
   "mimetype": "text/x-python",
   "name": "python",
   "nbconvert_exporter": "python",
   "pygments_lexer": "ipython2",
   "version": "2.7.13"
  }
 },
 "nbformat": 4,
 "nbformat_minor": 0
}
