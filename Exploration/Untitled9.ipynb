{
 "cells": [
  {
   "cell_type": "code",
   "execution_count": 50,
   "metadata": {
    "collapsed": false
   },
   "outputs": [],
   "source": [
    "import pandas as pd\n",
    "import numpy as np\n",
    "import pickle\n",
    "import matplotlib.pyplot as plt\n",
    "%matplotlib inline"
   ]
  },
  {
   "cell_type": "code",
   "execution_count": 5,
   "metadata": {
    "collapsed": false
   },
   "outputs": [],
   "source": [
    "cats = ['tee3','tee45','green0','green5','green10','green20','rough0','rough90',\n",
    "        'rough375','fairway0','fairway300','fairway540','bunker','other']\n",
    "\n",
    "queries = {}\n",
    "queries['green0'] = '(Cat==\"Green\" | Cat==\"Fringe\") & Distance_from_hole<5'\n",
    "queries['green5'] = '(Cat==\"Green\" | Cat==\"Fringe\") & Distance_from_hole>=5 & Distance_from_hole<10'\n",
    "queries['green10'] = '(Cat==\"Green\" | Cat==\"Fringe\") & Distance_from_hole>=10 & Distance_from_hole<20'\n",
    "queries['green20'] = '(Cat==\"Green\" | Cat==\"Fringe\") & Distance_from_hole>=20'\n",
    "queries['rough0'] = '(Cat==\"Primary Rough\" | Cat==\"Intermediate Rough\") & Distance_from_hole<90'\n",
    "queries['rough90'] = '(Cat==\"Primary Rough\" | Cat==\"Intermediate Rough\") & Distance_from_hole>=90 & Distance_from_hole<375'\n",
    "queries['rough375'] = '(Cat==\"Primary Rough\" | Cat==\"Intermediate Rough\") & Distance_from_hole>=375'\n",
    "queries['fairway0'] = 'Cat==\"Fairway\" & Distance_from_hole<300'\n",
    "queries['fairway300'] = 'Cat==\"Fairway\" & Distance_from_hole>=300 & Distance_from_hole<540'\n",
    "queries['fairway540'] = 'Cat==\"Fairway\" & Distance_from_hole>=540'\n",
    "queries['bunker'] = 'Cat==\"Bunker\"'\n",
    "queries['tee3'] = 'Cat==\"Tee Box\" & Par_Value==3'\n",
    "queries['tee45'] = 'Cat==\"Tee Box\" & (Par_Value==4 | Par_Value==5)'\n",
    "queries['other'] = 'Cat==\"Other\"'\n",
    "\n",
    "cols = ('Year','Permanent_Tournament_#')\n",
    "data = pd.concat([pd.read_csv('../data/%d.csv' % year,usecols=cols) for year in range(2003,2018)])\n",
    "\n",
    "cols = ('Year','Permanent_Tournament_#')\n",
    "rawdata = pd.concat([pd.read_csv('../data/rawdata/hole/%d.txt' % year, sep=';', \n",
    "                                 usecols=lambda x: x.strip().replace(' ','_') in cols)\n",
    "                     for year in range(2003,2018)])\n",
    "tourn_order = rawdata.drop_duplicates().values.tolist()\n",
    "\n",
    "data.columns = [col.replace('#','') for col in data.columns]\n",
    "tourns_in_data = data[['Year','Permanent_Tournament_']].drop_duplicates().values.tolist()\n",
    "tourns_in_data = set(tuple(tup) for tup in tourns_in_data)\n",
    "tourn_order = [tup for tup in tourn_order if tuple(tup) in tourns_in_data]\n",
    "tourn_seq = {tuple(tup):u for u,tup in enumerate(tourn_order)}\n",
    "\n",
    "ratings, reps = {},{}"
   ]
  },
  {
   "cell_type": "code",
   "execution_count": 24,
   "metadata": {
    "collapsed": true
   },
   "outputs": [],
   "source": [
    "data = pd.read_csv('../data/2003.csv',nrows=1)"
   ]
  },
  {
   "cell_type": "code",
   "execution_count": 25,
   "metadata": {
    "collapsed": false
   },
   "outputs": [
    {
     "data": {
      "text/plain": [
       "Index([u'Unnamed: 0', u'Unnamed: 0.1', u'Unnamed: 0.1.1', u'Tour_Code',\n",
       "       u'Tour_Description', u'Year', u'Tourn.#', u'Player_#', u'Course_#',\n",
       "       u'Permanent_Tournament_#', u'Player_First_Name', u'Player_Last_Name',\n",
       "       u'Round', u'Tournament_Name', u'Course_Name', u'Hole', u'Hole_Score',\n",
       "       u'Par_Value', u'Yardage', u'Shot', u'Shot_Type(S/P/D)', u'#_of_Strokes',\n",
       "       u'From_Location(Scorer)', u'From_Location(Enhanced)',\n",
       "       u'To_Location(Laser)', u'To_Location(Enhanced)', u'Distance',\n",
       "       u'Distance_to_Pin', u'In_the_Hole_Flag', u'Around_the_Green_Flag',\n",
       "       u'1st_Putt_Flag', u'Distance_to_Hole_after_the_Shot', u'Time', u'Lie',\n",
       "       u'Elevation', u'Slope', u'End_X_Coordinate', u'End_Y_Coordinate',\n",
       "       u'End_Z_Coordinate', u'Distance_from_Center', u'Distance_from_Edge',\n",
       "       u'Date', u'Penalty_Shots', u'start_loc_equal_to_prev_start_loc',\n",
       "       u'Start_X_Coordinate', u'Start_Y_Coordinate', u'Start_Z_Coordinate',\n",
       "       u'Real_Shots', u'last_shot_mask', u'Stroke',\n",
       "       u'Strokes_from_starting_location', u'from_the_tee_box_mask',\n",
       "       u'Distance_from_hole', u'Cat', u'Green_to_work_with',\n",
       "       u'Difficulty_Start', u'Difficulty_End', u'Strokes_Gained', u'Cluster',\n",
       "       u'Cluster_Green_X', u'Cluster_Green_Y', u'Cluster_Tee_X',\n",
       "       u'Cluster_Tee_Y', u'loc_string', u'loc_string_hole', u'nearest_hour',\n",
       "       u'apparentTemperature', u'cloudCover', u'dewPoint', u'humidity',\n",
       "       u'ozone', u'precipIntensity', u'precipProbability', u'precipType',\n",
       "       u'pressure', u'summary', u'temperature', u'uvIndex', u'visibility',\n",
       "       u'windBearing', u'windGust', u'windSpeed'],\n",
       "      dtype='object')"
      ]
     },
     "execution_count": 25,
     "metadata": {},
     "output_type": "execute_result"
    }
   ],
   "source": [
    "data.columns"
   ]
  },
  {
   "cell_type": "code",
   "execution_count": 26,
   "metadata": {
    "collapsed": true
   },
   "outputs": [],
   "source": [
    "cols_with_hashtags = [col for col in data.columns if '#' in col]"
   ]
  },
  {
   "cell_type": "code",
   "execution_count": 27,
   "metadata": {
    "collapsed": false
   },
   "outputs": [
    {
     "data": {
      "text/plain": [
       "['Tourn.#', 'Player_#', 'Course_#', 'Permanent_Tournament_#', '#_of_Strokes']"
      ]
     },
     "execution_count": 27,
     "metadata": {},
     "output_type": "execute_result"
    }
   ],
   "source": [
    "cols_with_hashtags"
   ]
  },
  {
   "cell_type": "code",
   "execution_count": 34,
   "metadata": {
    "collapsed": false
   },
   "outputs": [],
   "source": [
    "e_d,e_t,w_d,a,beta = '0.8','0.7','0.8','0.85','8'\n",
    "for cat in cats:\n",
    "    ratings[cat] = np.load('../ranks/ranks-%s-%s-%s-%s-%s/%s_ranks.npy' % (e_d,e_t,w_d,a,beta,cat))\n",
    "    reps[cat] = np.load('../ranks/ranks-%s-%s-%s-%s-%s/%s_reps.npy' % (e_d,e_t,w_d,a,beta,cat))\n",
    "\n",
    "data = pd.read_csv('../data/%d.csv' % (2003,))\n",
    "cols_with_hashtags = [col for col in data.columns if '#' in col]\n",
    "data = data.rename(columns={col:col.replace('#','') for col in cols_with_hashtags})\n",
    "data['tourn_num'] = [tourn_seq[tuple(tup)] for tup in data[['Year','Permanent_Tournament_']].values]\n",
    "to_c_stack = []\n",
    "for cat in cats:\n",
    "    mask = np.zeros(len(data))\n",
    "    mask[data.query(queries[cat]).index.values] = 1\n",
    "    to_c_stack.append(mask)\n",
    "cat_dummies = np.column_stack(to_c_stack)\n",
    "assert (cat_dummies.sum(1)==1).mean()==1\n",
    "cat_map = {u:cat for u,cat in enumerate(cats)}\n",
    "data['baby_cat'] = [cat_map[i] for i in cat_dummies.argmax(1)]\n",
    "data = data.rename(columns={col.replace('#',''):col for col in cols_with_hashtags})"
   ]
  },
  {
   "cell_type": "code",
   "execution_count": 35,
   "metadata": {
    "collapsed": true
   },
   "outputs": [],
   "source": [
    "data = data.drop([col for col in data.columns if col.startswith('Unnamed')],axis=1)"
   ]
  },
  {
   "cell_type": "code",
   "execution_count": 41,
   "metadata": {
    "collapsed": false
   },
   "outputs": [],
   "source": [
    "with open('../PickleFiles/num_to_ind_shot.pkl','rb') as pickle_file:\n",
    "    num_to_ind = pickle.load(pickle_file)\n",
    "data.insert(5,'Player_Index',[num_to_ind[num] for num in data['Player_#']])"
   ]
  },
  {
   "cell_type": "code",
   "execution_count": 45,
   "metadata": {
    "collapsed": false
   },
   "outputs": [],
   "source": [
    "data['skill_estimate'] = [ratings[baby_cat][player_ind,tourn_num-1]\n",
    "                          if tourn_num>0 else np.nan\n",
    "                          for baby_cat,player_ind,tourn_num in zip(data['baby_cat'],\n",
    "                                                                   data['Player_Index'],\n",
    "                                                                   data['tourn_num'])]"
   ]
  },
  {
   "cell_type": "code",
   "execution_count": 53,
   "metadata": {
    "collapsed": true
   },
   "outputs": [],
   "source": [
    "data['observation_count'] = [reps[baby_cat][player_ind,tourn_num-1]\n",
    "                             if tourn_num>0 else np.nan\n",
    "                             for baby_cat,player_ind,tourn_num in zip(data['baby_cat'],\n",
    "                                                                      data['Player_Index'],\n",
    "                                                                      data['tourn_num'])]"
   ]
  },
  {
   "cell_type": "code",
   "execution_count": 47,
   "metadata": {
    "collapsed": false
   },
   "outputs": [
    {
     "data": {
      "text/plain": [
       "count    1.075192e+06\n",
       "mean     1.000057e+00\n",
       "std      6.537673e-02\n",
       "min      2.642141e-02\n",
       "25%      9.760821e-01\n",
       "50%      1.001376e+00\n",
       "75%      1.026717e+00\n",
       "max      2.440782e+00\n",
       "Name: skill_estimate, dtype: float64"
      ]
     },
     "execution_count": 47,
     "metadata": {},
     "output_type": "execute_result"
    }
   ],
   "source": [
    "data['skill_estimate'].describe()"
   ]
  },
  {
   "cell_type": "code",
   "execution_count": 48,
   "metadata": {
    "collapsed": false
   },
   "outputs": [
    {
     "data": {
      "text/plain": [
       "17142"
      ]
     },
     "execution_count": 48,
     "metadata": {},
     "output_type": "execute_result"
    }
   ],
   "source": [
    "data['skill_estimate'].isnull().sum()"
   ]
  },
  {
   "cell_type": "code",
   "execution_count": 52,
   "metadata": {
    "collapsed": false
   },
   "outputs": [
    {
     "data": {
      "text/plain": [
       "<matplotlib.axes._subplots.AxesSubplot at 0x12acc9210>"
      ]
     },
     "execution_count": 52,
     "metadata": {},
     "output_type": "execute_result"
    },
    {
     "data": {
      "image/png": "[encoded data removed]",
      "text/plain": [
       "<matplotlib.figure.Figure at 0x12ad13650>"
      ]
     },
     "metadata": {},
     "output_type": "display_data"
    }
   ],
   "source": [
    "data['skill_estimate'].dropna().hist(bins=100)"
   ]
  },
  {
   "cell_type": "code",
   "execution_count": 54,
   "metadata": {
    "collapsed": false
   },
   "outputs": [
    {
     "data": {
      "text/plain": [
       "4996"
      ]
     },
     "execution_count": 54,
     "metadata": {},
     "output_type": "execute_result"
    }
   ],
   "source": [
    "data['observation_count'].isnull().sum()"
   ]
  },
  {
   "cell_type": "code",
   "execution_count": 55,
   "metadata": {
    "collapsed": false
   },
   "outputs": [
    {
     "data": {
      "text/plain": [
       "<matplotlib.axes._subplots.AxesSubplot at 0x1261b6550>"
      ]
     },
     "execution_count": 55,
     "metadata": {},
     "output_type": "execute_result"
    },
    {
     "data": {
      "image/png": "[encoded data removed]",
      "text/plain": [
       "<matplotlib.figure.Figure at 0x12ae461d0>"
      ]
     },
     "metadata": {},
     "output_type": "display_data"
    }
   ],
   "source": [
    "data['observation_count'].dropna().hist(bins=100)"
   ]
  },
  {
   "cell_type": "code",
   "execution_count": null,
   "metadata": {
    "collapsed": true
   },
   "outputs": [],
   "source": []
  }
 ],
 "metadata": {
  "kernelspec": {
   "display_name": "Python 2",
   "language": "python",
   "name": "python2"
  },
  "language_info": {
   "codemirror_mode": {
    "name": "ipython",
    "version": 2
   },
   "file_extension": ".py",
   "mimetype": "text/x-python",
   "name": "python",
   "nbconvert_exporter": "python",
   "pygments_lexer": "ipython2",
   "version": "2.7.13"
  }
 },
 "nbformat": 4,
 "nbformat_minor": 2
}
