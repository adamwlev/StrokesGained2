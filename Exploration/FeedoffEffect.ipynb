{
 "cells": [
  {
   "cell_type": "markdown",
   "metadata": {},
   "source": [
    "I was golfing the other day and was having a bad day. I was thinking about my experience golfing with different groups and that got me thinking about \"feeding off\" the play of my fellow group members. I decided it would be fun to investigate whether the so called \"feed-off effect\" is real. I was given access to the data from the PGA Tour through the ShotLink Intelligence Program so I decided to use this data in an analysis of the pro game (data from my personal game is lacking).\n",
    "\n",
    "This feed-off effect is something that is often mentioned on telecasts and in conversations about the game and is often supported with anecdotes. This analysis intends to answer the basic question of whether there is statistically significant evidence of this effect existing. I will do this by seeing if the within group variation or spread is significantly less substantial than the between group variation during a given round. If the effect does exists, I will go on to investigate other questions that might be interesting like - does it exists especially at certain tournaments? On certain courses? For certain players? During certain times? Under certain circumstances? Golf geeks rejoice!"
   ]
  },
  {
   "cell_type": "markdown",
   "metadata": {},
   "source": [
    "### Munging\n",
    "#### tl;dr did a bunch of quality verification, matched starting hole from another table, ended up with a dataframe with a tuple that can be used to identify each group"
   ]
  },
  {
   "cell_type": "code",
   "execution_count": 1,
   "metadata": {
    "collapsed": false
   },
   "outputs": [],
   "source": [
    "## the standard imports\n",
    "import pandas as pd\n",
    "pd.options.display.max_columns = 999\n",
    "import numpy as np\n",
    "import warnings\n",
    "import matplotlib.pyplot as plt\n",
    "%matplotlib inline"
   ]
  },
  {
   "cell_type": "code",
   "execution_count": 2,
   "metadata": {
    "collapsed": false
   },
   "outputs": [],
   "source": [
    "## reading in round level data\n",
    "with warnings.catch_warnings():\n",
    "    warnings.simplefilter(\"ignore\")\n",
    "    round_data = pd.concat([pd.read_csv('../data/rawdata/%dr.txt'\n",
    "                            % year, sep=';') \n",
    "                            for year in range(2003,2017)])"
   ]
  },
  {
   "cell_type": "code",
   "execution_count": 3,
   "metadata": {
    "collapsed": false
   },
   "outputs": [
    {
     "data": {
      "text/plain": [
       "(261539, 179)"
      ]
     },
     "execution_count": 3,
     "metadata": {},
     "output_type": "execute_result"
    }
   ],
   "source": [
    "## taking a look at the dimensions\n",
    "round_data.shape"
   ]
  },
  {
   "cell_type": "code",
   "execution_count": 4,
   "metadata": {
    "collapsed": true
   },
   "outputs": [],
   "source": [
    "## making the columns easier to work with\n",
    "round_data.columns = [col.replace(' ','_') \n",
    "                      for col in round_data.columns]"
   ]
  },
  {
   "cell_type": "code",
   "execution_count": 5,
   "metadata": {
    "collapsed": false
   },
   "outputs": [
    {
     "data": {
      "text/html": [
       "<div>\n",
       "<table border=\"1\" class=\"dataframe\">\n",
       "  <thead>\n",
       "    <tr style=\"text-align: right;\">\n",
       "      <th></th>\n",
       "      <th>Tour</th>\n",
       "      <th>Tournament_Year</th>\n",
       "      <th>Tournament_#</th>\n",
       "      <th>Permanent_Tournament_#</th>\n",
       "      <th>Course_#</th>\n",
       "      <th>Team_ID</th>\n",
       "      <th>Team_Number</th>\n",
       "      <th>Player_Number</th>\n",
       "      <th>Player_Name</th>\n",
       "      <th>Round_Number</th>\n",
       "      <th>Event_Name</th>\n",
       "      <th>Course_Name</th>\n",
       "      <th>Course_Par</th>\n",
       "      <th>Course_Yardage</th>\n",
       "      <th>Tee_Time</th>\n",
       "      <th>Round_Score</th>\n",
       "      <th>End_of_Round_Finish_Pos._(numeric)</th>\n",
       "      <th>End_of_Round_Finish_Pos._(text)</th>\n",
       "      <th>_End_of_Event_Pos._(numeric)</th>\n",
       "      <th>End_of_Event_Pos._(text)</th>\n",
       "      <th>In_Playoff</th>\n",
       "      <th>Eagles</th>\n",
       "      <th>Eagles(Rank)</th>\n",
       "      <th>Birdies</th>\n",
       "      <th>Birdies_(Rank)</th>\n",
       "      <th>Pars</th>\n",
       "      <th>Bogeys</th>\n",
       "      <th>Bogeys_(Rank)</th>\n",
       "      <th>Doubles</th>\n",
       "      <th>Others</th>\n",
       "      <th>Total_Holes_Over_Par</th>\n",
       "      <th>_Bogey_Avoidance_Rank</th>\n",
       "      <th>Longest_Drive</th>\n",
       "      <th>Longest_Drives(Rank)</th>\n",
       "      <th>Driving_Distance(Total_Distance)</th>\n",
       "      <th>Driving_Distance(Total_Drives)</th>\n",
       "      <th>Driving_Distance(Rank)</th>\n",
       "      <th>Driving_Dist._-_All_Drives(Tot._Dist.)</th>\n",
       "      <th>Driving_Dist._-_All_Drives(#_of_Drives)</th>\n",
       "      <th>Driving_Dist._-_All_Drives(Rank)</th>\n",
       "      <th>Drives_Over_300_Yards_(#_of_Drives)</th>\n",
       "      <th>Driving_Acc._%(Fairways_Hit)</th>\n",
       "      <th>Driving_Acc._%(Possible_Fairways)</th>\n",
       "      <th>Driving_Accuracy_Rank</th>\n",
       "      <th>Left_Rough_Tendency(Total_Left_Rough)</th>\n",
       "      <th>Right_Rough_Tendency(Total_Right_Rough)</th>\n",
       "      <th>App._50-75_yds(ft)</th>\n",
       "      <th>App._50-75_yds(attempts)</th>\n",
       "      <th>App._75-100_yds(ft)</th>\n",
       "      <th>App._75-100_yds(attempts)</th>\n",
       "      <th>App._100-125_yds(ft)</th>\n",
       "      <th>App._100-125_yds(attempts)</th>\n",
       "      <th>Approaches_50-125_Yards(ft)</th>\n",
       "      <th>Approaches_50-125_Yards(attempts)</th>\n",
       "      <th>Approaches_125-150_Yards(ft)</th>\n",
       "      <th>Approaches_125-150_Yards(attempts)</th>\n",
       "      <th>Approaches_150-175_Yards(ft)</th>\n",
       "      <th>Approaches_150-175_Yards(attempts)</th>\n",
       "      <th>Approaches_175-200_Yards(ft)</th>\n",
       "      <th>Approaches___175-200_Yards(attempts)</th>\n",
       "      <th>Approaches_&gt;200_Yards(ft)</th>\n",
       "      <th>Approaches_&gt;200_Yards(attempts)</th>\n",
       "      <th>App._50-75_yds(ft)_-_Rough</th>\n",
       "      <th>App._50-75_yds(attempts)_-_Rough</th>\n",
       "      <th>App._75-100_yds(ft)_-_Rough</th>\n",
       "      <th>App._75-100_yds(attempts)_-_Rough</th>\n",
       "      <th>App._100-125_yds(ft)_-_Rough</th>\n",
       "      <th>App._100-125_yds(attempts)_-_Rough</th>\n",
       "      <th>Approaches_50-125_Yards(ft)_-_Rough</th>\n",
       "      <th>Approaches_50-125_Yards(attempts)_-_Rough</th>\n",
       "      <th>Approaches_125-150_Yards(ft)_-_Rough</th>\n",
       "      <th>Approaches_125-150_Yards(attempts)_-_Rough</th>\n",
       "      <th>Approaches_150-175_Yards(ft)_-_Rough</th>\n",
       "      <th>Approaches_150-175_Yards(attempts)_-_Rough</th>\n",
       "      <th>Approaches_175-200_Yards(ft)_-_Rough</th>\n",
       "      <th>Approaches_175-200_Yards(attempts)_-_Rough</th>\n",
       "      <th>Approaches_&gt;200_Yards(ft)_-_Rough</th>\n",
       "      <th>Approaches_&gt;200_Yards(attempts)_-_Rough</th>\n",
       "      <th>Total_Holes_Played</th>\n",
       "      <th>Total_Greens_in_Regulation</th>\n",
       "      <th>GIR_Rank</th>\n",
       "      <th>Total_Distance(ft)_Prox_to_Hole</th>\n",
       "      <th>_#_of_Attempts_Prox_to_Hole</th>\n",
       "      <th>Proximity_to_Hole_(Rank)</th>\n",
       "      <th>Fairway_Prox(attempts)</th>\n",
       "      <th>Fairway_Prox(distance_in_ft)</th>\n",
       "      <th>Fairway_Prox_(Rank)</th>\n",
       "      <th>Rough_Prox(attempts)</th>\n",
       "      <th>Rough_Prox(distance_in_ft)</th>\n",
       "      <th>Rough_Prox_(Rank)</th>\n",
       "      <th>Left_Rough_Prox(attempts)</th>\n",
       "      <th>Left_Rough_Prox(distance_in_ft)</th>\n",
       "      <th>Right_Rough_Prox(attempts)</th>\n",
       "      <th>Right_Rough_Prox(distance_in_ft)</th>\n",
       "      <th>Going_for_Green(attempts)</th>\n",
       "      <th>Going_for_Green(non-attempts)</th>\n",
       "      <th>Going_for_the_Green(successes)</th>\n",
       "      <th>Scrambling_Par_or_Better</th>\n",
       "      <th>Scrambling_Missed_GIR</th>\n",
       "      <th>Scrambling_(Rank)</th>\n",
       "      <th>Scrambling_Proximity_(Total_Distance)</th>\n",
       "      <th>Scrambling_Proximity_(#_of_shots)</th>\n",
       "      <th>Scrambling_Proximity_(rank)</th>\n",
       "      <th>Scrambling_from_the_Rough(successes)</th>\n",
       "      <th>Scrambling_from_the_Rough(attempts)</th>\n",
       "      <th>Scrambling_from_the_Fringe(successes)</th>\n",
       "      <th>Scrambling_from_the_Fringe(attempts)</th>\n",
       "      <th>Scrambling_&gt;30_Yards(successes)</th>\n",
       "      <th>_Scrambling_&gt;30_Yards(attempts)</th>\n",
       "      <th>Scrambling___20-30_Yards(successes)</th>\n",
       "      <th>_Scrambling_20-30_Yards(attempts)</th>\n",
       "      <th>Scrambling_10-20_Yards(successes)</th>\n",
       "      <th>_Scrambling_10-20_Yards(attempts)</th>\n",
       "      <th>Scrambling_&lt;_10_Yards(successes)</th>\n",
       "      <th>_Scrambling_&lt;_10_Yards(attempts)</th>\n",
       "      <th>Sand_Save_%(#_Saves)</th>\n",
       "      <th>Sand_Save_%(#_Bunkers)</th>\n",
       "      <th>Sand_Save_(Rank)</th>\n",
       "      <th>Prox_to_Hole_from_Sand(Total_Distance)</th>\n",
       "      <th>_Prox_to_Hole_from_Sand(#_of_Shots)</th>\n",
       "      <th>Total_Hole_Outs</th>\n",
       "      <th>Longest_Hole_Out(yards)</th>\n",
       "      <th>Overall_Putting_Avg(#_of_Putts)</th>\n",
       "      <th>_Putting_Avg(GIR_Putts)</th>\n",
       "      <th>One-Putt_%(#_of_One_Putts)</th>\n",
       "      <th>3-Putt_Avoid(Total_3_Putts)</th>\n",
       "      <th>Approach_Putt_Performance(attempts)</th>\n",
       "      <th>Approach_Putt_Performance(ft))</th>\n",
       "      <th>Avg_Distance_of_Putts_Made(Total_Distance_of_Putts)</th>\n",
       "      <th>Putting___3'(attempts)</th>\n",
       "      <th>Putting___3'(putts_made)</th>\n",
       "      <th>Putting___4'(attempts)</th>\n",
       "      <th>Putting_4'(putts_made)</th>\n",
       "      <th>Putting_5'(attempts)</th>\n",
       "      <th>Putting_5'(putts_made)</th>\n",
       "      <th>Putting_6'(attempts)</th>\n",
       "      <th>Putting_6'(putts_made)</th>\n",
       "      <th>Putting_7'(attempts)</th>\n",
       "      <th>Putting_7'(putts_made)</th>\n",
       "      <th>Putting_8'(attempts)</th>\n",
       "      <th>Putting_8'(putts_made)</th>\n",
       "      <th>Putting___9'(attempts)</th>\n",
       "      <th>Putting_9'(putts_made)</th>\n",
       "      <th>Putting_10'(attempts)</th>\n",
       "      <th>Putting_10'(putts_made)</th>\n",
       "      <th>Putting_Inside_5'_(putts_made)</th>\n",
       "      <th>Putting_Inside_5'_(attempts)</th>\n",
       "      <th>Putting_Inside_5_Feet_(Rank)</th>\n",
       "      <th>Putting_5'_-_10'_(putts_made)</th>\n",
       "      <th>Putting_5'_-_10'_(attempts)</th>\n",
       "      <th>Putting_5'_-_10'_(Rank)</th>\n",
       "      <th>Putting_4'-8'(attempts)</th>\n",
       "      <th>Putting_4'-8'(putts_made)</th>\n",
       "      <th>Putting_4'_-_8'_(Rank)</th>\n",
       "      <th>Putting-Inside_10'(attempts)</th>\n",
       "      <th>Putting-Inside_10'(putts_made)</th>\n",
       "      <th>Putting-Inside_10'(rank)</th>\n",
       "      <th>Putting_10'-15'(attempts)</th>\n",
       "      <th>Putting___10'-15'(putts_made)</th>\n",
       "      <th>Putting_10'-15'(rank)</th>\n",
       "      <th>Putting_15-20'(attempts)</th>\n",
       "      <th>Putting_15'-20'(putts_made)</th>\n",
       "      <th>Putting_15'-20'(rank)</th>\n",
       "      <th>Putting_20'-25'(attempts)</th>\n",
       "      <th>Putting_20'-25'(putts_made)</th>\n",
       "      <th>Putting_20'-25'(rank)</th>\n",
       "      <th>Putting_&gt;25'(attempts)</th>\n",
       "      <th>Putting___&gt;25'(putts_made)</th>\n",
       "      <th>Putting___&gt;25'(rank)</th>\n",
       "      <th>Putting___&gt;_10'_(putts_made)</th>\n",
       "      <th>Putting___&gt;_10'_(attempts)</th>\n",
       "      <th>Putting___&gt;_10'_(rank)</th>\n",
       "      <th>Total_Putts_Gained</th>\n",
       "      <th>Total_SG_T2G</th>\n",
       "      <th>Total_SG_Total</th>\n",
       "      <th>OTT_SG_Avg.</th>\n",
       "      <th>APP_SG_Avg.</th>\n",
       "      <th>ARG_SG_Avg.</th>\n",
       "      <th>Unnamed:_178</th>\n",
       "    </tr>\n",
       "  </thead>\n",
       "  <tbody>\n",
       "    <tr>\n",
       "      <th>0</th>\n",
       "      <td>R</td>\n",
       "      <td>2003</td>\n",
       "      <td>10</td>\n",
       "      <td>16</td>\n",
       "      <td>656</td>\n",
       "      <td></td>\n",
       "      <td>0</td>\n",
       "      <td>1320</td>\n",
       "      <td>Estes, Bob</td>\n",
       "      <td>1</td>\n",
       "      <td>Mercedes Championships</td>\n",
       "      <td>Plantation Course at Kapalua</td>\n",
       "      <td>73</td>\n",
       "      <td>7263</td>\n",
       "      <td>11:50</td>\n",
       "      <td>66</td>\n",
       "      <td>6</td>\n",
       "      <td>T6</td>\n",
       "      <td>6</td>\n",
       "      <td>T6</td>\n",
       "      <td>NaN</td>\n",
       "      <td>0</td>\n",
       "      <td>5</td>\n",
       "      <td>8.0</td>\n",
       "      <td>2.0</td>\n",
       "      <td>9.0</td>\n",
       "      <td>1.0</td>\n",
       "      <td>10.0</td>\n",
       "      <td>NaN</td>\n",
       "      <td>NaN</td>\n",
       "      <td>1.0</td>\n",
       "      <td>7</td>\n",
       "      <td>363</td>\n",
       "      <td>29.0</td>\n",
       "      <td>558</td>\n",
       "      <td>2</td>\n",
       "      <td>27.0</td>\n",
       "      <td>2245</td>\n",
       "      <td>8</td>\n",
       "      <td>33.0</td>\n",
       "      <td>2.0</td>\n",
       "      <td>15</td>\n",
       "      <td>15</td>\n",
       "      <td>1</td>\n",
       "      <td>0</td>\n",
       "      <td>0</td>\n",
       "      <td>11.0</td>\n",
       "      <td>1</td>\n",
       "      <td>7.833</td>\n",
       "      <td>1</td>\n",
       "      <td>11.167</td>\n",
       "      <td>1</td>\n",
       "      <td>30.0</td>\n",
       "      <td>3</td>\n",
       "      <td>60.917</td>\n",
       "      <td>2</td>\n",
       "      <td>29.833</td>\n",
       "      <td>1</td>\n",
       "      <td>NaN</td>\n",
       "      <td>0</td>\n",
       "      <td>89.333</td>\n",
       "      <td>2</td>\n",
       "      <td></td>\n",
       "      <td>NaN</td>\n",
       "      <td>NaN</td>\n",
       "      <td>NaN</td>\n",
       "      <td>NaN</td>\n",
       "      <td>NaN</td>\n",
       "      <td>NaN</td>\n",
       "      <td>NaN</td>\n",
       "      <td>NaN</td>\n",
       "      <td>NaN</td>\n",
       "      <td>NaN</td>\n",
       "      <td>NaN</td>\n",
       "      <td>NaN</td>\n",
       "      <td>NaN</td>\n",
       "      <td>NaN</td>\n",
       "      <td>NaN</td>\n",
       "      <td>18</td>\n",
       "      <td>18</td>\n",
       "      <td>1.0</td>\n",
       "      <td>210.083</td>\n",
       "      <td>8</td>\n",
       "      <td>10</td>\n",
       "      <td>8</td>\n",
       "      <td>210.083</td>\n",
       "      <td>13.0</td>\n",
       "      <td>0</td>\n",
       "      <td>NaN</td>\n",
       "      <td>NaN</td>\n",
       "      <td>0</td>\n",
       "      <td>NaN</td>\n",
       "      <td>0</td>\n",
       "      <td>NaN</td>\n",
       "      <td>2</td>\n",
       "      <td>1</td>\n",
       "      <td>1</td>\n",
       "      <td>0</td>\n",
       "      <td>0</td>\n",
       "      <td>NaN</td>\n",
       "      <td>NaN</td>\n",
       "      <td>NaN</td>\n",
       "      <td>NaN</td>\n",
       "      <td>0</td>\n",
       "      <td>0</td>\n",
       "      <td>0</td>\n",
       "      <td>0</td>\n",
       "      <td>0</td>\n",
       "      <td>0</td>\n",
       "      <td>0</td>\n",
       "      <td>0</td>\n",
       "      <td>0</td>\n",
       "      <td>0</td>\n",
       "      <td>0</td>\n",
       "      <td>0</td>\n",
       "      <td>0</td>\n",
       "      <td>0</td>\n",
       "      <td>NaN</td>\n",
       "      <td></td>\n",
       "      <td>0</td>\n",
       "      <td>0</td>\n",
       "      <td>0</td>\n",
       "      <td>31</td>\n",
       "      <td>31</td>\n",
       "      <td>6</td>\n",
       "      <td>1</td>\n",
       "      <td>5</td>\n",
       "      <td>17.333</td>\n",
       "      <td>0</td>\n",
       "      <td>3</td>\n",
       "      <td>3</td>\n",
       "      <td>2</td>\n",
       "      <td>2</td>\n",
       "      <td>1</td>\n",
       "      <td>1</td>\n",
       "      <td>1</td>\n",
       "      <td>1</td>\n",
       "      <td>0</td>\n",
       "      <td>0</td>\n",
       "      <td>1</td>\n",
       "      <td>0</td>\n",
       "      <td>0</td>\n",
       "      <td>0</td>\n",
       "      <td>0</td>\n",
       "      <td>0</td>\n",
       "      <td>6.0</td>\n",
       "      <td>6.0</td>\n",
       "      <td>1.0</td>\n",
       "      <td>2.0</td>\n",
       "      <td>1</td>\n",
       "      <td>18.0</td>\n",
       "      <td>3</td>\n",
       "      <td>2</td>\n",
       "      <td>18.0</td>\n",
       "      <td>8</td>\n",
       "      <td>7</td>\n",
       "      <td>22.0</td>\n",
       "      <td>2</td>\n",
       "      <td>2</td>\n",
       "      <td>1.0</td>\n",
       "      <td>0</td>\n",
       "      <td>0</td>\n",
       "      <td>NaN</td>\n",
       "      <td>0</td>\n",
       "      <td>0</td>\n",
       "      <td>NaN</td>\n",
       "      <td>4</td>\n",
       "      <td>0</td>\n",
       "      <td>6.0</td>\n",
       "      <td>2.0</td>\n",
       "      <td>6.0</td>\n",
       "      <td>6.0</td>\n",
       "      <td>0</td>\n",
       "      <td>0</td>\n",
       "      <td>0</td>\n",
       "      <td>0</td>\n",
       "      <td>0</td>\n",
       "      <td>0</td>\n",
       "      <td>NaN</td>\n",
       "    </tr>\n",
       "    <tr>\n",
       "      <th>1</th>\n",
       "      <td>R</td>\n",
       "      <td>2003</td>\n",
       "      <td>10</td>\n",
       "      <td>16</td>\n",
       "      <td>656</td>\n",
       "      <td></td>\n",
       "      <td>0</td>\n",
       "      <td>1361</td>\n",
       "      <td>Forsman, Dan</td>\n",
       "      <td>1</td>\n",
       "      <td>Mercedes Championships</td>\n",
       "      <td>Plantation Course at Kapalua</td>\n",
       "      <td>73</td>\n",
       "      <td>7263</td>\n",
       "      <td>11:00</td>\n",
       "      <td>69</td>\n",
       "      <td>14</td>\n",
       "      <td>T14</td>\n",
       "      <td>21</td>\n",
       "      <td>T21</td>\n",
       "      <td>NaN</td>\n",
       "      <td>0</td>\n",
       "      <td>5</td>\n",
       "      <td>5.0</td>\n",
       "      <td>19.0</td>\n",
       "      <td>12.0</td>\n",
       "      <td>1.0</td>\n",
       "      <td>10.0</td>\n",
       "      <td>NaN</td>\n",
       "      <td>NaN</td>\n",
       "      <td>1.0</td>\n",
       "      <td>7</td>\n",
       "      <td>358</td>\n",
       "      <td>35.0</td>\n",
       "      <td>582</td>\n",
       "      <td>2</td>\n",
       "      <td>12.0</td>\n",
       "      <td>2330</td>\n",
       "      <td>8</td>\n",
       "      <td>17.0</td>\n",
       "      <td>3.0</td>\n",
       "      <td>12</td>\n",
       "      <td>15</td>\n",
       "      <td>5</td>\n",
       "      <td>0</td>\n",
       "      <td>0</td>\n",
       "      <td>31.5</td>\n",
       "      <td>3</td>\n",
       "      <td>NaN</td>\n",
       "      <td>0</td>\n",
       "      <td>NaN</td>\n",
       "      <td>0</td>\n",
       "      <td>31.5</td>\n",
       "      <td>3</td>\n",
       "      <td>21.583</td>\n",
       "      <td>2</td>\n",
       "      <td>NaN</td>\n",
       "      <td>0</td>\n",
       "      <td>112.667</td>\n",
       "      <td>2</td>\n",
       "      <td>101.333</td>\n",
       "      <td>1</td>\n",
       "      <td></td>\n",
       "      <td>NaN</td>\n",
       "      <td>NaN</td>\n",
       "      <td>NaN</td>\n",
       "      <td>NaN</td>\n",
       "      <td>NaN</td>\n",
       "      <td>NaN</td>\n",
       "      <td>NaN</td>\n",
       "      <td>NaN</td>\n",
       "      <td>NaN</td>\n",
       "      <td>NaN</td>\n",
       "      <td>NaN</td>\n",
       "      <td>NaN</td>\n",
       "      <td>NaN</td>\n",
       "      <td>NaN</td>\n",
       "      <td>NaN</td>\n",
       "      <td>18</td>\n",
       "      <td>17</td>\n",
       "      <td>4.0</td>\n",
       "      <td>267.083</td>\n",
       "      <td>8</td>\n",
       "      <td>18</td>\n",
       "      <td>8</td>\n",
       "      <td>267.083</td>\n",
       "      <td>21.0</td>\n",
       "      <td>0</td>\n",
       "      <td>NaN</td>\n",
       "      <td>NaN</td>\n",
       "      <td>0</td>\n",
       "      <td>NaN</td>\n",
       "      <td>0</td>\n",
       "      <td>NaN</td>\n",
       "      <td>2</td>\n",
       "      <td>1</td>\n",
       "      <td>0</td>\n",
       "      <td>1</td>\n",
       "      <td>1</td>\n",
       "      <td>1.0</td>\n",
       "      <td>NaN</td>\n",
       "      <td>NaN</td>\n",
       "      <td>NaN</td>\n",
       "      <td>0</td>\n",
       "      <td>0</td>\n",
       "      <td>1</td>\n",
       "      <td>1</td>\n",
       "      <td>0</td>\n",
       "      <td>0</td>\n",
       "      <td>0</td>\n",
       "      <td>0</td>\n",
       "      <td>0</td>\n",
       "      <td>0</td>\n",
       "      <td>0</td>\n",
       "      <td>0</td>\n",
       "      <td>0</td>\n",
       "      <td>1</td>\n",
       "      <td>9.0</td>\n",
       "      <td></td>\n",
       "      <td>0</td>\n",
       "      <td>0</td>\n",
       "      <td>0</td>\n",
       "      <td>31</td>\n",
       "      <td>30</td>\n",
       "      <td>6</td>\n",
       "      <td>1</td>\n",
       "      <td>5</td>\n",
       "      <td>11.917</td>\n",
       "      <td>0</td>\n",
       "      <td>4</td>\n",
       "      <td>4</td>\n",
       "      <td>2</td>\n",
       "      <td>2</td>\n",
       "      <td>0</td>\n",
       "      <td>0</td>\n",
       "      <td>2</td>\n",
       "      <td>1</td>\n",
       "      <td>1</td>\n",
       "      <td>0</td>\n",
       "      <td>0</td>\n",
       "      <td>0</td>\n",
       "      <td>0</td>\n",
       "      <td>0</td>\n",
       "      <td>0</td>\n",
       "      <td>0</td>\n",
       "      <td>6.0</td>\n",
       "      <td>6.0</td>\n",
       "      <td>1.0</td>\n",
       "      <td>3.0</td>\n",
       "      <td>1</td>\n",
       "      <td>28.0</td>\n",
       "      <td>3</td>\n",
       "      <td>1</td>\n",
       "      <td>26.0</td>\n",
       "      <td>9</td>\n",
       "      <td>7</td>\n",
       "      <td>34.0</td>\n",
       "      <td>3</td>\n",
       "      <td>2</td>\n",
       "      <td>7.0</td>\n",
       "      <td>0</td>\n",
       "      <td>0</td>\n",
       "      <td>NaN</td>\n",
       "      <td>0</td>\n",
       "      <td>0</td>\n",
       "      <td>NaN</td>\n",
       "      <td>2</td>\n",
       "      <td>0</td>\n",
       "      <td>6.0</td>\n",
       "      <td>2.0</td>\n",
       "      <td>5.0</td>\n",
       "      <td>4.0</td>\n",
       "      <td>0</td>\n",
       "      <td>0</td>\n",
       "      <td>0</td>\n",
       "      <td>0</td>\n",
       "      <td>0</td>\n",
       "      <td>0</td>\n",
       "      <td>NaN</td>\n",
       "    </tr>\n",
       "    <tr>\n",
       "      <th>2</th>\n",
       "      <td>R</td>\n",
       "      <td>2003</td>\n",
       "      <td>10</td>\n",
       "      <td>16</td>\n",
       "      <td>656</td>\n",
       "      <td></td>\n",
       "      <td>0</td>\n",
       "      <td>1761</td>\n",
       "      <td>Mattiace, Len</td>\n",
       "      <td>1</td>\n",
       "      <td>Mercedes Championships</td>\n",
       "      <td>Plantation Course at Kapalua</td>\n",
       "      <td>73</td>\n",
       "      <td>7263</td>\n",
       "      <td>13:00</td>\n",
       "      <td>75</td>\n",
       "      <td>36</td>\n",
       "      <td>36</td>\n",
       "      <td>24</td>\n",
       "      <td>24</td>\n",
       "      <td>NaN</td>\n",
       "      <td>0</td>\n",
       "      <td>5</td>\n",
       "      <td>2.0</td>\n",
       "      <td>34.0</td>\n",
       "      <td>13.0</td>\n",
       "      <td>2.0</td>\n",
       "      <td>25.0</td>\n",
       "      <td>1.0</td>\n",
       "      <td>NaN</td>\n",
       "      <td>3.0</td>\n",
       "      <td>29</td>\n",
       "      <td>314</td>\n",
       "      <td>81.0</td>\n",
       "      <td>591</td>\n",
       "      <td>2</td>\n",
       "      <td>9.0</td>\n",
       "      <td>2292</td>\n",
       "      <td>8</td>\n",
       "      <td>24.0</td>\n",
       "      <td>3.0</td>\n",
       "      <td>8</td>\n",
       "      <td>15</td>\n",
       "      <td>32</td>\n",
       "      <td>2</td>\n",
       "      <td>0</td>\n",
       "      <td>NaN</td>\n",
       "      <td>0</td>\n",
       "      <td>11.917</td>\n",
       "      <td>1</td>\n",
       "      <td>7.583</td>\n",
       "      <td>1</td>\n",
       "      <td>19.5</td>\n",
       "      <td>2</td>\n",
       "      <td>NaN</td>\n",
       "      <td>0</td>\n",
       "      <td>NaN</td>\n",
       "      <td>0</td>\n",
       "      <td>28.333</td>\n",
       "      <td>1</td>\n",
       "      <td>72.667</td>\n",
       "      <td>1</td>\n",
       "      <td></td>\n",
       "      <td>NaN</td>\n",
       "      <td>25.5</td>\n",
       "      <td>1.0</td>\n",
       "      <td>77.833</td>\n",
       "      <td>2.0</td>\n",
       "      <td>103.333</td>\n",
       "      <td>3.0</td>\n",
       "      <td>NaN</td>\n",
       "      <td>NaN</td>\n",
       "      <td>NaN</td>\n",
       "      <td>NaN</td>\n",
       "      <td>NaN</td>\n",
       "      <td>NaN</td>\n",
       "      <td>NaN</td>\n",
       "      <td>NaN</td>\n",
       "      <td>18</td>\n",
       "      <td>13</td>\n",
       "      <td>31.0</td>\n",
       "      <td>223.833</td>\n",
       "      <td>7</td>\n",
       "      <td>17</td>\n",
       "      <td>4</td>\n",
       "      <td>120.5</td>\n",
       "      <td>18.0</td>\n",
       "      <td>3</td>\n",
       "      <td>103.333</td>\n",
       "      <td>17.0</td>\n",
       "      <td>3</td>\n",
       "      <td>103.333</td>\n",
       "      <td>0</td>\n",
       "      <td>NaN</td>\n",
       "      <td>2</td>\n",
       "      <td>1</td>\n",
       "      <td>0</td>\n",
       "      <td>2</td>\n",
       "      <td>5</td>\n",
       "      <td>22.0</td>\n",
       "      <td>NaN</td>\n",
       "      <td>NaN</td>\n",
       "      <td>NaN</td>\n",
       "      <td>0</td>\n",
       "      <td>2</td>\n",
       "      <td>1</td>\n",
       "      <td>1</td>\n",
       "      <td>0</td>\n",
       "      <td>1</td>\n",
       "      <td>0</td>\n",
       "      <td>0</td>\n",
       "      <td>0</td>\n",
       "      <td>0</td>\n",
       "      <td>0</td>\n",
       "      <td>0</td>\n",
       "      <td>1</td>\n",
       "      <td>1</td>\n",
       "      <td>1.0</td>\n",
       "      <td>7.583</td>\n",
       "      <td>1</td>\n",
       "      <td>0</td>\n",
       "      <td>0</td>\n",
       "      <td>32</td>\n",
       "      <td>24</td>\n",
       "      <td>4</td>\n",
       "      <td>0</td>\n",
       "      <td>8</td>\n",
       "      <td>25.250</td>\n",
       "      <td>0</td>\n",
       "      <td>4</td>\n",
       "      <td>4</td>\n",
       "      <td>2</td>\n",
       "      <td>2</td>\n",
       "      <td>0</td>\n",
       "      <td>0</td>\n",
       "      <td>0</td>\n",
       "      <td>0</td>\n",
       "      <td>3</td>\n",
       "      <td>2</td>\n",
       "      <td>2</td>\n",
       "      <td>1</td>\n",
       "      <td>0</td>\n",
       "      <td>0</td>\n",
       "      <td>0</td>\n",
       "      <td>0</td>\n",
       "      <td>6.0</td>\n",
       "      <td>6.0</td>\n",
       "      <td>1.0</td>\n",
       "      <td>5.0</td>\n",
       "      <td>3</td>\n",
       "      <td>17.0</td>\n",
       "      <td>5</td>\n",
       "      <td>3</td>\n",
       "      <td>22.0</td>\n",
       "      <td>11</td>\n",
       "      <td>9</td>\n",
       "      <td>27.0</td>\n",
       "      <td>1</td>\n",
       "      <td>0</td>\n",
       "      <td>16.0</td>\n",
       "      <td>1</td>\n",
       "      <td>0</td>\n",
       "      <td>9.0</td>\n",
       "      <td>1</td>\n",
       "      <td>0</td>\n",
       "      <td>7.0</td>\n",
       "      <td>3</td>\n",
       "      <td>0</td>\n",
       "      <td>6.0</td>\n",
       "      <td>NaN</td>\n",
       "      <td>6.0</td>\n",
       "      <td>24.0</td>\n",
       "      <td>0</td>\n",
       "      <td>0</td>\n",
       "      <td>0</td>\n",
       "      <td>0</td>\n",
       "      <td>0</td>\n",
       "      <td>0</td>\n",
       "      <td>NaN</td>\n",
       "    </tr>\n",
       "  </tbody>\n",
       "</table>\n",
       "</div>"
      ],
      "text/plain": [
       "  Tour  Tournament_Year  Tournament_#  Permanent_Tournament_#  Course_#  \\\n",
       "0    R             2003            10                      16       656   \n",
       "1    R             2003            10                      16       656   \n",
       "2    R             2003            10                      16       656   \n",
       "\n",
       "  Team_ID  Team_Number  Player_Number    Player_Name  Round_Number  \\\n",
       "0                    0           1320     Estes, Bob             1   \n",
       "1                    0           1361   Forsman, Dan             1   \n",
       "2                    0           1761  Mattiace, Len             1   \n",
       "\n",
       "               Event_Name                   Course_Name  Course_Par  \\\n",
       "0  Mercedes Championships  Plantation Course at Kapalua          73   \n",
       "1  Mercedes Championships  Plantation Course at Kapalua          73   \n",
       "2  Mercedes Championships  Plantation Course at Kapalua          73   \n",
       "\n",
       "   Course_Yardage Tee_Time  Round_Score  End_of_Round_Finish_Pos._(numeric)  \\\n",
       "0            7263    11:50           66                                   6   \n",
       "1            7263    11:00           69                                  14   \n",
       "2            7263    13:00           75                                  36   \n",
       "\n",
       "  End_of_Round_Finish_Pos._(text)  _End_of_Event_Pos._(numeric)  \\\n",
       "0                              T6                             6   \n",
       "1                             T14                            21   \n",
       "2                              36                            24   \n",
       "\n",
       "  End_of_Event_Pos._(text) In_Playoff  Eagles Eagles(Rank)  Birdies  \\\n",
       "0                       T6        NaN       0            5      8.0   \n",
       "1                      T21        NaN       0            5      5.0   \n",
       "2                       24        NaN       0            5      2.0   \n",
       "\n",
       "   Birdies_(Rank)  Pars  Bogeys  Bogeys_(Rank)  Doubles  Others  \\\n",
       "0             2.0   9.0     1.0           10.0      NaN     NaN   \n",
       "1            19.0  12.0     1.0           10.0      NaN     NaN   \n",
       "2            34.0  13.0     2.0           25.0      1.0     NaN   \n",
       "\n",
       "   Total_Holes_Over_Par  _Bogey_Avoidance_Rank  Longest_Drive  \\\n",
       "0                   1.0                      7            363   \n",
       "1                   1.0                      7            358   \n",
       "2                   3.0                     29            314   \n",
       "\n",
       "   Longest_Drives(Rank)  Driving_Distance(Total_Distance)  \\\n",
       "0                  29.0                               558   \n",
       "1                  35.0                               582   \n",
       "2                  81.0                               591   \n",
       "\n",
       "   Driving_Distance(Total_Drives)  Driving_Distance(Rank)  \\\n",
       "0                               2                    27.0   \n",
       "1                               2                    12.0   \n",
       "2                               2                     9.0   \n",
       "\n",
       "   Driving_Dist._-_All_Drives(Tot._Dist.)  \\\n",
       "0                                    2245   \n",
       "1                                    2330   \n",
       "2                                    2292   \n",
       "\n",
       "   Driving_Dist._-_All_Drives(#_of_Drives)  Driving_Dist._-_All_Drives(Rank)  \\\n",
       "0                                        8                              33.0   \n",
       "1                                        8                              17.0   \n",
       "2                                        8                              24.0   \n",
       "\n",
       "   Drives_Over_300_Yards_(#_of_Drives)  Driving_Acc._%(Fairways_Hit)  \\\n",
       "0                                  2.0                            15   \n",
       "1                                  3.0                            12   \n",
       "2                                  3.0                             8   \n",
       "\n",
       "   Driving_Acc._%(Possible_Fairways) Driving_Accuracy_Rank  \\\n",
       "0                                 15                     1   \n",
       "1                                 15                     5   \n",
       "2                                 15                    32   \n",
       "\n",
       "   Left_Rough_Tendency(Total_Left_Rough)  \\\n",
       "0                                      0   \n",
       "1                                      0   \n",
       "2                                      2   \n",
       "\n",
       "   Right_Rough_Tendency(Total_Right_Rough)  App._50-75_yds(ft)  \\\n",
       "0                                        0                11.0   \n",
       "1                                        0                31.5   \n",
       "2                                        0                 NaN   \n",
       "\n",
       "   App._50-75_yds(attempts)  App._75-100_yds(ft)  App._75-100_yds(attempts)  \\\n",
       "0                         1                7.833                          1   \n",
       "1                         3                  NaN                          0   \n",
       "2                         0               11.917                          1   \n",
       "\n",
       "   App._100-125_yds(ft)  App._100-125_yds(attempts)  \\\n",
       "0                11.167                           1   \n",
       "1                   NaN                           0   \n",
       "2                 7.583                           1   \n",
       "\n",
       "   Approaches_50-125_Yards(ft)  Approaches_50-125_Yards(attempts)  \\\n",
       "0                         30.0                                  3   \n",
       "1                         31.5                                  3   \n",
       "2                         19.5                                  2   \n",
       "\n",
       "  Approaches_125-150_Yards(ft)  Approaches_125-150_Yards(attempts)  \\\n",
       "0                       60.917                                   2   \n",
       "1                       21.583                                   2   \n",
       "2                          NaN                                   0   \n",
       "\n",
       "   Approaches_150-175_Yards(ft)  Approaches_150-175_Yards(attempts)  \\\n",
       "0                        29.833                                   1   \n",
       "1                           NaN                                   0   \n",
       "2                           NaN                                   0   \n",
       "\n",
       "   Approaches_175-200_Yards(ft)  Approaches___175-200_Yards(attempts)  \\\n",
       "0                           NaN                                     0   \n",
       "1                       112.667                                     2   \n",
       "2                        28.333                                     1   \n",
       "\n",
       "   Approaches_>200_Yards(ft)  Approaches_>200_Yards(attempts)  \\\n",
       "0                     89.333                                2   \n",
       "1                    101.333                                1   \n",
       "2                     72.667                                1   \n",
       "\n",
       "  App._50-75_yds(ft)_-_Rough  App._50-75_yds(attempts)_-_Rough  \\\n",
       "0                                                          NaN   \n",
       "1                                                          NaN   \n",
       "2                                                          NaN   \n",
       "\n",
       "   App._75-100_yds(ft)_-_Rough  App._75-100_yds(attempts)_-_Rough  \\\n",
       "0                          NaN                                NaN   \n",
       "1                          NaN                                NaN   \n",
       "2                         25.5                                1.0   \n",
       "\n",
       "   App._100-125_yds(ft)_-_Rough  App._100-125_yds(attempts)_-_Rough  \\\n",
       "0                           NaN                                 NaN   \n",
       "1                           NaN                                 NaN   \n",
       "2                        77.833                                 2.0   \n",
       "\n",
       "   Approaches_50-125_Yards(ft)_-_Rough  \\\n",
       "0                                  NaN   \n",
       "1                                  NaN   \n",
       "2                              103.333   \n",
       "\n",
       "   Approaches_50-125_Yards(attempts)_-_Rough  \\\n",
       "0                                        NaN   \n",
       "1                                        NaN   \n",
       "2                                        3.0   \n",
       "\n",
       "   Approaches_125-150_Yards(ft)_-_Rough  \\\n",
       "0                                   NaN   \n",
       "1                                   NaN   \n",
       "2                                   NaN   \n",
       "\n",
       "   Approaches_125-150_Yards(attempts)_-_Rough  \\\n",
       "0                                         NaN   \n",
       "1                                         NaN   \n",
       "2                                         NaN   \n",
       "\n",
       "   Approaches_150-175_Yards(ft)_-_Rough  \\\n",
       "0                                   NaN   \n",
       "1                                   NaN   \n",
       "2                                   NaN   \n",
       "\n",
       "   Approaches_150-175_Yards(attempts)_-_Rough  \\\n",
       "0                                         NaN   \n",
       "1                                         NaN   \n",
       "2                                         NaN   \n",
       "\n",
       "   Approaches_175-200_Yards(ft)_-_Rough  \\\n",
       "0                                   NaN   \n",
       "1                                   NaN   \n",
       "2                                   NaN   \n",
       "\n",
       "   Approaches_175-200_Yards(attempts)_-_Rough  \\\n",
       "0                                         NaN   \n",
       "1                                         NaN   \n",
       "2                                         NaN   \n",
       "\n",
       "   Approaches_>200_Yards(ft)_-_Rough  Approaches_>200_Yards(attempts)_-_Rough  \\\n",
       "0                                NaN                                      NaN   \n",
       "1                                NaN                                      NaN   \n",
       "2                                NaN                                      NaN   \n",
       "\n",
       "   Total_Holes_Played  Total_Greens_in_Regulation  GIR_Rank  \\\n",
       "0                  18                          18       1.0   \n",
       "1                  18                          17       4.0   \n",
       "2                  18                          13      31.0   \n",
       "\n",
       "  Total_Distance(ft)_Prox_to_Hole  _#_of_Attempts_Prox_to_Hole  \\\n",
       "0                         210.083                            8   \n",
       "1                         267.083                            8   \n",
       "2                         223.833                            7   \n",
       "\n",
       "  Proximity_to_Hole_(Rank)  Fairway_Prox(attempts)  \\\n",
       "0                       10                       8   \n",
       "1                       18                       8   \n",
       "2                       17                       4   \n",
       "\n",
       "  Fairway_Prox(distance_in_ft)  Fairway_Prox_(Rank)  Rough_Prox(attempts)  \\\n",
       "0                      210.083                 13.0                     0   \n",
       "1                      267.083                 21.0                     0   \n",
       "2                        120.5                 18.0                     3   \n",
       "\n",
       "   Rough_Prox(distance_in_ft)  Rough_Prox_(Rank)  Left_Rough_Prox(attempts)  \\\n",
       "0                         NaN                NaN                          0   \n",
       "1                         NaN                NaN                          0   \n",
       "2                     103.333               17.0                          3   \n",
       "\n",
       "   Left_Rough_Prox(distance_in_ft)  Right_Rough_Prox(attempts)  \\\n",
       "0                              NaN                           0   \n",
       "1                              NaN                           0   \n",
       "2                          103.333                           0   \n",
       "\n",
       "   Right_Rough_Prox(distance_in_ft)  Going_for_Green(attempts)  \\\n",
       "0                               NaN                          2   \n",
       "1                               NaN                          2   \n",
       "2                               NaN                          2   \n",
       "\n",
       "   Going_for_Green(non-attempts)  Going_for_the_Green(successes)  \\\n",
       "0                              1                               1   \n",
       "1                              1                               0   \n",
       "2                              1                               0   \n",
       "\n",
       "   Scrambling_Par_or_Better  Scrambling_Missed_GIR  Scrambling_(Rank)  \\\n",
       "0                         0                      0                NaN   \n",
       "1                         1                      1                1.0   \n",
       "2                         2                      5               22.0   \n",
       "\n",
       "   Scrambling_Proximity_(Total_Distance)  Scrambling_Proximity_(#_of_shots)  \\\n",
       "0                                    NaN                                NaN   \n",
       "1                                    NaN                                NaN   \n",
       "2                                    NaN                                NaN   \n",
       "\n",
       "   Scrambling_Proximity_(rank)  Scrambling_from_the_Rough(successes)  \\\n",
       "0                          NaN                                     0   \n",
       "1                          NaN                                     0   \n",
       "2                          NaN                                     0   \n",
       "\n",
       "   Scrambling_from_the_Rough(attempts)  Scrambling_from_the_Fringe(successes)  \\\n",
       "0                                    0                                      0   \n",
       "1                                    0                                      1   \n",
       "2                                    2                                      1   \n",
       "\n",
       "   Scrambling_from_the_Fringe(attempts)  Scrambling_>30_Yards(successes)  \\\n",
       "0                                     0                                0   \n",
       "1                                     1                                0   \n",
       "2                                     1                                0   \n",
       "\n",
       "   _Scrambling_>30_Yards(attempts)  Scrambling___20-30_Yards(successes)  \\\n",
       "0                                0                                    0   \n",
       "1                                0                                    0   \n",
       "2                                1                                    0   \n",
       "\n",
       "   _Scrambling_20-30_Yards(attempts)  Scrambling_10-20_Yards(successes)  \\\n",
       "0                                  0                                  0   \n",
       "1                                  0                                  0   \n",
       "2                                  0                                  0   \n",
       "\n",
       "   _Scrambling_10-20_Yards(attempts)  Scrambling_<_10_Yards(successes)  \\\n",
       "0                                  0                                 0   \n",
       "1                                  0                                 0   \n",
       "2                                  0                                 0   \n",
       "\n",
       "   _Scrambling_<_10_Yards(attempts)  Sand_Save_%(#_Saves)  \\\n",
       "0                                 0                     0   \n",
       "1                                 0                     0   \n",
       "2                                 0                     1   \n",
       "\n",
       "   Sand_Save_%(#_Bunkers)  Sand_Save_(Rank)  \\\n",
       "0                       0               NaN   \n",
       "1                       1               9.0   \n",
       "2                       1               1.0   \n",
       "\n",
       "  Prox_to_Hole_from_Sand(Total_Distance)  _Prox_to_Hole_from_Sand(#_of_Shots)  \\\n",
       "0                                                                           0   \n",
       "1                                                                           0   \n",
       "2                                  7.583                                    1   \n",
       "\n",
       "   Total_Hole_Outs  Longest_Hole_Out(yards)  Overall_Putting_Avg(#_of_Putts)  \\\n",
       "0                0                        0                               31   \n",
       "1                0                        0                               31   \n",
       "2                0                        0                               32   \n",
       "\n",
       "   _Putting_Avg(GIR_Putts)  One-Putt_%(#_of_One_Putts)  \\\n",
       "0                       31                           6   \n",
       "1                       30                           6   \n",
       "2                       24                           4   \n",
       "\n",
       "   3-Putt_Avoid(Total_3_Putts)  Approach_Putt_Performance(attempts)  \\\n",
       "0                            1                                    5   \n",
       "1                            1                                    5   \n",
       "2                            0                                    8   \n",
       "\n",
       "   Approach_Putt_Performance(ft))  \\\n",
       "0                          17.333   \n",
       "1                          11.917   \n",
       "2                          25.250   \n",
       "\n",
       "   Avg_Distance_of_Putts_Made(Total_Distance_of_Putts)  \\\n",
       "0                                                  0     \n",
       "1                                                  0     \n",
       "2                                                  0     \n",
       "\n",
       "   Putting___3'(attempts)  Putting___3'(putts_made)  Putting___4'(attempts)  \\\n",
       "0                       3                         3                       2   \n",
       "1                       4                         4                       2   \n",
       "2                       4                         4                       2   \n",
       "\n",
       "   Putting_4'(putts_made)  Putting_5'(attempts)  Putting_5'(putts_made)  \\\n",
       "0                       2                     1                       1   \n",
       "1                       2                     0                       0   \n",
       "2                       2                     0                       0   \n",
       "\n",
       "   Putting_6'(attempts)  Putting_6'(putts_made)  Putting_7'(attempts)  \\\n",
       "0                     1                       1                     0   \n",
       "1                     2                       1                     1   \n",
       "2                     0                       0                     3   \n",
       "\n",
       "   Putting_7'(putts_made)  Putting_8'(attempts)  Putting_8'(putts_made)  \\\n",
       "0                       0                     1                       0   \n",
       "1                       0                     0                       0   \n",
       "2                       2                     2                       1   \n",
       "\n",
       "   Putting___9'(attempts)  Putting_9'(putts_made)  Putting_10'(attempts)  \\\n",
       "0                       0                       0                      0   \n",
       "1                       0                       0                      0   \n",
       "2                       0                       0                      0   \n",
       "\n",
       "   Putting_10'(putts_made)  Putting_Inside_5'_(putts_made)  \\\n",
       "0                        0                             6.0   \n",
       "1                        0                             6.0   \n",
       "2                        0                             6.0   \n",
       "\n",
       "   Putting_Inside_5'_(attempts)  Putting_Inside_5_Feet_(Rank)  \\\n",
       "0                           6.0                           1.0   \n",
       "1                           6.0                           1.0   \n",
       "2                           6.0                           1.0   \n",
       "\n",
       "   Putting_5'_-_10'_(putts_made) Putting_5'_-_10'_(attempts)  \\\n",
       "0                            2.0                           1   \n",
       "1                            3.0                           1   \n",
       "2                            5.0                           3   \n",
       "\n",
       "   Putting_5'_-_10'_(Rank)  Putting_4'-8'(attempts)  \\\n",
       "0                     18.0                        3   \n",
       "1                     28.0                        3   \n",
       "2                     17.0                        5   \n",
       "\n",
       "   Putting_4'-8'(putts_made)  Putting_4'_-_8'_(Rank)  \\\n",
       "0                          2                    18.0   \n",
       "1                          1                    26.0   \n",
       "2                          3                    22.0   \n",
       "\n",
       "   Putting-Inside_10'(attempts)  Putting-Inside_10'(putts_made)  \\\n",
       "0                             8                               7   \n",
       "1                             9                               7   \n",
       "2                            11                               9   \n",
       "\n",
       "   Putting-Inside_10'(rank)  Putting_10'-15'(attempts)  \\\n",
       "0                      22.0                          2   \n",
       "1                      34.0                          3   \n",
       "2                      27.0                          1   \n",
       "\n",
       "   Putting___10'-15'(putts_made)  Putting_10'-15'(rank)  \\\n",
       "0                              2                    1.0   \n",
       "1                              2                    7.0   \n",
       "2                              0                   16.0   \n",
       "\n",
       "   Putting_15-20'(attempts)  Putting_15'-20'(putts_made)  \\\n",
       "0                         0                            0   \n",
       "1                         0                            0   \n",
       "2                         1                            0   \n",
       "\n",
       "   Putting_15'-20'(rank)  Putting_20'-25'(attempts)  \\\n",
       "0                    NaN                          0   \n",
       "1                    NaN                          0   \n",
       "2                    9.0                          1   \n",
       "\n",
       "   Putting_20'-25'(putts_made)  Putting_20'-25'(rank)  Putting_>25'(attempts)  \\\n",
       "0                            0                    NaN                       4   \n",
       "1                            0                    NaN                       2   \n",
       "2                            0                    7.0                       3   \n",
       "\n",
       "   Putting___>25'(putts_made)  Putting___>25'(rank)  \\\n",
       "0                           0                   6.0   \n",
       "1                           0                   6.0   \n",
       "2                           0                   6.0   \n",
       "\n",
       "   Putting___>_10'_(putts_made)  Putting___>_10'_(attempts)  \\\n",
       "0                           2.0                         6.0   \n",
       "1                           2.0                         5.0   \n",
       "2                           NaN                         6.0   \n",
       "\n",
       "   Putting___>_10'_(rank) Total_Putts_Gained Total_SG_T2G Total_SG_Total  \\\n",
       "0                     6.0                  0            0              0   \n",
       "1                     4.0                  0            0              0   \n",
       "2                    24.0                  0            0              0   \n",
       "\n",
       "  OTT_SG_Avg. APP_SG_Avg. ARG_SG_Avg.  Unnamed:_178  \n",
       "0           0           0           0           NaN  \n",
       "1           0           0           0           NaN  \n",
       "2           0           0           0           NaN  "
      ]
     },
     "execution_count": 5,
     "metadata": {},
     "output_type": "execute_result"
    }
   ],
   "source": [
    "## look at the first 3 rows\n",
    "round_data.head(3)"
   ]
  },
  {
   "cell_type": "markdown",
   "metadata": {},
   "source": [
    "Alright, that is a lot of columns! We probably only need a handful of them so I will choose some of them and delete the rest."
   ]
  },
  {
   "cell_type": "code",
   "execution_count": 6,
   "metadata": {
    "collapsed": true
   },
   "outputs": [],
   "source": [
    "round_cols = ['Tournament_Year','Permanent_Tournament_#','Event_Name',\n",
    "              'Course_#','Course_Name','Player_Number','Player_Name',\n",
    "              'Round_Number','Tee_Time','Round_Score',\n",
    "              'End_of_Round_Finish_Pos._(text)']\n",
    "for col in round_data.columns:\n",
    "    if col in round_cols:\n",
    "        continue\n",
    "    del round_data[col]"
   ]
  },
  {
   "cell_type": "code",
   "execution_count": 7,
   "metadata": {
    "collapsed": false
   },
   "outputs": [
    {
     "data": {
      "text/plain": [
       "(261539, 11)"
      ]
     },
     "execution_count": 7,
     "metadata": {},
     "output_type": "execute_result"
    }
   ],
   "source": [
    "## new dimensions\n",
    "round_data.shape"
   ]
  },
  {
   "cell_type": "code",
   "execution_count": 8,
   "metadata": {
    "collapsed": false
   },
   "outputs": [
    {
     "data": {
      "text/html": [
       "<div>\n",
       "<table border=\"1\" class=\"dataframe\">\n",
       "  <thead>\n",
       "    <tr style=\"text-align: right;\">\n",
       "      <th></th>\n",
       "      <th>Tournament_Year</th>\n",
       "      <th>Permanent_Tournament_#</th>\n",
       "      <th>Course_#</th>\n",
       "      <th>Player_Number</th>\n",
       "      <th>Player_Name</th>\n",
       "      <th>Round_Number</th>\n",
       "      <th>Event_Name</th>\n",
       "      <th>Course_Name</th>\n",
       "      <th>Tee_Time</th>\n",
       "      <th>Round_Score</th>\n",
       "      <th>End_of_Round_Finish_Pos._(text)</th>\n",
       "    </tr>\n",
       "  </thead>\n",
       "  <tbody>\n",
       "    <tr>\n",
       "      <th>0</th>\n",
       "      <td>2003</td>\n",
       "      <td>16</td>\n",
       "      <td>656</td>\n",
       "      <td>1320</td>\n",
       "      <td>Estes, Bob</td>\n",
       "      <td>1</td>\n",
       "      <td>Mercedes Championships</td>\n",
       "      <td>Plantation Course at Kapalua</td>\n",
       "      <td>11:50</td>\n",
       "      <td>66</td>\n",
       "      <td>T6</td>\n",
       "    </tr>\n",
       "    <tr>\n",
       "      <th>1</th>\n",
       "      <td>2003</td>\n",
       "      <td>16</td>\n",
       "      <td>656</td>\n",
       "      <td>1361</td>\n",
       "      <td>Forsman, Dan</td>\n",
       "      <td>1</td>\n",
       "      <td>Mercedes Championships</td>\n",
       "      <td>Plantation Course at Kapalua</td>\n",
       "      <td>11:00</td>\n",
       "      <td>69</td>\n",
       "      <td>T14</td>\n",
       "    </tr>\n",
       "    <tr>\n",
       "      <th>2</th>\n",
       "      <td>2003</td>\n",
       "      <td>16</td>\n",
       "      <td>656</td>\n",
       "      <td>1761</td>\n",
       "      <td>Mattiace, Len</td>\n",
       "      <td>1</td>\n",
       "      <td>Mercedes Championships</td>\n",
       "      <td>Plantation Course at Kapalua</td>\n",
       "      <td>13:00</td>\n",
       "      <td>75</td>\n",
       "      <td>36</td>\n",
       "    </tr>\n",
       "  </tbody>\n",
       "</table>\n",
       "</div>"
      ],
      "text/plain": [
       "   Tournament_Year  Permanent_Tournament_#  Course_#  Player_Number  \\\n",
       "0             2003                      16       656           1320   \n",
       "1             2003                      16       656           1361   \n",
       "2             2003                      16       656           1761   \n",
       "\n",
       "     Player_Name  Round_Number              Event_Name  \\\n",
       "0     Estes, Bob             1  Mercedes Championships   \n",
       "1   Forsman, Dan             1  Mercedes Championships   \n",
       "2  Mattiace, Len             1  Mercedes Championships   \n",
       "\n",
       "                    Course_Name Tee_Time  Round_Score  \\\n",
       "0  Plantation Course at Kapalua    11:50           66   \n",
       "1  Plantation Course at Kapalua    11:00           69   \n",
       "2  Plantation Course at Kapalua    13:00           75   \n",
       "\n",
       "  End_of_Round_Finish_Pos._(text)  \n",
       "0                              T6  \n",
       "1                             T14  \n",
       "2                              36  "
      ]
     },
     "execution_count": 8,
     "metadata": {},
     "output_type": "execute_result"
    }
   ],
   "source": [
    "## first three rows\n",
    "round_data.head(3)"
   ]
  },
  {
   "cell_type": "markdown",
   "metadata": {},
   "source": [
    "Ok now, there is a slight problem. We have the tee times for each player but to know which groups the players were in, we actually need to know what hole they started on as well. I will demonstrate this fact by doing a groupby. But first, we need to do a quality check on the *Tee_Time* field."
   ]
  },
  {
   "cell_type": "code",
   "execution_count": 9,
   "metadata": {
    "collapsed": false
   },
   "outputs": [
    {
     "data": {
      "text/plain": [
       "00:00    12\n",
       "05:00     5\n",
       "05:10     6\n",
       "Name: Tee_Time, dtype: int64"
      ]
     },
     "execution_count": 9,
     "metadata": {},
     "output_type": "execute_result"
    }
   ],
   "source": [
    "## value counts of 'earliest' tee times\n",
    "round_data.Tee_Time.value_counts().sort_index().head(3)"
   ]
  },
  {
   "cell_type": "code",
   "execution_count": 10,
   "metadata": {
    "collapsed": false
   },
   "outputs": [
    {
     "data": {
      "text/plain": [
       "21:30      6\n",
       "21:40      6\n",
       "99:99    273\n",
       "Name: Tee_Time, dtype: int64"
      ]
     },
     "execution_count": 10,
     "metadata": {},
     "output_type": "execute_result"
    }
   ],
   "source": [
    "## value counts of 'latest' tee times\n",
    "round_data.Tee_Time.value_counts().sort_index().tail(3)"
   ]
  },
  {
   "cell_type": "code",
   "execution_count": 11,
   "metadata": {
    "collapsed": false
   },
   "outputs": [
    {
     "name": "stdout",
     "output_type": "stream",
     "text": [
      "Tournament_Year  Event_Name        \n",
      "2003             Masters Tournament    10\n",
      "2006             The INTERNATIONAL      2\n",
      "dtype: int64\n",
      "Tournament_Year  Event_Name        \n",
      "2003             Masters Tournament    273\n",
      "dtype: int64\n"
     ]
    }
   ],
   "source": [
    "## what is with the tee times and midnight and some made up time 99:99?\n",
    "print round_data[round_data['Tee_Time']=='00:00']\\\n",
    "[['Tournament_Year','Event_Name']]\\\n",
    ".groupby(['Tournament_Year','Event_Name']).size()\n",
    "\n",
    "print round_data[round_data['Tee_Time']=='99:99']\\\n",
    "[['Tournament_Year','Event_Name']]\\\n",
    ".groupby(['Tournament_Year','Event_Name']).size()"
   ]
  },
  {
   "cell_type": "code",
   "execution_count": 12,
   "metadata": {
    "collapsed": false
   },
   "outputs": [
    {
     "data": {
      "text/plain": [
       "99:99    273\n",
       "00:00     10\n",
       "Name: Tee_Time, dtype: int64"
      ]
     },
     "execution_count": 12,
     "metadata": {},
     "output_type": "execute_result"
    }
   ],
   "source": [
    "## it seems like there is something up with the Masters in 2003\n",
    "round_data.loc[(round_data.Tournament_Year==2003)\n",
    "                & (round_data.Event_Name=='Masters Tournament'),\n",
    "               'Tee_Time'].value_counts()"
   ]
  },
  {
   "cell_type": "code",
   "execution_count": 13,
   "metadata": {
    "collapsed": true
   },
   "outputs": [],
   "source": [
    "## I will drop this data since it seems to be missing the Tee Times\n",
    "round_data = round_data[~((round_data.Tournament_Year==2003)\n",
    "                          & (round_data.Event_Name==\n",
    "                             'Masters Tournament'))]"
   ]
  },
  {
   "cell_type": "code",
   "execution_count": 14,
   "metadata": {
    "collapsed": false
   },
   "outputs": [
    {
     "data": {
      "text/html": [
       "<div>\n",
       "<table border=\"1\" class=\"dataframe\">\n",
       "  <thead>\n",
       "    <tr style=\"text-align: right;\">\n",
       "      <th></th>\n",
       "      <th></th>\n",
       "      <th></th>\n",
       "      <th></th>\n",
       "      <th></th>\n",
       "      <th>Player_Count</th>\n",
       "    </tr>\n",
       "    <tr>\n",
       "      <th>Tournament_Year</th>\n",
       "      <th>Permanent_Tournament_#</th>\n",
       "      <th>Course_#</th>\n",
       "      <th>Round_Number</th>\n",
       "      <th>Tee_Time</th>\n",
       "      <th></th>\n",
       "    </tr>\n",
       "  </thead>\n",
       "  <tbody>\n",
       "    <tr>\n",
       "      <th rowspan=\"5\" valign=\"top\">2003</th>\n",
       "      <th rowspan=\"5\" valign=\"top\">1</th>\n",
       "      <th rowspan=\"5\" valign=\"top\">101</th>\n",
       "      <th rowspan=\"5\" valign=\"top\">1</th>\n",
       "      <th>07:15</th>\n",
       "      <td>6</td>\n",
       "    </tr>\n",
       "    <tr>\n",
       "      <th>07:24</th>\n",
       "      <td>6</td>\n",
       "    </tr>\n",
       "    <tr>\n",
       "      <th>07:33</th>\n",
       "      <td>6</td>\n",
       "    </tr>\n",
       "    <tr>\n",
       "      <th>07:42</th>\n",
       "      <td>6</td>\n",
       "    </tr>\n",
       "    <tr>\n",
       "      <th>07:51</th>\n",
       "      <td>6</td>\n",
       "    </tr>\n",
       "  </tbody>\n",
       "</table>\n",
       "</div>"
      ],
      "text/plain": [
       "                                                                       Player_Count\n",
       "Tournament_Year Permanent_Tournament_# Course_# Round_Number Tee_Time              \n",
       "2003            1                      101      1            07:15                6\n",
       "                                                             07:24                6\n",
       "                                                             07:33                6\n",
       "                                                             07:42                6\n",
       "                                                             07:51                6"
      ]
     },
     "execution_count": 14,
     "metadata": {},
     "output_type": "execute_result"
    }
   ],
   "source": [
    "## Now ready for groupby tee time\n",
    "## groupby tee time, count number of players in each tee time\n",
    "round_data.groupby(['Tournament_Year',\n",
    "                    'Permanent_Tournament_#','Course_#',\n",
    "                    'Round_Number','Tee_Time'])\\\n",
    "          .size().head().to_frame()\\\n",
    "          .rename(columns={0:'Player_Count'})"
   ]
  },
  {
   "cell_type": "markdown",
   "metadata": {},
   "source": [
    "PGA Tour groups never have more than 4 (almost positive of this fact, aside from playoffs) and rarely have more than 3. 6 players with the same tee time is actually two different groups - one going off of hole 1 and another off of hole 10. During the first two rounds of a tournament, going off both 1 and 10 - \"split tees\" - is common. It is much more infrequent during the last two rounds of a tournament; it typically only happens when weather becomes a concern. I'll demonstrate this by grouping by Round_Number in the previous data frame and taking the mean of the count variable."
   ]
  },
  {
   "cell_type": "code",
   "execution_count": 15,
   "metadata": {
    "collapsed": false
   },
   "outputs": [
    {
     "data": {
      "text/html": [
       "<div>\n",
       "<table border=\"1\" class=\"dataframe\">\n",
       "  <thead>\n",
       "    <tr style=\"text-align: right;\">\n",
       "      <th></th>\n",
       "      <th>number of tee times</th>\n",
       "      <th>mean players per tee time</th>\n",
       "    </tr>\n",
       "    <tr>\n",
       "      <th>Round_Number</th>\n",
       "      <th></th>\n",
       "      <th></th>\n",
       "    </tr>\n",
       "  </thead>\n",
       "  <tbody>\n",
       "    <tr>\n",
       "      <th>1</th>\n",
       "      <td>16690</td>\n",
       "      <td>5.030917</td>\n",
       "    </tr>\n",
       "    <tr>\n",
       "      <th>2</th>\n",
       "      <td>16439</td>\n",
       "      <td>5.008212</td>\n",
       "    </tr>\n",
       "    <tr>\n",
       "      <th>3</th>\n",
       "      <td>17484</td>\n",
       "      <td>2.788607</td>\n",
       "    </tr>\n",
       "    <tr>\n",
       "      <th>4</th>\n",
       "      <td>17172</td>\n",
       "      <td>2.639005</td>\n",
       "    </tr>\n",
       "    <tr>\n",
       "      <th>5</th>\n",
       "      <td>163</td>\n",
       "      <td>5.049080</td>\n",
       "    </tr>\n",
       "    <tr>\n",
       "      <th>6</th>\n",
       "      <td>28</td>\n",
       "      <td>2.000000</td>\n",
       "    </tr>\n",
       "    <tr>\n",
       "      <th>7</th>\n",
       "      <td>4</td>\n",
       "      <td>2.000000</td>\n",
       "    </tr>\n",
       "  </tbody>\n",
       "</table>\n",
       "</div>"
      ],
      "text/plain": [
       "              number of tee times  mean players per tee time\n",
       "Round_Number                                                \n",
       "1                           16690                   5.030917\n",
       "2                           16439                   5.008212\n",
       "3                           17484                   2.788607\n",
       "4                           17172                   2.639005\n",
       "5                             163                   5.049080\n",
       "6                              28                   2.000000\n",
       "7                               4                   2.000000"
      ]
     },
     "execution_count": 15,
     "metadata": {},
     "output_type": "execute_result"
    }
   ],
   "source": [
    "## groupby Round_Number take mean of players per tee time\n",
    "round_data.groupby(['Tournament_Year','Permanent_Tournament_#',\n",
    "                    'Course_#','Round_Number','Tee_Time']).size()\\\n",
    ".reset_index().rename(columns={0:'Count'}).groupby('Round_Number',\n",
    "as_index=False)['Count'].agg(['count','mean'])\\\n",
    ".rename(columns={'count':'number of tee times',\n",
    "                 'mean':'mean players per tee time'})"
   ]
  },
  {
   "cell_type": "markdown",
   "metadata": {},
   "source": [
    "So we see that in rounds 3 and 4 there are rarely \"split tees\" since the number of players per tee time is closer to the number of players we expect to see per group - 2 or 3.\n",
    "\n",
    "The tee times in rounds 6 and 7 are for the Match Play Championship and this data is irrelevant for the investigation at hand and unusable since there is no such thing as a Round Score for match play. So I will drop this data now."
   ]
  },
  {
   "cell_type": "code",
   "execution_count": 16,
   "metadata": {
    "collapsed": false
   },
   "outputs": [
    {
     "data": {
      "text/html": [
       "<div>\n",
       "<table border=\"1\" class=\"dataframe\">\n",
       "  <thead>\n",
       "    <tr style=\"text-align: right;\">\n",
       "      <th></th>\n",
       "      <th></th>\n",
       "      <th>Round_Count</th>\n",
       "    </tr>\n",
       "    <tr>\n",
       "      <th>Event_Name</th>\n",
       "      <th>Permanent_Tournament_#</th>\n",
       "      <th></th>\n",
       "    </tr>\n",
       "  </thead>\n",
       "  <tbody>\n",
       "    <tr>\n",
       "      <th>World Golf Championships-Accenture Match Play Championship</th>\n",
       "      <th>470</th>\n",
       "      <td>48</td>\n",
       "    </tr>\n",
       "    <tr>\n",
       "      <th>World Golf Championships-Cadillac Match Play</th>\n",
       "      <th>470</th>\n",
       "      <td>8</td>\n",
       "    </tr>\n",
       "    <tr>\n",
       "      <th>World Golf Championships-Dell Match Play</th>\n",
       "      <th>470</th>\n",
       "      <td>8</td>\n",
       "    </tr>\n",
       "  </tbody>\n",
       "</table>\n",
       "</div>"
      ],
      "text/plain": [
       "                                                                           Round_Count\n",
       "Event_Name                                         Permanent_Tournament_#             \n",
       "World Golf Championships-Accenture Match Play C... 470                              48\n",
       "World Golf Championships-Cadillac Match Play       470                               8\n",
       "World Golf Championships-Dell Match Play           470                               8"
      ]
     },
     "execution_count": 16,
     "metadata": {},
     "output_type": "execute_result"
    }
   ],
   "source": [
    "## checking out what events have data for round 6 or 7\n",
    "round_data.loc[round_data.Round_Number>5,\n",
    "               ['Event_Name','Permanent_Tournament_#']]\\\n",
    ".groupby(['Event_Name','Permanent_Tournament_#'])\\\n",
    ".size().to_frame().rename(columns={0:'Round_Count'})"
   ]
  },
  {
   "cell_type": "code",
   "execution_count": 17,
   "metadata": {
    "collapsed": true
   },
   "outputs": [],
   "source": [
    "## drop this data\n",
    "round_data = round_data.loc[round_data['Permanent_Tournament_#']!=470]"
   ]
  },
  {
   "cell_type": "markdown",
   "metadata": {},
   "source": [
    "The problem is there is no column in this particular table that has the information of what hole the player started on for the round. Without this information, it is impossible to determine the groups. We will need to find this information in the hole-level table. I will import this data and we will have a look."
   ]
  },
  {
   "cell_type": "code",
   "execution_count": 18,
   "metadata": {
    "collapsed": false
   },
   "outputs": [],
   "source": [
    "## reading in hole level data and making columns easier to work with\n",
    "with warnings.catch_warnings():\n",
    "    warnings.simplefilter(\"ignore\")\n",
    "    hole_data = pd.concat([pd.read_csv('../data/rawdata/%dh.txt'\n",
    "                           % year, sep=';') \n",
    "                           for year in range(2003,2017)])\n",
    "    hole_data.columns = [col.replace(' ','_') \n",
    "                         for col in hole_data.columns]"
   ]
  },
  {
   "cell_type": "code",
   "execution_count": 19,
   "metadata": {
    "collapsed": false
   },
   "outputs": [
    {
     "data": {
      "text/plain": [
       "(4679476, 56)"
      ]
     },
     "execution_count": 19,
     "metadata": {},
     "output_type": "execute_result"
    }
   ],
   "source": [
    "## dimensions of hole-level data\n",
    "hole_data.shape"
   ]
  },
  {
   "cell_type": "code",
   "execution_count": 20,
   "metadata": {
    "collapsed": false
   },
   "outputs": [
    {
     "data": {
      "text/html": [
       "<div>\n",
       "<table border=\"1\" class=\"dataframe\">\n",
       "  <thead>\n",
       "    <tr style=\"text-align: right;\">\n",
       "      <th></th>\n",
       "      <th>Tour</th>\n",
       "      <th>Tournament_Year</th>\n",
       "      <th>Tournament_Schedule_#</th>\n",
       "      <th>Permanent_#</th>\n",
       "      <th>Player_#</th>\n",
       "      <th>Course_#</th>\n",
       "      <th>Player_Name</th>\n",
       "      <th>Hole_#</th>\n",
       "      <th>Round_#</th>\n",
       "      <th>Final_Round</th>\n",
       "      <th>Event_Name</th>\n",
       "      <th>Course_Name</th>\n",
       "      <th>Par</th>\n",
       "      <th>Scorecard_Yard</th>\n",
       "      <th>Actual_Yard</th>\n",
       "      <th>Score</th>\n",
       "      <th>RTP_Score</th>\n",
       "      <th>Hit_Fwy</th>\n",
       "      <th>Hit_Green</th>\n",
       "      <th>Hit_Greenside_Bunker</th>\n",
       "      <th>Sand_Save</th>\n",
       "      <th>Scrambling_Success</th>\n",
       "      <th>Putts</th>\n",
       "      <th>Driving_Distance_(rounded)</th>\n",
       "      <th>Tee_Shot_Landing_Loc</th>\n",
       "      <th>Tee_Shot_Detail_Landing_Loc</th>\n",
       "      <th>Appr_Shot_Dist_to_the_Pin</th>\n",
       "      <th>Appr_Shot_Prox_to_the_Hole</th>\n",
       "      <th>Appr_Shot_Landing_Loc</th>\n",
       "      <th>Appr_Shot_Detail_Landing_Loc</th>\n",
       "      <th>Made_Putt_Distance</th>\n",
       "      <th>GFG_Hole</th>\n",
       "      <th>Went_for_it</th>\n",
       "      <th>GFG_Hit_Green</th>\n",
       "      <th>GFG_Shot_Dist_to_the_Pin</th>\n",
       "      <th>GFG_Shot_Prox_to_the_Hole</th>\n",
       "      <th>Driving_Dist_Measured_Flag</th>\n",
       "      <th>Measured_Driving_Distance</th>\n",
       "      <th>Appr_Shot_ended_on_or_ARG</th>\n",
       "      <th>Appr_Shot_Start_Loc</th>\n",
       "      <th>Appr_Shot_Detail_Starting_Loc</th>\n",
       "      <th>GFG_Shot_Start_Loc</th>\n",
       "      <th>GFG_Shot_Detail_Start_Loc</th>\n",
       "      <th>Hole_Seq_#</th>\n",
       "      <th>Scrambling_Shot_Start_Loc</th>\n",
       "      <th>Scrambling_Shot_Detail_Start_Loc</th>\n",
       "      <th>Scrambling_Shot_dist_from_Hole</th>\n",
       "      <th>Scrambling_Shot_Prox_to_Hole</th>\n",
       "      <th>Time_Hole_Finished</th>\n",
       "      <th>Putts_Gained</th>\n",
       "      <th>SG_T2G</th>\n",
       "      <th>SG_Total</th>\n",
       "      <th>OTT_Strokes_Gained</th>\n",
       "      <th>APP_Strokes_Gained</th>\n",
       "      <th>ARG_Strokes_Gained</th>\n",
       "      <th>Unnamed:_55</th>\n",
       "    </tr>\n",
       "  </thead>\n",
       "  <tbody>\n",
       "    <tr>\n",
       "      <th>0</th>\n",
       "      <td>PGA TOUR</td>\n",
       "      <td>2003</td>\n",
       "      <td>10</td>\n",
       "      <td>16</td>\n",
       "      <td>1320</td>\n",
       "      <td>656</td>\n",
       "      <td>Estes, Bob</td>\n",
       "      <td>1</td>\n",
       "      <td>1</td>\n",
       "      <td>0</td>\n",
       "      <td>Mercedes Championships</td>\n",
       "      <td>Plantation Course at Kapalua</td>\n",
       "      <td>4</td>\n",
       "      <td>473</td>\n",
       "      <td>0</td>\n",
       "      <td>4.0</td>\n",
       "      <td>0</td>\n",
       "      <td>1</td>\n",
       "      <td>1</td>\n",
       "      <td>0</td>\n",
       "      <td>0</td>\n",
       "      <td>-1</td>\n",
       "      <td>2</td>\n",
       "      <td>0</td>\n",
       "      <td>NaN</td>\n",
       "      <td>NaN</td>\n",
       "      <td>0</td>\n",
       "      <td>0</td>\n",
       "      <td>Green</td>\n",
       "      <td>NaN</td>\n",
       "      <td>0</td>\n",
       "      <td>0</td>\n",
       "      <td>-1</td>\n",
       "      <td>-1</td>\n",
       "      <td>0</td>\n",
       "      <td>0</td>\n",
       "      <td>N</td>\n",
       "      <td>0</td>\n",
       "      <td>Y</td>\n",
       "      <td>Fairway</td>\n",
       "      <td>NaN</td>\n",
       "      <td>NaN</td>\n",
       "      <td>NaN</td>\n",
       "      <td>1</td>\n",
       "      <td>NaN</td>\n",
       "      <td>NaN</td>\n",
       "      <td>0</td>\n",
       "      <td>0</td>\n",
       "      <td>11:57</td>\n",
       "      <td>0.0</td>\n",
       "      <td>0.0</td>\n",
       "      <td>0.0</td>\n",
       "      <td>0.0</td>\n",
       "      <td>0.0</td>\n",
       "      <td>0.0</td>\n",
       "      <td>NaN</td>\n",
       "    </tr>\n",
       "    <tr>\n",
       "      <th>1</th>\n",
       "      <td>PGA TOUR</td>\n",
       "      <td>2003</td>\n",
       "      <td>10</td>\n",
       "      <td>16</td>\n",
       "      <td>1320</td>\n",
       "      <td>656</td>\n",
       "      <td>Estes, Bob</td>\n",
       "      <td>2</td>\n",
       "      <td>1</td>\n",
       "      <td>0</td>\n",
       "      <td>Mercedes Championships</td>\n",
       "      <td>Plantation Course at Kapalua</td>\n",
       "      <td>3</td>\n",
       "      <td>218</td>\n",
       "      <td>0</td>\n",
       "      <td>4.0</td>\n",
       "      <td>1</td>\n",
       "      <td>0</td>\n",
       "      <td>1</td>\n",
       "      <td>0</td>\n",
       "      <td>0</td>\n",
       "      <td>-1</td>\n",
       "      <td>3</td>\n",
       "      <td>0</td>\n",
       "      <td>NaN</td>\n",
       "      <td>NaN</td>\n",
       "      <td>0</td>\n",
       "      <td>0</td>\n",
       "      <td>Green</td>\n",
       "      <td>NaN</td>\n",
       "      <td>0</td>\n",
       "      <td>0</td>\n",
       "      <td>-1</td>\n",
       "      <td>-1</td>\n",
       "      <td>0</td>\n",
       "      <td>0</td>\n",
       "      <td>N</td>\n",
       "      <td>0</td>\n",
       "      <td>Y</td>\n",
       "      <td>Tee Box</td>\n",
       "      <td>NaN</td>\n",
       "      <td>NaN</td>\n",
       "      <td>NaN</td>\n",
       "      <td>2</td>\n",
       "      <td>NaN</td>\n",
       "      <td>NaN</td>\n",
       "      <td>0</td>\n",
       "      <td>0</td>\n",
       "      <td>12:05</td>\n",
       "      <td>0.0</td>\n",
       "      <td>0.0</td>\n",
       "      <td>0.0</td>\n",
       "      <td>0.0</td>\n",
       "      <td>0.0</td>\n",
       "      <td>0.0</td>\n",
       "      <td>NaN</td>\n",
       "    </tr>\n",
       "    <tr>\n",
       "      <th>2</th>\n",
       "      <td>PGA TOUR</td>\n",
       "      <td>2003</td>\n",
       "      <td>10</td>\n",
       "      <td>16</td>\n",
       "      <td>1320</td>\n",
       "      <td>656</td>\n",
       "      <td>Estes, Bob</td>\n",
       "      <td>3</td>\n",
       "      <td>1</td>\n",
       "      <td>0</td>\n",
       "      <td>Mercedes Championships</td>\n",
       "      <td>Plantation Course at Kapalua</td>\n",
       "      <td>4</td>\n",
       "      <td>380</td>\n",
       "      <td>0</td>\n",
       "      <td>4.0</td>\n",
       "      <td>0</td>\n",
       "      <td>1</td>\n",
       "      <td>1</td>\n",
       "      <td>0</td>\n",
       "      <td>0</td>\n",
       "      <td>-1</td>\n",
       "      <td>2</td>\n",
       "      <td>0</td>\n",
       "      <td>NaN</td>\n",
       "      <td>NaN</td>\n",
       "      <td>0</td>\n",
       "      <td>0</td>\n",
       "      <td>Green</td>\n",
       "      <td>NaN</td>\n",
       "      <td>0</td>\n",
       "      <td>0</td>\n",
       "      <td>-1</td>\n",
       "      <td>-1</td>\n",
       "      <td>0</td>\n",
       "      <td>0</td>\n",
       "      <td>Y</td>\n",
       "      <td>268</td>\n",
       "      <td>Y</td>\n",
       "      <td>Fairway</td>\n",
       "      <td>NaN</td>\n",
       "      <td>NaN</td>\n",
       "      <td>NaN</td>\n",
       "      <td>3</td>\n",
       "      <td>NaN</td>\n",
       "      <td>NaN</td>\n",
       "      <td>0</td>\n",
       "      <td>0</td>\n",
       "      <td>12:15</td>\n",
       "      <td>0.0</td>\n",
       "      <td>0.0</td>\n",
       "      <td>0.0</td>\n",
       "      <td>0.0</td>\n",
       "      <td>0.0</td>\n",
       "      <td>0.0</td>\n",
       "      <td>NaN</td>\n",
       "    </tr>\n",
       "  </tbody>\n",
       "</table>\n",
       "</div>"
      ],
      "text/plain": [
       "       Tour  Tournament_Year  Tournament_Schedule_#  Permanent_#  Player_#  \\\n",
       "0  PGA TOUR             2003                     10           16      1320   \n",
       "1  PGA TOUR             2003                     10           16      1320   \n",
       "2  PGA TOUR             2003                     10           16      1320   \n",
       "\n",
       "   Course_# Player_Name  Hole_#  Round_#  Final_Round              Event_Name  \\\n",
       "0       656  Estes, Bob       1        1            0  Mercedes Championships   \n",
       "1       656  Estes, Bob       2        1            0  Mercedes Championships   \n",
       "2       656  Estes, Bob       3        1            0  Mercedes Championships   \n",
       "\n",
       "                    Course_Name  Par  Scorecard_Yard  Actual_Yard  Score  \\\n",
       "0  Plantation Course at Kapalua    4             473            0    4.0   \n",
       "1  Plantation Course at Kapalua    3             218            0    4.0   \n",
       "2  Plantation Course at Kapalua    4             380            0    4.0   \n",
       "\n",
       "   RTP_Score  Hit_Fwy  Hit_Green  Hit_Greenside_Bunker  Sand_Save  \\\n",
       "0          0        1          1                     0          0   \n",
       "1          1        0          1                     0          0   \n",
       "2          0        1          1                     0          0   \n",
       "\n",
       "   Scrambling_Success  Putts  Driving_Distance_(rounded) Tee_Shot_Landing_Loc  \\\n",
       "0                  -1      2                           0                  NaN   \n",
       "1                  -1      3                           0                  NaN   \n",
       "2                  -1      2                           0                  NaN   \n",
       "\n",
       "  Tee_Shot_Detail_Landing_Loc  Appr_Shot_Dist_to_the_Pin  \\\n",
       "0                         NaN                          0   \n",
       "1                         NaN                          0   \n",
       "2                         NaN                          0   \n",
       "\n",
       "   Appr_Shot_Prox_to_the_Hole Appr_Shot_Landing_Loc  \\\n",
       "0                           0                 Green   \n",
       "1                           0                 Green   \n",
       "2                           0                 Green   \n",
       "\n",
       "  Appr_Shot_Detail_Landing_Loc  Made_Putt_Distance  GFG_Hole  Went_for_it  \\\n",
       "0                          NaN                   0         0           -1   \n",
       "1                          NaN                   0         0           -1   \n",
       "2                          NaN                   0         0           -1   \n",
       "\n",
       "   GFG_Hit_Green  GFG_Shot_Dist_to_the_Pin  GFG_Shot_Prox_to_the_Hole  \\\n",
       "0             -1                         0                          0   \n",
       "1             -1                         0                          0   \n",
       "2             -1                         0                          0   \n",
       "\n",
       "  Driving_Dist_Measured_Flag  Measured_Driving_Distance  \\\n",
       "0                          N                          0   \n",
       "1                          N                          0   \n",
       "2                          Y                        268   \n",
       "\n",
       "  Appr_Shot_ended_on_or_ARG Appr_Shot_Start_Loc Appr_Shot_Detail_Starting_Loc  \\\n",
       "0                         Y             Fairway                           NaN   \n",
       "1                         Y             Tee Box                           NaN   \n",
       "2                         Y             Fairway                           NaN   \n",
       "\n",
       "  GFG_Shot_Start_Loc GFG_Shot_Detail_Start_Loc  Hole_Seq_#  \\\n",
       "0                NaN                       NaN           1   \n",
       "1                NaN                       NaN           2   \n",
       "2                NaN                       NaN           3   \n",
       "\n",
       "  Scrambling_Shot_Start_Loc Scrambling_Shot_Detail_Start_Loc  \\\n",
       "0                       NaN                              NaN   \n",
       "1                       NaN                              NaN   \n",
       "2                       NaN                              NaN   \n",
       "\n",
       "   Scrambling_Shot_dist_from_Hole  Scrambling_Shot_Prox_to_Hole  \\\n",
       "0                               0                             0   \n",
       "1                               0                             0   \n",
       "2                               0                             0   \n",
       "\n",
       "  Time_Hole_Finished  Putts_Gained  SG_T2G  SG_Total  OTT_Strokes_Gained  \\\n",
       "0              11:57           0.0     0.0       0.0                 0.0   \n",
       "1              12:05           0.0     0.0       0.0                 0.0   \n",
       "2              12:15           0.0     0.0       0.0                 0.0   \n",
       "\n",
       "   APP_Strokes_Gained  ARG_Strokes_Gained  Unnamed:_55  \n",
       "0                 0.0                 0.0          NaN  \n",
       "1                 0.0                 0.0          NaN  \n",
       "2                 0.0                 0.0          NaN  "
      ]
     },
     "execution_count": 20,
     "metadata": {},
     "output_type": "execute_result"
    }
   ],
   "source": [
    "## first three rows of hole-level data\n",
    "hole_data.head(3)"
   ]
  },
  {
   "cell_type": "code",
   "execution_count": 21,
   "metadata": {
    "collapsed": true
   },
   "outputs": [],
   "source": [
    "## re-naming Tournament_# field so it is compatible with other table\n",
    "hole_data = hole_data.rename(columns={'Permanent_#':'Permanent_Tournament_#'})\n",
    "\n",
    "## selecting only the columns that we'll need, deleting rest\n",
    "hole_cols = ['Tournament_Year','Permanent_Tournament_#',\n",
    "             'Player_Name','Player_#','Course_#','Hole_#',\n",
    "             'Round_#','Hole_Seq_#','Score']\n",
    "for col in hole_data.columns:\n",
    "    if col in hole_cols:\n",
    "        continue\n",
    "    del hole_data[col]\n",
    "    \n",
    "## removing match play championship\n",
    "hole_data = hole_data[hole_data['Permanent_Tournament_#']!=470]\n",
    "\n",
    "## removing the masters in 2003\n",
    "hole_data = hole_data[~((hole_data.Tournament_Year==2003) &\n",
    "                        (hole_data['Permanent_Tournament_#']==14))]"
   ]
  },
  {
   "cell_type": "code",
   "execution_count": 22,
   "metadata": {
    "collapsed": false
   },
   "outputs": [
    {
     "data": {
      "text/html": [
       "<div>\n",
       "<table border=\"1\" class=\"dataframe\">\n",
       "  <thead>\n",
       "    <tr style=\"text-align: right;\">\n",
       "      <th></th>\n",
       "      <th>Tournament_Year</th>\n",
       "      <th>Permanent_Tournament_#</th>\n",
       "      <th>Player_#</th>\n",
       "      <th>Course_#</th>\n",
       "      <th>Player_Name</th>\n",
       "      <th>Hole_#</th>\n",
       "      <th>Round_#</th>\n",
       "      <th>Score</th>\n",
       "      <th>Hole_Seq_#</th>\n",
       "    </tr>\n",
       "  </thead>\n",
       "  <tbody>\n",
       "    <tr>\n",
       "      <th>0</th>\n",
       "      <td>2003</td>\n",
       "      <td>16</td>\n",
       "      <td>1320</td>\n",
       "      <td>656</td>\n",
       "      <td>Estes, Bob</td>\n",
       "      <td>1</td>\n",
       "      <td>1</td>\n",
       "      <td>4.0</td>\n",
       "      <td>1</td>\n",
       "    </tr>\n",
       "    <tr>\n",
       "      <th>1</th>\n",
       "      <td>2003</td>\n",
       "      <td>16</td>\n",
       "      <td>1320</td>\n",
       "      <td>656</td>\n",
       "      <td>Estes, Bob</td>\n",
       "      <td>2</td>\n",
       "      <td>1</td>\n",
       "      <td>4.0</td>\n",
       "      <td>2</td>\n",
       "    </tr>\n",
       "    <tr>\n",
       "      <th>2</th>\n",
       "      <td>2003</td>\n",
       "      <td>16</td>\n",
       "      <td>1320</td>\n",
       "      <td>656</td>\n",
       "      <td>Estes, Bob</td>\n",
       "      <td>3</td>\n",
       "      <td>1</td>\n",
       "      <td>4.0</td>\n",
       "      <td>3</td>\n",
       "    </tr>\n",
       "  </tbody>\n",
       "</table>\n",
       "</div>"
      ],
      "text/plain": [
       "   Tournament_Year  Permanent_Tournament_#  Player_#  Course_# Player_Name  \\\n",
       "0             2003                      16      1320       656  Estes, Bob   \n",
       "1             2003                      16      1320       656  Estes, Bob   \n",
       "2             2003                      16      1320       656  Estes, Bob   \n",
       "\n",
       "   Hole_#  Round_#  Score  Hole_Seq_#  \n",
       "0       1        1    4.0           1  \n",
       "1       2        1    4.0           2  \n",
       "2       3        1    4.0           3  "
      ]
     },
     "execution_count": 22,
     "metadata": {},
     "output_type": "execute_result"
    }
   ],
   "source": [
    "hole_data.head(3)"
   ]
  },
  {
   "cell_type": "markdown",
   "metadata": {},
   "source": [
    "This is the information we need. If we just subset only the rows that contain the first hole played by each golfer and make a dictionary with a key being a tuple that uniquely identifies a player-round and a value being the first hole played by the golfer in the round, this will be easy to put into the round data frame. I'll do this now after verifying the quality of the Hole_Sequence field."
   ]
  },
  {
   "cell_type": "code",
   "execution_count": 23,
   "metadata": {
    "collapsed": false
   },
   "outputs": [
    {
     "data": {
      "text/plain": [
       "1     259270\n",
       "2     259270\n",
       "3     259270\n",
       "4     259270\n",
       "5     259270\n",
       "6     259270\n",
       "7     259270\n",
       "8     259270\n",
       "9     259270\n",
       "10    259270\n",
       "11    259270\n",
       "12    259270\n",
       "13    259270\n",
       "14    259270\n",
       "15    259270\n",
       "16    259270\n",
       "17    259270\n",
       "18    259270\n",
       "Name: Hole_Seq_#, dtype: int64"
      ]
     },
     "execution_count": 23,
     "metadata": {},
     "output_type": "execute_result"
    }
   ],
   "source": [
    "## value counts of the sequence field\n",
    "hole_data['Hole_Seq_#'].value_counts().sort_index()"
   ]
  },
  {
   "cell_type": "markdown",
   "metadata": {},
   "source": [
    "I find this data strangely perfect. Don't some players withdraw in the middle of the round? I'll continue by checking the *Score* field."
   ]
  },
  {
   "cell_type": "code",
   "execution_count": 24,
   "metadata": {
    "collapsed": false
   },
   "outputs": [
    {
     "data": {
      "text/plain": [
       "1.0         427\n",
       "2.0      134694\n",
       "3.0     1150020\n",
       "4.0     2258298\n",
       "5.0      907817\n",
       "6.0      129372\n",
       "7.0       17565\n",
       "8.0        2659\n",
       "9.0         510\n",
       "10.0         99\n",
       "11.0         28\n",
       "12.0          8\n",
       "13.0          3\n",
       "14.0          1\n",
       "16.0          1\n",
       "Name: Score, dtype: int64"
      ]
     },
     "execution_count": 24,
     "metadata": {},
     "output_type": "execute_result"
    }
   ],
   "source": [
    "## value counts of score\n",
    "hole_data['Score'].value_counts().sort_index()"
   ]
  },
  {
   "cell_type": "code",
   "execution_count": 25,
   "metadata": {
    "collapsed": false
   },
   "outputs": [
    {
     "data": {
      "text/html": [
       "<div>\n",
       "<table border=\"1\" class=\"dataframe\">\n",
       "  <thead>\n",
       "    <tr style=\"text-align: right;\">\n",
       "      <th></th>\n",
       "      <th>Tournament_Year</th>\n",
       "      <th>Permanent_Tournament_#</th>\n",
       "      <th>Player_#</th>\n",
       "      <th>Course_#</th>\n",
       "      <th>Player_Name</th>\n",
       "      <th>Hole_#</th>\n",
       "      <th>Round_#</th>\n",
       "      <th>Score</th>\n",
       "      <th>Hole_Seq_#</th>\n",
       "    </tr>\n",
       "  </thead>\n",
       "  <tbody>\n",
       "    <tr>\n",
       "      <th>112562</th>\n",
       "      <td>2011</td>\n",
       "      <td>41</td>\n",
       "      <td>25396</td>\n",
       "      <td>770</td>\n",
       "      <td>Na, Kevin</td>\n",
       "      <td>9</td>\n",
       "      <td>1</td>\n",
       "      <td>16.0</td>\n",
       "      <td>9</td>\n",
       "    </tr>\n",
       "  </tbody>\n",
       "</table>\n",
       "</div>"
      ],
      "text/plain": [
       "        Tournament_Year  Permanent_Tournament_#  Player_#  Course_#  \\\n",
       "112562             2011                      41     25396       770   \n",
       "\n",
       "       Player_Name  Hole_#  Round_#  Score  Hole_Seq_#  \n",
       "112562   Na, Kevin       9        1   16.0           9  "
      ]
     },
     "execution_count": 25,
     "metadata": {},
     "output_type": "execute_result"
    }
   ],
   "source": [
    "## who made a 16 on a hole?\n",
    "hole_data.sort_values('Score',ascending=False).head(1)"
   ]
  },
  {
   "cell_type": "code",
   "execution_count": 26,
   "metadata": {
    "collapsed": false
   },
   "outputs": [
    {
     "data": {
      "text/plain": [
       "58         1\n",
       "59         3\n",
       "60        19\n",
       "61        78\n",
       "62       310\n",
       "63       815\n",
       "64      2057\n",
       "65      4580\n",
       "66      8897\n",
       "67     14545\n",
       "68     21391\n",
       "69     27306\n",
       "70     31216\n",
       "71     32027\n",
       "72     29458\n",
       "73     25097\n",
       "74     19581\n",
       "75     14491\n",
       "76      9990\n",
       "77      6691\n",
       "78      4311\n",
       "79      2650\n",
       "80      1572\n",
       "81       893\n",
       "82       560\n",
       "83       322\n",
       "84       177\n",
       "85       106\n",
       "86        55\n",
       "87        32\n",
       "88        20\n",
       "89        11\n",
       "90         5\n",
       "91         2\n",
       "92         1\n",
       "93         1\n",
       "106        1\n",
       "Name: Round_Score, dtype: int64"
      ]
     },
     "execution_count": 26,
     "metadata": {},
     "output_type": "execute_result"
    }
   ],
   "source": [
    "## slight diversion let's check out the value counts of Round_Score\n",
    "round_data.Round_Score.value_counts().sort_index()"
   ]
  },
  {
   "cell_type": "code",
   "execution_count": 27,
   "metadata": {
    "collapsed": false
   },
   "outputs": [
    {
     "data": {
      "text/html": [
       "<div>\n",
       "<table border=\"1\" class=\"dataframe\">\n",
       "  <thead>\n",
       "    <tr style=\"text-align: right;\">\n",
       "      <th></th>\n",
       "      <th>Player_Name</th>\n",
       "      <th>Tournament_Year</th>\n",
       "      <th>Event_Name</th>\n",
       "      <th>Round_Score</th>\n",
       "    </tr>\n",
       "  </thead>\n",
       "  <tbody>\n",
       "    <tr>\n",
       "      <th>16168</th>\n",
       "      <td>Furyk, Jim</td>\n",
       "      <td>2016</td>\n",
       "      <td>Travelers Championship</td>\n",
       "      <td>58</td>\n",
       "    </tr>\n",
       "  </tbody>\n",
       "</table>\n",
       "</div>"
      ],
      "text/plain": [
       "      Player_Name  Tournament_Year              Event_Name  Round_Score\n",
       "16168  Furyk, Jim             2016  Travelers Championship           58"
      ]
     },
     "execution_count": 27,
     "metadata": {},
     "output_type": "execute_result"
    }
   ],
   "source": [
    "## who shot 58?\n",
    "round_data.sort_values('Round_Score')\\\n",
    "[['Player_Name','Tournament_Year',\n",
    "  'Event_Name','Round_Score']].head(1)"
   ]
  },
  {
   "cell_type": "code",
   "execution_count": 28,
   "metadata": {
    "collapsed": false
   },
   "outputs": [
    {
     "data": {
      "text/html": [
       "<div>\n",
       "<table border=\"1\" class=\"dataframe\">\n",
       "  <thead>\n",
       "    <tr style=\"text-align: right;\">\n",
       "      <th></th>\n",
       "      <th>Player_Name</th>\n",
       "      <th>Tournament_Year</th>\n",
       "      <th>Event_Name</th>\n",
       "      <th>Round_Score</th>\n",
       "    </tr>\n",
       "  </thead>\n",
       "  <tbody>\n",
       "    <tr>\n",
       "      <th>5539</th>\n",
       "      <td>Casper, Billy</td>\n",
       "      <td>2005</td>\n",
       "      <td>Masters Tournament</td>\n",
       "      <td>106</td>\n",
       "    </tr>\n",
       "  </tbody>\n",
       "</table>\n",
       "</div>"
      ],
      "text/plain": [
       "        Player_Name  Tournament_Year          Event_Name  Round_Score\n",
       "5539  Casper, Billy             2005  Masters Tournament          106"
      ]
     },
     "execution_count": 28,
     "metadata": {},
     "output_type": "execute_result"
    }
   ],
   "source": [
    "## who shot 106??\n",
    "round_data.sort_values('Round_Score',ascending=False)\\\n",
    "[['Player_Name','Tournament_Year',\n",
    "  'Event_Name','Round_Score']].head(1)"
   ]
  },
  {
   "cell_type": "code",
   "execution_count": 29,
   "metadata": {
    "collapsed": true
   },
   "outputs": [],
   "source": [
    "## subsetting to only first hole of round, \n",
    "## dropping irrelevant fields, making dictionary\n",
    "hole_data = hole_data[hole_data['Hole_Seq_#']==1]\n",
    "\n",
    "hole_data.drop(['Player_Name','Score','Hole_Seq_#'],\n",
    "               axis=1,inplace=True)\n",
    "\n",
    "hole_data.set_index(['Tournament_Year','Permanent_Tournament_#',\n",
    "                     'Player_#','Course_#','Round_#'],inplace=True)\n",
    "\n",
    "start_hole = hole_data.squeeze().to_dict()"
   ]
  },
  {
   "cell_type": "code",
   "execution_count": 30,
   "metadata": {
    "collapsed": false
   },
   "outputs": [
    {
     "data": {
      "text/html": [
       "<div>\n",
       "<table border=\"1\" class=\"dataframe\">\n",
       "  <thead>\n",
       "    <tr style=\"text-align: right;\">\n",
       "      <th></th>\n",
       "      <th>Hole_#</th>\n",
       "    </tr>\n",
       "  </thead>\n",
       "  <tbody>\n",
       "    <tr>\n",
       "      <th>1</th>\n",
       "      <td>161941</td>\n",
       "    </tr>\n",
       "    <tr>\n",
       "      <th>9</th>\n",
       "      <td>311</td>\n",
       "    </tr>\n",
       "    <tr>\n",
       "      <th>10</th>\n",
       "      <td>96827</td>\n",
       "    </tr>\n",
       "    <tr>\n",
       "      <th>11</th>\n",
       "      <td>191</td>\n",
       "    </tr>\n",
       "  </tbody>\n",
       "</table>\n",
       "</div>"
      ],
      "text/plain": [
       "    Hole_#\n",
       "1   161941\n",
       "9      311\n",
       "10   96827\n",
       "11     191"
      ]
     },
     "execution_count": 30,
     "metadata": {},
     "output_type": "execute_result"
    }
   ],
   "source": [
    "## how many rounds started on each hole?\n",
    "hole_data.squeeze().value_counts().to_frame().sort_index()"
   ]
  },
  {
   "cell_type": "markdown",
   "metadata": {},
   "source": [
    "I'm not exactly sure why there are a few abnormalities with rounds starting on holes 9 and 11. I looked into it and found no evidence that these rounds started on holes 9 or 11. I will leave this for now and see if it is helpful in distinguishing between the different groups by grouping by group and counting the number of players later.\n",
    "\n",
    "I'll now insert a new column for hole started on which will be used together with tee time to determine the groups."
   ]
  },
  {
   "cell_type": "code",
   "execution_count": 31,
   "metadata": {
    "collapsed": false
   },
   "outputs": [],
   "source": [
    "## inserting Hole Started On field\n",
    "round_data['Hole_Started_On'] = [start_hole[(year,tourn,player\n",
    "                                             ,course,round_)]\n",
    "                                 if (year,tourn,player,\n",
    "                                     course,round_) in start_hole \n",
    "                                 else np.nan\n",
    "                                 for (year,tourn,\n",
    "                                      player,course,round_) in \n",
    "                                 zip(round_data.Tournament_Year,\n",
    "                                 round_data['Permanent_Tournament_#'],\n",
    "                                 round_data['Player_Number'],\n",
    "                                 round_data['Course_#'],\n",
    "                                 round_data['Round_Number'])]"
   ]
  },
  {
   "cell_type": "code",
   "execution_count": 32,
   "metadata": {
    "collapsed": false
   },
   "outputs": [
    {
     "data": {
      "text/html": [
       "<div>\n",
       "<table border=\"1\" class=\"dataframe\">\n",
       "  <thead>\n",
       "    <tr style=\"text-align: right;\">\n",
       "      <th></th>\n",
       "      <th>Hole_Started_On</th>\n",
       "    </tr>\n",
       "  </thead>\n",
       "  <tbody>\n",
       "    <tr>\n",
       "      <th>1.0</th>\n",
       "      <td>161938</td>\n",
       "    </tr>\n",
       "    <tr>\n",
       "      <th>9.0</th>\n",
       "      <td>311</td>\n",
       "    </tr>\n",
       "    <tr>\n",
       "      <th>10.0</th>\n",
       "      <td>96826</td>\n",
       "    </tr>\n",
       "    <tr>\n",
       "      <th>11.0</th>\n",
       "      <td>191</td>\n",
       "    </tr>\n",
       "    <tr>\n",
       "      <th>NaN</th>\n",
       "      <td>6</td>\n",
       "    </tr>\n",
       "  </tbody>\n",
       "</table>\n",
       "</div>"
      ],
      "text/plain": [
       "       Hole_Started_On\n",
       " 1.0            161938\n",
       " 9.0               311\n",
       " 10.0            96826\n",
       " 11.0              191\n",
       "NaN                  6"
      ]
     },
     "execution_count": 32,
     "metadata": {},
     "output_type": "execute_result"
    }
   ],
   "source": [
    "## see how many rounds weren't found in hole data\n",
    "round_data.Hole_Started_On.value_counts(dropna=False)\\\n",
    ".to_frame().sort_index()"
   ]
  },
  {
   "cell_type": "code",
   "execution_count": 33,
   "metadata": {
    "collapsed": true
   },
   "outputs": [],
   "source": [
    "## dropping the few rounds that were not matched\n",
    "round_data = round_data.dropna(subset=['Hole_Started_On'])"
   ]
  },
  {
   "cell_type": "markdown",
   "metadata": {},
   "source": [
    "Now we are ready to group by the same columns as before plus *Hole_Started_On* to see the number of players in each group.."
   ]
  },
  {
   "cell_type": "code",
   "execution_count": 34,
   "metadata": {
    "collapsed": false
   },
   "outputs": [
    {
     "data": {
      "text/html": [
       "<div>\n",
       "<table border=\"1\" class=\"dataframe\">\n",
       "  <thead>\n",
       "    <tr style=\"text-align: right;\">\n",
       "      <th></th>\n",
       "      <th></th>\n",
       "      <th></th>\n",
       "      <th></th>\n",
       "      <th></th>\n",
       "      <th></th>\n",
       "      <th>Player_Count</th>\n",
       "    </tr>\n",
       "    <tr>\n",
       "      <th>Tournament_Year</th>\n",
       "      <th>Permanent_Tournament_#</th>\n",
       "      <th>Course_#</th>\n",
       "      <th>Round_Number</th>\n",
       "      <th>Tee_Time</th>\n",
       "      <th>Hole_Started_On</th>\n",
       "      <th></th>\n",
       "    </tr>\n",
       "  </thead>\n",
       "  <tbody>\n",
       "    <tr>\n",
       "      <th rowspan=\"5\" valign=\"top\">2003</th>\n",
       "      <th rowspan=\"5\" valign=\"top\">1</th>\n",
       "      <th rowspan=\"5\" valign=\"top\">101</th>\n",
       "      <th rowspan=\"5\" valign=\"top\">1</th>\n",
       "      <th rowspan=\"2\" valign=\"top\">07:15</th>\n",
       "      <th>1.0</th>\n",
       "      <td>3</td>\n",
       "    </tr>\n",
       "    <tr>\n",
       "      <th>10.0</th>\n",
       "      <td>3</td>\n",
       "    </tr>\n",
       "    <tr>\n",
       "      <th rowspan=\"2\" valign=\"top\">07:24</th>\n",
       "      <th>1.0</th>\n",
       "      <td>3</td>\n",
       "    </tr>\n",
       "    <tr>\n",
       "      <th>10.0</th>\n",
       "      <td>3</td>\n",
       "    </tr>\n",
       "    <tr>\n",
       "      <th>07:33</th>\n",
       "      <th>1.0</th>\n",
       "      <td>3</td>\n",
       "    </tr>\n",
       "  </tbody>\n",
       "</table>\n",
       "</div>"
      ],
      "text/plain": [
       "                                                                                       Player_Count\n",
       "Tournament_Year Permanent_Tournament_# Course_# Round_Number Tee_Time Hole_Started_On              \n",
       "2003            1                      101      1            07:15    1.0                         3\n",
       "                                                                      10.0                        3\n",
       "                                                             07:24    1.0                         3\n",
       "                                                                      10.0                        3\n",
       "                                                             07:33    1.0                         3"
      ]
     },
     "execution_count": 34,
     "metadata": {},
     "output_type": "execute_result"
    }
   ],
   "source": [
    "## Now ready for groupby tee time + hole_started_on\n",
    "round_data.groupby(['Tournament_Year','Permanent_Tournament_#',\n",
    "                    'Course_#','Round_Number',\n",
    "                    'Tee_Time','Hole_Started_On'])\\\n",
    "          .size().head().to_frame()\\\n",
    "          .rename(columns={0:'Player_Count'})"
   ]
  },
  {
   "cell_type": "code",
   "execution_count": 35,
   "metadata": {
    "collapsed": false
   },
   "outputs": [
    {
     "data": {
      "text/html": [
       "<div>\n",
       "<table border=\"1\" class=\"dataframe\">\n",
       "  <thead>\n",
       "    <tr style=\"text-align: right;\">\n",
       "      <th></th>\n",
       "      <th>number of groups</th>\n",
       "      <th>mean players per group</th>\n",
       "    </tr>\n",
       "    <tr>\n",
       "      <th>Round_Number</th>\n",
       "      <th></th>\n",
       "      <th></th>\n",
       "    </tr>\n",
       "  </thead>\n",
       "  <tbody>\n",
       "    <tr>\n",
       "      <th>1</th>\n",
       "      <td>29850</td>\n",
       "      <td>2.782848</td>\n",
       "    </tr>\n",
       "    <tr>\n",
       "      <th>2</th>\n",
       "      <td>29782</td>\n",
       "      <td>2.747163</td>\n",
       "    </tr>\n",
       "    <tr>\n",
       "      <th>3</th>\n",
       "      <td>21917</td>\n",
       "      <td>2.209928</td>\n",
       "    </tr>\n",
       "    <tr>\n",
       "      <th>4</th>\n",
       "      <td>20441</td>\n",
       "      <td>2.210655</td>\n",
       "    </tr>\n",
       "    <tr>\n",
       "      <th>5</th>\n",
       "      <td>257</td>\n",
       "      <td>2.953307</td>\n",
       "    </tr>\n",
       "  </tbody>\n",
       "</table>\n",
       "</div>"
      ],
      "text/plain": [
       "              number of groups  mean players per group\n",
       "Round_Number                                          \n",
       "1                        29850                2.782848\n",
       "2                        29782                2.747163\n",
       "3                        21917                2.209928\n",
       "4                        20441                2.210655\n",
       "5                          257                2.953307"
      ]
     },
     "execution_count": 35,
     "metadata": {},
     "output_type": "execute_result"
    }
   ],
   "source": [
    "## groupby Round_Number take mean of players per group\n",
    "round_data.groupby(['Tournament_Year','Permanent_Tournament_#',\n",
    "                    'Course_#','Round_Number',\n",
    "                    'Tee_Time','Hole_Started_On']).size()\\\n",
    ".reset_index().rename(columns={0:'Count'}).groupby('Round_Number',\n",
    "as_index=False)['Count'].agg(['count','mean'])\\\n",
    ".rename(columns={'count':'number of groups',\n",
    "                 'mean':'mean players per group'})"
   ]
  },
  {
   "cell_type": "markdown",
   "metadata": {},
   "source": [
    "These number look good. Let's check and make sure that there are no remaining abnormalities in the group size."
   ]
  },
  {
   "cell_type": "code",
   "execution_count": 36,
   "metadata": {
    "collapsed": false
   },
   "outputs": [
    {
     "data": {
      "text/html": [
       "<div>\n",
       "<table border=\"1\" class=\"dataframe\">\n",
       "  <thead>\n",
       "    <tr style=\"text-align: right;\">\n",
       "      <th></th>\n",
       "      <th>Num_Groups</th>\n",
       "    </tr>\n",
       "  </thead>\n",
       "  <tbody>\n",
       "    <tr>\n",
       "      <th>1</th>\n",
       "      <td>5909</td>\n",
       "    </tr>\n",
       "    <tr>\n",
       "      <th>2</th>\n",
       "      <td>35872</td>\n",
       "    </tr>\n",
       "    <tr>\n",
       "      <th>3</th>\n",
       "      <td>60343</td>\n",
       "    </tr>\n",
       "    <tr>\n",
       "      <th>4</th>\n",
       "      <td>75</td>\n",
       "    </tr>\n",
       "    <tr>\n",
       "      <th>5</th>\n",
       "      <td>4</td>\n",
       "    </tr>\n",
       "    <tr>\n",
       "      <th>6</th>\n",
       "      <td>44</td>\n",
       "    </tr>\n",
       "  </tbody>\n",
       "</table>\n",
       "</div>"
      ],
      "text/plain": [
       "   Num_Groups\n",
       "1        5909\n",
       "2       35872\n",
       "3       60343\n",
       "4          75\n",
       "5           4\n",
       "6          44"
      ]
     },
     "execution_count": 36,
     "metadata": {},
     "output_type": "execute_result"
    }
   ],
   "source": [
    "## value counts of sizes of groups\n",
    "round_data.groupby(['Tournament_Year','Permanent_Tournament_#',\n",
    "                    'Course_#','Round_Number',\n",
    "                    'Tee_Time','Hole_Started_On']).size()\\\n",
    "          .reset_index().rename(columns={0:'Num_Groups'})\\\n",
    "          .Num_Groups.value_counts().to_frame().sort_index()"
   ]
  },
  {
   "cell_type": "markdown",
   "metadata": {},
   "source": [
    "I'm going to assume that groups with sizes of 4 and up are mistakes. I'm almost positive that groups with sizes 5 or 6 are mistakes that result from incorrect *Hole_Started_On* values. I'm less confident that there were never foursomes but there are so few of these groups that I am confident that the results will not be affected if I toss these out so I will do so. Also I need to toss out all singles (groups of one player) since they will be useless in this analysis."
   ]
  },
  {
   "cell_type": "code",
   "execution_count": 37,
   "metadata": {
    "collapsed": false
   },
   "outputs": [],
   "source": [
    "## tossing out groups with >3 players\n",
    "group_sizes = round_data.groupby(['Tournament_Year',\n",
    "                                  'Permanent_Tournament_#',\n",
    "                                  'Course_#','Round_Number',\n",
    "                                  'Tee_Time','Hole_Started_On'])\\\n",
    "                        .size().to_dict()\n",
    "to_keep_mask = [1<group_sizes[(year,tourn,course,round_,\n",
    "                               teetime,holestart)]<4\n",
    "                for year,tourn,course,round_,teetime,holestart in\n",
    "                zip (round_data.Tournament_Year,\n",
    "                     round_data['Permanent_Tournament_#'],\n",
    "                     round_data['Course_#'],\n",
    "                     round_data['Round_Number'],\n",
    "                     round_data['Tee_Time'],\n",
    "                     round_data['Hole_Started_On'])]\n",
    "\n",
    "round_data = round_data.loc[np.array(to_keep_mask)]"
   ]
  },
  {
   "cell_type": "code",
   "execution_count": 38,
   "metadata": {
    "collapsed": false
   },
   "outputs": [
    {
     "data": {
      "text/html": [
       "<div>\n",
       "<table border=\"1\" class=\"dataframe\">\n",
       "  <thead>\n",
       "    <tr style=\"text-align: right;\">\n",
       "      <th></th>\n",
       "      <th>Num_Groups</th>\n",
       "    </tr>\n",
       "  </thead>\n",
       "  <tbody>\n",
       "    <tr>\n",
       "      <th>2</th>\n",
       "      <td>35872</td>\n",
       "    </tr>\n",
       "    <tr>\n",
       "      <th>3</th>\n",
       "      <td>60343</td>\n",
       "    </tr>\n",
       "  </tbody>\n",
       "</table>\n",
       "</div>"
      ],
      "text/plain": [
       "   Num_Groups\n",
       "2       35872\n",
       "3       60343"
      ]
     },
     "execution_count": 38,
     "metadata": {},
     "output_type": "execute_result"
    }
   ],
   "source": [
    "## value counts of sizes of groups (again)\n",
    "round_data.groupby(['Tournament_Year','Permanent_Tournament_#',\n",
    "                    'Course_#','Round_Number',\n",
    "                    'Tee_Time','Hole_Started_On']).size()\\\n",
    ".reset_index().rename(columns={0:'Num_Groups'})\\\n",
    ".Num_Groups.value_counts().to_frame().sort_index()"
   ]
  },
  {
   "cell_type": "markdown",
   "metadata": {},
   "source": [
    "Now we are ready to do some statistics. Each group is identified by a 6-tuple."
   ]
  },
  {
   "cell_type": "markdown",
   "metadata": {},
   "source": [
    "### Stats"
   ]
  },
  {
   "cell_type": "markdown",
   "metadata": {},
   "source": [
    "So the question we want to know is if players within a group feed off each other. We want to measure some kind of success variable for each player and see if the within group variability is significantly smaller than the between group variability. There are a few different ways of doing this as is often the case. One is one-way ANOVA. With one-way ANOVA the goal is to test whether the means of 2 or many groups are different from one another. This classical statistical test has the following assumptions: \n",
    "\n",
    "* The samples are independent.\n",
    "* Each sample is from a normally distributed population.\n",
    "* The population standard deviations of the groups are all equal. This property is known as homoscedasticity.\n",
    "\n",
    "(lifted from [here](https://docs.scipy.org/doc/scipy/reference/generated/scipy.stats.f_oneway.html))"
   ]
  },
  {
   "cell_type": "markdown",
   "metadata": {},
   "source": [
    "After thinking about these assumptions, it is apparent that with the simple gross score of each player being the success variable, the samples are not independent because the groups are not made randomly. For example, during the third and forth rounds of tournaments, the field is ordered by position and the players are paired with players in the most similar position for the tournament. This measure is therefore problematic because you should expect players who've been doing well to continue doing well compared to the players who are at the bottom of the field. In other words, a significant F-Statistic after running ANOVA using the gross score would not necessarily be indicative of the feed-off effect we are looking for because we should expect a difference in means through the process by which the groups are made.\n",
    "\n",
    "A better success variable would be a difference between what is expected of the player and how the player actually does. By controlling for the expected performance, this new success variable should be independent for each group (or sample). For this we need to make some sort of model to compute an expected performance. First let's use Strokes Gained to the Field as a measure of success for a given round. Strokes Gained to the Field is just the average *Round_Score* of all the players for the round minus the *Round_Score* for each player. This enables us to compare results across different rounds by controlling for the difficulty of the course and conditions of each round (we'll ignore the possibility of the strength of the field changing from tournament to tournament for simplicity). Let me start by simply adding an average score for each year-tournament-course-round combination as a column along with Strokes Gained to the Field."
   ]
  },
  {
   "cell_type": "code",
   "execution_count": 39,
   "metadata": {
    "collapsed": false
   },
   "outputs": [],
   "source": [
    "## inserting ave score for each course-round combo\n",
    "ave_scores = round_data[['Tournament_Year','Permanent_Tournament_#',\n",
    "                         'Course_#','Round_Number','Round_Score']]\\\n",
    "             .groupby(['Tournament_Year','Permanent_Tournament_#',\n",
    "                      'Course_#','Round_Number'])['Round_Score']\\\n",
    "             .mean().to_dict()\n",
    "\n",
    "round_data['Field_Ave'] = [ave_scores[(year,tourn,course,round_)]\n",
    "                           for year,tourn,course,round_ in \n",
    "                           zip(round_data.Tournament_Year,\n",
    "                               round_data['Permanent_Tournament_#'],\n",
    "                               round_data['Course_#'],\n",
    "                               round_data['Round_Number'])]\n",
    "\n",
    "## inserting Strokes Gained to the Field\n",
    "round_data['Strokes_Gained'] = round_data.Field_Ave - round_data.Round_Score"
   ]
  },
  {
   "cell_type": "code",
   "execution_count": 40,
   "metadata": {
    "collapsed": false
   },
   "outputs": [
    {
     "data": {
      "image/png": "[encoded data removed]",
      "text/plain": [
       "<matplotlib.figure.Figure at 0x119e651d0>"
      ]
     },
     "metadata": {},
     "output_type": "display_data"
    }
   ],
   "source": [
    "## histogram for fun\n",
    "round_data.Strokes_Gained.hist(bins=25,figsize=(15,5));"
   ]
  },
  {
   "cell_type": "code",
   "execution_count": 41,
   "metadata": {
    "collapsed": false
   },
   "outputs": [
    {
     "data": {
      "text/html": [
       "<div>\n",
       "<table border=\"1\" class=\"dataframe\">\n",
       "  <thead>\n",
       "    <tr style=\"text-align: right;\">\n",
       "      <th></th>\n",
       "      <th>Tournament_Year</th>\n",
       "      <th>Permanent_Tournament_#</th>\n",
       "      <th>Course_#</th>\n",
       "      <th>Player_Number</th>\n",
       "      <th>Player_Name</th>\n",
       "      <th>Round_Number</th>\n",
       "      <th>Event_Name</th>\n",
       "      <th>Course_Name</th>\n",
       "      <th>Tee_Time</th>\n",
       "      <th>Round_Score</th>\n",
       "      <th>End_of_Round_Finish_Pos._(text)</th>\n",
       "      <th>Hole_Started_On</th>\n",
       "      <th>Field_Ave</th>\n",
       "      <th>Strokes_Gained</th>\n",
       "    </tr>\n",
       "  </thead>\n",
       "  <tbody>\n",
       "    <tr>\n",
       "      <th>0</th>\n",
       "      <td>2003</td>\n",
       "      <td>16</td>\n",
       "      <td>656</td>\n",
       "      <td>1320</td>\n",
       "      <td>Estes, Bob</td>\n",
       "      <td>1</td>\n",
       "      <td>Mercedes Championships</td>\n",
       "      <td>Plantation Course at Kapalua</td>\n",
       "      <td>11:50</td>\n",
       "      <td>66</td>\n",
       "      <td>T6</td>\n",
       "      <td>1.0</td>\n",
       "      <td>69.361111</td>\n",
       "      <td>3.361111</td>\n",
       "    </tr>\n",
       "    <tr>\n",
       "      <th>1</th>\n",
       "      <td>2003</td>\n",
       "      <td>16</td>\n",
       "      <td>656</td>\n",
       "      <td>1361</td>\n",
       "      <td>Forsman, Dan</td>\n",
       "      <td>1</td>\n",
       "      <td>Mercedes Championships</td>\n",
       "      <td>Plantation Course at Kapalua</td>\n",
       "      <td>11:00</td>\n",
       "      <td>69</td>\n",
       "      <td>T14</td>\n",
       "      <td>1.0</td>\n",
       "      <td>69.361111</td>\n",
       "      <td>0.361111</td>\n",
       "    </tr>\n",
       "    <tr>\n",
       "      <th>2</th>\n",
       "      <td>2003</td>\n",
       "      <td>16</td>\n",
       "      <td>656</td>\n",
       "      <td>1761</td>\n",
       "      <td>Mattiace, Len</td>\n",
       "      <td>1</td>\n",
       "      <td>Mercedes Championships</td>\n",
       "      <td>Plantation Course at Kapalua</td>\n",
       "      <td>13:00</td>\n",
       "      <td>75</td>\n",
       "      <td>36</td>\n",
       "      <td>1.0</td>\n",
       "      <td>69.361111</td>\n",
       "      <td>-5.638889</td>\n",
       "    </tr>\n",
       "  </tbody>\n",
       "</table>\n",
       "</div>"
      ],
      "text/plain": [
       "   Tournament_Year  Permanent_Tournament_#  Course_#  Player_Number  \\\n",
       "0             2003                      16       656           1320   \n",
       "1             2003                      16       656           1361   \n",
       "2             2003                      16       656           1761   \n",
       "\n",
       "     Player_Name  Round_Number              Event_Name  \\\n",
       "0     Estes, Bob             1  Mercedes Championships   \n",
       "1   Forsman, Dan             1  Mercedes Championships   \n",
       "2  Mattiace, Len             1  Mercedes Championships   \n",
       "\n",
       "                    Course_Name Tee_Time  Round_Score  \\\n",
       "0  Plantation Course at Kapalua    11:50           66   \n",
       "1  Plantation Course at Kapalua    11:00           69   \n",
       "2  Plantation Course at Kapalua    13:00           75   \n",
       "\n",
       "  End_of_Round_Finish_Pos._(text)  Hole_Started_On  Field_Ave  Strokes_Gained  \n",
       "0                              T6              1.0  69.361111        3.361111  \n",
       "1                             T14              1.0  69.361111        0.361111  \n",
       "2                              36              1.0  69.361111       -5.638889  "
      ]
     },
     "execution_count": 41,
     "metadata": {},
     "output_type": "execute_result"
    }
   ],
   "source": [
    "## first 3 rows of dataframe\n",
    "round_data.head(3)"
   ]
  },
  {
   "cell_type": "markdown",
   "metadata": {},
   "source": [
    "Now for our 'Model'. Again for simplicity, I will just use a exponentially weighted moving average for the expected Strokes Gained to the Field of the golfer. This has the benefit of being an intuitively appealing method and being easy to do in pandas. The data is actually already in chronological order which is convenient. I'll fit a half-life parameter to the data by choosing the parameter for which the prediction (the exponentially weighted moving average of past strokes gained results) is most correlated with the outcome (strokes gained for the round). I won't worry about over-fitting the training data since it's just one parameter."
   ]
  },
  {
   "cell_type": "code",
   "execution_count": 42,
   "metadata": {
    "collapsed": false
   },
   "outputs": [],
   "source": [
    "## recording correlation with future results of ewma precition\n",
    "results = []\n",
    "for halflife in np.linspace(2,80,40):\n",
    "    df = round_data[['Player_Number','Strokes_Gained']].copy()\n",
    "    df['prediction'] = df.groupby('Player_Number')['Strokes_Gained']\\\n",
    "                         .transform(lambda x: \n",
    "                                    x.shift(1)\\\n",
    "                                    .ewm(halflife=halflife).mean())\n",
    "    df = df.dropna()\n",
    "    results.append(np.corrcoef(df.Strokes_Gained,df.prediction)[0,1])"
   ]
  },
  {
   "cell_type": "code",
   "execution_count": 43,
   "metadata": {
    "collapsed": false,
    "scrolled": false
   },
   "outputs": [
    {
     "data": {
      "image/png": "[encoded data removed]",
      "text/plain": [
       "<matplotlib.figure.Figure at 0x10a077790>"
      ]
     },
     "metadata": {},
     "output_type": "display_data"
    }
   ],
   "source": [
    "## plotting halflife vs. correlation\n",
    "fig,ax = plt.subplots(1,1,figsize=(15,7))\n",
    "plt.plot(np.linspace(2,80,40),results,lw=3);\n",
    "plt.ylim(0.17,0.25);\n",
    "plt.axvline(np.linspace(2,80,40)[np.argmax(results)],\n",
    "            c='black',ls='--');\n",
    "plt.xlabel('Halflife',fontsize=18);\n",
    "plt.ylabel('Correlation with Future Strokes Gained',fontsize=18);\n",
    "ax.tick_params(labelsize=16);"
   ]
  },
  {
   "cell_type": "markdown",
   "metadata": {},
   "source": [
    "Now I'll insert this \"model\"'s prediction into the dataframe for the expected Strokes Gained of the Player. I'll also insert the different between his Strokes Gained performance for the day and what was expected of him. This will give us a more useful result variable."
   ]
  },
  {
   "cell_type": "code",
   "execution_count": 44,
   "metadata": {
    "collapsed": false
   },
   "outputs": [],
   "source": [
    "## inserting Expected Result and difference bettwen expected and true\n",
    "halflife = np.linspace(2,80,40)[np.argmax(results)]\n",
    "round_data['Exp_StrokesGained'] = round_data.groupby('Player_Number')\\\n",
    "                                  ['Strokes_Gained']\\\n",
    "                                  .transform(lambda x: x.shift(1)\\\n",
    "                                      .ewm(halflife=halflife).mean())\n",
    "\n",
    "## first round for each player is null because no data \n",
    "## so filling with 0 which is saying he is expected to tie field\n",
    "round_data.Exp_StrokesGained.fillna(0,inplace=True)\n",
    "round_data['Net_Result'] = round_data['Strokes_Gained'] - round_data['Exp_StrokesGained']"
   ]
  },
  {
   "cell_type": "code",
   "execution_count": 45,
   "metadata": {
    "collapsed": false,
    "scrolled": true
   },
   "outputs": [
    {
     "data": {
      "image/png": "[encoded data removed]",
      "text/plain": [
       "<matplotlib.figure.Figure at 0x11a189f90>"
      ]
     },
     "metadata": {},
     "output_type": "display_data"
    }
   ],
   "source": [
    "## histogram of net result variable\n",
    "round_data.Net_Result.hist(bins=20,figsize=(15,5));"
   ]
  },
  {
   "cell_type": "code",
   "execution_count": 46,
   "metadata": {
    "collapsed": false
   },
   "outputs": [
    {
     "data": {
      "text/plain": [
       "(2.960602760298323, 2.9025255648037853)"
      ]
     },
     "execution_count": 46,
     "metadata": {},
     "output_type": "execute_result"
    }
   ],
   "source": [
    "## standard deviation before prediction and residuals\n",
    "## shows the prediction is somewhat useful in explaining\n",
    "## some variation\n",
    "round_data.Strokes_Gained.std(),round_data.Net_Result.std()"
   ]
  },
  {
   "cell_type": "markdown",
   "metadata": {},
   "source": [
    "Now we are all ready to do some statistical tests. We have a result variable and have made it so that our samples are independent by controlling for the overall skill of each player. We can try one-way ANOVA first. Let's make a nested list that we'll feed to the scipy ANOVA function."
   ]
  },
  {
   "cell_type": "code",
   "execution_count": 47,
   "metadata": {
    "collapsed": true
   },
   "outputs": [],
   "source": [
    "## making a list of arrays for anova function\n",
    "nested_list = []\n",
    "for tup,df in round_data.groupby(['Tournament_Year',\n",
    "                                  'Permanent_Tournament_#',\n",
    "                                  'Course_#','Round_Number',\n",
    "                                  'Tee_Time','Hole_Started_On']):\n",
    "    nested_list.append(df.Net_Result.values)"
   ]
  },
  {
   "cell_type": "code",
   "execution_count": 48,
   "metadata": {
    "collapsed": false,
    "scrolled": true
   },
   "outputs": [
    {
     "data": {
      "text/plain": [
       "array([-0.71188839,  2.33474434,  1.67479521])"
      ]
     },
     "execution_count": 48,
     "metadata": {},
     "output_type": "execute_result"
    }
   ],
   "source": [
    "## first sample\n",
    "nested_list[0]"
   ]
  },
  {
   "cell_type": "code",
   "execution_count": 49,
   "metadata": {
    "collapsed": false
   },
   "outputs": [
    {
     "data": {
      "text/plain": [
       "True"
      ]
     },
     "execution_count": 49,
     "metadata": {},
     "output_type": "execute_result"
    }
   ],
   "source": [
    "## making sure we have groups of 2 or 3 only\n",
    "all(len(list_)==2 or len(list_)==3 for list_ in nested_list)"
   ]
  },
  {
   "cell_type": "code",
   "execution_count": 50,
   "metadata": {
    "collapsed": false
   },
   "outputs": [],
   "source": [
    "## import and feed scipy anova function\n",
    "from scipy.stats import f_oneway\n",
    "\n",
    "f_stat,p_value = f_oneway(*nested_list)"
   ]
  },
  {
   "cell_type": "code",
   "execution_count": 51,
   "metadata": {
    "collapsed": false
   },
   "outputs": [
    {
     "data": {
      "text/plain": [
       "(1.0691939363966874, 2.6323346983777417e-31)"
      ]
     },
     "execution_count": 51,
     "metadata": {},
     "output_type": "execute_result"
    }
   ],
   "source": [
    "## look at results\n",
    "f_stat,p_value"
   ]
  },
  {
   "cell_type": "markdown",
   "metadata": {},
   "source": [
    "So these are very strong results. I am cautious however since I am not sure that all of the three assumptions that are necessary for this test to be valid are true. I am confident about the independence assumption, and decently confident about the homoskedasticity assumption, but less confident about the normality assumption. \n",
    "\n",
    "As an alternative test we can do the Kruskal-Wallis H-test. This test is for the null hypothesis that the medians of the samples are the same. It is a non-parametric version of ANOVA and only assumes that the samples are independent of one another (which I believe is true). Let's see the results of this test.. "
   ]
  },
  {
   "cell_type": "code",
   "execution_count": 52,
   "metadata": {
    "collapsed": true
   },
   "outputs": [],
   "source": [
    "## import and feed scipy kruskal-wallis function\n",
    "from scipy.stats import kruskal\n",
    "\n",
    "stat,p_value = kruskal(*nested_list)"
   ]
  },
  {
   "cell_type": "code",
   "execution_count": 53,
   "metadata": {
    "collapsed": false
   },
   "outputs": [
    {
     "data": {
      "text/plain": [
       "(100464.64203812063, 6.3418111409966217e-22)"
      ]
     },
     "execution_count": 53,
     "metadata": {},
     "output_type": "execute_result"
    }
   ],
   "source": [
    "## look at results\n",
    "stat,p_value"
   ]
  },
  {
   "cell_type": "markdown",
   "metadata": {},
   "source": [
    "Another strong result! This is very interesting but still the result is not very tangible. To investigate the magnitude of the effect and visualize how robust it is, let's do a permutation test. First let's define some closeness-within-a-group metric. I will use the average distance between each of the possible pairs of players within a group (1 pair if it is a twosome and 3 pairs if it is a threesome) as this metric and take the average across all groups as the metric that tells me how close the groups are on average. First let's compute this metric for the real, unpermuted, data."
   ]
  },
  {
   "cell_type": "code",
   "execution_count": 54,
   "metadata": {
    "collapsed": true
   },
   "outputs": [],
   "source": [
    "## import pdist to compute pairwise distances\n",
    "from scipy.spatial.distance import pdist"
   ]
  },
  {
   "cell_type": "code",
   "execution_count": 55,
   "metadata": {
    "collapsed": true
   },
   "outputs": [],
   "source": [
    "## compute metric for real data\n",
    "metric_unpermuted = np.mean([np.mean(pdist(sample[:,None]))\n",
    "                             for sample in nested_list])"
   ]
  },
  {
   "cell_type": "code",
   "execution_count": 56,
   "metadata": {
    "collapsed": false
   },
   "outputs": [
    {
     "data": {
      "text/plain": [
       "3.1849814247566357"
      ]
     },
     "execution_count": 56,
     "metadata": {},
     "output_type": "execute_result"
    }
   ],
   "source": [
    "## view the metric\n",
    "metric_unpermuted"
   ]
  },
  {
   "cell_type": "markdown",
   "metadata": {},
   "source": [
    "Now we will randomly permute the values of the *Net_Result* variable many times and then compute the value of the metric of interest each time. This will enable us to see how likely our result would have happened if the groups were done completely randomly. We will also be able to visualize the metric computed on the real data in the context of random configurations of the groups.\n",
    "\n",
    "Since all that matters is the number of twosomes and the number of threesomes for defining the groups after the permutation, I can avoid doing this explicitly with the same groupby. I will do it by extracting the values from the dataframe and using some handy numpy functions."
   ]
  },
  {
   "cell_type": "code",
   "execution_count": 57,
   "metadata": {
    "collapsed": true
   },
   "outputs": [],
   "source": [
    "## define metric function\n",
    "def compute_metric(samples):\n",
    "    return np.mean([np.mean(pdist(sample[:,None]))\n",
    "                    for sample in samples])"
   ]
  },
  {
   "cell_type": "code",
   "execution_count": 58,
   "metadata": {
    "collapsed": true
   },
   "outputs": [],
   "source": [
    "## extract values and number of twosomes and number of threesomes\n",
    "result_values = round_data.Net_Result.values\n",
    "counts = round_data.groupby(['Tournament_Year',\n",
    "                             'Permanent_Tournament_#',\n",
    "                             'Course_#','Round_Number',\n",
    "                             'Tee_Time','Hole_Started_On']).size()\\\n",
    "                    .reset_index().rename(columns={0:'Num_Groups'})\\\n",
    "                    .Num_Groups.value_counts()\n",
    "num_twos,num_threes = counts[2],counts[3]"
   ]
  },
  {
   "cell_type": "code",
   "execution_count": 59,
   "metadata": {
    "collapsed": false
   },
   "outputs": [
    {
     "data": {
      "text/plain": [
       "(35872, 60343)"
      ]
     },
     "execution_count": 59,
     "metadata": {},
     "output_type": "execute_result"
    }
   ],
   "source": [
    "## view results\n",
    "num_twos,num_threes"
   ]
  },
  {
   "cell_type": "code",
   "execution_count": 60,
   "metadata": {
    "collapsed": false
   },
   "outputs": [],
   "source": [
    "## indicies to split array at (no need for last index)\n",
    "indicies = np.cumsum(np.concatenate([[2]*num_twos,\n",
    "                                     [3]*num_threes]))[:-1]"
   ]
  },
  {
   "cell_type": "code",
   "execution_count": 61,
   "metadata": {
    "collapsed": false
   },
   "outputs": [],
   "source": [
    "## permute 10,000 times and compute metric each time\n",
    "metrics_permuted = []\n",
    "for i in xrange(10000):\n",
    "    result_values = np.random.permutation(result_values)\n",
    "    samples = np.split(result_values,indicies)\n",
    "    metrics_permuted.append(compute_metric(samples))"
   ]
  },
  {
   "cell_type": "code",
   "execution_count": 62,
   "metadata": {
    "collapsed": false
   },
   "outputs": [
    {
     "data": {
      "image/png": "[encoded data removed]",
      "text/plain": [
       "<matplotlib.figure.Figure at 0x12692cb50>"
      ]
     },
     "metadata": {},
     "output_type": "display_data"
    }
   ],
   "source": [
    "## make fancy plot of results\n",
    "fig,ax = plt.subplots(1,1,figsize=(16,10))\n",
    "plt.violinplot(metrics_permuted,vert=False);\n",
    "plt.axvline(metric_unpermuted,lw=2.3,\n",
    "            label='Value that Occured in Reality');\n",
    "plt.xlabel('Average of average pairwise distance within group',\n",
    "           fontsize=20);\n",
    "plt.ylabel('Density',fontsize=20);\n",
    "plt.title('''Distribution of Metric Occuring by Chance \n",
    "Along with Value that Occured in Reality''',fontsize=23);\n",
    "ax.tick_params(labelsize=16);\n",
    "plt.legend(loc=2,prop={'size':16});"
   ]
  },
  {
   "cell_type": "markdown",
   "metadata": {},
   "source": [
    "So the above plot shows that even the most extreme value on the low end of the spectrum of the metric that occurred by chance is about 5 standard deviations from the value that occurred from the groups in reality. This is another strong result."
   ]
  },
  {
   "cell_type": "markdown",
   "metadata": {},
   "source": [
    "### Conclusion"
   ]
  },
  {
   "cell_type": "markdown",
   "metadata": {},
   "source": [
    "The permutation test along with the statistical tests allows me to confidently conclude that PGA Tour players display a feed-off effect where players playing in the same group perform more similarly to each other that one would expect to see according to random chance. Although the size of the effect is only about 0.06 strokes different from what one would expect by chance, measured in terms of the average pairwise distance between all possible pairs within a group, the effect is astronomically unlikely to be attributable to chance.\n",
    "\n",
    "I will end this post here and wait to explore questions such as the ones mentioned at the beginning for part two.\n",
    "\n",
    "I will leave it to the reader to discern the psychological mechanisms behind this effect. In my mind there is a moral behind this analysis - even from a purely competitive perspective, you should try to establish a good rapport with your playing partners because what's good for them is going to be good for you as the scores of group-members are tied together in a statistically significant way."
   ]
  }
 ],
 "metadata": {
  "kernelspec": {
   "display_name": "Python 2",
   "language": "python",
   "name": "python2"
  },
  "language_info": {
   "codemirror_mode": {
    "name": "ipython",
    "version": 2
   },
   "file_extension": ".py",
   "mimetype": "text/x-python",
   "name": "python",
   "nbconvert_exporter": "python",
   "pygments_lexer": "ipython2",
   "version": "2.7.11"
  }
 },
 "nbformat": 4,
 "nbformat_minor": 0
}
