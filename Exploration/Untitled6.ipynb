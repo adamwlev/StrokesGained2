{
 "cells": [
  {
   "cell_type": "code",
   "execution_count": 1,
   "metadata": {
    "collapsed": true
   },
   "outputs": [],
   "source": [
    "import pandas as pd\n",
    "import numpy as np\n",
    "from cluster import cluster"
   ]
  },
  {
   "cell_type": "code",
   "execution_count": 2,
   "metadata": {
    "collapsed": true
   },
   "outputs": [],
   "source": [
    "data = pd.read_csv('data/2003.csv')\n",
    "results = {}\n",
    "for (course,hole),df in data.groupby(['Course_#','Hole']):\n",
    "    if len(df)==1:\n",
    "        continue\n",
    "    closest_to_pin = df.groupby(['Year','Round']).apply(lambda x: x[x.last_shot_mask].sort_values('Distance_from_hole').iloc[0]).reset_index(drop=True)\n",
    "    assignments, cluster_centers = cluster(closest_to_pin)\n",
    "    clusters = dict(zip(np.sort(pd.unique(assignments)),cluster_centers))\n",
    "    results.update({(course,hole) + tuple(tup):(a,clusters[a])\n",
    "                    for tup,a in zip(closest_to_pin[['Year','Round']].values,assignments)})"
   ]
  },
  {
   "cell_type": "code",
   "execution_count": null,
   "metadata": {
    "collapsed": true
   },
   "outputs": [],
   "source": []
  }
 ],
 "metadata": {
  "kernelspec": {
   "display_name": "Python 2",
   "language": "python",
   "name": "python2"
  },
  "language_info": {
   "codemirror_mode": {
    "name": "ipython",
    "version": 2
   },
   "file_extension": ".py",
   "mimetype": "text/x-python",
   "name": "python",
   "nbconvert_exporter": "python",
   "pygments_lexer": "ipython2",
   "version": "2.7.13"
  }
 },
 "nbformat": 4,
 "nbformat_minor": 2
}
