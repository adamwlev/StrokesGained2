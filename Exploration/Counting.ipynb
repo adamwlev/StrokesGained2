{
 "cells": [
  {
   "cell_type": "code",
   "execution_count": 1,
   "metadata": {
    "collapsed": true
   },
   "outputs": [],
   "source": [
    "import pandas as pd\n",
    "import numpy as np"
   ]
  },
  {
   "cell_type": "code",
   "execution_count": 2,
   "metadata": {
    "collapsed": false
   },
   "outputs": [
    {
     "name": "stderr",
     "output_type": "stream",
     "text": [
      "/Users/adamlevin/anaconda/lib/python2.7/site-packages/IPython/core/interactiveshell.py:2723: DtypeWarning: Columns (35) have mixed types. Specify dtype option on import or set low_memory=False.\n",
      "  interactivity=interactivity, compiler=compiler, result=result)\n"
     ]
    }
   ],
   "source": [
    "data = pd.read_csv('./../data/rawdata/2003.txt',sep=';')"
   ]
  },
  {
   "cell_type": "code",
   "execution_count": 3,
   "metadata": {
    "collapsed": false
   },
   "outputs": [
    {
     "data": {
      "text/plain": [
       "Index([u'Tour Code', u' Tour Description', u' Year', u' Tourn.#', u' Player #',\n",
       "       u' Course #', u' Permanent Tournament #', u' Player First Name',\n",
       "       u' Player Last Name', u' Round', u' Tournament Name', u'Course Name',\n",
       "       u' Hole', u' Hole Score', u' Par Value', u' Yardage', u'  Shot',\n",
       "       u' Shot Type(S/P/D)', u'# of Strokes', u' From Location(Scorer)',\n",
       "       u' From Location(Enhanced)', u' To Location(Laser)',\n",
       "       u' To Location(Enhanced)', u' Distance', u' Distance to Pin',\n",
       "       u' In the Hole Flag', u' Around the Green Flag', u'1st Putt Flag',\n",
       "       u' Distance to Hole after the Shot', u' Time', u' Lie', u' Elevation',\n",
       "       u' Slope', u' X Coordinate', u' Y Coordinate', u'  Z Coordinate',\n",
       "       u' Distance from Center', u' Distance from Edge', u' Date'],\n",
       "      dtype='object')"
      ]
     },
     "execution_count": 3,
     "metadata": {},
     "output_type": "execute_result"
    }
   ],
   "source": [
    "data.columns"
   ]
  },
  {
   "cell_type": "code",
   "execution_count": 5,
   "metadata": {
    "collapsed": true
   },
   "outputs": [],
   "source": [
    "cols = [' Year',' Player #',' Round',' Course #',' Permanent Tournament #',' Hole']"
   ]
  },
  {
   "cell_type": "code",
   "execution_count": 6,
   "metadata": {
    "collapsed": false
   },
   "outputs": [
    {
     "name": "stderr",
     "output_type": "stream",
     "text": [
      "/Users/adamlevin/anaconda/lib/python2.7/site-packages/IPython/core/interactiveshell.py:2723: DtypeWarning: Columns (35,41) have mixed types. Specify dtype option on import or set low_memory=False.\n",
      "  interactivity=interactivity, compiler=compiler, result=result)\n",
      "/Users/adamlevin/anaconda/lib/python2.7/site-packages/IPython/core/interactiveshell.py:2723: DtypeWarning: Columns (20,22,27,33,34,35,39,41) have mixed types. Specify dtype option on import or set low_memory=False.\n",
      "  interactivity=interactivity, compiler=compiler, result=result)\n",
      "/Users/adamlevin/anaconda/lib/python2.7/site-packages/IPython/core/interactiveshell.py:2723: DtypeWarning: Columns (20,21,22,27,33,34,35,39,41) have mixed types. Specify dtype option on import or set low_memory=False.\n",
      "  interactivity=interactivity, compiler=compiler, result=result)\n",
      "/Users/adamlevin/anaconda/lib/python2.7/site-packages/IPython/core/interactiveshell.py:2723: DtypeWarning: Columns (13,20,21,22,27,33,34,35,39,41) have mixed types. Specify dtype option on import or set low_memory=False.\n",
      "  interactivity=interactivity, compiler=compiler, result=result)\n"
     ]
    }
   ],
   "source": [
    "data = pd.concat([pd.read_csv('./../data/rawdata/%d.txt' % year,sep=';')[cols] for year in range(2003,2017)])"
   ]
  },
  {
   "cell_type": "code",
   "execution_count": 7,
   "metadata": {
    "collapsed": false
   },
   "outputs": [
    {
     "data": {
      "text/html": [
       "<div>\n",
       "<table border=\"1\" class=\"dataframe\">\n",
       "  <thead>\n",
       "    <tr style=\"text-align: right;\">\n",
       "      <th></th>\n",
       "      <th>Year</th>\n",
       "      <th>Player #</th>\n",
       "      <th>Round</th>\n",
       "      <th>Course #</th>\n",
       "      <th>Permanent Tournament #</th>\n",
       "      <th>Hole</th>\n",
       "    </tr>\n",
       "  </thead>\n",
       "  <tbody>\n",
       "    <tr>\n",
       "      <th>0</th>\n",
       "      <td>2003</td>\n",
       "      <td>1320</td>\n",
       "      <td>1</td>\n",
       "      <td>656</td>\n",
       "      <td>16</td>\n",
       "      <td>1</td>\n",
       "    </tr>\n",
       "    <tr>\n",
       "      <th>1</th>\n",
       "      <td>2003</td>\n",
       "      <td>1320</td>\n",
       "      <td>1</td>\n",
       "      <td>656</td>\n",
       "      <td>16</td>\n",
       "      <td>1</td>\n",
       "    </tr>\n",
       "    <tr>\n",
       "      <th>2</th>\n",
       "      <td>2003</td>\n",
       "      <td>1320</td>\n",
       "      <td>1</td>\n",
       "      <td>656</td>\n",
       "      <td>16</td>\n",
       "      <td>1</td>\n",
       "    </tr>\n",
       "    <tr>\n",
       "      <th>3</th>\n",
       "      <td>2003</td>\n",
       "      <td>1320</td>\n",
       "      <td>1</td>\n",
       "      <td>656</td>\n",
       "      <td>16</td>\n",
       "      <td>1</td>\n",
       "    </tr>\n",
       "    <tr>\n",
       "      <th>4</th>\n",
       "      <td>2003</td>\n",
       "      <td>1320</td>\n",
       "      <td>1</td>\n",
       "      <td>656</td>\n",
       "      <td>16</td>\n",
       "      <td>2</td>\n",
       "    </tr>\n",
       "  </tbody>\n",
       "</table>\n",
       "</div>"
      ],
      "text/plain": [
       "    Year   Player #   Round   Course #   Permanent Tournament #   Hole\n",
       "0   2003       1320       1        656                       16      1\n",
       "1   2003       1320       1        656                       16      1\n",
       "2   2003       1320       1        656                       16      1\n",
       "3   2003       1320       1        656                       16      1\n",
       "4   2003       1320       1        656                       16      2"
      ]
     },
     "execution_count": 7,
     "metadata": {},
     "output_type": "execute_result"
    }
   ],
   "source": [
    "data.head()"
   ]
  },
  {
   "cell_type": "code",
   "execution_count": 8,
   "metadata": {
    "collapsed": false
   },
   "outputs": [
    {
     "name": "stdout",
     "output_type": "stream",
     "text": [
      "<class 'pandas.core.frame.DataFrame'>\n",
      "Int64Index: 16469637 entries, 0 to 1141965\n",
      "Data columns (total 6 columns):\n",
      " Year                      int64\n",
      " Player #                  int64\n",
      " Round                     int64\n",
      " Course #                  int64\n",
      " Permanent Tournament #    int64\n",
      " Hole                      int64\n",
      "dtypes: int64(6)\n",
      "memory usage: 879.6 MB\n"
     ]
    }
   ],
   "source": [
    "data.info()"
   ]
  },
  {
   "cell_type": "code",
   "execution_count": 9,
   "metadata": {
    "collapsed": false
   },
   "outputs": [
    {
     "name": "stdout",
     "output_type": "stream",
     "text": [
      "Number of shots: 16469637\n",
      "Number of players: 2054\n",
      "Number of courses: 107\n",
      "Number of tournaments: 561\n",
      "Number of rounds: 2244\n",
      "Number of holes: 40392\n"
     ]
    }
   ],
   "source": [
    "print 'Number of shots: ' + str(len(data))\n",
    "print 'Number of players: ' + str(len(pd.unique(data[' Player #'])))\n",
    "print 'Number of courses: ' + str(len(pd.unique(data[' Course #'])))\n",
    "print 'Number of tournaments: ' + str(len(data.groupby([' Year',' Permanent Tournament #'])))\n",
    "print 'Number of rounds: ' + str(len(data.groupby([' Year',' Permanent Tournament #',' Round'])))\n",
    "print 'Number of holes: ' + str(len(data.groupby([' Year',' Permanent Tournament #',' Round',' Hole'])))"
   ]
  },
  {
   "cell_type": "code",
   "execution_count": 15,
   "metadata": {
    "collapsed": true
   },
   "outputs": [],
   "source": [
    "labels = ['Number of shots','Number of players','Number of courses',\n",
    "          'Number of tournaments','Number of rounds','Number of holes*']"
   ]
  },
  {
   "cell_type": "code",
   "execution_count": 12,
   "metadata": {
    "collapsed": true
   },
   "outputs": [],
   "source": [
    "numbers = [len(data),len(pd.unique(data[' Player #'])),len(pd.unique(data[' Course #'])),\n",
    "           len(data.groupby([' Year',' Permanent Tournament #'])),\n",
    "           len(data.groupby([' Year',' Permanent Tournament #',' Round'])),\n",
    "           len(data.groupby([' Year',' Permanent Tournament #',' Round',' Hole']))]"
   ]
  },
  {
   "cell_type": "code",
   "execution_count": 16,
   "metadata": {
    "collapsed": false
   },
   "outputs": [
    {
     "data": {
      "text/html": [
       "<div>\n",
       "<table border=\"1\" class=\"dataframe\">\n",
       "  <thead>\n",
       "    <tr style=\"text-align: right;\">\n",
       "      <th></th>\n",
       "      <th>Query</th>\n",
       "      <th>Result</th>\n",
       "    </tr>\n",
       "  </thead>\n",
       "  <tbody>\n",
       "    <tr>\n",
       "      <th>0</th>\n",
       "      <td>Number of shots</td>\n",
       "      <td>16469637</td>\n",
       "    </tr>\n",
       "    <tr>\n",
       "      <th>1</th>\n",
       "      <td>Number of players</td>\n",
       "      <td>2054</td>\n",
       "    </tr>\n",
       "    <tr>\n",
       "      <th>2</th>\n",
       "      <td>Number of courses</td>\n",
       "      <td>107</td>\n",
       "    </tr>\n",
       "    <tr>\n",
       "      <th>3</th>\n",
       "      <td>Number of tournaments</td>\n",
       "      <td>561</td>\n",
       "    </tr>\n",
       "    <tr>\n",
       "      <th>4</th>\n",
       "      <td>Number of rounds</td>\n",
       "      <td>2244</td>\n",
       "    </tr>\n",
       "    <tr>\n",
       "      <th>5</th>\n",
       "      <td>Number of holes*</td>\n",
       "      <td>40392</td>\n",
       "    </tr>\n",
       "  </tbody>\n",
       "</table>\n",
       "</div>"
      ],
      "text/plain": [
       "                   Query    Result\n",
       "0        Number of shots  16469637\n",
       "1      Number of players      2054\n",
       "2      Number of courses       107\n",
       "3  Number of tournaments       561\n",
       "4       Number of rounds      2244\n",
       "5       Number of holes*     40392"
      ]
     },
     "execution_count": 16,
     "metadata": {},
     "output_type": "execute_result"
    }
   ],
   "source": [
    "pd.DataFrame({'Query':labels,'Result':numbers})"
   ]
  },
  {
   "cell_type": "code",
   "execution_count": 17,
   "metadata": {
    "collapsed": true
   },
   "outputs": [],
   "source": [
    "pd.DataFrame({'Query':labels,'Result':numbers}).to_clipboard()"
   ]
  },
  {
   "cell_type": "code",
   "execution_count": 23,
   "metadata": {
    "collapsed": true
   },
   "outputs": [],
   "source": [
    "cols = [' From Location(Scorer)']"
   ]
  },
  {
   "cell_type": "code",
   "execution_count": 24,
   "metadata": {
    "collapsed": false
   },
   "outputs": [],
   "source": [
    "data = pd.concat([pd.read_csv('./../data/rawdata/%d.txt' % year,sep=';')[cols] for year in range(2003,2017)])"
   ]
  },
  {
   "cell_type": "code",
   "execution_count": 25,
   "metadata": {
    "collapsed": false
   },
   "outputs": [
    {
     "data": {
      "text/plain": [
       "Index([u' From Location(Scorer)'], dtype='object')"
      ]
     },
     "execution_count": 25,
     "metadata": {},
     "output_type": "execute_result"
    }
   ],
   "source": [
    "data.columns"
   ]
  },
  {
   "cell_type": "code",
   "execution_count": 27,
   "metadata": {
    "collapsed": false
   },
   "outputs": [
    {
     "data": {
      "text/plain": [
       "Green                 0.407252\n",
       "Tee Box               0.252514\n",
       "Fairway               0.166480\n",
       "Primary Rough         0.079925\n",
       "Intermediate Rough    0.023775\n",
       "Green Side Bunker     0.023075\n",
       "Fringe                0.017771\n",
       "Unknown               0.011512\n",
       "Fairway Bunker        0.011507\n",
       "Native Area           0.004137\n",
       "Other                 0.001612\n",
       "Water                 0.000074\n",
       "Grass Bunker          0.000052\n",
       "Name:  From Location(Scorer), dtype: float64"
      ]
     },
     "execution_count": 27,
     "metadata": {},
     "output_type": "execute_result"
    }
   ],
   "source": [
    "data[' From Location(Scorer)'].value_counts()/float(len(data))"
   ]
  },
  {
   "cell_type": "code",
   "execution_count": null,
   "metadata": {
    "collapsed": true
   },
   "outputs": [],
   "source": []
  }
 ],
 "metadata": {
  "kernelspec": {
   "display_name": "Python 2",
   "language": "python",
   "name": "python2"
  },
  "language_info": {
   "codemirror_mode": {
    "name": "ipython",
    "version": 2
   },
   "file_extension": ".py",
   "mimetype": "text/x-python",
   "name": "python",
   "nbconvert_exporter": "python",
   "pygments_lexer": "ipython2",
   "version": "2.7.11"
  }
 },
 "nbformat": 4,
 "nbformat_minor": 0
}
