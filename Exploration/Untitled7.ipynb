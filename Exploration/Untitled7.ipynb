{
 "cells": [
  {
   "cell_type": "code",
   "execution_count": 14,
   "metadata": {
    "collapsed": true
   },
   "outputs": [],
   "source": [
    "import numpy as np"
   ]
  },
  {
   "cell_type": "code",
   "execution_count": 1,
   "metadata": {
    "collapsed": true
   },
   "outputs": [],
   "source": [
    "with open('log.txt','r') as log_file:\n",
    "    log = log_file.read()"
   ]
  },
  {
   "cell_type": "code",
   "execution_count": 5,
   "metadata": {
    "collapsed": true
   },
   "outputs": [],
   "source": [
    "cats = ['Green','Fairway','Intermediate Rough','Primary Rough','Fringe','Bunker','Other']"
   ]
  },
  {
   "cell_type": "code",
   "execution_count": 12,
   "metadata": {
    "collapsed": false
   },
   "outputs": [
    {
     "name": "stdout",
     "output_type": "stream",
     "text": [
      "Green\n",
      "Fairway\n",
      "Intermediate Rough\n",
      "Primary Rough\n",
      "Fringe\n",
      "Bunker\n",
      "Other\n"
     ]
    }
   ],
   "source": [
    "num_trees = {}\n",
    "results = {}\n",
    "skip_lines = [\"Multiple eval metrics have been passed: 'eval-error' will be used for early stopping.\",\n",
    "              \"Will train until eval-error hasn't improved in 25 rounds.\"]\n",
    "splitted = log.split('\\n')\n",
    "for u,line in enumerate(splitted):\n",
    "    if not line:\n",
    "        continue\n",
    "    if line in cats:\n",
    "        cat = line\n",
    "        print cat\n",
    "        results[cat] = []\n",
    "        continue\n",
    "    if line.startswith('**'):\n",
    "        results[cat].append(float(line.replace('  ',' ').split(' ')[-2]))"
   ]
  },
  {
   "cell_type": "code",
   "execution_count": 15,
   "metadata": {
    "collapsed": false
   },
   "outputs": [
    {
     "name": "stdout",
     "output_type": "stream",
     "text": [
      "Green\n",
      "(0.2122970324261543, 0.21270603424051229)\n",
      "Fairway\n",
      "(0.39280379960535045, 0.3938106003946496)\n",
      "Intermediate Rough\n",
      "(0.39718459133246881, 0.39829727533419784)\n",
      "Primary Rough\n",
      "(0.45627109218938794, 0.4572438411439454)\n",
      "Fringe\n",
      "(0.23918482023405763, 0.24077904643260917)\n",
      "Bunker\n",
      "(0.50947634189843349, 0.51064192476823311)\n",
      "Other\n",
      "(0.54035811060633776, 0.54571868939366208)\n"
     ]
    }
   ],
   "source": [
    "for cat in cats:\n",
    "    print cat\n",
    "    res = results[cat]\n",
    "    mean = np.mean(res)\n",
    "    stderr = np.std(res)/15**.5\n",
    "    print (mean - stderr, mean + stderr)"
   ]
  },
  {
   "cell_type": "code",
   "execution_count": 28,
   "metadata": {
    "collapsed": false
   },
   "outputs": [],
   "source": [
    "results2 = {'Fairway':np.array([0.392835,0.390462,0.394254,0.393204,0.391213,0.396961,0.393245,0.393665,0.39104,0.393252,0.394676,0.395104,0.392875,0.388777,0.394167]),\n",
    "            'Intermediate Rough':np.array([0.396777,0.397803,0.396002,0.395112,0.397533,0.395186,0.398744,0.396738,0.397406,0.391295,0.394594,0.398661,0.399008,0.395502,0.396761]),\n",
    "            'Primary Rough':np.array([0.457805,0.458128,0.458237,.456961 ,0.460041,0.458991,.453285 ,0.455392,0.455347,0.454682,.45823,.45476,.45530,.45443,.45604]),\n",
    "            'Other':np.array([0.537345,0.537584,0.529978,.544887 ,0.534295,0.554599,0.551791,0.544254,0.527396,0.543669,0.54129,0.53123,0.53012,0.53986,0.53942])}"
   ]
  },
  {
   "cell_type": "code",
   "execution_count": 29,
   "metadata": {
    "collapsed": false
   },
   "outputs": [
    {
     "name": "stdout",
     "output_type": "stream",
     "text": [
      "Fairway\n",
      "(0.3925418923213837, 0.39355544101194972)\n",
      "Intermediate Rough\n",
      "(0.39597861350996943, 0.3969709864900306)\n",
      "Primary Rough\n",
      "(0.45601652424431471, 0.45700067575568548)\n",
      "Other\n",
      "(0.53720486823252989, 0.54115753176746995)\n"
     ]
    }
   ],
   "source": [
    "for cat in cats:\n",
    "    try:\n",
    "        res = results2[cat]\n",
    "        print cat\n",
    "    except:\n",
    "        continue\n",
    "    mean = np.mean(res)\n",
    "    stderr = np.std(res)/15**.5\n",
    "    print (mean - stderr, mean + stderr)"
   ]
  },
  {
   "cell_type": "code",
   "execution_count": null,
   "metadata": {
    "collapsed": true
   },
   "outputs": [],
   "source": []
  }
 ],
 "metadata": {
  "kernelspec": {
   "display_name": "Python 2",
   "language": "python",
   "name": "python2"
  },
  "language_info": {
   "codemirror_mode": {
    "name": "ipython",
    "version": 2
   },
   "file_extension": ".py",
   "mimetype": "text/x-python",
   "name": "python",
   "nbconvert_exporter": "python",
   "pygments_lexer": "ipython2",
   "version": "2.7.13"
  }
 },
 "nbformat": 4,
 "nbformat_minor": 2
}
