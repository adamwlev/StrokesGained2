{
 "cells": [
  {
   "cell_type": "code",
   "execution_count": 1,
   "metadata": {
    "collapsed": true
   },
   "outputs": [],
   "source": [
    "import pandas as pd\n",
    "import numpy as np\n",
    "from sklearn.isotonic import IsotonicRegression\n",
    "import matplotlib.pyplot as plt\n",
    "%matplotlib inline"
   ]
  },
  {
   "cell_type": "code",
   "execution_count": 3,
   "metadata": {
    "collapsed": false
   },
   "outputs": [],
   "source": [
    "for year in range(2003,2017):\n",
    "    data = pd.read_csv('data/%d.csv' % (year,));\n",
    "    if year==2003:\n",
    "        df = data.loc[0:1,:]\n",
    "    df = df.append(data.iloc[np.random.choice(range(len(data)),size=75000,replace=False)])"
   ]
  },
  {
   "cell_type": "code",
   "execution_count": 4,
   "metadata": {
    "collapsed": false
   },
   "outputs": [
    {
     "data": {
      "text/plain": [
       "(903478, 40)"
      ]
     },
     "execution_count": 4,
     "metadata": {},
     "output_type": "execute_result"
    }
   ],
   "source": [
    "data.shape"
   ]
  },
  {
   "cell_type": "code",
   "execution_count": 8,
   "metadata": {
    "collapsed": false
   },
   "outputs": [
    {
     "data": {
      "text/plain": [
       "Index([u'Year', u'Tourn.#', u'Player_#', u'Course_#',\n",
       "       u'Permanent_Tournament_#', u'Player_First_Name', u'Player_Last_Name',\n",
       "       u'Round', u'Tournament_Name', u'Course_Name', u'Hole', u'Hole_Score',\n",
       "       u'Par_Value', u'Yardage', u'Shot', u'Shot_Type(S/P/D)', u'#_of_Strokes',\n",
       "       u'From_Location(Scorer)', u'From_Location(Enhanced)',\n",
       "       u'To_Location(Scorer)', u'To_Location(Enhanced)', u'Distance',\n",
       "       u'Distance_to_Pin', u'Around_the_Green_Flag', u'1st_Putt_Flag',\n",
       "       u'Distance_to_Hole_after_the_Shot', u'Time', u'Elevation',\n",
       "       u'Strokes_Gained/Baseline', u'Strokes_Gained_Category',\n",
       "       u'Recovery_Shot', u'Shots_taken_from_location', u'Went_to_X',\n",
       "       u'Went_to_Y', u'Went_to_Z', u'Started_at_X', u'Started_at_Y',\n",
       "       u'Started_at_Z', u'Distance_from_hole', u'Strokes_Gained'],\n",
       "      dtype='object')"
      ]
     },
     "execution_count": 8,
     "metadata": {},
     "output_type": "execute_result"
    }
   ],
   "source": [
    "data.columns"
   ]
  },
  {
   "cell_type": "code",
   "execution_count": 18,
   "metadata": {
    "collapsed": false
   },
   "outputs": [
    {
     "data": {
      "text/plain": [
       "(1050002, 41)"
      ]
     },
     "execution_count": 18,
     "metadata": {},
     "output_type": "execute_result"
    }
   ],
   "source": [
    "df.shape"
   ]
  },
  {
   "cell_type": "code",
   "execution_count": 27,
   "metadata": {
    "collapsed": true
   },
   "outputs": [],
   "source": [
    "def print_full(x):\n",
    "    pd.set_option('display.max_columns', None)\n",
    "    print(x)\n",
    "    pd.reset_option('display.max_columns')"
   ]
  },
  {
   "cell_type": "code",
   "execution_count": 34,
   "metadata": {
    "collapsed": true
   },
   "outputs": [],
   "source": [
    "def convert_cats(cat,dist):\n",
    "    if cat in ['Green Side Bunker','Fairway Bunker']:\n",
    "        return 'Bunker'\n",
    "    elif cat not in ['Green','Fairway','Fringe','Primary Rough','Intermediate Rough','Tee Box']:\n",
    "        return 'Other'\n",
    "    elif cat=='Fringe' and dist>120:\n",
    "        return 'Intermediate Rough'\n",
    "    else:\n",
    "        return cat"
   ]
  },
  {
   "cell_type": "code",
   "execution_count": 35,
   "metadata": {
    "collapsed": true
   },
   "outputs": [],
   "source": [
    "df.insert(len(df.columns),'Cat',[convert_cats(c,d) for c,d in zip(df['From_Location(Scorer)'],df['Distance_from_hole'])])"
   ]
  },
  {
   "cell_type": "code",
   "execution_count": 38,
   "metadata": {
    "collapsed": false
   },
   "outputs": [
    {
     "data": {
      "text/plain": [
       "Green                 0.414115\n",
       "Tee Box               0.255837\n",
       "Fairway               0.169531\n",
       "Primary Rough         0.079005\n",
       "Bunker                0.035701\n",
       "Intermediate Rough    0.023388\n",
       "Fringe                0.017433\n",
       "Other                 0.004990\n",
       "Name: Cat, dtype: float64"
      ]
     },
     "execution_count": 38,
     "metadata": {},
     "output_type": "execute_result"
    }
   ],
   "source": [
    "df.Cat.value_counts()/len(df)"
   ]
  },
  {
   "cell_type": "code",
   "execution_count": 48,
   "metadata": {
    "collapsed": false
   },
   "outputs": [],
   "source": [
    "cat_freq = pd.DataFrame({'Category':['green <5 feet','green 5-10 feet','green 10-20 feet','green 20+ feet',\n",
    "                          'rough <30 yards','rough 30-125 yards','rough 125+ yards',\n",
    "                          'fairway <100 yards','fairway 100-200 yards','fairway 200+ yards',\n",
    "                          'bunker play','tee shots par threes','tee shots par fours and fives'],\n",
    "              'Number_of_Shots':[len(df[(df.Cat=='Green') & (df.Distance_from_hole<5)]),\n",
    "                                 len(df[(df.Cat=='Green') & (df.Distance_from_hole<10) & (df.Distance_from_hole>=5)]),\n",
    "                                 len(df[(df.Cat=='Green') & (df.Distance_from_hole<20) & (df.Distance_from_hole>=10)]),\n",
    "                                 len(df[(df.Cat=='Green') & (df.Distance_from_hole>=20)]),\n",
    "                                 len(df[(df.Cat=='Primary Rough') & (df.Distance_from_hole<30*3)]),\n",
    "                                 len(df[(df.Cat=='Primary Rough') & (df.Distance_from_hole>=30*3) & (df.Distance_from_hole<125*3)]),\n",
    "                                 len(df[(df.Cat=='Primary Rough') & (df.Distance_from_hole>=125*3)]),\n",
    "                                 len(df[(df.Cat=='Fairway') & (df.Distance_from_hole<100*3)]),\n",
    "                                 len(df[(df.Cat=='Fairway') & (df.Distance_from_hole<200*3) & (df.Distance_from_hole>=100*3)]),\n",
    "                                 len(df[(df.Cat=='Fairway') & (df.Distance_from_hole>=200*3)]),\n",
    "                                 len(df[df.Cat=='Bunker']),\n",
    "                                 len(df[(df.Cat=='Tee Box') & (df.Par_Value==3)]),\n",
    "                                 len(df[(df.Cat=='Tee Box') & (df.Par_Value!=3)])]})"
   ]
  },
  {
   "cell_type": "code",
   "execution_count": 49,
   "metadata": {
    "collapsed": true
   },
   "outputs": [],
   "source": [
    "cat_freq['Frequency'] = cat_freq.Number_of_Shots/len(df)"
   ]
  },
  {
   "cell_type": "code",
   "execution_count": 50,
   "metadata": {
    "collapsed": false
   },
   "outputs": [
    {
     "data": {
      "text/html": [
       "<div>\n",
       "<table border=\"1\" class=\"dataframe\">\n",
       "  <thead>\n",
       "    <tr style=\"text-align: right;\">\n",
       "      <th></th>\n",
       "      <th>Category</th>\n",
       "      <th>Number_of_Shots</th>\n",
       "      <th>Frequency</th>\n",
       "    </tr>\n",
       "  </thead>\n",
       "  <tbody>\n",
       "    <tr>\n",
       "      <th>5</th>\n",
       "      <td>rough 30-125 yards</td>\n",
       "      <td>15552</td>\n",
       "      <td>0.014811</td>\n",
       "    </tr>\n",
       "    <tr>\n",
       "      <th>4</th>\n",
       "      <td>rough &lt;30 yards</td>\n",
       "      <td>26212</td>\n",
       "      <td>0.024964</td>\n",
       "    </tr>\n",
       "    <tr>\n",
       "      <th>9</th>\n",
       "      <td>fairway 200+ yards</td>\n",
       "      <td>34139</td>\n",
       "      <td>0.032513</td>\n",
       "    </tr>\n",
       "    <tr>\n",
       "      <th>10</th>\n",
       "      <td>bunker play</td>\n",
       "      <td>37486</td>\n",
       "      <td>0.035701</td>\n",
       "    </tr>\n",
       "    <tr>\n",
       "      <th>6</th>\n",
       "      <td>rough 125+ yards</td>\n",
       "      <td>41191</td>\n",
       "      <td>0.039229</td>\n",
       "    </tr>\n",
       "    <tr>\n",
       "      <th>7</th>\n",
       "      <td>fairway &lt;100 yards</td>\n",
       "      <td>45213</td>\n",
       "      <td>0.043060</td>\n",
       "    </tr>\n",
       "    <tr>\n",
       "      <th>11</th>\n",
       "      <td>tee shots par threes</td>\n",
       "      <td>61163</td>\n",
       "      <td>0.058250</td>\n",
       "    </tr>\n",
       "    <tr>\n",
       "      <th>1</th>\n",
       "      <td>green 5-10 feet</td>\n",
       "      <td>64925</td>\n",
       "      <td>0.061833</td>\n",
       "    </tr>\n",
       "    <tr>\n",
       "      <th>2</th>\n",
       "      <td>green 10-20 feet</td>\n",
       "      <td>71373</td>\n",
       "      <td>0.067974</td>\n",
       "    </tr>\n",
       "    <tr>\n",
       "      <th>3</th>\n",
       "      <td>green 20+ feet</td>\n",
       "      <td>88710</td>\n",
       "      <td>0.084486</td>\n",
       "    </tr>\n",
       "    <tr>\n",
       "      <th>8</th>\n",
       "      <td>fairway 100-200 yards</td>\n",
       "      <td>98656</td>\n",
       "      <td>0.093958</td>\n",
       "    </tr>\n",
       "    <tr>\n",
       "      <th>12</th>\n",
       "      <td>tee shots par fours and fives</td>\n",
       "      <td>207466</td>\n",
       "      <td>0.197586</td>\n",
       "    </tr>\n",
       "    <tr>\n",
       "      <th>0</th>\n",
       "      <td>green &lt;5 feet</td>\n",
       "      <td>209814</td>\n",
       "      <td>0.199822</td>\n",
       "    </tr>\n",
       "  </tbody>\n",
       "</table>\n",
       "</div>"
      ],
      "text/plain": [
       "                         Category  Number_of_Shots  Frequency\n",
       "5              rough 30-125 yards            15552   0.014811\n",
       "4                 rough <30 yards            26212   0.024964\n",
       "9              fairway 200+ yards            34139   0.032513\n",
       "10                    bunker play            37486   0.035701\n",
       "6                rough 125+ yards            41191   0.039229\n",
       "7              fairway <100 yards            45213   0.043060\n",
       "11           tee shots par threes            61163   0.058250\n",
       "1                 green 5-10 feet            64925   0.061833\n",
       "2                green 10-20 feet            71373   0.067974\n",
       "3                  green 20+ feet            88710   0.084486\n",
       "8           fairway 100-200 yards            98656   0.093958\n",
       "12  tee shots par fours and fives           207466   0.197586\n",
       "0                   green <5 feet           209814   0.199822"
      ]
     },
     "execution_count": 50,
     "metadata": {},
     "output_type": "execute_result"
    }
   ],
   "source": [
    "cat_freq.sort_values('Frequency')"
   ]
  },
  {
   "cell_type": "code",
   "execution_count": 51,
   "metadata": {
    "collapsed": false
   },
   "outputs": [
    {
     "data": {
      "text/plain": [
       "0.9541886586882691"
      ]
     },
     "execution_count": 51,
     "metadata": {},
     "output_type": "execute_result"
    }
   ],
   "source": [
    "cat_freq.Frequency.sum()"
   ]
  },
  {
   "cell_type": "code",
   "execution_count": null,
   "metadata": {
    "collapsed": true
   },
   "outputs": [],
   "source": []
  }
 ],
 "metadata": {
  "kernelspec": {
   "display_name": "Python 2",
   "language": "python",
   "name": "python2"
  },
  "language_info": {
   "codemirror_mode": {
    "name": "ipython",
    "version": 2
   },
   "file_extension": ".py",
   "mimetype": "text/x-python",
   "name": "python",
   "nbconvert_exporter": "python",
   "pygments_lexer": "ipython2",
   "version": "2.7.11"
  }
 },
 "nbformat": 4,
 "nbformat_minor": 0
}
