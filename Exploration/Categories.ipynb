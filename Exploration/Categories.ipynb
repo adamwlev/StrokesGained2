{
 "cells": [
  {
   "cell_type": "code",
   "execution_count": 1,
   "metadata": {
    "collapsed": true
   },
   "outputs": [],
   "source": [
    "import pandas as pd\n",
    "import numpy as np"
   ]
  },
  {
   "cell_type": "code",
   "execution_count": 3,
   "metadata": {
    "collapsed": false
   },
   "outputs": [],
   "source": [
    "cols = ['Distance_from_hole','Par_Value','Cat']\n",
    "data = pd.concat([pd.read_csv('./../data/%d.csv' % year)[cols] for year in range(2003,2017)])"
   ]
  },
  {
   "cell_type": "code",
   "execution_count": 4,
   "metadata": {
    "collapsed": true
   },
   "outputs": [],
   "source": [
    "def make_specific_cats(distance,cat,par):\n",
    "    if cat=='Tee Box':\n",
    "        if par==3:\n",
    "            return 'Tee-3'\n",
    "        else:\n",
    "            return 'Tee-45'\n",
    "    elif cat=='Bunker' or cat=='Other':\n",
    "        return cat\n",
    "    elif cat=='Green' or cat=='Fringe':\n",
    "        if distance<5:\n",
    "            return 'Green-0'\n",
    "        elif distance<10:\n",
    "            return 'Green-5'\n",
    "        elif distance<20:\n",
    "            return 'Green-10'\n",
    "        else:\n",
    "            return 'Green-20'\n",
    "    elif cat=='Fairway':\n",
    "        if distance<300:\n",
    "            return 'Fairway-0'\n",
    "        elif distance<540:\n",
    "            return 'Fairway-300'\n",
    "        else:\n",
    "            return 'Fairway-540'\n",
    "    elif cat=='Primary Rough' or cat=='Intermediate Rough':\n",
    "        if distance<90:\n",
    "            return 'Rough-0'\n",
    "        elif distance<375:\n",
    "            return 'Rough-90'\n",
    "        else:\n",
    "            return 'Rough-375'"
   ]
  },
  {
   "cell_type": "code",
   "execution_count": 5,
   "metadata": {
    "collapsed": true
   },
   "outputs": [],
   "source": [
    "cats = pd.Series([make_specific_cats(dist,cat,par) \n",
    "                  for dist,cat,par in zip(data.Distance_from_hole,data.Cat,data.Par_Value)])"
   ]
  },
  {
   "cell_type": "code",
   "execution_count": 6,
   "metadata": {
    "collapsed": false
   },
   "outputs": [
    {
     "data": {
      "text/plain": [
       "Green-0        0.199993\n",
       "Tee-45         0.197405\n",
       "Green-20       0.096400\n",
       "Fairway-300    0.081263\n",
       "Green-10       0.073506\n",
       "Green-5        0.062079\n",
       "Tee-3          0.058461\n",
       "Rough-375      0.049375\n",
       "Fairway-540    0.045494\n",
       "Fairway-0      0.042789\n",
       "Bunker         0.035739\n",
       "Rough-0        0.034069\n",
       "Rough-90       0.018598\n",
       "Other          0.004828\n",
       "dtype: float64"
      ]
     },
     "execution_count": 6,
     "metadata": {},
     "output_type": "execute_result"
    }
   ],
   "source": [
    "cats.value_counts()/float(len(cats))"
   ]
  },
  {
   "cell_type": "code",
   "execution_count": null,
   "metadata": {
    "collapsed": true
   },
   "outputs": [],
   "source": []
  }
 ],
 "metadata": {
  "kernelspec": {
   "display_name": "Python 2",
   "language": "python",
   "name": "python2"
  },
  "language_info": {
   "codemirror_mode": {
    "name": "ipython",
    "version": 2
   },
   "file_extension": ".py",
   "mimetype": "text/x-python",
   "name": "python",
   "nbconvert_exporter": "python",
   "pygments_lexer": "ipython2",
   "version": "2.7.11"
  }
 },
 "nbformat": 4,
 "nbformat_minor": 0
}
