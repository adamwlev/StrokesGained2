{
 "cells": [
  {
   "cell_type": "code",
   "execution_count": 1,
   "metadata": {
    "collapsed": true
   },
   "outputs": [],
   "source": [
    "import pandas as pd\n",
    "import numpy as np\n",
    "import itertools"
   ]
  },
  {
   "cell_type": "code",
   "execution_count": 2,
   "metadata": {
    "collapsed": false
   },
   "outputs": [
    {
     "name": "stderr",
     "output_type": "stream",
     "text": [
      "/Users/adamlevin/anaconda/lib/python2.7/site-packages/IPython/core/interactiveshell.py:2723: DtypeWarning: Columns (18,24) have mixed types. Specify dtype option on import or set low_memory=False.\n",
      "  interactivity=interactivity, compiler=compiler, result=result)\n"
     ]
    }
   ],
   "source": [
    "data = pd.read_csv('data/2010.csv')"
   ]
  },
  {
   "cell_type": "code",
   "execution_count": 3,
   "metadata": {
    "collapsed": true
   },
   "outputs": [],
   "source": [
    "uCRHtps = list(itertools.product(pd.unique(data['Course_#']),pd.unique(data.Round),pd.unique(data.Hole)))"
   ]
  },
  {
   "cell_type": "code",
   "execution_count": 4,
   "metadata": {
    "collapsed": false
   },
   "outputs": [
    {
     "data": {
      "text/plain": [
       "Index([u'Year', u'Tourn.#', u'Player_#', u'Course_#',\n",
       "       u'Permanent_Tournament_#', u'Player_First_Name', u'Player_Last_Name',\n",
       "       u'Round', u'Tournament_Name', u'Course_Name', u'Hole', u'Hole_Score',\n",
       "       u'Par_Value', u'Yardage', u'Shot', u'Shot_Type(S/P/D)', u'#_of_Strokes',\n",
       "       u'From_Location(Scorer)', u'From_Location(Enhanced)',\n",
       "       u'To_Location(Laser)', u'To_Location(Enhanced)', u'Distance',\n",
       "       u'Distance_to_Pin', u'Around_the_Green_Flag', u'1st_Putt_Flag',\n",
       "       u'Distance_to_Hole_after_the_Shot', u'Time', u'Elevation',\n",
       "       u'Shots_taken_after', u'Went_to_X', u'Went_to_Y', u'Went_to_Z',\n",
       "       u'Started_at_X', u'Started_at_Y', u'Started_at_Z'],\n",
       "      dtype='object')"
      ]
     },
     "execution_count": 4,
     "metadata": {},
     "output_type": "execute_result"
    }
   ],
   "source": [
    "data.columns"
   ]
  },
  {
   "cell_type": "code",
   "execution_count": 48,
   "metadata": {
    "collapsed": true
   },
   "outputs": [],
   "source": [
    "i = uCRHtps[0]\n",
    "subset  = data[(data['Course_#']==i[0]) & (data.Round==i[1]) & (data.Hole==i[2]) & (data.Shot!=1)]\n",
    "subset2 = data[(data['Course_#']==i[0]) & (data.Round==i[1]) & (data.Hole==i[2]) & (data.Shots_taken_after==0)]"
   ]
  },
  {
   "cell_type": "code",
   "execution_count": 49,
   "metadata": {
    "collapsed": true
   },
   "outputs": [],
   "source": [
    "scores = []\n",
    "for p in pd.unique(subset['Player_#']):\n",
    "    scores.append(subset[subset['Player_#']==p].iloc[0].Hole_Score)\n",
    "ave_score = pd.Series(scores).mean()"
   ]
  },
  {
   "cell_type": "code",
   "execution_count": 50,
   "metadata": {
    "collapsed": false
   },
   "outputs": [],
   "source": [
    "x_h = subset2.iloc[0]['Went_to_X']\n",
    "y_h = subset2.iloc[0]['Went_to_Y']"
   ]
  },
  {
   "cell_type": "code",
   "execution_count": 51,
   "metadata": {
    "collapsed": false
   },
   "outputs": [],
   "source": [
    "subset.insert(len(subset.columns),'Shots_taken_from_location',subset.Shots_taken_after + 1)\n",
    "subset = subset[['Shots_taken_from_location','Started_at_X','Started_at_Y','Hole_Score','Player_#']]\n",
    "subset.loc[:,'Started_at_X'] = subset.Started_at_X.values - x_h\n",
    "subset.loc[:,'Started_at_Y'] = subset.Started_at_Y.values - y_h"
   ]
  },
  {
   "cell_type": "code",
   "execution_count": 52,
   "metadata": {
    "collapsed": false
   },
   "outputs": [],
   "source": [
    "subset.insert(len(subset.columns),'Distance_from_pin',(subset.Started_at_X.values**2+subset.Started_at_Y.values**2)**.5)"
   ]
  },
  {
   "cell_type": "code",
   "execution_count": 53,
   "metadata": {
    "collapsed": true
   },
   "outputs": [],
   "source": [
    "import statsmodels.api as sm"
   ]
  },
  {
   "cell_type": "code",
   "execution_count": 66,
   "metadata": {
    "collapsed": false
   },
   "outputs": [],
   "source": [
    "subset = subset.sort_values('Distance_from_pin')\n",
    "x = subset.Distance_from_pin.values\n",
    "y = subset.Shots_taken_from_location.values"
   ]
  },
  {
   "cell_type": "code",
   "execution_count": 68,
   "metadata": {
    "collapsed": false
   },
   "outputs": [
    {
     "name": "stdout",
     "output_type": "stream",
     "text": [
      "                            OLS Regression Results                            \n",
      "==============================================================================\n",
      "Dep. Variable:                      y   R-squared:                       0.627\n",
      "Model:                            OLS   Adj. R-squared:                  0.626\n",
      "Method:                 Least Squares   F-statistic:                     499.0\n",
      "Date:                Wed, 15 Jun 2016   Prob (F-statistic):           1.54e-65\n",
      "Time:                        21:59:23   Log-Likelihood:                -632.10\n",
      "No. Observations:                 298   AIC:                             1266.\n",
      "Df Residuals:                     297   BIC:                             1270.\n",
      "Df Model:                           1                                         \n",
      "Covariance Type:            nonrobust                                         \n",
      "==============================================================================\n",
      "                 coef    std err          t      P>|t|      [95.0% Conf. Int.]\n",
      "------------------------------------------------------------------------------\n",
      "x1             0.0056      0.000     22.338      0.000         0.005     0.006\n",
      "==============================================================================\n",
      "Omnibus:                        4.249   Durbin-Watson:                   0.393\n",
      "Prob(Omnibus):                  0.119   Jarque-Bera (JB):                5.267\n",
      "Skew:                           0.064   Prob(JB):                       0.0718\n",
      "Kurtosis:                       3.639   Cond. No.                         1.00\n",
      "==============================================================================\n",
      "\n",
      "Warnings:\n",
      "[1] Standard Errors assume that the covariance matrix of the errors is correctly specified.\n"
     ]
    }
   ],
   "source": [
    "model = sm.OLS(y, x)\n",
    "results = model.fit()\n",
    "print(results.summary())"
   ]
  },
  {
   "cell_type": "code",
   "execution_count": 69,
   "metadata": {
    "collapsed": true
   },
   "outputs": [],
   "source": [
    "subset.insert(len(subset.columns),'Residuals',subset.Shots_taken_from_location.values-subset.Distance_from_pin.values*.0056)"
   ]
  },
  {
   "cell_type": "code",
   "execution_count": 74,
   "metadata": {
    "collapsed": false
   },
   "outputs": [
    {
     "data": {
      "text/plain": [
       "array([ -9.15910800e-02,  -3.55910800e-02,   3.62408920e-01,\n",
       "        -1.52591080e-01,  -5.31591080e-01,  -1.08591080e-01,\n",
       "        -3.86591080e-01,  -2.87591080e-01,   4.90408920e-01,\n",
       "        -6.57591080e-01,  -8.78591080e-01,   1.00040892e+00,\n",
       "        -1.15059108e+00,  -1.21759108e+00,  -4.02591080e-01,\n",
       "         6.92408920e-01,   1.28640892e+00,  -6.71591080e-01,\n",
       "        -1.24959108e+00,  -1.36659108e+00,   8.23408920e-01,\n",
       "        -4.01591080e-01,  -1.12459108e+00,  -7.85591080e-01,\n",
       "        -2.33591080e-01,   1.57140892e+00,  -1.32759108e+00,\n",
       "         3.74089200e-02,   5.79408920e-01,   2.10408920e-01,\n",
       "         1.74840892e+00,  -3.89591080e-01,  -1.95159108e+00,\n",
       "         7.99408920e-01,  -2.29659108e+00,  -2.35859108e+00,\n",
       "        -1.38459108e+00,   1.40040892e+00,  -1.94559108e+00,\n",
       "        -1.26559108e+00,  -2.72759108e+00,  -1.91959108e+00,\n",
       "        -2.74259108e+00,   9.72408920e-01,  -1.10659108e+00,\n",
       "        -2.13059108e+00,  -2.65259108e+00,   9.33408920e-01,\n",
       "         2.41540892e+00,   3.07140892e+00,  -2.33759108e+00,\n",
       "        -3.49859108e+00,  -2.88659108e+00,   3.41940892e+00,\n",
       "        -8.98591080e-01,   3.73040892e+00,  -2.55759108e+00,\n",
       "        -1.33959108e+00,  -1.65259108e+00,   3.83140892e+00,\n",
       "        -1.90059108e+00,   5.29340892e+00,  -6.00459108e+00,\n",
       "        -2.89959108e+00,  -3.86591080e-01,   6.21340892e+00,\n",
       "         5.21408920e-01,   5.71440892e+00,   7.47140892e+00,\n",
       "        -7.77859108e+00,  -6.05259108e+00,   7.82740892e+00,\n",
       "        -8.17059108e+00,   5.81740892e+00,   2.66840892e+00,\n",
       "         7.95340892e+00,  -7.13759108e+00,   2.61640892e+00,\n",
       "        -8.88859108e+00,  -8.08959108e+00,  -7.72559108e+00,\n",
       "        -3.03259108e+00,   8.09540892e+00,   4.69240892e+00,\n",
       "         8.33408920e-01,   1.08504089e+01,   3.03040892e+00,\n",
       "        -7.93259108e+00,  -1.27465911e+01,  -3.06259108e+00,\n",
       "        -7.83659108e+00,   1.04644089e+01,   1.27504089e+01,\n",
       "        -6.03759108e+00,   6.81640892e+00,   1.53314089e+01,\n",
       "         7.24640892e+00,   1.44254089e+01,  -1.31395911e+01,\n",
       "         1.73624089e+01,  -3.16259108e+00,   1.06184089e+01,\n",
       "         9.03340892e+00,   2.01444089e+01,   2.05814089e+01,\n",
       "        -5.44259108e+00,   2.07934089e+01,  -1.59159108e+00,\n",
       "        -1.83195911e+01,   1.66884089e+01,   1.26244089e+01,\n",
       "         2.39574089e+01,  -2.14105911e+01,  -2.81015911e+01,\n",
       "         2.31654089e+01,   2.74194089e+01,   2.02104089e+01,\n",
       "        -3.20545911e+01,  -3.43745911e+01,   2.13734089e+01,\n",
       "         2.11044089e+01,  -3.48065911e+01,  -1.80059108e+00,\n",
       "        -3.71945911e+01,  -3.27185911e+01,  -3.28945911e+01,\n",
       "        -3.69555911e+01,  -1.39375911e+01,   3.63184089e+01,\n",
       "        -4.16785911e+01,  -4.22805911e+01,   2.03334089e+01,\n",
       "        -3.77815911e+01,  -1.68925911e+01,  -1.24759108e+00,\n",
       "         2.94354089e+01,   2.98954089e+01,   2.33314089e+01,\n",
       "        -4.47025911e+01,  -4.52565911e+01,   2.84854089e+01,\n",
       "        -4.55955911e+01,  -4.62675911e+01,   1.76504089e+01,\n",
       "         5.02534089e+01,  -4.81735911e+01,   1.49934089e+01,\n",
       "        -4.66205911e+01,   4.62740892e+00,  -4.72625911e+01,\n",
       "         1.38294089e+01,   5.34340892e+00,  -4.96915911e+01,\n",
       "        -5.18145911e+01,   1.64094089e+01,  -5.20075911e+01,\n",
       "        -5.41635911e+01,  -4.89555911e+01,  -4.57655911e+01,\n",
       "        -5.29455911e+01,   1.75204089e+01,  -5.76525911e+01,\n",
       "        -1.16559108e+00,   6.45154089e+01,  -6.43385911e+01,\n",
       "        -5.53585911e+01,  -1.50534591e+02,  -1.82001591e+02,\n",
       "        -1.83967591e+02,  -2.01419591e+02,  -2.11360591e+02,\n",
       "        -2.16096591e+02,  -2.23104591e+02,  -2.33147591e+02,\n",
       "        -2.33455591e+02,  -2.49881591e+02,  -2.51460591e+02,\n",
       "        -2.51401591e+02,  -2.52541591e+02,  -2.45323591e+02,\n",
       "        -2.50676591e+02,  -2.60844591e+02,  -2.70310591e+02,\n",
       "        -2.52604591e+02,  -2.69900591e+02,  -2.71899591e+02,\n",
       "        -2.85954591e+02,  -2.81474591e+02,  -2.93666591e+02,\n",
       "        -3.07999591e+02,  -3.11604591e+02,  -3.12135591e+02,\n",
       "        -3.15363591e+02,  -3.10498591e+02,  -3.15038591e+02,\n",
       "        -3.19846591e+02,  -2.95170591e+02,  -3.25426591e+02,\n",
       "        -3.12663591e+02,  -3.31412591e+02,  -3.29879591e+02,\n",
       "        -3.05979591e+02,  -3.21324591e+02,  -3.35176591e+02,\n",
       "        -3.34215591e+02,  -3.40343591e+02,  -3.42189591e+02,\n",
       "        -3.45420591e+02,  -3.45699591e+02,  -3.40968591e+02,\n",
       "        -3.33060591e+02,  -3.30573591e+02,  -3.60599591e+02,\n",
       "        -3.56447591e+02,  -3.60312591e+02,  -3.72481591e+02,\n",
       "        -3.73462591e+02,  -3.73438591e+02,  -3.74224591e+02,\n",
       "        -3.84384591e+02,  -3.93612591e+02,  -3.90834591e+02,\n",
       "        -3.96955591e+02,  -3.89902591e+02,  -4.04604591e+02,\n",
       "        -4.10038591e+02,  -4.10175591e+02,  -4.13177591e+02,\n",
       "        -4.19247591e+02,  -4.55167591e+02,  -4.85453591e+02,\n",
       "        -5.27817591e+02,  -7.76603591e+02,  -8.33992591e+02,\n",
       "        -8.33842591e+02,  -8.51334591e+02,  -8.66803591e+02,\n",
       "        -8.71604591e+02,  -8.88919591e+02,  -8.88964591e+02,\n",
       "        -8.95322591e+02,  -9.00442591e+02,  -8.94353591e+02,\n",
       "        -9.01038591e+02,  -9.03265591e+02,  -9.09810591e+02,\n",
       "        -9.13755591e+02,  -9.15059591e+02,  -9.13687591e+02,\n",
       "        -9.17044591e+02,  -9.18935591e+02,  -9.21179591e+02,\n",
       "        -9.21088591e+02,  -9.20853591e+02,  -9.23532591e+02,\n",
       "        -9.26620591e+02,  -9.29168591e+02,  -9.29545591e+02,\n",
       "        -9.32470591e+02,  -9.33750591e+02,  -9.38164591e+02,\n",
       "        -9.40434591e+02,  -9.40407591e+02,  -9.42205591e+02,\n",
       "        -9.47117591e+02,  -9.50554591e+02,  -9.50754591e+02,\n",
       "        -9.50548591e+02,  -9.51654591e+02,  -9.51994591e+02,\n",
       "        -9.51486591e+02,  -9.54896591e+02,  -9.55237591e+02,\n",
       "        -9.53671591e+02,  -9.54564591e+02,  -9.60952591e+02,\n",
       "        -9.61474591e+02,  -9.58076591e+02,  -9.65047591e+02,\n",
       "        -9.65572591e+02,  -9.62336591e+02,  -9.74676591e+02,\n",
       "        -9.76053591e+02,  -9.77468591e+02,  -9.77647591e+02,\n",
       "        -9.80068591e+02,  -9.81351591e+02,  -9.75411591e+02,\n",
       "        -9.83193591e+02,  -9.91381591e+02,  -9.96763591e+02,\n",
       "        -9.99823591e+02,  -1.00323459e+03,  -1.01103959e+03,\n",
       "        -1.01077959e+03,  -1.01728559e+03,  -1.02523759e+03,\n",
       "        -1.08742959e+03])"
      ]
     },
     "execution_count": 74,
     "metadata": {},
     "output_type": "execute_result"
    }
   ],
   "source": [
    "subset.Started_at_Y.values"
   ]
  },
  {
   "cell_type": "code",
   "execution_count": 9,
   "metadata": {
    "collapsed": false
   },
   "outputs": [],
   "source": [
    "subset.insert(len(subset.columns),'Angle',np.arctan2(subset.Started_at_Y.values,subset.Started_at_X.values))"
   ]
  },
  {
   "cell_type": "code",
   "execution_count": 10,
   "metadata": {
    "collapsed": false
   },
   "outputs": [],
   "source": [
    "subset = subset.sort_values('Angle')"
   ]
  },
  {
   "cell_type": "code",
   "execution_count": 11,
   "metadata": {
    "collapsed": true
   },
   "outputs": [],
   "source": [
    "import math"
   ]
  },
  {
   "cell_type": "code",
   "execution_count": 14,
   "metadata": {
    "collapsed": true
   },
   "outputs": [],
   "source": [
    "subset.loc[:,'Angle'] = np.array((subset.Angle[subset.Angle<0].values + 2*math.pi).tolist() + subset.Angle[subset.Angle>0].values.tolist())"
   ]
  },
  {
   "cell_type": "code",
   "execution_count": 15,
   "metadata": {
    "collapsed": false
   },
   "outputs": [],
   "source": [
    "subset = subset.sort_values('Angle')"
   ]
  },
  {
   "cell_type": "code",
   "execution_count": 16,
   "metadata": {
    "collapsed": true
   },
   "outputs": [],
   "source": [
    "from operator import mul    # or mul=lambda x,y:x*y\n",
    "from fractions import Fraction\n",
    "\n",
    "def nCk(n,k): \n",
    "    return int( reduce(mul, (Fraction(n-i, i+1) for i in range(k)), 1) )"
   ]
  },
  {
   "cell_type": "code",
   "execution_count": 18,
   "metadata": {
    "collapsed": true
   },
   "outputs": [],
   "source": [
    "def Bezier(df,t):\n",
    "    x = 0\n",
    "    y = 0\n",
    "    z = 0\n",
    "    n = len(df) - 1\n",
    "    for i in range(n+1):\n",
    "        x += nCk(n,i) * (1-t)**(n-i) * t**(i) * df.Started_at_X.values[i]\n",
    "        y += nCk(n,i) * (1-t)**(n-i) * t**(i) * df.Started_at_Y.values[i]\n",
    "        z += nCk(n,i) * (1-t)**(n-i) * t**(i) * df.Shots_taken_from_location[i]\n",
    "    return (x,y,z)"
   ]
  },
  {
   "cell_type": "code",
   "execution_count": 19,
   "metadata": {
    "collapsed": false
   },
   "outputs": [],
   "source": [
    "subset = pd.DataFrame({column:0 for column in subset.columns.tolist()},index=[0]).append(subset,ignore_index=True)"
   ]
  },
  {
   "cell_type": "code",
   "execution_count": 21,
   "metadata": {
    "collapsed": false
   },
   "outputs": [],
   "source": [
    "subset.loc[0,'Shots_taken_from_location'] = 1"
   ]
  },
  {
   "cell_type": "code",
   "execution_count": 23,
   "metadata": {
    "collapsed": false
   },
   "outputs": [],
   "source": [
    "x,y,z = [],[],[]\n",
    "for t in range(100+1):\n",
    "    a = Bezier(subset,float(t)/100)\n",
    "    x.append(a[0])\n",
    "    y.append(a[1])\n",
    "    z.append(a[2])"
   ]
  },
  {
   "cell_type": "code",
   "execution_count": 24,
   "metadata": {
    "collapsed": true
   },
   "outputs": [],
   "source": [
    "import matplotlib as m\n",
    "import matplotlib.pyplot as plt\n",
    "from matplotlib import cm\n",
    "from mpl_toolkits.mplot3d import Axes3D\n",
    "%matplotlib inline"
   ]
  },
  {
   "cell_type": "code",
   "execution_count": 33,
   "metadata": {
    "collapsed": false
   },
   "outputs": [
    {
     "data": {
      "text/plain": [
       "array([1, 1, 2, 2, 2, 2, 1, 1, 2, 1, 2, 2, 1, 2, 2, 2, 2, 2, 2, 1, 1, 2, 2,\n",
       "       1, 1, 2, 2, 1, 1, 2, 2, 2, 1, 2, 2, 2, 1, 1, 1, 2, 2, 2, 1, 1, 2, 2,\n",
       "       1, 1, 1, 1, 1, 3, 1, 2, 2, 2, 2, 1, 1, 1, 1, 2, 1, 1, 1, 2, 1, 2, 1,\n",
       "       1, 1, 1, 1, 1, 1, 1, 2, 2, 1, 1, 1, 1, 1, 2, 2, 2, 1, 1, 2, 1, 1, 1,\n",
       "       1, 1, 1, 1, 1, 1, 2, 1, 1, 1, 2, 1, 1, 2, 1, 1, 1, 1, 2, 2, 1, 2, 3,\n",
       "       1, 3, 3, 3])"
      ]
     },
     "execution_count": 33,
     "metadata": {},
     "output_type": "execute_result"
    }
   ],
   "source": [
    "subset.Shots_taken_from_location.values"
   ]
  },
  {
   "cell_type": "code",
   "execution_count": 28,
   "metadata": {
    "collapsed": false
   },
   "outputs": [
    {
     "data": {
      "image/png": "[encoded data removed]",
      "text/plain": [
       "<matplotlib.figure.Figure at 0x102995310>"
      ]
     },
     "metadata": {},
     "output_type": "display_data"
    }
   ],
   "source": [
    "from scipy.interpolate import griddata\n",
    "xyz = {'x': np.array(x), 'y': np.array(y), 'z': np.array(z)}\n",
    "# put the data into a pandas DataFrame (this is what my data looks like)\n",
    "df = pd.DataFrame(xyz, index=range(len(xyz['x']))) \n",
    "\n",
    "# re-create the 2D-arrays\n",
    "x1 = np.linspace(df['x'].min(), df['x'].max(), len(df['x'].unique()))\n",
    "y1 = np.linspace(df['y'].min(), df['y'].max(), len(df['y'].unique()))\n",
    "x2, y2 = np.meshgrid(x1, y1)\n",
    "z2 = griddata((df['x'], df['y']), df['z'], (x2, y2), method='cubic')\n",
    "\n",
    "Gx, Gy = np.gradient(z2) # gradients with respect to x and y\n",
    "G = (Gx**2+Gy**2)**.5  # gradient magnitude\n",
    "N = G/G.max()\n",
    "\n",
    "fig = plt.figure()\n",
    "ax = fig.gca(projection='3d')\n",
    "surf = ax.plot_surface(x2, y2, z2,rstride=1, cstride=1,facecolors=cm.jet(N),linewidth=0, antialiased=False, shade=False)\n",
    "\n",
    "ax.view_init(elev=4, azim=120)\n",
    "ax.set_zlim3d(1,5)\n",
    "# ax.set_xlim3d(-20,20)\n",
    "# ax.set_ylim3d(-20,20)\n",
    "\n",
    "plt.show()"
   ]
  },
  {
   "cell_type": "code",
   "execution_count": null,
   "metadata": {
    "collapsed": true
   },
   "outputs": [],
   "source": []
  }
 ],
 "metadata": {
  "kernelspec": {
   "display_name": "Python 2",
   "language": "python",
   "name": "python2"
  },
  "language_info": {
   "codemirror_mode": {
    "name": "ipython",
    "version": 2
   },
   "file_extension": ".py",
   "mimetype": "text/x-python",
   "name": "python",
   "nbconvert_exporter": "python",
   "pygments_lexer": "ipython2",
   "version": "2.7.11"
  }
 },
 "nbformat": 4,
 "nbformat_minor": 0
}
