{
 "cells": [
  {
   "cell_type": "code",
   "execution_count": 1,
   "metadata": {
    "collapsed": true
   },
   "outputs": [],
   "source": [
    "import pandas as pd\n",
    "import numpy as np\n",
    "from scipy.sparse import csc_matrix,bmat\n",
    "import xgboost as xgb\n",
    "import itertools, gc, pickle\n",
    "import matplotlib.pyplot as plt\n",
    "from sklearn.preprocessing import LabelBinarizer\n",
    "%matplotlib inline"
   ]
  },
  {
   "cell_type": "code",
   "execution_count": 2,
   "metadata": {
    "collapsed": false
   },
   "outputs": [],
   "source": [
    "cols = ['tourn_num','skill_estimate_percentile','not_seen','observation_count_percentile','Start_Z_Coordinate',\n",
    "        'Player_First_Name','Player_Last_Name','Cat','Distance_from_hole','Green_to_work_with',\n",
    "        'from_the_tee_box_mask','Strokes_from_starting_location','Course_#','Hole','loc_string',\n",
    "        'loc_string_hole','windSpeed','temperature']\n",
    "data = pd.concat([pd.read_csv('data/%d.csv.gz' % year,usecols=cols) for year in range(2003,2018)])"
   ]
  },
  {
   "cell_type": "code",
   "execution_count": 3,
   "metadata": {
    "collapsed": true
   },
   "outputs": [],
   "source": [
    "data.loc[data.from_the_tee_box_mask,'Cat'] = 'Tee Box'\n",
    "data = data.drop('from_the_tee_box_mask',axis=1)"
   ]
  },
  {
   "cell_type": "code",
   "execution_count": 4,
   "metadata": {
    "collapsed": false
   },
   "outputs": [],
   "source": [
    "data.not_seen = data.not_seen.astype(float)\n",
    "data.Strokes_from_starting_location = data.Strokes_from_starting_location.astype(float)\n",
    "data.skill_estimate_percentile = data.skill_estimate_percentile.fillna(.5)\n",
    "data.observation_count_percentile = data.observation_count_percentile.fillna(.5)\n",
    "data.Start_Z_Coordinate = data.Start_Z_Coordinate/data.Distance_from_hole\n",
    "data.loc[data.Start_Z_Coordinate.abs()>1,'Start_Z_Coordinate'] = data.loc[data.Start_Z_Coordinate.abs()>1,\n",
    "                                                                          'Start_Z_Coordinate']\\\n",
    "                                                                          .apply(lambda x: 1 if x>0 else -1)\n",
    "data.windSpeed = data.windSpeed.fillna(data.windSpeed.mean())\n",
    "data.temperature = data.temperature.fillna(data.temperature.mean())"
   ]
  },
  {
   "cell_type": "code",
   "execution_count": 5,
   "metadata": {
    "collapsed": false
   },
   "outputs": [
    {
     "data": {
      "text/plain": [
       "0.27476835023104323"
      ]
     },
     "execution_count": 5,
     "metadata": {},
     "output_type": "execute_result"
    }
   ],
   "source": [
    "(data.Start_Z_Coordinate>0).mean()"
   ]
  },
  {
   "cell_type": "code",
   "execution_count": 6,
   "metadata": {
    "collapsed": false
   },
   "outputs": [
    {
     "data": {
      "image/png": "[encoded data removed]",
      "text/plain": [
       "<matplotlib.figure.Figure at 0x7fada392c1d0>"
      ]
     },
     "metadata": {},
     "output_type": "display_data"
    }
   ],
   "source": [
    "data.windSpeed.hist(bins=100);"
   ]
  },
  {
   "cell_type": "code",
   "execution_count": 7,
   "metadata": {
    "collapsed": true
   },
   "outputs": [],
   "source": [
    "def prepare_data(cat,num_tourns,with_distance,with_gtww,with_slope,with_skill_estimates,\n",
    "                 with_course_hole,with_weather,with_locs):\n",
    "    num_tournaments = len(pd.unique(data.tourn_num))\n",
    "    trains = [range(i) for i in range(num_tournaments-num_tourns-1,num_tournaments-1)]\n",
    "    tests = [[i] for i in range(num_tournaments-num_tourns,num_tournaments)]\n",
    "    sub = data[data.Cat==cat].reset_index(drop=True)\n",
    "    trains = [sub[sub.tourn_num.isin(train)].index.values for train in trains]\n",
    "    tests = [sub[sub.tourn_num.isin(test)].index.values for test in tests]\n",
    "    cols = []\n",
    "    if with_distance: cols.append('Distance_from_hole')\n",
    "    if with_gtww: cols.append('Green_to_work_with')\n",
    "    if with_slope: cols.append('Start_Z_Coordinate')\n",
    "    if with_skill_estimates: cols.extend(['skill_estimate_percentile','not_seen',\n",
    "                                          'observation_count_percentile'])\n",
    "    if with_weather: cols.extend(['windSpeed','temperature'])\n",
    "    X = sub[cols].values\n",
    "    y = sub.Strokes_from_starting_location.values\n",
    "    if with_course_hole:\n",
    "        course_strings = np.array(['%d' % (num,) for num in sub['Course_#']])\n",
    "        course_hole_strings = np.array(['%d-%d' % (tup[0],tup[1])\n",
    "                                        for tup in sub[['Course_#','Hole']].values])\n",
    "    else:\n",
    "        course_strings, course_hole_strings = [], []\n",
    "    if with_locs:\n",
    "        loc_strings = sub.loc_string.values\n",
    "        loc_strings_hole = sub.loc_string_hole.values\n",
    "    else:\n",
    "        loc_strings, loc_strings_hole = [], []\n",
    "    return X,y,course_strings,course_hole_strings,loc_strings,loc_strings_hole,trains,tests"
   ]
  },
  {
   "cell_type": "code",
   "execution_count": 8,
   "metadata": {
    "collapsed": true
   },
   "outputs": [],
   "source": [
    "def find_num_trees(X,y,params,eval_pct):\n",
    "    early_stopping_rounds = 25\n",
    "    num_round = 10000\n",
    "    num_train = int(X.shape[0]*(1-eval_pct))\n",
    "    dtrain = xgb.DMatrix(X[:num_train],label=y[:num_train])\n",
    "    deval = xgb.DMatrix(X[num_train:],label=y[num_train:])\n",
    "    watchlist  = [(dtrain,'train'),(deval,'eval')]\n",
    "    params['base_score'] = y[:num_train].mean()\n",
    "    bst = xgb.train(params,dtrain,num_round,watchlist,\n",
    "                    early_stopping_rounds=early_stopping_rounds,verbose_eval=False) \n",
    "    return bst.best_iteration\n",
    "\n",
    "def run(cat,num_tourns,with_distance,with_gtww,with_slope,with_skill_estimates,\n",
    "        with_course_hole,with_weather,with_locs,params,eval_pct):\n",
    "    (X, y, course_strings, course_hole_strings, \n",
    "     loc_strings, loc_strings_hole, trains, tests) = prepare_data(cat,num_tourns,with_distance,with_gtww,\n",
    "                                                                  with_slope,with_skill_estimates,\n",
    "                                                                  with_course_hole,with_weather,with_locs)\n",
    "    if with_course_hole or with_locs:\n",
    "        X = csc_matrix(X)\n",
    "    results = []\n",
    "    for u,(train,test) in enumerate(zip(trains,tests)):\n",
    "        gc.collect()\n",
    "        if with_course_hole or with_locs:\n",
    "            X_train, X_test = X.copy()[train], X.copy()[test]\n",
    "        else:\n",
    "            X_train, X_test = np.copy(X)[train], np.copy(X)[test]\n",
    "        if with_course_hole:\n",
    "            lb1 = LabelBinarizer(sparse_output=True)\n",
    "            lb2 = LabelBinarizer(sparse_output=True)\n",
    "            X_train = bmat([[X_train,lb1.fit_transform(course_strings[train]),\n",
    "                             lb2.fit_transform(course_hole_strings[train])]],format='csc')\n",
    "            X_test = bmat([[X_test,lb1.transform(course_strings[test]),\n",
    "                            lb2.transform(course_hole_strings[test])]],format='csc')\n",
    "        if with_locs:\n",
    "            lb1 = LabelBinarizer(sparse_output=True)\n",
    "            lb2 = LabelBinarizer(sparse_output=True)\n",
    "            X_train = bmat([[X_train,lb1.fit_transform(loc_strings[train]),\n",
    "                             lb2.fit_transform(loc_strings_hole[train])]],format='csc')\n",
    "            X_test = bmat([[X_test,lb1.transform(loc_strings[test]),\n",
    "                            lb2.transform(loc_strings_hole[test])]],format='csc')\n",
    "        \n",
    "        if u%7==0:\n",
    "            num_trees = find_num_trees(X_train,y[train],params,eval_pct)\n",
    "        dtrain = xgb.DMatrix(X_train,label=y[train])\n",
    "        dtest = xgb.DMatrix(X_test)\n",
    "        params['base_score'] = y[train].mean()\n",
    "        bst = xgb.train(params,dtrain,num_trees)\n",
    "        preds = bst.predict(dtest)\n",
    "        error = np.mean((preds-y[test])**2)\n",
    "        mean_error = np.mean((np.mean(y[train])-y[test])**2)\n",
    "        r_sq = (mean_error-error)/mean_error\n",
    "        #print len(test),num_trees,r_sq\n",
    "        results.append(r_sq)\n",
    "    mean, std_err = np.mean(results), np.std(results)/num_tourns**.5\n",
    "    return (mean-std_err,mean+std_err)"
   ]
  },
  {
   "cell_type": "code",
   "execution_count": 9,
   "metadata": {
    "collapsed": true
   },
   "outputs": [],
   "source": [
    "cats = ['Other','Green','Fairway','Intermediate Rough','Primary Rough','Fringe','Bunker']"
   ]
  },
  {
   "cell_type": "markdown",
   "metadata": {},
   "source": [
    "Just Distance"
   ]
  },
  {
   "cell_type": "code",
   "execution_count": null,
   "metadata": {
    "collapsed": true
   },
   "outputs": [],
   "source": [
    "depths = [3,5,7]\n",
    "subsample = [.8,1]\n",
    "min_weight = [1,5,15]\n",
    "lamba = [5,50]\n",
    "eta = [.03,.07]\n",
    "eval_pct = [.05,.20]"
   ]
  },
  {
   "cell_type": "code",
   "execution_count": null,
   "metadata": {
    "collapsed": false,
    "scrolled": true
   },
   "outputs": [],
   "source": [
    "results1 = {}\n",
    "for cat in cats:\n",
    "    if cat not in results1:\n",
    "        results1[cat] = {}\n",
    "    for de,su,mw,la,et,ep in itertools.product(depths,subsample,min_weight,lamba,eta,eval_pct):\n",
    "        params = {'objective':'reg:linear','min_child_weight':mw,\n",
    "                  'subsample':su,'tree_method':'approx','silent':0,\n",
    "                  'eta':et,'lambda':la,'max_depth':de}\n",
    "        gc.collect()\n",
    "        res = run(cat,25,True,False,False,False,False,False,False,params,ep)\n",
    "        print cat,(de,su,mw,la,et,ep),res\n",
    "        results1[cat][(de,su,mw,la,et,ep)] = res\n",
    "        with open('results1.pkl','wb') as pickle_file:\n",
    "            pickle.dump(results1,pickle_file)\n",
    "        !rsync -qavL -e \"ssh -i /home/ubuntu/aws_ds8key.pem\" results1.pkl ubuntu@ec2-54-144-40-79.compute-1.amazonaws.com:~"
   ]
  },
  {
   "cell_type": "markdown",
   "metadata": {},
   "source": [
    "With Everything but Skill Estimates"
   ]
  },
  {
   "cell_type": "code",
   "execution_count": null,
   "metadata": {
    "collapsed": false
   },
   "outputs": [],
   "source": [
    "results2 = {}\n",
    "for cat in cats:\n",
    "    if cat not in results2:\n",
    "        results2[cat] = {}\n",
    "    for de,su,mw,la,et,ep in itertools.product(depths,subsample,min_weight,lamba,eta,eval_pct):\n",
    "        params = {'objective':'reg:linear','min_child_weight':mw,\n",
    "                  'subsample':su,'tree_method':'approx','silent':0,\n",
    "                  'eta':et,'lambda':la,'max_depth':de}\n",
    "        gc.collect()\n",
    "        res = run(cat,25,True,cat!='Green',True,False,True,True,True,params,ep)\n",
    "        print cat,(de,su,mw,la,et,ep),res\n",
    "        results2[cat][(de,su,mw,la,et,ep)] = res\n",
    "        with open('results2.pkl','wb') as pickle_file:\n",
    "            pickle.dump(results2,pickle_file)\n",
    "        !rsync -qavL -e \"ssh -i /home/ubuntu/aws_ds8key.pem\" results2.pkl ubuntu@ec2-54-144-40-79.compute-1.amazonaws.com:~"
   ]
  },
  {
   "cell_type": "markdown",
   "metadata": {},
   "source": [
    "With Everything"
   ]
  },
  {
   "cell_type": "code",
   "execution_count": null,
   "metadata": {
    "collapsed": false
   },
   "outputs": [],
   "source": [
    "results3 = {}\n",
    "for cat in cats:\n",
    "    if cat not in results3:\n",
    "        results3[cat] = {}\n",
    "    for de,su,mw,la,et,ep in itertools.product(depths,subsample,min_weight,lamba,eta,eval_pct):\n",
    "        params = {'objective':'reg:linear','min_child_weight':mw,\n",
    "                  'subsample':su,'tree_method':'approx','silent':0,\n",
    "                  'eta':et,'lambda':la,'max_depth':de}\n",
    "        gc.collect()\n",
    "        res = run(cat,25,True,cat!='Green',True,True,True,True,True,params,ep)\n",
    "        print cat,(de,su,mw,la,et,ep),res\n",
    "        results3[cat][(de,su,mw,la,et,ep)] = res\n",
    "        with open('results3.pkl','wb') as pickle_file:\n",
    "            pickle.dump(results3,pickle_file)\n",
    "        !rsync -qavL -e \"ssh -i /home/ubuntu/aws_ds8key.pem\" results3.pkl ubuntu@ec2-54-144-40-79.compute-1.amazonaws.com:~"
   ]
  },
  {
   "cell_type": "code",
   "execution_count": null,
   "metadata": {
    "collapsed": true
   },
   "outputs": [],
   "source": []
  }
 ],
 "metadata": {
  "kernelspec": {
   "display_name": "Python 2",
   "language": "python",
   "name": "python2"
  },
  "language_info": {
   "codemirror_mode": {
    "name": "ipython",
    "version": 2
   },
   "file_extension": ".py",
   "mimetype": "text/x-python",
   "name": "python",
   "nbconvert_exporter": "python",
   "pygments_lexer": "ipython2",
   "version": "2.7.13"
  }
 },
 "nbformat": 4,
 "nbformat_minor": 2
}
