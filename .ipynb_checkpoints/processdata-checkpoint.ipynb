{
 "cells": [
  {
   "cell_type": "code",
   "execution_count": 1,
   "metadata": {
    "collapsed": true
   },
   "outputs": [],
   "source": [
    "import pandas as pd\n",
    "import numpy as np\n",
    "import itertools"
   ]
  },
  {
   "cell_type": "code",
   "execution_count": 2,
   "metadata": {
    "collapsed": false
   },
   "outputs": [
    {
     "name": "stderr",
     "output_type": "stream",
     "text": [
      "/Users/adamlevin/miniconda2/lib/python2.7/site-packages/IPython/core/interactiveshell.py:2723: DtypeWarning: Columns (20,21,22,27,33,34,35) have mixed types. Specify dtype option on import or set low_memory=False.\n",
      "  interactivity=interactivity, compiler=compiler, result=result)\n"
     ]
    }
   ],
   "source": [
    "data = pd.read_csv('rawdata/2014.txt', sep = ';')"
   ]
  },
  {
   "cell_type": "code",
   "execution_count": 3,
   "metadata": {
    "collapsed": false
   },
   "outputs": [],
   "source": [
    "data.columns = np.array([str(i).strip() for i in list(data.columns.values)]) #remove space in col names"
   ]
  },
  {
   "cell_type": "code",
   "execution_count": 4,
   "metadata": {
    "collapsed": false
   },
   "outputs": [
    {
     "data": {
      "text/plain": [
       "Index([u'Tour Code', u'Tour Description', u'Year', u'Tourn.#', u'Player #',\n",
       "       u'Course #', u'Permanent Tournament #', u'Player First Name',\n",
       "       u'Player Last Name', u'Round', u'Tournament Name', u'Course Name',\n",
       "       u'Hole', u'Hole Score', u'Par Value', u'Yardage', u'Shot',\n",
       "       u'Shot Type(S/P/D)', u'# of Strokes', u'From Location(Scorer)',\n",
       "       u'From Location(Enhanced)', u'To Location(Laser)',\n",
       "       u'To Location(Enhanced)', u'Distance', u'Distance to Pin',\n",
       "       u'In the Hole Flag', u'Around the Green Flag', u'1st Putt Flag',\n",
       "       u'Distance to Hole after the Shot', u'Time', u'Lie', u'Elevation',\n",
       "       u'Slope', u'X Coordinate', u'Y Coordinate', u'Z Coordinate',\n",
       "       u'Distance from Center', u'Distance from Edge', u'Date'],\n",
       "      dtype='object')"
      ]
     },
     "execution_count": 4,
     "metadata": {},
     "output_type": "execute_result"
    }
   ],
   "source": [
    "data.columns"
   ]
  },
  {
   "cell_type": "code",
   "execution_count": 5,
   "metadata": {
    "collapsed": false
   },
   "outputs": [],
   "source": [
    "data['X Coordinate'] = [str(i).replace(' ','') for i in data['X Coordinate']] #remove space in coordinates cols\n",
    "data['Y Coordinate'] = [str(i).replace(' ','') for i in data['Y Coordinate']]\n",
    "data['Z Coordinate'] = [str(i).replace(' ','') for i in data['Z Coordinate']]"
   ]
  },
  {
   "cell_type": "code",
   "execution_count": 6,
   "metadata": {
    "collapsed": true
   },
   "outputs": [],
   "source": [
    "data['X Coordinate'] = [str(i).replace(',','') for i in data['X Coordinate']] #remove commas in coordinates cols\n",
    "data['Y Coordinate'] = [str(i).replace(',','') for i in data['Y Coordinate']]\n",
    "data['Z Coordinate'] = [str(i).replace(',','') for i in data['Z Coordinate']]"
   ]
  },
  {
   "cell_type": "code",
   "execution_count": 7,
   "metadata": {
    "collapsed": false
   },
   "outputs": [],
   "source": [
    "data['X Coordinate'] = ['-' + str(i)[:len(str(i))-1] if str(i)[len(str(i))-1]=='-' else i for i in data['X Coordinate']] #putting negative in front\n",
    "data['Y Coordinate'] = ['-' + str(i)[:len(str(i))-1] if str(i)[len(str(i))-1]=='-' else i for i in data['Y Coordinate']]\n",
    "data['Z Coordinate'] = ['-' + str(i)[:len(str(i))-1] if str(i)[len(str(i))-1]=='-' else i for i in data['Z Coordinate']]"
   ]
  },
  {
   "cell_type": "code",
   "execution_count": 8,
   "metadata": {
    "collapsed": false
   },
   "outputs": [],
   "source": [
    "data['X Coordinate'] = pd.to_numeric(data['X Coordinate'])\n",
    "data['Y Coordinate'] = pd.to_numeric(data['Y Coordinate'])\n",
    "data['Z Coordinate'] = pd.to_numeric(data['Z Coordinate'])"
   ]
  },
  {
   "cell_type": "code",
   "execution_count": 9,
   "metadata": {
    "collapsed": false
   },
   "outputs": [],
   "source": [
    "#d=data['Distance to Hole after the Shot']"
   ]
  },
  {
   "cell_type": "code",
   "execution_count": 10,
   "metadata": {
    "collapsed": false
   },
   "outputs": [],
   "source": [
    "uCRHtps = list(itertools.product(np.unique(data['Course Name']),np.unique(data['Round']),np.unique(data['Hole']))) #unique Course-Round-Hole Tuples"
   ]
  },
  {
   "cell_type": "code",
   "execution_count": 14,
   "metadata": {
    "collapsed": true
   },
   "outputs": [],
   "source": [
    "from scipy.optimize import fmin_powell"
   ]
  },
  {
   "cell_type": "code",
   "execution_count": 29,
   "metadata": {
    "collapsed": true
   },
   "outputs": [],
   "source": [
    "def f (a):\n",
    "    print a\n",
    "    x0,y0 = a[0],a[1]\n",
    "    return sum(((x-x0)**2+(y-y0)**2-d**2)**2)\n",
    "\n",
    "def find_the_hole (x0,y0):\n",
    "    fmin_powell(f,[x0,y0],disp=1)"
   ]
  },
  {
   "cell_type": "code",
   "execution_count": 30,
   "metadata": {
    "collapsed": false
   },
   "outputs": [
    {
     "name": "stdout",
     "output_type": "stream",
     "text": [
      "[600, 700]\n",
      "3.32415295725e+18\n",
      "[600, 700]\n",
      "2.27379880616e+18\n",
      "[600, 700]\n",
      "4.82956333048e+18\n",
      "[600, 700]\n",
      "3.82996123284e+18\n",
      "[600, 700]\n",
      "3.58582856621e+18\n",
      "[600, 700]\n",
      "3.81718159599e+18\n",
      "[600, 700]\n",
      "1.70309346636e+18\n",
      "[600, 700]\n",
      "2.88691858308e+18\n",
      "[600, 700]\n",
      "2.49873525214e+18\n",
      "[600, 700]\n",
      "4.23957396424e+18\n"
     ]
    }
   ],
   "source": [
    "for i in uCRHtps[0:10]: #finding the coordinates of the hole\n",
    "    subset = data[(data['Course Name']==i[0]) & (data['Round']==i[1]) & (data['Hole']==i[2]) & (data['Distance to Hole after the Shot']!=0)]\n",
    "    d = (subset['Distance to Hole after the Shot']/12.0).values\n",
    "    x = (subset['X Coordinate']).values\n",
    "    y = (subset['Z Coordinate']).values\n",
    "    print f ([600,700])"
   ]
  },
  {
   "cell_type": "code",
   "execution_count": null,
   "metadata": {
    "collapsed": true
   },
   "outputs": [],
   "source": []
  }
 ],
 "metadata": {
  "kernelspec": {
   "display_name": "Python 2",
   "language": "python",
   "name": "python2"
  },
  "language_info": {
   "codemirror_mode": {
    "name": "ipython",
    "version": 2
   },
   "file_extension": ".py",
   "mimetype": "text/x-python",
   "name": "python",
   "nbconvert_exporter": "python",
   "pygments_lexer": "ipython2",
   "version": "2.7.11"
  }
 },
 "nbformat": 4,
 "nbformat_minor": 0
}
