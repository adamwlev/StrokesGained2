{
 "cells": [
  {
   "cell_type": "code",
   "execution_count": 81,
   "metadata": {
    "collapsed": true
   },
   "outputs": [],
   "source": [
    "import pandas as pd\n",
    "import numpy as np\n",
    "import itertools"
   ]
  },
  {
   "cell_type": "code",
   "execution_count": 66,
   "metadata": {
    "collapsed": false
   },
   "outputs": [],
   "source": [
    "data = pd.read_csv('rawdata/2014.txt', sep = ';')"
   ]
  },
  {
   "cell_type": "code",
   "execution_count": 67,
   "metadata": {
    "collapsed": false
   },
   "outputs": [],
   "source": [
    "data.columns = np.array([str(i).strip() for i in list(data.columns.values)]) #remove space in col names"
   ]
  },
  {
   "cell_type": "code",
   "execution_count": 68,
   "metadata": {
    "collapsed": false
   },
   "outputs": [
    {
     "data": {
      "text/plain": [
       "Index([u'Tour Code', u'Tour Description', u'Year', u'Tourn.#', u'Player #',\n",
       "       u'Course #', u'Permanent Tournament #', u'Player First Name',\n",
       "       u'Player Last Name', u'Round', u'Tournament Name', u'Course Name',\n",
       "       u'Hole', u'Hole Score', u'Par Value', u'Yardage', u'Shot',\n",
       "       u'Shot Type(S/P/D)', u'# of Strokes', u'From Location(Scorer)',\n",
       "       u'From Location(Enhanced)', u'To Location(Laser)',\n",
       "       u'To Location(Enhanced)', u'Distance', u'Distance to Pin',\n",
       "       u'In the Hole Flag', u'Around the Green Flag', u'1st Putt Flag',\n",
       "       u'Distance to Hole after the Shot', u'Time', u'Lie', u'Elevation',\n",
       "       u'Slope', u'X Coordinate', u'Y Coordinate', u'Z Coordinate',\n",
       "       u'Distance from Center', u'Distance from Edge', u'Date'],\n",
       "      dtype='object')"
      ]
     },
     "execution_count": 68,
     "metadata": {},
     "output_type": "execute_result"
    }
   ],
   "source": [
    "data.columns"
   ]
  },
  {
   "cell_type": "code",
   "execution_count": 69,
   "metadata": {
    "collapsed": false
   },
   "outputs": [],
   "source": [
    "data['X Coordinate'] = [str(i).replace(' ','') for i in data['X Coordinate']] #remove space in coordinates cols\n",
    "data['Y Coordinate'] = [str(i).replace(' ','') for i in data['Y Coordinate']]\n",
    "data['Z Coordinate'] = [str(i).replace(' ','') for i in data['Z Coordinate']]"
   ]
  },
  {
   "cell_type": "code",
   "execution_count": 70,
   "metadata": {
    "collapsed": true
   },
   "outputs": [],
   "source": [
    "data['X Coordinate'] = [str(i).replace(',','') for i in data['X Coordinate']] #remove commas in coordinates cols\n",
    "data['Y Coordinate'] = [str(i).replace(',','') for i in data['Y Coordinate']]\n",
    "data['Z Coordinate'] = [str(i).replace(',','') for i in data['Z Coordinate']]"
   ]
  },
  {
   "cell_type": "code",
   "execution_count": 71,
   "metadata": {
    "collapsed": false
   },
   "outputs": [],
   "source": [
    "data['X Coordinate'] = ['-' + str(i)[:len(str(i))-1] if str(i)[len(str(i))-1]=='-' else i for i in data['X Coordinate']] #putting negative in front\n",
    "data['Y Coordinate'] = ['-' + str(i)[:len(str(i))-1] if str(i)[len(str(i))-1]=='-' else i for i in data['Y Coordinate']]\n",
    "data['Z Coordinate'] = ['-' + str(i)[:len(str(i))-1] if str(i)[len(str(i))-1]=='-' else i for i in data['Z Coordinate']]"
   ]
  },
  {
   "cell_type": "code",
   "execution_count": 74,
   "metadata": {
    "collapsed": false
   },
   "outputs": [],
   "source": [
    "data['X Coordinate'] = pd.to_numeric(data['X Coordinate'])\n",
    "data['Y Coordinate'] = pd.to_numeric(data['Y Coordinate'])\n",
    "data['Z Coordinate'] = pd.to_numeric(data['Z Coordinate'])"
   ]
  },
  {
   "cell_type": "code",
   "execution_count": 77,
   "metadata": {
    "collapsed": false
   },
   "outputs": [],
   "source": [
    "#d=data['Distance to Hole after the Shot']"
   ]
  },
  {
   "cell_type": "code",
   "execution_count": 86,
   "metadata": {
    "collapsed": false
   },
   "outputs": [],
   "source": [
    "uCRHtps = list(itertools.product(np.unique(data['Course Name']),np.unique(data['Round']),np.unique(data['Hole']))) #unique Course-Round-Hole Tuples"
   ]
  },
  {
   "cell_type": "code",
   "execution_count": null,
   "metadata": {
    "collapsed": true
   },
   "outputs": [],
   "source": []
  }
 ],
 "metadata": {
  "kernelspec": {
   "display_name": "Python 2",
   "language": "python",
   "name": "python2"
  },
  "language_info": {
   "codemirror_mode": {
    "name": "ipython",
    "version": 2
   },
   "file_extension": ".py",
   "mimetype": "text/x-python",
   "name": "python",
   "nbconvert_exporter": "python",
   "pygments_lexer": "ipython2",
   "version": "2.7.11"
  }
 },
 "nbformat": 4,
 "nbformat_minor": 0
}
