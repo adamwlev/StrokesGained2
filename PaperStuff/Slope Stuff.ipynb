{
 "cells": [
  {
   "cell_type": "code",
   "execution_count": 11,
   "metadata": {
    "collapsed": false
   },
   "outputs": [],
   "source": [
    "import pandas as pd\n",
    "import numpy as np\n",
    "from sklearn.isotonic import IsotonicRegression\n",
    "from sklearn.linear_model import LinearRegression\n",
    "from sklearn.ensemble import GradientBoostingRegressor\n",
    "from sklearn.model_selection import cross_val_score,KFold\n",
    "import gc\n",
    "import matplotlib.pyplot as plt\n",
    "%matplotlib inline"
   ]
  },
  {
   "cell_type": "code",
   "execution_count": 26,
   "metadata": {
    "collapsed": false
   },
   "outputs": [],
   "source": [
    "cols = ['Cat','Shots_taken_from_location','Distance_from_hole','Started_at_Z','Hole','Year','Round',\n",
    "        'Course_#','Player_#','Shot','Hole_Score']\n",
    "data = pd.concat([pd.read_csv('./../data/%d.csv' % year)[cols] for year in range(2003,2017)])\n",
    "data = data[data.Cat!='Tee Box']"
   ]
  },
  {
   "cell_type": "code",
   "execution_count": 27,
   "metadata": {
    "collapsed": false
   },
   "outputs": [
    {
     "data": {
      "text/html": [
       "<div>\n",
       "<table border=\"1\" class=\"dataframe\">\n",
       "  <thead>\n",
       "    <tr style=\"text-align: right;\">\n",
       "      <th></th>\n",
       "      <th>Cat</th>\n",
       "      <th>Shots_taken_from_location</th>\n",
       "      <th>Distance_from_hole</th>\n",
       "      <th>Started_at_Z</th>\n",
       "      <th>Hole</th>\n",
       "      <th>Year</th>\n",
       "      <th>Round</th>\n",
       "      <th>Course_#</th>\n",
       "      <th>Player_#</th>\n",
       "      <th>Shot</th>\n",
       "      <th>Hole_Score</th>\n",
       "    </tr>\n",
       "  </thead>\n",
       "  <tbody>\n",
       "    <tr>\n",
       "      <th>1</th>\n",
       "      <td>Fairway</td>\n",
       "      <td>4.0</td>\n",
       "      <td>463.466797</td>\n",
       "      <td>15.021</td>\n",
       "      <td>1</td>\n",
       "      <td>2003</td>\n",
       "      <td>1</td>\n",
       "      <td>37</td>\n",
       "      <td>1006</td>\n",
       "      <td>2</td>\n",
       "      <td>5.0</td>\n",
       "    </tr>\n",
       "    <tr>\n",
       "      <th>2</th>\n",
       "      <td>Primary Rough</td>\n",
       "      <td>3.0</td>\n",
       "      <td>41.485084</td>\n",
       "      <td>-0.430</td>\n",
       "      <td>1</td>\n",
       "      <td>2003</td>\n",
       "      <td>1</td>\n",
       "      <td>37</td>\n",
       "      <td>1006</td>\n",
       "      <td>3</td>\n",
       "      <td>5.0</td>\n",
       "    </tr>\n",
       "    <tr>\n",
       "      <th>3</th>\n",
       "      <td>Green</td>\n",
       "      <td>2.0</td>\n",
       "      <td>12.989014</td>\n",
       "      <td>0.173</td>\n",
       "      <td>1</td>\n",
       "      <td>2003</td>\n",
       "      <td>1</td>\n",
       "      <td>37</td>\n",
       "      <td>1006</td>\n",
       "      <td>4</td>\n",
       "      <td>5.0</td>\n",
       "    </tr>\n",
       "    <tr>\n",
       "      <th>4</th>\n",
       "      <td>Green</td>\n",
       "      <td>1.0</td>\n",
       "      <td>0.800701</td>\n",
       "      <td>-0.009</td>\n",
       "      <td>1</td>\n",
       "      <td>2003</td>\n",
       "      <td>1</td>\n",
       "      <td>37</td>\n",
       "      <td>1006</td>\n",
       "      <td>5</td>\n",
       "      <td>5.0</td>\n",
       "    </tr>\n",
       "    <tr>\n",
       "      <th>6</th>\n",
       "      <td>Fairway</td>\n",
       "      <td>3.0</td>\n",
       "      <td>312.171448</td>\n",
       "      <td>-6.106</td>\n",
       "      <td>2</td>\n",
       "      <td>2003</td>\n",
       "      <td>1</td>\n",
       "      <td>37</td>\n",
       "      <td>1006</td>\n",
       "      <td>2</td>\n",
       "      <td>4.0</td>\n",
       "    </tr>\n",
       "  </tbody>\n",
       "</table>\n",
       "</div>"
      ],
      "text/plain": [
       "             Cat  Shots_taken_from_location  Distance_from_hole  Started_at_Z  \\\n",
       "1        Fairway                        4.0          463.466797        15.021   \n",
       "2  Primary Rough                        3.0           41.485084        -0.430   \n",
       "3          Green                        2.0           12.989014         0.173   \n",
       "4          Green                        1.0            0.800701        -0.009   \n",
       "6        Fairway                        3.0          312.171448        -6.106   \n",
       "\n",
       "   Hole  Year  Round  Course_#  Player_#  Shot  Hole_Score  \n",
       "1     1  2003      1        37      1006     2         5.0  \n",
       "2     1  2003      1        37      1006     3         5.0  \n",
       "3     1  2003      1        37      1006     4         5.0  \n",
       "4     1  2003      1        37      1006     5         5.0  \n",
       "6     2  2003      1        37      1006     2         4.0  "
      ]
     },
     "execution_count": 27,
     "metadata": {},
     "output_type": "execute_result"
    }
   ],
   "source": [
    "data.head()"
   ]
  },
  {
   "cell_type": "code",
   "execution_count": 28,
   "metadata": {
    "collapsed": true
   },
   "outputs": [],
   "source": [
    "cats = ['Green','Fairway','Intermediate Rough','Primary Rough','Fringe','Bunker','Other']\n",
    "models = {}\n",
    "for cat in cats:\n",
    "    models[cat] = IsotonicRegression()\n",
    "    models[cat].fit(data[data.Cat==cat].Distance_from_hole,data[data.Cat==cat].Shots_taken_from_location)"
   ]
  },
  {
   "cell_type": "code",
   "execution_count": 29,
   "metadata": {
    "collapsed": true
   },
   "outputs": [],
   "source": [
    "data.insert(len(data.columns),'Difficulty_Start',[0]*len(data))\n",
    "for cat in cats:\n",
    "    data.loc[data.Cat==cat,'Difficulty_Start'] = models[cat].predict(data[data.Cat==cat].Distance_from_hole)"
   ]
  },
  {
   "cell_type": "code",
   "execution_count": 42,
   "metadata": {
    "collapsed": true
   },
   "outputs": [],
   "source": [
    "difficulty_dict = {tuple(tup[:-1]):tup[-1] for tup in \n",
    "                  data[['Year','Course_#','Round','Hole','Player_#','Shot','Difficulty_Start']].values.tolist()}"
   ]
  },
  {
   "cell_type": "code",
   "execution_count": 45,
   "metadata": {
    "collapsed": false
   },
   "outputs": [
    {
     "data": {
      "text/plain": [
       "0"
      ]
     },
     "execution_count": 45,
     "metadata": {},
     "output_type": "execute_result"
    }
   ],
   "source": [
    "data.insert(len(data.columns),'Difficulty_End',[0]*len(data))\n",
    "cols = ['Year','Course_#','Round','Hole','Player_#','Shot']\n",
    "data.loc[data.Shot!=data.Hole_Score,'Difficulty_End'] = [difficulty_dict[tuple(tup[:-1])+tuple([tup[-1]+1])] \n",
    "                                                         for tup in data[data.Shot!=data.Hole_Score][cols].values.tolist()]\n",
    "difficulty_dict = None\n",
    "gc.collect()"
   ]
  },
  {
   "cell_type": "code",
   "execution_count": null,
   "metadata": {
    "collapsed": true
   },
   "outputs": [],
   "source": [
    "data.insert(len(data.columns),'Strokes_Gained',data.Difficulty_Start - data.Difficulty_End - 1)"
   ]
  },
  {
   "cell_type": "code",
   "execution_count": 46,
   "metadata": {
    "collapsed": true
   },
   "outputs": [],
   "source": [
    "data = data.drop(['Year','Course_#','Round','Hole','Player_#','Shot',\n",
    "                  'Hole_Score','Shots_taken_from_location','Difficulty_Start','Difficulty_End'],axis=1)"
   ]
  },
  {
   "cell_type": "code",
   "execution_count": 55,
   "metadata": {
    "collapsed": false
   },
   "outputs": [
    {
     "data": {
      "text/html": [
       "<div>\n",
       "<table border=\"1\" class=\"dataframe\">\n",
       "  <thead>\n",
       "    <tr style=\"text-align: right;\">\n",
       "      <th></th>\n",
       "      <th>Cat</th>\n",
       "      <th>Distance_from_hole</th>\n",
       "      <th>Started_at_Z</th>\n",
       "      <th>Strokes_Gained</th>\n",
       "    </tr>\n",
       "  </thead>\n",
       "  <tbody>\n",
       "    <tr>\n",
       "      <th>1</th>\n",
       "      <td>Fairway</td>\n",
       "      <td>463.466797</td>\n",
       "      <td>15.021</td>\n",
       "      <td>-0.505462</td>\n",
       "    </tr>\n",
       "    <tr>\n",
       "      <th>2</th>\n",
       "      <td>Primary Rough</td>\n",
       "      <td>41.485084</td>\n",
       "      <td>-0.430</td>\n",
       "      <td>-0.289120</td>\n",
       "    </tr>\n",
       "    <tr>\n",
       "      <th>3</th>\n",
       "      <td>Green</td>\n",
       "      <td>12.989014</td>\n",
       "      <td>0.173</td>\n",
       "      <td>-0.269209</td>\n",
       "    </tr>\n",
       "    <tr>\n",
       "      <th>4</th>\n",
       "      <td>Green</td>\n",
       "      <td>0.800701</td>\n",
       "      <td>-0.009</td>\n",
       "      <td>0.000563</td>\n",
       "    </tr>\n",
       "    <tr>\n",
       "      <th>6</th>\n",
       "      <td>Fairway</td>\n",
       "      <td>312.171448</td>\n",
       "      <td>-6.106</td>\n",
       "      <td>-0.158991</td>\n",
       "    </tr>\n",
       "  </tbody>\n",
       "</table>\n",
       "</div>"
      ],
      "text/plain": [
       "             Cat  Distance_from_hole  Started_at_Z  Strokes_Gained\n",
       "1        Fairway          463.466797        15.021       -0.505462\n",
       "2  Primary Rough           41.485084        -0.430       -0.289120\n",
       "3          Green           12.989014         0.173       -0.269209\n",
       "4          Green            0.800701        -0.009        0.000563\n",
       "6        Fairway          312.171448        -6.106       -0.158991"
      ]
     },
     "execution_count": 55,
     "metadata": {},
     "output_type": "execute_result"
    }
   ],
   "source": [
    "data.head()"
   ]
  },
  {
   "cell_type": "code",
   "execution_count": 56,
   "metadata": {
    "collapsed": false
   },
   "outputs": [
    {
     "name": "stdout",
     "output_type": "stream",
     "text": [
      "-0.0107171334984\n",
      "0.00223771789587\n"
     ]
    }
   ],
   "source": [
    "print data[(data.Cat=='Green') & (data.Started_at_Z>0)].Strokes_Gained.mean()\n",
    "print data[(data.Cat=='Green') & (data.Started_at_Z<=0)].Strokes_Gained.mean()"
   ]
  },
  {
   "cell_type": "code",
   "execution_count": 57,
   "metadata": {
    "collapsed": false
   },
   "outputs": [
    {
     "name": "stdout",
     "output_type": "stream",
     "text": [
      "0.00700578291022\n",
      "0.00444761935907\n"
     ]
    }
   ],
   "source": [
    "print data[(data.Cat=='Fairway') & (data.Started_at_Z>0)].Strokes_Gained.mean()\n",
    "print data[(data.Cat=='Fairway') & (data.Started_at_Z<=0)].Strokes_Gained.mean()"
   ]
  },
  {
   "cell_type": "code",
   "execution_count": 79,
   "metadata": {
    "collapsed": false
   },
   "outputs": [],
   "source": [
    "x_up = data[(data.Cat=='Green') & (data.Started_at_Z<0)].Distance_from_hole.values\n",
    "y_up = data[(data.Cat=='Green') & (data.Started_at_Z<0)].Strokes_Gained.values\n",
    "x_down = data[(data.Cat=='Green') & (data.Started_at_Z>0)].Distance_from_hole.values\n",
    "y_down = data[(data.Cat=='Green') & (data.Started_at_Z>0)].Strokes_Gained.values\n",
    "\n",
    "bins = np.linspace(0,80,20)\n",
    "b_up = np.digitize(x_up, bins)\n",
    "x_up_ms = [x_up[b_up == i].mean() for i in range(1, len(bins))]\n",
    "y_up_ms = [y_up[b_up == i].mean() for i in range(1, len(bins))]\n",
    "\n",
    "b_down = np.digitize(x_down, bins)\n",
    "x_down_ms = [x_down[b_down == i].mean() for i in range(1, len(bins))]\n",
    "y_down_ms = [y_down[b_down == i].mean() for i in range(1, len(bins))]"
   ]
  },
  {
   "cell_type": "code",
   "execution_count": 74,
   "metadata": {
    "collapsed": false
   },
   "outputs": [
    {
     "data": {
      "text/plain": [
       "array([  0.        ,   4.21052632,   8.42105263,  12.63157895,\n",
       "        16.84210526,  21.05263158,  25.26315789,  29.47368421,\n",
       "        33.68421053,  37.89473684,  42.10526316,  46.31578947,\n",
       "        50.52631579,  54.73684211,  58.94736842,  63.15789474,\n",
       "        67.36842105,  71.57894737,  75.78947368,  80.        ])"
      ]
     },
     "execution_count": 74,
     "metadata": {},
     "output_type": "execute_result"
    }
   ],
   "source": [
    "bins"
   ]
  },
  {
   "cell_type": "code",
   "execution_count": 71,
   "metadata": {
    "collapsed": false,
    "scrolled": true
   },
   "outputs": [
    {
     "name": "stdout",
     "output_type": "stream",
     "text": [
      "[1418741, 488167, 271635, 196941, 153545, 128752, 111746, 94665, 78444, 61952, 47582, 35333, 25813, 18398, 13052, 9103, 6190, 4126, 2692]\n"
     ]
    }
   ],
   "source": [
    "print [len(x_up[b_up==i]) for i in range(1,len(bins))]"
   ]
  },
  {
   "cell_type": "code",
   "execution_count": 72,
   "metadata": {
    "collapsed": true
   },
   "outputs": [],
   "source": [
    "def confidence_interval_mean(sample,its,p):\n",
    "    means = []\n",
    "    for _ in xrange(its):\n",
    "        mean = np.mean(np.random.choice(sample,len(sample)))\n",
    "        means.append(mean)\n",
    "    return np.percentile(means,[(100.0-p)/2,(p+100.0)/2])\n",
    "\n",
    "def confidence_interval_difference_of_two_means(sample_1,sample_2,its,p):\n",
    "    mean_diffs = []\n",
    "    for _ in xrange(its):\n",
    "        mean_1 = np.mean(np.random.choice(sample_1,len(sample_1)))\n",
    "        mean_2 = np.mean(np.random.choice(sample_2,len(sample_2)))\n",
    "        mean_diffs.append(mean_1 - mean_2)\n",
    "    return np.percentile(mean_diffs,[(100.0-p)/2,(p+100.0)/2])"
   ]
  },
  {
   "cell_type": "code",
   "execution_count": 80,
   "metadata": {
    "collapsed": false,
    "scrolled": false
   },
   "outputs": [
    {
     "data": {
      "image/png": "[encoded data removed]",
      "text/plain": [
       "<matplotlib.figure.Figure at 0x118201d10>"
      ]
     },
     "metadata": {},
     "output_type": "display_data"
    }
   ],
   "source": [
    "fig,ax = plt.subplots(figsize=(20, 10))\n",
    "plt.plot((np.array(x_up_ms)+np.array(x_down_ms))/2,np.array(y_up_ms)-np.array(y_down_ms),label='Advantage of Uphill vs. Downhill')\n",
    "x = [0,0]\n",
    "for i in range(len(bins)-1):\n",
    "    ci = confidence_interval_difference_of_two_means(y_up[b_up == i+1],y_down[b_down == i+1],100,99)\n",
    "    plt.plot([(x_up_ms[i] + x_down_ms[i])/2, (x_up_ms[i] + x_down_ms[i])/2], [ci[0], ci[1]], 'k-', lw=1)\n",
    "    plt.plot([(x_up_ms[i] + x_down_ms[i])/2 - .5,(x_up_ms[i] + x_down_ms[i])/2 + .5],[ci[0],ci[0]],'k-', lw=1)\n",
    "    plt.plot([(x_up_ms[i] + x_down_ms[i])/2 - .5,(x_up_ms[i] + x_down_ms[i])/2 + .5],[ci[1],ci[1]],'k-', lw=1)\n",
    "    plt.plot([0,60],[0,0],'k--',lw=1)"
   ]
  },
  {
   "cell_type": "code",
   "execution_count": 75,
   "metadata": {
    "collapsed": true
   },
   "outputs": [],
   "source": [
    "x_up = data[(data.Cat=='Fairway') & (data.Started_at_Z<0)].Distance_from_hole.values\n",
    "y_up = data[(data.Cat=='Fairway') & (data.Started_at_Z<0)].Strokes_Gained.values\n",
    "x_down = data[(data.Cat=='Fairway') & (data.Started_at_Z>0)].Distance_from_hole.values\n",
    "y_down = data[(data.Cat=='Fairway') & (data.Started_at_Z>0)].Strokes_Gained.values\n",
    "\n",
    "bins = np.linspace(0,800,20)\n",
    "b_up = np.digitize(x_up, bins)\n",
    "x_up_ms = [x_up[b_up == i].mean() for i in range(1, len(bins))]\n",
    "y_up_ms = [y_up[b_up == i].mean() for i in range(1, len(bins))]\n",
    "\n",
    "b_down = np.digitize(x_down, bins)\n",
    "x_down_ms = [x_down[b_down == i].mean() for i in range(1, len(bins))]\n",
    "y_down_ms = [y_down[b_down == i].mean() for i in range(1, len(bins))]"
   ]
  },
  {
   "cell_type": "code",
   "execution_count": 76,
   "metadata": {
    "collapsed": false
   },
   "outputs": [
    {
     "data": {
      "image/png": "[encoded data removed]",
      "text/plain": [
       "<matplotlib.figure.Figure at 0x2723cb550>"
      ]
     },
     "metadata": {},
     "output_type": "display_data"
    }
   ],
   "source": [
    "fig,ax = plt.subplots(figsize=(20, 10))\n",
    "plt.plot((np.array(x_up_ms)+np.array(x_down_ms))/2,np.array(y_up_ms)-np.array(y_down_ms),label='Advantage of Uphill vs. Downhill')\n",
    "x = [0,0]\n",
    "for i in range(len(bins)-1):\n",
    "    ci = confidence_interval_difference_of_two_means(y_up[b_up == i+1],y_down[b_down == i+1],1000,99)\n",
    "    plt.plot([(x_up_ms[i] + x_down_ms[i])/2, (x_up_ms[i] + x_down_ms[i])/2], [ci[0], ci[1]], 'k-', lw=1)\n",
    "    plt.plot([(x_up_ms[i] + x_down_ms[i])/2 - .5,(x_up_ms[i] + x_down_ms[i])/2 + .5],[ci[0],ci[0]],'k-', lw=1)\n",
    "    plt.plot([(x_up_ms[i] + x_down_ms[i])/2 - .5,(x_up_ms[i] + x_down_ms[i])/2 + .5],[ci[1],ci[1]],'k-', lw=1)\n",
    "    plt.plot([0,60],[0,0],'k--',lw=1)"
   ]
  },
  {
   "cell_type": "code",
   "execution_count": 81,
   "metadata": {
    "collapsed": true
   },
   "outputs": [],
   "source": [
    "x_up = data[(data.Cat=='Primary Rough') & (data.Started_at_Z<0)].Distance_from_hole.values\n",
    "y_up = data[(data.Cat=='Primary Rough') & (data.Started_at_Z<0)].Strokes_Gained.values\n",
    "x_down = data[(data.Cat=='Primary Rough') & (data.Started_at_Z>0)].Distance_from_hole.values\n",
    "y_down = data[(data.Cat=='Primary Rough') & (data.Started_at_Z>0)].Strokes_Gained.values\n",
    "\n",
    "bins = np.linspace(0,800,20)\n",
    "b_up = np.digitize(x_up, bins)\n",
    "x_up_ms = [x_up[b_up == i].mean() for i in range(1, len(bins))]\n",
    "y_up_ms = [y_up[b_up == i].mean() for i in range(1, len(bins))]\n",
    "\n",
    "b_down = np.digitize(x_down, bins)\n",
    "x_down_ms = [x_down[b_down == i].mean() for i in range(1, len(bins))]\n",
    "y_down_ms = [y_down[b_down == i].mean() for i in range(1, len(bins))]"
   ]
  },
  {
   "cell_type": "code",
   "execution_count": 85,
   "metadata": {
    "collapsed": false
   },
   "outputs": [
    {
     "data": {
      "image/png": "[encoded data removed]",
      "text/plain": [
       "<matplotlib.figure.Figure at 0x1172cc390>"
      ]
     },
     "metadata": {},
     "output_type": "display_data"
    }
   ],
   "source": [
    "fig,ax = plt.subplots(figsize=(20, 10))\n",
    "plt.plot((np.array(x_up_ms)+np.array(x_down_ms))/6,np.array(y_up_ms)-np.array(y_down_ms),label='Advantage of Uphill vs. Downhill')\n",
    "x = [0,0]\n",
    "for i in range(len(bins)-1):\n",
    "    ci = confidence_interval_difference_of_two_means(y_up[b_up == i+1],y_down[b_down == i+1],1000,99)\n",
    "    plt.plot([(x_up_ms[i] + x_down_ms[i])/6, (x_up_ms[i] + x_down_ms[i])/6], [ci[0], ci[1]], 'k-', lw=1)\n",
    "    plt.plot([(x_up_ms[i] + x_down_ms[i])/6 - .5,(x_up_ms[i] + x_down_ms[i])/6 + .5],[ci[0],ci[0]],'k-', lw=1)\n",
    "    plt.plot([(x_up_ms[i] + x_down_ms[i])/6 - .5,(x_up_ms[i] + x_down_ms[i])/6 + .5],[ci[1],ci[1]],'k-', lw=1)\n",
    "    plt.plot([0,60],[0,0],'k--',lw=1)"
   ]
  },
  {
   "cell_type": "code",
   "execution_count": 86,
   "metadata": {
    "collapsed": true
   },
   "outputs": [],
   "source": [
    "data.insert(len(data.columns),'Elevation_Grade',-data.Started_at_Z/data.Distance_from_hole)"
   ]
  },
  {
   "cell_type": "code",
   "execution_count": 99,
   "metadata": {
    "collapsed": false
   },
   "outputs": [
    {
     "data": {
      "image/png": "[encoded data removed]",
      "text/plain": [
       "<matplotlib.figure.Figure at 0x118b37310>"
      ]
     },
     "metadata": {},
     "output_type": "display_data"
    }
   ],
   "source": [
    "plt.hist(data.Elevation_Grade[(-.1<data.Elevation_Grade) & (.1>data.Elevation_Grade)],bins=100);"
   ]
  },
  {
   "cell_type": "code",
   "execution_count": 90,
   "metadata": {
    "collapsed": false
   },
   "outputs": [
    {
     "data": {
      "text/plain": [
       "count    1.048525e+07\n",
       "mean     7.610789e-03\n",
       "std      2.808579e-02\n",
       "min     -1.365459e+01\n",
       "25%     -6.940707e-03\n",
       "50%      5.273072e-03\n",
       "75%      1.822364e-02\n",
       "max      3.888219e+00\n",
       "Name: Elevation_Grade, dtype: float64"
      ]
     },
     "execution_count": 90,
     "metadata": {},
     "output_type": "execute_result"
    }
   ],
   "source": [
    "data.Elevation_Grade.describe()"
   ]
  },
  {
   "cell_type": "code",
   "execution_count": 95,
   "metadata": {
    "collapsed": false
   },
   "outputs": [
    {
     "data": {
      "text/plain": [
       "10"
      ]
     },
     "execution_count": 95,
     "metadata": {},
     "output_type": "execute_result"
    }
   ],
   "source": [
    "(data.Elevation_Grade<-3).sum()"
   ]
  },
  {
   "cell_type": "code",
   "execution_count": 108,
   "metadata": {
    "collapsed": true
   },
   "outputs": [],
   "source": [
    "x = data[data.Cat=='Green'].Elevation_Grade.values\n",
    "y = data[data.Cat=='Green'].Strokes_Gained.values\n",
    "\n",
    "bins = np.linspace(-.1,.1,20)\n",
    "b = np.digitize(x, bins)"
   ]
  },
  {
   "cell_type": "code",
   "execution_count": 109,
   "metadata": {
    "collapsed": false,
    "scrolled": true
   },
   "outputs": [
    {
     "name": "stdout",
     "output_type": "stream",
     "text": [
      "[478, 844, 1658, 4464, 15341, 65989, 247569, 633688, 1036721, 1256812, 1234874, 840036, 350592, 103800, 30561, 7948, 2523, 1147, 704]\n"
     ]
    }
   ],
   "source": [
    "print [len(x[b==i]) for i in range(1,len(bins))]"
   ]
  },
  {
   "cell_type": "code",
   "execution_count": 120,
   "metadata": {
    "collapsed": true
   },
   "outputs": [],
   "source": [
    "x_ms = np.array([x[b==i].mean() for i in range(1,len(bins))])\n",
    "y_ms = np.array([y[b==i].mean() for i in range(1,len(bins))])"
   ]
  },
  {
   "cell_type": "code",
   "execution_count": 121,
   "metadata": {
    "collapsed": false
   },
   "outputs": [
    {
     "data": {
      "text/plain": [
       "[<matplotlib.lines.Line2D at 0x117549c90>]"
      ]
     },
     "execution_count": 121,
     "metadata": {},
     "output_type": "execute_result"
    },
    {
     "data": {
      "image/png": "[encoded data removed]",
      "text/plain": [
       "<matplotlib.figure.Figure at 0x11674c690>"
      ]
     },
     "metadata": {},
     "output_type": "display_data"
    }
   ],
   "source": [
    "fig,ax = plt.subplots(figsize=(20, 10))\n",
    "plt.plot(x_ms,y_ms)\n",
    "for i in range(len(bins)-1):\n",
    "    ci = confidence_interval_mean(y[b == i+1],50,99)\n",
    "    plt.plot([x_ms[i],x_ms[i]], [ci[0], ci[1]], 'k-', lw=2)\n",
    "    plt.plot([x_ms[i] - .003,x_ms[i] + .003],[ci[0],ci[0]],'k-', lw=2)\n",
    "    plt.plot([x_ms[i] - .003,x_ms[i] + .003],[ci[1],ci[1]],'k-', lw=2)\n",
    "plt.plot([x_ms.min(),x_ms.max()],[0,0],'k--',lw=1)"
   ]
  },
  {
   "cell_type": "code",
   "execution_count": 7,
   "metadata": {
    "collapsed": false
   },
   "outputs": [],
   "source": [
    "gbr = GradientBoostingRegressor(loss='ls', learning_rate=0.5, n_estimators=5, subsample=1.0, \n",
    "                                criterion='friedman_mse', min_samples_split=10, min_samples_leaf=5, \n",
    "                                max_depth=3, verbose=0)"
   ]
  },
  {
   "cell_type": "code",
   "execution_count": 22,
   "metadata": {
    "collapsed": true
   },
   "outputs": [],
   "source": [
    "cols = ['Cat','Shots_taken_from_location','Distance_from_hole','Started_at_Z','Hole','Year','Round',\n",
    "        'Course_#','Green_to_work_with']\n",
    "data = pd.concat([pd.read_csv('./../data/%d.csv' % year)[cols] for year in range(2003,2017)])\n",
    "data = data[data.Cat!='Tee Box']"
   ]
  },
  {
   "cell_type": "code",
   "execution_count": 14,
   "metadata": {
    "collapsed": false
   },
   "outputs": [],
   "source": [
    "results = {}\n",
    "for cat,df in data.groupby('Cat'):\n",
    "    X = df.Distance_from_hole.values\n",
    "    y = df.Shots_taken_from_location.values\n",
    "    cv = KFold(n_splits=9)\n",
    "    scores = []\n",
    "    for train,test in cv.split(X):\n",
    "        gbr.fit(X[train][:,None],y[train])\n",
    "        scores.append(gbr.score(X[test][:,None],y[test]))\n",
    "    results[cat] = scores"
   ]
  },
  {
   "cell_type": "code",
   "execution_count": 17,
   "metadata": {
    "collapsed": false
   },
   "outputs": [],
   "source": [
    "results_with_slope = {}\n",
    "for cat,df in data.groupby('Cat'):\n",
    "    X = df[['Distance_from_hole','Started_at_Z']].values\n",
    "    y = df.Shots_taken_from_location.values\n",
    "    cv = KFold(n_splits=9)\n",
    "    scores = []\n",
    "    for train,test in cv.split(X):\n",
    "        gbr.fit(X[train],y[train])\n",
    "        scores.append(gbr.score(X[test],y[test]))\n",
    "    results_with_slope[cat] = scores"
   ]
  },
  {
   "cell_type": "code",
   "execution_count": 23,
   "metadata": {
    "collapsed": true
   },
   "outputs": [],
   "source": [
    "results_with_gtww = {}\n",
    "for cat,df in data.groupby('Cat'):\n",
    "    X = df[['Distance_from_hole','Started_at_Z','Green_to_work_with']].values\n",
    "    y = df.Shots_taken_from_location.values\n",
    "    cv = KFold(n_splits=9)\n",
    "    scores = []\n",
    "    for train,test in cv.split(X):\n",
    "        gbr.fit(X[train],y[train])\n",
    "        scores.append(gbr.score(X[test],y[test]))\n",
    "    results_with_gtww[cat] = scores"
   ]
  },
  {
   "cell_type": "code",
   "execution_count": 19,
   "metadata": {
    "collapsed": false
   },
   "outputs": [],
   "source": [
    "cats = ['Green','Fairway','Intermediate Rough','Primary Rough','Fringe','Bunker','Other']"
   ]
  },
  {
   "cell_type": "code",
   "execution_count": 26,
   "metadata": {
    "collapsed": false
   },
   "outputs": [
    {
     "name": "stdout",
     "output_type": "stream",
     "text": [
      "Green 0.588673304514 0.588885717815 0.588885717815\n",
      "Fairway 0.291884934671 0.292381610524 0.292546241356\n",
      "Intermediate Rough 0.433410221882 0.434139126366 0.434827565664\n",
      "Primary Rough 0.387295261544 0.388317821544 0.391242329674\n",
      "Fringe 0.12121245548 0.123131695684 0.123306753973\n",
      "Bunker 0.367211620502 0.368500405351 0.368958223052\n",
      "Other 0.202696730259 0.205818329212 0.206071574383\n"
     ]
    }
   ],
   "source": [
    "for cat in cats:\n",
    "    print cat,np.mean(results[cat]),np.mean(results_with_slope[cat]),np.mean(results_with_gtww[cat])"
   ]
  },
  {
   "cell_type": "code",
   "execution_count": null,
   "metadata": {
    "collapsed": true
   },
   "outputs": [],
   "source": []
  }
 ],
 "metadata": {
  "kernelspec": {
   "display_name": "Python 2",
   "language": "python",
   "name": "python2"
  },
  "language_info": {
   "codemirror_mode": {
    "name": "ipython",
    "version": 2
   },
   "file_extension": ".py",
   "mimetype": "text/x-python",
   "name": "python",
   "nbconvert_exporter": "python",
   "pygments_lexer": "ipython2",
   "version": "2.7.11"
  }
 },
 "nbformat": 4,
 "nbformat_minor": 0
}
