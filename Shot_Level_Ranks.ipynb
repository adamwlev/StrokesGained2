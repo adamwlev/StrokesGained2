{
 "cells": [
  {
   "cell_type": "code",
   "execution_count": 28,
   "metadata": {
    "collapsed": true
   },
   "outputs": [],
   "source": [
    "import pandas as pd\n",
    "import numpy as np\n",
    "import math\n",
    "import matplotlib.pyplot as plt\n",
    "from scipy.sparse import csc_matrix,csr_matrix,eye,bmat\n",
    "from scipy.sparse.linalg import eigs,inv,gmres\n",
    "from scipy.stats import norm\n",
    "import pickle\n",
    "import multiprocessing\n",
    "%matplotlib inline"
   ]
  },
  {
   "cell_type": "code",
   "execution_count": 2,
   "metadata": {
    "collapsed": true
   },
   "outputs": [],
   "source": [
    "with open('inds_to_name.pkl','r') as pickleFile:\n",
    "    inds_to_name = pickle.load(pickleFile)\n",
    "\n",
    "with open('hole_tups.pkl','r') as pickleFile:\n",
    "    hole_tups = pickle.load(pickleFile)"
   ]
  },
  {
   "cell_type": "code",
   "execution_count": 3,
   "metadata": {
    "collapsed": false
   },
   "outputs": [],
   "source": [
    "epsilon = 10\n",
    "key = pd.read_csv('cats%g/key_file.csv' % (epsilon,),header=None,index_col=0)\n",
    "key_dict = {tuple(value):key for key,value in key.T.to_dict('list').iteritems()}"
   ]
  },
  {
   "cell_type": "code",
   "execution_count": 4,
   "metadata": {
    "collapsed": false
   },
   "outputs": [
    {
     "data": {
      "text/plain": [
       "[((2009, 481, 2, 730, 5), 17697),\n",
       " ((2015, 5, 4, 5, 14), 35863),\n",
       " ((2012, 54, 1, 609, 14), 27879)]"
      ]
     },
     "execution_count": 4,
     "metadata": {},
     "output_type": "execute_result"
    }
   ],
   "source": [
    "key_dict.items()[0:3]"
   ]
  },
  {
   "cell_type": "code",
   "execution_count": 5,
   "metadata": {
    "collapsed": false
   },
   "outputs": [],
   "source": [
    "n_players = len(inds_to_name)\n",
    "n_holes = len(hole_tups)\n",
    "n_tournaments = len(pd.DataFrame(np.array(hole_tups))[[0,1]].drop_duplicates())"
   ]
  },
  {
   "cell_type": "code",
   "execution_count": 6,
   "metadata": {
    "collapsed": false
   },
   "outputs": [
    {
     "name": "stdout",
     "output_type": "stream",
     "text": [
      "1992 38319 546\n"
     ]
    }
   ],
   "source": [
    "print n_players,n_holes,n_tournaments"
   ]
  },
  {
   "cell_type": "code",
   "execution_count": 7,
   "metadata": {
    "collapsed": true
   },
   "outputs": [],
   "source": [
    "def load_sparse_csc(filename):\n",
    "    loader = np.load(filename)\n",
    "    return csc_matrix((loader['data'],loader['indices'],loader['indptr']),shape = loader['shape'])"
   ]
  },
  {
   "cell_type": "code",
   "execution_count": 8,
   "metadata": {
    "collapsed": true
   },
   "outputs": [],
   "source": [
    "def my_norm(x,BETA):\n",
    "    return norm.pdf(x,0,BETA)/norm.pdf(0,0,BETA)"
   ]
  },
  {
   "cell_type": "code",
   "execution_count": 9,
   "metadata": {
    "collapsed": true
   },
   "outputs": [],
   "source": [
    "def inflate(cat,tournament_group,holes_to_inflate,n_tournament_groups,BETA,window_size=28):\n",
    "    mat = csc_matrix((n_players*n_tournament_groups,n_players),dtype=float)\n",
    "    mat_1 = csc_matrix((n_players*n_tournament_groups,n_players),dtype=float)\n",
    "    for j in holes_to_inflate:\n",
    "        ind = key_dict[j]\n",
    "        for c in cats[cat]:\n",
    "            mat += bmat([[load_sparse_csc('cats%g/%s_%d.npz' % (epsilon,c,ind))*my_norm(tournament_group-k,BETA)] for k in range(1,n_tournament_groups+1)],format='csc')\n",
    "            mat_1 += bmat([[(load_sparse_csc('cats%g/%s_%d.npz' % (epsilon,c,ind))!=0).astype(float)*my_norm(tournament_group-k,BETA)] for k in range(1,n_tournament_groups+1)],format='csc')\n",
    "    if tournament_group>window_size:\n",
    "        del inflate.__dict__[tournament_group-window_size]\n",
    "    inflate.__dict__[tournament_group] = (mat,mat_1)\n",
    "    out_mat = bmat([[inflate.__dict__[i][0][max(0,tournament_group-window_size)*n_players:n_players*tournament_group] for i in range(max(1,tournament_group-window_size+1),tournament_group+1)]],format='csc')\n",
    "    out_mat1 = bmat([[inflate.__dict__[i][1][max(0,tournament_group-window_size)*n_players:n_players*tournament_group] for i in range(max(1,tournament_group-window_size+1),tournament_group+1)]],format='csc')\n",
    "    return (out_mat,out_mat1)"
   ]
  },
  {
   "cell_type": "code",
   "execution_count": 10,
   "metadata": {
    "collapsed": true
   },
   "outputs": [],
   "source": [
    "def alpha(A,a):\n",
    "    A.data[A.data<1e-6] = 0\n",
    "    A.data[np.isnan(A.data)]=0\n",
    "    w,v = eigs(A,k=1,which='LM')\n",
    "    return a/w[0].real"
   ]
  },
  {
   "cell_type": "code",
   "execution_count": 11,
   "metadata": {
    "collapsed": true
   },
   "outputs": [],
   "source": [
    "def solve(mat,mat_1,a,min_reps,x_guess=None,x_guess1=None):\n",
    "    mat.data[mat_1.data<1e-6] = 0\n",
    "    mat_1.data[mat_1.data<1e-6] = 0\n",
    "    mat.data[np.isnan(mat.data)] = 0\n",
    "    mat_1.data[np.isnan(mat_1.data)] = 0\n",
    "    \n",
    "    S = eye(mat.shape[0],format='csc')-alpha(mat,a)*mat\n",
    "    w_a = gmres(S,mat.sum(1),x0=x_guess)[0]\n",
    "    \n",
    "    S = eye(mat_1.shape[0],format='csc')-alpha(mat_1,a)*mat_1 \n",
    "    w_g = gmres(S,mat_1.sum(1),x0=x_guess1)[0]\n",
    "    \n",
    "    w_a[w_g<min_reps]=0\n",
    "    solve.w_a = w_a\n",
    "    solve.w_g = w_g\n",
    "    \n",
    "    return ((w_a/w_g)[-n_players:],w_g[-n_players:])"
   ]
  },
  {
   "cell_type": "code",
   "execution_count": 12,
   "metadata": {
    "collapsed": true
   },
   "outputs": [],
   "source": [
    "cats = {}\n",
    "cats['green0'] = ['green0','fringe0']\n",
    "cats['green5'] = ['green5','fringe5']\n",
    "cats['green10'] = ['green10','fringe10']\n",
    "cats['green20'] = ['green20','fringe20']\n",
    "cats['rough0'] = ['prough0','irough0']\n",
    "cats['rough90'] = ['prough90','irough90']\n",
    "cats['rough375'] = ['prough375','irough375']\n",
    "cats['fairway0'] = ['fairway0']\n",
    "cats['fairway300'] = ['fairway300']\n",
    "cats['fairway540'] = ['fairway540']\n",
    "cats['bunker'] = ['bunker']\n",
    "cats['tee3'] = ['tee3']\n",
    "cats['tee45'] = ['tee45']"
   ]
  },
  {
   "cell_type": "code",
   "execution_count": 14,
   "metadata": {
    "collapsed": false
   },
   "outputs": [
    {
     "name": "stdout",
     "output_type": "stream",
     "text": [
      "Tournament Group 1 done\n"
     ]
    }
   ],
   "source": [
    "# cat = 'green0'\n",
    "# ranks,reps = [],[]\n",
    "# BETA = 6\n",
    "# a = .8\n",
    "# bin_size = 4\n",
    "# window_size = 28\n",
    "# n_tournament_groups = int(math.ceil(n_tournaments/float(bin_size)))\n",
    "# current_group = 0\n",
    "# tournament_groups=[set()]\n",
    "# tournaments = set()\n",
    "# holes_to_inflate = []\n",
    "# for hole_ind,tup in enumerate(hole_tups):\n",
    "#     tournaments.add(tuple(tup[0:2]))\n",
    "#     tournament_group = (len(tournaments)-1)/bin_size\n",
    "#     if tournament_group>current_group:\n",
    "#         A,G = inflate(cat,tournament_group,holes_to_inflate,n_tournament_groups,BETA)\n",
    "#         if current_group==0:\n",
    "#             res = solve(A,G,a,1)\n",
    "#             ranks.append(res[0])\n",
    "#             reps.append(res[1])\n",
    "#             print 'Tournament Group %d done' % tournament_group\n",
    "#             current_group = tournament_group\n",
    "#             tournament_groups.append(set())\n",
    "#             holes_to_inflate = []\n",
    "#         else:\n",
    "#             w_a_approx = np.append(solve.w_a[0 if tournament_group<=window_size else n_players:],solve.w_a[-n_players:])\n",
    "#             w_g_approx = np.append(solve.w_g[0 if tournament_group<=window_size else n_players:],solve.w_g[-n_players:])\n",
    "#             res = solve(A,G,a,1,w_a_approx,w_g_approx)\n",
    "#             ranks.append(res[0])\n",
    "#             reps.append(res[1])\n",
    "#             print 'Tournament Group %d done' % tournament_group\n",
    "#             current_group = tournament_group\n",
    "#             tournament_groups.append(set())\n",
    "#             holes_to_inflate = []\n",
    "#     tournament_groups[current_group].add(tuple(tup[0:2]))\n",
    "#     holes_to_inflate.append(tuple(tup))"
   ]
  },
  {
   "cell_type": "code",
   "execution_count": 27,
   "metadata": {
    "collapsed": true
   },
   "outputs": [],
   "source": [
    "def run_a_slice(slice):\n",
    "    def inflate(cat,tournament_group,holes_to_inflate,n_tournament_groups,BETA,window_size=28):\n",
    "        mat = csc_matrix((n_players*n_tournament_groups,n_players),dtype=float)\n",
    "        mat_1 = csc_matrix((n_players*n_tournament_groups,n_players),dtype=float)\n",
    "        for j in holes_to_inflate:\n",
    "            ind = key_dict[j]\n",
    "            for c in cats[cat]:\n",
    "                mat += bmat([[load_sparse_csc('cats%g/%s_%d.npz' % (epsilon,c,ind))*my_norm(tournament_group-k,BETA)] for k in range(1,n_tournament_groups+1)],format='csc')\n",
    "                mat_1 += bmat([[(load_sparse_csc('cats%g/%s_%d.npz' % (epsilon,c,ind))!=0).astype(float)*my_norm(tournament_group-k,BETA)] for k in range(1,n_tournament_groups+1)],format='csc')\n",
    "        return {tournament_group:(mat,mat_1)}\n",
    "    d = {}\n",
    "    for group,tups in slice:\n",
    "        d.update(inflate(cat,group,tups,n_tournament_groups,BETA))\n",
    "    return d"
   ]
  },
  {
   "cell_type": "code",
   "execution_count": 15,
   "metadata": {
    "collapsed": true
   },
   "outputs": [],
   "source": [
    "cat = 'green0'\n",
    "BETA = 6\n",
    "bin_size = 4\n",
    "n_tournament_groups = int(math.ceil(n_tournaments/float(bin_size)))\n",
    "current_group = 0\n",
    "tournament_groups=[set()]\n",
    "tournaments = set()\n",
    "group_to_tups = {}\n",
    "holes_to_inflate = []\n",
    "for tup in hole_tups:\n",
    "    tournaments.add(tuple(tup[0:2]))\n",
    "    tournament_group = (len(tournaments)-1)/bin_size\n",
    "    if tournament_group>current_group:\n",
    "        current_group = tournament_group\n",
    "        tournament_groups.append(set())\n",
    "        group_to_tups[current_group] = holes_to_inflate\n",
    "        holes_to_inflate = []\n",
    "    tournament_groups[current_group].add(tuple(tup[0:2]))\n",
    "    holes_to_inflate.append(tuple(tup))"
   ]
  },
  {
   "cell_type": "code",
   "execution_count": 30,
   "metadata": {
    "collapsed": true
   },
   "outputs": [],
   "source": [
    "def partition (lst, n):\n",
    "    return [lst[i::n] for i in xrange(n)]"
   ]
  },
  {
   "cell_type": "code",
   "execution_count": null,
   "metadata": {
    "collapsed": true
   },
   "outputs": [],
   "source": [
    "num_cores = multiprocessing.cpu_count()-1\n",
    "slices = partition(group_to_tups.items(),num_cores)\n",
    "pool = multiprocessing.Pool(num_cores)\n",
    "results = pool.map(run_a_slice, slices)\n",
    "pool.close()"
   ]
  },
  {
   "cell_type": "code",
   "execution_count": null,
   "metadata": {
    "collapsed": false
   },
   "outputs": [],
   "source": [
    "pd.DataFrame({'player_ind':range(n_players),\n",
    "              'player_name':[inds_to_name[i] for i in range(n_players)],\n",
    "              'rank':ranks[3]}).sort_values('rank',ascending=False).dropna()"
   ]
  }
 ],
 "metadata": {
  "kernelspec": {
   "display_name": "Python 2",
   "language": "python",
   "name": "python2"
  },
  "language_info": {
   "codemirror_mode": {
    "name": "ipython",
    "version": 2
   },
   "file_extension": ".py",
   "mimetype": "text/x-python",
   "name": "python",
   "nbconvert_exporter": "python",
   "pygments_lexer": "ipython2",
   "version": "2.7.12"
  }
 },
 "nbformat": 4,
 "nbformat_minor": 0
}
