{
 "cells": [
  {
   "cell_type": "code",
   "execution_count": 1,
   "metadata": {
    "collapsed": true
   },
   "outputs": [],
   "source": [
    "import pandas as pd\n",
    "import numpy as np"
   ]
  },
  {
   "cell_type": "code",
   "execution_count": 2,
   "metadata": {
    "collapsed": false
   },
   "outputs": [
    {
     "name": "stderr",
     "output_type": "stream",
     "text": [
      "/Users/adamlevin/anaconda/lib/python2.7/site-packages/IPython/core/interactiveshell.py:2723: DtypeWarning: Columns (22,43,85) have mixed types. Specify dtype option on import or set low_memory=False.\n",
      "  interactivity=interactivity, compiler=compiler, result=result)\n"
     ]
    }
   ],
   "source": [
    "datar = pd.read_csv('data/rawdata/2015r.txt',sep=';')\n",
    "datar.columns = np.array([str(i).strip().replace(' ','_') for i in list(datar.columns.values)])\n",
    "datar = datar[['Tournament_Year','Tournament_#','Permanent_Tournament_#','Course_#','Player_Number','Player_Name','Round_Number',\n",
    "               'Tee_Time','Round_Score','End_of_Event_Pos._(text)']]"
   ]
  },
  {
   "cell_type": "code",
   "execution_count": 3,
   "metadata": {
    "collapsed": false
   },
   "outputs": [
    {
     "data": {
      "text/html": [
       "<div>\n",
       "<table border=\"1\" class=\"dataframe\">\n",
       "  <thead>\n",
       "    <tr style=\"text-align: right;\">\n",
       "      <th></th>\n",
       "      <th>Tournament_Year</th>\n",
       "      <th>Tournament_#</th>\n",
       "      <th>Permanent_Tournament_#</th>\n",
       "      <th>Course_#</th>\n",
       "      <th>Player_Number</th>\n",
       "      <th>Player_Name</th>\n",
       "      <th>Round_Number</th>\n",
       "      <th>Tee_Time</th>\n",
       "      <th>Round_Score</th>\n",
       "      <th>End_of_Event_Pos._(text)</th>\n",
       "    </tr>\n",
       "  </thead>\n",
       "  <tbody>\n",
       "    <tr>\n",
       "      <th>0</th>\n",
       "      <td>2015</td>\n",
       "      <td>10</td>\n",
       "      <td>464</td>\n",
       "      <td>552</td>\n",
       "      <td>1706</td>\n",
       "      <td>Love III, Davis</td>\n",
       "      <td>1</td>\n",
       "      <td>07:35</td>\n",
       "      <td>77</td>\n",
       "      <td>CUT</td>\n",
       "    </tr>\n",
       "    <tr>\n",
       "      <th>1</th>\n",
       "      <td>2015</td>\n",
       "      <td>10</td>\n",
       "      <td>464</td>\n",
       "      <td>552</td>\n",
       "      <td>2239</td>\n",
       "      <td>Verplank, Scott</td>\n",
       "      <td>1</td>\n",
       "      <td>08:15</td>\n",
       "      <td>73</td>\n",
       "      <td>CUT</td>\n",
       "    </tr>\n",
       "    <tr>\n",
       "      <th>2</th>\n",
       "      <td>2015</td>\n",
       "      <td>10</td>\n",
       "      <td>464</td>\n",
       "      <td>552</td>\n",
       "      <td>6567</td>\n",
       "      <td>Singh, Vijay</td>\n",
       "      <td>1</td>\n",
       "      <td>12:55</td>\n",
       "      <td>72</td>\n",
       "      <td>CUT</td>\n",
       "    </tr>\n",
       "    <tr>\n",
       "      <th>3</th>\n",
       "      <td>2015</td>\n",
       "      <td>10</td>\n",
       "      <td>464</td>\n",
       "      <td>552</td>\n",
       "      <td>8075</td>\n",
       "      <td>Kelly, Jerry</td>\n",
       "      <td>1</td>\n",
       "      <td>13:25</td>\n",
       "      <td>69</td>\n",
       "      <td>T39</td>\n",
       "    </tr>\n",
       "    <tr>\n",
       "      <th>4</th>\n",
       "      <td>2015</td>\n",
       "      <td>10</td>\n",
       "      <td>464</td>\n",
       "      <td>552</td>\n",
       "      <td>8725</td>\n",
       "      <td>Gillis, Tom</td>\n",
       "      <td>1</td>\n",
       "      <td>07:15</td>\n",
       "      <td>70</td>\n",
       "      <td>T26</td>\n",
       "    </tr>\n",
       "  </tbody>\n",
       "</table>\n",
       "</div>"
      ],
      "text/plain": [
       "   Tournament_Year  Tournament_#  Permanent_Tournament_#  Course_#  \\\n",
       "0             2015            10                     464       552   \n",
       "1             2015            10                     464       552   \n",
       "2             2015            10                     464       552   \n",
       "3             2015            10                     464       552   \n",
       "4             2015            10                     464       552   \n",
       "\n",
       "   Player_Number      Player_Name  Round_Number Tee_Time  Round_Score  \\\n",
       "0           1706  Love III, Davis             1    07:35           77   \n",
       "1           2239  Verplank, Scott             1    08:15           73   \n",
       "2           6567     Singh, Vijay             1    12:55           72   \n",
       "3           8075     Kelly, Jerry             1    13:25           69   \n",
       "4           8725      Gillis, Tom             1    07:15           70   \n",
       "\n",
       "  End_of_Event_Pos._(text)  \n",
       "0                      CUT  \n",
       "1                      CUT  \n",
       "2                      CUT  \n",
       "3                      T39  \n",
       "4                      T26  "
      ]
     },
     "execution_count": 3,
     "metadata": {},
     "output_type": "execute_result"
    }
   ],
   "source": [
    "datar.head()"
   ]
  },
  {
   "cell_type": "code",
   "execution_count": 11,
   "metadata": {
    "collapsed": false
   },
   "outputs": [],
   "source": [
    "from collections import defaultdict\n",
    "d = defaultdict(list)\n",
    "for tup,df in datar.groupby(['Player_Number','Permanent_Tournament_#']): \n",
    "    d['Player_Number'].append(df.iloc[0].Player_Number)\n",
    "    d['Permanent_Tournament_#'].append(df.iloc[0]['Permanent_Tournament_#'])\n",
    "    for r in range(1,7):\n",
    "        try:\n",
    "            d['Round_%d_Score' % r].append(df[df.Round_Number==r].Round_Score.values[0])\n",
    "        except:\n",
    "            d['Round_%d_Score' % r].append(np.nan)\n",
    "    d['Total_Strokes'].append(df.Round_Score.sum())"
   ]
  },
  {
   "cell_type": "code",
   "execution_count": 17,
   "metadata": {
    "collapsed": false
   },
   "outputs": [
    {
     "data": {
      "image/png": "[encoded data removed]",
      "text/plain": [
       "<matplotlib.figure.Figure at 0x112346950>"
      ]
     },
     "metadata": {},
     "output_type": "display_data"
    }
   ],
   "source": [
    "import matplotlib.pyplot as plt\n",
    "%matplotlib inline\n",
    "plt.hist(pd.DataFrame(d).Total_Strokes);"
   ]
  },
  {
   "cell_type": "code",
   "execution_count": null,
   "metadata": {
    "collapsed": true
   },
   "outputs": [],
   "source": []
  }
 ],
 "metadata": {
  "kernelspec": {
   "display_name": "Python 2",
   "language": "python",
   "name": "python2"
  },
  "language_info": {
   "codemirror_mode": {
    "name": "ipython",
    "version": 2
   },
   "file_extension": ".py",
   "mimetype": "text/x-python",
   "name": "python",
   "nbconvert_exporter": "python",
   "pygments_lexer": "ipython2",
   "version": "2.7.11"
  }
 },
 "nbformat": 4,
 "nbformat_minor": 0
}
