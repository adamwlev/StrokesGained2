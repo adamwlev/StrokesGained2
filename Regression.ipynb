{
 "cells": [
  {
   "cell_type": "code",
   "execution_count": 71,
   "metadata": {
    "collapsed": true
   },
   "outputs": [],
   "source": [
    "import pandas as pd\n",
    "import numpy as np\n",
    "import statsmodels.formula.api as smf"
   ]
  },
  {
   "cell_type": "markdown",
   "metadata": {},
   "source": [
    "Make data: sample 10000 shots from each year."
   ]
  },
  {
   "cell_type": "code",
   "execution_count": 37,
   "metadata": {
    "collapsed": false
   },
   "outputs": [],
   "source": [
    "values_counts = []\n",
    "for year in range(2003,2017):\n",
    "    data = pd.read_csv('data/%d.csv' % (year,))\n",
    "    if year==2003:\n",
    "        df = data.loc[0:2,:]\n",
    "    df = df.append(data.iloc[np.random.choice(range(len(data)),size=10000,replace=False)])\n",
    "df = df.drop(df.head(n=3).index,axis=0)"
   ]
  },
  {
   "cell_type": "markdown",
   "metadata": {},
   "source": [
    "First specification - Categories: fairway (with teebox), rough (with fringe), bunker, green, other"
   ]
  },
  {
   "cell_type": "code",
   "execution_count": 45,
   "metadata": {
    "collapsed": false
   },
   "outputs": [
    {
     "data": {
      "text/plain": [
       "Green                 0.414021\n",
       "Tee Box               0.255136\n",
       "Fairway               0.169214\n",
       "Primary Rough         0.079243\n",
       "Green Side Bunker     0.024743\n",
       "Intermediate Rough    0.023221\n",
       "Fringe                0.017736\n",
       "Fairway Bunker        0.011879\n",
       "Native Area           0.003643\n",
       "Other                 0.001043\n",
       "Grass Bunker          0.000071\n",
       "Water                 0.000050\n",
       "Name: From_Location(Scorer), dtype: float64"
      ]
     },
     "execution_count": 45,
     "metadata": {},
     "output_type": "execute_result"
    }
   ],
   "source": [
    "df['From_Location(Scorer)'].value_counts(dropna=False)/len(df)"
   ]
  },
  {
   "cell_type": "code",
   "execution_count": 64,
   "metadata": {
    "collapsed": true
   },
   "outputs": [],
   "source": [
    "df.insert(len(df.columns),'Cat',['Other']*len(df))"
   ]
  },
  {
   "cell_type": "code",
   "execution_count": 65,
   "metadata": {
    "collapsed": false
   },
   "outputs": [],
   "source": [
    "df.loc[df['From_Location(Scorer)'] == 'Green','Cat'] = 'Green'\n",
    "df.loc[df['From_Location(Scorer)'].isin(['Tee Box','Fairway']),'Cat'] = 'Fairway'\n",
    "df.loc[df['From_Location(Scorer)'].isin(['Primary Rough','Intermediate Rough','Fringe']),'Cat'] = 'Rough'\n",
    "df.loc[df['From_Location(Scorer)'].isin(['Green Side Bunker','Fairway Bunker']),'Cat'] = 'Bunker'"
   ]
  },
  {
   "cell_type": "code",
   "execution_count": 70,
   "metadata": {
    "collapsed": false
   },
   "outputs": [
    {
     "data": {
      "text/plain": [
       "Fairway    59409\n",
       "Green      57963\n",
       "Rough      16828\n",
       "Bunker      5127\n",
       "Other        673\n",
       "Name: Cat, dtype: int64"
      ]
     },
     "execution_count": 70,
     "metadata": {},
     "output_type": "execute_result"
    }
   ],
   "source": [
    "df.Cat.value_counts(dropna=False)"
   ]
  },
  {
   "cell_type": "code",
   "execution_count": null,
   "metadata": {
    "collapsed": true
   },
   "outputs": [],
   "source": [
    "model = smf.ols('')"
   ]
  }
 ],
 "metadata": {
  "kernelspec": {
   "display_name": "Python 2",
   "language": "python",
   "name": "python2"
  },
  "language_info": {
   "codemirror_mode": {
    "name": "ipython",
    "version": 2
   },
   "file_extension": ".py",
   "mimetype": "text/x-python",
   "name": "python",
   "nbconvert_exporter": "python",
   "pygments_lexer": "ipython2",
   "version": "2.7.11"
  }
 },
 "nbformat": 4,
 "nbformat_minor": 0
}
