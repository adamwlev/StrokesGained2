{
 "cells": [
  {
   "cell_type": "code",
   "execution_count": 88,
   "metadata": {
    "collapsed": true
   },
   "outputs": [],
   "source": [
    "import numpy as np\n",
    "import pandas as pd\n",
    "from scipy.stats import norm\n",
    "import itertools\n",
    "import multiprocessing\n",
    "import pickle"
   ]
  },
  {
   "cell_type": "code",
   "execution_count": 2,
   "metadata": {
    "collapsed": false
   },
   "outputs": [
    {
     "name": "stderr",
     "output_type": "stream",
     "text": [
      "/home/ubuntu/anaconda2/lib/python2.7/site-packages/IPython/core/interactiveshell.py:2902: DtypeWarning: Columns (18,24) have mixed types. Specify dtype option on import or set low_memory=False.\n",
      "  interactivity=interactivity, compiler=compiler, result=result)\n"
     ]
    }
   ],
   "source": [
    "data = pd.read_csv('./../data/2003.csv')"
   ]
  },
  {
   "cell_type": "code",
   "execution_count": 13,
   "metadata": {
    "collapsed": false
   },
   "outputs": [
    {
     "data": {
      "text/plain": [
       "Index([u'Year', u'Tourn.#', u'Player_#', u'Course_#',\n",
       "       u'Permanent_Tournament_#', u'Player_First_Name', u'Player_Last_Name',\n",
       "       u'Round', u'Tournament_Name', u'Course_Name', u'Hole', u'Hole_Score',\n",
       "       u'Par_Value', u'Yardage', u'Shot', u'Shot_Type(S/P/D)', u'#_of_Strokes',\n",
       "       u'From_Location(Scorer)', u'From_Location(Enhanced)',\n",
       "       u'To_Location(Laser)', u'To_Location(Enhanced)', u'Distance',\n",
       "       u'Distance_to_Pin', u'Around_the_Green_Flag', u'1st_Putt_Flag',\n",
       "       u'Distance_to_Hole_after_the_Shot', u'Time', u'Elevation',\n",
       "       u'Shots_taken_from_location', u'Went_to_X', u'Went_to_Y', u'Went_to_Z',\n",
       "       u'Started_at_X', u'Started_at_Y', u'Started_at_Z',\n",
       "       u'Distance_from_hole', u'Strokes_Gained', u'Cat', u'Green_to_work_with',\n",
       "       u'Difficulty_Baseline', u'Correction', u'Difficulty_Start',\n",
       "       u'Difficulty_End', u'Cat_End', u'Specific_Cat_End', u'Specific_Cat'],\n",
       "      dtype='object')"
      ]
     },
     "execution_count": 13,
     "metadata": {},
     "output_type": "execute_result"
    }
   ],
   "source": [
    "data.columns"
   ]
  },
  {
   "cell_type": "code",
   "execution_count": 4,
   "metadata": {
    "collapsed": false
   },
   "outputs": [],
   "source": [
    "data.insert(len(data.columns),'Cat_End',[0]*len(data))\n",
    "data.insert(len(data.columns),'Specific_Cat_End',[0]*len(data))"
   ]
  },
  {
   "cell_type": "code",
   "execution_count": 5,
   "metadata": {
    "collapsed": true
   },
   "outputs": [],
   "source": [
    "data.loc[data.Shot==data.Hole_Score,'Cat_End'] = 'Hole'\n",
    "data.loc[data.Shot==data.Hole_Score,'Specific_Cat_End'] = 'Hole'"
   ]
  },
  {
   "cell_type": "code",
   "execution_count": 10,
   "metadata": {
    "collapsed": false
   },
   "outputs": [],
   "source": [
    "cat_dict = {(player,year,course,hole,round,shot):cat for (player,year,course,hole,round,shot,cat) in zip(\n",
    "             data['Player_#'],data.Year,data['Course_#'],data.Hole,data.Round,data.Shot,data.Cat)}\n",
    "specific_cat_dict = {(player,year,course,hole,round,shot):cat for (player,year,course,hole,round,shot,cat) in zip(\n",
    "             data['Player_#'],data.Year,data['Course_#'],data.Hole,data.Round,data.Shot,data.Specific_Cat)}"
   ]
  },
  {
   "cell_type": "code",
   "execution_count": 11,
   "metadata": {
    "collapsed": false
   },
   "outputs": [],
   "source": [
    "data.loc[data.Shot!=data.Hole_Score,'Cat_End'] = [cat_dict[(tup[0],tup[1],tup[2],tup[3],tup[4],tup[5]+1)] for tup in data.loc[data.Shot!=data.Hole_Score,['Player_#','Year','Course_#','Hole','Round','Shot']].values.tolist()]"
   ]
  },
  {
   "cell_type": "code",
   "execution_count": 12,
   "metadata": {
    "collapsed": true
   },
   "outputs": [],
   "source": [
    "data.loc[data.Shot!=data.Hole_Score,'Specific_Cat_End'] = [specific_cat_dict[(tup[0],tup[1],tup[2],tup[3],tup[4],tup[5]+1)] for tup in data.loc[data.Shot!=data.Hole_Score,['Player_#','Year','Course_#','Hole','Round','Shot']].values.tolist()]"
   ]
  },
  {
   "cell_type": "code",
   "execution_count": 51,
   "metadata": {
    "collapsed": false
   },
   "outputs": [
    {
     "data": {
      "text/plain": [
       "562"
      ]
     },
     "execution_count": 51,
     "metadata": {},
     "output_type": "execute_result"
    }
   ],
   "source": [
    "len(pd.unique(data['Player_#']))"
   ]
  },
  {
   "cell_type": "code",
   "execution_count": 22,
   "metadata": {
    "collapsed": false
   },
   "outputs": [],
   "source": [
    "inds = {num:ind for ind,num in enumerate(pd.unique(data['Player_#']))}\n",
    "data.insert(5,'Player_Index',[inds[num] for num in data['Player_#']])"
   ]
  },
  {
   "cell_type": "code",
   "execution_count": 23,
   "metadata": {
    "collapsed": false
   },
   "outputs": [
    {
     "data": {
      "text/plain": [
       "562"
      ]
     },
     "execution_count": 23,
     "metadata": {},
     "output_type": "execute_result"
    }
   ],
   "source": [
    "len(pd.unique(data['Player_Index']))"
   ]
  },
  {
   "cell_type": "code",
   "execution_count": 7,
   "metadata": {
    "collapsed": true
   },
   "outputs": [],
   "source": [
    "def make_specific_cats(distance,cat,par):\n",
    "    if cat=='Tee Box':\n",
    "        if par==3:\n",
    "            return 'Tee-3'\n",
    "        else:\n",
    "            return 'Tee-45'\n",
    "    elif cat=='Bunker' or cat=='Other':\n",
    "        return cat\n",
    "    elif cat=='Green' or cat=='Fringe':\n",
    "        if distance<5:\n",
    "            return 'Green-0'\n",
    "        elif distance<10:\n",
    "            return 'Green-5'\n",
    "        elif distance<20:\n",
    "            return 'Green-10'\n",
    "        else:\n",
    "            return 'Green-20'\n",
    "    elif cat=='Fairway':\n",
    "        if distance<300:\n",
    "            return 'Fairway-0'\n",
    "        elif distance<540:\n",
    "            return 'Fairway-300'\n",
    "        else:\n",
    "            return 'Fairway-540'\n",
    "    elif cat=='Primary Rough' or cat=='Intermediate Rough':\n",
    "        if distance<90:\n",
    "            return 'Rough-0'\n",
    "        elif distance<375:\n",
    "            return 'Rough-90'\n",
    "        else:\n",
    "            return 'Rough-375'\n",
    "    "
   ]
  },
  {
   "cell_type": "code",
   "execution_count": 8,
   "metadata": {
    "collapsed": false
   },
   "outputs": [
    {
     "data": {
      "text/plain": [
       "0"
      ]
     },
     "execution_count": 8,
     "metadata": {},
     "output_type": "execute_result"
    }
   ],
   "source": [
    "sum(make_specific_cats(dist,cat,par) is None for (dist,cat,par) in zip(data.Distance_from_hole,data.Cat,data.Par_Value))"
   ]
  },
  {
   "cell_type": "code",
   "execution_count": 9,
   "metadata": {
    "collapsed": true
   },
   "outputs": [],
   "source": [
    "data.insert(len(data.columns),'Specific_Cat',[make_specific_cats(dist,cat,par) for (dist,cat,par) in zip(data.Distance_from_hole,data.Cat,data.Par_Value)])"
   ]
  },
  {
   "cell_type": "code",
   "execution_count": 175,
   "metadata": {
    "collapsed": true
   },
   "outputs": [],
   "source": [
    "NUM_SKILL_POINTS = 12\n",
    "NUM_DIFF_POINTS = 5"
   ]
  },
  {
   "cell_type": "code",
   "execution_count": 60,
   "metadata": {
    "collapsed": true
   },
   "outputs": [],
   "source": [
    "stddevs = {'Green-0':.3,'Green-5':.3,'Green-10':.3,'Green-20':.35,\n",
    "           'Rough-0':.5,'Rough-90':.55,'Rough-375':.55,'Other':.61,\n",
    "           'Fairway-0':.4,'Fairway-300':.45,'Fairway-540':.5,\n",
    "           'Bunker':.52,\n",
    "           'Hole':0,'Tee-3':0,'Tee-45':0}"
   ]
  },
  {
   "cell_type": "code",
   "execution_count": 176,
   "metadata": {
    "collapsed": true
   },
   "outputs": [],
   "source": [
    "def update(p_x1,p_x2,p_y1,p_y2,dx_1m,dx_2m,dy_1m,dy_2m,t_1,t_x2,t_y2):\n",
    "    dx_1 = np.linspace(dx_1m-1.5*stddevs[t_1],dx_1m+1.5*stddevs[t_1],NUM_DIFF_POINTS)\n",
    "    dx_2 = np.linspace(dx_2m-1.5*stddevs[t_x2],dx_2m+1.5*stddevs[t_x2],NUM_DIFF_POINTS)\n",
    "    dy_1 = np.linspace(dy_1m-1.5*stddevs[t_1],dy_1m+1.5*stddevs[t_1],NUM_DIFF_POINTS)\n",
    "    dy_2 = np.linspace(dy_2m-1.5*stddevs[t_y2],dy_2m+1.5*stddevs[t_y2],NUM_DIFF_POINTS)\n",
    "    \n",
    "    p_dx1 = norm.pdf(dx_1,dx_1m,stddevs[t_1] if stddevs[t_1]!=0 else 1)/np.sum(norm.pdf(dx_1,dx_1m,stddevs[t_1] if stddevs[t_1]!=0 else 1))\n",
    "    p_dx2 = norm.pdf(dx_2,dx_2m,stddevs[t_x2] if stddevs[t_x2]!=0 else 1)/np.sum(norm.pdf(dx_2,dx_2m,stddevs[t_x2] if stddevs[t_x2]!=0 else 1))\n",
    "    p_dy1 = norm.pdf(dy_1,dy_1m,stddevs[t_1] if stddevs[t_1]!=0 else 1)/np.sum(norm.pdf(dy_1,dy_1m,stddevs[t_1] if stddevs[t_1]!=0 else 1))\n",
    "    p_dy2 = norm.pdf(dy_2,dy_2m,stddevs[t_y2] if stddevs[t_y2]!=0 else 1)/np.sum(norm.pdf(dy_2,dy_2m,stddevs[t_y2] if stddevs[t_y2]!=0 else 1))\n",
    "    \n",
    "    liklihood_shape = 5\n",
    "    \n",
    "    p_x1_p = np.outer(p_x1,p_x2)*(norm.pdf(0,np.subtract.outer(np.subtract.outer(np.subtract.outer(dx_1,update.x_1),np.subtract.outer(dx_2,update.x_2)),\n",
    "                                                               np.subtract.outer(np.subtract.outer(dy_1,update.y_1),np.subtract.outer(dy_2,update.y_2))),liklihood_shape) * \\\n",
    "                                  np.multiply.outer(np.multiply.outer(np.multiply.outer(p_dx1,update.ones),np.multiply.outer(p_dx2,update.ones)),\n",
    "                                                    np.multiply.outer(np.multiply.outer(p_dy1,p_y1),np.multiply.outer(p_dy2,p_y2)))).sum((0,2,4,5,6,7))\n",
    "    p_x1 = p_x1_p.sum(1)\n",
    "    p_y1 = p_x1_p.sum(0)\n",
    "    p_x1 = p_x1/p_x1.sum()\n",
    "    p_y1 = p_y1/p_y1.sum()\n",
    "    \n",
    "    return (p_x1,p_y1)\n",
    "\n",
    "update.x_1 = np.linspace(-.5,.5,NUM_SKILL_POINTS)\n",
    "update.x_2 = np.linspace(-.5,.5,NUM_SKILL_POINTS)\n",
    "update.y_1 = np.linspace(-.5,.5,NUM_SKILL_POINTS)\n",
    "update.y_2 = np.linspace(-.5,.5,NUM_SKILL_POINTS)\n",
    "update.ones = np.ones(NUM_SKILL_POINTS)"
   ]
  },
  {
   "cell_type": "code",
   "execution_count": 177,
   "metadata": {
    "collapsed": false,
    "scrolled": false
   },
   "outputs": [],
   "source": [
    "## setting prior\n",
    "ps = {i:{cat:norm.pdf(update.x_1,0,3) for cat in pd.unique(data['Specific_Cat']).tolist() + ['Hole']} for i in range(len(pd.unique(data['Player_Index'])))}"
   ]
  },
  {
   "cell_type": "code",
   "execution_count": 91,
   "metadata": {
    "collapsed": false
   },
   "outputs": [],
   "source": [
    "with open('./../hole_tups.pkl','r') as pickleFile:\n",
    "    hole_tups = pickle.load(pickleFile)"
   ]
  },
  {
   "cell_type": "code",
   "execution_count": 108,
   "metadata": {
    "collapsed": false
   },
   "outputs": [],
   "source": [
    "tups = pd.DataFrame(np.array(hole_tups)[:,[0,2,3]]).drop_duplicates()\n",
    "tups.columns = ['Year','Round','Course']\n",
    "tups = tups[tups.Year==2003]\n",
    "ids = []\n",
    "for course,df in tups.groupby('Course',sort=False):\n",
    "    ids.extend(df.sort_values('Round').index.tolist())\n",
    "tups = tups.loc[ids]\n",
    "tups = [tuple(tup) for tup in tups.values.tolist()]"
   ]
  },
  {
   "cell_type": "code",
   "execution_count": null,
   "metadata": {
    "collapsed": false,
    "scrolled": true
   },
   "outputs": [],
   "source": [
    "for u,(year,round,course) in enumerate(tups):\n",
    "    print u\n",
    "    if u==23:\n",
    "        break\n",
    "    df = data[(data.Year==year) & (data.Round==round) & (data['Course_#']==course)][['Hole','Specific_Cat','Player_Index',\n",
    "                                                                                     'Difficulty_Start','Difficulty_End',\n",
    "                                                                                     'Cat','Specific_Cat_End','Cat_End','Shot']]\n",
    "    grouped = df.groupby(['Hole','Specific_Cat','Cat'])\n",
    "    print len(grouped)\n",
    "    for u1,((hole,specific_cat,cat),df_) in enumerate(grouped):\n",
    "        df_v = df_.values\n",
    "        if u1%5==0:\n",
    "            print u1\n",
    "        for ind1,ind2 in itertools.combinations(range(len(df_)),2):\n",
    "            shot_x = df_v[ind1,:]\n",
    "            shot_y = df_v[ind2,:]\n",
    "            ps[shot_x[2]][specific_cat],ps[shot_y[2]][specific_cat] = update(ps[shot_x[2]][specific_cat],\n",
    "                                                                             ps[shot_y[2]][specific_cat],\n",
    "                                                                             ps[shot_x[2]][shot_x[6]],\n",
    "                                                                             ps[shot_y[2]][shot_y[6]],\n",
    "                                                                             shot_x[3],\n",
    "                                                                             shot_x[4],\n",
    "                                                                             shot_y[3],\n",
    "                                                                             shot_y[4],\n",
    "                                                                             specific_cat,\n",
    "                                                                             shot_x[6],\n",
    "                                                                             shot_y[6])"
   ]
  },
  {
   "cell_type": "code",
   "execution_count": 135,
   "metadata": {
    "collapsed": true
   },
   "outputs": [
    {
     "data": {
      "text/plain": [
       "262    39\n",
       "85     37\n",
       "107    36\n",
       "256    36\n",
       "91     36\n",
       "26     36\n",
       "173    36\n",
       "139    36\n",
       "31     36\n",
       "147    35\n",
       "99     35\n",
       "56     35\n",
       "151    35\n",
       "156    35\n",
       "219    34\n",
       "80     34\n",
       "65     33\n",
       "30     33\n",
       "127    33\n",
       "126    33\n",
       "61     33\n",
       "204    33\n",
       "243    33\n",
       "271    32\n",
       "68     32\n",
       "110    32\n",
       "141    32\n",
       "155    32\n",
       "215    32\n",
       "33     31\n",
       "153    31\n",
       "6      31\n",
       "13     30\n",
       "57     29\n",
       "44     29\n",
       "37     27\n",
       "Name: Player_Index, dtype: int64"
      ]
     },
     "execution_count": 135,
     "metadata": {},
     "output_type": "execute_result"
    }
   ],
   "source": [
    "df.Player_Index.value_counts()"
   ]
  },
  {
   "cell_type": "code",
   "execution_count": 172,
   "metadata": {
    "collapsed": false
   },
   "outputs": [
    {
     "data": {
      "text/plain": [
       "-0.0060899912386231936"
      ]
     },
     "execution_count": 172,
     "metadata": {},
     "output_type": "execute_result"
    }
   ],
   "source": [
    "np.dot(np.linspace(-.5,.5,NUM_SKILL_POINTS),ps[219]['Fairway-0'])"
   ]
  },
  {
   "cell_type": "code",
   "execution_count": 173,
   "metadata": {
    "collapsed": false
   },
   "outputs": [
    {
     "data": {
      "image/png": "[encoded data removed]",
      "text/plain": [
       "<matplotlib.figure.Figure at 0x7f3e22bb5390>"
      ]
     },
     "metadata": {},
     "output_type": "display_data"
    }
   ],
   "source": [
    "plt.plot(np.linspace(-.5,.5,NUM_SKILL_POINTS),ps[219]['Fairway-0']);"
   ]
  },
  {
   "cell_type": "code",
   "execution_count": 174,
   "metadata": {
    "collapsed": false
   },
   "outputs": [
    {
     "data": {
      "text/plain": [
       "{'Bunker': array([ 0.13114657,  0.13216242,  0.1327757 ,  0.13298076,  0.1327757 ,\n",
       "         0.13216242,  0.13114657]),\n",
       " 'Fairway-0': array([ 0.1457433 ,  0.14968931,  0.15064043,  0.14853915,  0.14351224,\n",
       "         0.1358581 ,  0.12601747]),\n",
       " 'Fairway-300': array([ 0.12942484,  0.15188866,  0.1647844 ,  0.1652684 ,  0.15323097,\n",
       "         0.13133673,  0.10406599]),\n",
       " 'Fairway-540': array([ 0.17894257,  0.18123282,  0.17272773,  0.15491352,  0.13074305,\n",
       "         0.10383647,  0.07760384]),\n",
       " 'Green-0': array([ 0.09689636,  0.1318758 ,  0.16059631,  0.17499225,  0.17061409,\n",
       "         0.14884141,  0.11618378]),\n",
       " 'Green-10': array([ 0.07032292,  0.09618645,  0.1242054 ,  0.15141772,  0.17426996,\n",
       "         0.18935554,  0.194242  ]),\n",
       " 'Green-20': array([ 0.08837188,  0.11895502,  0.1468223 ,  0.16616588,  0.17243772,\n",
       "         0.16408288,  0.14316433]),\n",
       " 'Green-5': array([ 0.11985972,  0.1318278 ,  0.14173347,  0.14895995,  0.15303766,\n",
       "         0.15369468,  0.15088672]),\n",
       " 'Hole': array([ 0.13114657,  0.13216242,  0.1327757 ,  0.13298076,  0.1327757 ,\n",
       "         0.13216242,  0.13114657]),\n",
       " 'Other': array([ 0.13114657,  0.13216242,  0.1327757 ,  0.13298076,  0.1327757 ,\n",
       "         0.13216242,  0.13114657]),\n",
       " 'Rough-0': array([ 0.13114657,  0.13216242,  0.1327757 ,  0.13298076,  0.1327757 ,\n",
       "         0.13216242,  0.13114657]),\n",
       " 'Rough-375': array([ 0.13114657,  0.13216242,  0.1327757 ,  0.13298076,  0.1327757 ,\n",
       "         0.13216242,  0.13114657]),\n",
       " 'Rough-90': array([ 0.13727311,  0.14157764,  0.14447868,  0.14588571,  0.1457544 ,\n",
       "         0.14408888,  0.14094159]),\n",
       " 'Tee-3': array([ 0.1354108 ,  0.14750411,  0.15418595,  0.15465908,  0.14886614,\n",
       "         0.13750115,  0.12187276]),\n",
       " 'Tee-45': array([ 0.07943896,  0.15197617,  0.21577794,  0.22736745,  0.17780309,\n",
       "         0.10319059,  0.0444458 ])}"
      ]
     },
     "execution_count": 174,
     "metadata": {},
     "output_type": "execute_result"
    }
   ],
   "source": [
    "ps[30]"
   ]
  },
  {
   "cell_type": "code",
   "execution_count": 25,
   "metadata": {
    "collapsed": false
   },
   "outputs": [
    {
     "data": {
      "text/plain": [
       "115"
      ]
     },
     "execution_count": 25,
     "metadata": {},
     "output_type": "execute_result"
    }
   ],
   "source": [
    "len(to_compare)"
   ]
  },
  {
   "cell_type": "code",
   "execution_count": 26,
   "metadata": {
    "collapsed": false
   },
   "outputs": [
    {
     "data": {
      "text/plain": [
       "1864.0434782608695"
      ]
     },
     "execution_count": 26,
     "metadata": {},
     "output_type": "execute_result"
    }
   ],
   "source": [
    "np.mean([len(value) for key,value in to_compare.iteritems()])"
   ]
  },
  {
   "cell_type": "code",
   "execution_count": 19,
   "metadata": {
    "collapsed": true
   },
   "outputs": [],
   "source": [
    "def partition (lst, n):\n",
    "    return [lst[i::n] for i in xrange(n)]"
   ]
  },
  {
   "cell_type": "code",
   "execution_count": null,
   "metadata": {
    "collapsed": true
   },
   "outputs": [],
   "source": [
    "def run_a_day(year,round,course):\n",
    "    data_ = data[(data.Year==year) & (data.Round==round) & (data['Course_#'])]\n",
    "    grouped = data_.groupby(['Hole','Cat']):\n",
    "    for tup,df in grouped:\n",
    "        "
   ]
  }
 ],
 "metadata": {
  "kernelspec": {
   "display_name": "Python 2",
   "language": "python",
   "name": "python2"
  },
  "language_info": {
   "codemirror_mode": {
    "name": "ipython",
    "version": 2
   },
   "file_extension": ".py",
   "mimetype": "text/x-python",
   "name": "python",
   "nbconvert_exporter": "python",
   "pygments_lexer": "ipython2",
   "version": "2.7.11"
  }
 },
 "nbformat": 4,
 "nbformat_minor": 0
}
