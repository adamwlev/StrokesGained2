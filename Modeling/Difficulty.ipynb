{
 "cells": [
  {
   "cell_type": "code",
   "execution_count": 21,
   "metadata": {
    "collapsed": false
   },
   "outputs": [],
   "source": [
    "import pandas as pd\n",
    "import numpy as np\n",
    "import itertools\n",
    "from collections import defaultdict\n",
    "import feather\n",
    "import gc\n",
    "\n",
    "#from sklearn.cross_validation import KFold\n",
    "from sklearn.linear_model import LassoCV\n",
    "from sklearn.linear_model import Lasso\n",
    "from sklearn.linear_model import HuberRegressor\n",
    "from sklearn.preprocessing import StandardScaler\n",
    "\n",
    "from sklearn.ensemble import GradientBoostingRegressor\n",
    "%matplotlib inline\n",
    "import matplotlib.pyplot as plt"
   ]
  },
  {
   "cell_type": "code",
   "execution_count": 3,
   "metadata": {
    "collapsed": true
   },
   "outputs": [],
   "source": [
    "cats = ['Green','Fairway','Intermediate Rough','Primary Rough','Fringe','Bunker','Other']"
   ]
  },
  {
   "cell_type": "code",
   "execution_count": 4,
   "metadata": {
    "collapsed": true
   },
   "outputs": [],
   "source": [
    "def make_natural_spline_matrix(x,df):\n",
    "    t = np.percentile(x,np.linspace(0,100,df+2)[1:-1])\n",
    "    X = x\n",
    "    def d(x,e_k,e_K):\n",
    "        def pos(x,e):\n",
    "            x_ = np.copy(x)\n",
    "            x_[x<=e] = 0.0\n",
    "            x_[x>e] = (x_[x>e]-e)**3\n",
    "            return x_\n",
    "        return (pos(np.copy(x),e_k) - pos(np.copy(x),e_K))/(e_K-e_k)\n",
    "    for k in range(1,len(t)-1):\n",
    "        X = np.column_stack((X,d(np.copy(x),t[k],t[-1]) - d(np.copy(x),t[k-1],t[-1])))\n",
    "    return X"
   ]
  },
  {
   "cell_type": "code",
   "execution_count": 5,
   "metadata": {
    "collapsed": true
   },
   "outputs": [],
   "source": [
    "def tensor_product(mats):\n",
    "    if len(mats)<2:\n",
    "        return \"I need at least two mats!\"\n",
    "    first = True\n",
    "    while mats:\n",
    "        if first:\n",
    "            res = np.hstack(mats[0].T[:,:,None] * mats[1][None,:,:])\n",
    "            mats = mats[2:]\n",
    "            first = False\n",
    "        else:\n",
    "            res = np.hstack(res.T[:,:,None] * mats[0][None,:,:])\n",
    "            mats = mats[1:]\n",
    "    return res"
   ]
  },
  {
   "cell_type": "code",
   "execution_count": 6,
   "metadata": {
    "collapsed": false
   },
   "outputs": [],
   "source": [
    "# data = feather.read_dataframe('./../difficulty.feather')\n",
    "# data = data[data.Cat=='Primary Rough']\n",
    "# data.loc[data.Green_to_work_with.isnull(),'Green_to_work_with'] = \\\n",
    "#         data.Green_to_work_with[data.Green_to_work_with.notnull()].mean()\n",
    "# samp = np.random.choice(range(len(data)),120000 if len(data)>120000 else len(data),replace=False)\n",
    "# data = data.iloc[samp,:]\n",
    "\n",
    "# y = data.Shots_taken_from_location.values\n",
    "# X_dist = make_natural_spline_matrix(data.Distance_from_hole,15)\n",
    "# X_elev = make_natural_spline_matrix(data.Started_at_Z,8)\n",
    "# X_gtww = make_natural_spline_matrix(data.Green_to_work_with,6)"
   ]
  },
  {
   "cell_type": "code",
   "execution_count": 7,
   "metadata": {
    "collapsed": false
   },
   "outputs": [],
   "source": [
    "dfs = [10,12,14,16],[5,7,9],[4,6,8]"
   ]
  },
  {
   "cell_type": "code",
   "execution_count": 8,
   "metadata": {
    "collapsed": false
   },
   "outputs": [
    {
     "data": {
      "text/plain": [
       "18"
      ]
     },
     "execution_count": 8,
     "metadata": {},
     "output_type": "execute_result"
    }
   ],
   "source": [
    "data = feather.read_dataframe('./../difficulty.feather')\n",
    "data = data[data.Cat=='Primary Rough']\n",
    "data.loc[data.Green_to_work_with.isnull(),'Green_to_work_with'] = \\\n",
    "        data.Green_to_work_with[data.Green_to_work_with.notnull()].mean()\n",
    "np.random.seed(45)\n",
    "train_inds = np.random.choice(range(len(data)),len(data)/2,replace=False)\n",
    "train_set = set(train_inds.tolist())\n",
    "test_inds = np.array([ind for ind in range(len(data)) if ind not in train_set])\n",
    "train = data.iloc[train_inds,:]\n",
    "test = data.iloc[test_inds,:]\n",
    "data = None\n",
    "gc.collect()"
   ]
  },
  {
   "cell_type": "code",
   "execution_count": 9,
   "metadata": {
    "collapsed": false
   },
   "outputs": [
    {
     "data": {
      "text/plain": [
       "(551917, 551918)"
      ]
     },
     "execution_count": 9,
     "metadata": {},
     "output_type": "execute_result"
    }
   ],
   "source": [
    "len(train),len(test)"
   ]
  },
  {
   "cell_type": "code",
   "execution_count": 10,
   "metadata": {
    "collapsed": false
   },
   "outputs": [
    {
     "data": {
      "text/html": [
       "<div>\n",
       "<table border=\"1\" class=\"dataframe\">\n",
       "  <thead>\n",
       "    <tr style=\"text-align: right;\">\n",
       "      <th></th>\n",
       "      <th>Shots_taken_from_location</th>\n",
       "      <th>Cat</th>\n",
       "      <th>Distance_from_hole</th>\n",
       "      <th>Green_to_work_with</th>\n",
       "      <th>Started_at_Z</th>\n",
       "    </tr>\n",
       "  </thead>\n",
       "  <tbody>\n",
       "    <tr>\n",
       "      <th>39</th>\n",
       "      <td>3</td>\n",
       "      <td>Primary Rough</td>\n",
       "      <td>386.030789</td>\n",
       "      <td>59.990585</td>\n",
       "      <td>-18.724</td>\n",
       "    </tr>\n",
       "    <tr>\n",
       "      <th>62</th>\n",
       "      <td>3</td>\n",
       "      <td>Primary Rough</td>\n",
       "      <td>455.152504</td>\n",
       "      <td>34.871988</td>\n",
       "      <td>-5.515</td>\n",
       "    </tr>\n",
       "    <tr>\n",
       "      <th>88</th>\n",
       "      <td>3</td>\n",
       "      <td>Primary Rough</td>\n",
       "      <td>514.180523</td>\n",
       "      <td>13.823223</td>\n",
       "      <td>-3.495</td>\n",
       "    </tr>\n",
       "    <tr>\n",
       "      <th>105</th>\n",
       "      <td>2</td>\n",
       "      <td>Primary Rough</td>\n",
       "      <td>436.300429</td>\n",
       "      <td>11.684876</td>\n",
       "      <td>-3.335</td>\n",
       "    </tr>\n",
       "    <tr>\n",
       "      <th>119</th>\n",
       "      <td>3</td>\n",
       "      <td>Primary Rough</td>\n",
       "      <td>656.847948</td>\n",
       "      <td>11.084463</td>\n",
       "      <td>-3.530</td>\n",
       "    </tr>\n",
       "  </tbody>\n",
       "</table>\n",
       "</div>"
      ],
      "text/plain": [
       "     Shots_taken_from_location            Cat  Distance_from_hole  \\\n",
       "39                           3  Primary Rough          386.030789   \n",
       "62                           3  Primary Rough          455.152504   \n",
       "88                           3  Primary Rough          514.180523   \n",
       "105                          2  Primary Rough          436.300429   \n",
       "119                          3  Primary Rough          656.847948   \n",
       "\n",
       "     Green_to_work_with  Started_at_Z  \n",
       "39            59.990585       -18.724  \n",
       "62            34.871988        -5.515  \n",
       "88            13.823223        -3.495  \n",
       "105           11.684876        -3.335  \n",
       "119           11.084463        -3.530  "
      ]
     },
     "execution_count": 10,
     "metadata": {},
     "output_type": "execute_result"
    }
   ],
   "source": [
    "test.head()"
   ]
  },
  {
   "cell_type": "code",
   "execution_count": 11,
   "metadata": {
    "collapsed": false
   },
   "outputs": [],
   "source": [
    "y_train = train.Shots_taken_from_location.values\n",
    "X_dist = make_natural_spline_matrix(train.Distance_from_hole.values,13)\n",
    "X_elev = make_natural_spline_matrix(train.Started_at_Z.values,9)\n",
    "X_gtww = make_natural_spline_matrix(train.Green_to_work_with.values,8)\n",
    "\n",
    "X_train = np.hstack((X_dist,X_elev,X_gtww,tensor_product([X_dist,X_elev,X_gtww])))"
   ]
  },
  {
   "cell_type": "code",
   "execution_count": 12,
   "metadata": {
    "collapsed": false
   },
   "outputs": [
    {
     "data": {
      "text/plain": [
       "(551917, 699)"
      ]
     },
     "execution_count": 12,
     "metadata": {},
     "output_type": "execute_result"
    }
   ],
   "source": [
    "X_train.shape"
   ]
  },
  {
   "cell_type": "code",
   "execution_count": null,
   "metadata": {
    "collapsed": true
   },
   "outputs": [],
   "source": [
    "lcv = LassoCV(eps=0.001, n_alphas=5, alphas=None, fit_intercept=True, \n",
    "              normalize=True, precompute='auto', max_iter=1000, tol=0.0001, \n",
    "              copy_X=True, cv=None, verbose=False, n_jobs=1, positive=False, \n",
    "              random_state=None, selection='cyclic')"
   ]
  },
  {
   "cell_type": "code",
   "execution_count": null,
   "metadata": {
    "collapsed": false
   },
   "outputs": [],
   "source": [
    "lcv.fit(X_train,y_train)"
   ]
  },
  {
   "cell_type": "code",
   "execution_count": 15,
   "metadata": {
    "collapsed": true
   },
   "outputs": [],
   "source": [
    "hbr = HuberRegressor(epsilon=1.35, max_iter=1000, alpha=0.0001, warm_start=False, \n",
    "                     fit_intercept=True, tol=1e-05)"
   ]
  },
  {
   "cell_type": "code",
   "execution_count": 23,
   "metadata": {
    "collapsed": true
   },
   "outputs": [],
   "source": [
    "scaler = StandardScaler()"
   ]
  },
  {
   "cell_type": "code",
   "execution_count": null,
   "metadata": {
    "collapsed": false
   },
   "outputs": [],
   "source": [
    "hbr.fit(scaler.fit_transform(X_train),y_train)"
   ]
  },
  {
   "cell_type": "code",
   "execution_count": null,
   "metadata": {
    "collapsed": true
   },
   "outputs": [],
   "source": [
    "print np.mean((hbr.predict(X_test) - y_test)**2)"
   ]
  },
  {
   "cell_type": "code",
   "execution_count": 19,
   "metadata": {
    "collapsed": false
   },
   "outputs": [
    {
     "name": "stdout",
     "output_type": "stream",
     "text": [
      "4.36060621515\n"
     ]
    }
   ],
   "source": [
    "#print np.mean((ols.predict(X_test) - y_test)**2)\n",
    "#print np.mean((lcv.predict(X_test) - y_test)**2)\n",
    "print np.mean((hbr.predict(X_test) - y_test)**2)"
   ]
  },
  {
   "cell_type": "code",
   "execution_count": 20,
   "metadata": {
    "collapsed": false
   },
   "outputs": [
    {
     "data": {
      "text/plain": [
       "array([  9.46277885e-12,  -1.24660856e-10,  -1.39964052e-10,\n",
       "        -1.85833611e-10,  -3.37196340e-10,  -8.94531476e-10,\n",
       "        -2.99910621e-10,  -1.07279627e-10,  -6.48255277e-11,\n",
       "        -4.85458523e-11,  -4.13512904e-11,  -4.30373057e-11,\n",
       "        -1.25089373e-13,  -1.71159634e-12,  -3.21573396e-13,\n",
       "        -1.19774906e-13,  -5.96019837e-14,  -3.07098973e-14,\n",
       "        -1.59499755e-14,  -1.12504237e-14,   1.13713023e-12,\n",
       "        -3.35199912e-12,  -3.10272375e-12,  -3.50736602e-12,\n",
       "        -3.47718284e-12,  -2.58415386e-12,  -1.79168374e-12,\n",
       "        -8.45102903e-10,   1.41936674e-09,   1.19433659e-09,\n",
       "         1.23049946e-09,   1.10546106e-09,   7.50270755e-10,\n",
       "         4.66435661e-10,  -3.68830576e-09,   8.17727865e-09,\n",
       "         7.38025448e-09,   8.05745114e-09,   7.65254964e-09,\n",
       "         5.30127951e-09,   3.45836243e-09,  -3.96802419e-10,\n",
       "         8.87591548e-10,   8.38258677e-10,   9.48092546e-10,\n",
       "         9.51960991e-10,   6.87645311e-10,   4.43943713e-10,\n",
       "        -6.46955050e-11,   2.14257613e-10,   2.27069767e-10,\n",
       "         2.76560036e-10,   3.02889196e-10,   2.29288666e-10,\n",
       "         1.35569527e-10,   2.26231478e-11,   2.75423761e-11,\n",
       "         5.30635528e-11,   7.92675729e-11,   1.04373991e-10,\n",
       "         8.39845704e-11,   3.63393250e-11,   5.75785812e-11,\n",
       "        -4.71873140e-11,  -1.80956143e-11,  -2.47165366e-12,\n",
       "         2.19139536e-11,   2.64212464e-11,   2.01467650e-12,\n",
       "         7.09379549e-11,  -7.47027715e-11,  -4.55322079e-11,\n",
       "        -3.46676236e-11,  -1.05356165e-11,   6.27524819e-12,\n",
       "        -5.57133475e-12,   1.15648389e-10,  -1.27752797e-10,\n",
       "        -8.55839859e-11,  -7.35438056e-11,  -3.77838971e-11,\n",
       "        -1.29623142e-12,  -6.95481935e-12,   1.03162967e-08,\n",
       "        -8.88568363e-09,  -6.35961026e-09,  -5.74497868e-09,\n",
       "        -4.76442626e-09,  -3.05087138e-09,  -9.78233957e-10,\n",
       "         1.70556657e-08,  -1.48747610e-08,  -1.25154161e-08,\n",
       "        -1.14841759e-08,  -9.25780268e-09,  -4.01824760e-09,\n",
       "        -2.69149527e-09,  -1.42463850e-09,   3.29241309e-09,\n",
       "         2.23757843e-09,   2.16071629e-09,   1.30498194e-09,\n",
       "         5.15257147e-10,   2.13725661e-10,  -1.85299983e-09,\n",
       "         1.75709170e-09,   9.62932710e-10,   7.66758762e-10,\n",
       "         1.98348046e-10,  -1.71796196e-10,   4.56341745e-11,\n",
       "        -1.83093649e-09,   1.48317349e-09,   8.65874376e-10,\n",
       "         8.10554110e-10,   4.82726991e-10,   1.63048281e-10,\n",
       "         3.66979669e-10,  -1.70069117e-09,   1.22941835e-09,\n",
       "         7.37480156e-10,   7.53994549e-10,   5.27735712e-10,\n",
       "         1.83332786e-10,   3.05686040e-10,  -1.54090850e-09,\n",
       "         9.71894457e-10,   5.73782796e-10,   6.18367176e-10,\n",
       "         4.28100670e-10,   4.77490369e-11,   9.05857679e-11,\n",
       "        -2.10024345e-09,   1.14472160e-09,   6.68765590e-10,\n",
       "         7.80490037e-10,   5.26769965e-10,  -1.27496755e-10,\n",
       "        -1.94519219e-10,   1.14538773e-08,  -9.13325988e-09,\n",
       "        -6.35567375e-09,  -5.59721829e-09,  -4.57673936e-09,\n",
       "        -2.90585285e-09,  -7.11481005e-10,   1.74437016e-08,\n",
       "        -1.19137824e-08,  -9.70277001e-09,  -8.02230077e-09,\n",
       "        -5.66693001e-09,  -1.09721966e-09,  -7.87398681e-10,\n",
       "        -1.93486273e-09,   4.30357565e-09,   3.04044294e-09,\n",
       "         3.01645902e-09,   2.03051675e-09,   9.70663565e-10,\n",
       "         4.90744578e-10,  -2.21229572e-09,   2.10179522e-09,\n",
       "         1.18712985e-09,   9.89709068e-10,   3.55054694e-10,\n",
       "        -1.00741637e-10,   1.13971574e-10,  -2.12897461e-09,\n",
       "         1.68386639e-09,   9.85268036e-10,   9.41863182e-10,\n",
       "         5.88350188e-10,   2.17869945e-10,   4.38420703e-10,\n",
       "        -1.95309600e-09,   1.35317652e-09,   8.03890087e-10,\n",
       "         8.39816434e-10,   6.03859633e-10,   2.14464980e-10,\n",
       "         3.48673679e-10,  -1.75620746e-09,   1.04275679e-09,\n",
       "         6.03487795e-10,   6.70145583e-10,   4.75000692e-10,\n",
       "         4.72359003e-11,   9.24715105e-11,  -2.37851468e-09,\n",
       "         1.19590258e-09,   6.78532962e-10,   8.29677573e-10,\n",
       "         5.72599817e-10,  -1.64984309e-10,  -2.48050546e-10,\n",
       "         1.49562448e-08,  -1.06459013e-08,  -7.07395799e-09,\n",
       "        -5.96608578e-09,  -4.77361454e-09,  -3.00087420e-09,\n",
       "        -3.08076777e-10,   2.06439978e-08,  -9.54171559e-09,\n",
       "        -7.27719363e-09,  -4.44556988e-09,  -1.58104228e-09,\n",
       "         2.79837156e-09,   1.73072093e-09,  -3.04606115e-09,\n",
       "         6.32599794e-09,   4.53901792e-09,   4.56084616e-09,\n",
       "         3.21894972e-09,   1.64054734e-09,   8.76457003e-10,\n",
       "        -3.11995180e-09,   2.83566517e-09,   1.59541359e-09,\n",
       "         1.35594249e-09,   5.29065148e-10,  -9.39411880e-11,\n",
       "         1.85200393e-10,  -2.92573367e-09,   2.16898546e-09,\n",
       "         1.24182746e-09,   1.21055960e-09,   7.74941461e-10,\n",
       "         2.90958008e-10,   5.91831040e-10,  -2.64974837e-09,\n",
       "         1.68955870e-09,   9.73256424e-10,   1.04996934e-09,\n",
       "         7.75466328e-10,   2.69777715e-10,   4.54131590e-10,\n",
       "        -2.36295621e-09,   1.26161608e-09,   6.98117604e-10,\n",
       "         8.16668447e-10,   5.96135743e-10,   3.64351787e-11,\n",
       "         9.73055395e-11,  -3.17677965e-09,   1.39410585e-09,\n",
       "         7.44887067e-10,   9.94106635e-10,   7.09673928e-10,\n",
       "        -2.66770831e-10,  -3.87502532e-10,   2.62488802e-08,\n",
       "        -1.46290045e-08,  -8.58746672e-09,  -6.37892193e-09,\n",
       "        -4.87727688e-09,  -3.09443490e-09,   1.18012824e-09,\n",
       "         3.08636074e-08,  -5.45896136e-09,  -3.33738762e-09,\n",
       "         2.15607265e-09,   5.99204353e-09,   1.07095883e-08,\n",
       "         6.38039406e-09,  -6.70100264e-09,   1.16644775e-08,\n",
       "         8.14755898e-09,   8.09572957e-09,   5.52885487e-09,\n",
       "         2.59647429e-09,   1.28538444e-09,  -6.08114072e-09,\n",
       "         4.55158653e-09,   2.26907948e-09,   1.82876564e-09,\n",
       "         4.01388206e-10,  -5.86235146e-10,   8.77960832e-11,\n",
       "        -5.51821976e-09,   3.29534876e-09,   1.65569024e-09,\n",
       "         1.65821812e-09,   1.00917253e-09,   2.69250681e-10,\n",
       "         9.37182188e-10,  -4.91022251e-09,   2.44941654e-09,\n",
       "         1.22698816e-09,   1.45770881e-09,   1.11901203e-09,\n",
       "         3.06048862e-10,   7.11505892e-10,  -4.32520944e-09,\n",
       "         1.70787819e-09,   7.80101053e-10,   1.10151005e-09,\n",
       "         8.58674975e-10,  -8.79643450e-11,   5.11033580e-11,\n",
       "        -5.74683464e-09,   1.71128427e-09,   6.96944170e-10,\n",
       "         1.33012607e-09,   1.04384133e-09,  -6.82068089e-10,\n",
       "        -9.21380701e-10,   6.09685483e-08,  -2.46828616e-09,\n",
       "         7.96200059e-09,   1.14150644e-08,   5.22918838e-09,\n",
       "        -2.04444735e-09,   7.69459950e-09,   3.41247321e-08,\n",
       "         1.07321499e-08,   2.33347361e-10,   3.89577099e-09,\n",
       "        -1.88642846e-09,   3.71239287e-09,  -4.49981272e-09,\n",
       "        -2.48652013e-08,   1.55831934e-08,   5.39656740e-09,\n",
       "         3.69488377e-09,  -2.57016614e-09,  -6.00975726e-09,\n",
       "        -4.17838367e-09,  -1.79473839e-08,  -4.56295124e-10,\n",
       "        -5.58514800e-09,  -6.20048824e-09,  -7.63408675e-09,\n",
       "        -6.89767442e-09,  -2.02192554e-09,  -1.50225837e-08,\n",
       "        -1.26852599e-09,  -4.17399710e-09,  -2.70494582e-09,\n",
       "        -1.59860024e-09,  -1.20346978e-09,   2.27521624e-09,\n",
       "        -1.26860425e-08,  -1.89115750e-09,  -3.49164707e-09,\n",
       "        -1.05179773e-09,   8.56858825e-10,   2.33219781e-10,\n",
       "         2.06115264e-09,  -1.07028894e-08,  -2.77023047e-09,\n",
       "        -3.52490858e-09,  -7.28280805e-10,   1.23646605e-09,\n",
       "        -3.85367760e-10,   7.23903851e-11,  -1.35630562e-08,\n",
       "        -5.15931409e-09,  -5.19476938e-09,  -4.45878661e-10,\n",
       "         2.41843236e-09,  -1.72546548e-09,  -3.12166825e-09,\n",
       "         1.47272297e-08,   1.52004694e-08,   1.37219846e-08,\n",
       "         9.35708077e-09,  -2.56930997e-09,  -1.04456162e-08,\n",
       "        -3.05786437e-09,  -1.50781434e-08,   8.36757864e-09,\n",
       "        -1.45714115e-09,  -2.03597938e-09,  -6.57636625e-09,\n",
       "        -3.27064741e-09,   2.26473226e-09,  -1.08691445e-08,\n",
       "        -5.21747116e-09,  -6.99477035e-09,  -4.87691747e-09,\n",
       "        -2.75496835e-09,  -7.89014229e-10,   2.86704289e-09,\n",
       "        -5.80240152e-09,  -7.65670908e-09,  -7.29110107e-09,\n",
       "        -4.50851291e-09,  -9.97544219e-10,   9.89962275e-10,\n",
       "         3.60089374e-09,  -4.10557559e-09,  -6.06673564e-09,\n",
       "        -4.87388264e-09,  -1.23050840e-09,   2.88035746e-09,\n",
       "         3.82585734e-09,   4.86698269e-09,  -2.96628033e-09,\n",
       "        -5.27484463e-09,  -3.68367827e-09,   1.95856382e-10,\n",
       "         4.16579731e-09,   4.09470441e-09,   3.89488836e-09,\n",
       "        -2.09639923e-09,  -5.00054722e-09,  -3.21021288e-09,\n",
       "         5.99988921e-10,   4.15840413e-09,   3.26635362e-09,\n",
       "         2.17227190e-09,  -2.02524052e-09,  -7.24722796e-09,\n",
       "        -4.26812730e-09,   1.42180389e-09,   6.17663142e-09,\n",
       "         3.57726675e-09,   6.36208540e-10,   3.60494071e-09,\n",
       "         7.37618059e-09,   5.05487845e-09,   7.97146539e-10,\n",
       "        -6.81725832e-09,  -9.68954581e-09,  -3.42713024e-09,\n",
       "        -9.96173325e-09,   3.02849923e-09,  -2.93379856e-10,\n",
       "         1.55083294e-09,   5.87514628e-10,   6.84229127e-10,\n",
       "         4.60279908e-09,  -3.36357310e-09,  -4.37760335e-09,\n",
       "        -3.65092883e-09,  -7.84549552e-10,   1.76908346e-09,\n",
       "         2.01657206e-09,   2.99151674e-09,  -1.21929363e-09,\n",
       "        -4.33689757e-09,  -3.03472623e-09,  -2.90655779e-10,\n",
       "         2.42969447e-09,   2.55697520e-09,   2.73161011e-09,\n",
       "        -5.49408555e-10,  -3.27693803e-09,  -1.76707217e-09,\n",
       "         1.15485484e-09,   3.89535748e-09,   3.46439761e-09,\n",
       "         2.82335696e-09,  -1.17753355e-10,  -2.80237243e-09,\n",
       "        -1.23208771e-09,   1.62012415e-09,   4.10165688e-09,\n",
       "         3.17587023e-09,   1.95462729e-09,   2.00218567e-10,\n",
       "        -2.64179521e-09,  -1.07584430e-09,   1.59750597e-09,\n",
       "         3.74023799e-09,   2.43812164e-09,   8.32467412e-10,\n",
       "         7.35536223e-10,  -3.84286616e-09,  -1.46547963e-09,\n",
       "         2.35738923e-09,   5.11527126e-09,   2.56566382e-09,\n",
       "        -4.19294604e-10,   1.45133197e-09,   4.68641808e-09,\n",
       "         2.49071034e-09,  -1.33001841e-09,  -7.11770285e-09,\n",
       "        -8.12529531e-09,  -1.85301597e-09,  -6.11430479e-09,\n",
       "        -2.29308408e-10,  -1.54954911e-09,   3.86498174e-10,\n",
       "        -1.18561743e-09,  -3.30363557e-09,  -2.78054480e-10,\n",
       "        -1.14590737e-09,  -4.07085173e-09,  -2.82481995e-09,\n",
       "        -1.48252333e-10,   1.59835586e-09,   5.54371004e-10,\n",
       "         5.04562091e-10,   2.92517416e-11,  -3.42830906e-09,\n",
       "        -2.00647537e-09,   4.31195594e-10,   2.31755426e-09,\n",
       "         1.43130597e-09,   7.92347575e-10,   3.80484793e-10,\n",
       "        -2.54004448e-09,  -1.06155891e-09,   1.41241586e-09,\n",
       "         3.27557130e-09,   2.06877696e-09,   8.61349303e-10,\n",
       "         6.07184026e-10,  -2.17372750e-09,  -7.12795926e-10,\n",
       "         1.63755283e-09,   3.28005509e-09,   1.78252171e-09,\n",
       "         1.96103133e-10,   7.72317477e-10,  -2.06100517e-09,\n",
       "        -6.48166400e-10,   1.51577028e-09,   2.88981948e-09,\n",
       "         1.17988838e-09,  -6.38958304e-10,   1.40700882e-09,\n",
       "        -3.02886793e-09,  -9.39241095e-10,   2.10107167e-09,\n",
       "         3.79579073e-09,   8.60107730e-10,  -2.23512918e-09,\n",
       "         5.56805354e-10,   3.69762496e-09,   1.54806141e-09,\n",
       "        -2.03774200e-09,  -6.85849781e-09,  -6.71638098e-09,\n",
       "         8.41906537e-11,  -3.85315742e-09,  -6.38968738e-10,\n",
       "        -8.46055841e-10,   1.53269265e-09,  -8.51674653e-10,\n",
       "        -5.03551798e-09,  -1.89899563e-09,   1.50633011e-11,\n",
       "        -3.59981179e-09,  -2.03186571e-09,   6.98878875e-10,\n",
       "         1.80583888e-09,  -4.07228757e-10,  -9.47761561e-10,\n",
       "         7.06865203e-10,  -2.86873821e-09,  -1.32798600e-09,\n",
       "         1.05791962e-09,   2.38530715e-09,   6.36622421e-10,\n",
       "        -4.45457527e-10,   9.02273684e-10,  -2.11028532e-09,\n",
       "        -5.87760150e-10,   1.75442573e-09,   3.06586369e-09,\n",
       "         1.15367858e-09,  -4.09255657e-10,   1.03207066e-09,\n",
       "        -1.83550055e-09,  -3.70694242e-10,   1.80889567e-09,\n",
       "         2.92701291e-09,   8.45377312e-10,  -1.01771743e-09,\n",
       "         1.12616645e-09,  -1.77946808e-09,  -3.86574190e-10,\n",
       "         1.59063161e-09,   2.47700487e-09,   2.78860736e-10,\n",
       "        -1.75343154e-09,   1.85534108e-09,  -2.67692814e-09,\n",
       "        -6.46799309e-10,   2.09048800e-09,   3.09555362e-09,\n",
       "        -4.52730519e-10,  -3.78328051e-09,  -1.01688746e-10,\n",
       "         3.84448378e-09,   1.61376070e-09,  -1.82715245e-09,\n",
       "        -5.98498286e-09,  -4.84113842e-09,   2.97609257e-09,\n",
       "        -1.88760522e-09,   2.29279450e-10,   1.10558275e-09,\n",
       "         4.56547250e-09,   1.53597079e-09,  -4.50470901e-09,\n",
       "         6.15807485e-10,   1.04513452e-09,  -3.09130493e-09,\n",
       "        -1.09225817e-09,   2.04093278e-09,   2.69825675e-09,\n",
       "        -6.89939608e-10,  -1.15630378e-09,   1.36794461e-09,\n",
       "        -2.45116630e-09,  -6.63472486e-10,   1.94260169e-09,\n",
       "         2.89337311e-09,   2.59070021e-10,  -9.70869857e-10,\n",
       "         1.44486144e-09,  -1.80162798e-09,  -9.82287752e-11,\n",
       "         2.37740178e-09,   3.31582630e-09,   6.29630493e-10,\n",
       "        -1.12406278e-09,   1.50387454e-09,  -1.61901607e-09,\n",
       "        -1.25415446e-11,   2.24460396e-09,   2.99470268e-09,\n",
       "         2.21463772e-10,  -1.83735500e-09,   1.54696609e-09,\n",
       "        -1.63279213e-09,  -1.24655669e-10,   1.89285573e-09,\n",
       "         2.42075786e-09,  -4.02282338e-10,  -2.62352732e-09,\n",
       "         2.43433720e-09,  -2.54730758e-09,  -3.73680980e-10,\n",
       "         2.37868439e-09,   2.85080076e-09,  -1.56291766e-09,\n",
       "        -5.16628310e-09,  -1.14401153e-09,   6.12597067e-09,\n",
       "         3.34901265e-09,  -2.47820703e-10,  -3.96751591e-09,\n",
       "        -1.10778738e-09,   9.86932685e-09,   2.74112648e-09,\n",
       "        -3.49489336e-09,  -3.66472132e-10,   4.97779763e-09,\n",
       "         3.70251631e-10,  -7.36080842e-09,   6.49663101e-09,\n",
       "         3.47605139e-09,  -4.64476524e-09,  -1.39581273e-09,\n",
       "         2.92859896e-09,   3.14304947e-09,  -1.93233511e-09,\n",
       "        -7.38629735e-10,   3.05984969e-09,  -3.34549984e-09,\n",
       "        -6.80677890e-10,   2.79817501e-09,   3.48177120e-09,\n",
       "        -5.63994819e-10,  -1.28741726e-09,   2.89452639e-09,\n",
       "        -2.47494594e-09,  -2.52288784e-11,   3.19816546e-09,\n",
       "         3.87879734e-09,  -1.78097459e-10,  -1.82916507e-09,\n",
       "         2.81476880e-09,  -2.25022787e-09,   1.44675449e-11,\n",
       "         2.90547694e-09,   3.36353214e-09,  -7.47984029e-10,\n",
       "        -2.91437260e-09,   2.76063550e-09,  -2.27933452e-09,\n",
       "        -1.80365397e-10,   2.37215895e-09,   2.56937143e-09,\n",
       "        -1.55453941e-09,  -4.00409762e-09,   4.17277033e-09,\n",
       "        -3.57289509e-09,  -5.81317468e-10,   2.85830549e-09,\n",
       "         2.76672203e-09,  -3.59070979e-09,  -7.68686322e-09])"
      ]
     },
     "execution_count": 20,
     "metadata": {},
     "output_type": "execute_result"
    }
   ],
   "source": [
    "hbr.coef_"
   ]
  },
  {
   "cell_type": "code",
   "execution_count": null,
   "metadata": {
    "collapsed": false
   },
   "outputs": [],
   "source": [
    "plt.figure(figsize=(10,5))\n",
    "plt.plot(lcv.alphas_,lcv.mse_path_.mean(1),lw=5,c='purple',label='Mean of 50 Folds');\n",
    "plt.axhline(np.var(y_train),label='MSE of Prediction with Mean',lw=2,ls='--',c='r');"
   ]
  },
  {
   "cell_type": "code",
   "execution_count": null,
   "metadata": {
    "collapsed": false,
    "scrolled": true
   },
   "outputs": [],
   "source": [
    "(lcv.coef_==0).sum()"
   ]
  },
  {
   "cell_type": "code",
   "execution_count": 18,
   "metadata": {
    "collapsed": false
   },
   "outputs": [],
   "source": [
    "y_test = test.Shots_taken_from_location.values\n",
    "X_dist = make_natural_spline_matrix(test.Distance_from_hole.values,13)\n",
    "X_elev = make_natural_spline_matrix(test.Started_at_Z.values,9)\n",
    "X_gtww = make_natural_spline_matrix(test.Green_to_work_with.values,8)\n",
    "\n",
    "X_test = np.hstack((X_dist,X_elev,X_gtww,tensor_product([X_dist,X_elev,X_gtww])))"
   ]
  },
  {
   "cell_type": "code",
   "execution_count": null,
   "metadata": {
    "collapsed": false
   },
   "outputs": [],
   "source": [
    "np.mean((ols.predict(X_test) - y_test)**2)"
   ]
  },
  {
   "cell_type": "code",
   "execution_count": null,
   "metadata": {
    "collapsed": false
   },
   "outputs": [],
   "source": [
    "model = LassoCV(eps=0.001, n_alphas=12, alphas=None, fit_intercept=True, \n",
    "              normalize=True, precompute='auto', max_iter=10000, tol=0.0001, \n",
    "              copy_X=True, cv=None, verbose=False, n_jobs=1, positive=False, \n",
    "              random_state=None, selection='cyclic')\n",
    "results = defaultdict(list)\n",
    "for df_1,df_2,df_3 in itertools.product(*dfs):\n",
    "    \n",
    "    ## training\n",
    "    \n",
    "    y_train = train.Shots_taken_from_location.values\n",
    "    X_dist = make_natural_spline_matrix(train.Distance_from_hole.values,df_1)\n",
    "    X_elev = make_natural_spline_matrix(train.Started_at_Z.values,df_2)\n",
    "    X_gtww = make_natural_spline_matrix(train.Green_to_work_with.values,df_3)\n",
    "    \n",
    "    X_train = np.hstack((X_dist,X_elev,X_gtww,tensor_product([X_dist,X_elev,X_gtww])))\n",
    "    \n",
    "    model.fit(X_train,y_train)\n",
    "    \n",
    "    ## testing\n",
    "\n",
    "    y_test = test.Shots_taken_from_location.values\n",
    "    X_dist = make_natural_spline_matrix(test.Distance_from_hole.values,df_1)\n",
    "    X_elev = make_natural_spline_matrix(test.Started_at_Z.values,df_2)\n",
    "    X_gtww = make_natural_spline_matrix(test.Green_to_work_with.values,df_3)\n",
    "    \n",
    "    X_test = np.hstack((X_dist,X_elev,X_gtww,tensor_product([X_dist,X_elev,X_gtww])))\n",
    "\n",
    "    score = np.mean((model.predict(X_test) - y_test)**2)\n",
    "    \n",
    "    ## print and record results\n",
    "    print (df_1,df_2,df_3), score\n",
    "    results['df_dist'].append(df_1)\n",
    "    results['df_elev'].append(df_2)\n",
    "    results['df_gtww'].append(df_3)\n",
    "    results['score'].append(score)"
   ]
  },
  {
   "cell_type": "code",
   "execution_count": null,
   "metadata": {
    "collapsed": false
   },
   "outputs": [],
   "source": [
    "(((data.Cat==\"Green\").sum()*0.15510111 +\n",
    " (data.Cat==\"Fairway\").sum()*0.33242987 +\n",
    " (data.Cat==\"Intermediate Rough\").sum()*0.30887963 +\n",
    " (data.Cat==\"Primary Rough\").sum()*0.36587546 +\n",
    " (data.Cat==\"Fringe\").sum()*0.18077784 + \n",
    " (data.Cat==\"Bunker\").sum()*0.38028543 +\n",
    " (data.Cat==\"Other\").sum()*0.51596645)/len(data))**.5"
   ]
  },
  {
   "cell_type": "code",
   "execution_count": null,
   "metadata": {
    "collapsed": true
   },
   "outputs": [],
   "source": [
    "gbr = GradientBoostingRegressor(loss='ls', learning_rate=0.01, \n",
    "                                n_estimators=1000, subsample=.5, \n",
    "                                min_weight_fraction_leaf=0.0, max_depth=3)"
   ]
  },
  {
   "cell_type": "code",
   "execution_count": null,
   "metadata": {
    "collapsed": true
   },
   "outputs": [],
   "source": [
    "def run():\n",
    "    errors = []\n",
    "    for u,cat in enumerate(cats[::-1]):\n",
    "        data = None\n",
    "        gc.collect()\n",
    "        data = feather.read_dataframe('./../difficulty.feather')\n",
    "        data = data[data.Cat==cat]\n",
    "        data.loc[data.Green_to_work_with.isnull(),'Green_to_work_with'] = \\\n",
    "        data.Green_to_work_with[data.Green_to_work_with.notnull()].mean()\n",
    "        \n",
    "        y = data.values[:,0]\n",
    "        if cat=='Green': \n",
    "            X = data.values[:,np.array([2,4])]\n",
    "            data = None\n",
    "            gc.collect()\n",
    "        else:\n",
    "            X = data.values[:,2:]\n",
    "            data = None\n",
    "            gc.collect()\n",
    "        gbr.fit(X,y)\n",
    "        print cat\n",
    "        print gbr.feature_importances_\n",
    "        error = np.mean((gbr.predict(X)-y)**2)\n",
    "        print error\n",
    "        errors.append(error)\n",
    "    return errors"
   ]
  },
  {
   "cell_type": "code",
   "execution_count": null,
   "metadata": {
    "collapsed": false
   },
   "outputs": [],
   "source": [
    "run()"
   ]
  },
  {
   "cell_type": "code",
   "execution_count": null,
   "metadata": {
    "collapsed": false
   },
   "outputs": [],
   "source": [
    "run()"
   ]
  },
  {
   "cell_type": "code",
   "execution_count": null,
   "metadata": {
    "collapsed": false
   },
   "outputs": [],
   "source": [
    "(((data.Cat==\"Green\").sum()*0.11545806607753986 +\n",
    " (data.Cat==\"Fairway\").sum()*0.31740937289 +\n",
    " (data.Cat==\"Intermediate Rough\").sum()*0.300202209856 +\n",
    " (data.Cat==\"Primary Rough\").sum()*0.361347962243 +\n",
    " (data.Cat==\"Fringe\").sum()*0.182508595153 + \n",
    " (data.Cat==\"Bunker\").sum()*0.372257282426 +\n",
    " (data.Cat==\"Other\").sum()*0.493646743899)/len(data))**.5"
   ]
  },
  {
   "cell_type": "code",
   "execution_count": null,
   "metadata": {
    "collapsed": true
   },
   "outputs": [],
   "source": [
    "data = data[data.Cat==\"Green\"]"
   ]
  },
  {
   "cell_type": "code",
   "execution_count": null,
   "metadata": {
    "collapsed": false
   },
   "outputs": [],
   "source": [
    "X = data.values[:,2:].astype(float)"
   ]
  },
  {
   "cell_type": "code",
   "execution_count": null,
   "metadata": {
    "collapsed": true
   },
   "outputs": [],
   "source": [
    "from sklearn.decomposition import PCA\n",
    "from sklearn.preprocessing import StandardScaler"
   ]
  },
  {
   "cell_type": "code",
   "execution_count": null,
   "metadata": {
    "collapsed": true
   },
   "outputs": [],
   "source": [
    "scaler = StandardScaler()\n",
    "pca = PCA()"
   ]
  },
  {
   "cell_type": "code",
   "execution_count": null,
   "metadata": {
    "collapsed": false
   },
   "outputs": [],
   "source": [
    "X_s = scaler.fit_transform(X)\n",
    "X_t = pca.fit_transform(X_s)"
   ]
  },
  {
   "cell_type": "code",
   "execution_count": null,
   "metadata": {
    "collapsed": false
   },
   "outputs": [],
   "source": [
    "X_t.shape"
   ]
  },
  {
   "cell_type": "code",
   "execution_count": null,
   "metadata": {
    "collapsed": false
   },
   "outputs": [],
   "source": [
    "pca.explained_variance_ratio_"
   ]
  },
  {
   "cell_type": "code",
   "execution_count": null,
   "metadata": {
    "collapsed": false
   },
   "outputs": [],
   "source": [
    "np.dot(X_t,pca.components_)[0]"
   ]
  },
  {
   "cell_type": "code",
   "execution_count": null,
   "metadata": {
    "collapsed": false
   },
   "outputs": [],
   "source": [
    "pca.components_"
   ]
  },
  {
   "cell_type": "code",
   "execution_count": null,
   "metadata": {
    "collapsed": false
   },
   "outputs": [],
   "source": [
    "plt.scatter(X_t[:,0],X_t[:,1],alpha=.03)"
   ]
  },
  {
   "cell_type": "code",
   "execution_count": null,
   "metadata": {
    "collapsed": true
   },
   "outputs": [],
   "source": [
    "y = data.values[:,0]"
   ]
  },
  {
   "cell_type": "code",
   "execution_count": null,
   "metadata": {
    "collapsed": false
   },
   "outputs": [],
   "source": [
    "X = data.values[:,np.array([2,4])]\n",
    "data = None\n",
    "gc.collect()"
   ]
  },
  {
   "cell_type": "code",
   "execution_count": null,
   "metadata": {
    "collapsed": false
   },
   "outputs": [],
   "source": [
    "gbr.fit(X,y)"
   ]
  },
  {
   "cell_type": "code",
   "execution_count": null,
   "metadata": {
    "collapsed": true
   },
   "outputs": [],
   "source": [
    "from sklearn.ensemble.partial_dependence import plot_partial_dependence"
   ]
  },
  {
   "cell_type": "code",
   "execution_count": null,
   "metadata": {
    "collapsed": false
   },
   "outputs": [],
   "source": [
    "fig,axs = plot_partial_dependence(gbr,X,[1],feature_names='distance',n_jobs=1,grid_resolution=50)"
   ]
  },
  {
   "cell_type": "code",
   "execution_count": null,
   "metadata": {
    "collapsed": true
   },
   "outputs": [],
   "source": []
  }
 ],
 "metadata": {
  "kernelspec": {
   "display_name": "Python 2",
   "language": "python",
   "name": "python2"
  },
  "language_info": {
   "codemirror_mode": {
    "name": "ipython",
    "version": 2
   },
   "file_extension": ".py",
   "mimetype": "text/x-python",
   "name": "python",
   "nbconvert_exporter": "python",
   "pygments_lexer": "ipython2",
   "version": "2.7.12"
  }
 },
 "nbformat": 4,
 "nbformat_minor": 0
}
