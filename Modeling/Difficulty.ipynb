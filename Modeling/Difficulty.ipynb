{
 "cells": [
  {
   "cell_type": "code",
   "execution_count": 1,
   "metadata": {
    "collapsed": false
   },
   "outputs": [],
   "source": [
    "import pandas as pd\n",
    "import numpy as np\n",
    "from scipy.sparse import csr_matrix,bmat\n",
    "import gc\n",
    "\n",
    "from sklearn.preprocessing import LabelBinarizer,LabelEncoder\n",
    "from sklearn.model_selection import GroupShuffleSplit\n",
    "\n",
    "import xgboost as xgb\n",
    "\n",
    "%matplotlib inline\n",
    "import matplotlib.pyplot as plt"
   ]
  },
  {
   "cell_type": "code",
   "execution_count": 2,
   "metadata": {
    "collapsed": true
   },
   "outputs": [],
   "source": [
    "cats = ['Green','Fairway','Intermediate Rough','Primary Rough','Fringe','Bunker','Other']"
   ]
  },
  {
   "cell_type": "code",
   "execution_count": null,
   "metadata": {
    "collapsed": false
   },
   "outputs": [
    {
     "name": "stdout",
     "output_type": "stream",
     "text": [
      "************************* DOING Fairway **************************\n",
      "**** FOLD 0 ****\n",
      "0.318324875069\n",
      "**** FOLD 1 ****\n",
      "0.318104613412\n",
      "**** FOLD 2 ****\n",
      "0.31809367166\n",
      "**** FOLD 3 ****\n",
      "0.317862614668\n",
      "**** FOLD 4 ****\n",
      "0.317256456262\n",
      "**** FOLD 5 ****\n",
      "0.31772669636\n",
      "**** FOLD 6 ****\n",
      "0.317683346039\n",
      "**** FOLD 7 ****\n",
      "0.317037372185\n",
      "**** FOLD 8 ****\n",
      "0.31783952489\n",
      "**** FOLD 9 ****\n",
      "0.316641135971\n",
      "**** FOLD 10 ****\n",
      "0.31715487122\n",
      "**** FOLD 11 ****\n",
      "0.317281606598\n",
      "**** FOLD 0 ****\n",
      "0.315923324298\n",
      "**** FOLD 1 ****\n",
      "0.314630678843\n",
      "**** FOLD 2 ****\n",
      "0.314760671425\n",
      "**** FOLD 3 ****\n",
      "0.316525000841\n",
      "**** FOLD 4 ****\n",
      "0.314669988856\n",
      "**** FOLD 5 ****\n",
      "0.315193253434\n",
      "**** FOLD 6 ****\n",
      "0.315124511348\n",
      "**** FOLD 7 ****\n",
      "0.317110512785\n",
      "**** FOLD 8 ****\n",
      "0.315709842492\n",
      "**** FOLD 9 ****\n",
      "0.316962941904\n",
      "**** FOLD 10 ****\n",
      "0.315144406845\n",
      "**** FOLD 11 ****\n",
      "0.316726635814\n",
      "**** FOLD 0 ****\n",
      "0.315110247101\n",
      "**** FOLD 1 ****\n",
      "0.316445731007\n",
      "**** FOLD 2 ****\n",
      "0.314056012664\n",
      "**** FOLD 3 ****\n",
      "0.315862593145\n",
      "**** FOLD 4 ****"
     ]
    }
   ],
   "source": [
    "params = {'objective':'reg:linear','silent':1,'eta':.2,'max_depth':5,'subsample':.7,'min_child_weight':10,\n",
    "          'alpha':.2,'lambda':1.5}\n",
    "results = {}\n",
    "for cat in cats[1:]:\n",
    "    print '************************* DOING %s *************************' % (cat,)\n",
    "    \n",
    "    data = pd.concat([pd.read_csv('./../new_data/%d.csv' % year)[['Cat','Shots_taken_from_location','Started_at_Z',\n",
    "            'Distance_from_hole','Hole','Round','Course_#','Year','Green_to_work_with','Player_#']] for year in range(2003,2017)])\n",
    "    data = data[data.Cat==cat]\n",
    "    data.insert(len(data.columns),'Year-Course',data.Year.astype(str).str.cat(data['Course_#'].astype(str),sep='-'))\n",
    "    data.insert(len(data.columns),'Hole-Course',data.Hole.astype(str).str.cat(data['Course_#'].astype(str),sep='-'))\n",
    "    data.insert(len(data.columns),'Hole-Year-Course',data.Hole.astype(str).str.cat(\n",
    "                                        [data.Year.astype(str),data['Course_#'].astype(str)],sep='-'))\n",
    "    data.insert(len(data.columns),'Round-Year-Course',data.Round.astype(str).str.cat(\n",
    "                                        [data.Year.astype(str),data['Course_#'].astype(str)],sep='-'))\n",
    "    data.insert(len(data.columns),'Hole-Round-Year-Course',data.Hole.astype(str).str.cat(\n",
    "                            [data.Round.astype(str),data.Year.astype(str),data['Course_#'].astype(str)],sep='-'))\n",
    "\n",
    "    groups = ['-'.join(map(str,tup)) for tup in data[['Hole','Round','Course_#','Year','Player_#']].values.tolist()]\n",
    "    le = LabelEncoder()\n",
    "    groups = le.fit_transform(groups)\n",
    "\n",
    "    y = data.Shots_taken_from_location.values\n",
    "    \n",
    "    lb = LabelBinarizer(sparse_output=True)\n",
    "    results[cat] = {}\n",
    "    \n",
    "    ##simplest\n",
    "\n",
    "    X = csr_matrix(data.values[:,np.array([2,3,8])].astype(float))\n",
    "    results[cat][0] = get_best_estimators(params,X,y,groups)\n",
    "\n",
    "    ## with course\n",
    "\n",
    "    X = bmat([[X,lb.fit_transform(data.values[:,6].astype(str))]],format='csr')\n",
    "    results[cat][1] = get_best_estimators(params,X,y,groups)\n",
    "\n",
    "    ## with year-course\n",
    "\n",
    "    X = bmat([[X,lb.fit_transform(data.values[:,9].astype(str))]],format='csr')\n",
    "    results[cat][2] = get_best_estimators(params,X,y,groups)\n",
    "\n",
    "    ## with hole-course\n",
    "\n",
    "    X = bmat([[X,lb.fit_transform(data.values[:,10].astype(str))]],format='csr')\n",
    "    results[cat][3] = get_best_estimators(params,X,y,groups)\n",
    "\n",
    "    ## with round-year-course\n",
    "\n",
    "    X = bmat([[X,lb.fit_transform(data.values[:,11].astype(str))]],format='csr')\n",
    "    results[cat][4] = get_best_estimators(params,X,y,groups)\n",
    "\n",
    "    # with hole-year-course\n",
    "\n",
    "    X = bmat([[X,lb.fit_transform(data.values[:,12].astype(str))]],format='csr')\n",
    "    results[cat][5] = get_best_estimators(params,X,y,groups)\n",
    "\n",
    "    # with everything\n",
    "\n",
    "    X = bmat([[X,lb.fit_transform(data.values[:,13].astype(str))]],format='csr')\n",
    "    results[cat][6] = get_best_estimators(params,X,y,groups)"
   ]
  },
  {
   "cell_type": "code",
   "execution_count": null,
   "metadata": {
    "collapsed": false
   },
   "outputs": [],
   "source": [
    "res_2[0]+res_2[1]"
   ]
  },
  {
   "cell_type": "code",
   "execution_count": null,
   "metadata": {
    "collapsed": false
   },
   "outputs": [],
   "source": [
    "res_0[0]"
   ]
  },
  {
   "cell_type": "code",
   "execution_count": null,
   "metadata": {
    "collapsed": false
   },
   "outputs": [],
   "source": [
    "for u,(mean,std) in enumerate([res_0,res_1,res_2,res_3,res_4,res_5,res_6]):\n",
    "    plt.scatter([u],[mean])\n",
    "    plt.plot((u, u), (mean-std, mean+std), 'k-')\n",
    "\n",
    "plt.ylim(.115,.116);"
   ]
  },
  {
   "cell_type": "code",
   "execution_count": null,
   "metadata": {
    "collapsed": false
   },
   "outputs": [],
   "source": [
    "feature_names = ['elev_change','distance'] + ['Course = ' + name for name in lbins[6].classes_] + \\\n",
    "                ['Year = ' + name.strip().split('-')[0] + ', Course = ' + name.strip().split('-')[1] for name in lbins[9].classes_] + \\\n",
    "                ['Hole = ' + name.split('-')[0] + ', Course = ' + name.split('-')[1] for name in lbins[10].classes_] + \\\n",
    "                ['Hole = ' + name.split('-')[0] + ', Year = ' + name.split('-')[1] + ', Course = ' + name.split('-')[2] for name in lbins[11].classes_] + \\\n",
    "                ['Round = ' + name.split('-')[0] + ', Year = ' + name.split('-')[1] + ', Course = ' + name.split('-')[2] for name in lbins[12].classes_] + \\\n",
    "                ['Hole = ' + name.split('-')[0] + ', Round = ' + name.split('-')[1] + ', Year = ' + name.split('-')[2] + ', Course = ' + name.split('-')[3] for name in lbins[13].classes_]"
   ]
  },
  {
   "cell_type": "code",
   "execution_count": null,
   "metadata": {
    "collapsed": false
   },
   "outputs": [],
   "source": [
    "d = {(feature_names[int(key[1:])],int(key[1:])):value for key,value in bst.get_score().iteritems()}\n",
    "df = pd.DataFrame({'label': [key[0] for key in d.iterkeys()],'ind': [key[1] for key in d.iterkeys()]\n",
    "                   ,'count': [d[key] for key in d.iterkeys()]})\n",
    "d = {feature_names[int(key[1:])]:(int(key[1:]),value) for key,value in bst.get_score().iteritems()}"
   ]
  },
  {
   "cell_type": "code",
   "execution_count": 19,
   "metadata": {
    "collapsed": true
   },
   "outputs": [],
   "source": [
    "def get_best_estimators(params,X,y,groups,cv_folds=12,early_stopping_rounds=50):\n",
    "    cv = GroupShuffleSplit(n_splits=cv_folds, test_size=0.2)\n",
    "    errors = []\n",
    "    for u,(train,test) in enumerate(cv.split(X,y,groups)):\n",
    "        print '**** FOLD %d ****' % (u,)\n",
    "        dtrain = xgb.DMatrix(X[train],label=y[train])\n",
    "        dtest = xgb.DMatrix(X[test],label=y[test])\n",
    "        watchlist  = [(dtrain,'train'),(dtest,'eval')]\n",
    "        num_round = 100000\n",
    "        bst = xgb.train(params,dtrain,num_round,watchlist,early_stopping_rounds=early_stopping_rounds,verbose_eval=False)       \n",
    "        error = np.mean((bst.predict(dtest,ntree_limit=bst.best_iteration) - y[test])**2)\n",
    "        print error\n",
    "        errors.append(error)\n",
    "    return (np.array(errors).mean(),np.array(errors).std())"
   ]
  },
  {
   "cell_type": "code",
   "execution_count": null,
   "metadata": {
    "collapsed": false
   },
   "outputs": [],
   "source": [
    "len(bst.get_score())"
   ]
  },
  {
   "cell_type": "code",
   "execution_count": null,
   "metadata": {
    "collapsed": false
   },
   "outputs": [],
   "source": [
    "len(feature_names)"
   ]
  },
  {
   "cell_type": "code",
   "execution_count": null,
   "metadata": {
    "collapsed": false
   },
   "outputs": [],
   "source": [
    "df.sort_values('count',ascending=False).head(10).reset_index(drop=True)"
   ]
  },
  {
   "cell_type": "code",
   "execution_count": null,
   "metadata": {
    "collapsed": false
   },
   "outputs": [],
   "source": [
    "arr = np.zeros(52674)\n",
    "arr[0] = -1\n",
    "arr[1] = 10\n",
    "arr = xgb.DMatrix(csr_matrix(arr),feature_names = dMat.feature_names)\n",
    "bst.predict(arr)"
   ]
  },
  {
   "cell_type": "code",
   "execution_count": null,
   "metadata": {
    "collapsed": false
   },
   "outputs": [],
   "source": [
    "try: print d['Hole = 18, Round = 4, Year = 2004, Course = 512']\n",
    "except: print 'none'\n",
    "try: print d['Round = 4, Year = 2004, Course = 512']\n",
    "except: print 'none'\n",
    "try: print d['Hole = 18, Course = 512']\n",
    "except: print 'none'\n",
    "try: print d['Year = 2004, Course = 512']\n",
    "except: print 'none'\n",
    "try: print d['Course = 512']\n",
    "except: print 'none'"
   ]
  },
  {
   "cell_type": "code",
   "execution_count": null,
   "metadata": {
    "collapsed": false
   },
   "outputs": [],
   "source": [
    "preds1 = []\n",
    "preds2 = []\n",
    "for dist in np.linspace(0.01,100,350):\n",
    "    arr = np.zeros(52674)\n",
    "    arr[1] = dist\n",
    "    arr[0] = 0\n",
    "    preds1.append(bst.predict(xgb.DMatrix(csr_matrix(arr),feature_names = dMat.feature_names)).tolist()[0])\n",
    "    arr[35131] = 1\n",
    "    arr[13667] = 1\n",
    "    arr[1423] = 1\n",
    "    arr[24] = 1\n",
    "    preds2.append(bst.predict(xgb.DMatrix(csr_matrix(arr),feature_names = dMat.feature_names)).tolist()[0])"
   ]
  },
  {
   "cell_type": "code",
   "execution_count": null,
   "metadata": {
    "collapsed": false,
    "scrolled": false
   },
   "outputs": [],
   "source": [
    "plt.figure(figsize=(10,10))\n",
    "plt.plot(np.linspace(0.01,100,350)[0:30],preds1[0:30],label='generic');\n",
    "plt.plot(np.linspace(0.01,100,350)[0:30],preds2[0:30],label='special green');\n",
    "plt.legend();"
   ]
  },
  {
   "cell_type": "code",
   "execution_count": null,
   "metadata": {
    "collapsed": false
   },
   "outputs": [],
   "source": [
    "np.array(preds1)-np.array(preds2)"
   ]
  },
  {
   "cell_type": "code",
   "execution_count": null,
   "metadata": {
    "collapsed": true
   },
   "outputs": [],
   "source": [
    "from sklearn.ensemble import GradientBoostingRegressor"
   ]
  },
  {
   "cell_type": "code",
   "execution_count": null,
   "metadata": {
    "collapsed": false
   },
   "outputs": [],
   "source": [
    "gbr = GradientBoostingRegressor(loss='ls', learning_rate=0.1, n_estimators=100, subsample=.6, \n",
    "                                criterion='friedman_mse', min_samples_split=20, min_samples_leaf=5, \n",
    "                                max_depth=3, verbose=5)"
   ]
  },
  {
   "cell_type": "code",
   "execution_count": null,
   "metadata": {
    "collapsed": false
   },
   "outputs": [],
   "source": [
    "arr = np.zeros(52674)\n",
    "arr[0] = 0\n",
    "arr[1] = 1\n",
    "gbr.predict(np.matrix(arr))"
   ]
  },
  {
   "cell_type": "code",
   "execution_count": null,
   "metadata": {
    "collapsed": false,
    "scrolled": true
   },
   "outputs": [],
   "source": [
    "(gbr.feature_importances_!=0).sum()"
   ]
  },
  {
   "cell_type": "code",
   "execution_count": null,
   "metadata": {
    "collapsed": false,
    "scrolled": false
   },
   "outputs": [],
   "source": [
    "for ind in np.argsort(gbr.feature_importances_)[::-1][:25]:\n",
    "    print ind,dMat.feature_names[ind],gbr.feature_importances_[ind]"
   ]
  },
  {
   "cell_type": "code",
   "execution_count": null,
   "metadata": {
    "collapsed": true
   },
   "outputs": [],
   "source": [
    "gbr.fit(X,y)"
   ]
  },
  {
   "cell_type": "code",
   "execution_count": null,
   "metadata": {
    "collapsed": true
   },
   "outputs": [],
   "source": [
    "preds1 = []\n",
    "preds2 = []\n",
    "for dist in np.linspace(0,100,100):\n",
    "    arr = np.zeros(52674)\n",
    "    arr[1] = dist\n",
    "    arr[0] = -.1\n",
    "    preds1.append(gbr.predict(np.matrix(arr)))\n",
    "    arr[0] = .1\n",
    "    preds2.append(gbr.predict(np.matrix(arr)))"
   ]
  },
  {
   "cell_type": "code",
   "execution_count": null,
   "metadata": {
    "collapsed": false,
    "scrolled": false
   },
   "outputs": [],
   "source": [
    "plt.figure(figsize=(10,10))\n",
    "plt.plot(np.linspace(0,100,100),preds1,label='uphill 1 ft.');\n",
    "plt.plot(np.linspace(0,100,100),preds2,label='downhill 1 ft.');\n",
    "plt.legend();"
   ]
  },
  {
   "cell_type": "code",
   "execution_count": null,
   "metadata": {
    "collapsed": false
   },
   "outputs": [],
   "source": [
    "for arg,num in zip(np.argsort(gbr.feature_importances_)[::-1],np.sort(gbr.feature_importances_)[::-1])[0:7]:\n",
    "    print arg,num"
   ]
  },
  {
   "cell_type": "code",
   "execution_count": null,
   "metadata": {
    "collapsed": false
   },
   "outputs": [],
   "source": [
    "fig,axs = plot_partial_dependence(gbr,X_train_m2,[4],feature_names=,n_jobs=1,grid_resolution=50)"
   ]
  },
  {
   "cell_type": "code",
   "execution_count": null,
   "metadata": {
    "collapsed": false,
    "scrolled": true
   },
   "outputs": [],
   "source": [
    "np.mean(((lcv.predict(normalizer.transform(X_test)) + gbr.predict(X_test_m))/2 - y_test)**2)"
   ]
  },
  {
   "cell_type": "code",
   "execution_count": null,
   "metadata": {
    "collapsed": false
   },
   "outputs": [],
   "source": [
    "(((data.Cat==\"Green\").sum()*0.11545806607753986 +\n",
    " (data.Cat==\"Fairway\").sum()*0.31740937289 +\n",
    " (data.Cat==\"Intermediate Rough\").sum()*0.300202209856 +\n",
    " (data.Cat==\"Primary Rough\").sum()*0.361347962243 +\n",
    " (data.Cat==\"Fringe\").sum()*0.182508595153 + \n",
    " (data.Cat==\"Bunker\").sum()*0.372257282426 +\n",
    " (data.Cat==\"Other\").sum()*0.493646743899)/len(data))**.5"
   ]
  },
  {
   "cell_type": "code",
   "execution_count": null,
   "metadata": {
    "collapsed": true
   },
   "outputs": [],
   "source": []
  }
 ],
 "metadata": {
  "kernelspec": {
   "display_name": "Python 2",
   "language": "python",
   "name": "python2"
  },
  "language_info": {
   "codemirror_mode": {
    "name": "ipython",
    "version": 2
   },
   "file_extension": ".py",
   "mimetype": "text/x-python",
   "name": "python",
   "nbconvert_exporter": "python",
   "pygments_lexer": "ipython2",
   "version": "2.7.12"
  }
 },
 "nbformat": 4,
 "nbformat_minor": 0
}
