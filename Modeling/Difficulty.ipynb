{
 "cells": [
  {
   "cell_type": "code",
   "execution_count": 147,
   "metadata": {
    "collapsed": false
   },
   "outputs": [],
   "source": [
    "import pandas as pd\n",
    "import numpy as np\n",
    "import feather\n",
    "import gc\n",
    "\n",
    "from sklearn.cross_validation import KFold\n",
    "from sklearn.linear_model import LinearRegression\n",
    "from sklearn.linear_model import LassoCV\n",
    "from sklearn.ensemble import GradientBoostingRegressor\n",
    "import matplotlib.pyplot as plt\n",
    "%matplotlib inline"
   ]
  },
  {
   "cell_type": "code",
   "execution_count": 3,
   "metadata": {
    "collapsed": true
   },
   "outputs": [],
   "source": [
    "cats = ['Green','Fairway','Intermediate Rough','Primary Rough','Fringe','Bunker','Other']"
   ]
  },
  {
   "cell_type": "code",
   "execution_count": 4,
   "metadata": {
    "collapsed": true
   },
   "outputs": [],
   "source": [
    "def make_natural_spline_matrix(x,df):\n",
    "    t = np.percentile(x,np.linspace(0,100,df+2)[1:-1])\n",
    "    #print t\n",
    "    X = np.column_stack(([1.0]*len(x),x))\n",
    "    def d(x,e_k,e_K):\n",
    "        def pos(x,e):\n",
    "            x_ = np.copy(x)\n",
    "            x_[x<=e] = 0.0\n",
    "            x_[x>e] = (x_[x>e]-e)**3\n",
    "            return x_\n",
    "        return (pos(np.copy(x),e_k) - pos(np.copy(x),e_K))/(e_K-e_k)\n",
    "    for k in range(1,len(t)-1):\n",
    "        X = np.column_stack((X,d(np.copy(x),t[k],t[-1]) - d(np.copy(x),t[k-1],t[-1])))\n",
    "    return X"
   ]
  },
  {
   "cell_type": "code",
   "execution_count": 165,
   "metadata": {
    "collapsed": false
   },
   "outputs": [],
   "source": [
    "lcv = LassoCV(eps=0.001, n_alphas=13, alphas=None, fit_intercept=True, normalize=True, \n",
    "              precompute='auto', max_iter=10000, tol=0.0001, copy_X=True, cv=None, \n",
    "              verbose=False, n_jobs=1, positive=False, random_state=None, selection='cyclic')"
   ]
  },
  {
   "cell_type": "code",
   "execution_count": 166,
   "metadata": {
    "collapsed": false
   },
   "outputs": [
    {
     "data": {
      "text/plain": [
       "LassoCV(alphas=None, copy_X=True, cv=None, eps=0.001, fit_intercept=True,\n",
       "    max_iter=10000, n_alphas=13, n_jobs=1, normalize=True, positive=False,\n",
       "    precompute='auto', random_state=None, selection='cyclic', tol=0.0001,\n",
       "    verbose=False)"
      ]
     },
     "execution_count": 166,
     "metadata": {},
     "output_type": "execute_result"
    }
   ],
   "source": [
    "lcv.fit(X,y)"
   ]
  },
  {
   "cell_type": "code",
   "execution_count": 167,
   "metadata": {
    "collapsed": false
   },
   "outputs": [
    {
     "data": {
      "image/png": "[encoded data removed]",
      "text/plain": [
       "<matplotlib.figure.Figure at 0x13acfba10>"
      ]
     },
     "metadata": {},
     "output_type": "display_data"
    }
   ],
   "source": [
    "plt.figure(figsize=(10,5))\n",
    "plt.plot(lcv.alphas_,lcv.mse_path_.mean(1),lw=5,c='purple',label='Mean of 50 Folds');\n",
    "plt.axhline(np.var(y),label='MSE of Prediction with Mean',lw=2,ls='--',c='r');"
   ]
  },
  {
   "cell_type": "code",
   "execution_count": 45,
   "metadata": {
    "collapsed": true
   },
   "outputs": [],
   "source": [
    "def tensor_product(mats):\n",
    "    if len(mats)<2:\n",
    "        return \"I need at least two mats!\"\n",
    "    first = True\n",
    "    while mats:\n",
    "        if first:\n",
    "            res = np.hstack(mats[0].T[:,:,None] * mats[1][None,:,:])\n",
    "            mats = mats[2:]\n",
    "            first = False\n",
    "        else:\n",
    "            res = np.hstack(res.T[:,:,None] * mats[0][None,:,:])\n",
    "            mats = mats[1:]\n",
    "    return res"
   ]
  },
  {
   "cell_type": "code",
   "execution_count": 67,
   "metadata": {
    "collapsed": false
   },
   "outputs": [
    {
     "name": "stdout",
     "output_type": "stream",
     "text": [
      "[[3 4 5]\n",
      " [3 1 1]]\n",
      "[[2 1 1]\n",
      " [3 2 1]]\n"
     ]
    }
   ],
   "source": [
    "print np.array([[3,4,5],[3,1,1]])\n",
    "print np.array([[2,1,1],[3,2,1]])"
   ]
  },
  {
   "cell_type": "code",
   "execution_count": 65,
   "metadata": {
    "collapsed": false
   },
   "outputs": [
    {
     "data": {
      "text/plain": [
       "array([[ 6,  3,  3,  8,  4,  4, 10,  5,  5],\n",
       "       [ 9,  6,  3,  3,  2,  1,  3,  2,  1]])"
      ]
     },
     "execution_count": 65,
     "metadata": {},
     "output_type": "execute_result"
    }
   ],
   "source": [
    "tensor_product([np.array([[3,4,5],[3,1,1]]),np.array([[2,1,1],[3,2,1]])])"
   ]
  },
  {
   "cell_type": "code",
   "execution_count": 173,
   "metadata": {
    "collapsed": false
   },
   "outputs": [],
   "source": [
    "data = feather.read_dataframe('./../difficulty.feather')\n",
    "data = data[data.Cat=='Primary Rough']\n",
    "data.loc[data.Green_to_work_with.isnull(),'Green_to_work_with'] = \\\n",
    "        data.Green_to_work_with[data.Green_to_work_with.notnull()].mean()\n",
    "samp = np.random.choice(range(len(data)),120000 if len(data)>120000 else len(data),replace=False)\n",
    "data = data.iloc[samp,:]\n",
    "\n",
    "y = data.Shots_taken_from_location.values\n",
    "X_dist = make_natural_spline_matrix(data.Distance_from_hole,15)\n",
    "X_elev = make_natural_spline_matrix(data.Started_at_Z,8)\n",
    "X_gtww = make_natural_spline_matrix(data.Green_to_work_with,6)"
   ]
  },
  {
   "cell_type": "code",
   "execution_count": 142,
   "metadata": {
    "collapsed": false
   },
   "outputs": [],
   "source": [
    "dfs = [10,12,14,16],[5,7,9],[4,6,8]"
   ]
  },
  {
   "cell_type": "code",
   "execution_count": 180,
   "metadata": {
    "collapsed": true
   },
   "outputs": [],
   "source": [
    "import itertools\n",
    "from collections import defaultdict"
   ]
  },
  {
   "cell_type": "code",
   "execution_count": null,
   "metadata": {
    "collapsed": false
   },
   "outputs": [
    {
     "name": "stdout",
     "output_type": "stream",
     "text": [
      "(10, 5, 4) 0.360504863426\n"
     ]
    }
   ],
   "source": [
    "results = defaultdict(list)\n",
    "for df_1,df_2,df_3 in itertools.product(*dfs):\n",
    "    \n",
    "    ## train data\n",
    "    data = feather.read_dataframe('./../difficulty.feather')\n",
    "    data = data[data.Cat=='Primary Rough']\n",
    "    data.loc[data.Green_to_work_with.isnull(),'Green_to_work_with'] = \\\n",
    "            data.Green_to_work_with[data.Green_to_work_with.notnull()].mean()\n",
    "    np.random.seed(45)\n",
    "    samp = np.random.choice(range(len(data)),300000 if len(data)>300000 else len(data),replace=False)\n",
    "    data = data.iloc[samp,:]\n",
    "    y = data.Shots_taken_from_location.values\n",
    "    X_dist = make_natural_spline_matrix(data.Distance_from_hole,df_1)\n",
    "    X_elev = make_natural_spline_matrix(data.Started_at_Z,df_2)\n",
    "    X_gtww = make_natural_spline_matrix(data.Green_to_work_with,df_3)\n",
    "    data = None\n",
    "    gc.collect()\n",
    "    X = np.hstack((X_dist,X_elev,X_gtww,tensor_product([X_dist,X_elev,X_gtww])))\n",
    "    \n",
    "    ols.fit(X,y)\n",
    "    \n",
    "    ## test data\n",
    "    data = feather.read_dataframe('./../difficulty.feather')\n",
    "    data = data[data.Cat=='Primary Rough']\n",
    "    data.loc[data.Green_to_work_with.isnull(),'Green_to_work_with'] = \\\n",
    "            data.Green_to_work_with[data.Green_to_work_with.notnull()].mean()\n",
    "    np.random.seed(45)\n",
    "    samp = np.random.choice(range(len(data)),300000 if len(data)>300000 else len(data),replace=False)\n",
    "    data = data.iloc[samp,:]\n",
    "    y = data.Shots_taken_from_location.values\n",
    "    X_dist = make_natural_spline_matrix(data.Distance_from_hole,df_1)\n",
    "    X_elev = make_natural_spline_matrix(data.Started_at_Z,df_2)\n",
    "    X_gtww = make_natural_spline_matrix(data.Green_to_work_with,df_3)\n",
    "    data = None\n",
    "    gc.collect()\n",
    "    X = np.hstack((X_dist,X_elev,X_gtww,tensor_product([X_dist,X_elev,X_gtww])))\n",
    "\n",
    "    score = np.mean((ols.predict(X) - y)**2)\n",
    "    print (df_1,df_2,df_3), score\n",
    "    results['df_dist'].append(df_1)\n",
    "    results['df_elev'].append(df_2)\n",
    "    results['df_gtww'].append(df_3)\n",
    "    results['score'].append(score)"
   ]
  },
  {
   "cell_type": "code",
   "execution_count": 168,
   "metadata": {
    "collapsed": false
   },
   "outputs": [],
   "source": [
    "X = np.hstack((X_dist,X_elev,X_gtww,tensor_product([X_dist,X_elev,X_gtww])))"
   ]
  },
  {
   "cell_type": "code",
   "execution_count": 169,
   "metadata": {
    "collapsed": false
   },
   "outputs": [
    {
     "data": {
      "text/plain": [
       "(120000, 749)"
      ]
     },
     "execution_count": 169,
     "metadata": {},
     "output_type": "execute_result"
    }
   ],
   "source": [
    "X.shape"
   ]
  },
  {
   "cell_type": "code",
   "execution_count": 175,
   "metadata": {
    "collapsed": false
   },
   "outputs": [
    {
     "data": {
      "text/plain": [
       "0.84650474484242744"
      ]
     },
     "execution_count": 175,
     "metadata": {},
     "output_type": "execute_result"
    }
   ],
   "source": [
    "np.mean((ols.predict(X)-y)**2)"
   ]
  },
  {
   "cell_type": "code",
   "execution_count": 174,
   "metadata": {
    "collapsed": false
   },
   "outputs": [
    {
     "data": {
      "text/plain": [
       "array([ 3.41718366,  3.31505908,  3.89100402,  2.26471657,  3.7197415 ,\n",
       "        2.70697442,  3.72440969,  3.19579696,  4.11325129,  3.18508876])"
      ]
     },
     "execution_count": 174,
     "metadata": {},
     "output_type": "execute_result"
    }
   ],
   "source": [
    "ols.predict(X)[0:10]"
   ]
  },
  {
   "cell_type": "code",
   "execution_count": 171,
   "metadata": {
    "collapsed": false
   },
   "outputs": [
    {
     "data": {
      "text/plain": [
       "0.3572253492620423"
      ]
     },
     "execution_count": 171,
     "metadata": {},
     "output_type": "execute_result"
    }
   ],
   "source": [
    "ols = LinearRegression()\n",
    "ols.fit(X,y)\n",
    "np.mean((ols.predict(X)-y)**2)"
   ]
  },
  {
   "cell_type": "code",
   "execution_count": 129,
   "metadata": {
    "collapsed": false
   },
   "outputs": [
    {
     "data": {
      "text/plain": [
       "0.36196708023836399"
      ]
     },
     "execution_count": 129,
     "metadata": {},
     "output_type": "execute_result"
    }
   ],
   "source": [
    "ols = LinearRegression()\n",
    "ols.fit(X,y)\n",
    "np.mean((ols.predict(X)-y)**2)"
   ]
  },
  {
   "cell_type": "code",
   "execution_count": 125,
   "metadata": {
    "collapsed": false
   },
   "outputs": [
    {
     "data": {
      "text/plain": [
       "0.35792428697401296"
      ]
     },
     "execution_count": 125,
     "metadata": {},
     "output_type": "execute_result"
    }
   ],
   "source": [
    "ols = LinearRegression()\n",
    "ols.fit(X,y)\n",
    "np.mean((ols.predict(X)-y)**2)"
   ]
  },
  {
   "cell_type": "code",
   "execution_count": 113,
   "metadata": {
    "collapsed": false
   },
   "outputs": [
    {
     "data": {
      "text/plain": [
       "0.35751552030405581"
      ]
     },
     "execution_count": 113,
     "metadata": {},
     "output_type": "execute_result"
    }
   ],
   "source": [
    "ols = LinearRegression(copy_X=True)\n",
    "ols.fit(X,y)\n",
    "np.mean((ols.predict(X)-y)**2)"
   ]
  },
  {
   "cell_type": "code",
   "execution_count": 6,
   "metadata": {
    "collapsed": false
   },
   "outputs": [],
   "source": [
    "def run(df1,df2,df3):\n",
    "    errors = []\n",
    "    for u,cat in enumerate(cats):\n",
    "        data = None\n",
    "        gc.collect()\n",
    "        data = feather.read_dataframe('./../difficulty.feather')\n",
    "        data = data[data.Cat==cat]\n",
    "        data.loc[data.Green_to_work_with.isnull(),'Green_to_work_with'] = \\\n",
    "        data.Green_to_work_with[data.Green_to_work_with.notnull()].mean()\n",
    "        samp = np.random.choice(range(len(data)),40000 if len(data)>40000 else len(data),replace=False)\n",
    "        data = data.iloc[samp,:]\n",
    "        \n",
    "        y = data.values[:,0]\n",
    "        if cat=='Green':\n",
    "            X_dist = make_natural_spline_matrix(data.Distance_from_hole,df1[u])\n",
    "            X_elev = make_natural_spline_matrix(data.Started_at_Z,df3[u])\n",
    "            data = None\n",
    "            gc.collect()\n",
    "            X = np.hstack((X_dist,X_elev,tensor_product([X_dist,X_elev])))\n",
    "            X_dist,X_elev = None,None\n",
    "            gc.collect()\n",
    "        else:\n",
    "            X_dist = make_natural_spline_matrix(data.Distance_from_hole,df1[u])\n",
    "            X_gtww = make_natural_spline_matrix(data.Green_to_work_with,df2[u])\n",
    "            X_elev = make_natural_spline_matrix(data.Started_at_Z,df3[u])\n",
    "            data = None\n",
    "            gc.collect()\n",
    "            X = np.hstack((X_dist,X_gtww,X_elev,tensor_product([X_dist,X_gtww,X_elev])))\n",
    "            X_dist,X_gtww,X_elev = None,None,None\n",
    "            gc.collect()\n",
    "        errors.append(cross_val_score(lcv,X,y,scoring='mean_squared_error',n_jobs=1))\n",
    "    return errors"
   ]
  },
  {
   "cell_type": "code",
   "execution_count": 7,
   "metadata": {
    "collapsed": false
   },
   "outputs": [
    {
     "data": {
      "text/plain": [
       "array(['Green', 'Fairway', 'Intermediate Rough', 'Primary Rough', 'Fringe',\n",
       "       'Bunker', 'Other'], \n",
       "      dtype='|S18')"
      ]
     },
     "execution_count": 7,
     "metadata": {},
     "output_type": "execute_result"
    }
   ],
   "source": [
    "np.array(cats)"
   ]
  },
  {
   "cell_type": "code",
   "execution_count": 8,
   "metadata": {
    "collapsed": true
   },
   "outputs": [],
   "source": [
    "param_grid = [[14]*7,[7]*7,[8]*7]"
   ]
  },
  {
   "cell_type": "code",
   "execution_count": 35,
   "metadata": {
    "collapsed": true
   },
   "outputs": [],
   "source": [
    "data = feather.read_dataframe('./../difficulty.feather')"
   ]
  },
  {
   "cell_type": "code",
   "execution_count": 21,
   "metadata": {
    "collapsed": false
   },
   "outputs": [
    {
     "data": {
      "text/plain": [
       "0.48617642480294376"
      ]
     },
     "execution_count": 21,
     "metadata": {},
     "output_type": "execute_result"
    }
   ],
   "source": [
    "(((data.Cat==\"Green\").sum()*0.15510111 +\n",
    " (data.Cat==\"Fairway\").sum()*0.33242987 +\n",
    " (data.Cat==\"Intermediate Rough\").sum()*0.30887963 +\n",
    " (data.Cat==\"Primary Rough\").sum()*0.36587546 +\n",
    " (data.Cat==\"Fringe\").sum()*0.18077784 + \n",
    " (data.Cat==\"Bunker\").sum()*0.38028543 +\n",
    " (data.Cat==\"Other\").sum()*0.51596645)/len(data))**.5"
   ]
  },
  {
   "cell_type": "code",
   "execution_count": 8,
   "metadata": {
    "collapsed": true
   },
   "outputs": [],
   "source": [
    "gbr = GradientBoostingRegressor(loss='ls', learning_rate=0.01, \n",
    "                                n_estimators=1000, subsample=.5, \n",
    "                                min_weight_fraction_leaf=0.0, max_depth=3)"
   ]
  },
  {
   "cell_type": "code",
   "execution_count": 40,
   "metadata": {
    "collapsed": true
   },
   "outputs": [],
   "source": [
    "def run():\n",
    "    errors = []\n",
    "    for u,cat in enumerate(cats[::-1]):\n",
    "        data = None\n",
    "        gc.collect()\n",
    "        data = feather.read_dataframe('./../difficulty.feather')\n",
    "        data = data[data.Cat==cat]\n",
    "        data.loc[data.Green_to_work_with.isnull(),'Green_to_work_with'] = \\\n",
    "        data.Green_to_work_with[data.Green_to_work_with.notnull()].mean()\n",
    "        \n",
    "        y = data.values[:,0]\n",
    "        if cat=='Green': \n",
    "            X = data.values[:,np.array([2,4])]\n",
    "            data = None\n",
    "            gc.collect()\n",
    "        else:\n",
    "            X = data.values[:,2:]\n",
    "            data = None\n",
    "            gc.collect()\n",
    "        gbr.fit(X,y)\n",
    "        print cat\n",
    "        print gbr.feature_importances_\n",
    "        error = np.mean((gbr.predict(X)-y)**2)\n",
    "        print error\n",
    "        errors.append(error)\n",
    "    return errors"
   ]
  },
  {
   "cell_type": "code",
   "execution_count": 27,
   "metadata": {
    "collapsed": false
   },
   "outputs": [
    {
     "data": {
      "text/plain": [
       "[array([-0.11665466, -0.11131057, -0.11583314]),\n",
       " array([-0.3135188 , -0.30775616, -0.31905701]),\n",
       " array([-0.29630674, -0.30533181, -0.30735962]),\n",
       " array([-0.3609437 , -0.36251877, -0.3633638 ]),\n",
       " array([-0.18694726, -0.18624939, -0.18571111]),\n",
       " array([-0.38349447, -0.36652894, -0.37572808]),\n",
       " array([-0.50196789, -0.50959922, -0.5026008 ])]"
      ]
     },
     "execution_count": 27,
     "metadata": {},
     "output_type": "execute_result"
    }
   ],
   "source": [
    "run()"
   ]
  },
  {
   "cell_type": "code",
   "execution_count": 41,
   "metadata": {
    "collapsed": false
   },
   "outputs": [
    {
     "name": "stdout",
     "output_type": "stream",
     "text": [
      "Other\n",
      "[ 0.41335769  0.23836312  0.34827919]\n",
      "0.493646743899\n",
      "Bunker\n",
      "[ 0.53774321  0.19835877  0.26389802]\n",
      "0.372257282426\n",
      "Fringe\n",
      "[ 0.46624475  0.22086954  0.31288571]\n",
      "0.182508595153\n",
      "Primary Rough\n",
      "[ 0.56121132  0.17140679  0.26738189]\n",
      "0.361347962243\n",
      "Intermediate Rough\n",
      "[ 0.56586519  0.19200746  0.24212735]\n",
      "0.300202209856\n",
      "Fairway\n",
      "[ 0.6112764   0.16812388  0.22059972]\n",
      "0.31740937289\n",
      "Green\n",
      "[ 0.69468874  0.30531126]\n",
      "0.115458066078\n"
     ]
    },
    {
     "data": {
      "text/plain": [
       "[0.4936467438990713,\n",
       " 0.37225728242567796,\n",
       " 0.1825085951531437,\n",
       " 0.36134796224265625,\n",
       " 0.30020220985632007,\n",
       " 0.31740937288979143,\n",
       " 0.11545806607753986]"
      ]
     },
     "execution_count": 41,
     "metadata": {},
     "output_type": "execute_result"
    }
   ],
   "source": [
    "run()"
   ]
  },
  {
   "cell_type": "code",
   "execution_count": 43,
   "metadata": {
    "collapsed": false
   },
   "outputs": [
    {
     "data": {
      "text/plain": [
       "0.45785217793734079"
      ]
     },
     "execution_count": 43,
     "metadata": {},
     "output_type": "execute_result"
    }
   ],
   "source": [
    "(((data.Cat==\"Green\").sum()*0.11545806607753986 +\n",
    " (data.Cat==\"Fairway\").sum()*0.31740937289 +\n",
    " (data.Cat==\"Intermediate Rough\").sum()*0.300202209856 +\n",
    " (data.Cat==\"Primary Rough\").sum()*0.361347962243 +\n",
    " (data.Cat==\"Fringe\").sum()*0.182508595153 + \n",
    " (data.Cat==\"Bunker\").sum()*0.372257282426 +\n",
    " (data.Cat==\"Other\").sum()*0.493646743899)/len(data))**.5"
   ]
  },
  {
   "cell_type": "code",
   "execution_count": 36,
   "metadata": {
    "collapsed": true
   },
   "outputs": [],
   "source": [
    "data = data[data.Cat==\"Green\"]"
   ]
  },
  {
   "cell_type": "code",
   "execution_count": 18,
   "metadata": {
    "collapsed": false
   },
   "outputs": [],
   "source": [
    "X = data.values[:,2:].astype(float)"
   ]
  },
  {
   "cell_type": "code",
   "execution_count": 19,
   "metadata": {
    "collapsed": true
   },
   "outputs": [],
   "source": [
    "from sklearn.decomposition import PCA\n",
    "from sklearn.preprocessing import StandardScaler"
   ]
  },
  {
   "cell_type": "code",
   "execution_count": 20,
   "metadata": {
    "collapsed": true
   },
   "outputs": [],
   "source": [
    "scaler = StandardScaler()\n",
    "pca = PCA()"
   ]
  },
  {
   "cell_type": "code",
   "execution_count": 21,
   "metadata": {
    "collapsed": false
   },
   "outputs": [],
   "source": [
    "X_s = scaler.fit_transform(X)\n",
    "X_t = pca.fit_transform(X_s)"
   ]
  },
  {
   "cell_type": "code",
   "execution_count": 22,
   "metadata": {
    "collapsed": false
   },
   "outputs": [
    {
     "data": {
      "text/plain": [
       "(502274, 3)"
      ]
     },
     "execution_count": 22,
     "metadata": {},
     "output_type": "execute_result"
    }
   ],
   "source": [
    "X_t.shape"
   ]
  },
  {
   "cell_type": "code",
   "execution_count": 25,
   "metadata": {
    "collapsed": false
   },
   "outputs": [
    {
     "data": {
      "text/plain": [
       "array([ 0.42753936,  0.33264341,  0.23981722])"
      ]
     },
     "execution_count": 25,
     "metadata": {},
     "output_type": "execute_result"
    }
   ],
   "source": [
    "pca.explained_variance_ratio_"
   ]
  },
  {
   "cell_type": "code",
   "execution_count": 28,
   "metadata": {
    "collapsed": false
   },
   "outputs": [
    {
     "data": {
      "text/plain": [
       "array([-0.66707655, -0.32389752,  0.29295532])"
      ]
     },
     "execution_count": 28,
     "metadata": {},
     "output_type": "execute_result"
    }
   ],
   "source": [
    "np.dot(X_t,pca.components_)[0]"
   ]
  },
  {
   "cell_type": "code",
   "execution_count": 22,
   "metadata": {
    "collapsed": false
   },
   "outputs": [
    {
     "data": {
      "text/plain": [
       "array([[ 0.70502868,  0.70372213, -0.08780507],\n",
       "       [-0.04709947, -0.07707539, -0.99591216],\n",
       "       [ 0.70761303, -0.7062822 ,  0.02119542]])"
      ]
     },
     "execution_count": 22,
     "metadata": {},
     "output_type": "execute_result"
    }
   ],
   "source": [
    "pca.components_"
   ]
  },
  {
   "cell_type": "code",
   "execution_count": 24,
   "metadata": {
    "collapsed": false
   },
   "outputs": [
    {
     "data": {
      "text/plain": [
       "<matplotlib.collections.PathCollection at 0x151e290d0>"
      ]
     },
     "execution_count": 24,
     "metadata": {},
     "output_type": "execute_result"
    },
    {
     "data": {
      "image/png": "[encoded data removed]",
      "text/plain": [
       "<matplotlib.figure.Figure at 0x156399b90>"
      ]
     },
     "metadata": {},
     "output_type": "display_data"
    }
   ],
   "source": [
    "plt.scatter(X_t[:,0],X_t[:,1],alpha=.03)"
   ]
  },
  {
   "cell_type": "code",
   "execution_count": 37,
   "metadata": {
    "collapsed": true
   },
   "outputs": [],
   "source": [
    "y = data.values[:,0]"
   ]
  },
  {
   "cell_type": "code",
   "execution_count": 38,
   "metadata": {
    "collapsed": false
   },
   "outputs": [
    {
     "data": {
      "text/plain": [
       "7"
      ]
     },
     "execution_count": 38,
     "metadata": {},
     "output_type": "execute_result"
    }
   ],
   "source": [
    "X = data.values[:,np.array([2,4])]\n",
    "data = None\n",
    "gc.collect()"
   ]
  },
  {
   "cell_type": "code",
   "execution_count": 39,
   "metadata": {
    "collapsed": false
   },
   "outputs": [
    {
     "data": {
      "text/plain": [
       "GradientBoostingRegressor(alpha=0.9, init=None, learning_rate=0.01, loss='ls',\n",
       "             max_depth=3, max_features=None, max_leaf_nodes=None,\n",
       "             min_samples_leaf=1, min_samples_split=2,\n",
       "             min_weight_fraction_leaf=0.0, n_estimators=1000,\n",
       "             presort='auto', random_state=None, subsample=0.5, verbose=0,\n",
       "             warm_start=False)"
      ]
     },
     "execution_count": 39,
     "metadata": {},
     "output_type": "execute_result"
    }
   ],
   "source": [
    "gbr.fit(X,y)"
   ]
  },
  {
   "cell_type": "code",
   "execution_count": 10,
   "metadata": {
    "collapsed": true
   },
   "outputs": [],
   "source": [
    "from sklearn.ensemble.partial_dependence import plot_partial_dependence"
   ]
  },
  {
   "cell_type": "code",
   "execution_count": 41,
   "metadata": {
    "collapsed": false
   },
   "outputs": [
    {
     "data": {
      "image/png": "[encoded data removed]",
      "text/plain": [
       "<matplotlib.figure.Figure at 0x14f9f3810>"
      ]
     },
     "metadata": {},
     "output_type": "display_data"
    }
   ],
   "source": [
    "fig,axs = plot_partial_dependence(gbr,X,[1],feature_names='distance',n_jobs=1,grid_resolution=50)"
   ]
  },
  {
   "cell_type": "code",
   "execution_count": null,
   "metadata": {
    "collapsed": true
   },
   "outputs": [],
   "source": []
  }
 ],
 "metadata": {
  "kernelspec": {
   "display_name": "Python 2",
   "language": "python",
   "name": "python2"
  },
  "language_info": {
   "codemirror_mode": {
    "name": "ipython",
    "version": 2
   },
   "file_extension": ".py",
   "mimetype": "text/x-python",
   "name": "python",
   "nbconvert_exporter": "python",
   "pygments_lexer": "ipython2",
   "version": "2.7.11"
  }
 },
 "nbformat": 4,
 "nbformat_minor": 0
}
