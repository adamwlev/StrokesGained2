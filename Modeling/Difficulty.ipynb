{
 "cells": [
  {
   "cell_type": "code",
   "execution_count": 15,
   "metadata": {
    "collapsed": false
   },
   "outputs": [],
   "source": [
    "import pandas as pd\n",
    "import numpy as np\n",
    "import gc\n",
    "\n",
    "from sklearn.linear_model import LinearRegression\n",
    "from sklearn.linear_model import LassoCV\n",
    "from sklearn.ensemble import GradientBoostingRegressor\n",
    "from sklearn.preprocessing import LabelBinarizer,LabelEncoder\n",
    "from scipy.sparse import csr_matrix,bmat\n",
    "from sklearn.model_selection import KFold,GroupKFold,GroupShuffleSplit\n",
    "\n",
    "from sklearn.utils import shuffle\n",
    "import xgboost as xgb\n",
    "from bayes_opt import BayesianOptimization\n",
    "import pickle\n",
    "from collections import defaultdict\n",
    "import warnings\n",
    "import matplotlib.pyplot as plt\n",
    "%matplotlib inline"
   ]
  },
  {
   "cell_type": "code",
   "execution_count": 6,
   "metadata": {
    "collapsed": true
   },
   "outputs": [],
   "source": [
    "cats = ['Green','Fairway','Intermediate Rough','Primary Rough','Fringe','Bunker','Other']"
   ]
  },
  {
   "cell_type": "code",
   "execution_count": 3,
   "metadata": {
    "collapsed": true
   },
   "outputs": [],
   "source": [
    "def make_natural_spline_matrix(x,df):\n",
    "    t = np.percentile(x,np.linspace(0,100,df+2)[1:-1])\n",
    "    #print t\n",
    "    X = np.column_stack(([1.0]*len(x),x))\n",
    "    def d(x,e_k,e_K):\n",
    "        def pos(x,e):\n",
    "            x_ = np.copy(x)\n",
    "            x_[x<=e] = 0.0\n",
    "            x_[x>e] = (x_[x>e]-e)**3\n",
    "            return x_\n",
    "        return (pos(np.copy(x),e_k) - pos(np.copy(x),e_K))/(e_K-e_k)\n",
    "    for k in range(1,len(t)-1):\n",
    "        X = np.column_stack((X,d(np.copy(x),t[k],t[-1]) - d(np.copy(x),t[k-1],t[-1])))\n",
    "    return X"
   ]
  },
  {
   "cell_type": "code",
   "execution_count": 165,
   "metadata": {
    "collapsed": false
   },
   "outputs": [],
   "source": [
    "lcv = LassoCV(eps=0.001, n_alphas=13, alphas=None, fit_intercept=True, normalize=True, \n",
    "              precompute='auto', max_iter=10000, tol=0.0001, copy_X=True, cv=None, \n",
    "              verbose=False, n_jobs=1, positive=False, random_state=None, selection='cyclic')"
   ]
  },
  {
   "cell_type": "code",
   "execution_count": 166,
   "metadata": {
    "collapsed": false
   },
   "outputs": [
    {
     "data": {
      "text/plain": [
       "LassoCV(alphas=None, copy_X=True, cv=None, eps=0.001, fit_intercept=True,\n",
       "    max_iter=10000, n_alphas=13, n_jobs=1, normalize=True, positive=False,\n",
       "    precompute='auto', random_state=None, selection='cyclic', tol=0.0001,\n",
       "    verbose=False)"
      ]
     },
     "execution_count": 166,
     "metadata": {},
     "output_type": "execute_result"
    }
   ],
   "source": [
    "lcv.fit(X,y)"
   ]
  },
  {
   "cell_type": "code",
   "execution_count": 167,
   "metadata": {
    "collapsed": false
   },
   "outputs": [
    {
     "data": {
      "image/png": "[encoded data removed]",
      "text/plain": [
       "<matplotlib.figure.Figure at 0x13acfba10>"
      ]
     },
     "metadata": {},
     "output_type": "display_data"
    }
   ],
   "source": [
    "plt.figure(figsize=(10,5))\n",
    "plt.plot(lcv.alphas_,lcv.mse_path_.mean(1),lw=5,c='purple',label='Mean of 50 Folds');\n",
    "plt.axhline(np.var(y),label='MSE of Prediction with Mean',lw=2,ls='--',c='r');"
   ]
  },
  {
   "cell_type": "code",
   "execution_count": 4,
   "metadata": {
    "collapsed": true
   },
   "outputs": [],
   "source": [
    "def tensor_product(mats):\n",
    "    if len(mats)<2:\n",
    "        return \"I need at least two mats!\"\n",
    "    first = True\n",
    "    while mats:\n",
    "        if first:\n",
    "            res = np.hstack(mats[0].T[:,:,None] * mats[1][None,:,:])\n",
    "            mats = mats[2:]\n",
    "            first = False\n",
    "        else:\n",
    "            res = np.hstack(res.T[:,:,None] * mats[0][None,:,:])\n",
    "            mats = mats[1:]\n",
    "    return res"
   ]
  },
  {
   "cell_type": "code",
   "execution_count": 173,
   "metadata": {
    "collapsed": false
   },
   "outputs": [],
   "source": [
    "cols = \n",
    "data = pd.concat([pd.read_csv('./../data/%d.csv' % year)[cols] for year in range(2003,2017)])\n",
    "data = data[data.Cat=='Primary Rough']\n",
    "\n",
    "y = data.Shots_taken_from_location.values\n",
    "X_dist = make_natural_spline_matrix(data.Distance_from_hole,15)\n",
    "X_elev = make_natural_spline_matrix(data.Started_at_Z,8)\n",
    "X_gtww = make_natural_spline_matrix(data.Green_to_work_with,6)"
   ]
  },
  {
   "cell_type": "code",
   "execution_count": 142,
   "metadata": {
    "collapsed": false
   },
   "outputs": [],
   "source": [
    "dfs = [10,12,14,16],[5,7,9],[4,6,8]"
   ]
  },
  {
   "cell_type": "code",
   "execution_count": 180,
   "metadata": {
    "collapsed": true
   },
   "outputs": [],
   "source": [
    "import itertools\n",
    "from collections import defaultdict"
   ]
  },
  {
   "cell_type": "code",
   "execution_count": null,
   "metadata": {
    "collapsed": false
   },
   "outputs": [
    {
     "name": "stdout",
     "output_type": "stream",
     "text": [
      "(10, 5, 4) 0.360504863426\n"
     ]
    }
   ],
   "source": [
    "results = defaultdict(list)\n",
    "for df_1,df_2,df_3 in itertools.product(*dfs):\n",
    "    \n",
    "    ## train data\n",
    "    data = feather.read_dataframe('./../difficulty.feather')\n",
    "    data = data[data.Cat=='Primary Rough']\n",
    "    data.loc[data.Green_to_work_with.isnull(),'Green_to_work_with'] = \\\n",
    "            data.Green_to_work_with[data.Green_to_work_with.notnull()].mean()\n",
    "    np.random.seed(45)\n",
    "    samp = np.random.choice(range(len(data)),300000 if len(data)>300000 else len(data),replace=False)\n",
    "    data = data.iloc[samp,:]\n",
    "    y = data.Shots_taken_from_location.values\n",
    "    X_dist = make_natural_spline_matrix(data.Distance_from_hole,df_1)\n",
    "    X_elev = make_natural_spline_matrix(data.Started_at_Z,df_2)\n",
    "    X_gtww = make_natural_spline_matrix(data.Green_to_work_with,df_3)\n",
    "    data = None\n",
    "    gc.collect()\n",
    "    X = np.hstack((X_dist,X_elev,X_gtww,tensor_product([X_dist,X_elev,X_gtww])))\n",
    "    \n",
    "    ols.fit(X,y)\n",
    "    \n",
    "    ## test data\n",
    "    data = feather.read_dataframe('./../difficulty.feather')\n",
    "    data = data[data.Cat=='Primary Rough']\n",
    "    data.loc[data.Green_to_work_with.isnull(),'Green_to_work_with'] = \\\n",
    "            data.Green_to_work_with[data.Green_to_work_with.notnull()].mean()\n",
    "    np.random.seed(45)\n",
    "    samp = np.random.choice(range(len(data)),300000 if len(data)>300000 else len(data),replace=False)\n",
    "    data = data.iloc[samp,:]\n",
    "    y = data.Shots_taken_from_location.values\n",
    "    X_dist = make_natural_spline_matrix(data.Distance_from_hole,df_1)\n",
    "    X_elev = make_natural_spline_matrix(data.Started_at_Z,df_2)\n",
    "    X_gtww = make_natural_spline_matrix(data.Green_to_work_with,df_3)\n",
    "    data = None\n",
    "    gc.collect()\n",
    "    X = np.hstack((X_dist,X_elev,X_gtww,tensor_product([X_dist,X_elev,X_gtww])))\n",
    "\n",
    "    score = np.mean((ols.predict(X) - y)**2)\n",
    "    print (df_1,df_2,df_3), score\n",
    "    results['df_dist'].append(df_1)\n",
    "    results['df_elev'].append(df_2)\n",
    "    results['df_gtww'].append(df_3)\n",
    "    results['score'].append(score)"
   ]
  },
  {
   "cell_type": "code",
   "execution_count": 168,
   "metadata": {
    "collapsed": false
   },
   "outputs": [],
   "source": [
    "X = np.hstack((X_dist,X_elev,X_gtww,tensor_product([X_dist,X_elev,X_gtww])))"
   ]
  },
  {
   "cell_type": "code",
   "execution_count": 169,
   "metadata": {
    "collapsed": false
   },
   "outputs": [
    {
     "data": {
      "text/plain": [
       "(120000, 749)"
      ]
     },
     "execution_count": 169,
     "metadata": {},
     "output_type": "execute_result"
    }
   ],
   "source": [
    "X.shape"
   ]
  },
  {
   "cell_type": "code",
   "execution_count": 175,
   "metadata": {
    "collapsed": false
   },
   "outputs": [
    {
     "data": {
      "text/plain": [
       "0.84650474484242744"
      ]
     },
     "execution_count": 175,
     "metadata": {},
     "output_type": "execute_result"
    }
   ],
   "source": [
    "np.mean((ols.predict(X)-y)**2)"
   ]
  },
  {
   "cell_type": "code",
   "execution_count": 174,
   "metadata": {
    "collapsed": false
   },
   "outputs": [
    {
     "data": {
      "text/plain": [
       "array([ 3.41718366,  3.31505908,  3.89100402,  2.26471657,  3.7197415 ,\n",
       "        2.70697442,  3.72440969,  3.19579696,  4.11325129,  3.18508876])"
      ]
     },
     "execution_count": 174,
     "metadata": {},
     "output_type": "execute_result"
    }
   ],
   "source": [
    "ols.predict(X)[0:10]"
   ]
  },
  {
   "cell_type": "code",
   "execution_count": 171,
   "metadata": {
    "collapsed": false
   },
   "outputs": [
    {
     "data": {
      "text/plain": [
       "0.3572253492620423"
      ]
     },
     "execution_count": 171,
     "metadata": {},
     "output_type": "execute_result"
    }
   ],
   "source": [
    "ols = LinearRegression()\n",
    "ols.fit(X,y)\n",
    "np.mean((ols.predict(X)-y)**2)"
   ]
  },
  {
   "cell_type": "code",
   "execution_count": 129,
   "metadata": {
    "collapsed": false
   },
   "outputs": [
    {
     "data": {
      "text/plain": [
       "0.36196708023836399"
      ]
     },
     "execution_count": 129,
     "metadata": {},
     "output_type": "execute_result"
    }
   ],
   "source": [
    "ols = LinearRegression()\n",
    "ols.fit(X,y)\n",
    "np.mean((ols.predict(X)-y)**2)"
   ]
  },
  {
   "cell_type": "code",
   "execution_count": 125,
   "metadata": {
    "collapsed": false
   },
   "outputs": [
    {
     "data": {
      "text/plain": [
       "0.35792428697401296"
      ]
     },
     "execution_count": 125,
     "metadata": {},
     "output_type": "execute_result"
    }
   ],
   "source": [
    "ols = LinearRegression()\n",
    "ols.fit(X,y)\n",
    "np.mean((ols.predict(X)-y)**2)"
   ]
  },
  {
   "cell_type": "code",
   "execution_count": 113,
   "metadata": {
    "collapsed": false
   },
   "outputs": [
    {
     "data": {
      "text/plain": [
       "0.35751552030405581"
      ]
     },
     "execution_count": 113,
     "metadata": {},
     "output_type": "execute_result"
    }
   ],
   "source": [
    "ols = LinearRegression(copy_X=True)\n",
    "ols.fit(X,y)\n",
    "np.mean((ols.predict(X)-y)**2)"
   ]
  },
  {
   "cell_type": "code",
   "execution_count": 6,
   "metadata": {
    "collapsed": false
   },
   "outputs": [],
   "source": [
    "def run(df1,df2,df3):\n",
    "    errors = []\n",
    "    for u,cat in enumerate(cats):\n",
    "        data = None\n",
    "        gc.collect()\n",
    "        data = feather.read_dataframe('./../difficulty.feather')\n",
    "        data = data[data.Cat==cat]\n",
    "        data.loc[data.Green_to_work_with.isnull(),'Green_to_work_with'] = \\\n",
    "        data.Green_to_work_with[data.Green_to_work_with.notnull()].mean()\n",
    "        samp = np.random.choice(range(len(data)),40000 if len(data)>40000 else len(data),replace=False)\n",
    "        data = data.iloc[samp,:]\n",
    "        \n",
    "        y = data.values[:,0]\n",
    "        if cat=='Green':\n",
    "            X_dist = make_natural_spline_matrix(data.Distance_from_hole,df1[u])\n",
    "            X_elev = make_natural_spline_matrix(data.Started_at_Z,df3[u])\n",
    "            data = None\n",
    "            gc.collect()\n",
    "            X = np.hstack((X_dist,X_elev,tensor_product([X_dist,X_elev])))\n",
    "            X_dist,X_elev = None,None\n",
    "            gc.collect()\n",
    "        else:\n",
    "            X_dist = make_natural_spline_matrix(data.Distance_from_hole,df1[u])\n",
    "            X_gtww = make_natural_spline_matrix(data.Green_to_work_with,df2[u])\n",
    "            X_elev = make_natural_spline_matrix(data.Started_at_Z,df3[u])\n",
    "            data = None\n",
    "            gc.collect()\n",
    "            X = np.hstack((X_dist,X_gtww,X_elev,tensor_product([X_dist,X_gtww,X_elev])))\n",
    "            X_dist,X_gtww,X_elev = None,None,None\n",
    "            gc.collect()\n",
    "        errors.append(cross_val_score(lcv,X,y,scoring='mean_squared_error',n_jobs=1))\n",
    "    return errors"
   ]
  },
  {
   "cell_type": "code",
   "execution_count": 7,
   "metadata": {
    "collapsed": false
   },
   "outputs": [
    {
     "data": {
      "text/plain": [
       "array(['Green', 'Fairway', 'Intermediate Rough', 'Primary Rough', 'Fringe',\n",
       "       'Bunker', 'Other'], \n",
       "      dtype='|S18')"
      ]
     },
     "execution_count": 7,
     "metadata": {},
     "output_type": "execute_result"
    }
   ],
   "source": [
    "np.array(cats)"
   ]
  },
  {
   "cell_type": "code",
   "execution_count": 8,
   "metadata": {
    "collapsed": true
   },
   "outputs": [],
   "source": [
    "param_grid = [[14]*7,[7]*7,[8]*7]"
   ]
  },
  {
   "cell_type": "code",
   "execution_count": 35,
   "metadata": {
    "collapsed": true
   },
   "outputs": [],
   "source": [
    "data = feather.read_dataframe('./../difficulty.feather')"
   ]
  },
  {
   "cell_type": "code",
   "execution_count": 21,
   "metadata": {
    "collapsed": false
   },
   "outputs": [
    {
     "data": {
      "text/plain": [
       "0.48617642480294376"
      ]
     },
     "execution_count": 21,
     "metadata": {},
     "output_type": "execute_result"
    }
   ],
   "source": [
    "(((data.Cat==\"Green\").sum()*0.15510111 +\n",
    " (data.Cat==\"Fairway\").sum()*0.33242987 +\n",
    " (data.Cat==\"Intermediate Rough\").sum()*0.30887963 +\n",
    " (data.Cat==\"Primary Rough\").sum()*0.36587546 +\n",
    " (data.Cat==\"Fringe\").sum()*0.18077784 + \n",
    " (data.Cat==\"Bunker\").sum()*0.38028543 +\n",
    " (data.Cat==\"Other\").sum()*0.51596645)/len(data))**.5"
   ]
  },
  {
   "cell_type": "code",
   "execution_count": 8,
   "metadata": {
    "collapsed": true
   },
   "outputs": [],
   "source": [
    "gbr = GradientBoostingRegressor(loss='ls', learning_rate=0.01, \n",
    "                                n_estimators=1000, subsample=.5, \n",
    "                                min_weight_fraction_leaf=0.0, max_depth=3)"
   ]
  },
  {
   "cell_type": "code",
   "execution_count": 40,
   "metadata": {
    "collapsed": true
   },
   "outputs": [],
   "source": [
    "def run():\n",
    "    errors = []\n",
    "    for u,cat in enumerate(cats[::-1]):\n",
    "        data = None\n",
    "        gc.collect()\n",
    "        data = feather.read_dataframe('./../difficulty.feather')\n",
    "        data = data[data.Cat==cat]\n",
    "        data.loc[data.Green_to_work_with.isnull(),'Green_to_work_with'] = \\\n",
    "        data.Green_to_work_with[data.Green_to_work_with.notnull()].mean()\n",
    "        \n",
    "        y = data.values[:,0]\n",
    "        if cat=='Green': \n",
    "            X = data.values[:,np.array([2,4])]\n",
    "            data = None\n",
    "            gc.collect()\n",
    "        else:\n",
    "            X = data.values[:,2:]\n",
    "            data = None\n",
    "            gc.collect()\n",
    "        gbr.fit(X,y)\n",
    "        print cat\n",
    "        print gbr.feature_importances_\n",
    "        error = np.mean((gbr.predict(X)-y)**2)\n",
    "        print error\n",
    "        errors.append(error)\n",
    "    return errors"
   ]
  },
  {
   "cell_type": "code",
   "execution_count": 27,
   "metadata": {
    "collapsed": false
   },
   "outputs": [
    {
     "data": {
      "text/plain": [
       "[array([-0.11665466, -0.11131057, -0.11583314]),\n",
       " array([-0.3135188 , -0.30775616, -0.31905701]),\n",
       " array([-0.29630674, -0.30533181, -0.30735962]),\n",
       " array([-0.3609437 , -0.36251877, -0.3633638 ]),\n",
       " array([-0.18694726, -0.18624939, -0.18571111]),\n",
       " array([-0.38349447, -0.36652894, -0.37572808]),\n",
       " array([-0.50196789, -0.50959922, -0.5026008 ])]"
      ]
     },
     "execution_count": 27,
     "metadata": {},
     "output_type": "execute_result"
    }
   ],
   "source": [
    "run()"
   ]
  },
  {
   "cell_type": "code",
   "execution_count": 41,
   "metadata": {
    "collapsed": false
   },
   "outputs": [
    {
     "name": "stdout",
     "output_type": "stream",
     "text": [
      "Other\n",
      "[ 0.41335769  0.23836312  0.34827919]\n",
      "0.493646743899\n",
      "Bunker\n",
      "[ 0.53774321  0.19835877  0.26389802]\n",
      "0.372257282426\n",
      "Fringe\n",
      "[ 0.46624475  0.22086954  0.31288571]\n",
      "0.182508595153\n",
      "Primary Rough\n",
      "[ 0.56121132  0.17140679  0.26738189]\n",
      "0.361347962243\n",
      "Intermediate Rough\n",
      "[ 0.56586519  0.19200746  0.24212735]\n",
      "0.300202209856\n",
      "Fairway\n",
      "[ 0.6112764   0.16812388  0.22059972]\n",
      "0.31740937289\n",
      "Green\n",
      "[ 0.69468874  0.30531126]\n",
      "0.115458066078\n"
     ]
    },
    {
     "data": {
      "text/plain": [
       "[0.4936467438990713,\n",
       " 0.37225728242567796,\n",
       " 0.1825085951531437,\n",
       " 0.36134796224265625,\n",
       " 0.30020220985632007,\n",
       " 0.31740937288979143,\n",
       " 0.11545806607753986]"
      ]
     },
     "execution_count": 41,
     "metadata": {},
     "output_type": "execute_result"
    }
   ],
   "source": [
    "run()"
   ]
  },
  {
   "cell_type": "code",
   "execution_count": 43,
   "metadata": {
    "collapsed": false
   },
   "outputs": [
    {
     "data": {
      "text/plain": [
       "0.45785217793734079"
      ]
     },
     "execution_count": 43,
     "metadata": {},
     "output_type": "execute_result"
    }
   ],
   "source": [
    "(((data.Cat==\"Green\").sum()*0.11545806607753986 +\n",
    " (data.Cat==\"Fairway\").sum()*0.31740937289 +\n",
    " (data.Cat==\"Intermediate Rough\").sum()*0.300202209856 +\n",
    " (data.Cat==\"Primary Rough\").sum()*0.361347962243 +\n",
    " (data.Cat==\"Fringe\").sum()*0.182508595153 + \n",
    " (data.Cat==\"Bunker\").sum()*0.372257282426 +\n",
    " (data.Cat==\"Other\").sum()*0.493646743899)/len(data))**.5"
   ]
  },
  {
   "cell_type": "code",
   "execution_count": 36,
   "metadata": {
    "collapsed": true
   },
   "outputs": [],
   "source": [
    "data = data[data.Cat==\"Green\"]"
   ]
  },
  {
   "cell_type": "code",
   "execution_count": 18,
   "metadata": {
    "collapsed": false
   },
   "outputs": [],
   "source": [
    "X = data.values[:,2:].astype(float)"
   ]
  },
  {
   "cell_type": "code",
   "execution_count": 37,
   "metadata": {
    "collapsed": true
   },
   "outputs": [],
   "source": [
    "y = data.values[:,0]"
   ]
  },
  {
   "cell_type": "code",
   "execution_count": 38,
   "metadata": {
    "collapsed": false
   },
   "outputs": [
    {
     "data": {
      "text/plain": [
       "7"
      ]
     },
     "execution_count": 38,
     "metadata": {},
     "output_type": "execute_result"
    }
   ],
   "source": [
    "X = data.values[:,np.array([2,4])]\n",
    "data = None\n",
    "gc.collect()"
   ]
  },
  {
   "cell_type": "code",
   "execution_count": 39,
   "metadata": {
    "collapsed": false
   },
   "outputs": [
    {
     "data": {
      "text/plain": [
       "GradientBoostingRegressor(alpha=0.9, init=None, learning_rate=0.01, loss='ls',\n",
       "             max_depth=3, max_features=None, max_leaf_nodes=None,\n",
       "             min_samples_leaf=1, min_samples_split=2,\n",
       "             min_weight_fraction_leaf=0.0, n_estimators=1000,\n",
       "             presort='auto', random_state=None, subsample=0.5, verbose=0,\n",
       "             warm_start=False)"
      ]
     },
     "execution_count": 39,
     "metadata": {},
     "output_type": "execute_result"
    }
   ],
   "source": [
    "gbr.fit(X,y)"
   ]
  },
  {
   "cell_type": "code",
   "execution_count": 10,
   "metadata": {
    "collapsed": true
   },
   "outputs": [],
   "source": [
    "from sklearn.ensemble.partial_dependence import plot_partial_dependence"
   ]
  },
  {
   "cell_type": "code",
   "execution_count": 41,
   "metadata": {
    "collapsed": false
   },
   "outputs": [
    {
     "data": {
      "image/png": "[encoded data removed]",
      "text/plain": [
       "<matplotlib.figure.Figure at 0x14f9f3810>"
      ]
     },
     "metadata": {},
     "output_type": "display_data"
    }
   ],
   "source": [
    "fig,axs = plot_partial_dependence(gbr,X,[1],feature_names='distance',n_jobs=1,grid_resolution=50)"
   ]
  },
  {
   "cell_type": "code",
   "execution_count": 7,
   "metadata": {
    "collapsed": false
   },
   "outputs": [],
   "source": [
    "cols = ['Cat','Shots_taken_from_location','Started_at_Z',\n",
    "        'Distance_from_hole','Hole','Round','Course_#','Year','Green_to_work_with']\n",
    "data = pd.concat([pd.read_csv('./../data/%d.csv' % year)[cols] for year in range(2003,2017)])"
   ]
  },
  {
   "cell_type": "code",
   "execution_count": 8,
   "metadata": {
    "collapsed": true
   },
   "outputs": [],
   "source": [
    "data.insert(len(data.columns),'Year-Course',data.Year.astype(str).str.cat(data['Course_#'].astype(str),sep='-'))\n",
    "data.insert(len(data.columns),'Hole-Course',data.Hole.astype(str).str.cat(data['Course_#'].astype(str),sep='-'))\n",
    "data.insert(len(data.columns),'Round-Year-Course',data.Round.astype(str).str.cat([data.Year.astype(str),data['Course_#'].astype(str)],sep='-'))\n",
    "data.insert(len(data.columns),'Hole-Year-Course',data.Hole.astype(str).str.cat([data.Year.astype(str),data['Course_#'].astype(str)],sep='-'))\n",
    "data = data.reset_index(drop=True)"
   ]
  },
  {
   "cell_type": "code",
   "execution_count": 9,
   "metadata": {
    "collapsed": false
   },
   "outputs": [],
   "source": [
    "with open('./../PickleFiles/xgboost_results.pkl','r') as pickleFile:\n",
    "    hyperparams = pickle.load(pickleFile)"
   ]
  },
  {
   "cell_type": "code",
   "execution_count": 10,
   "metadata": {
    "collapsed": true
   },
   "outputs": [],
   "source": [
    "complexity_choices = ['with_course','with_year-course','with_hole-course','with_round-year-course']\n",
    "complexity_choice = {'Green':1,'Fairway':3,'Intermediate Rough':3,'Primary Rough':3,'Fringe':0,'Bunker':2,'Other':0}\n",
    "cols = ['Course_#','Year-Course','Hole-Course','Round-Year-Course','Hole-Year-Course']"
   ]
  },
  {
   "cell_type": "code",
   "execution_count": 11,
   "metadata": {
    "collapsed": true
   },
   "outputs": [],
   "source": [
    "le = LabelEncoder()\n",
    "lb = LabelBinarizer(sparse_output=True)"
   ]
  },
  {
   "cell_type": "code",
   "execution_count": 18,
   "metadata": {
    "collapsed": true
   },
   "outputs": [],
   "source": [
    "def fit(gamma,max_depth,alpha,lamb,min_child_weight,subsample):\n",
    "    params = {'objective':'reg:linear','eta':.15,'gamma':gamma,'max_depth':int(max_depth),'alpha':alpha,'lambda':lamb,\n",
    "              'min_child_weight':int(min_child_weight),'subsample':subsample,'silent':1,'tree_method':'approx'}\n",
    "    cv_folds = 5\n",
    "    early_stopping_rounds = 50\n",
    "    cv = GroupShuffleSplit(n_splits=cv_folds, test_size=0.2)\n",
    "    errors = []\n",
    "    for train,test in cv.split(X,y,groups):\n",
    "        dtrain = xgb.DMatrix(X[train],label=y[train])\n",
    "        dtest = xgb.DMatrix(X[test],label=y[test])\n",
    "        watchlist  = [(dtrain,'train'),(dtest,'eval')]\n",
    "        num_round = 100000\n",
    "        bst = xgb.train(params,dtrain,num_round,watchlist,early_stopping_rounds=early_stopping_rounds,verbose_eval=False)\n",
    "        error = np.mean((bst.predict(dtest,ntree_limit=bst.best_iteration) - y[test])**2)\n",
    "        errors.append(error)\n",
    "    fit.errors.append(errors)\n",
    "    return 1/np.array(errors).mean()"
   ]
  },
  {
   "cell_type": "code",
   "execution_count": 24,
   "metadata": {
    "collapsed": false,
    "scrolled": true
   },
   "outputs": [
    {
     "name": "stdout",
     "output_type": "stream",
     "text": [
      "******************* DOING Green *******************\n",
      "1 2\n",
      "\u001b[31mInitialization\u001b[0m\n",
      "\u001b[94m------------------------------------------------------------------------------------------------------------------\u001b[0m\n",
      " Step |   Time |      Value |     alpha |     gamma |      lamb |   max_depth |   min_child_weight |   subsample | \n",
      "    1 | 07m13s | \u001b[35m   8.63820\u001b[0m | \u001b[32m   0.0136\u001b[0m | \u001b[32m   3.7270\u001b[0m | \u001b[32m   0.8258\u001b[0m | \u001b[32m     4.0605\u001b[0m | \u001b[32m            4.4926\u001b[0m | \u001b[32m     0.8326\u001b[0m | \n",
      "    2 | 08m41s | \u001b[35m   8.66270\u001b[0m | \u001b[32m   0.4396\u001b[0m | \u001b[32m   2.6829\u001b[0m | \u001b[32m   0.2862\u001b[0m | \u001b[32m     6.7861\u001b[0m | \u001b[32m            6.7245\u001b[0m | \u001b[32m     0.7513\u001b[0m | \n",
      "    3 | 09m56s |    8.65294 |    0.0897 |    1.7360 |    2.7111 |      3.9380 |             3.8502 |      0.5952 | \n",
      "    4 | 06m24s |    8.64985 |    0.1925 |    3.8623 |    0.6154 |      4.1147 |             9.5704 |      0.9095 | \n",
      "    5 | 07m25s |    8.64391 |    0.0524 |    3.8630 |    2.9767 |      5.9769 |             8.4278 |      0.9913 | \n",
      "\u001b[31mBayesian Optimization\u001b[0m\n",
      "\u001b[94m------------------------------------------------------------------------------------------------------------------\u001b[0m\n",
      " Step |   Time |      Value |     alpha |     gamma |      lamb |   max_depth |   min_child_weight |   subsample | \n",
      "    6 | 10m40s |    8.64460 |    0.5000 |    0.0000 |    0.0000 |     10.0000 |            10.0000 |      0.5000 | \n",
      "    7 | 06m47s |    8.65090 |    0.5000 |    0.0000 |    0.4950 |      4.3836 |             7.3717 |      0.5000 | \n",
      "    8 | 09m09s |    8.65522 |    0.5000 |    0.0014 |    3.6940 |      9.9088 |             1.4034 |      0.9586 | \n",
      "    9 | 09m47s |    8.62956 |    0.4929 |    0.3713 |    2.1541 |      9.1272 |             3.6825 |      0.8777 | \n",
      "   10 | 13m00s |    8.64470 |    0.5000 |    1.9666 |    4.0000 |      6.8151 |             1.0000 |      0.5000 | \n",
      "   11 | 13m15s |    8.64522 |    0.1353 |    3.7573 |    0.0086 |      8.7459 |             9.1111 |      0.5000 | \n",
      "   12 | 05m31s |    8.64585 |    0.5000 |    0.0000 |    4.0000 |      4.7597 |             1.0000 |      1.0000 | \n",
      "   13 | 07m36s | \u001b[35m   8.66778\u001b[0m | \u001b[32m   0.0338\u001b[0m | \u001b[32m   2.4274\u001b[0m | \u001b[32m   0.0171\u001b[0m | \u001b[32m     6.6846\u001b[0m | \u001b[32m            7.8873\u001b[0m | \u001b[32m     0.9464\u001b[0m | \n",
      "   14 | 08m46s |    8.64424 |    0.0572 |    0.2174 |    0.9695 |      7.4021 |             9.2165 |      0.5015 | \n",
      "   15 | 05m29s |    8.66142 |    0.4221 |    1.6285 |    3.0982 |      4.5581 |             6.0765 |      1.0000 | \n",
      "   16 | 07m44s | \u001b[35m   8.67103\u001b[0m | \u001b[32m   0.0355\u001b[0m | \u001b[32m   1.6530\u001b[0m | \u001b[32m   0.4474\u001b[0m | \u001b[32m     5.9170\u001b[0m | \u001b[32m            6.9929\u001b[0m | \u001b[32m     0.9269\u001b[0m | \n",
      "   17 | 10m18s |    8.63518 |    0.0000 |    0.7355 |    2.7406 |      2.6757 |             8.0524 |      0.9886 | \n",
      "   18 | 05m54s |    8.63189 |    0.4810 |    0.4915 |    1.3230 |      5.2593 |             4.9640 |      1.0000 | \n",
      "   19 | 06m57s |    8.66189 |    0.4039 |    2.0150 |    1.0517 |      4.5164 |             7.6174 |      0.9323 | \n",
      "   20 | 08m43s |    8.65452 |    0.1843 |    1.8873 |    3.6075 |      4.3075 |             6.0299 |      0.5802 | \n",
      "   21 | 10m57s |    8.63634 |    0.4287 |    2.0909 |    3.7539 |      9.0373 |             6.4535 |      0.9933 | \n",
      "   22 | 06m04s |    8.61769 |    0.2662 |    3.8573 |    3.4909 |      2.3524 |             3.4438 |      0.9770 | \n",
      "   23 | 10m28s |    8.64911 |    0.0602 |    3.7341 |    3.4254 |      9.7123 |             1.0853 |      0.8924 | \n",
      "   24 | 09m49s |    8.63577 |    0.0062 |    2.0657 |    3.7497 |      7.8615 |             2.4251 |      0.8973 | \n",
      "   25 | 10m49s |    8.63917 |    0.0384 |    1.1882 |    0.2377 |      9.1356 |             1.2339 |      0.8698 | \n",
      "   26 | 11m43s |    8.64912 |    0.0000 |    1.9289 |    0.8251 |      6.1369 |             7.2737 |      0.5000 | \n",
      "   27 | 10m58s |    8.64422 |    0.2830 |    1.3885 |    0.2574 |      7.3824 |             8.7638 |      0.9762 | \n",
      "   28 | 04m54s |    8.64601 |    0.0189 |    0.7057 |    0.4178 |      3.5832 |             6.9604 |      1.0000 | \n",
      "   29 | 07m18s |    8.63605 |    0.0918 |    3.9242 |    0.1405 |      5.0747 |             8.1898 |      0.9551 | \n",
      "   30 | 05m12s |    8.64095 |    0.3334 |    1.4139 |    3.7982 |      4.6248 |             9.7753 |      1.0000 | \n",
      "******************* DOING Fairway *******************\n",
      "0 1\n",
      "\u001b[31mInitialization\u001b[0m\n",
      "\u001b[94m------------------------------------------------------------------------------------------------------------------\u001b[0m\n",
      " Step |   Time |      Value |     alpha |     gamma |      lamb |   max_depth |   min_child_weight |   subsample | \n",
      "    1 | 03m09s | \u001b[35m   3.13740\u001b[0m | \u001b[32m   0.0149\u001b[0m | \u001b[32m   1.0946\u001b[0m | \u001b[32m   3.7743\u001b[0m | \u001b[32m     5.6147\u001b[0m | \u001b[32m            5.5173\u001b[0m | \u001b[32m     0.5170\u001b[0m | \n",
      "    2 | 03m57s |    3.13396 |    0.3274 |    2.3252 |    3.6509 |      2.8845 |             1.7233 |      0.7186 | \n",
      "    3 | 03m14s |    3.13254 |    0.2054 |    0.8215 |    0.9157 |      7.5450 |             6.5629 |      0.8269 | \n",
      "    4 | 02m01s | \u001b[35m   3.14513\u001b[0m | \u001b[32m   0.4072\u001b[0m | \u001b[32m   3.3178\u001b[0m | \u001b[32m   0.2167\u001b[0m | \u001b[32m     2.8429\u001b[0m | \u001b[32m            7.5908\u001b[0m | \u001b[32m     0.8023\u001b[0m | \n",
      "    5 | 02m59s |    3.13443 |    0.3382 |    0.8409 |    3.3839 |      6.0087 |             5.0439 |      0.7103 | \n",
      "\u001b[31mBayesian Optimization\u001b[0m\n",
      "\u001b[94m------------------------------------------------------------------------------------------------------------------\u001b[0m\n",
      " Step |   Time |      Value |     alpha |     gamma |      lamb |   max_depth |   min_child_weight |   subsample | \n",
      "    6 | 02m13s |    3.13086 |    0.0000 |    4.0000 |    4.0000 |      2.0000 |            10.0000 |      0.5000 | \n",
      "    7 | 03m28s |    3.13941 |    0.0000 |    0.0000 |    0.1506 |      2.0000 |             4.6266 |      1.0000 | \n",
      "    8 | 02m27s |    3.13855 |    0.0000 |    2.9630 |    0.4569 |      4.8114 |             4.8433 |      0.5000 | \n",
      "    9 | 02m29s |    3.13112 |    0.0000 |    2.1431 |    0.4632 |      2.4510 |             8.2973 |      0.8363 | \n",
      "   10 | 02m34s |    3.12670 |    0.5000 |    3.9864 |    3.1788 |      3.7194 |             6.2327 |      0.8927 | \n",
      "   11 | 03m29s |    3.13456 |    0.4699 |    4.0000 |    0.7456 |      2.9480 |             9.9256 |      0.5000 | \n",
      "   12 | 04m49s |    3.13817 |    0.5000 |    0.7883 |    3.3647 |      2.0239 |             3.6651 |      0.5000 | \n",
      "   13 | 02m12s |    3.13769 |    0.3940 |    3.3708 |    0.3738 |      3.1348 |             1.3526 |      0.9396 | \n",
      "   14 | 05m32s |    3.14208 |    0.2530 |    0.0039 |    1.6868 |      9.7098 |             1.8159 |      0.5000 | \n",
      "   15 | 05m24s |    3.14198 |    0.0000 |    0.0000 |    0.0855 |      2.0000 |             2.5498 |      0.5000 | \n",
      "   16 | 04m22s |    3.13628 |    0.2227 |    3.7332 |    2.9868 |     10.0000 |             3.9868 |      0.5000 | \n",
      "   17 | 03m03s |    3.12637 |    0.3936 |    3.6967 |    4.0000 |     10.0000 |             9.3978 |      1.0000 | \n",
      "   18 | 03m43s |    3.13852 |    0.0000 |    0.1379 |    3.9759 |      8.5588 |             5.6557 |      0.6121 | \n",
      "   19 | 03m38s |    3.13277 |    0.0000 |    0.0604 |    0.0000 |      6.5853 |             2.5753 |      0.5000 | \n",
      "   20 | 03m35s |    3.13337 |    0.0070 |    1.6528 |    0.1259 |      2.2537 |             5.5622 |      0.5305 | \n",
      "   21 | 03m22s |    3.14197 |    0.2102 |    3.6893 |    0.2025 |      9.0059 |             3.7105 |      0.9119 | \n",
      "   22 | 03m13s |    3.13313 |    0.4835 |    3.5084 |    0.0803 |      6.2610 |             7.8457 |      0.6419 | \n",
      "   23 | 03m06s |    3.13723 |    0.0000 |    0.0000 |    0.0000 |      2.0000 |             1.7583 |      1.0000 | \n",
      "   24 | 03m56s |    3.13654 |    0.0000 |    0.0000 |    2.7232 |     10.0000 |             2.4006 |      0.9711 | \n",
      "   25 | 03m58s |    3.12662 |    0.5000 |    4.0000 |    0.0000 |      8.4936 |             1.9042 |      0.5169 | \n",
      "   26 | 03m53s |    3.13888 |    0.1664 |    2.4309 |    0.3996 |      9.8120 |             4.0573 |      0.5000 | \n",
      "   27 | 02m36s |    3.13623 |    0.2165 |    0.0000 |    3.4203 |      4.2547 |             3.4114 |      0.5424 | \n",
      "   28 | 03m47s |    3.13143 |    0.2004 |    3.8240 |    0.4434 |      9.6816 |             6.5535 |      0.9108 | \n",
      "   29 | 02m05s |    3.13319 |    0.1673 |    3.9518 |    0.9411 |      2.5613 |             7.5445 |      0.9361 | \n",
      "   30 | 02m18s |    3.13303 |    0.4270 |    3.3874 |    0.2020 |      3.6474 |             6.5265 |      0.9637 | \n",
      "1 2\n",
      "\u001b[31mInitialization\u001b[0m\n",
      "\u001b[94m------------------------------------------------------------------------------------------------------------------\u001b[0m\n",
      " Step |   Time |      Value |     alpha |     gamma |      lamb |   max_depth |   min_child_weight |   subsample | \n",
      "    1 | 08m47s | \u001b[35m   3.13911\u001b[0m | \u001b[32m   0.4797\u001b[0m | \u001b[32m   0.5808\u001b[0m | \u001b[32m   2.6072\u001b[0m | \u001b[32m     2.3029\u001b[0m | \u001b[32m            5.2388\u001b[0m | \u001b[32m     0.7820\u001b[0m | \n",
      "    2 | 05m43s | \u001b[35m   3.14064\u001b[0m | \u001b[32m   0.2835\u001b[0m | \u001b[32m   0.0728\u001b[0m | \u001b[32m   1.4339\u001b[0m | \u001b[32m     3.5604\u001b[0m | \u001b[32m            9.5273\u001b[0m | \u001b[32m     0.5932\u001b[0m | \n",
      "    3 | 04m52s |    3.13883 |    0.4869 |    2.0318 |    2.4176 |      6.9492 |             9.1912 |      0.6862 | \n",
      "    4 | 04m53s | \u001b[35m   3.14930\u001b[0m | \u001b[32m   0.4273\u001b[0m | \u001b[32m   3.3199\u001b[0m | \u001b[32m   2.3061\u001b[0m | \u001b[32m     9.3854\u001b[0m | \u001b[32m            5.4987\u001b[0m | \u001b[32m     0.5159\u001b[0m | \n",
      "    5 | 04m27s |    3.14428 |    0.0653 |    3.5652 |    3.4070 |      5.3719 |             2.9612 |      0.7756 | \n",
      "\u001b[31mBayesian Optimization\u001b[0m\n",
      "\u001b[94m------------------------------------------------------------------------------------------------------------------\u001b[0m\n",
      " Step |   Time |      Value |     alpha |     gamma |      lamb |   max_depth |   min_child_weight |   subsample | \n",
      "    6 | 06m29s |    3.14806 |    0.0000 |    4.0000 |    0.0000 |     10.0000 |             1.0000 |      0.5000 | \n",
      "    7 | 03m59s | \u001b[35m   3.14976\u001b[0m | \u001b[32m   0.2864\u001b[0m | \u001b[32m   0.9132\u001b[0m | \u001b[32m   3.0557\u001b[0m | \u001b[32m     9.6748\u001b[0m | \u001b[32m            4.7762\u001b[0m | \u001b[32m     0.6825\u001b[0m | \n",
      "    8 | 04m42s | \u001b[35m   3.15501\u001b[0m | \u001b[32m   0.0000\u001b[0m | \u001b[32m   2.1068\u001b[0m | \u001b[32m   3.0487\u001b[0m | \u001b[32m     9.5408\u001b[0m | \u001b[32m            1.9280\u001b[0m | \u001b[32m     0.6741\u001b[0m | \n",
      "    9 | 03m54s |    3.14450 |    0.3092 |    0.3183 |    3.6071 |      9.9034 |             1.2529 |      0.7319 | \n",
      "   10 | 03m29s |    3.14012 |    0.0317 |    1.5480 |    0.0000 |      8.4433 |             4.7493 |      1.0000 | \n",
      "   11 | 06m24s |    3.14180 |    0.1730 |    3.6610 |    3.5434 |      9.3021 |             6.8589 |      0.9523 | \n",
      "   12 | 06m47s |    3.14929 |    0.0167 |    3.7835 |    2.9633 |      9.6775 |             1.4902 |      0.5000 | \n",
      "   13 | 03m35s |    3.14585 |    0.0799 |    1.2290 |    2.1214 |      7.8244 |             2.3613 |      0.6309 | \n",
      "   14 | 05m07s |    3.14418 |    0.0226 |    2.7704 |    1.6548 |      9.8353 |             3.9916 |      0.5727 | \n",
      "   15 | 06m52s |    3.14136 |    0.4335 |    3.4589 |    3.4677 |      8.9354 |             3.2811 |      0.9335 | \n",
      "   16 | 07m43s |    3.15169 |    0.0000 |    3.4504 |    0.2944 |      2.0000 |             3.6392 |      0.7819 | \n",
      "   17 | 07m39s |    3.15059 |    0.3694 |    3.6994 |    0.0730 |      3.5802 |             7.3578 |      0.8734 | \n",
      "   18 | 09m44s |    3.13852 |    0.0405 |    3.7616 |    1.8979 |      2.8114 |             5.7933 |      0.5000 | \n",
      "   19 | 07m59s |    3.14101 |    0.4314 |    3.0995 |    0.0104 |      2.6115 |             1.7457 |      0.8588 | \n",
      "   20 | 08m10s |    3.14737 |    0.1438 |    4.0000 |    0.0000 |      2.0000 |            10.0000 |      0.5000 | \n",
      "   21 | 04m53s |    3.14234 |    0.2086 |    3.1259 |    0.0000 |      7.8460 |             7.8655 |      0.5000 | \n",
      "   22 | 07m22s |    3.14187 |    0.0000 |    2.2835 |    0.0000 |      3.4331 |             4.5002 |      0.5000 | \n",
      "   23 | 03m40s |    3.14099 |    0.5000 |    0.0000 |    0.0000 |     10.0000 |             8.3560 |      1.0000 | \n",
      "   24 | 09m05s |    3.14518 |    0.0124 |    1.4202 |    0.0313 |      2.0710 |             7.9220 |      0.5000 | \n",
      "   25 | 09m09s |    3.13749 |    0.0404 |    1.3481 |    3.9067 |      2.5477 |             1.6403 |      0.8157 | \n",
      "   26 | 04m05s |    3.14287 |    0.4471 |    1.9873 |    2.3688 |     10.0000 |             1.0941 |      0.7865 | \n",
      "   27 | 03m51s |    3.13849 |    0.0406 |    0.1724 |    3.8075 |      8.1464 |             6.3489 |      0.6920 | \n",
      "   28 | 04m29s |    3.15007 |    0.0000 |    2.7412 |    3.5305 |      7.9529 |             1.0000 |      0.5000 | \n",
      "   29 | 04m01s |    3.15093 |    0.4777 |    0.9554 |    1.5964 |      9.7931 |             9.9951 |      0.6117 | \n",
      "   30 | 06m39s |    3.14235 |    0.4057 |    3.4488 |    0.6424 |     10.0000 |             8.0888 |      0.7774 | \n",
      "2 3\n",
      "\u001b[31mInitialization\u001b[0m\n",
      "\u001b[94m------------------------------------------------------------------------------------------------------------------\u001b[0m\n",
      " Step |   Time |      Value |     alpha |     gamma |      lamb |   max_depth |   min_child_weight |   subsample | \n",
      "    1 | 04m07s | \u001b[35m   3.15004\u001b[0m | \u001b[32m   0.2319\u001b[0m | \u001b[32m   0.0133\u001b[0m | \u001b[32m   1.8443\u001b[0m | \u001b[32m     9.9172\u001b[0m | \u001b[32m            8.5240\u001b[0m | \u001b[32m     0.6387\u001b[0m | \n",
      "    2 | 04m14s |    3.14621 |    0.1931 |    3.8668 |    2.5756 |      2.0009 |             5.1041 |      0.9839 | \n",
      "    3 | 04m01s |    3.14478 |    0.4746 |    2.0723 |    1.3863 |      8.4166 |             5.3084 |      0.5195 | \n",
      "    4 | 09m47s |    3.14528 |    0.0653 |    1.2762 |    0.5991 |      2.3253 |             5.9713 |      0.7635 | \n",
      "    5 | 05m36s | \u001b[35m   3.15049\u001b[0m | \u001b[32m   0.0159\u001b[0m | \u001b[32m   2.1123\u001b[0m | \u001b[32m   2.3322\u001b[0m | \u001b[32m     4.3344\u001b[0m | \u001b[32m            4.4710\u001b[0m | \u001b[32m     0.9453\u001b[0m | \n",
      "\u001b[31mBayesian Optimization\u001b[0m\n",
      "\u001b[94m------------------------------------------------------------------------------------------------------------------\u001b[0m\n",
      " Step |   Time |      Value |     alpha |     gamma |      lamb |   max_depth |   min_child_weight |   subsample | \n",
      "    6 | 09m04s |    3.14714 |    0.0000 |    0.0000 |    4.0000 |      2.0000 |             1.0000 |      1.0000 | \n",
      "    7 | 03m32s |    3.14505 |    0.0648 |    0.3598 |    3.2762 |      5.9266 |             8.6418 |      0.6637 | \n",
      "    8 | 04m02s |    3.14749 |    0.0000 |    0.8393 |    1.4231 |      9.1540 |             1.0099 |      0.9188 | \n",
      "    9 | 04m05s |    3.14488 |    0.1222 |    1.6856 |    0.0000 |      9.2348 |             7.4528 |      0.9688 | \n",
      "   10 | 04m13s |    3.15005 |    0.0558 |    1.3817 |    3.7391 |      9.8245 |             5.5582 |      0.8547 | \n",
      "   11 | 03m30s |    3.14273 |    0.0780 |    0.0500 |    2.8537 |      6.5576 |             3.9756 |      0.8765 | \n",
      "   12 | 04m41s | \u001b[35m   3.15094\u001b[0m | \u001b[32m   0.2761\u001b[0m | \u001b[32m   3.9247\u001b[0m | \u001b[32m   1.9569\u001b[0m | \u001b[32m     4.7076\u001b[0m | \u001b[32m            2.0494\u001b[0m | \u001b[32m     0.5501\u001b[0m | \n",
      "   13 | 04m37s |    3.14414 |    0.0000 |    4.0000 |    4.0000 |     10.0000 |            10.0000 |      1.0000 | \n",
      "   14 | 08m52s |    3.14507 |    0.0000 |    2.1820 |    0.3743 |      2.5373 |             1.5544 |      0.8992 | \n",
      "   15 | 04m30s |    3.14535 |    0.0000 |    3.7593 |    2.6804 |      5.1963 |             1.6676 |      0.5000 | \n",
      "   16 | 04m00s | \u001b[35m   3.15655\u001b[0m | \u001b[32m   0.4148\u001b[0m | \u001b[32m   3.0041\u001b[0m | \u001b[32m   0.6056\u001b[0m | \u001b[32m    10.0000\u001b[0m | \u001b[32m            1.0000\u001b[0m | \u001b[32m     1.0000\u001b[0m | \n",
      "   17 | 03m04s |    3.13971 |    0.5000 |    4.0000 |    0.4427 |      6.4602 |             1.5016 |      1.0000 | \n",
      "   18 | 05m53s |    3.15245 |    0.4689 |    1.8653 |    3.2083 |      3.1659 |             3.7382 |      0.6218 | \n",
      "   19 | 04m12s |    3.15241 |    0.2952 |    3.2067 |    3.1942 |     10.0000 |             2.3610 |      0.9114 | \n",
      "   20 | 05m08s |    3.14185 |    0.4778 |    3.4334 |    2.8756 |      4.0086 |             3.7235 |      0.9709 | \n",
      "   21 | 04m34s |    3.14590 |    0.1874 |    2.2882 |    1.0257 |     10.0000 |             1.0000 |      0.5399 | \n",
      "   22 | 09m54s |    3.14209 |    0.1100 |    0.6631 |    3.4109 |      2.0000 |             6.7280 |      0.5000 | \n",
      "   23 | 04m23s |    3.14613 |    0.4137 |    3.7651 |    0.6986 |      9.7825 |             4.7081 |      0.9383 | \n",
      "   24 | 03m41s |    3.15208 |    0.5000 |    0.8755 |    1.9970 |      8.5533 |            10.0000 |      1.0000 | \n",
      "   25 | 09m02s |    3.14941 |    0.2393 |    3.5672 |    1.3816 |      2.6019 |             1.1626 |      0.6097 | \n",
      "   26 | 09m00s |    3.13728 |    0.1494 |    0.5021 |    2.2592 |      2.3075 |             3.3348 |      0.5119 | \n",
      "   27 | 09m14s |    3.14578 |    0.4821 |    3.9837 |    0.1669 |      2.2724 |             7.9411 |      0.7422 | \n",
      "   28 | 03m25s |    3.15028 |    0.4896 |    0.5255 |    3.8898 |      8.9633 |             1.6978 |      1.0000 | \n",
      "   29 | 09m51s |    3.14351 |    0.4362 |    2.1973 |    2.2895 |      2.9481 |             8.7843 |      0.9203 | \n",
      "   30 | 04m25s |    3.15004 |    0.3732 |    3.4216 |    0.0261 |      9.4122 |             9.9950 |      0.7540 | \n",
      "******************* DOING Intermediate Rough *******************\n",
      "0 1\n",
      "\u001b[31mInitialization\u001b[0m\n",
      "\u001b[94m------------------------------------------------------------------------------------------------------------------\u001b[0m\n",
      " Step |   Time |      Value |     alpha |     gamma |      lamb |   max_depth |   min_child_weight |   subsample | \n",
      "    1 | 00m29s | \u001b[35m   3.29054\u001b[0m | \u001b[32m   0.4248\u001b[0m | \u001b[32m   2.6579\u001b[0m | \u001b[32m   2.2775\u001b[0m | \u001b[32m     8.1218\u001b[0m | \u001b[32m            9.7648\u001b[0m | \u001b[32m     0.8671\u001b[0m | \n",
      "    2 | 00m46s | \u001b[35m   3.29407\u001b[0m | \u001b[32m   0.1378\u001b[0m | \u001b[32m   3.9750\u001b[0m | \u001b[32m   3.5335\u001b[0m | \u001b[32m     9.8414\u001b[0m | \u001b[32m            3.5955\u001b[0m | \u001b[32m     0.6938\u001b[0m | \n",
      "    3 | 00m32s | \u001b[35m   3.30477\u001b[0m | \u001b[32m   0.3478\u001b[0m | \u001b[32m   0.1028\u001b[0m | \u001b[32m   0.5924\u001b[0m | \u001b[32m     2.3707\u001b[0m | \u001b[32m            8.8797\u001b[0m | \u001b[32m     0.6498\u001b[0m | \n",
      "    4 | 00m28s |    3.28626 |    0.1744 |    2.7287 |    2.3515 |      7.1862 |             7.9108 |      0.7424 | \n",
      "    5 | 00m27s |    3.30074 |    0.2166 |    2.1952 |    2.4275 |      7.8708 |             5.7599 |      0.8461 | \n",
      "\u001b[31mBayesian Optimization\u001b[0m\n",
      "\u001b[94m------------------------------------------------------------------------------------------------------------------\u001b[0m\n",
      " Step |   Time |      Value |     alpha |     gamma |      lamb |   max_depth |   min_child_weight |   subsample | \n",
      "    6 | 00m27s | \u001b[35m   3.30535\u001b[0m | \u001b[32m   0.5000\u001b[0m | \u001b[32m   0.0000\u001b[0m | \u001b[32m   0.0000\u001b[0m | \u001b[32m    10.0000\u001b[0m | \u001b[32m            1.0000\u001b[0m | \u001b[32m     1.0000\u001b[0m | \n",
      "    7 | 00m21s | \u001b[35m   3.31021\u001b[0m | \u001b[32m   0.5000\u001b[0m | \u001b[32m   0.0000\u001b[0m | \u001b[32m   4.0000\u001b[0m | \u001b[32m    10.0000\u001b[0m | \u001b[32m            4.4748\u001b[0m | \u001b[32m     1.0000\u001b[0m | \n",
      "    8 | 00m35s |    3.28043 |    0.5000 |    0.2471 |    0.5531 |      2.6677 |             1.2929 |      0.6771 | \n",
      "    9 | 00m39s |    3.29963 |    0.2528 |    0.3642 |    0.0000 |      7.9839 |             8.0105 |      0.6009 | \n",
      "   10 | 00m33s |    3.29197 |    0.3012 |    0.0048 |    3.0660 |      2.7549 |             9.4753 |      0.9910 | \n",
      "   11 | 00m34s |    3.30190 |    0.5000 |    2.1489 |    0.5576 |      8.5417 |             3.7267 |      0.8790 | \n",
      "   12 | 00m29s | \u001b[35m   3.31176\u001b[0m | \u001b[32m   0.4967\u001b[0m | \u001b[32m   0.6055\u001b[0m | \u001b[32m   2.5836\u001b[0m | \u001b[32m     8.6648\u001b[0m | \u001b[32m            3.2429\u001b[0m | \u001b[32m     0.9821\u001b[0m | \n",
      "   13 | 00m32s |    3.30104 |    0.5000 |    0.1792 |    2.1715 |      9.1310 |             1.4116 |      0.9718 | \n",
      "   14 | 00m33s |    3.29290 |    0.2059 |    0.3754 |    1.4838 |      7.2400 |             5.7417 |      0.9664 | \n",
      "   15 | 00m34s |    3.29016 |    0.4779 |    1.6412 |    3.1058 |      9.2944 |             4.0612 |      0.9966 | \n",
      "   16 | 00m39s |    3.29397 |    0.0000 |    0.0000 |    2.2723 |      8.2337 |             3.2893 |      0.5000 | \n",
      "   17 | 00m22s |    3.30299 |    0.5000 |    4.0000 |    4.0000 |      3.9601 |             4.2337 |      1.0000 | \n",
      "   18 | 00m19s |    3.29759 |    0.5000 |    4.0000 |    0.0000 |      2.8732 |             9.9848 |      1.0000 | \n",
      "   19 | 00m31s |    3.31125 |    0.5000 |    4.0000 |    0.0619 |     10.0000 |             7.6328 |      1.0000 | \n",
      "   20 | 00m25s |    3.29499 |    0.5000 |    3.7063 |    0.3046 |      5.8820 |             1.8739 |      1.0000 | \n",
      "   21 | 00m24s |    3.30919 |    0.5000 |    0.0000 |    0.0000 |     10.0000 |            10.0000 |      1.0000 | \n",
      "   22 | 00m30s |    3.30135 |    0.5000 |    0.0000 |    4.0000 |      3.2637 |             4.2038 |      0.5000 | \n",
      "   23 | 00m35s |    3.29982 |    0.5000 |    0.4115 |    3.8271 |      5.7838 |             2.2561 |      0.8125 | \n",
      "   24 | 00m16s | \u001b[35m   3.32016\u001b[0m | \u001b[32m   0.5000\u001b[0m | \u001b[32m   4.0000\u001b[0m | \u001b[32m   0.0000\u001b[0m | \u001b[32m     2.0000\u001b[0m | \u001b[32m            6.5563\u001b[0m | \u001b[32m     1.0000\u001b[0m | \n",
      "   25 | 00m34s |    3.30007 |    0.4879 |    2.7325 |    0.1298 |      2.1052 |             5.6545 |      0.5000 | \n",
      "   26 | 00m15s | \u001b[35m   3.32081\u001b[0m | \u001b[32m   0.5000\u001b[0m | \u001b[32m   1.1244\u001b[0m | \u001b[32m   0.6430\u001b[0m | \u001b[32m     2.0000\u001b[0m | \u001b[32m            6.9440\u001b[0m | \u001b[32m     1.0000\u001b[0m | \n",
      "   27 | 00m29s |    3.28473 |    0.5000 |    0.2833 |    4.0000 |      9.9983 |             9.2691 |      1.0000 | \n",
      "   28 | 00m20s |    3.30637 |    0.4592 |    3.7375 |    3.8171 |      2.5971 |             6.1481 |      0.9821 | \n",
      "   29 | 00m28s |    3.31253 |    0.4749 |    3.8318 |    0.9890 |      6.7945 |             6.3982 |      0.8419 | \n",
      "   30 | 00m17s |    3.29745 |    0.5000 |    0.1319 |    3.0947 |      3.5380 |             5.4362 |      1.0000 | \n",
      "1 2\n",
      "\u001b[31mInitialization\u001b[0m\n",
      "\u001b[94m------------------------------------------------------------------------------------------------------------------\u001b[0m\n",
      " Step |   Time |      Value |     alpha |     gamma |      lamb |   max_depth |   min_child_weight |   subsample | \n",
      "    1 | 00m30s | \u001b[35m   3.31274\u001b[0m | \u001b[32m   0.1613\u001b[0m | \u001b[32m   1.8721\u001b[0m | \u001b[32m   3.9911\u001b[0m | \u001b[32m     7.2225\u001b[0m | \u001b[32m            5.9300\u001b[0m | \u001b[32m     0.7404\u001b[0m | \n",
      "    2 | 00m35s |    3.30316 |    0.2818 |    3.7136 |    0.0883 |      6.4140 |             8.3969 |      0.8843 | \n",
      "    3 | 00m23s | \u001b[35m   3.31533\u001b[0m | \u001b[32m   0.2675\u001b[0m | \u001b[32m   0.6537\u001b[0m | \u001b[32m   3.8053\u001b[0m | \u001b[32m     5.0755\u001b[0m | \u001b[32m            1.7552\u001b[0m | \u001b[32m     0.8265\u001b[0m | \n",
      "    4 | 00m47s | \u001b[35m   3.31576\u001b[0m | \u001b[32m   0.0060\u001b[0m | \u001b[32m   1.1226\u001b[0m | \u001b[32m   0.1895\u001b[0m | \u001b[32m     2.9556\u001b[0m | \u001b[32m            1.4034\u001b[0m | \u001b[32m     0.8397\u001b[0m | \n",
      "    5 | 00m25s | \u001b[35m   3.32132\u001b[0m | \u001b[32m   0.3642\u001b[0m | \u001b[32m   0.9736\u001b[0m | \u001b[32m   2.7320\u001b[0m | \u001b[32m     7.5752\u001b[0m | \u001b[32m            9.0173\u001b[0m | \u001b[32m     0.8710\u001b[0m | \n",
      "\u001b[31mBayesian Optimization\u001b[0m\n",
      "\u001b[94m------------------------------------------------------------------------------------------------------------------\u001b[0m\n",
      " Step |   Time |      Value |     alpha |     gamma |      lamb |   max_depth |   min_child_weight |   subsample | \n",
      "    6 | 00m53s |    3.31209 |    0.5000 |    0.0000 |    1.8813 |      2.5486 |             9.3985 |      0.6267 | \n",
      "    7 | 00m35s |    3.28874 |    0.0000 |    0.0000 |    0.0000 |     10.0000 |             1.0000 |      0.7988 | \n",
      "    8 | 00m34s |    3.31850 |    0.1327 |    0.7923 |    3.9849 |      9.8827 |             8.7022 |      0.9627 | \n",
      "    9 | 00m31s |    3.29870 |    0.3798 |    0.2732 |    4.0000 |      7.0007 |            10.0000 |      1.0000 | \n",
      "   10 | 00m35s |    3.29430 |    0.5000 |    0.0000 |    0.0000 |      8.1636 |             7.4700 |      0.5000 | \n",
      "   11 | 00m19s |    3.31346 |    0.5000 |    4.0000 |    4.0000 |      2.0000 |             1.0000 |      1.0000 | \n",
      "   12 | 00m19s |    3.30984 |    0.0801 |    0.6845 |    2.8227 |      2.0000 |             4.0106 |      1.0000 | \n",
      "   13 | 00m56s | \u001b[35m   3.32462\u001b[0m | \u001b[32m   0.3432\u001b[0m | \u001b[32m   3.9446\u001b[0m | \u001b[32m   3.9154\u001b[0m | \u001b[32m     9.8656\u001b[0m | \u001b[32m            9.3656\u001b[0m | \u001b[32m     0.5000\u001b[0m | \n",
      "   14 | 00m40s | \u001b[35m   3.34791\u001b[0m | \u001b[32m   0.5000\u001b[0m | \u001b[32m   4.0000\u001b[0m | \u001b[32m   1.2682\u001b[0m | \u001b[32m     5.6405\u001b[0m | \u001b[32m            1.0000\u001b[0m | \u001b[32m     0.5894\u001b[0m | \n",
      "   15 | 01m10s |    3.33075 |    0.3455 |    3.9301 |    2.8570 |      8.5017 |             1.0000 |      0.5005 | \n",
      "   16 | 00m42s |    3.31058 |    0.3389 |    3.8980 |    1.0891 |      3.6088 |             3.6428 |      0.6725 | \n",
      "   17 | 00m40s |    3.32537 |    0.2008 |    3.7621 |    1.6840 |      6.7827 |             1.5974 |      0.9955 | \n",
      "   18 | 00m53s |    3.31796 |    0.5000 |    1.1972 |    2.2598 |      2.8926 |             1.0000 |      0.5000 | \n",
      "   19 | 01m01s |    3.31570 |    0.0147 |    3.7400 |    2.8950 |      3.6221 |             9.5290 |      0.6676 | \n",
      "   20 | 00m50s |    3.32386 |    0.1363 |    3.4872 |    3.6635 |      7.2260 |             1.0374 |      0.5915 | \n",
      "   21 | 00m35s |    3.30114 |    0.1142 |    2.3291 |    0.4450 |      5.3057 |             1.2502 |      0.5597 | \n",
      "   22 | 00m15s |    3.30772 |    0.5000 |    3.5855 |    0.2430 |      2.4495 |             9.5254 |      1.0000 | \n",
      "   23 | 00m45s |    3.32862 |    0.5000 |    0.0000 |    0.0000 |      2.0260 |             2.7061 |      1.0000 | \n",
      "   24 | 00m31s |    3.30355 |    0.5000 |    2.2020 |    3.9996 |      5.5704 |             7.6045 |      0.9731 | \n",
      "   25 | 00m50s |    3.31516 |    0.4659 |    3.6140 |    3.3914 |      9.1915 |             3.9081 |      0.5893 | \n",
      "   26 | 00m30s |    3.31913 |    0.3310 |    0.9277 |    3.6500 |      9.6108 |             1.3995 |      0.8232 | \n",
      "   27 | 00m31s |    3.31304 |    0.2373 |    1.8842 |    0.7309 |      9.8844 |             9.7189 |      0.7117 | \n",
      "   28 | 00m46s |    3.32169 |    0.1505 |    3.7172 |    0.1498 |      3.2432 |             1.7989 |      0.7034 | \n",
      "   29 | 00m26s |    3.29323 |    0.2888 |    0.0160 |    3.9338 |      8.9362 |             6.4290 |      0.9332 | \n",
      "   30 | 00m28s |    3.31405 |    0.0081 |    0.1237 |    0.2778 |      3.2599 |             9.5619 |      0.6893 | \n",
      "2 3\n",
      "\u001b[31mInitialization\u001b[0m\n",
      "\u001b[94m------------------------------------------------------------------------------------------------------------------\u001b[0m\n",
      " Step |   Time |      Value |     alpha |     gamma |      lamb |   max_depth |   min_child_weight |   subsample | \n",
      "    1 | 00m27s | \u001b[35m   3.32917\u001b[0m | \u001b[32m   0.2748\u001b[0m | \u001b[32m   2.1013\u001b[0m | \u001b[32m   3.0396\u001b[0m | \u001b[32m     7.6166\u001b[0m | \u001b[32m            2.9253\u001b[0m | \u001b[32m     0.9030\u001b[0m | \n",
      "    2 | 00m31s |    3.31918 |    0.3286 |    0.9522 |    3.9753 |      8.1170 |             9.0042 |      0.6860 | \n",
      "    3 | 00m25s | \u001b[35m   3.32999\u001b[0m | \u001b[32m   0.4438\u001b[0m | \u001b[32m   2.3974\u001b[0m | \u001b[32m   3.8097\u001b[0m | \u001b[32m     6.0826\u001b[0m | \u001b[32m            9.4081\u001b[0m | \u001b[32m     0.9274\u001b[0m | \n",
      "    4 | 00m31s |    3.32434 |    0.3799 |    2.0557 |    3.6530 |      8.9228 |             7.7816 |      0.6724 | \n",
      "    5 | 00m30s |    3.30890 |    0.3805 |    0.5441 |    1.3388 |      9.8159 |             4.2663 |      0.9736 | \n",
      "\u001b[31mBayesian Optimization\u001b[0m\n",
      "\u001b[94m------------------------------------------------------------------------------------------------------------------\u001b[0m\n",
      " Step |   Time |      Value |     alpha |     gamma |      lamb |   max_depth |   min_child_weight |   subsample | \n",
      "    6 | 00m50s |    3.30965 |    0.2923 |    4.0000 |    4.0000 |      2.0000 |             1.0000 |      0.5000 | \n",
      "    7 | 00m36s |    3.30659 |    0.2387 |    4.0000 |    4.0000 |      7.9822 |             4.9483 |      1.0000 | \n",
      "    8 | 00m52s |    3.29766 |    0.5000 |    0.0000 |    0.0000 |      2.0000 |             5.4619 |      0.5000 | \n",
      "    9 | 00m32s |    3.31411 |    0.5000 |    0.0000 |    4.0000 |      5.6403 |             1.5271 |      0.5000 | \n",
      "   10 | 00m43s |    3.30655 |    0.5000 |    4.0000 |    0.0000 |      6.5189 |            10.0000 |      0.5000 | \n",
      "   11 | 00m33s | \u001b[35m   3.33725\u001b[0m | \u001b[32m   0.3031\u001b[0m | \u001b[32m   1.9515\u001b[0m | \u001b[32m   3.0499\u001b[0m | \u001b[32m     4.2877\u001b[0m | \u001b[32m            5.9677\u001b[0m | \u001b[32m     0.5000\u001b[0m | \n",
      "   12 | 00m32s |    3.31559 |    0.4995 |    1.5694 |    2.2577 |      6.1966 |             3.5465 |      0.5029 | \n",
      "   13 | 00m59s |    3.31940 |    0.0000 |    1.3078 |    3.9710 |      2.0000 |             9.0928 |      0.6002 | \n",
      "   14 | 00m26s |    3.31750 |    0.0000 |    2.3276 |    4.0000 |      4.8801 |             6.2641 |      1.0000 | \n",
      "   15 | 00m40s |    3.30587 |    0.5000 |    1.0560 |    3.9970 |     10.0000 |             1.0000 |      0.5000 | \n",
      "   16 | 00m42s |    3.32646 |    0.5000 |    4.0000 |    2.4721 |      2.1572 |             8.0122 |      0.6878 | \n",
      "   17 | 00m57s |    3.30632 |    0.5000 |    2.8538 |    2.8492 |      3.7560 |             7.8048 |      0.5000 | \n",
      "   18 | 00m26s |    3.33195 |    0.5000 |    1.3180 |    3.9817 |      2.0296 |             4.5612 |      1.0000 | \n",
      "   19 | 00m22s |    3.31932 |    0.0000 |    3.2414 |    1.7074 |      2.0000 |             5.0358 |      1.0000 | \n",
      "   20 | 00m30s |    3.33096 |    0.5000 |    0.0941 |    4.0000 |      5.2314 |             5.4352 |      0.5000 | \n",
      "   21 | 00m37s |    3.32850 |    0.0000 |    4.0000 |    3.7077 |      9.8817 |             9.3210 |      1.0000 | \n",
      "   22 | 00m36s | \u001b[35m   3.33747\u001b[0m | \u001b[32m   0.0553\u001b[0m | \u001b[32m   1.3077\u001b[0m | \u001b[32m   3.2877\u001b[0m | \u001b[32m     3.0356\u001b[0m | \u001b[32m            4.1734\u001b[0m | \u001b[32m     0.5862\u001b[0m | \n",
      "   23 | 00m36s |    3.31341 |    0.4034 |    0.5675 |    3.3339 |      3.6292 |             5.4925 |      0.5005 | \n",
      "   24 | 00m49s |    3.30785 |    0.0788 |    3.9908 |    4.0000 |      6.8456 |             9.6358 |      0.5000 | \n",
      "   25 | 00m21s |    3.32647 |    0.4660 |    2.4486 |    0.1075 |      2.0000 |            10.0000 |      1.0000 | \n",
      "   26 | 01m09s |    3.29714 |    0.5000 |    2.1765 |    4.0000 |      2.9630 |             3.2495 |      0.5000 | \n",
      "   27 | 00m46s | \u001b[35m   3.34207\u001b[0m | \u001b[32m   0.0000\u001b[0m | \u001b[32m   0.0000\u001b[0m | \u001b[32m   2.9002\u001b[0m | \u001b[32m     2.0000\u001b[0m | \u001b[32m            1.0000\u001b[0m | \u001b[32m     1.0000\u001b[0m | \n",
      "   28 | 00m31s |    3.32390 |    0.0000 |    0.1677 |    3.5596 |      7.1155 |             5.0821 |      1.0000 | \n",
      "   29 | 00m45s |    3.32843 |    0.0000 |    4.0000 |    0.0000 |     10.0000 |             1.0000 |      1.0000 | \n",
      "   30 | 00m36s |    3.31386 |    0.0000 |    2.7983 |    0.6034 |     10.0000 |             8.8294 |      1.0000 | \n",
      "******************* DOING Primary Rough *******************\n",
      "0 1\n",
      "\u001b[31mInitialization\u001b[0m\n",
      "\u001b[94m------------------------------------------------------------------------------------------------------------------\u001b[0m\n",
      " Step |   Time |      Value |     alpha |     gamma |      lamb |   max_depth |   min_child_weight |   subsample | \n",
      "    1 | 01m24s | \u001b[35m   2.72676\u001b[0m | \u001b[32m   0.3574\u001b[0m | \u001b[32m   3.4878\u001b[0m | \u001b[32m   3.2453\u001b[0m | \u001b[32m     6.2716\u001b[0m | \u001b[32m            3.4869\u001b[0m | \u001b[32m     0.8432\u001b[0m | \n",
      "    2 | 01m36s | \u001b[35m   2.73294\u001b[0m | \u001b[32m   0.2975\u001b[0m | \u001b[32m   0.9689\u001b[0m | \u001b[32m   1.1635\u001b[0m | \u001b[32m     7.4886\u001b[0m | \u001b[32m            4.6624\u001b[0m | \u001b[32m     0.6991\u001b[0m | \n",
      "    3 | 01m47s |    2.72529 |    0.1524 |    2.9562 |    3.4170 |      6.5556 |             6.8738 |      0.6298 | \n",
      "    4 | 01m51s |    2.72782 |    0.1055 |    2.7791 |    2.9362 |      8.6837 |             3.0792 |      0.5534 | \n",
      "    5 | 01m04s |    2.73253 |    0.2062 |    3.7835 |    0.2767 |      4.2362 |             4.1333 |      0.7760 | \n",
      "\u001b[31mBayesian Optimization\u001b[0m\n",
      "\u001b[94m------------------------------------------------------------------------------------------------------------------\u001b[0m\n",
      " Step |   Time |      Value |     alpha |     gamma |      lamb |   max_depth |   min_child_weight |   subsample | \n",
      "    6 | 02m24s |    2.73149 |    0.5000 |    0.0000 |    0.0000 |      2.0000 |             1.0000 |      1.0000 | \n",
      "    7 | 01m09s | \u001b[35m   2.73492\u001b[0m | \u001b[32m   0.5000\u001b[0m | \u001b[32m   2.7233\u001b[0m | \u001b[32m   0.0000\u001b[0m | \u001b[32m     7.9755\u001b[0m | \u001b[32m            3.6858\u001b[0m | \u001b[32m     1.0000\u001b[0m | \n",
      "    8 | 01m51s |    2.73271 |    0.4038 |    0.8830 |    0.4916 |      9.0627 |             8.5504 |      0.5610 | \n",
      "    9 | 01m49s | \u001b[35m   2.73717\u001b[0m | \u001b[32m   0.4752\u001b[0m | \u001b[32m   0.2034\u001b[0m | \u001b[32m   0.8792\u001b[0m | \u001b[32m     8.8468\u001b[0m | \u001b[32m            1.4275\u001b[0m | \u001b[32m     0.8328\u001b[0m | \n",
      "   10 | 01m35s |    2.73072 |    0.4298 |    1.4530 |    0.2818 |      9.5913 |             1.2154 |      0.6866 | \n",
      "   11 | 01m34s |    2.73147 |    0.1358 |    0.6930 |    0.1271 |      8.2040 |             2.7532 |      0.9486 | \n",
      "   12 | 01m41s |    2.72425 |    0.1473 |    2.8357 |    0.0053 |      2.2910 |             8.3082 |      0.7950 | \n",
      "   13 | 01m42s |    2.73534 |    0.4662 |    0.2133 |    3.1205 |      8.1596 |             6.0224 |      0.7375 | \n",
      "   14 | 01m11s | \u001b[35m   2.74006\u001b[0m | \u001b[32m   0.5000\u001b[0m | \u001b[32m   0.7516\u001b[0m | \u001b[32m   3.2069\u001b[0m | \u001b[32m     9.4754\u001b[0m | \u001b[32m           10.0000\u001b[0m | \u001b[32m     1.0000\u001b[0m | \n",
      "   15 | 02m04s |    2.73683 |    0.3156 |    0.5784 |    3.4017 |      9.9341 |             8.6045 |      0.7445 | \n",
      "   16 | 01m33s |    2.73114 |    0.3950 |    3.5984 |    0.7039 |      8.8405 |             7.4899 |      0.9974 | \n",
      "   17 | 01m13s |    2.73341 |    0.5000 |    2.6418 |    3.5892 |      9.9682 |             3.8467 |      1.0000 | \n",
      "   18 | 01m26s |    2.73725 |    0.3701 |    0.2869 |    3.2825 |      4.5894 |             1.4409 |      0.6167 | \n",
      "   19 | 01m26s |    2.73838 |    0.2738 |    0.1737 |    3.0999 |      8.1506 |             2.2070 |      0.9063 | \n",
      "   20 | 01m18s |    2.72524 |    0.4537 |    1.4640 |    0.4201 |      5.8545 |             2.0036 |      0.7329 | \n",
      "   21 | 00m43s |    2.72786 |    0.4937 |    0.3690 |    2.3238 |      2.9379 |             4.2940 |      1.0000 | \n",
      "   22 | 01m02s |    2.73612 |    0.4247 |    3.8614 |    3.9474 |      2.0491 |             2.7822 |      0.8024 | \n",
      "   23 | 00m46s |    2.72820 |    0.3448 |    4.0000 |    0.5152 |      3.4161 |             1.3671 |      1.0000 | \n",
      "   24 | 01m49s |    2.71959 |    0.4749 |    0.9478 |    2.8403 |      9.5312 |             3.6180 |      0.6882 | \n",
      "   25 | 00m54s |    2.74003 |    0.2974 |    0.7779 |    3.9315 |      4.3756 |             1.1103 |      1.0000 | \n",
      "   26 | 00m59s |    2.73068 |    0.3255 |    0.0000 |    1.9361 |      7.9488 |             1.4042 |      1.0000 | \n",
      "   27 | 01m38s |    2.73044 |    0.1831 |    0.0176 |    3.5825 |      7.1747 |             8.9553 |      0.6644 | \n",
      "   28 | 01m47s | \u001b[35m   2.74643\u001b[0m | \u001b[32m   0.3852\u001b[0m | \u001b[32m   0.3765\u001b[0m | \u001b[32m   4.0000\u001b[0m | \u001b[32m     6.5141\u001b[0m | \u001b[32m            1.5468\u001b[0m | \u001b[32m     0.5000\u001b[0m | \n",
      "   29 | 01m10s |    2.73053 |    0.5000 |    2.0464 |    3.9173 |      3.0407 |             9.9678 |      0.8469 | \n",
      "   30 | 01m36s |    2.72882 |    0.0000 |    4.0000 |    4.0000 |     10.0000 |             1.0000 |      1.0000 | \n",
      "1 2\n",
      "\u001b[31mInitialization\u001b[0m\n",
      "\u001b[94m------------------------------------------------------------------------------------------------------------------\u001b[0m\n",
      " Step |   Time |      Value |     alpha |     gamma |      lamb |   max_depth |   min_child_weight |   subsample | \n",
      "    1 | 01m33s | \u001b[35m   2.74218\u001b[0m | \u001b[32m   0.3585\u001b[0m | \u001b[32m   3.8398\u001b[0m | \u001b[32m   0.5423\u001b[0m | \u001b[32m     5.9313\u001b[0m | \u001b[32m            6.6498\u001b[0m | \u001b[32m     0.7748\u001b[0m | \n",
      "    2 | 01m25s | \u001b[35m   2.74404\u001b[0m | \u001b[32m   0.3076\u001b[0m | \u001b[32m   0.6009\u001b[0m | \u001b[32m   1.0672\u001b[0m | \u001b[32m     4.8994\u001b[0m | \u001b[32m            8.0170\u001b[0m | \u001b[32m     0.7630\u001b[0m | \n",
      "    3 | 01m37s | \u001b[35m   2.75420\u001b[0m | \u001b[32m   0.3221\u001b[0m | \u001b[32m   1.8749\u001b[0m | \u001b[32m   1.8898\u001b[0m | \u001b[32m     6.6227\u001b[0m | \u001b[32m            9.8805\u001b[0m | \u001b[32m     0.5003\u001b[0m | \n",
      "    4 | 01m47s |    2.74616 |    0.1643 |    2.2544 |    2.1004 |      9.5183 |             2.7702 |      0.8924 | \n",
      "    5 | 02m04s |    2.73984 |    0.1230 |    2.1535 |    3.0086 |      3.2864 |             9.0779 |      0.9512 | \n",
      "\u001b[31mBayesian Optimization\u001b[0m\n",
      "\u001b[94m------------------------------------------------------------------------------------------------------------------\u001b[0m\n",
      " Step |   Time |      Value |     alpha |     gamma |      lamb |   max_depth |   min_child_weight |   subsample | \n",
      "    6 | 01m57s |    2.73649 |    0.5000 |    0.0000 |    4.0000 |     10.0000 |            10.0000 |      0.5000 | \n",
      "    7 | 02m41s |    2.74459 |    0.0000 |    3.8915 |    1.0845 |      6.9829 |             9.5172 |      0.5151 | \n",
      "    8 | 01m38s |    2.75317 |    0.4340 |    0.8711 |    4.0000 |      4.7846 |             1.0000 |      0.5000 | \n",
      "    9 | 01m41s |    2.73889 |    0.4671 |    2.6157 |    0.3447 |      6.3314 |             1.0691 |      0.5000 | \n",
      "   10 | 02m19s |    2.74516 |    0.4287 |    2.8556 |    3.7323 |      7.7966 |             5.4832 |      0.5024 | \n",
      "   11 | 01m50s |    2.74157 |    0.5000 |    0.0000 |    2.0970 |     10.0000 |             1.0000 |      0.5000 | \n",
      "   12 | 01m09s | \u001b[35m   2.75632\u001b[0m | \u001b[32m   0.5000\u001b[0m | \u001b[32m   1.7187\u001b[0m | \u001b[32m   1.1832\u001b[0m | \u001b[32m     6.9438\u001b[0m | \u001b[32m            9.9270\u001b[0m | \u001b[32m     1.0000\u001b[0m | \n",
      "   13 | 01m23s |    2.74168 |    0.2127 |    0.4609 |    2.4231 |      7.0432 |             9.4363 |      0.9933 | \n",
      "   14 | 02m02s |    2.74885 |    0.4425 |    0.3087 |    0.6729 |      2.6480 |             9.8956 |      1.0000 | \n",
      "   15 | 02m30s |    2.74060 |    0.3237 |    3.8692 |    3.9761 |      4.8948 |             2.6661 |      0.5925 | \n",
      "   16 | 01m27s |    2.74604 |    0.4562 |    0.0130 |    0.1500 |      7.1331 |             9.8354 |      0.7445 | \n",
      "   17 | 01m50s |    2.74413 |    0.5000 |    1.8153 |    3.9159 |      8.1230 |             1.4243 |      0.7148 | \n",
      "   18 | 02m13s |    2.74574 |    0.5000 |    4.0000 |    0.4421 |      9.8793 |             8.7547 |      0.5000 | \n",
      "   19 | 03m34s |    2.74350 |    0.5000 |    0.0000 |    0.0000 |      2.0000 |             2.4317 |      0.5000 | \n",
      "   20 | 01m48s |    2.74556 |    0.4544 |    1.6541 |    2.9053 |      2.2786 |             4.0258 |      0.9979 | \n",
      "   21 | 01m24s |    2.74751 |    0.4522 |    0.1231 |    2.7543 |      5.5371 |             3.3361 |      0.5290 | \n",
      "   22 | 02m54s |    2.73750 |    0.1811 |    3.4408 |    0.8812 |      3.3060 |             9.7794 |      0.7375 | \n",
      "   23 | 01m46s |    2.74704 |    0.5000 |    2.5996 |    0.3022 |      6.3913 |             8.6998 |      0.6728 | \n",
      "   24 | 04m04s |    2.73983 |    0.4357 |    0.0599 |    2.8088 |      2.0429 |             1.8572 |      0.5555 | \n",
      "   25 | 01m38s |    2.74774 |    0.2545 |    2.5518 |    2.6199 |      7.7656 |             8.9692 |      0.9662 | \n",
      "   26 | 01m41s |    2.75422 |    0.4436 |    2.9648 |    1.2611 |      6.6501 |             9.8359 |      0.8602 | \n",
      "   27 | 03m23s |    2.75361 |    0.5000 |    4.0000 |    2.9132 |     10.0000 |            10.0000 |      0.8624 | \n",
      "   28 | 01m16s |    2.75262 |    0.4442 |    0.5069 |    1.8093 |      5.7077 |             1.7163 |      0.8216 | \n",
      "   29 | 01m34s |    2.74663 |    0.4311 |    2.2190 |    3.8268 |      5.6100 |             9.9338 |      0.6026 | \n",
      "   30 | 01m31s |    2.74660 |    0.4675 |    1.1492 |    1.2166 |      7.8700 |             3.7836 |      0.9460 | \n",
      "2 3\n",
      "\u001b[31mInitialization\u001b[0m\n",
      "\u001b[94m------------------------------------------------------------------------------------------------------------------\u001b[0m\n",
      " Step |   Time |      Value |     alpha |     gamma |      lamb |   max_depth |   min_child_weight |   subsample | \n",
      "    1 | 02m16s | \u001b[35m   2.76019\u001b[0m | \u001b[32m   0.2739\u001b[0m | \u001b[32m   3.8539\u001b[0m | \u001b[32m   1.6351\u001b[0m | \u001b[32m     8.7119\u001b[0m | \u001b[32m            8.2515\u001b[0m | \u001b[32m     0.7826\u001b[0m | \n",
      "    2 | 01m27s | \u001b[35m   2.76581\u001b[0m | \u001b[32m   0.1537\u001b[0m | \u001b[32m   0.4148\u001b[0m | \u001b[32m   2.0740\u001b[0m | \u001b[32m     5.5180\u001b[0m | \u001b[32m            9.6839\u001b[0m | \u001b[32m     0.5984\u001b[0m | \n",
      "    3 | 01m53s |    2.75356 |    0.0417 |    3.9500 |    0.8782 |      7.2231 |             4.1515 |      0.5091 | \n",
      "    4 | 01m51s |    2.76387 |    0.2878 |    0.2051 |    2.6566 |      4.8610 |             4.2898 |      0.5648 | \n",
      "    5 | 01m42s | \u001b[35m   2.76623\u001b[0m | \u001b[32m   0.4714\u001b[0m | \u001b[32m   3.7725\u001b[0m | \u001b[32m   3.2600\u001b[0m | \u001b[32m     8.6509\u001b[0m | \u001b[32m            3.6714\u001b[0m | \u001b[32m     0.9168\u001b[0m | \n",
      "\u001b[31mBayesian Optimization\u001b[0m\n",
      "\u001b[94m------------------------------------------------------------------------------------------------------------------\u001b[0m\n",
      " Step |   Time |      Value |     alpha |     gamma |      lamb |   max_depth |   min_child_weight |   subsample | \n",
      "    6 | 01m35s | \u001b[35m   2.76752\u001b[0m | \u001b[32m   0.0000\u001b[0m | \u001b[32m   0.0054\u001b[0m | \u001b[32m   4.0000\u001b[0m | \u001b[32m     8.5591\u001b[0m | \u001b[32m            9.3953\u001b[0m | \u001b[32m     1.0000\u001b[0m | \n",
      "    7 | 04m16s |    2.76355 |    0.1011 |    3.3822 |    3.4439 |      2.0000 |             5.0030 |      0.7966 | \n",
      "    8 | 02m27s |    2.76279 |    0.5000 |    3.1520 |    4.0000 |      3.2841 |             8.0038 |      0.9594 | \n",
      "    9 | 01m52s |    2.75994 |    0.5000 |    1.4716 |    3.5273 |      9.9129 |             5.9500 |      0.5000 | \n",
      "   10 | 01m48s |    2.75896 |    0.4423 |    2.4769 |    4.0000 |     10.0000 |             1.6245 |      1.0000 | \n",
      "   11 | 02m05s | \u001b[35m   2.77440\u001b[0m | \u001b[32m   0.5000\u001b[0m | \u001b[32m   0.3775\u001b[0m | \u001b[32m   4.0000\u001b[0m | \u001b[32m     3.2590\u001b[0m | \u001b[32m            7.2605\u001b[0m | \u001b[32m     1.0000\u001b[0m | \n",
      "   12 | 04m20s |    2.76449 |    0.5000 |    0.0000 |    4.0000 |      2.0000 |             5.4841 |      1.0000 | \n",
      "   13 | 01m31s |    2.76699 |    0.0234 |    0.7144 |    3.6636 |      6.0781 |             6.7563 |      0.8076 | \n",
      "   14 | 01m39s |    2.76242 |    0.2628 |    0.7438 |    0.1819 |      2.2694 |             6.3581 |      1.0000 | \n",
      "   15 | 03m51s |    2.76304 |    0.3394 |    3.3440 |    3.5234 |      2.3242 |             1.5777 |      0.5770 | \n",
      "   16 | 01m36s |    2.76278 |    0.5000 |    0.0048 |    3.1046 |      4.0284 |             7.6562 |      0.9889 | \n",
      "   17 | 01m56s |    2.76853 |    0.0501 |    0.8635 |    4.0000 |      4.1081 |             9.2794 |      0.8377 | \n",
      "   18 | 01m36s |    2.76240 |    0.4614 |    3.0252 |    3.8534 |      6.6429 |             3.2047 |      0.8926 | \n",
      "   19 | 02m04s |    2.76628 |    0.0000 |    3.1803 |    3.2636 |     10.0000 |            10.0000 |      0.6353 | \n",
      "   20 | 04m39s |    2.76561 |    0.1439 |    2.2398 |    0.4868 |      2.8392 |             9.8499 |      0.6252 | \n",
      "   21 | 01m54s |    2.76001 |    0.0000 |    0.1702 |    1.8035 |      9.7554 |             9.8140 |      0.5406 | \n",
      "   22 | 03m56s |    2.76781 |    0.2132 |    0.3194 |    2.4305 |      2.2081 |             8.7066 |      0.5094 | \n",
      "   23 | 02m33s |    2.77025 |    0.0264 |    0.4057 |    3.3665 |      3.7409 |             7.4950 |      0.5000 | \n",
      "   24 | 01m49s |    2.76747 |    0.1443 |    1.9039 |    3.9865 |      8.2217 |             9.8070 |      0.5986 | \n",
      "   25 | 04m00s |    2.75739 |    0.0000 |    1.0124 |    3.8214 |      2.9726 |             7.3312 |      0.7067 | \n",
      "   26 | 03m52s |    2.75654 |    0.5000 |    3.7773 |    0.4869 |      2.5036 |             1.8079 |      0.5004 | \n",
      "   27 | 02m02s |    2.76604 |    0.5000 |    0.0000 |    4.0000 |      4.7499 |             7.2824 |      0.5000 | \n",
      "   28 | 04m06s |    2.76280 |    0.4432 |    0.0571 |    2.6371 |      2.1661 |             1.3146 |      0.5478 | \n",
      "   29 | 02m05s |    2.76678 |    0.4029 |    3.8224 |    4.0000 |      8.9009 |             6.4706 |      0.7783 | \n",
      "   30 | 04m05s |    2.77199 |    0.0000 |    4.0000 |    0.0000 |      2.0000 |            10.0000 |      0.5000 | \n",
      "******************* DOING Fringe *******************\n",
      "0 1\n",
      "\u001b[31mInitialization\u001b[0m\n",
      "\u001b[94m------------------------------------------------------------------------------------------------------------------\u001b[0m\n",
      " Step |   Time |      Value |     alpha |     gamma |      lamb |   max_depth |   min_child_weight |   subsample | \n",
      "    1 | 00m20s | \u001b[35m   5.41416\u001b[0m | \u001b[32m   0.3832\u001b[0m | \u001b[32m   2.1934\u001b[0m | \u001b[32m   2.4540\u001b[0m | \u001b[32m     5.2243\u001b[0m | \u001b[32m            3.2264\u001b[0m | \u001b[32m     0.6307\u001b[0m | \n",
      "    2 | 00m27s |    5.40398 |    0.3842 |    3.6997 |    3.4061 |      9.3810 |             3.7528 |      0.8402 | \n",
      "    3 | 00m29s | \u001b[35m   5.44926\u001b[0m | \u001b[32m   0.1051\u001b[0m | \u001b[32m   2.8911\u001b[0m | \u001b[32m   1.4811\u001b[0m | \u001b[32m     8.4372\u001b[0m | \u001b[32m            5.6708\u001b[0m | \u001b[32m     0.5601\u001b[0m | \n",
      "    4 | 00m21s |    5.44665 |    0.3653 |    3.0096 |    1.0834 |      9.9902 |             3.4370 |      0.6712 | \n",
      "    5 | 00m22s |    5.43910 |    0.3912 |    3.4931 |    2.8633 |      9.4830 |             2.8708 |      0.7825 | \n",
      "\u001b[31mBayesian Optimization\u001b[0m\n",
      "\u001b[94m------------------------------------------------------------------------------------------------------------------\u001b[0m\n",
      " Step |   Time |      Value |     alpha |     gamma |      lamb |   max_depth |   min_child_weight |   subsample | \n",
      "    6 | 00m53s |    5.42088 |    0.0000 |    4.0000 |    0.0000 |      7.3086 |             2.3379 |      0.5000 | \n",
      "    7 | 00m40s |    5.42213 |    0.0000 |    0.0000 |    1.5357 |      8.6742 |             2.6594 |      0.5000 | \n",
      "    8 | 00m46s |    5.40646 |    0.5000 |    2.3015 |    1.1856 |      8.0255 |             3.8578 |      0.5000 | \n",
      "    9 | 00m33s |    5.44896 |    0.0000 |    3.1526 |    1.9775 |     10.0000 |             1.0000 |      1.0000 | \n",
      "   10 | 00m48s | \u001b[35m   5.45099\u001b[0m | \u001b[32m   0.0000\u001b[0m | \u001b[32m   3.3882\u001b[0m | \u001b[32m   1.8649\u001b[0m | \u001b[32m    10.0000\u001b[0m | \u001b[32m            2.6278\u001b[0m | \u001b[32m     0.5000\u001b[0m | \n",
      "   11 | 00m32s |    5.44420 |    0.0000 |    2.7940 |    0.0000 |      9.9040 |             7.2645 |      1.0000 | \n",
      "   12 | 00m31s |    5.42906 |    0.0000 |    3.9926 |    0.3172 |      8.8215 |             5.6643 |      1.0000 | \n",
      "   13 | 00m30s |    5.41430 |    0.0000 |    0.9244 |    1.5558 |     10.0000 |             6.4291 |      1.0000 | \n",
      "   14 | 00m33s | \u001b[35m   5.45496\u001b[0m | \u001b[32m   0.0000\u001b[0m | \u001b[32m   2.7745\u001b[0m | \u001b[32m   0.6682\u001b[0m | \u001b[32m     5.8368\u001b[0m | \u001b[32m            9.6344\u001b[0m | \u001b[32m     0.5000\u001b[0m | \n",
      "   15 | 00m33s |    5.42414 |    0.0000 |    2.9046 |    0.9677 |      7.6761 |             8.1866 |      0.5000 | \n",
      "   16 | 00m28s |    5.42203 |    0.0000 |    1.4634 |    0.0000 |      2.0000 |             8.9333 |      0.5000 | \n",
      "   17 | 00m29s |    5.45035 |    0.0000 |    4.0000 |    0.0000 |      3.7117 |             9.7529 |      0.5000 | \n",
      "   18 | 00m24s |    5.44335 |    0.0000 |    2.5613 |    0.0000 |      4.6238 |             9.0269 |      1.0000 | \n",
      "   19 | 00m30s |    5.43331 |    0.0000 |    2.8733 |    2.9600 |      3.0212 |            10.0000 |      0.5000 | \n",
      "   20 | 00m29s |    5.42891 |    0.0000 |    4.0000 |    4.0000 |      2.0000 |             1.0000 |      0.5000 | \n",
      "   21 | 00m29s |    5.44259 |    0.0000 |    2.8096 |    3.8266 |      7.3740 |             1.0000 |      0.5000 | \n",
      "   22 | 00m27s |    5.43622 |    0.0000 |    4.0000 |    1.9196 |      2.0000 |             6.0765 |      0.5000 | \n",
      "   23 | 00m23s |    5.39185 |    0.0000 |    0.0000 |    4.0000 |      2.0000 |             1.0000 |      0.5000 | \n",
      "   24 | 00m21s |    5.43204 |    0.0000 |    4.0000 |    0.2025 |      2.0000 |             1.0000 |      0.5000 | \n",
      "   25 | 00m30s |    5.43252 |    0.0000 |    1.3135 |    2.9080 |     10.0000 |             1.1811 |      0.9328 | \n",
      "   26 | 00m21s | \u001b[35m   5.47021\u001b[0m | \u001b[32m   0.0000\u001b[0m | \u001b[32m   3.1366\u001b[0m | \u001b[32m   0.6402\u001b[0m | \u001b[32m     4.6074\u001b[0m | \u001b[32m           10.0000\u001b[0m | \u001b[32m     0.5000\u001b[0m | \n",
      "   27 | 00m34s |    5.43709 |    0.0000 |    4.0000 |    0.0000 |     10.0000 |            10.0000 |      0.5000 | \n",
      "   28 | 00m31s |    5.46544 |    0.5000 |    0.9198 |    0.0000 |      9.2101 |             9.7572 |      0.5000 | \n",
      "   29 | 00m28s |    5.41681 |    0.0000 |    0.0000 |    0.0000 |      6.6424 |            10.0000 |      0.5000 | \n",
      "   30 | 00m35s |    5.43651 |    0.5000 |    2.2971 |    1.0028 |      9.8810 |            10.0000 |      0.5000 | \n",
      "1 2\n",
      "\u001b[31mInitialization\u001b[0m\n",
      "\u001b[94m------------------------------------------------------------------------------------------------------------------\u001b[0m\n",
      " Step |   Time |      Value |     alpha |     gamma |      lamb |   max_depth |   min_child_weight |   subsample | \n",
      "    1 | 00m17s | \u001b[35m   5.47169\u001b[0m | \u001b[32m   0.3849\u001b[0m | \u001b[32m   3.2992\u001b[0m | \u001b[32m   2.9531\u001b[0m | \u001b[32m     5.9284\u001b[0m | \u001b[32m            7.6219\u001b[0m | \u001b[32m     0.9118\u001b[0m | \n",
      "    2 | 00m25s |    5.44069 |    0.1318 |    3.2848 |    1.7910 |      5.1843 |             7.6986 |      0.8827 | \n",
      "    3 | 00m19s |    5.45613 |    0.4011 |    1.0288 |    0.9710 |      6.7844 |             8.9311 |      0.9614 | \n",
      "    4 | 00m24s | \u001b[35m   5.48695\u001b[0m | \u001b[32m   0.2001\u001b[0m | \u001b[32m   1.3450\u001b[0m | \u001b[32m   0.9812\u001b[0m | \u001b[32m     8.3170\u001b[0m | \u001b[32m            6.2441\u001b[0m | \u001b[32m     0.7239\u001b[0m | \n",
      "    5 | 00m18s |    5.41713 |    0.1784 |    0.9658 |    0.5785 |      4.9922 |             6.8443 |      0.6130 | \n",
      "\u001b[31mBayesian Optimization\u001b[0m\n",
      "\u001b[94m------------------------------------------------------------------------------------------------------------------\u001b[0m\n",
      " Step |   Time |      Value |     alpha |     gamma |      lamb |   max_depth |   min_child_weight |   subsample | \n",
      "    6 | 00m40s |    5.45301 |    0.5000 |    3.7329 |    4.0000 |     10.0000 |             6.4055 |      1.0000 | \n",
      "    7 | 00m33s |    5.46358 |    0.0000 |    0.0000 |    4.0000 |      8.5524 |             7.0998 |      0.5000 | \n",
      "    8 | 00m40s |    5.38565 |    0.5000 |    2.1988 |    2.0659 |      8.4439 |             7.2355 |      0.5000 | \n",
      "    9 | 00m33s |    5.41319 |    0.0000 |    1.0368 |    3.5947 |      7.9885 |             3.6842 |      1.0000 | \n",
      "   10 | 00m31s |    5.45282 |    0.0000 |    0.0000 |    0.9689 |      8.0236 |             6.3168 |      1.0000 | \n",
      "   11 | 00m32s |    5.44439 |    0.0000 |    1.3527 |    4.0000 |      6.2758 |             7.5200 |      1.0000 | \n",
      "   12 | 00m33s |    5.43969 |    0.0000 |    2.6144 |    0.2379 |      7.8213 |             5.0885 |      1.0000 | \n",
      "   13 | 00m34s |    5.43550 |    0.0000 |    1.2517 |    4.0000 |     10.0000 |             5.5733 |      1.0000 | \n",
      "   14 | 00m31s |    5.42356 |    0.0000 |    4.0000 |    4.0000 |      7.3204 |             5.4718 |      1.0000 | \n",
      "   15 | 00m34s |    5.45095 |    0.5000 |    1.3008 |    1.0864 |      7.7452 |             5.7678 |      1.0000 | \n",
      "   16 | 00m34s |    5.42603 |    0.0000 |    4.0000 |    4.0000 |      6.3676 |            10.0000 |      1.0000 | \n",
      "   17 | 00m38s |    5.43771 |    0.0000 |    1.1260 |    0.0000 |      9.6204 |             5.7350 |      0.5000 | \n",
      "   18 | 00m36s |    5.41212 |    0.0000 |    1.3256 |    0.4744 |      7.8717 |             6.4666 |      0.5000 | \n",
      "   19 | 00m39s |    5.45185 |    0.0000 |    1.4331 |    1.3789 |      9.1962 |             5.7859 |      1.0000 | \n",
      "   20 | 00m26s |    5.41744 |    0.5000 |    0.3823 |    2.6358 |      4.6314 |             9.6194 |      1.0000 | \n",
      "   21 | 00m33s |    5.44326 |    0.5000 |    0.0000 |    4.0000 |      9.3476 |             9.5859 |      1.0000 | \n",
      "   22 | 00m35s |    5.43114 |    0.5000 |    0.0000 |    1.5533 |      9.0824 |             7.2633 |      1.0000 | \n",
      "   23 | 01m09s |    5.45197 |    0.5000 |    4.0000 |    1.9796 |     10.0000 |             3.0362 |      0.5000 | \n",
      "   24 | 00m32s |    5.44086 |    0.5000 |    1.2922 |    3.9938 |      7.1799 |             9.6691 |      1.0000 | \n",
      "   25 | 00m38s | \u001b[35m   5.49290\u001b[0m | \u001b[32m   0.5000\u001b[0m | \u001b[32m   4.0000\u001b[0m | \u001b[32m   0.4144\u001b[0m | \u001b[32m     9.9267\u001b[0m | \u001b[32m            4.7177\u001b[0m | \u001b[32m     1.0000\u001b[0m | \n",
      "   26 | 00m39s |    5.45443 |    0.5000 |    4.0000 |    1.3800 |      9.2137 |             4.4587 |      1.0000 | \n",
      "   27 | 00m38s |    5.42957 |    0.5000 |    3.2307 |    0.0000 |     10.0000 |             3.3765 |      1.0000 | \n",
      "   28 | 00m40s |    5.47755 |    0.5000 |    4.0000 |    0.0000 |     10.0000 |             6.1265 |      1.0000 | \n",
      "   29 | 00m28s |    5.45425 |    0.5000 |    4.0000 |    4.0000 |      4.1474 |             7.4357 |      1.0000 | \n",
      "   30 | 00m41s |    5.41751 |    0.5000 |    4.0000 |    4.0000 |     10.0000 |             3.6470 |      1.0000 | \n",
      "2 3\n",
      "\u001b[31mInitialization\u001b[0m\n",
      "\u001b[94m------------------------------------------------------------------------------------------------------------------\u001b[0m\n",
      " Step |   Time |      Value |     alpha |     gamma |      lamb |   max_depth |   min_child_weight |   subsample | \n",
      "    1 | 00m23s | \u001b[35m   5.46567\u001b[0m | \u001b[32m   0.3944\u001b[0m | \u001b[32m   1.8893\u001b[0m | \u001b[32m   3.5059\u001b[0m | \u001b[32m     7.3648\u001b[0m | \u001b[32m            4.6100\u001b[0m | \u001b[32m     0.7464\u001b[0m | \n",
      "    2 | 00m24s | \u001b[35m   5.47554\u001b[0m | \u001b[32m   0.3724\u001b[0m | \u001b[32m   1.5630\u001b[0m | \u001b[32m   1.3161\u001b[0m | \u001b[32m     2.7385\u001b[0m | \u001b[32m            5.6705\u001b[0m | \u001b[32m     0.5106\u001b[0m | \n",
      "    3 | 00m21s |    5.42282 |    0.4902 |    0.8664 |    3.1365 |      7.1723 |             3.6432 |      0.5409 | \n",
      "    4 | 00m21s |    5.42645 |    0.2415 |    1.6847 |    3.7443 |      5.2687 |             9.4290 |      0.9252 | \n",
      "    5 | 00m22s |    5.44235 |    0.0700 |    2.1313 |    1.4121 |      6.3739 |             2.1764 |      0.7170 | \n",
      "\u001b[31mBayesian Optimization\u001b[0m\n",
      "\u001b[94m------------------------------------------------------------------------------------------------------------------\u001b[0m\n",
      " Step |   Time |      Value |     alpha |     gamma |      lamb |   max_depth |   min_child_weight |   subsample | \n",
      "    6 | 00m31s |    5.43486 |    0.5000 |    4.0000 |    4.0000 |      2.8572 |             4.6628 |      1.0000 | \n",
      "    7 | 00m53s |    5.45594 |    0.3136 |    4.0000 |    0.0000 |      6.7975 |             6.7803 |      0.5000 | \n",
      "    8 | 00m28s | \u001b[35m   5.49223\u001b[0m | \u001b[32m   0.0000\u001b[0m | \u001b[32m   2.9205\u001b[0m | \u001b[32m   1.9250\u001b[0m | \u001b[32m     5.4401\u001b[0m | \u001b[32m            5.5636\u001b[0m | \u001b[32m     1.0000\u001b[0m | \n",
      "    9 | 00m57s |    5.43541 |    0.0000 |    4.0000 |    3.2528 |      6.9720 |             5.4194 |      0.5000 | \n",
      "   10 | 00m28s |    5.47905 |    0.5000 |    2.0118 |    0.0000 |      4.7122 |             5.5781 |      1.0000 | \n",
      "   11 | 00m25s |    5.44160 |    0.0000 |    3.4878 |    0.0000 |      2.0000 |             6.6208 |      1.0000 | \n",
      "   12 | 00m28s |    5.47109 |    0.0000 |    1.7130 |    1.5728 |      6.8333 |             6.3466 |      1.0000 | \n",
      "   13 | 00m29s |    5.43886 |    0.5000 |    2.3688 |    1.9814 |      4.6637 |             5.3658 |      1.0000 | \n",
      "   14 | 00m39s |    5.47021 |    0.0000 |    2.6301 |    0.0000 |      5.0665 |             5.4499 |      0.5000 | \n",
      "   15 | 00m28s |    5.41320 |    0.0000 |    0.0000 |    0.7218 |      2.0000 |             6.1743 |      1.0000 | \n",
      "   16 | 00m26s |    5.48921 |    0.0000 |    2.9508 |    0.8724 |      4.8424 |             7.6778 |      1.0000 | \n",
      "   17 | 00m32s |    5.46694 |    0.0000 |    3.2514 |    0.8871 |      6.9042 |             4.8642 |      1.0000 | \n",
      "   18 | 00m24s |    5.40115 |    0.0000 |    2.3941 |    0.9257 |      2.0000 |             2.5712 |      1.0000 | \n",
      "   19 | 00m32s |    5.47907 |    0.0000 |    3.2245 |    1.3651 |      5.6952 |             6.5827 |      1.0000 | \n",
      "   20 | 00m28s |    5.45318 |    0.0000 |    1.8145 |    0.0000 |      4.3024 |             7.0682 |      1.0000 | \n",
      "   21 | 00m39s |    5.45512 |    0.0000 |    3.8090 |    3.0463 |      2.8349 |             8.3112 |      0.5000 | \n",
      "   22 | 00m29s |    5.45875 |    0.0000 |    4.0000 |    0.7185 |      5.8720 |             9.9042 |      1.0000 | \n",
      "   23 | 00m31s |    5.43235 |    0.0000 |    2.0206 |    4.0000 |      6.0238 |             4.8938 |      1.0000 | \n",
      "   24 | 00m41s |    5.46049 |    0.5000 |    3.1512 |    1.0358 |      4.5885 |             8.7339 |      0.5000 | \n",
      "   25 | 00m36s |    5.45139 |    0.0000 |    1.5955 |    2.5783 |     10.0000 |             5.7428 |      1.0000 | \n",
      "   26 | 00m25s |    5.47810 |    0.0000 |    4.0000 |    1.1612 |      4.1231 |             6.7253 |      1.0000 | \n",
      "   27 | 00m33s |    5.46282 |    0.0000 |    2.0563 |    0.3988 |      9.5271 |             9.7921 |      1.0000 | \n",
      "   28 | 00m37s |    5.45187 |    0.0000 |    3.0302 |    1.8674 |      8.3232 |             8.8640 |      1.0000 | \n",
      "   29 | 00m32s |    5.42574 |    0.5000 |    1.2496 |    0.0000 |      9.4955 |             6.6049 |      1.0000 | \n",
      "   30 | 00m31s |    5.39979 |    0.0000 |    0.0000 |    3.2186 |     10.0000 |            10.0000 |      1.0000 | \n",
      "******************* DOING Bunker *******************\n",
      "0 1\n",
      "\u001b[31mInitialization\u001b[0m\n",
      "\u001b[94m------------------------------------------------------------------------------------------------------------------\u001b[0m\n",
      " Step |   Time |      Value |     alpha |     gamma |      lamb |   max_depth |   min_child_weight |   subsample | \n",
      "    1 | 00m29s | \u001b[35m   2.66926\u001b[0m | \u001b[32m   0.3503\u001b[0m | \u001b[32m   0.5134\u001b[0m | \u001b[32m   1.6287\u001b[0m | \u001b[32m     2.5468\u001b[0m | \u001b[32m            5.2025\u001b[0m | \u001b[32m     0.9458\u001b[0m | \n",
      "    2 | 00m33s |    2.66859 |    0.0467 |    0.6410 |    1.8303 |      4.0346 |             1.7371 |      0.8831 | \n",
      "    3 | 00m44s | \u001b[35m   2.67000\u001b[0m | \u001b[32m   0.0940\u001b[0m | \u001b[32m   0.1352\u001b[0m | \u001b[32m   1.8089\u001b[0m | \u001b[32m     8.3509\u001b[0m | \u001b[32m            5.3482\u001b[0m | \u001b[32m     0.5434\u001b[0m | \n",
      "    4 | 00m55s |    2.65884 |    0.3627 |    0.2312 |    1.5533 |      9.6138 |             8.8460 |      0.5304 | \n",
      "    5 | 00m44s |    2.64523 |    0.2577 |    2.5495 |    0.8735 |      5.5524 |             1.4485 |      0.6445 | \n",
      "\u001b[31mBayesian Optimization\u001b[0m\n",
      "\u001b[94m------------------------------------------------------------------------------------------------------------------\u001b[0m\n",
      " Step |   Time |      Value |     alpha |     gamma |      lamb |   max_depth |   min_child_weight |   subsample | \n",
      "    6 | 01m26s |    2.65837 |    0.0000 |    0.0000 |    4.0000 |     10.0000 |             1.0000 |      0.7290 | \n",
      "    7 | 00m35s |    2.65494 |    0.4628 |    0.0000 |    0.0000 |      2.0803 |             2.4366 |      0.5000 | \n",
      "    8 | 00m25s |    2.66519 |    0.0000 |    0.0000 |    4.0000 |      4.1657 |             6.6806 |      1.0000 | \n",
      "    9 | 00m36s |    2.66209 |    0.4179 |    0.2672 |    1.7672 |      6.3409 |             3.6344 |      0.9338 | \n",
      "   10 | 00m25s |    2.66614 |    0.0000 |    0.0000 |    0.0000 |      4.5051 |             6.2758 |      1.0000 | \n",
      "   11 | 00m32s |    2.66457 |    0.0022 |    0.8155 |    3.2037 |      3.5962 |             4.6482 |      0.5000 | \n",
      "   12 | 00m55s | \u001b[35m   2.67057\u001b[0m | \u001b[32m   0.0864\u001b[0m | \u001b[32m   0.0000\u001b[0m | \u001b[32m   3.5067\u001b[0m | \u001b[32m     9.7992\u001b[0m | \u001b[32m            4.9923\u001b[0m | \u001b[32m     0.6411\u001b[0m | \n",
      "   13 | 00m33s |    2.66494 |    0.0000 |    0.0000 |    4.0000 |     10.0000 |             7.6150 |      1.0000 | \n",
      "   14 | 01m16s |    2.66605 |    0.0000 |    0.0000 |    1.9763 |     10.0000 |             5.4843 |      0.5000 | \n",
      "   15 | 00m21s |    2.65473 |    0.0076 |    1.1759 |    3.7663 |      2.7694 |             3.5283 |      1.0000 | \n",
      "   16 | 00m35s |    2.65647 |    0.0000 |    0.2587 |    1.4822 |      2.3308 |             6.0750 |      0.5656 | \n",
      "   17 | 00m50s |    2.65449 |    0.3196 |    1.8353 |    2.3065 |      7.8025 |             7.0459 |      0.9009 | \n",
      "   18 | 00m31s |    2.66093 |    0.5000 |    0.0000 |    1.4222 |      5.0707 |             5.5485 |      1.0000 | \n",
      "   19 | 01m22s |    2.66013 |    0.1524 |    0.0531 |    3.8513 |      8.7125 |             5.5378 |      0.7659 | \n",
      "   20 | 00m32s | \u001b[35m   2.67405\u001b[0m | \u001b[32m   0.0000\u001b[0m | \u001b[32m   0.1945\u001b[0m | \u001b[32m   0.6422\u001b[0m | \u001b[32m     5.7679\u001b[0m | \u001b[32m            1.1882\u001b[0m | \u001b[32m     1.0000\u001b[0m | \n",
      "   21 | 00m31s |    2.66291 |    0.1727 |    3.7070 |    0.2506 |      4.3889 |             8.9854 |      1.0000 | \n",
      "   22 | 00m41s |    2.66364 |    0.1802 |    4.0000 |    4.0000 |     10.0000 |            10.0000 |      1.0000 | \n",
      "   23 | 00m35s |    2.66640 |    0.3835 |    3.4562 |    3.5092 |      2.2058 |             9.9956 |      0.5932 | \n",
      "   24 | 00m27s |    2.65838 |    0.3187 |    1.5046 |    3.9314 |      4.6451 |            10.0000 |      1.0000 | \n",
      "   25 | 00m33s |    2.66741 |    0.0329 |    3.5720 |    3.0983 |      4.5951 |             8.0750 |      0.8357 | \n",
      "   26 | 00m49s |    2.65667 |    0.0000 |    0.7156 |    0.1948 |      9.7481 |             3.1532 |      0.8956 | \n",
      "   27 | 00m29s |    2.66628 |    0.1297 |    2.2440 |    0.2811 |      3.0546 |             5.0163 |      0.9951 | \n",
      "   28 | 00m34s |    2.67081 |    0.0000 |    0.0000 |    3.2522 |     10.0000 |             3.7581 |      1.0000 | \n",
      "   29 | 00m37s |    2.65742 |    0.0891 |    3.9987 |    3.6772 |      4.0839 |             9.2624 |      0.9386 | \n",
      "   30 | 00m22s |    2.65875 |    0.4038 |    2.8829 |    2.5372 |      2.7415 |             6.9605 |      1.0000 | \n",
      "1 2\n",
      "\u001b[31mInitialization\u001b[0m\n",
      "\u001b[94m------------------------------------------------------------------------------------------------------------------\u001b[0m\n",
      " Step |   Time |      Value |     alpha |     gamma |      lamb |   max_depth |   min_child_weight |   subsample | \n",
      "    1 | 00m50s | \u001b[35m   2.67246\u001b[0m | \u001b[32m   0.3721\u001b[0m | \u001b[32m   3.3179\u001b[0m | \u001b[32m   2.6794\u001b[0m | \u001b[32m     5.9966\u001b[0m | \u001b[32m            5.6460\u001b[0m | \u001b[32m     0.9029\u001b[0m | \n",
      "    2 | 01m06s | \u001b[35m   2.67826\u001b[0m | \u001b[32m   0.4762\u001b[0m | \u001b[32m   2.2383\u001b[0m | \u001b[32m   1.0684\u001b[0m | \u001b[32m     2.1102\u001b[0m | \u001b[32m            3.9077\u001b[0m | \u001b[32m     0.7917\u001b[0m | \n",
      "    3 | 00m56s |    2.67417 |    0.1521 |    3.0216 |    1.0362 |      9.4282 |             4.7941 |      0.6111 | \n",
      "    4 | 00m45s |    2.66220 |    0.1879 |    2.7248 |    0.3163 |      5.5577 |             7.8521 |      0.7710 | \n",
      "    5 | 00m42s |    2.66640 |    0.0877 |    1.0408 |    0.2649 |      9.0034 |             6.9769 |      0.8787 | \n",
      "\u001b[31mBayesian Optimization\u001b[0m\n",
      "\u001b[94m------------------------------------------------------------------------------------------------------------------\u001b[0m\n",
      " Step |   Time |      Value |     alpha |     gamma |      lamb |   max_depth |   min_child_weight |   subsample | \n",
      "    6 | 01m03s | \u001b[35m   2.68089\u001b[0m | \u001b[32m   0.5000\u001b[0m | \u001b[32m   0.0000\u001b[0m | \u001b[32m   4.0000\u001b[0m | \u001b[32m     2.7802\u001b[0m | \u001b[32m            1.0000\u001b[0m | \u001b[32m     1.0000\u001b[0m | \n",
      "    7 | 01m19s |    2.66918 |    0.4744 |    3.7184 |    0.8835 |      2.9891 |             1.7799 |      0.7320 | \n",
      "    8 | 00m50s |    2.67968 |    0.4102 |    0.2669 |    3.4592 |      9.2884 |             1.4161 |      0.5786 | \n",
      "    9 | 00m45s | \u001b[35m   2.68887\u001b[0m | \u001b[32m   0.5000\u001b[0m | \u001b[32m   0.0000\u001b[0m | \u001b[32m   4.0000\u001b[0m | \u001b[32m     3.9002\u001b[0m | \u001b[32m            1.9630\u001b[0m | \u001b[32m     0.5000\u001b[0m | \n",
      "   10 | 00m51s |    2.67989 |    0.0000 |    0.4292 |    3.9174 |      3.6043 |             5.3476 |      0.6065 | \n",
      "   11 | 00m40s |    2.67071 |    0.0000 |    0.5177 |    0.8262 |      6.2651 |             1.0000 |      0.5000 | \n",
      "   12 | 00m50s |    2.67819 |    0.4712 |    0.2779 |    3.0069 |      3.7898 |            10.0000 |      0.5000 | \n",
      "   13 | 00m48s |    2.66015 |    0.2263 |    1.3404 |    3.8576 |      9.4779 |             5.3863 |      0.5082 | \n",
      "   14 | 01m01s |    2.66957 |    0.5000 |    1.6082 |    3.2033 |      2.2174 |             5.7059 |      0.5000 | \n",
      "   15 | 00m37s |    2.67617 |    0.2574 |    0.1100 |    2.5717 |      4.9741 |             3.4629 |      0.9223 | \n",
      "   16 | 01m13s |    2.67528 |    0.0000 |    3.6968 |    4.0000 |      8.8774 |             1.0000 |      0.5068 | \n",
      "   17 | 01m03s |    2.66126 |    0.4440 |    3.4818 |    0.7468 |      7.8990 |             1.5316 |      0.5000 | \n",
      "   18 | 01m11s |    2.67772 |    0.0809 |    0.7170 |    0.0000 |      2.1601 |             9.4258 |      0.5318 | \n",
      "   19 | 01m00s |    2.67223 |    0.0000 |    2.5410 |    4.0000 |     10.0000 |            10.0000 |      0.5000 | \n",
      "   20 | 00m42s |    2.67497 |    0.0000 |    0.5109 |    3.7993 |      5.2195 |             1.6279 |      0.6516 | \n",
      "   21 | 01m10s |    2.66564 |    0.5000 |    4.0000 |    0.0000 |     10.0000 |            10.0000 |      0.5000 | \n",
      "   22 | 01m19s |    2.66668 |    0.1617 |    0.1020 |    0.9988 |      2.1710 |             1.8695 |      0.8475 | \n",
      "   23 | 00m43s |    2.68530 |    0.3204 |    0.3096 |    3.8491 |      3.6837 |             3.0670 |      0.7670 | \n",
      "   24 | 01m14s |    2.66145 |    0.0000 |    0.0000 |    4.0000 |      2.0000 |             8.7673 |      0.7280 | \n",
      "   25 | 01m13s |    2.66355 |    0.4524 |    3.7986 |    3.7168 |      3.0618 |             1.9861 |      0.7815 | \n",
      "   26 | 01m26s |    2.66128 |    0.3217 |    3.6468 |    3.5396 |      5.6847 |             9.9564 |      0.5710 | \n",
      "   27 | 00m48s |    2.67640 |    0.2899 |    0.0000 |    0.5980 |      3.1329 |             4.2220 |      0.5160 | \n",
      "   28 | 00m47s |    2.67568 |    0.0687 |    0.7613 |    0.8253 |      9.6016 |             9.8363 |      0.9020 | \n",
      "   29 | 00m53s |    2.67971 |    0.5000 |    2.3660 |    0.1923 |     10.0000 |             1.5362 |      1.0000 | \n",
      "   30 | 00m41s |    2.67117 |    0.1764 |    0.1177 |    3.9750 |      7.2848 |             9.6692 |      0.9414 | \n",
      "2 3\n",
      "\u001b[31mInitialization\u001b[0m\n",
      "\u001b[94m------------------------------------------------------------------------------------------------------------------\u001b[0m\n",
      " Step |   Time |      Value |     alpha |     gamma |      lamb |   max_depth |   min_child_weight |   subsample | \n",
      "    1 | 00m47s | \u001b[35m   2.66685\u001b[0m | \u001b[32m   0.0034\u001b[0m | \u001b[32m   0.1374\u001b[0m | \u001b[32m   0.7202\u001b[0m | \u001b[32m     9.5224\u001b[0m | \u001b[32m            3.8146\u001b[0m | \u001b[32m     0.8017\u001b[0m | \n",
      "    2 | 00m52s |    2.66169 |    0.3441 |    2.6897 |    3.7597 |      8.8386 |             8.5731 |      0.7267 | \n",
      "    3 | 00m40s | \u001b[35m   2.67699\u001b[0m | \u001b[32m   0.2983\u001b[0m | \u001b[32m   1.1830\u001b[0m | \u001b[32m   0.4128\u001b[0m | \u001b[32m     5.4082\u001b[0m | \u001b[32m            8.0082\u001b[0m | \u001b[32m     0.8828\u001b[0m | \n",
      "    4 | 00m41s |    2.67597 |    0.2822 |    2.1437 |    3.7569 |      6.4572 |             5.0510 |      0.6464 | \n",
      "    5 | 00m41s | \u001b[35m   2.69360\u001b[0m | \u001b[32m   0.2029\u001b[0m | \u001b[32m   1.0483\u001b[0m | \u001b[32m   1.8981\u001b[0m | \u001b[32m     4.6568\u001b[0m | \u001b[32m            6.3812\u001b[0m | \u001b[32m     0.5549\u001b[0m | \n",
      "\u001b[31mBayesian Optimization\u001b[0m\n",
      "\u001b[94m------------------------------------------------------------------------------------------------------------------\u001b[0m\n",
      " Step |   Time |      Value |     alpha |     gamma |      lamb |   max_depth |   min_child_weight |   subsample | \n",
      "    6 | 01m39s |    2.67960 |    0.0000 |    0.0000 |    4.0000 |      2.0000 |             8.0711 |      0.5000 | \n",
      "    7 | 01m16s |    2.66981 |    0.0000 |    4.0000 |    0.0000 |      2.0000 |             1.0000 |      0.5000 | \n",
      "    8 | 01m31s |    2.67105 |    0.5000 |    0.0000 |    0.1557 |      2.0000 |             1.0000 |      0.5000 | \n",
      "    9 | 01m16s |    2.67987 |    0.0118 |    0.6610 |    0.0000 |      2.5450 |             6.0699 |      0.5000 | \n",
      "   10 | 01m02s |    2.67808 |    0.4895 |    0.2250 |    2.3155 |      3.2919 |             4.6526 |      0.9698 | \n",
      "   11 | 01m03s |    2.67099 |    0.0000 |    2.6714 |    2.6781 |      4.7183 |             7.3082 |      0.5000 | \n",
      "   12 | 00m46s |    2.67940 |    0.0480 |    0.0000 |    2.5627 |      5.7917 |             5.9595 |      0.5000 | \n",
      "   13 | 00m49s |    2.67061 |    0.5000 |    2.3689 |    1.0964 |      6.5803 |             2.9447 |      0.5000 | \n",
      "   14 | 00m51s |    2.67739 |    0.3996 |    0.2056 |    2.5103 |      4.7068 |             7.6031 |      0.5008 | \n",
      "   15 | 00m53s |    2.66828 |    0.0000 |    1.9626 |    0.1212 |     10.0000 |             9.1178 |      0.7561 | \n",
      "   16 | 00m45s |    2.67943 |    0.0786 |    0.6805 |    0.2167 |      4.7436 |             5.1785 |      0.5000 | \n",
      "   17 | 01m05s |    2.66614 |    0.0058 |    3.4107 |    3.8806 |      9.6764 |             1.0290 |      0.9207 | \n",
      "   18 | 01m12s |    2.68346 |    0.4064 |    1.2516 |    4.0000 |      3.2333 |             2.1011 |      0.7100 | \n",
      "   19 | 01m21s |    2.68038 |    0.1424 |    3.6320 |    3.9130 |      2.6283 |             4.5583 |      0.9231 | \n",
      "   20 | 00m44s |    2.67736 |    0.4895 |    0.8183 |    1.8490 |      4.3780 |             6.7158 |      0.5000 | \n",
      "   21 | 00m35s |    2.67370 |    0.0000 |    2.9957 |    1.4647 |      4.4742 |             4.0770 |      1.0000 | \n",
      "   22 | 01m03s |    2.67922 |    0.0000 |    4.0000 |    0.0000 |     10.0000 |             1.0000 |      0.5000 | \n",
      "   23 | 01m33s |    2.66736 |    0.0000 |    1.2392 |    1.5429 |      2.0000 |             4.1626 |      0.8957 | \n",
      "   24 | 01m12s |    2.69102 |    0.0860 |    0.3044 |    3.5459 |      3.3547 |             5.7352 |      0.8149 | \n",
      "   25 | 00m39s |    2.68114 |    0.0000 |    1.7000 |    1.7420 |      5.4327 |             6.0304 |      1.0000 | \n",
      "   26 | 00m48s |    2.68370 |    0.0000 |    0.8493 |    2.9303 |      4.3336 |             5.7931 |      0.5000 | \n",
      "   27 | 00m57s |    2.66989 |    0.0458 |    3.8587 |    1.9820 |      6.8665 |             1.3337 |      0.7990 | \n",
      "   28 | 00m52s |    2.67541 |    0.0092 |    0.0378 |    3.8636 |      9.7855 |             1.1063 |      0.5183 | \n",
      "   29 | 01m01s |    2.67243 |    0.0588 |    0.0000 |    3.6123 |      3.0889 |             1.2710 |      0.5000 | \n",
      "   30 | 00m47s |    2.68319 |    0.0000 |    0.1056 |    0.6331 |      4.8458 |             9.7174 |      0.6995 | \n",
      "******************* DOING Other *******************\n",
      "0 1\n",
      "\u001b[31mInitialization\u001b[0m\n",
      "\u001b[94m------------------------------------------------------------------------------------------------------------------\u001b[0m\n",
      " Step |   Time |      Value |     alpha |     gamma |      lamb |   max_depth |   min_child_weight |   subsample | \n",
      "    1 | 00m05s | \u001b[35m   1.98714\u001b[0m | \u001b[32m   0.0392\u001b[0m | \u001b[32m   1.2769\u001b[0m | \u001b[32m   1.1521\u001b[0m | \u001b[32m     8.2036\u001b[0m | \u001b[32m            3.7213\u001b[0m | \u001b[32m     0.6071\u001b[0m | \n",
      "    2 | 00m06s | \u001b[35m   2.01299\u001b[0m | \u001b[32m   0.0892\u001b[0m | \u001b[32m   0.5282\u001b[0m | \u001b[32m   3.3082\u001b[0m | \u001b[32m     9.0878\u001b[0m | \u001b[32m            8.1681\u001b[0m | \u001b[32m     0.6446\u001b[0m | \n",
      "    3 | 00m05s |    1.97301 |    0.4990 |    1.5923 |    0.8017 |      7.4666 |             2.0554 |      0.5442 | \n",
      "    4 | 00m06s |    1.97522 |    0.4801 |    2.1516 |    1.9902 |      7.8407 |             6.5798 |      0.7059 | \n",
      "    5 | 00m09s |    1.96349 |    0.2093 |    3.8408 |    2.8381 |      9.4034 |             4.8297 |      0.7309 | \n",
      "\u001b[31mBayesian Optimization\u001b[0m\n",
      "\u001b[94m------------------------------------------------------------------------------------------------------------------\u001b[0m\n",
      " Step |   Time |      Value |     alpha |     gamma |      lamb |   max_depth |   min_child_weight |   subsample | \n",
      "    6 | 00m17s |    1.99284 |    0.2199 |    0.0000 |    2.1106 |     10.0000 |             7.9579 |      0.6081 | \n",
      "    7 | 00m08s |    1.98364 |    0.0000 |    0.0000 |    4.0000 |      2.0000 |             3.1335 |      1.0000 | \n",
      "    8 | 00m14s |    1.98151 |    0.0000 |    0.0000 |    4.0000 |      8.4901 |             4.4758 |      0.5000 | \n",
      "    9 | 00m09s |    1.99659 |    0.0000 |    0.0000 |    4.0000 |      2.0000 |            10.0000 |      1.0000 | \n",
      "   10 | 00m15s |    1.97371 |    0.0000 |    0.0000 |    4.0000 |      8.4388 |            10.0000 |      1.0000 | \n",
      "   11 | 00m14s |    1.97720 |    0.0000 |    0.0000 |    0.0000 |      2.0000 |             6.2755 |      0.5000 | \n",
      "   12 | 00m13s |    1.97127 |    0.0000 |    4.0000 |    4.0000 |      2.0000 |             8.5469 |      0.5000 | \n",
      "   13 | 00m13s |    1.98491 |    0.0000 |    0.0000 |    4.0000 |      3.7144 |             7.4382 |      0.5000 | \n",
      "   14 | 00m13s |    1.92818 |    0.0000 |    4.0000 |    0.0000 |      2.0000 |             1.0000 |      0.5000 | \n",
      "   15 | 00m13s |    1.97656 |    0.0000 |    2.5249 |    4.0000 |      9.8076 |             8.7111 |      0.5000 | \n",
      "   16 | 00m11s |    1.97901 |    0.0000 |    0.1411 |    0.1309 |     10.0000 |             1.0000 |      1.0000 | \n",
      "   17 | 00m13s |    1.97808 |    0.0000 |    0.7382 |    3.2205 |      9.1109 |             7.6533 |      1.0000 | \n",
      "   18 | 00m16s |    1.99440 |    0.5000 |    0.0000 |    2.6555 |      2.0000 |            10.0000 |      0.5000 | \n",
      "   19 | 00m13s |    1.97938 |    0.0000 |    0.0000 |    2.3273 |      7.7768 |             8.6576 |      0.5000 | \n",
      "   20 | 00m15s |    1.99213 |    0.5000 |    0.0000 |    4.0000 |      9.2775 |             8.3182 |      0.5000 | \n",
      "   21 | 00m15s |    1.98208 |    0.0000 |    0.0136 |    4.0000 |     10.0000 |             1.0000 |      0.5000 | \n",
      "   22 | 00m13s |    1.96340 |    0.0000 |    4.0000 |    0.0000 |     10.0000 |             8.0277 |      0.5000 | \n",
      "   23 | 00m10s |    1.99321 |    0.0000 |    0.0000 |    4.0000 |      2.0000 |             1.0000 |      0.5000 | \n",
      "   24 | 00m09s |    1.99242 |    0.0000 |    1.7576 |    4.0000 |      2.0000 |             3.5275 |      0.5000 | \n",
      "   25 | 00m15s |    1.98377 |    0.1523 |    0.5901 |    2.6694 |      9.4608 |             8.9745 |      0.5000 | \n",
      "   26 | 00m16s |    1.96389 |    0.0000 |    4.0000 |    0.0000 |     10.0000 |             1.0000 |      0.5000 | \n",
      "   27 | 00m14s |    1.97250 |    0.0000 |    0.0170 |    0.0000 |     10.0000 |             4.9997 |      0.5000 | \n",
      "   28 | 00m20s |    1.96937 |    0.0000 |    0.4310 |    3.4486 |      8.9814 |             8.1174 |      0.5000 | \n",
      "   29 | 00m16s |    1.97413 |    0.5000 |    0.7902 |    3.1235 |      8.9179 |             8.5881 |      1.0000 | \n",
      "   30 | 00m17s |    1.99681 |    0.0000 |    4.0000 |    0.0000 |      4.0504 |             7.1825 |      0.5000 | \n",
      "1 2\n",
      "\u001b[31mInitialization\u001b[0m\n",
      "\u001b[94m------------------------------------------------------------------------------------------------------------------\u001b[0m\n",
      " Step |   Time |      Value |     alpha |     gamma |      lamb |   max_depth |   min_child_weight |   subsample | \n",
      "    1 | 00m07s | \u001b[35m   1.97740\u001b[0m | \u001b[32m   0.3893\u001b[0m | \u001b[32m   3.6025\u001b[0m | \u001b[32m   3.6958\u001b[0m | \u001b[32m     8.2829\u001b[0m | \u001b[32m            2.6549\u001b[0m | \u001b[32m     0.5253\u001b[0m | \n",
      "    2 | 00m05s | \u001b[35m   1.98346\u001b[0m | \u001b[32m   0.1500\u001b[0m | \u001b[32m   1.6073\u001b[0m | \u001b[32m   2.8471\u001b[0m | \u001b[32m     6.3141\u001b[0m | \u001b[32m            2.0799\u001b[0m | \u001b[32m     0.7505\u001b[0m | \n",
      "    3 | 00m05s | \u001b[35m   1.99339\u001b[0m | \u001b[32m   0.4205\u001b[0m | \u001b[32m   0.7917\u001b[0m | \u001b[32m   3.9775\u001b[0m | \u001b[32m     7.5186\u001b[0m | \u001b[32m            1.8387\u001b[0m | \u001b[32m     0.5276\u001b[0m | \n",
      "    4 | 00m05s |    1.98797 |    0.4963 |    0.9601 |    1.4059 |      3.1098 |             8.9694 |      0.6329 | \n",
      "    5 | 00m05s |    1.97059 |    0.1335 |    2.0691 |    2.7542 |      6.5471 |             1.2063 |      0.9686 | \n",
      "\u001b[31mBayesian Optimization\u001b[0m\n",
      "\u001b[94m------------------------------------------------------------------------------------------------------------------\u001b[0m\n",
      " Step |   Time |      Value |     alpha |     gamma |      lamb |   max_depth |   min_child_weight |   subsample | \n",
      "    6 | 00m16s |    1.97623 |    0.3750 |    0.2421 |    2.8449 |      9.9695 |            10.0000 |      1.0000 | \n",
      "    7 | 00m11s |    1.98582 |    0.1835 |    0.0000 |    4.0000 |      2.2071 |             6.4574 |      0.5000 | \n",
      "    8 | 00m09s | \u001b[35m   2.00449\u001b[0m | \u001b[32m   0.4844\u001b[0m | \u001b[32m   0.0099\u001b[0m | \u001b[32m   0.7126\u001b[0m | \u001b[32m     6.4705\u001b[0m | \u001b[32m            4.8307\u001b[0m | \u001b[32m     0.5000\u001b[0m | \n",
      "    9 | 00m10s |    1.98850 |    0.5000 |    0.4071 |    2.8071 |      8.3926 |             6.5886 |      0.5000 | \n",
      "   10 | 00m10s |    1.97298 |    0.0000 |    0.5414 |    0.0000 |      6.7133 |             7.2271 |      0.5000 | \n",
      "   11 | 00m09s |    1.99567 |    0.5000 |    0.0000 |    0.5210 |      3.9336 |             2.3537 |      0.5000 | \n",
      "   12 | 00m09s |    1.98270 |    0.3984 |    0.0877 |    0.4322 |      8.6629 |             2.5198 |      0.5386 | \n",
      "   13 | 00m11s |    1.97589 |    0.5000 |    0.5671 |    3.8752 |      7.1107 |             3.3161 |      0.8300 | \n",
      "   14 | 00m11s |    1.96867 |    0.5000 |    4.0000 |    4.0000 |      5.6170 |             8.4110 |      0.5000 | \n",
      "   15 | 00m07s | \u001b[35m   2.01305\u001b[0m | \u001b[32m   0.5000\u001b[0m | \u001b[32m   2.2094\u001b[0m | \u001b[32m   4.0000\u001b[0m | \u001b[32m     2.4914\u001b[0m | \u001b[32m            1.4435\u001b[0m | \u001b[32m     0.5708\u001b[0m | \n",
      "   16 | 00m09s |    1.98243 |    0.5000 |    3.7644 |    2.6826 |      2.6822 |             3.9555 |      0.5000 | \n",
      "   17 | 00m06s |    1.99980 |    0.2533 |    0.4757 |    2.8083 |      2.2845 |             1.6036 |      0.5000 | \n",
      "   18 | 00m05s |    2.00091 |    0.5000 |    0.0000 |    4.0000 |      4.9639 |            10.0000 |      0.5000 | \n",
      "   19 | 00m08s |    2.00728 |    0.1242 |    2.9853 |    3.6664 |      2.1889 |             1.3425 |      0.5358 | \n",
      "   20 | 00m07s |    1.98861 |    0.3243 |    2.6394 |    0.4051 |      4.6598 |             1.3357 |      0.5000 | \n",
      "   21 | 00m06s |    1.99869 |    0.4653 |    0.5529 |    1.2311 |      6.8301 |             9.6434 |      0.5457 | \n",
      "   22 | 00m07s |    1.98264 |    0.4944 |    2.3377 |    0.3208 |      8.2729 |             8.7961 |      0.5069 | \n",
      "   23 | 00m06s |    2.00423 |    0.4894 |    1.3523 |    1.0829 |      2.1253 |             1.4448 |      0.5273 | \n",
      "   24 | 00m07s | \u001b[35m   2.01914\u001b[0m | \u001b[32m   0.2997\u001b[0m | \u001b[32m   3.3855\u001b[0m | \u001b[32m   3.7779\u001b[0m | \u001b[32m     3.6271\u001b[0m | \u001b[32m            1.2535\u001b[0m | \u001b[32m     0.5139\u001b[0m | \n",
      "   25 | 00m06s |    2.01340 |    0.2167 |    2.6974 |    3.5171 |      4.3026 |             1.9370 |      0.5105 | \n",
      "   26 | 00m07s |    1.99679 |    0.2103 |    2.4390 |    2.8664 |      2.8325 |             1.2529 |      0.5000 | \n",
      "   27 | 00m06s |    1.99420 |    0.4067 |    0.6142 |    0.5903 |      3.5936 |             5.4339 |      0.5206 | \n",
      "   28 | 00m07s |    2.01184 |    0.4770 |    0.2667 |    1.6028 |      8.9361 |             9.0796 |      0.5000 | \n",
      "   29 | 00m07s |    1.99606 |    0.5000 |    4.0000 |    1.1031 |      2.6831 |             9.9407 |      0.5182 | \n",
      "   30 | 00m06s | \u001b[35m   2.02723\u001b[0m | \u001b[32m   0.4692\u001b[0m | \u001b[32m   1.9900\u001b[0m | \u001b[32m   0.0400\u001b[0m | \u001b[32m     2.6124\u001b[0m | \u001b[32m           10.0000\u001b[0m | \u001b[32m     0.5459\u001b[0m | \n",
      "2 3\n",
      "\u001b[31mInitialization\u001b[0m\n",
      "\u001b[94m------------------------------------------------------------------------------------------------------------------\u001b[0m\n",
      " Step |   Time |      Value |     alpha |     gamma |      lamb |   max_depth |   min_child_weight |   subsample | \n",
      "    1 | 00m07s | \u001b[35m   1.99146\u001b[0m | \u001b[32m   0.3963\u001b[0m | \u001b[32m   3.6408\u001b[0m | \u001b[32m   3.5675\u001b[0m | \u001b[32m     9.8038\u001b[0m | \u001b[32m            5.7649\u001b[0m | \u001b[32m     0.7542\u001b[0m | \n",
      "    2 | 00m06s | \u001b[35m   2.00162\u001b[0m | \u001b[32m   0.1189\u001b[0m | \u001b[32m   1.9172\u001b[0m | \u001b[32m   3.2086\u001b[0m | \u001b[32m     8.9936\u001b[0m | \u001b[32m            5.3194\u001b[0m | \u001b[32m     0.5128\u001b[0m | \n",
      "    3 | 00m06s |    1.97305 |    0.4104 |    3.7670 |    2.0046 |      8.7107 |             5.8746 |      0.9127 | \n",
      "    4 | 00m06s |    1.97483 |    0.3274 |    3.7669 |    0.0135 |      8.6824 |             1.1662 |      0.7640 | \n",
      "    5 | 00m06s |    1.96947 |    0.1016 |    0.0264 |    0.6430 |      8.7975 |             3.8169 |      0.7742 | \n",
      "\u001b[31mBayesian Optimization\u001b[0m\n",
      "\u001b[94m------------------------------------------------------------------------------------------------------------------\u001b[0m\n",
      " Step |   Time |      Value |     alpha |     gamma |      lamb |   max_depth |   min_child_weight |   subsample | \n",
      "    6 | 00m17s | \u001b[35m   2.00376\u001b[0m | \u001b[32m   0.0000\u001b[0m | \u001b[32m   0.0455\u001b[0m | \u001b[32m   4.0000\u001b[0m | \u001b[32m     2.0000\u001b[0m | \u001b[32m            1.0000\u001b[0m | \u001b[32m     0.5000\u001b[0m | \n",
      "    7 | 00m13s |    2.00036 |    0.0000 |    2.1682 |    4.0000 |      8.6876 |             1.0000 |      0.5000 | \n",
      "    8 | 00m10s |    2.00374 |    0.0000 |    0.0000 |    4.0000 |      2.0000 |             9.3473 |      0.5000 | \n",
      "    9 | 00m11s |    1.97786 |    0.0000 |    0.5519 |    4.0000 |      9.2706 |            10.0000 |      0.5000 | \n",
      "   10 | 00m09s |    1.98899 |    0.0000 |    4.0000 |    4.0000 |      3.6173 |             4.8119 |      0.5000 | \n",
      "   11 | 00m08s |    1.98292 |    0.3054 |    0.0713 |    3.7098 |      4.7005 |             4.7166 |      0.5000 | \n",
      "   12 | 00m15s |    1.96347 |    0.0000 |    0.7050 |    3.4417 |      9.9906 |             1.6525 |      0.5000 | \n",
      "   13 | 00m11s | \u001b[35m   2.00982\u001b[0m | \u001b[32m   0.0000\u001b[0m | \u001b[32m   4.0000\u001b[0m | \u001b[32m   4.0000\u001b[0m | \u001b[32m     6.7656\u001b[0m | \u001b[32m            1.0000\u001b[0m | \u001b[32m     0.5000\u001b[0m | \n",
      "   14 | 00m11s | \u001b[35m   2.01118\u001b[0m | \u001b[32m   0.0000\u001b[0m | \u001b[32m   2.3109\u001b[0m | \u001b[32m   0.0000\u001b[0m | \u001b[32m     2.1659\u001b[0m | \u001b[32m            1.0000\u001b[0m | \u001b[32m     0.5000\u001b[0m | \n",
      "   15 | 00m12s |    1.96125 |    0.2835 |    3.9003 |    3.6881 |      2.1932 |             1.0614 |      0.6056 | \n",
      "   16 | 00m10s | \u001b[35m   2.01761\u001b[0m | \u001b[32m   0.0000\u001b[0m | \u001b[32m   0.0000\u001b[0m | \u001b[32m   0.0000\u001b[0m | \u001b[32m     2.0000\u001b[0m | \u001b[32m            9.6845\u001b[0m | \u001b[32m     0.5000\u001b[0m | \n",
      "   17 | 00m09s |    2.00163 |    0.1300 |    0.6925 |    0.2660 |      2.9751 |             3.4925 |      0.7943 | \n",
      "   18 | 00m10s |    2.00177 |    0.0000 |    3.7627 |    2.2250 |      3.2856 |             9.8353 |      0.5000 | \n",
      "   19 | 00m09s |    1.99008 |    0.0000 |    0.1971 |    1.1065 |      2.7420 |             1.0280 |      0.8781 | \n",
      "   20 | 00m11s |    1.98112 |    0.0000 |    1.9522 |    0.2174 |      2.0961 |             9.4348 |      0.5000 | \n",
      "   21 | 00m11s |    2.00867 |    0.0000 |    3.8990 |    4.0000 |      6.1180 |            10.0000 |      0.5000 | \n",
      "   22 | 00m11s |    1.98964 |    0.0000 |    3.8795 |    0.3802 |      8.7893 |            10.0000 |      0.5000 | \n",
      "   23 | 00m10s |    2.00495 |    0.0000 |    3.4751 |    3.9944 |      8.8248 |             4.8267 |      0.5000 | \n",
      "   24 | 00m07s | \u001b[35m   2.02634\u001b[0m | \u001b[32m   0.0000\u001b[0m | \u001b[32m   0.3233\u001b[0m | \u001b[32m   2.6288\u001b[0m | \u001b[32m     4.2259\u001b[0m | \u001b[32m            9.5238\u001b[0m | \u001b[32m     0.5113\u001b[0m | \n",
      "   25 | 00m08s |    1.99831 |    0.0000 |    2.1294 |    1.8606 |      6.2202 |             8.5701 |      0.5000 | \n",
      "   26 | 00m10s |    2.02522 |    0.0000 |    2.4250 |    1.5909 |      7.2118 |             1.2594 |      0.5000 | \n",
      "   27 | 00m08s |    1.99467 |    0.0000 |    1.4836 |    2.9511 |      6.1016 |             1.9432 |      0.5000 | \n",
      "   28 | 00m08s |    2.00934 |    0.0000 |    0.0049 |    0.5142 |      2.6517 |             6.2658 |      0.5000 | \n",
      "   29 | 00m08s |    1.99227 |    0.0000 |    2.3399 |    0.2416 |      4.4815 |             2.3631 |      0.5000 | \n",
      "   30 | 00m10s |    2.00258 |    0.5000 |    0.0158 |    0.0852 |      2.2133 |             2.3393 |      0.5000 | \n"
     ]
    }
   ],
   "source": [
    "#results = defaultdict(dict)\n",
    "for cat in cats:\n",
    "    print '******************* DOING %s *******************' % cat\n",
    "    data_ = data[data.Cat==cat].values\n",
    "    col_dict = {col:ind for ind,col in enumerate(data.columns)}\n",
    "\n",
    "    if cat=='Green':\n",
    "        to_fit = ['Distance_from_hole','Started_at_Z']\n",
    "    else:\n",
    "        to_fit = ['Distance_from_hole','Started_at_Z','Green_to_work_with']\n",
    "    \n",
    "    y = data_[:,col_dict['Shots_taken_from_location']]\n",
    "    groups = ['-'.join(map(str,tup)) for tup in data_[:,[col_dict[col] for col in ['Hole','Round','Course_#','Year']]].tolist()]\n",
    "    groups = le.fit_transform(groups)\n",
    "    \n",
    "    for i in range(len(to_fit)):\n",
    "        if i==0 and cat=='Green':\n",
    "            continue\n",
    "        if i==0:\n",
    "            X = data_[:,col_dict[to_fit[i]]].astype(float)[:,None]\n",
    "            X = csr_matrix(X)\n",
    "        else:\n",
    "            X = bmat([[X,data_[:,col_dict[to_fit[i]]].astype(float)[:,None]]],format='csr')\n",
    "\n",
    "        print i,X.shape[1]\n",
    "\n",
    "        fit.errors = []\n",
    "        xgbBO = BayesianOptimization(fit, {'gamma':(0,4),'max_depth':(2,10),'alpha':(0,.5),\n",
    "                                             'lamb':(0,4),'min_child_weight':(1,10),'subsample':(.5,1)})\n",
    "\n",
    "        with warnings.catch_warnings():\n",
    "            warnings.simplefilter(\"ignore\")\n",
    "            xgbBO.maximize(init_points=5,n_iter=25)\n",
    "\n",
    "        results[cat][i] = (xgbBO.res,fit.errors)"
   ]
  },
  {
   "cell_type": "code",
   "execution_count": 35,
   "metadata": {
    "collapsed": false
   },
   "outputs": [
    {
     "data": {
      "text/plain": [
       "0.11539640862089375"
      ]
     },
     "execution_count": 35,
     "metadata": {},
     "output_type": "execute_result"
    }
   ],
   "source": [
    "1/results['Green'][0][0]['max']['max_val']"
   ]
  },
  {
   "cell_type": "code",
   "execution_count": 36,
   "metadata": {
    "collapsed": false
   },
   "outputs": [
    {
     "data": {
      "text/plain": [
       "0.1153265254422018"
      ]
     },
     "execution_count": 36,
     "metadata": {},
     "output_type": "execute_result"
    }
   ],
   "source": [
    "1/results['Green'][1][0]['max']['max_val']"
   ]
  },
  {
   "cell_type": "code",
   "execution_count": 34,
   "metadata": {
    "collapsed": true
   },
   "outputs": [
    {
     "name": "stdout",
     "output_type": "stream",
     "text": [
      "Fairway\n",
      "0.317952383758\n",
      "0.316956614385\n",
      "0.316801078398\n",
      "Intermediate Rough\n",
      "0.301130965946\n",
      "0.298694166822\n",
      "0.299215781164\n",
      "Primary Rough\n",
      "0.364109169078\n",
      "0.362802242105\n",
      "0.360437663535\n",
      "Fringe\n",
      "0.182808380199\n",
      "0.182053283569\n",
      "0.182075263576\n",
      "Bunker\n",
      "0.373964709285\n",
      "0.371902854131\n",
      "0.37124986573\n",
      "Other\n",
      "0.496773358398\n",
      "0.493285056749\n",
      "0.493501654612\n"
     ]
    }
   ],
   "source": [
    "for cat in cats[1:]:\n",
    "    print cat\n",
    "    print 1/results[cat][0][0]['max']['max_val']\n",
    "    print 1/results[cat][1][0]['max']['max_val']\n",
    "    print 1/results[cat][2][0]['max']['max_val']"
   ]
  },
  {
   "cell_type": "code",
   "execution_count": 39,
   "metadata": {
    "collapsed": false
   },
   "outputs": [
    {
     "data": {
      "text/plain": [
       "{'alpha': 2.8308109297845888e-09,\n",
       " 'gamma': 0.19445677028511454,\n",
       " 'lamb': 0.64217535435683171,\n",
       " 'max_depth': 5.7678632023109344,\n",
       " 'min_child_weight': 1.1881875410401355,\n",
       " 'subsample': 1.0}"
      ]
     },
     "execution_count": 39,
     "metadata": {},
     "output_type": "execute_result"
    }
   ],
   "source": [
    "results['Bunker'][0][0]['max']['max_params']"
   ]
  },
  {
   "cell_type": "code",
   "execution_count": 41,
   "metadata": {
    "collapsed": true
   },
   "outputs": [],
   "source": [
    "def fit(params):\n",
    "    params.update({'eta':.05,'objective':'reg:linear','max_depth':int(params['max_depth']),\n",
    "                   'min_child_weight':int(params['min_child_weight']),'silent':1,'tree_method':'approx'})\n",
    "    early_stopping_rounds = 50\n",
    "    cv = GroupKFold(n_splits=15)\n",
    "    r_squareds = []\n",
    "    for train,test in cv.split(X,y,groups):\n",
    "        dtrain = xgb.DMatrix(X[train],label=y[train])\n",
    "        dtest = xgb.DMatrix(X[test],label=y[test])\n",
    "        watchlist  = [(dtrain,'train'),(dtest,'eval')]\n",
    "        num_round = 100000\n",
    "        bst = xgb.train(params,dtrain,num_round,watchlist,early_stopping_rounds=early_stopping_rounds,verbose_eval=False)\n",
    "        error = np.mean((bst.predict(dtest,ntree_limit=bst.best_iteration) - y[test])**2)\n",
    "        r_squareds.append(1-error/np.var(y[test]))\n",
    "    return r_squareds"
   ]
  },
  {
   "cell_type": "code",
   "execution_count": null,
   "metadata": {
    "collapsed": false
   },
   "outputs": [],
   "source": [
    "results2 = defaultdict(dict)\n",
    "for cat in cats:\n",
    "    print '******************* DOING %s *******************' % cat\n",
    "    data_ = data[data.Cat==cat].values\n",
    "    col_dict = {col:ind for ind,col in enumerate(data.columns)}\n",
    "\n",
    "    if cat=='Green':\n",
    "        to_fit = ['Distance_from_hole','Started_at_Z']\n",
    "    else:\n",
    "        to_fit = ['Distance_from_hole','Started_at_Z','Green_to_work_with']\n",
    "    \n",
    "    y = data_[:,col_dict['Shots_taken_from_location']]\n",
    "    groups = ['-'.join(map(str,tup)) for tup in data_[:,[col_dict[col] for col in ['Hole','Round','Course_#','Year']]].tolist()]\n",
    "    groups = le.fit_transform(groups)\n",
    "    groups_dict = {group:u for u,group in enumerate(set(groups))}\n",
    "    perm = np.random.choice(range(len(groups_dict)),size=len(groups_dict),replace=False)\n",
    "    groups = [perm[groups_dict[group]] for group in groups]\n",
    "    \n",
    "    for i in range(len(to_fit)):\n",
    "        if i==0:\n",
    "            X = data_[:,col_dict[to_fit[i]]].astype(float)[:,None]\n",
    "            X = csr_matrix(X)\n",
    "        else:\n",
    "            X = bmat([[X,data_[:,col_dict[to_fit[i]]].astype(float)[:,None]]],format='csr')\n",
    "\n",
    "        print i,X.shape[1]\n",
    "\n",
    "        results2[cat][i] = fit(results[cat][i][0]['max']['max_params'])"
   ]
  },
  {
   "cell_type": "code",
   "execution_count": null,
   "metadata": {
    "collapsed": true
   },
   "outputs": [],
   "source": []
  }
 ],
 "metadata": {
  "kernelspec": {
   "display_name": "Python 2",
   "language": "python",
   "name": "python2"
  },
  "language_info": {
   "codemirror_mode": {
    "name": "ipython",
    "version": 2
   },
   "file_extension": ".py",
   "mimetype": "text/x-python",
   "name": "python",
   "nbconvert_exporter": "python",
   "pygments_lexer": "ipython2",
   "version": "2.7.12"
  }
 },
 "nbformat": 4,
 "nbformat_minor": 0
}
