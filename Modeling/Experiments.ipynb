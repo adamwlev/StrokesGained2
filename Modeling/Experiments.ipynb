{
 "cells": [
  {
   "cell_type": "code",
   "execution_count": 1,
   "metadata": {
    "collapsed": true
   },
   "outputs": [],
   "source": [
    "import pandas as pd\n",
    "import numpy as np\n",
    "import matplotlib.pyplot as plt\n",
    "%matplotlib inline\n",
    "import feather\n",
    "import gc"
   ]
  },
  {
   "cell_type": "code",
   "execution_count": 2,
   "metadata": {
    "collapsed": false
   },
   "outputs": [
    {
     "name": "stderr",
     "output_type": "stream",
     "text": [
      "/home/ubuntu/anaconda2/lib/python2.7/site-packages/IPython/core/interactiveshell.py:2902: DtypeWarning: Columns (18,24) have mixed types. Specify dtype option on import or set low_memory=False.\n",
      "  interactivity=interactivity, compiler=compiler, result=result)\n"
     ]
    }
   ],
   "source": [
    "for year in range(2003,2017):\n",
    "    if year==2003:\n",
    "        data_ = pd.read_csv(\"./../data/%d.csv\" % year)\n",
    "        data_ = data_[['Shots_taken_from_location','Cat','Distance_from_hole','Green_to_work_with','Started_at_Z']]\n",
    "        data = data_\n",
    "        data_ = None\n",
    "        gc.collect()\n",
    "    else:\n",
    "        data_ = pd.read_csv(\"./../data/%d.csv\" % year)\n",
    "        data_ = data_[['Shots_taken_from_location','Cat','Distance_from_hole','Green_to_work_with','Started_at_Z']]\n",
    "        data = pd.concat((data,data_))\n",
    "        data_ = None\n",
    "        gc.collect()"
   ]
  },
  {
   "cell_type": "code",
   "execution_count": 3,
   "metadata": {
    "collapsed": true
   },
   "outputs": [],
   "source": [
    "data = data[data.Cat!='Tee Box']"
   ]
  },
  {
   "cell_type": "code",
   "execution_count": 4,
   "metadata": {
    "collapsed": false
   },
   "outputs": [
    {
     "data": {
      "text/plain": [
       "(10449771, 5)"
      ]
     },
     "execution_count": 4,
     "metadata": {},
     "output_type": "execute_result"
    }
   ],
   "source": [
    "data.shape"
   ]
  },
  {
   "cell_type": "code",
   "execution_count": 5,
   "metadata": {
    "collapsed": false
   },
   "outputs": [
    {
     "data": {
      "text/html": [
       "<div>\n",
       "<table border=\"1\" class=\"dataframe\">\n",
       "  <thead>\n",
       "    <tr style=\"text-align: right;\">\n",
       "      <th></th>\n",
       "      <th>Shots_taken_from_location</th>\n",
       "      <th>Cat</th>\n",
       "      <th>Distance_from_hole</th>\n",
       "      <th>Green_to_work_with</th>\n",
       "      <th>Started_at_Z</th>\n",
       "    </tr>\n",
       "  </thead>\n",
       "  <tbody>\n",
       "    <tr>\n",
       "      <th>268672</th>\n",
       "      <td>2</td>\n",
       "      <td>Intermediate Rough</td>\n",
       "      <td>455.140460</td>\n",
       "      <td>43.655204</td>\n",
       "      <td>6.865</td>\n",
       "    </tr>\n",
       "    <tr>\n",
       "      <th>268673</th>\n",
       "      <td>3</td>\n",
       "      <td>Fairway</td>\n",
       "      <td>439.086168</td>\n",
       "      <td>63.005699</td>\n",
       "      <td>-4.234</td>\n",
       "    </tr>\n",
       "    <tr>\n",
       "      <th>268674</th>\n",
       "      <td>3</td>\n",
       "      <td>Intermediate Rough</td>\n",
       "      <td>504.462646</td>\n",
       "      <td>85.944552</td>\n",
       "      <td>2.293</td>\n",
       "    </tr>\n",
       "    <tr>\n",
       "      <th>268675</th>\n",
       "      <td>2</td>\n",
       "      <td>Green</td>\n",
       "      <td>21.972140</td>\n",
       "      <td>NaN</td>\n",
       "      <td>-0.898</td>\n",
       "    </tr>\n",
       "    <tr>\n",
       "      <th>268676</th>\n",
       "      <td>3</td>\n",
       "      <td>Fairway</td>\n",
       "      <td>532.638297</td>\n",
       "      <td>24.240408</td>\n",
       "      <td>-0.026</td>\n",
       "    </tr>\n",
       "  </tbody>\n",
       "</table>\n",
       "</div>"
      ],
      "text/plain": [
       "        Shots_taken_from_location                 Cat  Distance_from_hole  \\\n",
       "268672                          2  Intermediate Rough          455.140460   \n",
       "268673                          3             Fairway          439.086168   \n",
       "268674                          3  Intermediate Rough          504.462646   \n",
       "268675                          2               Green           21.972140   \n",
       "268676                          3             Fairway          532.638297   \n",
       "\n",
       "        Green_to_work_with  Started_at_Z  \n",
       "268672           43.655204         6.865  \n",
       "268673           63.005699        -4.234  \n",
       "268674           85.944552         2.293  \n",
       "268675                 NaN        -0.898  \n",
       "268676           24.240408        -0.026  "
      ]
     },
     "execution_count": 5,
     "metadata": {},
     "output_type": "execute_result"
    }
   ],
   "source": [
    "data.head()"
   ]
  },
  {
   "cell_type": "code",
   "execution_count": 6,
   "metadata": {
    "collapsed": true
   },
   "outputs": [],
   "source": [
    "feather.write_dataframe(data, 'difficulty.feather')"
   ]
  },
  {
   "cell_type": "code",
   "execution_count": 7,
   "metadata": {
    "collapsed": false
   },
   "outputs": [],
   "source": [
    "irough = data[data.Cat=='Intermediate Rough']"
   ]
  },
  {
   "cell_type": "code",
   "execution_count": 8,
   "metadata": {
    "collapsed": false
   },
   "outputs": [
    {
     "data": {
      "text/plain": [
       "331"
      ]
     },
     "execution_count": 8,
     "metadata": {},
     "output_type": "execute_result"
    }
   ],
   "source": [
    "data = None\n",
    "gc.collect()"
   ]
  },
  {
   "cell_type": "code",
   "execution_count": 125,
   "metadata": {
    "collapsed": true
   },
   "outputs": [],
   "source": [
    "def make_natural_spline_matrix(x,df):\n",
    "    t = np.percentile(x,np.linspace(0,100,df+2)[1:-1])\n",
    "    print t\n",
    "    X = np.column_stack(([1.0]*len(x),x))\n",
    "    def d(x,e_k,e_K):\n",
    "        def pos(x,e):\n",
    "            x_ = np.copy(x)\n",
    "            x_[x<=e] = 0.0\n",
    "            x_[x>e] = (x_[x>e]-e)**3\n",
    "            return x_\n",
    "        return (pos(np.copy(x),e_k) - pos(np.copy(x),e_K))/(e_K-e_k)\n",
    "    for k in range(1,len(t)-1):\n",
    "        X = np.column_stack((X,d(np.copy(x),t[k],t[-1]) - d(np.copy(x),t[k-1],t[-1])))\n",
    "    return X"
   ]
  },
  {
   "cell_type": "code",
   "execution_count": 126,
   "metadata": {
    "collapsed": false
   },
   "outputs": [],
   "source": [
    "def plot_line(x,y):\n",
    "    df = pd.DataFrame({'x':x,'y':y})\n",
    "    df = df.sort_values('x')\n",
    "    plt.plot(df.x.values,df.y.values)"
   ]
  },
  {
   "cell_type": "code",
   "execution_count": 205,
   "metadata": {
    "collapsed": false,
    "scrolled": true
   },
   "outputs": [
    {
     "name": "stdout",
     "output_type": "stream",
     "text": [
      "[  20.84736084   27.62532294   36.29784231   46.65065629   61.05776772\n",
      "   90.78614877  247.93784943  339.57625139  391.49230827  432.32310765\n",
      "  470.52092522  509.3800531   556.73220797  632.26001077  779.58921689]\n"
     ]
    }
   ],
   "source": [
    "X_dist = make_natural_spline_matrix(irough.Distance_from_hole.values,15)"
   ]
  },
  {
   "cell_type": "code",
   "execution_count": 128,
   "metadata": {
    "collapsed": true
   },
   "outputs": [],
   "source": [
    "from sklearn.linear_model import LinearRegression"
   ]
  },
  {
   "cell_type": "code",
   "execution_count": 129,
   "metadata": {
    "collapsed": true
   },
   "outputs": [],
   "source": [
    "ols = LinearRegression()"
   ]
  },
  {
   "cell_type": "code",
   "execution_count": 130,
   "metadata": {
    "collapsed": false
   },
   "outputs": [
    {
     "data": {
      "text/plain": [
       "LinearRegression(copy_X=True, fit_intercept=True, n_jobs=1, normalize=False)"
      ]
     },
     "execution_count": 130,
     "metadata": {},
     "output_type": "execute_result"
    }
   ],
   "source": [
    "ols.fit(X_dist,irough.Shots_taken_from_location)"
   ]
  },
  {
   "cell_type": "code",
   "execution_count": 131,
   "metadata": {
    "collapsed": false
   },
   "outputs": [
    {
     "data": {
      "image/png": "[encoded data removed]",
      "text/plain": [
       "<matplotlib.figure.Figure at 0x7f54dc178f50>"
      ]
     },
     "metadata": {},
     "output_type": "display_data"
    }
   ],
   "source": [
    "plot_line(irough.Distance_from_hole/3,ols.predict(X_dist))"
   ]
  },
  {
   "cell_type": "code",
   "execution_count": 218,
   "metadata": {
    "collapsed": false,
    "scrolled": true
   },
   "outputs": [
    {
     "name": "stdout",
     "output_type": "stream",
     "text": [
      "[ 12.33183021  17.99782604  27.09903899  39.90972386  55.41064602]\n"
     ]
    }
   ],
   "source": [
    "X_gtww = make_natural_spline_matrix(irough.Green_to_work_with.values,5)"
   ]
  },
  {
   "cell_type": "code",
   "execution_count": 219,
   "metadata": {
    "collapsed": false
   },
   "outputs": [
    {
     "data": {
      "text/plain": [
       "LinearRegression(copy_X=True, fit_intercept=True, n_jobs=1, normalize=False)"
      ]
     },
     "execution_count": 219,
     "metadata": {},
     "output_type": "execute_result"
    }
   ],
   "source": [
    "ols.fit(X_gtww,irough.Shots_taken_from_location)"
   ]
  },
  {
   "cell_type": "code",
   "execution_count": 220,
   "metadata": {
    "collapsed": false
   },
   "outputs": [
    {
     "data": {
      "image/png": "[encoded data removed]",
      "text/plain": [
       "<matplotlib.figure.Figure at 0x7f54dc070ed0>"
      ]
     },
     "metadata": {},
     "output_type": "display_data"
    }
   ],
   "source": [
    "plot_line(irough.Green_to_work_with,ols.predict(X_gtww))"
   ]
  },
  {
   "cell_type": "code",
   "execution_count": 221,
   "metadata": {
    "collapsed": false
   },
   "outputs": [
    {
     "name": "stdout",
     "output_type": "stream",
     "text": [
      "[-7.532      -3.67       -1.876      -0.618       0.249       1.81057143]\n"
     ]
    }
   ],
   "source": [
    "X_elev = make_natural_spline_matrix(irough.Started_at_Z.values,6)"
   ]
  },
  {
   "cell_type": "code",
   "execution_count": 222,
   "metadata": {
    "collapsed": false,
    "scrolled": true
   },
   "outputs": [
    {
     "data": {
      "text/plain": [
       "LinearRegression(copy_X=True, fit_intercept=True, n_jobs=1, normalize=False)"
      ]
     },
     "execution_count": 222,
     "metadata": {},
     "output_type": "execute_result"
    }
   ],
   "source": [
    "ols.fit(X_elev,irough.Shots_taken_from_location)"
   ]
  },
  {
   "cell_type": "code",
   "execution_count": 223,
   "metadata": {
    "collapsed": false
   },
   "outputs": [
    {
     "data": {
      "image/png": "[encoded data removed]",
      "text/plain": [
       "<matplotlib.figure.Figure at 0x7f54d3d00f90>"
      ]
     },
     "metadata": {},
     "output_type": "display_data"
    }
   ],
   "source": [
    "plot_line(irough.Started_at_Z,ols.predict(X_elev))"
   ]
  },
  {
   "cell_type": "code",
   "execution_count": 200,
   "metadata": {
    "collapsed": true
   },
   "outputs": [],
   "source": [
    "def tensor_product(mats):\n",
    "    if len(mats)<2:\n",
    "        return \"I need at least two mats!\"\n",
    "    first = True\n",
    "    while mats:\n",
    "        if first:\n",
    "            res = np.hstack(mats[0].T[:,:,None] * mats[1][None,:,:])\n",
    "            mats = mats[2:]\n",
    "            first = False\n",
    "        else:\n",
    "            res = np.hstack(res.T[:,:,None] * mats[0][None,:,:])\n",
    "            mats = mats[1:]\n",
    "    return res"
   ]
  },
  {
   "cell_type": "code",
   "execution_count": 206,
   "metadata": {
    "collapsed": false
   },
   "outputs": [],
   "source": [
    "X = np.hstack((np.ones(len(X_dist[:150000]))[:,None],X_dist[:150000],X_gtww[:150000],X_elev[:150000],\n",
    "               tensor_product([X_dist[:150000],X_gtww[:150000],X_elev[:150000]])))"
   ]
  },
  {
   "cell_type": "code",
   "execution_count": 207,
   "metadata": {
    "collapsed": false
   },
   "outputs": [
    {
     "data": {
      "text/plain": [
       "(150000, 477)"
      ]
     },
     "execution_count": 207,
     "metadata": {},
     "output_type": "execute_result"
    }
   ],
   "source": [
    "X.shape"
   ]
  },
  {
   "cell_type": "code",
   "execution_count": 208,
   "metadata": {
    "collapsed": false
   },
   "outputs": [
    {
     "data": {
      "text/plain": [
       "LinearRegression(copy_X=True, fit_intercept=True, n_jobs=1, normalize=False)"
      ]
     },
     "execution_count": 208,
     "metadata": {},
     "output_type": "execute_result"
    }
   ],
   "source": [
    "ols.fit(X[:100000],irough.Shots_taken_from_location.values[:100000])"
   ]
  },
  {
   "cell_type": "code",
   "execution_count": 152,
   "metadata": {
    "collapsed": false
   },
   "outputs": [
    {
     "data": {
      "text/plain": [
       "0.3082622176616167"
      ]
     },
     "execution_count": 152,
     "metadata": {},
     "output_type": "execute_result"
    }
   ],
   "source": [
    "np.mean((ols.predict(X[100000:150000,:])-irough.values[100000:150000,0])**2)"
   ]
  },
  {
   "cell_type": "code",
   "execution_count": 170,
   "metadata": {
    "collapsed": false
   },
   "outputs": [
    {
     "data": {
      "text/plain": [
       "0.5425992634518548"
      ]
     },
     "execution_count": 170,
     "metadata": {},
     "output_type": "execute_result"
    }
   ],
   "source": [
    "np.mean((ols.predict(X[100000:150000,:])-irough.values[100000:150000,0])**2)"
   ]
  },
  {
   "cell_type": "code",
   "execution_count": 182,
   "metadata": {
    "collapsed": false
   },
   "outputs": [
    {
     "data": {
      "text/plain": [
       "0.45563733638456294"
      ]
     },
     "execution_count": 182,
     "metadata": {},
     "output_type": "execute_result"
    }
   ],
   "source": [
    "np.mean((ols.predict(X[100000:150000,:])-irough.values[100000:150000,0])**2)"
   ]
  },
  {
   "cell_type": "code",
   "execution_count": 193,
   "metadata": {
    "collapsed": false
   },
   "outputs": [
    {
     "data": {
      "text/plain": [
       "0.4450840539927006"
      ]
     },
     "execution_count": 193,
     "metadata": {},
     "output_type": "execute_result"
    }
   ],
   "source": [
    "np.mean((ols.predict(X[100000:150000,:])-irough.values[100000:150000,0])**2)"
   ]
  },
  {
   "cell_type": "code",
   "execution_count": 204,
   "metadata": {
    "collapsed": false
   },
   "outputs": [
    {
     "data": {
      "text/plain": [
       "0.2868592823036484"
      ]
     },
     "execution_count": 204,
     "metadata": {},
     "output_type": "execute_result"
    }
   ],
   "source": [
    "np.mean((ols.predict(X[100000:150000,:])-irough.values[100000:150000,0])**2)"
   ]
  },
  {
   "cell_type": "code",
   "execution_count": 209,
   "metadata": {
    "collapsed": false
   },
   "outputs": [
    {
     "data": {
      "text/plain": [
       "0.28740377510245824"
      ]
     },
     "execution_count": 209,
     "metadata": {},
     "output_type": "execute_result"
    }
   ],
   "source": [
    "np.mean((ols.predict(X[100000:150000,:])-irough.values[100000:150000,0])**2)"
   ]
  },
  {
   "cell_type": "code",
   "execution_count": 210,
   "metadata": {
    "collapsed": true
   },
   "outputs": [],
   "source": [
    "from sklearn.linear_model import LassoCV"
   ]
  },
  {
   "cell_type": "code",
   "execution_count": 211,
   "metadata": {
    "collapsed": true
   },
   "outputs": [],
   "source": [
    "lcv = LassoCV(n_alphas=50,normalize=True,max_iter=10000, tol=0.0001, copy_X=False, cv=5)"
   ]
  },
  {
   "cell_type": "code",
   "execution_count": 212,
   "metadata": {
    "collapsed": false,
    "scrolled": true
   },
   "outputs": [
    {
     "data": {
      "text/plain": [
       "LassoCV(alphas=None, copy_X=False, cv=5, eps=0.001, fit_intercept=True,\n",
       "    max_iter=10000, n_alphas=50, n_jobs=1, normalize=True, positive=False,\n",
       "    precompute='auto', random_state=None, selection='cyclic', tol=0.0001,\n",
       "    verbose=False)"
      ]
     },
     "execution_count": 212,
     "metadata": {},
     "output_type": "execute_result"
    }
   ],
   "source": [
    "lcv.fit(X[:100000],irough.Shots_taken_from_location.values[:100000])"
   ]
  },
  {
   "cell_type": "code",
   "execution_count": 213,
   "metadata": {
    "collapsed": false
   },
   "outputs": [
    {
     "data": {
      "image/png": "[encoded data removed]",
      "text/plain": [
       "<matplotlib.figure.Figure at 0x7f54d3fd6090>"
      ]
     },
     "metadata": {},
     "output_type": "display_data"
    }
   ],
   "source": [
    "plt.figure(figsize=(10,5))\n",
    "for fold in range(5):\n",
    "    plt.plot(lcv.alphas_,lcv.mse_path_[:,fold],lw=1);\n",
    "plt.plot(lcv.alphas_,lcv.mse_path_.mean(1),lw=3,color=\"purple\");\n",
    "plt.axhline(np.var(irough.Shots_taken_from_location.values[:50000]),label='MSE of Prediction with Mean',lw=2,ls='--',c='r');\n",
    "plt.legend();\n",
    "#plt.ylim(0,12e14);\n",
    "plt.ylabel('Mean Squared Error');\n",
    "plt.xlabel('Lambda');"
   ]
  },
  {
   "cell_type": "code",
   "execution_count": 215,
   "metadata": {
    "collapsed": false
   },
   "outputs": [
    {
     "data": {
      "text/plain": [
       "0.31827651412318703"
      ]
     },
     "execution_count": 215,
     "metadata": {},
     "output_type": "execute_result"
    }
   ],
   "source": [
    "lcv.mse_path_[:,0].mean()"
   ]
  },
  {
   "cell_type": "code",
   "execution_count": 101,
   "metadata": {
    "collapsed": true
   },
   "outputs": [],
   "source": [
    "from sklearn.ensemble import GradientBoostingRegressor"
   ]
  },
  {
   "cell_type": "code",
   "execution_count": 121,
   "metadata": {
    "collapsed": false
   },
   "outputs": [],
   "source": [
    "gbr = GradientBoostingRegressor(loss='ls', learning_rate=0.008, n_estimators=700, subsample=.5,\n",
    "                                min_samples_split=2, min_samples_leaf=1, max_depth=3, max_features=None, verbose=5)"
   ]
  },
  {
   "cell_type": "code",
   "execution_count": 122,
   "metadata": {
    "collapsed": false
   },
   "outputs": [
    {
     "name": "stdout",
     "output_type": "stream",
     "text": [
      "      Iter       Train Loss      OOB Improve   Remaining Time \n",
      "         1           0.5369           0.0037           47.21s\n",
      "         2           0.5355           0.0036           47.09s\n",
      "         3           0.5317           0.0036           47.12s\n",
      "         4           0.5269           0.0035           47.18s\n",
      "         5           0.5217           0.0035           47.15s\n",
      "         6           0.5173           0.0034           47.19s\n",
      "         7           0.5143           0.0034           47.20s\n",
      "         8           0.5165           0.0033           47.17s\n",
      "         9           0.5071           0.0033           47.13s\n",
      "        10           0.5073           0.0032           47.06s\n",
      "        11           0.5022           0.0031           46.95s\n",
      "        12           0.4999           0.0031           46.85s\n",
      "        13           0.4988           0.0031           46.78s\n",
      "        14           0.4957           0.0030           46.73s\n",
      "        15           0.4943           0.0030           46.65s\n",
      "        16           0.4931           0.0029           46.58s\n",
      "        17           0.4888           0.0028           46.50s\n",
      "        18           0.4795           0.0028           46.41s\n",
      "        19           0.4802           0.0028           46.34s\n",
      "        20           0.4761           0.0027           46.27s\n",
      "        21           0.4743           0.0027           46.19s\n",
      "        22           0.4712           0.0026           46.13s\n",
      "        23           0.4665           0.0026           46.07s\n",
      "        24           0.4631           0.0026           46.02s\n",
      "        25           0.4643           0.0025           45.96s\n",
      "        26           0.4646           0.0025           45.89s\n",
      "        27           0.4610           0.0025           45.83s\n",
      "        28           0.4566           0.0024           45.77s\n",
      "        29           0.4544           0.0024           45.71s\n",
      "        30           0.4517           0.0023           45.66s\n",
      "        31           0.4494           0.0023           45.59s\n",
      "        32           0.4500           0.0023           45.54s\n",
      "        33           0.4456           0.0022           45.47s\n",
      "        34           0.4450           0.0022           45.41s\n",
      "        35           0.4413           0.0021           45.34s\n",
      "        36           0.4403           0.0021           45.26s\n",
      "        37           0.4359           0.0021           45.19s\n",
      "        38           0.4346           0.0021           45.11s\n",
      "        39           0.4302           0.0020           45.04s\n",
      "        40           0.4312           0.0020           44.97s\n",
      "        41           0.4289           0.0019           44.89s\n",
      "        42           0.4272           0.0019           44.84s\n",
      "        43           0.4249           0.0019           44.77s\n",
      "        44           0.4273           0.0019           44.70s\n",
      "        45           0.4217           0.0018           44.63s\n",
      "        46           0.4219           0.0018           44.56s\n",
      "        47           0.4176           0.0018           44.49s\n",
      "        48           0.4174           0.0018           44.42s\n",
      "        49           0.4160           0.0017           44.35s\n",
      "        50           0.4142           0.0017           44.27s\n",
      "        51           0.4100           0.0017           44.20s\n",
      "        52           0.4089           0.0016           44.12s\n",
      "        53           0.4091           0.0016           44.05s\n",
      "        54           0.4056           0.0016           43.99s\n",
      "        55           0.4010           0.0016           43.92s\n",
      "        56           0.4047           0.0015           43.86s\n",
      "        57           0.3960           0.0015           43.79s\n",
      "        58           0.4005           0.0015           43.73s\n",
      "        59           0.3988           0.0015           43.66s\n",
      "        60           0.3959           0.0015           43.59s\n",
      "        61           0.3938           0.0014           43.53s\n",
      "        62           0.3930           0.0014           43.46s\n",
      "        63           0.3909           0.0014           43.40s\n",
      "        64           0.3915           0.0014           43.34s\n",
      "        65           0.3884           0.0014           43.28s\n",
      "        66           0.3877           0.0013           43.20s\n",
      "        67           0.3883           0.0013           43.13s\n",
      "        68           0.3840           0.0013           43.05s\n",
      "        69           0.3823           0.0013           42.98s\n",
      "        70           0.3839           0.0012           42.91s\n",
      "        71           0.3836           0.0012           42.83s\n",
      "        72           0.3805           0.0012           42.77s\n",
      "        73           0.3784           0.0012           42.70s\n",
      "        74           0.3788           0.0012           42.64s\n",
      "        75           0.3755           0.0012           42.57s\n",
      "        76           0.3743           0.0011           42.51s\n",
      "        77           0.3744           0.0011           42.44s\n",
      "        78           0.3764           0.0011           42.38s\n",
      "        79           0.3726           0.0011           42.31s\n",
      "        80           0.3739           0.0011           42.24s\n",
      "        81           0.3696           0.0010           42.18s\n",
      "        82           0.3702           0.0010           42.11s\n",
      "        83           0.3705           0.0010           42.05s\n",
      "        84           0.3664           0.0010           41.99s\n",
      "        85           0.3682           0.0010           41.92s\n",
      "        86           0.3653           0.0010           41.85s\n",
      "        87           0.3646           0.0010           41.78s\n",
      "        88           0.3602           0.0009           41.71s\n",
      "        89           0.3636           0.0009           41.64s\n",
      "        90           0.3617           0.0009           41.58s\n",
      "        91           0.3590           0.0009           41.51s\n",
      "        92           0.3603           0.0009           41.44s\n",
      "        93           0.3573           0.0009           41.37s\n",
      "        94           0.3587           0.0009           41.31s\n",
      "        95           0.3579           0.0008           41.24s\n",
      "        96           0.3571           0.0008           41.17s\n",
      "        97           0.3548           0.0008           41.10s\n",
      "        98           0.3570           0.0008           41.04s\n",
      "        99           0.3561           0.0008           40.97s\n",
      "       100           0.3508           0.0008           40.90s\n",
      "       101           0.3517           0.0008           40.83s\n",
      "       102           0.3503           0.0008           40.76s\n",
      "       103           0.3512           0.0007           40.70s\n",
      "       104           0.3487           0.0007           40.63s\n",
      "       105           0.3505           0.0007           40.56s\n",
      "       106           0.3495           0.0007           40.49s\n",
      "       107           0.3473           0.0007           40.42s\n",
      "       108           0.3446           0.0007           40.35s\n",
      "       109           0.3448           0.0007           40.29s\n",
      "       110           0.3449           0.0007           40.21s\n",
      "       111           0.3444           0.0006           40.14s\n",
      "       112           0.3445           0.0006           40.07s\n",
      "       113           0.3458           0.0006           39.99s\n",
      "       114           0.3409           0.0006           39.92s\n",
      "       115           0.3411           0.0006           39.86s\n",
      "       116           0.3434           0.0006           39.79s\n",
      "       117           0.3449           0.0006           39.72s\n",
      "       118           0.3423           0.0006           39.65s\n",
      "       119           0.3388           0.0006           39.57s\n",
      "       120           0.3398           0.0006           39.50s\n",
      "       121           0.3410           0.0006           39.43s\n",
      "       122           0.3398           0.0005           39.36s\n",
      "       123           0.3387           0.0005           39.29s\n",
      "       124           0.3374           0.0005           39.22s\n",
      "       125           0.3372           0.0005           39.16s\n",
      "       126           0.3399           0.0005           39.08s\n",
      "       127           0.3371           0.0005           39.01s\n",
      "       128           0.3349           0.0005           38.94s\n",
      "       129           0.3357           0.0005           38.87s\n",
      "       130           0.3372           0.0005           38.79s\n",
      "       131           0.3344           0.0005           38.72s\n",
      "       132           0.3323           0.0005           38.65s\n",
      "       133           0.3352           0.0005           38.58s\n",
      "       134           0.3314           0.0005           38.51s\n",
      "       135           0.3331           0.0005           38.44s\n",
      "       136           0.3279           0.0004           38.37s\n",
      "       137           0.3324           0.0004           38.30s\n",
      "       138           0.3302           0.0004           38.23s\n",
      "       139           0.3285           0.0004           38.16s\n",
      "       140           0.3321           0.0004           38.09s\n",
      "       141           0.3304           0.0004           38.01s\n",
      "       142           0.3317           0.0004           37.94s\n",
      "       143           0.3306           0.0004           37.87s\n",
      "       144           0.3301           0.0004           37.80s\n",
      "       145           0.3291           0.0004           37.73s\n",
      "       146           0.3289           0.0004           37.65s\n",
      "       147           0.3277           0.0004           37.59s\n",
      "       148           0.3264           0.0004           37.52s\n",
      "       149           0.3266           0.0004           37.45s\n",
      "       150           0.3249           0.0004           37.38s\n",
      "       151           0.3249           0.0004           37.31s\n",
      "       152           0.3253           0.0003           37.24s\n",
      "       153           0.3263           0.0003           37.17s\n",
      "       154           0.3224           0.0003           37.10s\n",
      "       155           0.3263           0.0003           37.02s\n",
      "       156           0.3243           0.0003           36.95s\n",
      "       157           0.3240           0.0003           36.88s\n",
      "       158           0.3230           0.0003           36.81s\n",
      "       159           0.3253           0.0003           36.74s\n",
      "       160           0.3234           0.0003           36.67s\n",
      "       161           0.3228           0.0003           36.60s\n",
      "       162           0.3218           0.0003           36.53s\n",
      "       163           0.3243           0.0003           36.46s\n",
      "       164           0.3222           0.0003           36.39s\n",
      "       165           0.3235           0.0003           36.32s\n",
      "       166           0.3212           0.0003           36.25s\n",
      "       167           0.3208           0.0003           36.18s\n",
      "       168           0.3191           0.0003           36.11s\n",
      "       169           0.3191           0.0003           36.05s\n",
      "       170           0.3182           0.0003           35.98s\n",
      "       171           0.3209           0.0003           35.91s\n",
      "       172           0.3196           0.0003           35.84s\n",
      "       173           0.3206           0.0003           35.78s\n",
      "       174           0.3200           0.0002           35.71s\n",
      "       175           0.3181           0.0002           35.65s\n",
      "       176           0.3177           0.0002           35.58s\n",
      "       177           0.3173           0.0002           35.51s\n",
      "       178           0.3192           0.0002           35.45s\n",
      "       179           0.3191           0.0002           35.38s\n",
      "       180           0.3185           0.0002           35.32s\n",
      "       181           0.3150           0.0002           35.25s\n",
      "       182           0.3195           0.0002           35.18s\n",
      "       183           0.3149           0.0002           35.11s\n",
      "       184           0.3179           0.0002           35.05s\n",
      "       185           0.3187           0.0002           34.98s\n",
      "       186           0.3151           0.0002           34.91s\n",
      "       187           0.3193           0.0002           34.85s\n",
      "       188           0.3157           0.0002           34.78s\n",
      "       189           0.3158           0.0002           34.71s\n",
      "       190           0.3168           0.0002           34.64s\n",
      "       191           0.3157           0.0002           34.57s\n",
      "       192           0.3141           0.0002           34.51s\n",
      "       193           0.3167           0.0002           34.44s\n",
      "       194           0.3171           0.0002           34.37s\n",
      "       195           0.3143           0.0002           34.30s\n",
      "       196           0.3164           0.0002           34.24s\n",
      "       197           0.3135           0.0002           34.17s\n",
      "       198           0.3128           0.0002           34.10s\n",
      "       199           0.3160           0.0002           34.03s\n",
      "       200           0.3130           0.0002           33.96s\n",
      "       201           0.3134           0.0002           33.89s\n",
      "       202           0.3128           0.0002           33.82s\n",
      "       203           0.3125           0.0002           33.76s\n",
      "       204           0.3141           0.0002           33.69s\n",
      "       205           0.3150           0.0002           33.62s\n",
      "       206           0.3121           0.0002           33.55s\n",
      "       207           0.3131           0.0001           33.48s\n",
      "       208           0.3153           0.0001           33.41s\n",
      "       209           0.3129           0.0001           33.34s\n",
      "       210           0.3113           0.0001           33.28s\n",
      "       211           0.3121           0.0001           33.21s\n",
      "       212           0.3112           0.0001           33.14s\n",
      "       213           0.3110           0.0001           33.07s\n",
      "       214           0.3109           0.0001           33.00s\n",
      "       215           0.3150           0.0001           32.93s\n",
      "       216           0.3115           0.0001           32.87s\n",
      "       217           0.3115           0.0001           32.80s\n",
      "       218           0.3154           0.0001           32.73s\n",
      "       219           0.3114           0.0001           32.66s\n",
      "       220           0.3094           0.0001           32.59s\n",
      "       221           0.3091           0.0001           32.53s\n",
      "       222           0.3116           0.0001           32.46s\n",
      "       223           0.3107           0.0001           32.39s\n",
      "       224           0.3121           0.0001           32.32s\n",
      "       225           0.3103           0.0001           32.25s\n",
      "       226           0.3098           0.0001           32.18s\n",
      "       227           0.3083           0.0001           32.11s\n",
      "       228           0.3108           0.0001           32.05s\n",
      "       229           0.3122           0.0001           31.98s\n",
      "       230           0.3095           0.0001           31.91s\n",
      "       231           0.3088           0.0001           31.84s\n",
      "       232           0.3105           0.0001           31.77s\n",
      "       233           0.3062           0.0001           31.70s\n",
      "       234           0.3108           0.0001           31.63s\n",
      "       235           0.3097           0.0001           31.56s\n",
      "       236           0.3099           0.0001           31.49s\n",
      "       237           0.3077           0.0001           31.42s\n",
      "       238           0.3102           0.0001           31.36s\n",
      "       239           0.3118           0.0001           31.29s\n",
      "       240           0.3077           0.0001           31.22s\n",
      "       241           0.3074           0.0001           31.15s\n",
      "       242           0.3092           0.0001           31.09s\n",
      "       243           0.3092           0.0001           31.02s\n",
      "       244           0.3078           0.0001           30.95s\n",
      "       245           0.3076           0.0001           30.88s\n",
      "       246           0.3082           0.0001           30.82s\n",
      "       247           0.3075           0.0001           30.75s\n",
      "       248           0.3115           0.0001           30.68s\n",
      "       249           0.3060           0.0001           30.61s\n",
      "       250           0.3085           0.0001           30.54s\n",
      "       251           0.3096           0.0001           30.48s\n",
      "       252           0.3068           0.0001           30.41s\n",
      "       253           0.3076           0.0001           30.34s\n",
      "       254           0.3092           0.0001           30.27s\n",
      "       255           0.3065           0.0001           30.20s\n",
      "       256           0.3078           0.0001           30.13s\n",
      "       257           0.3068           0.0001           30.06s\n",
      "       258           0.3082           0.0001           29.99s\n",
      "       259           0.3061           0.0001           29.92s\n",
      "       260           0.3078           0.0001           29.86s\n",
      "       261           0.3074           0.0001           29.79s\n",
      "       262           0.3098           0.0001           29.72s\n",
      "       263           0.3044           0.0001           29.65s\n",
      "       264           0.3074           0.0001           29.58s\n",
      "       265           0.3081           0.0001           29.51s\n",
      "       266           0.3072           0.0001           29.44s\n",
      "       267           0.3066           0.0001           29.37s\n",
      "       268           0.3071           0.0001           29.30s\n",
      "       269           0.3056           0.0001           29.23s\n",
      "       270           0.3070           0.0001           29.16s\n",
      "       271           0.3082           0.0001           29.09s\n",
      "       272           0.3061           0.0001           29.03s\n",
      "       273           0.3043           0.0001           28.96s\n",
      "       274           0.3067           0.0001           28.89s\n",
      "       275           0.3051           0.0001           28.82s\n",
      "       276           0.3061           0.0001           28.75s\n",
      "       277           0.3046           0.0000           28.68s\n",
      "       278           0.3077           0.0000           28.61s\n",
      "       279           0.3053           0.0000           28.54s\n",
      "       280           0.3041           0.0000           28.48s\n",
      "       281           0.3058           0.0000           28.41s\n",
      "       282           0.3069           0.0000           28.34s\n",
      "       283           0.3067           0.0000           28.27s\n",
      "       284           0.3042           0.0000           28.20s\n",
      "       285           0.3073           0.0000           28.13s\n",
      "       286           0.3061           0.0000           28.06s\n",
      "       287           0.3052           0.0000           27.99s\n",
      "       288           0.3073           0.0000           27.92s\n",
      "       289           0.3055           0.0000           27.85s\n",
      "       290           0.3041           0.0000           27.78s\n",
      "       291           0.3062           0.0000           27.71s\n",
      "       292           0.3048           0.0000           27.65s\n",
      "       293           0.3075           0.0000           27.58s\n",
      "       294           0.3034           0.0000           27.51s\n",
      "       295           0.3057           0.0000           27.44s\n",
      "       296           0.3065           0.0000           27.37s\n",
      "       297           0.3068           0.0000           27.30s\n",
      "       298           0.3057           0.0000           27.23s\n",
      "       299           0.3055           0.0000           27.16s\n",
      "       300           0.3072           0.0000           27.09s\n",
      "       301           0.3036           0.0000           27.02s\n",
      "       302           0.3057           0.0000           26.95s\n",
      "       303           0.3043           0.0000           26.89s\n",
      "       304           0.3066           0.0000           26.82s\n",
      "       305           0.3040           0.0000           26.75s\n",
      "       306           0.3038           0.0000           26.68s\n",
      "       307           0.3057           0.0000           26.61s\n",
      "       308           0.3056           0.0000           26.54s\n",
      "       309           0.3035           0.0000           26.47s\n",
      "       310           0.3039           0.0000           26.40s\n",
      "       311           0.3052           0.0000           26.33s\n",
      "       312           0.3065           0.0000           26.27s\n",
      "       313           0.3059           0.0000           26.20s\n",
      "       314           0.3038           0.0000           26.13s\n",
      "       315           0.3055           0.0000           26.06s\n",
      "       316           0.3058           0.0000           25.99s\n",
      "       317           0.3023           0.0000           25.92s\n",
      "       318           0.3040           0.0000           25.85s\n",
      "       319           0.3047           0.0000           25.79s\n",
      "       320           0.3055           0.0000           25.72s\n",
      "       321           0.3027           0.0000           25.65s\n",
      "       322           0.3033           0.0000           25.58s\n",
      "       323           0.3028           0.0000           25.51s\n",
      "       324           0.3044           0.0000           25.44s\n",
      "       325           0.3062           0.0000           25.38s\n",
      "       326           0.3027           0.0000           25.31s\n",
      "       327           0.3040           0.0000           25.24s\n",
      "       328           0.3047           0.0000           25.17s\n",
      "       329           0.3030           0.0000           25.11s\n",
      "       330           0.3042           0.0000           25.04s\n",
      "       331           0.3055           0.0000           24.97s\n",
      "       332           0.3053           0.0000           24.90s\n",
      "       333           0.3036           0.0000           24.84s\n",
      "       334           0.3026           0.0000           24.77s\n",
      "       335           0.3046           0.0000           24.70s\n",
      "       336           0.3033           0.0000           24.63s\n",
      "       337           0.3069           0.0000           24.56s\n",
      "       338           0.3034           0.0000           24.49s\n",
      "       339           0.3050           0.0000           24.43s\n",
      "       340           0.3056           0.0000           24.36s\n",
      "       341           0.3022           0.0000           24.29s\n",
      "       342           0.3037           0.0000           24.22s\n",
      "       343           0.3032           0.0000           24.15s\n",
      "       344           0.3041           0.0000           24.09s\n",
      "       345           0.3057           0.0000           24.02s\n",
      "       346           0.3025           0.0000           23.95s\n",
      "       347           0.3060           0.0000           23.88s\n",
      "       348           0.3039           0.0000           23.82s\n",
      "       349           0.3024           0.0000           23.75s\n",
      "       350           0.3019           0.0000           23.68s\n",
      "       351           0.3037           0.0000           23.61s\n",
      "       352           0.3052           0.0000           23.54s\n",
      "       353           0.3052           0.0000           23.47s\n",
      "       354           0.3034           0.0000           23.41s\n",
      "       355           0.3048           0.0000           23.34s\n",
      "       356           0.3029           0.0000           23.27s\n",
      "       357           0.3032           0.0000           23.20s\n",
      "       358           0.3030           0.0000           23.13s\n",
      "       359           0.3038           0.0000           23.07s\n",
      "       360           0.3054           0.0000           23.00s\n",
      "       361           0.3033           0.0000           22.93s\n",
      "       362           0.3038           0.0000           22.86s\n",
      "       363           0.3019           0.0000           22.80s\n",
      "       364           0.3035           0.0000           22.73s\n",
      "       365           0.3054           0.0000           22.66s\n",
      "       366           0.3017           0.0000           22.59s\n",
      "       367           0.3035           0.0000           22.52s\n",
      "       368           0.3031           0.0000           22.46s\n",
      "       369           0.3036           0.0000           22.39s\n",
      "       370           0.3023           0.0000           22.32s\n",
      "       371           0.3034           0.0000           22.25s\n",
      "       372           0.3027           0.0000           22.19s\n",
      "       373           0.3021           0.0000           22.12s\n",
      "       374           0.3036           0.0000           22.05s\n",
      "       375           0.3024           0.0000           21.98s\n",
      "       376           0.3024           0.0000           21.91s\n",
      "       377           0.3041           0.0000           21.85s\n",
      "       378           0.3056           0.0000           21.78s\n",
      "       379           0.3049           0.0000           21.71s\n",
      "       380           0.3047           0.0000           21.64s\n",
      "       381           0.3018           0.0000           21.58s\n",
      "       382           0.3036           0.0000           21.51s\n",
      "       383           0.3040           0.0000           21.44s\n",
      "       384           0.3029           0.0000           21.37s\n",
      "       385           0.3018           0.0000           21.30s\n",
      "       386           0.3049           0.0000           21.24s\n",
      "       387           0.3047           0.0000           21.17s\n",
      "       388           0.3048           0.0000           21.10s\n",
      "       389           0.3018           0.0000           21.03s\n",
      "       390           0.3038           0.0000           20.96s\n",
      "       391           0.3020           0.0000           20.90s\n",
      "       392           0.3055           0.0000           20.83s\n",
      "       393           0.3047           0.0000           20.76s\n",
      "       394           0.3035           0.0000           20.69s\n",
      "       395           0.3020           0.0000           20.62s\n",
      "       396           0.3025           0.0000           20.55s\n",
      "       397           0.3036           0.0000           20.49s\n",
      "       398           0.3020           0.0000           20.42s\n",
      "       399           0.3028           0.0000           20.35s\n",
      "       400           0.3021           0.0000           20.28s\n",
      "       401           0.3033           0.0000           20.21s\n",
      "       402           0.3041           0.0000           20.15s\n",
      "       403           0.3018           0.0000           20.08s\n",
      "       404           0.3024           0.0000           20.01s\n",
      "       405           0.3026           0.0000           19.94s\n",
      "       406           0.3045           0.0000           19.87s\n",
      "       407           0.3042           0.0000           19.81s\n",
      "       408           0.3040           0.0000           19.74s\n",
      "       409           0.3021           0.0000           19.67s\n",
      "       410           0.3023           0.0000           19.60s\n",
      "       411           0.3049           0.0000           19.54s\n",
      "       412           0.3032           0.0000           19.47s\n",
      "       413           0.3028           0.0000           19.40s\n",
      "       414           0.3022           0.0000           19.33s\n",
      "       415           0.3037           0.0000           19.26s\n",
      "       416           0.3041           0.0000           19.20s\n",
      "       417           0.3033           0.0000           19.13s\n",
      "       418           0.3043           0.0000           19.06s\n",
      "       419           0.3030           0.0000           18.99s\n",
      "       420           0.3029           0.0000           18.92s\n",
      "       421           0.3035           0.0000           18.86s\n",
      "       422           0.3044           0.0000           18.79s\n",
      "       423           0.3034           0.0000           18.72s\n",
      "       424           0.3040           0.0000           18.65s\n",
      "       425           0.3026           0.0000           18.59s\n",
      "       426           0.3017           0.0000           18.52s\n",
      "       427           0.3022           0.0000           18.45s\n",
      "       428           0.3042           0.0000           18.38s\n",
      "       429           0.3019           0.0000           18.32s\n",
      "       430           0.3036           0.0000           18.25s\n",
      "       431           0.3038           0.0000           18.18s\n",
      "       432           0.3057           0.0000           18.11s\n",
      "       433           0.3061           0.0000           18.04s\n",
      "       434           0.3023           0.0000           17.98s\n",
      "       435           0.3015           0.0000           17.91s\n",
      "       436           0.3024           0.0000           17.84s\n",
      "       437           0.3031           0.0000           17.77s\n",
      "       438           0.3028           0.0000           17.70s\n",
      "       439           0.3017           0.0000           17.63s\n",
      "       440           0.3024           0.0000           17.57s\n",
      "       441           0.3021           0.0000           17.50s\n",
      "       442           0.3021           0.0000           17.43s\n",
      "       443           0.3034           0.0000           17.36s\n",
      "       444           0.3053           0.0000           17.29s\n",
      "       445           0.3036           0.0000           17.22s\n",
      "       446           0.3022           0.0000           17.16s\n",
      "       447           0.3032           0.0000           17.09s\n",
      "       448           0.3008           0.0000           17.02s\n",
      "       449           0.3004           0.0000           16.95s\n",
      "       450           0.3030           0.0000           16.88s\n",
      "       451           0.3036           0.0000           16.82s\n",
      "       452           0.3024           0.0000           16.75s\n",
      "       453           0.3037           0.0000           16.68s\n",
      "       454           0.3032           0.0000           16.61s\n",
      "       455           0.3011           0.0000           16.55s\n",
      "       456           0.3013           0.0000           16.48s\n",
      "       457           0.2998           0.0000           16.41s\n",
      "       458           0.3035           0.0000           16.34s\n",
      "       459           0.3011           0.0000           16.27s\n",
      "       460           0.3012           0.0000           16.21s\n",
      "       461           0.3039           0.0000           16.14s\n",
      "       462           0.3024           0.0000           16.07s\n",
      "       463           0.3027           0.0000           16.00s\n",
      "       464           0.3020           0.0000           15.94s\n",
      "       465           0.3038           0.0000           15.87s\n",
      "       466           0.3018           0.0000           15.80s\n",
      "       467           0.3015           0.0000           15.73s\n",
      "       468           0.3038           0.0000           15.66s\n",
      "       469           0.2995           0.0000           15.59s\n",
      "       470           0.3014           0.0000           15.53s\n",
      "       471           0.3033           0.0000           15.46s\n",
      "       472           0.3042           0.0000           15.39s\n",
      "       473           0.3038           0.0000           15.32s\n",
      "       474           0.3010           0.0000           15.26s\n",
      "       475           0.3041           0.0000           15.19s\n",
      "       476           0.3037           0.0000           15.12s\n",
      "       477           0.3035           0.0000           15.05s\n",
      "       478           0.3048           0.0000           14.99s\n",
      "       479           0.3050           0.0000           14.92s\n",
      "       480           0.3025           0.0000           14.85s\n",
      "       481           0.3026           0.0000           14.78s\n",
      "       482           0.3041           0.0000           14.72s\n",
      "       483           0.3012           0.0000           14.65s\n",
      "       484           0.3023           0.0000           14.58s\n",
      "       485           0.3030           0.0000           14.51s\n",
      "       486           0.3003           0.0000           14.45s\n",
      "       487           0.3012           0.0000           14.38s\n",
      "       488           0.3029           0.0000           14.31s\n",
      "       489           0.3015           0.0000           14.24s\n",
      "       490           0.3025           0.0000           14.17s\n",
      "       491           0.3011           0.0000           14.11s\n",
      "       492           0.3002           0.0000           14.04s\n",
      "       493           0.3004           0.0000           13.97s\n",
      "       494           0.3001           0.0000           13.90s\n",
      "       495           0.3043           0.0000           13.84s\n",
      "       496           0.3036           0.0000           13.77s\n",
      "       497           0.3042           0.0000           13.70s\n",
      "       498           0.3020           0.0000           13.63s\n",
      "       499           0.3021           0.0000           13.57s\n",
      "       500           0.3014           0.0000           13.50s\n",
      "       501           0.3010           0.0000           13.43s\n",
      "       502           0.3013           0.0000           13.36s\n",
      "       503           0.3006           0.0000           13.30s\n",
      "       504           0.3028           0.0000           13.23s\n",
      "       505           0.3008           0.0000           13.16s\n",
      "       506           0.3015           0.0000           13.09s\n",
      "       507           0.3037           0.0000           13.02s\n",
      "       508           0.3004           0.0000           12.96s\n",
      "       509           0.3025           0.0000           12.89s\n",
      "       510           0.3038           0.0000           12.82s\n",
      "       511           0.3009           0.0000           12.75s\n",
      "       512           0.3039           0.0000           12.69s\n",
      "       513           0.3036           0.0000           12.62s\n",
      "       514           0.3036           0.0000           12.55s\n",
      "       515           0.3011           0.0000           12.48s\n",
      "       516           0.3009           0.0000           12.42s\n",
      "       517           0.3037           0.0000           12.35s\n",
      "       518           0.3032           0.0000           12.28s\n",
      "       519           0.3023           0.0000           12.21s\n",
      "       520           0.3011           0.0000           12.15s\n",
      "       521           0.3031           0.0000           12.08s\n",
      "       522           0.3006           0.0000           12.01s\n",
      "       523           0.3019           0.0000           11.94s\n",
      "       524           0.3019           0.0000           11.87s\n",
      "       525           0.3033           0.0000           11.81s\n",
      "       526           0.3038           0.0000           11.74s\n",
      "       527           0.3013           0.0000           11.67s\n",
      "       528           0.3045           0.0000           11.60s\n",
      "       529           0.3011           0.0000           11.54s\n",
      "       530           0.3026           0.0000           11.47s\n",
      "       531           0.3020           0.0000           11.40s\n",
      "       532           0.3040           0.0000           11.33s\n",
      "       533           0.3015           0.0000           11.27s\n",
      "       534           0.3031           0.0000           11.20s\n",
      "       535           0.2997           0.0000           11.13s\n",
      "       536           0.3011           0.0000           11.06s\n",
      "       537           0.3017          -0.0000           10.99s\n",
      "       538           0.3024           0.0000           10.93s\n",
      "       539           0.3010           0.0000           10.86s\n",
      "       540           0.3026           0.0000           10.79s\n",
      "       541           0.2991           0.0000           10.72s\n",
      "       542           0.3014           0.0000           10.65s\n",
      "       543           0.3027           0.0000           10.59s\n",
      "       544           0.3032           0.0000           10.52s\n",
      "       545           0.3008           0.0000           10.45s\n",
      "       546           0.2986           0.0000           10.38s\n",
      "       547           0.3021           0.0000           10.32s\n",
      "       548           0.2999           0.0000           10.25s\n",
      "       549           0.3037          -0.0000           10.18s\n",
      "       550           0.3026           0.0000           10.11s\n",
      "       551           0.3013          -0.0000           10.05s\n",
      "       552           0.3022           0.0000            9.98s\n",
      "       553           0.3040          -0.0000            9.91s\n",
      "       554           0.3017           0.0000            9.84s\n",
      "       555           0.3003           0.0000            9.78s\n",
      "       556           0.2998           0.0000            9.71s\n",
      "       557           0.3012          -0.0000            9.64s\n",
      "       558           0.3010           0.0000            9.57s\n",
      "       559           0.3026           0.0000            9.50s\n",
      "       560           0.3011           0.0000            9.44s\n",
      "       561           0.3015          -0.0000            9.37s\n",
      "       562           0.3017           0.0000            9.30s\n",
      "       563           0.3012          -0.0000            9.23s\n",
      "       564           0.3038           0.0000            9.17s\n",
      "       565           0.3020           0.0000            9.10s\n",
      "       566           0.3040           0.0000            9.03s\n",
      "       567           0.3014           0.0000            8.96s\n",
      "       568           0.3008           0.0000            8.90s\n",
      "       569           0.3002           0.0000            8.83s\n",
      "       570           0.3010           0.0000            8.76s\n",
      "       571           0.3025           0.0000            8.69s\n",
      "       572           0.3011           0.0000            8.62s\n",
      "       573           0.3040           0.0000            8.56s\n",
      "       574           0.2999           0.0000            8.49s\n",
      "       575           0.2994          -0.0000            8.42s\n",
      "       576           0.3042          -0.0000            8.35s\n",
      "       577           0.3018           0.0000            8.29s\n",
      "       578           0.3015           0.0000            8.22s\n",
      "       579           0.3021          -0.0000            8.15s\n",
      "       580           0.2989           0.0000            8.08s\n",
      "       581           0.3023          -0.0000            8.02s\n",
      "       582           0.3029           0.0000            7.95s\n",
      "       583           0.3020           0.0000            7.88s\n",
      "       584           0.3013           0.0000            7.81s\n",
      "       585           0.3031          -0.0000            7.75s\n",
      "       586           0.3002          -0.0000            7.68s\n",
      "       587           0.3015           0.0000            7.61s\n",
      "       588           0.3015           0.0000            7.54s\n",
      "       589           0.3026           0.0000            7.48s\n",
      "       590           0.3010          -0.0000            7.41s\n",
      "       591           0.3037          -0.0000            7.34s\n",
      "       592           0.3020           0.0000            7.27s\n",
      "       593           0.2997          -0.0000            7.21s\n",
      "       594           0.3032          -0.0000            7.14s\n",
      "       595           0.3004           0.0000            7.07s\n",
      "       596           0.3009          -0.0000            7.00s\n",
      "       597           0.3016          -0.0000            6.94s\n",
      "       598           0.3025          -0.0000            6.87s\n",
      "       599           0.3023           0.0000            6.80s\n",
      "       600           0.3028          -0.0000            6.73s\n",
      "       601           0.3032          -0.0000            6.67s\n",
      "       602           0.2989          -0.0000            6.60s\n",
      "       603           0.3035           0.0000            6.53s\n",
      "       604           0.3026          -0.0000            6.46s\n",
      "       605           0.3025          -0.0000            6.40s\n",
      "       606           0.3020          -0.0000            6.33s\n",
      "       607           0.3040          -0.0000            6.26s\n",
      "       608           0.3015          -0.0000            6.19s\n",
      "       609           0.3024          -0.0000            6.13s\n",
      "       610           0.2994           0.0000            6.06s\n",
      "       611           0.3006          -0.0000            5.99s\n",
      "       612           0.3005          -0.0000            5.92s\n",
      "       613           0.3026           0.0000            5.86s\n",
      "       614           0.3024          -0.0000            5.79s\n",
      "       615           0.3024           0.0000            5.72s\n",
      "       616           0.3026          -0.0000            5.65s\n",
      "       617           0.2995           0.0000            5.59s\n",
      "       618           0.3003          -0.0000            5.52s\n",
      "       619           0.3030          -0.0000            5.45s\n",
      "       620           0.3030           0.0000            5.38s\n",
      "       621           0.3015           0.0000            5.32s\n",
      "       622           0.3006           0.0000            5.25s\n",
      "       623           0.3015           0.0000            5.18s\n",
      "       624           0.3008          -0.0000            5.11s\n",
      "       625           0.3012          -0.0000            5.05s\n",
      "       626           0.3013          -0.0000            4.98s\n",
      "       627           0.3004          -0.0000            4.91s\n",
      "       628           0.3001           0.0000            4.84s\n",
      "       629           0.3023          -0.0000            4.78s\n",
      "       630           0.3021           0.0000            4.71s\n",
      "       631           0.3036           0.0000            4.64s\n",
      "       632           0.3007           0.0000            4.58s\n",
      "       633           0.3011          -0.0000            4.51s\n",
      "       634           0.3041          -0.0000            4.44s\n",
      "       635           0.3026           0.0000            4.37s\n",
      "       636           0.3033           0.0000            4.31s\n",
      "       637           0.3026          -0.0000            4.24s\n",
      "       638           0.2995          -0.0000            4.17s\n",
      "       639           0.3033          -0.0000            4.10s\n",
      "       640           0.3021          -0.0000            4.04s\n",
      "       641           0.3017          -0.0000            3.97s\n",
      "       642           0.3005          -0.0000            3.90s\n",
      "       643           0.3012          -0.0000            3.83s\n",
      "       644           0.3029          -0.0000            3.77s\n",
      "       645           0.3008          -0.0000            3.70s\n",
      "       646           0.2990           0.0000            3.63s\n",
      "       647           0.3006          -0.0000            3.56s\n",
      "       648           0.3031           0.0000            3.50s\n",
      "       649           0.3028          -0.0000            3.43s\n",
      "       650           0.3021          -0.0000            3.36s\n",
      "       651           0.3020          -0.0000            3.29s\n",
      "       652           0.3008          -0.0000            3.23s\n",
      "       653           0.3008           0.0000            3.16s\n",
      "       654           0.2991          -0.0000            3.09s\n",
      "       655           0.3012           0.0000            3.03s\n",
      "       656           0.3022          -0.0000            2.96s\n",
      "       657           0.3021           0.0000            2.89s\n",
      "       658           0.3010          -0.0000            2.82s\n",
      "       659           0.3001          -0.0000            2.76s\n",
      "       660           0.2990           0.0000            2.69s\n",
      "       661           0.3010           0.0000            2.62s\n",
      "       662           0.3020          -0.0000            2.55s\n",
      "       663           0.3021          -0.0000            2.49s\n",
      "       664           0.3023          -0.0000            2.42s\n",
      "       665           0.3021           0.0000            2.35s\n",
      "       666           0.3008          -0.0000            2.29s\n",
      "       667           0.3017          -0.0000            2.22s\n",
      "       668           0.3008           0.0000            2.15s\n",
      "       669           0.2986          -0.0000            2.08s\n",
      "       670           0.3017          -0.0000            2.02s\n",
      "       671           0.3012          -0.0000            1.95s\n",
      "       672           0.3010          -0.0000            1.88s\n",
      "       673           0.3003          -0.0000            1.81s\n",
      "       674           0.3011          -0.0000            1.75s\n",
      "       675           0.2996          -0.0000            1.68s\n",
      "       676           0.3022          -0.0000            1.61s\n",
      "       677           0.3032          -0.0000            1.55s\n",
      "       678           0.3025          -0.0000            1.48s\n",
      "       679           0.2995          -0.0000            1.41s\n",
      "       680           0.3026          -0.0000            1.34s\n",
      "       681           0.3026           0.0000            1.28s\n",
      "       682           0.3027          -0.0000            1.21s\n",
      "       683           0.3028          -0.0000            1.14s\n",
      "       684           0.3006          -0.0000            1.07s\n",
      "       685           0.3030          -0.0000            1.01s\n",
      "       686           0.3028          -0.0000            0.94s\n",
      "       687           0.3012           0.0000            0.87s\n",
      "       688           0.3015          -0.0000            0.81s\n",
      "       689           0.3006          -0.0000            0.74s\n",
      "       690           0.3021           0.0000            0.67s\n",
      "       691           0.3017           0.0000            0.60s\n",
      "       692           0.3034          -0.0000            0.54s\n",
      "       693           0.3020          -0.0000            0.47s\n",
      "       694           0.3023          -0.0000            0.40s\n",
      "       695           0.3037          -0.0000            0.34s\n",
      "       696           0.3000           0.0000            0.27s\n",
      "       697           0.3012          -0.0000            0.20s\n",
      "       698           0.3026          -0.0000            0.13s\n",
      "       699           0.3032          -0.0000            0.07s\n",
      "       700           0.3013          -0.0000            0.00s\n"
     ]
    },
    {
     "data": {
      "text/plain": [
       "GradientBoostingRegressor(alpha=0.9, init=None, learning_rate=0.008,\n",
       "             loss='ls', max_depth=3, max_features=None,\n",
       "             max_leaf_nodes=None, min_samples_leaf=1, min_samples_split=2,\n",
       "             min_weight_fraction_leaf=0.0, n_estimators=700,\n",
       "             presort='auto', random_state=None, subsample=0.6, verbose=5,\n",
       "             warm_start=False)"
      ]
     },
     "execution_count": 122,
     "metadata": {},
     "output_type": "execute_result"
    }
   ],
   "source": [
    "gbr.fit(irough.values[:100000,2:],irough.values[:100000,0])"
   ]
  },
  {
   "cell_type": "code",
   "execution_count": 123,
   "metadata": {
    "collapsed": false
   },
   "outputs": [
    {
     "data": {
      "text/plain": [
       "array([ 0.72211983,  0.11424214,  0.16363803])"
      ]
     },
     "execution_count": 123,
     "metadata": {},
     "output_type": "execute_result"
    }
   ],
   "source": [
    "gbr.feature_importances_ "
   ]
  },
  {
   "cell_type": "code",
   "execution_count": 124,
   "metadata": {
    "collapsed": false
   },
   "outputs": [
    {
     "data": {
      "text/plain": [
       "0.3070116459937597"
      ]
     },
     "execution_count": 124,
     "metadata": {},
     "output_type": "execute_result"
    }
   ],
   "source": [
    "np.mean((gbr.predict(irough.values[100000:150000,2:])-irough.values[100000:150000,0])**2)"
   ]
  },
  {
   "cell_type": "code",
   "execution_count": 116,
   "metadata": {
    "collapsed": false
   },
   "outputs": [
    {
     "data": {
      "text/plain": [
       "0.3092090127039229"
      ]
     },
     "execution_count": 116,
     "metadata": {},
     "output_type": "execute_result"
    }
   ],
   "source": [
    "np.mean((gbr.predict(irough.values[100000:150000,2:])-irough.values[100000:150000,0])**2)"
   ]
  },
  {
   "cell_type": "code",
   "execution_count": 108,
   "metadata": {
    "collapsed": false
   },
   "outputs": [
    {
     "data": {
      "text/plain": [
       "0.3072462456807519"
      ]
     },
     "execution_count": 108,
     "metadata": {},
     "output_type": "execute_result"
    }
   ],
   "source": [
    "np.mean((gbr.predict(irough.values[100000:150000,2:])-irough.values[100000:150000,0])**2)"
   ]
  }
 ],
 "metadata": {
  "kernelspec": {
   "display_name": "Python 2",
   "language": "python",
   "name": "python2"
  },
  "language_info": {
   "codemirror_mode": {
    "name": "ipython",
    "version": 2
   },
   "file_extension": ".py",
   "mimetype": "text/x-python",
   "name": "python",
   "nbconvert_exporter": "python",
   "pygments_lexer": "ipython2",
   "version": "2.7.13"
  }
 },
 "nbformat": 4,
 "nbformat_minor": 0
}
