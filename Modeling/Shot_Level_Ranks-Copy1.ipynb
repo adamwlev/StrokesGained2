{
 "cells": [
  {
   "cell_type": "code",
   "execution_count": 1,
   "metadata": {
    "collapsed": true
   },
   "outputs": [],
   "source": [
    "import numpy as np\n",
    "import pandas as pd\n",
    "import seaborn as sns\n",
    "sns.set_style('whitegrid')\n",
    "import pickle, scipy, sys, gc\n",
    "from scipy.sparse import csc_matrix\n",
    "from collections import defaultdict\n",
    "from os import listdir\n",
    "import matplotlib.pyplot as plt\n",
    "%matplotlib inline"
   ]
  },
  {
   "cell_type": "code",
   "execution_count": 2,
   "metadata": {
    "collapsed": false
   },
   "outputs": [],
   "source": [
    "with open('../PickleFiles/num_to_ind_shot.pkl','r') as pickleFile:\n",
    "    num_to_ind = pickle.load(pickleFile)\n",
    "\n",
    "ind_to_num = dict((value,key) for key,value in num_to_ind.iteritems())\n",
    "    \n",
    "with open('../PickleFiles/player_names.pkl','r') as pickleFile:\n",
    "    num_to_name = pickle.load(pickleFile)\n",
    "\n",
    "with open('../PickleFiles/broadie_tourn_map.pkl','r') as pickleFile:\n",
    "    broadie_tourn_map = pickle.load(pickleFile)\n",
    "    \n",
    "name_to_num = {value:key for key,value in num_to_name.iteritems()}"
   ]
  },
  {
   "cell_type": "code",
   "execution_count": 3,
   "metadata": {
    "collapsed": true
   },
   "outputs": [],
   "source": [
    "rdata = pd.read_csv('../data/round.csv')"
   ]
  },
  {
   "cell_type": "code",
   "execution_count": 4,
   "metadata": {
    "collapsed": false
   },
   "outputs": [],
   "source": [
    "cols = ['Year','Permanent_Tournament_#','tourn_num']\n",
    "data = pd.concat([pd.read_csv('../data/%d.csv' % (year), usecols=cols) for year in range(2003,2019)])"
   ]
  },
  {
   "cell_type": "code",
   "execution_count": 5,
   "metadata": {
    "collapsed": false
   },
   "outputs": [],
   "source": [
    "tups = data.sort_values('tourn_num')\\\n",
    "           .drop_duplicates()[['Year','Permanent_Tournament_#']].values.tolist()"
   ]
  },
  {
   "cell_type": "code",
   "execution_count": 6,
   "metadata": {
    "collapsed": false
   },
   "outputs": [
    {
     "data": {
      "text/plain": [
       "32"
      ]
     },
     "execution_count": 6,
     "metadata": {},
     "output_type": "execute_result"
    }
   ],
   "source": [
    "data = None\n",
    "gc.collect()"
   ]
  },
  {
   "cell_type": "code",
   "execution_count": 7,
   "metadata": {
    "collapsed": true
   },
   "outputs": [],
   "source": [
    "cats = ['tee3','tee45','green0','green5','green10','green20','rough0','rough90',\n",
    "        'rough375','fairway0','fairway300','fairway540','bunker','other']"
   ]
  },
  {
   "cell_type": "markdown",
   "metadata": {},
   "source": [
    "Selecting most predictive for first 50 tournament groups"
   ]
  },
  {
   "cell_type": "code",
   "execution_count": 27,
   "metadata": {
    "collapsed": false,
    "scrolled": true
   },
   "outputs": [],
   "source": [
    "mypath = '../ranks/'\n",
    "corrs = defaultdict(list)\n",
    "ratings_adam, reps_adam = {}, {}\n",
    "for path in [f for f in listdir(mypath)]:\n",
    "    if path=='.DS_Store': continue\n",
    "    for fn in listdir(mypath+path):\n",
    "        if fn=='.DS_Store': continue\n",
    "        cat = fn.split('_')[0]\n",
    "        ratings_adam[cat] = np.load('%s%s/%s_ranks.npy' % (mypath,path,cat))\n",
    "        reps_adam[cat] = np.load('%s%s/%s_reps.npy' % (mypath,path,cat))\n",
    "preds,outcomes = defaultdict(list),defaultdict(list)\n",
    "for tourn_num,(year,tourn) in enumerate(tups):\n",
    "#     if (year,tourn) not in broadie_tourn_map or tourn_num>200:\n",
    "#         continue\n",
    "    rtourn = rdata[(rdata.Tournament_Year==year) & (rdata['Permanent_Tournament_#']==tourn)]\n",
    "    players = pd.unique(rtourn.Player_Number)\n",
    "    finishing_positions = rtourn.groupby('Player_Number').Finishing_Position.mean().to_dict()\n",
    "    finishing_positions = np.array([finishing_positions[player] for player in players])\n",
    "    players = [num_to_ind[player] for player in players]\n",
    "    for cat in cats:\n",
    "        ratings = ratings_adam[cat][players,tourn_num-1]\n",
    "        nulls = np.isnan(ratings)\n",
    "        if np.all(nulls):\n",
    "            continue\n",
    "        ranking = pd.Series(ratings[~nulls]).rank(ascending=False,pct=True)\n",
    "        outcome = pd.Series(finishing_positions[~nulls]).rank(pct=True)\n",
    "        preds[cat].extend(ranking.tolist())\n",
    "        outcomes[cat].extend(outcome.tolist())\n",
    "    \n",
    "# ratings_adam,reps_adam = {},{}\n",
    "# for cat in corrs:\n",
    "#     print cat\n",
    "#     for params,corr in sorted(corrs[cat],key=lambda x: x[1],reverse=True):\n",
    "#         print params,corr\n",
    "#     best = sorted(corrs[cat],key=lambda x: x[1],reverse=True)[0][0]\n",
    "#     ratings_adam[cat] = np.load('%s%s/%s_ranks.npy' % (mypath,best,cat))\n",
    "#     reps_adam[cat] = np.load('%s%s/%s_reps.npy' % (mypath,best,cat))"
   ]
  },
  {
   "cell_type": "code",
   "execution_count": 28,
   "metadata": {
    "collapsed": false
   },
   "outputs": [
    {
     "name": "stdout",
     "output_type": "stream",
     "text": [
      "tee3 0.221818445104\n",
      "tee45 0.224402354856\n",
      "green0 0.0944821755222\n",
      "green5 0.100666249282\n",
      "green10 0.110322565729\n",
      "green20 0.118805409955\n",
      "rough0 0.110958505664\n",
      "rough90 0.0889604712431\n",
      "rough375 0.163638664374\n",
      "fairway0 0.124576789056\n",
      "fairway300 0.203128306289\n",
      "fairway540 0.190162504213\n",
      "bunker 0.1097372394\n",
      "other 0.0360851288051\n"
     ]
    }
   ],
   "source": [
    "for cat in cats:\n",
    "    print cat, np.corrcoef(preds[cat],outcomes[cat])[0,1]"
   ]
  },
  {
   "cell_type": "code",
   "execution_count": 29,
   "metadata": {
    "collapsed": true
   },
   "outputs": [],
   "source": [
    "corrs = {}\n",
    "for cat in cats:\n",
    "    corrs[cat] = np.corrcoef(preds[cat],outcomes[cat])[0,1]"
   ]
  },
  {
   "cell_type": "code",
   "execution_count": 30,
   "metadata": {
    "collapsed": false
   },
   "outputs": [
    {
     "name": "stdout",
     "output_type": "stream",
     "text": [
      "tee45 0.224402354856\n",
      "tee3 0.221818445104\n",
      "fairway300 0.203128306289\n",
      "fairway540 0.190162504213\n",
      "rough375 0.163638664374\n",
      "fairway0 0.124576789056\n",
      "green20 0.118805409955\n",
      "rough0 0.110958505664\n",
      "green10 0.110322565729\n",
      "bunker 0.1097372394\n",
      "green5 0.100666249282\n",
      "green0 0.0944821755222\n",
      "rough90 0.0889604712431\n",
      "other 0.0360851288051\n"
     ]
    }
   ],
   "source": [
    "for key in sorted(corrs,key=corrs.get,reverse=True):\n",
    "    print key,corrs[key]"
   ]
  },
  {
   "cell_type": "code",
   "execution_count": 33,
   "metadata": {
    "collapsed": false
   },
   "outputs": [
    {
     "data": {
      "image/png": "[encoded data removed]",
      "text/plain": [
       "<matplotlib.figure.Figure at 0x11a8d6f90>"
      ]
     },
     "metadata": {},
     "output_type": "display_data"
    }
   ],
   "source": [
    "fig,ax = plt.subplots(1,1,figsize=(18,12))\n",
    "x_ticks = np.array(corrs.keys())\n",
    "y = np.array(corrs.values())\n",
    "x_ticks = x_ticks[np.argsort(y)[::-1]]\n",
    "y = np.sort(y)[::-1]\n",
    "plt.bar(range(len(corrs)),y)\n",
    "plt.xticks(range(len(corrs)),x_ticks,fontsize=13.8);\n",
    "for tick in ax.yaxis.get_major_ticks():\n",
    "    tick.label.set_fontsize(16)\n",
    "plt.title('Predictive Correlation for the different categories',fontsize=18);\n",
    "plt.ylabel('Correlation',fontsize=18)\n",
    "plt.ylabel('Category Code',fontsize=18);"
   ]
  },
  {
   "cell_type": "code",
   "execution_count": 20,
   "metadata": {
    "collapsed": false,
    "scrolled": true
   },
   "outputs": [
    {
     "name": "stdout",
     "output_type": "stream",
     "text": [
      "Around the Green\n",
      "18 0.0990833712995\n",
      "21 0.0990741595853\n",
      "19 0.0990266545696\n",
      "20 0.0990052694329\n",
      "24 0.0989831903469\n",
      "16 0.0989710782241\n",
      "26 0.0989576163196\n",
      "23 0.0989486651405\n",
      "22 0.0989432439401\n",
      "17 0.0989319649447\n",
      "25 0.0989262648274\n",
      "27 0.0988443587818\n",
      "15 0.098667489752\n",
      "14 0.0982097746415\n",
      "13 0.0978133426749\n",
      "12 0.0975610870793\n",
      "11 0.0966956413804\n",
      "10 0.0960585313761\n",
      "9 0.0952200521392\n",
      "8 0.0946047478966\n",
      "7 0.0938197203205\n",
      "6 0.0919307833535\n",
      "5 0.0908062413141\n",
      "4 0.0877960449419\n",
      "Putting\n",
      "17 0.0827360677637\n",
      "16 0.0826784419793\n",
      "18 0.0824634217608\n",
      "15 0.0823922981474\n",
      "19 0.0823619250602\n",
      "14 0.082201508103\n",
      "13 0.0821976990403\n",
      "20 0.082161075974\n",
      "12 0.0819678690338\n",
      "11 0.0819406121432\n",
      "21 0.0818859234725\n",
      "10 0.0818032148885\n",
      "22 0.0817343761108\n",
      "9 0.0817107592955\n",
      "23 0.0816272459727\n",
      "24 0.08152686176\n",
      "25 0.0814790555169\n",
      "8 0.0814130823764\n",
      "26 0.0813365023709\n",
      "7 0.081085978767\n",
      "27 0.0810609766191\n",
      "6 0.0801217400984\n",
      "5 0.0781611615848\n",
      "4 0.075537645148\n",
      "Approach the Green\n",
      "19 0.230736020973\n",
      "18 0.230723543649\n",
      "17 0.230700399148\n",
      "20 0.230608917007\n",
      "21 0.230492670148\n",
      "22 0.230480140509\n",
      "27 0.230420560042\n",
      "23 0.230383804942\n",
      "16 0.230383592206\n",
      "26 0.230368624128\n",
      "24 0.230327424245\n",
      "25 0.230295699312\n",
      "15 0.230206300396\n",
      "14 0.229925257369\n",
      "13 0.229050025161\n",
      "12 0.22830823232\n",
      "11 0.226774696766\n",
      "10 0.225249868966\n",
      "9 0.222770540491\n",
      "8 0.219882150541\n",
      "7 0.215610774958\n",
      "6 0.210804967091\n",
      "5 0.204854367324\n",
      "4 0.197721399005\n",
      "Off the Tee\n",
      "9 0.17887043268\n",
      "8 0.178677076036\n",
      "10 0.178631938115\n",
      "11 0.1781728621\n",
      "7 0.1780787297\n",
      "12 0.177781259779\n",
      "6 0.177207666317\n",
      "13 0.176931430936\n",
      "14 0.176617972797\n",
      "5 0.176382157845\n",
      "15 0.175907471472\n",
      "16 0.175858126208\n",
      "17 0.175448347176\n",
      "18 0.175089159251\n",
      "19 0.174604144419\n",
      "20 0.17412119314\n",
      "21 0.173855471205\n",
      "4 0.173701715497\n",
      "22 0.173549403528\n",
      "23 0.173337253289\n",
      "24 0.173141357783\n",
      "26 0.172794018263\n",
      "25 0.172773560756\n",
      "27 0.17262087247\n"
     ]
    }
   ],
   "source": [
    "mypath = '../Broadie_Aves'\n",
    "broadie_cats = ['Off the Tee','Approach the Green','Around the Green','Putting']\n",
    "corrs = defaultdict(list)\n",
    "for BETA in range(4,28):\n",
    "    ratings_broadie = {}\n",
    "    for cat in broadie_cats:\n",
    "        ratings_broadie[cat] = np.load('%s/%s_%d.npy' % (mypath,cat,BETA))\n",
    "    preds,outcomes = defaultdict(list),defaultdict(list)\n",
    "    for tourn_num,(year,tourn) in enumerate(tups):\n",
    "        if (year,tourn) not in broadie_tourn_map or tourn_num>200:\n",
    "            continue\n",
    "        rtourn = rdata[(rdata.Tournament_Year==year) & (rdata['Permanent_Tournament_#']==tourn)]\n",
    "        players = pd.unique(rtourn.Player_Number)\n",
    "        finishing_positions = rtourn.groupby('Player_Number').Finishing_Position.mean().to_dict()\n",
    "        finishing_positions = np.array([finishing_positions[player] for player in players])\n",
    "        players = [num_to_ind[player] for player in players]\n",
    "        for cat in broadie_cats:\n",
    "            ratings = ratings_broadie[cat][players,broadie_tourn_map[(year,tourn)]]\n",
    "            nulls = np.isnan(ratings)\n",
    "            if np.all(nulls):\n",
    "                continue\n",
    "            ranking = pd.Series(ratings[~nulls]).rank(ascending=False,pct=True)\n",
    "            outcome = pd.Series(finishing_positions[~nulls]).rank(pct=True)\n",
    "            preds[cat].extend(ranking.tolist())\n",
    "            outcomes[cat].extend(outcome.tolist())\n",
    "    for cat in broadie_cats:\n",
    "        corrs[cat].extend([(BETA,np.corrcoef(preds[cat],outcomes[cat])[0,1])])\n",
    "ratings_broadie,reps_broadie = {},{}\n",
    "for cat in corrs:\n",
    "    print cat\n",
    "    for BETA,corr in sorted(corrs[cat],key=lambda x: x[1],reverse=True):\n",
    "        print BETA,corr\n",
    "    best = sorted(corrs[cat],key=lambda x: x[1],reverse=True)[0][0]\n",
    "    ratings_broadie[cat] = np.load('%s/%s_%d.npy' % (mypath,cat,best))\n",
    "    reps_broadie[cat] = np.load('%s/%s_%dG.npy' % (mypath,cat,best))"
   ]
  },
  {
   "cell_type": "code",
   "execution_count": 25,
   "metadata": {
    "collapsed": false,
    "scrolled": false
   },
   "outputs": [
    {
     "data": {
      "image/png": "[encoded data removed]",
      "text/plain": [
       "<matplotlib.figure.Figure at 0x11f820110>"
      ]
     },
     "metadata": {},
     "output_type": "display_data"
    },
    {
     "data": {
      "image/png": "[encoded data removed]",
      "text/plain": [
       "<matplotlib.figure.Figure at 0x11f8b5b90>"
      ]
     },
     "metadata": {},
     "output_type": "display_data"
    },
    {
     "data": {
      "image/png": "[encoded data removed]",
      "text/plain": [
       "<matplotlib.figure.Figure at 0x120d96e10>"
      ]
     },
     "metadata": {},
     "output_type": "display_data"
    },
    {
     "data": {
      "image/png": "[encoded data removed]",
      "text/plain": [
       "<matplotlib.figure.Figure at 0x11f8c2210>"
      ]
     },
     "metadata": {},
     "output_type": "display_data"
    }
   ],
   "source": [
    "for cat in broadie_cats:\n",
    "    fig,ax = plt.subplots(1,1,figsize=(12,7))\n",
    "    x,y = zip(*corrs[cat])\n",
    "    plt.plot(x,y)\n",
    "    plt.title(cat)\n",
    "    ax.tick_params(labelsize=12);\n",
    "    plt.ylabel('Correlation',fontsize=16)\n",
    "    plt.xlabel('Beta',fontsize=16)"
   ]
  },
  {
   "cell_type": "markdown",
   "metadata": {},
   "source": [
    "Test set predictions"
   ]
  },
  {
   "cell_type": "code",
   "execution_count": null,
   "metadata": {
    "collapsed": false
   },
   "outputs": [],
   "source": [
    "# preds_a,preds_b,outcomes = defaultdict(list),defaultdict(list),defaultdict(list)\n",
    "# for year,tourn in tups:\n",
    "#     tournament_group = tournament_groups[(year,tourn)]\n",
    "#     if tournament_group<88:\n",
    "#         continue\n",
    "#     rtourn = rdata[(rdata.Tournament_Year==year) & (rdata['Permanent_Tournament_#']==tourn)]\n",
    "#     players = pd.unique(rtourn.Player_Number)\n",
    "#     finishing_positions = rtourn.groupby('Player_Number').Finishing_Position.mean().to_dict()\n",
    "#     finishing_positions = np.array([finishing_positions[player] for player in players])\n",
    "#     players = np.array([num_to_ind[player] for player in players])\n",
    "#     for cat in cats:\n",
    "#         ratings_a = ratings_adam[cat][players,tournament_group-1]\n",
    "#         ratings_b = ratings_broadie[cat][players,tournament_group]\n",
    "#         nulls = np.logical_or(np.isnan(ratings_a),np.isnan(ratings_b))\n",
    "#         if np.all(nulls):\n",
    "#             continue\n",
    "#         rankings_a = pd.Series(ratings_a[~nulls]).rank(ascending=False,pct=True)\n",
    "#         rankings_b = pd.Series(ratings_b[~nulls]).rank(ascending=False,pct=True)\n",
    "#         outcome = pd.Series(finishing_positions[~nulls]).rank(pct=True)\n",
    "#         preds_a[cat].extend(rankings_a.tolist())\n",
    "#         preds_b[cat].extend(rankings_b.tolist())\n",
    "#         outcomes[cat].extend(outcome.tolist())"
   ]
  },
  {
   "cell_type": "markdown",
   "metadata": {},
   "source": [
    "Correlation tests"
   ]
  },
  {
   "cell_type": "code",
   "execution_count": 1259,
   "metadata": {
    "collapsed": false
   },
   "outputs": [],
   "source": [
    "corrs = {cat:np.corrcoef(preds_b[cat],outcomes[cat])[0,1] for cat in cats}"
   ]
  },
  {
   "cell_type": "code",
   "execution_count": 1260,
   "metadata": {
    "collapsed": false
   },
   "outputs": [],
   "source": [
    "ps_and_os = {}\n",
    "for cat in cats:\n",
    "    ps_and_os[cat] = pd.DataFrame({'Predictions_Adam':preds_a[cat],\n",
    "                                   'Predictions_Broadie':preds_b[cat],\n",
    "                                   'Outcome':outcomes[cat]})"
   ]
  },
  {
   "cell_type": "code",
   "execution_count": 1261,
   "metadata": {
    "collapsed": false
   },
   "outputs": [
    {
     "name": "stdout",
     "output_type": "stream",
     "text": [
      "\n",
      "tee3\n",
      "24147\n",
      "Adam Corr = 0.0982799448857\n",
      "Broadie Corr = 0.0883652772141\n",
      "\n",
      "\n",
      "tee45\n",
      "24095\n",
      "Adam Corr = 0.116846431357\n",
      "Broadie Corr = 0.106354598938\n",
      "\n",
      "\n",
      "green0\n",
      "24147\n",
      "Adam Corr = 0.0455657039892\n",
      "Broadie Corr = 0.0366799770574\n",
      "\n",
      "\n",
      "green5\n",
      "24147\n",
      "Adam Corr = 0.0249064333747\n",
      "Broadie Corr = 0.0169719480408\n",
      "\n",
      "\n",
      "green10\n",
      "24147\n",
      "Adam Corr = 0.0446811841225\n",
      "Broadie Corr = 0.0334820350513\n",
      "\n",
      "\n",
      "green20\n",
      "24147\n",
      "Adam Corr = 0.0444306408142\n",
      "Broadie Corr = 0.0394179332057\n",
      "\n",
      "\n",
      "rough0\n",
      "24135\n",
      "Adam Corr = 0.0447105076368\n",
      "Broadie Corr = 0.0350812080657\n",
      "\n",
      "\n",
      "rough90\n",
      "24123\n",
      "Adam Corr = 0.051236534814\n",
      "Broadie Corr = 0.0473352937577\n",
      "\n",
      "\n",
      "rough375\n",
      "24147\n",
      "Adam Corr = 0.08712725745\n",
      "Broadie Corr = 0.0726519657294\n",
      "\n",
      "\n",
      "fairway0\n",
      "24143\n",
      "Adam Corr = 0.0719891305628\n",
      "Broadie Corr = 0.0691534469134\n",
      "\n",
      "\n",
      "fairway300\n",
      "24146\n",
      "Adam Corr = 0.0785977758151\n",
      "Broadie Corr = 0.0723335161742\n",
      "\n",
      "\n",
      "fairway540\n",
      "24139\n",
      "Adam Corr = 0.0896759519945\n",
      "Broadie Corr = 0.0826041483787\n",
      "\n",
      "\n",
      "bunker\n",
      "24143\n",
      "Adam Corr = 0.0445270746206\n",
      "Broadie Corr = 0.0384112043822\n",
      "\n",
      "\n",
      "other\n",
      "14257\n",
      "Adam Corr = 0.0139236178136\n",
      "Broadie Corr = 0.0344512702209\n",
      "\n"
     ]
    }
   ],
   "source": [
    "for cat in cats:\n",
    "    print\n",
    "    print cat\n",
    "    print len(preds_a[cat])\n",
    "    assert len(preds_a[cat])==len(preds_b[cat])\n",
    "    print 'Adam Corr = ' + str(np.corrcoef(preds_a[cat],outcomes[cat])[0,1])\n",
    "    print 'Broadie Corr = ' + str(np.corrcoef(preds_b[cat],outcomes[cat])[0,1])\n",
    "    #print 'Ave Corr = ' + str(np.corrcoef((np.array(preds_a[cat])+np.array(preds_b[cat]))/2,outcomes[cat])[0,1])\n",
    "    print "
   ]
  },
  {
   "cell_type": "code",
   "execution_count": 1375,
   "metadata": {
    "collapsed": true
   },
   "outputs": [],
   "source": [
    "def confidence_interval(df,its):\n",
    "    diff_corrs = []\n",
    "    for _ in range(its):\n",
    "        df_ = df.sample(frac=1,replace=True)\n",
    "        diff_corrs.append(np.corrcoef(df_.Predictions_Adam,df_.Outcome)[0,1] - np.corrcoef(df_.Predictions_Broadie,df_.Outcome)[0,1])\n",
    "    return diff_corrs"
   ]
  },
  {
   "cell_type": "code",
   "execution_count": 1377,
   "metadata": {
    "collapsed": false
   },
   "outputs": [
    {
     "name": "stdout",
     "output_type": "stream",
     "text": [
      "tee3\n",
      "diff [ 0.00564972  0.01424088]\n",
      "tee45\n",
      "diff [ 0.00566745  0.01532964]\n",
      "green0\n",
      "diff [ 0.00526642  0.01247718]\n",
      "green5\n",
      "diff [ 0.00303948  0.01276369]\n",
      "green10\n",
      "diff [ 0.00562005  0.01676398]\n",
      "green20\n",
      "diff [-0.00105913  0.01097478]\n",
      "rough0\n",
      "diff [ 0.00120644  0.01822214]\n",
      "rough90\n",
      "diff [-0.00650625  0.01443186]\n",
      "rough375\n",
      "diff [ 0.00580925  0.02318234]\n",
      "fairway0\n",
      "diff [-0.00431608  0.00996725]\n",
      "fairway300\n",
      "diff [ 0.00153069  0.01079865]\n",
      "fairway540\n",
      "diff [ 0.00182336  0.0122213 ]\n",
      "bunker\n",
      "diff [-0.00018612  0.01251575]\n",
      "other\n",
      "diff [-0.04085419 -0.00105525]\n"
     ]
    }
   ],
   "source": [
    "for cat in cats:\n",
    "    diff_corrs = confidence_interval(ps_and_os[cat],10000)\n",
    "    print cat\n",
    "    print 'diff', np.percentile(diff_corrs,q=[2.5,97.5])"
   ]
  },
  {
   "cell_type": "code",
   "execution_count": 330,
   "metadata": {
    "collapsed": false
   },
   "outputs": [
    {
     "name": "stdout",
     "output_type": "stream",
     "text": [
      "(-0.89127990476054142, 0.37491851749125571)\n",
      "(1.0171097212822693, 0.30910123623869312)\n"
     ]
    }
   ],
   "source": [
    "sys.path.insert(0, '/home/ubuntu/CorrelationStats/')\n",
    "import corrstats"
   ]
  },
  {
   "cell_type": "code",
   "execution_count": 1264,
   "metadata": {
    "collapsed": false
   },
   "outputs": [
    {
     "name": "stdout",
     "output_type": "stream",
     "text": [
      "tee3\n",
      "0.0982799448857 0.0883652772141 0.941851188881\n",
      "(4.5398087229593047, 2.8288522917474523e-06)\n",
      "(0.0056325239563371574, 0.014196596755150313)\n",
      "\n",
      "tee45\n",
      "0.116846431357 0.106354598938 0.927241265855\n",
      "(4.2985087601542116, 8.6312985503322892e-06)\n",
      "(0.0057062533357474391, 0.015277211771734436)\n",
      "\n",
      "green0\n",
      "0.0455657039892 0.0366799770574 0.959273522766\n",
      "(4.8442899197005573, 6.3926275983838821e-07)\n",
      "(0.0052889761225145809, 0.012482141598406276)\n",
      "\n",
      "green5\n",
      "0.0249064333747 0.0169719480408 0.92778170249\n",
      "(3.2454739896290743, 0.00058707474934804882)\n",
      "(0.0031418759849768671, 0.0127266267176405)\n",
      "\n",
      "green10\n",
      "0.0446811841225 0.0334820350513 0.901634669414\n",
      "(3.9277204556067979, 4.2996590014832137e-05)\n",
      "(0.0056090613127919731, 0.016788496294264186)\n",
      "\n",
      "green20\n",
      "0.0444306408142 0.0394179332057 0.888244221398\n",
      "(1.6491297250914869, 0.049567035346986588)\n",
      "(-0.00094497259665536626, 0.010970034843736005)\n",
      "\n",
      "rough0\n",
      "0.0447105076368 0.0350812080657 0.776193723967\n",
      "(2.238050806525536, 0.012613413391868722)\n",
      "(0.0011958218924570576, 0.018061781915887282)\n",
      "\n",
      "rough90\n",
      "0.051236534814 0.0473352937577 0.667914665842\n",
      "(0.74451338801216826, 0.22828659909399784)\n",
      "(-0.0063687237808004084, 0.014170715101848304)\n",
      "\n",
      "rough375\n",
      "0.08712725745 0.0726519657294 0.767793118284\n",
      "(3.313068754643822, 0.0004620695549920617)\n",
      "(0.005910301295898656, 0.023038890534980191)\n",
      "\n",
      "fairway0\n",
      "0.0719891305628 0.0691534469134 0.842986719716\n",
      "(0.78834862973649966, 0.21525027565604027)\n",
      "(-0.0042141366169658268, 0.0098852837537153383)\n",
      "\n",
      "fairway300\n",
      "0.0785977758151 0.0723335161742 0.933892409888\n",
      "(2.6851642912281624, 0.0036271842952100286)\n",
      "(0.0016912628576604199, 0.010837019626474223)\n",
      "\n",
      "fairway540\n",
      "0.0896759519945 0.0826041483787 0.917148765201\n",
      "(2.7098729363848162, 0.0033678259527011312)\n",
      "(0.0019563449230398273, 0.012186969478328974)\n",
      "\n",
      "bunker\n",
      "0.0445270746206 0.0384112043822 0.875667017355\n",
      "(1.9074293005105623, 0.028238436679962398)\n",
      "(-0.0001687439990114524, 0.012400026482842632)\n",
      "\n",
      "other\n",
      "0.0139236178136 0.0344512702209 0.291737478398\n",
      "(-2.0603086661321202, 0.019693574925639945)\n",
      "(-0.040050694136096944, -0.00099805280821723547)\n",
      "\n"
     ]
    }
   ],
   "source": [
    "for cat in cats:\n",
    "    xy = np.corrcoef(ps_and_os[cat].Outcome,ps_and_os[cat].Predictions_Adam)[0,1]\n",
    "    xz = np.corrcoef(ps_and_os[cat].Outcome,ps_and_os[cat].Predictions_Broadie)[0,1]\n",
    "    yz = np.corrcoef(ps_and_os[cat].Predictions_Adam,ps_and_os[cat].Predictions_Broadie)[0,1]\n",
    "    print cat\n",
    "    print xy,xz,yz\n",
    "    print corrstats.dependent_corr(xy,xz,yz,len(ps_and_os[cat]),\n",
    "                                    twotailed=False, conf_level=0.95, method='steiger')\n",
    "    print corrstats.dependent_corr(xy,xz,yz,len(ps_and_os[cat]),\n",
    "                                    twotailed=False, conf_level=0.95, method='zou')\n",
    "    print"
   ]
  },
  {
   "cell_type": "markdown",
   "metadata": {},
   "source": [
    "Plotting"
   ]
  },
  {
   "cell_type": "code",
   "execution_count": 1422,
   "metadata": {
    "collapsed": false
   },
   "outputs": [],
   "source": [
    "inds_to_plot = [num_to_ind[name_to_num[name]] for name in ['Woods, Tiger']]\n",
    "#                                                            ,'Mickelson, Phil',,\n",
    "#                                                            ,'Simpson, Webb',]]"
   ]
  },
  {
   "cell_type": "code",
   "execution_count": 1423,
   "metadata": {
    "collapsed": true
   },
   "outputs": [],
   "source": [
    "from scipy.interpolate import UnivariateSpline\n",
    "years = set()\n",
    "group_to_year = {}\n",
    "for year,tourn in tups:\n",
    "    if year not in years:\n",
    "        tournament_group = tournament_groups[(year,tourn)]\n",
    "        group_to_year[tournament_group] = year\n",
    "        years.add(year)\n",
    "x = group_to_year.keys()\n",
    "y = [group_to_year[key] for key in group_to_year.keys()]\n",
    "spl = UnivariateSpline(x,y)\n",
    "years = [int(__builtins__.round(num)) for num in spl(np.arange(138))]"
   ]
  },
  {
   "cell_type": "code",
   "execution_count": 1089,
   "metadata": {
    "collapsed": false
   },
   "outputs": [
    {
     "data": {
      "text/plain": [
       "155.0"
      ]
     },
     "execution_count": 1089,
     "metadata": {},
     "output_type": "execute_result"
    }
   ],
   "source": [
    "pd.Series(reps_broadie['tee45'][:,137]).rank(ascending=False)[1301]"
   ]
  },
  {
   "cell_type": "code",
   "execution_count": 1393,
   "metadata": {
    "collapsed": false
   },
   "outputs": [
    {
     "data": {
      "text/plain": [
       "[<matplotlib.lines.Line2D at 0x7f3b968b0850>]"
      ]
     },
     "execution_count": 1393,
     "metadata": {},
     "output_type": "execute_result"
    },
    {
     "data": {
      "image/png": "[encoded data removed]",
      "text/plain": [
       "<matplotlib.figure.Figure at 0x7f3b95d09050>"
      ]
     },
     "metadata": {},
     "output_type": "display_data"
    }
   ],
   "source": [
    "plt.plot(np.arange(138),[np.isnan(reps_broadie['tee45'][:,group]).sum()/1990. for group in np.arange(138)])"
   ]
  },
  {
   "cell_type": "code",
   "execution_count": 1254,
   "metadata": {
    "collapsed": false
   },
   "outputs": [
    {
     "data": {
      "text/plain": [
       "{0: 2003,\n",
       " 10: 2004,\n",
       " 21: 2005,\n",
       " 31: 2006,\n",
       " 42: 2007,\n",
       " 52: 2008,\n",
       " 62: 2009,\n",
       " 72: 2010,\n",
       " 82: 2011,\n",
       " 91: 2012,\n",
       " 100: 2013,\n",
       " 109: 2014,\n",
       " 118: 2015,\n",
       " 127: 2016}"
      ]
     },
     "execution_count": 1254,
     "metadata": {},
     "output_type": "execute_result"
    }
   ],
   "source": [
    "group_to_year"
   ]
  },
  {
   "cell_type": "code",
   "execution_count": 1255,
   "metadata": {
    "collapsed": false,
    "scrolled": false
   },
   "outputs": [
    {
     "name": "stdout",
     "output_type": "stream",
     "text": [
      "*************tee3*************\n",
      "               name   ratings\n",
      "1      Woods, Tiger  0.968851\n",
      "2       Lehman, Tom  0.964271\n",
      "3    Mediate, Rocco  0.962658\n",
      "4   Mickelson, Phil  0.962537\n",
      "5      Kim, Anthony  0.962041\n",
      "6        Funk, Fred  0.960293\n",
      "7        Els, Ernie  0.959408\n",
      "8       Bohn, Jason  0.959051\n",
      "9     Quinney, Jeff  0.958275\n",
      "10   Campbell, Chad  0.958251\n",
      "*************tee45*************\n",
      "                name   ratings\n",
      "1       Holmes, J.B.  0.980879\n",
      "2      Watson, Bubba  0.978339\n",
      "3       Weekley, Boo  0.978090\n",
      "4   Wetterich, Brett  0.976102\n",
      "5    Warren, Charles  0.974513\n",
      "6    Allenby, Robert  0.974361\n",
      "7        Scott, Adam  0.973979\n",
      "8      Mahan, Hunter  0.973958\n",
      "9        Durant, Joe  0.973870\n",
      "10     Glover, Lucas  0.973831\n",
      "*************green0*************\n",
      "                   name   ratings\n",
      "1      Snedeker, Brandt  1.000581\n",
      "2         Kresge, Cliff  1.000572\n",
      "3      Parnevik, Jesper  1.000433\n",
      "4       Sabbatini, Rory  1.000281\n",
      "5   Johnson, Richard S.  1.000176\n",
      "6            Crane, Ben  1.000168\n",
      "7     Jacobson, Freddie  0.999985\n",
      "8           Faxon, Brad  0.999971\n",
      "9       Stricker, Steve  0.999824\n",
      "10        Slocum, Heath  0.999700\n",
      "*************green5*************\n",
      "                   name   ratings\n",
      "1            Furyk, Jim  0.979857\n",
      "2            Crane, Ben  0.979139\n",
      "3       Baddeley, Aaron  0.978413\n",
      "4   Johnson, Richard S.  0.973453\n",
      "5            Gay, Brian  0.973358\n",
      "6          Browne, Olin  0.973306\n",
      "7      Parnevik, Jesper  0.973259\n",
      "8         Ames, Stephen  0.973024\n",
      "9         Pampling, Rod  0.972968\n",
      "10           Clark, Tim  0.972753\n",
      "*************green10*************\n",
      "                 name   ratings\n",
      "1        Woods, Tiger  0.987752\n",
      "2        Wilson, Dean  0.983181\n",
      "3          Crane, Ben  0.983013\n",
      "4       Mattiace, Len  0.982023\n",
      "5       Ames, Stephen  0.982017\n",
      "6         Heintz, Bob  0.981901\n",
      "7        Allan, Steve  0.981843\n",
      "8    Parnevik, Jesper  0.981753\n",
      "9        Atwal, Arjun  0.981577\n",
      "10  Jacobson, Freddie  0.981071\n",
      "*************green20*************\n",
      "                    name   ratings\n",
      "1            Faxon, Brad  1.010671\n",
      "2   Olazabal, Jose Maria  1.010376\n",
      "3           Woods, Tiger  1.009726\n",
      "4         Garcia, Sergio  1.007901\n",
      "5        Baddeley, Aaron  1.007457\n",
      "6         Byrd, Jonathan  1.007159\n",
      "7             Els, Ernie  1.006013\n",
      "8       Geiberger, Brent  1.005903\n",
      "9           Donald, Luke  1.005723\n",
      "10           Curtis, Ben  1.005702\n",
      "*************rough0*************\n",
      "               name   ratings\n",
      "1   Sabbatini, Rory  1.015365\n",
      "2       Hayes, J.P.  1.015131\n",
      "3   Mickelson, Phil  1.014281\n",
      "4   Stricker, Steve  1.012608\n",
      "5    Mediate, Rocco  1.011239\n",
      "6        Weir, Mike  1.009918\n",
      "7   Appleby, Stuart  1.009721\n",
      "8      Holmes, J.B.  1.009523\n",
      "9      Poulter, Ian  1.009141\n",
      "10     Singh, Vijay  1.008460\n",
      "*************rough90*************\n",
      "                    name   ratings\n",
      "1        Mickelson, Phil  1.035866\n",
      "2              Duke, Ken  1.016827\n",
      "3           Kim, Anthony  1.015154\n",
      "4            Hayes, J.P.  1.013847\n",
      "5           Bryant, Bart  1.012658\n",
      "6           Woods, Tiger  1.011534\n",
      "7             Choi, K.J.  1.010709\n",
      "8        Verplank, Scott  1.010100\n",
      "9   Olazabal, Jose Maria  1.009600\n",
      "10       Sabbatini, Rory  1.009474\n",
      "*************rough375*************\n",
      "                   name   ratings\n",
      "1          Singh, Vijay  0.974331\n",
      "2          Woods, Tiger  0.971257\n",
      "3        Garcia, Sergio  0.966890\n",
      "4   Harrington, Padraig  0.965461\n",
      "5       Mickelson, Phil  0.965143\n",
      "6       Love III, Davis  0.964974\n",
      "7          O'Hern, Nick  0.964973\n",
      "8          Pavin, Corey  0.963562\n",
      "9     Oberholser, Arron  0.963383\n",
      "10        Azinger, Paul  0.963211\n",
      "*************fairway0*************\n",
      "                   name   ratings\n",
      "1       Stricker, Steve  1.022943\n",
      "2   Harrington, Padraig  1.020597\n",
      "3       Mickelson, Phil  1.018239\n",
      "4         Ogilvy, Geoff  1.011508\n",
      "5       Appleby, Stuart  1.011071\n",
      "6            Furyk, Jim  1.011062\n",
      "7          Singh, Vijay  1.010757\n",
      "8        Goosen, Retief  1.010212\n",
      "9        Bertsch, Shane  1.009473\n",
      "10         Donald, Luke  1.008196\n",
      "*************fairway300*************\n",
      "                name   ratings\n",
      "1        Scott, Adam  0.988557\n",
      "2       Woods, Tiger  0.985885\n",
      "3         Furyk, Jim  0.985552\n",
      "4        Toms, David  0.984538\n",
      "5        Lehman, Tom  0.983272\n",
      "6     Campbell, Chad  0.982584\n",
      "7      Cink, Stewart  0.982181\n",
      "8    Allenby, Robert  0.981960\n",
      "9    Verplank, Scott  0.981244\n",
      "10  Langer, Bernhard  0.981176\n",
      "*************fairway540*************\n",
      "                name   ratings\n",
      "1       Woods, Tiger  0.977623\n",
      "2    Mickelson, Phil  0.973999\n",
      "3     Garcia, Sergio  0.973810\n",
      "4   Garrigus, Robert  0.969702\n",
      "5     Stadler, Kevin  0.967352\n",
      "6         Els, Ernie  0.967236\n",
      "7         Haas, Bill  0.966446\n",
      "8      Mahan, Hunter  0.965167\n",
      "9       Trahan, D.J.  0.964406\n",
      "10     Watson, Bubba  0.963738\n",
      "*************bunker*************\n",
      "                    name   ratings\n",
      "1             Weir, Mike  0.921882\n",
      "2   Olazabal, Jose Maria  0.919391\n",
      "3           Donald, Luke  0.913820\n",
      "4           Poulter, Ian  0.912404\n",
      "5         Garcia, Sergio  0.912082\n",
      "6          Kanada, Craig  0.911888\n",
      "7             Furyk, Jim  0.911507\n",
      "8             Clark, Tim  0.911394\n",
      "9          Pampling, Rod  0.910738\n",
      "10       Sabbatini, Rory  0.908892\n",
      "*************other*************\n",
      "              name   ratings\n",
      "1        Cox, Kris  0.163562\n",
      "2      Toms, David  0.161335\n",
      "3   Mayfair, Billy  0.136618\n",
      "4   Jones, Brendan  0.134147\n",
      "5    Dawson, Marco  0.121485\n",
      "6     Wilson, Mark  0.116751\n",
      "7      Cejka, Alex  0.114358\n",
      "8     Pavin, Corey  0.111793\n",
      "9   Mediate, Rocco  0.097510\n",
      "10   Walker, Jimmy  0.097254\n"
     ]
    }
   ],
   "source": [
    "for cat in cats:\n",
    "    print '*************' + cat + '*************'\n",
    "    reps = np.copy(reps_broadie[cat][:,51])\n",
    "    num_nans = np.isnan(reps).sum()\n",
    "    top_200 = set(np.argsort(reps)[-(num_nans+200):-num_nans])\n",
    "    top_200 = np.array([u not in top_200 for u in range(reps.shape[0])])\n",
    "    if cat=='other':\n",
    "        ratings = np.copy(ratings_broadie[cat][:,51])\n",
    "    else:\n",
    "        ratings = np.copy(ratings_adam[cat][:,51])\n",
    "    ratings[top_200] = np.nan\n",
    "    num_nans = np.isnan(ratings).sum()\n",
    "    inds = np.argsort(ratings)[-(num_nans+10):-num_nans][::-1]\n",
    "    names = [num_to_name[ind_to_num[ind]] for ind in inds]\n",
    "    ratings = ratings[inds]\n",
    "    df = pd.DataFrame({'name':names,'ratings':ratings})\n",
    "    df.index = range(1,11)\n",
    "    print df"
   ]
  },
  {
   "cell_type": "code",
   "execution_count": 1430,
   "metadata": {
    "collapsed": false,
    "scrolled": false
   },
   "outputs": [
    {
     "data": {
      "image/png": "[encoded data removed]",
      "text/plain": [
       "<matplotlib.figure.Figure at 0x7f3b94749b10>"
      ]
     },
     "metadata": {},
     "output_type": "display_data"
    }
   ],
   "source": [
    "fig, ax = plt.subplots(1,1, figsize=(23,12.5))\n",
    "color_map = {0:'blue',3:'purple',1:'red',2:'green'}\n",
    "for u,cat in enumerate(['tee45']):\n",
    "    reps = np.copy(reps_adam[cat])\n",
    "    reps = pd.DataFrame(reps).rank(ascending=False).values\n",
    "    top_200 = reps<=200\n",
    "    rating1 = np.copy(ratings_adam[cat])\n",
    "    #rating1[top_200] = np.nan\n",
    "    ranking1 = pd.DataFrame(rating1).rank(ascending=False).values\n",
    "    rating2 = np.copy(ratings_broadie[cat])\n",
    "    #rating2[top_200] = np.nan\n",
    "    ranking2 = pd.DataFrame(rating2).rank(ascending=False).values\n",
    "    for u1,ind in enumerate(inds_to_plot):\n",
    "        plt.plot(np.arange(ratings_adam[cat].shape[1]),ranking1[ind],c=color_map[0],label=num_to_name[ind_to_num[ind]] + ' Network')\n",
    "        plt.plot(np.arange(ratings_adam[cat].shape[1])[:-1],ranking2[ind][1:],c=color_map[1],label=num_to_name[ind_to_num[ind]] + ' Strokes Gained to the Field')\n",
    "\n",
    "         \n",
    "plt.legend(loc=3,prop={'size':28})\n",
    "plt.title(cat+'ranking',fontsize=24)\n",
    "plt.xticks(np.arange(ratings_adam[cat].shape[1])[::12],years[::12])\n",
    "plt.setp(ax.get_xticklabels(), fontsize=23);\n",
    "plt.setp(ax.get_yticklabels(), fontsize=23);\n",
    "plt.gca().invert_yaxis()\n",
    "plt.ylabel('Ordinal Ranking',fontsize=25)\n",
    "plt.xlabel('Year',fontsize=25)\n",
    "plt.savefig('./../Plots/Tiger_driving.png',dpi=100)"
   ]
  },
  {
   "cell_type": "markdown",
   "metadata": {},
   "source": [
    "Regression"
   ]
  },
  {
   "cell_type": "code",
   "execution_count": 42,
   "metadata": {
    "collapsed": false
   },
   "outputs": [],
   "source": [
    "preds_a,preds_b,outcomes = defaultdict(list),defaultdict(list),[]\n",
    "for tourn_num,(year,tourn) in enumerate(tups):\n",
    "    if (year,tourn) not in broadie_tourn_map or tourn_num<=200:\n",
    "        continue\n",
    "    rtourn = rdata[(rdata.Tournament_Year==year) & (rdata['Permanent_Tournament_#']==tourn)]\n",
    "    players = pd.unique(rtourn.Player_Number)\n",
    "    if not len(players): continue\n",
    "    finishing_positions = rtourn.groupby('Player_Number').Finishing_Position.mean().to_dict()\n",
    "    finishing_positions = np.array([finishing_positions[player] for player in players])\n",
    "    assert np.all([not np.isnan(pn) for pn in players])\n",
    "    assert np.all([not np.isnan(num_to_ind[pn]) for pn in players])\n",
    "    players = np.array([num_to_ind[player] for player in players]).astype(int)\n",
    "    nulls = [False]*len(players)\n",
    "    for cat in cats:\n",
    "        nulls = np.logical_or(nulls,np.isnan(ratings_adam[cat][players,tourn_num-1]))\n",
    "    for cat in broadie_cats:\n",
    "        nulls = np.logical_or(nulls,np.isnan(ratings_broadie[cat][players,broadie_tourn_map[(year,tourn)]]))\n",
    "    assert not np.isnan(nulls.mean())\n",
    "    for cat in cats+['reps']:\n",
    "        if cat=='reps':\n",
    "            ratings_a = np.array([reps_adam[c][players,tourn_num-1] for c in cats]).mean(0)[~nulls]\n",
    "        else:\n",
    "            ratings_a = ratings_adam[cat][players,tourn_num-1][~nulls]\n",
    "        rankings_a = pd.Series(ratings_a).rank(ascending=False,pct=True)\n",
    "        preds_a[cat].extend(rankings_a.tolist())\n",
    "    for cat in broadie_cats+['reps']:\n",
    "        if cat=='reps':\n",
    "            ratings_b = np.array([reps_broadie[c][players,broadie_tourn_map[(year,tourn)]] \n",
    "                                  for c in broadie_cats]).mean(0)[~nulls]\n",
    "        else:\n",
    "            ratings_b = ratings_broadie[cat][players,broadie_tourn_map[(year,tourn)]][~nulls]\n",
    "        rankings_b = pd.Series(ratings_b).rank(ascending=False,pct=True)\n",
    "        preds_b[cat].extend(rankings_b.tolist())\n",
    "    outcome = pd.Series(finishing_positions[~nulls]).rank(pct=True)\n",
    "    outcomes.extend(outcome.tolist())"
   ]
  },
  {
   "cell_type": "code",
   "execution_count": 61,
   "metadata": {
    "collapsed": false
   },
   "outputs": [],
   "source": [
    "X_sgttf = np.column_stack([preds_b[cat] for cat in broadie_cats+['reps']])\n",
    "X_network = np.column_stack([preds_a[cat] for cat in cats+['reps']])\n",
    "y = np.array(outcomes)"
   ]
  },
  {
   "cell_type": "code",
   "execution_count": 62,
   "metadata": {
    "collapsed": false
   },
   "outputs": [
    {
     "data": {
      "text/plain": [
       "((45062, 5), (45062, 15), (45062,))"
      ]
     },
     "execution_count": 62,
     "metadata": {},
     "output_type": "execute_result"
    }
   ],
   "source": [
    "X_sgttf.shape,X_network.shape,y.shape"
   ]
  },
  {
   "cell_type": "code",
   "execution_count": 63,
   "metadata": {
    "collapsed": false
   },
   "outputs": [],
   "source": [
    "from sklearn.linear_model import LinearRegression\n",
    "from sklearn.model_selection import cross_val_score"
   ]
  },
  {
   "cell_type": "code",
   "execution_count": 64,
   "metadata": {
    "collapsed": true
   },
   "outputs": [],
   "source": [
    "ols = LinearRegression()"
   ]
  },
  {
   "cell_type": "code",
   "execution_count": 65,
   "metadata": {
    "collapsed": false
   },
   "outputs": [
    {
     "data": {
      "text/plain": [
       "(0.23656932870617922, 0.22775447230967372)"
      ]
     },
     "execution_count": 65,
     "metadata": {},
     "output_type": "execute_result"
    }
   ],
   "source": [
    "(-1*cross_val_score(ols,X_sgttf,y,cv=30,scoring='neg_mean_absolute_error').mean(),\n",
    " -1*cross_val_score(ols,X_network,y,cv=30,scoring='neg_mean_absolute_error').mean(),)"
   ]
  },
  {
   "cell_type": "code",
   "execution_count": 66,
   "metadata": {
    "collapsed": false
   },
   "outputs": [
    {
     "data": {
      "text/plain": [
       "(0.086132903296708474, 0.14143889987227148)"
      ]
     },
     "execution_count": 66,
     "metadata": {},
     "output_type": "execute_result"
    }
   ],
   "source": [
    "(cross_val_score(ols,X_sgttf,y,cv=30).mean(),\n",
    " cross_val_score(ols,X_network,y,cv=30).mean())"
   ]
  },
  {
   "cell_type": "code",
   "execution_count": 67,
   "metadata": {
    "collapsed": false
   },
   "outputs": [
    {
     "data": {
      "text/plain": [
       "0.086523505430653125"
      ]
     },
     "execution_count": 67,
     "metadata": {},
     "output_type": "execute_result"
    }
   ],
   "source": [
    "ols.fit(X_sgttf,y)\n",
    "ols.score(X_sgttf,y)"
   ]
  },
  {
   "cell_type": "code",
   "execution_count": 68,
   "metadata": {
    "collapsed": false
   },
   "outputs": [
    {
     "data": {
      "text/plain": [
       "0.1422291756317566"
      ]
     },
     "execution_count": 68,
     "metadata": {},
     "output_type": "execute_result"
    }
   ],
   "source": [
    "ols.fit(X_network,y)\n",
    "ols.score(X_network,y)"
   ]
  },
  {
   "cell_type": "code",
   "execution_count": 69,
   "metadata": {
    "collapsed": false
   },
   "outputs": [],
   "source": [
    "import statsmodels.api as sm\n",
    "from statsmodels.regression.linear_model import OLS"
   ]
  },
  {
   "cell_type": "code",
   "execution_count": 76,
   "metadata": {
    "collapsed": false
   },
   "outputs": [
    {
     "name": "stdout",
     "output_type": "stream",
     "text": [
      "                            OLS Regression Results                            \n",
      "==============================================================================\n",
      "Dep. Variable:                      y   R-squared:                       0.087\n",
      "Model:                            OLS   Adj. R-squared:                  0.086\n",
      "Method:                 Least Squares   F-statistic:                     853.5\n",
      "Date:                Sat, 02 Dec 2017   Prob (F-statistic):               0.00\n",
      "Time:                        15:43:21   Log-Likelihood:                -5837.3\n",
      "No. Observations:               45062   AIC:                         1.169e+04\n",
      "Df Residuals:                   45056   BIC:                         1.174e+04\n",
      "Df Model:                           5                                         \n",
      "Covariance Type:            nonrobust                                         \n",
      "======================================================================================\n",
      "                         coef    std err          t      P>|t|      [0.025      0.975]\n",
      "--------------------------------------------------------------------------------------\n",
      "const                  0.2058      0.005     41.362      0.000       0.196       0.216\n",
      "Off the Tee            0.1709      0.005     35.663      0.000       0.162       0.180\n",
      "Approach the Green     0.1604      0.005     34.199      0.000       0.151       0.170\n",
      "Around the Green       0.0987      0.005     21.263      0.000       0.090       0.108\n",
      "Putting                0.1016      0.005     21.498      0.000       0.092       0.111\n",
      "reps                   0.0603      0.005     12.810      0.000       0.051       0.069\n",
      "==============================================================================\n",
      "Omnibus:                    13520.293   Durbin-Watson:                   2.017\n",
      "Prob(Omnibus):                  0.000   Jarque-Bera (JB):             2068.030\n",
      "Skew:                           0.030   Prob(JB):                         0.00\n",
      "Kurtosis:                       1.952   Cond. No.                         7.96\n",
      "==============================================================================\n",
      "\n",
      "Warnings:\n",
      "[1] Standard Errors assume that the covariance matrix of the errors is correctly specified.\n"
     ]
    }
   ],
   "source": [
    "X = sm.add_constant(pd.DataFrame(X_sgttf,columns=[cat for cat in broadie_cats+['reps']]))\n",
    "model = sm.OLS(y,X)\n",
    "results = model.fit()\n",
    "print results.summary()"
   ]
  },
  {
   "cell_type": "code",
   "execution_count": 75,
   "metadata": {
    "collapsed": false
   },
   "outputs": [
    {
     "name": "stdout",
     "output_type": "stream",
     "text": [
      "                            OLS Regression Results                            \n",
      "==============================================================================\n",
      "Dep. Variable:                      y   R-squared:                       0.142\n",
      "Model:                            OLS   Adj. R-squared:                  0.142\n",
      "Method:                 Least Squares   F-statistic:                     497.9\n",
      "Date:                Sat, 02 Dec 2017   Prob (F-statistic):               0.00\n",
      "Time:                        15:42:02   Log-Likelihood:                -4419.6\n",
      "No. Observations:               45062   AIC:                             8871.\n",
      "Df Residuals:                   45046   BIC:                             9011.\n",
      "Df Model:                          15                                         \n",
      "Covariance Type:            nonrobust                                         \n",
      "==============================================================================\n",
      "                 coef    std err          t      P>|t|      [0.025      0.975]\n",
      "------------------------------------------------------------------------------\n",
      "const          0.0004      0.006      0.060      0.952      -0.012       0.013\n",
      "tee3           0.0992      0.005     19.422      0.000       0.089       0.109\n",
      "tee45          0.2159      0.005     41.441      0.000       0.206       0.226\n",
      "green0         0.0678      0.005     14.068      0.000       0.058       0.077\n",
      "green5         0.0636      0.005     13.038      0.000       0.054       0.073\n",
      "green10        0.0663      0.005     13.956      0.000       0.057       0.076\n",
      "green20        0.0746      0.005     15.755      0.000       0.065       0.084\n",
      "rough0         0.0600      0.005     12.791      0.000       0.051       0.069\n",
      "rough90        0.0300      0.004      6.715      0.000       0.021       0.039\n",
      "rough375       0.0460      0.005      9.723      0.000       0.037       0.055\n",
      "fairway0       0.0501      0.005     10.575      0.000       0.041       0.059\n",
      "fairway300     0.0792      0.005     15.913      0.000       0.069       0.089\n",
      "fairway540     0.0415      0.005      7.967      0.000       0.031       0.052\n",
      "bunker         0.0514      0.005     10.736      0.000       0.042       0.061\n",
      "other          0.0053      0.004      1.211      0.226      -0.003       0.014\n",
      "reps           0.0482      0.004     10.728      0.000       0.039       0.057\n",
      "==============================================================================\n",
      "Omnibus:                     7650.599   Durbin-Watson:                   2.016\n",
      "Prob(Omnibus):                  0.000   Jarque-Bera (JB):             1689.225\n",
      "Skew:                           0.057   Prob(JB):                         0.00\n",
      "Kurtosis:                       2.058   Cond. No.                         13.4\n",
      "==============================================================================\n",
      "\n",
      "Warnings:\n",
      "[1] Standard Errors assume that the covariance matrix of the errors is correctly specified.\n"
     ]
    }
   ],
   "source": [
    "X = sm.add_constant(pd.DataFrame(X_network,columns=[cat for cat in cats+['reps']]))\n",
    "model = sm.OLS(y,X)\n",
    "results = model.fit()\n",
    "print results.summary()"
   ]
  },
  {
   "cell_type": "markdown",
   "metadata": {},
   "source": [
    "Other regressions using just the Network method"
   ]
  },
  {
   "cell_type": "code",
   "execution_count": 1267,
   "metadata": {
    "collapsed": false
   },
   "outputs": [],
   "source": [
    "with open('./../PickleFiles/course_profiles.pkl','r') as pickleFile:\n",
    "    course_profiles = pickle.load(pickleFile)\n",
    "\n",
    "with open('./../PickleFiles/course_order.pkl','r') as pickleFile:\n",
    "    course_order = pickle.load(pickleFile)\n",
    "\n",
    "cat_map = {''.join([c for c in name.lower() if c!='-']):name for name in course_profiles.keys()}"
   ]
  },
  {
   "cell_type": "code",
   "execution_count": 1268,
   "metadata": {
    "collapsed": false
   },
   "outputs": [],
   "source": [
    "preds,outcomes = defaultdict(list),[]\n",
    "course_profs = defaultdict(list)\n",
    "years,tourns = [],[]\n",
    "for year,tourn in tups:\n",
    "    tournament_group = tournament_groups[(year,tourn)]\n",
    "    if tournament_group<88:\n",
    "        continue\n",
    "    rtourn = rdata[(rdata.Tournament_Year==year) & (rdata['Permanent_Tournament_#']==tourn)]\n",
    "    courses = pd.unique(rtourn['Course_#'])\n",
    "    players = pd.unique(rtourn.Player_Number)\n",
    "    finishing_positions = rtourn.groupby('Player_Number').Finishing_Position.mean().to_dict()\n",
    "    finishing_positions = np.array([finishing_positions[player] for player in players])\n",
    "    players = np.array([num_to_ind[player] for player in players])\n",
    "    nulls = np.array([False]*players.shape[0])\n",
    "    for cat in cats+['reps']:\n",
    "        if cat=='reps':\n",
    "            ratings = np.array([reps_adam[c][players,tournament_group] for c in cats]).mean(0)\n",
    "        elif cat=='other':\n",
    "            ratings = ratings_broadie[cat][players,tournament_group]\n",
    "        else:\n",
    "            ratings = ratings_adam[cat][players,tournament_group-1]\n",
    "        nulls = np.logical_or(nulls,np.isnan(ratings))\n",
    "    for cat in cats+['reps']:\n",
    "        if cat=='reps':\n",
    "            ratings = np.array([reps_adam[c][players,tournament_group] for c in cats]).mean(0)[~nulls]\n",
    "        elif cat=='other':\n",
    "            ratings = ratings_broadie[cat][players,tournament_group][~nulls]\n",
    "        else:\n",
    "            ratings = ratings_adam[cat][players,tournament_group-1][~nulls]\n",
    "        rankings = pd.Series(ratings).rank(ascending=False,pct=True)\n",
    "        preds[cat].extend(rankings.tolist())\n",
    "        if cat!='reps':\n",
    "            course_profs[cat].extend([np.mean([course_profiles[cat_map[cat]][course_order.index(course),tournament_group] \n",
    "                                           for course in courses])]*rankings.shape[0])\n",
    "    outcome = pd.Series(finishing_positions[~nulls]).rank(pct=True)\n",
    "    outcomes.extend(outcome.tolist())\n",
    "    years.extend([year]*outcome.shape[0])\n",
    "    tourns.extend([tourn]*outcome.shape[0])"
   ]
  },
  {
   "cell_type": "code",
   "execution_count": 1269,
   "metadata": {
    "collapsed": false
   },
   "outputs": [],
   "source": [
    "d = {cat+'_rank':preds[cat] for cat in cats+['reps']}\n",
    "d.update({cat+'_importance':course_profs[cat] for cat in cats})\n",
    "d.update({'Outcome':outcomes,'Year':years,'Tournament':tourns})\n",
    "mat = pd.DataFrame(d)"
   ]
  },
  {
   "cell_type": "code",
   "execution_count": 1270,
   "metadata": {
    "collapsed": false
   },
   "outputs": [],
   "source": [
    "groups = {tuple(tup):u for u,tup in enumerate(mat[['Tournament','Year']].drop_duplicates().values.tolist())}\n",
    "groups = np.array([groups[tuple(tup)] for tup in mat[['Tournament','Year']].values.tolist()])\n",
    "n_groups = len(pd.unique(groups))"
   ]
  },
  {
   "cell_type": "code",
   "execution_count": 1274,
   "metadata": {
    "collapsed": false,
    "scrolled": true
   },
   "outputs": [],
   "source": [
    "X = mat[[col for col in mat.columns if 'rank' in col and 'reps' not in col]]\n",
    "y = mat.Outcome.values"
   ]
  },
  {
   "cell_type": "code",
   "execution_count": 1275,
   "metadata": {
    "collapsed": true
   },
   "outputs": [],
   "source": [
    "import statsmodels.api as sm\n",
    "from statsmodels.regression.linear_model import OLS"
   ]
  },
  {
   "cell_type": "code",
   "execution_count": 1276,
   "metadata": {
    "collapsed": false
   },
   "outputs": [
    {
     "name": "stdout",
     "output_type": "stream",
     "text": [
      "                            OLS Regression Results                            \n",
      "==============================================================================\n",
      "Dep. Variable:                      y   R-squared:                       0.037\n",
      "Model:                            OLS   Adj. R-squared:                  0.036\n",
      "Method:                 Least Squares   F-statistic:                     64.09\n",
      "Date:                Fri, 02 Dec 2016   Prob (F-statistic):          5.56e-179\n",
      "Time:                        17:47:16   Log-Likelihood:                -3685.1\n",
      "No. Observations:               23650   AIC:                             7400.\n",
      "Df Residuals:                   23635   BIC:                             7521.\n",
      "Df Model:                          14                                         \n",
      "Covariance Type:            nonrobust                                         \n",
      "===================================================================================\n",
      "                      coef    std err          t      P>|t|      [95.0% Conf. Int.]\n",
      "-----------------------------------------------------------------------------------\n",
      "const               0.2617      0.009     28.688      0.000         0.244     0.280\n",
      "bunker_rank         0.0210      0.007      2.937      0.003         0.007     0.035\n",
      "fairway0_rank       0.0384      0.007      5.319      0.000         0.024     0.053\n",
      "fairway300_rank     0.0347      0.007      4.814      0.000         0.021     0.049\n",
      "fairway540_rank     0.0179      0.008      2.293      0.022         0.003     0.033\n",
      "green0_rank         0.0518      0.007      7.277      0.000         0.038     0.066\n",
      "green10_rank        0.0281      0.007      4.034      0.000         0.014     0.042\n",
      "green20_rank        0.0268      0.007      3.910      0.000         0.013     0.040\n",
      "green5_rank         0.0086      0.007      1.189      0.234        -0.006     0.023\n",
      "other_rank          0.0099      0.007      1.520      0.128        -0.003     0.023\n",
      "rough0_rank         0.0207      0.007      2.971      0.003         0.007     0.034\n",
      "rough375_rank       0.0327      0.007      4.672      0.000         0.019     0.046\n",
      "rough90_rank        0.0285      0.007      4.320      0.000         0.016     0.041\n",
      "tee3_rank           0.0454      0.007      6.086      0.000         0.031     0.060\n",
      "tee45_rank          0.1165      0.008     15.022      0.000         0.101     0.132\n",
      "==============================================================================\n",
      "Omnibus:                    12220.473   Durbin-Watson:                   2.021\n",
      "Prob(Omnibus):                  0.000   Jarque-Bera (JB):             1266.553\n",
      "Skew:                           0.007   Prob(JB):                    9.36e-276\n",
      "Kurtosis:                       1.866   Cond. No.                         12.7\n",
      "==============================================================================\n",
      "\n",
      "Warnings:\n",
      "[1] Standard Errors assume that the covariance matrix of the errors is correctly specified.\n"
     ]
    }
   ],
   "source": [
    "X = sm.add_constant(X)\n",
    "model = sm.OLS(y,X)\n",
    "results = model.fit()\n",
    "print results.summary()"
   ]
  },
  {
   "cell_type": "code",
   "execution_count": 1157,
   "metadata": {
    "collapsed": false
   },
   "outputs": [
    {
     "data": {
      "text/plain": [
       "0.24957940093164396"
      ]
     },
     "execution_count": 1157,
     "metadata": {},
     "output_type": "execute_result"
    }
   ],
   "source": [
    "np.abs((y - y.mean())).mean()"
   ]
  },
  {
   "cell_type": "code",
   "execution_count": 1160,
   "metadata": {
    "collapsed": false
   },
   "outputs": [
    {
     "data": {
      "text/plain": [
       "0.50416490486257926"
      ]
     },
     "execution_count": 1160,
     "metadata": {},
     "output_type": "execute_result"
    }
   ],
   "source": [
    "y.mean()"
   ]
  },
  {
   "cell_type": "code",
   "execution_count": 1158,
   "metadata": {
    "collapsed": false,
    "scrolled": true
   },
   "outputs": [
    {
     "data": {
      "text/plain": [
       "0.24387534705608271"
      ]
     },
     "execution_count": 1158,
     "metadata": {},
     "output_type": "execute_result"
    }
   ],
   "source": [
    "-1*cross_val_score(ols,X,y,cv=30,scoring='mean_absolute_error').mean()"
   ]
  },
  {
   "cell_type": "code",
   "execution_count": 1147,
   "metadata": {
    "collapsed": false
   },
   "outputs": [
    {
     "data": {
      "text/plain": [
       "0.034854907795094946"
      ]
     },
     "execution_count": 1147,
     "metadata": {},
     "output_type": "execute_result"
    }
   ],
   "source": [
    "cross_val_score(ols,X,y,cv=30).mean()"
   ]
  },
  {
   "cell_type": "code",
   "execution_count": 650,
   "metadata": {
    "collapsed": false,
    "scrolled": true
   },
   "outputs": [
    {
     "data": {
      "text/plain": [
       "(24044, 13)"
      ]
     },
     "execution_count": 650,
     "metadata": {},
     "output_type": "execute_result"
    }
   ],
   "source": [
    "X.shape"
   ]
  },
  {
   "cell_type": "code",
   "execution_count": 653,
   "metadata": {
    "collapsed": false
   },
   "outputs": [
    {
     "data": {
      "text/plain": [
       "array([ 0.0208577 ,  0.03668521,  0.0360497 ,  0.01540513,  0.0507506 ,\n",
       "        0.02703503,  0.02919014,  0.01052584,  0.02641833,  0.03332379,\n",
       "        0.02817498,  0.04705884,  0.11681252])"
      ]
     },
     "execution_count": 653,
     "metadata": {},
     "output_type": "execute_result"
    }
   ],
   "source": [
    "ols.fit(X,y)\n",
    "ols.coef_"
   ]
  },
  {
   "cell_type": "code",
   "execution_count": 655,
   "metadata": {
    "collapsed": false
   },
   "outputs": [
    {
     "data": {
      "text/plain": [
       "array([ 0.0181664 ,  0.03586536,  0.05486376,  0.02762472,  0.06990629,\n",
       "        0.12858355, -0.00222165, -0.00735313,  0.02932187,  0.04615132,\n",
       "        0.02026738,  0.04777444,  0.06928941,  0.01441933,  0.00459329,\n",
       "       -0.06791474, -0.06925632, -0.08884165, -0.3360938 ,  0.12473628,\n",
       "        0.05842419, -0.01701896, -0.06578394,  0.06437375, -0.00223911,\n",
       "        0.18222897])"
      ]
     },
     "execution_count": 655,
     "metadata": {},
     "output_type": "execute_result"
    }
   ],
   "source": [
    "ols.fit(X,y)\n",
    "ols.coef_"
   ]
  },
  {
   "cell_type": "code",
   "execution_count": 654,
   "metadata": {
    "collapsed": false
   },
   "outputs": [],
   "source": [
    "X = np.hstack((mat[[col for col in mat.columns if 'rank' in col]].values,\n",
    "               np.multiply(mat[[col for col in mat.columns if 'rank' in col]].values,\n",
    "                           mat[[col for col in mat.columns if 'importance' in col]].values)))\n",
    "y = mat.Outcome.values"
   ]
  },
  {
   "cell_type": "code",
   "execution_count": 450,
   "metadata": {
    "collapsed": true
   },
   "outputs": [],
   "source": [
    "from sklearn.linear_model import LassoCV,RidgeCV"
   ]
  },
  {
   "cell_type": "code",
   "execution_count": 451,
   "metadata": {
    "collapsed": false,
    "scrolled": true
   },
   "outputs": [
    {
     "data": {
      "text/plain": [
       "RidgeCV(alphas=array([  1.00000e-05,   3.59381e-05,   1.29155e-04,   4.64159e-04,\n",
       "         1.66810e-03,   5.99484e-03,   2.15443e-02,   7.74264e-02,\n",
       "         2.78256e-01,   1.00000e+00]),\n",
       "    cv=None, fit_intercept=True, gcv_mode=None, normalize=False,\n",
       "    scoring=None, store_cv_values=True)"
      ]
     },
     "execution_count": 451,
     "metadata": {},
     "output_type": "execute_result"
    }
   ],
   "source": [
    "rcv.fit(X,y)"
   ]
  },
  {
   "cell_type": "code",
   "execution_count": 452,
   "metadata": {
    "collapsed": false
   },
   "outputs": [
    {
     "data": {
      "text/plain": [
       "array([ 0.08011617,  0.08011617,  0.08011617,  0.08011615,  0.08011611,\n",
       "        0.08011594,  0.08011536,  0.08011339,  0.0801076 ,  0.08009479])"
      ]
     },
     "execution_count": 452,
     "metadata": {},
     "output_type": "execute_result"
    }
   ],
   "source": [
    "rcv.cv_values_.mean(0)"
   ]
  },
  {
   "cell_type": "code",
   "execution_count": 453,
   "metadata": {
    "collapsed": false
   },
   "outputs": [
    {
     "name": "stdout",
     "output_type": "stream",
     "text": [
      "tee45_rank 0.0784227681245\n",
      "green10_rank 0.0774886750685\n",
      "green0_rank 0.0611639389567\n",
      "tee3_rank 0.0520549333138\n",
      "fairway300_rank 0.0506583304915\n",
      "rough375_rank 0.0402129431372\n",
      "fairway0_rank 0.0354005226466\n",
      "rough0_rank 0.0284595802312\n",
      "fairway540_rank 0.0237387440325\n",
      "rough90_rank 0.0216585712191\n",
      "bunker_rank 0.0199474341284\n",
      "green20_rank 0.0158628832721\n",
      "green5_rank 0.00877962457956\n"
     ]
    }
   ],
   "source": [
    "for col,coef in sorted(zip([col for col in mat.columns if '_rank' in col],rcv.coef_),key=lambda x: x[1])[::-1]:\n",
    "    print col,coef"
   ]
  },
  {
   "cell_type": "code",
   "execution_count": 454,
   "metadata": {
    "collapsed": false
   },
   "outputs": [
    {
     "data": {
      "text/plain": [
       "count    24044.000000\n",
       "mean         0.504097\n",
       "std          0.055188\n",
       "min          0.312114\n",
       "25%          0.467663\n",
       "50%          0.505595\n",
       "75%          0.541207\n",
       "max          0.732678\n",
       "dtype: float64"
      ]
     },
     "execution_count": 454,
     "metadata": {},
     "output_type": "execute_result"
    }
   ],
   "source": [
    "pd.Series(rcv.predict(X)).describe()"
   ]
  },
  {
   "cell_type": "code",
   "execution_count": 1203,
   "metadata": {
    "collapsed": true
   },
   "outputs": [],
   "source": [
    "lcv = LassoCV(eps=0.001, n_alphas=10000, alphas=None, \n",
    "              fit_intercept=True, normalize=True, \n",
    "              precompute='auto', max_iter=1000, tol=0.0001, \n",
    "              copy_X=True, cv=None, verbose=False)"
   ]
  },
  {
   "cell_type": "code",
   "execution_count": 1204,
   "metadata": {
    "collapsed": false
   },
   "outputs": [
    {
     "data": {
      "text/plain": [
       "LassoCV(alphas=None, copy_X=True, cv=None, eps=0.001, fit_intercept=True,\n",
       "    max_iter=1000, n_alphas=10000, n_jobs=1, normalize=True,\n",
       "    positive=False, precompute='auto', random_state=None,\n",
       "    selection='cyclic', tol=0.0001, verbose=False)"
      ]
     },
     "execution_count": 1204,
     "metadata": {},
     "output_type": "execute_result"
    }
   ],
   "source": [
    "lcv.fit(X,y)"
   ]
  },
  {
   "cell_type": "code",
   "execution_count": 1205,
   "metadata": {
    "collapsed": false
   },
   "outputs": [
    {
     "data": {
      "text/plain": [
       "3.0303958322800248e-06"
      ]
     },
     "execution_count": 1205,
     "metadata": {},
     "output_type": "execute_result"
    }
   ],
   "source": [
    "lcv.alpha_"
   ]
  },
  {
   "cell_type": "code",
   "execution_count": 1207,
   "metadata": {
    "collapsed": false
   },
   "outputs": [
    {
     "data": {
      "text/plain": [
       "[<matplotlib.lines.Line2D at 0x7f3b9ddd8e10>]"
      ]
     },
     "execution_count": 1207,
     "metadata": {},
     "output_type": "execute_result"
    },
    {
     "data": {
      "image/png": "[encoded data removed]",
      "text/plain": [
       "<matplotlib.figure.Figure at 0x7f3b9c5becd0>"
      ]
     },
     "metadata": {},
     "output_type": "display_data"
    }
   ],
   "source": [
    "plt.plot(lcv.alphas_,lcv.mse_path_.mean(1))"
   ]
  },
  {
   "cell_type": "code",
   "execution_count": 1214,
   "metadata": {
    "collapsed": false
   },
   "outputs": [
    {
     "name": "stdout",
     "output_type": "stream",
     "text": [
      "tee45_rank 0.114\n",
      "green0_rank 0.051\n",
      "tee3_rank 0.045\n",
      "fairway0_rank 0.038\n",
      "fairway300_rank 0.034\n",
      "rough375_rank 0.033\n",
      "rough90_rank 0.028\n",
      "green10_rank 0.027\n",
      "green20_rank 0.026\n",
      "bunker_rank 0.020\n",
      "rough0_rank 0.020\n",
      "fairway540_rank 0.017\n",
      "other_rank 0.009\n",
      "green5_rank 0.008\n"
     ]
    }
   ],
   "source": [
    "for col,coef in sorted(zip([col for col in mat.columns if 'rank' in col and 'reps' not in col],lcv.coef_),key=lambda x: x[1])[::-1]:\n",
    "    print col,'%.3f' % coef"
   ]
  },
  {
   "cell_type": "code",
   "execution_count": 1225,
   "metadata": {
    "collapsed": false
   },
   "outputs": [
    {
     "data": {
      "text/plain": [
       "['tee3',\n",
       " 'tee45',\n",
       " 'green0',\n",
       " 'green5',\n",
       " 'green10',\n",
       " 'green20',\n",
       " 'rough0',\n",
       " 'rough90',\n",
       " 'rough375',\n",
       " 'fairway0',\n",
       " 'fairway300',\n",
       " 'fairway540',\n",
       " 'bunker',\n",
       " 'other']"
      ]
     },
     "execution_count": 1225,
     "metadata": {},
     "output_type": "execute_result"
    }
   ],
   "source": [
    "cats"
   ]
  },
  {
   "cell_type": "code",
   "execution_count": 1226,
   "metadata": {
    "collapsed": true
   },
   "outputs": [],
   "source": [
    "cat_map = {'rough90':'rough30','rough375':'rough125','fairway300':'fairway100','fairway540':'fairway180'}"
   ]
  },
  {
   "cell_type": "code",
   "execution_count": 1237,
   "metadata": {
    "collapsed": false
   },
   "outputs": [
    {
     "data": {
      "image/png": "[encoded data removed]",
      "text/plain": [
       "<matplotlib.figure.Figure at 0x7f3b9d6c5590>"
      ]
     },
     "metadata": {},
     "output_type": "display_data"
    }
   ],
   "source": [
    "fig, ax = plt.subplots(1,1, figsize=(23,12.5))\n",
    "x,y = zip(*sorted(zip([col.split('_')[0] for col in mat.columns if 'rank' in col and 'reps' not in col],lcv.coef_),key=lambda x: x[1])[::-1])\n",
    "x = [cat_map[cat] if cat in cat_map else cat for cat in x]\n",
    "plt.setp(ax.get_xticklabels(), fontsize=16);\n",
    "plt.setp(ax.get_yticklabels(), fontsize=18);\n",
    "sns.barplot(x,y);\n",
    "plt.xlabel('Category Code', fontsize = 23);\n",
    "plt.ylabel('Coefficient', fontsize = 23);\n",
    "plt.savefig('./../Plots/Importances_predictive.png',dpi=500)"
   ]
  },
  {
   "cell_type": "code",
   "execution_count": 446,
   "metadata": {
    "collapsed": false,
    "scrolled": true
   },
   "outputs": [
    {
     "name": "stdout",
     "output_type": "stream",
     "text": [
      "tee45_rank 0.115458431576\n",
      "green0_rank 0.0498420346678\n",
      "tee3_rank 0.0464454978271\n",
      "fairway0_rank 0.0364075916999\n",
      "fairway300_rank 0.035492206679\n",
      "rough375_rank 0.0330417682415\n",
      "green20_rank 0.0285378797918\n",
      "rough90_rank 0.0273870768121\n",
      "green10_rank 0.0264376001186\n",
      "rough0_rank 0.0257131660192\n",
      "bunker_rank 0.0202800536568\n",
      "fairway540_rank 0.0149623000308\n",
      "green5_rank 0.00977955338543\n"
     ]
    }
   ],
   "source": [
    "for col,coef in sorted(:\n",
    "    print col,coef"
   ]
  },
  {
   "cell_type": "code",
   "execution_count": 447,
   "metadata": {
    "collapsed": false
   },
   "outputs": [
    {
     "data": {
      "text/plain": [
       "count    24044.000000\n",
       "mean         0.504097\n",
       "std          0.054289\n",
       "min          0.314359\n",
       "25%          0.468297\n",
       "50%          0.505575\n",
       "75%          0.540667\n",
       "max          0.725616\n",
       "dtype: float64"
      ]
     },
     "execution_count": 447,
     "metadata": {},
     "output_type": "execute_result"
    }
   ],
   "source": [
    "pd.Series(lcv.predict(X)).describe()"
   ]
  },
  {
   "cell_type": "code",
   "execution_count": 448,
   "metadata": {
    "collapsed": false
   },
   "outputs": [
    {
     "data": {
      "text/plain": [
       "count    24044.000000\n",
       "mean         0.243701\n",
       "std          0.143420\n",
       "min          0.000013\n",
       "25%          0.120920\n",
       "50%          0.241293\n",
       "75%          0.363063\n",
       "max          0.661860\n",
       "dtype: float64"
      ]
     },
     "execution_count": 448,
     "metadata": {},
     "output_type": "execute_result"
    }
   ],
   "source": [
    "pd.Series(np.abs(lcv.predict(X)-y)).describe()"
   ]
  },
  {
   "cell_type": "code",
   "execution_count": null,
   "metadata": {
    "collapsed": true
   },
   "outputs": [],
   "source": []
  }
 ],
 "metadata": {
  "kernelspec": {
   "display_name": "Python 2",
   "language": "python",
   "name": "python2"
  },
  "language_info": {
   "codemirror_mode": {
    "name": "ipython",
    "version": 2
   },
   "file_extension": ".py",
   "mimetype": "text/x-python",
   "name": "python",
   "nbconvert_exporter": "python",
   "pygments_lexer": "ipython2",
   "version": "2.7.13"
  }
 },
 "nbformat": 4,
 "nbformat_minor": 0
}
