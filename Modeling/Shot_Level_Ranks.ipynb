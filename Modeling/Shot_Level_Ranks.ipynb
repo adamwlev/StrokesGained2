{
 "cells": [
  {
   "cell_type": "code",
   "execution_count": 251,
   "metadata": {
    "collapsed": true
   },
   "outputs": [],
   "source": [
    "import numpy as np\n",
    "import pandas as pd\n",
    "import seaborn as sns\n",
    "import pickle\n",
    "import scipy\n",
    "from scipy.sparse import csc_matrix\n",
    "from collections import defaultdict\n",
    "from os import listdir\n",
    "import matplotlib.pyplot as plt\n",
    "%matplotlib inline"
   ]
  },
  {
   "cell_type": "code",
   "execution_count": 207,
   "metadata": {
    "collapsed": true
   },
   "outputs": [],
   "source": [
    "with open('./../PickleFiles/num_to_ind_shot.pkl','r') as pickleFile:\n",
    "    num_to_ind = pickle.load(pickleFile)\n",
    "\n",
    "with open('./../PickleFiles/ind_to_num_shot.pkl','r') as pickleFile:\n",
    "    ind_to_num = pickle.load(pickleFile)\n",
    "    \n",
    "with open('./../PickleFiles/player_names.pkl','r') as pickleFile:\n",
    "    num_to_name = pickle.load(pickleFile)\n",
    "\n",
    "name_to_num = {value:key for key,value in num_to_name.iteritems()}"
   ]
  },
  {
   "cell_type": "markdown",
   "metadata": {},
   "source": [
    "Selecting most predictive for first 100 tournament groups"
   ]
  },
  {
   "cell_type": "code",
   "execution_count": 278,
   "metadata": {
    "collapsed": false
   },
   "outputs": [],
   "source": [
    "mypath = './../ranks/'\n",
    "corrs = defaultdict(list)\n",
    "for path in [f for f in listdir(mypath)]:\n",
    "    if len([f for f in listdir(mypath+path)])!=28:\n",
    "        continue\n",
    "    ratings_adam = {}\n",
    "    for cat in cats:\n",
    "        ratings_adam[cat] = np.load('%s%s/%s_ranks.npy' % (mypath,path,cat))\n",
    "    preds,outcomes = defaultdict(list),defaultdict(list)\n",
    "    for year,tourn in tups:\n",
    "        tournament_group = tournament_groups[(year,tourn)]\n",
    "        if tournament_group==0 or tournament_group>99:\n",
    "            continue\n",
    "        rtourn = rdata[(rdata.Tournament_Year==year) & (rdata['Permanent_Tournament_#']==tourn)]\n",
    "        players = pd.unique(rtourn.Player_Number)\n",
    "        finishing_positions = rtourn.groupby('Player_Number').Finishing_Position.mean().to_dict()\n",
    "        finishing_positions = np.array([finishing_positions[player] for player in players])\n",
    "        players = [num_to_ind[player] for player in players]\n",
    "        for cat in cats:\n",
    "            ratings = ratings_adam[cat][players,tournament_group-1]\n",
    "            nulls = np.isnan(ratings)\n",
    "            if np.all(nulls):\n",
    "                continue\n",
    "            ranking = pd.Series(ratings[~nulls]).rank(ascending=False,pct=True)\n",
    "            outcome = pd.Series(finishing_positions[~nulls]).rank(pct=True)\n",
    "            preds[cat].extend(ranking.tolist())\n",
    "            outcomes[cat].extend(outcome.tolist())\n",
    "    for cat in cats:\n",
    "        corrs[cat].extend([np.corrcoef(preds[cat],outcomes[cat])[0,1]])\n",
    "print corrs"
   ]
  },
  {
   "cell_type": "code",
   "execution_count": 265,
   "metadata": {
    "collapsed": false
   },
   "outputs": [],
   "source": [
    "mypath = './../Broadie_Aves/'\n",
    "corrs = defaultdict(list)\n",
    "for BETA in range(1,10):\n",
    "    ratings_broadie = {}\n",
    "    for cat in cats:\n",
    "        ratings_broadie[cat] = np.load('%s/%s_%d.npy' % (mypath,cat,BETA))\n",
    "    preds,outcomes = defaultdict(list),defaultdict(list)\n",
    "    for year,tourn in tups:\n",
    "        tournament_group = tournament_groups[(year,tourn)]\n",
    "        if tournament_group==0 or tournament_group>99:\n",
    "            continue\n",
    "        rtourn = rdata[(rdata.Tournament_Year==year) & (rdata['Permanent_Tournament_#']==tourn)]\n",
    "        players = pd.unique(rtourn.Player_Number)\n",
    "        finishing_positions = rtourn.groupby('Player_Number').Finishing_Position.mean().to_dict()\n",
    "        finishing_positions = np.array([finishing_positions[player] for player in players])\n",
    "        players = [num_to_ind[player] for player in players]\n",
    "        for cat in cats:\n",
    "            ratings = ratings_broadie[cat][players,tournament_group]\n",
    "            nulls = np.isnan(ratings)\n",
    "            if np.all(nulls):\n",
    "                continue\n",
    "            ranking = pd.Series(ratings[~nulls]).rank(ascending=False,pct=True)\n",
    "            outcome = pd.Series(finishing_positions[~nulls]).rank(pct=True)\n",
    "            preds[cat].extend(ranking.tolist())\n",
    "            outcomes[cat].extend(outcome.tolist())\n",
    "    for cat in cats:\n",
    "        corrs[cat].extend([np.corrcoef(preds[cat],outcomes[cat])[0,1]])\n",
    "print corrs"
   ]
  },
  {
   "cell_type": "code",
   "execution_count": 199,
   "metadata": {
    "collapsed": true
   },
   "outputs": [],
   "source": [
    "cats = ['tee3','tee45','green0','green5','green10','green20','rough0','rough90',\n",
    "        'rough375','fairway0','fairway300','fairway540','bunker','other']"
   ]
  },
  {
   "cell_type": "code",
   "execution_count": 203,
   "metadata": {
    "collapsed": true
   },
   "outputs": [],
   "source": [
    "ratings_adam = {}\n",
    "for cat in cats:\n",
    "    ratings_adam[cat] = np.load('./../ranks/ranks-300-0.23-0.15-0.7-0.9-5/%s_ranks.npy' % cat)"
   ]
  },
  {
   "cell_type": "code",
   "execution_count": 204,
   "metadata": {
    "collapsed": true
   },
   "outputs": [],
   "source": [
    "ratings_broadie = {}\n",
    "for cat in cats:\n",
    "    ratings_broadie[cat] = np.load('./../Broadie_Aves/%s_9.npy' % cat)"
   ]
  },
  {
   "cell_type": "code",
   "execution_count": 182,
   "metadata": {
    "collapsed": false
   },
   "outputs": [],
   "source": [
    "e = np.load('./../ranks/ranks-300-0.23-0.15-0.7-0.9-5/tee45_ranks.npy')"
   ]
  },
  {
   "cell_type": "code",
   "execution_count": 183,
   "metadata": {
    "collapsed": false
   },
   "outputs": [],
   "source": [
    "e = pd.DataFrame(e).rank(pct=True,axis=0).values"
   ]
  },
  {
   "cell_type": "code",
   "execution_count": 184,
   "metadata": {
    "collapsed": true
   },
   "outputs": [],
   "source": [
    "b = np.load('./../Broadie_Aves/tee45_8.npy')"
   ]
  },
  {
   "cell_type": "code",
   "execution_count": 185,
   "metadata": {
    "collapsed": true
   },
   "outputs": [],
   "source": [
    "b = pd.DataFrame(b).rank(pct=True,axis=0).values"
   ]
  },
  {
   "cell_type": "code",
   "execution_count": 186,
   "metadata": {
    "collapsed": false
   },
   "outputs": [
    {
     "data": {
      "text/plain": [
       "94"
      ]
     },
     "execution_count": 186,
     "metadata": {},
     "output_type": "execute_result"
    }
   ],
   "source": [
    "num_to_ind[name_to_num['Mickelson, Phil']]"
   ]
  },
  {
   "cell_type": "code",
   "execution_count": 193,
   "metadata": {
    "collapsed": false
   },
   "outputs": [
    {
     "data": {
      "image/png": "[encoded data removed]",
      "text/plain": [
       "<matplotlib.figure.Figure at 0x7f0f6648bbd0>"
      ]
     },
     "metadata": {},
     "output_type": "display_data"
    }
   ],
   "source": [
    "plt.figure(figsize=(12,7))\n",
    "plt.plot(e[94,:],label='adam')\n",
    "plt.plot(b[94,:][1:],label='broadie');\n",
    "plt.legend();\n",
    "plt.ylim(0,1);"
   ]
  },
  {
   "cell_type": "code",
   "execution_count": 156,
   "metadata": {
    "collapsed": true
   },
   "outputs": [],
   "source": [
    "rdata = pd.read_csv('./../data/round.csv')"
   ]
  },
  {
   "cell_type": "code",
   "execution_count": 173,
   "metadata": {
    "collapsed": false
   },
   "outputs": [],
   "source": [
    "cols = ['Year','Permanent_Tournament_#']\n",
    "data = pd.concat([pd.read_csv('./../data/%d.csv' % (year))[cols] for year in range(2003,2017)])"
   ]
  },
  {
   "cell_type": "code",
   "execution_count": 189,
   "metadata": {
    "collapsed": false
   },
   "outputs": [],
   "source": [
    "tups = data.drop_duplicates(['Year','Permanent_Tournament_#'])[['Year','Permanent_Tournament_#']].values.tolist()\n",
    "tournament_groups = {tuple(tup):u/4 for u,tup in enumerate(tups)}"
   ]
  },
  {
   "cell_type": "code",
   "execution_count": 228,
   "metadata": {
    "collapsed": false
   },
   "outputs": [],
   "source": [
    "preds_a,preds_b,outcomes = defaultdict(list),defaultdict(list),defaultdict(list)\n",
    "for year,tourn in tups:\n",
    "    tournament_group = tournament_groups[(year,tourn)]\n",
    "    if tournament_group==0:\n",
    "        continue\n",
    "    rtourn = rdata[(rdata.Tournament_Year==year) & (rdata['Permanent_Tournament_#']==tourn)]\n",
    "    players = pd.unique(rtourn.Player_Number)\n",
    "    finishing_positions = rtourn.groupby('Player_Number').Finishing_Position.mean().to_dict()\n",
    "    finishing_positions = np.array([finishing_positions[player] for player in players])\n",
    "    players = [num_to_ind[player] for player in players]\n",
    "    for cat in cats:\n",
    "        ratings_a = ratings_adam[cat][players,tournament_group-1]\n",
    "        ratings_b = ratings_broadie[cat][players,tournament_group]\n",
    "        nulls = np.logical_or(np.isnan(ratings_a),np.isnan(ratings_b))\n",
    "        if np.all(nulls):\n",
    "            continue\n",
    "        rankings_a = pd.Series(ratings_a[~nulls]).rank(ascending=False,pct=True)\n",
    "        rankings_b = pd.Series(ratings_b[~nulls]).rank(ascending=False,pct=True)\n",
    "        outcome = pd.Series(finishing_positions[~nulls]).rank(pct=True)\n",
    "        preds_a[cat].extend(rankings_a.tolist())\n",
    "        preds_b[cat].extend(rankings_b.tolist())\n",
    "        outcomes[cat].extend(outcome.tolist())"
   ]
  },
  {
   "cell_type": "code",
   "execution_count": 252,
   "metadata": {
    "collapsed": true
   },
   "outputs": [],
   "source": [
    "corrs = {cat:np.corrcoef(preds_b[cat],outcomes[cat])[0,1] for cat in cats}"
   ]
  },
  {
   "cell_type": "code",
   "execution_count": 253,
   "metadata": {
    "collapsed": false
   },
   "outputs": [
    {
     "name": "stdout",
     "output_type": "stream",
     "text": [
      "fairway540 0.106543100993\n",
      "green0 0.106400183893\n",
      "fairway300 0.106396113129\n",
      "green20 0.106388637976\n",
      "tee3 0.106386786081\n",
      "green10 0.106378375975\n",
      "tee45 0.106315785842\n",
      "green5 0.10625266043\n",
      "fairway0 0.106228283209\n",
      "rough375 0.106223923653\n",
      "rough90 0.106010228826\n",
      "bunker 0.105796155853\n",
      "rough0 0.10572738815\n",
      "other 0.0996013334742\n"
     ]
    }
   ],
   "source": [
    "for cat in sorted(corrs,key=corrs.get,reverse=True):\n",
    "    print cat,corrs[cat]"
   ]
  },
  {
   "cell_type": "code",
   "execution_count": 236,
   "metadata": {
    "collapsed": false
   },
   "outputs": [
    {
     "name": "stdout",
     "output_type": "stream",
     "text": [
      "\n",
      "tee3\n",
      "Adam Corr = 0.10837570791\n",
      "Broadie Corr = 0.106386786081\n",
      "\n",
      "\n",
      "tee45\n",
      "Adam Corr = 0.116037126701\n",
      "Broadie Corr = 0.106315785842\n",
      "\n",
      "\n",
      "green0\n",
      "Adam Corr = 0.0517925734532\n",
      "Broadie Corr = 0.106400183893\n",
      "\n",
      "\n",
      "green5\n",
      "Adam Corr = 0.0456228457348\n",
      "Broadie Corr = 0.10625266043\n",
      "\n",
      "\n",
      "green10\n",
      "Adam Corr = 0.0546399791154\n",
      "Broadie Corr = 0.106378375975\n",
      "\n",
      "\n",
      "green20\n",
      "Adam Corr = 0.053486057197\n",
      "Broadie Corr = 0.106388637976\n",
      "\n",
      "\n",
      "rough0\n",
      "Adam Corr = 0.0591602527828\n",
      "Broadie Corr = 0.10572738815\n",
      "\n",
      "\n",
      "rough90\n",
      "Adam Corr = 0.0505111845911\n",
      "Broadie Corr = 0.106010228826\n",
      "\n",
      "\n",
      "rough375\n",
      "Adam Corr = 0.084667474203\n",
      "Broadie Corr = 0.106223923653\n",
      "\n",
      "\n",
      "fairway0\n",
      "Adam Corr = 0.078864620082\n",
      "Broadie Corr = 0.106228283209\n",
      "\n",
      "\n",
      "fairway300\n",
      "Adam Corr = 0.101404402022\n",
      "Broadie Corr = 0.106396113129\n",
      "\n",
      "\n",
      "fairway540\n",
      "Adam Corr = 0.0961272722674\n",
      "Broadie Corr = 0.106543100993\n",
      "\n",
      "\n",
      "bunker\n",
      "Adam Corr = 0.0613018804446\n",
      "Broadie Corr = 0.105796155853\n",
      "\n",
      "\n",
      "other\n",
      "Adam Corr = 0.0185318250727\n",
      "Broadie Corr = 0.0996013334742\n",
      "\n"
     ]
    }
   ],
   "source": [
    "for cat in cats:\n",
    "    print\n",
    "    print cat\n",
    "    print 'Adam Corr = ' + str(np.corrcoef(preds_a[cat],outcomes[cat])[0,1])\n",
    "    print 'Broadie Corr = ' + str(np.corrcoef(preds_b[cat],outcomes[cat])[0,1])\n",
    "    print "
   ]
  },
  {
   "cell_type": "code",
   "execution_count": null,
   "metadata": {
    "collapsed": true
   },
   "outputs": [],
   "source": []
  }
 ],
 "metadata": {
  "kernelspec": {
   "display_name": "Python 2",
   "language": "python",
   "name": "python2"
  },
  "language_info": {
   "codemirror_mode": {
    "name": "ipython",
    "version": 2
   },
   "file_extension": ".py",
   "mimetype": "text/x-python",
   "name": "python",
   "nbconvert_exporter": "python",
   "pygments_lexer": "ipython2",
   "version": "2.7.11"
  }
 },
 "nbformat": 4,
 "nbformat_minor": 0
}
