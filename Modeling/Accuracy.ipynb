{
 "cells": [
  {
   "cell_type": "code",
   "execution_count": 64,
   "metadata": {
    "collapsed": true
   },
   "outputs": [],
   "source": [
    "import pandas as pd\n",
    "import numpy as np\n",
    "import matplotlib.pyplot as plt\n",
    "%matplotlib inline"
   ]
  },
  {
   "cell_type": "code",
   "execution_count": 65,
   "metadata": {
    "collapsed": false
   },
   "outputs": [],
   "source": [
    "data = pd.concat([pd.read_csv('../data/%d.csv' % year) for year in range(2003,2017)])"
   ]
  },
  {
   "cell_type": "code",
   "execution_count": 66,
   "metadata": {
    "collapsed": true
   },
   "outputs": [],
   "source": [
    "data = data[data.Year!=2003]"
   ]
  },
  {
   "cell_type": "code",
   "execution_count": 67,
   "metadata": {
    "collapsed": false
   },
   "outputs": [
    {
     "data": {
      "text/plain": [
       "count    13037647.000000\n",
       "mean            2.536867\n",
       "std             1.125554\n",
       "min             0.987553\n",
       "25%             1.546205\n",
       "50%             2.575574\n",
       "75%             3.362644\n",
       "max             5.515152\n",
       "Name: Difficulty_Start, dtype: float64"
      ]
     },
     "execution_count": 67,
     "metadata": {},
     "output_type": "execute_result"
    }
   ],
   "source": [
    "data.Difficulty_Start.describe()"
   ]
  },
  {
   "cell_type": "code",
   "execution_count": 68,
   "metadata": {
    "collapsed": false
   },
   "outputs": [
    {
     "data": {
      "text/plain": [
       "113668"
      ]
     },
     "execution_count": 68,
     "metadata": {},
     "output_type": "execute_result"
    }
   ],
   "source": [
    "(data.Difficulty_Start<1).sum()"
   ]
  },
  {
   "cell_type": "code",
   "execution_count": 12,
   "metadata": {
    "collapsed": false
   },
   "outputs": [
    {
     "data": {
      "image/png": "[encoded data removed]",
      "text/plain": [
       "<matplotlib.figure.Figure at 0x7efdb1581510>"
      ]
     },
     "metadata": {},
     "output_type": "display_data"
    }
   ],
   "source": [
    "from scipy.stats import gaussian_kde\n",
    "\n",
    "density = gaussian_kde(data[data.Cat=='Green'].Difficulty_Start.values)\n",
    "xs = np.linspace(0,3,200)\n",
    "density.covariance_factor = lambda : .25\n",
    "density._compute_covariance()\n",
    "plt.plot(xs,density(xs))\n",
    "plt.show()"
   ]
  },
  {
   "cell_type": "code",
   "execution_count": 14,
   "metadata": {
    "collapsed": false
   },
   "outputs": [
    {
     "data": {
      "text/html": [
       "<div>\n",
       "<table border=\"1\" class=\"dataframe\">\n",
       "  <thead>\n",
       "    <tr style=\"text-align: right;\">\n",
       "      <th></th>\n",
       "      <th>Cat</th>\n",
       "      <th>Shots_taken_from_location</th>\n",
       "      <th>Started_at_Z</th>\n",
       "      <th>Distance_from_hole</th>\n",
       "      <th>Hole</th>\n",
       "      <th>Round</th>\n",
       "      <th>Course_#</th>\n",
       "      <th>Year</th>\n",
       "      <th>Green_to_work_with</th>\n",
       "      <th>Year-Course</th>\n",
       "      <th>Hole-Course</th>\n",
       "      <th>Round-Year-Course</th>\n",
       "      <th>Difficulty</th>\n",
       "    </tr>\n",
       "  </thead>\n",
       "  <tbody>\n",
       "    <tr>\n",
       "      <th>1052894</th>\n",
       "      <td>Tee Box</td>\n",
       "      <td>10</td>\n",
       "      <td>NaN</td>\n",
       "      <td>1383.498403</td>\n",
       "      <td>8</td>\n",
       "      <td>2</td>\n",
       "      <td>660</td>\n",
       "      <td>2004</td>\n",
       "      <td>58.801544</td>\n",
       "      <td>2004-660</td>\n",
       "      <td>8-660</td>\n",
       "      <td>2-2004-660</td>\n",
       "      <td>0</td>\n",
       "    </tr>\n",
       "    <tr>\n",
       "      <th>1052895</th>\n",
       "      <td>Tee Box</td>\n",
       "      <td>4</td>\n",
       "      <td>NaN</td>\n",
       "      <td>1367.723048</td>\n",
       "      <td>15</td>\n",
       "      <td>1</td>\n",
       "      <td>500</td>\n",
       "      <td>2004</td>\n",
       "      <td>17.232815</td>\n",
       "      <td>2004-500</td>\n",
       "      <td>15-500</td>\n",
       "      <td>1-2004-500</td>\n",
       "      <td>0</td>\n",
       "    </tr>\n",
       "    <tr>\n",
       "      <th>1052896</th>\n",
       "      <td>Tee Box</td>\n",
       "      <td>4</td>\n",
       "      <td>NaN</td>\n",
       "      <td>1606.076119</td>\n",
       "      <td>13</td>\n",
       "      <td>4</td>\n",
       "      <td>538</td>\n",
       "      <td>2004</td>\n",
       "      <td>13.637763</td>\n",
       "      <td>2004-538</td>\n",
       "      <td>13-538</td>\n",
       "      <td>4-2004-538</td>\n",
       "      <td>0</td>\n",
       "    </tr>\n",
       "    <tr>\n",
       "      <th>1052897</th>\n",
       "      <td>Tee Box</td>\n",
       "      <td>4</td>\n",
       "      <td>NaN</td>\n",
       "      <td>1345.218848</td>\n",
       "      <td>13</td>\n",
       "      <td>1</td>\n",
       "      <td>500</td>\n",
       "      <td>2004</td>\n",
       "      <td>50.857550</td>\n",
       "      <td>2004-500</td>\n",
       "      <td>13-500</td>\n",
       "      <td>1-2004-500</td>\n",
       "      <td>0</td>\n",
       "    </tr>\n",
       "    <tr>\n",
       "      <th>1052898</th>\n",
       "      <td>Tee Box</td>\n",
       "      <td>4</td>\n",
       "      <td>NaN</td>\n",
       "      <td>1217.408893</td>\n",
       "      <td>12</td>\n",
       "      <td>1</td>\n",
       "      <td>500</td>\n",
       "      <td>2004</td>\n",
       "      <td>20.491049</td>\n",
       "      <td>2004-500</td>\n",
       "      <td>12-500</td>\n",
       "      <td>1-2004-500</td>\n",
       "      <td>0</td>\n",
       "    </tr>\n",
       "  </tbody>\n",
       "</table>\n",
       "</div>"
      ],
      "text/plain": [
       "             Cat  Shots_taken_from_location  Started_at_Z  Distance_from_hole  \\\n",
       "1052894  Tee Box                         10           NaN         1383.498403   \n",
       "1052895  Tee Box                          4           NaN         1367.723048   \n",
       "1052896  Tee Box                          4           NaN         1606.076119   \n",
       "1052897  Tee Box                          4           NaN         1345.218848   \n",
       "1052898  Tee Box                          4           NaN         1217.408893   \n",
       "\n",
       "         Hole  Round  Course_#  Year  Green_to_work_with Year-Course  \\\n",
       "1052894     8      2       660  2004           58.801544    2004-660   \n",
       "1052895    15      1       500  2004           17.232815    2004-500   \n",
       "1052896    13      4       538  2004           13.637763    2004-538   \n",
       "1052897    13      1       500  2004           50.857550    2004-500   \n",
       "1052898    12      1       500  2004           20.491049    2004-500   \n",
       "\n",
       "        Hole-Course Round-Year-Course  Difficulty  \n",
       "1052894       8-660        2-2004-660           0  \n",
       "1052895      15-500        1-2004-500           0  \n",
       "1052896      13-538        4-2004-538           0  \n",
       "1052897      13-500        1-2004-500           0  \n",
       "1052898      12-500        1-2004-500           0  "
      ]
     },
     "execution_count": 14,
     "metadata": {},
     "output_type": "execute_result"
    }
   ],
   "source": [
    "data.head()"
   ]
  },
  {
   "cell_type": "code",
   "execution_count": 14,
   "metadata": {
    "collapsed": false
   },
   "outputs": [
    {
     "data": {
      "text/plain": [
       "(4295702, 44)"
      ]
     },
     "execution_count": 14,
     "metadata": {},
     "output_type": "execute_result"
    }
   ],
   "source": [
    "data[(data.Shot!=1) & (data.Cat!='Green')].shape"
   ]
  },
  {
   "cell_type": "code",
   "execution_count": 69,
   "metadata": {
    "collapsed": false
   },
   "outputs": [
    {
     "data": {
      "text/plain": [
       "0.49493527925743885"
      ]
     },
     "execution_count": 69,
     "metadata": {},
     "output_type": "execute_result"
    }
   ],
   "source": [
    "np.mean((data.Shots_taken_from_location-data.Difficulty_Start)**2)**.5"
   ]
  },
  {
   "cell_type": "code",
   "execution_count": 29,
   "metadata": {
    "collapsed": false
   },
   "outputs": [],
   "source": [
    "data.insert(len(data.columns),'Difficulty_Start_broadie',[0]*len(data))"
   ]
  },
  {
   "cell_type": "code",
   "execution_count": 30,
   "metadata": {
    "collapsed": true
   },
   "outputs": [],
   "source": [
    "data.loc[data.Shot==data.Hole_Score,'Difficulty_Start_broadie'] = data[data.Shot==data.Hole_Score]['Strokes_Gained/Baseline'] + 1"
   ]
  },
  {
   "cell_type": "code",
   "execution_count": 31,
   "metadata": {
    "collapsed": true
   },
   "outputs": [],
   "source": [
    "data=data.sort_values(['Player_#','Course_#','Round','Hole'])\n",
    "for i in range(1,int(data.Hole_Score.max())+1): ##i is hole_score\n",
    "    for j in range(i-1,0,-1): ##j is shot\n",
    "        data.loc[(data.Hole_Score==i) & (data.Shot==j),'Difficulty_Start_broadie'] = \\\n",
    "                                data[(data.Hole_Score==i) & (data.Shot==j+1)].Difficulty_Start_broadie.values +\\\n",
    "                                data[(data.Hole_Score==i) & (data.Shot==j)]['Strokes_Gained/Baseline'].values + 1"
   ]
  },
  {
   "cell_type": "code",
   "execution_count": 32,
   "metadata": {
    "collapsed": false
   },
   "outputs": [
    {
     "data": {
      "text/plain": [
       "count    13037647.000000\n",
       "mean            2.552862\n",
       "std             1.139911\n",
       "min             0.839000\n",
       "25%             1.544000\n",
       "50%             2.567000\n",
       "75%             3.368000\n",
       "max            10.000000\n",
       "Name: Difficulty_Start_broadie, dtype: float64"
      ]
     },
     "execution_count": 32,
     "metadata": {},
     "output_type": "execute_result"
    }
   ],
   "source": [
    "data.Difficulty_Start_broadie.describe()"
   ]
  },
  {
   "cell_type": "code",
   "execution_count": 39,
   "metadata": {
    "collapsed": false
   },
   "outputs": [
    {
     "data": {
      "text/plain": [
       "[<matplotlib.lines.Line2D at 0x7efda342a190>]"
      ]
     },
     "execution_count": 39,
     "metadata": {},
     "output_type": "execute_result"
    },
    {
     "data": {
      "image/png": "[encoded data removed]",
      "text/plain": [
       "<matplotlib.figure.Figure at 0x7efda343bd90>"
      ]
     },
     "metadata": {},
     "output_type": "display_data"
    }
   ],
   "source": [
    "density = gaussian_kde(data.Difficulty_Start.values)\n",
    "xs = np.linspace(1,10,200)\n",
    "density.covariance_factor = lambda : .25\n",
    "density._compute_covariance()\n",
    "plt.plot(xs,density(xs))\n",
    "\n",
    "density.covariance_factor = lambda : .25\n",
    "density._compute_covariance()\n",
    "plt.plot(xs,density(xs))"
   ]
  },
  {
   "cell_type": "code",
   "execution_count": 33,
   "metadata": {
    "collapsed": false
   },
   "outputs": [
    {
     "data": {
      "text/plain": [
       "0.4987432440859361"
      ]
     },
     "execution_count": 33,
     "metadata": {},
     "output_type": "execute_result"
    }
   ],
   "source": [
    "np.mean((data.Shots_taken_from_location-data.Difficulty_Start_broadie)**2)**.5"
   ]
  },
  {
   "cell_type": "code",
   "execution_count": 34,
   "metadata": {
    "collapsed": false,
    "scrolled": true
   },
   "outputs": [
    {
     "data": {
      "text/plain": [
       "0.49415420152579304"
      ]
     },
     "execution_count": 34,
     "metadata": {},
     "output_type": "execute_result"
    }
   ],
   "source": [
    "np.mean((data.Shots_taken_from_location-(data.Difficulty_Start_broadie+data.Difficulty_Start)/2)**2)**.5"
   ]
  },
  {
   "cell_type": "code",
   "execution_count": 70,
   "metadata": {
    "collapsed": true
   },
   "outputs": [],
   "source": [
    "data.insert(len(data.columns),'New_Difficulty',data.Difficulty_Start)"
   ]
  },
  {
   "cell_type": "code",
   "execution_count": 43,
   "metadata": {
    "collapsed": true
   },
   "outputs": [],
   "source": [
    "import pickle\n",
    "with open('./../PickleFiles/TeeDifficulty.pkl','r') as pickleFile:\n",
    "    d = pickle.load(pickleFile)"
   ]
  },
  {
   "cell_type": "code",
   "execution_count": 71,
   "metadata": {
    "collapsed": false
   },
   "outputs": [],
   "source": [
    "years = [key[0] for key in d.keys()]\n",
    "courses = [key[1] for key in d.keys()]\n",
    "holes = [key[2] for key in d.keys()]\n",
    "round = [key[3] for key in d.keys()]\n",
    "difficulties = [d[key] for key in d.keys()]\n",
    "df = pd.DataFrame({'Year':years,'Course_#':courses,'Hole':holes,'Round':round,'Tee_Difficulty':difficulties})"
   ]
  },
  {
   "cell_type": "code",
   "execution_count": 72,
   "metadata": {
    "collapsed": false
   },
   "outputs": [
    {
     "data": {
      "text/plain": [
       "(45702, 5)"
      ]
     },
     "execution_count": 72,
     "metadata": {},
     "output_type": "execute_result"
    }
   ],
   "source": [
    "df.shape"
   ]
  },
  {
   "cell_type": "code",
   "execution_count": 73,
   "metadata": {
    "collapsed": false
   },
   "outputs": [
    {
     "data": {
      "text/html": [
       "<div>\n",
       "<table border=\"1\" class=\"dataframe\">\n",
       "  <thead>\n",
       "    <tr style=\"text-align: right;\">\n",
       "      <th></th>\n",
       "      <th>Course_#</th>\n",
       "      <th>Hole</th>\n",
       "      <th>Round</th>\n",
       "      <th>Tee_Difficulty</th>\n",
       "      <th>Year</th>\n",
       "    </tr>\n",
       "  </thead>\n",
       "  <tbody>\n",
       "    <tr>\n",
       "      <th>0</th>\n",
       "      <td>202</td>\n",
       "      <td>6</td>\n",
       "      <td>2</td>\n",
       "      <td>4.562500</td>\n",
       "      <td>2004</td>\n",
       "    </tr>\n",
       "    <tr>\n",
       "      <th>1</th>\n",
       "      <td>205</td>\n",
       "      <td>15</td>\n",
       "      <td>1</td>\n",
       "      <td>2.846154</td>\n",
       "      <td>2014</td>\n",
       "    </tr>\n",
       "    <tr>\n",
       "      <th>2</th>\n",
       "      <td>656</td>\n",
       "      <td>11</td>\n",
       "      <td>1</td>\n",
       "      <td>3.294118</td>\n",
       "      <td>2007</td>\n",
       "    </tr>\n",
       "    <tr>\n",
       "      <th>3</th>\n",
       "      <td>776</td>\n",
       "      <td>16</td>\n",
       "      <td>4</td>\n",
       "      <td>3.986301</td>\n",
       "      <td>2014</td>\n",
       "    </tr>\n",
       "    <tr>\n",
       "      <th>4</th>\n",
       "      <td>4</td>\n",
       "      <td>16</td>\n",
       "      <td>4</td>\n",
       "      <td>3.240506</td>\n",
       "      <td>2011</td>\n",
       "    </tr>\n",
       "  </tbody>\n",
       "</table>\n",
       "</div>"
      ],
      "text/plain": [
       "   Course_#  Hole  Round  Tee_Difficulty  Year\n",
       "0       202     6      2        4.562500  2004\n",
       "1       205    15      1        2.846154  2014\n",
       "2       656    11      1        3.294118  2007\n",
       "3       776    16      4        3.986301  2014\n",
       "4         4    16      4        3.240506  2011"
      ]
     },
     "execution_count": 73,
     "metadata": {},
     "output_type": "execute_result"
    }
   ],
   "source": [
    "df.head()"
   ]
  },
  {
   "cell_type": "code",
   "execution_count": 74,
   "metadata": {
    "collapsed": false
   },
   "outputs": [],
   "source": [
    "data = pd.merge(data, df, on=['Course_#','Hole','Round','Year'])"
   ]
  },
  {
   "cell_type": "code",
   "execution_count": 75,
   "metadata": {
    "collapsed": true
   },
   "outputs": [],
   "source": [
    "data.loc[data.Shot==1,'New_Difficulty'] = data.loc[data.Shot==1,'Tee_Difficulty']"
   ]
  },
  {
   "cell_type": "code",
   "execution_count": 76,
   "metadata": {
    "collapsed": false
   },
   "outputs": [
    {
     "data": {
      "text/plain": [
       "0.4960342137603995"
      ]
     },
     "execution_count": 76,
     "metadata": {},
     "output_type": "execute_result"
    }
   ],
   "source": [
    "np.mean((data.Shots_taken_from_location-data.New_Difficulty)**2)**.5"
   ]
  },
  {
   "cell_type": "code",
   "execution_count": 77,
   "metadata": {
    "collapsed": false
   },
   "outputs": [
    {
     "data": {
      "text/plain": [
       "count    13037647.000000\n",
       "mean            2.545726\n",
       "std             1.137536\n",
       "min             0.987553\n",
       "25%             1.546205\n",
       "50%             2.575574\n",
       "75%             3.370118\n",
       "max             5.518519\n",
       "Name: New_Difficulty, dtype: float64"
      ]
     },
     "execution_count": 77,
     "metadata": {},
     "output_type": "execute_result"
    }
   ],
   "source": [
    "data.New_Difficulty.describe()"
   ]
  },
  {
   "cell_type": "code",
   "execution_count": null,
   "metadata": {
    "collapsed": true
   },
   "outputs": [],
   "source": []
  }
 ],
 "metadata": {
  "kernelspec": {
   "display_name": "Python 2",
   "language": "python",
   "name": "python2"
  },
  "language_info": {
   "codemirror_mode": {
    "name": "ipython",
    "version": 2
   },
   "file_extension": ".py",
   "mimetype": "text/x-python",
   "name": "python",
   "nbconvert_exporter": "python",
   "pygments_lexer": "ipython2",
   "version": "2.7.12"
  }
 },
 "nbformat": 4,
 "nbformat_minor": 0
}
