{
 "cells": [
  {
   "cell_type": "code",
   "execution_count": 1,
   "metadata": {
    "collapsed": false
   },
   "outputs": [],
   "source": [
    "import pandas as pd\n",
    "import numpy as np\n",
    "import math\n",
    "import sys\n",
    "import matplotlib.pyplot as plt\n",
    "from scipy.sparse import csc_matrix,csr_matrix,eye,bmat\n",
    "from scipy.sparse.linalg import eigs,inv,gmres\n",
    "from scipy.stats import norm,spearmanr\n",
    "from scipy.interpolate import UnivariateSpline\n",
    "from collections import defaultdict\n",
    "import itertools\n",
    "import seaborn as sns\n",
    "import pickle\n",
    "import multiprocessing\n",
    "sns.set_style('whitegrid')\n",
    "%matplotlib inline"
   ]
  },
  {
   "cell_type": "code",
   "execution_count": 2,
   "metadata": {
    "collapsed": false
   },
   "outputs": [],
   "source": [
    "data = pd.read_csv('./../data/round.csv')\n",
    "data = data.loc[data['Permanent_Tournament_#']!=470] ## this is the match play championship, no round scores available"
   ]
  },
  {
   "cell_type": "code",
   "execution_count": 3,
   "metadata": {
    "collapsed": false
   },
   "outputs": [
    {
     "data": {
      "text/html": [
       "<div>\n",
       "<table border=\"1\" class=\"dataframe\">\n",
       "  <thead>\n",
       "    <tr style=\"text-align: right;\">\n",
       "      <th></th>\n",
       "      <th>Tournament_Year</th>\n",
       "      <th>Permanent_Tournament_#</th>\n",
       "      <th>Course_#</th>\n",
       "      <th>Player_Number</th>\n",
       "      <th>Player_Name</th>\n",
       "      <th>Round_Number</th>\n",
       "      <th>Round_Score</th>\n",
       "      <th>End_of_Event_Pos._(text)</th>\n",
       "      <th>Event_Name</th>\n",
       "      <th>Strokes_In_Tournament</th>\n",
       "      <th>Rounds_In_Tournament</th>\n",
       "      <th>Finishing_Position</th>\n",
       "    </tr>\n",
       "  </thead>\n",
       "  <tbody>\n",
       "    <tr>\n",
       "      <th>0</th>\n",
       "      <td>2003</td>\n",
       "      <td>16</td>\n",
       "      <td>656</td>\n",
       "      <td>1320</td>\n",
       "      <td>Estes, Bob</td>\n",
       "      <td>1</td>\n",
       "      <td>66</td>\n",
       "      <td>T6</td>\n",
       "      <td>Mercedes Championships</td>\n",
       "      <td>271.0</td>\n",
       "      <td>4.0</td>\n",
       "      <td>0.208333</td>\n",
       "    </tr>\n",
       "    <tr>\n",
       "      <th>1</th>\n",
       "      <td>2003</td>\n",
       "      <td>16</td>\n",
       "      <td>656</td>\n",
       "      <td>1361</td>\n",
       "      <td>Forsman, Dan</td>\n",
       "      <td>1</td>\n",
       "      <td>69</td>\n",
       "      <td>T21</td>\n",
       "      <td>Mercedes Championships</td>\n",
       "      <td>279.0</td>\n",
       "      <td>4.0</td>\n",
       "      <td>0.611111</td>\n",
       "    </tr>\n",
       "    <tr>\n",
       "      <th>2</th>\n",
       "      <td>2003</td>\n",
       "      <td>16</td>\n",
       "      <td>656</td>\n",
       "      <td>1761</td>\n",
       "      <td>Mattiace, Len</td>\n",
       "      <td>1</td>\n",
       "      <td>75</td>\n",
       "      <td>24</td>\n",
       "      <td>Mercedes Championships</td>\n",
       "      <td>280.0</td>\n",
       "      <td>4.0</td>\n",
       "      <td>0.666667</td>\n",
       "    </tr>\n",
       "  </tbody>\n",
       "</table>\n",
       "</div>"
      ],
      "text/plain": [
       "   Tournament_Year  Permanent_Tournament_#  Course_#  Player_Number  \\\n",
       "0             2003                      16       656           1320   \n",
       "1             2003                      16       656           1361   \n",
       "2             2003                      16       656           1761   \n",
       "\n",
       "     Player_Name  Round_Number  Round_Score End_of_Event_Pos._(text)  \\\n",
       "0     Estes, Bob             1           66                       T6   \n",
       "1   Forsman, Dan             1           69                      T21   \n",
       "2  Mattiace, Len             1           75                       24   \n",
       "\n",
       "               Event_Name  Strokes_In_Tournament  Rounds_In_Tournament  \\\n",
       "0  Mercedes Championships                  271.0                   4.0   \n",
       "1  Mercedes Championships                  279.0                   4.0   \n",
       "2  Mercedes Championships                  280.0                   4.0   \n",
       "\n",
       "   Finishing_Position  \n",
       "0            0.208333  \n",
       "1            0.611111  \n",
       "2            0.666667  "
      ]
     },
     "execution_count": 3,
     "metadata": {},
     "output_type": "execute_result"
    }
   ],
   "source": [
    "data.head(3)"
   ]
  },
  {
   "cell_type": "code",
   "execution_count": 4,
   "metadata": {
    "collapsed": false,
    "scrolled": true
   },
   "outputs": [
    {
     "data": {
      "text/plain": [
       "(257759, 12)"
      ]
     },
     "execution_count": 4,
     "metadata": {},
     "output_type": "execute_result"
    }
   ],
   "source": [
    "data.shape"
   ]
  },
  {
   "cell_type": "code",
   "execution_count": 5,
   "metadata": {
    "collapsed": false,
    "scrolled": true
   },
   "outputs": [
    {
     "data": {
      "text/html": [
       "<div>\n",
       "<table border=\"1\" class=\"dataframe\">\n",
       "  <thead>\n",
       "    <tr style=\"text-align: right;\">\n",
       "      <th></th>\n",
       "      <th>Tournament_Year</th>\n",
       "      <th>Permanent_Tournament_#</th>\n",
       "      <th>Course_#</th>\n",
       "      <th>Player_Number</th>\n",
       "      <th>Player_Name</th>\n",
       "      <th>Round_Number</th>\n",
       "      <th>Round_Score</th>\n",
       "      <th>End_of_Event_Pos._(text)</th>\n",
       "      <th>Event_Name</th>\n",
       "      <th>Strokes_In_Tournament</th>\n",
       "      <th>Rounds_In_Tournament</th>\n",
       "      <th>Finishing_Position</th>\n",
       "    </tr>\n",
       "  </thead>\n",
       "  <tbody>\n",
       "    <tr>\n",
       "      <th>259740</th>\n",
       "      <td>2016</td>\n",
       "      <td>60</td>\n",
       "      <td>688</td>\n",
       "      <td>34360</td>\n",
       "      <td>Reed, Patrick</td>\n",
       "      <td>4</td>\n",
       "      <td>70</td>\n",
       "      <td>T24</td>\n",
       "      <td>TOUR Championship</td>\n",
       "      <td>283.0</td>\n",
       "      <td>4.0</td>\n",
       "      <td>0.844828</td>\n",
       "    </tr>\n",
       "    <tr>\n",
       "      <th>259741</th>\n",
       "      <td>2016</td>\n",
       "      <td>60</td>\n",
       "      <td>688</td>\n",
       "      <td>37455</td>\n",
       "      <td>Kim, Si Woo</td>\n",
       "      <td>4</td>\n",
       "      <td>65</td>\n",
       "      <td>T10</td>\n",
       "      <td>TOUR Championship</td>\n",
       "      <td>278.0</td>\n",
       "      <td>4.0</td>\n",
       "      <td>0.413793</td>\n",
       "    </tr>\n",
       "    <tr>\n",
       "      <th>259742</th>\n",
       "      <td>2016</td>\n",
       "      <td>60</td>\n",
       "      <td>688</td>\n",
       "      <td>40026</td>\n",
       "      <td>Berger, Daniel</td>\n",
       "      <td>4</td>\n",
       "      <td>68</td>\n",
       "      <td>T15</td>\n",
       "      <td>TOUR Championship</td>\n",
       "      <td>279.0</td>\n",
       "      <td>4.0</td>\n",
       "      <td>0.534483</td>\n",
       "    </tr>\n",
       "  </tbody>\n",
       "</table>\n",
       "</div>"
      ],
      "text/plain": [
       "        Tournament_Year  Permanent_Tournament_#  Course_#  Player_Number  \\\n",
       "259740             2016                      60       688          34360   \n",
       "259741             2016                      60       688          37455   \n",
       "259742             2016                      60       688          40026   \n",
       "\n",
       "           Player_Name  Round_Number  Round_Score End_of_Event_Pos._(text)  \\\n",
       "259740   Reed, Patrick             4           70                      T24   \n",
       "259741     Kim, Si Woo             4           65                      T10   \n",
       "259742  Berger, Daniel             4           68                      T15   \n",
       "\n",
       "               Event_Name  Strokes_In_Tournament  Rounds_In_Tournament  \\\n",
       "259740  TOUR Championship                  283.0                   4.0   \n",
       "259741  TOUR Championship                  278.0                   4.0   \n",
       "259742  TOUR Championship                  279.0                   4.0   \n",
       "\n",
       "        Finishing_Position  \n",
       "259740            0.844828  \n",
       "259741            0.413793  \n",
       "259742            0.534483  "
      ]
     },
     "execution_count": 5,
     "metadata": {},
     "output_type": "execute_result"
    }
   ],
   "source": [
    "data.tail(3)"
   ]
  },
  {
   "cell_type": "code",
   "execution_count": 6,
   "metadata": {
    "collapsed": false
   },
   "outputs": [],
   "source": [
    "with open('./../PickleFiles/num_to_ind_round.pkl','r') as pickleFile:\n",
    "    num_to_inds = pickle.load(pickleFile)"
   ]
  },
  {
   "cell_type": "code",
   "execution_count": 7,
   "metadata": {
    "collapsed": false,
    "scrolled": true
   },
   "outputs": [],
   "source": [
    "data.insert(5,'Player_Index',[num_to_inds[num] for num in data.Player_Number])"
   ]
  },
  {
   "cell_type": "markdown",
   "metadata": {},
   "source": [
    "_Strokes Gained To The Field_"
   ]
  },
  {
   "cell_type": "code",
   "execution_count": 17,
   "metadata": {
    "collapsed": false
   },
   "outputs": [],
   "source": [
    "field_perf = data.groupby(['Tournament_Year','Permanent_Tournament_#','Round_Number','Course_#']).Round_Score.mean().to_dict()"
   ]
  },
  {
   "cell_type": "code",
   "execution_count": 18,
   "metadata": {
    "collapsed": false
   },
   "outputs": [],
   "source": [
    "data.insert(len(data.columns),'Field_Performance',[field_perf[tuple(tup)] \n",
    "                                                   for tup in data[['Tournament_Year','Permanent_Tournament_#',\n",
    "                                                                    'Round_Number','Course_#']].values.tolist()])"
   ]
  },
  {
   "cell_type": "code",
   "execution_count": 19,
   "metadata": {
    "collapsed": true
   },
   "outputs": [],
   "source": [
    "data.insert(len(data.columns),'Strokes_Gained_To_The_Field',data.Field_Performance-data.Round_Score)"
   ]
  },
  {
   "cell_type": "code",
   "execution_count": 20,
   "metadata": {
    "collapsed": false
   },
   "outputs": [
    {
     "data": {
      "text/plain": [
       "count    2.577590e+05\n",
       "mean    -2.877908e-17\n",
       "std      2.944108e+00\n",
       "min     -1.965625e+01\n",
       "25%     -1.830769e+00\n",
       "50%      1.527778e-01\n",
       "75%      1.985915e+00\n",
       "max      1.208571e+01\n",
       "Name: Strokes_Gained_To_The_Field, dtype: float64"
      ]
     },
     "execution_count": 20,
     "metadata": {},
     "output_type": "execute_result"
    }
   ],
   "source": [
    "data.Strokes_Gained_To_The_Field.describe()"
   ]
  },
  {
   "cell_type": "code",
   "execution_count": 21,
   "metadata": {
    "collapsed": false
   },
   "outputs": [
    {
     "data": {
      "text/html": [
       "<div>\n",
       "<table border=\"1\" class=\"dataframe\">\n",
       "  <thead>\n",
       "    <tr style=\"text-align: right;\">\n",
       "      <th></th>\n",
       "      <th>Tournament_Year</th>\n",
       "      <th>Permanent_Tournament_#</th>\n",
       "      <th>Course_#</th>\n",
       "      <th>Player_Number</th>\n",
       "      <th>Player_Name</th>\n",
       "      <th>Player_Index</th>\n",
       "      <th>Round_Number</th>\n",
       "      <th>Round_Score</th>\n",
       "      <th>End_of_Event_Pos._(text)</th>\n",
       "      <th>Event_Name</th>\n",
       "      <th>Strokes_In_Tournament</th>\n",
       "      <th>Rounds_In_Tournament</th>\n",
       "      <th>Finishing_Position</th>\n",
       "      <th>Tournament_Group</th>\n",
       "      <th>Field_Performance</th>\n",
       "      <th>Strokes_Gained_To_The_Field</th>\n",
       "    </tr>\n",
       "  </thead>\n",
       "  <tbody>\n",
       "    <tr>\n",
       "      <th>204812</th>\n",
       "      <td>2013</td>\n",
       "      <td>28</td>\n",
       "      <td>789</td>\n",
       "      <td>10809</td>\n",
       "      <td>Furyk, Jim</td>\n",
       "      <td>21</td>\n",
       "      <td>2</td>\n",
       "      <td>59</td>\n",
       "      <td>3</td>\n",
       "      <td>BMW Championship</td>\n",
       "      <td>271.0</td>\n",
       "      <td>4.0</td>\n",
       "      <td>0.042857</td>\n",
       "      <td>123</td>\n",
       "      <td>71.085714</td>\n",
       "      <td>12.085714</td>\n",
       "    </tr>\n",
       "    <tr>\n",
       "      <th>229372</th>\n",
       "      <td>2015</td>\n",
       "      <td>473</td>\n",
       "      <td>8</td>\n",
       "      <td>27141</td>\n",
       "      <td>Holmes, J.B.</td>\n",
       "      <td>453</td>\n",
       "      <td>1</td>\n",
       "      <td>62</td>\n",
       "      <td>2</td>\n",
       "      <td>World Golf Championships-Cadillac Championship</td>\n",
       "      <td>280.0</td>\n",
       "      <td>4.0</td>\n",
       "      <td>0.027397</td>\n",
       "      <td>139</td>\n",
       "      <td>73.356164</td>\n",
       "      <td>11.356164</td>\n",
       "    </tr>\n",
       "    <tr>\n",
       "      <th>13487</th>\n",
       "      <td>2003</td>\n",
       "      <td>56</td>\n",
       "      <td>56</td>\n",
       "      <td>1706</td>\n",
       "      <td>Love III, Davis</td>\n",
       "      <td>198</td>\n",
       "      <td>1</td>\n",
       "      <td>63</td>\n",
       "      <td>1</td>\n",
       "      <td>The INTERNATIONAL</td>\n",
       "      <td>270.0</td>\n",
       "      <td>4.0</td>\n",
       "      <td>0.007194</td>\n",
       "      <td>7</td>\n",
       "      <td>74.115108</td>\n",
       "      <td>11.115108</td>\n",
       "    </tr>\n",
       "  </tbody>\n",
       "</table>\n",
       "</div>"
      ],
      "text/plain": [
       "        Tournament_Year  Permanent_Tournament_#  Course_#  Player_Number  \\\n",
       "204812             2013                      28       789          10809   \n",
       "229372             2015                     473         8          27141   \n",
       "13487              2003                      56        56           1706   \n",
       "\n",
       "            Player_Name  Player_Index  Round_Number  Round_Score  \\\n",
       "204812       Furyk, Jim            21             2           59   \n",
       "229372     Holmes, J.B.           453             1           62   \n",
       "13487   Love III, Davis           198             1           63   \n",
       "\n",
       "       End_of_Event_Pos._(text)  \\\n",
       "204812                        3   \n",
       "229372                        2   \n",
       "13487                         1   \n",
       "\n",
       "                                            Event_Name  Strokes_In_Tournament  \\\n",
       "204812                                BMW Championship                  271.0   \n",
       "229372  World Golf Championships-Cadillac Championship                  280.0   \n",
       "13487                                The INTERNATIONAL                  270.0   \n",
       "\n",
       "        Rounds_In_Tournament  Finishing_Position  Tournament_Group  \\\n",
       "204812                   4.0            0.042857               123   \n",
       "229372                   4.0            0.027397               139   \n",
       "13487                    4.0            0.007194                 7   \n",
       "\n",
       "        Field_Performance  Strokes_Gained_To_The_Field  \n",
       "204812          71.085714                    12.085714  \n",
       "229372          73.356164                    11.356164  \n",
       "13487           74.115108                    11.115108  "
      ]
     },
     "execution_count": 21,
     "metadata": {},
     "output_type": "execute_result"
    }
   ],
   "source": [
    "data.sort_values('Strokes_Gained_To_The_Field',ascending=False).head(3)"
   ]
  },
  {
   "cell_type": "code",
   "execution_count": 8,
   "metadata": {
    "collapsed": false
   },
   "outputs": [],
   "source": [
    "tups = data.drop_duplicates(['Tournament_Year','Permanent_Tournament_#'])[['Tournament_Year','Permanent_Tournament_#']].values.tolist()\n",
    "tournament_groups = {tuple(tup):u/4 for u,tup in enumerate(tups)}"
   ]
  },
  {
   "cell_type": "code",
   "execution_count": 9,
   "metadata": {
    "collapsed": false
   },
   "outputs": [],
   "source": [
    "data.insert(len(data.columns),'Tournament_Group',[tournament_groups[tuple(tup)] \n",
    "                                                  for tup in data[['Tournament_Year','Permanent_Tournament_#']].values.tolist()])"
   ]
  },
  {
   "cell_type": "code",
   "execution_count": 10,
   "metadata": {
    "collapsed": false
   },
   "outputs": [
    {
     "data": {
      "text/html": [
       "<div>\n",
       "<table border=\"1\" class=\"dataframe\">\n",
       "  <thead>\n",
       "    <tr style=\"text-align: right;\">\n",
       "      <th></th>\n",
       "      <th>Tournament_Year</th>\n",
       "      <th>Permanent_Tournament_#</th>\n",
       "      <th>Course_#</th>\n",
       "      <th>Player_Number</th>\n",
       "      <th>Player_Name</th>\n",
       "      <th>Player_Index</th>\n",
       "      <th>Round_Number</th>\n",
       "      <th>Round_Score</th>\n",
       "      <th>End_of_Event_Pos._(text)</th>\n",
       "      <th>Event_Name</th>\n",
       "      <th>Strokes_In_Tournament</th>\n",
       "      <th>Rounds_In_Tournament</th>\n",
       "      <th>Finishing_Position</th>\n",
       "      <th>Tournament_Group</th>\n",
       "    </tr>\n",
       "  </thead>\n",
       "  <tbody>\n",
       "    <tr>\n",
       "      <th>0</th>\n",
       "      <td>2003</td>\n",
       "      <td>16</td>\n",
       "      <td>656</td>\n",
       "      <td>1320</td>\n",
       "      <td>Estes, Bob</td>\n",
       "      <td>0</td>\n",
       "      <td>1</td>\n",
       "      <td>66</td>\n",
       "      <td>T6</td>\n",
       "      <td>Mercedes Championships</td>\n",
       "      <td>271.0</td>\n",
       "      <td>4.0</td>\n",
       "      <td>0.208333</td>\n",
       "      <td>0</td>\n",
       "    </tr>\n",
       "    <tr>\n",
       "      <th>1</th>\n",
       "      <td>2003</td>\n",
       "      <td>16</td>\n",
       "      <td>656</td>\n",
       "      <td>1361</td>\n",
       "      <td>Forsman, Dan</td>\n",
       "      <td>1</td>\n",
       "      <td>1</td>\n",
       "      <td>69</td>\n",
       "      <td>T21</td>\n",
       "      <td>Mercedes Championships</td>\n",
       "      <td>279.0</td>\n",
       "      <td>4.0</td>\n",
       "      <td>0.611111</td>\n",
       "      <td>0</td>\n",
       "    </tr>\n",
       "    <tr>\n",
       "      <th>2</th>\n",
       "      <td>2003</td>\n",
       "      <td>16</td>\n",
       "      <td>656</td>\n",
       "      <td>1761</td>\n",
       "      <td>Mattiace, Len</td>\n",
       "      <td>2</td>\n",
       "      <td>1</td>\n",
       "      <td>75</td>\n",
       "      <td>24</td>\n",
       "      <td>Mercedes Championships</td>\n",
       "      <td>280.0</td>\n",
       "      <td>4.0</td>\n",
       "      <td>0.666667</td>\n",
       "      <td>0</td>\n",
       "    </tr>\n",
       "  </tbody>\n",
       "</table>\n",
       "</div>"
      ],
      "text/plain": [
       "   Tournament_Year  Permanent_Tournament_#  Course_#  Player_Number  \\\n",
       "0             2003                      16       656           1320   \n",
       "1             2003                      16       656           1361   \n",
       "2             2003                      16       656           1761   \n",
       "\n",
       "     Player_Name  Player_Index  Round_Number  Round_Score  \\\n",
       "0     Estes, Bob             0             1           66   \n",
       "1   Forsman, Dan             1             1           69   \n",
       "2  Mattiace, Len             2             1           75   \n",
       "\n",
       "  End_of_Event_Pos._(text)              Event_Name  Strokes_In_Tournament  \\\n",
       "0                       T6  Mercedes Championships                  271.0   \n",
       "1                      T21  Mercedes Championships                  279.0   \n",
       "2                       24  Mercedes Championships                  280.0   \n",
       "\n",
       "   Rounds_In_Tournament  Finishing_Position  Tournament_Group  \n",
       "0                   4.0            0.208333                 0  \n",
       "1                   4.0            0.611111                 0  \n",
       "2                   4.0            0.666667                 0  "
      ]
     },
     "execution_count": 10,
     "metadata": {},
     "output_type": "execute_result"
    }
   ],
   "source": [
    "data.head(3)"
   ]
  },
  {
   "cell_type": "code",
   "execution_count": 22,
   "metadata": {
    "collapsed": false
   },
   "outputs": [],
   "source": [
    "player_perfs = data.groupby(['Tournament_Group','Player_Index'],as_index=False).agg({'Round_Number':'count',\n",
    "                                                       'Strokes_Gained_To_The_Field':'sum'})\n",
    "player_perfs = {tuple(tup[0:2]):tup[2:] for tup in player_perfs.values.tolist()}"
   ]
  },
  {
   "cell_type": "code",
   "execution_count": 23,
   "metadata": {
    "collapsed": false
   },
   "outputs": [
    {
     "name": "stdout",
     "output_type": "stream",
     "text": [
      "(24.0, 162.0) [17.0, 47.959821348632985]\n",
      "(93.0, 711.0) [17.0, 41.779813263631695]\n",
      "(12.0, 87.0) [17.0, 28.928805245529347]\n",
      "(59.0, 22.0) [17.0, 28.908535495163534]\n",
      "(0.0, 10.0) [17.0, 28.13712329337332]\n",
      "(24.0, 14.0) [17.0, 27.156669400967203]\n",
      "(0.0, 1.0) [17.0, 18.82462329337332]\n",
      "(24.0, 183.0) [17.0, 18.156669400967203]\n",
      "(59.0, 267.0) [17.0, 18.014718290862447]\n",
      "(93.0, 441.0) [17.0, 15.444530061281924]\n"
     ]
    }
   ],
   "source": [
    "for key in sorted(player_perfs,key=player_perfs.get,reverse=True)[0:10]:\n",
    "    print key,player_perfs[key]"
   ]
  },
  {
   "cell_type": "code",
   "execution_count": 24,
   "metadata": {
    "collapsed": false
   },
   "outputs": [
    {
     "data": {
      "text/plain": [
       "41765"
      ]
     },
     "execution_count": 24,
     "metadata": {},
     "output_type": "execute_result"
    }
   ],
   "source": [
    "len(player_perfs)"
   ]
  },
  {
   "cell_type": "code",
   "execution_count": 25,
   "metadata": {
    "collapsed": true
   },
   "outputs": [],
   "source": [
    "def my_norm(x,BETA):\n",
    "    return norm.pdf(x,0,BETA)/norm.pdf(0,0,BETA)"
   ]
  },
  {
   "cell_type": "code",
   "execution_count": 26,
   "metadata": {
    "collapsed": false
   },
   "outputs": [],
   "source": [
    "def take_weighted_ave(a,beta,window_size=35):\n",
    "    if not a:\n",
    "        return np.nan\n",
    "    counts = np.array([count for count,total in a[max(0,len(a)-window_size):]])\n",
    "    if counts.sum()==0:\n",
    "        return np.nan\n",
    "    means = [total/count if count!=0 else 0 for count,total in a[max(0,len(a)-window_size):]]\n",
    "    x = list(itertools.chain.from_iterable([[means[j]]*int(counts[j]) for j in range(len(counts))]))\n",
    "    weights = list(itertools.chain.from_iterable([[my_norm(len(counts)-j-1,beta)]*int(counts[j]) \n",
    "                                                  for j in range(len(counts))]))\n",
    "    return np.dot(x,weights)/np.sum(weights)"
   ]
  },
  {
   "cell_type": "code",
   "execution_count": 67,
   "metadata": {
    "collapsed": false,
    "scrolled": true
   },
   "outputs": [
    {
     "data": {
      "text/plain": [
       "4.5908045140793075"
      ]
     },
     "execution_count": 67,
     "metadata": {},
     "output_type": "execute_result"
    }
   ],
   "source": [
    "take_weighted_ave([(7,3.2),(8,7.6),(9,3.4),(10,2.1),(0.0,0),(0,0),(0,np.nan),(1,5.)],1.3)"
   ]
  },
  {
   "cell_type": "code",
   "execution_count": 98,
   "metadata": {
    "collapsed": false
   },
   "outputs": [],
   "source": [
    "n_tournament_groups = len(pd.unique(data.Tournament_Group))\n",
    "players = range(len(num_to_inds))"
   ]
  },
  {
   "cell_type": "markdown",
   "metadata": {},
   "source": [
    "Training"
   ]
  },
  {
   "cell_type": "code",
   "execution_count": 28,
   "metadata": {
    "collapsed": true
   },
   "outputs": [],
   "source": [
    "def run_a_beta(betas):\n",
    "    pearsons,spearmans = [],[]\n",
    "    for BETA in betas:\n",
    "        A = np.array([[take_weighted_ave([player_perfs[(tournament_group,player_ind)] \n",
    "                                          if (tournament_group,player_ind) in player_perfs else (0.,0.)\n",
    "                                          for tournament_group in range(i)],BETA)\n",
    "                       for i in range(100)]\n",
    "                      for player_ind in players])\n",
    "\n",
    "        x,y = [],[]\n",
    "        for (year,tourn),df in data.groupby(['Tournament_Year','Permanent_Tournament_#'],sort=False):\n",
    "            if tournament_groups[(year,tourn)]>=100:\n",
    "                continue\n",
    "            ratings = A[pd.unique(df.Player_Index),tournament_groups[(year,tourn)]]\n",
    "            rankings = pd.Series(ratings[~np.isnan(ratings)]).rank(ascending=False,pct=True).values\n",
    "            finishing_pos = df.groupby('Player_Index').Finishing_Position.mean().to_dict()\n",
    "            finishing_pos = [finishing_pos[ind] for ind in pd.unique(df.Player_Index)[~np.isnan(ratings)]]\n",
    "            finishing_pos = pd.Series(finishing_pos).rank(ascending=True,pct=True).values\n",
    "            x.extend(rankings.tolist())\n",
    "            y.extend(finishing_pos.tolist())\n",
    "\n",
    "        pearson,spearman = np.corrcoef(x,y)[0,1],spearmanr(x,y)[0]\n",
    "        print BETA,pearson,spearman\n",
    "        pearsons.append(pearson)\n",
    "        spearmans.append(spearman)\n",
    "    return (betas,pearsons,spearmans)"
   ]
  },
  {
   "cell_type": "code",
   "execution_count": 29,
   "metadata": {
    "collapsed": true
   },
   "outputs": [],
   "source": [
    "def partition (lst, n):\n",
    "    return [lst[i::n] for i in xrange(n)]"
   ]
  },
  {
   "cell_type": "code",
   "execution_count": 30,
   "metadata": {
    "collapsed": false
   },
   "outputs": [
    {
     "name": "stdout",
     "output_type": "stream",
     "text": [
      "8.0 0.198512853911 0.198391817873\n",
      "16.0 0.202051277623 0.201923304233\n",
      "1.0 0.162257780022 0.162153712427\n",
      "9.0 0.199687491691 0.199565112474\n",
      "13.0 0.202035268025 0.20190865809\n",
      "11.0 0.201383791683 0.201258406928\n",
      "7.0 0.196854880312 0.196734852944\n",
      "15.0 0.202049444653 0.201924052673\n",
      "4.0 0.187094744161 0.186982321401\n",
      "2.0 0.17463177483 0.174518244759\n",
      "14.0 0.202182515771 0.202054011429\n",
      "6.0 0.194289720757 0.194166546471\n",
      "3.0 0.181818461225 0.181697570907\n",
      "12.0 0.201690791059 0.201559830655\n",
      "5.0 0.191175150272 0.191061396974\n",
      "10.0 0.20056016422 0.200435030728\n",
      "24.026.017.025.021.027.023.019.020.018.022.0 0.200779054409 0.200655598699\n",
      " 0.200474194902 0.200354577248\n",
      " 0.202092862039 0.20196749958\n",
      " 0.200603607655 0.200481328854\n",
      " 0.201418594154 0.201293817406\n",
      " 0.200391058899 0.200271963398\n",
      " 0.201014088225 0.200890197379\n",
      " 0.201813830854 0.201686071102\n",
      " 0.201629257593 0.201504398516\n",
      " 0.202025231851 0.201900680507\n",
      " 0.201228048313 0.201103278173\n"
     ]
    }
   ],
   "source": [
    "num_cores = 16\n",
    "slices = partition(np.linspace(1,27,27),num_cores)\n",
    "pool = multiprocessing.Pool(num_cores)\n",
    "results = pool.map(run_a_beta, slices)\n",
    "pool.close()"
   ]
  },
  {
   "cell_type": "code",
   "execution_count": 31,
   "metadata": {
    "collapsed": false
   },
   "outputs": [],
   "source": [
    "results = sum([zip(*results[i]) for i in range(len(results))],[])\n",
    "results = sorted(results)"
   ]
  },
  {
   "cell_type": "code",
   "execution_count": 32,
   "metadata": {
    "collapsed": false
   },
   "outputs": [
    {
     "data": {
      "text/plain": [
       "((14.0, 0.20218251577116753, 0.20205401142919804),\n",
       " (14.0, 0.20218251577116753, 0.20205401142919804))"
      ]
     },
     "execution_count": 32,
     "metadata": {},
     "output_type": "execute_result"
    }
   ],
   "source": [
    "max(results,key=lambda x: x[1]),max(results,key=lambda x: x[2])"
   ]
  },
  {
   "cell_type": "code",
   "execution_count": 33,
   "metadata": {
    "collapsed": false
   },
   "outputs": [
    {
     "data": {
      "image/png": "[encoded data removed]",
      "text/plain": [
       "<matplotlib.figure.Figure at 0x7f8fb813d990>"
      ]
     },
     "metadata": {},
     "output_type": "display_data"
    }
   ],
   "source": [
    "plt.plot([i[0] for i in results],[i[1] for i in results])\n",
    "plt.plot([i[0] for i in results],[i[2] for i in results]);"
   ]
  },
  {
   "cell_type": "markdown",
   "metadata": {},
   "source": [
    "Making Test Set"
   ]
  },
  {
   "cell_type": "code",
   "execution_count": 99,
   "metadata": {
    "collapsed": false
   },
   "outputs": [],
   "source": [
    "BETA = 14\n",
    "A = np.array([[take_weighted_ave([player_perfs[(tournament_group,player_ind)] \n",
    "                                  if (tournament_group,player_ind) in player_perfs else (0.,0.)\n",
    "                                  for tournament_group in range(i)],BETA)\n",
    "               for i in range(n_tournament_groups)]\n",
    "              for player_ind in players])"
   ]
  },
  {
   "cell_type": "code",
   "execution_count": 100,
   "metadata": {
    "collapsed": false
   },
   "outputs": [],
   "source": [
    "x,y,tourns,years,players = [],[],[],[],[]\n",
    "for (year,tourn),df in data.groupby(['Tournament_Year','Permanent_Tournament_#'],sort=False):\n",
    "    if tournament_groups[(year,tourn)]<100:\n",
    "        continue\n",
    "    ratings = A[pd.unique(df.Player_Index),tournament_groups[(year,tourn)]]\n",
    "    rankings = pd.Series(ratings[~np.isnan(ratings)]).rank(ascending=False,pct=True).values\n",
    "    finishing_pos = df.groupby('Player_Index').Finishing_Position.mean().to_dict()\n",
    "    finishing_pos = [finishing_pos[ind] for ind in pd.unique(df.Player_Index)[~np.isnan(ratings)]]\n",
    "    finishing_pos = pd.Series(finishing_pos).rank(ascending=True,pct=True).values\n",
    "    x.extend(rankings.tolist())\n",
    "    y.extend(finishing_pos.tolist())\n",
    "    tourns.extend([tourn]*len(rankings))\n",
    "    years.extend([year]*len(rankings))\n",
    "    players.extend(pd.unique(df.Player_Index)[~np.isnan(ratings)].tolist())"
   ]
  },
  {
   "cell_type": "code",
   "execution_count": 101,
   "metadata": {
    "collapsed": true
   },
   "outputs": [],
   "source": [
    "SGTTF_Test = pd.DataFrame({'x':x,'y':y,'tourn':tourns,'year':years,'player':players})"
   ]
  },
  {
   "cell_type": "code",
   "execution_count": 102,
   "metadata": {
    "collapsed": false
   },
   "outputs": [
    {
     "data": {
      "text/html": [
       "<div>\n",
       "<table border=\"1\" class=\"dataframe\">\n",
       "  <thead>\n",
       "    <tr style=\"text-align: right;\">\n",
       "      <th></th>\n",
       "      <th>player</th>\n",
       "      <th>tourn</th>\n",
       "      <th>x</th>\n",
       "      <th>y</th>\n",
       "      <th>year</th>\n",
       "    </tr>\n",
       "  </thead>\n",
       "  <tbody>\n",
       "    <tr>\n",
       "      <th>0</th>\n",
       "      <td>152</td>\n",
       "      <td>32</td>\n",
       "      <td>0.965278</td>\n",
       "      <td>0.881944</td>\n",
       "      <td>2011</td>\n",
       "    </tr>\n",
       "    <tr>\n",
       "      <th>1</th>\n",
       "      <td>155</td>\n",
       "      <td>32</td>\n",
       "      <td>0.888889</td>\n",
       "      <td>0.107639</td>\n",
       "      <td>2011</td>\n",
       "    </tr>\n",
       "    <tr>\n",
       "      <th>2</th>\n",
       "      <td>0</td>\n",
       "      <td>32</td>\n",
       "      <td>0.500000</td>\n",
       "      <td>0.291667</td>\n",
       "      <td>2011</td>\n",
       "    </tr>\n",
       "    <tr>\n",
       "      <th>3</th>\n",
       "      <td>48</td>\n",
       "      <td>32</td>\n",
       "      <td>0.881944</td>\n",
       "      <td>0.621528</td>\n",
       "      <td>2011</td>\n",
       "    </tr>\n",
       "  </tbody>\n",
       "</table>\n",
       "</div>"
      ],
      "text/plain": [
       "   player  tourn         x         y  year\n",
       "0     152     32  0.965278  0.881944  2011\n",
       "1     155     32  0.888889  0.107639  2011\n",
       "2       0     32  0.500000  0.291667  2011\n",
       "3      48     32  0.881944  0.621528  2011"
      ]
     },
     "execution_count": 102,
     "metadata": {},
     "output_type": "execute_result"
    }
   ],
   "source": [
    "SGTTF_Test.head(4)"
   ]
  },
  {
   "cell_type": "code",
   "execution_count": 103,
   "metadata": {
    "collapsed": false
   },
   "outputs": [
    {
     "data": {
      "text/plain": [
       "(28510, 28510)"
      ]
     },
     "execution_count": 103,
     "metadata": {},
     "output_type": "execute_result"
    }
   ],
   "source": [
    "len(x),len(y)"
   ]
  },
  {
   "cell_type": "code",
   "execution_count": 39,
   "metadata": {
    "collapsed": false
   },
   "outputs": [],
   "source": [
    "year_inds = {value:key[0] for key,value in tournament_groups.iteritems()}\n",
    "first_group_years = {}\n",
    "for group in sorted(year_inds):\n",
    "    if year_inds[group] not in first_group_years:\n",
    "        first_group_years[year_inds[group]] = group\n",
    "y_,x_ = zip(*sorted(first_group_years.items()))\n",
    "f = UnivariateSpline(x_,y_)\n",
    "year_vals = f(np.arange(n_tournament_groups))\n",
    "year_vals = map(int,map(__builtins__.round,year_vals))"
   ]
  },
  {
   "cell_type": "code",
   "execution_count": 40,
   "metadata": {
    "collapsed": false
   },
   "outputs": [
    {
     "data": {
      "image/png": "[encoded data removed]",
      "text/plain": [
       "<matplotlib.figure.Figure at 0x7f8fb9345690>"
      ]
     },
     "metadata": {},
     "output_type": "display_data"
    }
   ],
   "source": [
    "plt.figure(figsize=(18,6))\n",
    "plt.plot(range(n_tournament_groups),A[162,:],label='Phil')\n",
    "plt.plot(range(n_tournament_groups),A[277,:],label='Tiger')\n",
    "plt.xticks(range(n_tournament_groups)[::10],year_vals[::10])\n",
    "plt.legend();"
   ]
  },
  {
   "cell_type": "markdown",
   "metadata": {},
   "source": [
    "Park-Newman Ranking Method"
   ]
  },
  {
   "cell_type": "code",
   "execution_count": 8,
   "metadata": {
    "collapsed": true
   },
   "outputs": [],
   "source": [
    "def alpha(A,a):\n",
    "    w = eigs(A,k=1,which='LM',return_eigenvectors=False)\n",
    "    if w.imag>0:\n",
    "        print w\n",
    "    return a/w[0].real\n",
    "\n",
    "def solve(W,a):\n",
    "    alpha_ = alpha(W,a)\n",
    "    w = np.dot(np.linalg.inv(np.eye(W.shape[0])-alpha_*W),W.sum(1))\n",
    "    \n",
    "    L = W.T\n",
    "    alpha_ = alpha(L,a)\n",
    "    l = np.dot(np.linalg.inv(np.eye(L.shape[0])-alpha_*L),L.sum(1))\n",
    "               \n",
    "    ratings = w-l\n",
    "    ratings[np.logical_and(W.sum(1)==0,L.sum(1)==0)] = np.nan\n",
    "    return ratings"
   ]
  },
  {
   "cell_type": "code",
   "execution_count": 11,
   "metadata": {
    "collapsed": true
   },
   "outputs": [],
   "source": [
    "n_players = len(pd.unique(data.Player_Index))"
   ]
  },
  {
   "cell_type": "code",
   "execution_count": 33,
   "metadata": {
    "collapsed": false,
    "scrolled": true
   },
   "outputs": [
    {
     "name": "stdout",
     "output_type": "stream",
     "text": [
      "(2003, 0)\n",
      "(2003, 1)\n",
      "(2003, 2)\n",
      "(2003, 3)\n",
      "(2003, 4)\n",
      "(2003, 5)\n",
      "(2003, 6)\n",
      "(2003, 7)\n",
      "(2003, 8)\n",
      "(2003, 9)\n",
      "(2003, 10)\n",
      "(2003, 11)\n",
      "(2004, 11)\n",
      "(2004, 12)\n",
      "(2004, 13)\n",
      "(2004, 14)\n",
      "(2004, 15)\n",
      "(2004, 16)\n",
      "(2004, 17)\n",
      "(2004, 18)\n",
      "(2004, 19)\n",
      "(2004, 20)\n",
      "(2004, 21)\n",
      "(2004, 22)\n",
      "(2004, 23)\n",
      "(2005, 23)\n",
      "(2005, 24)\n",
      "(2005, 25)\n",
      "(2005, 26)\n",
      "(2005, 27)\n",
      "(2005, 28)\n",
      "(2005, 29)\n",
      "(2005, 30)\n",
      "(2005, 31)\n",
      "(2005, 32)\n",
      "(2005, 33)\n",
      "(2005, 34)\n",
      "(2005, 35)\n",
      "(2006, 35)\n",
      "(2006, 36)\n",
      "(2006, 37)\n",
      "(2006, 38)\n",
      "(2006, 39)\n",
      "(2006, 40)\n",
      "(2006, 41)\n",
      "(2006, 42)\n",
      "(2006, 43)\n",
      "(2006, 44)\n",
      "(2006, 45)\n",
      "(2006, 46)\n",
      "(2007, 47)\n",
      "(2007, 48)\n",
      "(2007, 49)\n",
      "(2007, 50)\n",
      "(2007, 51)\n",
      "(2007, 52)\n",
      "(2007, 53)\n",
      "(2007, 54)\n",
      "(2007, 55)\n",
      "(2007, 56)\n",
      "(2007, 57)\n",
      "(2007, 58)\n",
      "(2008, 58)\n",
      "(2008, 59)\n",
      "(2008, 60)\n",
      "(2008, 61)\n",
      "(2008, 62)\n",
      "(2008, 63)\n",
      "(2008, 64)\n",
      "(2008, 65)\n",
      "(2008, 66)\n",
      "(2008, 67)\n",
      "(2008, 68)\n",
      "(2008, 69)\n",
      "(2008, 70)\n",
      "(2009, 70)\n",
      "(2009, 71)\n",
      "(2009, 72)\n",
      "(2009, 73)\n",
      "(2009, 74)\n",
      "(2009, 75)\n",
      "(2009, 76)\n",
      "(2009, 77)\n",
      "(2009, 78)\n",
      "(2009, 79)\n",
      "(2009, 80)\n",
      "(2009, 81)\n",
      "(2010, 81)\n",
      "(2010, 82)\n",
      "(2010, 83)\n",
      "(2010, 84)\n",
      "(2010, 85)\n",
      "(2010, 86)\n",
      "(2010, 87)\n",
      "(2010, 88)\n",
      "(2010, 89)\n",
      "(2010, 90)\n",
      "(2010, 91)\n",
      "(2010, 92)\n",
      "(2011, 92)\n",
      "(2011, 93)\n",
      "(2011, 94)\n",
      "(2011, 95)\n",
      "(2011, 96)\n",
      "(2011, 97)\n",
      "(2011, 98)\n",
      "(2011, 99)\n",
      "(2011, 100)\n",
      "(2011, 101)\n",
      "(2011, 102)\n",
      "(2011, 103)\n",
      "(2012, 103)\n",
      "(2012, 104)\n",
      "(2012, 105)\n",
      "(2012, 106)\n",
      "(2012, 107)\n",
      "(2012, 108)\n",
      "(2012, 109)\n",
      "(2012, 110)\n",
      "(2012, 111)\n",
      "(2012, 112)\n",
      "(2012, 113)\n",
      "(2012, 114)\n",
      "(2013, 114)\n",
      "(2013, 115)\n",
      "(2013, 116)\n",
      "(2013, 117)\n",
      "(2013, 118)\n",
      "(2013, 119)\n",
      "(2013, 120)\n",
      "(2013, 121)\n",
      "(2013, 122)\n",
      "(2013, 123)\n",
      "(2013, 124)\n",
      "(2014, 124)\n",
      "(2014, 125)\n",
      "(2014, 126)\n",
      "(2014, 127)\n",
      "(2014, 128)\n",
      "(2014, 129)\n",
      "(2014, 130)\n",
      "(2014, 131)\n",
      "(2014, 132)\n",
      "(2014, 133)\n",
      "(2014, 134)\n",
      "(2014, 135)\n",
      "(2015, 135)\n",
      "(2015, 136)\n",
      "(2015, 137)\n",
      "(2015, 138)\n",
      "(2015, 139)\n",
      "(2015, 140)\n",
      "(2015, 141)\n",
      "(2015, 142)\n",
      "(2015, 143)\n",
      "(2015, 144)\n",
      "(2015, 145)\n",
      "(2015, 146)\n",
      "(2016, 146)\n",
      "(2016, 147)\n",
      "(2016, 148)\n",
      "(2016, 149)\n",
      "(2016, 150)\n",
      "(2016, 151)\n",
      "(2016, 152)\n",
      "(2016, 153)\n",
      "(2016, 154)\n",
      "(2016, 155)\n",
      "(2016, 156)\n",
      "(2016, 157)\n"
     ]
    }
   ],
   "source": [
    "A = np.zeros((n_players,n_players))\n",
    "ratings = None\n",
    "x,y = [],[]\n",
    "a = .8\n",
    "for (year,tourn_group),df in data.groupby(['Tournament_Year','Tournament_Group'],sort=False):\n",
    "    print (year,tourn_group)\n",
    "    if ratings is not None:\n",
    "        for tournament,df_ in df.groupby(['Permanent_Tournament_#']):\n",
    "            current_ratings = ratings[pd.unique(df_.Player_Index)]\n",
    "            rankings = pd.Series(current_ratings[~np.isnan(current_ratings)]).rank(ascending=False,pct=True)\n",
    "            finishing_pos = df_.groupby('Player_Index').Finishing_Position.mean().to_dict()\n",
    "            finishing_pos = [finishing_pos[ind] for ind in pd.unique(df_.Player_Index)[~np.isnan(current_ratings)]]\n",
    "            finishing_pos = pd.Series(finishing_pos).rank(ascending=True,pct=True).values\n",
    "            x.extend(rankings.tolist())\n",
    "            y.extend(finishing_pos.tolist())\n",
    "    for (course,round),df_ in df.groupby(['Course_#','Round_Number']):\n",
    "        df_sorted = df_.sort_values('Round_Score')\n",
    "        for row_ind in range(len(df_)-1):\n",
    "            A[df_sorted.iloc[row_ind].Player_Index,df_sorted.iloc[row_ind+1:].Player_Index.values] += 1.0\n",
    "    \n",
    "    ratings = solve(A,a)"
   ]
  },
  {
   "cell_type": "code",
   "execution_count": 34,
   "metadata": {
    "collapsed": false
   },
   "outputs": [
    {
     "data": {
      "text/plain": [
       "(78669, 78669)"
      ]
     },
     "execution_count": 34,
     "metadata": {},
     "output_type": "execute_result"
    }
   ],
   "source": [
    "len(x),len(y)"
   ]
  },
  {
   "cell_type": "code",
   "execution_count": 35,
   "metadata": {
    "collapsed": false
   },
   "outputs": [
    {
     "data": {
      "text/plain": [
       "(0.15684572919612524, 0.15676058380185326)"
      ]
     },
     "execution_count": 35,
     "metadata": {},
     "output_type": "execute_result"
    }
   ],
   "source": [
    "np.corrcoef(x,y)[0,1],spearmanr(x,y)[0]"
   ]
  },
  {
   "cell_type": "markdown",
   "metadata": {},
   "source": [
    "More Generalized To Take into account Margin of win or loss"
   ]
  },
  {
   "cell_type": "code",
   "execution_count": 14,
   "metadata": {
    "collapsed": true
   },
   "outputs": [],
   "source": [
    "def solve(A,G,a):\n",
    "    alpha_ = alpha(A,a)\n",
    "    w = np.dot(np.linalg.inv(np.eye(A.shape[0])-alpha_*A),A.sum(1))\n",
    "    \n",
    "    g = np.dot(np.linalg.inv(np.eye(G.shape[0])-alpha_*G),G.sum(1))\n",
    "               \n",
    "    ratings = w/g\n",
    "    ratings[g<1] = np.nan\n",
    "    return ratings"
   ]
  },
  {
   "cell_type": "code",
   "execution_count": 43,
   "metadata": {
    "collapsed": false,
    "scrolled": true
   },
   "outputs": [
    {
     "name": "stdout",
     "output_type": "stream",
     "text": [
      "(2003, 0)\n",
      "(2003, 1)\n",
      "(2003, 2)\n",
      "(2003, 3)\n",
      "(2003, 4)\n",
      "(2003, 5)\n",
      "(2003, 6)\n",
      "(2003, 7)\n",
      "(2003, 8)\n",
      "(2003, 9)\n",
      "(2003, 10)\n",
      "(2003, 11)\n",
      "(2004, 11)\n",
      "(2004, 12)\n",
      "(2004, 13)\n",
      "(2004, 14)\n",
      "(2004, 15)\n",
      "(2004, 16)\n",
      "(2004, 17)\n",
      "(2004, 18)\n",
      "(2004, 19)\n",
      "(2004, 20)\n",
      "(2004, 21)\n",
      "(2004, 22)\n",
      "(2004, 23)\n",
      "(2005, 23)\n",
      "(2005, 24)\n",
      "(2005, 25)\n",
      "(2005, 26)\n",
      "(2005, 27)\n",
      "(2005, 28)\n",
      "(2005, 29)\n",
      "(2005, 30)\n",
      "(2005, 31)\n",
      "(2005, 32)\n",
      "(2005, 33)\n",
      "(2005, 34)\n",
      "(2005, 35)\n",
      "(2006, 35)\n",
      "(2006, 36)\n",
      "(2006, 37)\n",
      "(2006, 38)\n",
      "(2006, 39)\n",
      "(2006, 40)\n",
      "(2006, 41)\n",
      "(2006, 42)\n",
      "(2006, 43)\n",
      "(2006, 44)\n",
      "(2006, 45)\n",
      "(2006, 46)\n",
      "(2007, 47)\n",
      "(2007, 48)\n",
      "(2007, 49)\n",
      "(2007, 50)\n",
      "(2007, 51)\n",
      "(2007, 52)\n",
      "(2007, 53)\n",
      "(2007, 54)\n",
      "(2007, 55)\n",
      "(2007, 56)\n",
      "(2007, 57)\n",
      "(2007, 58)\n",
      "(2008, 58)\n",
      "(2008, 59)\n",
      "(2008, 60)\n",
      "(2008, 61)\n",
      "(2008, 62)\n",
      "(2008, 63)\n",
      "(2008, 64)\n",
      "(2008, 65)\n",
      "(2008, 66)\n",
      "(2008, 67)\n",
      "(2008, 68)\n",
      "(2008, 69)\n",
      "(2008, 70)\n",
      "(2009, 70)\n",
      "(2009, 71)\n",
      "(2009, 72)\n",
      "(2009, 73)\n",
      "(2009, 74)\n",
      "(2009, 75)\n",
      "(2009, 76)\n",
      "(2009, 77)\n",
      "(2009, 78)\n",
      "(2009, 79)\n",
      "(2009, 80)\n",
      "(2009, 81)\n",
      "(2010, 81)\n",
      "(2010, 82)\n",
      "(2010, 83)\n",
      "(2010, 84)\n",
      "(2010, 85)\n",
      "(2010, 86)\n",
      "(2010, 87)\n",
      "(2010, 88)\n",
      "(2010, 89)\n",
      "(2010, 90)\n",
      "(2010, 91)\n",
      "(2010, 92)\n",
      "(2011, 92)\n",
      "(2011, 93)\n",
      "(2011, 94)\n",
      "(2011, 95)\n",
      "(2011, 96)\n",
      "(2011, 97)\n",
      "(2011, 98)\n",
      "(2011, 99)\n",
      "(2011, 100)\n",
      "(2011, 101)\n",
      "(2011, 102)\n",
      "(2011, 103)\n",
      "(2012, 103)\n",
      "(2012, 104)\n",
      "(2012, 105)\n",
      "(2012, 106)\n",
      "(2012, 107)\n",
      "(2012, 108)\n",
      "(2012, 109)\n",
      "(2012, 110)\n",
      "(2012, 111)\n",
      "(2012, 112)\n",
      "(2012, 113)\n",
      "(2012, 114)\n",
      "(2013, 114)\n",
      "(2013, 115)\n",
      "(2013, 116)\n",
      "(2013, 117)\n",
      "(2013, 118)\n",
      "(2013, 119)\n",
      "(2013, 120)\n",
      "(2013, 121)\n",
      "(2013, 122)\n",
      "(2013, 123)\n",
      "(2013, 124)\n",
      "(2014, 124)\n",
      "(2014, 125)\n",
      "(2014, 126)\n",
      "(2014, 127)\n",
      "(2014, 128)\n",
      "(2014, 129)\n",
      "(2014, 130)\n",
      "(2014, 131)\n",
      "(2014, 132)\n",
      "(2014, 133)\n",
      "(2014, 134)\n",
      "(2014, 135)\n",
      "(2015, 135)\n",
      "(2015, 136)\n",
      "(2015, 137)\n",
      "(2015, 138)\n",
      "(2015, 139)\n",
      "(2015, 140)\n",
      "(2015, 141)\n",
      "(2015, 142)\n",
      "(2015, 143)\n",
      "(2015, 144)\n",
      "(2015, 145)\n",
      "(2015, 146)\n",
      "(2016, 146)\n",
      "(2016, 147)\n",
      "(2016, 148)\n",
      "(2016, 149)\n",
      "(2016, 150)\n",
      "(2016, 151)\n",
      "(2016, 152)\n",
      "(2016, 153)\n",
      "(2016, 154)\n",
      "(2016, 155)\n",
      "(2016, 156)\n",
      "(2016, 157)\n"
     ]
    }
   ],
   "source": [
    "A,G = np.zeros((n_players,n_players)),np.zeros((n_players,n_players))\n",
    "ratings = None\n",
    "x,y = [],[]\n",
    "a = .9\n",
    "for (year,tourn_group),df in data.groupby(['Tournament_Year','Tournament_Group'],sort=False):\n",
    "    print (year,tourn_group)\n",
    "    if ratings is not None:\n",
    "        for tournament,df_ in df.groupby(['Permanent_Tournament_#']):\n",
    "            current_ratings = ratings[pd.unique(df_.Player_Index)]\n",
    "            rankings = pd.Series(current_ratings[~np.isnan(current_ratings)]).rank(ascending=False,pct=True)\n",
    "            finishing_pos = df_.groupby('Player_Index').Finishing_Position.mean().to_dict()\n",
    "            finishing_pos = [finishing_pos[ind] for ind in pd.unique(df_.Player_Index)[~np.isnan(current_ratings)]]\n",
    "            finishing_pos = pd.Series(finishing_pos).rank(ascending=True,pct=True).values\n",
    "            x.extend(rankings.tolist())\n",
    "            y.extend(finishing_pos.tolist())\n",
    "    for (course,round),df_ in df.groupby(['Course_#','Round_Number']):\n",
    "        A[np.ix_(df_.Player_Index.values,df_.Player_Index.values)] += \\\n",
    "            np.outer(1/df_.Round_Score.values.astype(float),df_.Round_Score.values)\n",
    "        G[np.ix_(df_.Player_Index.values,df_.Player_Index.values)] += 1.0\n",
    "    \n",
    "    ratings = solve(A,G,a)"
   ]
  },
  {
   "cell_type": "code",
   "execution_count": 44,
   "metadata": {
    "collapsed": false,
    "scrolled": true
   },
   "outputs": [
    {
     "data": {
      "text/plain": [
       "(78669, 78669)"
      ]
     },
     "execution_count": 44,
     "metadata": {},
     "output_type": "execute_result"
    }
   ],
   "source": [
    "len(x),len(y)"
   ]
  },
  {
   "cell_type": "code",
   "execution_count": 45,
   "metadata": {
    "collapsed": false
   },
   "outputs": [
    {
     "data": {
      "text/plain": [
       "(0.17751482307337862, 0.1774347926236042)"
      ]
     },
     "execution_count": 45,
     "metadata": {},
     "output_type": "execute_result"
    }
   ],
   "source": [
    "np.corrcoef(x,y)[0,1],spearmanr(x,y)[0]"
   ]
  },
  {
   "cell_type": "markdown",
   "metadata": {},
   "source": [
    "Generalized for both time and margin."
   ]
  },
  {
   "cell_type": "markdown",
   "metadata": {},
   "source": [
    "Training"
   ]
  },
  {
   "cell_type": "code",
   "execution_count": 12,
   "metadata": {
    "collapsed": false
   },
   "outputs": [],
   "source": [
    "def alpha(A,a):\n",
    "    w = eigs(A,k=1,which='LR',return_eigenvectors=False)\n",
    "    return a/w[0].real\n",
    "\n",
    "def solve(A,G,a,min_g,x_guess=None,x_guess1=None):\n",
    "    \n",
    "    alpha_ = alpha(A,a)\n",
    "    SA = eye(A.shape[0],format='csc')-alpha_*A\n",
    "    w_a = gmres(SA,A.sum(1),x0=x_guess)[0]\n",
    "    \n",
    "    alpha_ = alpha(G,a)\n",
    "    SG = eye(G.shape[0],format='csc')-alpha_*G\n",
    "    w_g = gmres(SG,G.sum(1),x0=x_guess1)[0]\n",
    "    \n",
    "    solve.w_a = w_a\n",
    "    solve.w_g = w_g\n",
    "    \n",
    "    ratings = w_a/w_g\n",
    "    ratings[w_g<min_g] = np.nan\n",
    "    return ratings[-n_players:]"
   ]
  },
  {
   "cell_type": "code",
   "execution_count": 13,
   "metadata": {
    "collapsed": true
   },
   "outputs": [],
   "source": [
    "sys.path.append('./../ProcessingPipeline')\n",
    "from makeBigRoundsMat import return_mats"
   ]
  },
  {
   "cell_type": "code",
   "execution_count": 14,
   "metadata": {
    "collapsed": false,
    "scrolled": true
   },
   "outputs": [],
   "source": [
    "def run(a,BETA,m,r):\n",
    "    A,G = return_mats(BETA,m,r)\n",
    "    window_size = 35\n",
    "    x,y = [],[]\n",
    "    ratings = None\n",
    "    for tournament_group in range(100):\n",
    "        if ratings is not None:\n",
    "            df = data[data.Tournament_Group==tournament_group]\n",
    "            for tournament,df_ in df.groupby(['Permanent_Tournament_#']):\n",
    "                current_ratings = ratings[pd.unique(df_.Player_Index)]\n",
    "                rankings = pd.Series(current_ratings[~np.isnan(current_ratings)]).rank(ascending=False,pct=True)\n",
    "                finishing_pos = df_.groupby('Player_Index').Finishing_Position.mean().to_dict()\n",
    "                finishing_pos = [finishing_pos[ind] for ind in pd.unique(df_.Player_Index)[~np.isnan(current_ratings)]]\n",
    "                finishing_pos = pd.Series(finishing_pos).rank(ascending=True,pct=True).values\n",
    "                x.extend(rankings.tolist())\n",
    "                y.extend(finishing_pos.tolist())\n",
    "\n",
    "        lower = n_players*max(0,tournament_group-window_size+1)\n",
    "        upper = n_players*(tournament_group+1)\n",
    "        if tournament_group==0:\n",
    "            ratings = solve(A[lower:upper,lower:upper],G[lower:upper,lower:upper],a,1)\n",
    "        else:\n",
    "            w_a_approx = np.append(solve.w_a[0 if tournament_group<window_size else n_players:],solve.w_a[-n_players:])\n",
    "            w_g_approx = np.append(solve.w_g[0 if tournament_group<window_size else n_players:],solve.w_g[-n_players:])\n",
    "            ratings = solve(A[lower:upper,lower:upper],G[lower:upper,lower:upper],a,1,w_a_approx,w_g_approx)\n",
    "    print a,BETA,m,r,np.corrcoef(x,y)[0,1],spearmanr(x,y)[0]"
   ]
  },
  {
   "cell_type": "code",
   "execution_count": 15,
   "metadata": {
    "collapsed": true
   },
   "outputs": [],
   "source": [
    "alphas = np.linspace(.9,.99,3)\n",
    "betas = np.linspace(7,18,5)\n",
    "ms = np.linspace(.001,.02,3)\n",
    "rs = np.linspace(.001,.02,3)"
   ]
  },
  {
   "cell_type": "code",
   "execution_count": 16,
   "metadata": {
    "collapsed": false
   },
   "outputs": [
    {
     "name": "stdout",
     "output_type": "stream",
     "text": [
      "0.9 7.0 0.001 0.001 -0.202223741015 -0.202076393533\n",
      "0.9 7.0 0.001 0.0105 -0.202195190581 -0.20204861342\n",
      "0.9 7.0 0.001 0.02 -0.20224054379 -0.202093312313\n",
      "0.9 7.0 0.0105 0.001 -0.202201242193 -0.202054355149\n",
      "0.9 7.0 0.0105 0.0105 -0.202202519411 -0.202055773994\n",
      "0.9 7.0 0.0105 0.02 -0.202236589936 -0.202088900186\n",
      "0.9 7.0 0.02 0.001 -0.202185222305 -0.202038633606\n",
      "0.9 7.0 0.02 0.0105 -0.202220012829 -0.202073369477\n",
      "0.9 7.0 0.02 0.02 -0.20223587833 -0.20208859218\n",
      "0.9 9.75 0.001 0.001 -0.204150579859 -0.20400709229\n",
      "0.9 9.75 0.001 0.0105 -0.204146930435 -0.204003353078\n",
      "0.9 9.75 0.001 0.02 -0.20413914495 -0.203995878124\n",
      "0.9 9.75 0.0105 0.001 -0.204142618311 -0.203998926567\n",
      "0.9 9.75 0.0105 0.0105 -0.204127619528 -0.203984078016\n",
      "0.9 9.75 0.0105 0.02 -0.204154688329 -0.204011414793\n",
      "0.9 9.75 0.02 0.001 -0.204136997407 -0.203993600111\n",
      "0.9 9.75 0.02 0.0105 -0.204128908378 -0.203985958769\n",
      "0.9 9.75 0.02 0.02 -0.204138044444 -0.203994638067\n",
      "0.9 12.5 0.001 0.001 -0.204217360924 -0.204074848592\n",
      "0.9 12.5 0.001 0.0105 -0.20422481752 -0.204081978003\n",
      "0.9 12.5 0.001 0.02 -0.204219716891 -0.204078097236\n",
      "0.9 12.5 0.0105 0.001 -0.204194209916 -0.204051319992\n",
      "0.9 12.5 0.0105 0.0105 -0.204223392879 -0.204080984483\n",
      "0.9 12.5 0.0105 0.02 -0.20422619131 -0.204084782933\n",
      "0.9 12.5 0.02 0.001 -0.204227051384 -0.204084327007\n",
      "0.9 12.5 0.02 0.0105 -0.204225055417 -0.2040827935\n",
      "0.9 12.5 0.02 0.02 -0.204214153397 -0.204072463844\n",
      "0.9 15.25 0.001 0.001 -0.203770378939 -0.203636606103\n",
      "0.9 15.25 0.001 0.0105 -0.203770167692 -0.203635916282\n",
      "0.9 15.25 0.001 0.02 -0.203742416528 -0.203609753257\n",
      "0.9 15.25 0.0105 0.001 -0.203770750726 -0.203636622118\n",
      "0.9 15.25 0.0105 0.0105 -0.203780406729 -0.203646871125\n",
      "0.9 15.25 0.0105 0.02 -0.203777861555 -0.203644891891\n",
      "0.9 15.25 0.02 0.001 -0.203781390292 -0.203647363202\n",
      "0.9 15.25 0.02 0.0105 -0.203774629028 -0.203641207007\n",
      "0.9 15.25 0.02 0.02 -0.203788231152 -0.203655139486\n",
      "0.9 18.0 0.001 0.001 -0.203215709314 -0.203083971622\n",
      "0.9 18.0 0.001 0.0105 -0.203216490171 -0.203085616155\n",
      "0.9 18.0 0.001 0.02 -0.203229788592 -0.203099138983\n",
      "0.9 18.0 0.0105 0.001 -0.203213745345 -0.203081929908\n",
      "0.9 18.0 0.0105 0.0105 -0.203216612567 -0.203085701724\n",
      "0.9 18.0 0.0105 0.02 -0.20322759276 -0.20309707779\n",
      "0.9 18.0 0.02 0.001 -0.203219681763 -0.203089005532\n",
      "0.9 18.0 0.02 0.0105 -0.203221024863 -0.203090156993\n",
      "0.9 18.0 0.02 0.02 -0.203215428858 -0.203084679352\n",
      "0.945 7.0 0.001 0.001 -0.202539233739 -0.202396474209\n",
      "0.945 7.0 0.001 0.0105 -0.202536287224 -0.202393017178\n",
      "0.945 7.0 0.001 0.02 -0.202557594789 -0.202414157166\n",
      "0.945 7.0 0.0105 0.001 -0.202542546978 -0.202399487199\n",
      "0.945 7.0 0.0105 0.0105 -0.202505546899 -0.202362425543\n",
      "0.945 7.0 0.0105 0.02 -0.202548646217 -0.202405647055\n",
      "0.945 7.0 0.02 0.001 -0.202538299362 -0.202395293818\n",
      "0.945 7.0 0.02 0.0105 -0.202505655876 -0.202362473172\n",
      "0.945 7.0 0.02 0.02 -0.202551057716 -0.202407938928\n",
      "0.945 9.75 0.001 0.001 -0.204037733106 -0.203895698654\n",
      "0.945 9.75 0.001 0.0105 -0.204043694268 -0.20390149437\n",
      "0.945 9.75 0.001 0.02 -0.204057496665 -0.203915360015\n",
      "0.945 9.75 0.0105 0.001 -0.204021870226 -0.203879473548\n",
      "0.945 9.75 0.0105 0.0105 -0.204046230456 -0.203903750637\n",
      "0.945 9.75 0.0105 0.02 -0.204041201582 -0.203899219992\n",
      "0.945 9.75 0.02 0.001 -0.204044044901 -0.203901769873\n",
      "0.945 9.75 0.02 0.0105 -0.204033501502 -0.20389098228\n",
      "0.945 9.75 0.02 0.02 -0.204047754456 -0.20390537793\n",
      "0.945 12.5 0.001 0.001 -0.204318713019 -0.204176210874\n",
      "0.945 12.5 0.001 0.0105 -0.2043042115 -0.20416269638\n",
      "0.945 12.5 0.001 0.02 -0.204302191238 -0.204159476264\n",
      "0.945 12.5 0.0105 0.001 -0.204317320084 -0.204174547792\n",
      "0.945 12.5 0.0105 0.0105 -0.20431058758 -0.204168686898\n",
      "0.945 12.5 0.0105 0.02 -0.204287448489 -0.204145156808\n",
      "0.945 12.5 0.02 0.001 -0.204304905284 -0.20416316292\n",
      "0.945 12.5 0.02 0.0105 -0.20430670495 -0.204165587806\n",
      "0.945 12.5 0.02 0.02 -0.204272806315 -0.204130989722\n",
      "0.945 15.25 0.001 0.001 -0.203829919714 -0.203692596632\n",
      "0.945 15.25 0.001 0.0105 -0.203840443067 -0.203702215965\n",
      "0.945 15.25 0.001 0.02 -0.203823694614 -0.203686816208\n",
      "0.945 15.25 0.0105 0.001 -0.203835451418 -0.203698214287\n",
      "0.945 15.25 0.0105 0.0105 -0.203850662934 -0.203712649867\n",
      "0.945 15.25 0.0105 0.02 -0.203826274374 -0.203688967405\n",
      "0.945 15.25 0.02 0.001 -0.203838602422 -0.203700427693\n",
      "0.945 15.25 0.02 0.0105 -0.203832514525 -0.203694924164\n",
      "0.945 15.25 0.02 0.02 -0.203825421661 -0.203688866061\n",
      "0.945 18.0 0.001 0.001 -0.203405669187 -0.203275209242\n",
      "0.945 18.0 0.001 0.0105 -0.203405581919 -0.203273802027\n",
      "0.945 18.0 0.001 0.02 -0.203390204369 -0.20325816375\n",
      "0.945 18.0 0.0105 0.001 -0.203404655088 -0.203273545644\n",
      "0.945 18.0 0.0105 0.0105 -0.203383549554 -0.203251183771\n",
      "0.945 18.0 0.0105 0.02 -0.203386891383 -0.203254512811\n",
      "0.945 18.0 0.02 0.001 -0.203403939263 -0.203272061321\n",
      "0.945 18.0 0.02 0.0105 -0.203386679795 -0.203254418294\n",
      "0.945 18.0 0.02 0.02 -0.203383202945 -0.203251274686\n",
      "0.99 7.0 0.001 0.001 -0.202496253152 -0.202352834425\n",
      "0.99 7.0 0.001 0.0105 -0.202528248229 -0.202385728451\n",
      "0.99 7.0 0.001 0.02 -0.202530936001 -0.202388623679\n",
      "0.99 7.0 0.0105 0.001 -0.202516735253 -0.202374214291\n",
      "0.99 7.0 0.0105 0.0105 -0.202535231386 -0.202392944454\n",
      "0.99 7.0 0.0105 0.02 -0.202519055549 -0.202377314074\n",
      "0.99 7.0 0.02 0.001 -0.202524547198 -0.202382236434\n",
      "0.99 7.0 0.02 0.0105 -0.202536283584 -0.202394122574\n",
      "0.99 7.0 0.02 0.02 -0.202512991547 -0.202371489403\n",
      "0.99 9.75 0.001 0.001 -0.204075152328 -0.203932416674\n",
      "0.99 9.75 0.001 0.0105 -0.204062539584 -0.203919619877\n",
      "0.99 9.75 0.001 0.02 -0.204086382948 -0.203942699553\n",
      "0.99 9.75 0.0105 0.001 -0.204079985658 -0.203936674179\n",
      "0.99 9.75 0.0105 0.0105 -0.204075720863 -0.203933011985\n",
      "0.99 9.75 0.0105 0.02 -0.204086521471 -0.203942514134\n",
      "0.99 9.75 0.02 0.001 -0.204066035159 -0.203923051416\n",
      "0.99 9.75 0.02 0.0105 -0.204073170193 -0.203929921641\n",
      "0.99 9.75 0.02 0.02 -0.204070690856 -0.203926658816\n",
      "0.99 12.5 0.001 0.001 -0.204313085941 -0.204168828128\n",
      "0.99 12.5 0.001 0.0105 -0.204317347686 -0.204173330381\n",
      "0.99 12.5 0.001 0.02 -0.204321108044 -0.204175354817\n",
      "0.99 12.5 0.0105 0.001 -0.204302628688 -0.204158718207\n",
      "0.99 12.5 0.0105 0.0105 -0.204292713806 -0.204149019582\n",
      "0.99 12.5 0.0105 0.02 -0.204341756661 -0.204196621752\n",
      "0.99 12.5 0.02 0.001 -0.20431574752 -0.204171805117\n",
      "0.99 12.5 0.02 0.0105 -0.204278361345 -0.204134097258\n",
      "0.99 12.5 0.02 0.02 -0.204324993702 -0.204180651172\n",
      "0.99 15.25 0.001 0.001 -0.203920484206 -0.20378140856\n",
      "0.99 15.25 0.001 0.0105 -0.203895605863 -0.203757294712\n",
      "0.99 15.25 0.001 0.02 -0.20390366485 -0.203766301803\n",
      "0.99 15.25 0.0105 0.001 -0.203911348453 -0.203772802477\n",
      "0.99 15.25 0.0105 0.0105 -0.203883855619 -0.203745566878\n",
      "0.99 15.25 0.0105 0.02 -0.203901099496 -0.203764289359\n",
      "0.99 15.25 0.02 0.001 -0.203893782259 -0.203755817615\n",
      "0.99 15.25 0.02 0.0105 -0.203880397878 -0.20374331903\n",
      "0.99 15.25 0.02 0.02 -0.203891020813 -0.203754539353\n",
      "0.99 18.0 0.001 0.001 -0.203407792588 -0.203274788082\n",
      "0.99 18.0 0.001 0.0105 -0.203377174366 -0.20324449671\n",
      "0.99 18.0 0.001 0.02 -0.203364338485 -0.203230982288\n",
      "0.99 18.0 0.0105 0.001 -0.203404918805 -0.203272307025\n",
      "0.99 18.0 0.0105 0.0105 -0.203374066188 -0.203240985893\n",
      "0.99 18.0 0.0105 0.02 -0.203352463784 -0.203219111285\n",
      "0.99 18.0 0.02 0.001 -0.203376728333 -0.20324386328\n",
      "0.99 18.0 0.02 0.0105 -0.203362271127 -0.203228984344\n",
      "0.99 18.0 0.02 0.02 -0.203341490593 -0.203207701279\n"
     ]
    },
    {
     "name": "stderr",
     "output_type": "stream",
     "text": [
      "/home/ubuntu/anaconda2/lib/python2.7/site-packages/ipykernel/__main__.py:18: RuntimeWarning: invalid value encountered in divide\n"
     ]
    }
   ],
   "source": [
    "for a,BETA,m,r in itertools.product(alphas,betas,ms,rs):\n",
    "    run(a,BETA,m,r)"
   ]
  },
  {
   "cell_type": "code",
   "execution_count": 42,
   "metadata": {
    "collapsed": true
   },
   "outputs": [],
   "source": [
    "alphas = [.99]\n",
    "betas = np.linspace(10,14,5)\n",
    "ms = [0.0105]\n",
    "rs = np.linspace(.02,.08,3)"
   ]
  },
  {
   "cell_type": "code",
   "execution_count": 43,
   "metadata": {
    "collapsed": false
   },
   "outputs": [
    {
     "name": "stdout",
     "output_type": "stream",
     "text": [
      "0.99 10.0 0.0105 0.02 -0.204040608603 -0.203900349514\n",
      "0.99 10.0 0.0105 0.05 -0.204099589865 -0.203958695462\n",
      "0.99 10.0 0.0105 0.08 -0.204083252829 -0.203941918556\n",
      "0.99 11.0 0.0105 0.02 -0.204206080235 -0.204061822335\n",
      "0.99 11.0 0.0105 0.05 -0.204251368225 -0.204107975677\n",
      "0.99 11.0 0.0105 0.08 -0.204151790572 -0.20401262158\n",
      "0.99 12.0 0.0105 0.02 -0.204440879355 -0.204295217576\n",
      "0.99 12.0 0.0105 0.05 -0.204406110178 -0.204262656489\n",
      "0.99 12.0 0.0105 0.08 -0.204404674454 -0.20426446516\n",
      "0.99 13.0 0.0105 0.02 -0.204190276097 -0.204048459697\n",
      "0.99 13.0 0.0105 0.05 -0.20428879582 -0.204150191569\n",
      "0.99 13.0 0.0105 0.08 -0.204324105035 -0.204186371717\n",
      "0.99 14.0 0.0105 0.02 -0.20406774062 -0.20393028412\n",
      "0.99 14.0 0.0105 0.05 -0.204010871744 -0.203876092684\n",
      "0.99 14.0 0.0105 0.08 -0.204136062287 -0.204001346187\n"
     ]
    },
    {
     "name": "stderr",
     "output_type": "stream",
     "text": [
      "/home/ubuntu/anaconda2/lib/python2.7/site-packages/ipykernel/__main__.py:18: RuntimeWarning: invalid value encountered in divide\n"
     ]
    }
   ],
   "source": [
    "for a,BETA,m,r in itertools.product(alphas,betas,ms,rs):\n",
    "    run(a,BETA,m,r)"
   ]
  },
  {
   "cell_type": "markdown",
   "metadata": {},
   "source": [
    "Making Test Set"
   ]
  },
  {
   "cell_type": "code",
   "execution_count": 117,
   "metadata": {
    "collapsed": false
   },
   "outputs": [
    {
     "name": "stderr",
     "output_type": "stream",
     "text": [
      "/home/ubuntu/anaconda2/lib/python2.7/site-packages/ipykernel/__main__.py:18: RuntimeWarning: invalid value encountered in divide\n"
     ]
    }
   ],
   "source": [
    "a = .99\n",
    "BETA = 12.0\n",
    "m,r = 0.0105,0.02\n",
    "A,G = return_mats(BETA,m,r)\n",
    "x,y,tourns,years,players = [],[],[],[],[]\n",
    "window_size = 35\n",
    "for tournament_group,df in data.groupby('Tournament_Group',sort=False):\n",
    "    if tournament_group<99:\n",
    "        continue\n",
    "    if tournament_group==99:\n",
    "        lower = n_players*max(0,tournament_group-window_size+1)\n",
    "        upper = n_players*(tournament_group+1)\n",
    "        ratings = solve(A[lower:upper,lower:upper],G[lower:upper,lower:upper],a,1)\n",
    "        continue\n",
    "    \n",
    "    for (tournament,year),df_ in df.groupby(['Permanent_Tournament_#','Tournament_Year']):\n",
    "        current_ratings = ratings[pd.unique(df_.Player_Index)]\n",
    "        rankings = pd.Series(current_ratings[~np.isnan(current_ratings)]).rank(ascending=False,pct=True).values\n",
    "        finishing_pos = df_.groupby('Player_Index').Finishing_Position.mean().to_dict()\n",
    "        finishing_pos = [finishing_pos[ind] for ind in pd.unique(df_.Player_Index)[~np.isnan(current_ratings)]]\n",
    "        finishing_pos = pd.Series(finishing_pos).rank(ascending=True,pct=True).values\n",
    "        x.extend(rankings.tolist())\n",
    "        y.extend(finishing_pos.tolist())\n",
    "        tourns.extend([tournament]*len(rankings))\n",
    "        years.extend([year]*len(rankings))\n",
    "        players.extend(pd.unique(df_.Player_Index)[~np.isnan(current_ratings)].tolist())\n",
    "    \n",
    "    lower = n_players*max(0,tournament_group-window_size+1)\n",
    "    upper = n_players*(tournament_group+1)\n",
    "    w_a_approx = np.append(solve.w_a[0 if tournament_group<window_size else n_players:],solve.w_a[-n_players:])\n",
    "    w_g_approx = np.append(solve.w_g[0 if tournament_group<window_size else n_players:],solve.w_g[-n_players:])\n",
    "    ratings = solve(A[lower:upper,lower:upper],G[lower:upper,lower:upper],a,1,w_a_approx,w_g_approx)"
   ]
  },
  {
   "cell_type": "code",
   "execution_count": 118,
   "metadata": {
    "collapsed": false
   },
   "outputs": [],
   "source": [
    "Network_Test = pd.DataFrame({'x':x,'y':y,'tourn':tourns,'year':years,'player':players})"
   ]
  },
  {
   "cell_type": "code",
   "execution_count": 119,
   "metadata": {
    "collapsed": false
   },
   "outputs": [
    {
     "data": {
      "text/plain": [
       "28507"
      ]
     },
     "execution_count": 119,
     "metadata": {},
     "output_type": "execute_result"
    }
   ],
   "source": [
    "len(Network_Test)"
   ]
  },
  {
   "cell_type": "code",
   "execution_count": 120,
   "metadata": {
    "collapsed": false
   },
   "outputs": [
    {
     "data": {
      "text/plain": [
       "28510"
      ]
     },
     "execution_count": 120,
     "metadata": {},
     "output_type": "execute_result"
    }
   ],
   "source": [
    "len(SGTTF_Test)"
   ]
  },
  {
   "cell_type": "code",
   "execution_count": 121,
   "metadata": {
    "collapsed": false
   },
   "outputs": [
    {
     "data": {
      "text/plain": [
       "28507"
      ]
     },
     "execution_count": 121,
     "metadata": {},
     "output_type": "execute_result"
    }
   ],
   "source": [
    "len(SGTTF_Test.merge(Network_Test,on=['tourn','year','player']))"
   ]
  },
  {
   "cell_type": "code",
   "execution_count": 122,
   "metadata": {
    "collapsed": false
   },
   "outputs": [],
   "source": [
    "test_data = SGTTF_Test.merge(Network_Test,on=['tourn','year','player'],suffixes=['_sgttf','_network'])"
   ]
  },
  {
   "cell_type": "code",
   "execution_count": 123,
   "metadata": {
    "collapsed": false
   },
   "outputs": [
    {
     "data": {
      "text/html": [
       "<div>\n",
       "<table border=\"1\" class=\"dataframe\">\n",
       "  <thead>\n",
       "    <tr style=\"text-align: right;\">\n",
       "      <th></th>\n",
       "      <th>player</th>\n",
       "      <th>tourn</th>\n",
       "      <th>x_sgttf</th>\n",
       "      <th>y_sgttf</th>\n",
       "      <th>year</th>\n",
       "      <th>x_network</th>\n",
       "      <th>y_network</th>\n",
       "    </tr>\n",
       "  </thead>\n",
       "  <tbody>\n",
       "    <tr>\n",
       "      <th>0</th>\n",
       "      <td>152</td>\n",
       "      <td>32</td>\n",
       "      <td>0.965278</td>\n",
       "      <td>0.881944</td>\n",
       "      <td>2011</td>\n",
       "      <td>0.048611</td>\n",
       "      <td>0.881944</td>\n",
       "    </tr>\n",
       "    <tr>\n",
       "      <th>1</th>\n",
       "      <td>155</td>\n",
       "      <td>32</td>\n",
       "      <td>0.888889</td>\n",
       "      <td>0.107639</td>\n",
       "      <td>2011</td>\n",
       "      <td>0.152778</td>\n",
       "      <td>0.107639</td>\n",
       "    </tr>\n",
       "    <tr>\n",
       "      <th>2</th>\n",
       "      <td>0</td>\n",
       "      <td>32</td>\n",
       "      <td>0.500000</td>\n",
       "      <td>0.291667</td>\n",
       "      <td>2011</td>\n",
       "      <td>0.451389</td>\n",
       "      <td>0.291667</td>\n",
       "    </tr>\n",
       "    <tr>\n",
       "      <th>3</th>\n",
       "      <td>48</td>\n",
       "      <td>32</td>\n",
       "      <td>0.881944</td>\n",
       "      <td>0.621528</td>\n",
       "      <td>2011</td>\n",
       "      <td>0.083333</td>\n",
       "      <td>0.621528</td>\n",
       "    </tr>\n",
       "    <tr>\n",
       "      <th>4</th>\n",
       "      <td>159</td>\n",
       "      <td>32</td>\n",
       "      <td>0.604167</td>\n",
       "      <td>0.236111</td>\n",
       "      <td>2011</td>\n",
       "      <td>0.479167</td>\n",
       "      <td>0.236111</td>\n",
       "    </tr>\n",
       "  </tbody>\n",
       "</table>\n",
       "</div>"
      ],
      "text/plain": [
       "   player  tourn   x_sgttf   y_sgttf  year  x_network  y_network\n",
       "0     152     32  0.965278  0.881944  2011   0.048611   0.881944\n",
       "1     155     32  0.888889  0.107639  2011   0.152778   0.107639\n",
       "2       0     32  0.500000  0.291667  2011   0.451389   0.291667\n",
       "3      48     32  0.881944  0.621528  2011   0.083333   0.621528\n",
       "4     159     32  0.604167  0.236111  2011   0.479167   0.236111"
      ]
     },
     "execution_count": 123,
     "metadata": {},
     "output_type": "execute_result"
    }
   ],
   "source": [
    "test_data.head()"
   ]
  },
  {
   "cell_type": "code",
   "execution_count": 124,
   "metadata": {
    "collapsed": false
   },
   "outputs": [
    {
     "data": {
      "text/plain": [
       "array([[ 1.        ,  0.19790542],\n",
       "       [ 0.19790542,  1.        ]])"
      ]
     },
     "execution_count": 124,
     "metadata": {},
     "output_type": "execute_result"
    }
   ],
   "source": [
    "np.corrcoef(test_data.x_sgttf,test_data.y_sgttf)"
   ]
  },
  {
   "cell_type": "code",
   "execution_count": 125,
   "metadata": {
    "collapsed": false
   },
   "outputs": [
    {
     "data": {
      "text/plain": [
       "array([[ 1.        , -0.19431817],\n",
       "       [-0.19431817,  1.        ]])"
      ]
     },
     "execution_count": 125,
     "metadata": {},
     "output_type": "execute_result"
    }
   ],
   "source": [
    "np.corrcoef(test_data.x_network,test_data.y_network)"
   ]
  },
  {
   "cell_type": "code",
   "execution_count": 126,
   "metadata": {
    "collapsed": false
   },
   "outputs": [
    {
     "data": {
      "text/plain": [
       "0.365248981689856"
      ]
     },
     "execution_count": 126,
     "metadata": {},
     "output_type": "execute_result"
    }
   ],
   "source": [
    "np.mean((test_data.x_sgttf-test_data.y_sgttf)**2)**.5"
   ]
  },
  {
   "cell_type": "code",
   "execution_count": 127,
   "metadata": {
    "collapsed": false
   },
   "outputs": [
    {
     "data": {
      "text/plain": [
       "0.44572083149622793"
      ]
     },
     "execution_count": 127,
     "metadata": {},
     "output_type": "execute_result"
    }
   ],
   "source": [
    "np.mean((test_data.x_network-test_data.y_network)**2)**.5"
   ]
  },
  {
   "cell_type": "code",
   "execution_count": 159,
   "metadata": {
    "collapsed": false
   },
   "outputs": [
    {
     "data": {
      "text/plain": [
       "(-0.19421011435377175, 0.19780128948788794)"
      ]
     },
     "execution_count": 159,
     "metadata": {},
     "output_type": "execute_result"
    }
   ],
   "source": [
    "(spearmanr(test_data.x_network,test_data.y_network)[0],\n",
    "spearmanr(test_data.x_sgttf,test_data.y_network)[0])"
   ]
  },
  {
   "cell_type": "code",
   "execution_count": 156,
   "metadata": {
    "collapsed": false
   },
   "outputs": [],
   "source": [
    "a = test_data.sample(frac=1,replace=True)"
   ]
  },
  {
   "cell_type": "code",
   "execution_count": 157,
   "metadata": {
    "collapsed": false
   },
   "outputs": [
    {
     "data": {
      "text/plain": [
       "(0.19543389680637477, -0.19233709186680284)"
      ]
     },
     "execution_count": 157,
     "metadata": {},
     "output_type": "execute_result"
    }
   ],
   "source": [
    "np.corrcoef(a.x_sgttf,a.y_sgttf)[0,1],np.corrcoef(a.x_network,a.y_network)[0,1]"
   ]
  },
  {
   "cell_type": "code",
   "execution_count": 47,
   "metadata": {
    "collapsed": true
   },
   "outputs": [
    {
     "data": {
      "image/png": "[encoded data removed]",
      "text/plain": [
       "<matplotlib.figure.Figure at 0x7fc8839898d0>"
      ]
     },
     "metadata": {},
     "output_type": "display_data"
    }
   ],
   "source": [
    "fig, ax = plt.subplots(figsize=(20, 10))\n",
    "plt.imshow(A[10*n_players:14*n_players,10*n_players:14*n_players].toarray());"
   ]
  },
  {
   "cell_type": "code",
   "execution_count": null,
   "metadata": {
    "collapsed": true
   },
   "outputs": [],
   "source": []
  },
  {
   "cell_type": "code",
   "execution_count": null,
   "metadata": {
    "collapsed": true
   },
   "outputs": [],
   "source": []
  }
 ],
 "metadata": {
  "kernelspec": {
   "display_name": "Python 2",
   "language": "python",
   "name": "python2"
  },
  "language_info": {
   "codemirror_mode": {
    "name": "ipython",
    "version": 2
   },
   "file_extension": ".py",
   "mimetype": "text/x-python",
   "name": "python",
   "nbconvert_exporter": "python",
   "pygments_lexer": "ipython2",
   "version": "2.7.13"
  }
 },
 "nbformat": 4,
 "nbformat_minor": 0
}
