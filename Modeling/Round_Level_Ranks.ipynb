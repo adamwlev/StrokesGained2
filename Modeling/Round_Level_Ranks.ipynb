{
 "cells": [
  {
   "cell_type": "code",
   "execution_count": 1,
   "metadata": {
    "collapsed": false
   },
   "outputs": [],
   "source": [
    "import pandas as pd\n",
    "import numpy as np\n",
    "import math\n",
    "import sys\n",
    "import matplotlib.pyplot as plt\n",
    "from scipy.sparse import csc_matrix,csr_matrix,eye,bmat\n",
    "from scipy.sparse.linalg import eigs,inv,gmres\n",
    "from scipy.stats import norm,spearmanr\n",
    "from scipy.interpolate import UnivariateSpline\n",
    "from collections import defaultdict\n",
    "import itertools\n",
    "import seaborn as sns\n",
    "import pickle\n",
    "import multiprocessing\n",
    "sns.set_style('whitegrid')\n",
    "%matplotlib inline"
   ]
  },
  {
   "cell_type": "code",
   "execution_count": 2,
   "metadata": {
    "collapsed": false
   },
   "outputs": [],
   "source": [
    "data = pd.read_csv('./../data/round.csv')\n",
    "data = data.loc[data['Permanent_Tournament_#']!=470] ## this is the match play championship, no round scores available"
   ]
  },
  {
   "cell_type": "code",
   "execution_count": 3,
   "metadata": {
    "collapsed": false
   },
   "outputs": [
    {
     "data": {
      "text/html": [
       "<div>\n",
       "<table border=\"1\" class=\"dataframe\">\n",
       "  <thead>\n",
       "    <tr style=\"text-align: right;\">\n",
       "      <th></th>\n",
       "      <th>Tournament_Year</th>\n",
       "      <th>Permanent_Tournament_#</th>\n",
       "      <th>Course_#</th>\n",
       "      <th>Player_Number</th>\n",
       "      <th>Player_Name</th>\n",
       "      <th>Round_Number</th>\n",
       "      <th>Round_Score</th>\n",
       "      <th>End_of_Event_Pos._(text)</th>\n",
       "      <th>Event_Name</th>\n",
       "      <th>Strokes_In_Tournament</th>\n",
       "      <th>Rounds_In_Tournament</th>\n",
       "      <th>Finishing_Position</th>\n",
       "    </tr>\n",
       "  </thead>\n",
       "  <tbody>\n",
       "    <tr>\n",
       "      <th>0</th>\n",
       "      <td>2003</td>\n",
       "      <td>16</td>\n",
       "      <td>656</td>\n",
       "      <td>1320</td>\n",
       "      <td>Estes, Bob</td>\n",
       "      <td>1</td>\n",
       "      <td>66</td>\n",
       "      <td>T6</td>\n",
       "      <td>Mercedes Championships</td>\n",
       "      <td>271</td>\n",
       "      <td>4</td>\n",
       "      <td>0.208333</td>\n",
       "    </tr>\n",
       "    <tr>\n",
       "      <th>1</th>\n",
       "      <td>2003</td>\n",
       "      <td>16</td>\n",
       "      <td>656</td>\n",
       "      <td>1361</td>\n",
       "      <td>Forsman, Dan</td>\n",
       "      <td>1</td>\n",
       "      <td>69</td>\n",
       "      <td>T21</td>\n",
       "      <td>Mercedes Championships</td>\n",
       "      <td>279</td>\n",
       "      <td>4</td>\n",
       "      <td>0.611111</td>\n",
       "    </tr>\n",
       "    <tr>\n",
       "      <th>2</th>\n",
       "      <td>2003</td>\n",
       "      <td>16</td>\n",
       "      <td>656</td>\n",
       "      <td>1761</td>\n",
       "      <td>Mattiace, Len</td>\n",
       "      <td>1</td>\n",
       "      <td>75</td>\n",
       "      <td>24</td>\n",
       "      <td>Mercedes Championships</td>\n",
       "      <td>280</td>\n",
       "      <td>4</td>\n",
       "      <td>0.666667</td>\n",
       "    </tr>\n",
       "  </tbody>\n",
       "</table>\n",
       "</div>"
      ],
      "text/plain": [
       "   Tournament_Year  Permanent_Tournament_#  Course_#  Player_Number  \\\n",
       "0             2003                      16       656           1320   \n",
       "1             2003                      16       656           1361   \n",
       "2             2003                      16       656           1761   \n",
       "\n",
       "     Player_Name  Round_Number  Round_Score End_of_Event_Pos._(text)  \\\n",
       "0     Estes, Bob             1           66                       T6   \n",
       "1   Forsman, Dan             1           69                      T21   \n",
       "2  Mattiace, Len             1           75                       24   \n",
       "\n",
       "               Event_Name  Strokes_In_Tournament  Rounds_In_Tournament  \\\n",
       "0  Mercedes Championships                    271                     4   \n",
       "1  Mercedes Championships                    279                     4   \n",
       "2  Mercedes Championships                    280                     4   \n",
       "\n",
       "   Finishing_Position  \n",
       "0            0.208333  \n",
       "1            0.611111  \n",
       "2            0.666667  "
      ]
     },
     "execution_count": 3,
     "metadata": {},
     "output_type": "execute_result"
    }
   ],
   "source": [
    "data.head(3)"
   ]
  },
  {
   "cell_type": "code",
   "execution_count": 4,
   "metadata": {
    "collapsed": false,
    "scrolled": true
   },
   "outputs": [
    {
     "data": {
      "text/plain": [
       "(257759, 12)"
      ]
     },
     "execution_count": 4,
     "metadata": {},
     "output_type": "execute_result"
    }
   ],
   "source": [
    "data.shape"
   ]
  },
  {
   "cell_type": "code",
   "execution_count": 5,
   "metadata": {
    "collapsed": false,
    "scrolled": true
   },
   "outputs": [
    {
     "data": {
      "text/html": [
       "<div>\n",
       "<table border=\"1\" class=\"dataframe\">\n",
       "  <thead>\n",
       "    <tr style=\"text-align: right;\">\n",
       "      <th></th>\n",
       "      <th>Tournament_Year</th>\n",
       "      <th>Permanent_Tournament_#</th>\n",
       "      <th>Course_#</th>\n",
       "      <th>Player_Number</th>\n",
       "      <th>Player_Name</th>\n",
       "      <th>Round_Number</th>\n",
       "      <th>Round_Score</th>\n",
       "      <th>End_of_Event_Pos._(text)</th>\n",
       "      <th>Event_Name</th>\n",
       "      <th>Strokes_In_Tournament</th>\n",
       "      <th>Rounds_In_Tournament</th>\n",
       "      <th>Finishing_Position</th>\n",
       "    </tr>\n",
       "  </thead>\n",
       "  <tbody>\n",
       "    <tr>\n",
       "      <th>259740</th>\n",
       "      <td>2016</td>\n",
       "      <td>60</td>\n",
       "      <td>688</td>\n",
       "      <td>34360</td>\n",
       "      <td>Reed, Patrick</td>\n",
       "      <td>4</td>\n",
       "      <td>70</td>\n",
       "      <td>T24</td>\n",
       "      <td>TOUR Championship</td>\n",
       "      <td>283</td>\n",
       "      <td>4</td>\n",
       "      <td>0.844828</td>\n",
       "    </tr>\n",
       "    <tr>\n",
       "      <th>259741</th>\n",
       "      <td>2016</td>\n",
       "      <td>60</td>\n",
       "      <td>688</td>\n",
       "      <td>37455</td>\n",
       "      <td>Kim, Si Woo</td>\n",
       "      <td>4</td>\n",
       "      <td>65</td>\n",
       "      <td>T10</td>\n",
       "      <td>TOUR Championship</td>\n",
       "      <td>278</td>\n",
       "      <td>4</td>\n",
       "      <td>0.413793</td>\n",
       "    </tr>\n",
       "    <tr>\n",
       "      <th>259742</th>\n",
       "      <td>2016</td>\n",
       "      <td>60</td>\n",
       "      <td>688</td>\n",
       "      <td>40026</td>\n",
       "      <td>Berger, Daniel</td>\n",
       "      <td>4</td>\n",
       "      <td>68</td>\n",
       "      <td>T15</td>\n",
       "      <td>TOUR Championship</td>\n",
       "      <td>279</td>\n",
       "      <td>4</td>\n",
       "      <td>0.534483</td>\n",
       "    </tr>\n",
       "  </tbody>\n",
       "</table>\n",
       "</div>"
      ],
      "text/plain": [
       "        Tournament_Year  Permanent_Tournament_#  Course_#  Player_Number  \\\n",
       "259740             2016                      60       688          34360   \n",
       "259741             2016                      60       688          37455   \n",
       "259742             2016                      60       688          40026   \n",
       "\n",
       "           Player_Name  Round_Number  Round_Score End_of_Event_Pos._(text)  \\\n",
       "259740   Reed, Patrick             4           70                      T24   \n",
       "259741     Kim, Si Woo             4           65                      T10   \n",
       "259742  Berger, Daniel             4           68                      T15   \n",
       "\n",
       "               Event_Name  Strokes_In_Tournament  Rounds_In_Tournament  \\\n",
       "259740  TOUR Championship                    283                     4   \n",
       "259741  TOUR Championship                    278                     4   \n",
       "259742  TOUR Championship                    279                     4   \n",
       "\n",
       "        Finishing_Position  \n",
       "259740            0.844828  \n",
       "259741            0.413793  \n",
       "259742            0.534483  "
      ]
     },
     "execution_count": 5,
     "metadata": {},
     "output_type": "execute_result"
    }
   ],
   "source": [
    "data.tail(3)"
   ]
  },
  {
   "cell_type": "code",
   "execution_count": 6,
   "metadata": {
    "collapsed": false
   },
   "outputs": [],
   "source": [
    "with open('./../PickleFiles/num_to_ind_round.pkl','r') as pickleFile:\n",
    "    num_to_inds = pickle.load(pickleFile)"
   ]
  },
  {
   "cell_type": "code",
   "execution_count": 7,
   "metadata": {
    "collapsed": false,
    "scrolled": true
   },
   "outputs": [],
   "source": [
    "data.insert(5,'Player_Index',[num_to_inds[num] for num in data.Player_Number])"
   ]
  },
  {
   "cell_type": "markdown",
   "metadata": {},
   "source": [
    "_Strokes Gained To The Field_"
   ]
  },
  {
   "cell_type": "code",
   "execution_count": 8,
   "metadata": {
    "collapsed": false
   },
   "outputs": [],
   "source": [
    "field_perf = data.groupby(['Tournament_Year','Permanent_Tournament_#','Round_Number','Course_#']).Round_Score.mean().to_dict()"
   ]
  },
  {
   "cell_type": "code",
   "execution_count": 9,
   "metadata": {
    "collapsed": false
   },
   "outputs": [],
   "source": [
    "data.insert(len(data.columns),'Field_Performance',[field_perf[tuple(tup)] \n",
    "                                                   for tup in data[['Tournament_Year','Permanent_Tournament_#',\n",
    "                                                                    'Round_Number','Course_#']].values.tolist()])"
   ]
  },
  {
   "cell_type": "code",
   "execution_count": 10,
   "metadata": {
    "collapsed": true
   },
   "outputs": [],
   "source": [
    "data.insert(len(data.columns),'Strokes_Gained_To_The_Field',data.Field_Performance-data.Round_Score)"
   ]
  },
  {
   "cell_type": "code",
   "execution_count": 11,
   "metadata": {
    "collapsed": false
   },
   "outputs": [
    {
     "data": {
      "text/plain": [
       "count    2.577590e+05\n",
       "mean    -2.877908e-17\n",
       "std      2.944108e+00\n",
       "min     -1.965625e+01\n",
       "25%     -1.830769e+00\n",
       "50%      1.527778e-01\n",
       "75%      1.985915e+00\n",
       "max      1.208571e+01\n",
       "Name: Strokes_Gained_To_The_Field, dtype: float64"
      ]
     },
     "execution_count": 11,
     "metadata": {},
     "output_type": "execute_result"
    }
   ],
   "source": [
    "data.Strokes_Gained_To_The_Field.describe()"
   ]
  },
  {
   "cell_type": "code",
   "execution_count": 12,
   "metadata": {
    "collapsed": false
   },
   "outputs": [
    {
     "data": {
      "text/html": [
       "<div>\n",
       "<table border=\"1\" class=\"dataframe\">\n",
       "  <thead>\n",
       "    <tr style=\"text-align: right;\">\n",
       "      <th></th>\n",
       "      <th>Tournament_Year</th>\n",
       "      <th>Permanent_Tournament_#</th>\n",
       "      <th>Course_#</th>\n",
       "      <th>Player_Number</th>\n",
       "      <th>Player_Name</th>\n",
       "      <th>Player_Index</th>\n",
       "      <th>Round_Number</th>\n",
       "      <th>Round_Score</th>\n",
       "      <th>End_of_Event_Pos._(text)</th>\n",
       "      <th>Event_Name</th>\n",
       "      <th>Strokes_In_Tournament</th>\n",
       "      <th>Rounds_In_Tournament</th>\n",
       "      <th>Finishing_Position</th>\n",
       "      <th>Field_Performance</th>\n",
       "      <th>Strokes_Gained_To_The_Field</th>\n",
       "    </tr>\n",
       "  </thead>\n",
       "  <tbody>\n",
       "    <tr>\n",
       "      <th>204812</th>\n",
       "      <td>2013</td>\n",
       "      <td>28</td>\n",
       "      <td>789</td>\n",
       "      <td>10809</td>\n",
       "      <td>Furyk, Jim</td>\n",
       "      <td>21</td>\n",
       "      <td>2</td>\n",
       "      <td>59</td>\n",
       "      <td>3</td>\n",
       "      <td>BMW Championship</td>\n",
       "      <td>271</td>\n",
       "      <td>4</td>\n",
       "      <td>0.042857</td>\n",
       "      <td>71.085714</td>\n",
       "      <td>12.085714</td>\n",
       "    </tr>\n",
       "    <tr>\n",
       "      <th>229372</th>\n",
       "      <td>2015</td>\n",
       "      <td>473</td>\n",
       "      <td>8</td>\n",
       "      <td>27141</td>\n",
       "      <td>Holmes, J.B.</td>\n",
       "      <td>453</td>\n",
       "      <td>1</td>\n",
       "      <td>62</td>\n",
       "      <td>2</td>\n",
       "      <td>World Golf Championships-Cadillac Championship</td>\n",
       "      <td>280</td>\n",
       "      <td>4</td>\n",
       "      <td>0.027397</td>\n",
       "      <td>73.356164</td>\n",
       "      <td>11.356164</td>\n",
       "    </tr>\n",
       "    <tr>\n",
       "      <th>13487</th>\n",
       "      <td>2003</td>\n",
       "      <td>56</td>\n",
       "      <td>56</td>\n",
       "      <td>1706</td>\n",
       "      <td>Love III, Davis</td>\n",
       "      <td>198</td>\n",
       "      <td>1</td>\n",
       "      <td>63</td>\n",
       "      <td>1</td>\n",
       "      <td>The INTERNATIONAL</td>\n",
       "      <td>270</td>\n",
       "      <td>4</td>\n",
       "      <td>0.007194</td>\n",
       "      <td>74.115108</td>\n",
       "      <td>11.115108</td>\n",
       "    </tr>\n",
       "  </tbody>\n",
       "</table>\n",
       "</div>"
      ],
      "text/plain": [
       "        Tournament_Year  Permanent_Tournament_#  Course_#  Player_Number  \\\n",
       "204812             2013                      28       789          10809   \n",
       "229372             2015                     473         8          27141   \n",
       "13487              2003                      56        56           1706   \n",
       "\n",
       "            Player_Name  Player_Index  Round_Number  Round_Score  \\\n",
       "204812       Furyk, Jim            21             2           59   \n",
       "229372     Holmes, J.B.           453             1           62   \n",
       "13487   Love III, Davis           198             1           63   \n",
       "\n",
       "       End_of_Event_Pos._(text)  \\\n",
       "204812                        3   \n",
       "229372                        2   \n",
       "13487                         1   \n",
       "\n",
       "                                            Event_Name  Strokes_In_Tournament  \\\n",
       "204812                                BMW Championship                    271   \n",
       "229372  World Golf Championships-Cadillac Championship                    280   \n",
       "13487                                The INTERNATIONAL                    270   \n",
       "\n",
       "        Rounds_In_Tournament  Finishing_Position  Field_Performance  \\\n",
       "204812                     4            0.042857          71.085714   \n",
       "229372                     4            0.027397          73.356164   \n",
       "13487                      4            0.007194          74.115108   \n",
       "\n",
       "        Strokes_Gained_To_The_Field  \n",
       "204812                    12.085714  \n",
       "229372                    11.356164  \n",
       "13487                     11.115108  "
      ]
     },
     "execution_count": 12,
     "metadata": {},
     "output_type": "execute_result"
    }
   ],
   "source": [
    "data.sort_values('Strokes_Gained_To_The_Field',ascending=False).head(3)"
   ]
  },
  {
   "cell_type": "code",
   "execution_count": 13,
   "metadata": {
    "collapsed": false
   },
   "outputs": [],
   "source": [
    "tups = data.drop_duplicates(['Tournament_Year','Permanent_Tournament_#'])[['Tournament_Year','Permanent_Tournament_#']].values.tolist()\n",
    "tournament_groups = {tuple(tup):u/4 for u,tup in enumerate(tups)}"
   ]
  },
  {
   "cell_type": "code",
   "execution_count": 14,
   "metadata": {
    "collapsed": false
   },
   "outputs": [],
   "source": [
    "data.insert(len(data.columns),'Tournament_Group',[tournament_groups[tuple(tup)] \n",
    "                                                  for tup in data[['Tournament_Year','Permanent_Tournament_#']].values.tolist()])"
   ]
  },
  {
   "cell_type": "code",
   "execution_count": 15,
   "metadata": {
    "collapsed": false
   },
   "outputs": [
    {
     "data": {
      "text/html": [
       "<div>\n",
       "<table border=\"1\" class=\"dataframe\">\n",
       "  <thead>\n",
       "    <tr style=\"text-align: right;\">\n",
       "      <th></th>\n",
       "      <th>Tournament_Year</th>\n",
       "      <th>Permanent_Tournament_#</th>\n",
       "      <th>Course_#</th>\n",
       "      <th>Player_Number</th>\n",
       "      <th>Player_Name</th>\n",
       "      <th>Player_Index</th>\n",
       "      <th>Round_Number</th>\n",
       "      <th>Round_Score</th>\n",
       "      <th>End_of_Event_Pos._(text)</th>\n",
       "      <th>Event_Name</th>\n",
       "      <th>Strokes_In_Tournament</th>\n",
       "      <th>Rounds_In_Tournament</th>\n",
       "      <th>Finishing_Position</th>\n",
       "      <th>Field_Performance</th>\n",
       "      <th>Strokes_Gained_To_The_Field</th>\n",
       "      <th>Tournament_Group</th>\n",
       "    </tr>\n",
       "  </thead>\n",
       "  <tbody>\n",
       "    <tr>\n",
       "      <th>0</th>\n",
       "      <td>2003</td>\n",
       "      <td>16</td>\n",
       "      <td>656</td>\n",
       "      <td>1320</td>\n",
       "      <td>Estes, Bob</td>\n",
       "      <td>0</td>\n",
       "      <td>1</td>\n",
       "      <td>66</td>\n",
       "      <td>T6</td>\n",
       "      <td>Mercedes Championships</td>\n",
       "      <td>271</td>\n",
       "      <td>4</td>\n",
       "      <td>0.208333</td>\n",
       "      <td>69.361111</td>\n",
       "      <td>3.361111</td>\n",
       "      <td>0</td>\n",
       "    </tr>\n",
       "    <tr>\n",
       "      <th>1</th>\n",
       "      <td>2003</td>\n",
       "      <td>16</td>\n",
       "      <td>656</td>\n",
       "      <td>1361</td>\n",
       "      <td>Forsman, Dan</td>\n",
       "      <td>1</td>\n",
       "      <td>1</td>\n",
       "      <td>69</td>\n",
       "      <td>T21</td>\n",
       "      <td>Mercedes Championships</td>\n",
       "      <td>279</td>\n",
       "      <td>4</td>\n",
       "      <td>0.611111</td>\n",
       "      <td>69.361111</td>\n",
       "      <td>0.361111</td>\n",
       "      <td>0</td>\n",
       "    </tr>\n",
       "    <tr>\n",
       "      <th>2</th>\n",
       "      <td>2003</td>\n",
       "      <td>16</td>\n",
       "      <td>656</td>\n",
       "      <td>1761</td>\n",
       "      <td>Mattiace, Len</td>\n",
       "      <td>2</td>\n",
       "      <td>1</td>\n",
       "      <td>75</td>\n",
       "      <td>24</td>\n",
       "      <td>Mercedes Championships</td>\n",
       "      <td>280</td>\n",
       "      <td>4</td>\n",
       "      <td>0.666667</td>\n",
       "      <td>69.361111</td>\n",
       "      <td>-5.638889</td>\n",
       "      <td>0</td>\n",
       "    </tr>\n",
       "  </tbody>\n",
       "</table>\n",
       "</div>"
      ],
      "text/plain": [
       "   Tournament_Year  Permanent_Tournament_#  Course_#  Player_Number  \\\n",
       "0             2003                      16       656           1320   \n",
       "1             2003                      16       656           1361   \n",
       "2             2003                      16       656           1761   \n",
       "\n",
       "     Player_Name  Player_Index  Round_Number  Round_Score  \\\n",
       "0     Estes, Bob             0             1           66   \n",
       "1   Forsman, Dan             1             1           69   \n",
       "2  Mattiace, Len             2             1           75   \n",
       "\n",
       "  End_of_Event_Pos._(text)              Event_Name  Strokes_In_Tournament  \\\n",
       "0                       T6  Mercedes Championships                    271   \n",
       "1                      T21  Mercedes Championships                    279   \n",
       "2                       24  Mercedes Championships                    280   \n",
       "\n",
       "   Rounds_In_Tournament  Finishing_Position  Field_Performance  \\\n",
       "0                     4            0.208333          69.361111   \n",
       "1                     4            0.611111          69.361111   \n",
       "2                     4            0.666667          69.361111   \n",
       "\n",
       "   Strokes_Gained_To_The_Field  Tournament_Group  \n",
       "0                     3.361111                 0  \n",
       "1                     0.361111                 0  \n",
       "2                    -5.638889                 0  "
      ]
     },
     "execution_count": 15,
     "metadata": {},
     "output_type": "execute_result"
    }
   ],
   "source": [
    "data.head(3)"
   ]
  },
  {
   "cell_type": "code",
   "execution_count": 16,
   "metadata": {
    "collapsed": false
   },
   "outputs": [],
   "source": [
    "player_perfs = data.groupby(['Tournament_Group','Player_Index'],as_index=False).agg({'Round_Number':'count',\n",
    "                                                       'Strokes_Gained_To_The_Field':'sum'})\n",
    "player_perfs = {tuple(tup[0:2]):tup[2:] for tup in player_perfs.values.tolist()}"
   ]
  },
  {
   "cell_type": "code",
   "execution_count": 17,
   "metadata": {
    "collapsed": false
   },
   "outputs": [
    {
     "name": "stdout",
     "output_type": "stream",
     "text": [
      "(24.0, 162.0) [17.0, 47.959821348632985]\n",
      "(93.0, 711.0) [17.0, 41.779813263631695]\n",
      "(12.0, 87.0) [17.0, 28.928805245529347]\n",
      "(59.0, 22.0) [17.0, 28.908535495163534]\n",
      "(0.0, 10.0) [17.0, 28.13712329337332]\n",
      "(24.0, 14.0) [17.0, 27.156669400967203]\n",
      "(0.0, 1.0) [17.0, 18.82462329337332]\n",
      "(24.0, 183.0) [17.0, 18.156669400967203]\n",
      "(59.0, 267.0) [17.0, 18.014718290862447]\n",
      "(93.0, 441.0) [17.0, 15.444530061281924]\n"
     ]
    }
   ],
   "source": [
    "for key in sorted(player_perfs,key=player_perfs.get,reverse=True)[0:10]:\n",
    "    print key,player_perfs[key]"
   ]
  },
  {
   "cell_type": "code",
   "execution_count": 18,
   "metadata": {
    "collapsed": false
   },
   "outputs": [
    {
     "data": {
      "text/plain": [
       "41765"
      ]
     },
     "execution_count": 18,
     "metadata": {},
     "output_type": "execute_result"
    }
   ],
   "source": [
    "len(player_perfs)"
   ]
  },
  {
   "cell_type": "code",
   "execution_count": 19,
   "metadata": {
    "collapsed": true
   },
   "outputs": [],
   "source": [
    "def my_norm(x,BETA):\n",
    "    return norm.pdf(x,0,BETA)/norm.pdf(0,0,BETA)"
   ]
  },
  {
   "cell_type": "code",
   "execution_count": 20,
   "metadata": {
    "collapsed": false
   },
   "outputs": [],
   "source": [
    "def take_weighted_ave(a,beta,window_size=35):\n",
    "    if not a:\n",
    "        return np.nan\n",
    "    counts = np.array([count for count,total in a[max(0,len(a)-window_size):]])\n",
    "    if counts.sum()==0:\n",
    "        return np.nan\n",
    "    means = [total/count if count!=0 else 0 for count,total in a[max(0,len(a)-window_size):]]\n",
    "    x = list(itertools.chain.from_iterable([[means[j]]*int(counts[j]) for j in range(len(counts))]))\n",
    "    weights = list(itertools.chain.from_iterable([[my_norm(len(counts)-j-1,beta)]*int(counts[j]) \n",
    "                                                  for j in range(len(counts))]))\n",
    "    return np.dot(x,weights)/np.sum(weights)"
   ]
  },
  {
   "cell_type": "code",
   "execution_count": 21,
   "metadata": {
    "collapsed": false,
    "scrolled": true
   },
   "outputs": [
    {
     "data": {
      "text/plain": [
       "4.5908045140793075"
      ]
     },
     "execution_count": 21,
     "metadata": {},
     "output_type": "execute_result"
    }
   ],
   "source": [
    "take_weighted_ave([(7,3.2),(8,7.6),(9,3.4),(10,2.1),(0.0,0),(0,0),(0,0),(1,5.)],1.3)"
   ]
  },
  {
   "cell_type": "code",
   "execution_count": 22,
   "metadata": {
    "collapsed": false
   },
   "outputs": [],
   "source": [
    "n_tournament_groups = len(pd.unique(data.Tournament_Group))\n",
    "players = range(len(num_to_inds))"
   ]
  },
  {
   "cell_type": "markdown",
   "metadata": {},
   "source": [
    "Training"
   ]
  },
  {
   "cell_type": "code",
   "execution_count": 23,
   "metadata": {
    "collapsed": true
   },
   "outputs": [],
   "source": [
    "def run_a_beta(betas):\n",
    "    pearsons,spearmans = [],[]\n",
    "    for BETA in betas:\n",
    "        A = np.array([[take_weighted_ave([player_perfs[(tournament_group,player_ind)] \n",
    "                                          if (tournament_group,player_ind) in player_perfs else (0.,0.)\n",
    "                                          for tournament_group in range(i)],BETA)\n",
    "                       for i in range(100)]\n",
    "                      for player_ind in players])\n",
    "\n",
    "        x,y = [],[]\n",
    "        for (year,tourn),df in data.groupby(['Tournament_Year','Permanent_Tournament_#'],sort=False):\n",
    "            if tournament_groups[(year,tourn)]>=100:\n",
    "                continue\n",
    "            ratings = A[pd.unique(df.Player_Index),tournament_groups[(year,tourn)]]\n",
    "            rankings = pd.Series(ratings[~np.isnan(ratings)]).rank(ascending=False,pct=True).values\n",
    "            finishing_pos = df.groupby('Player_Index').Finishing_Position.mean().to_dict()\n",
    "            finishing_pos = [finishing_pos[ind] for ind in pd.unique(df.Player_Index)[~np.isnan(ratings)]]\n",
    "            finishing_pos = pd.Series(finishing_pos).rank(ascending=True,pct=True).values\n",
    "            x.extend(rankings.tolist())\n",
    "            y.extend(finishing_pos.tolist())\n",
    "\n",
    "        pearson,spearman = np.corrcoef(x,y)[0,1],spearmanr(x,y)[0]\n",
    "        print BETA,pearson,spearman\n",
    "        pearsons.append(pearson)\n",
    "        spearmans.append(spearman)\n",
    "    return (betas,pearsons,spearmans)"
   ]
  },
  {
   "cell_type": "code",
   "execution_count": 24,
   "metadata": {
    "collapsed": true
   },
   "outputs": [],
   "source": [
    "def partition (lst, n):\n",
    "    return [lst[i::n] for i in xrange(n)]"
   ]
  },
  {
   "cell_type": "code",
   "execution_count": 25,
   "metadata": {
    "collapsed": false
   },
   "outputs": [
    {
     "name": "stdout",
     "output_type": "stream",
     "text": [
      "26.0 0.200474194902 0.200354577248\n",
      "24.0 0.200779054409 0.200655598699\n",
      "22.0 0.201228048313 0.201103278173\n",
      "27.0 0.200391058899 0.200271963398\n",
      "20.0 0.201629257593 0.201504398516\n",
      "23.0 0.201014088225 0.200890197379\n",
      "17.0 0.202092862039 0.20196749958\n",
      "16.0 0.202051277623 0.201923304233\n",
      "25.0 0.200603607655 0.200481328854\n",
      "19.0 0.201813830854 0.201686071102\n",
      "15.0 0.202049444653 0.201924052673\n",
      "21.0 0.201418594154 0.201293817406\n",
      "12.0 0.201690791059 0.201559830655\n",
      "13.0 0.202035268025 0.20190865809\n",
      "10.0 0.20056016422 0.200435030728\n",
      "18.0 0.202025231851 0.201900680507\n",
      "6.0 0.194289720757 0.194166546471\n",
      "4.0 0.187094744161 0.186982321401\n",
      "11.0 0.201383791683 0.201258406928\n",
      "7.0 0.196854880312 0.196734852944\n",
      "1.0 0.162257780022 0.162153712427\n",
      "8.0 0.198512853911 0.198391817873\n",
      "5.0 0.191175150272 0.191061396974\n",
      "9.0 0.199687491691 0.199565112474\n",
      "3.0 0.181818461225 0.181697570907\n",
      "14.0 0.202182515771 0.202054011429\n",
      "2.0 0.17463177483 0.174518244759\n"
     ]
    }
   ],
   "source": [
    "num_cores = multiprocessing.cpu_count()-5\n",
    "slices = partition(np.linspace(1,27,27),num_cores)\n",
    "pool = multiprocessing.Pool(num_cores)\n",
    "results = pool.map(run_a_beta, slices)\n",
    "pool.close()"
   ]
  },
  {
   "cell_type": "code",
   "execution_count": 26,
   "metadata": {
    "collapsed": false
   },
   "outputs": [],
   "source": [
    "results = sum([zip(*results[i]) for i in range(len(results))],[])\n",
    "results = sorted(results)"
   ]
  },
  {
   "cell_type": "code",
   "execution_count": 27,
   "metadata": {
    "collapsed": false
   },
   "outputs": [
    {
     "data": {
      "text/plain": [
       "((14.0, 0.20218251577116772, 0.20205401142919804),\n",
       " (14.0, 0.20218251577116772, 0.20205401142919804))"
      ]
     },
     "execution_count": 27,
     "metadata": {},
     "output_type": "execute_result"
    }
   ],
   "source": [
    "max(results,key=lambda x: x[1]),max(results,key=lambda x: x[2])"
   ]
  },
  {
   "cell_type": "code",
   "execution_count": 28,
   "metadata": {
    "collapsed": false
   },
   "outputs": [
    {
     "data": {
      "image/png": "[encoded data removed]",
      "text/plain": [
       "<matplotlib.figure.Figure at 0x7ff89646d590>"
      ]
     },
     "metadata": {},
     "output_type": "display_data"
    }
   ],
   "source": [
    "plt.plot([i[0] for i in results],[i[1] for i in results])\n",
    "plt.plot([i[0] for i in results],[i[2] for i in results]);"
   ]
  },
  {
   "cell_type": "markdown",
   "metadata": {},
   "source": [
    "Making Test Set"
   ]
  },
  {
   "cell_type": "code",
   "execution_count": null,
   "metadata": {
    "collapsed": false
   },
   "outputs": [],
   "source": [
    "pearsons,spearmans = [],[]\n",
    "BETA = 14\n",
    "A = np.array([[take_weighted_ave([player_perfs[(tournament_group,player_ind)] \n",
    "                                  if (tournament_group,player_ind) in player_perfs else (0.,0.)\n",
    "                                  for tournament_group in range(i)],BETA)\n",
    "               for i in range(n_tournament_groups)]\n",
    "              for player_ind in players])"
   ]
  },
  {
   "cell_type": "code",
   "execution_count": null,
   "metadata": {
    "collapsed": true
   },
   "outputs": [],
   "source": []
  },
  {
   "cell_type": "code",
   "execution_count": 24,
   "metadata": {
    "collapsed": true
   },
   "outputs": [],
   "source": [
    "x,y,tourns,years,players = [],[],[],[],[]\n",
    "for (year,tourn),df in data.groupby(['Tournament_Year','Permanent_Tournament_#'],sort=False):\n",
    "    if tournament_groups[(year,tourn)]<100:\n",
    "        continue\n",
    "    ratings = A[pd.unique(df.Player_Index),tournament_groups[(year,tourn)]-100]\n",
    "    rankings = pd.Series(ratings[~np.isnan(ratings)]).rank(ascending=False,pct=True).values\n",
    "    finishing_pos = df.groupby('Player_Index').Finishing_Position.mean().to_dict()\n",
    "    finishing_pos = [finishing_pos[ind] for ind in pd.unique(df.Player_Index)[~np.isnan(ratings)]]\n",
    "    finishing_pos = pd.Series(finishing_pos).rank(ascending=True,pct=True).values\n",
    "    x.extend(rankings.tolist())\n",
    "    y.extend(finishing_pos.tolist())\n",
    "    tourns.extend([tourn]*len(rankings))\n",
    "    years.extend([year]*len(rankings))\n",
    "    players.extend(pd.unique(df.Player_Index)[~np.isnan(ratings)].tolist())"
   ]
  },
  {
   "cell_type": "code",
   "execution_count": 25,
   "metadata": {
    "collapsed": true
   },
   "outputs": [],
   "source": [
    "SGTTF_Test = pd.DataFrame({'x':x,'y':y,'tourn':tourns,'year':years,'player':players})"
   ]
  },
  {
   "cell_type": "code",
   "execution_count": 26,
   "metadata": {
    "collapsed": false
   },
   "outputs": [
    {
     "data": {
      "text/html": [
       "<div>\n",
       "<table border=\"1\" class=\"dataframe\">\n",
       "  <thead>\n",
       "    <tr style=\"text-align: right;\">\n",
       "      <th></th>\n",
       "      <th>player</th>\n",
       "      <th>tourn</th>\n",
       "      <th>x</th>\n",
       "      <th>y</th>\n",
       "      <th>year</th>\n",
       "    </tr>\n",
       "  </thead>\n",
       "  <tbody>\n",
       "    <tr>\n",
       "      <th>0</th>\n",
       "      <td>152</td>\n",
       "      <td>32</td>\n",
       "      <td>0.965278</td>\n",
       "      <td>0.881944</td>\n",
       "      <td>2011</td>\n",
       "    </tr>\n",
       "    <tr>\n",
       "      <th>1</th>\n",
       "      <td>155</td>\n",
       "      <td>32</td>\n",
       "      <td>0.888889</td>\n",
       "      <td>0.107639</td>\n",
       "      <td>2011</td>\n",
       "    </tr>\n",
       "    <tr>\n",
       "      <th>2</th>\n",
       "      <td>0</td>\n",
       "      <td>32</td>\n",
       "      <td>0.500000</td>\n",
       "      <td>0.291667</td>\n",
       "      <td>2011</td>\n",
       "    </tr>\n",
       "    <tr>\n",
       "      <th>3</th>\n",
       "      <td>48</td>\n",
       "      <td>32</td>\n",
       "      <td>0.881944</td>\n",
       "      <td>0.621528</td>\n",
       "      <td>2011</td>\n",
       "    </tr>\n",
       "  </tbody>\n",
       "</table>\n",
       "</div>"
      ],
      "text/plain": [
       "   player  tourn         x         y  year\n",
       "0     152     32  0.965278  0.881944  2011\n",
       "1     155     32  0.888889  0.107639  2011\n",
       "2       0     32  0.500000  0.291667  2011\n",
       "3      48     32  0.881944  0.621528  2011"
      ]
     },
     "execution_count": 26,
     "metadata": {},
     "output_type": "execute_result"
    }
   ],
   "source": [
    "SGTTF_Test.head(4)"
   ]
  },
  {
   "cell_type": "code",
   "execution_count": 27,
   "metadata": {
    "collapsed": false
   },
   "outputs": [
    {
     "data": {
      "text/plain": [
       "(28510, 28510)"
      ]
     },
     "execution_count": 27,
     "metadata": {},
     "output_type": "execute_result"
    }
   ],
   "source": [
    "len(x),len(y)"
   ]
  },
  {
   "cell_type": "code",
   "execution_count": 131,
   "metadata": {
    "collapsed": false
   },
   "outputs": [],
   "source": [
    "year_inds = {value:key[0] for key,value in tournament_groups.iteritems()}\n",
    "first_group_years = {}\n",
    "for group in sorted(year_inds):\n",
    "    if year_inds[group] not in first_group_years:\n",
    "        first_group_years[year_inds[group]] = group\n",
    "y_,x_ = zip(*sorted(first_group_years.items()))\n",
    "f = UnivariateSpline(x_,y_)\n",
    "year_vals = f(np.arange(n_tournament_groups))\n",
    "year_vals = map(int,map(__builtins__.round,year_vals))"
   ]
  },
  {
   "cell_type": "code",
   "execution_count": 133,
   "metadata": {
    "collapsed": false
   },
   "outputs": [
    {
     "data": {
      "image/png": "[encoded data removed]",
      "text/plain": [
       "<matplotlib.figure.Figure at 0x11b151e90>"
      ]
     },
     "metadata": {},
     "output_type": "display_data"
    }
   ],
   "source": [
    "plt.figure(figsize=(18,6))\n",
    "plt.plot(range(n_tournament_groups),A[162,:],label='Phil')\n",
    "plt.plot(range(n_tournament_groups),A[277,:],label='Tiger')\n",
    "plt.xticks(range(n_tournament_groups)[::10],year_vals[::10])\n",
    "plt.legend();"
   ]
  },
  {
   "cell_type": "markdown",
   "metadata": {},
   "source": [
    "Park-Newman Ranking Method"
   ]
  },
  {
   "cell_type": "code",
   "execution_count": 27,
   "metadata": {
    "collapsed": true
   },
   "outputs": [],
   "source": [
    "def alpha(A,a):\n",
    "    w = eigs(A,k=1,which='LM',return_eigenvectors=False)\n",
    "    if w.imag>0:\n",
    "        print w\n",
    "    return a/w[0].real\n",
    "\n",
    "def solve(W,a):\n",
    "    alpha_ = alpha(W,a)\n",
    "    w = np.dot(np.linalg.inv(np.eye(W.shape[0])-alpha_*W),W.sum(1))\n",
    "    \n",
    "    L = W.T\n",
    "    alpha_ = alpha(L,a)\n",
    "    l = np.dot(np.linalg.inv(np.eye(L.shape[0])-alpha_*L),L.sum(1))\n",
    "               \n",
    "    ratings = w-l\n",
    "    ratings[np.logical_and(W.sum(1)==0,L.sum(1)==0)] = np.nan\n",
    "    return ratings"
   ]
  },
  {
   "cell_type": "code",
   "execution_count": 28,
   "metadata": {
    "collapsed": true
   },
   "outputs": [],
   "source": [
    "n_players = len(pd.unique(data.Player_Index))"
   ]
  },
  {
   "cell_type": "code",
   "execution_count": 33,
   "metadata": {
    "collapsed": false,
    "scrolled": true
   },
   "outputs": [
    {
     "name": "stdout",
     "output_type": "stream",
     "text": [
      "(2003, 0)\n",
      "(2003, 1)\n",
      "(2003, 2)\n",
      "(2003, 3)\n",
      "(2003, 4)\n",
      "(2003, 5)\n",
      "(2003, 6)\n",
      "(2003, 7)\n",
      "(2003, 8)\n",
      "(2003, 9)\n",
      "(2003, 10)\n",
      "(2003, 11)\n",
      "(2004, 11)\n",
      "(2004, 12)\n",
      "(2004, 13)\n",
      "(2004, 14)\n",
      "(2004, 15)\n",
      "(2004, 16)\n",
      "(2004, 17)\n",
      "(2004, 18)\n",
      "(2004, 19)\n",
      "(2004, 20)\n",
      "(2004, 21)\n",
      "(2004, 22)\n",
      "(2004, 23)\n",
      "(2005, 23)\n",
      "(2005, 24)\n",
      "(2005, 25)\n",
      "(2005, 26)\n",
      "(2005, 27)\n",
      "(2005, 28)\n",
      "(2005, 29)\n",
      "(2005, 30)\n",
      "(2005, 31)\n",
      "(2005, 32)\n",
      "(2005, 33)\n",
      "(2005, 34)\n",
      "(2005, 35)\n",
      "(2006, 35)\n",
      "(2006, 36)\n",
      "(2006, 37)\n",
      "(2006, 38)\n",
      "(2006, 39)\n",
      "(2006, 40)\n",
      "(2006, 41)\n",
      "(2006, 42)\n",
      "(2006, 43)\n",
      "(2006, 44)\n",
      "(2006, 45)\n",
      "(2006, 46)\n",
      "(2007, 47)\n",
      "(2007, 48)\n",
      "(2007, 49)\n",
      "(2007, 50)\n",
      "(2007, 51)\n",
      "(2007, 52)\n",
      "(2007, 53)\n",
      "(2007, 54)\n",
      "(2007, 55)\n",
      "(2007, 56)\n",
      "(2007, 57)\n",
      "(2007, 58)\n",
      "(2008, 58)\n",
      "(2008, 59)\n",
      "(2008, 60)\n",
      "(2008, 61)\n",
      "(2008, 62)\n",
      "(2008, 63)\n",
      "(2008, 64)\n",
      "(2008, 65)\n",
      "(2008, 66)\n",
      "(2008, 67)\n",
      "(2008, 68)\n",
      "(2008, 69)\n",
      "(2008, 70)\n",
      "(2009, 70)\n",
      "(2009, 71)\n",
      "(2009, 72)\n",
      "(2009, 73)\n",
      "(2009, 74)\n",
      "(2009, 75)\n",
      "(2009, 76)\n",
      "(2009, 77)\n",
      "(2009, 78)\n",
      "(2009, 79)\n",
      "(2009, 80)\n",
      "(2009, 81)\n",
      "(2010, 81)\n",
      "(2010, 82)\n",
      "(2010, 83)\n",
      "(2010, 84)\n",
      "(2010, 85)\n",
      "(2010, 86)\n",
      "(2010, 87)\n",
      "(2010, 88)\n",
      "(2010, 89)\n",
      "(2010, 90)\n",
      "(2010, 91)\n",
      "(2010, 92)\n",
      "(2011, 92)\n",
      "(2011, 93)\n",
      "(2011, 94)\n",
      "(2011, 95)\n",
      "(2011, 96)\n",
      "(2011, 97)\n",
      "(2011, 98)\n",
      "(2011, 99)\n",
      "(2011, 100)\n",
      "(2011, 101)\n",
      "(2011, 102)\n",
      "(2011, 103)\n",
      "(2012, 103)\n",
      "(2012, 104)\n",
      "(2012, 105)\n",
      "(2012, 106)\n",
      "(2012, 107)\n",
      "(2012, 108)\n",
      "(2012, 109)\n",
      "(2012, 110)\n",
      "(2012, 111)\n",
      "(2012, 112)\n",
      "(2012, 113)\n",
      "(2012, 114)\n",
      "(2013, 114)\n",
      "(2013, 115)\n",
      "(2013, 116)\n",
      "(2013, 117)\n",
      "(2013, 118)\n",
      "(2013, 119)\n",
      "(2013, 120)\n",
      "(2013, 121)\n",
      "(2013, 122)\n",
      "(2013, 123)\n",
      "(2013, 124)\n",
      "(2014, 124)\n",
      "(2014, 125)\n",
      "(2014, 126)\n",
      "(2014, 127)\n",
      "(2014, 128)\n",
      "(2014, 129)\n",
      "(2014, 130)\n",
      "(2014, 131)\n",
      "(2014, 132)\n",
      "(2014, 133)\n",
      "(2014, 134)\n",
      "(2014, 135)\n",
      "(2015, 135)\n",
      "(2015, 136)\n",
      "(2015, 137)\n",
      "(2015, 138)\n",
      "(2015, 139)\n",
      "(2015, 140)\n",
      "(2015, 141)\n",
      "(2015, 142)\n",
      "(2015, 143)\n",
      "(2015, 144)\n",
      "(2015, 145)\n",
      "(2015, 146)\n",
      "(2016, 146)\n",
      "(2016, 147)\n",
      "(2016, 148)\n",
      "(2016, 149)\n",
      "(2016, 150)\n",
      "(2016, 151)\n",
      "(2016, 152)\n",
      "(2016, 153)\n",
      "(2016, 154)\n",
      "(2016, 155)\n",
      "(2016, 156)\n",
      "(2016, 157)\n"
     ]
    }
   ],
   "source": [
    "A = np.zeros((n_players,n_players))\n",
    "ratings = None\n",
    "x,y = [],[]\n",
    "a = .8\n",
    "for (year,tourn_group),df in data.groupby(['Tournament_Year','Tournament_Group'],sort=False):\n",
    "    print (year,tourn_group)\n",
    "    if ratings is not None:\n",
    "        for tournament,df_ in df.groupby(['Permanent_Tournament_#']):\n",
    "            current_ratings = ratings[pd.unique(df_.Player_Index)]\n",
    "            rankings = pd.Series(current_ratings[~np.isnan(current_ratings)]).rank(ascending=False,pct=True)\n",
    "            finishing_pos = df_.groupby('Player_Index').Finishing_Position.mean().to_dict()\n",
    "            finishing_pos = [finishing_pos[ind] for ind in pd.unique(df_.Player_Index)[~np.isnan(current_ratings)]]\n",
    "            finishing_pos = pd.Series(finishing_pos).rank(ascending=True,pct=True).values\n",
    "            x.extend(rankings.tolist())\n",
    "            y.extend(finishing_pos.tolist())\n",
    "    for (course,round),df_ in df.groupby(['Course_#','Round_Number']):\n",
    "        df_sorted = df_.sort_values('Round_Score')\n",
    "        for row_ind in range(len(df_)-1):\n",
    "            A[df_sorted.iloc[row_ind].Player_Index,df_sorted.iloc[row_ind+1:].Player_Index.values] += 1.0\n",
    "    \n",
    "    ratings = solve(A,a)"
   ]
  },
  {
   "cell_type": "code",
   "execution_count": 34,
   "metadata": {
    "collapsed": false
   },
   "outputs": [
    {
     "data": {
      "text/plain": [
       "(78669, 78669)"
      ]
     },
     "execution_count": 34,
     "metadata": {},
     "output_type": "execute_result"
    }
   ],
   "source": [
    "len(x),len(y)"
   ]
  },
  {
   "cell_type": "code",
   "execution_count": 35,
   "metadata": {
    "collapsed": false
   },
   "outputs": [
    {
     "data": {
      "text/plain": [
       "(0.15684572919612524, 0.15676058380185326)"
      ]
     },
     "execution_count": 35,
     "metadata": {},
     "output_type": "execute_result"
    }
   ],
   "source": [
    "np.corrcoef(x,y)[0,1],spearmanr(x,y)[0]"
   ]
  },
  {
   "cell_type": "markdown",
   "metadata": {},
   "source": [
    "More Generalized To Take into account Margin of win or loss"
   ]
  },
  {
   "cell_type": "code",
   "execution_count": 14,
   "metadata": {
    "collapsed": true
   },
   "outputs": [],
   "source": [
    "def solve(A,G,a):\n",
    "    alpha_ = alpha(A,a)\n",
    "    w = np.dot(np.linalg.inv(np.eye(A.shape[0])-alpha_*A),A.sum(1))\n",
    "    \n",
    "    g = np.dot(np.linalg.inv(np.eye(G.shape[0])-alpha_*G),G.sum(1))\n",
    "               \n",
    "    ratings = w/g\n",
    "    ratings[g<1] = np.nan\n",
    "    return ratings"
   ]
  },
  {
   "cell_type": "code",
   "execution_count": 43,
   "metadata": {
    "collapsed": false,
    "scrolled": true
   },
   "outputs": [
    {
     "name": "stdout",
     "output_type": "stream",
     "text": [
      "(2003, 0)\n",
      "(2003, 1)\n",
      "(2003, 2)\n",
      "(2003, 3)\n",
      "(2003, 4)\n",
      "(2003, 5)\n",
      "(2003, 6)\n",
      "(2003, 7)\n",
      "(2003, 8)\n",
      "(2003, 9)\n",
      "(2003, 10)\n",
      "(2003, 11)\n",
      "(2004, 11)\n",
      "(2004, 12)\n",
      "(2004, 13)\n",
      "(2004, 14)\n",
      "(2004, 15)\n",
      "(2004, 16)\n",
      "(2004, 17)\n",
      "(2004, 18)\n",
      "(2004, 19)\n",
      "(2004, 20)\n",
      "(2004, 21)\n",
      "(2004, 22)\n",
      "(2004, 23)\n",
      "(2005, 23)\n",
      "(2005, 24)\n",
      "(2005, 25)\n",
      "(2005, 26)\n",
      "(2005, 27)\n",
      "(2005, 28)\n",
      "(2005, 29)\n",
      "(2005, 30)\n",
      "(2005, 31)\n",
      "(2005, 32)\n",
      "(2005, 33)\n",
      "(2005, 34)\n",
      "(2005, 35)\n",
      "(2006, 35)\n",
      "(2006, 36)\n",
      "(2006, 37)\n",
      "(2006, 38)\n",
      "(2006, 39)\n",
      "(2006, 40)\n",
      "(2006, 41)\n",
      "(2006, 42)\n",
      "(2006, 43)\n",
      "(2006, 44)\n",
      "(2006, 45)\n",
      "(2006, 46)\n",
      "(2007, 47)\n",
      "(2007, 48)\n",
      "(2007, 49)\n",
      "(2007, 50)\n",
      "(2007, 51)\n",
      "(2007, 52)\n",
      "(2007, 53)\n",
      "(2007, 54)\n",
      "(2007, 55)\n",
      "(2007, 56)\n",
      "(2007, 57)\n",
      "(2007, 58)\n",
      "(2008, 58)\n",
      "(2008, 59)\n",
      "(2008, 60)\n",
      "(2008, 61)\n",
      "(2008, 62)\n",
      "(2008, 63)\n",
      "(2008, 64)\n",
      "(2008, 65)\n",
      "(2008, 66)\n",
      "(2008, 67)\n",
      "(2008, 68)\n",
      "(2008, 69)\n",
      "(2008, 70)\n",
      "(2009, 70)\n",
      "(2009, 71)\n",
      "(2009, 72)\n",
      "(2009, 73)\n",
      "(2009, 74)\n",
      "(2009, 75)\n",
      "(2009, 76)\n",
      "(2009, 77)\n",
      "(2009, 78)\n",
      "(2009, 79)\n",
      "(2009, 80)\n",
      "(2009, 81)\n",
      "(2010, 81)\n",
      "(2010, 82)\n",
      "(2010, 83)\n",
      "(2010, 84)\n",
      "(2010, 85)\n",
      "(2010, 86)\n",
      "(2010, 87)\n",
      "(2010, 88)\n",
      "(2010, 89)\n",
      "(2010, 90)\n",
      "(2010, 91)\n",
      "(2010, 92)\n",
      "(2011, 92)\n",
      "(2011, 93)\n",
      "(2011, 94)\n",
      "(2011, 95)\n",
      "(2011, 96)\n",
      "(2011, 97)\n",
      "(2011, 98)\n",
      "(2011, 99)\n",
      "(2011, 100)\n",
      "(2011, 101)\n",
      "(2011, 102)\n",
      "(2011, 103)\n",
      "(2012, 103)\n",
      "(2012, 104)\n",
      "(2012, 105)\n",
      "(2012, 106)\n",
      "(2012, 107)\n",
      "(2012, 108)\n",
      "(2012, 109)\n",
      "(2012, 110)\n",
      "(2012, 111)\n",
      "(2012, 112)\n",
      "(2012, 113)\n",
      "(2012, 114)\n",
      "(2013, 114)\n",
      "(2013, 115)\n",
      "(2013, 116)\n",
      "(2013, 117)\n",
      "(2013, 118)\n",
      "(2013, 119)\n",
      "(2013, 120)\n",
      "(2013, 121)\n",
      "(2013, 122)\n",
      "(2013, 123)\n",
      "(2013, 124)\n",
      "(2014, 124)\n",
      "(2014, 125)\n",
      "(2014, 126)\n",
      "(2014, 127)\n",
      "(2014, 128)\n",
      "(2014, 129)\n",
      "(2014, 130)\n",
      "(2014, 131)\n",
      "(2014, 132)\n",
      "(2014, 133)\n",
      "(2014, 134)\n",
      "(2014, 135)\n",
      "(2015, 135)\n",
      "(2015, 136)\n",
      "(2015, 137)\n",
      "(2015, 138)\n",
      "(2015, 139)\n",
      "(2015, 140)\n",
      "(2015, 141)\n",
      "(2015, 142)\n",
      "(2015, 143)\n",
      "(2015, 144)\n",
      "(2015, 145)\n",
      "(2015, 146)\n",
      "(2016, 146)\n",
      "(2016, 147)\n",
      "(2016, 148)\n",
      "(2016, 149)\n",
      "(2016, 150)\n",
      "(2016, 151)\n",
      "(2016, 152)\n",
      "(2016, 153)\n",
      "(2016, 154)\n",
      "(2016, 155)\n",
      "(2016, 156)\n",
      "(2016, 157)\n"
     ]
    }
   ],
   "source": [
    "A,G = np.zeros((n_players,n_players)),np.zeros((n_players,n_players))\n",
    "ratings = None\n",
    "x,y = [],[]\n",
    "a = .9\n",
    "for (year,tourn_group),df in data.groupby(['Tournament_Year','Tournament_Group'],sort=False):\n",
    "    print (year,tourn_group)\n",
    "    if ratings is not None:\n",
    "        for tournament,df_ in df.groupby(['Permanent_Tournament_#']):\n",
    "            current_ratings = ratings[pd.unique(df_.Player_Index)]\n",
    "            rankings = pd.Series(current_ratings[~np.isnan(current_ratings)]).rank(ascending=False,pct=True)\n",
    "            finishing_pos = df_.groupby('Player_Index').Finishing_Position.mean().to_dict()\n",
    "            finishing_pos = [finishing_pos[ind] for ind in pd.unique(df_.Player_Index)[~np.isnan(current_ratings)]]\n",
    "            finishing_pos = pd.Series(finishing_pos).rank(ascending=True,pct=True).values\n",
    "            x.extend(rankings.tolist())\n",
    "            y.extend(finishing_pos.tolist())\n",
    "    for (course,round),df_ in df.groupby(['Course_#','Round_Number']):\n",
    "        A[np.ix_(df_.Player_Index.values,df_.Player_Index.values)] += \\\n",
    "            np.outer(1/df_.Round_Score.values.astype(float),df_.Round_Score.values)\n",
    "        G[np.ix_(df_.Player_Index.values,df_.Player_Index.values)] += 1.0\n",
    "    \n",
    "    ratings = solve(A,G,a)"
   ]
  },
  {
   "cell_type": "code",
   "execution_count": 44,
   "metadata": {
    "collapsed": false,
    "scrolled": true
   },
   "outputs": [
    {
     "data": {
      "text/plain": [
       "(78669, 78669)"
      ]
     },
     "execution_count": 44,
     "metadata": {},
     "output_type": "execute_result"
    }
   ],
   "source": [
    "len(x),len(y)"
   ]
  },
  {
   "cell_type": "code",
   "execution_count": 45,
   "metadata": {
    "collapsed": false
   },
   "outputs": [
    {
     "data": {
      "text/plain": [
       "(0.17751482307337862, 0.1774347926236042)"
      ]
     },
     "execution_count": 45,
     "metadata": {},
     "output_type": "execute_result"
    }
   ],
   "source": [
    "np.corrcoef(x,y)[0,1],spearmanr(x,y)[0]"
   ]
  },
  {
   "cell_type": "markdown",
   "metadata": {},
   "source": [
    "Generalized for both time and margin."
   ]
  },
  {
   "cell_type": "markdown",
   "metadata": {},
   "source": [
    "Training"
   ]
  },
  {
   "cell_type": "code",
   "execution_count": 29,
   "metadata": {
    "collapsed": false
   },
   "outputs": [],
   "source": [
    "def solve(A,G,a,min_g,x_guess=None,x_guess1=None):\n",
    "    \n",
    "    alpha_ = alpha(A,a)\n",
    "    SA = eye(A.shape[0],format='csc')-alpha_*A\n",
    "    w_a = gmres(SA,A.sum(1),x0=x_guess)[0]\n",
    "    \n",
    "    SG = eye(G.shape[0],format='csc')-alpha_*G\n",
    "    w_g = gmres(SG,G.sum(1),x0=x_guess1)[0]\n",
    "    \n",
    "    solve.w_a = w_a\n",
    "    solve.w_g = w_g\n",
    "    \n",
    "    ratings = w_a/w_g\n",
    "    ratings[w_g<min_g] = np.nan\n",
    "    return ratings[-n_players:]"
   ]
  },
  {
   "cell_type": "code",
   "execution_count": 16,
   "metadata": {
    "collapsed": false,
    "scrolled": true
   },
   "outputs": [],
   "source": [
    "def run(a,BETA):\n",
    "    sys.path.append('./../ProcessingPipeline')\n",
    "    from makeBigRoundsMat import return_mats\n",
    "    A,G = return_mats(BETA)\n",
    "    window_size = 35\n",
    "    x,y = [],[]\n",
    "    ratings = None\n",
    "    for tournament_group in range(100):\n",
    "        if ratings is not None:\n",
    "            df = data[data.Tournament_Group==tournament_group]\n",
    "            for tournament,df_ in df.groupby(['Permanent_Tournament_#']):\n",
    "                current_ratings = ratings[pd.unique(df_.Player_Index)]\n",
    "                rankings = pd.Series(current_ratings[~np.isnan(current_ratings)]).rank(ascending=False,pct=True)\n",
    "                finishing_pos = df_.groupby('Player_Index').Finishing_Position.mean().to_dict()\n",
    "                finishing_pos = [finishing_pos[ind] for ind in pd.unique(df_.Player_Index)[~np.isnan(current_ratings)]]\n",
    "                finishing_pos = pd.Series(finishing_pos).rank(ascending=True,pct=True).values\n",
    "                x.extend(rankings.tolist())\n",
    "                y.extend(finishing_pos.tolist())\n",
    "\n",
    "        lower = n_players*max(0,tournament_group-window_size+1)\n",
    "        upper = n_players*(tournament_group+1)\n",
    "        if tournament_group==0:\n",
    "            ratings = solve(A[lower:upper,lower:upper],G[lower:upper,lower:upper],a,1)\n",
    "        else:\n",
    "            w_a_approx = np.append(solve.w_a[0 if tournament_group<window_size else n_players:],solve.w_a[-n_players:])\n",
    "            w_g_approx = np.append(solve.w_g[0 if tournament_group<window_size else n_players:],solve.w_g[-n_players:])\n",
    "            ratings = solve(A[lower:upper,lower:upper],G[lower:upper,lower:upper],a,1,w_a_approx,w_g_approx)\n",
    "    print a,BETA,np.corrcoef(x,y)[0,1],spearmanr(x,y)[0]"
   ]
  },
  {
   "cell_type": "code",
   "execution_count": 24,
   "metadata": {
    "collapsed": true
   },
   "outputs": [],
   "source": [
    "alphas = np.linspace(.95,.99,3)\n",
    "betas = np.linspace(11,13,3)"
   ]
  },
  {
   "cell_type": "code",
   "execution_count": 26,
   "metadata": {
    "collapsed": true
   },
   "outputs": [],
   "source": [
    "B = pd.DataFrame(np.array([[3,4],[2,1]]))\n",
    "C = pd.DataFrame(np.array([[3,1],[1,3]]))"
   ]
  },
  {
   "cell_type": "code",
   "execution_count": 27,
   "metadata": {
    "collapsed": false
   },
   "outputs": [
    {
     "data": {
      "text/html": [
       "<div>\n",
       "<table border=\"1\" class=\"dataframe\">\n",
       "  <thead>\n",
       "    <tr style=\"text-align: right;\">\n",
       "      <th></th>\n",
       "      <th>0</th>\n",
       "      <th>1</th>\n",
       "    </tr>\n",
       "  </thead>\n",
       "  <tbody>\n",
       "    <tr>\n",
       "      <th>0</th>\n",
       "      <td>3</td>\n",
       "      <td>4</td>\n",
       "    </tr>\n",
       "    <tr>\n",
       "      <th>1</th>\n",
       "      <td>2</td>\n",
       "      <td>1</td>\n",
       "    </tr>\n",
       "  </tbody>\n",
       "</table>\n",
       "</div>"
      ],
      "text/plain": [
       "   0  1\n",
       "0  3  4\n",
       "1  2  1"
      ]
     },
     "execution_count": 27,
     "metadata": {},
     "output_type": "execute_result"
    }
   ],
   "source": [
    "B"
   ]
  },
  {
   "cell_type": "code",
   "execution_count": 28,
   "metadata": {
    "collapsed": false
   },
   "outputs": [
    {
     "data": {
      "text/html": [
       "<div>\n",
       "<table border=\"1\" class=\"dataframe\">\n",
       "  <thead>\n",
       "    <tr style=\"text-align: right;\">\n",
       "      <th></th>\n",
       "      <th>0</th>\n",
       "      <th>1</th>\n",
       "    </tr>\n",
       "  </thead>\n",
       "  <tbody>\n",
       "    <tr>\n",
       "      <th>0</th>\n",
       "      <td>3</td>\n",
       "      <td>1</td>\n",
       "    </tr>\n",
       "    <tr>\n",
       "      <th>1</th>\n",
       "      <td>1</td>\n",
       "      <td>3</td>\n",
       "    </tr>\n",
       "  </tbody>\n",
       "</table>\n",
       "</div>"
      ],
      "text/plain": [
       "   0  1\n",
       "0  3  1\n",
       "1  1  3"
      ]
     },
     "execution_count": 28,
     "metadata": {},
     "output_type": "execute_result"
    }
   ],
   "source": [
    "C"
   ]
  },
  {
   "cell_type": "code",
   "execution_count": 51,
   "metadata": {
    "collapsed": true
   },
   "outputs": [
    {
     "ename": "NameError",
     "evalue": "name 'B' is not defined",
     "output_type": "error",
     "traceback": [
      "\u001b[1;31m---------------------------------------------------------------------------\u001b[0m",
      "\u001b[1;31mNameError\u001b[0m                                 Traceback (most recent call last)",
      "\u001b[1;32m<ipython-input-51-1f7880653951>\u001b[0m in \u001b[0;36m<module>\u001b[1;34m()\u001b[0m\n\u001b[1;32m----> 1\u001b[1;33m \u001b[0mB\u001b[0m\u001b[1;33m.\u001b[0m\u001b[0mmerge\u001b[0m\u001b[1;33m(\u001b[0m\u001b[0mC\u001b[0m\u001b[1;33m,\u001b[0m\u001b[0mon\u001b[0m\u001b[1;33m=\u001b[0m\u001b[1;36m0\u001b[0m\u001b[1;33m)\u001b[0m\u001b[1;33m\u001b[0m\u001b[0m\n\u001b[0m",
      "\u001b[1;31mNameError\u001b[0m: name 'B' is not defined"
     ]
    }
   ],
   "source": [
    "B.merge(C,on=0)"
   ]
  },
  {
   "cell_type": "code",
   "execution_count": null,
   "metadata": {
    "collapsed": false,
    "scrolled": true
   },
   "outputs": [
    {
     "name": "stdout",
     "output_type": "stream",
     "text": [
      "0.785 8.0 0.203197998464 0.203058295023\n",
      "0.785 9.66666666667 0.2042905923 0.204152582767\n",
      "0.785 11.3333333333 0.204897426307 0.204763277784\n",
      "0.785 13.0 0.204820873316 0.204687825595\n",
      "0.83"
     ]
    }
   ],
   "source": [
    "for a,BETA in itertools.product(alphas[1:],betas):\n",
    "    run(a,BETA)"
   ]
  },
  {
   "cell_type": "code",
   "execution_count": null,
   "metadata": {
    "collapsed": true
   },
   "outputs": [
    {
     "name": "stdout",
     "output_type": "stream",
     "text": [
      "0.83 8.0 0.203451038655 0.203312058317\n",
      "0.83 9.66666666667 0.204400270856 0.20426189824\n",
      "0.83 11.3333333333 0.204875956586 0.204738086749\n",
      "0.83 13.0 0.204955140948 0.204820250975\n",
      "0.875 8.0 0.203670482167 0.203526648878\n",
      "0.875 9.66666666667 0.204718890127 0.204579400021\n",
      "0.875 8.0 0.203832456317 0.203690197574\n",
      "0.92 9.66666666667 0.204880584933 0.204742524409\n",
      "Traceback (most recent call last):\n",
      "  File \"/home/ubuntu/anaconda2/lib/python2.7/site-packages/IPython/core/ultratb.py\", line 970, in get_records\n",
      "    return _fixed_getinnerframes(etb, number_of_lines_of_context, tb_offset)\n",
      "  File \"/home/ubuntu/anaconda2/lib/python2.7/site-packages/IPython/core/ultratb.py\", line 233, in wrapped\n",
      "    return f(*args, **kwargs)\n",
      "  File \"/home/ubuntu/anaconda2/lib/python2.7/site-packages/IPython/core/ultratb.py\", line 267, in _fixed_getinnerframes\n",
      "    records = fix_frame_records_filenames(inspect.getinnerframes(etb, context))\n",
      "  File \"/home/ubuntu/anaconda2/lib/python2.7/inspect.py\", line 1049, in getinnerframes\n",
      "    framelist.append((tb.tb_frame,) + getframeinfo(tb, context))\n",
      "  File \"/home/ubuntu/anaconda2/lib/python2.7/inspect.py\", line 1009, in getframeinfo\n",
      "    filename = getsourcefile(frame) or getfile(frame)\n",
      "  File \"/home/ubuntu/anaconda2/lib/python2.7/inspect.py\", line 454, in getsourcefile\n",
      "    if hasattr(getmodule(object, filename), '__loader__'):\n",
      "  File \"/home/ubuntu/anaconda2/lib/python2.7/inspect.py\", line 497, in getmodule\n",
      "    f = getabsfile(module)\n",
      "  File \"/home/ubuntu/anaconda2/lib/python2.7/inspect.py\", line 466, in getabsfile\n",
      "    _filename = getsourcefile(object) or getfile(object)\n",
      "  File \"/home/ubuntu/anaconda2/lib/python2.7/inspect.py\", line 451, in getsourcefile\n",
      "    if os.path.exists(filename):\n",
      "  File \"/home/ubuntu/anaconda2/lib/python2.7/genericpath.py\", line 26, in exists\n",
      "    os.stat(path)\n",
      "KeyboardInterrupt\n"
     ]
    },
    {
     "name": "stderr",
     "output_type": "stream",
     "text": [
      "ERROR: Internal Python error in the inspect module.\n",
      "Below is the traceback from this internal error.\n",
      "\n",
      "\n",
      "Unfortunately, your original traceback can not be constructed.\n",
      "\n"
     ]
    },
    {
     "ename": "TypeError",
     "evalue": "'NoneType' object is not iterable",
     "output_type": "error",
     "traceback": [
      "\u001b[1;31m---------------------------------------------------------------------------\u001b[0m",
      "\u001b[1;31mTypeError\u001b[0m                                 Traceback (most recent call last)",
      "\u001b[1;32m/home/ubuntu/anaconda2/lib/python2.7/site-packages/IPython/core/interactiveshell.pyc\u001b[0m in \u001b[0;36mrun_code\u001b[1;34m(self, code_obj, result)\u001b[0m\n\u001b[0;32m   3081\u001b[0m             \u001b[1;32mif\u001b[0m \u001b[0mresult\u001b[0m \u001b[1;32mis\u001b[0m \u001b[1;32mnot\u001b[0m \u001b[0mNone\u001b[0m\u001b[1;33m:\u001b[0m\u001b[1;33m\u001b[0m\u001b[0m\n\u001b[0;32m   3082\u001b[0m                 \u001b[0mresult\u001b[0m\u001b[1;33m.\u001b[0m\u001b[0merror_in_exec\u001b[0m \u001b[1;33m=\u001b[0m \u001b[0msys\u001b[0m\u001b[1;33m.\u001b[0m\u001b[0mexc_info\u001b[0m\u001b[1;33m(\u001b[0m\u001b[1;33m)\u001b[0m\u001b[1;33m[\u001b[0m\u001b[1;36m1\u001b[0m\u001b[1;33m]\u001b[0m\u001b[1;33m\u001b[0m\u001b[0m\n\u001b[1;32m-> 3083\u001b[1;33m             \u001b[0mself\u001b[0m\u001b[1;33m.\u001b[0m\u001b[0mshowtraceback\u001b[0m\u001b[1;33m(\u001b[0m\u001b[1;33m)\u001b[0m\u001b[1;33m\u001b[0m\u001b[0m\n\u001b[0m\u001b[0;32m   3084\u001b[0m         \u001b[1;32melse\u001b[0m\u001b[1;33m:\u001b[0m\u001b[1;33m\u001b[0m\u001b[0m\n\u001b[0;32m   3085\u001b[0m             \u001b[0moutflag\u001b[0m \u001b[1;33m=\u001b[0m \u001b[1;36m0\u001b[0m\u001b[1;33m\u001b[0m\u001b[0m\n",
      "\u001b[1;32m/home/ubuntu/anaconda2/lib/python2.7/site-packages/IPython/core/interactiveshell.pyc\u001b[0m in \u001b[0;36mshowtraceback\u001b[1;34m(self, exc_tuple, filename, tb_offset, exception_only)\u001b[0m\n\u001b[0;32m   1878\u001b[0m                     \u001b[1;32mexcept\u001b[0m \u001b[0mException\u001b[0m\u001b[1;33m:\u001b[0m\u001b[1;33m\u001b[0m\u001b[0m\n\u001b[0;32m   1879\u001b[0m                         stb = self.InteractiveTB.structured_traceback(etype,\n\u001b[1;32m-> 1880\u001b[1;33m                                             value, tb, tb_offset=tb_offset)\n\u001b[0m\u001b[0;32m   1881\u001b[0m \u001b[1;33m\u001b[0m\u001b[0m\n\u001b[0;32m   1882\u001b[0m                     \u001b[0mself\u001b[0m\u001b[1;33m.\u001b[0m\u001b[0m_showtraceback\u001b[0m\u001b[1;33m(\u001b[0m\u001b[0metype\u001b[0m\u001b[1;33m,\u001b[0m \u001b[0mvalue\u001b[0m\u001b[1;33m,\u001b[0m \u001b[0mstb\u001b[0m\u001b[1;33m)\u001b[0m\u001b[1;33m\u001b[0m\u001b[0m\n",
      "\u001b[1;32m/home/ubuntu/anaconda2/lib/python2.7/site-packages/IPython/core/ultratb.pyc\u001b[0m in \u001b[0;36mstructured_traceback\u001b[1;34m(self, etype, value, tb, tb_offset, number_of_lines_of_context)\u001b[0m\n\u001b[0;32m   1240\u001b[0m         \u001b[0mself\u001b[0m\u001b[1;33m.\u001b[0m\u001b[0mtb\u001b[0m \u001b[1;33m=\u001b[0m \u001b[0mtb\u001b[0m\u001b[1;33m\u001b[0m\u001b[0m\n\u001b[0;32m   1241\u001b[0m         return FormattedTB.structured_traceback(\n\u001b[1;32m-> 1242\u001b[1;33m             self, etype, value, tb, tb_offset, number_of_lines_of_context)\n\u001b[0m\u001b[0;32m   1243\u001b[0m \u001b[1;33m\u001b[0m\u001b[0m\n\u001b[0;32m   1244\u001b[0m \u001b[1;33m\u001b[0m\u001b[0m\n",
      "\u001b[1;32m/home/ubuntu/anaconda2/lib/python2.7/site-packages/IPython/core/ultratb.pyc\u001b[0m in \u001b[0;36mstructured_traceback\u001b[1;34m(self, etype, value, tb, tb_offset, number_of_lines_of_context)\u001b[0m\n\u001b[0;32m   1148\u001b[0m             \u001b[1;31m# Verbose modes need a full traceback\u001b[0m\u001b[1;33m\u001b[0m\u001b[1;33m\u001b[0m\u001b[0m\n\u001b[0;32m   1149\u001b[0m             return VerboseTB.structured_traceback(\n\u001b[1;32m-> 1150\u001b[1;33m                 \u001b[0mself\u001b[0m\u001b[1;33m,\u001b[0m \u001b[0metype\u001b[0m\u001b[1;33m,\u001b[0m \u001b[0mvalue\u001b[0m\u001b[1;33m,\u001b[0m \u001b[0mtb\u001b[0m\u001b[1;33m,\u001b[0m \u001b[0mtb_offset\u001b[0m\u001b[1;33m,\u001b[0m \u001b[0mnumber_of_lines_of_context\u001b[0m\u001b[1;33m\u001b[0m\u001b[0m\n\u001b[0m\u001b[0;32m   1151\u001b[0m             )\n\u001b[0;32m   1152\u001b[0m         \u001b[1;32melse\u001b[0m\u001b[1;33m:\u001b[0m\u001b[1;33m\u001b[0m\u001b[0m\n",
      "\u001b[1;32m/home/ubuntu/anaconda2/lib/python2.7/site-packages/IPython/core/ultratb.pyc\u001b[0m in \u001b[0;36mstructured_traceback\u001b[1;34m(self, etype, evalue, etb, tb_offset, number_of_lines_of_context)\u001b[0m\n\u001b[0;32m   1000\u001b[0m \u001b[1;33m\u001b[0m\u001b[0m\n\u001b[0;32m   1001\u001b[0m         formatted_exception = self.format_exception_as_a_whole(etype, evalue, etb, number_of_lines_of_context,\n\u001b[1;32m-> 1002\u001b[1;33m                                                                tb_offset)\n\u001b[0m\u001b[0;32m   1003\u001b[0m \u001b[1;33m\u001b[0m\u001b[0m\n\u001b[0;32m   1004\u001b[0m         \u001b[0mcolors\u001b[0m \u001b[1;33m=\u001b[0m \u001b[0mself\u001b[0m\u001b[1;33m.\u001b[0m\u001b[0mColors\u001b[0m  \u001b[1;31m# just a shorthand + quicker name lookup\u001b[0m\u001b[1;33m\u001b[0m\u001b[0m\n",
      "\u001b[1;32m/home/ubuntu/anaconda2/lib/python2.7/site-packages/IPython/core/ultratb.pyc\u001b[0m in \u001b[0;36mformat_exception_as_a_whole\u001b[1;34m(self, etype, evalue, etb, number_of_lines_of_context, tb_offset)\u001b[0m\n\u001b[0;32m    949\u001b[0m         \u001b[0mrecords\u001b[0m \u001b[1;33m=\u001b[0m \u001b[0mself\u001b[0m\u001b[1;33m.\u001b[0m\u001b[0mget_records\u001b[0m\u001b[1;33m(\u001b[0m\u001b[0metb\u001b[0m\u001b[1;33m,\u001b[0m \u001b[0mnumber_of_lines_of_context\u001b[0m\u001b[1;33m,\u001b[0m \u001b[0mtb_offset\u001b[0m\u001b[1;33m)\u001b[0m\u001b[1;33m\u001b[0m\u001b[0m\n\u001b[0;32m    950\u001b[0m \u001b[1;33m\u001b[0m\u001b[0m\n\u001b[1;32m--> 951\u001b[1;33m         \u001b[0mframes\u001b[0m \u001b[1;33m=\u001b[0m \u001b[0mself\u001b[0m\u001b[1;33m.\u001b[0m\u001b[0mformat_records\u001b[0m\u001b[1;33m(\u001b[0m\u001b[0mrecords\u001b[0m\u001b[1;33m)\u001b[0m\u001b[1;33m\u001b[0m\u001b[0m\n\u001b[0m\u001b[0;32m    952\u001b[0m         \u001b[1;32mif\u001b[0m \u001b[0mrecords\u001b[0m \u001b[1;32mis\u001b[0m \u001b[0mNone\u001b[0m\u001b[1;33m:\u001b[0m\u001b[1;33m\u001b[0m\u001b[0m\n\u001b[0;32m    953\u001b[0m             \u001b[1;32mreturn\u001b[0m \u001b[1;34m\"\"\u001b[0m\u001b[1;33m\u001b[0m\u001b[0m\n",
      "\u001b[1;32m/home/ubuntu/anaconda2/lib/python2.7/site-packages/IPython/core/ultratb.pyc\u001b[0m in \u001b[0;36mformat_records\u001b[1;34m(self, records)\u001b[0m\n\u001b[0;32m    722\u001b[0m \u001b[1;33m\u001b[0m\u001b[0m\n\u001b[0;32m    723\u001b[0m         \u001b[0mabspath\u001b[0m \u001b[1;33m=\u001b[0m \u001b[0mos\u001b[0m\u001b[1;33m.\u001b[0m\u001b[0mpath\u001b[0m\u001b[1;33m.\u001b[0m\u001b[0mabspath\u001b[0m\u001b[1;33m\u001b[0m\u001b[0m\n\u001b[1;32m--> 724\u001b[1;33m         \u001b[1;32mfor\u001b[0m \u001b[0mframe\u001b[0m\u001b[1;33m,\u001b[0m \u001b[0mfile\u001b[0m\u001b[1;33m,\u001b[0m \u001b[0mlnum\u001b[0m\u001b[1;33m,\u001b[0m \u001b[0mfunc\u001b[0m\u001b[1;33m,\u001b[0m \u001b[0mlines\u001b[0m\u001b[1;33m,\u001b[0m \u001b[0mindex\u001b[0m \u001b[1;32min\u001b[0m \u001b[0mrecords\u001b[0m\u001b[1;33m:\u001b[0m\u001b[1;33m\u001b[0m\u001b[0m\n\u001b[0m\u001b[0;32m    725\u001b[0m             \u001b[1;31m#print '*** record:',file,lnum,func,lines,index  # dbg\u001b[0m\u001b[1;33m\u001b[0m\u001b[1;33m\u001b[0m\u001b[0m\n\u001b[0;32m    726\u001b[0m             \u001b[1;32mif\u001b[0m \u001b[1;32mnot\u001b[0m \u001b[0mfile\u001b[0m\u001b[1;33m:\u001b[0m\u001b[1;33m\u001b[0m\u001b[0m\n",
      "\u001b[1;31mTypeError\u001b[0m: 'NoneType' object is not iterable"
     ]
    }
   ],
   "source": [
    "for a,BETA in itertools.product(alphas[2:],betas):\n",
    "    run(a,BETA)"
   ]
  },
  {
   "cell_type": "code",
   "execution_count": 23,
   "metadata": {
    "collapsed": true
   },
   "outputs": [
    {
     "name": "stdout",
     "output_type": "stream",
     "text": [
      "0.92 13.0 0.20495437247 0.204821123628\n",
      "0.92 14.5 0.204573795437 0.204441221773\n",
      "0.92 16.0 0.204223325674 0.204091608903\n",
      "0.935 13.0 0.205038584995 0.204903820282\n",
      "0.935 14.5 0.204536703009 0.204405211627\n",
      "0.935 16.0 0.204240437624 0.20410608997\n",
      "0.95 13.0 0.205045849809 0.204911242335\n",
      "0.95 14.5 0.20459628345 0.204464405831\n",
      "Traceback (most recent call last):\n",
      "  File \"/home/ubuntu/anaconda2/lib/python2.7/site-packages/IPython/core/ultratb.py\", line 970, in get_records\n",
      "    return _fixed_getinnerframes(etb, number_of_lines_of_context, tb_offset)\n",
      "  File \"/home/ubuntu/anaconda2/lib/python2.7/site-packages/IPython/core/ultratb.py\", line 233, in wrapped\n",
      "    return f(*args, **kwargs)\n",
      "  File \"/home/ubuntu/anaconda2/lib/python2.7/site-packages/IPython/core/ultratb.py\", line 267, in _fixed_getinnerframes\n",
      "    records = fix_frame_records_filenames(inspect.getinnerframes(etb, context))\n",
      "  File \"/home/ubuntu/anaconda2/lib/python2.7/inspect.py\", line 1049, in getinnerframes\n",
      "    framelist.append((tb.tb_frame,) + getframeinfo(tb, context))\n",
      "  File \"/home/ubuntu/anaconda2/lib/python2.7/inspect.py\", line 1009, in getframeinfo\n",
      "    filename = getsourcefile(frame) or getfile(frame)\n",
      "  File \"/home/ubuntu/anaconda2/lib/python2.7/inspect.py\", line 454, in getsourcefile\n",
      "    if hasattr(getmodule(object, filename), '__loader__'):\n",
      "  File \"/home/ubuntu/anaconda2/lib/python2.7/inspect.py\", line 491, in getmodule\n",
      "    if ismodule(module) and hasattr(module, '__file__'):\n",
      "KeyboardInterrupt\n"
     ]
    },
    {
     "name": "stderr",
     "output_type": "stream",
     "text": [
      "ERROR: Internal Python error in the inspect module.\n",
      "Below is the traceback from this internal error.\n",
      "\n",
      "\n",
      "Unfortunately, your original traceback can not be constructed.\n",
      "\n"
     ]
    },
    {
     "ename": "TypeError",
     "evalue": "'NoneType' object is not iterable",
     "output_type": "error",
     "traceback": [
      "\u001b[1;31m---------------------------------------------------------------------------\u001b[0m",
      "\u001b[1;31mTypeError\u001b[0m                                 Traceback (most recent call last)",
      "\u001b[1;32m/home/ubuntu/anaconda2/lib/python2.7/site-packages/IPython/core/interactiveshell.pyc\u001b[0m in \u001b[0;36mrun_code\u001b[1;34m(self, code_obj, result)\u001b[0m\n\u001b[0;32m   3081\u001b[0m             \u001b[1;32mif\u001b[0m \u001b[0mresult\u001b[0m \u001b[1;32mis\u001b[0m \u001b[1;32mnot\u001b[0m \u001b[0mNone\u001b[0m\u001b[1;33m:\u001b[0m\u001b[1;33m\u001b[0m\u001b[0m\n\u001b[0;32m   3082\u001b[0m                 \u001b[0mresult\u001b[0m\u001b[1;33m.\u001b[0m\u001b[0merror_in_exec\u001b[0m \u001b[1;33m=\u001b[0m \u001b[0msys\u001b[0m\u001b[1;33m.\u001b[0m\u001b[0mexc_info\u001b[0m\u001b[1;33m(\u001b[0m\u001b[1;33m)\u001b[0m\u001b[1;33m[\u001b[0m\u001b[1;36m1\u001b[0m\u001b[1;33m]\u001b[0m\u001b[1;33m\u001b[0m\u001b[0m\n\u001b[1;32m-> 3083\u001b[1;33m             \u001b[0mself\u001b[0m\u001b[1;33m.\u001b[0m\u001b[0mshowtraceback\u001b[0m\u001b[1;33m(\u001b[0m\u001b[1;33m)\u001b[0m\u001b[1;33m\u001b[0m\u001b[0m\n\u001b[0m\u001b[0;32m   3084\u001b[0m         \u001b[1;32melse\u001b[0m\u001b[1;33m:\u001b[0m\u001b[1;33m\u001b[0m\u001b[0m\n\u001b[0;32m   3085\u001b[0m             \u001b[0moutflag\u001b[0m \u001b[1;33m=\u001b[0m \u001b[1;36m0\u001b[0m\u001b[1;33m\u001b[0m\u001b[0m\n",
      "\u001b[1;32m/home/ubuntu/anaconda2/lib/python2.7/site-packages/IPython/core/interactiveshell.pyc\u001b[0m in \u001b[0;36mshowtraceback\u001b[1;34m(self, exc_tuple, filename, tb_offset, exception_only)\u001b[0m\n\u001b[0;32m   1878\u001b[0m                     \u001b[1;32mexcept\u001b[0m \u001b[0mException\u001b[0m\u001b[1;33m:\u001b[0m\u001b[1;33m\u001b[0m\u001b[0m\n\u001b[0;32m   1879\u001b[0m                         stb = self.InteractiveTB.structured_traceback(etype,\n\u001b[1;32m-> 1880\u001b[1;33m                                             value, tb, tb_offset=tb_offset)\n\u001b[0m\u001b[0;32m   1881\u001b[0m \u001b[1;33m\u001b[0m\u001b[0m\n\u001b[0;32m   1882\u001b[0m                     \u001b[0mself\u001b[0m\u001b[1;33m.\u001b[0m\u001b[0m_showtraceback\u001b[0m\u001b[1;33m(\u001b[0m\u001b[0metype\u001b[0m\u001b[1;33m,\u001b[0m \u001b[0mvalue\u001b[0m\u001b[1;33m,\u001b[0m \u001b[0mstb\u001b[0m\u001b[1;33m)\u001b[0m\u001b[1;33m\u001b[0m\u001b[0m\n",
      "\u001b[1;32m/home/ubuntu/anaconda2/lib/python2.7/site-packages/IPython/core/ultratb.pyc\u001b[0m in \u001b[0;36mstructured_traceback\u001b[1;34m(self, etype, value, tb, tb_offset, number_of_lines_of_context)\u001b[0m\n\u001b[0;32m   1240\u001b[0m         \u001b[0mself\u001b[0m\u001b[1;33m.\u001b[0m\u001b[0mtb\u001b[0m \u001b[1;33m=\u001b[0m \u001b[0mtb\u001b[0m\u001b[1;33m\u001b[0m\u001b[0m\n\u001b[0;32m   1241\u001b[0m         return FormattedTB.structured_traceback(\n\u001b[1;32m-> 1242\u001b[1;33m             self, etype, value, tb, tb_offset, number_of_lines_of_context)\n\u001b[0m\u001b[0;32m   1243\u001b[0m \u001b[1;33m\u001b[0m\u001b[0m\n\u001b[0;32m   1244\u001b[0m \u001b[1;33m\u001b[0m\u001b[0m\n",
      "\u001b[1;32m/home/ubuntu/anaconda2/lib/python2.7/site-packages/IPython/core/ultratb.pyc\u001b[0m in \u001b[0;36mstructured_traceback\u001b[1;34m(self, etype, value, tb, tb_offset, number_of_lines_of_context)\u001b[0m\n\u001b[0;32m   1148\u001b[0m             \u001b[1;31m# Verbose modes need a full traceback\u001b[0m\u001b[1;33m\u001b[0m\u001b[1;33m\u001b[0m\u001b[0m\n\u001b[0;32m   1149\u001b[0m             return VerboseTB.structured_traceback(\n\u001b[1;32m-> 1150\u001b[1;33m                 \u001b[0mself\u001b[0m\u001b[1;33m,\u001b[0m \u001b[0metype\u001b[0m\u001b[1;33m,\u001b[0m \u001b[0mvalue\u001b[0m\u001b[1;33m,\u001b[0m \u001b[0mtb\u001b[0m\u001b[1;33m,\u001b[0m \u001b[0mtb_offset\u001b[0m\u001b[1;33m,\u001b[0m \u001b[0mnumber_of_lines_of_context\u001b[0m\u001b[1;33m\u001b[0m\u001b[0m\n\u001b[0m\u001b[0;32m   1151\u001b[0m             )\n\u001b[0;32m   1152\u001b[0m         \u001b[1;32melse\u001b[0m\u001b[1;33m:\u001b[0m\u001b[1;33m\u001b[0m\u001b[0m\n",
      "\u001b[1;32m/home/ubuntu/anaconda2/lib/python2.7/site-packages/IPython/core/ultratb.pyc\u001b[0m in \u001b[0;36mstructured_traceback\u001b[1;34m(self, etype, evalue, etb, tb_offset, number_of_lines_of_context)\u001b[0m\n\u001b[0;32m   1000\u001b[0m \u001b[1;33m\u001b[0m\u001b[0m\n\u001b[0;32m   1001\u001b[0m         formatted_exception = self.format_exception_as_a_whole(etype, evalue, etb, number_of_lines_of_context,\n\u001b[1;32m-> 1002\u001b[1;33m                                                                tb_offset)\n\u001b[0m\u001b[0;32m   1003\u001b[0m \u001b[1;33m\u001b[0m\u001b[0m\n\u001b[0;32m   1004\u001b[0m         \u001b[0mcolors\u001b[0m \u001b[1;33m=\u001b[0m \u001b[0mself\u001b[0m\u001b[1;33m.\u001b[0m\u001b[0mColors\u001b[0m  \u001b[1;31m# just a shorthand + quicker name lookup\u001b[0m\u001b[1;33m\u001b[0m\u001b[0m\n",
      "\u001b[1;32m/home/ubuntu/anaconda2/lib/python2.7/site-packages/IPython/core/ultratb.pyc\u001b[0m in \u001b[0;36mformat_exception_as_a_whole\u001b[1;34m(self, etype, evalue, etb, number_of_lines_of_context, tb_offset)\u001b[0m\n\u001b[0;32m    949\u001b[0m         \u001b[0mrecords\u001b[0m \u001b[1;33m=\u001b[0m \u001b[0mself\u001b[0m\u001b[1;33m.\u001b[0m\u001b[0mget_records\u001b[0m\u001b[1;33m(\u001b[0m\u001b[0metb\u001b[0m\u001b[1;33m,\u001b[0m \u001b[0mnumber_of_lines_of_context\u001b[0m\u001b[1;33m,\u001b[0m \u001b[0mtb_offset\u001b[0m\u001b[1;33m)\u001b[0m\u001b[1;33m\u001b[0m\u001b[0m\n\u001b[0;32m    950\u001b[0m \u001b[1;33m\u001b[0m\u001b[0m\n\u001b[1;32m--> 951\u001b[1;33m         \u001b[0mframes\u001b[0m \u001b[1;33m=\u001b[0m \u001b[0mself\u001b[0m\u001b[1;33m.\u001b[0m\u001b[0mformat_records\u001b[0m\u001b[1;33m(\u001b[0m\u001b[0mrecords\u001b[0m\u001b[1;33m)\u001b[0m\u001b[1;33m\u001b[0m\u001b[0m\n\u001b[0m\u001b[0;32m    952\u001b[0m         \u001b[1;32mif\u001b[0m \u001b[0mrecords\u001b[0m \u001b[1;32mis\u001b[0m \u001b[0mNone\u001b[0m\u001b[1;33m:\u001b[0m\u001b[1;33m\u001b[0m\u001b[0m\n\u001b[0;32m    953\u001b[0m             \u001b[1;32mreturn\u001b[0m \u001b[1;34m\"\"\u001b[0m\u001b[1;33m\u001b[0m\u001b[0m\n",
      "\u001b[1;32m/home/ubuntu/anaconda2/lib/python2.7/site-packages/IPython/core/ultratb.pyc\u001b[0m in \u001b[0;36mformat_records\u001b[1;34m(self, records)\u001b[0m\n\u001b[0;32m    722\u001b[0m \u001b[1;33m\u001b[0m\u001b[0m\n\u001b[0;32m    723\u001b[0m         \u001b[0mabspath\u001b[0m \u001b[1;33m=\u001b[0m \u001b[0mos\u001b[0m\u001b[1;33m.\u001b[0m\u001b[0mpath\u001b[0m\u001b[1;33m.\u001b[0m\u001b[0mabspath\u001b[0m\u001b[1;33m\u001b[0m\u001b[0m\n\u001b[1;32m--> 724\u001b[1;33m         \u001b[1;32mfor\u001b[0m \u001b[0mframe\u001b[0m\u001b[1;33m,\u001b[0m \u001b[0mfile\u001b[0m\u001b[1;33m,\u001b[0m \u001b[0mlnum\u001b[0m\u001b[1;33m,\u001b[0m \u001b[0mfunc\u001b[0m\u001b[1;33m,\u001b[0m \u001b[0mlines\u001b[0m\u001b[1;33m,\u001b[0m \u001b[0mindex\u001b[0m \u001b[1;32min\u001b[0m \u001b[0mrecords\u001b[0m\u001b[1;33m:\u001b[0m\u001b[1;33m\u001b[0m\u001b[0m\n\u001b[0m\u001b[0;32m    725\u001b[0m             \u001b[1;31m#print '*** record:',file,lnum,func,lines,index  # dbg\u001b[0m\u001b[1;33m\u001b[0m\u001b[1;33m\u001b[0m\u001b[0m\n\u001b[0;32m    726\u001b[0m             \u001b[1;32mif\u001b[0m \u001b[1;32mnot\u001b[0m \u001b[0mfile\u001b[0m\u001b[1;33m:\u001b[0m\u001b[1;33m\u001b[0m\u001b[0m\n",
      "\u001b[1;31mTypeError\u001b[0m: 'NoneType' object is not iterable"
     ]
    }
   ],
   "source": [
    "for a,BETA in itertools.product(alphas,betas):\n",
    "    run(a,BETA)"
   ]
  },
  {
   "cell_type": "code",
   "execution_count": 25,
   "metadata": {
    "collapsed": false
   },
   "outputs": [
    {
     "name": "stdout",
     "output_type": "stream",
     "text": [
      "0.95 11.0 0.205036511593 0.204896932851\n",
      "0.95 12.0 0.205121298005 0.204986099755\n",
      "0.95 13.0 0.205047778946 0.204913264707\n",
      "0.97 11.0 0.205064184842 0.204923969999\n",
      "0.97 12.0 0.205077404728 0.20493814776\n",
      "0.97 13.0 0.205003288922 0.204868878974\n",
      "0.99 11.0 0.205090592441 0.204951479066\n",
      "0.99 12.0 0.205151441954 0.205014093342\n",
      "0.99 13.0 0.204933559902 0.204800042726\n"
     ]
    }
   ],
   "source": [
    "for a,BETA in itertools.product(alphas,betas):\n",
    "    run(a,BETA)"
   ]
  },
  {
   "cell_type": "markdown",
   "metadata": {},
   "source": [
    "Making Test Set"
   ]
  },
  {
   "cell_type": "code",
   "execution_count": 39,
   "metadata": {
    "collapsed": false
   },
   "outputs": [],
   "source": [
    "sys.path.append('./../ProcessingPipeline')\n",
    "from makeBigRoundsMat import return_mats\n",
    "a = .99\n",
    "BETA = 12.0\n",
    "A,G = return_mats(BETA)\n",
    "x,y,tourns,years,players = [],[],[],[],[]\n",
    "window_size = 35\n",
    "for tournament_group,df in data.groupby('Tournament_Group',sort=False):\n",
    "    if tournament_group<99:\n",
    "        continue\n",
    "    if tournament_group==99:\n",
    "        lower = n_players*max(0,tournament_group-window_size+1)\n",
    "        upper = n_players*(tournament_group+1)\n",
    "        ratings = solve(A[lower:upper,lower:upper],G[lower:upper,lower:upper],a,1)\n",
    "        continue\n",
    "    \n",
    "    for (tournament,year),df_ in df.groupby(['Permanent_Tournament_#','Tournament_Year']):\n",
    "        current_ratings = ratings[pd.unique(df_.Player_Index)]\n",
    "        rankings = pd.Series(current_ratings[~np.isnan(current_ratings)]).rank(ascending=False,pct=True).values\n",
    "        finishing_pos = df_.groupby('Player_Index').Finishing_Position.mean().to_dict()\n",
    "        finishing_pos = [finishing_pos[ind] for ind in pd.unique(df_.Player_Index)[~np.isnan(current_ratings)]]\n",
    "        finishing_pos = pd.Series(finishing_pos).rank(ascending=True,pct=True).values\n",
    "        x.extend(rankings.tolist())\n",
    "        y.extend(finishing_pos.tolist())\n",
    "        tourns.extend([tournament]*len(rankings))\n",
    "        years.extend([year]*len(rankings))\n",
    "        players.extend(pd.unique(df_.Player_Index)[~np.isnan(current_ratings)].tolist())\n",
    "    \n",
    "    lower = n_players*max(0,tournament_group-window_size+1)\n",
    "    upper = n_players*(tournament_group+1)\n",
    "    w_a_approx = np.append(solve.w_a[0 if tournament_group<window_size else n_players:],solve.w_a[-n_players:])\n",
    "    w_g_approx = np.append(solve.w_g[0 if tournament_group<window_size else n_players:],solve.w_g[-n_players:])\n",
    "    ratings = solve(A[lower:upper,lower:upper],G[lower:upper,lower:upper],a,1,w_a_approx,w_g_approx)"
   ]
  },
  {
   "cell_type": "code",
   "execution_count": 40,
   "metadata": {
    "collapsed": false
   },
   "outputs": [],
   "source": [
    "Network_Test = pd.DataFrame({'x':x,'y':y,'tourn':tourns,'year':years,'player':players})"
   ]
  },
  {
   "cell_type": "code",
   "execution_count": 41,
   "metadata": {
    "collapsed": false
   },
   "outputs": [
    {
     "data": {
      "text/plain": [
       "28507"
      ]
     },
     "execution_count": 41,
     "metadata": {},
     "output_type": "execute_result"
    }
   ],
   "source": [
    "len(Network_Test)"
   ]
  },
  {
   "cell_type": "code",
   "execution_count": 42,
   "metadata": {
    "collapsed": false
   },
   "outputs": [
    {
     "data": {
      "text/plain": [
       "28510"
      ]
     },
     "execution_count": 42,
     "metadata": {},
     "output_type": "execute_result"
    }
   ],
   "source": [
    "len(SGTTF_Test)"
   ]
  },
  {
   "cell_type": "code",
   "execution_count": 43,
   "metadata": {
    "collapsed": false
   },
   "outputs": [
    {
     "data": {
      "text/plain": [
       "28507"
      ]
     },
     "execution_count": 43,
     "metadata": {},
     "output_type": "execute_result"
    }
   ],
   "source": [
    "len(SGTTF_Test.merge(Network_Test,on=['tourn','year','player']))"
   ]
  },
  {
   "cell_type": "code",
   "execution_count": 79,
   "metadata": {
    "collapsed": false
   },
   "outputs": [],
   "source": [
    "test_data = SGTTF_Test.merge(Network_Test,on=['tourn','year','player'],suffixes=['_sgttf','_network'])"
   ]
  },
  {
   "cell_type": "code",
   "execution_count": 80,
   "metadata": {
    "collapsed": false
   },
   "outputs": [
    {
     "data": {
      "text/html": [
       "<div>\n",
       "<table border=\"1\" class=\"dataframe\">\n",
       "  <thead>\n",
       "    <tr style=\"text-align: right;\">\n",
       "      <th></th>\n",
       "      <th>player</th>\n",
       "      <th>tourn</th>\n",
       "      <th>x_sgttf</th>\n",
       "      <th>y_sgttf</th>\n",
       "      <th>year</th>\n",
       "      <th>x_network</th>\n",
       "      <th>y_network</th>\n",
       "    </tr>\n",
       "  </thead>\n",
       "  <tbody>\n",
       "    <tr>\n",
       "      <th>0</th>\n",
       "      <td>152</td>\n",
       "      <td>32</td>\n",
       "      <td>0.965278</td>\n",
       "      <td>0.881944</td>\n",
       "      <td>2011</td>\n",
       "      <td>0.958333</td>\n",
       "      <td>0.881944</td>\n",
       "    </tr>\n",
       "    <tr>\n",
       "      <th>1</th>\n",
       "      <td>155</td>\n",
       "      <td>32</td>\n",
       "      <td>0.888889</td>\n",
       "      <td>0.107639</td>\n",
       "      <td>2011</td>\n",
       "      <td>0.847222</td>\n",
       "      <td>0.107639</td>\n",
       "    </tr>\n",
       "    <tr>\n",
       "      <th>2</th>\n",
       "      <td>0</td>\n",
       "      <td>32</td>\n",
       "      <td>0.500000</td>\n",
       "      <td>0.291667</td>\n",
       "      <td>2011</td>\n",
       "      <td>0.548611</td>\n",
       "      <td>0.291667</td>\n",
       "    </tr>\n",
       "    <tr>\n",
       "      <th>3</th>\n",
       "      <td>48</td>\n",
       "      <td>32</td>\n",
       "      <td>0.881944</td>\n",
       "      <td>0.621528</td>\n",
       "      <td>2011</td>\n",
       "      <td>0.923611</td>\n",
       "      <td>0.621528</td>\n",
       "    </tr>\n",
       "    <tr>\n",
       "      <th>4</th>\n",
       "      <td>159</td>\n",
       "      <td>32</td>\n",
       "      <td>0.604167</td>\n",
       "      <td>0.236111</td>\n",
       "      <td>2011</td>\n",
       "      <td>0.555556</td>\n",
       "      <td>0.236111</td>\n",
       "    </tr>\n",
       "  </tbody>\n",
       "</table>\n",
       "</div>"
      ],
      "text/plain": [
       "   player  tourn   x_sgttf   y_sgttf  year  x_network  y_network\n",
       "0     152     32  0.965278  0.881944  2011   0.958333   0.881944\n",
       "1     155     32  0.888889  0.107639  2011   0.847222   0.107639\n",
       "2       0     32  0.500000  0.291667  2011   0.548611   0.291667\n",
       "3      48     32  0.881944  0.621528  2011   0.923611   0.621528\n",
       "4     159     32  0.604167  0.236111  2011   0.555556   0.236111"
      ]
     },
     "execution_count": 80,
     "metadata": {},
     "output_type": "execute_result"
    }
   ],
   "source": [
    "test_data.head()"
   ]
  },
  {
   "cell_type": "code",
   "execution_count": 81,
   "metadata": {
    "collapsed": false
   },
   "outputs": [
    {
     "data": {
      "text/plain": [
       "array([[ 1.        ,  0.19790542],\n",
       "       [ 0.19790542,  1.        ]])"
      ]
     },
     "execution_count": 81,
     "metadata": {},
     "output_type": "execute_result"
    }
   ],
   "source": [
    "np.corrcoef(test_data.x_sgttf,test_data.y_sgttf)"
   ]
  },
  {
   "cell_type": "code",
   "execution_count": 82,
   "metadata": {
    "collapsed": false
   },
   "outputs": [
    {
     "data": {
      "text/plain": [
       "array([[ 1.        ,  0.19471992],\n",
       "       [ 0.19471992,  1.        ]])"
      ]
     },
     "execution_count": 82,
     "metadata": {},
     "output_type": "execute_result"
    }
   ],
   "source": [
    "np.corrcoef(test_data.x_network,test_data.y_network)"
   ]
  },
  {
   "cell_type": "code",
   "execution_count": 83,
   "metadata": {
    "collapsed": false
   },
   "outputs": [
    {
     "data": {
      "text/plain": [
       "0.365248981689856"
      ]
     },
     "execution_count": 83,
     "metadata": {},
     "output_type": "execute_result"
    }
   ],
   "source": [
    "np.mean((test_data.x_sgttf-test_data.y_sgttf)**2)**.5"
   ]
  },
  {
   "cell_type": "code",
   "execution_count": 86,
   "metadata": {
    "collapsed": false
   },
   "outputs": [
    {
     "data": {
      "text/plain": [
       "0.3659961752105666"
      ]
     },
     "execution_count": 86,
     "metadata": {},
     "output_type": "execute_result"
    }
   ],
   "source": [
    "np.mean((test_data.x_network-test_data.y_network)**2)**.5"
   ]
  },
  {
   "cell_type": "code",
   "execution_count": 116,
   "metadata": {
    "collapsed": false
   },
   "outputs": [],
   "source": [
    "a = test_data.sample(frac=1,replace=True)"
   ]
  },
  {
   "cell_type": "code",
   "execution_count": 117,
   "metadata": {
    "collapsed": false
   },
   "outputs": [
    {
     "data": {
      "text/plain": [
       "(0.19321819378198779, 0.18832690358919904)"
      ]
     },
     "execution_count": 117,
     "metadata": {},
     "output_type": "execute_result"
    }
   ],
   "source": [
    "np.corrcoef(a.x_sgttf,a.y_sgttf)[0,1],np.corrcoef(a.x_network,a.y_network)[0,1]"
   ]
  },
  {
   "cell_type": "code",
   "execution_count": 47,
   "metadata": {
    "collapsed": true
   },
   "outputs": [
    {
     "data": {
      "image/png": "[encoded data removed]",
      "text/plain": [
       "<matplotlib.figure.Figure at 0x7fc8839898d0>"
      ]
     },
     "metadata": {},
     "output_type": "display_data"
    }
   ],
   "source": [
    "fig, ax = plt.subplots(figsize=(20, 10))\n",
    "plt.imshow(A[10*n_players:14*n_players,10*n_players:14*n_players].toarray());"
   ]
  },
  {
   "cell_type": "code",
   "execution_count": null,
   "metadata": {
    "collapsed": true
   },
   "outputs": [],
   "source": []
  },
  {
   "cell_type": "code",
   "execution_count": null,
   "metadata": {
    "collapsed": true
   },
   "outputs": [],
   "source": []
  }
 ],
 "metadata": {
  "kernelspec": {
   "display_name": "Python 2",
   "language": "python",
   "name": "python2"
  },
  "language_info": {
   "codemirror_mode": {
    "name": "ipython",
    "version": 2
   },
   "file_extension": ".py",
   "mimetype": "text/x-python",
   "name": "python",
   "nbconvert_exporter": "python",
   "pygments_lexer": "ipython2",
   "version": "2.7.12"
  }
 },
 "nbformat": 4,
 "nbformat_minor": 0
}
